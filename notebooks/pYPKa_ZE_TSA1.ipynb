{
 "cells": [
  {
   "cell_type": "markdown",
   "metadata": {},
   "source": [
    "# pYPKa_Z_TSA1 and pYPKa_E_TSA1\n",
    "\n",
    "This Jupyter notebook describe the construction of E. coli vectors [pYPKa_Z_TSA1](pYPKa_Z_TSA1.gb) and [pYPKa_E_TSA1](pYPKa_E_TSA1.gb). \n",
    "These two vectors share backbone and insert, but in the former, the insert is cloned using the restriction\n",
    "enzyme [ZraI](http://rebase.neb.com/rebase/enz/ZraI.html) while in the latter [EcoRV](http://rebase.neb.com/rebase/enz/EcoRV.html) is used.\n",
    "\n",
    "The insert cloned in ZraI is meant to function as a promoter, while in the EcoRV site it is meant to be  used as a terminator.\n",
    "\n",
    "Links to the sequence of each vector in Genbank format can be found at the bottom of this document.\n",
    "\n",
    "![pYPKa_Z and pYPKa_E](figure_pYPKa_ZE.png \"pYPKa_Z or pYPKa_E plasmid\")\n",
    "\n",
    "The Python package [pydna](https://pypi.python.org/pypi/pydna/) package is imported in the code cell below to provide \n",
    "the cloning functionality. There is a [publication](http://www.biomedcentral.com/1471-2105/16/142) describing pydna as well as\n",
    "[documentation](http://pydna.readthedocs.io/) available online. Pydna is developed on [Github](https://github.com/BjornFJohansson/pydna)."
   ]
  },
  {
   "cell_type": "code",
   "execution_count": 1,
   "metadata": {
    "execution": {
     "iopub.execute_input": "2021-05-17T10:28:30.232403Z",
     "iopub.status.busy": "2021-05-17T10:28:30.231630Z",
     "iopub.status.idle": "2021-05-17T10:28:31.015905Z",
     "shell.execute_reply": "2021-05-17T10:28:31.016734Z"
    }
   },
   "outputs": [],
   "source": [
    "from pydna.readers import read\n",
    "from pydna.parsers import parse_primers\n",
    "from pydna.genbank import Genbank\n",
    "from pydna.amplify import pcr\n",
    "from pydna.amplify import Anneal"
   ]
  },
  {
   "cell_type": "markdown",
   "metadata": {},
   "source": [
    "The vector backbone pYPKa is read from a local [file](pYPKa.gb)."
   ]
  },
  {
   "cell_type": "code",
   "execution_count": 2,
   "metadata": {
    "execution": {
     "iopub.execute_input": "2021-05-17T10:28:31.034247Z",
     "iopub.status.busy": "2021-05-17T10:28:31.032455Z",
     "iopub.status.idle": "2021-05-17T10:28:31.051649Z",
     "shell.execute_reply": "2021-05-17T10:28:31.051997Z"
    }
   },
   "outputs": [],
   "source": [
    "pYPKa = read(\"pYPKa.gb\")"
   ]
  },
  {
   "cell_type": "markdown",
   "metadata": {},
   "source": [
    "Both restriction enzymes are imported from [Biopython](http://biopython.org/wiki/Main_Page)"
   ]
  },
  {
   "cell_type": "code",
   "execution_count": 3,
   "metadata": {
    "execution": {
     "iopub.execute_input": "2021-05-17T10:28:31.056574Z",
     "iopub.status.busy": "2021-05-17T10:28:31.055787Z",
     "iopub.status.idle": "2021-05-17T10:28:31.063001Z",
     "shell.execute_reply": "2021-05-17T10:28:31.063673Z"
    }
   },
   "outputs": [],
   "source": [
    "from Bio.Restriction import ZraI, EcoRV"
   ]
  },
  {
   "cell_type": "markdown",
   "metadata": {},
   "source": [
    "The vector is cut with both enzymes."
   ]
  },
  {
   "cell_type": "code",
   "execution_count": 4,
   "metadata": {
    "execution": {
     "iopub.execute_input": "2021-05-17T10:28:31.073702Z",
     "iopub.status.busy": "2021-05-17T10:28:31.072837Z",
     "iopub.status.idle": "2021-05-17T10:28:31.084121Z",
     "shell.execute_reply": "2021-05-17T10:28:31.084817Z"
    }
   },
   "outputs": [],
   "source": [
    "pYPKa_ZraI  = pYPKa.linearize(ZraI)\n",
    "pYPKa_EcoRV = pYPKa.linearize(EcoRV)"
   ]
  },
  {
   "cell_type": "markdown",
   "metadata": {},
   "source": [
    "The template below comes from a Genbank [record](http://www.ncbi.nlm.nih.gov/nuccore/BK006946.2).\n",
    "Access to Genbank is needed in order to download the template.\n",
    "If you execute this script, change the email address below to your own.\n",
    "Always tell Genbank who you are, when using their web service."
   ]
  },
  {
   "cell_type": "code",
   "execution_count": 5,
   "metadata": {
    "execution": {
     "iopub.execute_input": "2021-05-17T10:28:31.097006Z",
     "iopub.status.busy": "2021-05-17T10:28:31.094243Z",
     "iopub.status.idle": "2021-05-17T10:28:31.104190Z",
     "shell.execute_reply": "2021-05-17T10:28:31.103297Z"
    }
   },
   "outputs": [],
   "source": [
    "gb = Genbank(\"bjornjobb@gmail.com\")"
   ]
  },
  {
   "cell_type": "markdown",
   "metadata": {},
   "source": [
    "The template is downloaded from Genbank below."
   ]
  },
  {
   "cell_type": "code",
   "execution_count": 6,
   "metadata": {
    "execution": {
     "iopub.execute_input": "2021-05-17T10:28:31.114645Z",
     "iopub.status.busy": "2021-05-17T10:28:31.113634Z",
     "iopub.status.idle": "2021-05-17T10:28:31.129328Z",
     "shell.execute_reply": "2021-05-17T10:28:31.130960Z"
    }
   },
   "outputs": [],
   "source": [
    "template = gb.nucleotide(\"BK006946.2 REGION: 219879..220137\")"
   ]
  },
  {
   "cell_type": "markdown",
   "metadata": {},
   "source": [
    "The template is a 259 bp linear DNA fragment."
   ]
  },
  {
   "cell_type": "code",
   "execution_count": 7,
   "metadata": {
    "execution": {
     "iopub.execute_input": "2021-05-17T10:28:31.146844Z",
     "iopub.status.busy": "2021-05-17T10:28:31.146065Z",
     "iopub.status.idle": "2021-05-17T10:28:31.154206Z",
     "shell.execute_reply": "2021-05-17T10:28:31.154845Z"
    }
   },
   "outputs": [
    {
     "data": {
      "text/html": [
       "<a href='https://www.ncbi.nlm.nih.gov/nuccore/BK006946.2 ?from=219879&to=220137&strand=1' target='_blank'>BK006946.2  219879-220137</a>"
      ],
      "text/plain": [
       "Gbank(BK006946.2  219879-220137)(-259)"
      ]
     },
     "execution_count": 1,
     "metadata": {},
     "output_type": "execute_result"
    }
   ],
   "source": [
    "template"
   ]
  },
  {
   "cell_type": "markdown",
   "metadata": {},
   "source": [
    "The insert has the sequence shown below."
   ]
  },
  {
   "cell_type": "code",
   "execution_count": 8,
   "metadata": {
    "execution": {
     "iopub.execute_input": "2021-05-17T10:28:31.164510Z",
     "iopub.status.busy": "2021-05-17T10:28:31.162742Z",
     "iopub.status.idle": "2021-05-17T10:28:31.169443Z",
     "shell.execute_reply": "2021-05-17T10:28:31.168789Z"
    }
   },
   "outputs": [
    {
     "name": "stdout",
     "output_type": "stream",
     "text": [
      "TTGCAATGCGATGTGGCCACGTTATATAATGCGTTTAAGGTGTACGAAAACCCATGCTGTTCTGGCCCGTCGGGTTTTCTGACAAATTGTCCTTTAGGGATTTTTCGGTTTGGCTCGGGTTGGCAAAGTCGGCTGGCAACAAACCAGGACATATATAAAGGGAGGTAATTCGTCAGATCAATGCCGAACCGTTCTCAACGGGCCTTCCCCTCGTTCAATTGCTCACAACCAACCACAACTACATACACATACATACACA\n"
     ]
    }
   ],
   "source": [
    "print(str(template.seq))"
   ]
  },
  {
   "cell_type": "markdown",
   "metadata": {},
   "source": [
    "The seguid checksum of the template should be\n",
    "\n",
    "```dIAiQPOnZkiM6qw84mY7NoX-uaU```"
   ]
  },
  {
   "cell_type": "code",
   "execution_count": 9,
   "metadata": {
    "execution": {
     "iopub.execute_input": "2021-05-17T10:28:31.186784Z",
     "iopub.status.busy": "2021-05-17T10:28:31.184407Z",
     "iopub.status.idle": "2021-05-17T10:28:31.188909Z",
     "shell.execute_reply": "2021-05-17T10:28:31.189471Z"
    }
   },
   "outputs": [
    {
     "data": {
      "text/plain": [
       "dIAiQPOnZkiM6qw84mY7NoX-uaU"
      ]
     },
     "execution_count": 1,
     "metadata": {},
     "output_type": "execute_result"
    }
   ],
   "source": [
    "template.seguid()"
   ]
  },
  {
   "cell_type": "markdown",
   "metadata": {},
   "source": [
    "Two primers are used to amplify the insert:"
   ]
  },
  {
   "cell_type": "code",
   "execution_count": 10,
   "metadata": {
    "execution": {
     "iopub.execute_input": "2021-05-17T10:28:31.201534Z",
     "iopub.status.busy": "2021-05-17T10:28:31.195420Z",
     "iopub.status.idle": "2021-05-17T10:28:31.202849Z",
     "shell.execute_reply": "2021-05-17T10:28:31.202249Z"
    }
   },
   "outputs": [],
   "source": [
    "fp,rp = parse_primers(\"\"\">1002_fw259\n",
    "                         ttaaatTTGCAATGCGATGTGG\n",
    "                         >1001_rv259\n",
    "                         taattaaTGTGTATGTATGTGTATGTAGT\"\"\")"
   ]
  },
  {
   "cell_type": "markdown",
   "metadata": {},
   "source": [
    "PCR to create the insert using the primers above."
   ]
  },
  {
   "cell_type": "code",
   "execution_count": 11,
   "metadata": {
    "execution": {
     "iopub.execute_input": "2021-05-17T10:28:31.214717Z",
     "iopub.status.busy": "2021-05-17T10:28:31.205603Z",
     "iopub.status.idle": "2021-05-17T10:28:31.217663Z",
     "shell.execute_reply": "2021-05-17T10:28:31.218460Z"
    }
   },
   "outputs": [],
   "source": [
    "prd = pcr(fp, rp, template)\n",
    "assert str(fp.seq) in prd"
   ]
  },
  {
   "cell_type": "markdown",
   "metadata": {},
   "source": [
    "The PCR product has this length in bp."
   ]
  },
  {
   "cell_type": "code",
   "execution_count": 12,
   "metadata": {
    "execution": {
     "iopub.execute_input": "2021-05-17T10:28:31.226470Z",
     "iopub.status.busy": "2021-05-17T10:28:31.224184Z",
     "iopub.status.idle": "2021-05-17T10:28:31.232958Z",
     "shell.execute_reply": "2021-05-17T10:28:31.233918Z"
    }
   },
   "outputs": [
    {
     "data": {
      "text/plain": [
       "272"
      ]
     },
     "execution_count": 1,
     "metadata": {},
     "output_type": "execute_result"
    }
   ],
   "source": [
    "len(prd)"
   ]
  },
  {
   "cell_type": "markdown",
   "metadata": {},
   "source": [
    "A figure of the primers annealing on template."
   ]
  },
  {
   "cell_type": "code",
   "execution_count": 13,
   "metadata": {
    "execution": {
     "iopub.execute_input": "2021-05-17T10:28:31.238813Z",
     "iopub.status.busy": "2021-05-17T10:28:31.238131Z",
     "iopub.status.idle": "2021-05-17T10:28:31.246682Z",
     "shell.execute_reply": "2021-05-17T10:28:31.246135Z"
    }
   },
   "outputs": [
    {
     "data": {
      "text/plain": [
       "      5TTGCAATGCGATGTGG...ACTACATACACATACATACACA3\n",
       "                          ||||||||||||||||||||||\n",
       "                         3TGATGTATGTGTATGTATGTGTaattaat5\n",
       "5ttaaatTTGCAATGCGATGTGG3\n",
       "       ||||||||||||||||\n",
       "      3AACGTTACGCTACACC...TGATGTATGTGTATGTATGTGT5"
      ]
     },
     "execution_count": 1,
     "metadata": {},
     "output_type": "execute_result"
    }
   ],
   "source": [
    "prd.figure()"
   ]
  },
  {
   "cell_type": "markdown",
   "metadata": {},
   "source": [
    "A suggested PCR program."
   ]
  },
  {
   "cell_type": "code",
   "execution_count": 14,
   "metadata": {
    "execution": {
     "iopub.execute_input": "2021-05-17T10:28:31.250807Z",
     "iopub.status.busy": "2021-05-17T10:28:31.250354Z",
     "iopub.status.idle": "2021-05-17T10:28:31.253104Z",
     "shell.execute_reply": "2021-05-17T10:28:31.253475Z"
    }
   },
   "outputs": [
    {
     "data": {
      "text/plain": [
       "|95°C|95°C               |    |tmf:56.5\n",
       "|____|_____          72°C|72°C|tmr:56.4\n",
       "|5min|30s  \\ 55.0°C _____|____|60s/kb\n",
       "|    |      \\______/ 0:16|5min|GC 44%\n",
       "|    |       30s         |    |272bp"
      ]
     },
     "execution_count": 1,
     "metadata": {},
     "output_type": "execute_result"
    }
   ],
   "source": [
    "prd.program()"
   ]
  },
  {
   "cell_type": "markdown",
   "metadata": {},
   "source": [
    "The final vectors are:"
   ]
  },
  {
   "cell_type": "code",
   "execution_count": 15,
   "metadata": {
    "execution": {
     "iopub.execute_input": "2021-05-17T10:28:31.271543Z",
     "iopub.status.busy": "2021-05-17T10:28:31.266525Z",
     "iopub.status.idle": "2021-05-17T10:28:32.033756Z",
     "shell.execute_reply": "2021-05-17T10:28:32.034270Z"
    }
   },
   "outputs": [],
   "source": [
    "pYPKa_Z_TSA1 = (pYPKa_ZraI  + prd).looped().synced(pYPKa)\n",
    "pYPKa_E_TSA1 = (pYPKa_EcoRV + prd).looped().synced(pYPKa)"
   ]
  },
  {
   "cell_type": "markdown",
   "metadata": {},
   "source": [
    "The final vectors with reverse inserts are created below. These vectors theoretically make up\n",
    "fifty percent of the clones. The PCR strategy outlined below can be used to identify clones with the insert\n",
    "in the correct orientation."
   ]
  },
  {
   "cell_type": "code",
   "execution_count": 16,
   "metadata": {
    "execution": {
     "iopub.execute_input": "2021-05-17T10:28:32.111113Z",
     "iopub.status.busy": "2021-05-17T10:28:32.073158Z",
     "iopub.status.idle": "2021-05-17T10:28:32.655702Z",
     "shell.execute_reply": "2021-05-17T10:28:32.654735Z"
    }
   },
   "outputs": [],
   "source": [
    "pYPKa_Z_TSA1b = (pYPKa_ZraI  + prd.rc()).looped().synced(pYPKa)\n",
    "pYPKa_E_TSA1b = (pYPKa_EcoRV + prd.rc()).looped().synced(pYPKa)"
   ]
  },
  {
   "cell_type": "markdown",
   "metadata": {},
   "source": [
    "A combination of yeast pathway kit standard primers and the primers above are\n",
    "used for the strategy to identify correct clones.\n",
    "Standard primers used in the yeast are listed [here](standard_primers.txt)."
   ]
  },
  {
   "cell_type": "code",
   "execution_count": 17,
   "metadata": {
    "execution": {
     "iopub.execute_input": "2021-05-17T10:28:32.661752Z",
     "iopub.status.busy": "2021-05-17T10:28:32.660617Z",
     "iopub.status.idle": "2021-05-17T10:28:32.663678Z",
     "shell.execute_reply": "2021-05-17T10:28:32.665173Z"
    }
   },
   "outputs": [],
   "source": [
    "p = { x.id: x for x in parse_primers(\"\"\">577\n",
    "                                         gttctgatcctcgagcatcttaagaattc\n",
    "                                         >578\n",
    "                                         gttcttgtctcattgccacattcataagt\n",
    "                                         >468\n",
    "                                         gtcgaggaacgccaggttgcccact\n",
    "                                         >467\n",
    "                                         ATTTAAatcctgatgcgtttgtctgcacaga\n",
    "                                         >567\n",
    "                                         GTcggctgcaggtcactagtgag\n",
    "                                         >568\n",
    "                                         GTGCcatctgtgcagacaaacg\n",
    "                                         >775\n",
    "                                         gcggccgctgacTTAAAT\n",
    "                                         >778\n",
    "                                         ggtaaatccggatTAATTAA\n",
    "                                         >342\n",
    "                                         CCTTTTTACGGTTCCTGGCCT\"\"\") }"
   ]
  },
  {
   "cell_type": "markdown",
   "metadata": {},
   "source": [
    "## Diagnostic PCR confirmation\n",
    "\n",
    "The correct structure of pYPKa_Z_TSA1 is confirmed by PCR using standard primers\n",
    "577 and 342 that are vector specific together with the TSA1fw primer specific for the insert\n",
    "in a multiplex PCR reaction with\n",
    "all three primers present.\n",
    "\n",
    "Two PCR products are expected if the insert was cloned, the sizes depend\n",
    "on the orientation. If the vector is empty or contains another insert, only one\n",
    "product is formed.\n",
    "\n",
    "#### Expected PCR products sizes from pYPKa_Z_TSA1:\n",
    "\n",
    "pYPKa_Z_TSA1 with insert in correct orientation."
   ]
  },
  {
   "cell_type": "code",
   "execution_count": 18,
   "metadata": {
    "execution": {
     "iopub.execute_input": "2021-05-17T10:28:32.682673Z",
     "iopub.status.busy": "2021-05-17T10:28:32.681908Z",
     "iopub.status.idle": "2021-05-17T10:28:32.685464Z",
     "shell.execute_reply": "2021-05-17T10:28:32.685887Z"
    }
   },
   "outputs": [
    {
     "data": {
      "text/plain": [
       "[Amplicon(1206), Amplicon(1038)]"
      ]
     },
     "execution_count": 1,
     "metadata": {},
     "output_type": "execute_result"
    }
   ],
   "source": [
    "Anneal( (p['577'], p['342'], fp), pYPKa_Z_TSA1).products"
   ]
  },
  {
   "cell_type": "markdown",
   "metadata": {},
   "source": [
    "pYPKa_Z_TSA1 with insert in reverse orientation."
   ]
  },
  {
   "cell_type": "code",
   "execution_count": 19,
   "metadata": {
    "execution": {
     "iopub.execute_input": "2021-05-17T10:28:32.697085Z",
     "iopub.status.busy": "2021-05-17T10:28:32.696300Z",
     "iopub.status.idle": "2021-05-17T10:28:32.698926Z",
     "shell.execute_reply": "2021-05-17T10:28:32.699804Z"
    }
   },
   "outputs": [
    {
     "data": {
      "text/plain": [
       "[Amplicon(1206), Amplicon(440)]"
      ]
     },
     "execution_count": 1,
     "metadata": {},
     "output_type": "execute_result"
    }
   ],
   "source": [
    "Anneal( (p['577'], p['342'], fp), pYPKa_Z_TSA1b).products"
   ]
  },
  {
   "cell_type": "markdown",
   "metadata": {},
   "source": [
    "Empty pYPKa clone."
   ]
  },
  {
   "cell_type": "code",
   "execution_count": 20,
   "metadata": {
    "execution": {
     "iopub.execute_input": "2021-05-17T10:28:32.707558Z",
     "iopub.status.busy": "2021-05-17T10:28:32.706864Z",
     "iopub.status.idle": "2021-05-17T10:28:32.710172Z",
     "shell.execute_reply": "2021-05-17T10:28:32.709425Z"
    }
   },
   "outputs": [
    {
     "data": {
      "text/plain": [
       "[Amplicon(934)]"
      ]
     },
     "execution_count": 1,
     "metadata": {},
     "output_type": "execute_result"
    }
   ],
   "source": [
    "Anneal( (p['577'], p['342'], fp), pYPKa).products"
   ]
  },
  {
   "cell_type": "markdown",
   "metadata": {},
   "source": [
    "#### Expected PCR products sizes pYPKa_E_TSA1:\n",
    "\n",
    "pYPKa_E_TSA1 with insert in correct orientation."
   ]
  },
  {
   "cell_type": "code",
   "execution_count": 21,
   "metadata": {
    "execution": {
     "iopub.execute_input": "2021-05-17T10:28:32.721848Z",
     "iopub.status.busy": "2021-05-17T10:28:32.720739Z",
     "iopub.status.idle": "2021-05-17T10:28:32.730573Z",
     "shell.execute_reply": "2021-05-17T10:28:32.731278Z"
    }
   },
   "outputs": [
    {
     "data": {
      "text/plain": [
       "[Amplicon(1206), Amplicon(957)]"
      ]
     },
     "execution_count": 1,
     "metadata": {},
     "output_type": "execute_result"
    }
   ],
   "source": [
    "Anneal( (p['577'], p['342'], fp), pYPKa_E_TSA1).products"
   ]
  },
  {
   "cell_type": "markdown",
   "metadata": {},
   "source": [
    "pYPKa_E_TSA1 with insert in reverse orientation."
   ]
  },
  {
   "cell_type": "code",
   "execution_count": 22,
   "metadata": {
    "execution": {
     "iopub.execute_input": "2021-05-17T10:28:32.745686Z",
     "iopub.status.busy": "2021-05-17T10:28:32.744987Z",
     "iopub.status.idle": "2021-05-17T10:28:32.748418Z",
     "shell.execute_reply": "2021-05-17T10:28:32.748868Z"
    }
   },
   "outputs": [
    {
     "data": {
      "text/plain": [
       "[Amplicon(1206), Amplicon(521)]"
      ]
     },
     "execution_count": 1,
     "metadata": {},
     "output_type": "execute_result"
    }
   ],
   "source": [
    "Anneal( (p['577'], p['342'], fp), pYPKa_E_TSA1b).products\n"
   ]
  },
  {
   "cell_type": "markdown",
   "metadata": {},
   "source": [
    "Calculate cseguid checksums for the resulting plasmids for future reference.\n",
    "This checksum that uniquely describes a circular double stranded\n",
    "sequence. See this [blog post](https://ochsavidare.blogspot.com/2016/02/checksum-for-circular-biological.html) for more info.\n",
    "\n",
    "pYPKa_Z_TSA1.cseguid() should be GLJUNERA-TcjvsaVgQLVDuH0rJA"
   ]
  },
  {
   "cell_type": "code",
   "execution_count": 23,
   "metadata": {
    "execution": {
     "iopub.execute_input": "2021-05-17T10:28:32.768190Z",
     "iopub.status.busy": "2021-05-17T10:28:32.767601Z",
     "iopub.status.idle": "2021-05-17T10:28:32.770490Z",
     "shell.execute_reply": "2021-05-17T10:28:32.771008Z"
    }
   },
   "outputs": [
    {
     "name": "stdout",
     "output_type": "stream",
     "text": [
      "GLJUNERA-TcjvsaVgQLVDuH0rJA\n"
     ]
    }
   ],
   "source": [
    "print(pYPKa_Z_TSA1.cseguid())\n",
    "assert pYPKa_Z_TSA1.cseguid() == \"GLJUNERA-TcjvsaVgQLVDuH0rJA\""
   ]
  },
  {
   "cell_type": "markdown",
   "metadata": {},
   "source": [
    "pYPKa_E_TSA1.cseguid() should be DoGTnxc_VKCKgOobIU8uea2WR94"
   ]
  },
  {
   "cell_type": "code",
   "execution_count": 24,
   "metadata": {
    "execution": {
     "iopub.execute_input": "2021-05-17T10:28:32.780909Z",
     "iopub.status.busy": "2021-05-17T10:28:32.780276Z",
     "iopub.status.idle": "2021-05-17T10:28:32.783540Z",
     "shell.execute_reply": "2021-05-17T10:28:32.784293Z"
    }
   },
   "outputs": [
    {
     "name": "stdout",
     "output_type": "stream",
     "text": [
      "DoGTnxc_VKCKgOobIU8uea2WR94\n"
     ]
    }
   ],
   "source": [
    "print(pYPKa_E_TSA1.cseguid())\n",
    "assert pYPKa_E_TSA1.cseguid() == \"DoGTnxc_VKCKgOobIU8uea2WR94\""
   ]
  },
  {
   "cell_type": "markdown",
   "metadata": {},
   "source": [
    "The sequences are named based on the name of the cloned insert."
   ]
  },
  {
   "cell_type": "code",
   "execution_count": 25,
   "metadata": {
    "execution": {
     "iopub.execute_input": "2021-05-17T10:28:32.788986Z",
     "iopub.status.busy": "2021-05-17T10:28:32.788319Z",
     "iopub.status.idle": "2021-05-17T10:28:32.790167Z",
     "shell.execute_reply": "2021-05-17T10:28:32.790825Z"
    }
   },
   "outputs": [],
   "source": [
    "pYPKa_Z_TSA1.locus = \"pYPKa_Z_TSA1\"[:16]\n",
    "pYPKa_E_TSA1.locus = \"pYPKa_Z_TSA1\"[:16]"
   ]
  },
  {
   "cell_type": "markdown",
   "metadata": {},
   "source": [
    "Stamp sequence with cseguid checksum. This can be used to verify the\n",
    "integrity of the sequence file."
   ]
  },
  {
   "cell_type": "code",
   "execution_count": 26,
   "metadata": {
    "execution": {
     "iopub.execute_input": "2021-05-17T10:28:32.800910Z",
     "iopub.status.busy": "2021-05-17T10:28:32.800149Z",
     "iopub.status.idle": "2021-05-17T10:28:32.803037Z",
     "shell.execute_reply": "2021-05-17T10:28:32.803663Z"
    }
   },
   "outputs": [
    {
     "data": {
      "text/plain": [
       "cSEGUID_DoGTnxc_VKCKgOobIU8uea2WR94"
      ]
     },
     "execution_count": 1,
     "metadata": {},
     "output_type": "execute_result"
    }
   ],
   "source": [
    "pYPKa_Z_TSA1.stamp()\n",
    "pYPKa_E_TSA1.stamp()"
   ]
  },
  {
   "cell_type": "markdown",
   "metadata": {},
   "source": [
    "pYPKa_Z_TSA1 is written to a local file:"
   ]
  },
  {
   "cell_type": "code",
   "execution_count": 27,
   "metadata": {
    "execution": {
     "iopub.execute_input": "2021-05-17T10:28:32.816539Z",
     "iopub.status.busy": "2021-05-17T10:28:32.806838Z",
     "iopub.status.idle": "2021-05-17T10:28:32.818756Z",
     "shell.execute_reply": "2021-05-17T10:28:32.820136Z"
    }
   },
   "outputs": [
    {
     "data": {
      "text/html": [
       "<font face=monospace><a href='pYPKa_Z_TSA1.gb' target='_blank'>pYPKa_Z_TSA1.gb</a></font><br>"
      ]
     },
     "metadata": {},
     "output_type": "display_data"
    }
   ],
   "source": [
    "pYPKa_Z_TSA1.write(\"pYPKa_Z_TSA1.gb\")"
   ]
  },
  {
   "cell_type": "markdown",
   "metadata": {},
   "source": [
    "pYPKa_E_TSA1 is written to a local file:"
   ]
  },
  {
   "cell_type": "code",
   "execution_count": 28,
   "metadata": {
    "execution": {
     "iopub.execute_input": "2021-05-17T10:28:32.832543Z",
     "iopub.status.busy": "2021-05-17T10:28:32.828712Z",
     "iopub.status.idle": "2021-05-17T10:28:32.837802Z",
     "shell.execute_reply": "2021-05-17T10:28:32.837239Z"
    }
   },
   "outputs": [
    {
     "data": {
      "text/html": [
       "<font face=monospace><a href='pYPKa_E_TSA1.gb' target='_blank'>pYPKa_E_TSA1.gb</a></font><br>"
      ]
     },
     "metadata": {},
     "output_type": "display_data"
    }
   ],
   "source": [
    "pYPKa_E_TSA1.write(\"pYPKa_E_TSA1.gb\")"
   ]
  }
 ],
 "metadata": {
  "language_info": {
   "codemirror_mode": {
    "name": "ipython",
    "version": 3
   },
   "file_extension": ".py",
   "mimetype": "text/x-python",
   "name": "python",
   "nbconvert_exporter": "python",
   "pygments_lexer": "ipython3",
   "version": "3.9.0"
  }
 },
 "nbformat": 4,
 "nbformat_minor": 2
}
