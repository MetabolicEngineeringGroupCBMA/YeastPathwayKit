{
 "cells": [
  {
   "cell_type": "markdown",
   "metadata": {},
   "source": [
    "# pYPKa_Z_RPL34B and pYPKa_E_RPL34B\n",
    "\n",
    "This Jupyter notebook describe the construction of E. coli vectors [pYPKa_Z_RPL34B](pYPKa_Z_RPL34B.gb) and [pYPKa_E_RPL34B](pYPKa_E_RPL34B.gb). \n",
    "These two vectors share backbone and insert, but in the former, the insert is cloned using the restriction\n",
    "enzyme [ZraI](http://rebase.neb.com/rebase/enz/ZraI.html) while in the latter [EcoRV](http://rebase.neb.com/rebase/enz/EcoRV.html) is used.\n",
    "\n",
    "The insert cloned in ZraI is meant to function as a promoter, while in the EcoRV site it is meant to be  used as a terminator.\n",
    "\n",
    "Links to the sequence of each vector in Genbank format can be found at the bottom of this document.\n",
    "\n",
    "![pYPKa_Z and pYPKa_E](figure_pYPKa_ZE.png \"pYPKa_Z or pYPKa_E plasmid\")\n",
    "\n",
    "The Python package [pydna](https://pypi.python.org/pypi/pydna/) package is imported in the code cell below to provide \n",
    "the cloning functionality. There is a [publication](http://www.biomedcentral.com/1471-2105/16/142) describing pydna as well as\n",
    "[documentation](http://pydna.readthedocs.io/) available online. Pydna is developed on [Github](https://github.com/BjornFJohansson/pydna)."
   ]
  },
  {
   "cell_type": "code",
   "execution_count": 1,
   "metadata": {
    "execution": {
     "iopub.execute_input": "2021-05-17T10:27:14.235814Z",
     "iopub.status.busy": "2021-05-17T10:27:14.235271Z",
     "iopub.status.idle": "2021-05-17T10:27:14.751546Z",
     "shell.execute_reply": "2021-05-17T10:27:14.751030Z"
    }
   },
   "outputs": [],
   "source": [
    "from pydna.readers import read\n",
    "from pydna.parsers import parse_primers\n",
    "from pydna.genbank import Genbank\n",
    "from pydna.amplify import pcr\n",
    "from pydna.amplify import Anneal"
   ]
  },
  {
   "cell_type": "markdown",
   "metadata": {},
   "source": [
    "The vector backbone pYPKa is read from a local [file](pYPKa.gb)."
   ]
  },
  {
   "cell_type": "code",
   "execution_count": 2,
   "metadata": {
    "execution": {
     "iopub.execute_input": "2021-05-17T10:27:14.758568Z",
     "iopub.status.busy": "2021-05-17T10:27:14.757795Z",
     "iopub.status.idle": "2021-05-17T10:27:14.767281Z",
     "shell.execute_reply": "2021-05-17T10:27:14.766807Z"
    }
   },
   "outputs": [],
   "source": [
    "pYPKa = read(\"pYPKa.gb\")"
   ]
  },
  {
   "cell_type": "markdown",
   "metadata": {},
   "source": [
    "Both restriction enzymes are imported from [Biopython](http://biopython.org/wiki/Main_Page)"
   ]
  },
  {
   "cell_type": "code",
   "execution_count": 3,
   "metadata": {
    "execution": {
     "iopub.execute_input": "2021-05-17T10:27:14.770493Z",
     "iopub.status.busy": "2021-05-17T10:27:14.770028Z",
     "iopub.status.idle": "2021-05-17T10:27:14.772371Z",
     "shell.execute_reply": "2021-05-17T10:27:14.772833Z"
    }
   },
   "outputs": [],
   "source": [
    "from Bio.Restriction import ZraI, EcoRV"
   ]
  },
  {
   "cell_type": "markdown",
   "metadata": {},
   "source": [
    "The vector is cut with both enzymes."
   ]
  },
  {
   "cell_type": "code",
   "execution_count": 4,
   "metadata": {
    "execution": {
     "iopub.execute_input": "2021-05-17T10:27:14.780660Z",
     "iopub.status.busy": "2021-05-17T10:27:14.779847Z",
     "iopub.status.idle": "2021-05-17T10:27:14.782860Z",
     "shell.execute_reply": "2021-05-17T10:27:14.782275Z"
    }
   },
   "outputs": [],
   "source": [
    "pYPKa_ZraI  = pYPKa.linearize(ZraI)\n",
    "pYPKa_EcoRV = pYPKa.linearize(EcoRV)"
   ]
  },
  {
   "cell_type": "markdown",
   "metadata": {},
   "source": [
    "The template below comes from a Genbank [record](http://www.ncbi.nlm.nih.gov/nuccore/BK006942.2).\n",
    "Access to Genbank is needed in order to download the template.\n",
    "If you execute this script, change the email address below to your own.\n",
    "Always tell Genbank who you are, when using their web service."
   ]
  },
  {
   "cell_type": "code",
   "execution_count": 5,
   "metadata": {
    "execution": {
     "iopub.execute_input": "2021-05-17T10:27:14.787675Z",
     "iopub.status.busy": "2021-05-17T10:27:14.787101Z",
     "iopub.status.idle": "2021-05-17T10:27:14.789469Z",
     "shell.execute_reply": "2021-05-17T10:27:14.790047Z"
    }
   },
   "outputs": [],
   "source": [
    "gb = Genbank(\"bjornjobb@gmail.com\")"
   ]
  },
  {
   "cell_type": "markdown",
   "metadata": {},
   "source": [
    "The template is downloaded from Genbank below."
   ]
  },
  {
   "cell_type": "code",
   "execution_count": 6,
   "metadata": {
    "execution": {
     "iopub.execute_input": "2021-05-17T10:27:14.794662Z",
     "iopub.status.busy": "2021-05-17T10:27:14.794074Z",
     "iopub.status.idle": "2021-05-17T10:27:14.802968Z",
     "shell.execute_reply": "2021-05-17T10:27:14.802406Z"
    }
   },
   "outputs": [],
   "source": [
    "template = gb.nucleotide(\"BK006942.2 REGION: complement(257064..257842)\")"
   ]
  },
  {
   "cell_type": "markdown",
   "metadata": {},
   "source": [
    "The template is a 779 bp linear DNA fragment."
   ]
  },
  {
   "cell_type": "code",
   "execution_count": 7,
   "metadata": {
    "execution": {
     "iopub.execute_input": "2021-05-17T10:27:14.813625Z",
     "iopub.status.busy": "2021-05-17T10:27:14.812907Z",
     "iopub.status.idle": "2021-05-17T10:27:14.816458Z",
     "shell.execute_reply": "2021-05-17T10:27:14.815894Z"
    }
   },
   "outputs": [
    {
     "data": {
      "text/html": [
       "<a href='https://www.ncbi.nlm.nih.gov/nuccore/BK006942.2 ?from=257064&to=257842&strand=2' target='_blank'>BK006942.2  257064-257842</a>"
      ],
      "text/plain": [
       "Gbank(BK006942.2  257064-257842)(-779)"
      ]
     },
     "execution_count": 1,
     "metadata": {},
     "output_type": "execute_result"
    }
   ],
   "source": [
    "template"
   ]
  },
  {
   "cell_type": "markdown",
   "metadata": {},
   "source": [
    "The insert has the sequence shown below."
   ]
  },
  {
   "cell_type": "code",
   "execution_count": 8,
   "metadata": {
    "execution": {
     "iopub.execute_input": "2021-05-17T10:27:14.820634Z",
     "iopub.status.busy": "2021-05-17T10:27:14.819875Z",
     "iopub.status.idle": "2021-05-17T10:27:14.823935Z",
     "shell.execute_reply": "2021-05-17T10:27:14.823220Z"
    }
   },
   "outputs": [
    {
     "name": "stdout",
     "output_type": "stream",
     "text": [
      "AGGATTGAAACTTCTTTACTGCCTTTTTTCCACTTGCGATACCGAGGAGTGTACATTTATAAACATTTTAGTAGCATTCTTTAGCGTATATAAGATTTTAACTAAGAAAAGAAACGAATTTACGGAGTTTCAGAATCAGTTTCTTGCCGTTGTAGAAAATGTGAGGGGAGTTTCCCTCTACTTGTATCAATGTTACAAGACAGGGGTAGAAACCTATTACGTGTTGGAACTTATTTTCTTGAACACTCTAATCATAAATTCTAAAAAACTGTGACTGTGTTTTCGTCACAACTTTGCGGTGTACAGATGTCGTCACATACCGTGTGTTGTTTGGGTGTTTTCCTTTCAGCTTTTTTTTTTTTGAATTTTTGAATTTTTACTTTCATTTGCTTTCGGAGGTCCCGCTTCCGACAATAGTCCGCTTCATTTGTCCCTTCCCATGAAAGTTCATTCCTTTGGGCAGAGAGACCGTCCTTCTGGGAGGAGATGGAATTGACGCCTGGGGGAGGAGCCAGTAACAATTCTAACTCTTCCTCTTCCTGTCAGTGGCCCCAGCACCCGTTCAGACGGTATGGTAACGGGCTCTCAGGAGCCGTTTCATCGCAGCTGGTGGGTAAGTTTGGAATGTTTCAATAGCATTCTACGTAAAAGTTGATGAACTTATTAGTTGTAAGTAGTAAATAACGGGTAGTACATAGTATTTGGCACTTGTTATATTCTTTTGATTCAATTTACTTTGATTGAAACTGAGAATAGATTAGCAACGAACAACCCTAAAA\n"
     ]
    }
   ],
   "source": [
    "print(str(template.seq))"
   ]
  },
  {
   "cell_type": "markdown",
   "metadata": {},
   "source": [
    "The seguid checksum of the template should be\n",
    "\n",
    "```tI1pDoHSM4QKi1UQNx6Zrv92jNQ```"
   ]
  },
  {
   "cell_type": "code",
   "execution_count": 9,
   "metadata": {
    "execution": {
     "iopub.execute_input": "2021-05-17T10:27:14.828911Z",
     "iopub.status.busy": "2021-05-17T10:27:14.828088Z",
     "iopub.status.idle": "2021-05-17T10:27:14.831758Z",
     "shell.execute_reply": "2021-05-17T10:27:14.832431Z"
    }
   },
   "outputs": [
    {
     "data": {
      "text/plain": [
       "tI1pDoHSM4QKi1UQNx6Zrv92jNQ"
      ]
     },
     "execution_count": 1,
     "metadata": {},
     "output_type": "execute_result"
    }
   ],
   "source": [
    "template.seguid()"
   ]
  },
  {
   "cell_type": "markdown",
   "metadata": {},
   "source": [
    "Two primers are used to amplify the insert:"
   ]
  },
  {
   "cell_type": "code",
   "execution_count": 10,
   "metadata": {
    "execution": {
     "iopub.execute_input": "2021-05-17T10:27:14.838500Z",
     "iopub.status.busy": "2021-05-17T10:27:14.837393Z",
     "iopub.status.idle": "2021-05-17T10:27:14.840603Z",
     "shell.execute_reply": "2021-05-17T10:27:14.839963Z"
    }
   },
   "outputs": [],
   "source": [
    "fp,rp = parse_primers(\"\"\">844_RPL34Btpf\n",
    "                         ttaaatAGGATTGAAACTTCTTTACT\n",
    "                         >843_RPL34Btpr\n",
    "                         taattaaTTTTAGGGTTGTTCGTT\"\"\")"
   ]
  },
  {
   "cell_type": "markdown",
   "metadata": {},
   "source": [
    "PCR to create the insert using the primers above."
   ]
  },
  {
   "cell_type": "code",
   "execution_count": 11,
   "metadata": {
    "execution": {
     "iopub.execute_input": "2021-05-17T10:27:14.847227Z",
     "iopub.status.busy": "2021-05-17T10:27:14.846211Z",
     "iopub.status.idle": "2021-05-17T10:27:14.850893Z",
     "shell.execute_reply": "2021-05-17T10:27:14.851401Z"
    }
   },
   "outputs": [],
   "source": [
    "prd = pcr(fp, rp, template)\n",
    "assert str(fp.seq) in prd"
   ]
  },
  {
   "cell_type": "markdown",
   "metadata": {},
   "source": [
    "The PCR product has this length in bp."
   ]
  },
  {
   "cell_type": "code",
   "execution_count": 12,
   "metadata": {
    "execution": {
     "iopub.execute_input": "2021-05-17T10:27:14.855793Z",
     "iopub.status.busy": "2021-05-17T10:27:14.855115Z",
     "iopub.status.idle": "2021-05-17T10:27:14.858318Z",
     "shell.execute_reply": "2021-05-17T10:27:14.858864Z"
    }
   },
   "outputs": [
    {
     "data": {
      "text/plain": [
       "792"
      ]
     },
     "execution_count": 1,
     "metadata": {},
     "output_type": "execute_result"
    }
   ],
   "source": [
    "len(prd)"
   ]
  },
  {
   "cell_type": "markdown",
   "metadata": {},
   "source": [
    "A figure of the primers annealing on template."
   ]
  },
  {
   "cell_type": "code",
   "execution_count": 13,
   "metadata": {
    "execution": {
     "iopub.execute_input": "2021-05-17T10:27:14.863698Z",
     "iopub.status.busy": "2021-05-17T10:27:14.863016Z",
     "iopub.status.idle": "2021-05-17T10:27:14.867161Z",
     "shell.execute_reply": "2021-05-17T10:27:14.866479Z"
    }
   },
   "outputs": [
    {
     "data": {
      "text/plain": [
       "      5AGGATTGAAACTTCTTTACT...AACGAACAACCCTAAAA3\n",
       "                              |||||||||||||||||\n",
       "                             3TTGCTTGTTGGGATTTTaattaat5\n",
       "5ttaaatAGGATTGAAACTTCTTTACT3\n",
       "       ||||||||||||||||||||\n",
       "      3TCCTAACTTTGAAGAAATGA...TTGCTTGTTGGGATTTT5"
      ]
     },
     "execution_count": 1,
     "metadata": {},
     "output_type": "execute_result"
    }
   ],
   "source": [
    "prd.figure()"
   ]
  },
  {
   "cell_type": "markdown",
   "metadata": {},
   "source": [
    "A suggested PCR program."
   ]
  },
  {
   "cell_type": "code",
   "execution_count": 14,
   "metadata": {
    "execution": {
     "iopub.execute_input": "2021-05-17T10:27:14.872891Z",
     "iopub.status.busy": "2021-05-17T10:27:14.872045Z",
     "iopub.status.idle": "2021-05-17T10:27:14.875538Z",
     "shell.execute_reply": "2021-05-17T10:27:14.876186Z"
    }
   },
   "outputs": [
    {
     "data": {
      "text/plain": [
       "|95°C|95°C               |    |tmf:52.8\n",
       "|____|_____          72°C|72°C|tmr:52.9\n",
       "|5min|30s  \\ 53.3°C _____|____|60s/kb\n",
       "|    |      \\______/ 0:47|5min|GC 38%\n",
       "|    |       30s         |    |792bp"
      ]
     },
     "execution_count": 1,
     "metadata": {},
     "output_type": "execute_result"
    }
   ],
   "source": [
    "prd.program()"
   ]
  },
  {
   "cell_type": "markdown",
   "metadata": {},
   "source": [
    "The final vectors are:"
   ]
  },
  {
   "cell_type": "code",
   "execution_count": 15,
   "metadata": {
    "execution": {
     "iopub.execute_input": "2021-05-17T10:27:14.950189Z",
     "iopub.status.busy": "2021-05-17T10:27:14.914566Z",
     "iopub.status.idle": "2021-05-17T10:27:15.381170Z",
     "shell.execute_reply": "2021-05-17T10:27:15.380686Z"
    }
   },
   "outputs": [],
   "source": [
    "pYPKa_Z_RPL34B = (pYPKa_ZraI  + prd).looped().synced(pYPKa)\n",
    "pYPKa_E_RPL34B = (pYPKa_EcoRV + prd).looped().synced(pYPKa)"
   ]
  },
  {
   "cell_type": "markdown",
   "metadata": {},
   "source": [
    "The final vectors with reverse inserts are created below. These vectors theoretically make up\n",
    "fifty percent of the clones. The PCR strategy outlined below can be used to identify clones with the insert\n",
    "in the correct orientation."
   ]
  },
  {
   "cell_type": "code",
   "execution_count": 16,
   "metadata": {
    "execution": {
     "iopub.execute_input": "2021-05-17T10:27:15.419302Z",
     "iopub.status.busy": "2021-05-17T10:27:15.393993Z",
     "iopub.status.idle": "2021-05-17T10:27:15.850528Z",
     "shell.execute_reply": "2021-05-17T10:27:15.849992Z"
    }
   },
   "outputs": [],
   "source": [
    "pYPKa_Z_RPL34Bb = (pYPKa_ZraI  + prd.rc()).looped().synced(pYPKa)\n",
    "pYPKa_E_RPL34Bb = (pYPKa_EcoRV + prd.rc()).looped().synced(pYPKa)"
   ]
  },
  {
   "cell_type": "markdown",
   "metadata": {},
   "source": [
    "A combination of yeast pathway kit standard primers and the primers above are\n",
    "used for the strategy to identify correct clones.\n",
    "Standard primers used in the yeast are listed [here](standard_primers.txt)."
   ]
  },
  {
   "cell_type": "code",
   "execution_count": 17,
   "metadata": {
    "execution": {
     "iopub.execute_input": "2021-05-17T10:27:15.856036Z",
     "iopub.status.busy": "2021-05-17T10:27:15.853958Z",
     "iopub.status.idle": "2021-05-17T10:27:15.858956Z",
     "shell.execute_reply": "2021-05-17T10:27:15.859699Z"
    }
   },
   "outputs": [],
   "source": [
    "p = { x.id: x for x in parse_primers(\"\"\">577\n",
    "                                         gttctgatcctcgagcatcttaagaattc\n",
    "                                         >578\n",
    "                                         gttcttgtctcattgccacattcataagt\n",
    "                                         >468\n",
    "                                         gtcgaggaacgccaggttgcccact\n",
    "                                         >467\n",
    "                                         ATTTAAatcctgatgcgtttgtctgcacaga\n",
    "                                         >567\n",
    "                                         GTcggctgcaggtcactagtgag\n",
    "                                         >568\n",
    "                                         GTGCcatctgtgcagacaaacg\n",
    "                                         >775\n",
    "                                         gcggccgctgacTTAAAT\n",
    "                                         >778\n",
    "                                         ggtaaatccggatTAATTAA\n",
    "                                         >342\n",
    "                                         CCTTTTTACGGTTCCTGGCCT\"\"\") }"
   ]
  },
  {
   "cell_type": "markdown",
   "metadata": {},
   "source": [
    "## Diagnostic PCR confirmation\n",
    "\n",
    "The correct structure of pYPKa_Z_RPL34B is confirmed by PCR using standard primers\n",
    "577 and 342 that are vector specific together with the RPL34Bfw primer specific for the insert\n",
    "in a multiplex PCR reaction with\n",
    "all three primers present.\n",
    "\n",
    "Two PCR products are expected if the insert was cloned, the sizes depend\n",
    "on the orientation. If the vector is empty or contains another insert, only one\n",
    "product is formed.\n",
    "\n",
    "#### Expected PCR products sizes from pYPKa_Z_RPL34B:\n",
    "\n",
    "pYPKa_Z_RPL34B with insert in correct orientation."
   ]
  },
  {
   "cell_type": "code",
   "execution_count": 18,
   "metadata": {
    "execution": {
     "iopub.execute_input": "2021-05-17T10:27:15.872186Z",
     "iopub.status.busy": "2021-05-17T10:27:15.871645Z",
     "iopub.status.idle": "2021-05-17T10:27:15.874141Z",
     "shell.execute_reply": "2021-05-17T10:27:15.874606Z"
    }
   },
   "outputs": [
    {
     "data": {
      "text/plain": [
       "[Amplicon(1726), Amplicon(1558)]"
      ]
     },
     "execution_count": 1,
     "metadata": {},
     "output_type": "execute_result"
    }
   ],
   "source": [
    "Anneal( (p['577'], p['342'], fp), pYPKa_Z_RPL34B).products"
   ]
  },
  {
   "cell_type": "markdown",
   "metadata": {},
   "source": [
    "pYPKa_Z_RPL34B with insert in reverse orientation."
   ]
  },
  {
   "cell_type": "code",
   "execution_count": 19,
   "metadata": {
    "execution": {
     "iopub.execute_input": "2021-05-17T10:27:15.885598Z",
     "iopub.status.busy": "2021-05-17T10:27:15.884741Z",
     "iopub.status.idle": "2021-05-17T10:27:15.888764Z",
     "shell.execute_reply": "2021-05-17T10:27:15.888170Z"
    }
   },
   "outputs": [
    {
     "data": {
      "text/plain": [
       "[Amplicon(1726), Amplicon(960)]"
      ]
     },
     "execution_count": 1,
     "metadata": {},
     "output_type": "execute_result"
    }
   ],
   "source": [
    "Anneal( (p['577'], p['342'], fp), pYPKa_Z_RPL34Bb).products"
   ]
  },
  {
   "cell_type": "markdown",
   "metadata": {},
   "source": [
    "Empty pYPKa clone."
   ]
  },
  {
   "cell_type": "code",
   "execution_count": 20,
   "metadata": {
    "execution": {
     "iopub.execute_input": "2021-05-17T10:27:15.899150Z",
     "iopub.status.busy": "2021-05-17T10:27:15.898383Z",
     "iopub.status.idle": "2021-05-17T10:27:15.901733Z",
     "shell.execute_reply": "2021-05-17T10:27:15.902231Z"
    }
   },
   "outputs": [
    {
     "data": {
      "text/plain": [
       "[Amplicon(934)]"
      ]
     },
     "execution_count": 1,
     "metadata": {},
     "output_type": "execute_result"
    }
   ],
   "source": [
    "Anneal( (p['577'], p['342'], fp), pYPKa).products"
   ]
  },
  {
   "cell_type": "markdown",
   "metadata": {},
   "source": [
    "#### Expected PCR products sizes pYPKa_E_RPL34B:\n",
    "\n",
    "pYPKa_E_RPL34B with insert in correct orientation."
   ]
  },
  {
   "cell_type": "code",
   "execution_count": 21,
   "metadata": {
    "execution": {
     "iopub.execute_input": "2021-05-17T10:27:15.913050Z",
     "iopub.status.busy": "2021-05-17T10:27:15.912128Z",
     "iopub.status.idle": "2021-05-17T10:27:15.915562Z",
     "shell.execute_reply": "2021-05-17T10:27:15.915074Z"
    }
   },
   "outputs": [
    {
     "data": {
      "text/plain": [
       "[Amplicon(1726), Amplicon(1477)]"
      ]
     },
     "execution_count": 1,
     "metadata": {},
     "output_type": "execute_result"
    }
   ],
   "source": [
    "Anneal( (p['577'], p['342'], fp), pYPKa_E_RPL34B).products"
   ]
  },
  {
   "cell_type": "markdown",
   "metadata": {},
   "source": [
    "pYPKa_E_RPL34B with insert in reverse orientation."
   ]
  },
  {
   "cell_type": "code",
   "execution_count": 22,
   "metadata": {
    "execution": {
     "iopub.execute_input": "2021-05-17T10:27:15.925820Z",
     "iopub.status.busy": "2021-05-17T10:27:15.925148Z",
     "iopub.status.idle": "2021-05-17T10:27:15.927590Z",
     "shell.execute_reply": "2021-05-17T10:27:15.928035Z"
    }
   },
   "outputs": [
    {
     "data": {
      "text/plain": [
       "[Amplicon(1726), Amplicon(1041)]"
      ]
     },
     "execution_count": 1,
     "metadata": {},
     "output_type": "execute_result"
    }
   ],
   "source": [
    "Anneal( (p['577'], p['342'], fp), pYPKa_E_RPL34Bb).products\n"
   ]
  },
  {
   "cell_type": "markdown",
   "metadata": {},
   "source": [
    "Calculate cseguid checksums for the resulting plasmids for future reference.\n",
    "This checksum that uniquely describes a circular double stranded\n",
    "sequence. See this [blog post](https://ochsavidare.blogspot.com/2016/02/checksum-for-circular-biological.html) for more info.\n",
    "\n",
    "pYPKa_Z_RPL34B.cseguid() should be AVKieoo554FVE_leUEqqaKlm7w0"
   ]
  },
  {
   "cell_type": "code",
   "execution_count": 23,
   "metadata": {
    "execution": {
     "iopub.execute_input": "2021-05-17T10:27:15.939212Z",
     "iopub.status.busy": "2021-05-17T10:27:15.938750Z",
     "iopub.status.idle": "2021-05-17T10:27:15.941605Z",
     "shell.execute_reply": "2021-05-17T10:27:15.941135Z"
    }
   },
   "outputs": [
    {
     "name": "stdout",
     "output_type": "stream",
     "text": [
      "AVKieoo554FVE_leUEqqaKlm7w0\n"
     ]
    }
   ],
   "source": [
    "print(pYPKa_Z_RPL34B.cseguid())\n",
    "assert pYPKa_Z_RPL34B.cseguid() == \"AVKieoo554FVE_leUEqqaKlm7w0\""
   ]
  },
  {
   "cell_type": "markdown",
   "metadata": {},
   "source": [
    "pYPKa_E_RPL34B.cseguid() should be YpKu-t1L0AYBRJXhTBnhiGhwUGU"
   ]
  },
  {
   "cell_type": "code",
   "execution_count": 24,
   "metadata": {
    "execution": {
     "iopub.execute_input": "2021-05-17T10:27:15.952605Z",
     "iopub.status.busy": "2021-05-17T10:27:15.952118Z",
     "iopub.status.idle": "2021-05-17T10:27:15.954837Z",
     "shell.execute_reply": "2021-05-17T10:27:15.954375Z"
    }
   },
   "outputs": [
    {
     "name": "stdout",
     "output_type": "stream",
     "text": [
      "YpKu-t1L0AYBRJXhTBnhiGhwUGU\n"
     ]
    }
   ],
   "source": [
    "print(pYPKa_E_RPL34B.cseguid())\n",
    "assert pYPKa_E_RPL34B.cseguid() == \"YpKu-t1L0AYBRJXhTBnhiGhwUGU\""
   ]
  },
  {
   "cell_type": "markdown",
   "metadata": {},
   "source": [
    "The sequences are named based on the name of the cloned insert."
   ]
  },
  {
   "cell_type": "code",
   "execution_count": 25,
   "metadata": {
    "execution": {
     "iopub.execute_input": "2021-05-17T10:27:15.959042Z",
     "iopub.status.busy": "2021-05-17T10:27:15.957905Z",
     "iopub.status.idle": "2021-05-17T10:27:15.960805Z",
     "shell.execute_reply": "2021-05-17T10:27:15.961419Z"
    }
   },
   "outputs": [],
   "source": [
    "pYPKa_Z_RPL34B.locus = \"pYPKa_Z_RPL34B\"[:16]\n",
    "pYPKa_E_RPL34B.locus = \"pYPKa_Z_RPL34B\"[:16]"
   ]
  },
  {
   "cell_type": "markdown",
   "metadata": {},
   "source": [
    "Stamp sequence with cseguid checksum. This can be used to verify the\n",
    "integrity of the sequence file."
   ]
  },
  {
   "cell_type": "code",
   "execution_count": 26,
   "metadata": {
    "execution": {
     "iopub.execute_input": "2021-05-17T10:27:15.977217Z",
     "iopub.status.busy": "2021-05-17T10:27:15.976513Z",
     "iopub.status.idle": "2021-05-17T10:27:15.979671Z",
     "shell.execute_reply": "2021-05-17T10:27:15.980164Z"
    }
   },
   "outputs": [
    {
     "data": {
      "text/plain": [
       "cSEGUID_YpKu-t1L0AYBRJXhTBnhiGhwUGU"
      ]
     },
     "execution_count": 1,
     "metadata": {},
     "output_type": "execute_result"
    }
   ],
   "source": [
    "pYPKa_Z_RPL34B.stamp()\n",
    "pYPKa_E_RPL34B.stamp()"
   ]
  },
  {
   "cell_type": "markdown",
   "metadata": {},
   "source": [
    "pYPKa_Z_RPL34B is written to a local file:"
   ]
  },
  {
   "cell_type": "code",
   "execution_count": 27,
   "metadata": {
    "execution": {
     "iopub.execute_input": "2021-05-17T10:27:15.987015Z",
     "iopub.status.busy": "2021-05-17T10:27:15.983239Z",
     "iopub.status.idle": "2021-05-17T10:27:15.993202Z",
     "shell.execute_reply": "2021-05-17T10:27:15.993740Z"
    }
   },
   "outputs": [
    {
     "data": {
      "text/html": [
       "<font face=monospace><a href='pYPKa_Z_RPL34B.gb' target='_blank'>pYPKa_Z_RPL34B.gb</a></font><br>"
      ]
     },
     "metadata": {},
     "output_type": "display_data"
    }
   ],
   "source": [
    "pYPKa_Z_RPL34B.write(\"pYPKa_Z_RPL34B.gb\")"
   ]
  },
  {
   "cell_type": "markdown",
   "metadata": {},
   "source": [
    "pYPKa_E_RPL34B is written to a local file:"
   ]
  },
  {
   "cell_type": "code",
   "execution_count": 28,
   "metadata": {
    "execution": {
     "iopub.execute_input": "2021-05-17T10:27:16.003360Z",
     "iopub.status.busy": "2021-05-17T10:27:16.002578Z",
     "iopub.status.idle": "2021-05-17T10:27:16.006826Z",
     "shell.execute_reply": "2021-05-17T10:27:16.006323Z"
    }
   },
   "outputs": [
    {
     "data": {
      "text/html": [
       "<font face=monospace><a href='pYPKa_E_RPL34B.gb' target='_blank'>pYPKa_E_RPL34B.gb</a></font><br>"
      ]
     },
     "metadata": {},
     "output_type": "display_data"
    }
   ],
   "source": [
    "pYPKa_E_RPL34B.write(\"pYPKa_E_RPL34B.gb\")"
   ]
  }
 ],
 "metadata": {
  "language_info": {
   "codemirror_mode": {
    "name": "ipython",
    "version": 3
   },
   "file_extension": ".py",
   "mimetype": "text/x-python",
   "name": "python",
   "nbconvert_exporter": "python",
   "pygments_lexer": "ipython3",
   "version": "3.9.0"
  }
 },
 "nbformat": 4,
 "nbformat_minor": 2
}
