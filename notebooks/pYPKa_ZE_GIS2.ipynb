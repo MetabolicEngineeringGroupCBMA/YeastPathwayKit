{
 "cells": [
  {
   "cell_type": "markdown",
   "metadata": {},
   "source": [
    "# pYPKa_Z_GIS2 and pYPKa_E_GIS2\n",
    "\n",
    "This Jupyter notebook describe the construction of E. coli vectors [pYPKa_Z_GIS2](pYPKa_Z_GIS2.gb) and [pYPKa_E_GIS2](pYPKa_E_GIS2.gb). \n",
    "These two vectors share backbone and insert, but in the former, the insert is cloned using the restriction\n",
    "enzyme [ZraI](http://rebase.neb.com/rebase/enz/ZraI.html) while in the latter [EcoRV](http://rebase.neb.com/rebase/enz/EcoRV.html) is used.\n",
    "\n",
    "The insert cloned in ZraI is meant to function as a promoter, while in the EcoRV site it is meant to be  used as a terminator.\n",
    "\n",
    "Links to the sequence of each vector in Genbank format can be found at the bottom of this document.\n",
    "\n",
    "![pYPKa_Z and pYPKa_E](figure_pYPKa_ZE.png \"pYPKa_Z or pYPKa_E plasmid\")\n",
    "\n",
    "The Python package [pydna](https://pypi.python.org/pypi/pydna/) package is imported in the code cell below to provide \n",
    "the cloning functionality. There is a [publication](http://www.biomedcentral.com/1471-2105/16/142) describing pydna as well as\n",
    "[documentation](http://pydna.readthedocs.io/) available online. Pydna is developed on [Github](https://github.com/BjornFJohansson/pydna)."
   ]
  },
  {
   "cell_type": "code",
   "execution_count": 1,
   "metadata": {
    "execution": {
     "iopub.execute_input": "2021-05-17T10:25:44.346353Z",
     "iopub.status.busy": "2021-05-17T10:25:44.345039Z",
     "iopub.status.idle": "2021-05-17T10:25:45.012651Z",
     "shell.execute_reply": "2021-05-17T10:25:45.013058Z"
    }
   },
   "outputs": [],
   "source": [
    "from pydna.readers import read\n",
    "from pydna.parsers import parse_primers\n",
    "from pydna.genbank import Genbank\n",
    "from pydna.amplify import pcr\n",
    "from pydna.amplify import Anneal"
   ]
  },
  {
   "cell_type": "markdown",
   "metadata": {},
   "source": [
    "The vector backbone pYPKa is read from a local [file](pYPKa.gb)."
   ]
  },
  {
   "cell_type": "code",
   "execution_count": 2,
   "metadata": {
    "execution": {
     "iopub.execute_input": "2021-05-17T10:25:45.025310Z",
     "iopub.status.busy": "2021-05-17T10:25:45.023752Z",
     "iopub.status.idle": "2021-05-17T10:25:45.033275Z",
     "shell.execute_reply": "2021-05-17T10:25:45.033711Z"
    }
   },
   "outputs": [],
   "source": [
    "pYPKa = read(\"pYPKa.gb\")"
   ]
  },
  {
   "cell_type": "markdown",
   "metadata": {},
   "source": [
    "Both restriction enzymes are imported from [Biopython](http://biopython.org/wiki/Main_Page)"
   ]
  },
  {
   "cell_type": "code",
   "execution_count": 3,
   "metadata": {
    "execution": {
     "iopub.execute_input": "2021-05-17T10:25:45.038312Z",
     "iopub.status.busy": "2021-05-17T10:25:45.037536Z",
     "iopub.status.idle": "2021-05-17T10:25:45.040814Z",
     "shell.execute_reply": "2021-05-17T10:25:45.040149Z"
    }
   },
   "outputs": [],
   "source": [
    "from Bio.Restriction import ZraI, EcoRV"
   ]
  },
  {
   "cell_type": "markdown",
   "metadata": {},
   "source": [
    "The vector is cut with both enzymes."
   ]
  },
  {
   "cell_type": "code",
   "execution_count": 4,
   "metadata": {
    "execution": {
     "iopub.execute_input": "2021-05-17T10:25:45.054410Z",
     "iopub.status.busy": "2021-05-17T10:25:45.053750Z",
     "iopub.status.idle": "2021-05-17T10:25:45.054908Z",
     "shell.execute_reply": "2021-05-17T10:25:45.055470Z"
    }
   },
   "outputs": [],
   "source": [
    "pYPKa_ZraI  = pYPKa.linearize(ZraI)\n",
    "pYPKa_EcoRV = pYPKa.linearize(EcoRV)"
   ]
  },
  {
   "cell_type": "markdown",
   "metadata": {},
   "source": [
    "The template below comes from a Genbank [record](http://www.ncbi.nlm.nih.gov/nuccore/BK006947.3).\n",
    "Access to Genbank is needed in order to download the template.\n",
    "If you execute this script, change the email address below to your own.\n",
    "Always tell Genbank who you are, when using their web service."
   ]
  },
  {
   "cell_type": "code",
   "execution_count": 5,
   "metadata": {
    "execution": {
     "iopub.execute_input": "2021-05-17T10:25:45.062228Z",
     "iopub.status.busy": "2021-05-17T10:25:45.061548Z",
     "iopub.status.idle": "2021-05-17T10:25:45.063547Z",
     "shell.execute_reply": "2021-05-17T10:25:45.063151Z"
    }
   },
   "outputs": [],
   "source": [
    "gb = Genbank(\"bjornjobb@gmail.com\")"
   ]
  },
  {
   "cell_type": "markdown",
   "metadata": {},
   "source": [
    "The template is downloaded from Genbank below."
   ]
  },
  {
   "cell_type": "code",
   "execution_count": 6,
   "metadata": {
    "execution": {
     "iopub.execute_input": "2021-05-17T10:25:45.068221Z",
     "iopub.status.busy": "2021-05-17T10:25:45.067730Z",
     "iopub.status.idle": "2021-05-17T10:25:45.080609Z",
     "shell.execute_reply": "2021-05-17T10:25:45.081100Z"
    }
   },
   "outputs": [],
   "source": [
    "template = gb.nucleotide(\"BK006947.3 REGION: complement(167791..168042)\")"
   ]
  },
  {
   "cell_type": "markdown",
   "metadata": {},
   "source": [
    "The template is a 252 bp linear DNA fragment."
   ]
  },
  {
   "cell_type": "code",
   "execution_count": 7,
   "metadata": {
    "execution": {
     "iopub.execute_input": "2021-05-17T10:25:45.090682Z",
     "iopub.status.busy": "2021-05-17T10:25:45.089900Z",
     "iopub.status.idle": "2021-05-17T10:25:45.093555Z",
     "shell.execute_reply": "2021-05-17T10:25:45.094296Z"
    }
   },
   "outputs": [
    {
     "data": {
      "text/html": [
       "<a href='https://www.ncbi.nlm.nih.gov/nuccore/BK006947.3 ?from=167791&to=168042&strand=2' target='_blank'>BK006947.3  167791-168042</a>"
      ],
      "text/plain": [
       "Gbank(BK006947.3  167791-168042)(-252)"
      ]
     },
     "execution_count": 1,
     "metadata": {},
     "output_type": "execute_result"
    }
   ],
   "source": [
    "template"
   ]
  },
  {
   "cell_type": "markdown",
   "metadata": {},
   "source": [
    "The insert has the sequence shown below."
   ]
  },
  {
   "cell_type": "code",
   "execution_count": 8,
   "metadata": {
    "execution": {
     "iopub.execute_input": "2021-05-17T10:25:45.098735Z",
     "iopub.status.busy": "2021-05-17T10:25:45.098024Z",
     "iopub.status.idle": "2021-05-17T10:25:45.101064Z",
     "shell.execute_reply": "2021-05-17T10:25:45.102580Z"
    }
   },
   "outputs": [
    {
     "name": "stdout",
     "output_type": "stream",
     "text": [
      "ACAGGTAGTATATTGCCGTTTGTTGCCTTTATGGCTTAGGGATTTGAGCTTTATAGTAAGAACTGCTGTGGTGTCATGATAGACGAAATGCTGAAAAAATTTTCTTTTCGTTCCTTTTCTCTTTTGGCAAGAGTTGTAATAAGGTCATCGATGGATTAGAAATGCTCTTTCTGCTTTGGGGGCACTTGAGGATTGTATTATTTTAAGGCTTTCCCTTCAGAAATCAGGAAAAAAGAAAAGAATACGAAAAAG\n"
     ]
    }
   ],
   "source": [
    "print(str(template.seq))"
   ]
  },
  {
   "cell_type": "markdown",
   "metadata": {},
   "source": [
    "The seguid checksum of the template should be\n",
    "\n",
    "```9bly8VWuaBxH_5LZvilT13gNxQw```"
   ]
  },
  {
   "cell_type": "code",
   "execution_count": 9,
   "metadata": {
    "execution": {
     "iopub.execute_input": "2021-05-17T10:25:45.110819Z",
     "iopub.status.busy": "2021-05-17T10:25:45.110065Z",
     "iopub.status.idle": "2021-05-17T10:25:45.115438Z",
     "shell.execute_reply": "2021-05-17T10:25:45.115881Z"
    }
   },
   "outputs": [
    {
     "data": {
      "text/plain": [
       "9bly8VWuaBxH_5LZvilT13gNxQw"
      ]
     },
     "execution_count": 1,
     "metadata": {},
     "output_type": "execute_result"
    }
   ],
   "source": [
    "template.seguid()"
   ]
  },
  {
   "cell_type": "markdown",
   "metadata": {},
   "source": [
    "Two primers are used to amplify the insert:"
   ]
  },
  {
   "cell_type": "code",
   "execution_count": 10,
   "metadata": {
    "execution": {
     "iopub.execute_input": "2021-05-17T10:25:45.121726Z",
     "iopub.status.busy": "2021-05-17T10:25:45.121107Z",
     "iopub.status.idle": "2021-05-17T10:25:45.122714Z",
     "shell.execute_reply": "2021-05-17T10:25:45.123144Z"
    }
   },
   "outputs": [],
   "source": [
    "fp,rp = parse_primers(\"\"\">1024_fw252\n",
    "                         ttaaatACAGGTAGTATATTGCCGT\n",
    "                         >1023_rv252\n",
    "                         taattaaCTTTTTCGTATTCTTTTCTT\"\"\")"
   ]
  },
  {
   "cell_type": "markdown",
   "metadata": {},
   "source": [
    "PCR to create the insert using the primers above."
   ]
  },
  {
   "cell_type": "code",
   "execution_count": 11,
   "metadata": {
    "execution": {
     "iopub.execute_input": "2021-05-17T10:25:45.132968Z",
     "iopub.status.busy": "2021-05-17T10:25:45.132131Z",
     "iopub.status.idle": "2021-05-17T10:25:45.137084Z",
     "shell.execute_reply": "2021-05-17T10:25:45.137904Z"
    }
   },
   "outputs": [],
   "source": [
    "prd = pcr(fp, rp, template)\n",
    "assert str(fp.seq) in prd"
   ]
  },
  {
   "cell_type": "markdown",
   "metadata": {},
   "source": [
    "The PCR product has this length in bp."
   ]
  },
  {
   "cell_type": "code",
   "execution_count": 12,
   "metadata": {
    "execution": {
     "iopub.execute_input": "2021-05-17T10:25:45.142211Z",
     "iopub.status.busy": "2021-05-17T10:25:45.141561Z",
     "iopub.status.idle": "2021-05-17T10:25:45.145227Z",
     "shell.execute_reply": "2021-05-17T10:25:45.144745Z"
    }
   },
   "outputs": [
    {
     "data": {
      "text/plain": [
       "265"
      ]
     },
     "execution_count": 1,
     "metadata": {},
     "output_type": "execute_result"
    }
   ],
   "source": [
    "len(prd)"
   ]
  },
  {
   "cell_type": "markdown",
   "metadata": {},
   "source": [
    "A figure of the primers annealing on template."
   ]
  },
  {
   "cell_type": "code",
   "execution_count": 13,
   "metadata": {
    "execution": {
     "iopub.execute_input": "2021-05-17T10:25:45.150470Z",
     "iopub.status.busy": "2021-05-17T10:25:45.149758Z",
     "iopub.status.idle": "2021-05-17T10:25:45.153474Z",
     "shell.execute_reply": "2021-05-17T10:25:45.152949Z"
    }
   },
   "outputs": [
    {
     "data": {
      "text/plain": [
       "      5ACAGGTAGTATATTGCCGT...AAGAAAAGAATACGAAAAAG3\n",
       "                             ||||||||||||||||||||\n",
       "                            3TTCTTTTCTTATGCTTTTTCaattaat5\n",
       "5ttaaatACAGGTAGTATATTGCCGT3\n",
       "       |||||||||||||||||||\n",
       "      3TGTCCATCATATAACGGCA...TTCTTTTCTTATGCTTTTTC5"
      ]
     },
     "execution_count": 1,
     "metadata": {},
     "output_type": "execute_result"
    }
   ],
   "source": [
    "prd.figure()"
   ]
  },
  {
   "cell_type": "markdown",
   "metadata": {},
   "source": [
    "A suggested PCR program."
   ]
  },
  {
   "cell_type": "code",
   "execution_count": 14,
   "metadata": {
    "execution": {
     "iopub.execute_input": "2021-05-17T10:25:45.157660Z",
     "iopub.status.busy": "2021-05-17T10:25:45.157072Z",
     "iopub.status.idle": "2021-05-17T10:25:45.160526Z",
     "shell.execute_reply": "2021-05-17T10:25:45.160907Z"
    }
   },
   "outputs": [
    {
     "data": {
      "text/plain": [
       "|95°C|95°C               |    |tmf:59.1\n",
       "|____|_____          72°C|72°C|tmr:49.4\n",
       "|5min|30s  \\ 50.1°C _____|____|60s/kb\n",
       "|    |      \\______/ 0:15|5min|GC 34%\n",
       "|    |       30s         |    |265bp"
      ]
     },
     "execution_count": 1,
     "metadata": {},
     "output_type": "execute_result"
    }
   ],
   "source": [
    "prd.program()"
   ]
  },
  {
   "cell_type": "markdown",
   "metadata": {},
   "source": [
    "The final vectors are:"
   ]
  },
  {
   "cell_type": "code",
   "execution_count": 15,
   "metadata": {
    "execution": {
     "iopub.execute_input": "2021-05-17T10:25:45.235547Z",
     "iopub.status.busy": "2021-05-17T10:25:45.199690Z",
     "iopub.status.idle": "2021-05-17T10:25:45.660953Z",
     "shell.execute_reply": "2021-05-17T10:25:45.660158Z"
    }
   },
   "outputs": [],
   "source": [
    "pYPKa_Z_GIS2 = (pYPKa_ZraI  + prd).looped().synced(pYPKa)\n",
    "pYPKa_E_GIS2 = (pYPKa_EcoRV + prd).looped().synced(pYPKa)"
   ]
  },
  {
   "cell_type": "markdown",
   "metadata": {},
   "source": [
    "The final vectors with reverse inserts are created below. These vectors theoretically make up\n",
    "fifty percent of the clones. The PCR strategy outlined below can be used to identify clones with the insert\n",
    "in the correct orientation."
   ]
  },
  {
   "cell_type": "code",
   "execution_count": 16,
   "metadata": {
    "execution": {
     "iopub.execute_input": "2021-05-17T10:25:45.730197Z",
     "iopub.status.busy": "2021-05-17T10:25:45.694401Z",
     "iopub.status.idle": "2021-05-17T10:25:46.121370Z",
     "shell.execute_reply": "2021-05-17T10:25:46.121868Z"
    }
   },
   "outputs": [],
   "source": [
    "pYPKa_Z_GIS2b = (pYPKa_ZraI  + prd.rc()).looped().synced(pYPKa)\n",
    "pYPKa_E_GIS2b = (pYPKa_EcoRV + prd.rc()).looped().synced(pYPKa)"
   ]
  },
  {
   "cell_type": "markdown",
   "metadata": {},
   "source": [
    "A combination of yeast pathway kit standard primers and the primers above are\n",
    "used for the strategy to identify correct clones.\n",
    "Standard primers used in the yeast are listed [here](standard_primers.txt)."
   ]
  },
  {
   "cell_type": "code",
   "execution_count": 17,
   "metadata": {
    "execution": {
     "iopub.execute_input": "2021-05-17T10:25:46.128748Z",
     "iopub.status.busy": "2021-05-17T10:25:46.128310Z",
     "iopub.status.idle": "2021-05-17T10:25:46.130808Z",
     "shell.execute_reply": "2021-05-17T10:25:46.130443Z"
    }
   },
   "outputs": [],
   "source": [
    "p = { x.id: x for x in parse_primers(\"\"\">577\n",
    "                                         gttctgatcctcgagcatcttaagaattc\n",
    "                                         >578\n",
    "                                         gttcttgtctcattgccacattcataagt\n",
    "                                         >468\n",
    "                                         gtcgaggaacgccaggttgcccact\n",
    "                                         >467\n",
    "                                         ATTTAAatcctgatgcgtttgtctgcacaga\n",
    "                                         >567\n",
    "                                         GTcggctgcaggtcactagtgag\n",
    "                                         >568\n",
    "                                         GTGCcatctgtgcagacaaacg\n",
    "                                         >775\n",
    "                                         gcggccgctgacTTAAAT\n",
    "                                         >778\n",
    "                                         ggtaaatccggatTAATTAA\n",
    "                                         >342\n",
    "                                         CCTTTTTACGGTTCCTGGCCT\"\"\") }"
   ]
  },
  {
   "cell_type": "markdown",
   "metadata": {},
   "source": [
    "## Diagnostic PCR confirmation\n",
    "\n",
    "The correct structure of pYPKa_Z_GIS2 is confirmed by PCR using standard primers\n",
    "577 and 342 that are vector specific together with the GIS2fw primer specific for the insert\n",
    "in a multiplex PCR reaction with\n",
    "all three primers present.\n",
    "\n",
    "Two PCR products are expected if the insert was cloned, the sizes depend\n",
    "on the orientation. If the vector is empty or contains another insert, only one\n",
    "product is formed.\n",
    "\n",
    "#### Expected PCR products sizes from pYPKa_Z_GIS2:\n",
    "\n",
    "pYPKa_Z_GIS2 with insert in correct orientation."
   ]
  },
  {
   "cell_type": "code",
   "execution_count": 18,
   "metadata": {
    "execution": {
     "iopub.execute_input": "2021-05-17T10:25:46.141370Z",
     "iopub.status.busy": "2021-05-17T10:25:46.140822Z",
     "iopub.status.idle": "2021-05-17T10:25:46.145476Z",
     "shell.execute_reply": "2021-05-17T10:25:46.145870Z"
    }
   },
   "outputs": [
    {
     "data": {
      "text/plain": [
       "[Amplicon(1199), Amplicon(1031)]"
      ]
     },
     "execution_count": 1,
     "metadata": {},
     "output_type": "execute_result"
    }
   ],
   "source": [
    "Anneal( (p['577'], p['342'], fp), pYPKa_Z_GIS2).products"
   ]
  },
  {
   "cell_type": "markdown",
   "metadata": {},
   "source": [
    "pYPKa_Z_GIS2 with insert in reverse orientation."
   ]
  },
  {
   "cell_type": "code",
   "execution_count": 19,
   "metadata": {
    "execution": {
     "iopub.execute_input": "2021-05-17T10:25:46.149637Z",
     "iopub.status.busy": "2021-05-17T10:25:46.148961Z",
     "iopub.status.idle": "2021-05-17T10:25:46.159462Z",
     "shell.execute_reply": "2021-05-17T10:25:46.158952Z"
    }
   },
   "outputs": [
    {
     "data": {
      "text/plain": [
       "[Amplicon(1199), Amplicon(433)]"
      ]
     },
     "execution_count": 1,
     "metadata": {},
     "output_type": "execute_result"
    }
   ],
   "source": [
    "Anneal( (p['577'], p['342'], fp), pYPKa_Z_GIS2b).products"
   ]
  },
  {
   "cell_type": "markdown",
   "metadata": {},
   "source": [
    "Empty pYPKa clone."
   ]
  },
  {
   "cell_type": "code",
   "execution_count": 20,
   "metadata": {
    "execution": {
     "iopub.execute_input": "2021-05-17T10:25:46.169184Z",
     "iopub.status.busy": "2021-05-17T10:25:46.168700Z",
     "iopub.status.idle": "2021-05-17T10:25:46.171129Z",
     "shell.execute_reply": "2021-05-17T10:25:46.171545Z"
    }
   },
   "outputs": [
    {
     "data": {
      "text/plain": [
       "[Amplicon(934)]"
      ]
     },
     "execution_count": 1,
     "metadata": {},
     "output_type": "execute_result"
    }
   ],
   "source": [
    "Anneal( (p['577'], p['342'], fp), pYPKa).products"
   ]
  },
  {
   "cell_type": "markdown",
   "metadata": {},
   "source": [
    "#### Expected PCR products sizes pYPKa_E_GIS2:\n",
    "\n",
    "pYPKa_E_GIS2 with insert in correct orientation."
   ]
  },
  {
   "cell_type": "code",
   "execution_count": 21,
   "metadata": {
    "execution": {
     "iopub.execute_input": "2021-05-17T10:25:46.182205Z",
     "iopub.status.busy": "2021-05-17T10:25:46.181537Z",
     "iopub.status.idle": "2021-05-17T10:25:46.184552Z",
     "shell.execute_reply": "2021-05-17T10:25:46.185084Z"
    }
   },
   "outputs": [
    {
     "data": {
      "text/plain": [
       "[Amplicon(1199), Amplicon(950)]"
      ]
     },
     "execution_count": 1,
     "metadata": {},
     "output_type": "execute_result"
    }
   ],
   "source": [
    "Anneal( (p['577'], p['342'], fp), pYPKa_E_GIS2).products"
   ]
  },
  {
   "cell_type": "markdown",
   "metadata": {},
   "source": [
    "pYPKa_E_GIS2 with insert in reverse orientation."
   ]
  },
  {
   "cell_type": "code",
   "execution_count": 22,
   "metadata": {
    "execution": {
     "iopub.execute_input": "2021-05-17T10:25:46.199591Z",
     "iopub.status.busy": "2021-05-17T10:25:46.198823Z",
     "iopub.status.idle": "2021-05-17T10:25:46.201921Z",
     "shell.execute_reply": "2021-05-17T10:25:46.201442Z"
    }
   },
   "outputs": [
    {
     "data": {
      "text/plain": [
       "[Amplicon(1199), Amplicon(514)]"
      ]
     },
     "execution_count": 1,
     "metadata": {},
     "output_type": "execute_result"
    }
   ],
   "source": [
    "Anneal( (p['577'], p['342'], fp), pYPKa_E_GIS2b).products\n"
   ]
  },
  {
   "cell_type": "markdown",
   "metadata": {},
   "source": [
    "Calculate cseguid checksums for the resulting plasmids for future reference.\n",
    "This checksum that uniquely describes a circular double stranded\n",
    "sequence. See this [blog post](https://ochsavidare.blogspot.com/2016/02/checksum-for-circular-biological.html) for more info.\n",
    "\n",
    "pYPKa_Z_GIS2.cseguid() should be GFrpptpYRCUg6y0trPnUhX9So0I"
   ]
  },
  {
   "cell_type": "code",
   "execution_count": 23,
   "metadata": {
    "execution": {
     "iopub.execute_input": "2021-05-17T10:25:46.210351Z",
     "iopub.status.busy": "2021-05-17T10:25:46.209783Z",
     "iopub.status.idle": "2021-05-17T10:25:46.212649Z",
     "shell.execute_reply": "2021-05-17T10:25:46.213174Z"
    }
   },
   "outputs": [
    {
     "name": "stdout",
     "output_type": "stream",
     "text": [
      "GFrpptpYRCUg6y0trPnUhX9So0I\n"
     ]
    }
   ],
   "source": [
    "print(pYPKa_Z_GIS2.cseguid())\n",
    "assert pYPKa_Z_GIS2.cseguid() == \"GFrpptpYRCUg6y0trPnUhX9So0I\""
   ]
  },
  {
   "cell_type": "markdown",
   "metadata": {},
   "source": [
    "pYPKa_E_GIS2.cseguid() should be 5V2RIwqAOqgDJIzn8R6WSYhF9HE"
   ]
  },
  {
   "cell_type": "code",
   "execution_count": 24,
   "metadata": {
    "execution": {
     "iopub.execute_input": "2021-05-17T10:25:46.226410Z",
     "iopub.status.busy": "2021-05-17T10:25:46.225877Z",
     "iopub.status.idle": "2021-05-17T10:25:46.228725Z",
     "shell.execute_reply": "2021-05-17T10:25:46.228234Z"
    }
   },
   "outputs": [
    {
     "name": "stdout",
     "output_type": "stream",
     "text": [
      "5V2RIwqAOqgDJIzn8R6WSYhF9HE\n"
     ]
    }
   ],
   "source": [
    "print(pYPKa_E_GIS2.cseguid())\n",
    "assert pYPKa_E_GIS2.cseguid() == \"5V2RIwqAOqgDJIzn8R6WSYhF9HE\""
   ]
  },
  {
   "cell_type": "markdown",
   "metadata": {},
   "source": [
    "The sequences are named based on the name of the cloned insert."
   ]
  },
  {
   "cell_type": "code",
   "execution_count": 25,
   "metadata": {
    "execution": {
     "iopub.execute_input": "2021-05-17T10:25:46.232001Z",
     "iopub.status.busy": "2021-05-17T10:25:46.231514Z",
     "iopub.status.idle": "2021-05-17T10:25:46.233709Z",
     "shell.execute_reply": "2021-05-17T10:25:46.233242Z"
    }
   },
   "outputs": [],
   "source": [
    "pYPKa_Z_GIS2.locus = \"pYPKa_Z_GIS2\"[:16]\n",
    "pYPKa_E_GIS2.locus = \"pYPKa_Z_GIS2\"[:16]"
   ]
  },
  {
   "cell_type": "markdown",
   "metadata": {},
   "source": [
    "Stamp sequence with cseguid checksum. This can be used to verify the\n",
    "integrity of the sequence file."
   ]
  },
  {
   "cell_type": "code",
   "execution_count": 26,
   "metadata": {
    "execution": {
     "iopub.execute_input": "2021-05-17T10:25:46.244909Z",
     "iopub.status.busy": "2021-05-17T10:25:46.244181Z",
     "iopub.status.idle": "2021-05-17T10:25:46.247067Z",
     "shell.execute_reply": "2021-05-17T10:25:46.247420Z"
    }
   },
   "outputs": [
    {
     "data": {
      "text/plain": [
       "cSEGUID_5V2RIwqAOqgDJIzn8R6WSYhF9HE"
      ]
     },
     "execution_count": 1,
     "metadata": {},
     "output_type": "execute_result"
    }
   ],
   "source": [
    "pYPKa_Z_GIS2.stamp()\n",
    "pYPKa_E_GIS2.stamp()"
   ]
  },
  {
   "cell_type": "markdown",
   "metadata": {},
   "source": [
    "pYPKa_Z_GIS2 is written to a local file:"
   ]
  },
  {
   "cell_type": "code",
   "execution_count": 27,
   "metadata": {
    "execution": {
     "iopub.execute_input": "2021-05-17T10:25:46.252768Z",
     "iopub.status.busy": "2021-05-17T10:25:46.250149Z",
     "iopub.status.idle": "2021-05-17T10:25:46.260638Z",
     "shell.execute_reply": "2021-05-17T10:25:46.259978Z"
    }
   },
   "outputs": [
    {
     "data": {
      "text/html": [
       "<font face=monospace><a href='pYPKa_Z_GIS2.gb' target='_blank'>pYPKa_Z_GIS2.gb</a></font><br>"
      ]
     },
     "metadata": {},
     "output_type": "display_data"
    }
   ],
   "source": [
    "pYPKa_Z_GIS2.write(\"pYPKa_Z_GIS2.gb\")"
   ]
  },
  {
   "cell_type": "markdown",
   "metadata": {},
   "source": [
    "pYPKa_E_GIS2 is written to a local file:"
   ]
  },
  {
   "cell_type": "code",
   "execution_count": 28,
   "metadata": {
    "execution": {
     "iopub.execute_input": "2021-05-17T10:25:46.266567Z",
     "iopub.status.busy": "2021-05-17T10:25:46.265757Z",
     "iopub.status.idle": "2021-05-17T10:25:46.270221Z",
     "shell.execute_reply": "2021-05-17T10:25:46.269671Z"
    }
   },
   "outputs": [
    {
     "data": {
      "text/html": [
       "<font face=monospace><a href='pYPKa_E_GIS2.gb' target='_blank'>pYPKa_E_GIS2.gb</a></font><br>"
      ]
     },
     "metadata": {},
     "output_type": "display_data"
    }
   ],
   "source": [
    "pYPKa_E_GIS2.write(\"pYPKa_E_GIS2.gb\")"
   ]
  }
 ],
 "metadata": {
  "language_info": {
   "codemirror_mode": {
    "name": "ipython",
    "version": 3
   },
   "file_extension": ".py",
   "mimetype": "text/x-python",
   "name": "python",
   "nbconvert_exporter": "python",
   "pygments_lexer": "ipython3",
   "version": "3.9.0"
  }
 },
 "nbformat": 4,
 "nbformat_minor": 2
}
