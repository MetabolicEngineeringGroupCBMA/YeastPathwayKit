{
 "cells": [
  {
   "cell_type": "markdown",
   "metadata": {},
   "source": [
    "# pYPKa_Z_RPL20B and pYPKa_E_RPL20B\n",
    "\n",
    "This Jupyter notebook describe the construction of E. coli vectors [pYPKa_Z_RPL20B](pYPKa_Z_RPL20B.gb) and [pYPKa_E_RPL20B](pYPKa_E_RPL20B.gb). \n",
    "These two vectors share backbone and insert, but in the former, the insert is cloned using the restriction\n",
    "enzyme [ZraI](http://rebase.neb.com/rebase/enz/ZraI.html) while in the latter [EcoRV](http://rebase.neb.com/rebase/enz/EcoRV.html) is used.\n",
    "\n",
    "The insert cloned in ZraI is meant to function as a promoter, while in the EcoRV site it is meant to be  used as a terminator.\n",
    "\n",
    "Links to the sequence of each vector in Genbank format can be found at the bottom of this document.\n",
    "\n",
    "![pYPKa_Z and pYPKa_E](figure_pYPKa_ZE.png \"pYPKa_Z or pYPKa_E plasmid\")\n",
    "\n",
    "The Python package [pydna](https://pypi.python.org/pypi/pydna/) package is imported in the code cell below to provide \n",
    "the cloning functionality. There is a [publication](http://www.biomedcentral.com/1471-2105/16/142) describing pydna as well as\n",
    "[documentation](http://pydna.readthedocs.io/) available online. Pydna is developed on [Github](https://github.com/BjornFJohansson/pydna)."
   ]
  },
  {
   "cell_type": "code",
   "execution_count": 1,
   "metadata": {
    "execution": {
     "iopub.execute_input": "2021-05-17T10:26:43.201561Z",
     "iopub.status.busy": "2021-05-17T10:26:43.194788Z",
     "iopub.status.idle": "2021-05-17T10:26:43.800847Z",
     "shell.execute_reply": "2021-05-17T10:26:43.801298Z"
    }
   },
   "outputs": [],
   "source": [
    "from pydna.readers import read\n",
    "from pydna.parsers import parse_primers\n",
    "from pydna.genbank import Genbank\n",
    "from pydna.amplify import pcr\n",
    "from pydna.amplify import Anneal"
   ]
  },
  {
   "cell_type": "markdown",
   "metadata": {},
   "source": [
    "The vector backbone pYPKa is read from a local [file](pYPKa.gb)."
   ]
  },
  {
   "cell_type": "code",
   "execution_count": 2,
   "metadata": {
    "execution": {
     "iopub.execute_input": "2021-05-17T10:26:43.808601Z",
     "iopub.status.busy": "2021-05-17T10:26:43.808061Z",
     "iopub.status.idle": "2021-05-17T10:26:43.818638Z",
     "shell.execute_reply": "2021-05-17T10:26:43.819060Z"
    }
   },
   "outputs": [],
   "source": [
    "pYPKa = read(\"pYPKa.gb\")"
   ]
  },
  {
   "cell_type": "markdown",
   "metadata": {},
   "source": [
    "Both restriction enzymes are imported from [Biopython](http://biopython.org/wiki/Main_Page)"
   ]
  },
  {
   "cell_type": "code",
   "execution_count": 3,
   "metadata": {
    "execution": {
     "iopub.execute_input": "2021-05-17T10:26:43.822521Z",
     "iopub.status.busy": "2021-05-17T10:26:43.822051Z",
     "iopub.status.idle": "2021-05-17T10:26:43.823744Z",
     "shell.execute_reply": "2021-05-17T10:26:43.824160Z"
    }
   },
   "outputs": [],
   "source": [
    "from Bio.Restriction import ZraI, EcoRV"
   ]
  },
  {
   "cell_type": "markdown",
   "metadata": {},
   "source": [
    "The vector is cut with both enzymes."
   ]
  },
  {
   "cell_type": "code",
   "execution_count": 4,
   "metadata": {
    "execution": {
     "iopub.execute_input": "2021-05-17T10:26:43.832451Z",
     "iopub.status.busy": "2021-05-17T10:26:43.831781Z",
     "iopub.status.idle": "2021-05-17T10:26:43.834085Z",
     "shell.execute_reply": "2021-05-17T10:26:43.834525Z"
    }
   },
   "outputs": [],
   "source": [
    "pYPKa_ZraI  = pYPKa.linearize(ZraI)\n",
    "pYPKa_EcoRV = pYPKa.linearize(EcoRV)"
   ]
  },
  {
   "cell_type": "markdown",
   "metadata": {},
   "source": [
    "The template below comes from a Genbank [record](http://www.ncbi.nlm.nih.gov/nuccore/BK006948.2).\n",
    "Access to Genbank is needed in order to download the template.\n",
    "If you execute this script, change the email address below to your own.\n",
    "Always tell Genbank who you are, when using their web service."
   ]
  },
  {
   "cell_type": "code",
   "execution_count": 5,
   "metadata": {
    "execution": {
     "iopub.execute_input": "2021-05-17T10:26:43.838457Z",
     "iopub.status.busy": "2021-05-17T10:26:43.838000Z",
     "iopub.status.idle": "2021-05-17T10:26:43.840350Z",
     "shell.execute_reply": "2021-05-17T10:26:43.839900Z"
    }
   },
   "outputs": [],
   "source": [
    "gb = Genbank(\"bjornjobb@gmail.com\")"
   ]
  },
  {
   "cell_type": "markdown",
   "metadata": {},
   "source": [
    "The template is downloaded from Genbank below."
   ]
  },
  {
   "cell_type": "code",
   "execution_count": 6,
   "metadata": {
    "execution": {
     "iopub.execute_input": "2021-05-17T10:26:43.844536Z",
     "iopub.status.busy": "2021-05-17T10:26:43.843868Z",
     "iopub.status.idle": "2021-05-17T10:26:43.854016Z",
     "shell.execute_reply": "2021-05-17T10:26:43.853446Z"
    }
   },
   "outputs": [],
   "source": [
    "template = gb.nucleotide(\"BK006948.2 REGION: complement(901195..901857)\")"
   ]
  },
  {
   "cell_type": "markdown",
   "metadata": {},
   "source": [
    "The template is a 663 bp linear DNA fragment."
   ]
  },
  {
   "cell_type": "code",
   "execution_count": 7,
   "metadata": {
    "execution": {
     "iopub.execute_input": "2021-05-17T10:26:43.862414Z",
     "iopub.status.busy": "2021-05-17T10:26:43.861592Z",
     "iopub.status.idle": "2021-05-17T10:26:43.864579Z",
     "shell.execute_reply": "2021-05-17T10:26:43.865121Z"
    }
   },
   "outputs": [
    {
     "data": {
      "text/html": [
       "<a href='https://www.ncbi.nlm.nih.gov/nuccore/BK006948.2 ?from=901195&to=901857&strand=2' target='_blank'>BK006948.2  901195-901857</a>"
      ],
      "text/plain": [
       "Gbank(BK006948.2  901195-901857)(-663)"
      ]
     },
     "execution_count": 1,
     "metadata": {},
     "output_type": "execute_result"
    }
   ],
   "source": [
    "template"
   ]
  },
  {
   "cell_type": "markdown",
   "metadata": {},
   "source": [
    "The insert has the sequence shown below."
   ]
  },
  {
   "cell_type": "code",
   "execution_count": 8,
   "metadata": {
    "execution": {
     "iopub.execute_input": "2021-05-17T10:26:43.869918Z",
     "iopub.status.busy": "2021-05-17T10:26:43.868837Z",
     "iopub.status.idle": "2021-05-17T10:26:43.872875Z",
     "shell.execute_reply": "2021-05-17T10:26:43.873581Z"
    }
   },
   "outputs": [
    {
     "name": "stdout",
     "output_type": "stream",
     "text": [
      "GTTCGCATAGAAAATAATTTTAATATAGGCGAGAATTTCAATTTGTACCTACTGGCGCAAATTCAATAGGTGTTATCTATTGAAAGCACTGAACTTAAATTTACCAATGTATACACGCTCAACATAAAAAAGAGGTAAAAGAAAATATATTTTTTTGTAAGGAAAGGCTTAATAAATATTTACAAGCTAGATAAAAAAAAAATCAAATAGCAAGCTATTCTGTCATATCTTAAGGTGCTGATTGTTTGTAGGCACGAAGTAAACAAGCTCTTCCCCAAAACAATAAATACGGTTTTCGGGACTGTTCACCCGTACATTTTACGTTTCCGACGGCGCGATGCTATCTTTGAATTTTTATCTCTTTCAGGTAACCCCATGACCAGTAGGGCGGCTTACTACCGAAGAGAAAAATGTCCGCGGCCTAGACAGTTACTTCCCAGGCCAGGGCCAGGCCACACGGACAGAGGCAGATTCCAAGTTGTTCCGCATAGTCTGTCTAGCTCTTTCTCAATTTTCCGCCAGATTCTGTCTAATTTCTTTCCGCTCGAGTTGGCAACAGTACGAAGAAGTAACTCTAATAGATAGATATAACCGTTTTTGAGGGCATTATTTTTGCAGAAGATAATAGAAGAGAACCGTAACAAAGGAATCAAGCAAAGAAAA\n"
     ]
    }
   ],
   "source": [
    "print(str(template.seq))"
   ]
  },
  {
   "cell_type": "markdown",
   "metadata": {},
   "source": [
    "The seguid checksum of the template should be\n",
    "\n",
    "```9KhSCkn2hHX-Baa9wzwzMwzPN8U```"
   ]
  },
  {
   "cell_type": "code",
   "execution_count": 9,
   "metadata": {
    "execution": {
     "iopub.execute_input": "2021-05-17T10:26:43.878190Z",
     "iopub.status.busy": "2021-05-17T10:26:43.877325Z",
     "iopub.status.idle": "2021-05-17T10:26:43.880941Z",
     "shell.execute_reply": "2021-05-17T10:26:43.880446Z"
    }
   },
   "outputs": [
    {
     "data": {
      "text/plain": [
       "9KhSCkn2hHX-Baa9wzwzMwzPN8U"
      ]
     },
     "execution_count": 1,
     "metadata": {},
     "output_type": "execute_result"
    }
   ],
   "source": [
    "template.seguid()"
   ]
  },
  {
   "cell_type": "markdown",
   "metadata": {},
   "source": [
    "Two primers are used to amplify the insert:"
   ]
  },
  {
   "cell_type": "code",
   "execution_count": 10,
   "metadata": {
    "execution": {
     "iopub.execute_input": "2021-05-17T10:26:43.886032Z",
     "iopub.status.busy": "2021-05-17T10:26:43.885363Z",
     "iopub.status.idle": "2021-05-17T10:26:43.888324Z",
     "shell.execute_reply": "2021-05-17T10:26:43.887669Z"
    }
   },
   "outputs": [],
   "source": [
    "fp,rp = parse_primers(\"\"\">862_RPL20Btpf\n",
    "                         ttaaatGTTCGCATAGAAAATAATTT\n",
    "                         >861_RPL20Btpr\n",
    "                         taattaaTTTTCTTTGCTTGATTC\"\"\")"
   ]
  },
  {
   "cell_type": "markdown",
   "metadata": {},
   "source": [
    "PCR to create the insert using the primers above."
   ]
  },
  {
   "cell_type": "code",
   "execution_count": 11,
   "metadata": {
    "execution": {
     "iopub.execute_input": "2021-05-17T10:26:43.895217Z",
     "iopub.status.busy": "2021-05-17T10:26:43.894359Z",
     "iopub.status.idle": "2021-05-17T10:26:43.902983Z",
     "shell.execute_reply": "2021-05-17T10:26:43.902444Z"
    }
   },
   "outputs": [],
   "source": [
    "prd = pcr(fp, rp, template)\n",
    "assert str(fp.seq) in prd"
   ]
  },
  {
   "cell_type": "markdown",
   "metadata": {},
   "source": [
    "The PCR product has this length in bp."
   ]
  },
  {
   "cell_type": "code",
   "execution_count": 12,
   "metadata": {
    "execution": {
     "iopub.execute_input": "2021-05-17T10:26:43.906824Z",
     "iopub.status.busy": "2021-05-17T10:26:43.906156Z",
     "iopub.status.idle": "2021-05-17T10:26:43.910996Z",
     "shell.execute_reply": "2021-05-17T10:26:43.911658Z"
    }
   },
   "outputs": [
    {
     "data": {
      "text/plain": [
       "676"
      ]
     },
     "execution_count": 1,
     "metadata": {},
     "output_type": "execute_result"
    }
   ],
   "source": [
    "len(prd)"
   ]
  },
  {
   "cell_type": "markdown",
   "metadata": {},
   "source": [
    "A figure of the primers annealing on template."
   ]
  },
  {
   "cell_type": "code",
   "execution_count": 13,
   "metadata": {
    "execution": {
     "iopub.execute_input": "2021-05-17T10:26:43.917816Z",
     "iopub.status.busy": "2021-05-17T10:26:43.916638Z",
     "iopub.status.idle": "2021-05-17T10:26:43.920218Z",
     "shell.execute_reply": "2021-05-17T10:26:43.920723Z"
    }
   },
   "outputs": [
    {
     "data": {
      "text/plain": [
       "      5GTTCGCATAGAAAATAATTT...GAATCAAGCAAAGAAAA3\n",
       "                              |||||||||||||||||\n",
       "                             3CTTAGTTCGTTTCTTTTaattaat5\n",
       "5ttaaatGTTCGCATAGAAAATAATTT3\n",
       "       ||||||||||||||||||||\n",
       "      3CAAGCGTATCTTTTATTAAA...CTTAGTTCGTTTCTTTT5"
      ]
     },
     "execution_count": 1,
     "metadata": {},
     "output_type": "execute_result"
    }
   ],
   "source": [
    "prd.figure()"
   ]
  },
  {
   "cell_type": "markdown",
   "metadata": {},
   "source": [
    "A suggested PCR program."
   ]
  },
  {
   "cell_type": "code",
   "execution_count": 14,
   "metadata": {
    "execution": {
     "iopub.execute_input": "2021-05-17T10:26:43.925039Z",
     "iopub.status.busy": "2021-05-17T10:26:43.924401Z",
     "iopub.status.idle": "2021-05-17T10:26:43.927296Z",
     "shell.execute_reply": "2021-05-17T10:26:43.926849Z"
    }
   },
   "outputs": [
    {
     "data": {
      "text/plain": [
       "|95°C|95°C               |    |tmf:50.3\n",
       "|____|_____          72°C|72°C|tmr:46.8\n",
       "|5min|30s  \\ 51.0°C _____|____|60s/kb\n",
       "|    |      \\______/ 0:40|5min|GC 37%\n",
       "|    |       30s         |    |676bp"
      ]
     },
     "execution_count": 1,
     "metadata": {},
     "output_type": "execute_result"
    }
   ],
   "source": [
    "prd.program()"
   ]
  },
  {
   "cell_type": "markdown",
   "metadata": {},
   "source": [
    "The final vectors are:"
   ]
  },
  {
   "cell_type": "code",
   "execution_count": 15,
   "metadata": {
    "execution": {
     "iopub.execute_input": "2021-05-17T10:26:44.000911Z",
     "iopub.status.busy": "2021-05-17T10:26:43.965281Z",
     "iopub.status.idle": "2021-05-17T10:26:44.417741Z",
     "shell.execute_reply": "2021-05-17T10:26:44.418139Z"
    }
   },
   "outputs": [],
   "source": [
    "pYPKa_Z_RPL20B = (pYPKa_ZraI  + prd).looped().synced(pYPKa)\n",
    "pYPKa_E_RPL20B = (pYPKa_EcoRV + prd).looped().synced(pYPKa)"
   ]
  },
  {
   "cell_type": "markdown",
   "metadata": {},
   "source": [
    "The final vectors with reverse inserts are created below. These vectors theoretically make up\n",
    "fifty percent of the clones. The PCR strategy outlined below can be used to identify clones with the insert\n",
    "in the correct orientation."
   ]
  },
  {
   "cell_type": "code",
   "execution_count": 16,
   "metadata": {
    "execution": {
     "iopub.execute_input": "2021-05-17T10:26:44.492008Z",
     "iopub.status.busy": "2021-05-17T10:26:44.456539Z",
     "iopub.status.idle": "2021-05-17T10:26:44.905739Z",
     "shell.execute_reply": "2021-05-17T10:26:44.905203Z"
    }
   },
   "outputs": [],
   "source": [
    "pYPKa_Z_RPL20Bb = (pYPKa_ZraI  + prd.rc()).looped().synced(pYPKa)\n",
    "pYPKa_E_RPL20Bb = (pYPKa_EcoRV + prd.rc()).looped().synced(pYPKa)"
   ]
  },
  {
   "cell_type": "markdown",
   "metadata": {},
   "source": [
    "A combination of yeast pathway kit standard primers and the primers above are\n",
    "used for the strategy to identify correct clones.\n",
    "Standard primers used in the yeast are listed [here](standard_primers.txt)."
   ]
  },
  {
   "cell_type": "code",
   "execution_count": 17,
   "metadata": {
    "execution": {
     "iopub.execute_input": "2021-05-17T10:26:44.910684Z",
     "iopub.status.busy": "2021-05-17T10:26:44.910247Z",
     "iopub.status.idle": "2021-05-17T10:26:44.912158Z",
     "shell.execute_reply": "2021-05-17T10:26:44.912623Z"
    }
   },
   "outputs": [],
   "source": [
    "p = { x.id: x for x in parse_primers(\"\"\">577\n",
    "                                         gttctgatcctcgagcatcttaagaattc\n",
    "                                         >578\n",
    "                                         gttcttgtctcattgccacattcataagt\n",
    "                                         >468\n",
    "                                         gtcgaggaacgccaggttgcccact\n",
    "                                         >467\n",
    "                                         ATTTAAatcctgatgcgtttgtctgcacaga\n",
    "                                         >567\n",
    "                                         GTcggctgcaggtcactagtgag\n",
    "                                         >568\n",
    "                                         GTGCcatctgtgcagacaaacg\n",
    "                                         >775\n",
    "                                         gcggccgctgacTTAAAT\n",
    "                                         >778\n",
    "                                         ggtaaatccggatTAATTAA\n",
    "                                         >342\n",
    "                                         CCTTTTTACGGTTCCTGGCCT\"\"\") }"
   ]
  },
  {
   "cell_type": "markdown",
   "metadata": {},
   "source": [
    "## Diagnostic PCR confirmation\n",
    "\n",
    "The correct structure of pYPKa_Z_RPL20B is confirmed by PCR using standard primers\n",
    "577 and 342 that are vector specific together with the RPL20Bfw primer specific for the insert\n",
    "in a multiplex PCR reaction with\n",
    "all three primers present.\n",
    "\n",
    "Two PCR products are expected if the insert was cloned, the sizes depend\n",
    "on the orientation. If the vector is empty or contains another insert, only one\n",
    "product is formed.\n",
    "\n",
    "#### Expected PCR products sizes from pYPKa_Z_RPL20B:\n",
    "\n",
    "pYPKa_Z_RPL20B with insert in correct orientation."
   ]
  },
  {
   "cell_type": "code",
   "execution_count": 18,
   "metadata": {
    "execution": {
     "iopub.execute_input": "2021-05-17T10:26:44.926943Z",
     "iopub.status.busy": "2021-05-17T10:26:44.926280Z",
     "iopub.status.idle": "2021-05-17T10:26:44.929250Z",
     "shell.execute_reply": "2021-05-17T10:26:44.928738Z"
    }
   },
   "outputs": [
    {
     "data": {
      "text/plain": [
       "[Amplicon(1610), Amplicon(1442)]"
      ]
     },
     "execution_count": 1,
     "metadata": {},
     "output_type": "execute_result"
    }
   ],
   "source": [
    "Anneal( (p['577'], p['342'], fp), pYPKa_Z_RPL20B).products"
   ]
  },
  {
   "cell_type": "markdown",
   "metadata": {},
   "source": [
    "pYPKa_Z_RPL20B with insert in reverse orientation."
   ]
  },
  {
   "cell_type": "code",
   "execution_count": 19,
   "metadata": {
    "execution": {
     "iopub.execute_input": "2021-05-17T10:26:44.944466Z",
     "iopub.status.busy": "2021-05-17T10:26:44.943800Z",
     "iopub.status.idle": "2021-05-17T10:26:44.946269Z",
     "shell.execute_reply": "2021-05-17T10:26:44.946790Z"
    }
   },
   "outputs": [
    {
     "data": {
      "text/plain": [
       "[Amplicon(1610), Amplicon(844)]"
      ]
     },
     "execution_count": 1,
     "metadata": {},
     "output_type": "execute_result"
    }
   ],
   "source": [
    "Anneal( (p['577'], p['342'], fp), pYPKa_Z_RPL20Bb).products"
   ]
  },
  {
   "cell_type": "markdown",
   "metadata": {},
   "source": [
    "Empty pYPKa clone."
   ]
  },
  {
   "cell_type": "code",
   "execution_count": 20,
   "metadata": {
    "execution": {
     "iopub.execute_input": "2021-05-17T10:26:44.955584Z",
     "iopub.status.busy": "2021-05-17T10:26:44.954539Z",
     "iopub.status.idle": "2021-05-17T10:26:44.958990Z",
     "shell.execute_reply": "2021-05-17T10:26:44.958420Z"
    }
   },
   "outputs": [
    {
     "data": {
      "text/plain": [
       "[Amplicon(934)]"
      ]
     },
     "execution_count": 1,
     "metadata": {},
     "output_type": "execute_result"
    }
   ],
   "source": [
    "Anneal( (p['577'], p['342'], fp), pYPKa).products"
   ]
  },
  {
   "cell_type": "markdown",
   "metadata": {},
   "source": [
    "#### Expected PCR products sizes pYPKa_E_RPL20B:\n",
    "\n",
    "pYPKa_E_RPL20B with insert in correct orientation."
   ]
  },
  {
   "cell_type": "code",
   "execution_count": 21,
   "metadata": {
    "execution": {
     "iopub.execute_input": "2021-05-17T10:26:44.972553Z",
     "iopub.status.busy": "2021-05-17T10:26:44.971913Z",
     "iopub.status.idle": "2021-05-17T10:26:44.975397Z",
     "shell.execute_reply": "2021-05-17T10:26:44.974896Z"
    }
   },
   "outputs": [
    {
     "data": {
      "text/plain": [
       "[Amplicon(1610), Amplicon(1361)]"
      ]
     },
     "execution_count": 1,
     "metadata": {},
     "output_type": "execute_result"
    }
   ],
   "source": [
    "Anneal( (p['577'], p['342'], fp), pYPKa_E_RPL20B).products"
   ]
  },
  {
   "cell_type": "markdown",
   "metadata": {},
   "source": [
    "pYPKa_E_RPL20B with insert in reverse orientation."
   ]
  },
  {
   "cell_type": "code",
   "execution_count": 22,
   "metadata": {
    "execution": {
     "iopub.execute_input": "2021-05-17T10:26:44.986356Z",
     "iopub.status.busy": "2021-05-17T10:26:44.985703Z",
     "iopub.status.idle": "2021-05-17T10:26:44.989105Z",
     "shell.execute_reply": "2021-05-17T10:26:44.988444Z"
    }
   },
   "outputs": [
    {
     "data": {
      "text/plain": [
       "[Amplicon(1610), Amplicon(925)]"
      ]
     },
     "execution_count": 1,
     "metadata": {},
     "output_type": "execute_result"
    }
   ],
   "source": [
    "Anneal( (p['577'], p['342'], fp), pYPKa_E_RPL20Bb).products\n"
   ]
  },
  {
   "cell_type": "markdown",
   "metadata": {},
   "source": [
    "Calculate cseguid checksums for the resulting plasmids for future reference.\n",
    "This checksum that uniquely describes a circular double stranded\n",
    "sequence. See this [blog post](https://ochsavidare.blogspot.com/2016/02/checksum-for-circular-biological.html) for more info.\n",
    "\n",
    "pYPKa_Z_RPL20B.cseguid() should be _wLo0ZziJ91oMIbo8z1JGMVthSM"
   ]
  },
  {
   "cell_type": "code",
   "execution_count": 23,
   "metadata": {
    "execution": {
     "iopub.execute_input": "2021-05-17T10:26:45.001469Z",
     "iopub.status.busy": "2021-05-17T10:26:45.000913Z",
     "iopub.status.idle": "2021-05-17T10:26:45.003588Z",
     "shell.execute_reply": "2021-05-17T10:26:45.003122Z"
    }
   },
   "outputs": [
    {
     "name": "stdout",
     "output_type": "stream",
     "text": [
      "_wLo0ZziJ91oMIbo8z1JGMVthSM\n"
     ]
    }
   ],
   "source": [
    "print(pYPKa_Z_RPL20B.cseguid())\n",
    "assert pYPKa_Z_RPL20B.cseguid() == \"_wLo0ZziJ91oMIbo8z1JGMVthSM\""
   ]
  },
  {
   "cell_type": "markdown",
   "metadata": {},
   "source": [
    "pYPKa_E_RPL20B.cseguid() should be M2Aeb1Ve_zVh59TPcKaZrU8-9IQ"
   ]
  },
  {
   "cell_type": "code",
   "execution_count": 24,
   "metadata": {
    "execution": {
     "iopub.execute_input": "2021-05-17T10:26:45.014353Z",
     "iopub.status.busy": "2021-05-17T10:26:45.013683Z",
     "iopub.status.idle": "2021-05-17T10:26:45.016543Z",
     "shell.execute_reply": "2021-05-17T10:26:45.016076Z"
    }
   },
   "outputs": [
    {
     "name": "stdout",
     "output_type": "stream",
     "text": [
      "M2Aeb1Ve_zVh59TPcKaZrU8-9IQ\n"
     ]
    }
   ],
   "source": [
    "print(pYPKa_E_RPL20B.cseguid())\n",
    "assert pYPKa_E_RPL20B.cseguid() == \"M2Aeb1Ve_zVh59TPcKaZrU8-9IQ\""
   ]
  },
  {
   "cell_type": "markdown",
   "metadata": {},
   "source": [
    "The sequences are named based on the name of the cloned insert."
   ]
  },
  {
   "cell_type": "code",
   "execution_count": 25,
   "metadata": {
    "execution": {
     "iopub.execute_input": "2021-05-17T10:26:45.020012Z",
     "iopub.status.busy": "2021-05-17T10:26:45.019486Z",
     "iopub.status.idle": "2021-05-17T10:26:45.022675Z",
     "shell.execute_reply": "2021-05-17T10:26:45.021966Z"
    }
   },
   "outputs": [],
   "source": [
    "pYPKa_Z_RPL20B.locus = \"pYPKa_Z_RPL20B\"[:16]\n",
    "pYPKa_E_RPL20B.locus = \"pYPKa_Z_RPL20B\"[:16]"
   ]
  },
  {
   "cell_type": "markdown",
   "metadata": {},
   "source": [
    "Stamp sequence with cseguid checksum. This can be used to verify the\n",
    "integrity of the sequence file."
   ]
  },
  {
   "cell_type": "code",
   "execution_count": 26,
   "metadata": {
    "execution": {
     "iopub.execute_input": "2021-05-17T10:26:45.035777Z",
     "iopub.status.busy": "2021-05-17T10:26:45.030974Z",
     "iopub.status.idle": "2021-05-17T10:26:45.039255Z",
     "shell.execute_reply": "2021-05-17T10:26:45.038707Z"
    }
   },
   "outputs": [
    {
     "data": {
      "text/plain": [
       "cSEGUID_M2Aeb1Ve_zVh59TPcKaZrU8-9IQ"
      ]
     },
     "execution_count": 1,
     "metadata": {},
     "output_type": "execute_result"
    }
   ],
   "source": [
    "pYPKa_Z_RPL20B.stamp()\n",
    "pYPKa_E_RPL20B.stamp()"
   ]
  },
  {
   "cell_type": "markdown",
   "metadata": {},
   "source": [
    "pYPKa_Z_RPL20B is written to a local file:"
   ]
  },
  {
   "cell_type": "code",
   "execution_count": 27,
   "metadata": {
    "execution": {
     "iopub.execute_input": "2021-05-17T10:26:45.042297Z",
     "iopub.status.busy": "2021-05-17T10:26:45.041872Z",
     "iopub.status.idle": "2021-05-17T10:26:45.048850Z",
     "shell.execute_reply": "2021-05-17T10:26:45.049390Z"
    }
   },
   "outputs": [
    {
     "data": {
      "text/html": [
       "<font face=monospace><a href='pYPKa_Z_RPL20B.gb' target='_blank'>pYPKa_Z_RPL20B.gb</a></font><br>"
      ]
     },
     "metadata": {},
     "output_type": "display_data"
    }
   ],
   "source": [
    "pYPKa_Z_RPL20B.write(\"pYPKa_Z_RPL20B.gb\")"
   ]
  },
  {
   "cell_type": "markdown",
   "metadata": {},
   "source": [
    "pYPKa_E_RPL20B is written to a local file:"
   ]
  },
  {
   "cell_type": "code",
   "execution_count": 28,
   "metadata": {
    "execution": {
     "iopub.execute_input": "2021-05-17T10:26:45.053260Z",
     "iopub.status.busy": "2021-05-17T10:26:45.052486Z",
     "iopub.status.idle": "2021-05-17T10:26:45.059126Z",
     "shell.execute_reply": "2021-05-17T10:26:45.058636Z"
    }
   },
   "outputs": [
    {
     "data": {
      "text/html": [
       "<font face=monospace><a href='pYPKa_E_RPL20B.gb' target='_blank'>pYPKa_E_RPL20B.gb</a></font><br>"
      ]
     },
     "metadata": {},
     "output_type": "display_data"
    }
   ],
   "source": [
    "pYPKa_E_RPL20B.write(\"pYPKa_E_RPL20B.gb\")"
   ]
  }
 ],
 "metadata": {
  "language_info": {
   "codemirror_mode": {
    "name": "ipython",
    "version": 3
   },
   "file_extension": ".py",
   "mimetype": "text/x-python",
   "name": "python",
   "nbconvert_exporter": "python",
   "pygments_lexer": "ipython3",
   "version": "3.9.0"
  }
 },
 "nbformat": 4,
 "nbformat_minor": 2
}
