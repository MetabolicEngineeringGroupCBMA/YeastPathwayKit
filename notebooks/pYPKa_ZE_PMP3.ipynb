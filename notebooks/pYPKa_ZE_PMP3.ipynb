{
 "cells": [
  {
   "cell_type": "markdown",
   "metadata": {},
   "source": [
    "# pYPKa_Z_PMP3 and pYPKa_E_PMP3\n",
    "\n",
    "This Jupyter notebook describe the construction of E. coli vectors [pYPKa_Z_PMP3](pYPKa_Z_PMP3.gb) and [pYPKa_E_PMP3](pYPKa_E_PMP3.gb). \n",
    "These two vectors share backbone and insert, but in the former, the insert is cloned using the restriction\n",
    "enzyme [ZraI](http://rebase.neb.com/rebase/enz/ZraI.html) while in the latter [EcoRV](http://rebase.neb.com/rebase/enz/EcoRV.html) is used.\n",
    "\n",
    "The insert cloned in ZraI is meant to function as a promoter, while in the EcoRV site it is meant to be  used as a terminator.\n",
    "\n",
    "Links to the sequence of each vector in Genbank format can be found at the bottom of this document.\n",
    "\n",
    "![pYPKa_Z and pYPKa_E](figure_pYPKa_ZE.png \"pYPKa_Z or pYPKa_E plasmid\")\n",
    "\n",
    "The Python package [pydna](https://pypi.python.org/pypi/pydna/) package is imported in the code cell below to provide \n",
    "the cloning functionality. There is a [publication](http://www.biomedcentral.com/1471-2105/16/142) describing pydna as well as\n",
    "[documentation](http://pydna.readthedocs.io/) available online. Pydna is developed on [Github](https://github.com/BjornFJohansson/pydna)."
   ]
  },
  {
   "cell_type": "code",
   "execution_count": 1,
   "metadata": {
    "execution": {
     "iopub.execute_input": "2021-05-17T10:26:01.886763Z",
     "iopub.status.busy": "2021-05-17T10:26:01.885693Z",
     "iopub.status.idle": "2021-05-17T10:26:02.380018Z",
     "shell.execute_reply": "2021-05-17T10:26:02.379533Z"
    }
   },
   "outputs": [],
   "source": [
    "from pydna.readers import read\n",
    "from pydna.parsers import parse_primers\n",
    "from pydna.genbank import Genbank\n",
    "from pydna.amplify import pcr\n",
    "from pydna.amplify import Anneal"
   ]
  },
  {
   "cell_type": "markdown",
   "metadata": {},
   "source": [
    "The vector backbone pYPKa is read from a local [file](pYPKa.gb)."
   ]
  },
  {
   "cell_type": "code",
   "execution_count": 2,
   "metadata": {
    "execution": {
     "iopub.execute_input": "2021-05-17T10:26:02.387814Z",
     "iopub.status.busy": "2021-05-17T10:26:02.386570Z",
     "iopub.status.idle": "2021-05-17T10:26:02.399691Z",
     "shell.execute_reply": "2021-05-17T10:26:02.400198Z"
    }
   },
   "outputs": [],
   "source": [
    "pYPKa = read(\"pYPKa.gb\")"
   ]
  },
  {
   "cell_type": "markdown",
   "metadata": {},
   "source": [
    "Both restriction enzymes are imported from [Biopython](http://biopython.org/wiki/Main_Page)"
   ]
  },
  {
   "cell_type": "code",
   "execution_count": 3,
   "metadata": {
    "execution": {
     "iopub.execute_input": "2021-05-17T10:26:02.403795Z",
     "iopub.status.busy": "2021-05-17T10:26:02.403342Z",
     "iopub.status.idle": "2021-05-17T10:26:02.404890Z",
     "shell.execute_reply": "2021-05-17T10:26:02.405414Z"
    }
   },
   "outputs": [],
   "source": [
    "from Bio.Restriction import ZraI, EcoRV"
   ]
  },
  {
   "cell_type": "markdown",
   "metadata": {},
   "source": [
    "The vector is cut with both enzymes."
   ]
  },
  {
   "cell_type": "code",
   "execution_count": 4,
   "metadata": {
    "execution": {
     "iopub.execute_input": "2021-05-17T10:26:02.412822Z",
     "iopub.status.busy": "2021-05-17T10:26:02.412203Z",
     "iopub.status.idle": "2021-05-17T10:26:02.414493Z",
     "shell.execute_reply": "2021-05-17T10:26:02.414928Z"
    }
   },
   "outputs": [],
   "source": [
    "pYPKa_ZraI  = pYPKa.linearize(ZraI)\n",
    "pYPKa_EcoRV = pYPKa.linearize(EcoRV)"
   ]
  },
  {
   "cell_type": "markdown",
   "metadata": {},
   "source": [
    "The template below comes from a Genbank [record](http://www.ncbi.nlm.nih.gov/nuccore/BK006938.2).\n",
    "Access to Genbank is needed in order to download the template.\n",
    "If you execute this script, change the email address below to your own.\n",
    "Always tell Genbank who you are, when using their web service."
   ]
  },
  {
   "cell_type": "code",
   "execution_count": 5,
   "metadata": {
    "execution": {
     "iopub.execute_input": "2021-05-17T10:26:02.419344Z",
     "iopub.status.busy": "2021-05-17T10:26:02.418840Z",
     "iopub.status.idle": "2021-05-17T10:26:02.422581Z",
     "shell.execute_reply": "2021-05-17T10:26:02.422048Z"
    }
   },
   "outputs": [],
   "source": [
    "gb = Genbank(\"bjornjobb@gmail.com\")"
   ]
  },
  {
   "cell_type": "markdown",
   "metadata": {},
   "source": [
    "The template is downloaded from Genbank below."
   ]
  },
  {
   "cell_type": "code",
   "execution_count": 6,
   "metadata": {
    "execution": {
     "iopub.execute_input": "2021-05-17T10:26:02.427268Z",
     "iopub.status.busy": "2021-05-17T10:26:02.426335Z",
     "iopub.status.idle": "2021-05-17T10:26:02.436067Z",
     "shell.execute_reply": "2021-05-17T10:26:02.435544Z"
    }
   },
   "outputs": [],
   "source": [
    "template = gb.nucleotide(\"BK006938.2 REGION: complement(1013644..1014400)\")"
   ]
  },
  {
   "cell_type": "markdown",
   "metadata": {},
   "source": [
    "The template is a 757 bp linear DNA fragment."
   ]
  },
  {
   "cell_type": "code",
   "execution_count": 7,
   "metadata": {
    "execution": {
     "iopub.execute_input": "2021-05-17T10:26:02.444211Z",
     "iopub.status.busy": "2021-05-17T10:26:02.443486Z",
     "iopub.status.idle": "2021-05-17T10:26:02.446472Z",
     "shell.execute_reply": "2021-05-17T10:26:02.446986Z"
    }
   },
   "outputs": [
    {
     "data": {
      "text/html": [
       "<a href='https://www.ncbi.nlm.nih.gov/nuccore/BK006938.2 ?from=1013644&to=1014400&strand=2' target='_blank'>BK006938.2  1013644-1014400</a>"
      ],
      "text/plain": [
       "Gbank(BK006938.2  1013644-1014400)(-757)"
      ]
     },
     "execution_count": 1,
     "metadata": {},
     "output_type": "execute_result"
    }
   ],
   "source": [
    "template"
   ]
  },
  {
   "cell_type": "markdown",
   "metadata": {},
   "source": [
    "The insert has the sequence shown below."
   ]
  },
  {
   "cell_type": "code",
   "execution_count": 8,
   "metadata": {
    "execution": {
     "iopub.execute_input": "2021-05-17T10:26:02.451292Z",
     "iopub.status.busy": "2021-05-17T10:26:02.450582Z",
     "iopub.status.idle": "2021-05-17T10:26:02.454000Z",
     "shell.execute_reply": "2021-05-17T10:26:02.453402Z"
    }
   },
   "outputs": [
    {
     "name": "stdout",
     "output_type": "stream",
     "text": [
      "AGATACTAAAAAGAAACCTTCCCGATGGTTTTTTTGGAGACTCTTCGATTGTATCAATACTATCCCATGGACATCAGTTTTAATAGAGGAGCTCCAAATTCCCAAGGAATTGAGGAAGAAGCGCCAATGATTTATATATACAAACTAGCTGTTGCAGCTTTATAGAGATTTAGTAATAAGAATTTTATGGGAACGTGGTACCGTTATCGCAGTAAAGAGTCAAGGGTAGCGAAGATCAAACCATACGATGACGAAATACCTTTAGTTCTTAGCATCACCAATCGCAGACATCCAACGTATCCGTGCGCGTAATCCTTCTCTTGGTAGTTGAGCACAGCATACAGAAGAAGCCGCGCGCAAGCGGTAAATGTCTTTCCTCCGGCCTTCTAACCACCAAAACCGATCTCGGAACATGGGGGGGGGAAGGTCCTCTGAATCGAAAAACCCGAGACAGCGAGAGGGATTTTGCAGAAAATTACAAAGATCACTATTTACTGCTCCCCTCACTTCCGCAGTCCCCTAATAGCGGAAGATGCAATGGGTGTGGGCTCTGGGTGCCCTTTAACCACGCCCTCAAAAGGGGGTCCTGGTTATTTTGCGATGGGCGCCTCTATAAATACAAAAGAGGAAGTGAGTGTTTTTGTTTTGGAAGAGGGAAAGGAAAAAAAGAAGAAAATTTACTATCGGTTGTTGTTTTTCGCCAGTATAATACAATTGATTATACATTTTGAACTAAACAGCACAGCACAATACAACA\n"
     ]
    }
   ],
   "source": [
    "print(str(template.seq))"
   ]
  },
  {
   "cell_type": "markdown",
   "metadata": {},
   "source": [
    "The seguid checksum of the template should be\n",
    "\n",
    "```5lnPhj3RjX9Gi08tbSC8xM2HfmU```"
   ]
  },
  {
   "cell_type": "code",
   "execution_count": 9,
   "metadata": {
    "execution": {
     "iopub.execute_input": "2021-05-17T10:26:02.458029Z",
     "iopub.status.busy": "2021-05-17T10:26:02.457443Z",
     "iopub.status.idle": "2021-05-17T10:26:02.460524Z",
     "shell.execute_reply": "2021-05-17T10:26:02.461068Z"
    }
   },
   "outputs": [
    {
     "data": {
      "text/plain": [
       "5lnPhj3RjX9Gi08tbSC8xM2HfmU"
      ]
     },
     "execution_count": 1,
     "metadata": {},
     "output_type": "execute_result"
    }
   ],
   "source": [
    "template.seguid()"
   ]
  },
  {
   "cell_type": "markdown",
   "metadata": {},
   "source": [
    "Two primers are used to amplify the insert:"
   ]
  },
  {
   "cell_type": "code",
   "execution_count": 10,
   "metadata": {
    "execution": {
     "iopub.execute_input": "2021-05-17T10:26:02.465731Z",
     "iopub.status.busy": "2021-05-17T10:26:02.465141Z",
     "iopub.status.idle": "2021-05-17T10:26:02.467984Z",
     "shell.execute_reply": "2021-05-17T10:26:02.467409Z"
    }
   },
   "outputs": [],
   "source": [
    "fp,rp = parse_primers(\"\"\">1036_fw757\n",
    "                         ttaaatAGATACTAAAAAGAAACCTTC\n",
    "                         >1035_rv757\n",
    "                         taattaaTGTTGTATTGTGCTGTG\"\"\")"
   ]
  },
  {
   "cell_type": "markdown",
   "metadata": {},
   "source": [
    "PCR to create the insert using the primers above."
   ]
  },
  {
   "cell_type": "code",
   "execution_count": 11,
   "metadata": {
    "execution": {
     "iopub.execute_input": "2021-05-17T10:26:02.474204Z",
     "iopub.status.busy": "2021-05-17T10:26:02.473614Z",
     "iopub.status.idle": "2021-05-17T10:26:02.478124Z",
     "shell.execute_reply": "2021-05-17T10:26:02.478655Z"
    }
   },
   "outputs": [],
   "source": [
    "prd = pcr(fp, rp, template)\n",
    "assert str(fp.seq) in prd"
   ]
  },
  {
   "cell_type": "markdown",
   "metadata": {},
   "source": [
    "The PCR product has this length in bp."
   ]
  },
  {
   "cell_type": "code",
   "execution_count": 12,
   "metadata": {
    "execution": {
     "iopub.execute_input": "2021-05-17T10:26:02.483358Z",
     "iopub.status.busy": "2021-05-17T10:26:02.482482Z",
     "iopub.status.idle": "2021-05-17T10:26:02.486183Z",
     "shell.execute_reply": "2021-05-17T10:26:02.485594Z"
    }
   },
   "outputs": [
    {
     "data": {
      "text/plain": [
       "770"
      ]
     },
     "execution_count": 1,
     "metadata": {},
     "output_type": "execute_result"
    }
   ],
   "source": [
    "len(prd)"
   ]
  },
  {
   "cell_type": "markdown",
   "metadata": {},
   "source": [
    "A figure of the primers annealing on template."
   ]
  },
  {
   "cell_type": "code",
   "execution_count": 13,
   "metadata": {
    "execution": {
     "iopub.execute_input": "2021-05-17T10:26:02.491104Z",
     "iopub.status.busy": "2021-05-17T10:26:02.490155Z",
     "iopub.status.idle": "2021-05-17T10:26:02.493539Z",
     "shell.execute_reply": "2021-05-17T10:26:02.494157Z"
    }
   },
   "outputs": [
    {
     "data": {
      "text/plain": [
       "      5AGATACTAAAAAGAAACCTTC...CACAGCACAATACAACA3\n",
       "                               |||||||||||||||||\n",
       "                              3GTGTCGTGTTATGTTGTaattaat5\n",
       "5ttaaatAGATACTAAAAAGAAACCTTC3\n",
       "       |||||||||||||||||||||\n",
       "      3TCTATGATTTTTCTTTGGAAG...GTGTCGTGTTATGTTGT5"
      ]
     },
     "execution_count": 1,
     "metadata": {},
     "output_type": "execute_result"
    }
   ],
   "source": [
    "prd.figure()"
   ]
  },
  {
   "cell_type": "markdown",
   "metadata": {},
   "source": [
    "A suggested PCR program."
   ]
  },
  {
   "cell_type": "code",
   "execution_count": 14,
   "metadata": {
    "execution": {
     "iopub.execute_input": "2021-05-17T10:26:02.499703Z",
     "iopub.status.busy": "2021-05-17T10:26:02.498943Z",
     "iopub.status.idle": "2021-05-17T10:26:02.502412Z",
     "shell.execute_reply": "2021-05-17T10:26:02.503005Z"
    }
   },
   "outputs": [
    {
     "data": {
      "text/plain": [
       "|95°C|95°C               |    |tmf:52.3\n",
       "|____|_____          72°C|72°C|tmr:52.9\n",
       "|5min|30s  \\ 54.1°C _____|____|60s/kb\n",
       "|    |      \\______/ 0:46|5min|GC 42%\n",
       "|    |       30s         |    |770bp"
      ]
     },
     "execution_count": 1,
     "metadata": {},
     "output_type": "execute_result"
    }
   ],
   "source": [
    "prd.program()"
   ]
  },
  {
   "cell_type": "markdown",
   "metadata": {},
   "source": [
    "The final vectors are:"
   ]
  },
  {
   "cell_type": "code",
   "execution_count": 15,
   "metadata": {
    "execution": {
     "iopub.execute_input": "2021-05-17T10:26:02.546967Z",
     "iopub.status.busy": "2021-05-17T10:26:02.511046Z",
     "iopub.status.idle": "2021-05-17T10:26:02.970433Z",
     "shell.execute_reply": "2021-05-17T10:26:02.969857Z"
    }
   },
   "outputs": [],
   "source": [
    "pYPKa_Z_PMP3 = (pYPKa_ZraI  + prd).looped().synced(pYPKa)\n",
    "pYPKa_E_PMP3 = (pYPKa_EcoRV + prd).looped().synced(pYPKa)"
   ]
  },
  {
   "cell_type": "markdown",
   "metadata": {},
   "source": [
    "The final vectors with reverse inserts are created below. These vectors theoretically make up\n",
    "fifty percent of the clones. The PCR strategy outlined below can be used to identify clones with the insert\n",
    "in the correct orientation."
   ]
  },
  {
   "cell_type": "code",
   "execution_count": 16,
   "metadata": {
    "execution": {
     "iopub.execute_input": "2021-05-17T10:26:03.002944Z",
     "iopub.status.busy": "2021-05-17T10:26:02.993008Z",
     "iopub.status.idle": "2021-05-17T10:26:03.427983Z",
     "shell.execute_reply": "2021-05-17T10:26:03.427400Z"
    }
   },
   "outputs": [],
   "source": [
    "pYPKa_Z_PMP3b = (pYPKa_ZraI  + prd.rc()).looped().synced(pYPKa)\n",
    "pYPKa_E_PMP3b = (pYPKa_EcoRV + prd.rc()).looped().synced(pYPKa)"
   ]
  },
  {
   "cell_type": "markdown",
   "metadata": {},
   "source": [
    "A combination of yeast pathway kit standard primers and the primers above are\n",
    "used for the strategy to identify correct clones.\n",
    "Standard primers used in the yeast are listed [here](standard_primers.txt)."
   ]
  },
  {
   "cell_type": "code",
   "execution_count": 17,
   "metadata": {
    "execution": {
     "iopub.execute_input": "2021-05-17T10:26:03.432502Z",
     "iopub.status.busy": "2021-05-17T10:26:03.432056Z",
     "iopub.status.idle": "2021-05-17T10:26:03.434907Z",
     "shell.execute_reply": "2021-05-17T10:26:03.435763Z"
    }
   },
   "outputs": [],
   "source": [
    "p = { x.id: x for x in parse_primers(\"\"\">577\n",
    "                                         gttctgatcctcgagcatcttaagaattc\n",
    "                                         >578\n",
    "                                         gttcttgtctcattgccacattcataagt\n",
    "                                         >468\n",
    "                                         gtcgaggaacgccaggttgcccact\n",
    "                                         >467\n",
    "                                         ATTTAAatcctgatgcgtttgtctgcacaga\n",
    "                                         >567\n",
    "                                         GTcggctgcaggtcactagtgag\n",
    "                                         >568\n",
    "                                         GTGCcatctgtgcagacaaacg\n",
    "                                         >775\n",
    "                                         gcggccgctgacTTAAAT\n",
    "                                         >778\n",
    "                                         ggtaaatccggatTAATTAA\n",
    "                                         >342\n",
    "                                         CCTTTTTACGGTTCCTGGCCT\"\"\") }"
   ]
  },
  {
   "cell_type": "markdown",
   "metadata": {},
   "source": [
    "## Diagnostic PCR confirmation\n",
    "\n",
    "The correct structure of pYPKa_Z_PMP3 is confirmed by PCR using standard primers\n",
    "577 and 342 that are vector specific together with the PMP3fw primer specific for the insert\n",
    "in a multiplex PCR reaction with\n",
    "all three primers present.\n",
    "\n",
    "Two PCR products are expected if the insert was cloned, the sizes depend\n",
    "on the orientation. If the vector is empty or contains another insert, only one\n",
    "product is formed.\n",
    "\n",
    "#### Expected PCR products sizes from pYPKa_Z_PMP3:\n",
    "\n",
    "pYPKa_Z_PMP3 with insert in correct orientation."
   ]
  },
  {
   "cell_type": "code",
   "execution_count": 18,
   "metadata": {
    "execution": {
     "iopub.execute_input": "2021-05-17T10:26:03.450002Z",
     "iopub.status.busy": "2021-05-17T10:26:03.449408Z",
     "iopub.status.idle": "2021-05-17T10:26:03.451929Z",
     "shell.execute_reply": "2021-05-17T10:26:03.452354Z"
    }
   },
   "outputs": [
    {
     "data": {
      "text/plain": [
       "[Amplicon(1704), Amplicon(1536)]"
      ]
     },
     "execution_count": 1,
     "metadata": {},
     "output_type": "execute_result"
    }
   ],
   "source": [
    "Anneal( (p['577'], p['342'], fp), pYPKa_Z_PMP3).products"
   ]
  },
  {
   "cell_type": "markdown",
   "metadata": {},
   "source": [
    "pYPKa_Z_PMP3 with insert in reverse orientation."
   ]
  },
  {
   "cell_type": "code",
   "execution_count": 19,
   "metadata": {
    "execution": {
     "iopub.execute_input": "2021-05-17T10:26:03.462404Z",
     "iopub.status.busy": "2021-05-17T10:26:03.461826Z",
     "iopub.status.idle": "2021-05-17T10:26:03.464279Z",
     "shell.execute_reply": "2021-05-17T10:26:03.464695Z"
    }
   },
   "outputs": [
    {
     "data": {
      "text/plain": [
       "[Amplicon(1704), Amplicon(938)]"
      ]
     },
     "execution_count": 1,
     "metadata": {},
     "output_type": "execute_result"
    }
   ],
   "source": [
    "Anneal( (p['577'], p['342'], fp), pYPKa_Z_PMP3b).products"
   ]
  },
  {
   "cell_type": "markdown",
   "metadata": {},
   "source": [
    "Empty pYPKa clone."
   ]
  },
  {
   "cell_type": "code",
   "execution_count": 20,
   "metadata": {
    "execution": {
     "iopub.execute_input": "2021-05-17T10:26:03.474271Z",
     "iopub.status.busy": "2021-05-17T10:26:03.473421Z",
     "iopub.status.idle": "2021-05-17T10:26:03.477275Z",
     "shell.execute_reply": "2021-05-17T10:26:03.476566Z"
    }
   },
   "outputs": [
    {
     "data": {
      "text/plain": [
       "[Amplicon(934)]"
      ]
     },
     "execution_count": 1,
     "metadata": {},
     "output_type": "execute_result"
    }
   ],
   "source": [
    "Anneal( (p['577'], p['342'], fp), pYPKa).products"
   ]
  },
  {
   "cell_type": "markdown",
   "metadata": {},
   "source": [
    "#### Expected PCR products sizes pYPKa_E_PMP3:\n",
    "\n",
    "pYPKa_E_PMP3 with insert in correct orientation."
   ]
  },
  {
   "cell_type": "code",
   "execution_count": 21,
   "metadata": {
    "execution": {
     "iopub.execute_input": "2021-05-17T10:26:03.492721Z",
     "iopub.status.busy": "2021-05-17T10:26:03.490733Z",
     "iopub.status.idle": "2021-05-17T10:26:03.496122Z",
     "shell.execute_reply": "2021-05-17T10:26:03.495491Z"
    }
   },
   "outputs": [
    {
     "data": {
      "text/plain": [
       "[Amplicon(1704), Amplicon(1455)]"
      ]
     },
     "execution_count": 1,
     "metadata": {},
     "output_type": "execute_result"
    }
   ],
   "source": [
    "Anneal( (p['577'], p['342'], fp), pYPKa_E_PMP3).products"
   ]
  },
  {
   "cell_type": "markdown",
   "metadata": {},
   "source": [
    "pYPKa_E_PMP3 with insert in reverse orientation."
   ]
  },
  {
   "cell_type": "code",
   "execution_count": 22,
   "metadata": {
    "execution": {
     "iopub.execute_input": "2021-05-17T10:26:03.507038Z",
     "iopub.status.busy": "2021-05-17T10:26:03.506389Z",
     "iopub.status.idle": "2021-05-17T10:26:03.509283Z",
     "shell.execute_reply": "2021-05-17T10:26:03.508735Z"
    }
   },
   "outputs": [
    {
     "data": {
      "text/plain": [
       "[Amplicon(1704), Amplicon(1019)]"
      ]
     },
     "execution_count": 1,
     "metadata": {},
     "output_type": "execute_result"
    }
   ],
   "source": [
    "Anneal( (p['577'], p['342'], fp), pYPKa_E_PMP3b).products\n"
   ]
  },
  {
   "cell_type": "markdown",
   "metadata": {},
   "source": [
    "Calculate cseguid checksums for the resulting plasmids for future reference.\n",
    "This checksum that uniquely describes a circular double stranded\n",
    "sequence. See this [blog post](https://ochsavidare.blogspot.com/2016/02/checksum-for-circular-biological.html) for more info.\n",
    "\n",
    "pYPKa_Z_PMP3.cseguid() should be MUyGYizOn5qCq4tUBRwJvCwDdZo"
   ]
  },
  {
   "cell_type": "code",
   "execution_count": 23,
   "metadata": {
    "execution": {
     "iopub.execute_input": "2021-05-17T10:26:03.521045Z",
     "iopub.status.busy": "2021-05-17T10:26:03.520283Z",
     "iopub.status.idle": "2021-05-17T10:26:03.523243Z",
     "shell.execute_reply": "2021-05-17T10:26:03.523767Z"
    }
   },
   "outputs": [
    {
     "name": "stdout",
     "output_type": "stream",
     "text": [
      "MUyGYizOn5qCq4tUBRwJvCwDdZo\n"
     ]
    }
   ],
   "source": [
    "print(pYPKa_Z_PMP3.cseguid())\n",
    "assert pYPKa_Z_PMP3.cseguid() == \"MUyGYizOn5qCq4tUBRwJvCwDdZo\""
   ]
  },
  {
   "cell_type": "markdown",
   "metadata": {},
   "source": [
    "pYPKa_E_PMP3.cseguid() should be SQK4nFi-I3GdFg4Y7J7k_ZBc4vA"
   ]
  },
  {
   "cell_type": "code",
   "execution_count": 24,
   "metadata": {
    "execution": {
     "iopub.execute_input": "2021-05-17T10:26:03.538778Z",
     "iopub.status.busy": "2021-05-17T10:26:03.537719Z",
     "iopub.status.idle": "2021-05-17T10:26:03.540657Z",
     "shell.execute_reply": "2021-05-17T10:26:03.541128Z"
    }
   },
   "outputs": [
    {
     "name": "stdout",
     "output_type": "stream",
     "text": [
      "SQK4nFi-I3GdFg4Y7J7k_ZBc4vA\n"
     ]
    }
   ],
   "source": [
    "print(pYPKa_E_PMP3.cseguid())\n",
    "assert pYPKa_E_PMP3.cseguid() == \"SQK4nFi-I3GdFg4Y7J7k_ZBc4vA\""
   ]
  },
  {
   "cell_type": "markdown",
   "metadata": {},
   "source": [
    "The sequences are named based on the name of the cloned insert."
   ]
  },
  {
   "cell_type": "code",
   "execution_count": 25,
   "metadata": {
    "execution": {
     "iopub.execute_input": "2021-05-17T10:26:03.544538Z",
     "iopub.status.busy": "2021-05-17T10:26:03.544095Z",
     "iopub.status.idle": "2021-05-17T10:26:03.546406Z",
     "shell.execute_reply": "2021-05-17T10:26:03.545965Z"
    }
   },
   "outputs": [],
   "source": [
    "pYPKa_Z_PMP3.locus = \"pYPKa_Z_PMP3\"[:16]\n",
    "pYPKa_E_PMP3.locus = \"pYPKa_Z_PMP3\"[:16]"
   ]
  },
  {
   "cell_type": "markdown",
   "metadata": {},
   "source": [
    "Stamp sequence with cseguid checksum. This can be used to verify the\n",
    "integrity of the sequence file."
   ]
  },
  {
   "cell_type": "code",
   "execution_count": 26,
   "metadata": {
    "execution": {
     "iopub.execute_input": "2021-05-17T10:26:03.560323Z",
     "iopub.status.busy": "2021-05-17T10:26:03.559734Z",
     "iopub.status.idle": "2021-05-17T10:26:03.562286Z",
     "shell.execute_reply": "2021-05-17T10:26:03.562706Z"
    }
   },
   "outputs": [
    {
     "data": {
      "text/plain": [
       "cSEGUID_SQK4nFi-I3GdFg4Y7J7k_ZBc4vA"
      ]
     },
     "execution_count": 1,
     "metadata": {},
     "output_type": "execute_result"
    }
   ],
   "source": [
    "pYPKa_Z_PMP3.stamp()\n",
    "pYPKa_E_PMP3.stamp()"
   ]
  },
  {
   "cell_type": "markdown",
   "metadata": {},
   "source": [
    "pYPKa_Z_PMP3 is written to a local file:"
   ]
  },
  {
   "cell_type": "code",
   "execution_count": 27,
   "metadata": {
    "execution": {
     "iopub.execute_input": "2021-05-17T10:26:03.566461Z",
     "iopub.status.busy": "2021-05-17T10:26:03.565663Z",
     "iopub.status.idle": "2021-05-17T10:26:03.574908Z",
     "shell.execute_reply": "2021-05-17T10:26:03.575683Z"
    }
   },
   "outputs": [
    {
     "data": {
      "text/html": [
       "<font face=monospace><a href='pYPKa_Z_PMP3.gb' target='_blank'>pYPKa_Z_PMP3.gb</a></font><br>"
      ]
     },
     "metadata": {},
     "output_type": "display_data"
    }
   ],
   "source": [
    "pYPKa_Z_PMP3.write(\"pYPKa_Z_PMP3.gb\")"
   ]
  },
  {
   "cell_type": "markdown",
   "metadata": {},
   "source": [
    "pYPKa_E_PMP3 is written to a local file:"
   ]
  },
  {
   "cell_type": "code",
   "execution_count": 28,
   "metadata": {
    "execution": {
     "iopub.execute_input": "2021-05-17T10:26:03.583282Z",
     "iopub.status.busy": "2021-05-17T10:26:03.580023Z",
     "iopub.status.idle": "2021-05-17T10:26:03.587241Z",
     "shell.execute_reply": "2021-05-17T10:26:03.587816Z"
    }
   },
   "outputs": [
    {
     "data": {
      "text/html": [
       "<font face=monospace><a href='pYPKa_E_PMP3.gb' target='_blank'>pYPKa_E_PMP3.gb</a></font><br>"
      ]
     },
     "metadata": {},
     "output_type": "display_data"
    }
   ],
   "source": [
    "pYPKa_E_PMP3.write(\"pYPKa_E_PMP3.gb\")"
   ]
  }
 ],
 "metadata": {
  "language_info": {
   "codemirror_mode": {
    "name": "ipython",
    "version": 3
   },
   "file_extension": ".py",
   "mimetype": "text/x-python",
   "name": "python",
   "nbconvert_exporter": "python",
   "pygments_lexer": "ipython3",
   "version": "3.9.0"
  }
 },
 "nbformat": 4,
 "nbformat_minor": 2
}
