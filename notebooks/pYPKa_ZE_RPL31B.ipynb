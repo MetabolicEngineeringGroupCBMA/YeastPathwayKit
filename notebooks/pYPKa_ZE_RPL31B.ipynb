{
 "cells": [
  {
   "cell_type": "markdown",
   "metadata": {},
   "source": [
    "# pYPKa_Z_RPL31B and pYPKa_E_RPL31B\n",
    "\n",
    "This Jupyter notebook describe the construction of E. coli vectors [pYPKa_Z_RPL31B](pYPKa_Z_RPL31B.gb) and [pYPKa_E_RPL31B](pYPKa_E_RPL31B.gb). \n",
    "These two vectors share backbone and insert, but in the former, the insert is cloned using the restriction\n",
    "enzyme [ZraI](http://rebase.neb.com/rebase/enz/ZraI.html) while in the latter [EcoRV](http://rebase.neb.com/rebase/enz/EcoRV.html) is used.\n",
    "\n",
    "The insert cloned in ZraI is meant to function as a promoter, while in the EcoRV site it is meant to be  used as a terminator.\n",
    "\n",
    "Links to the sequence of each vector in Genbank format can be found at the bottom of this document.\n",
    "\n",
    "![pYPKa_Z and pYPKa_E](figure_pYPKa_ZE.png \"pYPKa_Z or pYPKa_E plasmid\")\n",
    "\n",
    "The Python package [pydna](https://pypi.python.org/pypi/pydna/) package is imported in the code cell below to provide \n",
    "the cloning functionality. There is a [publication](http://www.biomedcentral.com/1471-2105/16/142) describing pydna as well as\n",
    "[documentation](http://pydna.readthedocs.io/) available online. Pydna is developed on [Github](https://github.com/BjornFJohansson/pydna)."
   ]
  },
  {
   "cell_type": "code",
   "execution_count": 1,
   "metadata": {
    "execution": {
     "iopub.execute_input": "2021-05-17T10:27:06.999448Z",
     "iopub.status.busy": "2021-05-17T10:27:06.998812Z",
     "iopub.status.idle": "2021-05-17T10:27:07.558480Z",
     "shell.execute_reply": "2021-05-17T10:27:07.557961Z"
    }
   },
   "outputs": [],
   "source": [
    "from pydna.readers import read\n",
    "from pydna.parsers import parse_primers\n",
    "from pydna.genbank import Genbank\n",
    "from pydna.amplify import pcr\n",
    "from pydna.amplify import Anneal"
   ]
  },
  {
   "cell_type": "markdown",
   "metadata": {},
   "source": [
    "The vector backbone pYPKa is read from a local [file](pYPKa.gb)."
   ]
  },
  {
   "cell_type": "code",
   "execution_count": 2,
   "metadata": {
    "execution": {
     "iopub.execute_input": "2021-05-17T10:27:07.569858Z",
     "iopub.status.busy": "2021-05-17T10:27:07.567436Z",
     "iopub.status.idle": "2021-05-17T10:27:07.577998Z",
     "shell.execute_reply": "2021-05-17T10:27:07.578506Z"
    }
   },
   "outputs": [],
   "source": [
    "pYPKa = read(\"pYPKa.gb\")"
   ]
  },
  {
   "cell_type": "markdown",
   "metadata": {},
   "source": [
    "Both restriction enzymes are imported from [Biopython](http://biopython.org/wiki/Main_Page)"
   ]
  },
  {
   "cell_type": "code",
   "execution_count": 3,
   "metadata": {
    "execution": {
     "iopub.execute_input": "2021-05-17T10:27:07.581863Z",
     "iopub.status.busy": "2021-05-17T10:27:07.581364Z",
     "iopub.status.idle": "2021-05-17T10:27:07.583857Z",
     "shell.execute_reply": "2021-05-17T10:27:07.583399Z"
    }
   },
   "outputs": [],
   "source": [
    "from Bio.Restriction import ZraI, EcoRV"
   ]
  },
  {
   "cell_type": "markdown",
   "metadata": {},
   "source": [
    "The vector is cut with both enzymes."
   ]
  },
  {
   "cell_type": "code",
   "execution_count": 4,
   "metadata": {
    "execution": {
     "iopub.execute_input": "2021-05-17T10:27:07.590928Z",
     "iopub.status.busy": "2021-05-17T10:27:07.589562Z",
     "iopub.status.idle": "2021-05-17T10:27:07.593566Z",
     "shell.execute_reply": "2021-05-17T10:27:07.592758Z"
    }
   },
   "outputs": [],
   "source": [
    "pYPKa_ZraI  = pYPKa.linearize(ZraI)\n",
    "pYPKa_EcoRV = pYPKa.linearize(EcoRV)"
   ]
  },
  {
   "cell_type": "markdown",
   "metadata": {},
   "source": [
    "The template below comes from a Genbank [record](http://www.ncbi.nlm.nih.gov/nuccore/BK006945.2).\n",
    "Access to Genbank is needed in order to download the template.\n",
    "If you execute this script, change the email address below to your own.\n",
    "Always tell Genbank who you are, when using their web service."
   ]
  },
  {
   "cell_type": "code",
   "execution_count": 5,
   "metadata": {
    "execution": {
     "iopub.execute_input": "2021-05-17T10:27:07.599121Z",
     "iopub.status.busy": "2021-05-17T10:27:07.598446Z",
     "iopub.status.idle": "2021-05-17T10:27:07.601783Z",
     "shell.execute_reply": "2021-05-17T10:27:07.601062Z"
    }
   },
   "outputs": [],
   "source": [
    "gb = Genbank(\"bjornjobb@gmail.com\")"
   ]
  },
  {
   "cell_type": "markdown",
   "metadata": {},
   "source": [
    "The template is downloaded from Genbank below."
   ]
  },
  {
   "cell_type": "code",
   "execution_count": 6,
   "metadata": {
    "execution": {
     "iopub.execute_input": "2021-05-17T10:27:07.606824Z",
     "iopub.status.busy": "2021-05-17T10:27:07.606257Z",
     "iopub.status.idle": "2021-05-17T10:27:07.627201Z",
     "shell.execute_reply": "2021-05-17T10:27:07.629149Z"
    }
   },
   "outputs": [],
   "source": [
    "template = gb.nucleotide(\"BK006945.2 REGION: complement(931756..932205)\")"
   ]
  },
  {
   "cell_type": "markdown",
   "metadata": {},
   "source": [
    "The template is a 450 bp linear DNA fragment."
   ]
  },
  {
   "cell_type": "code",
   "execution_count": 7,
   "metadata": {
    "execution": {
     "iopub.execute_input": "2021-05-17T10:27:07.637646Z",
     "iopub.status.busy": "2021-05-17T10:27:07.636964Z",
     "iopub.status.idle": "2021-05-17T10:27:07.642236Z",
     "shell.execute_reply": "2021-05-17T10:27:07.644006Z"
    }
   },
   "outputs": [
    {
     "data": {
      "text/html": [
       "<a href='https://www.ncbi.nlm.nih.gov/nuccore/BK006945.2 ?from=931756&to=932205&strand=2' target='_blank'>BK006945.2  931756-932205</a>"
      ],
      "text/plain": [
       "Gbank(BK006945.2  931756-932205)(-450)"
      ]
     },
     "execution_count": 1,
     "metadata": {},
     "output_type": "execute_result"
    }
   ],
   "source": [
    "template"
   ]
  },
  {
   "cell_type": "markdown",
   "metadata": {},
   "source": [
    "The insert has the sequence shown below."
   ]
  },
  {
   "cell_type": "code",
   "execution_count": 8,
   "metadata": {
    "execution": {
     "iopub.execute_input": "2021-05-17T10:27:07.649721Z",
     "iopub.status.busy": "2021-05-17T10:27:07.649200Z",
     "iopub.status.idle": "2021-05-17T10:27:07.651465Z",
     "shell.execute_reply": "2021-05-17T10:27:07.651844Z"
    }
   },
   "outputs": [
    {
     "name": "stdout",
     "output_type": "stream",
     "text": [
      "AGCGCAGCCAGATGCGACAAAAACTTAAAGGCGCGGCTCAGCCTAGATTACGTTCTTTTTCAGGTGATGGTGCCATTTCCGCCCTTCTCGTTAGAGCCGGAACGCAGATGAGCTGCCCTCTGGCGCCCGCGCTCCTCGCCTGGTAAGTTCACTACTAGGCTGGAAGTTGTATGGTGTCCTCTGGGATTGCAAGGGCACGCTAGTTGGATGTGCTCACAATTGGATTGGCACTTCAAATGCCAACTGGAAGGGCGCGAAACCGAGGGTAATGCGACAGAGGGCACTGACGTTGTTTCGTAACCTTGTAAGCTCTTTCTGATGGTAGTGCTTCATGTACATGTTTACTCTATTATTTGACCAGTCTCATTGTTGATAGGTTCCTTAGTTTTACATAGTCTTGGGTCTTAGTATATTTCAATTGCACGAGCAGATAATCCAAAGTACTTGAAA\n"
     ]
    }
   ],
   "source": [
    "print(str(template.seq))"
   ]
  },
  {
   "cell_type": "markdown",
   "metadata": {},
   "source": [
    "The seguid checksum of the template should be\n",
    "\n",
    "```AWeWHVGLDJZMDMKBGrWV44UNLDk```"
   ]
  },
  {
   "cell_type": "code",
   "execution_count": 9,
   "metadata": {
    "execution": {
     "iopub.execute_input": "2021-05-17T10:27:07.655758Z",
     "iopub.status.busy": "2021-05-17T10:27:07.655098Z",
     "iopub.status.idle": "2021-05-17T10:27:07.660635Z",
     "shell.execute_reply": "2021-05-17T10:27:07.662107Z"
    }
   },
   "outputs": [
    {
     "data": {
      "text/plain": [
       "AWeWHVGLDJZMDMKBGrWV44UNLDk"
      ]
     },
     "execution_count": 1,
     "metadata": {},
     "output_type": "execute_result"
    }
   ],
   "source": [
    "template.seguid()"
   ]
  },
  {
   "cell_type": "markdown",
   "metadata": {},
   "source": [
    "Two primers are used to amplify the insert:"
   ]
  },
  {
   "cell_type": "code",
   "execution_count": 10,
   "metadata": {
    "execution": {
     "iopub.execute_input": "2021-05-17T10:27:07.667625Z",
     "iopub.status.busy": "2021-05-17T10:27:07.666728Z",
     "iopub.status.idle": "2021-05-17T10:27:07.669979Z",
     "shell.execute_reply": "2021-05-17T10:27:07.669333Z"
    }
   },
   "outputs": [],
   "source": [
    "fp,rp = parse_primers(\"\"\">848_RPL31Btpf\n",
    "                         ttaaatAGCGCAGCCAGATGCG\n",
    "                         >847_RPL31Btpr\n",
    "                         taattaaTTTCAAGTACTTTGGATTATC\"\"\")"
   ]
  },
  {
   "cell_type": "markdown",
   "metadata": {},
   "source": [
    "PCR to create the insert using the primers above."
   ]
  },
  {
   "cell_type": "code",
   "execution_count": 11,
   "metadata": {
    "execution": {
     "iopub.execute_input": "2021-05-17T10:27:07.675646Z",
     "iopub.status.busy": "2021-05-17T10:27:07.675092Z",
     "iopub.status.idle": "2021-05-17T10:27:07.680001Z",
     "shell.execute_reply": "2021-05-17T10:27:07.679513Z"
    }
   },
   "outputs": [],
   "source": [
    "prd = pcr(fp, rp, template)\n",
    "assert str(fp.seq) in prd"
   ]
  },
  {
   "cell_type": "markdown",
   "metadata": {},
   "source": [
    "The PCR product has this length in bp."
   ]
  },
  {
   "cell_type": "code",
   "execution_count": 12,
   "metadata": {
    "execution": {
     "iopub.execute_input": "2021-05-17T10:27:07.683724Z",
     "iopub.status.busy": "2021-05-17T10:27:07.683089Z",
     "iopub.status.idle": "2021-05-17T10:27:07.685969Z",
     "shell.execute_reply": "2021-05-17T10:27:07.686656Z"
    }
   },
   "outputs": [
    {
     "data": {
      "text/plain": [
       "463"
      ]
     },
     "execution_count": 1,
     "metadata": {},
     "output_type": "execute_result"
    }
   ],
   "source": [
    "len(prd)"
   ]
  },
  {
   "cell_type": "markdown",
   "metadata": {},
   "source": [
    "A figure of the primers annealing on template."
   ]
  },
  {
   "cell_type": "code",
   "execution_count": 13,
   "metadata": {
    "execution": {
     "iopub.execute_input": "2021-05-17T10:27:07.692443Z",
     "iopub.status.busy": "2021-05-17T10:27:07.691383Z",
     "iopub.status.idle": "2021-05-17T10:27:07.695188Z",
     "shell.execute_reply": "2021-05-17T10:27:07.694635Z"
    }
   },
   "outputs": [
    {
     "data": {
      "text/plain": [
       "      5AGCGCAGCCAGATGCG...GATAATCCAAAGTACTTGAAA3\n",
       "                          |||||||||||||||||||||\n",
       "                         3CTATTAGGTTTCATGAACTTTaattaat5\n",
       "5ttaaatAGCGCAGCCAGATGCG3\n",
       "       ||||||||||||||||\n",
       "      3TCGCGTCGGTCTACGC...CTATTAGGTTTCATGAACTTT5"
      ]
     },
     "execution_count": 1,
     "metadata": {},
     "output_type": "execute_result"
    }
   ],
   "source": [
    "prd.figure()"
   ]
  },
  {
   "cell_type": "markdown",
   "metadata": {},
   "source": [
    "A suggested PCR program."
   ]
  },
  {
   "cell_type": "code",
   "execution_count": 14,
   "metadata": {
    "execution": {
     "iopub.execute_input": "2021-05-17T10:27:07.699897Z",
     "iopub.status.busy": "2021-05-17T10:27:07.699302Z",
     "iopub.status.idle": "2021-05-17T10:27:07.702706Z",
     "shell.execute_reply": "2021-05-17T10:27:07.703414Z"
    }
   },
   "outputs": [
    {
     "data": {
      "text/plain": [
       "|95°C|95°C               |    |tmf:65.4\n",
       "|____|_____          72°C|72°C|tmr:52.7\n",
       "|5min|30s  \\ 55.1°C _____|____|60s/kb\n",
       "|    |      \\______/ 0:27|5min|GC 46%\n",
       "|    |       30s         |    |463bp"
      ]
     },
     "execution_count": 1,
     "metadata": {},
     "output_type": "execute_result"
    }
   ],
   "source": [
    "prd.program()"
   ]
  },
  {
   "cell_type": "markdown",
   "metadata": {},
   "source": [
    "The final vectors are:"
   ]
  },
  {
   "cell_type": "code",
   "execution_count": 15,
   "metadata": {
    "execution": {
     "iopub.execute_input": "2021-05-17T10:27:07.748426Z",
     "iopub.status.busy": "2021-05-17T10:27:07.744249Z",
     "iopub.status.idle": "2021-05-17T10:27:08.211464Z",
     "shell.execute_reply": "2021-05-17T10:27:08.210882Z"
    }
   },
   "outputs": [],
   "source": [
    "pYPKa_Z_RPL31B = (pYPKa_ZraI  + prd).looped().synced(pYPKa)\n",
    "pYPKa_E_RPL31B = (pYPKa_EcoRV + prd).looped().synced(pYPKa)"
   ]
  },
  {
   "cell_type": "markdown",
   "metadata": {},
   "source": [
    "The final vectors with reverse inserts are created below. These vectors theoretically make up\n",
    "fifty percent of the clones. The PCR strategy outlined below can be used to identify clones with the insert\n",
    "in the correct orientation."
   ]
  },
  {
   "cell_type": "code",
   "execution_count": 16,
   "metadata": {
    "execution": {
     "iopub.execute_input": "2021-05-17T10:27:08.246759Z",
     "iopub.status.busy": "2021-05-17T10:27:08.246004Z",
     "iopub.status.idle": "2021-05-17T10:27:08.712310Z",
     "shell.execute_reply": "2021-05-17T10:27:08.711235Z"
    }
   },
   "outputs": [],
   "source": [
    "pYPKa_Z_RPL31Bb = (pYPKa_ZraI  + prd.rc()).looped().synced(pYPKa)\n",
    "pYPKa_E_RPL31Bb = (pYPKa_EcoRV + prd.rc()).looped().synced(pYPKa)"
   ]
  },
  {
   "cell_type": "markdown",
   "metadata": {},
   "source": [
    "A combination of yeast pathway kit standard primers and the primers above are\n",
    "used for the strategy to identify correct clones.\n",
    "Standard primers used in the yeast are listed [here](standard_primers.txt)."
   ]
  },
  {
   "cell_type": "code",
   "execution_count": 17,
   "metadata": {
    "execution": {
     "iopub.execute_input": "2021-05-17T10:27:08.718966Z",
     "iopub.status.busy": "2021-05-17T10:27:08.718281Z",
     "iopub.status.idle": "2021-05-17T10:27:08.721352Z",
     "shell.execute_reply": "2021-05-17T10:27:08.720642Z"
    }
   },
   "outputs": [],
   "source": [
    "p = { x.id: x for x in parse_primers(\"\"\">577\n",
    "                                         gttctgatcctcgagcatcttaagaattc\n",
    "                                         >578\n",
    "                                         gttcttgtctcattgccacattcataagt\n",
    "                                         >468\n",
    "                                         gtcgaggaacgccaggttgcccact\n",
    "                                         >467\n",
    "                                         ATTTAAatcctgatgcgtttgtctgcacaga\n",
    "                                         >567\n",
    "                                         GTcggctgcaggtcactagtgag\n",
    "                                         >568\n",
    "                                         GTGCcatctgtgcagacaaacg\n",
    "                                         >775\n",
    "                                         gcggccgctgacTTAAAT\n",
    "                                         >778\n",
    "                                         ggtaaatccggatTAATTAA\n",
    "                                         >342\n",
    "                                         CCTTTTTACGGTTCCTGGCCT\"\"\") }"
   ]
  },
  {
   "cell_type": "markdown",
   "metadata": {},
   "source": [
    "## Diagnostic PCR confirmation\n",
    "\n",
    "The correct structure of pYPKa_Z_RPL31B is confirmed by PCR using standard primers\n",
    "577 and 342 that are vector specific together with the RPL31Bfw primer specific for the insert\n",
    "in a multiplex PCR reaction with\n",
    "all three primers present.\n",
    "\n",
    "Two PCR products are expected if the insert was cloned, the sizes depend\n",
    "on the orientation. If the vector is empty or contains another insert, only one\n",
    "product is formed.\n",
    "\n",
    "#### Expected PCR products sizes from pYPKa_Z_RPL31B:\n",
    "\n",
    "pYPKa_Z_RPL31B with insert in correct orientation."
   ]
  },
  {
   "cell_type": "code",
   "execution_count": 18,
   "metadata": {
    "execution": {
     "iopub.execute_input": "2021-05-17T10:27:08.737874Z",
     "iopub.status.busy": "2021-05-17T10:27:08.737348Z",
     "iopub.status.idle": "2021-05-17T10:27:08.743286Z",
     "shell.execute_reply": "2021-05-17T10:27:08.740233Z"
    }
   },
   "outputs": [
    {
     "data": {
      "text/plain": [
       "[Amplicon(1397), Amplicon(1229)]"
      ]
     },
     "execution_count": 1,
     "metadata": {},
     "output_type": "execute_result"
    }
   ],
   "source": [
    "Anneal( (p['577'], p['342'], fp), pYPKa_Z_RPL31B).products"
   ]
  },
  {
   "cell_type": "markdown",
   "metadata": {},
   "source": [
    "pYPKa_Z_RPL31B with insert in reverse orientation."
   ]
  },
  {
   "cell_type": "code",
   "execution_count": 19,
   "metadata": {
    "execution": {
     "iopub.execute_input": "2021-05-17T10:27:08.762344Z",
     "iopub.status.busy": "2021-05-17T10:27:08.760481Z",
     "iopub.status.idle": "2021-05-17T10:27:08.764423Z",
     "shell.execute_reply": "2021-05-17T10:27:08.764906Z"
    }
   },
   "outputs": [
    {
     "data": {
      "text/plain": [
       "[Amplicon(1397), Amplicon(631)]"
      ]
     },
     "execution_count": 1,
     "metadata": {},
     "output_type": "execute_result"
    }
   ],
   "source": [
    "Anneal( (p['577'], p['342'], fp), pYPKa_Z_RPL31Bb).products"
   ]
  },
  {
   "cell_type": "markdown",
   "metadata": {},
   "source": [
    "Empty pYPKa clone."
   ]
  },
  {
   "cell_type": "code",
   "execution_count": 20,
   "metadata": {
    "execution": {
     "iopub.execute_input": "2021-05-17T10:27:08.773350Z",
     "iopub.status.busy": "2021-05-17T10:27:08.772365Z",
     "iopub.status.idle": "2021-05-17T10:27:08.780612Z",
     "shell.execute_reply": "2021-05-17T10:27:08.780017Z"
    }
   },
   "outputs": [
    {
     "data": {
      "text/plain": [
       "[Amplicon(934)]"
      ]
     },
     "execution_count": 1,
     "metadata": {},
     "output_type": "execute_result"
    }
   ],
   "source": [
    "Anneal( (p['577'], p['342'], fp), pYPKa).products"
   ]
  },
  {
   "cell_type": "markdown",
   "metadata": {},
   "source": [
    "#### Expected PCR products sizes pYPKa_E_RPL31B:\n",
    "\n",
    "pYPKa_E_RPL31B with insert in correct orientation."
   ]
  },
  {
   "cell_type": "code",
   "execution_count": 21,
   "metadata": {
    "execution": {
     "iopub.execute_input": "2021-05-17T10:27:08.796560Z",
     "iopub.status.busy": "2021-05-17T10:27:08.795711Z",
     "iopub.status.idle": "2021-05-17T10:27:08.800107Z",
     "shell.execute_reply": "2021-05-17T10:27:08.799562Z"
    }
   },
   "outputs": [
    {
     "data": {
      "text/plain": [
       "[Amplicon(1397), Amplicon(1148)]"
      ]
     },
     "execution_count": 1,
     "metadata": {},
     "output_type": "execute_result"
    }
   ],
   "source": [
    "Anneal( (p['577'], p['342'], fp), pYPKa_E_RPL31B).products"
   ]
  },
  {
   "cell_type": "markdown",
   "metadata": {},
   "source": [
    "pYPKa_E_RPL31B with insert in reverse orientation."
   ]
  },
  {
   "cell_type": "code",
   "execution_count": 22,
   "metadata": {
    "execution": {
     "iopub.execute_input": "2021-05-17T10:27:08.811693Z",
     "iopub.status.busy": "2021-05-17T10:27:08.810903Z",
     "iopub.status.idle": "2021-05-17T10:27:08.815473Z",
     "shell.execute_reply": "2021-05-17T10:27:08.816085Z"
    }
   },
   "outputs": [
    {
     "data": {
      "text/plain": [
       "[Amplicon(1397), Amplicon(712)]"
      ]
     },
     "execution_count": 1,
     "metadata": {},
     "output_type": "execute_result"
    }
   ],
   "source": [
    "Anneal( (p['577'], p['342'], fp), pYPKa_E_RPL31Bb).products\n"
   ]
  },
  {
   "cell_type": "markdown",
   "metadata": {},
   "source": [
    "Calculate cseguid checksums for the resulting plasmids for future reference.\n",
    "This checksum that uniquely describes a circular double stranded\n",
    "sequence. See this [blog post](https://ochsavidare.blogspot.com/2016/02/checksum-for-circular-biological.html) for more info.\n",
    "\n",
    "pYPKa_Z_RPL31B.cseguid() should be HaavnBm0gAmUNiSW2hJH-on4rGw"
   ]
  },
  {
   "cell_type": "code",
   "execution_count": 23,
   "metadata": {
    "execution": {
     "iopub.execute_input": "2021-05-17T10:27:08.832045Z",
     "iopub.status.busy": "2021-05-17T10:27:08.827475Z",
     "iopub.status.idle": "2021-05-17T10:27:08.834311Z",
     "shell.execute_reply": "2021-05-17T10:27:08.834819Z"
    }
   },
   "outputs": [
    {
     "name": "stdout",
     "output_type": "stream",
     "text": [
      "HaavnBm0gAmUNiSW2hJH-on4rGw\n"
     ]
    }
   ],
   "source": [
    "print(pYPKa_Z_RPL31B.cseguid())\n",
    "assert pYPKa_Z_RPL31B.cseguid() == \"HaavnBm0gAmUNiSW2hJH-on4rGw\""
   ]
  },
  {
   "cell_type": "markdown",
   "metadata": {},
   "source": [
    "pYPKa_E_RPL31B.cseguid() should be Iatq_GB06ybXVNozk5lXrSuYbEU"
   ]
  },
  {
   "cell_type": "code",
   "execution_count": 24,
   "metadata": {
    "execution": {
     "iopub.execute_input": "2021-05-17T10:27:08.846801Z",
     "iopub.status.busy": "2021-05-17T10:27:08.846006Z",
     "iopub.status.idle": "2021-05-17T10:27:08.850093Z",
     "shell.execute_reply": "2021-05-17T10:27:08.849533Z"
    }
   },
   "outputs": [
    {
     "name": "stdout",
     "output_type": "stream",
     "text": [
      "Iatq_GB06ybXVNozk5lXrSuYbEU\n"
     ]
    }
   ],
   "source": [
    "print(pYPKa_E_RPL31B.cseguid())\n",
    "assert pYPKa_E_RPL31B.cseguid() == \"Iatq_GB06ybXVNozk5lXrSuYbEU\""
   ]
  },
  {
   "cell_type": "markdown",
   "metadata": {},
   "source": [
    "The sequences are named based on the name of the cloned insert."
   ]
  },
  {
   "cell_type": "code",
   "execution_count": 25,
   "metadata": {
    "execution": {
     "iopub.execute_input": "2021-05-17T10:27:08.854926Z",
     "iopub.status.busy": "2021-05-17T10:27:08.854180Z",
     "iopub.status.idle": "2021-05-17T10:27:08.856967Z",
     "shell.execute_reply": "2021-05-17T10:27:08.856487Z"
    }
   },
   "outputs": [],
   "source": [
    "pYPKa_Z_RPL31B.locus = \"pYPKa_Z_RPL31B\"[:16]\n",
    "pYPKa_E_RPL31B.locus = \"pYPKa_Z_RPL31B\"[:16]"
   ]
  },
  {
   "cell_type": "markdown",
   "metadata": {},
   "source": [
    "Stamp sequence with cseguid checksum. This can be used to verify the\n",
    "integrity of the sequence file."
   ]
  },
  {
   "cell_type": "code",
   "execution_count": 26,
   "metadata": {
    "execution": {
     "iopub.execute_input": "2021-05-17T10:27:08.869763Z",
     "iopub.status.busy": "2021-05-17T10:27:08.865431Z",
     "iopub.status.idle": "2021-05-17T10:27:08.878741Z",
     "shell.execute_reply": "2021-05-17T10:27:08.876931Z"
    }
   },
   "outputs": [
    {
     "data": {
      "text/plain": [
       "cSEGUID_Iatq_GB06ybXVNozk5lXrSuYbEU"
      ]
     },
     "execution_count": 1,
     "metadata": {},
     "output_type": "execute_result"
    }
   ],
   "source": [
    "pYPKa_Z_RPL31B.stamp()\n",
    "pYPKa_E_RPL31B.stamp()"
   ]
  },
  {
   "cell_type": "markdown",
   "metadata": {},
   "source": [
    "pYPKa_Z_RPL31B is written to a local file:"
   ]
  },
  {
   "cell_type": "code",
   "execution_count": 27,
   "metadata": {
    "execution": {
     "iopub.execute_input": "2021-05-17T10:27:08.887413Z",
     "iopub.status.busy": "2021-05-17T10:27:08.881558Z",
     "iopub.status.idle": "2021-05-17T10:27:08.893663Z",
     "shell.execute_reply": "2021-05-17T10:27:08.894832Z"
    }
   },
   "outputs": [
    {
     "data": {
      "text/html": [
       "<font face=monospace><a href='pYPKa_Z_RPL31B.gb' target='_blank'>pYPKa_Z_RPL31B.gb</a></font><br>"
      ]
     },
     "metadata": {},
     "output_type": "display_data"
    }
   ],
   "source": [
    "pYPKa_Z_RPL31B.write(\"pYPKa_Z_RPL31B.gb\")"
   ]
  },
  {
   "cell_type": "markdown",
   "metadata": {},
   "source": [
    "pYPKa_E_RPL31B is written to a local file:"
   ]
  },
  {
   "cell_type": "code",
   "execution_count": 28,
   "metadata": {
    "execution": {
     "iopub.execute_input": "2021-05-17T10:27:08.899466Z",
     "iopub.status.busy": "2021-05-17T10:27:08.898724Z",
     "iopub.status.idle": "2021-05-17T10:27:08.904661Z",
     "shell.execute_reply": "2021-05-17T10:27:08.904143Z"
    }
   },
   "outputs": [
    {
     "data": {
      "text/html": [
       "<font face=monospace><a href='pYPKa_E_RPL31B.gb' target='_blank'>pYPKa_E_RPL31B.gb</a></font><br>"
      ]
     },
     "metadata": {},
     "output_type": "display_data"
    }
   ],
   "source": [
    "pYPKa_E_RPL31B.write(\"pYPKa_E_RPL31B.gb\")"
   ]
  }
 ],
 "metadata": {
  "language_info": {
   "codemirror_mode": {
    "name": "ipython",
    "version": 3
   },
   "file_extension": ".py",
   "mimetype": "text/x-python",
   "name": "python",
   "nbconvert_exporter": "python",
   "pygments_lexer": "ipython3",
   "version": "3.9.0"
  }
 },
 "nbformat": 4,
 "nbformat_minor": 2
}
