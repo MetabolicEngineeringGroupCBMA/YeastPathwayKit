{
 "cells": [
  {
   "cell_type": "markdown",
   "metadata": {},
   "source": [
    "# pYPKa_Z_TIF35 and pYPKa_E_TIF35\n",
    "\n",
    "This Jupyter notebook describe the construction of E. coli vectors [pYPKa_Z_TIF35](pYPKa_Z_TIF35.gb) and [pYPKa_E_TIF35](pYPKa_E_TIF35.gb). \n",
    "These two vectors share backbone and insert, but in the former, the insert is cloned using the restriction\n",
    "enzyme [ZraI](http://rebase.neb.com/rebase/enz/ZraI.html) while in the latter [EcoRV](http://rebase.neb.com/rebase/enz/EcoRV.html) is used.\n",
    "\n",
    "The insert cloned in ZraI is meant to function as a promoter, while in the EcoRV site it is meant to be  used as a terminator.\n",
    "\n",
    "Links to the sequence of each vector in Genbank format can be found at the bottom of this document.\n",
    "\n",
    "![pYPKa_Z and pYPKa_E](figure_pYPKa_ZE.png \"pYPKa_Z or pYPKa_E plasmid\")\n",
    "\n",
    "The Python package [pydna](https://pypi.python.org/pypi/pydna/) package is imported in the code cell below to provide \n",
    "the cloning functionality. There is a [publication](http://www.biomedcentral.com/1471-2105/16/142) describing pydna as well as\n",
    "[documentation](http://pydna.readthedocs.io/) available online. Pydna is developed on [Github](https://github.com/BjornFJohansson/pydna)."
   ]
  },
  {
   "cell_type": "code",
   "execution_count": 1,
   "metadata": {
    "execution": {
     "iopub.execute_input": "2021-05-17T10:28:11.311206Z",
     "iopub.status.busy": "2021-05-17T10:28:11.309365Z",
     "iopub.status.idle": "2021-05-17T10:28:11.975033Z",
     "shell.execute_reply": "2021-05-17T10:28:11.973196Z"
    }
   },
   "outputs": [],
   "source": [
    "from pydna.readers import read\n",
    "from pydna.parsers import parse_primers\n",
    "from pydna.genbank import Genbank\n",
    "from pydna.amplify import pcr\n",
    "from pydna.amplify import Anneal"
   ]
  },
  {
   "cell_type": "markdown",
   "metadata": {},
   "source": [
    "The vector backbone pYPKa is read from a local [file](pYPKa.gb)."
   ]
  },
  {
   "cell_type": "code",
   "execution_count": 2,
   "metadata": {
    "execution": {
     "iopub.execute_input": "2021-05-17T10:28:11.986640Z",
     "iopub.status.busy": "2021-05-17T10:28:11.985791Z",
     "iopub.status.idle": "2021-05-17T10:28:11.998669Z",
     "shell.execute_reply": "2021-05-17T10:28:11.998080Z"
    }
   },
   "outputs": [],
   "source": [
    "pYPKa = read(\"pYPKa.gb\")"
   ]
  },
  {
   "cell_type": "markdown",
   "metadata": {},
   "source": [
    "Both restriction enzymes are imported from [Biopython](http://biopython.org/wiki/Main_Page)"
   ]
  },
  {
   "cell_type": "code",
   "execution_count": 3,
   "metadata": {
    "execution": {
     "iopub.execute_input": "2021-05-17T10:28:12.002808Z",
     "iopub.status.busy": "2021-05-17T10:28:12.002362Z",
     "iopub.status.idle": "2021-05-17T10:28:12.004387Z",
     "shell.execute_reply": "2021-05-17T10:28:12.004883Z"
    }
   },
   "outputs": [],
   "source": [
    "from Bio.Restriction import ZraI, EcoRV"
   ]
  },
  {
   "cell_type": "markdown",
   "metadata": {},
   "source": [
    "The vector is cut with both enzymes."
   ]
  },
  {
   "cell_type": "code",
   "execution_count": 4,
   "metadata": {
    "execution": {
     "iopub.execute_input": "2021-05-17T10:28:12.014716Z",
     "iopub.status.busy": "2021-05-17T10:28:12.014141Z",
     "iopub.status.idle": "2021-05-17T10:28:12.018298Z",
     "shell.execute_reply": "2021-05-17T10:28:12.017628Z"
    }
   },
   "outputs": [],
   "source": [
    "pYPKa_ZraI  = pYPKa.linearize(ZraI)\n",
    "pYPKa_EcoRV = pYPKa.linearize(EcoRV)"
   ]
  },
  {
   "cell_type": "markdown",
   "metadata": {},
   "source": [
    "The template below comes from a Genbank [record](http://www.ncbi.nlm.nih.gov/nuccore/BK006938.2).\n",
    "Access to Genbank is needed in order to download the template.\n",
    "If you execute this script, change the email address below to your own.\n",
    "Always tell Genbank who you are, when using their web service."
   ]
  },
  {
   "cell_type": "code",
   "execution_count": 5,
   "metadata": {
    "execution": {
     "iopub.execute_input": "2021-05-17T10:28:12.022506Z",
     "iopub.status.busy": "2021-05-17T10:28:12.022043Z",
     "iopub.status.idle": "2021-05-17T10:28:12.026040Z",
     "shell.execute_reply": "2021-05-17T10:28:12.025582Z"
    }
   },
   "outputs": [],
   "source": [
    "gb = Genbank(\"bjornjobb@gmail.com\")"
   ]
  },
  {
   "cell_type": "markdown",
   "metadata": {},
   "source": [
    "The template is downloaded from Genbank below."
   ]
  },
  {
   "cell_type": "code",
   "execution_count": 6,
   "metadata": {
    "execution": {
     "iopub.execute_input": "2021-05-17T10:28:12.032775Z",
     "iopub.status.busy": "2021-05-17T10:28:12.031629Z",
     "iopub.status.idle": "2021-05-17T10:28:12.042274Z",
     "shell.execute_reply": "2021-05-17T10:28:12.042684Z"
    }
   },
   "outputs": [],
   "source": [
    "template = gb.nucleotide(\"BK006938.2 REGION: complement(1325302..1325500)\")"
   ]
  },
  {
   "cell_type": "markdown",
   "metadata": {},
   "source": [
    "The template is a 199 bp linear DNA fragment."
   ]
  },
  {
   "cell_type": "code",
   "execution_count": 7,
   "metadata": {
    "execution": {
     "iopub.execute_input": "2021-05-17T10:28:12.059665Z",
     "iopub.status.busy": "2021-05-17T10:28:12.051227Z",
     "iopub.status.idle": "2021-05-17T10:28:12.065062Z",
     "shell.execute_reply": "2021-05-17T10:28:12.064540Z"
    }
   },
   "outputs": [
    {
     "data": {
      "text/html": [
       "<a href='https://www.ncbi.nlm.nih.gov/nuccore/BK006938.2 ?from=1325302&to=1325500&strand=2' target='_blank'>BK006938.2  1325302-1325500</a>"
      ],
      "text/plain": [
       "Gbank(BK006938.2  1325302-1325500)(-199)"
      ]
     },
     "execution_count": 1,
     "metadata": {},
     "output_type": "execute_result"
    }
   ],
   "source": [
    "template"
   ]
  },
  {
   "cell_type": "markdown",
   "metadata": {},
   "source": [
    "The insert has the sequence shown below."
   ]
  },
  {
   "cell_type": "code",
   "execution_count": 8,
   "metadata": {
    "execution": {
     "iopub.execute_input": "2021-05-17T10:28:12.070115Z",
     "iopub.status.busy": "2021-05-17T10:28:12.069446Z",
     "iopub.status.idle": "2021-05-17T10:28:12.072125Z",
     "shell.execute_reply": "2021-05-17T10:28:12.072580Z"
    }
   },
   "outputs": [
    {
     "name": "stdout",
     "output_type": "stream",
     "text": [
      "ATATATAATTTAATCCTGTAAATATACTGCTTCAAAGTTTCTTGCCGATCTATACTCATCGCTTGTAACGAAGTTAAAATTTTTTTCTTTCACTGAGTGTGGAAAGTGAAAAATTATCACGATGGCAAAAGAGAGGGAAGAGAAGCCCTAGTTACTCGCTGTATTGAAAGGATCAAAAGACCAAAGACCACCAGGAATA\n"
     ]
    }
   ],
   "source": [
    "print(str(template.seq))"
   ]
  },
  {
   "cell_type": "markdown",
   "metadata": {},
   "source": [
    "The seguid checksum of the template should be\n",
    "\n",
    "```XziTeUcoH9y8hdPCqmEa-eA7R_I```"
   ]
  },
  {
   "cell_type": "code",
   "execution_count": 9,
   "metadata": {
    "execution": {
     "iopub.execute_input": "2021-05-17T10:28:12.078484Z",
     "iopub.status.busy": "2021-05-17T10:28:12.077638Z",
     "iopub.status.idle": "2021-05-17T10:28:12.082151Z",
     "shell.execute_reply": "2021-05-17T10:28:12.081369Z"
    }
   },
   "outputs": [
    {
     "data": {
      "text/plain": [
       "XziTeUcoH9y8hdPCqmEa-eA7R_I"
      ]
     },
     "execution_count": 1,
     "metadata": {},
     "output_type": "execute_result"
    }
   ],
   "source": [
    "template.seguid()"
   ]
  },
  {
   "cell_type": "markdown",
   "metadata": {},
   "source": [
    "Two primers are used to amplify the insert:"
   ]
  },
  {
   "cell_type": "code",
   "execution_count": 10,
   "metadata": {
    "execution": {
     "iopub.execute_input": "2021-05-17T10:28:12.088323Z",
     "iopub.status.busy": "2021-05-17T10:28:12.087507Z",
     "iopub.status.idle": "2021-05-17T10:28:12.090254Z",
     "shell.execute_reply": "2021-05-17T10:28:12.091646Z"
    }
   },
   "outputs": [],
   "source": [
    "fp,rp = parse_primers(\"\"\">1004_fw199\n",
    "                         ttaaatATATATAATTTAATCCTGTAAAT\n",
    "                         >1003_rv199\n",
    "                         taattaaTATTCCTGGTGGTCTT\"\"\")"
   ]
  },
  {
   "cell_type": "markdown",
   "metadata": {},
   "source": [
    "PCR to create the insert using the primers above."
   ]
  },
  {
   "cell_type": "code",
   "execution_count": 11,
   "metadata": {
    "execution": {
     "iopub.execute_input": "2021-05-17T10:28:12.098061Z",
     "iopub.status.busy": "2021-05-17T10:28:12.097374Z",
     "iopub.status.idle": "2021-05-17T10:28:12.103864Z",
     "shell.execute_reply": "2021-05-17T10:28:12.104408Z"
    }
   },
   "outputs": [],
   "source": [
    "prd = pcr(fp, rp, template)\n",
    "assert str(fp.seq) in prd"
   ]
  },
  {
   "cell_type": "markdown",
   "metadata": {},
   "source": [
    "The PCR product has this length in bp."
   ]
  },
  {
   "cell_type": "code",
   "execution_count": 12,
   "metadata": {
    "execution": {
     "iopub.execute_input": "2021-05-17T10:28:12.110221Z",
     "iopub.status.busy": "2021-05-17T10:28:12.108247Z",
     "iopub.status.idle": "2021-05-17T10:28:12.112642Z",
     "shell.execute_reply": "2021-05-17T10:28:12.113159Z"
    }
   },
   "outputs": [
    {
     "data": {
      "text/plain": [
       "212"
      ]
     },
     "execution_count": 1,
     "metadata": {},
     "output_type": "execute_result"
    }
   ],
   "source": [
    "len(prd)"
   ]
  },
  {
   "cell_type": "markdown",
   "metadata": {},
   "source": [
    "A figure of the primers annealing on template."
   ]
  },
  {
   "cell_type": "code",
   "execution_count": 13,
   "metadata": {
    "execution": {
     "iopub.execute_input": "2021-05-17T10:28:12.118130Z",
     "iopub.status.busy": "2021-05-17T10:28:12.117561Z",
     "iopub.status.idle": "2021-05-17T10:28:12.120598Z",
     "shell.execute_reply": "2021-05-17T10:28:12.120130Z"
    }
   },
   "outputs": [
    {
     "data": {
      "text/plain": [
       "      5ATATATAATTTAATCCTGTAAAT...AAGACCACCAGGAATA3\n",
       "                                 ||||||||||||||||\n",
       "                                3TTCTGGTGGTCCTTATaattaat5\n",
       "5ttaaatATATATAATTTAATCCTGTAAAT3\n",
       "       |||||||||||||||||||||||\n",
       "      3TATATATTAAATTAGGACATTTA...TTCTGGTGGTCCTTAT5"
      ]
     },
     "execution_count": 1,
     "metadata": {},
     "output_type": "execute_result"
    }
   ],
   "source": [
    "prd.figure()"
   ]
  },
  {
   "cell_type": "markdown",
   "metadata": {},
   "source": [
    "A suggested PCR program."
   ]
  },
  {
   "cell_type": "code",
   "execution_count": 14,
   "metadata": {
    "execution": {
     "iopub.execute_input": "2021-05-17T10:28:12.129641Z",
     "iopub.status.busy": "2021-05-17T10:28:12.128645Z",
     "iopub.status.idle": "2021-05-17T10:28:12.140458Z",
     "shell.execute_reply": "2021-05-17T10:28:12.141940Z"
    }
   },
   "outputs": [
    {
     "data": {
      "text/plain": [
       "|95°C|95°C               |    |tmf:48.9\n",
       "|____|_____          72°C|72°C|tmr:54.0\n",
       "|5min|30s  \\ 49.0°C _____|____|60s/kb\n",
       "|    |      \\______/ 0:12|5min|GC 33%\n",
       "|    |       30s         |    |212bp"
      ]
     },
     "execution_count": 1,
     "metadata": {},
     "output_type": "execute_result"
    }
   ],
   "source": [
    "prd.program()"
   ]
  },
  {
   "cell_type": "markdown",
   "metadata": {},
   "source": [
    "The final vectors are:"
   ]
  },
  {
   "cell_type": "code",
   "execution_count": 15,
   "metadata": {
    "execution": {
     "iopub.execute_input": "2021-05-17T10:28:12.213567Z",
     "iopub.status.busy": "2021-05-17T10:28:12.177103Z",
     "iopub.status.idle": "2021-05-17T10:28:12.652610Z",
     "shell.execute_reply": "2021-05-17T10:28:12.653113Z"
    }
   },
   "outputs": [],
   "source": [
    "pYPKa_Z_TIF35 = (pYPKa_ZraI  + prd).looped().synced(pYPKa)\n",
    "pYPKa_E_TIF35 = (pYPKa_EcoRV + prd).looped().synced(pYPKa)"
   ]
  },
  {
   "cell_type": "markdown",
   "metadata": {},
   "source": [
    "The final vectors with reverse inserts are created below. These vectors theoretically make up\n",
    "fifty percent of the clones. The PCR strategy outlined below can be used to identify clones with the insert\n",
    "in the correct orientation."
   ]
  },
  {
   "cell_type": "code",
   "execution_count": 16,
   "metadata": {
    "execution": {
     "iopub.execute_input": "2021-05-17T10:28:12.667493Z",
     "iopub.status.busy": "2021-05-17T10:28:12.667055Z",
     "iopub.status.idle": "2021-05-17T10:28:13.137269Z",
     "shell.execute_reply": "2021-05-17T10:28:13.136699Z"
    }
   },
   "outputs": [],
   "source": [
    "pYPKa_Z_TIF35b = (pYPKa_ZraI  + prd.rc()).looped().synced(pYPKa)\n",
    "pYPKa_E_TIF35b = (pYPKa_EcoRV + prd.rc()).looped().synced(pYPKa)"
   ]
  },
  {
   "cell_type": "markdown",
   "metadata": {},
   "source": [
    "A combination of yeast pathway kit standard primers and the primers above are\n",
    "used for the strategy to identify correct clones.\n",
    "Standard primers used in the yeast are listed [here](standard_primers.txt)."
   ]
  },
  {
   "cell_type": "code",
   "execution_count": 17,
   "metadata": {
    "execution": {
     "iopub.execute_input": "2021-05-17T10:28:13.142430Z",
     "iopub.status.busy": "2021-05-17T10:28:13.141891Z",
     "iopub.status.idle": "2021-05-17T10:28:13.145262Z",
     "shell.execute_reply": "2021-05-17T10:28:13.144315Z"
    }
   },
   "outputs": [],
   "source": [
    "p = { x.id: x for x in parse_primers(\"\"\">577\n",
    "                                         gttctgatcctcgagcatcttaagaattc\n",
    "                                         >578\n",
    "                                         gttcttgtctcattgccacattcataagt\n",
    "                                         >468\n",
    "                                         gtcgaggaacgccaggttgcccact\n",
    "                                         >467\n",
    "                                         ATTTAAatcctgatgcgtttgtctgcacaga\n",
    "                                         >567\n",
    "                                         GTcggctgcaggtcactagtgag\n",
    "                                         >568\n",
    "                                         GTGCcatctgtgcagacaaacg\n",
    "                                         >775\n",
    "                                         gcggccgctgacTTAAAT\n",
    "                                         >778\n",
    "                                         ggtaaatccggatTAATTAA\n",
    "                                         >342\n",
    "                                         CCTTTTTACGGTTCCTGGCCT\"\"\") }"
   ]
  },
  {
   "cell_type": "markdown",
   "metadata": {},
   "source": [
    "## Diagnostic PCR confirmation\n",
    "\n",
    "The correct structure of pYPKa_Z_TIF35 is confirmed by PCR using standard primers\n",
    "577 and 342 that are vector specific together with the TIF35fw primer specific for the insert\n",
    "in a multiplex PCR reaction with\n",
    "all three primers present.\n",
    "\n",
    "Two PCR products are expected if the insert was cloned, the sizes depend\n",
    "on the orientation. If the vector is empty or contains another insert, only one\n",
    "product is formed.\n",
    "\n",
    "#### Expected PCR products sizes from pYPKa_Z_TIF35:\n",
    "\n",
    "pYPKa_Z_TIF35 with insert in correct orientation."
   ]
  },
  {
   "cell_type": "code",
   "execution_count": 18,
   "metadata": {
    "execution": {
     "iopub.execute_input": "2021-05-17T10:28:13.157901Z",
     "iopub.status.busy": "2021-05-17T10:28:13.157121Z",
     "iopub.status.idle": "2021-05-17T10:28:13.160044Z",
     "shell.execute_reply": "2021-05-17T10:28:13.160603Z"
    }
   },
   "outputs": [
    {
     "data": {
      "text/plain": [
       "[Amplicon(1146), Amplicon(978)]"
      ]
     },
     "execution_count": 1,
     "metadata": {},
     "output_type": "execute_result"
    }
   ],
   "source": [
    "Anneal( (p['577'], p['342'], fp), pYPKa_Z_TIF35).products"
   ]
  },
  {
   "cell_type": "markdown",
   "metadata": {},
   "source": [
    "pYPKa_Z_TIF35 with insert in reverse orientation."
   ]
  },
  {
   "cell_type": "code",
   "execution_count": 19,
   "metadata": {
    "execution": {
     "iopub.execute_input": "2021-05-17T10:28:13.170462Z",
     "iopub.status.busy": "2021-05-17T10:28:13.169998Z",
     "iopub.status.idle": "2021-05-17T10:28:13.172564Z",
     "shell.execute_reply": "2021-05-17T10:28:13.173105Z"
    }
   },
   "outputs": [
    {
     "data": {
      "text/plain": [
       "[Amplicon(1146), Amplicon(380)]"
      ]
     },
     "execution_count": 1,
     "metadata": {},
     "output_type": "execute_result"
    }
   ],
   "source": [
    "Anneal( (p['577'], p['342'], fp), pYPKa_Z_TIF35b).products"
   ]
  },
  {
   "cell_type": "markdown",
   "metadata": {},
   "source": [
    "Empty pYPKa clone."
   ]
  },
  {
   "cell_type": "code",
   "execution_count": 20,
   "metadata": {
    "execution": {
     "iopub.execute_input": "2021-05-17T10:28:13.183238Z",
     "iopub.status.busy": "2021-05-17T10:28:13.182313Z",
     "iopub.status.idle": "2021-05-17T10:28:13.185420Z",
     "shell.execute_reply": "2021-05-17T10:28:13.185928Z"
    }
   },
   "outputs": [
    {
     "data": {
      "text/plain": [
       "[Amplicon(934)]"
      ]
     },
     "execution_count": 1,
     "metadata": {},
     "output_type": "execute_result"
    }
   ],
   "source": [
    "Anneal( (p['577'], p['342'], fp), pYPKa).products"
   ]
  },
  {
   "cell_type": "markdown",
   "metadata": {},
   "source": [
    "#### Expected PCR products sizes pYPKa_E_TIF35:\n",
    "\n",
    "pYPKa_E_TIF35 with insert in correct orientation."
   ]
  },
  {
   "cell_type": "code",
   "execution_count": 21,
   "metadata": {
    "execution": {
     "iopub.execute_input": "2021-05-17T10:28:13.198079Z",
     "iopub.status.busy": "2021-05-17T10:28:13.197305Z",
     "iopub.status.idle": "2021-05-17T10:28:13.201631Z",
     "shell.execute_reply": "2021-05-17T10:28:13.202106Z"
    }
   },
   "outputs": [
    {
     "data": {
      "text/plain": [
       "[Amplicon(1146), Amplicon(897)]"
      ]
     },
     "execution_count": 1,
     "metadata": {},
     "output_type": "execute_result"
    }
   ],
   "source": [
    "Anneal( (p['577'], p['342'], fp), pYPKa_E_TIF35).products"
   ]
  },
  {
   "cell_type": "markdown",
   "metadata": {},
   "source": [
    "pYPKa_E_TIF35 with insert in reverse orientation."
   ]
  },
  {
   "cell_type": "code",
   "execution_count": 22,
   "metadata": {
    "execution": {
     "iopub.execute_input": "2021-05-17T10:28:13.214354Z",
     "iopub.status.busy": "2021-05-17T10:28:13.213445Z",
     "iopub.status.idle": "2021-05-17T10:28:13.218079Z",
     "shell.execute_reply": "2021-05-17T10:28:13.218574Z"
    }
   },
   "outputs": [
    {
     "data": {
      "text/plain": [
       "[Amplicon(1146), Amplicon(461)]"
      ]
     },
     "execution_count": 1,
     "metadata": {},
     "output_type": "execute_result"
    }
   ],
   "source": [
    "Anneal( (p['577'], p['342'], fp), pYPKa_E_TIF35b).products\n"
   ]
  },
  {
   "cell_type": "markdown",
   "metadata": {},
   "source": [
    "Calculate cseguid checksums for the resulting plasmids for future reference.\n",
    "This checksum that uniquely describes a circular double stranded\n",
    "sequence. See this [blog post](https://ochsavidare.blogspot.com/2016/02/checksum-for-circular-biological.html) for more info.\n",
    "\n",
    "pYPKa_Z_TIF35.cseguid() should be Z3N_I3dy6AnDeiGhssrbKiuOjKg"
   ]
  },
  {
   "cell_type": "code",
   "execution_count": 23,
   "metadata": {
    "execution": {
     "iopub.execute_input": "2021-05-17T10:28:13.234422Z",
     "iopub.status.busy": "2021-05-17T10:28:13.231825Z",
     "iopub.status.idle": "2021-05-17T10:28:13.236664Z",
     "shell.execute_reply": "2021-05-17T10:28:13.237404Z"
    }
   },
   "outputs": [
    {
     "name": "stdout",
     "output_type": "stream",
     "text": [
      "Z3N_I3dy6AnDeiGhssrbKiuOjKg\n"
     ]
    }
   ],
   "source": [
    "print(pYPKa_Z_TIF35.cseguid())\n",
    "assert pYPKa_Z_TIF35.cseguid() == \"Z3N_I3dy6AnDeiGhssrbKiuOjKg\""
   ]
  },
  {
   "cell_type": "markdown",
   "metadata": {},
   "source": [
    "pYPKa_E_TIF35.cseguid() should be l81j0k2_rIMTlOHG75c01PrHdVk"
   ]
  },
  {
   "cell_type": "code",
   "execution_count": 24,
   "metadata": {
    "execution": {
     "iopub.execute_input": "2021-05-17T10:28:13.248448Z",
     "iopub.status.busy": "2021-05-17T10:28:13.247161Z",
     "iopub.status.idle": "2021-05-17T10:28:13.250190Z",
     "shell.execute_reply": "2021-05-17T10:28:13.249724Z"
    }
   },
   "outputs": [
    {
     "name": "stdout",
     "output_type": "stream",
     "text": [
      "l81j0k2_rIMTlOHG75c01PrHdVk\n"
     ]
    }
   ],
   "source": [
    "print(pYPKa_E_TIF35.cseguid())\n",
    "assert pYPKa_E_TIF35.cseguid() == \"l81j0k2_rIMTlOHG75c01PrHdVk\""
   ]
  },
  {
   "cell_type": "markdown",
   "metadata": {},
   "source": [
    "The sequences are named based on the name of the cloned insert."
   ]
  },
  {
   "cell_type": "code",
   "execution_count": 25,
   "metadata": {
    "execution": {
     "iopub.execute_input": "2021-05-17T10:28:13.253654Z",
     "iopub.status.busy": "2021-05-17T10:28:13.253137Z",
     "iopub.status.idle": "2021-05-17T10:28:13.254961Z",
     "shell.execute_reply": "2021-05-17T10:28:13.255444Z"
    }
   },
   "outputs": [],
   "source": [
    "pYPKa_Z_TIF35.locus = \"pYPKa_Z_TIF35\"[:16]\n",
    "pYPKa_E_TIF35.locus = \"pYPKa_Z_TIF35\"[:16]"
   ]
  },
  {
   "cell_type": "markdown",
   "metadata": {},
   "source": [
    "Stamp sequence with cseguid checksum. This can be used to verify the\n",
    "integrity of the sequence file."
   ]
  },
  {
   "cell_type": "code",
   "execution_count": 26,
   "metadata": {
    "execution": {
     "iopub.execute_input": "2021-05-17T10:28:13.268490Z",
     "iopub.status.busy": "2021-05-17T10:28:13.267734Z",
     "iopub.status.idle": "2021-05-17T10:28:13.270778Z",
     "shell.execute_reply": "2021-05-17T10:28:13.271231Z"
    }
   },
   "outputs": [
    {
     "data": {
      "text/plain": [
       "cSEGUID_l81j0k2_rIMTlOHG75c01PrHdVk"
      ]
     },
     "execution_count": 1,
     "metadata": {},
     "output_type": "execute_result"
    }
   ],
   "source": [
    "pYPKa_Z_TIF35.stamp()\n",
    "pYPKa_E_TIF35.stamp()"
   ]
  },
  {
   "cell_type": "markdown",
   "metadata": {},
   "source": [
    "pYPKa_Z_TIF35 is written to a local file:"
   ]
  },
  {
   "cell_type": "code",
   "execution_count": 27,
   "metadata": {
    "execution": {
     "iopub.execute_input": "2021-05-17T10:28:13.278089Z",
     "iopub.status.busy": "2021-05-17T10:28:13.277373Z",
     "iopub.status.idle": "2021-05-17T10:28:13.283247Z",
     "shell.execute_reply": "2021-05-17T10:28:13.283641Z"
    }
   },
   "outputs": [
    {
     "data": {
      "text/html": [
       "<font face=monospace><a href='pYPKa_Z_TIF35.gb' target='_blank'>pYPKa_Z_TIF35.gb</a></font><br>"
      ]
     },
     "metadata": {},
     "output_type": "display_data"
    }
   ],
   "source": [
    "pYPKa_Z_TIF35.write(\"pYPKa_Z_TIF35.gb\")"
   ]
  },
  {
   "cell_type": "markdown",
   "metadata": {},
   "source": [
    "pYPKa_E_TIF35 is written to a local file:"
   ]
  },
  {
   "cell_type": "code",
   "execution_count": 28,
   "metadata": {
    "execution": {
     "iopub.execute_input": "2021-05-17T10:28:13.289357Z",
     "iopub.status.busy": "2021-05-17T10:28:13.288364Z",
     "iopub.status.idle": "2021-05-17T10:28:13.293809Z",
     "shell.execute_reply": "2021-05-17T10:28:13.292984Z"
    }
   },
   "outputs": [
    {
     "data": {
      "text/html": [
       "<font face=monospace><a href='pYPKa_E_TIF35.gb' target='_blank'>pYPKa_E_TIF35.gb</a></font><br>"
      ]
     },
     "metadata": {},
     "output_type": "display_data"
    }
   ],
   "source": [
    "pYPKa_E_TIF35.write(\"pYPKa_E_TIF35.gb\")"
   ]
  }
 ],
 "metadata": {
  "language_info": {
   "codemirror_mode": {
    "name": "ipython",
    "version": 3
   },
   "file_extension": ".py",
   "mimetype": "text/x-python",
   "name": "python",
   "nbconvert_exporter": "python",
   "pygments_lexer": "ipython3",
   "version": "3.9.0"
  }
 },
 "nbformat": 4,
 "nbformat_minor": 2
}
