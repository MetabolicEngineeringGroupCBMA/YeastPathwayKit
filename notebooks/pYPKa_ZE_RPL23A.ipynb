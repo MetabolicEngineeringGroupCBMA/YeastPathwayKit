{
 "cells": [
  {
   "cell_type": "markdown",
   "metadata": {},
   "source": [
    "# pYPKa_Z_RPL23A and pYPKa_E_RPL23A\n",
    "\n",
    "This Jupyter notebook describe the construction of E. coli vectors [pYPKa_Z_RPL23A](pYPKa_Z_RPL23A.gb) and [pYPKa_E_RPL23A](pYPKa_E_RPL23A.gb). \n",
    "These two vectors share backbone and insert, but in the former, the insert is cloned using the restriction\n",
    "enzyme [ZraI](http://rebase.neb.com/rebase/enz/ZraI.html) while in the latter [EcoRV](http://rebase.neb.com/rebase/enz/EcoRV.html) is used.\n",
    "\n",
    "The insert cloned in ZraI is meant to function as a promoter, while in the EcoRV site it is meant to be  used as a terminator.\n",
    "\n",
    "Links to the sequence of each vector in Genbank format can be found at the bottom of this document.\n",
    "\n",
    "![pYPKa_Z and pYPKa_E](figure_pYPKa_ZE.png \"pYPKa_Z or pYPKa_E plasmid\")\n",
    "\n",
    "The Python package [pydna](https://pypi.python.org/pypi/pydna/) package is imported in the code cell below to provide \n",
    "the cloning functionality. There is a [publication](http://www.biomedcentral.com/1471-2105/16/142) describing pydna as well as\n",
    "[documentation](http://pydna.readthedocs.io/) available online. Pydna is developed on [Github](https://github.com/BjornFJohansson/pydna)."
   ]
  },
  {
   "cell_type": "code",
   "execution_count": 1,
   "metadata": {
    "execution": {
     "iopub.execute_input": "2021-05-17T10:26:57.561153Z",
     "iopub.status.busy": "2021-05-17T10:26:57.560640Z",
     "iopub.status.idle": "2021-05-17T10:26:58.297759Z",
     "shell.execute_reply": "2021-05-17T10:26:58.298476Z"
    }
   },
   "outputs": [],
   "source": [
    "from pydna.readers import read\n",
    "from pydna.parsers import parse_primers\n",
    "from pydna.genbank import Genbank\n",
    "from pydna.amplify import pcr\n",
    "from pydna.amplify import Anneal"
   ]
  },
  {
   "cell_type": "markdown",
   "metadata": {},
   "source": [
    "The vector backbone pYPKa is read from a local [file](pYPKa.gb)."
   ]
  },
  {
   "cell_type": "code",
   "execution_count": 2,
   "metadata": {
    "execution": {
     "iopub.execute_input": "2021-05-17T10:26:58.307500Z",
     "iopub.status.busy": "2021-05-17T10:26:58.306380Z",
     "iopub.status.idle": "2021-05-17T10:26:58.322734Z",
     "shell.execute_reply": "2021-05-17T10:26:58.324780Z"
    }
   },
   "outputs": [],
   "source": [
    "pYPKa = read(\"pYPKa.gb\")"
   ]
  },
  {
   "cell_type": "markdown",
   "metadata": {},
   "source": [
    "Both restriction enzymes are imported from [Biopython](http://biopython.org/wiki/Main_Page)"
   ]
  },
  {
   "cell_type": "code",
   "execution_count": 3,
   "metadata": {
    "execution": {
     "iopub.execute_input": "2021-05-17T10:26:58.333099Z",
     "iopub.status.busy": "2021-05-17T10:26:58.332369Z",
     "iopub.status.idle": "2021-05-17T10:26:58.334142Z",
     "shell.execute_reply": "2021-05-17T10:26:58.334719Z"
    }
   },
   "outputs": [],
   "source": [
    "from Bio.Restriction import ZraI, EcoRV"
   ]
  },
  {
   "cell_type": "markdown",
   "metadata": {},
   "source": [
    "The vector is cut with both enzymes."
   ]
  },
  {
   "cell_type": "code",
   "execution_count": 4,
   "metadata": {
    "execution": {
     "iopub.execute_input": "2021-05-17T10:26:58.344258Z",
     "iopub.status.busy": "2021-05-17T10:26:58.343048Z",
     "iopub.status.idle": "2021-05-17T10:26:58.349147Z",
     "shell.execute_reply": "2021-05-17T10:26:58.348584Z"
    }
   },
   "outputs": [],
   "source": [
    "pYPKa_ZraI  = pYPKa.linearize(ZraI)\n",
    "pYPKa_EcoRV = pYPKa.linearize(EcoRV)"
   ]
  },
  {
   "cell_type": "markdown",
   "metadata": {},
   "source": [
    "The template below comes from a Genbank [record](http://www.ncbi.nlm.nih.gov/nuccore/BK006936.2).\n",
    "Access to Genbank is needed in order to download the template.\n",
    "If you execute this script, change the email address below to your own.\n",
    "Always tell Genbank who you are, when using their web service."
   ]
  },
  {
   "cell_type": "code",
   "execution_count": 5,
   "metadata": {
    "execution": {
     "iopub.execute_input": "2021-05-17T10:26:58.354211Z",
     "iopub.status.busy": "2021-05-17T10:26:58.353629Z",
     "iopub.status.idle": "2021-05-17T10:26:58.356634Z",
     "shell.execute_reply": "2021-05-17T10:26:58.355764Z"
    }
   },
   "outputs": [],
   "source": [
    "gb = Genbank(\"bjornjobb@gmail.com\")"
   ]
  },
  {
   "cell_type": "markdown",
   "metadata": {},
   "source": [
    "The template is downloaded from Genbank below."
   ]
  },
  {
   "cell_type": "code",
   "execution_count": 6,
   "metadata": {
    "execution": {
     "iopub.execute_input": "2021-05-17T10:26:58.365326Z",
     "iopub.status.busy": "2021-05-17T10:26:58.364805Z",
     "iopub.status.idle": "2021-05-17T10:26:58.372545Z",
     "shell.execute_reply": "2021-05-17T10:26:58.372042Z"
    }
   },
   "outputs": [],
   "source": [
    "template = gb.nucleotide(\"BK006936.2 REGION: complement(60740..61201)\")"
   ]
  },
  {
   "cell_type": "markdown",
   "metadata": {},
   "source": [
    "The template is a 462 bp linear DNA fragment."
   ]
  },
  {
   "cell_type": "code",
   "execution_count": 7,
   "metadata": {
    "execution": {
     "iopub.execute_input": "2021-05-17T10:26:58.386195Z",
     "iopub.status.busy": "2021-05-17T10:26:58.385654Z",
     "iopub.status.idle": "2021-05-17T10:26:58.388317Z",
     "shell.execute_reply": "2021-05-17T10:26:58.388790Z"
    }
   },
   "outputs": [
    {
     "data": {
      "text/html": [
       "<a href='https://www.ncbi.nlm.nih.gov/nuccore/BK006936.2 ?from=60740&to=61201&strand=2' target='_blank'>BK006936.2  60740-61201</a>"
      ],
      "text/plain": [
       "Gbank(BK006936.2  60740-61201)(-462)"
      ]
     },
     "execution_count": 1,
     "metadata": {},
     "output_type": "execute_result"
    }
   ],
   "source": [
    "template"
   ]
  },
  {
   "cell_type": "markdown",
   "metadata": {},
   "source": [
    "The insert has the sequence shown below."
   ]
  },
  {
   "cell_type": "code",
   "execution_count": 8,
   "metadata": {
    "execution": {
     "iopub.execute_input": "2021-05-17T10:26:58.396813Z",
     "iopub.status.busy": "2021-05-17T10:26:58.396234Z",
     "iopub.status.idle": "2021-05-17T10:26:58.399368Z",
     "shell.execute_reply": "2021-05-17T10:26:58.399919Z"
    }
   },
   "outputs": [
    {
     "name": "stdout",
     "output_type": "stream",
     "text": [
      "AATATTTGTATTGTTTTATGTAATTATAATCTTAAGCTTGCAATACCAATCACTATTACCATGTTAATGATCCCCCAGATAAAAAGACAAGACAGAGCATATATCAGACTACATTAACATCTGTACACCCCCAACTGCTTTGAAAAACCCATGCAGTTATTATTTTCAACAGACCAAGTTTTTTTATCGCTTATCCGGCTCACAGAACGAGCCGTACAACCGTCATCAGACTTGCATGGAAATGTTGAAAAAGAGGTAAAAAAGAAAATATCAAACCCAAACACGCTCGGGCTGAAAAATTAATATGGCAGGAAACGAACTGTAGCCATAATGTACCTGTTCCCGCTAATAGTAATACCATCGTATTGCTAAGGTTAGTAGCTAAAAATCTCTTACTTTCTTTATTTTGACTCTTAGGTCTTACAAGCAATACAAAACCAACACACCTATATATAACTAATA\n"
     ]
    }
   ],
   "source": [
    "print(str(template.seq))"
   ]
  },
  {
   "cell_type": "markdown",
   "metadata": {},
   "source": [
    "The seguid checksum of the template should be\n",
    "\n",
    "```shwZ7rDfTgAgGn66m7m-Ouj7QMo```"
   ]
  },
  {
   "cell_type": "code",
   "execution_count": 9,
   "metadata": {
    "execution": {
     "iopub.execute_input": "2021-05-17T10:26:58.404482Z",
     "iopub.status.busy": "2021-05-17T10:26:58.403626Z",
     "iopub.status.idle": "2021-05-17T10:26:58.412387Z",
     "shell.execute_reply": "2021-05-17T10:26:58.410792Z"
    }
   },
   "outputs": [
    {
     "data": {
      "text/plain": [
       "shwZ7rDfTgAgGn66m7m-Ouj7QMo"
      ]
     },
     "execution_count": 1,
     "metadata": {},
     "output_type": "execute_result"
    }
   ],
   "source": [
    "template.seguid()"
   ]
  },
  {
   "cell_type": "markdown",
   "metadata": {},
   "source": [
    "Two primers are used to amplify the insert:"
   ]
  },
  {
   "cell_type": "code",
   "execution_count": 10,
   "metadata": {
    "execution": {
     "iopub.execute_input": "2021-05-17T10:26:58.417953Z",
     "iopub.status.busy": "2021-05-17T10:26:58.417023Z",
     "iopub.status.idle": "2021-05-17T10:26:58.419869Z",
     "shell.execute_reply": "2021-05-17T10:26:58.419322Z"
    }
   },
   "outputs": [],
   "source": [
    "fp,rp = parse_primers(\"\"\">854_RPL23Atpf\n",
    "                         ttaaatAATATTTGTATTGTTTTATG\n",
    "                         >853_RPL23Atpr\n",
    "                         taattaaTATTAGTTATATATAGGTGTGT\"\"\")"
   ]
  },
  {
   "cell_type": "markdown",
   "metadata": {},
   "source": [
    "PCR to create the insert using the primers above."
   ]
  },
  {
   "cell_type": "code",
   "execution_count": 11,
   "metadata": {
    "execution": {
     "iopub.execute_input": "2021-05-17T10:26:58.430453Z",
     "iopub.status.busy": "2021-05-17T10:26:58.429343Z",
     "iopub.status.idle": "2021-05-17T10:26:58.435381Z",
     "shell.execute_reply": "2021-05-17T10:26:58.435956Z"
    }
   },
   "outputs": [],
   "source": [
    "prd = pcr(fp, rp, template)\n",
    "assert str(fp.seq) in prd"
   ]
  },
  {
   "cell_type": "markdown",
   "metadata": {},
   "source": [
    "The PCR product has this length in bp."
   ]
  },
  {
   "cell_type": "code",
   "execution_count": 12,
   "metadata": {
    "execution": {
     "iopub.execute_input": "2021-05-17T10:26:58.439746Z",
     "iopub.status.busy": "2021-05-17T10:26:58.439025Z",
     "iopub.status.idle": "2021-05-17T10:26:58.447231Z",
     "shell.execute_reply": "2021-05-17T10:26:58.446612Z"
    }
   },
   "outputs": [
    {
     "data": {
      "text/plain": [
       "475"
      ]
     },
     "execution_count": 1,
     "metadata": {},
     "output_type": "execute_result"
    }
   ],
   "source": [
    "len(prd)"
   ]
  },
  {
   "cell_type": "markdown",
   "metadata": {},
   "source": [
    "A figure of the primers annealing on template."
   ]
  },
  {
   "cell_type": "code",
   "execution_count": 13,
   "metadata": {
    "execution": {
     "iopub.execute_input": "2021-05-17T10:26:58.451761Z",
     "iopub.status.busy": "2021-05-17T10:26:58.451093Z",
     "iopub.status.idle": "2021-05-17T10:26:58.454341Z",
     "shell.execute_reply": "2021-05-17T10:26:58.454785Z"
    }
   },
   "outputs": [
    {
     "data": {
      "text/plain": [
       "      5AATATTTGTATTGTTTTATG...ACACACCTATATATAACTAATA3\n",
       "                              ||||||||||||||||||||||\n",
       "                             3TGTGTGGATATATATTGATTATaattaat5\n",
       "5ttaaatAATATTTGTATTGTTTTATG3\n",
       "       ||||||||||||||||||||\n",
       "      3TTATAAACATAACAAAATAC...TGTGTGGATATATATTGATTAT5"
      ]
     },
     "execution_count": 1,
     "metadata": {},
     "output_type": "execute_result"
    }
   ],
   "source": [
    "prd.figure()"
   ]
  },
  {
   "cell_type": "markdown",
   "metadata": {},
   "source": [
    "A suggested PCR program."
   ]
  },
  {
   "cell_type": "code",
   "execution_count": 14,
   "metadata": {
    "execution": {
     "iopub.execute_input": "2021-05-17T10:26:58.463270Z",
     "iopub.status.busy": "2021-05-17T10:26:58.462726Z",
     "iopub.status.idle": "2021-05-17T10:26:58.465238Z",
     "shell.execute_reply": "2021-05-17T10:26:58.465654Z"
    }
   },
   "outputs": [
    {
     "data": {
      "text/plain": [
       "|95°C|95°C               |    |tmf:45.3\n",
       "|____|_____          72°C|72°C|tmr:52.2\n",
       "|5min|30s  \\ 49.3°C _____|____|60s/kb\n",
       "|    |      \\______/ 0:28|5min|GC 33%\n",
       "|    |       30s         |    |475bp"
      ]
     },
     "execution_count": 1,
     "metadata": {},
     "output_type": "execute_result"
    }
   ],
   "source": [
    "prd.program()"
   ]
  },
  {
   "cell_type": "markdown",
   "metadata": {},
   "source": [
    "The final vectors are:"
   ]
  },
  {
   "cell_type": "code",
   "execution_count": 15,
   "metadata": {
    "execution": {
     "iopub.execute_input": "2021-05-17T10:26:58.534756Z",
     "iopub.status.busy": "2021-05-17T10:26:58.503883Z",
     "iopub.status.idle": "2021-05-17T10:26:58.922087Z",
     "shell.execute_reply": "2021-05-17T10:26:58.921496Z"
    }
   },
   "outputs": [],
   "source": [
    "pYPKa_Z_RPL23A = (pYPKa_ZraI  + prd).looped().synced(pYPKa)\n",
    "pYPKa_E_RPL23A = (pYPKa_EcoRV + prd).looped().synced(pYPKa)"
   ]
  },
  {
   "cell_type": "markdown",
   "metadata": {},
   "source": [
    "The final vectors with reverse inserts are created below. These vectors theoretically make up\n",
    "fifty percent of the clones. The PCR strategy outlined below can be used to identify clones with the insert\n",
    "in the correct orientation."
   ]
  },
  {
   "cell_type": "code",
   "execution_count": 16,
   "metadata": {
    "execution": {
     "iopub.execute_input": "2021-05-17T10:26:58.934652Z",
     "iopub.status.busy": "2021-05-17T10:26:58.929964Z",
     "iopub.status.idle": "2021-05-17T10:26:59.452848Z",
     "shell.execute_reply": "2021-05-17T10:26:59.452222Z"
    }
   },
   "outputs": [],
   "source": [
    "pYPKa_Z_RPL23Ab = (pYPKa_ZraI  + prd.rc()).looped().synced(pYPKa)\n",
    "pYPKa_E_RPL23Ab = (pYPKa_EcoRV + prd.rc()).looped().synced(pYPKa)"
   ]
  },
  {
   "cell_type": "markdown",
   "metadata": {},
   "source": [
    "A combination of yeast pathway kit standard primers and the primers above are\n",
    "used for the strategy to identify correct clones.\n",
    "Standard primers used in the yeast are listed [here](standard_primers.txt)."
   ]
  },
  {
   "cell_type": "code",
   "execution_count": 17,
   "metadata": {
    "execution": {
     "iopub.execute_input": "2021-05-17T10:26:59.460161Z",
     "iopub.status.busy": "2021-05-17T10:26:59.457356Z",
     "iopub.status.idle": "2021-05-17T10:26:59.464305Z",
     "shell.execute_reply": "2021-05-17T10:26:59.464926Z"
    }
   },
   "outputs": [],
   "source": [
    "p = { x.id: x for x in parse_primers(\"\"\">577\n",
    "                                         gttctgatcctcgagcatcttaagaattc\n",
    "                                         >578\n",
    "                                         gttcttgtctcattgccacattcataagt\n",
    "                                         >468\n",
    "                                         gtcgaggaacgccaggttgcccact\n",
    "                                         >467\n",
    "                                         ATTTAAatcctgatgcgtttgtctgcacaga\n",
    "                                         >567\n",
    "                                         GTcggctgcaggtcactagtgag\n",
    "                                         >568\n",
    "                                         GTGCcatctgtgcagacaaacg\n",
    "                                         >775\n",
    "                                         gcggccgctgacTTAAAT\n",
    "                                         >778\n",
    "                                         ggtaaatccggatTAATTAA\n",
    "                                         >342\n",
    "                                         CCTTTTTACGGTTCCTGGCCT\"\"\") }"
   ]
  },
  {
   "cell_type": "markdown",
   "metadata": {},
   "source": [
    "## Diagnostic PCR confirmation\n",
    "\n",
    "The correct structure of pYPKa_Z_RPL23A is confirmed by PCR using standard primers\n",
    "577 and 342 that are vector specific together with the RPL23Afw primer specific for the insert\n",
    "in a multiplex PCR reaction with\n",
    "all three primers present.\n",
    "\n",
    "Two PCR products are expected if the insert was cloned, the sizes depend\n",
    "on the orientation. If the vector is empty or contains another insert, only one\n",
    "product is formed.\n",
    "\n",
    "#### Expected PCR products sizes from pYPKa_Z_RPL23A:\n",
    "\n",
    "pYPKa_Z_RPL23A with insert in correct orientation."
   ]
  },
  {
   "cell_type": "code",
   "execution_count": 18,
   "metadata": {
    "execution": {
     "iopub.execute_input": "2021-05-17T10:26:59.483139Z",
     "iopub.status.busy": "2021-05-17T10:26:59.482610Z",
     "iopub.status.idle": "2021-05-17T10:26:59.485379Z",
     "shell.execute_reply": "2021-05-17T10:26:59.485869Z"
    }
   },
   "outputs": [
    {
     "data": {
      "text/plain": [
       "[Amplicon(1409), Amplicon(1241)]"
      ]
     },
     "execution_count": 1,
     "metadata": {},
     "output_type": "execute_result"
    }
   ],
   "source": [
    "Anneal( (p['577'], p['342'], fp), pYPKa_Z_RPL23A).products"
   ]
  },
  {
   "cell_type": "markdown",
   "metadata": {},
   "source": [
    "pYPKa_Z_RPL23A with insert in reverse orientation."
   ]
  },
  {
   "cell_type": "code",
   "execution_count": 19,
   "metadata": {
    "execution": {
     "iopub.execute_input": "2021-05-17T10:26:59.501924Z",
     "iopub.status.busy": "2021-05-17T10:26:59.501385Z",
     "iopub.status.idle": "2021-05-17T10:26:59.503893Z",
     "shell.execute_reply": "2021-05-17T10:26:59.504228Z"
    }
   },
   "outputs": [
    {
     "data": {
      "text/plain": [
       "[Amplicon(1409), Amplicon(643)]"
      ]
     },
     "execution_count": 1,
     "metadata": {},
     "output_type": "execute_result"
    }
   ],
   "source": [
    "Anneal( (p['577'], p['342'], fp), pYPKa_Z_RPL23Ab).products"
   ]
  },
  {
   "cell_type": "markdown",
   "metadata": {},
   "source": [
    "Empty pYPKa clone."
   ]
  },
  {
   "cell_type": "code",
   "execution_count": 20,
   "metadata": {
    "execution": {
     "iopub.execute_input": "2021-05-17T10:26:59.516808Z",
     "iopub.status.busy": "2021-05-17T10:26:59.516062Z",
     "iopub.status.idle": "2021-05-17T10:26:59.519436Z",
     "shell.execute_reply": "2021-05-17T10:26:59.518912Z"
    }
   },
   "outputs": [
    {
     "data": {
      "text/plain": [
       "[Amplicon(934)]"
      ]
     },
     "execution_count": 1,
     "metadata": {},
     "output_type": "execute_result"
    }
   ],
   "source": [
    "Anneal( (p['577'], p['342'], fp), pYPKa).products"
   ]
  },
  {
   "cell_type": "markdown",
   "metadata": {},
   "source": [
    "#### Expected PCR products sizes pYPKa_E_RPL23A:\n",
    "\n",
    "pYPKa_E_RPL23A with insert in correct orientation."
   ]
  },
  {
   "cell_type": "code",
   "execution_count": 21,
   "metadata": {
    "execution": {
     "iopub.execute_input": "2021-05-17T10:26:59.535820Z",
     "iopub.status.busy": "2021-05-17T10:26:59.535322Z",
     "iopub.status.idle": "2021-05-17T10:26:59.537938Z",
     "shell.execute_reply": "2021-05-17T10:26:59.538432Z"
    }
   },
   "outputs": [
    {
     "data": {
      "text/plain": [
       "[Amplicon(1409), Amplicon(1160)]"
      ]
     },
     "execution_count": 1,
     "metadata": {},
     "output_type": "execute_result"
    }
   ],
   "source": [
    "Anneal( (p['577'], p['342'], fp), pYPKa_E_RPL23A).products"
   ]
  },
  {
   "cell_type": "markdown",
   "metadata": {},
   "source": [
    "pYPKa_E_RPL23A with insert in reverse orientation."
   ]
  },
  {
   "cell_type": "code",
   "execution_count": 22,
   "metadata": {
    "execution": {
     "iopub.execute_input": "2021-05-17T10:26:59.552784Z",
     "iopub.status.busy": "2021-05-17T10:26:59.547903Z",
     "iopub.status.idle": "2021-05-17T10:26:59.563489Z",
     "shell.execute_reply": "2021-05-17T10:26:59.564050Z"
    }
   },
   "outputs": [
    {
     "data": {
      "text/plain": [
       "[Amplicon(1409), Amplicon(724)]"
      ]
     },
     "execution_count": 1,
     "metadata": {},
     "output_type": "execute_result"
    }
   ],
   "source": [
    "Anneal( (p['577'], p['342'], fp), pYPKa_E_RPL23Ab).products\n"
   ]
  },
  {
   "cell_type": "markdown",
   "metadata": {},
   "source": [
    "Calculate cseguid checksums for the resulting plasmids for future reference.\n",
    "This checksum that uniquely describes a circular double stranded\n",
    "sequence. See this [blog post](https://ochsavidare.blogspot.com/2016/02/checksum-for-circular-biological.html) for more info.\n",
    "\n",
    "pYPKa_Z_RPL23A.cseguid() should be ylvW4EhtRYPiWj8JPCnH-UArOcM"
   ]
  },
  {
   "cell_type": "code",
   "execution_count": 23,
   "metadata": {
    "execution": {
     "iopub.execute_input": "2021-05-17T10:26:59.579863Z",
     "iopub.status.busy": "2021-05-17T10:26:59.579296Z",
     "iopub.status.idle": "2021-05-17T10:26:59.582236Z",
     "shell.execute_reply": "2021-05-17T10:26:59.581634Z"
    }
   },
   "outputs": [
    {
     "name": "stdout",
     "output_type": "stream",
     "text": [
      "ylvW4EhtRYPiWj8JPCnH-UArOcM\n"
     ]
    }
   ],
   "source": [
    "print(pYPKa_Z_RPL23A.cseguid())\n",
    "assert pYPKa_Z_RPL23A.cseguid() == \"ylvW4EhtRYPiWj8JPCnH-UArOcM\""
   ]
  },
  {
   "cell_type": "markdown",
   "metadata": {},
   "source": [
    "pYPKa_E_RPL23A.cseguid() should be SC934Y2aS7VNS4n4q2WikROuyVc"
   ]
  },
  {
   "cell_type": "code",
   "execution_count": 24,
   "metadata": {
    "execution": {
     "iopub.execute_input": "2021-05-17T10:26:59.597239Z",
     "iopub.status.busy": "2021-05-17T10:26:59.596512Z",
     "iopub.status.idle": "2021-05-17T10:26:59.599702Z",
     "shell.execute_reply": "2021-05-17T10:26:59.599232Z"
    }
   },
   "outputs": [
    {
     "name": "stdout",
     "output_type": "stream",
     "text": [
      "SC934Y2aS7VNS4n4q2WikROuyVc\n"
     ]
    }
   ],
   "source": [
    "print(pYPKa_E_RPL23A.cseguid())\n",
    "assert pYPKa_E_RPL23A.cseguid() == \"SC934Y2aS7VNS4n4q2WikROuyVc\""
   ]
  },
  {
   "cell_type": "markdown",
   "metadata": {},
   "source": [
    "The sequences are named based on the name of the cloned insert."
   ]
  },
  {
   "cell_type": "code",
   "execution_count": 25,
   "metadata": {
    "execution": {
     "iopub.execute_input": "2021-05-17T10:26:59.603129Z",
     "iopub.status.busy": "2021-05-17T10:26:59.602654Z",
     "iopub.status.idle": "2021-05-17T10:26:59.605539Z",
     "shell.execute_reply": "2021-05-17T10:26:59.604952Z"
    }
   },
   "outputs": [],
   "source": [
    "pYPKa_Z_RPL23A.locus = \"pYPKa_Z_RPL23A\"[:16]\n",
    "pYPKa_E_RPL23A.locus = \"pYPKa_Z_RPL23A\"[:16]"
   ]
  },
  {
   "cell_type": "markdown",
   "metadata": {},
   "source": [
    "Stamp sequence with cseguid checksum. This can be used to verify the\n",
    "integrity of the sequence file."
   ]
  },
  {
   "cell_type": "code",
   "execution_count": 26,
   "metadata": {
    "execution": {
     "iopub.execute_input": "2021-05-17T10:26:59.622117Z",
     "iopub.status.busy": "2021-05-17T10:26:59.621465Z",
     "iopub.status.idle": "2021-05-17T10:26:59.629366Z",
     "shell.execute_reply": "2021-05-17T10:26:59.629776Z"
    }
   },
   "outputs": [
    {
     "data": {
      "text/plain": [
       "cSEGUID_SC934Y2aS7VNS4n4q2WikROuyVc"
      ]
     },
     "execution_count": 1,
     "metadata": {},
     "output_type": "execute_result"
    }
   ],
   "source": [
    "pYPKa_Z_RPL23A.stamp()\n",
    "pYPKa_E_RPL23A.stamp()"
   ]
  },
  {
   "cell_type": "markdown",
   "metadata": {},
   "source": [
    "pYPKa_Z_RPL23A is written to a local file:"
   ]
  },
  {
   "cell_type": "code",
   "execution_count": 27,
   "metadata": {
    "execution": {
     "iopub.execute_input": "2021-05-17T10:26:59.635877Z",
     "iopub.status.busy": "2021-05-17T10:26:59.635363Z",
     "iopub.status.idle": "2021-05-17T10:26:59.639359Z",
     "shell.execute_reply": "2021-05-17T10:26:59.640030Z"
    }
   },
   "outputs": [
    {
     "data": {
      "text/html": [
       "<font face=monospace><a href='pYPKa_Z_RPL23A.gb' target='_blank'>pYPKa_Z_RPL23A.gb</a></font><br>"
      ]
     },
     "metadata": {},
     "output_type": "display_data"
    }
   ],
   "source": [
    "pYPKa_Z_RPL23A.write(\"pYPKa_Z_RPL23A.gb\")"
   ]
  },
  {
   "cell_type": "markdown",
   "metadata": {},
   "source": [
    "pYPKa_E_RPL23A is written to a local file:"
   ]
  },
  {
   "cell_type": "code",
   "execution_count": 28,
   "metadata": {
    "execution": {
     "iopub.execute_input": "2021-05-17T10:26:59.648259Z",
     "iopub.status.busy": "2021-05-17T10:26:59.647724Z",
     "iopub.status.idle": "2021-05-17T10:26:59.653390Z",
     "shell.execute_reply": "2021-05-17T10:26:59.653888Z"
    }
   },
   "outputs": [
    {
     "data": {
      "text/html": [
       "<font face=monospace><a href='pYPKa_E_RPL23A.gb' target='_blank'>pYPKa_E_RPL23A.gb</a></font><br>"
      ]
     },
     "metadata": {},
     "output_type": "display_data"
    }
   ],
   "source": [
    "pYPKa_E_RPL23A.write(\"pYPKa_E_RPL23A.gb\")"
   ]
  }
 ],
 "metadata": {
  "language_info": {
   "codemirror_mode": {
    "name": "ipython",
    "version": 3
   },
   "file_extension": ".py",
   "mimetype": "text/x-python",
   "name": "python",
   "nbconvert_exporter": "python",
   "pygments_lexer": "ipython3",
   "version": "3.9.0"
  }
 },
 "nbformat": 4,
 "nbformat_minor": 2
}
