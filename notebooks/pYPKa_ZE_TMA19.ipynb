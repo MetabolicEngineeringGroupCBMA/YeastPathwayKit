{
 "cells": [
  {
   "cell_type": "markdown",
   "metadata": {},
   "source": [
    "# pYPKa_Z_TMA19 and pYPKa_E_TMA19\n",
    "\n",
    "This Jupyter notebook describe the construction of E. coli vectors [pYPKa_Z_TMA19](pYPKa_Z_TMA19.gb) and [pYPKa_E_TMA19](pYPKa_E_TMA19.gb). \n",
    "These two vectors share backbone and insert, but in the former, the insert is cloned using the restriction\n",
    "enzyme [ZraI](http://rebase.neb.com/rebase/enz/ZraI.html) while in the latter [EcoRV](http://rebase.neb.com/rebase/enz/EcoRV.html) is used.\n",
    "\n",
    "The insert cloned in ZraI is meant to function as a promoter, while in the EcoRV site it is meant to be  used as a terminator.\n",
    "\n",
    "Links to the sequence of each vector in Genbank format can be found at the bottom of this document.\n",
    "\n",
    "![pYPKa_Z and pYPKa_E](figure_pYPKa_ZE.png \"pYPKa_Z or pYPKa_E plasmid\")\n",
    "\n",
    "The Python package [pydna](https://pypi.python.org/pypi/pydna/) package is imported in the code cell below to provide \n",
    "the cloning functionality. There is a [publication](http://www.biomedcentral.com/1471-2105/16/142) describing pydna as well as\n",
    "[documentation](http://pydna.readthedocs.io/) available online. Pydna is developed on [Github](https://github.com/BjornFJohansson/pydna)."
   ]
  },
  {
   "cell_type": "code",
   "execution_count": 1,
   "metadata": {
    "execution": {
     "iopub.execute_input": "2021-05-17T10:28:16.244366Z",
     "iopub.status.busy": "2021-05-17T10:28:16.243439Z",
     "iopub.status.idle": "2021-05-17T10:28:16.856900Z",
     "shell.execute_reply": "2021-05-17T10:28:16.856359Z"
    }
   },
   "outputs": [],
   "source": [
    "from pydna.readers import read\n",
    "from pydna.parsers import parse_primers\n",
    "from pydna.genbank import Genbank\n",
    "from pydna.amplify import pcr\n",
    "from pydna.amplify import Anneal"
   ]
  },
  {
   "cell_type": "markdown",
   "metadata": {},
   "source": [
    "The vector backbone pYPKa is read from a local [file](pYPKa.gb)."
   ]
  },
  {
   "cell_type": "code",
   "execution_count": 2,
   "metadata": {
    "execution": {
     "iopub.execute_input": "2021-05-17T10:28:16.870475Z",
     "iopub.status.busy": "2021-05-17T10:28:16.868092Z",
     "iopub.status.idle": "2021-05-17T10:28:16.879321Z",
     "shell.execute_reply": "2021-05-17T10:28:16.879772Z"
    }
   },
   "outputs": [],
   "source": [
    "pYPKa = read(\"pYPKa.gb\")"
   ]
  },
  {
   "cell_type": "markdown",
   "metadata": {},
   "source": [
    "Both restriction enzymes are imported from [Biopython](http://biopython.org/wiki/Main_Page)"
   ]
  },
  {
   "cell_type": "code",
   "execution_count": 3,
   "metadata": {
    "execution": {
     "iopub.execute_input": "2021-05-17T10:28:16.883227Z",
     "iopub.status.busy": "2021-05-17T10:28:16.882693Z",
     "iopub.status.idle": "2021-05-17T10:28:16.884695Z",
     "shell.execute_reply": "2021-05-17T10:28:16.885185Z"
    }
   },
   "outputs": [],
   "source": [
    "from Bio.Restriction import ZraI, EcoRV"
   ]
  },
  {
   "cell_type": "markdown",
   "metadata": {},
   "source": [
    "The vector is cut with both enzymes."
   ]
  },
  {
   "cell_type": "code",
   "execution_count": 4,
   "metadata": {
    "execution": {
     "iopub.execute_input": "2021-05-17T10:28:16.895295Z",
     "iopub.status.busy": "2021-05-17T10:28:16.894233Z",
     "iopub.status.idle": "2021-05-17T10:28:16.898889Z",
     "shell.execute_reply": "2021-05-17T10:28:16.898143Z"
    }
   },
   "outputs": [],
   "source": [
    "pYPKa_ZraI  = pYPKa.linearize(ZraI)\n",
    "pYPKa_EcoRV = pYPKa.linearize(EcoRV)"
   ]
  },
  {
   "cell_type": "markdown",
   "metadata": {},
   "source": [
    "The template below comes from a Genbank [record](http://www.ncbi.nlm.nih.gov/nuccore/BK006944.2).\n",
    "Access to Genbank is needed in order to download the template.\n",
    "If you execute this script, change the email address below to your own.\n",
    "Always tell Genbank who you are, when using their web service."
   ]
  },
  {
   "cell_type": "code",
   "execution_count": 5,
   "metadata": {
    "execution": {
     "iopub.execute_input": "2021-05-17T10:28:16.905102Z",
     "iopub.status.busy": "2021-05-17T10:28:16.904446Z",
     "iopub.status.idle": "2021-05-17T10:28:16.907159Z",
     "shell.execute_reply": "2021-05-17T10:28:16.906582Z"
    }
   },
   "outputs": [],
   "source": [
    "gb = Genbank(\"bjornjobb@gmail.com\")"
   ]
  },
  {
   "cell_type": "markdown",
   "metadata": {},
   "source": [
    "The template is downloaded from Genbank below."
   ]
  },
  {
   "cell_type": "code",
   "execution_count": 6,
   "metadata": {
    "execution": {
     "iopub.execute_input": "2021-05-17T10:28:16.913474Z",
     "iopub.status.busy": "2021-05-17T10:28:16.912671Z",
     "iopub.status.idle": "2021-05-17T10:28:16.923466Z",
     "shell.execute_reply": "2021-05-17T10:28:16.923009Z"
    }
   },
   "outputs": [],
   "source": [
    "template = gb.nucleotide(\"BK006944.2 REGION: complement(334916..335320)\")"
   ]
  },
  {
   "cell_type": "markdown",
   "metadata": {},
   "source": [
    "The template is a 405 bp linear DNA fragment."
   ]
  },
  {
   "cell_type": "code",
   "execution_count": 7,
   "metadata": {
    "execution": {
     "iopub.execute_input": "2021-05-17T10:28:16.934200Z",
     "iopub.status.busy": "2021-05-17T10:28:16.933456Z",
     "iopub.status.idle": "2021-05-17T10:28:16.937269Z",
     "shell.execute_reply": "2021-05-17T10:28:16.936638Z"
    }
   },
   "outputs": [
    {
     "data": {
      "text/html": [
       "<a href='https://www.ncbi.nlm.nih.gov/nuccore/BK006944.2 ?from=334916&to=335320&strand=2' target='_blank'>BK006944.2  334916-335320</a>"
      ],
      "text/plain": [
       "Gbank(BK006944.2  334916-335320)(-405)"
      ]
     },
     "execution_count": 1,
     "metadata": {},
     "output_type": "execute_result"
    }
   ],
   "source": [
    "template"
   ]
  },
  {
   "cell_type": "markdown",
   "metadata": {},
   "source": [
    "The insert has the sequence shown below."
   ]
  },
  {
   "cell_type": "code",
   "execution_count": 8,
   "metadata": {
    "execution": {
     "iopub.execute_input": "2021-05-17T10:28:16.941618Z",
     "iopub.status.busy": "2021-05-17T10:28:16.940942Z",
     "iopub.status.idle": "2021-05-17T10:28:16.944148Z",
     "shell.execute_reply": "2021-05-17T10:28:16.944736Z"
    }
   },
   "outputs": [
    {
     "name": "stdout",
     "output_type": "stream",
     "text": [
      "AAGAAAATCGAAACAAATAATAGATTTGTGTCTGTTCAATGTGTATATCGATGAGCTCAGTGAACACATTTTCACATCACGTTTCTTTTTTTTCTTTTTTCCGCTAAGAAAAATTTTCCAGAATTTTTCAGAGGCAAAACAAAACTCATCGATTTCGCACGCATTTCTCGTAGAATTGATATTTTTTTATTTTTTTATTGGTTTTTTTTTTTTTTTTCACTTTTTTTTCTTCCTTTCATGATATTTATAAGGAGAAGTATTTCAATTGGGACTTAAAAAAAAATTTTATTTTGGTTAATGTTTTCATTCAATGGTTTACTACTTTCATTTTAGCTTTTTAACAATTTTCTTTCTGGGGTCTCAGTTGCGGTTAGCAGATTAACACAGAACATACTATAGACAAAT\n"
     ]
    }
   ],
   "source": [
    "print(str(template.seq))"
   ]
  },
  {
   "cell_type": "markdown",
   "metadata": {},
   "source": [
    "The seguid checksum of the template should be\n",
    "\n",
    "```DSTfyQwISNVypNXjzc3DYIi1Tdc```"
   ]
  },
  {
   "cell_type": "code",
   "execution_count": 9,
   "metadata": {
    "execution": {
     "iopub.execute_input": "2021-05-17T10:28:16.949528Z",
     "iopub.status.busy": "2021-05-17T10:28:16.948728Z",
     "iopub.status.idle": "2021-05-17T10:28:16.952753Z",
     "shell.execute_reply": "2021-05-17T10:28:16.952100Z"
    }
   },
   "outputs": [
    {
     "data": {
      "text/plain": [
       "DSTfyQwISNVypNXjzc3DYIi1Tdc"
      ]
     },
     "execution_count": 1,
     "metadata": {},
     "output_type": "execute_result"
    }
   ],
   "source": [
    "template.seguid()"
   ]
  },
  {
   "cell_type": "markdown",
   "metadata": {},
   "source": [
    "Two primers are used to amplify the insert:"
   ]
  },
  {
   "cell_type": "code",
   "execution_count": 10,
   "metadata": {
    "execution": {
     "iopub.execute_input": "2021-05-17T10:28:16.958401Z",
     "iopub.status.busy": "2021-05-17T10:28:16.957402Z",
     "iopub.status.idle": "2021-05-17T10:28:16.959726Z",
     "shell.execute_reply": "2021-05-17T10:28:16.960464Z"
    }
   },
   "outputs": [],
   "source": [
    "fp,rp = parse_primers(\"\"\">1034_fw405\n",
    "                         ttaaatAAGAAAATCGAAACAAA\n",
    "                         >1033_rv405\n",
    "                         taattaaATTTGTCTATAGTATGTTCTGT\"\"\")"
   ]
  },
  {
   "cell_type": "markdown",
   "metadata": {},
   "source": [
    "PCR to create the insert using the primers above."
   ]
  },
  {
   "cell_type": "code",
   "execution_count": 11,
   "metadata": {
    "execution": {
     "iopub.execute_input": "2021-05-17T10:28:16.968152Z",
     "iopub.status.busy": "2021-05-17T10:28:16.967529Z",
     "iopub.status.idle": "2021-05-17T10:28:16.971765Z",
     "shell.execute_reply": "2021-05-17T10:28:16.972369Z"
    }
   },
   "outputs": [],
   "source": [
    "prd = pcr(fp, rp, template)\n",
    "assert str(fp.seq) in prd"
   ]
  },
  {
   "cell_type": "markdown",
   "metadata": {},
   "source": [
    "The PCR product has this length in bp."
   ]
  },
  {
   "cell_type": "code",
   "execution_count": 12,
   "metadata": {
    "execution": {
     "iopub.execute_input": "2021-05-17T10:28:16.978440Z",
     "iopub.status.busy": "2021-05-17T10:28:16.976253Z",
     "iopub.status.idle": "2021-05-17T10:28:16.982068Z",
     "shell.execute_reply": "2021-05-17T10:28:16.981420Z"
    }
   },
   "outputs": [
    {
     "data": {
      "text/plain": [
       "418"
      ]
     },
     "execution_count": 1,
     "metadata": {},
     "output_type": "execute_result"
    }
   ],
   "source": [
    "len(prd)"
   ]
  },
  {
   "cell_type": "markdown",
   "metadata": {},
   "source": [
    "A figure of the primers annealing on template."
   ]
  },
  {
   "cell_type": "code",
   "execution_count": 13,
   "metadata": {
    "execution": {
     "iopub.execute_input": "2021-05-17T10:28:16.986584Z",
     "iopub.status.busy": "2021-05-17T10:28:16.985882Z",
     "iopub.status.idle": "2021-05-17T10:28:16.989104Z",
     "shell.execute_reply": "2021-05-17T10:28:16.989760Z"
    }
   },
   "outputs": [
    {
     "data": {
      "text/plain": [
       "      5AAGAAAATCGAAACAAA...ACAGAACATACTATAGACAAAT3\n",
       "                           ||||||||||||||||||||||\n",
       "                          3TGTCTTGTATGATATCTGTTTAaattaat5\n",
       "5ttaaatAAGAAAATCGAAACAAA3\n",
       "       |||||||||||||||||\n",
       "      3TTCTTTTAGCTTTGTTT...TGTCTTGTATGATATCTGTTTA5"
      ]
     },
     "execution_count": 1,
     "metadata": {},
     "output_type": "execute_result"
    }
   ],
   "source": [
    "prd.figure()"
   ]
  },
  {
   "cell_type": "markdown",
   "metadata": {},
   "source": [
    "A suggested PCR program."
   ]
  },
  {
   "cell_type": "code",
   "execution_count": 14,
   "metadata": {
    "execution": {
     "iopub.execute_input": "2021-05-17T10:28:16.995991Z",
     "iopub.status.busy": "2021-05-17T10:28:16.995168Z",
     "iopub.status.idle": "2021-05-17T10:28:17.001331Z",
     "shell.execute_reply": "2021-05-17T10:28:17.000673Z"
    }
   },
   "outputs": [
    {
     "data": {
      "text/plain": [
       "|95°C|95°C               |    |tmf:45.5\n",
       "|____|_____          72°C|72°C|tmr:53.6\n",
       "|5min|30s  \\ 47.2°C _____|____|60s/kb\n",
       "|    |      \\______/ 0:25|5min|GC 26%\n",
       "|    |       30s         |    |418bp"
      ]
     },
     "execution_count": 1,
     "metadata": {},
     "output_type": "execute_result"
    }
   ],
   "source": [
    "prd.program()"
   ]
  },
  {
   "cell_type": "markdown",
   "metadata": {},
   "source": [
    "The final vectors are:"
   ]
  },
  {
   "cell_type": "code",
   "execution_count": 15,
   "metadata": {
    "execution": {
     "iopub.execute_input": "2021-05-17T10:28:17.076609Z",
     "iopub.status.busy": "2021-05-17T10:28:17.041398Z",
     "iopub.status.idle": "2021-05-17T10:28:17.507746Z",
     "shell.execute_reply": "2021-05-17T10:28:17.508170Z"
    }
   },
   "outputs": [],
   "source": [
    "pYPKa_Z_TMA19 = (pYPKa_ZraI  + prd).looped().synced(pYPKa)\n",
    "pYPKa_E_TMA19 = (pYPKa_EcoRV + prd).looped().synced(pYPKa)"
   ]
  },
  {
   "cell_type": "markdown",
   "metadata": {},
   "source": [
    "The final vectors with reverse inserts are created below. These vectors theoretically make up\n",
    "fifty percent of the clones. The PCR strategy outlined below can be used to identify clones with the insert\n",
    "in the correct orientation."
   ]
  },
  {
   "cell_type": "code",
   "execution_count": 16,
   "metadata": {
    "execution": {
     "iopub.execute_input": "2021-05-17T10:28:17.518887Z",
     "iopub.status.busy": "2021-05-17T10:28:17.518465Z",
     "iopub.status.idle": "2021-05-17T10:28:18.006199Z",
     "shell.execute_reply": "2021-05-17T10:28:18.005688Z"
    }
   },
   "outputs": [],
   "source": [
    "pYPKa_Z_TMA19b = (pYPKa_ZraI  + prd.rc()).looped().synced(pYPKa)\n",
    "pYPKa_E_TMA19b = (pYPKa_EcoRV + prd.rc()).looped().synced(pYPKa)"
   ]
  },
  {
   "cell_type": "markdown",
   "metadata": {},
   "source": [
    "A combination of yeast pathway kit standard primers and the primers above are\n",
    "used for the strategy to identify correct clones.\n",
    "Standard primers used in the yeast are listed [here](standard_primers.txt)."
   ]
  },
  {
   "cell_type": "code",
   "execution_count": 17,
   "metadata": {
    "execution": {
     "iopub.execute_input": "2021-05-17T10:28:18.011304Z",
     "iopub.status.busy": "2021-05-17T10:28:18.010741Z",
     "iopub.status.idle": "2021-05-17T10:28:18.012535Z",
     "shell.execute_reply": "2021-05-17T10:28:18.012955Z"
    }
   },
   "outputs": [],
   "source": [
    "p = { x.id: x for x in parse_primers(\"\"\">577\n",
    "                                         gttctgatcctcgagcatcttaagaattc\n",
    "                                         >578\n",
    "                                         gttcttgtctcattgccacattcataagt\n",
    "                                         >468\n",
    "                                         gtcgaggaacgccaggttgcccact\n",
    "                                         >467\n",
    "                                         ATTTAAatcctgatgcgtttgtctgcacaga\n",
    "                                         >567\n",
    "                                         GTcggctgcaggtcactagtgag\n",
    "                                         >568\n",
    "                                         GTGCcatctgtgcagacaaacg\n",
    "                                         >775\n",
    "                                         gcggccgctgacTTAAAT\n",
    "                                         >778\n",
    "                                         ggtaaatccggatTAATTAA\n",
    "                                         >342\n",
    "                                         CCTTTTTACGGTTCCTGGCCT\"\"\") }"
   ]
  },
  {
   "cell_type": "markdown",
   "metadata": {},
   "source": [
    "## Diagnostic PCR confirmation\n",
    "\n",
    "The correct structure of pYPKa_Z_TMA19 is confirmed by PCR using standard primers\n",
    "577 and 342 that are vector specific together with the TMA19fw primer specific for the insert\n",
    "in a multiplex PCR reaction with\n",
    "all three primers present.\n",
    "\n",
    "Two PCR products are expected if the insert was cloned, the sizes depend\n",
    "on the orientation. If the vector is empty or contains another insert, only one\n",
    "product is formed.\n",
    "\n",
    "#### Expected PCR products sizes from pYPKa_Z_TMA19:\n",
    "\n",
    "pYPKa_Z_TMA19 with insert in correct orientation."
   ]
  },
  {
   "cell_type": "code",
   "execution_count": 18,
   "metadata": {
    "execution": {
     "iopub.execute_input": "2021-05-17T10:28:18.026743Z",
     "iopub.status.busy": "2021-05-17T10:28:18.021201Z",
     "iopub.status.idle": "2021-05-17T10:28:18.033512Z",
     "shell.execute_reply": "2021-05-17T10:28:18.034064Z"
    }
   },
   "outputs": [
    {
     "data": {
      "text/plain": [
       "[Amplicon(1352), Amplicon(1184)]"
      ]
     },
     "execution_count": 1,
     "metadata": {},
     "output_type": "execute_result"
    }
   ],
   "source": [
    "Anneal( (p['577'], p['342'], fp), pYPKa_Z_TMA19).products"
   ]
  },
  {
   "cell_type": "markdown",
   "metadata": {},
   "source": [
    "pYPKa_Z_TMA19 with insert in reverse orientation."
   ]
  },
  {
   "cell_type": "code",
   "execution_count": 19,
   "metadata": {
    "execution": {
     "iopub.execute_input": "2021-05-17T10:28:18.045777Z",
     "iopub.status.busy": "2021-05-17T10:28:18.045002Z",
     "iopub.status.idle": "2021-05-17T10:28:18.050237Z",
     "shell.execute_reply": "2021-05-17T10:28:18.049789Z"
    }
   },
   "outputs": [
    {
     "data": {
      "text/plain": [
       "[Amplicon(1352), Amplicon(586)]"
      ]
     },
     "execution_count": 1,
     "metadata": {},
     "output_type": "execute_result"
    }
   ],
   "source": [
    "Anneal( (p['577'], p['342'], fp), pYPKa_Z_TMA19b).products"
   ]
  },
  {
   "cell_type": "markdown",
   "metadata": {},
   "source": [
    "Empty pYPKa clone."
   ]
  },
  {
   "cell_type": "code",
   "execution_count": 20,
   "metadata": {
    "execution": {
     "iopub.execute_input": "2021-05-17T10:28:18.057465Z",
     "iopub.status.busy": "2021-05-17T10:28:18.056779Z",
     "iopub.status.idle": "2021-05-17T10:28:18.060784Z",
     "shell.execute_reply": "2021-05-17T10:28:18.059845Z"
    }
   },
   "outputs": [
    {
     "data": {
      "text/plain": [
       "[Amplicon(934)]"
      ]
     },
     "execution_count": 1,
     "metadata": {},
     "output_type": "execute_result"
    }
   ],
   "source": [
    "Anneal( (p['577'], p['342'], fp), pYPKa).products"
   ]
  },
  {
   "cell_type": "markdown",
   "metadata": {},
   "source": [
    "#### Expected PCR products sizes pYPKa_E_TMA19:\n",
    "\n",
    "pYPKa_E_TMA19 with insert in correct orientation."
   ]
  },
  {
   "cell_type": "code",
   "execution_count": 21,
   "metadata": {
    "execution": {
     "iopub.execute_input": "2021-05-17T10:28:18.074338Z",
     "iopub.status.busy": "2021-05-17T10:28:18.069113Z",
     "iopub.status.idle": "2021-05-17T10:28:18.081486Z",
     "shell.execute_reply": "2021-05-17T10:28:18.080956Z"
    }
   },
   "outputs": [
    {
     "data": {
      "text/plain": [
       "[Amplicon(1352), Amplicon(1103)]"
      ]
     },
     "execution_count": 1,
     "metadata": {},
     "output_type": "execute_result"
    }
   ],
   "source": [
    "Anneal( (p['577'], p['342'], fp), pYPKa_E_TMA19).products"
   ]
  },
  {
   "cell_type": "markdown",
   "metadata": {},
   "source": [
    "pYPKa_E_TMA19 with insert in reverse orientation."
   ]
  },
  {
   "cell_type": "code",
   "execution_count": 22,
   "metadata": {
    "execution": {
     "iopub.execute_input": "2021-05-17T10:28:18.093613Z",
     "iopub.status.busy": "2021-05-17T10:28:18.092914Z",
     "iopub.status.idle": "2021-05-17T10:28:18.096621Z",
     "shell.execute_reply": "2021-05-17T10:28:18.097318Z"
    }
   },
   "outputs": [
    {
     "data": {
      "text/plain": [
       "[Amplicon(1352), Amplicon(667)]"
      ]
     },
     "execution_count": 1,
     "metadata": {},
     "output_type": "execute_result"
    }
   ],
   "source": [
    "Anneal( (p['577'], p['342'], fp), pYPKa_E_TMA19b).products\n"
   ]
  },
  {
   "cell_type": "markdown",
   "metadata": {},
   "source": [
    "Calculate cseguid checksums for the resulting plasmids for future reference.\n",
    "This checksum that uniquely describes a circular double stranded\n",
    "sequence. See this [blog post](https://ochsavidare.blogspot.com/2016/02/checksum-for-circular-biological.html) for more info.\n",
    "\n",
    "pYPKa_Z_TMA19.cseguid() should be nWg2iPZ7X8YvPu0zMu7cDViJt84"
   ]
  },
  {
   "cell_type": "code",
   "execution_count": 23,
   "metadata": {
    "execution": {
     "iopub.execute_input": "2021-05-17T10:28:18.110702Z",
     "iopub.status.busy": "2021-05-17T10:28:18.109618Z",
     "iopub.status.idle": "2021-05-17T10:28:18.115197Z",
     "shell.execute_reply": "2021-05-17T10:28:18.115735Z"
    }
   },
   "outputs": [
    {
     "name": "stdout",
     "output_type": "stream",
     "text": [
      "nWg2iPZ7X8YvPu0zMu7cDViJt84\n"
     ]
    }
   ],
   "source": [
    "print(pYPKa_Z_TMA19.cseguid())\n",
    "assert pYPKa_Z_TMA19.cseguid() == \"nWg2iPZ7X8YvPu0zMu7cDViJt84\""
   ]
  },
  {
   "cell_type": "markdown",
   "metadata": {},
   "source": [
    "pYPKa_E_TMA19.cseguid() should be k-Znqy8zIlezfGkmRprwgzkRoiE"
   ]
  },
  {
   "cell_type": "code",
   "execution_count": 24,
   "metadata": {
    "execution": {
     "iopub.execute_input": "2021-05-17T10:28:18.125021Z",
     "iopub.status.busy": "2021-05-17T10:28:18.124355Z",
     "iopub.status.idle": "2021-05-17T10:28:18.128923Z",
     "shell.execute_reply": "2021-05-17T10:28:18.128171Z"
    }
   },
   "outputs": [
    {
     "name": "stdout",
     "output_type": "stream",
     "text": [
      "k-Znqy8zIlezfGkmRprwgzkRoiE\n"
     ]
    }
   ],
   "source": [
    "print(pYPKa_E_TMA19.cseguid())\n",
    "assert pYPKa_E_TMA19.cseguid() == \"k-Znqy8zIlezfGkmRprwgzkRoiE\""
   ]
  },
  {
   "cell_type": "markdown",
   "metadata": {},
   "source": [
    "The sequences are named based on the name of the cloned insert."
   ]
  },
  {
   "cell_type": "code",
   "execution_count": 25,
   "metadata": {
    "execution": {
     "iopub.execute_input": "2021-05-17T10:28:18.135173Z",
     "iopub.status.busy": "2021-05-17T10:28:18.134524Z",
     "iopub.status.idle": "2021-05-17T10:28:18.137028Z",
     "shell.execute_reply": "2021-05-17T10:28:18.136495Z"
    }
   },
   "outputs": [],
   "source": [
    "pYPKa_Z_TMA19.locus = \"pYPKa_Z_TMA19\"[:16]\n",
    "pYPKa_E_TMA19.locus = \"pYPKa_Z_TMA19\"[:16]"
   ]
  },
  {
   "cell_type": "markdown",
   "metadata": {},
   "source": [
    "Stamp sequence with cseguid checksum. This can be used to verify the\n",
    "integrity of the sequence file."
   ]
  },
  {
   "cell_type": "code",
   "execution_count": 26,
   "metadata": {
    "execution": {
     "iopub.execute_input": "2021-05-17T10:28:18.146348Z",
     "iopub.status.busy": "2021-05-17T10:28:18.145794Z",
     "iopub.status.idle": "2021-05-17T10:28:18.148973Z",
     "shell.execute_reply": "2021-05-17T10:28:18.148504Z"
    }
   },
   "outputs": [
    {
     "data": {
      "text/plain": [
       "cSEGUID_k-Znqy8zIlezfGkmRprwgzkRoiE"
      ]
     },
     "execution_count": 1,
     "metadata": {},
     "output_type": "execute_result"
    }
   ],
   "source": [
    "pYPKa_Z_TMA19.stamp()\n",
    "pYPKa_E_TMA19.stamp()"
   ]
  },
  {
   "cell_type": "markdown",
   "metadata": {},
   "source": [
    "pYPKa_Z_TMA19 is written to a local file:"
   ]
  },
  {
   "cell_type": "code",
   "execution_count": 27,
   "metadata": {
    "execution": {
     "iopub.execute_input": "2021-05-17T10:28:18.155517Z",
     "iopub.status.busy": "2021-05-17T10:28:18.154700Z",
     "iopub.status.idle": "2021-05-17T10:28:18.159061Z",
     "shell.execute_reply": "2021-05-17T10:28:18.159612Z"
    }
   },
   "outputs": [
    {
     "data": {
      "text/html": [
       "<font face=monospace><a href='pYPKa_Z_TMA19.gb' target='_blank'>pYPKa_Z_TMA19.gb</a></font><br>"
      ]
     },
     "metadata": {},
     "output_type": "display_data"
    }
   ],
   "source": [
    "pYPKa_Z_TMA19.write(\"pYPKa_Z_TMA19.gb\")"
   ]
  },
  {
   "cell_type": "markdown",
   "metadata": {},
   "source": [
    "pYPKa_E_TMA19 is written to a local file:"
   ]
  },
  {
   "cell_type": "code",
   "execution_count": 28,
   "metadata": {
    "execution": {
     "iopub.execute_input": "2021-05-17T10:28:18.168517Z",
     "iopub.status.busy": "2021-05-17T10:28:18.165113Z",
     "iopub.status.idle": "2021-05-17T10:28:18.172533Z",
     "shell.execute_reply": "2021-05-17T10:28:18.172021Z"
    }
   },
   "outputs": [
    {
     "data": {
      "text/html": [
       "<font face=monospace><a href='pYPKa_E_TMA19.gb' target='_blank'>pYPKa_E_TMA19.gb</a></font><br>"
      ]
     },
     "metadata": {},
     "output_type": "display_data"
    }
   ],
   "source": [
    "pYPKa_E_TMA19.write(\"pYPKa_E_TMA19.gb\")"
   ]
  }
 ],
 "metadata": {
  "language_info": {
   "codemirror_mode": {
    "name": "ipython",
    "version": 3
   },
   "file_extension": ".py",
   "mimetype": "text/x-python",
   "name": "python",
   "nbconvert_exporter": "python",
   "pygments_lexer": "ipython3",
   "version": "3.9.0"
  }
 },
 "nbformat": 4,
 "nbformat_minor": 2
}
