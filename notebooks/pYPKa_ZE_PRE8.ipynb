{
 "cells": [
  {
   "cell_type": "markdown",
   "metadata": {},
   "source": [
    "# pYPKa_Z_PRE8 and pYPKa_E_PRE8\n",
    "\n",
    "This Jupyter notebook describe the construction of E. coli vectors [pYPKa_Z_PRE8](pYPKa_Z_PRE8.gb) and [pYPKa_E_PRE8](pYPKa_E_PRE8.gb). \n",
    "These two vectors share backbone and insert, but in the former, the insert is cloned using the restriction\n",
    "enzyme [ZraI](http://rebase.neb.com/rebase/enz/ZraI.html) while in the latter [EcoRV](http://rebase.neb.com/rebase/enz/EcoRV.html) is used.\n",
    "\n",
    "The insert cloned in ZraI is meant to function as a promoter, while in the EcoRV site it is meant to be  used as a terminator.\n",
    "\n",
    "Links to the sequence of each vector in Genbank format can be found at the bottom of this document.\n",
    "\n",
    "![pYPKa_Z and pYPKa_E](figure_pYPKa_ZE.png \"pYPKa_Z or pYPKa_E plasmid\")\n",
    "\n",
    "The Python package [pydna](https://pypi.python.org/pypi/pydna/) package is imported in the code cell below to provide \n",
    "the cloning functionality. There is a [publication](http://www.biomedcentral.com/1471-2105/16/142) describing pydna as well as\n",
    "[documentation](http://pydna.readthedocs.io/) available online. Pydna is developed on [Github](https://github.com/BjornFJohansson/pydna)."
   ]
  },
  {
   "cell_type": "code",
   "execution_count": 1,
   "metadata": {
    "execution": {
     "iopub.execute_input": "2021-05-17T10:26:04.805915Z",
     "iopub.status.busy": "2021-05-17T10:26:04.805321Z",
     "iopub.status.idle": "2021-05-17T10:26:05.338420Z",
     "shell.execute_reply": "2021-05-17T10:26:05.338942Z"
    }
   },
   "outputs": [],
   "source": [
    "from pydna.readers import read\n",
    "from pydna.parsers import parse_primers\n",
    "from pydna.genbank import Genbank\n",
    "from pydna.amplify import pcr\n",
    "from pydna.amplify import Anneal"
   ]
  },
  {
   "cell_type": "markdown",
   "metadata": {},
   "source": [
    "The vector backbone pYPKa is read from a local [file](pYPKa.gb)."
   ]
  },
  {
   "cell_type": "code",
   "execution_count": 2,
   "metadata": {
    "execution": {
     "iopub.execute_input": "2021-05-17T10:26:05.348680Z",
     "iopub.status.busy": "2021-05-17T10:26:05.347096Z",
     "iopub.status.idle": "2021-05-17T10:26:05.360734Z",
     "shell.execute_reply": "2021-05-17T10:26:05.360213Z"
    }
   },
   "outputs": [],
   "source": [
    "pYPKa = read(\"pYPKa.gb\")"
   ]
  },
  {
   "cell_type": "markdown",
   "metadata": {},
   "source": [
    "Both restriction enzymes are imported from [Biopython](http://biopython.org/wiki/Main_Page)"
   ]
  },
  {
   "cell_type": "code",
   "execution_count": 3,
   "metadata": {
    "execution": {
     "iopub.execute_input": "2021-05-17T10:26:05.364108Z",
     "iopub.status.busy": "2021-05-17T10:26:05.363670Z",
     "iopub.status.idle": "2021-05-17T10:26:05.368429Z",
     "shell.execute_reply": "2021-05-17T10:26:05.368979Z"
    }
   },
   "outputs": [],
   "source": [
    "from Bio.Restriction import ZraI, EcoRV"
   ]
  },
  {
   "cell_type": "markdown",
   "metadata": {},
   "source": [
    "The vector is cut with both enzymes."
   ]
  },
  {
   "cell_type": "code",
   "execution_count": 4,
   "metadata": {
    "execution": {
     "iopub.execute_input": "2021-05-17T10:26:05.377581Z",
     "iopub.status.busy": "2021-05-17T10:26:05.376986Z",
     "iopub.status.idle": "2021-05-17T10:26:05.379005Z",
     "shell.execute_reply": "2021-05-17T10:26:05.379365Z"
    }
   },
   "outputs": [],
   "source": [
    "pYPKa_ZraI  = pYPKa.linearize(ZraI)\n",
    "pYPKa_EcoRV = pYPKa.linearize(EcoRV)"
   ]
  },
  {
   "cell_type": "markdown",
   "metadata": {},
   "source": [
    "The template below comes from a Genbank [record](http://www.ncbi.nlm.nih.gov/nuccore/BK006946.2).\n",
    "Access to Genbank is needed in order to download the template.\n",
    "If you execute this script, change the email address below to your own.\n",
    "Always tell Genbank who you are, when using their web service."
   ]
  },
  {
   "cell_type": "code",
   "execution_count": 5,
   "metadata": {
    "execution": {
     "iopub.execute_input": "2021-05-17T10:26:05.384008Z",
     "iopub.status.busy": "2021-05-17T10:26:05.383244Z",
     "iopub.status.idle": "2021-05-17T10:26:05.386720Z",
     "shell.execute_reply": "2021-05-17T10:26:05.387337Z"
    }
   },
   "outputs": [],
   "source": [
    "gb = Genbank(\"bjornjobb@gmail.com\")"
   ]
  },
  {
   "cell_type": "markdown",
   "metadata": {},
   "source": [
    "The template is downloaded from Genbank below."
   ]
  },
  {
   "cell_type": "code",
   "execution_count": 6,
   "metadata": {
    "execution": {
     "iopub.execute_input": "2021-05-17T10:26:05.392606Z",
     "iopub.status.busy": "2021-05-17T10:26:05.391973Z",
     "iopub.status.idle": "2021-05-17T10:26:05.403710Z",
     "shell.execute_reply": "2021-05-17T10:26:05.404261Z"
    }
   },
   "outputs": [],
   "source": [
    "template = gb.nucleotide(\"BK006946.2 REGION: complement(86740..87122)\")"
   ]
  },
  {
   "cell_type": "markdown",
   "metadata": {},
   "source": [
    "The template is a 383 bp linear DNA fragment."
   ]
  },
  {
   "cell_type": "code",
   "execution_count": 7,
   "metadata": {
    "execution": {
     "iopub.execute_input": "2021-05-17T10:26:05.414983Z",
     "iopub.status.busy": "2021-05-17T10:26:05.414280Z",
     "iopub.status.idle": "2021-05-17T10:26:05.418539Z",
     "shell.execute_reply": "2021-05-17T10:26:05.417901Z"
    }
   },
   "outputs": [
    {
     "data": {
      "text/html": [
       "<a href='https://www.ncbi.nlm.nih.gov/nuccore/BK006946.2 ?from=86740&to=87122&strand=2' target='_blank'>BK006946.2  86740-87122</a>"
      ],
      "text/plain": [
       "Gbank(BK006946.2  86740-87122)(-383)"
      ]
     },
     "execution_count": 1,
     "metadata": {},
     "output_type": "execute_result"
    }
   ],
   "source": [
    "template"
   ]
  },
  {
   "cell_type": "markdown",
   "metadata": {},
   "source": [
    "The insert has the sequence shown below."
   ]
  },
  {
   "cell_type": "code",
   "execution_count": 8,
   "metadata": {
    "execution": {
     "iopub.execute_input": "2021-05-17T10:26:05.423053Z",
     "iopub.status.busy": "2021-05-17T10:26:05.422088Z",
     "iopub.status.idle": "2021-05-17T10:26:05.425776Z",
     "shell.execute_reply": "2021-05-17T10:26:05.426416Z"
    }
   },
   "outputs": [
    {
     "name": "stdout",
     "output_type": "stream",
     "text": [
      "CCTTTACAATTTGATATTTTATTTATTTCACTGTTATAACATAATTACAAGTAATTAATGTCATATAATAATAATAATAATAATAATAATAATAATAATAATAATAATAATAATAATAATAATAATAATAATAATAATAATAATAATAATAATAATAATAATAATAATAATAGTAATAATAACGTCTATATAAGAAGTATCTACACCATTGCTTACGCTTTTATTTTTTCCTTTCGACGTGAAAAGCGATAATAGCTTATTAAGGTGGCAAAATTGTCCCCGGCCCCAATAAGCTGAGAGTGGAATAGGTGAAGCATTTTATATTTTTAGTTTCAATTAGTAGTAAGCAACCATAAGACACCAATCAACACAGTTCTATAATT\n"
     ]
    }
   ],
   "source": [
    "print(str(template.seq))"
   ]
  },
  {
   "cell_type": "markdown",
   "metadata": {},
   "source": [
    "The seguid checksum of the template should be\n",
    "\n",
    "```SAgytxHjdiOPjeGdmHitdrigZLw```"
   ]
  },
  {
   "cell_type": "code",
   "execution_count": 9,
   "metadata": {
    "execution": {
     "iopub.execute_input": "2021-05-17T10:26:05.430999Z",
     "iopub.status.busy": "2021-05-17T10:26:05.430330Z",
     "iopub.status.idle": "2021-05-17T10:26:05.435636Z",
     "shell.execute_reply": "2021-05-17T10:26:05.436604Z"
    }
   },
   "outputs": [
    {
     "data": {
      "text/plain": [
       "SAgytxHjdiOPjeGdmHitdrigZLw"
      ]
     },
     "execution_count": 1,
     "metadata": {},
     "output_type": "execute_result"
    }
   ],
   "source": [
    "template.seguid()"
   ]
  },
  {
   "cell_type": "markdown",
   "metadata": {},
   "source": [
    "Two primers are used to amplify the insert:"
   ]
  },
  {
   "cell_type": "code",
   "execution_count": 10,
   "metadata": {
    "execution": {
     "iopub.execute_input": "2021-05-17T10:26:05.441371Z",
     "iopub.status.busy": "2021-05-17T10:26:05.440725Z",
     "iopub.status.idle": "2021-05-17T10:26:05.442692Z",
     "shell.execute_reply": "2021-05-17T10:26:05.443109Z"
    }
   },
   "outputs": [],
   "source": [
    "fp,rp = parse_primers(\"\"\">996_fw383\n",
    "                         ttaaatCCTTTACAATTTGATATTTTATT\n",
    "                         >995_rv383\n",
    "                         taattaaAATTATAGAACTGTGTTGATTG\"\"\")"
   ]
  },
  {
   "cell_type": "markdown",
   "metadata": {},
   "source": [
    "PCR to create the insert using the primers above."
   ]
  },
  {
   "cell_type": "code",
   "execution_count": 11,
   "metadata": {
    "execution": {
     "iopub.execute_input": "2021-05-17T10:26:05.448157Z",
     "iopub.status.busy": "2021-05-17T10:26:05.447504Z",
     "iopub.status.idle": "2021-05-17T10:26:05.454080Z",
     "shell.execute_reply": "2021-05-17T10:26:05.453334Z"
    }
   },
   "outputs": [],
   "source": [
    "prd = pcr(fp, rp, template)\n",
    "assert str(fp.seq) in prd"
   ]
  },
  {
   "cell_type": "markdown",
   "metadata": {},
   "source": [
    "The PCR product has this length in bp."
   ]
  },
  {
   "cell_type": "code",
   "execution_count": 12,
   "metadata": {
    "execution": {
     "iopub.execute_input": "2021-05-17T10:26:05.460310Z",
     "iopub.status.busy": "2021-05-17T10:26:05.459542Z",
     "iopub.status.idle": "2021-05-17T10:26:05.463376Z",
     "shell.execute_reply": "2021-05-17T10:26:05.463888Z"
    }
   },
   "outputs": [
    {
     "data": {
      "text/plain": [
       "396"
      ]
     },
     "execution_count": 1,
     "metadata": {},
     "output_type": "execute_result"
    }
   ],
   "source": [
    "len(prd)"
   ]
  },
  {
   "cell_type": "markdown",
   "metadata": {},
   "source": [
    "A figure of the primers annealing on template."
   ]
  },
  {
   "cell_type": "code",
   "execution_count": 13,
   "metadata": {
    "execution": {
     "iopub.execute_input": "2021-05-17T10:26:05.468889Z",
     "iopub.status.busy": "2021-05-17T10:26:05.468271Z",
     "iopub.status.idle": "2021-05-17T10:26:05.472698Z",
     "shell.execute_reply": "2021-05-17T10:26:05.472100Z"
    }
   },
   "outputs": [
    {
     "data": {
      "text/plain": [
       "      5CCTTTACAATTTGATATTTTATT...CAATCAACACAGTTCTATAATT3\n",
       "                                 ||||||||||||||||||||||\n",
       "                                3GTTAGTTGTGTCAAGATATTAAaattaat5\n",
       "5ttaaatCCTTTACAATTTGATATTTTATT3\n",
       "       |||||||||||||||||||||||\n",
       "      3GGAAATGTTAAACTATAAAATAA...GTTAGTTGTGTCAAGATATTAA5"
      ]
     },
     "execution_count": 1,
     "metadata": {},
     "output_type": "execute_result"
    }
   ],
   "source": [
    "prd.figure()"
   ]
  },
  {
   "cell_type": "markdown",
   "metadata": {},
   "source": [
    "A suggested PCR program."
   ]
  },
  {
   "cell_type": "code",
   "execution_count": 14,
   "metadata": {
    "execution": {
     "iopub.execute_input": "2021-05-17T10:26:05.478112Z",
     "iopub.status.busy": "2021-05-17T10:26:05.477480Z",
     "iopub.status.idle": "2021-05-17T10:26:05.481405Z",
     "shell.execute_reply": "2021-05-17T10:26:05.480707Z"
    }
   },
   "outputs": [
    {
     "data": {
      "text/plain": [
       "|95°C|95°C               |    |tmf:50.6\n",
       "|____|_____          72°C|72°C|tmr:52.9\n",
       "|5min|30s  \\ 47.1°C _____|____|60s/kb\n",
       "|    |      \\______/ 0:23|5min|GC 21%\n",
       "|    |       30s         |    |396bp"
      ]
     },
     "execution_count": 1,
     "metadata": {},
     "output_type": "execute_result"
    }
   ],
   "source": [
    "prd.program()"
   ]
  },
  {
   "cell_type": "markdown",
   "metadata": {},
   "source": [
    "The final vectors are:"
   ]
  },
  {
   "cell_type": "code",
   "execution_count": 15,
   "metadata": {
    "execution": {
     "iopub.execute_input": "2021-05-17T10:26:05.555546Z",
     "iopub.status.busy": "2021-05-17T10:26:05.519913Z",
     "iopub.status.idle": "2021-05-17T10:26:05.933022Z",
     "shell.execute_reply": "2021-05-17T10:26:05.932521Z"
    }
   },
   "outputs": [],
   "source": [
    "pYPKa_Z_PRE8 = (pYPKa_ZraI  + prd).looped().synced(pYPKa)\n",
    "pYPKa_E_PRE8 = (pYPKa_EcoRV + prd).looped().synced(pYPKa)"
   ]
  },
  {
   "cell_type": "markdown",
   "metadata": {},
   "source": [
    "The final vectors with reverse inserts are created below. These vectors theoretically make up\n",
    "fifty percent of the clones. The PCR strategy outlined below can be used to identify clones with the insert\n",
    "in the correct orientation."
   ]
  },
  {
   "cell_type": "code",
   "execution_count": 16,
   "metadata": {
    "execution": {
     "iopub.execute_input": "2021-05-17T10:26:05.996327Z",
     "iopub.status.busy": "2021-05-17T10:26:05.960899Z",
     "iopub.status.idle": "2021-05-17T10:26:06.396989Z",
     "shell.execute_reply": "2021-05-17T10:26:06.397577Z"
    }
   },
   "outputs": [],
   "source": [
    "pYPKa_Z_PRE8b = (pYPKa_ZraI  + prd.rc()).looped().synced(pYPKa)\n",
    "pYPKa_E_PRE8b = (pYPKa_EcoRV + prd.rc()).looped().synced(pYPKa)"
   ]
  },
  {
   "cell_type": "markdown",
   "metadata": {},
   "source": [
    "A combination of yeast pathway kit standard primers and the primers above are\n",
    "used for the strategy to identify correct clones.\n",
    "Standard primers used in the yeast are listed [here](standard_primers.txt)."
   ]
  },
  {
   "cell_type": "code",
   "execution_count": 17,
   "metadata": {
    "execution": {
     "iopub.execute_input": "2021-05-17T10:26:06.401964Z",
     "iopub.status.busy": "2021-05-17T10:26:06.401488Z",
     "iopub.status.idle": "2021-05-17T10:26:06.404088Z",
     "shell.execute_reply": "2021-05-17T10:26:06.403532Z"
    }
   },
   "outputs": [],
   "source": [
    "p = { x.id: x for x in parse_primers(\"\"\">577\n",
    "                                         gttctgatcctcgagcatcttaagaattc\n",
    "                                         >578\n",
    "                                         gttcttgtctcattgccacattcataagt\n",
    "                                         >468\n",
    "                                         gtcgaggaacgccaggttgcccact\n",
    "                                         >467\n",
    "                                         ATTTAAatcctgatgcgtttgtctgcacaga\n",
    "                                         >567\n",
    "                                         GTcggctgcaggtcactagtgag\n",
    "                                         >568\n",
    "                                         GTGCcatctgtgcagacaaacg\n",
    "                                         >775\n",
    "                                         gcggccgctgacTTAAAT\n",
    "                                         >778\n",
    "                                         ggtaaatccggatTAATTAA\n",
    "                                         >342\n",
    "                                         CCTTTTTACGGTTCCTGGCCT\"\"\") }"
   ]
  },
  {
   "cell_type": "markdown",
   "metadata": {},
   "source": [
    "## Diagnostic PCR confirmation\n",
    "\n",
    "The correct structure of pYPKa_Z_PRE8 is confirmed by PCR using standard primers\n",
    "577 and 342 that are vector specific together with the PRE8fw primer specific for the insert\n",
    "in a multiplex PCR reaction with\n",
    "all three primers present.\n",
    "\n",
    "Two PCR products are expected if the insert was cloned, the sizes depend\n",
    "on the orientation. If the vector is empty or contains another insert, only one\n",
    "product is formed.\n",
    "\n",
    "#### Expected PCR products sizes from pYPKa_Z_PRE8:\n",
    "\n",
    "pYPKa_Z_PRE8 with insert in correct orientation."
   ]
  },
  {
   "cell_type": "code",
   "execution_count": 18,
   "metadata": {
    "execution": {
     "iopub.execute_input": "2021-05-17T10:26:06.416700Z",
     "iopub.status.busy": "2021-05-17T10:26:06.416155Z",
     "iopub.status.idle": "2021-05-17T10:26:06.418775Z",
     "shell.execute_reply": "2021-05-17T10:26:06.419122Z"
    }
   },
   "outputs": [
    {
     "data": {
      "text/plain": [
       "[Amplicon(1330), Amplicon(1162)]"
      ]
     },
     "execution_count": 1,
     "metadata": {},
     "output_type": "execute_result"
    }
   ],
   "source": [
    "Anneal( (p['577'], p['342'], fp), pYPKa_Z_PRE8).products"
   ]
  },
  {
   "cell_type": "markdown",
   "metadata": {},
   "source": [
    "pYPKa_Z_PRE8 with insert in reverse orientation."
   ]
  },
  {
   "cell_type": "code",
   "execution_count": 19,
   "metadata": {
    "execution": {
     "iopub.execute_input": "2021-05-17T10:26:06.431956Z",
     "iopub.status.busy": "2021-05-17T10:26:06.427252Z",
     "iopub.status.idle": "2021-05-17T10:26:06.434603Z",
     "shell.execute_reply": "2021-05-17T10:26:06.435035Z"
    }
   },
   "outputs": [
    {
     "data": {
      "text/plain": [
       "[Amplicon(1330), Amplicon(564)]"
      ]
     },
     "execution_count": 1,
     "metadata": {},
     "output_type": "execute_result"
    }
   ],
   "source": [
    "Anneal( (p['577'], p['342'], fp), pYPKa_Z_PRE8b).products"
   ]
  },
  {
   "cell_type": "markdown",
   "metadata": {},
   "source": [
    "Empty pYPKa clone."
   ]
  },
  {
   "cell_type": "code",
   "execution_count": 20,
   "metadata": {
    "execution": {
     "iopub.execute_input": "2021-05-17T10:26:06.446155Z",
     "iopub.status.busy": "2021-05-17T10:26:06.445409Z",
     "iopub.status.idle": "2021-05-17T10:26:06.448628Z",
     "shell.execute_reply": "2021-05-17T10:26:06.448001Z"
    }
   },
   "outputs": [
    {
     "data": {
      "text/plain": [
       "[Amplicon(934)]"
      ]
     },
     "execution_count": 1,
     "metadata": {},
     "output_type": "execute_result"
    }
   ],
   "source": [
    "Anneal( (p['577'], p['342'], fp), pYPKa).products"
   ]
  },
  {
   "cell_type": "markdown",
   "metadata": {},
   "source": [
    "#### Expected PCR products sizes pYPKa_E_PRE8:\n",
    "\n",
    "pYPKa_E_PRE8 with insert in correct orientation."
   ]
  },
  {
   "cell_type": "code",
   "execution_count": 21,
   "metadata": {
    "execution": {
     "iopub.execute_input": "2021-05-17T10:26:06.461666Z",
     "iopub.status.busy": "2021-05-17T10:26:06.461005Z",
     "iopub.status.idle": "2021-05-17T10:26:06.463738Z",
     "shell.execute_reply": "2021-05-17T10:26:06.464157Z"
    }
   },
   "outputs": [
    {
     "data": {
      "text/plain": [
       "[Amplicon(1330), Amplicon(1081)]"
      ]
     },
     "execution_count": 1,
     "metadata": {},
     "output_type": "execute_result"
    }
   ],
   "source": [
    "Anneal( (p['577'], p['342'], fp), pYPKa_E_PRE8).products"
   ]
  },
  {
   "cell_type": "markdown",
   "metadata": {},
   "source": [
    "pYPKa_E_PRE8 with insert in reverse orientation."
   ]
  },
  {
   "cell_type": "code",
   "execution_count": 22,
   "metadata": {
    "execution": {
     "iopub.execute_input": "2021-05-17T10:26:06.475390Z",
     "iopub.status.busy": "2021-05-17T10:26:06.474171Z",
     "iopub.status.idle": "2021-05-17T10:26:06.479493Z",
     "shell.execute_reply": "2021-05-17T10:26:06.478925Z"
    }
   },
   "outputs": [
    {
     "data": {
      "text/plain": [
       "[Amplicon(1330), Amplicon(645)]"
      ]
     },
     "execution_count": 1,
     "metadata": {},
     "output_type": "execute_result"
    }
   ],
   "source": [
    "Anneal( (p['577'], p['342'], fp), pYPKa_E_PRE8b).products\n"
   ]
  },
  {
   "cell_type": "markdown",
   "metadata": {},
   "source": [
    "Calculate cseguid checksums for the resulting plasmids for future reference.\n",
    "This checksum that uniquely describes a circular double stranded\n",
    "sequence. See this [blog post](https://ochsavidare.blogspot.com/2016/02/checksum-for-circular-biological.html) for more info.\n",
    "\n",
    "pYPKa_Z_PRE8.cseguid() should be ozjEwTQPjnfFgZi9bPOPPx18bgs"
   ]
  },
  {
   "cell_type": "code",
   "execution_count": 23,
   "metadata": {
    "execution": {
     "iopub.execute_input": "2021-05-17T10:26:06.490098Z",
     "iopub.status.busy": "2021-05-17T10:26:06.486324Z",
     "iopub.status.idle": "2021-05-17T10:26:06.492264Z",
     "shell.execute_reply": "2021-05-17T10:26:06.492679Z"
    }
   },
   "outputs": [
    {
     "name": "stdout",
     "output_type": "stream",
     "text": [
      "ozjEwTQPjnfFgZi9bPOPPx18bgs\n"
     ]
    }
   ],
   "source": [
    "print(pYPKa_Z_PRE8.cseguid())\n",
    "assert pYPKa_Z_PRE8.cseguid() == \"ozjEwTQPjnfFgZi9bPOPPx18bgs\""
   ]
  },
  {
   "cell_type": "markdown",
   "metadata": {},
   "source": [
    "pYPKa_E_PRE8.cseguid() should be EbvM33Yg2yUXUUzeQEs5xalvh28"
   ]
  },
  {
   "cell_type": "code",
   "execution_count": 24,
   "metadata": {
    "execution": {
     "iopub.execute_input": "2021-05-17T10:26:06.504543Z",
     "iopub.status.busy": "2021-05-17T10:26:06.504086Z",
     "iopub.status.idle": "2021-05-17T10:26:06.506449Z",
     "shell.execute_reply": "2021-05-17T10:26:06.506895Z"
    }
   },
   "outputs": [
    {
     "name": "stdout",
     "output_type": "stream",
     "text": [
      "EbvM33Yg2yUXUUzeQEs5xalvh28\n"
     ]
    }
   ],
   "source": [
    "print(pYPKa_E_PRE8.cseguid())\n",
    "assert pYPKa_E_PRE8.cseguid() == \"EbvM33Yg2yUXUUzeQEs5xalvh28\""
   ]
  },
  {
   "cell_type": "markdown",
   "metadata": {},
   "source": [
    "The sequences are named based on the name of the cloned insert."
   ]
  },
  {
   "cell_type": "code",
   "execution_count": 25,
   "metadata": {
    "execution": {
     "iopub.execute_input": "2021-05-17T10:26:06.510928Z",
     "iopub.status.busy": "2021-05-17T10:26:06.510248Z",
     "iopub.status.idle": "2021-05-17T10:26:06.513468Z",
     "shell.execute_reply": "2021-05-17T10:26:06.512727Z"
    }
   },
   "outputs": [],
   "source": [
    "pYPKa_Z_PRE8.locus = \"pYPKa_Z_PRE8\"[:16]\n",
    "pYPKa_E_PRE8.locus = \"pYPKa_Z_PRE8\"[:16]"
   ]
  },
  {
   "cell_type": "markdown",
   "metadata": {},
   "source": [
    "Stamp sequence with cseguid checksum. This can be used to verify the\n",
    "integrity of the sequence file."
   ]
  },
  {
   "cell_type": "code",
   "execution_count": 26,
   "metadata": {
    "execution": {
     "iopub.execute_input": "2021-05-17T10:26:06.526631Z",
     "iopub.status.busy": "2021-05-17T10:26:06.525879Z",
     "iopub.status.idle": "2021-05-17T10:26:06.529352Z",
     "shell.execute_reply": "2021-05-17T10:26:06.528801Z"
    }
   },
   "outputs": [
    {
     "data": {
      "text/plain": [
       "cSEGUID_EbvM33Yg2yUXUUzeQEs5xalvh28"
      ]
     },
     "execution_count": 1,
     "metadata": {},
     "output_type": "execute_result"
    }
   ],
   "source": [
    "pYPKa_Z_PRE8.stamp()\n",
    "pYPKa_E_PRE8.stamp()"
   ]
  },
  {
   "cell_type": "markdown",
   "metadata": {},
   "source": [
    "pYPKa_Z_PRE8 is written to a local file:"
   ]
  },
  {
   "cell_type": "code",
   "execution_count": 27,
   "metadata": {
    "execution": {
     "iopub.execute_input": "2021-05-17T10:26:06.537620Z",
     "iopub.status.busy": "2021-05-17T10:26:06.536541Z",
     "iopub.status.idle": "2021-05-17T10:26:06.541574Z",
     "shell.execute_reply": "2021-05-17T10:26:06.540786Z"
    }
   },
   "outputs": [
    {
     "data": {
      "text/html": [
       "<font face=monospace><a href='pYPKa_Z_PRE8.gb' target='_blank'>pYPKa_Z_PRE8.gb</a></font><br>"
      ]
     },
     "metadata": {},
     "output_type": "display_data"
    }
   ],
   "source": [
    "pYPKa_Z_PRE8.write(\"pYPKa_Z_PRE8.gb\")"
   ]
  },
  {
   "cell_type": "markdown",
   "metadata": {},
   "source": [
    "pYPKa_E_PRE8 is written to a local file:"
   ]
  },
  {
   "cell_type": "code",
   "execution_count": 28,
   "metadata": {
    "execution": {
     "iopub.execute_input": "2021-05-17T10:26:06.546322Z",
     "iopub.status.busy": "2021-05-17T10:26:06.545585Z",
     "iopub.status.idle": "2021-05-17T10:26:06.553742Z",
     "shell.execute_reply": "2021-05-17T10:26:06.553037Z"
    }
   },
   "outputs": [
    {
     "data": {
      "text/html": [
       "<font face=monospace><a href='pYPKa_E_PRE8.gb' target='_blank'>pYPKa_E_PRE8.gb</a></font><br>"
      ]
     },
     "metadata": {},
     "output_type": "display_data"
    }
   ],
   "source": [
    "pYPKa_E_PRE8.write(\"pYPKa_E_PRE8.gb\")"
   ]
  }
 ],
 "metadata": {
  "language_info": {
   "codemirror_mode": {
    "name": "ipython",
    "version": 3
   },
   "file_extension": ".py",
   "mimetype": "text/x-python",
   "name": "python",
   "nbconvert_exporter": "python",
   "pygments_lexer": "ipython3",
   "version": "3.9.0"
  }
 },
 "nbformat": 4,
 "nbformat_minor": 2
}
