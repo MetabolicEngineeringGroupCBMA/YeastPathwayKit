{
 "cells": [
  {
   "cell_type": "markdown",
   "metadata": {},
   "source": [
    "# pYPKa_Z_RPL35B and pYPKa_E_RPL35B\n",
    "\n",
    "This Jupyter notebook describe the construction of E. coli vectors [pYPKa_Z_RPL35B](pYPKa_Z_RPL35B.gb) and [pYPKa_E_RPL35B](pYPKa_E_RPL35B.gb). \n",
    "These two vectors share backbone and insert, but in the former, the insert is cloned using the restriction\n",
    "enzyme [ZraI](http://rebase.neb.com/rebase/enz/ZraI.html) while in the latter [EcoRV](http://rebase.neb.com/rebase/enz/EcoRV.html) is used.\n",
    "\n",
    "The insert cloned in ZraI is meant to function as a promoter, while in the EcoRV site it is meant to be  used as a terminator.\n",
    "\n",
    "Links to the sequence of each vector in Genbank format can be found at the bottom of this document.\n",
    "\n",
    "![pYPKa_Z and pYPKa_E](figure_pYPKa_ZE.png \"pYPKa_Z or pYPKa_E plasmid\")\n",
    "\n",
    "The Python package [pydna](https://pypi.python.org/pypi/pydna/) package is imported in the code cell below to provide \n",
    "the cloning functionality. There is a [publication](http://www.biomedcentral.com/1471-2105/16/142) describing pydna as well as\n",
    "[documentation](http://pydna.readthedocs.io/) available online. Pydna is developed on [Github](https://github.com/BjornFJohansson/pydna)."
   ]
  },
  {
   "cell_type": "code",
   "execution_count": 1,
   "metadata": {
    "execution": {
     "iopub.execute_input": "2021-05-17T10:27:20.102375Z",
     "iopub.status.busy": "2021-05-17T10:27:20.101582Z",
     "iopub.status.idle": "2021-05-17T10:27:20.600958Z",
     "shell.execute_reply": "2021-05-17T10:27:20.600403Z"
    }
   },
   "outputs": [],
   "source": [
    "from pydna.readers import read\n",
    "from pydna.parsers import parse_primers\n",
    "from pydna.genbank import Genbank\n",
    "from pydna.amplify import pcr\n",
    "from pydna.amplify import Anneal"
   ]
  },
  {
   "cell_type": "markdown",
   "metadata": {},
   "source": [
    "The vector backbone pYPKa is read from a local [file](pYPKa.gb)."
   ]
  },
  {
   "cell_type": "code",
   "execution_count": 2,
   "metadata": {
    "execution": {
     "iopub.execute_input": "2021-05-17T10:27:20.610688Z",
     "iopub.status.busy": "2021-05-17T10:27:20.610243Z",
     "iopub.status.idle": "2021-05-17T10:27:20.618659Z",
     "shell.execute_reply": "2021-05-17T10:27:20.618138Z"
    }
   },
   "outputs": [],
   "source": [
    "pYPKa = read(\"pYPKa.gb\")"
   ]
  },
  {
   "cell_type": "markdown",
   "metadata": {},
   "source": [
    "Both restriction enzymes are imported from [Biopython](http://biopython.org/wiki/Main_Page)"
   ]
  },
  {
   "cell_type": "code",
   "execution_count": 3,
   "metadata": {
    "execution": {
     "iopub.execute_input": "2021-05-17T10:27:20.621988Z",
     "iopub.status.busy": "2021-05-17T10:27:20.621505Z",
     "iopub.status.idle": "2021-05-17T10:27:20.623405Z",
     "shell.execute_reply": "2021-05-17T10:27:20.623891Z"
    }
   },
   "outputs": [],
   "source": [
    "from Bio.Restriction import ZraI, EcoRV"
   ]
  },
  {
   "cell_type": "markdown",
   "metadata": {},
   "source": [
    "The vector is cut with both enzymes."
   ]
  },
  {
   "cell_type": "code",
   "execution_count": 4,
   "metadata": {
    "execution": {
     "iopub.execute_input": "2021-05-17T10:27:20.631758Z",
     "iopub.status.busy": "2021-05-17T10:27:20.631105Z",
     "iopub.status.idle": "2021-05-17T10:27:20.633371Z",
     "shell.execute_reply": "2021-05-17T10:27:20.633860Z"
    }
   },
   "outputs": [],
   "source": [
    "pYPKa_ZraI  = pYPKa.linearize(ZraI)\n",
    "pYPKa_EcoRV = pYPKa.linearize(EcoRV)"
   ]
  },
  {
   "cell_type": "markdown",
   "metadata": {},
   "source": [
    "The template below comes from a Genbank [record](http://www.ncbi.nlm.nih.gov/nuccore/BK006938.2).\n",
    "Access to Genbank is needed in order to download the template.\n",
    "If you execute this script, change the email address below to your own.\n",
    "Always tell Genbank who you are, when using their web service."
   ]
  },
  {
   "cell_type": "code",
   "execution_count": 5,
   "metadata": {
    "execution": {
     "iopub.execute_input": "2021-05-17T10:27:20.637892Z",
     "iopub.status.busy": "2021-05-17T10:27:20.637458Z",
     "iopub.status.idle": "2021-05-17T10:27:20.639672Z",
     "shell.execute_reply": "2021-05-17T10:27:20.639300Z"
    }
   },
   "outputs": [],
   "source": [
    "gb = Genbank(\"bjornjobb@gmail.com\")"
   ]
  },
  {
   "cell_type": "markdown",
   "metadata": {},
   "source": [
    "The template is downloaded from Genbank below."
   ]
  },
  {
   "cell_type": "code",
   "execution_count": 6,
   "metadata": {
    "execution": {
     "iopub.execute_input": "2021-05-17T10:27:20.643763Z",
     "iopub.status.busy": "2021-05-17T10:27:20.643095Z",
     "iopub.status.idle": "2021-05-17T10:27:20.653335Z",
     "shell.execute_reply": "2021-05-17T10:27:20.652753Z"
    }
   },
   "outputs": [],
   "source": [
    "template = gb.nucleotide(\"BK006938.2 REGION: 217075..217599\")"
   ]
  },
  {
   "cell_type": "markdown",
   "metadata": {},
   "source": [
    "The template is a 525 bp linear DNA fragment."
   ]
  },
  {
   "cell_type": "code",
   "execution_count": 7,
   "metadata": {
    "execution": {
     "iopub.execute_input": "2021-05-17T10:27:20.661959Z",
     "iopub.status.busy": "2021-05-17T10:27:20.661274Z",
     "iopub.status.idle": "2021-05-17T10:27:20.664292Z",
     "shell.execute_reply": "2021-05-17T10:27:20.664844Z"
    }
   },
   "outputs": [
    {
     "data": {
      "text/html": [
       "<a href='https://www.ncbi.nlm.nih.gov/nuccore/BK006938.2 ?from=217075&to=217599&strand=1' target='_blank'>BK006938.2  217075-217599</a>"
      ],
      "text/plain": [
       "Gbank(BK006938.2  217075-217599)(-525)"
      ]
     },
     "execution_count": 1,
     "metadata": {},
     "output_type": "execute_result"
    }
   ],
   "source": [
    "template"
   ]
  },
  {
   "cell_type": "markdown",
   "metadata": {},
   "source": [
    "The insert has the sequence shown below."
   ]
  },
  {
   "cell_type": "code",
   "execution_count": 8,
   "metadata": {
    "execution": {
     "iopub.execute_input": "2021-05-17T10:27:20.669874Z",
     "iopub.status.busy": "2021-05-17T10:27:20.668946Z",
     "iopub.status.idle": "2021-05-17T10:27:20.672219Z",
     "shell.execute_reply": "2021-05-17T10:27:20.672829Z"
    }
   },
   "outputs": [
    {
     "name": "stdout",
     "output_type": "stream",
     "text": [
      "TCTAAATCTGTATAGAACGTTTAGTCATGCGGACCTTGTGTGTTTTGTTTCTAGATTGTTTTATTTTTATGATTGTTGAAGATATAAACCACTGTATAGTTGTATAAGATAGGATAATGATGGTGCACTGAAAATAAACTTACTAGCTCTTTAATATTGCAACGGCTTGTAACGGGCGCCATGATGACATTCAGAATTATACCACTACTATATGAAAAAATGAAAAGAGGCCCTGCTTTGAACCCGTACATTTTATTCTATAATATTGCATCTGTGGTTTGCCTGACGGCAGCGAGTCCAACACAAAGTCTGGCATATGCTACGAATTTTCCACCATGGATTCAGCACCCAAACATTTGAATTTTTTTTCATGTCGATTGTGAAATTTTACTGAAGATGAGGGTAAATAGAGGCCTGCAATCGTCATCATATGAGAAATGGATATATTGAAAATCTACTCACATCTCTTTTTTGGGGGTTTGGTAGTACAGTGAGAACACGATAAAGAACCAAATAGGACTAAAA\n"
     ]
    }
   ],
   "source": [
    "print(str(template.seq))"
   ]
  },
  {
   "cell_type": "markdown",
   "metadata": {},
   "source": [
    "The seguid checksum of the template should be\n",
    "\n",
    "```zMNFzGUFzZXbOwfwkFgAiFqAz3A```"
   ]
  },
  {
   "cell_type": "code",
   "execution_count": 9,
   "metadata": {
    "execution": {
     "iopub.execute_input": "2021-05-17T10:27:20.677931Z",
     "iopub.status.busy": "2021-05-17T10:27:20.676943Z",
     "iopub.status.idle": "2021-05-17T10:27:20.680278Z",
     "shell.execute_reply": "2021-05-17T10:27:20.680891Z"
    }
   },
   "outputs": [
    {
     "data": {
      "text/plain": [
       "zMNFzGUFzZXbOwfwkFgAiFqAz3A"
      ]
     },
     "execution_count": 1,
     "metadata": {},
     "output_type": "execute_result"
    }
   ],
   "source": [
    "template.seguid()"
   ]
  },
  {
   "cell_type": "markdown",
   "metadata": {},
   "source": [
    "Two primers are used to amplify the insert:"
   ]
  },
  {
   "cell_type": "code",
   "execution_count": 10,
   "metadata": {
    "execution": {
     "iopub.execute_input": "2021-05-17T10:27:20.686149Z",
     "iopub.status.busy": "2021-05-17T10:27:20.685461Z",
     "iopub.status.idle": "2021-05-17T10:27:20.688278Z",
     "shell.execute_reply": "2021-05-17T10:27:20.687629Z"
    }
   },
   "outputs": [],
   "source": [
    "fp,rp = parse_primers(\"\"\">840_RPL35Btpf\n",
    "                         ttaaatTCTAAATCTGTATAGAACGTTTA\n",
    "                         >839_RPL35Btpr\n",
    "                         taattaaTTTTAGTCCTATTTGGTTCTT\"\"\")"
   ]
  },
  {
   "cell_type": "markdown",
   "metadata": {},
   "source": [
    "PCR to create the insert using the primers above."
   ]
  },
  {
   "cell_type": "code",
   "execution_count": 11,
   "metadata": {
    "execution": {
     "iopub.execute_input": "2021-05-17T10:27:20.694423Z",
     "iopub.status.busy": "2021-05-17T10:27:20.693502Z",
     "iopub.status.idle": "2021-05-17T10:27:20.698996Z",
     "shell.execute_reply": "2021-05-17T10:27:20.698418Z"
    }
   },
   "outputs": [],
   "source": [
    "prd = pcr(fp, rp, template)\n",
    "assert str(fp.seq) in prd"
   ]
  },
  {
   "cell_type": "markdown",
   "metadata": {},
   "source": [
    "The PCR product has this length in bp."
   ]
  },
  {
   "cell_type": "code",
   "execution_count": 12,
   "metadata": {
    "execution": {
     "iopub.execute_input": "2021-05-17T10:27:20.703293Z",
     "iopub.status.busy": "2021-05-17T10:27:20.702500Z",
     "iopub.status.idle": "2021-05-17T10:27:20.706533Z",
     "shell.execute_reply": "2021-05-17T10:27:20.705872Z"
    }
   },
   "outputs": [
    {
     "data": {
      "text/plain": [
       "538"
      ]
     },
     "execution_count": 1,
     "metadata": {},
     "output_type": "execute_result"
    }
   ],
   "source": [
    "len(prd)"
   ]
  },
  {
   "cell_type": "markdown",
   "metadata": {},
   "source": [
    "A figure of the primers annealing on template."
   ]
  },
  {
   "cell_type": "code",
   "execution_count": 13,
   "metadata": {
    "execution": {
     "iopub.execute_input": "2021-05-17T10:27:20.711788Z",
     "iopub.status.busy": "2021-05-17T10:27:20.710836Z",
     "iopub.status.idle": "2021-05-17T10:27:20.714287Z",
     "shell.execute_reply": "2021-05-17T10:27:20.714865Z"
    }
   },
   "outputs": [
    {
     "data": {
      "text/plain": [
       "      5TCTAAATCTGTATAGAACGTTTA...AAGAACCAAATAGGACTAAAA3\n",
       "                                 |||||||||||||||||||||\n",
       "                                3TTCTTGGTTTATCCTGATTTTaattaat5\n",
       "5ttaaatTCTAAATCTGTATAGAACGTTTA3\n",
       "       |||||||||||||||||||||||\n",
       "      3AGATTTAGACATATCTTGCAAAT...TTCTTGGTTTATCCTGATTTT5"
      ]
     },
     "execution_count": 1,
     "metadata": {},
     "output_type": "execute_result"
    }
   ],
   "source": [
    "prd.figure()"
   ]
  },
  {
   "cell_type": "markdown",
   "metadata": {},
   "source": [
    "A suggested PCR program."
   ]
  },
  {
   "cell_type": "code",
   "execution_count": 14,
   "metadata": {
    "execution": {
     "iopub.execute_input": "2021-05-17T10:27:20.720493Z",
     "iopub.status.busy": "2021-05-17T10:27:20.719568Z",
     "iopub.status.idle": "2021-05-17T10:27:20.723548Z",
     "shell.execute_reply": "2021-05-17T10:27:20.722929Z"
    }
   },
   "outputs": [
    {
     "data": {
      "text/plain": [
       "|95°C|95°C               |    |tmf:54.3\n",
       "|____|_____          72°C|72°C|tmr:54.7\n",
       "|5min|30s  \\ 52.4°C _____|____|60s/kb\n",
       "|    |      \\______/ 0:32|5min|GC 34%\n",
       "|    |       30s         |    |538bp"
      ]
     },
     "execution_count": 1,
     "metadata": {},
     "output_type": "execute_result"
    }
   ],
   "source": [
    "prd.program()"
   ]
  },
  {
   "cell_type": "markdown",
   "metadata": {},
   "source": [
    "The final vectors are:"
   ]
  },
  {
   "cell_type": "code",
   "execution_count": 15,
   "metadata": {
    "execution": {
     "iopub.execute_input": "2021-05-17T10:27:20.802257Z",
     "iopub.status.busy": "2021-05-17T10:27:20.766694Z",
     "iopub.status.idle": "2021-05-17T10:27:21.171209Z",
     "shell.execute_reply": "2021-05-17T10:27:21.170540Z"
    }
   },
   "outputs": [],
   "source": [
    "pYPKa_Z_RPL35B = (pYPKa_ZraI  + prd).looped().synced(pYPKa)\n",
    "pYPKa_E_RPL35B = (pYPKa_EcoRV + prd).looped().synced(pYPKa)"
   ]
  },
  {
   "cell_type": "markdown",
   "metadata": {},
   "source": [
    "The final vectors with reverse inserts are created below. These vectors theoretically make up\n",
    "fifty percent of the clones. The PCR strategy outlined below can be used to identify clones with the insert\n",
    "in the correct orientation."
   ]
  },
  {
   "cell_type": "code",
   "execution_count": 16,
   "metadata": {
    "execution": {
     "iopub.execute_input": "2021-05-17T10:27:21.219508Z",
     "iopub.status.busy": "2021-05-17T10:27:21.209305Z",
     "iopub.status.idle": "2021-05-17T10:27:21.651628Z",
     "shell.execute_reply": "2021-05-17T10:27:21.652053Z"
    }
   },
   "outputs": [],
   "source": [
    "pYPKa_Z_RPL35Bb = (pYPKa_ZraI  + prd.rc()).looped().synced(pYPKa)\n",
    "pYPKa_E_RPL35Bb = (pYPKa_EcoRV + prd.rc()).looped().synced(pYPKa)"
   ]
  },
  {
   "cell_type": "markdown",
   "metadata": {},
   "source": [
    "A combination of yeast pathway kit standard primers and the primers above are\n",
    "used for the strategy to identify correct clones.\n",
    "Standard primers used in the yeast are listed [here](standard_primers.txt)."
   ]
  },
  {
   "cell_type": "code",
   "execution_count": 17,
   "metadata": {
    "execution": {
     "iopub.execute_input": "2021-05-17T10:27:21.656504Z",
     "iopub.status.busy": "2021-05-17T10:27:21.656066Z",
     "iopub.status.idle": "2021-05-17T10:27:21.658105Z",
     "shell.execute_reply": "2021-05-17T10:27:21.658708Z"
    }
   },
   "outputs": [],
   "source": [
    "p = { x.id: x for x in parse_primers(\"\"\">577\n",
    "                                         gttctgatcctcgagcatcttaagaattc\n",
    "                                         >578\n",
    "                                         gttcttgtctcattgccacattcataagt\n",
    "                                         >468\n",
    "                                         gtcgaggaacgccaggttgcccact\n",
    "                                         >467\n",
    "                                         ATTTAAatcctgatgcgtttgtctgcacaga\n",
    "                                         >567\n",
    "                                         GTcggctgcaggtcactagtgag\n",
    "                                         >568\n",
    "                                         GTGCcatctgtgcagacaaacg\n",
    "                                         >775\n",
    "                                         gcggccgctgacTTAAAT\n",
    "                                         >778\n",
    "                                         ggtaaatccggatTAATTAA\n",
    "                                         >342\n",
    "                                         CCTTTTTACGGTTCCTGGCCT\"\"\") }"
   ]
  },
  {
   "cell_type": "markdown",
   "metadata": {},
   "source": [
    "## Diagnostic PCR confirmation\n",
    "\n",
    "The correct structure of pYPKa_Z_RPL35B is confirmed by PCR using standard primers\n",
    "577 and 342 that are vector specific together with the RPL35Bfw primer specific for the insert\n",
    "in a multiplex PCR reaction with\n",
    "all three primers present.\n",
    "\n",
    "Two PCR products are expected if the insert was cloned, the sizes depend\n",
    "on the orientation. If the vector is empty or contains another insert, only one\n",
    "product is formed.\n",
    "\n",
    "#### Expected PCR products sizes from pYPKa_Z_RPL35B:\n",
    "\n",
    "pYPKa_Z_RPL35B with insert in correct orientation."
   ]
  },
  {
   "cell_type": "code",
   "execution_count": 18,
   "metadata": {
    "execution": {
     "iopub.execute_input": "2021-05-17T10:27:21.671629Z",
     "iopub.status.busy": "2021-05-17T10:27:21.671095Z",
     "iopub.status.idle": "2021-05-17T10:27:21.673742Z",
     "shell.execute_reply": "2021-05-17T10:27:21.674175Z"
    }
   },
   "outputs": [
    {
     "data": {
      "text/plain": [
       "[Amplicon(1472), Amplicon(1304)]"
      ]
     },
     "execution_count": 1,
     "metadata": {},
     "output_type": "execute_result"
    }
   ],
   "source": [
    "Anneal( (p['577'], p['342'], fp), pYPKa_Z_RPL35B).products"
   ]
  },
  {
   "cell_type": "markdown",
   "metadata": {},
   "source": [
    "pYPKa_Z_RPL35B with insert in reverse orientation."
   ]
  },
  {
   "cell_type": "code",
   "execution_count": 19,
   "metadata": {
    "execution": {
     "iopub.execute_input": "2021-05-17T10:27:21.687381Z",
     "iopub.status.busy": "2021-05-17T10:27:21.686693Z",
     "iopub.status.idle": "2021-05-17T10:27:21.689302Z",
     "shell.execute_reply": "2021-05-17T10:27:21.689763Z"
    }
   },
   "outputs": [
    {
     "data": {
      "text/plain": [
       "[Amplicon(1472), Amplicon(706)]"
      ]
     },
     "execution_count": 1,
     "metadata": {},
     "output_type": "execute_result"
    }
   ],
   "source": [
    "Anneal( (p['577'], p['342'], fp), pYPKa_Z_RPL35Bb).products"
   ]
  },
  {
   "cell_type": "markdown",
   "metadata": {},
   "source": [
    "Empty pYPKa clone."
   ]
  },
  {
   "cell_type": "code",
   "execution_count": 20,
   "metadata": {
    "execution": {
     "iopub.execute_input": "2021-05-17T10:27:21.698433Z",
     "iopub.status.busy": "2021-05-17T10:27:21.697873Z",
     "iopub.status.idle": "2021-05-17T10:27:21.700695Z",
     "shell.execute_reply": "2021-05-17T10:27:21.701226Z"
    }
   },
   "outputs": [
    {
     "data": {
      "text/plain": [
       "[Amplicon(934)]"
      ]
     },
     "execution_count": 1,
     "metadata": {},
     "output_type": "execute_result"
    }
   ],
   "source": [
    "Anneal( (p['577'], p['342'], fp), pYPKa).products"
   ]
  },
  {
   "cell_type": "markdown",
   "metadata": {},
   "source": [
    "#### Expected PCR products sizes pYPKa_E_RPL35B:\n",
    "\n",
    "pYPKa_E_RPL35B with insert in correct orientation."
   ]
  },
  {
   "cell_type": "code",
   "execution_count": 21,
   "metadata": {
    "execution": {
     "iopub.execute_input": "2021-05-17T10:27:21.712192Z",
     "iopub.status.busy": "2021-05-17T10:27:21.711058Z",
     "iopub.status.idle": "2021-05-17T10:27:21.714916Z",
     "shell.execute_reply": "2021-05-17T10:27:21.715410Z"
    }
   },
   "outputs": [
    {
     "data": {
      "text/plain": [
       "[Amplicon(1472), Amplicon(1223)]"
      ]
     },
     "execution_count": 1,
     "metadata": {},
     "output_type": "execute_result"
    }
   ],
   "source": [
    "Anneal( (p['577'], p['342'], fp), pYPKa_E_RPL35B).products"
   ]
  },
  {
   "cell_type": "markdown",
   "metadata": {},
   "source": [
    "pYPKa_E_RPL35B with insert in reverse orientation."
   ]
  },
  {
   "cell_type": "code",
   "execution_count": 22,
   "metadata": {
    "execution": {
     "iopub.execute_input": "2021-05-17T10:27:21.725786Z",
     "iopub.status.busy": "2021-05-17T10:27:21.724937Z",
     "iopub.status.idle": "2021-05-17T10:27:21.727927Z",
     "shell.execute_reply": "2021-05-17T10:27:21.728478Z"
    }
   },
   "outputs": [
    {
     "data": {
      "text/plain": [
       "[Amplicon(1472), Amplicon(787)]"
      ]
     },
     "execution_count": 1,
     "metadata": {},
     "output_type": "execute_result"
    }
   ],
   "source": [
    "Anneal( (p['577'], p['342'], fp), pYPKa_E_RPL35Bb).products\n"
   ]
  },
  {
   "cell_type": "markdown",
   "metadata": {},
   "source": [
    "Calculate cseguid checksums for the resulting plasmids for future reference.\n",
    "This checksum that uniquely describes a circular double stranded\n",
    "sequence. See this [blog post](https://ochsavidare.blogspot.com/2016/02/checksum-for-circular-biological.html) for more info.\n",
    "\n",
    "pYPKa_Z_RPL35B.cseguid() should be 3Za2jrawinJJSlWQUSccUp2O9n4"
   ]
  },
  {
   "cell_type": "code",
   "execution_count": 23,
   "metadata": {
    "execution": {
     "iopub.execute_input": "2021-05-17T10:27:21.737495Z",
     "iopub.status.busy": "2021-05-17T10:27:21.736868Z",
     "iopub.status.idle": "2021-05-17T10:27:21.740364Z",
     "shell.execute_reply": "2021-05-17T10:27:21.739718Z"
    }
   },
   "outputs": [
    {
     "name": "stdout",
     "output_type": "stream",
     "text": [
      "3Za2jrawinJJSlWQUSccUp2O9n4\n"
     ]
    }
   ],
   "source": [
    "print(pYPKa_Z_RPL35B.cseguid())\n",
    "assert pYPKa_Z_RPL35B.cseguid() == \"3Za2jrawinJJSlWQUSccUp2O9n4\""
   ]
  },
  {
   "cell_type": "markdown",
   "metadata": {},
   "source": [
    "pYPKa_E_RPL35B.cseguid() should be OoS5IwO9_Qk1m7ArvEs9m4hocrc"
   ]
  },
  {
   "cell_type": "code",
   "execution_count": 24,
   "metadata": {
    "execution": {
     "iopub.execute_input": "2021-05-17T10:27:21.753044Z",
     "iopub.status.busy": "2021-05-17T10:27:21.752548Z",
     "iopub.status.idle": "2021-05-17T10:27:21.754788Z",
     "shell.execute_reply": "2021-05-17T10:27:21.755208Z"
    }
   },
   "outputs": [
    {
     "name": "stdout",
     "output_type": "stream",
     "text": [
      "OoS5IwO9_Qk1m7ArvEs9m4hocrc\n"
     ]
    }
   ],
   "source": [
    "print(pYPKa_E_RPL35B.cseguid())\n",
    "assert pYPKa_E_RPL35B.cseguid() == \"OoS5IwO9_Qk1m7ArvEs9m4hocrc\""
   ]
  },
  {
   "cell_type": "markdown",
   "metadata": {},
   "source": [
    "The sequences are named based on the name of the cloned insert."
   ]
  },
  {
   "cell_type": "code",
   "execution_count": 25,
   "metadata": {
    "execution": {
     "iopub.execute_input": "2021-05-17T10:27:21.758581Z",
     "iopub.status.busy": "2021-05-17T10:27:21.758156Z",
     "iopub.status.idle": "2021-05-17T10:27:21.760420Z",
     "shell.execute_reply": "2021-05-17T10:27:21.761399Z"
    }
   },
   "outputs": [],
   "source": [
    "pYPKa_Z_RPL35B.locus = \"pYPKa_Z_RPL35B\"[:16]\n",
    "pYPKa_E_RPL35B.locus = \"pYPKa_Z_RPL35B\"[:16]"
   ]
  },
  {
   "cell_type": "markdown",
   "metadata": {},
   "source": [
    "Stamp sequence with cseguid checksum. This can be used to verify the\n",
    "integrity of the sequence file."
   ]
  },
  {
   "cell_type": "code",
   "execution_count": 26,
   "metadata": {
    "execution": {
     "iopub.execute_input": "2021-05-17T10:27:21.774000Z",
     "iopub.status.busy": "2021-05-17T10:27:21.773163Z",
     "iopub.status.idle": "2021-05-17T10:27:21.776143Z",
     "shell.execute_reply": "2021-05-17T10:27:21.776683Z"
    }
   },
   "outputs": [
    {
     "data": {
      "text/plain": [
       "cSEGUID_OoS5IwO9_Qk1m7ArvEs9m4hocrc"
      ]
     },
     "execution_count": 1,
     "metadata": {},
     "output_type": "execute_result"
    }
   ],
   "source": [
    "pYPKa_Z_RPL35B.stamp()\n",
    "pYPKa_E_RPL35B.stamp()"
   ]
  },
  {
   "cell_type": "markdown",
   "metadata": {},
   "source": [
    "pYPKa_Z_RPL35B is written to a local file:"
   ]
  },
  {
   "cell_type": "code",
   "execution_count": 27,
   "metadata": {
    "execution": {
     "iopub.execute_input": "2021-05-17T10:27:21.780987Z",
     "iopub.status.busy": "2021-05-17T10:27:21.779889Z",
     "iopub.status.idle": "2021-05-17T10:27:21.792773Z",
     "shell.execute_reply": "2021-05-17T10:27:21.795236Z"
    }
   },
   "outputs": [
    {
     "data": {
      "text/html": [
       "<font face=monospace><a href='pYPKa_Z_RPL35B.gb' target='_blank'>pYPKa_Z_RPL35B.gb</a></font><br>"
      ]
     },
     "metadata": {},
     "output_type": "display_data"
    }
   ],
   "source": [
    "pYPKa_Z_RPL35B.write(\"pYPKa_Z_RPL35B.gb\")"
   ]
  },
  {
   "cell_type": "markdown",
   "metadata": {},
   "source": [
    "pYPKa_E_RPL35B is written to a local file:"
   ]
  },
  {
   "cell_type": "code",
   "execution_count": 28,
   "metadata": {
    "execution": {
     "iopub.execute_input": "2021-05-17T10:27:21.801115Z",
     "iopub.status.busy": "2021-05-17T10:27:21.799541Z",
     "iopub.status.idle": "2021-05-17T10:27:21.806578Z",
     "shell.execute_reply": "2021-05-17T10:27:21.805872Z"
    }
   },
   "outputs": [
    {
     "data": {
      "text/html": [
       "<font face=monospace><a href='pYPKa_E_RPL35B.gb' target='_blank'>pYPKa_E_RPL35B.gb</a></font><br>"
      ]
     },
     "metadata": {},
     "output_type": "display_data"
    }
   ],
   "source": [
    "pYPKa_E_RPL35B.write(\"pYPKa_E_RPL35B.gb\")"
   ]
  }
 ],
 "metadata": {
  "kernelspec": {
   "display_name": "Python [conda env:bjorn37]",
   "language": "python",
   "name": "conda-env-bjorn37-py"
  },
  "language_info": {
   "codemirror_mode": {
    "name": "ipython",
    "version": 3
   },
   "file_extension": ".py",
   "mimetype": "text/x-python",
   "name": "python",
   "nbconvert_exporter": "python",
   "pygments_lexer": "ipython3",
   "version": "3.9.0"
  }
 },
 "nbformat": 4,
 "nbformat_minor": 2
}
