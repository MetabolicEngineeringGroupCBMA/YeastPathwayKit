{
 "cells": [
  {
   "cell_type": "markdown",
   "metadata": {},
   "source": [
    "# pYPKa_Z_RPS7B and pYPKa_E_RPS7B\n",
    "\n",
    "This Jupyter notebook describe the construction of E. coli vectors [pYPKa_Z_RPS7B](pYPKa_Z_RPS7B.gb) and [pYPKa_E_RPS7B](pYPKa_E_RPS7B.gb). \n",
    "These two vectors share backbone and insert, but in the former, the insert is cloned using the restriction\n",
    "enzyme [ZraI](http://rebase.neb.com/rebase/enz/ZraI.html) while in the latter [EcoRV](http://rebase.neb.com/rebase/enz/EcoRV.html) is used.\n",
    "\n",
    "The insert cloned in ZraI is meant to function as a promoter, while in the EcoRV site it is meant to be  used as a terminator.\n",
    "\n",
    "Links to the sequence of each vector in Genbank format can be found at the bottom of this document.\n",
    "\n",
    "![pYPKa_Z and pYPKa_E](figure_pYPKa_ZE.png \"pYPKa_Z or pYPKa_E plasmid\")\n",
    "\n",
    "The Python package [pydna](https://pypi.python.org/pypi/pydna/) package is imported in the code cell below to provide \n",
    "the cloning functionality. There is a [publication](http://www.biomedcentral.com/1471-2105/16/142) describing pydna as well as\n",
    "[documentation](http://pydna.readthedocs.io/) available online. Pydna is developed on [Github](https://github.com/BjornFJohansson/pydna)."
   ]
  },
  {
   "cell_type": "code",
   "execution_count": 1,
   "metadata": {
    "execution": {
     "iopub.execute_input": "2021-05-17T10:27:52.676170Z",
     "iopub.status.busy": "2021-05-17T10:27:52.675462Z",
     "iopub.status.idle": "2021-05-17T10:27:53.259683Z",
     "shell.execute_reply": "2021-05-17T10:27:53.259126Z"
    }
   },
   "outputs": [],
   "source": [
    "from pydna.readers import read\n",
    "from pydna.parsers import parse_primers\n",
    "from pydna.genbank import Genbank\n",
    "from pydna.amplify import pcr\n",
    "from pydna.amplify import Anneal"
   ]
  },
  {
   "cell_type": "markdown",
   "metadata": {},
   "source": [
    "The vector backbone pYPKa is read from a local [file](pYPKa.gb)."
   ]
  },
  {
   "cell_type": "code",
   "execution_count": 2,
   "metadata": {
    "execution": {
     "iopub.execute_input": "2021-05-17T10:27:53.267818Z",
     "iopub.status.busy": "2021-05-17T10:27:53.266546Z",
     "iopub.status.idle": "2021-05-17T10:27:53.275747Z",
     "shell.execute_reply": "2021-05-17T10:27:53.276300Z"
    }
   },
   "outputs": [],
   "source": [
    "pYPKa = read(\"pYPKa.gb\")"
   ]
  },
  {
   "cell_type": "markdown",
   "metadata": {},
   "source": [
    "Both restriction enzymes are imported from [Biopython](http://biopython.org/wiki/Main_Page)"
   ]
  },
  {
   "cell_type": "code",
   "execution_count": 3,
   "metadata": {
    "execution": {
     "iopub.execute_input": "2021-05-17T10:27:53.279840Z",
     "iopub.status.busy": "2021-05-17T10:27:53.279382Z",
     "iopub.status.idle": "2021-05-17T10:27:53.281327Z",
     "shell.execute_reply": "2021-05-17T10:27:53.281850Z"
    }
   },
   "outputs": [],
   "source": [
    "from Bio.Restriction import ZraI, EcoRV"
   ]
  },
  {
   "cell_type": "markdown",
   "metadata": {},
   "source": [
    "The vector is cut with both enzymes."
   ]
  },
  {
   "cell_type": "code",
   "execution_count": 4,
   "metadata": {
    "execution": {
     "iopub.execute_input": "2021-05-17T10:27:53.288773Z",
     "iopub.status.busy": "2021-05-17T10:27:53.288129Z",
     "iopub.status.idle": "2021-05-17T10:27:53.290654Z",
     "shell.execute_reply": "2021-05-17T10:27:53.291289Z"
    }
   },
   "outputs": [],
   "source": [
    "pYPKa_ZraI  = pYPKa.linearize(ZraI)\n",
    "pYPKa_EcoRV = pYPKa.linearize(EcoRV)"
   ]
  },
  {
   "cell_type": "markdown",
   "metadata": {},
   "source": [
    "The template below comes from a Genbank [record](http://www.ncbi.nlm.nih.gov/nuccore/BK006947.3).\n",
    "Access to Genbank is needed in order to download the template.\n",
    "If you execute this script, change the email address below to your own.\n",
    "Always tell Genbank who you are, when using their web service."
   ]
  },
  {
   "cell_type": "code",
   "execution_count": 5,
   "metadata": {
    "execution": {
     "iopub.execute_input": "2021-05-17T10:27:53.297898Z",
     "iopub.status.busy": "2021-05-17T10:27:53.297149Z",
     "iopub.status.idle": "2021-05-17T10:27:53.300699Z",
     "shell.execute_reply": "2021-05-17T10:27:53.299982Z"
    }
   },
   "outputs": [],
   "source": [
    "gb = Genbank(\"bjornjobb@gmail.com\")"
   ]
  },
  {
   "cell_type": "markdown",
   "metadata": {},
   "source": [
    "The template is downloaded from Genbank below."
   ]
  },
  {
   "cell_type": "code",
   "execution_count": 6,
   "metadata": {
    "execution": {
     "iopub.execute_input": "2021-05-17T10:27:53.309971Z",
     "iopub.status.busy": "2021-05-17T10:27:53.309234Z",
     "iopub.status.idle": "2021-05-17T10:27:53.321062Z",
     "shell.execute_reply": "2021-05-17T10:27:53.320530Z"
    }
   },
   "outputs": [],
   "source": [
    "template = gb.nucleotide(\"BK006947.3 REGION: complement(444316..444911)\")"
   ]
  },
  {
   "cell_type": "markdown",
   "metadata": {},
   "source": [
    "The template is a 596 bp linear DNA fragment."
   ]
  },
  {
   "cell_type": "code",
   "execution_count": 7,
   "metadata": {
    "execution": {
     "iopub.execute_input": "2021-05-17T10:27:53.331967Z",
     "iopub.status.busy": "2021-05-17T10:27:53.331270Z",
     "iopub.status.idle": "2021-05-17T10:27:53.334348Z",
     "shell.execute_reply": "2021-05-17T10:27:53.333851Z"
    }
   },
   "outputs": [
    {
     "data": {
      "text/html": [
       "<a href='https://www.ncbi.nlm.nih.gov/nuccore/BK006947.3 ?from=444316&to=444911&strand=2' target='_blank'>BK006947.3  444316-444911</a>"
      ],
      "text/plain": [
       "Gbank(BK006947.3  444316-444911)(-596)"
      ]
     },
     "execution_count": 1,
     "metadata": {},
     "output_type": "execute_result"
    }
   ],
   "source": [
    "template"
   ]
  },
  {
   "cell_type": "markdown",
   "metadata": {},
   "source": [
    "The insert has the sequence shown below."
   ]
  },
  {
   "cell_type": "code",
   "execution_count": 8,
   "metadata": {
    "execution": {
     "iopub.execute_input": "2021-05-17T10:27:53.338316Z",
     "iopub.status.busy": "2021-05-17T10:27:53.337618Z",
     "iopub.status.idle": "2021-05-17T10:27:53.341441Z",
     "shell.execute_reply": "2021-05-17T10:27:53.342032Z"
    }
   },
   "outputs": [
    {
     "name": "stdout",
     "output_type": "stream",
     "text": [
      "TTTTAATCCATTAAACAAAAAATTATTACCACTCCTAATCACTGTTTTAGGGTGGGTTAAAATTAACATTCTCCATTTTTATATAGAACTAATAAAAAACACCTACTTATAGACACGACCAAACTTTCCACAACCTTTCATCAGAGAGAAATGTTGATCAAGTTGAATGCGTGAAAGTAGCAATTCGAAACAACAACTACCTGTCATTCTGCATAGTAGTAGTTACGAAAGGCACAGAAAATAACAAAAAAAAAAAAAAAGTCAATTTTCTACGGTCTCCATCCGTACCTCTTTAAATCCGTACATTATTGTTTTGCTTAATTTCAATATTTCGGAAAAAGCGAGCGCCCTGGTAAAATGTGGTTCAAGCCTGCGAGCCTTTGCTTGGTAACTCACCAAATGCAATTCAGTCACGTTCCACACAGTTTGGGTTTCCAGCCTGGCTTTAGGGAAGAATGGGCTCACTAGGCGTTCATAATACGCGGAGGGGGAAATACCAAATGCTATTGATTATGGTTAAAATATGTGTTATTTGACTTTGTATATACAAACAGAAGAGAAACCAACACACTAAAGACTAGACACATAACTGACCA\n"
     ]
    }
   ],
   "source": [
    "print(str(template.seq))"
   ]
  },
  {
   "cell_type": "markdown",
   "metadata": {},
   "source": [
    "The seguid checksum of the template should be\n",
    "\n",
    "```UoHVhPTV5d70MGLnt-2zWc7NqcA```"
   ]
  },
  {
   "cell_type": "code",
   "execution_count": 9,
   "metadata": {
    "execution": {
     "iopub.execute_input": "2021-05-17T10:27:53.347842Z",
     "iopub.status.busy": "2021-05-17T10:27:53.346773Z",
     "iopub.status.idle": "2021-05-17T10:27:53.350098Z",
     "shell.execute_reply": "2021-05-17T10:27:53.350609Z"
    }
   },
   "outputs": [
    {
     "data": {
      "text/plain": [
       "UoHVhPTV5d70MGLnt-2zWc7NqcA"
      ]
     },
     "execution_count": 1,
     "metadata": {},
     "output_type": "execute_result"
    }
   ],
   "source": [
    "template.seguid()"
   ]
  },
  {
   "cell_type": "markdown",
   "metadata": {},
   "source": [
    "Two primers are used to amplify the insert:"
   ]
  },
  {
   "cell_type": "code",
   "execution_count": 10,
   "metadata": {
    "execution": {
     "iopub.execute_input": "2021-05-17T10:27:53.355555Z",
     "iopub.status.busy": "2021-05-17T10:27:53.354706Z",
     "iopub.status.idle": "2021-05-17T10:27:53.358197Z",
     "shell.execute_reply": "2021-05-17T10:27:53.357606Z"
    }
   },
   "outputs": [],
   "source": [
    "fp,rp = parse_primers(\"\"\">755_RPS7B_fw\n",
    "                         ttaaatTTTTAATCCATTAAACAAAAAAT\n",
    "                         >756_RPS7B_rv\n",
    "                         taattaaTGGTCAGTTATGTGTCTAGTCT\"\"\")"
   ]
  },
  {
   "cell_type": "markdown",
   "metadata": {},
   "source": [
    "PCR to create the insert using the primers above."
   ]
  },
  {
   "cell_type": "code",
   "execution_count": 11,
   "metadata": {
    "execution": {
     "iopub.execute_input": "2021-05-17T10:27:53.366308Z",
     "iopub.status.busy": "2021-05-17T10:27:53.365458Z",
     "iopub.status.idle": "2021-05-17T10:27:53.370771Z",
     "shell.execute_reply": "2021-05-17T10:27:53.370229Z"
    }
   },
   "outputs": [],
   "source": [
    "prd = pcr(fp, rp, template)\n",
    "assert str(fp.seq) in prd"
   ]
  },
  {
   "cell_type": "markdown",
   "metadata": {},
   "source": [
    "The PCR product has this length in bp."
   ]
  },
  {
   "cell_type": "code",
   "execution_count": 12,
   "metadata": {
    "execution": {
     "iopub.execute_input": "2021-05-17T10:27:53.376465Z",
     "iopub.status.busy": "2021-05-17T10:27:53.375386Z",
     "iopub.status.idle": "2021-05-17T10:27:53.379727Z",
     "shell.execute_reply": "2021-05-17T10:27:53.380788Z"
    }
   },
   "outputs": [
    {
     "data": {
      "text/plain": [
       "609"
      ]
     },
     "execution_count": 1,
     "metadata": {},
     "output_type": "execute_result"
    }
   ],
   "source": [
    "len(prd)"
   ]
  },
  {
   "cell_type": "markdown",
   "metadata": {},
   "source": [
    "A figure of the primers annealing on template."
   ]
  },
  {
   "cell_type": "code",
   "execution_count": 13,
   "metadata": {
    "execution": {
     "iopub.execute_input": "2021-05-17T10:27:53.385903Z",
     "iopub.status.busy": "2021-05-17T10:27:53.385152Z",
     "iopub.status.idle": "2021-05-17T10:27:53.387719Z",
     "shell.execute_reply": "2021-05-17T10:27:53.388323Z"
    }
   },
   "outputs": [
    {
     "data": {
      "text/plain": [
       "      5TTTTAATCCATTAAACAAAAAAT...AGACTAGACACATAACTGACCA3\n",
       "                                 ||||||||||||||||||||||\n",
       "                                3TCTGATCTGTGTATTGACTGGTaattaat5\n",
       "5ttaaatTTTTAATCCATTAAACAAAAAAT3\n",
       "       |||||||||||||||||||||||\n",
       "      3AAAATTAGGTAATTTGTTTTTTA...TCTGATCTGTGTATTGACTGGT5"
      ]
     },
     "execution_count": 1,
     "metadata": {},
     "output_type": "execute_result"
    }
   ],
   "source": [
    "prd.figure()"
   ]
  },
  {
   "cell_type": "markdown",
   "metadata": {},
   "source": [
    "A suggested PCR program."
   ]
  },
  {
   "cell_type": "code",
   "execution_count": 14,
   "metadata": {
    "execution": {
     "iopub.execute_input": "2021-05-17T10:27:53.393512Z",
     "iopub.status.busy": "2021-05-17T10:27:53.392529Z",
     "iopub.status.idle": "2021-05-17T10:27:53.396726Z",
     "shell.execute_reply": "2021-05-17T10:27:53.397342Z"
    }
   },
   "outputs": [
    {
     "data": {
      "text/plain": [
       "|95°C|95°C               |    |tmf:50.3\n",
       "|____|_____          72°C|72°C|tmr:60.2\n",
       "|5min|30s  \\ 51.4°C _____|____|60s/kb\n",
       "|    |      \\______/ 0:36|5min|GC 35%\n",
       "|    |       30s         |    |609bp"
      ]
     },
     "execution_count": 1,
     "metadata": {},
     "output_type": "execute_result"
    }
   ],
   "source": [
    "prd.program()"
   ]
  },
  {
   "cell_type": "markdown",
   "metadata": {},
   "source": [
    "The final vectors are:"
   ]
  },
  {
   "cell_type": "code",
   "execution_count": 15,
   "metadata": {
    "execution": {
     "iopub.execute_input": "2021-05-17T10:27:53.446770Z",
     "iopub.status.busy": "2021-05-17T10:27:53.410861Z",
     "iopub.status.idle": "2021-05-17T10:27:53.898916Z",
     "shell.execute_reply": "2021-05-17T10:27:53.899388Z"
    }
   },
   "outputs": [],
   "source": [
    "pYPKa_Z_RPS7B = (pYPKa_ZraI  + prd).looped().synced(pYPKa)\n",
    "pYPKa_E_RPS7B = (pYPKa_EcoRV + prd).looped().synced(pYPKa)"
   ]
  },
  {
   "cell_type": "markdown",
   "metadata": {},
   "source": [
    "The final vectors with reverse inserts are created below. These vectors theoretically make up\n",
    "fifty percent of the clones. The PCR strategy outlined below can be used to identify clones with the insert\n",
    "in the correct orientation."
   ]
  },
  {
   "cell_type": "code",
   "execution_count": 16,
   "metadata": {
    "execution": {
     "iopub.execute_input": "2021-05-17T10:27:53.973118Z",
     "iopub.status.busy": "2021-05-17T10:27:53.937370Z",
     "iopub.status.idle": "2021-05-17T10:27:54.365789Z",
     "shell.execute_reply": "2021-05-17T10:27:54.366226Z"
    }
   },
   "outputs": [],
   "source": [
    "pYPKa_Z_RPS7Bb = (pYPKa_ZraI  + prd.rc()).looped().synced(pYPKa)\n",
    "pYPKa_E_RPS7Bb = (pYPKa_EcoRV + prd.rc()).looped().synced(pYPKa)"
   ]
  },
  {
   "cell_type": "markdown",
   "metadata": {},
   "source": [
    "A combination of yeast pathway kit standard primers and the primers above are\n",
    "used for the strategy to identify correct clones.\n",
    "Standard primers used in the yeast are listed [here](standard_primers.txt)."
   ]
  },
  {
   "cell_type": "code",
   "execution_count": 17,
   "metadata": {
    "execution": {
     "iopub.execute_input": "2021-05-17T10:27:54.370676Z",
     "iopub.status.busy": "2021-05-17T10:27:54.370249Z",
     "iopub.status.idle": "2021-05-17T10:27:54.372290Z",
     "shell.execute_reply": "2021-05-17T10:27:54.373041Z"
    }
   },
   "outputs": [],
   "source": [
    "p = { x.id: x for x in parse_primers(\"\"\">577\n",
    "                                         gttctgatcctcgagcatcttaagaattc\n",
    "                                         >578\n",
    "                                         gttcttgtctcattgccacattcataagt\n",
    "                                         >468\n",
    "                                         gtcgaggaacgccaggttgcccact\n",
    "                                         >467\n",
    "                                         ATTTAAatcctgatgcgtttgtctgcacaga\n",
    "                                         >567\n",
    "                                         GTcggctgcaggtcactagtgag\n",
    "                                         >568\n",
    "                                         GTGCcatctgtgcagacaaacg\n",
    "                                         >775\n",
    "                                         gcggccgctgacTTAAAT\n",
    "                                         >778\n",
    "                                         ggtaaatccggatTAATTAA\n",
    "                                         >342\n",
    "                                         CCTTTTTACGGTTCCTGGCCT\"\"\") }"
   ]
  },
  {
   "cell_type": "markdown",
   "metadata": {},
   "source": [
    "## Diagnostic PCR confirmation\n",
    "\n",
    "The correct structure of pYPKa_Z_RPS7B is confirmed by PCR using standard primers\n",
    "577 and 342 that are vector specific together with the RPS7Bfw primer specific for the insert\n",
    "in a multiplex PCR reaction with\n",
    "all three primers present.\n",
    "\n",
    "Two PCR products are expected if the insert was cloned, the sizes depend\n",
    "on the orientation. If the vector is empty or contains another insert, only one\n",
    "product is formed.\n",
    "\n",
    "#### Expected PCR products sizes from pYPKa_Z_RPS7B:\n",
    "\n",
    "pYPKa_Z_RPS7B with insert in correct orientation."
   ]
  },
  {
   "cell_type": "code",
   "execution_count": 18,
   "metadata": {
    "execution": {
     "iopub.execute_input": "2021-05-17T10:27:54.387083Z",
     "iopub.status.busy": "2021-05-17T10:27:54.386425Z",
     "iopub.status.idle": "2021-05-17T10:27:54.389288Z",
     "shell.execute_reply": "2021-05-17T10:27:54.388820Z"
    }
   },
   "outputs": [
    {
     "data": {
      "text/plain": [
       "[Amplicon(1543), Amplicon(1375)]"
      ]
     },
     "execution_count": 1,
     "metadata": {},
     "output_type": "execute_result"
    }
   ],
   "source": [
    "Anneal( (p['577'], p['342'], fp), pYPKa_Z_RPS7B).products"
   ]
  },
  {
   "cell_type": "markdown",
   "metadata": {},
   "source": [
    "pYPKa_Z_RPS7B with insert in reverse orientation."
   ]
  },
  {
   "cell_type": "code",
   "execution_count": 19,
   "metadata": {
    "execution": {
     "iopub.execute_input": "2021-05-17T10:27:54.399290Z",
     "iopub.status.busy": "2021-05-17T10:27:54.398529Z",
     "iopub.status.idle": "2021-05-17T10:27:54.402083Z",
     "shell.execute_reply": "2021-05-17T10:27:54.401508Z"
    }
   },
   "outputs": [
    {
     "data": {
      "text/plain": [
       "[Amplicon(1543), Amplicon(777)]"
      ]
     },
     "execution_count": 1,
     "metadata": {},
     "output_type": "execute_result"
    }
   ],
   "source": [
    "Anneal( (p['577'], p['342'], fp), pYPKa_Z_RPS7Bb).products"
   ]
  },
  {
   "cell_type": "markdown",
   "metadata": {},
   "source": [
    "Empty pYPKa clone."
   ]
  },
  {
   "cell_type": "code",
   "execution_count": 20,
   "metadata": {
    "execution": {
     "iopub.execute_input": "2021-05-17T10:27:54.411078Z",
     "iopub.status.busy": "2021-05-17T10:27:54.410278Z",
     "iopub.status.idle": "2021-05-17T10:27:54.415598Z",
     "shell.execute_reply": "2021-05-17T10:27:54.415936Z"
    }
   },
   "outputs": [
    {
     "data": {
      "text/plain": [
       "[Amplicon(934)]"
      ]
     },
     "execution_count": 1,
     "metadata": {},
     "output_type": "execute_result"
    }
   ],
   "source": [
    "Anneal( (p['577'], p['342'], fp), pYPKa).products"
   ]
  },
  {
   "cell_type": "markdown",
   "metadata": {},
   "source": [
    "#### Expected PCR products sizes pYPKa_E_RPS7B:\n",
    "\n",
    "pYPKa_E_RPS7B with insert in correct orientation."
   ]
  },
  {
   "cell_type": "code",
   "execution_count": 21,
   "metadata": {
    "execution": {
     "iopub.execute_input": "2021-05-17T10:27:54.427072Z",
     "iopub.status.busy": "2021-05-17T10:27:54.426356Z",
     "iopub.status.idle": "2021-05-17T10:27:54.429817Z",
     "shell.execute_reply": "2021-05-17T10:27:54.429339Z"
    }
   },
   "outputs": [
    {
     "data": {
      "text/plain": [
       "[Amplicon(1543), Amplicon(1294)]"
      ]
     },
     "execution_count": 1,
     "metadata": {},
     "output_type": "execute_result"
    }
   ],
   "source": [
    "Anneal( (p['577'], p['342'], fp), pYPKa_E_RPS7B).products"
   ]
  },
  {
   "cell_type": "markdown",
   "metadata": {},
   "source": [
    "pYPKa_E_RPS7B with insert in reverse orientation."
   ]
  },
  {
   "cell_type": "code",
   "execution_count": 22,
   "metadata": {
    "execution": {
     "iopub.execute_input": "2021-05-17T10:27:54.441379Z",
     "iopub.status.busy": "2021-05-17T10:27:54.440565Z",
     "iopub.status.idle": "2021-05-17T10:27:54.443460Z",
     "shell.execute_reply": "2021-05-17T10:27:54.443954Z"
    }
   },
   "outputs": [
    {
     "data": {
      "text/plain": [
       "[Amplicon(1543), Amplicon(858)]"
      ]
     },
     "execution_count": 1,
     "metadata": {},
     "output_type": "execute_result"
    }
   ],
   "source": [
    "Anneal( (p['577'], p['342'], fp), pYPKa_E_RPS7Bb).products\n"
   ]
  },
  {
   "cell_type": "markdown",
   "metadata": {},
   "source": [
    "Calculate cseguid checksums for the resulting plasmids for future reference.\n",
    "This checksum that uniquely describes a circular double stranded\n",
    "sequence. See this [blog post](https://ochsavidare.blogspot.com/2016/02/checksum-for-circular-biological.html) for more info.\n",
    "\n",
    "pYPKa_Z_RPS7B.cseguid() should be n8tbb3uva0Mo7juXPRFtqDrDdZI"
   ]
  },
  {
   "cell_type": "code",
   "execution_count": 23,
   "metadata": {
    "execution": {
     "iopub.execute_input": "2021-05-17T10:27:54.453622Z",
     "iopub.status.busy": "2021-05-17T10:27:54.453024Z",
     "iopub.status.idle": "2021-05-17T10:27:54.455690Z",
     "shell.execute_reply": "2021-05-17T10:27:54.456130Z"
    }
   },
   "outputs": [
    {
     "name": "stdout",
     "output_type": "stream",
     "text": [
      "n8tbb3uva0Mo7juXPRFtqDrDdZI\n"
     ]
    }
   ],
   "source": [
    "print(pYPKa_Z_RPS7B.cseguid())\n",
    "assert pYPKa_Z_RPS7B.cseguid() == \"n8tbb3uva0Mo7juXPRFtqDrDdZI\""
   ]
  },
  {
   "cell_type": "markdown",
   "metadata": {},
   "source": [
    "pYPKa_E_RPS7B.cseguid() should be eQrot5NFmMjgV23mD_5DXsCoUA4"
   ]
  },
  {
   "cell_type": "code",
   "execution_count": 24,
   "metadata": {
    "execution": {
     "iopub.execute_input": "2021-05-17T10:27:54.466990Z",
     "iopub.status.busy": "2021-05-17T10:27:54.466388Z",
     "iopub.status.idle": "2021-05-17T10:27:54.469328Z",
     "shell.execute_reply": "2021-05-17T10:27:54.469864Z"
    }
   },
   "outputs": [
    {
     "name": "stdout",
     "output_type": "stream",
     "text": [
      "eQrot5NFmMjgV23mD_5DXsCoUA4\n"
     ]
    }
   ],
   "source": [
    "print(pYPKa_E_RPS7B.cseguid())\n",
    "assert pYPKa_E_RPS7B.cseguid() == \"eQrot5NFmMjgV23mD_5DXsCoUA4\""
   ]
  },
  {
   "cell_type": "markdown",
   "metadata": {},
   "source": [
    "The sequences are named based on the name of the cloned insert."
   ]
  },
  {
   "cell_type": "code",
   "execution_count": 25,
   "metadata": {
    "execution": {
     "iopub.execute_input": "2021-05-17T10:27:54.474171Z",
     "iopub.status.busy": "2021-05-17T10:27:54.473360Z",
     "iopub.status.idle": "2021-05-17T10:27:54.476176Z",
     "shell.execute_reply": "2021-05-17T10:27:54.475606Z"
    }
   },
   "outputs": [],
   "source": [
    "pYPKa_Z_RPS7B.locus = \"pYPKa_Z_RPS7B\"[:16]\n",
    "pYPKa_E_RPS7B.locus = \"pYPKa_Z_RPS7B\"[:16]"
   ]
  },
  {
   "cell_type": "markdown",
   "metadata": {},
   "source": [
    "Stamp sequence with cseguid checksum. This can be used to verify the\n",
    "integrity of the sequence file."
   ]
  },
  {
   "cell_type": "code",
   "execution_count": 26,
   "metadata": {
    "execution": {
     "iopub.execute_input": "2021-05-17T10:27:54.487836Z",
     "iopub.status.busy": "2021-05-17T10:27:54.487165Z",
     "iopub.status.idle": "2021-05-17T10:27:54.489960Z",
     "shell.execute_reply": "2021-05-17T10:27:54.490410Z"
    }
   },
   "outputs": [
    {
     "data": {
      "text/plain": [
       "cSEGUID_eQrot5NFmMjgV23mD_5DXsCoUA4"
      ]
     },
     "execution_count": 1,
     "metadata": {},
     "output_type": "execute_result"
    }
   ],
   "source": [
    "pYPKa_Z_RPS7B.stamp()\n",
    "pYPKa_E_RPS7B.stamp()"
   ]
  },
  {
   "cell_type": "markdown",
   "metadata": {},
   "source": [
    "pYPKa_Z_RPS7B is written to a local file:"
   ]
  },
  {
   "cell_type": "code",
   "execution_count": 27,
   "metadata": {
    "execution": {
     "iopub.execute_input": "2021-05-17T10:27:54.497094Z",
     "iopub.status.busy": "2021-05-17T10:27:54.496173Z",
     "iopub.status.idle": "2021-05-17T10:27:54.500721Z",
     "shell.execute_reply": "2021-05-17T10:27:54.501415Z"
    }
   },
   "outputs": [
    {
     "data": {
      "text/html": [
       "<font face=monospace><a href='pYPKa_Z_RPS7B.gb' target='_blank'>pYPKa_Z_RPS7B.gb</a></font><br>"
      ]
     },
     "metadata": {},
     "output_type": "display_data"
    }
   ],
   "source": [
    "pYPKa_Z_RPS7B.write(\"pYPKa_Z_RPS7B.gb\")"
   ]
  },
  {
   "cell_type": "markdown",
   "metadata": {},
   "source": [
    "pYPKa_E_RPS7B is written to a local file:"
   ]
  },
  {
   "cell_type": "code",
   "execution_count": 28,
   "metadata": {
    "execution": {
     "iopub.execute_input": "2021-05-17T10:27:54.505818Z",
     "iopub.status.busy": "2021-05-17T10:27:54.505113Z",
     "iopub.status.idle": "2021-05-17T10:27:54.512633Z",
     "shell.execute_reply": "2021-05-17T10:27:54.513326Z"
    }
   },
   "outputs": [
    {
     "data": {
      "text/html": [
       "<font face=monospace><a href='pYPKa_E_RPS7B.gb' target='_blank'>pYPKa_E_RPS7B.gb</a></font><br>"
      ]
     },
     "metadata": {},
     "output_type": "display_data"
    }
   ],
   "source": [
    "pYPKa_E_RPS7B.write(\"pYPKa_E_RPS7B.gb\")"
   ]
  }
 ],
 "metadata": {
  "language_info": {
   "codemirror_mode": {
    "name": "ipython",
    "version": 3
   },
   "file_extension": ".py",
   "mimetype": "text/x-python",
   "name": "python",
   "nbconvert_exporter": "python",
   "pygments_lexer": "ipython3",
   "version": "3.9.0"
  }
 },
 "nbformat": 4,
 "nbformat_minor": 2
}
