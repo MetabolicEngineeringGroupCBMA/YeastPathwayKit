{
 "cells": [
  {
   "cell_type": "markdown",
   "metadata": {},
   "source": [
    "# pYPKa_Z_RPL36B and pYPKa_E_RPL36B\n",
    "\n",
    "This Jupyter notebook describe the construction of E. coli vectors [pYPKa_Z_RPL36B](pYPKa_Z_RPL36B.gb) and [pYPKa_E_RPL36B](pYPKa_E_RPL36B.gb). \n",
    "These two vectors share backbone and insert, but in the former, the insert is cloned using the restriction\n",
    "enzyme [ZraI](http://rebase.neb.com/rebase/enz/ZraI.html) while in the latter [EcoRV](http://rebase.neb.com/rebase/enz/EcoRV.html) is used.\n",
    "\n",
    "The insert cloned in ZraI is meant to function as a promoter, while in the EcoRV site it is meant to be  used as a terminator.\n",
    "\n",
    "Links to the sequence of each vector in Genbank format can be found at the bottom of this document.\n",
    "\n",
    "![pYPKa_Z and pYPKa_E](figure_pYPKa_ZE.png \"pYPKa_Z or pYPKa_E plasmid\")\n",
    "\n",
    "The Python package [pydna](https://pypi.python.org/pypi/pydna/) package is imported in the code cell below to provide \n",
    "the cloning functionality. There is a [publication](http://www.biomedcentral.com/1471-2105/16/142) describing pydna as well as\n",
    "[documentation](http://pydna.readthedocs.io/) available online. Pydna is developed on [Github](https://github.com/BjornFJohansson/pydna)."
   ]
  },
  {
   "cell_type": "code",
   "execution_count": 1,
   "metadata": {
    "execution": {
     "iopub.execute_input": "2021-05-17T10:27:26.344082Z",
     "iopub.status.busy": "2021-05-17T10:27:26.343623Z",
     "iopub.status.idle": "2021-05-17T10:27:26.835156Z",
     "shell.execute_reply": "2021-05-17T10:27:26.834618Z"
    }
   },
   "outputs": [],
   "source": [
    "from pydna.readers import read\n",
    "from pydna.parsers import parse_primers\n",
    "from pydna.genbank import Genbank\n",
    "from pydna.amplify import pcr\n",
    "from pydna.amplify import Anneal"
   ]
  },
  {
   "cell_type": "markdown",
   "metadata": {},
   "source": [
    "The vector backbone pYPKa is read from a local [file](pYPKa.gb)."
   ]
  },
  {
   "cell_type": "code",
   "execution_count": 2,
   "metadata": {
    "execution": {
     "iopub.execute_input": "2021-05-17T10:27:26.844353Z",
     "iopub.status.busy": "2021-05-17T10:27:26.843838Z",
     "iopub.status.idle": "2021-05-17T10:27:26.852580Z",
     "shell.execute_reply": "2021-05-17T10:27:26.853004Z"
    }
   },
   "outputs": [],
   "source": [
    "pYPKa = read(\"pYPKa.gb\")"
   ]
  },
  {
   "cell_type": "markdown",
   "metadata": {},
   "source": [
    "Both restriction enzymes are imported from [Biopython](http://biopython.org/wiki/Main_Page)"
   ]
  },
  {
   "cell_type": "code",
   "execution_count": 3,
   "metadata": {
    "execution": {
     "iopub.execute_input": "2021-05-17T10:27:26.856490Z",
     "iopub.status.busy": "2021-05-17T10:27:26.855997Z",
     "iopub.status.idle": "2021-05-17T10:27:26.858478Z",
     "shell.execute_reply": "2021-05-17T10:27:26.857953Z"
    }
   },
   "outputs": [],
   "source": [
    "from Bio.Restriction import ZraI, EcoRV"
   ]
  },
  {
   "cell_type": "markdown",
   "metadata": {},
   "source": [
    "The vector is cut with both enzymes."
   ]
  },
  {
   "cell_type": "code",
   "execution_count": 4,
   "metadata": {
    "execution": {
     "iopub.execute_input": "2021-05-17T10:27:26.865841Z",
     "iopub.status.busy": "2021-05-17T10:27:26.865125Z",
     "iopub.status.idle": "2021-05-17T10:27:26.868187Z",
     "shell.execute_reply": "2021-05-17T10:27:26.867496Z"
    }
   },
   "outputs": [],
   "source": [
    "pYPKa_ZraI  = pYPKa.linearize(ZraI)\n",
    "pYPKa_EcoRV = pYPKa.linearize(EcoRV)"
   ]
  },
  {
   "cell_type": "markdown",
   "metadata": {},
   "source": [
    "The template below comes from a Genbank [record](http://www.ncbi.nlm.nih.gov/nuccore/BK006949.2).\n",
    "Access to Genbank is needed in order to download the template.\n",
    "If you execute this script, change the email address below to your own.\n",
    "Always tell Genbank who you are, when using their web service."
   ]
  },
  {
   "cell_type": "code",
   "execution_count": 5,
   "metadata": {
    "execution": {
     "iopub.execute_input": "2021-05-17T10:27:26.873545Z",
     "iopub.status.busy": "2021-05-17T10:27:26.872864Z",
     "iopub.status.idle": "2021-05-17T10:27:26.876041Z",
     "shell.execute_reply": "2021-05-17T10:27:26.875350Z"
    }
   },
   "outputs": [],
   "source": [
    "gb = Genbank(\"bjornjobb@gmail.com\")"
   ]
  },
  {
   "cell_type": "markdown",
   "metadata": {},
   "source": [
    "The template is downloaded from Genbank below."
   ]
  },
  {
   "cell_type": "code",
   "execution_count": 6,
   "metadata": {
    "execution": {
     "iopub.execute_input": "2021-05-17T10:27:26.880806Z",
     "iopub.status.busy": "2021-05-17T10:27:26.880193Z",
     "iopub.status.idle": "2021-05-17T10:27:26.889872Z",
     "shell.execute_reply": "2021-05-17T10:27:26.890366Z"
    }
   },
   "outputs": [],
   "source": [
    "template = gb.nucleotide(\"BK006949.2 REGION: complement(76240..76668)\")"
   ]
  },
  {
   "cell_type": "markdown",
   "metadata": {},
   "source": [
    "The template is a 429 bp linear DNA fragment."
   ]
  },
  {
   "cell_type": "code",
   "execution_count": 7,
   "metadata": {
    "execution": {
     "iopub.execute_input": "2021-05-17T10:27:26.898418Z",
     "iopub.status.busy": "2021-05-17T10:27:26.897803Z",
     "iopub.status.idle": "2021-05-17T10:27:26.900607Z",
     "shell.execute_reply": "2021-05-17T10:27:26.901132Z"
    }
   },
   "outputs": [
    {
     "data": {
      "text/html": [
       "<a href='https://www.ncbi.nlm.nih.gov/nuccore/BK006949.2 ?from=76240&to=76668&strand=2' target='_blank'>BK006949.2  76240-76668</a>"
      ],
      "text/plain": [
       "Gbank(BK006949.2  76240-76668)(-429)"
      ]
     },
     "execution_count": 1,
     "metadata": {},
     "output_type": "execute_result"
    }
   ],
   "source": [
    "template"
   ]
  },
  {
   "cell_type": "markdown",
   "metadata": {},
   "source": [
    "The insert has the sequence shown below."
   ]
  },
  {
   "cell_type": "code",
   "execution_count": 8,
   "metadata": {
    "execution": {
     "iopub.execute_input": "2021-05-17T10:27:26.905030Z",
     "iopub.status.busy": "2021-05-17T10:27:26.904483Z",
     "iopub.status.idle": "2021-05-17T10:27:26.908519Z",
     "shell.execute_reply": "2021-05-17T10:27:26.907778Z"
    }
   },
   "outputs": [
    {
     "name": "stdout",
     "output_type": "stream",
     "text": [
      "ATGTATAGTTTTGCGCTGTGTGCACATTGTGTGCCTCTCCAATTTGTGTTAAAAAATGCATCACGACTCGTTTAGACAATGTTGTTGTTGTTGTTTTTTTTTTGACTGTATTTTCACCCGTACATCCACGGATGTGTTGGGTTTTTGTTTCCGCTTTACCGTGCGGGAGACGACCATGACCGAGAGGTCTGGTTGCGAAAGACGCACATACCGCGTGCGCGGAACTTTTTCATTGGGTTGCCAACCAAGGCTGTTCAGGGAAGCCCGACGAGGGAAGCTAGCATGAATGCACTAGGAGAGAGAGAGAGAGAGAGGCAGAGGAAGAGGCACATCATTGCATTTCTTGAATATTCGTTTTAATTAGCGTTAAGTCTTAAGTTCGTGTATTACCATAGTCAAAACAGAATAGAGAAGCAAGGATAATACAAA\n"
     ]
    }
   ],
   "source": [
    "print(str(template.seq))"
   ]
  },
  {
   "cell_type": "markdown",
   "metadata": {},
   "source": [
    "The seguid checksum of the template should be\n",
    "\n",
    "```NSBjDxvqdc95Pg3RfzNDTY_GMbU```"
   ]
  },
  {
   "cell_type": "code",
   "execution_count": 9,
   "metadata": {
    "execution": {
     "iopub.execute_input": "2021-05-17T10:27:26.913735Z",
     "iopub.status.busy": "2021-05-17T10:27:26.912863Z",
     "iopub.status.idle": "2021-05-17T10:27:26.917777Z",
     "shell.execute_reply": "2021-05-17T10:27:26.918416Z"
    }
   },
   "outputs": [
    {
     "data": {
      "text/plain": [
       "NSBjDxvqdc95Pg3RfzNDTY_GMbU"
      ]
     },
     "execution_count": 1,
     "metadata": {},
     "output_type": "execute_result"
    }
   ],
   "source": [
    "template.seguid()"
   ]
  },
  {
   "cell_type": "markdown",
   "metadata": {},
   "source": [
    "Two primers are used to amplify the insert:"
   ]
  },
  {
   "cell_type": "code",
   "execution_count": 10,
   "metadata": {
    "execution": {
     "iopub.execute_input": "2021-05-17T10:27:26.924153Z",
     "iopub.status.busy": "2021-05-17T10:27:26.923232Z",
     "iopub.status.idle": "2021-05-17T10:27:26.926761Z",
     "shell.execute_reply": "2021-05-17T10:27:26.926084Z"
    }
   },
   "outputs": [],
   "source": [
    "fp,rp = parse_primers(\"\"\">836_RPL36Btpf\n",
    "                         ttaaatATGTATAGTTTTGCGCTGT\n",
    "                         >835_RPL36Btpr\n",
    "                         taattaaTTTGTATTATCCTTGCTTCT\"\"\")"
   ]
  },
  {
   "cell_type": "markdown",
   "metadata": {},
   "source": [
    "PCR to create the insert using the primers above."
   ]
  },
  {
   "cell_type": "code",
   "execution_count": 11,
   "metadata": {
    "execution": {
     "iopub.execute_input": "2021-05-17T10:27:26.933752Z",
     "iopub.status.busy": "2021-05-17T10:27:26.932561Z",
     "iopub.status.idle": "2021-05-17T10:27:26.939500Z",
     "shell.execute_reply": "2021-05-17T10:27:26.938723Z"
    }
   },
   "outputs": [],
   "source": [
    "prd = pcr(fp, rp, template)\n",
    "assert str(fp.seq) in prd"
   ]
  },
  {
   "cell_type": "markdown",
   "metadata": {},
   "source": [
    "The PCR product has this length in bp."
   ]
  },
  {
   "cell_type": "code",
   "execution_count": 12,
   "metadata": {
    "execution": {
     "iopub.execute_input": "2021-05-17T10:27:26.944777Z",
     "iopub.status.busy": "2021-05-17T10:27:26.943924Z",
     "iopub.status.idle": "2021-05-17T10:27:26.947656Z",
     "shell.execute_reply": "2021-05-17T10:27:26.948340Z"
    }
   },
   "outputs": [
    {
     "data": {
      "text/plain": [
       "442"
      ]
     },
     "execution_count": 1,
     "metadata": {},
     "output_type": "execute_result"
    }
   ],
   "source": [
    "len(prd)"
   ]
  },
  {
   "cell_type": "markdown",
   "metadata": {},
   "source": [
    "A figure of the primers annealing on template."
   ]
  },
  {
   "cell_type": "code",
   "execution_count": 13,
   "metadata": {
    "execution": {
     "iopub.execute_input": "2021-05-17T10:27:26.954280Z",
     "iopub.status.busy": "2021-05-17T10:27:26.953369Z",
     "iopub.status.idle": "2021-05-17T10:27:26.957706Z",
     "shell.execute_reply": "2021-05-17T10:27:26.958493Z"
    }
   },
   "outputs": [
    {
     "data": {
      "text/plain": [
       "      5ATGTATAGTTTTGCGCTGT...AGAAGCAAGGATAATACAAA3\n",
       "                             ||||||||||||||||||||\n",
       "                            3TCTTCGTTCCTATTATGTTTaattaat5\n",
       "5ttaaatATGTATAGTTTTGCGCTGT3\n",
       "       |||||||||||||||||||\n",
       "      3TACATATCAAAACGCGACA...TCTTCGTTCCTATTATGTTT5"
      ]
     },
     "execution_count": 1,
     "metadata": {},
     "output_type": "execute_result"
    }
   ],
   "source": [
    "prd.figure()"
   ]
  },
  {
   "cell_type": "markdown",
   "metadata": {},
   "source": [
    "A suggested PCR program."
   ]
  },
  {
   "cell_type": "code",
   "execution_count": 14,
   "metadata": {
    "execution": {
     "iopub.execute_input": "2021-05-17T10:27:26.964085Z",
     "iopub.status.busy": "2021-05-17T10:27:26.963478Z",
     "iopub.status.idle": "2021-05-17T10:27:26.966597Z",
     "shell.execute_reply": "2021-05-17T10:27:26.967144Z"
    }
   },
   "outputs": [
    {
     "data": {
      "text/plain": [
       "|95°C|95°C               |    |tmf:56.2\n",
       "|____|_____          72°C|72°C|tmr:53.6\n",
       "|5min|30s  \\ 54.2°C _____|____|60s/kb\n",
       "|    |      \\______/ 0:26|5min|GC 42%\n",
       "|    |       30s         |    |442bp"
      ]
     },
     "execution_count": 1,
     "metadata": {},
     "output_type": "execute_result"
    }
   ],
   "source": [
    "prd.program()"
   ]
  },
  {
   "cell_type": "markdown",
   "metadata": {},
   "source": [
    "The final vectors are:"
   ]
  },
  {
   "cell_type": "code",
   "execution_count": 15,
   "metadata": {
    "execution": {
     "iopub.execute_input": "2021-05-17T10:27:27.041468Z",
     "iopub.status.busy": "2021-05-17T10:27:27.005644Z",
     "iopub.status.idle": "2021-05-17T10:27:27.418557Z",
     "shell.execute_reply": "2021-05-17T10:27:27.418030Z"
    }
   },
   "outputs": [],
   "source": [
    "pYPKa_Z_RPL36B = (pYPKa_ZraI  + prd).looped().synced(pYPKa)\n",
    "pYPKa_E_RPL36B = (pYPKa_EcoRV + prd).looped().synced(pYPKa)"
   ]
  },
  {
   "cell_type": "markdown",
   "metadata": {},
   "source": [
    "The final vectors with reverse inserts are created below. These vectors theoretically make up\n",
    "fifty percent of the clones. The PCR strategy outlined below can be used to identify clones with the insert\n",
    "in the correct orientation."
   ]
  },
  {
   "cell_type": "code",
   "execution_count": 16,
   "metadata": {
    "execution": {
     "iopub.execute_input": "2021-05-17T10:27:27.446048Z",
     "iopub.status.busy": "2021-05-17T10:27:27.441010Z",
     "iopub.status.idle": "2021-05-17T10:27:27.860218Z",
     "shell.execute_reply": "2021-05-17T10:27:27.859576Z"
    }
   },
   "outputs": [],
   "source": [
    "pYPKa_Z_RPL36Bb = (pYPKa_ZraI  + prd.rc()).looped().synced(pYPKa)\n",
    "pYPKa_E_RPL36Bb = (pYPKa_EcoRV + prd.rc()).looped().synced(pYPKa)"
   ]
  },
  {
   "cell_type": "markdown",
   "metadata": {},
   "source": [
    "A combination of yeast pathway kit standard primers and the primers above are\n",
    "used for the strategy to identify correct clones.\n",
    "Standard primers used in the yeast are listed [here](standard_primers.txt)."
   ]
  },
  {
   "cell_type": "code",
   "execution_count": 17,
   "metadata": {
    "execution": {
     "iopub.execute_input": "2021-05-17T10:27:27.866300Z",
     "iopub.status.busy": "2021-05-17T10:27:27.865610Z",
     "iopub.status.idle": "2021-05-17T10:27:27.868069Z",
     "shell.execute_reply": "2021-05-17T10:27:27.869141Z"
    }
   },
   "outputs": [],
   "source": [
    "p = { x.id: x for x in parse_primers(\"\"\">577\n",
    "                                         gttctgatcctcgagcatcttaagaattc\n",
    "                                         >578\n",
    "                                         gttcttgtctcattgccacattcataagt\n",
    "                                         >468\n",
    "                                         gtcgaggaacgccaggttgcccact\n",
    "                                         >467\n",
    "                                         ATTTAAatcctgatgcgtttgtctgcacaga\n",
    "                                         >567\n",
    "                                         GTcggctgcaggtcactagtgag\n",
    "                                         >568\n",
    "                                         GTGCcatctgtgcagacaaacg\n",
    "                                         >775\n",
    "                                         gcggccgctgacTTAAAT\n",
    "                                         >778\n",
    "                                         ggtaaatccggatTAATTAA\n",
    "                                         >342\n",
    "                                         CCTTTTTACGGTTCCTGGCCT\"\"\") }"
   ]
  },
  {
   "cell_type": "markdown",
   "metadata": {},
   "source": [
    "## Diagnostic PCR confirmation\n",
    "\n",
    "The correct structure of pYPKa_Z_RPL36B is confirmed by PCR using standard primers\n",
    "577 and 342 that are vector specific together with the RPL36Bfw primer specific for the insert\n",
    "in a multiplex PCR reaction with\n",
    "all three primers present.\n",
    "\n",
    "Two PCR products are expected if the insert was cloned, the sizes depend\n",
    "on the orientation. If the vector is empty or contains another insert, only one\n",
    "product is formed.\n",
    "\n",
    "#### Expected PCR products sizes from pYPKa_Z_RPL36B:\n",
    "\n",
    "pYPKa_Z_RPL36B with insert in correct orientation."
   ]
  },
  {
   "cell_type": "code",
   "execution_count": 18,
   "metadata": {
    "execution": {
     "iopub.execute_input": "2021-05-17T10:27:27.884235Z",
     "iopub.status.busy": "2021-05-17T10:27:27.883600Z",
     "iopub.status.idle": "2021-05-17T10:27:27.886855Z",
     "shell.execute_reply": "2021-05-17T10:27:27.886399Z"
    }
   },
   "outputs": [
    {
     "data": {
      "text/plain": [
       "[Amplicon(1376), Amplicon(1208)]"
      ]
     },
     "execution_count": 1,
     "metadata": {},
     "output_type": "execute_result"
    }
   ],
   "source": [
    "Anneal( (p['577'], p['342'], fp), pYPKa_Z_RPL36B).products"
   ]
  },
  {
   "cell_type": "markdown",
   "metadata": {},
   "source": [
    "pYPKa_Z_RPL36B with insert in reverse orientation."
   ]
  },
  {
   "cell_type": "code",
   "execution_count": 19,
   "metadata": {
    "execution": {
     "iopub.execute_input": "2021-05-17T10:27:27.896669Z",
     "iopub.status.busy": "2021-05-17T10:27:27.896208Z",
     "iopub.status.idle": "2021-05-17T10:27:27.898758Z",
     "shell.execute_reply": "2021-05-17T10:27:27.899215Z"
    }
   },
   "outputs": [
    {
     "data": {
      "text/plain": [
       "[Amplicon(1376), Amplicon(610)]"
      ]
     },
     "execution_count": 1,
     "metadata": {},
     "output_type": "execute_result"
    }
   ],
   "source": [
    "Anneal( (p['577'], p['342'], fp), pYPKa_Z_RPL36Bb).products"
   ]
  },
  {
   "cell_type": "markdown",
   "metadata": {},
   "source": [
    "Empty pYPKa clone."
   ]
  },
  {
   "cell_type": "code",
   "execution_count": 20,
   "metadata": {
    "execution": {
     "iopub.execute_input": "2021-05-17T10:27:27.906205Z",
     "iopub.status.busy": "2021-05-17T10:27:27.905756Z",
     "iopub.status.idle": "2021-05-17T10:27:27.908787Z",
     "shell.execute_reply": "2021-05-17T10:27:27.908322Z"
    }
   },
   "outputs": [
    {
     "data": {
      "text/plain": [
       "[Amplicon(934)]"
      ]
     },
     "execution_count": 1,
     "metadata": {},
     "output_type": "execute_result"
    }
   ],
   "source": [
    "Anneal( (p['577'], p['342'], fp), pYPKa).products"
   ]
  },
  {
   "cell_type": "markdown",
   "metadata": {},
   "source": [
    "#### Expected PCR products sizes pYPKa_E_RPL36B:\n",
    "\n",
    "pYPKa_E_RPL36B with insert in correct orientation."
   ]
  },
  {
   "cell_type": "code",
   "execution_count": 21,
   "metadata": {
    "execution": {
     "iopub.execute_input": "2021-05-17T10:27:27.921811Z",
     "iopub.status.busy": "2021-05-17T10:27:27.916912Z",
     "iopub.status.idle": "2021-05-17T10:27:27.930283Z",
     "shell.execute_reply": "2021-05-17T10:27:27.929620Z"
    }
   },
   "outputs": [
    {
     "data": {
      "text/plain": [
       "[Amplicon(1376), Amplicon(1127)]"
      ]
     },
     "execution_count": 1,
     "metadata": {},
     "output_type": "execute_result"
    }
   ],
   "source": [
    "Anneal( (p['577'], p['342'], fp), pYPKa_E_RPL36B).products"
   ]
  },
  {
   "cell_type": "markdown",
   "metadata": {},
   "source": [
    "pYPKa_E_RPL36B with insert in reverse orientation."
   ]
  },
  {
   "cell_type": "code",
   "execution_count": 22,
   "metadata": {
    "execution": {
     "iopub.execute_input": "2021-05-17T10:27:27.943126Z",
     "iopub.status.busy": "2021-05-17T10:27:27.942445Z",
     "iopub.status.idle": "2021-05-17T10:27:27.945492Z",
     "shell.execute_reply": "2021-05-17T10:27:27.944980Z"
    }
   },
   "outputs": [
    {
     "data": {
      "text/plain": [
       "[Amplicon(1376), Amplicon(691)]"
      ]
     },
     "execution_count": 1,
     "metadata": {},
     "output_type": "execute_result"
    }
   ],
   "source": [
    "Anneal( (p['577'], p['342'], fp), pYPKa_E_RPL36Bb).products\n"
   ]
  },
  {
   "cell_type": "markdown",
   "metadata": {},
   "source": [
    "Calculate cseguid checksums for the resulting plasmids for future reference.\n",
    "This checksum that uniquely describes a circular double stranded\n",
    "sequence. See this [blog post](https://ochsavidare.blogspot.com/2016/02/checksum-for-circular-biological.html) for more info.\n",
    "\n",
    "pYPKa_Z_RPL36B.cseguid() should be _WEqdViUz5rnZBpgmPhIGQuvWnk"
   ]
  },
  {
   "cell_type": "code",
   "execution_count": 23,
   "metadata": {
    "execution": {
     "iopub.execute_input": "2021-05-17T10:27:27.954882Z",
     "iopub.status.busy": "2021-05-17T10:27:27.954281Z",
     "iopub.status.idle": "2021-05-17T10:27:27.957539Z",
     "shell.execute_reply": "2021-05-17T10:27:27.956947Z"
    }
   },
   "outputs": [
    {
     "name": "stdout",
     "output_type": "stream",
     "text": [
      "_WEqdViUz5rnZBpgmPhIGQuvWnk\n"
     ]
    }
   ],
   "source": [
    "print(pYPKa_Z_RPL36B.cseguid())\n",
    "assert pYPKa_Z_RPL36B.cseguid() == \"_WEqdViUz5rnZBpgmPhIGQuvWnk\""
   ]
  },
  {
   "cell_type": "markdown",
   "metadata": {},
   "source": [
    "pYPKa_E_RPL36B.cseguid() should be rO7XL2Jz_5SfvenDLG2USGoncU0"
   ]
  },
  {
   "cell_type": "code",
   "execution_count": 24,
   "metadata": {
    "execution": {
     "iopub.execute_input": "2021-05-17T10:27:27.970208Z",
     "iopub.status.busy": "2021-05-17T10:27:27.969681Z",
     "iopub.status.idle": "2021-05-17T10:27:27.971940Z",
     "shell.execute_reply": "2021-05-17T10:27:27.972377Z"
    }
   },
   "outputs": [
    {
     "name": "stdout",
     "output_type": "stream",
     "text": [
      "rO7XL2Jz_5SfvenDLG2USGoncU0\n"
     ]
    }
   ],
   "source": [
    "print(pYPKa_E_RPL36B.cseguid())\n",
    "assert pYPKa_E_RPL36B.cseguid() == \"rO7XL2Jz_5SfvenDLG2USGoncU0\""
   ]
  },
  {
   "cell_type": "markdown",
   "metadata": {},
   "source": [
    "The sequences are named based on the name of the cloned insert."
   ]
  },
  {
   "cell_type": "code",
   "execution_count": 25,
   "metadata": {
    "execution": {
     "iopub.execute_input": "2021-05-17T10:27:27.975881Z",
     "iopub.status.busy": "2021-05-17T10:27:27.975355Z",
     "iopub.status.idle": "2021-05-17T10:27:27.977044Z",
     "shell.execute_reply": "2021-05-17T10:27:27.977491Z"
    }
   },
   "outputs": [],
   "source": [
    "pYPKa_Z_RPL36B.locus = \"pYPKa_Z_RPL36B\"[:16]\n",
    "pYPKa_E_RPL36B.locus = \"pYPKa_Z_RPL36B\"[:16]"
   ]
  },
  {
   "cell_type": "markdown",
   "metadata": {},
   "source": [
    "Stamp sequence with cseguid checksum. This can be used to verify the\n",
    "integrity of the sequence file."
   ]
  },
  {
   "cell_type": "code",
   "execution_count": 26,
   "metadata": {
    "execution": {
     "iopub.execute_input": "2021-05-17T10:27:27.990000Z",
     "iopub.status.busy": "2021-05-17T10:27:27.989423Z",
     "iopub.status.idle": "2021-05-17T10:27:27.991966Z",
     "shell.execute_reply": "2021-05-17T10:27:27.992385Z"
    }
   },
   "outputs": [
    {
     "data": {
      "text/plain": [
       "cSEGUID_rO7XL2Jz_5SfvenDLG2USGoncU0"
      ]
     },
     "execution_count": 1,
     "metadata": {},
     "output_type": "execute_result"
    }
   ],
   "source": [
    "pYPKa_Z_RPL36B.stamp()\n",
    "pYPKa_E_RPL36B.stamp()"
   ]
  },
  {
   "cell_type": "markdown",
   "metadata": {},
   "source": [
    "pYPKa_Z_RPL36B is written to a local file:"
   ]
  },
  {
   "cell_type": "code",
   "execution_count": 27,
   "metadata": {
    "execution": {
     "iopub.execute_input": "2021-05-17T10:27:27.999082Z",
     "iopub.status.busy": "2021-05-17T10:27:27.998241Z",
     "iopub.status.idle": "2021-05-17T10:27:28.003183Z",
     "shell.execute_reply": "2021-05-17T10:27:28.002608Z"
    }
   },
   "outputs": [
    {
     "data": {
      "text/html": [
       "<font face=monospace><a href='pYPKa_Z_RPL36B.gb' target='_blank'>pYPKa_Z_RPL36B.gb</a></font><br>"
      ]
     },
     "metadata": {},
     "output_type": "display_data"
    }
   ],
   "source": [
    "pYPKa_Z_RPL36B.write(\"pYPKa_Z_RPL36B.gb\")"
   ]
  },
  {
   "cell_type": "markdown",
   "metadata": {},
   "source": [
    "pYPKa_E_RPL36B is written to a local file:"
   ]
  },
  {
   "cell_type": "code",
   "execution_count": 28,
   "metadata": {
    "execution": {
     "iopub.execute_input": "2021-05-17T10:27:28.011749Z",
     "iopub.status.busy": "2021-05-17T10:27:28.010509Z",
     "iopub.status.idle": "2021-05-17T10:27:28.015823Z",
     "shell.execute_reply": "2021-05-17T10:27:28.015370Z"
    }
   },
   "outputs": [
    {
     "data": {
      "text/html": [
       "<font face=monospace><a href='pYPKa_E_RPL36B.gb' target='_blank'>pYPKa_E_RPL36B.gb</a></font><br>"
      ]
     },
     "metadata": {},
     "output_type": "display_data"
    }
   ],
   "source": [
    "pYPKa_E_RPL36B.write(\"pYPKa_E_RPL36B.gb\")"
   ]
  }
 ],
 "metadata": {
  "language_info": {
   "codemirror_mode": {
    "name": "ipython",
    "version": 3
   },
   "file_extension": ".py",
   "mimetype": "text/x-python",
   "name": "python",
   "nbconvert_exporter": "python",
   "pygments_lexer": "ipython3",
   "version": "3.9.0"
  }
 },
 "nbformat": 4,
 "nbformat_minor": 2
}
