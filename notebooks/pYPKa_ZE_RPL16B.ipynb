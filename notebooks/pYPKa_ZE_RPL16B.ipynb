{
 "cells": [
  {
   "cell_type": "markdown",
   "metadata": {},
   "source": [
    "# pYPKa_Z_RPL16B and pYPKa_E_RPL16B\n",
    "\n",
    "This Jupyter notebook describe the construction of E. coli vectors [pYPKa_Z_RPL16B](pYPKa_Z_RPL16B.gb) and [pYPKa_E_RPL16B](pYPKa_E_RPL16B.gb). \n",
    "These two vectors share backbone and insert, but in the former, the insert is cloned using the restriction\n",
    "enzyme [ZraI](http://rebase.neb.com/rebase/enz/ZraI.html) while in the latter [EcoRV](http://rebase.neb.com/rebase/enz/EcoRV.html) is used.\n",
    "\n",
    "The insert cloned in ZraI is meant to function as a promoter, while in the EcoRV site it is meant to be  used as a terminator.\n",
    "\n",
    "Links to the sequence of each vector in Genbank format can be found at the bottom of this document.\n",
    "\n",
    "![pYPKa_Z and pYPKa_E](figure_pYPKa_ZE.png \"pYPKa_Z or pYPKa_E plasmid\")\n",
    "\n",
    "The Python package [pydna](https://pypi.python.org/pypi/pydna/) package is imported in the code cell below to provide \n",
    "the cloning functionality. There is a [publication](http://www.biomedcentral.com/1471-2105/16/142) describing pydna as well as\n",
    "[documentation](http://pydna.readthedocs.io/) available online. Pydna is developed on [Github](https://github.com/BjornFJohansson/pydna)."
   ]
  },
  {
   "cell_type": "code",
   "execution_count": 1,
   "metadata": {
    "execution": {
     "iopub.execute_input": "2021-05-17T10:26:31.783687Z",
     "iopub.status.busy": "2021-05-17T10:26:31.782993Z",
     "iopub.status.idle": "2021-05-17T10:26:32.284846Z",
     "shell.execute_reply": "2021-05-17T10:26:32.284286Z"
    }
   },
   "outputs": [],
   "source": [
    "from pydna.readers import read\n",
    "from pydna.parsers import parse_primers\n",
    "from pydna.genbank import Genbank\n",
    "from pydna.amplify import pcr\n",
    "from pydna.amplify import Anneal"
   ]
  },
  {
   "cell_type": "markdown",
   "metadata": {},
   "source": [
    "The vector backbone pYPKa is read from a local [file](pYPKa.gb)."
   ]
  },
  {
   "cell_type": "code",
   "execution_count": 2,
   "metadata": {
    "execution": {
     "iopub.execute_input": "2021-05-17T10:26:32.293445Z",
     "iopub.status.busy": "2021-05-17T10:26:32.292889Z",
     "iopub.status.idle": "2021-05-17T10:26:32.302258Z",
     "shell.execute_reply": "2021-05-17T10:26:32.302664Z"
    }
   },
   "outputs": [],
   "source": [
    "pYPKa = read(\"pYPKa.gb\")"
   ]
  },
  {
   "cell_type": "markdown",
   "metadata": {},
   "source": [
    "Both restriction enzymes are imported from [Biopython](http://biopython.org/wiki/Main_Page)"
   ]
  },
  {
   "cell_type": "code",
   "execution_count": 3,
   "metadata": {
    "execution": {
     "iopub.execute_input": "2021-05-17T10:26:32.305985Z",
     "iopub.status.busy": "2021-05-17T10:26:32.305567Z",
     "iopub.status.idle": "2021-05-17T10:26:32.307244Z",
     "shell.execute_reply": "2021-05-17T10:26:32.307652Z"
    }
   },
   "outputs": [],
   "source": [
    "from Bio.Restriction import ZraI, EcoRV"
   ]
  },
  {
   "cell_type": "markdown",
   "metadata": {},
   "source": [
    "The vector is cut with both enzymes."
   ]
  },
  {
   "cell_type": "code",
   "execution_count": 4,
   "metadata": {
    "execution": {
     "iopub.execute_input": "2021-05-17T10:26:32.313966Z",
     "iopub.status.busy": "2021-05-17T10:26:32.313093Z",
     "iopub.status.idle": "2021-05-17T10:26:32.316369Z",
     "shell.execute_reply": "2021-05-17T10:26:32.315580Z"
    }
   },
   "outputs": [],
   "source": [
    "pYPKa_ZraI  = pYPKa.linearize(ZraI)\n",
    "pYPKa_EcoRV = pYPKa.linearize(EcoRV)"
   ]
  },
  {
   "cell_type": "markdown",
   "metadata": {},
   "source": [
    "The template below comes from a Genbank [record](http://www.ncbi.nlm.nih.gov/nuccore/BK006947.3).\n",
    "Access to Genbank is needed in order to download the template.\n",
    "If you execute this script, change the email address below to your own.\n",
    "Always tell Genbank who you are, when using their web service."
   ]
  },
  {
   "cell_type": "code",
   "execution_count": 5,
   "metadata": {
    "execution": {
     "iopub.execute_input": "2021-05-17T10:26:32.323145Z",
     "iopub.status.busy": "2021-05-17T10:26:32.322045Z",
     "iopub.status.idle": "2021-05-17T10:26:32.324996Z",
     "shell.execute_reply": "2021-05-17T10:26:32.325757Z"
    }
   },
   "outputs": [],
   "source": [
    "gb = Genbank(\"bjornjobb@gmail.com\")"
   ]
  },
  {
   "cell_type": "markdown",
   "metadata": {},
   "source": [
    "The template is downloaded from Genbank below."
   ]
  },
  {
   "cell_type": "code",
   "execution_count": 6,
   "metadata": {
    "execution": {
     "iopub.execute_input": "2021-05-17T10:26:32.331384Z",
     "iopub.status.busy": "2021-05-17T10:26:32.330620Z",
     "iopub.status.idle": "2021-05-17T10:26:32.339502Z",
     "shell.execute_reply": "2021-05-17T10:26:32.340034Z"
    }
   },
   "outputs": [],
   "source": [
    "template = gb.nucleotide(\"BK006947.3 REGION: complement(495002..495700)\")"
   ]
  },
  {
   "cell_type": "markdown",
   "metadata": {},
   "source": [
    "The template is a 699 bp linear DNA fragment."
   ]
  },
  {
   "cell_type": "code",
   "execution_count": 7,
   "metadata": {
    "execution": {
     "iopub.execute_input": "2021-05-17T10:26:32.350046Z",
     "iopub.status.busy": "2021-05-17T10:26:32.349360Z",
     "iopub.status.idle": "2021-05-17T10:26:32.352484Z",
     "shell.execute_reply": "2021-05-17T10:26:32.353011Z"
    }
   },
   "outputs": [
    {
     "data": {
      "text/html": [
       "<a href='https://www.ncbi.nlm.nih.gov/nuccore/BK006947.3 ?from=495002&to=495700&strand=2' target='_blank'>BK006947.3  495002-495700</a>"
      ],
      "text/plain": [
       "Gbank(BK006947.3  495002-495700)(-699)"
      ]
     },
     "execution_count": 1,
     "metadata": {},
     "output_type": "execute_result"
    }
   ],
   "source": [
    "template"
   ]
  },
  {
   "cell_type": "markdown",
   "metadata": {},
   "source": [
    "The insert has the sequence shown below."
   ]
  },
  {
   "cell_type": "code",
   "execution_count": 8,
   "metadata": {
    "execution": {
     "iopub.execute_input": "2021-05-17T10:26:32.356279Z",
     "iopub.status.busy": "2021-05-17T10:26:32.355842Z",
     "iopub.status.idle": "2021-05-17T10:26:32.358407Z",
     "shell.execute_reply": "2021-05-17T10:26:32.358823Z"
    }
   },
   "outputs": [
    {
     "name": "stdout",
     "output_type": "stream",
     "text": [
      "GACAAGAAACAAGGTGAATCACTAAGACTAAAGAAATGAATGAGAAATGGCTAAGCTGCAGCCAGTCATATGAGCTGCTTTCCTTTCATTCTATTGTCGTCCGAATCTATGTCACGAAGTACATATATAACTGTCTTTCATATATAATATTTAATCACCGTGCATTCCCTATTTTACTCTTCCTCATGCGTTTGATCATCTGACCTTTATGATTTTGAACACCCCGCAATGTTCACTCTAATTTATGCAACTGAACTTTATTTTCGCTGCTGTGTTTGCATCCTTGACATATTCAATCCGTACACTATACACACCCAAACCTCCTTTAAAAATTTCCTATGAATCAGAAAATTTGGCTGTTTCTCAACGCTTCGGCCAACGGGTGAAAAACAGCGGCAGAAGGACTTCCTTCGGAGAACGCTCCTAGAACCTGAAACTGCCCGCTAAAGCGTCTCCTGGGCTGTCCCCAAGTGGGTGATTTTCCATTTGATCCTTGTATCAGCTTGGGAGGGTGGTGATCTCTTCTTAGGCAGACACTTGGTCCCTCCGGCTAAACATTCGCACTGCGGACCGCTGCAATTTCGAATTCTGGAAAATTATTCTGATATTGGTAAAACTGATTCTTAAAACTATAACACATGTAGATATTCCACTAAGTGCATTTTGTTAAGGTATTAAACAACCAACCAACCATAAAAG\n"
     ]
    }
   ],
   "source": [
    "print(str(template.seq))"
   ]
  },
  {
   "cell_type": "markdown",
   "metadata": {},
   "source": [
    "The seguid checksum of the template should be\n",
    "\n",
    "```Xax_tlC1m9r_doB5ICy7B2tT0dk```"
   ]
  },
  {
   "cell_type": "code",
   "execution_count": 9,
   "metadata": {
    "execution": {
     "iopub.execute_input": "2021-05-17T10:26:32.362448Z",
     "iopub.status.busy": "2021-05-17T10:26:32.361807Z",
     "iopub.status.idle": "2021-05-17T10:26:32.365630Z",
     "shell.execute_reply": "2021-05-17T10:26:32.364984Z"
    }
   },
   "outputs": [
    {
     "data": {
      "text/plain": [
       "Xax_tlC1m9r_doB5ICy7B2tT0dk"
      ]
     },
     "execution_count": 1,
     "metadata": {},
     "output_type": "execute_result"
    }
   ],
   "source": [
    "template.seguid()"
   ]
  },
  {
   "cell_type": "markdown",
   "metadata": {},
   "source": [
    "Two primers are used to amplify the insert:"
   ]
  },
  {
   "cell_type": "code",
   "execution_count": 10,
   "metadata": {
    "execution": {
     "iopub.execute_input": "2021-05-17T10:26:32.370541Z",
     "iopub.status.busy": "2021-05-17T10:26:32.369901Z",
     "iopub.status.idle": "2021-05-17T10:26:32.372379Z",
     "shell.execute_reply": "2021-05-17T10:26:32.372876Z"
    }
   },
   "outputs": [],
   "source": [
    "fp,rp = parse_primers(\"\"\">765_RPL16B_fw\n",
    "                         ttaaatGACAAGAAACAAGGTGAATC\n",
    "                         >766_RPL16B_rv\n",
    "                         taattaaCTTTTATGGTTGGTTGGTT\"\"\")"
   ]
  },
  {
   "cell_type": "markdown",
   "metadata": {},
   "source": [
    "PCR to create the insert using the primers above."
   ]
  },
  {
   "cell_type": "code",
   "execution_count": 11,
   "metadata": {
    "execution": {
     "iopub.execute_input": "2021-05-17T10:26:32.378904Z",
     "iopub.status.busy": "2021-05-17T10:26:32.378244Z",
     "iopub.status.idle": "2021-05-17T10:26:32.382997Z",
     "shell.execute_reply": "2021-05-17T10:26:32.383571Z"
    }
   },
   "outputs": [],
   "source": [
    "prd = pcr(fp, rp, template)\n",
    "assert str(fp.seq) in prd"
   ]
  },
  {
   "cell_type": "markdown",
   "metadata": {},
   "source": [
    "The PCR product has this length in bp."
   ]
  },
  {
   "cell_type": "code",
   "execution_count": 12,
   "metadata": {
    "execution": {
     "iopub.execute_input": "2021-05-17T10:26:32.388859Z",
     "iopub.status.busy": "2021-05-17T10:26:32.387958Z",
     "iopub.status.idle": "2021-05-17T10:26:32.392866Z",
     "shell.execute_reply": "2021-05-17T10:26:32.392112Z"
    }
   },
   "outputs": [
    {
     "data": {
      "text/plain": [
       "712"
      ]
     },
     "execution_count": 1,
     "metadata": {},
     "output_type": "execute_result"
    }
   ],
   "source": [
    "len(prd)"
   ]
  },
  {
   "cell_type": "markdown",
   "metadata": {},
   "source": [
    "A figure of the primers annealing on template."
   ]
  },
  {
   "cell_type": "code",
   "execution_count": 13,
   "metadata": {
    "execution": {
     "iopub.execute_input": "2021-05-17T10:26:32.398520Z",
     "iopub.status.busy": "2021-05-17T10:26:32.397770Z",
     "iopub.status.idle": "2021-05-17T10:26:32.401178Z",
     "shell.execute_reply": "2021-05-17T10:26:32.401813Z"
    }
   },
   "outputs": [
    {
     "data": {
      "text/plain": [
       "      5GACAAGAAACAAGGTGAATC...AACCAACCAACCATAAAAG3\n",
       "                              |||||||||||||||||||\n",
       "                             3TTGGTTGGTTGGTATTTTCaattaat5\n",
       "5ttaaatGACAAGAAACAAGGTGAATC3\n",
       "       ||||||||||||||||||||\n",
       "      3CTGTTCTTTGTTCCACTTAG...TTGGTTGGTTGGTATTTTC5"
      ]
     },
     "execution_count": 1,
     "metadata": {},
     "output_type": "execute_result"
    }
   ],
   "source": [
    "prd.figure()"
   ]
  },
  {
   "cell_type": "markdown",
   "metadata": {},
   "source": [
    "A suggested PCR program."
   ]
  },
  {
   "cell_type": "code",
   "execution_count": 14,
   "metadata": {
    "execution": {
     "iopub.execute_input": "2021-05-17T10:26:32.407082Z",
     "iopub.status.busy": "2021-05-17T10:26:32.406379Z",
     "iopub.status.idle": "2021-05-17T10:26:32.409911Z",
     "shell.execute_reply": "2021-05-17T10:26:32.410570Z"
    }
   },
   "outputs": [
    {
     "data": {
      "text/plain": [
       "|95°C|95°C               |    |tmf:55.3\n",
       "|____|_____          72°C|72°C|tmr:56.2\n",
       "|5min|30s  \\ 54.3°C _____|____|60s/kb\n",
       "|    |      \\______/ 0:42|5min|GC 39%\n",
       "|    |       30s         |    |712bp"
      ]
     },
     "execution_count": 1,
     "metadata": {},
     "output_type": "execute_result"
    }
   ],
   "source": [
    "prd.program()"
   ]
  },
  {
   "cell_type": "markdown",
   "metadata": {},
   "source": [
    "The final vectors are:"
   ]
  },
  {
   "cell_type": "code",
   "execution_count": 15,
   "metadata": {
    "execution": {
     "iopub.execute_input": "2021-05-17T10:26:32.438885Z",
     "iopub.status.busy": "2021-05-17T10:26:32.433967Z",
     "iopub.status.idle": "2021-05-17T10:26:32.895283Z",
     "shell.execute_reply": "2021-05-17T10:26:32.895800Z"
    }
   },
   "outputs": [],
   "source": [
    "pYPKa_Z_RPL16B = (pYPKa_ZraI  + prd).looped().synced(pYPKa)\n",
    "pYPKa_E_RPL16B = (pYPKa_EcoRV + prd).looped().synced(pYPKa)"
   ]
  },
  {
   "cell_type": "markdown",
   "metadata": {},
   "source": [
    "The final vectors with reverse inserts are created below. These vectors theoretically make up\n",
    "fifty percent of the clones. The PCR strategy outlined below can be used to identify clones with the insert\n",
    "in the correct orientation."
   ]
  },
  {
   "cell_type": "code",
   "execution_count": 16,
   "metadata": {
    "execution": {
     "iopub.execute_input": "2021-05-17T10:26:32.970414Z",
     "iopub.status.busy": "2021-05-17T10:26:32.934506Z",
     "iopub.status.idle": "2021-05-17T10:26:33.432206Z",
     "shell.execute_reply": "2021-05-17T10:26:33.432677Z"
    }
   },
   "outputs": [],
   "source": [
    "pYPKa_Z_RPL16Bb = (pYPKa_ZraI  + prd.rc()).looped().synced(pYPKa)\n",
    "pYPKa_E_RPL16Bb = (pYPKa_EcoRV + prd.rc()).looped().synced(pYPKa)"
   ]
  },
  {
   "cell_type": "markdown",
   "metadata": {},
   "source": [
    "A combination of yeast pathway kit standard primers and the primers above are\n",
    "used for the strategy to identify correct clones.\n",
    "Standard primers used in the yeast are listed [here](standard_primers.txt)."
   ]
  },
  {
   "cell_type": "code",
   "execution_count": 17,
   "metadata": {
    "execution": {
     "iopub.execute_input": "2021-05-17T10:26:33.436847Z",
     "iopub.status.busy": "2021-05-17T10:26:33.435660Z",
     "iopub.status.idle": "2021-05-17T10:26:33.441847Z",
     "shell.execute_reply": "2021-05-17T10:26:33.440077Z"
    }
   },
   "outputs": [],
   "source": [
    "p = { x.id: x for x in parse_primers(\"\"\">577\n",
    "                                         gttctgatcctcgagcatcttaagaattc\n",
    "                                         >578\n",
    "                                         gttcttgtctcattgccacattcataagt\n",
    "                                         >468\n",
    "                                         gtcgaggaacgccaggttgcccact\n",
    "                                         >467\n",
    "                                         ATTTAAatcctgatgcgtttgtctgcacaga\n",
    "                                         >567\n",
    "                                         GTcggctgcaggtcactagtgag\n",
    "                                         >568\n",
    "                                         GTGCcatctgtgcagacaaacg\n",
    "                                         >775\n",
    "                                         gcggccgctgacTTAAAT\n",
    "                                         >778\n",
    "                                         ggtaaatccggatTAATTAA\n",
    "                                         >342\n",
    "                                         CCTTTTTACGGTTCCTGGCCT\"\"\") }"
   ]
  },
  {
   "cell_type": "markdown",
   "metadata": {},
   "source": [
    "## Diagnostic PCR confirmation\n",
    "\n",
    "The correct structure of pYPKa_Z_RPL16B is confirmed by PCR using standard primers\n",
    "577 and 342 that are vector specific together with the RPL16Bfw primer specific for the insert\n",
    "in a multiplex PCR reaction with\n",
    "all three primers present.\n",
    "\n",
    "Two PCR products are expected if the insert was cloned, the sizes depend\n",
    "on the orientation. If the vector is empty or contains another insert, only one\n",
    "product is formed.\n",
    "\n",
    "#### Expected PCR products sizes from pYPKa_Z_RPL16B:\n",
    "\n",
    "pYPKa_Z_RPL16B with insert in correct orientation."
   ]
  },
  {
   "cell_type": "code",
   "execution_count": 18,
   "metadata": {
    "execution": {
     "iopub.execute_input": "2021-05-17T10:26:33.461742Z",
     "iopub.status.busy": "2021-05-17T10:26:33.460442Z",
     "iopub.status.idle": "2021-05-17T10:26:33.464164Z",
     "shell.execute_reply": "2021-05-17T10:26:33.464632Z"
    }
   },
   "outputs": [
    {
     "data": {
      "text/plain": [
       "[Amplicon(1646), Amplicon(1478)]"
      ]
     },
     "execution_count": 1,
     "metadata": {},
     "output_type": "execute_result"
    }
   ],
   "source": [
    "Anneal( (p['577'], p['342'], fp), pYPKa_Z_RPL16B).products"
   ]
  },
  {
   "cell_type": "markdown",
   "metadata": {},
   "source": [
    "pYPKa_Z_RPL16B with insert in reverse orientation."
   ]
  },
  {
   "cell_type": "code",
   "execution_count": 19,
   "metadata": {
    "execution": {
     "iopub.execute_input": "2021-05-17T10:26:33.479676Z",
     "iopub.status.busy": "2021-05-17T10:26:33.479215Z",
     "iopub.status.idle": "2021-05-17T10:26:33.482055Z",
     "shell.execute_reply": "2021-05-17T10:26:33.482619Z"
    }
   },
   "outputs": [
    {
     "data": {
      "text/plain": [
       "[Amplicon(1646), Amplicon(880)]"
      ]
     },
     "execution_count": 1,
     "metadata": {},
     "output_type": "execute_result"
    }
   ],
   "source": [
    "Anneal( (p['577'], p['342'], fp), pYPKa_Z_RPL16Bb).products"
   ]
  },
  {
   "cell_type": "markdown",
   "metadata": {},
   "source": [
    "Empty pYPKa clone."
   ]
  },
  {
   "cell_type": "code",
   "execution_count": 20,
   "metadata": {
    "execution": {
     "iopub.execute_input": "2021-05-17T10:26:33.495935Z",
     "iopub.status.busy": "2021-05-17T10:26:33.494462Z",
     "iopub.status.idle": "2021-05-17T10:26:33.498161Z",
     "shell.execute_reply": "2021-05-17T10:26:33.498591Z"
    }
   },
   "outputs": [
    {
     "data": {
      "text/plain": [
       "[Amplicon(934)]"
      ]
     },
     "execution_count": 1,
     "metadata": {},
     "output_type": "execute_result"
    }
   ],
   "source": [
    "Anneal( (p['577'], p['342'], fp), pYPKa).products"
   ]
  },
  {
   "cell_type": "markdown",
   "metadata": {},
   "source": [
    "#### Expected PCR products sizes pYPKa_E_RPL16B:\n",
    "\n",
    "pYPKa_E_RPL16B with insert in correct orientation."
   ]
  },
  {
   "cell_type": "code",
   "execution_count": 21,
   "metadata": {
    "execution": {
     "iopub.execute_input": "2021-05-17T10:26:33.512909Z",
     "iopub.status.busy": "2021-05-17T10:26:33.512408Z",
     "iopub.status.idle": "2021-05-17T10:26:33.515807Z",
     "shell.execute_reply": "2021-05-17T10:26:33.515297Z"
    }
   },
   "outputs": [
    {
     "data": {
      "text/plain": [
       "[Amplicon(1646), Amplicon(1397)]"
      ]
     },
     "execution_count": 1,
     "metadata": {},
     "output_type": "execute_result"
    }
   ],
   "source": [
    "Anneal( (p['577'], p['342'], fp), pYPKa_E_RPL16B).products"
   ]
  },
  {
   "cell_type": "markdown",
   "metadata": {},
   "source": [
    "pYPKa_E_RPL16B with insert in reverse orientation."
   ]
  },
  {
   "cell_type": "code",
   "execution_count": 22,
   "metadata": {
    "execution": {
     "iopub.execute_input": "2021-05-17T10:26:33.531182Z",
     "iopub.status.busy": "2021-05-17T10:26:33.530451Z",
     "iopub.status.idle": "2021-05-17T10:26:33.533662Z",
     "shell.execute_reply": "2021-05-17T10:26:33.533151Z"
    }
   },
   "outputs": [
    {
     "data": {
      "text/plain": [
       "[Amplicon(1646), Amplicon(961)]"
      ]
     },
     "execution_count": 1,
     "metadata": {},
     "output_type": "execute_result"
    }
   ],
   "source": [
    "Anneal( (p['577'], p['342'], fp), pYPKa_E_RPL16Bb).products\n"
   ]
  },
  {
   "cell_type": "markdown",
   "metadata": {},
   "source": [
    "Calculate cseguid checksums for the resulting plasmids for future reference.\n",
    "This checksum that uniquely describes a circular double stranded\n",
    "sequence. See this [blog post](https://ochsavidare.blogspot.com/2016/02/checksum-for-circular-biological.html) for more info.\n",
    "\n",
    "pYPKa_Z_RPL16B.cseguid() should be otWHDbuRXpJ__FYa1eN1ENzRcKA"
   ]
  },
  {
   "cell_type": "code",
   "execution_count": 23,
   "metadata": {
    "execution": {
     "iopub.execute_input": "2021-05-17T10:26:33.546143Z",
     "iopub.status.busy": "2021-05-17T10:26:33.545532Z",
     "iopub.status.idle": "2021-05-17T10:26:33.548018Z",
     "shell.execute_reply": "2021-05-17T10:26:33.548548Z"
    }
   },
   "outputs": [
    {
     "name": "stdout",
     "output_type": "stream",
     "text": [
      "otWHDbuRXpJ__FYa1eN1ENzRcKA\n"
     ]
    }
   ],
   "source": [
    "print(pYPKa_Z_RPL16B.cseguid())\n",
    "assert pYPKa_Z_RPL16B.cseguid() == \"otWHDbuRXpJ__FYa1eN1ENzRcKA\""
   ]
  },
  {
   "cell_type": "markdown",
   "metadata": {},
   "source": [
    "pYPKa_E_RPL16B.cseguid() should be aiNzu5bWQj7PnOHCxBbKnTbcwWs"
   ]
  },
  {
   "cell_type": "code",
   "execution_count": 24,
   "metadata": {
    "execution": {
     "iopub.execute_input": "2021-05-17T10:26:33.562982Z",
     "iopub.status.busy": "2021-05-17T10:26:33.562438Z",
     "iopub.status.idle": "2021-05-17T10:26:33.564692Z",
     "shell.execute_reply": "2021-05-17T10:26:33.565110Z"
    }
   },
   "outputs": [
    {
     "name": "stdout",
     "output_type": "stream",
     "text": [
      "aiNzu5bWQj7PnOHCxBbKnTbcwWs\n"
     ]
    }
   ],
   "source": [
    "print(pYPKa_E_RPL16B.cseguid())\n",
    "assert pYPKa_E_RPL16B.cseguid() == \"aiNzu5bWQj7PnOHCxBbKnTbcwWs\""
   ]
  },
  {
   "cell_type": "markdown",
   "metadata": {},
   "source": [
    "The sequences are named based on the name of the cloned insert."
   ]
  },
  {
   "cell_type": "code",
   "execution_count": 25,
   "metadata": {
    "execution": {
     "iopub.execute_input": "2021-05-17T10:26:33.568490Z",
     "iopub.status.busy": "2021-05-17T10:26:33.568060Z",
     "iopub.status.idle": "2021-05-17T10:26:33.570867Z",
     "shell.execute_reply": "2021-05-17T10:26:33.570203Z"
    }
   },
   "outputs": [],
   "source": [
    "pYPKa_Z_RPL16B.locus = \"pYPKa_Z_RPL16B\"[:16]\n",
    "pYPKa_E_RPL16B.locus = \"pYPKa_Z_RPL16B\"[:16]"
   ]
  },
  {
   "cell_type": "markdown",
   "metadata": {},
   "source": [
    "Stamp sequence with cseguid checksum. This can be used to verify the\n",
    "integrity of the sequence file."
   ]
  },
  {
   "cell_type": "code",
   "execution_count": 26,
   "metadata": {
    "execution": {
     "iopub.execute_input": "2021-05-17T10:26:33.585723Z",
     "iopub.status.busy": "2021-05-17T10:26:33.585055Z",
     "iopub.status.idle": "2021-05-17T10:26:33.587802Z",
     "shell.execute_reply": "2021-05-17T10:26:33.588358Z"
    }
   },
   "outputs": [
    {
     "data": {
      "text/plain": [
       "cSEGUID_aiNzu5bWQj7PnOHCxBbKnTbcwWs"
      ]
     },
     "execution_count": 1,
     "metadata": {},
     "output_type": "execute_result"
    }
   ],
   "source": [
    "pYPKa_Z_RPL16B.stamp()\n",
    "pYPKa_E_RPL16B.stamp()"
   ]
  },
  {
   "cell_type": "markdown",
   "metadata": {},
   "source": [
    "pYPKa_Z_RPL16B is written to a local file:"
   ]
  },
  {
   "cell_type": "code",
   "execution_count": 27,
   "metadata": {
    "execution": {
     "iopub.execute_input": "2021-05-17T10:26:33.596343Z",
     "iopub.status.busy": "2021-05-17T10:26:33.594979Z",
     "iopub.status.idle": "2021-05-17T10:26:33.602675Z",
     "shell.execute_reply": "2021-05-17T10:26:33.602154Z"
    }
   },
   "outputs": [
    {
     "data": {
      "text/html": [
       "<font face=monospace><a href='pYPKa_Z_RPL16B.gb' target='_blank'>pYPKa_Z_RPL16B.gb</a></font><br>"
      ]
     },
     "metadata": {},
     "output_type": "display_data"
    }
   ],
   "source": [
    "pYPKa_Z_RPL16B.write(\"pYPKa_Z_RPL16B.gb\")"
   ]
  },
  {
   "cell_type": "markdown",
   "metadata": {},
   "source": [
    "pYPKa_E_RPL16B is written to a local file:"
   ]
  },
  {
   "cell_type": "code",
   "execution_count": 28,
   "metadata": {
    "execution": {
     "iopub.execute_input": "2021-05-17T10:26:33.612431Z",
     "iopub.status.busy": "2021-05-17T10:26:33.610723Z",
     "iopub.status.idle": "2021-05-17T10:26:33.615977Z",
     "shell.execute_reply": "2021-05-17T10:26:33.616498Z"
    }
   },
   "outputs": [
    {
     "data": {
      "text/html": [
       "<font face=monospace><a href='pYPKa_E_RPL16B.gb' target='_blank'>pYPKa_E_RPL16B.gb</a></font><br>"
      ]
     },
     "metadata": {},
     "output_type": "display_data"
    }
   ],
   "source": [
    "pYPKa_E_RPL16B.write(\"pYPKa_E_RPL16B.gb\")"
   ]
  }
 ],
 "metadata": {
  "language_info": {
   "codemirror_mode": {
    "name": "ipython",
    "version": 3
   },
   "file_extension": ".py",
   "mimetype": "text/x-python",
   "name": "python",
   "nbconvert_exporter": "python",
   "pygments_lexer": "ipython3",
   "version": "3.9.0"
  }
 },
 "nbformat": 4,
 "nbformat_minor": 2
}
