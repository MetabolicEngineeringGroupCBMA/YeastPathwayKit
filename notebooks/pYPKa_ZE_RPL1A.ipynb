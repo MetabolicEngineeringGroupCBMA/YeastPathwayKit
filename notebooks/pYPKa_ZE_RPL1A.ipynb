{
 "cells": [
  {
   "cell_type": "markdown",
   "metadata": {},
   "source": [
    "# pYPKa_Z_RPL1A and pYPKa_E_RPL1A\n",
    "\n",
    "This Jupyter notebook describe the construction of E. coli vectors [pYPKa_Z_RPL1A](pYPKa_Z_RPL1A.gb) and [pYPKa_E_RPL1A](pYPKa_E_RPL1A.gb). \n",
    "These two vectors share backbone and insert, but in the former, the insert is cloned using the restriction\n",
    "enzyme [ZraI](http://rebase.neb.com/rebase/enz/ZraI.html) while in the latter [EcoRV](http://rebase.neb.com/rebase/enz/EcoRV.html) is used.\n",
    "\n",
    "The insert cloned in ZraI is meant to function as a promoter, while in the EcoRV site it is meant to be  used as a terminator.\n",
    "\n",
    "Links to the sequence of each vector in Genbank format can be found at the bottom of this document.\n",
    "\n",
    "![pYPKa_Z and pYPKa_E](figure_pYPKa_ZE.png \"pYPKa_Z or pYPKa_E plasmid\")\n",
    "\n",
    "The Python package [pydna](https://pypi.python.org/pypi/pydna/) package is imported in the code cell below to provide \n",
    "the cloning functionality. There is a [publication](http://www.biomedcentral.com/1471-2105/16/142) describing pydna as well as\n",
    "[documentation](http://pydna.readthedocs.io/) available online. Pydna is developed on [Github](https://github.com/BjornFJohansson/pydna)."
   ]
  },
  {
   "cell_type": "code",
   "execution_count": 1,
   "metadata": {
    "execution": {
     "iopub.execute_input": "2021-05-17T10:26:40.073023Z",
     "iopub.status.busy": "2021-05-17T10:26:40.071773Z",
     "iopub.status.idle": "2021-05-17T10:26:40.599712Z",
     "shell.execute_reply": "2021-05-17T10:26:40.599214Z"
    }
   },
   "outputs": [],
   "source": [
    "from pydna.readers import read\n",
    "from pydna.parsers import parse_primers\n",
    "from pydna.genbank import Genbank\n",
    "from pydna.amplify import pcr\n",
    "from pydna.amplify import Anneal"
   ]
  },
  {
   "cell_type": "markdown",
   "metadata": {},
   "source": [
    "The vector backbone pYPKa is read from a local [file](pYPKa.gb)."
   ]
  },
  {
   "cell_type": "code",
   "execution_count": 2,
   "metadata": {
    "execution": {
     "iopub.execute_input": "2021-05-17T10:26:40.608111Z",
     "iopub.status.busy": "2021-05-17T10:26:40.607609Z",
     "iopub.status.idle": "2021-05-17T10:26:40.615575Z",
     "shell.execute_reply": "2021-05-17T10:26:40.616001Z"
    }
   },
   "outputs": [],
   "source": [
    "pYPKa = read(\"pYPKa.gb\")"
   ]
  },
  {
   "cell_type": "markdown",
   "metadata": {},
   "source": [
    "Both restriction enzymes are imported from [Biopython](http://biopython.org/wiki/Main_Page)"
   ]
  },
  {
   "cell_type": "code",
   "execution_count": 3,
   "metadata": {
    "execution": {
     "iopub.execute_input": "2021-05-17T10:26:40.619453Z",
     "iopub.status.busy": "2021-05-17T10:26:40.618991Z",
     "iopub.status.idle": "2021-05-17T10:26:40.621885Z",
     "shell.execute_reply": "2021-05-17T10:26:40.621008Z"
    }
   },
   "outputs": [],
   "source": [
    "from Bio.Restriction import ZraI, EcoRV"
   ]
  },
  {
   "cell_type": "markdown",
   "metadata": {},
   "source": [
    "The vector is cut with both enzymes."
   ]
  },
  {
   "cell_type": "code",
   "execution_count": 4,
   "metadata": {
    "execution": {
     "iopub.execute_input": "2021-05-17T10:26:40.633659Z",
     "iopub.status.busy": "2021-05-17T10:26:40.632912Z",
     "iopub.status.idle": "2021-05-17T10:26:40.635446Z",
     "shell.execute_reply": "2021-05-17T10:26:40.635935Z"
    }
   },
   "outputs": [],
   "source": [
    "pYPKa_ZraI  = pYPKa.linearize(ZraI)\n",
    "pYPKa_EcoRV = pYPKa.linearize(EcoRV)"
   ]
  },
  {
   "cell_type": "markdown",
   "metadata": {},
   "source": [
    "The template below comes from a Genbank [record](http://www.ncbi.nlm.nih.gov/nuccore/BK006949.2).\n",
    "Access to Genbank is needed in order to download the template.\n",
    "If you execute this script, change the email address below to your own.\n",
    "Always tell Genbank who you are, when using their web service."
   ]
  },
  {
   "cell_type": "code",
   "execution_count": 5,
   "metadata": {
    "execution": {
     "iopub.execute_input": "2021-05-17T10:26:40.639961Z",
     "iopub.status.busy": "2021-05-17T10:26:40.639532Z",
     "iopub.status.idle": "2021-05-17T10:26:40.641334Z",
     "shell.execute_reply": "2021-05-17T10:26:40.641786Z"
    }
   },
   "outputs": [],
   "source": [
    "gb = Genbank(\"bjornjobb@gmail.com\")"
   ]
  },
  {
   "cell_type": "markdown",
   "metadata": {},
   "source": [
    "The template is downloaded from Genbank below."
   ]
  },
  {
   "cell_type": "code",
   "execution_count": 6,
   "metadata": {
    "execution": {
     "iopub.execute_input": "2021-05-17T10:26:40.646515Z",
     "iopub.status.busy": "2021-05-17T10:26:40.645400Z",
     "iopub.status.idle": "2021-05-17T10:26:40.657021Z",
     "shell.execute_reply": "2021-05-17T10:26:40.656532Z"
    }
   },
   "outputs": [],
   "source": [
    "template = gb.nucleotide(\"BK006949.2 REGION: 135425..135789\")"
   ]
  },
  {
   "cell_type": "markdown",
   "metadata": {},
   "source": [
    "The template is a 365 bp linear DNA fragment."
   ]
  },
  {
   "cell_type": "code",
   "execution_count": 7,
   "metadata": {
    "execution": {
     "iopub.execute_input": "2021-05-17T10:26:40.666018Z",
     "iopub.status.busy": "2021-05-17T10:26:40.664736Z",
     "iopub.status.idle": "2021-05-17T10:26:40.669152Z",
     "shell.execute_reply": "2021-05-17T10:26:40.669788Z"
    }
   },
   "outputs": [
    {
     "data": {
      "text/html": [
       "<a href='https://www.ncbi.nlm.nih.gov/nuccore/BK006949.2 ?from=135425&to=135789&strand=1' target='_blank'>BK006949.2  135425-135789</a>"
      ],
      "text/plain": [
       "Gbank(BK006949.2  135425-135789)(-365)"
      ]
     },
     "execution_count": 1,
     "metadata": {},
     "output_type": "execute_result"
    }
   ],
   "source": [
    "template"
   ]
  },
  {
   "cell_type": "markdown",
   "metadata": {},
   "source": [
    "The insert has the sequence shown below."
   ]
  },
  {
   "cell_type": "code",
   "execution_count": 8,
   "metadata": {
    "execution": {
     "iopub.execute_input": "2021-05-17T10:26:40.674483Z",
     "iopub.status.busy": "2021-05-17T10:26:40.673754Z",
     "iopub.status.idle": "2021-05-17T10:26:40.677671Z",
     "shell.execute_reply": "2021-05-17T10:26:40.677005Z"
    }
   },
   "outputs": [
    {
     "name": "stdout",
     "output_type": "stream",
     "text": [
      "GCTTTGTCGATGGGATAAAGGTAAAAAGAACAACGTAATTAAATCATTACGAAAACTCTACTGCATTATTTTTTAGTCTTTTTATAGAGACATGAACATTCAATTACTTTCAAGGATAAATATTCTAATATTCATATTATTCACTTATGTATTTTTAACGAAACTCTACTCCATTCTACTGGGATCGGGCATACTTTACGGGGTGCACGGATTTTAGCAGTCTTTTTCTTTCTTGGCTTTTGCGAGATGCCTTGAGAGGAAGATTTTTTTTTCACTCAAAACCTCTGTCTTGTACATATCTAGAACATGTTTCATTGATATTGGACGTTACTATTTCAATTTAACAGTCAACCAGTCGTCCAAAA\n"
     ]
    }
   ],
   "source": [
    "print(str(template.seq))"
   ]
  },
  {
   "cell_type": "markdown",
   "metadata": {},
   "source": [
    "The seguid checksum of the template should be\n",
    "\n",
    "```BnPzu7C0PAxwTj4jW3dquf996QA```"
   ]
  },
  {
   "cell_type": "code",
   "execution_count": 9,
   "metadata": {
    "execution": {
     "iopub.execute_input": "2021-05-17T10:26:40.682748Z",
     "iopub.status.busy": "2021-05-17T10:26:40.681909Z",
     "iopub.status.idle": "2021-05-17T10:26:40.686447Z",
     "shell.execute_reply": "2021-05-17T10:26:40.685727Z"
    }
   },
   "outputs": [
    {
     "data": {
      "text/plain": [
       "BnPzu7C0PAxwTj4jW3dquf996QA"
      ]
     },
     "execution_count": 1,
     "metadata": {},
     "output_type": "execute_result"
    }
   ],
   "source": [
    "template.seguid()"
   ]
  },
  {
   "cell_type": "markdown",
   "metadata": {},
   "source": [
    "Two primers are used to amplify the insert:"
   ]
  },
  {
   "cell_type": "code",
   "execution_count": 10,
   "metadata": {
    "execution": {
     "iopub.execute_input": "2021-05-17T10:26:40.691824Z",
     "iopub.status.busy": "2021-05-17T10:26:40.691175Z",
     "iopub.status.idle": "2021-05-17T10:26:40.693501Z",
     "shell.execute_reply": "2021-05-17T10:26:40.694122Z"
    }
   },
   "outputs": [],
   "source": [
    "fp,rp = parse_primers(\"\"\">864_RPL1Atpf\n",
    "                         ttaaatGCTTTGTCGATGGGAT\n",
    "                         >863_RPL1Atpr\n",
    "                         taattaaTTTTGGACGACTGGTTG\"\"\")"
   ]
  },
  {
   "cell_type": "markdown",
   "metadata": {},
   "source": [
    "PCR to create the insert using the primers above."
   ]
  },
  {
   "cell_type": "code",
   "execution_count": 11,
   "metadata": {
    "execution": {
     "iopub.execute_input": "2021-05-17T10:26:40.700497Z",
     "iopub.status.busy": "2021-05-17T10:26:40.699672Z",
     "iopub.status.idle": "2021-05-17T10:26:40.705345Z",
     "shell.execute_reply": "2021-05-17T10:26:40.704617Z"
    }
   },
   "outputs": [],
   "source": [
    "prd = pcr(fp, rp, template)\n",
    "assert str(fp.seq) in prd"
   ]
  },
  {
   "cell_type": "markdown",
   "metadata": {},
   "source": [
    "The PCR product has this length in bp."
   ]
  },
  {
   "cell_type": "code",
   "execution_count": 12,
   "metadata": {
    "execution": {
     "iopub.execute_input": "2021-05-17T10:26:40.709910Z",
     "iopub.status.busy": "2021-05-17T10:26:40.709032Z",
     "iopub.status.idle": "2021-05-17T10:26:40.712621Z",
     "shell.execute_reply": "2021-05-17T10:26:40.712051Z"
    }
   },
   "outputs": [
    {
     "data": {
      "text/plain": [
       "378"
      ]
     },
     "execution_count": 1,
     "metadata": {},
     "output_type": "execute_result"
    }
   ],
   "source": [
    "len(prd)"
   ]
  },
  {
   "cell_type": "markdown",
   "metadata": {},
   "source": [
    "A figure of the primers annealing on template."
   ]
  },
  {
   "cell_type": "code",
   "execution_count": 13,
   "metadata": {
    "execution": {
     "iopub.execute_input": "2021-05-17T10:26:40.717500Z",
     "iopub.status.busy": "2021-05-17T10:26:40.716723Z",
     "iopub.status.idle": "2021-05-17T10:26:40.720191Z",
     "shell.execute_reply": "2021-05-17T10:26:40.720821Z"
    }
   },
   "outputs": [
    {
     "data": {
      "text/plain": [
       "      5GCTTTGTCGATGGGAT...CAACCAGTCGTCCAAAA3\n",
       "                          |||||||||||||||||\n",
       "                         3GTTGGTCAGCAGGTTTTaattaat5\n",
       "5ttaaatGCTTTGTCGATGGGAT3\n",
       "       ||||||||||||||||\n",
       "      3CGAAACAGCTACCCTA...GTTGGTCAGCAGGTTTT5"
      ]
     },
     "execution_count": 1,
     "metadata": {},
     "output_type": "execute_result"
    }
   ],
   "source": [
    "prd.figure()"
   ]
  },
  {
   "cell_type": "markdown",
   "metadata": {},
   "source": [
    "A suggested PCR program."
   ]
  },
  {
   "cell_type": "code",
   "execution_count": 14,
   "metadata": {
    "execution": {
     "iopub.execute_input": "2021-05-17T10:26:40.727042Z",
     "iopub.status.busy": "2021-05-17T10:26:40.725839Z",
     "iopub.status.idle": "2021-05-17T10:26:40.730514Z",
     "shell.execute_reply": "2021-05-17T10:26:40.729962Z"
    }
   },
   "outputs": [
    {
     "data": {
      "text/plain": [
       "|95°C|95°C               |    |tmf:55.6\n",
       "|____|_____          72°C|72°C|tmr:56.5\n",
       "|5min|30s  \\ 51.5°C _____|____|60s/kb\n",
       "|    |      \\______/ 0:22|5min|GC 31%\n",
       "|    |       30s         |    |378bp"
      ]
     },
     "execution_count": 1,
     "metadata": {},
     "output_type": "execute_result"
    }
   ],
   "source": [
    "prd.program()"
   ]
  },
  {
   "cell_type": "markdown",
   "metadata": {},
   "source": [
    "The final vectors are:"
   ]
  },
  {
   "cell_type": "code",
   "execution_count": 15,
   "metadata": {
    "execution": {
     "iopub.execute_input": "2021-05-17T10:26:40.804784Z",
     "iopub.status.busy": "2021-05-17T10:26:40.769328Z",
     "iopub.status.idle": "2021-05-17T10:26:41.173757Z",
     "shell.execute_reply": "2021-05-17T10:26:41.174356Z"
    }
   },
   "outputs": [],
   "source": [
    "pYPKa_Z_RPL1A = (pYPKa_ZraI  + prd).looped().synced(pYPKa)\n",
    "pYPKa_E_RPL1A = (pYPKa_EcoRV + prd).looped().synced(pYPKa)"
   ]
  },
  {
   "cell_type": "markdown",
   "metadata": {},
   "source": [
    "The final vectors with reverse inserts are created below. These vectors theoretically make up\n",
    "fifty percent of the clones. The PCR strategy outlined below can be used to identify clones with the insert\n",
    "in the correct orientation."
   ]
  },
  {
   "cell_type": "code",
   "execution_count": 16,
   "metadata": {
    "execution": {
     "iopub.execute_input": "2021-05-17T10:26:41.191968Z",
     "iopub.status.busy": "2021-05-17T10:26:41.186921Z",
     "iopub.status.idle": "2021-05-17T10:26:41.694904Z",
     "shell.execute_reply": "2021-05-17T10:26:41.694350Z"
    }
   },
   "outputs": [],
   "source": [
    "pYPKa_Z_RPL1Ab = (pYPKa_ZraI  + prd.rc()).looped().synced(pYPKa)\n",
    "pYPKa_E_RPL1Ab = (pYPKa_EcoRV + prd.rc()).looped().synced(pYPKa)"
   ]
  },
  {
   "cell_type": "markdown",
   "metadata": {},
   "source": [
    "A combination of yeast pathway kit standard primers and the primers above are\n",
    "used for the strategy to identify correct clones.\n",
    "Standard primers used in the yeast are listed [here](standard_primers.txt)."
   ]
  },
  {
   "cell_type": "code",
   "execution_count": 17,
   "metadata": {
    "execution": {
     "iopub.execute_input": "2021-05-17T10:26:41.699875Z",
     "iopub.status.busy": "2021-05-17T10:26:41.699225Z",
     "iopub.status.idle": "2021-05-17T10:26:41.703861Z",
     "shell.execute_reply": "2021-05-17T10:26:41.702940Z"
    }
   },
   "outputs": [],
   "source": [
    "p = { x.id: x for x in parse_primers(\"\"\">577\n",
    "                                         gttctgatcctcgagcatcttaagaattc\n",
    "                                         >578\n",
    "                                         gttcttgtctcattgccacattcataagt\n",
    "                                         >468\n",
    "                                         gtcgaggaacgccaggttgcccact\n",
    "                                         >467\n",
    "                                         ATTTAAatcctgatgcgtttgtctgcacaga\n",
    "                                         >567\n",
    "                                         GTcggctgcaggtcactagtgag\n",
    "                                         >568\n",
    "                                         GTGCcatctgtgcagacaaacg\n",
    "                                         >775\n",
    "                                         gcggccgctgacTTAAAT\n",
    "                                         >778\n",
    "                                         ggtaaatccggatTAATTAA\n",
    "                                         >342\n",
    "                                         CCTTTTTACGGTTCCTGGCCT\"\"\") }"
   ]
  },
  {
   "cell_type": "markdown",
   "metadata": {},
   "source": [
    "## Diagnostic PCR confirmation\n",
    "\n",
    "The correct structure of pYPKa_Z_RPL1A is confirmed by PCR using standard primers\n",
    "577 and 342 that are vector specific together with the RPL1Afw primer specific for the insert\n",
    "in a multiplex PCR reaction with\n",
    "all three primers present.\n",
    "\n",
    "Two PCR products are expected if the insert was cloned, the sizes depend\n",
    "on the orientation. If the vector is empty or contains another insert, only one\n",
    "product is formed.\n",
    "\n",
    "#### Expected PCR products sizes from pYPKa_Z_RPL1A:\n",
    "\n",
    "pYPKa_Z_RPL1A with insert in correct orientation."
   ]
  },
  {
   "cell_type": "code",
   "execution_count": 18,
   "metadata": {
    "execution": {
     "iopub.execute_input": "2021-05-17T10:26:41.720372Z",
     "iopub.status.busy": "2021-05-17T10:26:41.719652Z",
     "iopub.status.idle": "2021-05-17T10:26:41.722010Z",
     "shell.execute_reply": "2021-05-17T10:26:41.722691Z"
    }
   },
   "outputs": [
    {
     "data": {
      "text/plain": [
       "[Amplicon(1312), Amplicon(1144)]"
      ]
     },
     "execution_count": 1,
     "metadata": {},
     "output_type": "execute_result"
    }
   ],
   "source": [
    "Anneal( (p['577'], p['342'], fp), pYPKa_Z_RPL1A).products"
   ]
  },
  {
   "cell_type": "markdown",
   "metadata": {},
   "source": [
    "pYPKa_Z_RPL1A with insert in reverse orientation."
   ]
  },
  {
   "cell_type": "code",
   "execution_count": 19,
   "metadata": {
    "execution": {
     "iopub.execute_input": "2021-05-17T10:26:41.733292Z",
     "iopub.status.busy": "2021-05-17T10:26:41.732632Z",
     "iopub.status.idle": "2021-05-17T10:26:41.735238Z",
     "shell.execute_reply": "2021-05-17T10:26:41.735737Z"
    }
   },
   "outputs": [
    {
     "data": {
      "text/plain": [
       "[Amplicon(1312), Amplicon(546)]"
      ]
     },
     "execution_count": 1,
     "metadata": {},
     "output_type": "execute_result"
    }
   ],
   "source": [
    "Anneal( (p['577'], p['342'], fp), pYPKa_Z_RPL1Ab).products"
   ]
  },
  {
   "cell_type": "markdown",
   "metadata": {},
   "source": [
    "Empty pYPKa clone."
   ]
  },
  {
   "cell_type": "code",
   "execution_count": 20,
   "metadata": {
    "execution": {
     "iopub.execute_input": "2021-05-17T10:26:41.744721Z",
     "iopub.status.busy": "2021-05-17T10:26:41.743834Z",
     "iopub.status.idle": "2021-05-17T10:26:41.747450Z",
     "shell.execute_reply": "2021-05-17T10:26:41.747858Z"
    }
   },
   "outputs": [
    {
     "data": {
      "text/plain": [
       "[Amplicon(934)]"
      ]
     },
     "execution_count": 1,
     "metadata": {},
     "output_type": "execute_result"
    }
   ],
   "source": [
    "Anneal( (p['577'], p['342'], fp), pYPKa).products"
   ]
  },
  {
   "cell_type": "markdown",
   "metadata": {},
   "source": [
    "#### Expected PCR products sizes pYPKa_E_RPL1A:\n",
    "\n",
    "pYPKa_E_RPL1A with insert in correct orientation."
   ]
  },
  {
   "cell_type": "code",
   "execution_count": 21,
   "metadata": {
    "execution": {
     "iopub.execute_input": "2021-05-17T10:26:41.759276Z",
     "iopub.status.busy": "2021-05-17T10:26:41.758681Z",
     "iopub.status.idle": "2021-05-17T10:26:41.761884Z",
     "shell.execute_reply": "2021-05-17T10:26:41.761385Z"
    }
   },
   "outputs": [
    {
     "data": {
      "text/plain": [
       "[Amplicon(1312), Amplicon(1063)]"
      ]
     },
     "execution_count": 1,
     "metadata": {},
     "output_type": "execute_result"
    }
   ],
   "source": [
    "Anneal( (p['577'], p['342'], fp), pYPKa_E_RPL1A).products"
   ]
  },
  {
   "cell_type": "markdown",
   "metadata": {},
   "source": [
    "pYPKa_E_RPL1A with insert in reverse orientation."
   ]
  },
  {
   "cell_type": "code",
   "execution_count": 22,
   "metadata": {
    "execution": {
     "iopub.execute_input": "2021-05-17T10:26:41.774119Z",
     "iopub.status.busy": "2021-05-17T10:26:41.769351Z",
     "iopub.status.idle": "2021-05-17T10:26:41.776769Z",
     "shell.execute_reply": "2021-05-17T10:26:41.777291Z"
    }
   },
   "outputs": [
    {
     "data": {
      "text/plain": [
       "[Amplicon(1312), Amplicon(627)]"
      ]
     },
     "execution_count": 1,
     "metadata": {},
     "output_type": "execute_result"
    }
   ],
   "source": [
    "Anneal( (p['577'], p['342'], fp), pYPKa_E_RPL1Ab).products\n"
   ]
  },
  {
   "cell_type": "markdown",
   "metadata": {},
   "source": [
    "Calculate cseguid checksums for the resulting plasmids for future reference.\n",
    "This checksum that uniquely describes a circular double stranded\n",
    "sequence. See this [blog post](https://ochsavidare.blogspot.com/2016/02/checksum-for-circular-biological.html) for more info.\n",
    "\n",
    "pYPKa_Z_RPL1A.cseguid() should be EB4JXZbV9fq65BV2SmA5AtEIW5Q"
   ]
  },
  {
   "cell_type": "code",
   "execution_count": 23,
   "metadata": {
    "execution": {
     "iopub.execute_input": "2021-05-17T10:26:41.789228Z",
     "iopub.status.busy": "2021-05-17T10:26:41.788413Z",
     "iopub.status.idle": "2021-05-17T10:26:41.791864Z",
     "shell.execute_reply": "2021-05-17T10:26:41.791311Z"
    }
   },
   "outputs": [
    {
     "name": "stdout",
     "output_type": "stream",
     "text": [
      "EB4JXZbV9fq65BV2SmA5AtEIW5Q\n"
     ]
    }
   ],
   "source": [
    "print(pYPKa_Z_RPL1A.cseguid())\n",
    "assert pYPKa_Z_RPL1A.cseguid() == \"EB4JXZbV9fq65BV2SmA5AtEIW5Q\""
   ]
  },
  {
   "cell_type": "markdown",
   "metadata": {},
   "source": [
    "pYPKa_E_RPL1A.cseguid() should be 9WcyuaKy2b5JktoyW4eZX32GxAg"
   ]
  },
  {
   "cell_type": "code",
   "execution_count": 24,
   "metadata": {
    "execution": {
     "iopub.execute_input": "2021-05-17T10:26:41.802471Z",
     "iopub.status.busy": "2021-05-17T10:26:41.801604Z",
     "iopub.status.idle": "2021-05-17T10:26:41.805237Z",
     "shell.execute_reply": "2021-05-17T10:26:41.804716Z"
    }
   },
   "outputs": [
    {
     "name": "stdout",
     "output_type": "stream",
     "text": [
      "9WcyuaKy2b5JktoyW4eZX32GxAg\n"
     ]
    }
   ],
   "source": [
    "print(pYPKa_E_RPL1A.cseguid())\n",
    "assert pYPKa_E_RPL1A.cseguid() == \"9WcyuaKy2b5JktoyW4eZX32GxAg\""
   ]
  },
  {
   "cell_type": "markdown",
   "metadata": {},
   "source": [
    "The sequences are named based on the name of the cloned insert."
   ]
  },
  {
   "cell_type": "code",
   "execution_count": 25,
   "metadata": {
    "execution": {
     "iopub.execute_input": "2021-05-17T10:26:41.808646Z",
     "iopub.status.busy": "2021-05-17T10:26:41.808120Z",
     "iopub.status.idle": "2021-05-17T10:26:41.809923Z",
     "shell.execute_reply": "2021-05-17T10:26:41.810379Z"
    }
   },
   "outputs": [],
   "source": [
    "pYPKa_Z_RPL1A.locus = \"pYPKa_Z_RPL1A\"[:16]\n",
    "pYPKa_E_RPL1A.locus = \"pYPKa_Z_RPL1A\"[:16]"
   ]
  },
  {
   "cell_type": "markdown",
   "metadata": {},
   "source": [
    "Stamp sequence with cseguid checksum. This can be used to verify the\n",
    "integrity of the sequence file."
   ]
  },
  {
   "cell_type": "code",
   "execution_count": 26,
   "metadata": {
    "execution": {
     "iopub.execute_input": "2021-05-17T10:26:41.822170Z",
     "iopub.status.busy": "2021-05-17T10:26:41.821399Z",
     "iopub.status.idle": "2021-05-17T10:26:41.823905Z",
     "shell.execute_reply": "2021-05-17T10:26:41.824333Z"
    }
   },
   "outputs": [
    {
     "data": {
      "text/plain": [
       "cSEGUID_9WcyuaKy2b5JktoyW4eZX32GxAg"
      ]
     },
     "execution_count": 1,
     "metadata": {},
     "output_type": "execute_result"
    }
   ],
   "source": [
    "pYPKa_Z_RPL1A.stamp()\n",
    "pYPKa_E_RPL1A.stamp()"
   ]
  },
  {
   "cell_type": "markdown",
   "metadata": {},
   "source": [
    "pYPKa_Z_RPL1A is written to a local file:"
   ]
  },
  {
   "cell_type": "code",
   "execution_count": 27,
   "metadata": {
    "execution": {
     "iopub.execute_input": "2021-05-17T10:26:41.827787Z",
     "iopub.status.busy": "2021-05-17T10:26:41.827139Z",
     "iopub.status.idle": "2021-05-17T10:26:41.835074Z",
     "shell.execute_reply": "2021-05-17T10:26:41.835525Z"
    }
   },
   "outputs": [
    {
     "data": {
      "text/html": [
       "<font face=monospace><a href='pYPKa_Z_RPL1A.gb' target='_blank'>pYPKa_Z_RPL1A.gb</a></font><br>"
      ]
     },
     "metadata": {},
     "output_type": "display_data"
    }
   ],
   "source": [
    "pYPKa_Z_RPL1A.write(\"pYPKa_Z_RPL1A.gb\")"
   ]
  },
  {
   "cell_type": "markdown",
   "metadata": {},
   "source": [
    "pYPKa_E_RPL1A is written to a local file:"
   ]
  },
  {
   "cell_type": "code",
   "execution_count": 28,
   "metadata": {
    "execution": {
     "iopub.execute_input": "2021-05-17T10:26:41.840624Z",
     "iopub.status.busy": "2021-05-17T10:26:41.839585Z",
     "iopub.status.idle": "2021-05-17T10:26:41.847551Z",
     "shell.execute_reply": "2021-05-17T10:26:41.848442Z"
    }
   },
   "outputs": [
    {
     "data": {
      "text/html": [
       "<font face=monospace><a href='pYPKa_E_RPL1A.gb' target='_blank'>pYPKa_E_RPL1A.gb</a></font><br>"
      ]
     },
     "metadata": {},
     "output_type": "display_data"
    }
   ],
   "source": [
    "pYPKa_E_RPL1A.write(\"pYPKa_E_RPL1A.gb\")"
   ]
  }
 ],
 "metadata": {
  "language_info": {
   "codemirror_mode": {
    "name": "ipython",
    "version": 3
   },
   "file_extension": ".py",
   "mimetype": "text/x-python",
   "name": "python",
   "nbconvert_exporter": "python",
   "pygments_lexer": "ipython3",
   "version": "3.9.0"
  }
 },
 "nbformat": 4,
 "nbformat_minor": 2
}
