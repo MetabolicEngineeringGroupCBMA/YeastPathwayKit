{
 "cells": [
  {
   "cell_type": "markdown",
   "metadata": {},
   "source": [
    "# pYPKa_Z_TIF1 and pYPKa_E_TIF1\n",
    "\n",
    "This Jupyter notebook describe the construction of E. coli vectors [pYPKa_Z_TIF1](pYPKa_Z_TIF1.gb) and [pYPKa_E_TIF1](pYPKa_E_TIF1.gb). \n",
    "These two vectors share backbone and insert, but in the former, the insert is cloned using the restriction\n",
    "enzyme [ZraI](http://rebase.neb.com/rebase/enz/ZraI.html) while in the latter [EcoRV](http://rebase.neb.com/rebase/enz/EcoRV.html) is used.\n",
    "\n",
    "The insert cloned in ZraI is meant to function as a promoter, while in the EcoRV site it is meant to be  used as a terminator.\n",
    "\n",
    "Links to the sequence of each vector in Genbank format can be found at the bottom of this document.\n",
    "\n",
    "![pYPKa_Z and pYPKa_E](figure_pYPKa_ZE.png \"pYPKa_Z or pYPKa_E plasmid\")\n",
    "\n",
    "The Python package [pydna](https://pypi.python.org/pypi/pydna/) package is imported in the code cell below to provide \n",
    "the cloning functionality. There is a [publication](http://www.biomedcentral.com/1471-2105/16/142) describing pydna as well as\n",
    "[documentation](http://pydna.readthedocs.io/) available online. Pydna is developed on [Github](https://github.com/BjornFJohansson/pydna)."
   ]
  },
  {
   "cell_type": "code",
   "execution_count": 1,
   "metadata": {
    "execution": {
     "iopub.execute_input": "2021-05-17T10:28:07.452068Z",
     "iopub.status.busy": "2021-05-17T10:28:07.451612Z",
     "iopub.status.idle": "2021-05-17T10:28:08.135868Z",
     "shell.execute_reply": "2021-05-17T10:28:08.136382Z"
    }
   },
   "outputs": [],
   "source": [
    "from pydna.readers import read\n",
    "from pydna.parsers import parse_primers\n",
    "from pydna.genbank import Genbank\n",
    "from pydna.amplify import pcr\n",
    "from pydna.amplify import Anneal"
   ]
  },
  {
   "cell_type": "markdown",
   "metadata": {},
   "source": [
    "The vector backbone pYPKa is read from a local [file](pYPKa.gb)."
   ]
  },
  {
   "cell_type": "code",
   "execution_count": 2,
   "metadata": {
    "execution": {
     "iopub.execute_input": "2021-05-17T10:28:08.151808Z",
     "iopub.status.busy": "2021-05-17T10:28:08.148446Z",
     "iopub.status.idle": "2021-05-17T10:28:08.162301Z",
     "shell.execute_reply": "2021-05-17T10:28:08.162909Z"
    }
   },
   "outputs": [],
   "source": [
    "pYPKa = read(\"pYPKa.gb\")"
   ]
  },
  {
   "cell_type": "markdown",
   "metadata": {},
   "source": [
    "Both restriction enzymes are imported from [Biopython](http://biopython.org/wiki/Main_Page)"
   ]
  },
  {
   "cell_type": "code",
   "execution_count": 3,
   "metadata": {
    "execution": {
     "iopub.execute_input": "2021-05-17T10:28:08.167716Z",
     "iopub.status.busy": "2021-05-17T10:28:08.166744Z",
     "iopub.status.idle": "2021-05-17T10:28:08.170697Z",
     "shell.execute_reply": "2021-05-17T10:28:08.170112Z"
    }
   },
   "outputs": [],
   "source": [
    "from Bio.Restriction import ZraI, EcoRV"
   ]
  },
  {
   "cell_type": "markdown",
   "metadata": {},
   "source": [
    "The vector is cut with both enzymes."
   ]
  },
  {
   "cell_type": "code",
   "execution_count": 4,
   "metadata": {
    "execution": {
     "iopub.execute_input": "2021-05-17T10:28:08.183616Z",
     "iopub.status.busy": "2021-05-17T10:28:08.179379Z",
     "iopub.status.idle": "2021-05-17T10:28:08.186176Z",
     "shell.execute_reply": "2021-05-17T10:28:08.185550Z"
    }
   },
   "outputs": [],
   "source": [
    "pYPKa_ZraI  = pYPKa.linearize(ZraI)\n",
    "pYPKa_EcoRV = pYPKa.linearize(EcoRV)"
   ]
  },
  {
   "cell_type": "markdown",
   "metadata": {},
   "source": [
    "The template below comes from a Genbank [record](http://www.ncbi.nlm.nih.gov/nuccore/BK006944.2).\n",
    "Access to Genbank is needed in order to download the template.\n",
    "If you execute this script, change the email address below to your own.\n",
    "Always tell Genbank who you are, when using their web service."
   ]
  },
  {
   "cell_type": "code",
   "execution_count": 5,
   "metadata": {
    "execution": {
     "iopub.execute_input": "2021-05-17T10:28:08.191974Z",
     "iopub.status.busy": "2021-05-17T10:28:08.191127Z",
     "iopub.status.idle": "2021-05-17T10:28:08.194560Z",
     "shell.execute_reply": "2021-05-17T10:28:08.193695Z"
    }
   },
   "outputs": [],
   "source": [
    "gb = Genbank(\"bjornjobb@gmail.com\")"
   ]
  },
  {
   "cell_type": "markdown",
   "metadata": {},
   "source": [
    "The template is downloaded from Genbank below."
   ]
  },
  {
   "cell_type": "code",
   "execution_count": 6,
   "metadata": {
    "execution": {
     "iopub.execute_input": "2021-05-17T10:28:08.201566Z",
     "iopub.status.busy": "2021-05-17T10:28:08.200373Z",
     "iopub.status.idle": "2021-05-17T10:28:08.213969Z",
     "shell.execute_reply": "2021-05-17T10:28:08.212729Z"
    }
   },
   "outputs": [],
   "source": [
    "template = gb.nucleotide(\"BK006944.2 REGION: 554621..554986\")"
   ]
  },
  {
   "cell_type": "markdown",
   "metadata": {},
   "source": [
    "The template is a 366 bp linear DNA fragment."
   ]
  },
  {
   "cell_type": "code",
   "execution_count": 7,
   "metadata": {
    "execution": {
     "iopub.execute_input": "2021-05-17T10:28:08.224790Z",
     "iopub.status.busy": "2021-05-17T10:28:08.222529Z",
     "iopub.status.idle": "2021-05-17T10:28:08.230646Z",
     "shell.execute_reply": "2021-05-17T10:28:08.231407Z"
    }
   },
   "outputs": [
    {
     "data": {
      "text/html": [
       "<a href='https://www.ncbi.nlm.nih.gov/nuccore/BK006944.2 ?from=554621&to=554986&strand=1' target='_blank'>BK006944.2  554621-554986</a>"
      ],
      "text/plain": [
       "Gbank(BK006944.2  554621-554986)(-366)"
      ]
     },
     "execution_count": 1,
     "metadata": {},
     "output_type": "execute_result"
    }
   ],
   "source": [
    "template"
   ]
  },
  {
   "cell_type": "markdown",
   "metadata": {},
   "source": [
    "The insert has the sequence shown below."
   ]
  },
  {
   "cell_type": "code",
   "execution_count": 8,
   "metadata": {
    "execution": {
     "iopub.execute_input": "2021-05-17T10:28:08.236655Z",
     "iopub.status.busy": "2021-05-17T10:28:08.235749Z",
     "iopub.status.idle": "2021-05-17T10:28:08.239923Z",
     "shell.execute_reply": "2021-05-17T10:28:08.239283Z"
    }
   },
   "outputs": [
    {
     "name": "stdout",
     "output_type": "stream",
     "text": [
      "ACTTCCACGCACATATTAGGAAAATTAAAAGACATATCTATGTAAAGACCTTTTCGACTATACAAAAATGCATAACTATTCTATATACATTCAAACTCGAAATTTACTTTAAAGGTTTATCAGCAACAACATCCGATGCTTGCTGTTTATCTTTTCTCACCTCACAACGTTTATAGTGACTGAAAAATTTTTGCATTCTCACCTCGTCTATTGAATGATGTGCTAAGAACTTGAGCTAACATCACAGAACAAAGGTATGAATATACGCAGCCCTGACATTTGTAGATTTTTTATTTGGTCTCTAGTCTTTTCTTTTCTTATTTTATAACAAATTCGTTAAACGGCCTCCTTCTAATTATATACAAG\n"
     ]
    }
   ],
   "source": [
    "print(str(template.seq))"
   ]
  },
  {
   "cell_type": "markdown",
   "metadata": {},
   "source": [
    "The seguid checksum of the template should be\n",
    "\n",
    "```SWfSQuQWpfxlfdeuALfoXpefhqA```"
   ]
  },
  {
   "cell_type": "code",
   "execution_count": 9,
   "metadata": {
    "execution": {
     "iopub.execute_input": "2021-05-17T10:28:08.250415Z",
     "iopub.status.busy": "2021-05-17T10:28:08.249645Z",
     "iopub.status.idle": "2021-05-17T10:28:08.251629Z",
     "shell.execute_reply": "2021-05-17T10:28:08.252135Z"
    }
   },
   "outputs": [
    {
     "data": {
      "text/plain": [
       "SWfSQuQWpfxlfdeuALfoXpefhqA"
      ]
     },
     "execution_count": 1,
     "metadata": {},
     "output_type": "execute_result"
    }
   ],
   "source": [
    "template.seguid()"
   ]
  },
  {
   "cell_type": "markdown",
   "metadata": {},
   "source": [
    "Two primers are used to amplify the insert:"
   ]
  },
  {
   "cell_type": "code",
   "execution_count": 10,
   "metadata": {
    "execution": {
     "iopub.execute_input": "2021-05-17T10:28:08.258170Z",
     "iopub.status.busy": "2021-05-17T10:28:08.256597Z",
     "iopub.status.idle": "2021-05-17T10:28:08.260949Z",
     "shell.execute_reply": "2021-05-17T10:28:08.259796Z"
    }
   },
   "outputs": [],
   "source": [
    "fp,rp = parse_primers(\"\"\">1032_fw366\n",
    "                         ttaaatACTTCCACGCACATAT\n",
    "                         >1031_rv366\n",
    "                         taattaaCTTGTATATAATTAGAAGGAGG\"\"\")"
   ]
  },
  {
   "cell_type": "markdown",
   "metadata": {},
   "source": [
    "PCR to create the insert using the primers above."
   ]
  },
  {
   "cell_type": "code",
   "execution_count": 11,
   "metadata": {
    "execution": {
     "iopub.execute_input": "2021-05-17T10:28:08.269533Z",
     "iopub.status.busy": "2021-05-17T10:28:08.268616Z",
     "iopub.status.idle": "2021-05-17T10:28:08.275474Z",
     "shell.execute_reply": "2021-05-17T10:28:08.274109Z"
    }
   },
   "outputs": [],
   "source": [
    "prd = pcr(fp, rp, template)\n",
    "assert str(fp.seq) in prd"
   ]
  },
  {
   "cell_type": "markdown",
   "metadata": {},
   "source": [
    "The PCR product has this length in bp."
   ]
  },
  {
   "cell_type": "code",
   "execution_count": 12,
   "metadata": {
    "execution": {
     "iopub.execute_input": "2021-05-17T10:28:08.280907Z",
     "iopub.status.busy": "2021-05-17T10:28:08.279914Z",
     "iopub.status.idle": "2021-05-17T10:28:08.284550Z",
     "shell.execute_reply": "2021-05-17T10:28:08.285170Z"
    }
   },
   "outputs": [
    {
     "data": {
      "text/plain": [
       "379"
      ]
     },
     "execution_count": 1,
     "metadata": {},
     "output_type": "execute_result"
    }
   ],
   "source": [
    "len(prd)"
   ]
  },
  {
   "cell_type": "markdown",
   "metadata": {},
   "source": [
    "A figure of the primers annealing on template."
   ]
  },
  {
   "cell_type": "code",
   "execution_count": 13,
   "metadata": {
    "execution": {
     "iopub.execute_input": "2021-05-17T10:28:08.290666Z",
     "iopub.status.busy": "2021-05-17T10:28:08.289511Z",
     "iopub.status.idle": "2021-05-17T10:28:08.293191Z",
     "shell.execute_reply": "2021-05-17T10:28:08.294588Z"
    }
   },
   "outputs": [
    {
     "data": {
      "text/plain": [
       "      5ACTTCCACGCACATAT...CCTCCTTCTAATTATATACAAG3\n",
       "                          ||||||||||||||||||||||\n",
       "                         3GGAGGAAGATTAATATATGTTCaattaat5\n",
       "5ttaaatACTTCCACGCACATAT3\n",
       "       ||||||||||||||||\n",
       "      3TGAAGGTGCGTGTATA...GGAGGAAGATTAATATATGTTC5"
      ]
     },
     "execution_count": 1,
     "metadata": {},
     "output_type": "execute_result"
    }
   ],
   "source": [
    "prd.figure()"
   ]
  },
  {
   "cell_type": "markdown",
   "metadata": {},
   "source": [
    "A suggested PCR program."
   ]
  },
  {
   "cell_type": "code",
   "execution_count": 14,
   "metadata": {
    "execution": {
     "iopub.execute_input": "2021-05-17T10:28:08.300146Z",
     "iopub.status.busy": "2021-05-17T10:28:08.299368Z",
     "iopub.status.idle": "2021-05-17T10:28:08.304006Z",
     "shell.execute_reply": "2021-05-17T10:28:08.303507Z"
    }
   },
   "outputs": [
    {
     "data": {
      "text/plain": [
       "|95°C|95°C               |    |tmf:53.9\n",
       "|____|_____          72°C|72°C|tmr:54.2\n",
       "|5min|30s  \\ 50.8°C _____|____|60s/kb\n",
       "|    |      \\______/ 0:22|5min|GC 30%\n",
       "|    |       30s         |    |379bp"
      ]
     },
     "execution_count": 1,
     "metadata": {},
     "output_type": "execute_result"
    }
   ],
   "source": [
    "prd.program()"
   ]
  },
  {
   "cell_type": "markdown",
   "metadata": {},
   "source": [
    "The final vectors are:"
   ]
  },
  {
   "cell_type": "code",
   "execution_count": 15,
   "metadata": {
    "execution": {
     "iopub.execute_input": "2021-05-17T10:28:08.378547Z",
     "iopub.status.busy": "2021-05-17T10:28:08.342344Z",
     "iopub.status.idle": "2021-05-17T10:28:08.872139Z",
     "shell.execute_reply": "2021-05-17T10:28:08.872693Z"
    }
   },
   "outputs": [],
   "source": [
    "pYPKa_Z_TIF1 = (pYPKa_ZraI  + prd).looped().synced(pYPKa)\n",
    "pYPKa_E_TIF1 = (pYPKa_EcoRV + prd).looped().synced(pYPKa)"
   ]
  },
  {
   "cell_type": "markdown",
   "metadata": {},
   "source": [
    "The final vectors with reverse inserts are created below. These vectors theoretically make up\n",
    "fifty percent of the clones. The PCR strategy outlined below can be used to identify clones with the insert\n",
    "in the correct orientation."
   ]
  },
  {
   "cell_type": "code",
   "execution_count": 16,
   "metadata": {
    "execution": {
     "iopub.execute_input": "2021-05-17T10:28:08.893202Z",
     "iopub.status.busy": "2021-05-17T10:28:08.887889Z",
     "iopub.status.idle": "2021-05-17T10:28:09.561965Z",
     "shell.execute_reply": "2021-05-17T10:28:09.566009Z"
    }
   },
   "outputs": [],
   "source": [
    "pYPKa_Z_TIF1b = (pYPKa_ZraI  + prd.rc()).looped().synced(pYPKa)\n",
    "pYPKa_E_TIF1b = (pYPKa_EcoRV + prd.rc()).looped().synced(pYPKa)"
   ]
  },
  {
   "cell_type": "markdown",
   "metadata": {},
   "source": [
    "A combination of yeast pathway kit standard primers and the primers above are\n",
    "used for the strategy to identify correct clones.\n",
    "Standard primers used in the yeast are listed [here](standard_primers.txt)."
   ]
  },
  {
   "cell_type": "code",
   "execution_count": 17,
   "metadata": {
    "execution": {
     "iopub.execute_input": "2021-05-17T10:28:09.570581Z",
     "iopub.status.busy": "2021-05-17T10:28:09.569310Z",
     "iopub.status.idle": "2021-05-17T10:28:09.572978Z",
     "shell.execute_reply": "2021-05-17T10:28:09.574185Z"
    }
   },
   "outputs": [],
   "source": [
    "p = { x.id: x for x in parse_primers(\"\"\">577\n",
    "                                         gttctgatcctcgagcatcttaagaattc\n",
    "                                         >578\n",
    "                                         gttcttgtctcattgccacattcataagt\n",
    "                                         >468\n",
    "                                         gtcgaggaacgccaggttgcccact\n",
    "                                         >467\n",
    "                                         ATTTAAatcctgatgcgtttgtctgcacaga\n",
    "                                         >567\n",
    "                                         GTcggctgcaggtcactagtgag\n",
    "                                         >568\n",
    "                                         GTGCcatctgtgcagacaaacg\n",
    "                                         >775\n",
    "                                         gcggccgctgacTTAAAT\n",
    "                                         >778\n",
    "                                         ggtaaatccggatTAATTAA\n",
    "                                         >342\n",
    "                                         CCTTTTTACGGTTCCTGGCCT\"\"\") }"
   ]
  },
  {
   "cell_type": "markdown",
   "metadata": {},
   "source": [
    "## Diagnostic PCR confirmation\n",
    "\n",
    "The correct structure of pYPKa_Z_TIF1 is confirmed by PCR using standard primers\n",
    "577 and 342 that are vector specific together with the TIF1fw primer specific for the insert\n",
    "in a multiplex PCR reaction with\n",
    "all three primers present.\n",
    "\n",
    "Two PCR products are expected if the insert was cloned, the sizes depend\n",
    "on the orientation. If the vector is empty or contains another insert, only one\n",
    "product is formed.\n",
    "\n",
    "#### Expected PCR products sizes from pYPKa_Z_TIF1:\n",
    "\n",
    "pYPKa_Z_TIF1 with insert in correct orientation."
   ]
  },
  {
   "cell_type": "code",
   "execution_count": 18,
   "metadata": {
    "execution": {
     "iopub.execute_input": "2021-05-17T10:28:09.592005Z",
     "iopub.status.busy": "2021-05-17T10:28:09.591035Z",
     "iopub.status.idle": "2021-05-17T10:28:09.595608Z",
     "shell.execute_reply": "2021-05-17T10:28:09.595965Z"
    }
   },
   "outputs": [
    {
     "data": {
      "text/plain": [
       "[Amplicon(1313), Amplicon(1145)]"
      ]
     },
     "execution_count": 1,
     "metadata": {},
     "output_type": "execute_result"
    }
   ],
   "source": [
    "Anneal( (p['577'], p['342'], fp), pYPKa_Z_TIF1).products"
   ]
  },
  {
   "cell_type": "markdown",
   "metadata": {},
   "source": [
    "pYPKa_Z_TIF1 with insert in reverse orientation."
   ]
  },
  {
   "cell_type": "code",
   "execution_count": 19,
   "metadata": {
    "execution": {
     "iopub.execute_input": "2021-05-17T10:28:09.610623Z",
     "iopub.status.busy": "2021-05-17T10:28:09.609847Z",
     "iopub.status.idle": "2021-05-17T10:28:09.616850Z",
     "shell.execute_reply": "2021-05-17T10:28:09.617536Z"
    }
   },
   "outputs": [
    {
     "data": {
      "text/plain": [
       "[Amplicon(1313), Amplicon(547)]"
      ]
     },
     "execution_count": 1,
     "metadata": {},
     "output_type": "execute_result"
    }
   ],
   "source": [
    "Anneal( (p['577'], p['342'], fp), pYPKa_Z_TIF1b).products"
   ]
  },
  {
   "cell_type": "markdown",
   "metadata": {},
   "source": [
    "Empty pYPKa clone."
   ]
  },
  {
   "cell_type": "code",
   "execution_count": 20,
   "metadata": {
    "execution": {
     "iopub.execute_input": "2021-05-17T10:28:09.629612Z",
     "iopub.status.busy": "2021-05-17T10:28:09.626822Z",
     "iopub.status.idle": "2021-05-17T10:28:09.632010Z",
     "shell.execute_reply": "2021-05-17T10:28:09.631537Z"
    }
   },
   "outputs": [
    {
     "data": {
      "text/plain": [
       "[Amplicon(934)]"
      ]
     },
     "execution_count": 1,
     "metadata": {},
     "output_type": "execute_result"
    }
   ],
   "source": [
    "Anneal( (p['577'], p['342'], fp), pYPKa).products"
   ]
  },
  {
   "cell_type": "markdown",
   "metadata": {},
   "source": [
    "#### Expected PCR products sizes pYPKa_E_TIF1:\n",
    "\n",
    "pYPKa_E_TIF1 with insert in correct orientation."
   ]
  },
  {
   "cell_type": "code",
   "execution_count": 21,
   "metadata": {
    "execution": {
     "iopub.execute_input": "2021-05-17T10:28:09.645504Z",
     "iopub.status.busy": "2021-05-17T10:28:09.644082Z",
     "iopub.status.idle": "2021-05-17T10:28:09.649398Z",
     "shell.execute_reply": "2021-05-17T10:28:09.649805Z"
    }
   },
   "outputs": [
    {
     "data": {
      "text/plain": [
       "[Amplicon(1313), Amplicon(1064)]"
      ]
     },
     "execution_count": 1,
     "metadata": {},
     "output_type": "execute_result"
    }
   ],
   "source": [
    "Anneal( (p['577'], p['342'], fp), pYPKa_E_TIF1).products"
   ]
  },
  {
   "cell_type": "markdown",
   "metadata": {},
   "source": [
    "pYPKa_E_TIF1 with insert in reverse orientation."
   ]
  },
  {
   "cell_type": "code",
   "execution_count": 22,
   "metadata": {
    "execution": {
     "iopub.execute_input": "2021-05-17T10:28:09.668445Z",
     "iopub.status.busy": "2021-05-17T10:28:09.667655Z",
     "iopub.status.idle": "2021-05-17T10:28:09.670464Z",
     "shell.execute_reply": "2021-05-17T10:28:09.670921Z"
    }
   },
   "outputs": [
    {
     "data": {
      "text/plain": [
       "[Amplicon(1313), Amplicon(628)]"
      ]
     },
     "execution_count": 1,
     "metadata": {},
     "output_type": "execute_result"
    }
   ],
   "source": [
    "Anneal( (p['577'], p['342'], fp), pYPKa_E_TIF1b).products\n"
   ]
  },
  {
   "cell_type": "markdown",
   "metadata": {},
   "source": [
    "Calculate cseguid checksums for the resulting plasmids for future reference.\n",
    "This checksum that uniquely describes a circular double stranded\n",
    "sequence. See this [blog post](https://ochsavidare.blogspot.com/2016/02/checksum-for-circular-biological.html) for more info.\n",
    "\n",
    "pYPKa_Z_TIF1.cseguid() should be 7Sl46WYMVj2EC9gueK9t9-Se4ew"
   ]
  },
  {
   "cell_type": "code",
   "execution_count": 23,
   "metadata": {
    "execution": {
     "iopub.execute_input": "2021-05-17T10:28:09.685322Z",
     "iopub.status.busy": "2021-05-17T10:28:09.684699Z",
     "iopub.status.idle": "2021-05-17T10:28:09.687935Z",
     "shell.execute_reply": "2021-05-17T10:28:09.687405Z"
    }
   },
   "outputs": [
    {
     "name": "stdout",
     "output_type": "stream",
     "text": [
      "7Sl46WYMVj2EC9gueK9t9-Se4ew\n"
     ]
    }
   ],
   "source": [
    "print(pYPKa_Z_TIF1.cseguid())\n",
    "assert pYPKa_Z_TIF1.cseguid() == \"7Sl46WYMVj2EC9gueK9t9-Se4ew\""
   ]
  },
  {
   "cell_type": "markdown",
   "metadata": {},
   "source": [
    "pYPKa_E_TIF1.cseguid() should be 1ytgnI96u1yAZLnYSahMxbubMOs"
   ]
  },
  {
   "cell_type": "code",
   "execution_count": 24,
   "metadata": {
    "execution": {
     "iopub.execute_input": "2021-05-17T10:28:09.697389Z",
     "iopub.status.busy": "2021-05-17T10:28:09.696198Z",
     "iopub.status.idle": "2021-05-17T10:28:09.704259Z",
     "shell.execute_reply": "2021-05-17T10:28:09.704761Z"
    }
   },
   "outputs": [
    {
     "name": "stdout",
     "output_type": "stream",
     "text": [
      "1ytgnI96u1yAZLnYSahMxbubMOs\n"
     ]
    }
   ],
   "source": [
    "print(pYPKa_E_TIF1.cseguid())\n",
    "assert pYPKa_E_TIF1.cseguid() == \"1ytgnI96u1yAZLnYSahMxbubMOs\""
   ]
  },
  {
   "cell_type": "markdown",
   "metadata": {},
   "source": [
    "The sequences are named based on the name of the cloned insert."
   ]
  },
  {
   "cell_type": "code",
   "execution_count": 25,
   "metadata": {
    "execution": {
     "iopub.execute_input": "2021-05-17T10:28:09.710671Z",
     "iopub.status.busy": "2021-05-17T10:28:09.709741Z",
     "iopub.status.idle": "2021-05-17T10:28:09.714634Z",
     "shell.execute_reply": "2021-05-17T10:28:09.713359Z"
    }
   },
   "outputs": [],
   "source": [
    "pYPKa_Z_TIF1.locus = \"pYPKa_Z_TIF1\"[:16]\n",
    "pYPKa_E_TIF1.locus = \"pYPKa_Z_TIF1\"[:16]"
   ]
  },
  {
   "cell_type": "markdown",
   "metadata": {},
   "source": [
    "Stamp sequence with cseguid checksum. This can be used to verify the\n",
    "integrity of the sequence file."
   ]
  },
  {
   "cell_type": "code",
   "execution_count": 26,
   "metadata": {
    "execution": {
     "iopub.execute_input": "2021-05-17T10:28:09.727445Z",
     "iopub.status.busy": "2021-05-17T10:28:09.726672Z",
     "iopub.status.idle": "2021-05-17T10:28:09.731965Z",
     "shell.execute_reply": "2021-05-17T10:28:09.732401Z"
    }
   },
   "outputs": [
    {
     "data": {
      "text/plain": [
       "cSEGUID_1ytgnI96u1yAZLnYSahMxbubMOs"
      ]
     },
     "execution_count": 1,
     "metadata": {},
     "output_type": "execute_result"
    }
   ],
   "source": [
    "pYPKa_Z_TIF1.stamp()\n",
    "pYPKa_E_TIF1.stamp()"
   ]
  },
  {
   "cell_type": "markdown",
   "metadata": {},
   "source": [
    "pYPKa_Z_TIF1 is written to a local file:"
   ]
  },
  {
   "cell_type": "code",
   "execution_count": 27,
   "metadata": {
    "execution": {
     "iopub.execute_input": "2021-05-17T10:28:09.736740Z",
     "iopub.status.busy": "2021-05-17T10:28:09.736215Z",
     "iopub.status.idle": "2021-05-17T10:28:09.748315Z",
     "shell.execute_reply": "2021-05-17T10:28:09.749469Z"
    }
   },
   "outputs": [
    {
     "data": {
      "text/html": [
       "<font face=monospace><a href='pYPKa_Z_TIF1.gb' target='_blank'>pYPKa_Z_TIF1.gb</a></font><br>"
      ]
     },
     "metadata": {},
     "output_type": "display_data"
    }
   ],
   "source": [
    "pYPKa_Z_TIF1.write(\"pYPKa_Z_TIF1.gb\")"
   ]
  },
  {
   "cell_type": "markdown",
   "metadata": {},
   "source": [
    "pYPKa_E_TIF1 is written to a local file:"
   ]
  },
  {
   "cell_type": "code",
   "execution_count": 28,
   "metadata": {
    "execution": {
     "iopub.execute_input": "2021-05-17T10:28:09.753973Z",
     "iopub.status.busy": "2021-05-17T10:28:09.753427Z",
     "iopub.status.idle": "2021-05-17T10:28:09.762478Z",
     "shell.execute_reply": "2021-05-17T10:28:09.762844Z"
    }
   },
   "outputs": [
    {
     "data": {
      "text/html": [
       "<font face=monospace><a href='pYPKa_E_TIF1.gb' target='_blank'>pYPKa_E_TIF1.gb</a></font><br>"
      ]
     },
     "metadata": {},
     "output_type": "display_data"
    }
   ],
   "source": [
    "pYPKa_E_TIF1.write(\"pYPKa_E_TIF1.gb\")"
   ]
  }
 ],
 "metadata": {
  "language_info": {
   "codemirror_mode": {
    "name": "ipython",
    "version": 3
   },
   "file_extension": ".py",
   "mimetype": "text/x-python",
   "name": "python",
   "nbconvert_exporter": "python",
   "pygments_lexer": "ipython3",
   "version": "3.9.0"
  }
 },
 "nbformat": 4,
 "nbformat_minor": 2
}
