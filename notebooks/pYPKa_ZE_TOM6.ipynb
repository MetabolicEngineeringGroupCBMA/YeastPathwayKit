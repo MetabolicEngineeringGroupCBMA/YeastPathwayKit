{
 "cells": [
  {
   "cell_type": "markdown",
   "metadata": {},
   "source": [
    "# pYPKa_Z_TOM6 and pYPKa_E_TOM6\n",
    "\n",
    "This Jupyter notebook describe the construction of E. coli vectors [pYPKa_Z_TOM6](pYPKa_Z_TOM6.gb) and [pYPKa_E_TOM6](pYPKa_E_TOM6.gb). \n",
    "These two vectors share backbone and insert, but in the former, the insert is cloned using the restriction\n",
    "enzyme [ZraI](http://rebase.neb.com/rebase/enz/ZraI.html) while in the latter [EcoRV](http://rebase.neb.com/rebase/enz/EcoRV.html) is used.\n",
    "\n",
    "The insert cloned in ZraI is meant to function as a promoter, while in the EcoRV site it is meant to be  used as a terminator.\n",
    "\n",
    "Links to the sequence of each vector in Genbank format can be found at the bottom of this document.\n",
    "\n",
    "![pYPKa_Z and pYPKa_E](figure_pYPKa_ZE.png \"pYPKa_Z or pYPKa_E plasmid\")\n",
    "\n",
    "The Python package [pydna](https://pypi.python.org/pypi/pydna/) package is imported in the code cell below to provide \n",
    "the cloning functionality. There is a [publication](http://www.biomedcentral.com/1471-2105/16/142) describing pydna as well as\n",
    "[documentation](http://pydna.readthedocs.io/) available online. Pydna is developed on [Github](https://github.com/BjornFJohansson/pydna)."
   ]
  },
  {
   "cell_type": "code",
   "execution_count": 1,
   "metadata": {
    "execution": {
     "iopub.execute_input": "2021-05-17T10:28:19.629908Z",
     "iopub.status.busy": "2021-05-17T10:28:19.629006Z",
     "iopub.status.idle": "2021-05-17T10:28:20.204330Z",
     "shell.execute_reply": "2021-05-17T10:28:20.203702Z"
    }
   },
   "outputs": [],
   "source": [
    "from pydna.readers import read\n",
    "from pydna.parsers import parse_primers\n",
    "from pydna.genbank import Genbank\n",
    "from pydna.amplify import pcr\n",
    "from pydna.amplify import Anneal"
   ]
  },
  {
   "cell_type": "markdown",
   "metadata": {},
   "source": [
    "The vector backbone pYPKa is read from a local [file](pYPKa.gb)."
   ]
  },
  {
   "cell_type": "code",
   "execution_count": 2,
   "metadata": {
    "execution": {
     "iopub.execute_input": "2021-05-17T10:28:20.213050Z",
     "iopub.status.busy": "2021-05-17T10:28:20.212423Z",
     "iopub.status.idle": "2021-05-17T10:28:20.224221Z",
     "shell.execute_reply": "2021-05-17T10:28:20.223616Z"
    }
   },
   "outputs": [],
   "source": [
    "pYPKa = read(\"pYPKa.gb\")"
   ]
  },
  {
   "cell_type": "markdown",
   "metadata": {},
   "source": [
    "Both restriction enzymes are imported from [Biopython](http://biopython.org/wiki/Main_Page)"
   ]
  },
  {
   "cell_type": "code",
   "execution_count": 3,
   "metadata": {
    "execution": {
     "iopub.execute_input": "2021-05-17T10:28:20.230178Z",
     "iopub.status.busy": "2021-05-17T10:28:20.228809Z",
     "iopub.status.idle": "2021-05-17T10:28:20.233933Z",
     "shell.execute_reply": "2021-05-17T10:28:20.233157Z"
    }
   },
   "outputs": [],
   "source": [
    "from Bio.Restriction import ZraI, EcoRV"
   ]
  },
  {
   "cell_type": "markdown",
   "metadata": {},
   "source": [
    "The vector is cut with both enzymes."
   ]
  },
  {
   "cell_type": "code",
   "execution_count": 4,
   "metadata": {
    "execution": {
     "iopub.execute_input": "2021-05-17T10:28:20.242805Z",
     "iopub.status.busy": "2021-05-17T10:28:20.242121Z",
     "iopub.status.idle": "2021-05-17T10:28:20.245161Z",
     "shell.execute_reply": "2021-05-17T10:28:20.245669Z"
    }
   },
   "outputs": [],
   "source": [
    "pYPKa_ZraI  = pYPKa.linearize(ZraI)\n",
    "pYPKa_EcoRV = pYPKa.linearize(EcoRV)"
   ]
  },
  {
   "cell_type": "markdown",
   "metadata": {},
   "source": [
    "The template below comes from a Genbank [record](http://www.ncbi.nlm.nih.gov/nuccore/BK006948.2).\n",
    "Access to Genbank is needed in order to download the template.\n",
    "If you execute this script, change the email address below to your own.\n",
    "Always tell Genbank who you are, when using their web service."
   ]
  },
  {
   "cell_type": "code",
   "execution_count": 5,
   "metadata": {
    "execution": {
     "iopub.execute_input": "2021-05-17T10:28:20.250556Z",
     "iopub.status.busy": "2021-05-17T10:28:20.249581Z",
     "iopub.status.idle": "2021-05-17T10:28:20.252786Z",
     "shell.execute_reply": "2021-05-17T10:28:20.252185Z"
    }
   },
   "outputs": [],
   "source": [
    "gb = Genbank(\"bjornjobb@gmail.com\")"
   ]
  },
  {
   "cell_type": "markdown",
   "metadata": {},
   "source": [
    "The template is downloaded from Genbank below."
   ]
  },
  {
   "cell_type": "code",
   "execution_count": 6,
   "metadata": {
    "execution": {
     "iopub.execute_input": "2021-05-17T10:28:20.258608Z",
     "iopub.status.busy": "2021-05-17T10:28:20.257771Z",
     "iopub.status.idle": "2021-05-17T10:28:20.272344Z",
     "shell.execute_reply": "2021-05-17T10:28:20.271768Z"
    }
   },
   "outputs": [],
   "source": [
    "template = gb.nucleotide(\"BK006948.2 REGION: 413481..413851\")"
   ]
  },
  {
   "cell_type": "markdown",
   "metadata": {},
   "source": [
    "The template is a 371 bp linear DNA fragment."
   ]
  },
  {
   "cell_type": "code",
   "execution_count": 7,
   "metadata": {
    "execution": {
     "iopub.execute_input": "2021-05-17T10:28:20.283861Z",
     "iopub.status.busy": "2021-05-17T10:28:20.283116Z",
     "iopub.status.idle": "2021-05-17T10:28:20.285936Z",
     "shell.execute_reply": "2021-05-17T10:28:20.286296Z"
    }
   },
   "outputs": [
    {
     "data": {
      "text/html": [
       "<a href='https://www.ncbi.nlm.nih.gov/nuccore/BK006948.2 ?from=413481&to=413851&strand=1' target='_blank'>BK006948.2  413481-413851</a>"
      ],
      "text/plain": [
       "Gbank(BK006948.2  413481-413851)(-371)"
      ]
     },
     "execution_count": 1,
     "metadata": {},
     "output_type": "execute_result"
    }
   ],
   "source": [
    "template"
   ]
  },
  {
   "cell_type": "markdown",
   "metadata": {},
   "source": [
    "The insert has the sequence shown below."
   ]
  },
  {
   "cell_type": "code",
   "execution_count": 8,
   "metadata": {
    "execution": {
     "iopub.execute_input": "2021-05-17T10:28:20.289566Z",
     "iopub.status.busy": "2021-05-17T10:28:20.289096Z",
     "iopub.status.idle": "2021-05-17T10:28:20.291992Z",
     "shell.execute_reply": "2021-05-17T10:28:20.292592Z"
    }
   },
   "outputs": [
    {
     "name": "stdout",
     "output_type": "stream",
     "text": [
      "TAAAAGAAAATATGGAAAACCCTTTCATGGGTGTTTGCACGGAATTAGGATCACATAATGAATACACACAGGAGGAAAACGGCTCGATACATGATTTGGCCATAACGGCAAAAGCGTATACTCACATAATCGTATGCAAACATATCACACAAATCTATCATACGTATGTATACATTTATATAATATATGCATATGGCGGATAATATATTATTGTTCACTGATTTTGTCACTTTATACGTAGTCTTCCTCGCATTATTTAGAGACGAGGGAGAAAAATGGGCCAAACATATTTGATCATTGTACGTGATGAATCCATGTCCTGTAGGCTTCTCAAGAGAACAAAAACAAAACACAGACAAAATAATTGAAAA\n"
     ]
    }
   ],
   "source": [
    "print(str(template.seq))"
   ]
  },
  {
   "cell_type": "markdown",
   "metadata": {},
   "source": [
    "The seguid checksum of the template should be\n",
    "\n",
    "```7-FNaE_VkGEIQ6Cch2SJ8TSEiR0```"
   ]
  },
  {
   "cell_type": "code",
   "execution_count": 9,
   "metadata": {
    "execution": {
     "iopub.execute_input": "2021-05-17T10:28:20.301168Z",
     "iopub.status.busy": "2021-05-17T10:28:20.299054Z",
     "iopub.status.idle": "2021-05-17T10:28:20.303788Z",
     "shell.execute_reply": "2021-05-17T10:28:20.304264Z"
    }
   },
   "outputs": [
    {
     "data": {
      "text/plain": [
       "7-FNaE_VkGEIQ6Cch2SJ8TSEiR0"
      ]
     },
     "execution_count": 1,
     "metadata": {},
     "output_type": "execute_result"
    }
   ],
   "source": [
    "template.seguid()"
   ]
  },
  {
   "cell_type": "markdown",
   "metadata": {},
   "source": [
    "Two primers are used to amplify the insert:"
   ]
  },
  {
   "cell_type": "code",
   "execution_count": 10,
   "metadata": {
    "execution": {
     "iopub.execute_input": "2021-05-17T10:28:20.308401Z",
     "iopub.status.busy": "2021-05-17T10:28:20.307926Z",
     "iopub.status.idle": "2021-05-17T10:28:20.310799Z",
     "shell.execute_reply": "2021-05-17T10:28:20.309723Z"
    }
   },
   "outputs": [],
   "source": [
    "fp,rp = parse_primers(\"\"\">1010_fw371\n",
    "                         ttaaatTAAAAGAAAATATGGAAAAC\n",
    "                         >1009_rv371\n",
    "                         taattaaTTTTCAATTATTTTGTCTGT\"\"\")"
   ]
  },
  {
   "cell_type": "markdown",
   "metadata": {},
   "source": [
    "PCR to create the insert using the primers above."
   ]
  },
  {
   "cell_type": "code",
   "execution_count": 11,
   "metadata": {
    "execution": {
     "iopub.execute_input": "2021-05-17T10:28:20.321021Z",
     "iopub.status.busy": "2021-05-17T10:28:20.320094Z",
     "iopub.status.idle": "2021-05-17T10:28:20.330393Z",
     "shell.execute_reply": "2021-05-17T10:28:20.330806Z"
    }
   },
   "outputs": [],
   "source": [
    "prd = pcr(fp, rp, template)\n",
    "assert str(fp.seq) in prd"
   ]
  },
  {
   "cell_type": "markdown",
   "metadata": {},
   "source": [
    "The PCR product has this length in bp."
   ]
  },
  {
   "cell_type": "code",
   "execution_count": 12,
   "metadata": {
    "execution": {
     "iopub.execute_input": "2021-05-17T10:28:20.334554Z",
     "iopub.status.busy": "2021-05-17T10:28:20.333921Z",
     "iopub.status.idle": "2021-05-17T10:28:20.336883Z",
     "shell.execute_reply": "2021-05-17T10:28:20.336432Z"
    }
   },
   "outputs": [
    {
     "data": {
      "text/plain": [
       "384"
      ]
     },
     "execution_count": 1,
     "metadata": {},
     "output_type": "execute_result"
    }
   ],
   "source": [
    "len(prd)"
   ]
  },
  {
   "cell_type": "markdown",
   "metadata": {},
   "source": [
    "A figure of the primers annealing on template."
   ]
  },
  {
   "cell_type": "code",
   "execution_count": 13,
   "metadata": {
    "execution": {
     "iopub.execute_input": "2021-05-17T10:28:20.341852Z",
     "iopub.status.busy": "2021-05-17T10:28:20.341051Z",
     "iopub.status.idle": "2021-05-17T10:28:20.351099Z",
     "shell.execute_reply": "2021-05-17T10:28:20.350521Z"
    }
   },
   "outputs": [
    {
     "data": {
      "text/plain": [
       "      5TAAAAGAAAATATGGAAAAC...ACAGACAAAATAATTGAAAA3\n",
       "                              ||||||||||||||||||||\n",
       "                             3TGTCTGTTTTATTAACTTTTaattaat5\n",
       "5ttaaatTAAAAGAAAATATGGAAAAC3\n",
       "       ||||||||||||||||||||\n",
       "      3ATTTTCTTTTATACCTTTTG...TGTCTGTTTTATTAACTTTT5"
      ]
     },
     "execution_count": 1,
     "metadata": {},
     "output_type": "execute_result"
    }
   ],
   "source": [
    "prd.figure()"
   ]
  },
  {
   "cell_type": "markdown",
   "metadata": {},
   "source": [
    "A suggested PCR program."
   ]
  },
  {
   "cell_type": "code",
   "execution_count": 14,
   "metadata": {
    "execution": {
     "iopub.execute_input": "2021-05-17T10:28:20.355113Z",
     "iopub.status.busy": "2021-05-17T10:28:20.354587Z",
     "iopub.status.idle": "2021-05-17T10:28:20.357790Z",
     "shell.execute_reply": "2021-05-17T10:28:20.357322Z"
    }
   },
   "outputs": [
    {
     "data": {
      "text/plain": [
       "|95°C|95°C               |    |tmf:48.0\n",
       "|____|_____          72°C|72°C|tmr:48.7\n",
       "|5min|30s  \\ 49.7°C _____|____|60s/kb\n",
       "|    |      \\______/ 0:23|5min|GC 33%\n",
       "|    |       30s         |    |384bp"
      ]
     },
     "execution_count": 1,
     "metadata": {},
     "output_type": "execute_result"
    }
   ],
   "source": [
    "prd.program()"
   ]
  },
  {
   "cell_type": "markdown",
   "metadata": {},
   "source": [
    "The final vectors are:"
   ]
  },
  {
   "cell_type": "code",
   "execution_count": 15,
   "metadata": {
    "execution": {
     "iopub.execute_input": "2021-05-17T10:28:20.427200Z",
     "iopub.status.busy": "2021-05-17T10:28:20.396231Z",
     "iopub.status.idle": "2021-05-17T10:28:21.027191Z",
     "shell.execute_reply": "2021-05-17T10:28:21.027991Z"
    }
   },
   "outputs": [],
   "source": [
    "pYPKa_Z_TOM6 = (pYPKa_ZraI  + prd).looped().synced(pYPKa)\n",
    "pYPKa_E_TOM6 = (pYPKa_EcoRV + prd).looped().synced(pYPKa)"
   ]
  },
  {
   "cell_type": "markdown",
   "metadata": {},
   "source": [
    "The final vectors with reverse inserts are created below. These vectors theoretically make up\n",
    "fifty percent of the clones. The PCR strategy outlined below can be used to identify clones with the insert\n",
    "in the correct orientation."
   ]
  },
  {
   "cell_type": "code",
   "execution_count": 16,
   "metadata": {
    "execution": {
     "iopub.execute_input": "2021-05-17T10:28:21.031990Z",
     "iopub.status.busy": "2021-05-17T10:28:21.031282Z",
     "iopub.status.idle": "2021-05-17T10:28:21.577776Z",
     "shell.execute_reply": "2021-05-17T10:28:21.576721Z"
    }
   },
   "outputs": [],
   "source": [
    "pYPKa_Z_TOM6b = (pYPKa_ZraI  + prd.rc()).looped().synced(pYPKa)\n",
    "pYPKa_E_TOM6b = (pYPKa_EcoRV + prd.rc()).looped().synced(pYPKa)"
   ]
  },
  {
   "cell_type": "markdown",
   "metadata": {},
   "source": [
    "A combination of yeast pathway kit standard primers and the primers above are\n",
    "used for the strategy to identify correct clones.\n",
    "Standard primers used in the yeast are listed [here](standard_primers.txt)."
   ]
  },
  {
   "cell_type": "code",
   "execution_count": 17,
   "metadata": {
    "execution": {
     "iopub.execute_input": "2021-05-17T10:28:21.586397Z",
     "iopub.status.busy": "2021-05-17T10:28:21.585893Z",
     "iopub.status.idle": "2021-05-17T10:28:21.587620Z",
     "shell.execute_reply": "2021-05-17T10:28:21.588083Z"
    }
   },
   "outputs": [],
   "source": [
    "p = { x.id: x for x in parse_primers(\"\"\">577\n",
    "                                         gttctgatcctcgagcatcttaagaattc\n",
    "                                         >578\n",
    "                                         gttcttgtctcattgccacattcataagt\n",
    "                                         >468\n",
    "                                         gtcgaggaacgccaggttgcccact\n",
    "                                         >467\n",
    "                                         ATTTAAatcctgatgcgtttgtctgcacaga\n",
    "                                         >567\n",
    "                                         GTcggctgcaggtcactagtgag\n",
    "                                         >568\n",
    "                                         GTGCcatctgtgcagacaaacg\n",
    "                                         >775\n",
    "                                         gcggccgctgacTTAAAT\n",
    "                                         >778\n",
    "                                         ggtaaatccggatTAATTAA\n",
    "                                         >342\n",
    "                                         CCTTTTTACGGTTCCTGGCCT\"\"\") }"
   ]
  },
  {
   "cell_type": "markdown",
   "metadata": {},
   "source": [
    "## Diagnostic PCR confirmation\n",
    "\n",
    "The correct structure of pYPKa_Z_TOM6 is confirmed by PCR using standard primers\n",
    "577 and 342 that are vector specific together with the TOM6fw primer specific for the insert\n",
    "in a multiplex PCR reaction with\n",
    "all three primers present.\n",
    "\n",
    "Two PCR products are expected if the insert was cloned, the sizes depend\n",
    "on the orientation. If the vector is empty or contains another insert, only one\n",
    "product is formed.\n",
    "\n",
    "#### Expected PCR products sizes from pYPKa_Z_TOM6:\n",
    "\n",
    "pYPKa_Z_TOM6 with insert in correct orientation."
   ]
  },
  {
   "cell_type": "code",
   "execution_count": 18,
   "metadata": {
    "execution": {
     "iopub.execute_input": "2021-05-17T10:28:21.604532Z",
     "iopub.status.busy": "2021-05-17T10:28:21.603856Z",
     "iopub.status.idle": "2021-05-17T10:28:21.607692Z",
     "shell.execute_reply": "2021-05-17T10:28:21.608379Z"
    }
   },
   "outputs": [
    {
     "data": {
      "text/plain": [
       "[Amplicon(1318), Amplicon(1150)]"
      ]
     },
     "execution_count": 1,
     "metadata": {},
     "output_type": "execute_result"
    }
   ],
   "source": [
    "Anneal( (p['577'], p['342'], fp), pYPKa_Z_TOM6).products"
   ]
  },
  {
   "cell_type": "markdown",
   "metadata": {},
   "source": [
    "pYPKa_Z_TOM6 with insert in reverse orientation."
   ]
  },
  {
   "cell_type": "code",
   "execution_count": 19,
   "metadata": {
    "execution": {
     "iopub.execute_input": "2021-05-17T10:28:21.621281Z",
     "iopub.status.busy": "2021-05-17T10:28:21.620624Z",
     "iopub.status.idle": "2021-05-17T10:28:21.625070Z",
     "shell.execute_reply": "2021-05-17T10:28:21.625444Z"
    }
   },
   "outputs": [
    {
     "data": {
      "text/plain": [
       "[Amplicon(1318), Amplicon(552)]"
      ]
     },
     "execution_count": 1,
     "metadata": {},
     "output_type": "execute_result"
    }
   ],
   "source": [
    "Anneal( (p['577'], p['342'], fp), pYPKa_Z_TOM6b).products"
   ]
  },
  {
   "cell_type": "markdown",
   "metadata": {},
   "source": [
    "Empty pYPKa clone."
   ]
  },
  {
   "cell_type": "code",
   "execution_count": 20,
   "metadata": {
    "execution": {
     "iopub.execute_input": "2021-05-17T10:28:21.634899Z",
     "iopub.status.busy": "2021-05-17T10:28:21.633534Z",
     "iopub.status.idle": "2021-05-17T10:28:21.636575Z",
     "shell.execute_reply": "2021-05-17T10:28:21.637024Z"
    }
   },
   "outputs": [
    {
     "data": {
      "text/plain": [
       "[Amplicon(934)]"
      ]
     },
     "execution_count": 1,
     "metadata": {},
     "output_type": "execute_result"
    }
   ],
   "source": [
    "Anneal( (p['577'], p['342'], fp), pYPKa).products"
   ]
  },
  {
   "cell_type": "markdown",
   "metadata": {},
   "source": [
    "#### Expected PCR products sizes pYPKa_E_TOM6:\n",
    "\n",
    "pYPKa_E_TOM6 with insert in correct orientation."
   ]
  },
  {
   "cell_type": "code",
   "execution_count": 21,
   "metadata": {
    "execution": {
     "iopub.execute_input": "2021-05-17T10:28:21.653841Z",
     "iopub.status.busy": "2021-05-17T10:28:21.653054Z",
     "iopub.status.idle": "2021-05-17T10:28:21.655936Z",
     "shell.execute_reply": "2021-05-17T10:28:21.656898Z"
    }
   },
   "outputs": [
    {
     "data": {
      "text/plain": [
       "[Amplicon(1318), Amplicon(1069)]"
      ]
     },
     "execution_count": 1,
     "metadata": {},
     "output_type": "execute_result"
    }
   ],
   "source": [
    "Anneal( (p['577'], p['342'], fp), pYPKa_E_TOM6).products"
   ]
  },
  {
   "cell_type": "markdown",
   "metadata": {},
   "source": [
    "pYPKa_E_TOM6 with insert in reverse orientation."
   ]
  },
  {
   "cell_type": "code",
   "execution_count": 22,
   "metadata": {
    "execution": {
     "iopub.execute_input": "2021-05-17T10:28:21.674161Z",
     "iopub.status.busy": "2021-05-17T10:28:21.672751Z",
     "iopub.status.idle": "2021-05-17T10:28:21.679227Z",
     "shell.execute_reply": "2021-05-17T10:28:21.679695Z"
    }
   },
   "outputs": [
    {
     "data": {
      "text/plain": [
       "[Amplicon(1318), Amplicon(633)]"
      ]
     },
     "execution_count": 1,
     "metadata": {},
     "output_type": "execute_result"
    }
   ],
   "source": [
    "Anneal( (p['577'], p['342'], fp), pYPKa_E_TOM6b).products\n"
   ]
  },
  {
   "cell_type": "markdown",
   "metadata": {},
   "source": [
    "Calculate cseguid checksums for the resulting plasmids for future reference.\n",
    "This checksum that uniquely describes a circular double stranded\n",
    "sequence. See this [blog post](https://ochsavidare.blogspot.com/2016/02/checksum-for-circular-biological.html) for more info.\n",
    "\n",
    "pYPKa_Z_TOM6.cseguid() should be hxzzj0YPkOQ_ObFUr-ispOCZH_M"
   ]
  },
  {
   "cell_type": "code",
   "execution_count": 23,
   "metadata": {
    "execution": {
     "iopub.execute_input": "2021-05-17T10:28:21.690117Z",
     "iopub.status.busy": "2021-05-17T10:28:21.686723Z",
     "iopub.status.idle": "2021-05-17T10:28:21.694730Z",
     "shell.execute_reply": "2021-05-17T10:28:21.693807Z"
    }
   },
   "outputs": [
    {
     "name": "stdout",
     "output_type": "stream",
     "text": [
      "hxzzj0YPkOQ_ObFUr-ispOCZH_M\n"
     ]
    }
   ],
   "source": [
    "print(pYPKa_Z_TOM6.cseguid())\n",
    "assert pYPKa_Z_TOM6.cseguid() == \"hxzzj0YPkOQ_ObFUr-ispOCZH_M\""
   ]
  },
  {
   "cell_type": "markdown",
   "metadata": {},
   "source": [
    "pYPKa_E_TOM6.cseguid() should be 0lLa7XpRcpMlKH9v9g9d6Tfm-d8"
   ]
  },
  {
   "cell_type": "code",
   "execution_count": 24,
   "metadata": {
    "execution": {
     "iopub.execute_input": "2021-05-17T10:28:21.706167Z",
     "iopub.status.busy": "2021-05-17T10:28:21.705613Z",
     "iopub.status.idle": "2021-05-17T10:28:21.710184Z",
     "shell.execute_reply": "2021-05-17T10:28:21.709477Z"
    }
   },
   "outputs": [
    {
     "name": "stdout",
     "output_type": "stream",
     "text": [
      "0lLa7XpRcpMlKH9v9g9d6Tfm-d8\n"
     ]
    }
   ],
   "source": [
    "print(pYPKa_E_TOM6.cseguid())\n",
    "assert pYPKa_E_TOM6.cseguid() == \"0lLa7XpRcpMlKH9v9g9d6Tfm-d8\""
   ]
  },
  {
   "cell_type": "markdown",
   "metadata": {},
   "source": [
    "The sequences are named based on the name of the cloned insert."
   ]
  },
  {
   "cell_type": "code",
   "execution_count": 25,
   "metadata": {
    "execution": {
     "iopub.execute_input": "2021-05-17T10:28:21.715605Z",
     "iopub.status.busy": "2021-05-17T10:28:21.714997Z",
     "iopub.status.idle": "2021-05-17T10:28:21.718031Z",
     "shell.execute_reply": "2021-05-17T10:28:21.717468Z"
    }
   },
   "outputs": [],
   "source": [
    "pYPKa_Z_TOM6.locus = \"pYPKa_Z_TOM6\"[:16]\n",
    "pYPKa_E_TOM6.locus = \"pYPKa_Z_TOM6\"[:16]"
   ]
  },
  {
   "cell_type": "markdown",
   "metadata": {},
   "source": [
    "Stamp sequence with cseguid checksum. This can be used to verify the\n",
    "integrity of the sequence file."
   ]
  },
  {
   "cell_type": "code",
   "execution_count": 26,
   "metadata": {
    "execution": {
     "iopub.execute_input": "2021-05-17T10:28:21.730666Z",
     "iopub.status.busy": "2021-05-17T10:28:21.729789Z",
     "iopub.status.idle": "2021-05-17T10:28:21.733974Z",
     "shell.execute_reply": "2021-05-17T10:28:21.734474Z"
    }
   },
   "outputs": [
    {
     "data": {
      "text/plain": [
       "cSEGUID_0lLa7XpRcpMlKH9v9g9d6Tfm-d8"
      ]
     },
     "execution_count": 1,
     "metadata": {},
     "output_type": "execute_result"
    }
   ],
   "source": [
    "pYPKa_Z_TOM6.stamp()\n",
    "pYPKa_E_TOM6.stamp()"
   ]
  },
  {
   "cell_type": "markdown",
   "metadata": {},
   "source": [
    "pYPKa_Z_TOM6 is written to a local file:"
   ]
  },
  {
   "cell_type": "code",
   "execution_count": 27,
   "metadata": {
    "execution": {
     "iopub.execute_input": "2021-05-17T10:28:21.741099Z",
     "iopub.status.busy": "2021-05-17T10:28:21.737422Z",
     "iopub.status.idle": "2021-05-17T10:28:21.748068Z",
     "shell.execute_reply": "2021-05-17T10:28:21.748910Z"
    }
   },
   "outputs": [
    {
     "data": {
      "text/html": [
       "<font face=monospace><a href='pYPKa_Z_TOM6.gb' target='_blank'>pYPKa_Z_TOM6.gb</a></font><br>"
      ]
     },
     "metadata": {},
     "output_type": "display_data"
    }
   ],
   "source": [
    "pYPKa_Z_TOM6.write(\"pYPKa_Z_TOM6.gb\")"
   ]
  },
  {
   "cell_type": "markdown",
   "metadata": {},
   "source": [
    "pYPKa_E_TOM6 is written to a local file:"
   ]
  },
  {
   "cell_type": "code",
   "execution_count": 28,
   "metadata": {
    "execution": {
     "iopub.execute_input": "2021-05-17T10:28:21.755159Z",
     "iopub.status.busy": "2021-05-17T10:28:21.752802Z",
     "iopub.status.idle": "2021-05-17T10:28:21.760983Z",
     "shell.execute_reply": "2021-05-17T10:28:21.759854Z"
    }
   },
   "outputs": [
    {
     "data": {
      "text/html": [
       "<font face=monospace><a href='pYPKa_E_TOM6.gb' target='_blank'>pYPKa_E_TOM6.gb</a></font><br>"
      ]
     },
     "metadata": {},
     "output_type": "display_data"
    }
   ],
   "source": [
    "pYPKa_E_TOM6.write(\"pYPKa_E_TOM6.gb\")"
   ]
  }
 ],
 "metadata": {
  "language_info": {
   "codemirror_mode": {
    "name": "ipython",
    "version": 3
   },
   "file_extension": ".py",
   "mimetype": "text/x-python",
   "name": "python",
   "nbconvert_exporter": "python",
   "pygments_lexer": "ipython3",
   "version": "3.9.0"
  }
 },
 "nbformat": 4,
 "nbformat_minor": 2
}
