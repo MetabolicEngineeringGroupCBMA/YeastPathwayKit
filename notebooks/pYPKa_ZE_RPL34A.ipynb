{
 "cells": [
  {
   "cell_type": "markdown",
   "metadata": {},
   "source": [
    "# pYPKa_Z_RPL34A and pYPKa_E_RPL34A\n",
    "\n",
    "This Jupyter notebook describe the construction of E. coli vectors [pYPKa_Z_RPL34A](pYPKa_Z_RPL34A.gb) and [pYPKa_E_RPL34A](pYPKa_E_RPL34A.gb). \n",
    "These two vectors share backbone and insert, but in the former, the insert is cloned using the restriction\n",
    "enzyme [ZraI](http://rebase.neb.com/rebase/enz/ZraI.html) while in the latter [EcoRV](http://rebase.neb.com/rebase/enz/EcoRV.html) is used.\n",
    "\n",
    "The insert cloned in ZraI is meant to function as a promoter, while in the EcoRV site it is meant to be  used as a terminator.\n",
    "\n",
    "Links to the sequence of each vector in Genbank format can be found at the bottom of this document.\n",
    "\n",
    "![pYPKa_Z and pYPKa_E](figure_pYPKa_ZE.png \"pYPKa_Z or pYPKa_E plasmid\")\n",
    "\n",
    "The Python package [pydna](https://pypi.python.org/pypi/pydna/) package is imported in the code cell below to provide \n",
    "the cloning functionality. There is a [publication](http://www.biomedcentral.com/1471-2105/16/142) describing pydna as well as\n",
    "[documentation](http://pydna.readthedocs.io/) available online. Pydna is developed on [Github](https://github.com/BjornFJohansson/pydna)."
   ]
  },
  {
   "cell_type": "code",
   "execution_count": 1,
   "metadata": {
    "execution": {
     "iopub.execute_input": "2021-05-17T10:27:11.053421Z",
     "iopub.status.busy": "2021-05-17T10:27:11.052818Z",
     "iopub.status.idle": "2021-05-17T10:27:11.618932Z",
     "shell.execute_reply": "2021-05-17T10:27:11.618373Z"
    }
   },
   "outputs": [],
   "source": [
    "from pydna.readers import read\n",
    "from pydna.parsers import parse_primers\n",
    "from pydna.genbank import Genbank\n",
    "from pydna.amplify import pcr\n",
    "from pydna.amplify import Anneal"
   ]
  },
  {
   "cell_type": "markdown",
   "metadata": {},
   "source": [
    "The vector backbone pYPKa is read from a local [file](pYPKa.gb)."
   ]
  },
  {
   "cell_type": "code",
   "execution_count": 2,
   "metadata": {
    "execution": {
     "iopub.execute_input": "2021-05-17T10:27:11.632108Z",
     "iopub.status.busy": "2021-05-17T10:27:11.630342Z",
     "iopub.status.idle": "2021-05-17T10:27:11.644076Z",
     "shell.execute_reply": "2021-05-17T10:27:11.642521Z"
    }
   },
   "outputs": [],
   "source": [
    "pYPKa = read(\"pYPKa.gb\")"
   ]
  },
  {
   "cell_type": "markdown",
   "metadata": {},
   "source": [
    "Both restriction enzymes are imported from [Biopython](http://biopython.org/wiki/Main_Page)"
   ]
  },
  {
   "cell_type": "code",
   "execution_count": 3,
   "metadata": {
    "execution": {
     "iopub.execute_input": "2021-05-17T10:27:11.648806Z",
     "iopub.status.busy": "2021-05-17T10:27:11.648324Z",
     "iopub.status.idle": "2021-05-17T10:27:11.650109Z",
     "shell.execute_reply": "2021-05-17T10:27:11.650472Z"
    }
   },
   "outputs": [],
   "source": [
    "from Bio.Restriction import ZraI, EcoRV"
   ]
  },
  {
   "cell_type": "markdown",
   "metadata": {},
   "source": [
    "The vector is cut with both enzymes."
   ]
  },
  {
   "cell_type": "code",
   "execution_count": 4,
   "metadata": {
    "execution": {
     "iopub.execute_input": "2021-05-17T10:27:11.659942Z",
     "iopub.status.busy": "2021-05-17T10:27:11.658021Z",
     "iopub.status.idle": "2021-05-17T10:27:11.664129Z",
     "shell.execute_reply": "2021-05-17T10:27:11.663604Z"
    }
   },
   "outputs": [],
   "source": [
    "pYPKa_ZraI  = pYPKa.linearize(ZraI)\n",
    "pYPKa_EcoRV = pYPKa.linearize(EcoRV)"
   ]
  },
  {
   "cell_type": "markdown",
   "metadata": {},
   "source": [
    "The template below comes from a Genbank [record](http://www.ncbi.nlm.nih.gov/nuccore/BK006939.2).\n",
    "Access to Genbank is needed in order to download the template.\n",
    "If you execute this script, change the email address below to your own.\n",
    "Always tell Genbank who you are, when using their web service."
   ]
  },
  {
   "cell_type": "code",
   "execution_count": 5,
   "metadata": {
    "execution": {
     "iopub.execute_input": "2021-05-17T10:27:11.668076Z",
     "iopub.status.busy": "2021-05-17T10:27:11.667605Z",
     "iopub.status.idle": "2021-05-17T10:27:11.669899Z",
     "shell.execute_reply": "2021-05-17T10:27:11.669442Z"
    }
   },
   "outputs": [],
   "source": [
    "gb = Genbank(\"bjornjobb@gmail.com\")"
   ]
  },
  {
   "cell_type": "markdown",
   "metadata": {},
   "source": [
    "The template is downloaded from Genbank below."
   ]
  },
  {
   "cell_type": "code",
   "execution_count": 6,
   "metadata": {
    "execution": {
     "iopub.execute_input": "2021-05-17T10:27:11.678281Z",
     "iopub.status.busy": "2021-05-17T10:27:11.674320Z",
     "iopub.status.idle": "2021-05-17T10:27:11.687326Z",
     "shell.execute_reply": "2021-05-17T10:27:11.686792Z"
    }
   },
   "outputs": [],
   "source": [
    "template = gb.nucleotide(\"BK006939.2 REGION: complement(270186..270736)\")"
   ]
  },
  {
   "cell_type": "markdown",
   "metadata": {},
   "source": [
    "The template is a 551 bp linear DNA fragment."
   ]
  },
  {
   "cell_type": "code",
   "execution_count": 7,
   "metadata": {
    "execution": {
     "iopub.execute_input": "2021-05-17T10:27:11.701642Z",
     "iopub.status.busy": "2021-05-17T10:27:11.700663Z",
     "iopub.status.idle": "2021-05-17T10:27:11.704930Z",
     "shell.execute_reply": "2021-05-17T10:27:11.704323Z"
    }
   },
   "outputs": [
    {
     "data": {
      "text/html": [
       "<a href='https://www.ncbi.nlm.nih.gov/nuccore/BK006939.2 ?from=270186&to=270736&strand=2' target='_blank'>BK006939.2  270186-270736</a>"
      ],
      "text/plain": [
       "Gbank(BK006939.2  270186-270736)(-551)"
      ]
     },
     "execution_count": 1,
     "metadata": {},
     "output_type": "execute_result"
    }
   ],
   "source": [
    "template"
   ]
  },
  {
   "cell_type": "markdown",
   "metadata": {},
   "source": [
    "The insert has the sequence shown below."
   ]
  },
  {
   "cell_type": "code",
   "execution_count": 8,
   "metadata": {
    "execution": {
     "iopub.execute_input": "2021-05-17T10:27:11.713119Z",
     "iopub.status.busy": "2021-05-17T10:27:11.712396Z",
     "iopub.status.idle": "2021-05-17T10:27:11.715116Z",
     "shell.execute_reply": "2021-05-17T10:27:11.714674Z"
    }
   },
   "outputs": [
    {
     "name": "stdout",
     "output_type": "stream",
     "text": [
      "GGGCAAGTCTTAATAGCGTCTTTTAGAACTTAGGATTTTACTACGTATTTTTTAGCTTTATAATATAAAGCCCATAGAAGTATGACTTTCATCACCTTCCCATCTGAAGAATGTACATTGTACATTGTATACTAATTTACTTGGTTCCTTCTACAAATACGATGCTCTTCGAGGACTGTTTTTTCCATTAAACATTAGGATGTAAAGGTGTTCTCAAATATATAACACATTTAGTGGTATGTATGGGTGATAAATTTTTTTCCATATATTGTGAAAAAAAAAAGAAGCTTGACTTTCGCTGTTCCCGCTTACGACTACGCTCCCCCGCTAGGTTCCCTTTAGGCCGTCATTTTCTACTGAGCCAAGGCGATTCTGGTAGTTACTCGCGCTTGGTCCCCTACCAACGAGTCGCCTGGTCGACGCTTCCTCCGTGTAATTTCGTGAGCCTAGGCGCAGAGGATATTATCTAGAAGGAATTGAAATATTATAGATTAATTACGCTTAGTGTTAAACGGTATTAACGTGTAGACTGCATAACAGAACAACCAAAG\n"
     ]
    }
   ],
   "source": [
    "print(str(template.seq))"
   ]
  },
  {
   "cell_type": "markdown",
   "metadata": {},
   "source": [
    "The seguid checksum of the template should be\n",
    "\n",
    "```LYTiYRHLYkunTuttkgRU_BxUZW4```"
   ]
  },
  {
   "cell_type": "code",
   "execution_count": 9,
   "metadata": {
    "execution": {
     "iopub.execute_input": "2021-05-17T10:27:11.718621Z",
     "iopub.status.busy": "2021-05-17T10:27:11.718152Z",
     "iopub.status.idle": "2021-05-17T10:27:11.720533Z",
     "shell.execute_reply": "2021-05-17T10:27:11.720944Z"
    }
   },
   "outputs": [
    {
     "data": {
      "text/plain": [
       "LYTiYRHLYkunTuttkgRU_BxUZW4"
      ]
     },
     "execution_count": 1,
     "metadata": {},
     "output_type": "execute_result"
    }
   ],
   "source": [
    "template.seguid()"
   ]
  },
  {
   "cell_type": "markdown",
   "metadata": {},
   "source": [
    "Two primers are used to amplify the insert:"
   ]
  },
  {
   "cell_type": "code",
   "execution_count": 10,
   "metadata": {
    "execution": {
     "iopub.execute_input": "2021-05-17T10:27:11.730195Z",
     "iopub.status.busy": "2021-05-17T10:27:11.729412Z",
     "iopub.status.idle": "2021-05-17T10:27:11.731883Z",
     "shell.execute_reply": "2021-05-17T10:27:11.731436Z"
    }
   },
   "outputs": [],
   "source": [
    "fp,rp = parse_primers(\"\"\">846_RPL34Atpf\n",
    "                         ttaaatGGGCAAGTCTTAATAGC\n",
    "                         >845_RPL34Atpr\n",
    "                         taattaaCTTTGGTTGTTCTGTTATG\"\"\")"
   ]
  },
  {
   "cell_type": "markdown",
   "metadata": {},
   "source": [
    "PCR to create the insert using the primers above."
   ]
  },
  {
   "cell_type": "code",
   "execution_count": 11,
   "metadata": {
    "execution": {
     "iopub.execute_input": "2021-05-17T10:27:11.737075Z",
     "iopub.status.busy": "2021-05-17T10:27:11.736382Z",
     "iopub.status.idle": "2021-05-17T10:27:11.745671Z",
     "shell.execute_reply": "2021-05-17T10:27:11.744233Z"
    }
   },
   "outputs": [],
   "source": [
    "prd = pcr(fp, rp, template)\n",
    "assert str(fp.seq) in prd"
   ]
  },
  {
   "cell_type": "markdown",
   "metadata": {},
   "source": [
    "The PCR product has this length in bp."
   ]
  },
  {
   "cell_type": "code",
   "execution_count": 12,
   "metadata": {
    "execution": {
     "iopub.execute_input": "2021-05-17T10:27:11.749111Z",
     "iopub.status.busy": "2021-05-17T10:27:11.748661Z",
     "iopub.status.idle": "2021-05-17T10:27:11.751939Z",
     "shell.execute_reply": "2021-05-17T10:27:11.752601Z"
    }
   },
   "outputs": [
    {
     "data": {
      "text/plain": [
       "564"
      ]
     },
     "execution_count": 1,
     "metadata": {},
     "output_type": "execute_result"
    }
   ],
   "source": [
    "len(prd)"
   ]
  },
  {
   "cell_type": "markdown",
   "metadata": {},
   "source": [
    "A figure of the primers annealing on template."
   ]
  },
  {
   "cell_type": "code",
   "execution_count": 13,
   "metadata": {
    "execution": {
     "iopub.execute_input": "2021-05-17T10:27:11.760501Z",
     "iopub.status.busy": "2021-05-17T10:27:11.758011Z",
     "iopub.status.idle": "2021-05-17T10:27:11.765599Z",
     "shell.execute_reply": "2021-05-17T10:27:11.765200Z"
    }
   },
   "outputs": [
    {
     "data": {
      "text/plain": [
       "      5GGGCAAGTCTTAATAGC...CATAACAGAACAACCAAAG3\n",
       "                           |||||||||||||||||||\n",
       "                          3GTATTGTCTTGTTGGTTTCaattaat5\n",
       "5ttaaatGGGCAAGTCTTAATAGC3\n",
       "       |||||||||||||||||\n",
       "      3CCCGTTCAGAATTATCG...GTATTGTCTTGTTGGTTTC5"
      ]
     },
     "execution_count": 1,
     "metadata": {},
     "output_type": "execute_result"
    }
   ],
   "source": [
    "prd.figure()"
   ]
  },
  {
   "cell_type": "markdown",
   "metadata": {},
   "source": [
    "A suggested PCR program."
   ]
  },
  {
   "cell_type": "code",
   "execution_count": 14,
   "metadata": {
    "execution": {
     "iopub.execute_input": "2021-05-17T10:27:11.769960Z",
     "iopub.status.busy": "2021-05-17T10:27:11.769373Z",
     "iopub.status.idle": "2021-05-17T10:27:11.772802Z",
     "shell.execute_reply": "2021-05-17T10:27:11.773902Z"
    }
   },
   "outputs": [
    {
     "data": {
      "text/plain": [
       "|95°C|95°C               |    |tmf:55.2\n",
       "|____|_____          72°C|72°C|tmr:52.9\n",
       "|5min|30s  \\ 52.8°C _____|____|60s/kb\n",
       "|    |      \\______/ 0:33|5min|GC 37%\n",
       "|    |       30s         |    |564bp"
      ]
     },
     "execution_count": 1,
     "metadata": {},
     "output_type": "execute_result"
    }
   ],
   "source": [
    "prd.program()"
   ]
  },
  {
   "cell_type": "markdown",
   "metadata": {},
   "source": [
    "The final vectors are:"
   ]
  },
  {
   "cell_type": "code",
   "execution_count": 15,
   "metadata": {
    "execution": {
     "iopub.execute_input": "2021-05-17T10:27:11.836204Z",
     "iopub.status.busy": "2021-05-17T10:27:11.805398Z",
     "iopub.status.idle": "2021-05-17T10:27:12.279345Z",
     "shell.execute_reply": "2021-05-17T10:27:12.278737Z"
    }
   },
   "outputs": [],
   "source": [
    "pYPKa_Z_RPL34A = (pYPKa_ZraI  + prd).looped().synced(pYPKa)\n",
    "pYPKa_E_RPL34A = (pYPKa_EcoRV + prd).looped().synced(pYPKa)"
   ]
  },
  {
   "cell_type": "markdown",
   "metadata": {},
   "source": [
    "The final vectors with reverse inserts are created below. These vectors theoretically make up\n",
    "fifty percent of the clones. The PCR strategy outlined below can be used to identify clones with the insert\n",
    "in the correct orientation."
   ]
  },
  {
   "cell_type": "code",
   "execution_count": 16,
   "metadata": {
    "execution": {
     "iopub.execute_input": "2021-05-17T10:27:12.353689Z",
     "iopub.status.busy": "2021-05-17T10:27:12.317758Z",
     "iopub.status.idle": "2021-05-17T10:27:12.742202Z",
     "shell.execute_reply": "2021-05-17T10:27:12.741495Z"
    }
   },
   "outputs": [],
   "source": [
    "pYPKa_Z_RPL34Ab = (pYPKa_ZraI  + prd.rc()).looped().synced(pYPKa)\n",
    "pYPKa_E_RPL34Ab = (pYPKa_EcoRV + prd.rc()).looped().synced(pYPKa)"
   ]
  },
  {
   "cell_type": "markdown",
   "metadata": {},
   "source": [
    "A combination of yeast pathway kit standard primers and the primers above are\n",
    "used for the strategy to identify correct clones.\n",
    "Standard primers used in the yeast are listed [here](standard_primers.txt)."
   ]
  },
  {
   "cell_type": "code",
   "execution_count": 17,
   "metadata": {
    "execution": {
     "iopub.execute_input": "2021-05-17T10:27:12.746528Z",
     "iopub.status.busy": "2021-05-17T10:27:12.746030Z",
     "iopub.status.idle": "2021-05-17T10:27:12.748440Z",
     "shell.execute_reply": "2021-05-17T10:27:12.747968Z"
    }
   },
   "outputs": [],
   "source": [
    "p = { x.id: x for x in parse_primers(\"\"\">577\n",
    "                                         gttctgatcctcgagcatcttaagaattc\n",
    "                                         >578\n",
    "                                         gttcttgtctcattgccacattcataagt\n",
    "                                         >468\n",
    "                                         gtcgaggaacgccaggttgcccact\n",
    "                                         >467\n",
    "                                         ATTTAAatcctgatgcgtttgtctgcacaga\n",
    "                                         >567\n",
    "                                         GTcggctgcaggtcactagtgag\n",
    "                                         >568\n",
    "                                         GTGCcatctgtgcagacaaacg\n",
    "                                         >775\n",
    "                                         gcggccgctgacTTAAAT\n",
    "                                         >778\n",
    "                                         ggtaaatccggatTAATTAA\n",
    "                                         >342\n",
    "                                         CCTTTTTACGGTTCCTGGCCT\"\"\") }"
   ]
  },
  {
   "cell_type": "markdown",
   "metadata": {},
   "source": [
    "## Diagnostic PCR confirmation\n",
    "\n",
    "The correct structure of pYPKa_Z_RPL34A is confirmed by PCR using standard primers\n",
    "577 and 342 that are vector specific together with the RPL34Afw primer specific for the insert\n",
    "in a multiplex PCR reaction with\n",
    "all three primers present.\n",
    "\n",
    "Two PCR products are expected if the insert was cloned, the sizes depend\n",
    "on the orientation. If the vector is empty or contains another insert, only one\n",
    "product is formed.\n",
    "\n",
    "#### Expected PCR products sizes from pYPKa_Z_RPL34A:\n",
    "\n",
    "pYPKa_Z_RPL34A with insert in correct orientation."
   ]
  },
  {
   "cell_type": "code",
   "execution_count": 18,
   "metadata": {
    "execution": {
     "iopub.execute_input": "2021-05-17T10:27:12.761079Z",
     "iopub.status.busy": "2021-05-17T10:27:12.760197Z",
     "iopub.status.idle": "2021-05-17T10:27:12.763445Z",
     "shell.execute_reply": "2021-05-17T10:27:12.763867Z"
    }
   },
   "outputs": [
    {
     "data": {
      "text/plain": [
       "[Amplicon(1498), Amplicon(1330)]"
      ]
     },
     "execution_count": 1,
     "metadata": {},
     "output_type": "execute_result"
    }
   ],
   "source": [
    "Anneal( (p['577'], p['342'], fp), pYPKa_Z_RPL34A).products"
   ]
  },
  {
   "cell_type": "markdown",
   "metadata": {},
   "source": [
    "pYPKa_Z_RPL34A with insert in reverse orientation."
   ]
  },
  {
   "cell_type": "code",
   "execution_count": 19,
   "metadata": {
    "execution": {
     "iopub.execute_input": "2021-05-17T10:27:12.774041Z",
     "iopub.status.busy": "2021-05-17T10:27:12.773320Z",
     "iopub.status.idle": "2021-05-17T10:27:12.776420Z",
     "shell.execute_reply": "2021-05-17T10:27:12.775964Z"
    }
   },
   "outputs": [
    {
     "data": {
      "text/plain": [
       "[Amplicon(1498), Amplicon(732)]"
      ]
     },
     "execution_count": 1,
     "metadata": {},
     "output_type": "execute_result"
    }
   ],
   "source": [
    "Anneal( (p['577'], p['342'], fp), pYPKa_Z_RPL34Ab).products"
   ]
  },
  {
   "cell_type": "markdown",
   "metadata": {},
   "source": [
    "Empty pYPKa clone."
   ]
  },
  {
   "cell_type": "code",
   "execution_count": 20,
   "metadata": {
    "execution": {
     "iopub.execute_input": "2021-05-17T10:27:12.784243Z",
     "iopub.status.busy": "2021-05-17T10:27:12.783652Z",
     "iopub.status.idle": "2021-05-17T10:27:12.786576Z",
     "shell.execute_reply": "2021-05-17T10:27:12.787107Z"
    }
   },
   "outputs": [
    {
     "data": {
      "text/plain": [
       "[Amplicon(934)]"
      ]
     },
     "execution_count": 1,
     "metadata": {},
     "output_type": "execute_result"
    }
   ],
   "source": [
    "Anneal( (p['577'], p['342'], fp), pYPKa).products"
   ]
  },
  {
   "cell_type": "markdown",
   "metadata": {},
   "source": [
    "#### Expected PCR products sizes pYPKa_E_RPL34A:\n",
    "\n",
    "pYPKa_E_RPL34A with insert in correct orientation."
   ]
  },
  {
   "cell_type": "code",
   "execution_count": 21,
   "metadata": {
    "execution": {
     "iopub.execute_input": "2021-05-17T10:27:12.799336Z",
     "iopub.status.busy": "2021-05-17T10:27:12.798671Z",
     "iopub.status.idle": "2021-05-17T10:27:12.801769Z",
     "shell.execute_reply": "2021-05-17T10:27:12.802341Z"
    }
   },
   "outputs": [
    {
     "data": {
      "text/plain": [
       "[Amplicon(1498), Amplicon(1249)]"
      ]
     },
     "execution_count": 1,
     "metadata": {},
     "output_type": "execute_result"
    }
   ],
   "source": [
    "Anneal( (p['577'], p['342'], fp), pYPKa_E_RPL34A).products"
   ]
  },
  {
   "cell_type": "markdown",
   "metadata": {},
   "source": [
    "pYPKa_E_RPL34A with insert in reverse orientation."
   ]
  },
  {
   "cell_type": "code",
   "execution_count": 22,
   "metadata": {
    "execution": {
     "iopub.execute_input": "2021-05-17T10:27:12.815741Z",
     "iopub.status.busy": "2021-05-17T10:27:12.815290Z",
     "iopub.status.idle": "2021-05-17T10:27:12.817872Z",
     "shell.execute_reply": "2021-05-17T10:27:12.818331Z"
    }
   },
   "outputs": [
    {
     "data": {
      "text/plain": [
       "[Amplicon(1498), Amplicon(813)]"
      ]
     },
     "execution_count": 1,
     "metadata": {},
     "output_type": "execute_result"
    }
   ],
   "source": [
    "Anneal( (p['577'], p['342'], fp), pYPKa_E_RPL34Ab).products\n"
   ]
  },
  {
   "cell_type": "markdown",
   "metadata": {},
   "source": [
    "Calculate cseguid checksums for the resulting plasmids for future reference.\n",
    "This checksum that uniquely describes a circular double stranded\n",
    "sequence. See this [blog post](https://ochsavidare.blogspot.com/2016/02/checksum-for-circular-biological.html) for more info.\n",
    "\n",
    "pYPKa_Z_RPL34A.cseguid() should be pbgUN4hwUlUgLfNvXqMN7hedeR4"
   ]
  },
  {
   "cell_type": "code",
   "execution_count": 23,
   "metadata": {
    "execution": {
     "iopub.execute_input": "2021-05-17T10:27:12.828769Z",
     "iopub.status.busy": "2021-05-17T10:27:12.828131Z",
     "iopub.status.idle": "2021-05-17T10:27:12.831217Z",
     "shell.execute_reply": "2021-05-17T10:27:12.831796Z"
    }
   },
   "outputs": [
    {
     "name": "stdout",
     "output_type": "stream",
     "text": [
      "pbgUN4hwUlUgLfNvXqMN7hedeR4\n"
     ]
    }
   ],
   "source": [
    "print(pYPKa_Z_RPL34A.cseguid())\n",
    "assert pYPKa_Z_RPL34A.cseguid() == \"pbgUN4hwUlUgLfNvXqMN7hedeR4\""
   ]
  },
  {
   "cell_type": "markdown",
   "metadata": {},
   "source": [
    "pYPKa_E_RPL34A.cseguid() should be 2qzaZsLWMfAAWmARo0dV2G9vCsw"
   ]
  },
  {
   "cell_type": "code",
   "execution_count": 24,
   "metadata": {
    "execution": {
     "iopub.execute_input": "2021-05-17T10:27:12.843281Z",
     "iopub.status.busy": "2021-05-17T10:27:12.842678Z",
     "iopub.status.idle": "2021-05-17T10:27:12.845717Z",
     "shell.execute_reply": "2021-05-17T10:27:12.845114Z"
    }
   },
   "outputs": [
    {
     "name": "stdout",
     "output_type": "stream",
     "text": [
      "2qzaZsLWMfAAWmARo0dV2G9vCsw\n"
     ]
    }
   ],
   "source": [
    "print(pYPKa_E_RPL34A.cseguid())\n",
    "assert pYPKa_E_RPL34A.cseguid() == \"2qzaZsLWMfAAWmARo0dV2G9vCsw\""
   ]
  },
  {
   "cell_type": "markdown",
   "metadata": {},
   "source": [
    "The sequences are named based on the name of the cloned insert."
   ]
  },
  {
   "cell_type": "code",
   "execution_count": 25,
   "metadata": {
    "execution": {
     "iopub.execute_input": "2021-05-17T10:27:12.849183Z",
     "iopub.status.busy": "2021-05-17T10:27:12.848651Z",
     "iopub.status.idle": "2021-05-17T10:27:12.851189Z",
     "shell.execute_reply": "2021-05-17T10:27:12.852051Z"
    }
   },
   "outputs": [],
   "source": [
    "pYPKa_Z_RPL34A.locus = \"pYPKa_Z_RPL34A\"[:16]\n",
    "pYPKa_E_RPL34A.locus = \"pYPKa_Z_RPL34A\"[:16]"
   ]
  },
  {
   "cell_type": "markdown",
   "metadata": {},
   "source": [
    "Stamp sequence with cseguid checksum. This can be used to verify the\n",
    "integrity of the sequence file."
   ]
  },
  {
   "cell_type": "code",
   "execution_count": 26,
   "metadata": {
    "execution": {
     "iopub.execute_input": "2021-05-17T10:27:12.863512Z",
     "iopub.status.busy": "2021-05-17T10:27:12.862938Z",
     "iopub.status.idle": "2021-05-17T10:27:12.865591Z",
     "shell.execute_reply": "2021-05-17T10:27:12.866038Z"
    }
   },
   "outputs": [
    {
     "data": {
      "text/plain": [
       "cSEGUID_2qzaZsLWMfAAWmARo0dV2G9vCsw"
      ]
     },
     "execution_count": 1,
     "metadata": {},
     "output_type": "execute_result"
    }
   ],
   "source": [
    "pYPKa_Z_RPL34A.stamp()\n",
    "pYPKa_E_RPL34A.stamp()"
   ]
  },
  {
   "cell_type": "markdown",
   "metadata": {},
   "source": [
    "pYPKa_Z_RPL34A is written to a local file:"
   ]
  },
  {
   "cell_type": "code",
   "execution_count": 27,
   "metadata": {
    "execution": {
     "iopub.execute_input": "2021-05-17T10:27:12.869196Z",
     "iopub.status.busy": "2021-05-17T10:27:12.868713Z",
     "iopub.status.idle": "2021-05-17T10:27:12.877114Z",
     "shell.execute_reply": "2021-05-17T10:27:12.877746Z"
    }
   },
   "outputs": [
    {
     "data": {
      "text/html": [
       "<font face=monospace><a href='pYPKa_Z_RPL34A.gb' target='_blank'>pYPKa_Z_RPL34A.gb</a></font><br>"
      ]
     },
     "metadata": {},
     "output_type": "display_data"
    }
   ],
   "source": [
    "pYPKa_Z_RPL34A.write(\"pYPKa_Z_RPL34A.gb\")"
   ]
  },
  {
   "cell_type": "markdown",
   "metadata": {},
   "source": [
    "pYPKa_E_RPL34A is written to a local file:"
   ]
  },
  {
   "cell_type": "code",
   "execution_count": 28,
   "metadata": {
    "execution": {
     "iopub.execute_input": "2021-05-17T10:27:12.883799Z",
     "iopub.status.busy": "2021-05-17T10:27:12.881082Z",
     "iopub.status.idle": "2021-05-17T10:27:12.888595Z",
     "shell.execute_reply": "2021-05-17T10:27:12.889128Z"
    }
   },
   "outputs": [
    {
     "data": {
      "text/html": [
       "<font face=monospace><a href='pYPKa_E_RPL34A.gb' target='_blank'>pYPKa_E_RPL34A.gb</a></font><br>"
      ]
     },
     "metadata": {},
     "output_type": "display_data"
    }
   ],
   "source": [
    "pYPKa_E_RPL34A.write(\"pYPKa_E_RPL34A.gb\")"
   ]
  }
 ],
 "metadata": {
  "language_info": {
   "codemirror_mode": {
    "name": "ipython",
    "version": 3
   },
   "file_extension": ".py",
   "mimetype": "text/x-python",
   "name": "python",
   "nbconvert_exporter": "python",
   "pygments_lexer": "ipython3",
   "version": "3.9.0"
  }
 },
 "nbformat": 4,
 "nbformat_minor": 2
}
