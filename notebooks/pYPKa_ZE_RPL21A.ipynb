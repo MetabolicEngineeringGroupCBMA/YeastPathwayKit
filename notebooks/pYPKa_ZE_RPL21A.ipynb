{
 "cells": [
  {
   "cell_type": "markdown",
   "metadata": {},
   "source": [
    "# pYPKa_Z_RPL21A and pYPKa_E_RPL21A\n",
    "\n",
    "This Jupyter notebook describe the construction of E. coli vectors [pYPKa_Z_RPL21A](pYPKa_Z_RPL21A.gb) and [pYPKa_E_RPL21A](pYPKa_E_RPL21A.gb). \n",
    "These two vectors share backbone and insert, but in the former, the insert is cloned using the restriction\n",
    "enzyme [ZraI](http://rebase.neb.com/rebase/enz/ZraI.html) while in the latter [EcoRV](http://rebase.neb.com/rebase/enz/EcoRV.html) is used.\n",
    "\n",
    "The insert cloned in ZraI is meant to function as a promoter, while in the EcoRV site it is meant to be  used as a terminator.\n",
    "\n",
    "Links to the sequence of each vector in Genbank format can be found at the bottom of this document.\n",
    "\n",
    "![pYPKa_Z and pYPKa_E](figure_pYPKa_ZE.png \"pYPKa_Z or pYPKa_E plasmid\")\n",
    "\n",
    "The Python package [pydna](https://pypi.python.org/pypi/pydna/) package is imported in the code cell below to provide \n",
    "the cloning functionality. There is a [publication](http://www.biomedcentral.com/1471-2105/16/142) describing pydna as well as\n",
    "[documentation](http://pydna.readthedocs.io/) available online. Pydna is developed on [Github](https://github.com/BjornFJohansson/pydna)."
   ]
  },
  {
   "cell_type": "code",
   "execution_count": 1,
   "metadata": {
    "execution": {
     "iopub.execute_input": "2021-05-17T10:26:48.235432Z",
     "iopub.status.busy": "2021-05-17T10:26:48.234647Z",
     "iopub.status.idle": "2021-05-17T10:26:48.732089Z",
     "shell.execute_reply": "2021-05-17T10:26:48.731575Z"
    }
   },
   "outputs": [],
   "source": [
    "from pydna.readers import read\n",
    "from pydna.parsers import parse_primers\n",
    "from pydna.genbank import Genbank\n",
    "from pydna.amplify import pcr\n",
    "from pydna.amplify import Anneal"
   ]
  },
  {
   "cell_type": "markdown",
   "metadata": {},
   "source": [
    "The vector backbone pYPKa is read from a local [file](pYPKa.gb)."
   ]
  },
  {
   "cell_type": "code",
   "execution_count": 2,
   "metadata": {
    "execution": {
     "iopub.execute_input": "2021-05-17T10:26:48.741441Z",
     "iopub.status.busy": "2021-05-17T10:26:48.740437Z",
     "iopub.status.idle": "2021-05-17T10:26:48.750091Z",
     "shell.execute_reply": "2021-05-17T10:26:48.750633Z"
    }
   },
   "outputs": [],
   "source": [
    "pYPKa = read(\"pYPKa.gb\")"
   ]
  },
  {
   "cell_type": "markdown",
   "metadata": {},
   "source": [
    "Both restriction enzymes are imported from [Biopython](http://biopython.org/wiki/Main_Page)"
   ]
  },
  {
   "cell_type": "code",
   "execution_count": 3,
   "metadata": {
    "execution": {
     "iopub.execute_input": "2021-05-17T10:26:48.754021Z",
     "iopub.status.busy": "2021-05-17T10:26:48.753558Z",
     "iopub.status.idle": "2021-05-17T10:26:48.755830Z",
     "shell.execute_reply": "2021-05-17T10:26:48.755339Z"
    }
   },
   "outputs": [],
   "source": [
    "from Bio.Restriction import ZraI, EcoRV"
   ]
  },
  {
   "cell_type": "markdown",
   "metadata": {},
   "source": [
    "The vector is cut with both enzymes."
   ]
  },
  {
   "cell_type": "code",
   "execution_count": 4,
   "metadata": {
    "execution": {
     "iopub.execute_input": "2021-05-17T10:26:48.765011Z",
     "iopub.status.busy": "2021-05-17T10:26:48.763865Z",
     "iopub.status.idle": "2021-05-17T10:26:48.766286Z",
     "shell.execute_reply": "2021-05-17T10:26:48.766771Z"
    }
   },
   "outputs": [],
   "source": [
    "pYPKa_ZraI  = pYPKa.linearize(ZraI)\n",
    "pYPKa_EcoRV = pYPKa.linearize(EcoRV)"
   ]
  },
  {
   "cell_type": "markdown",
   "metadata": {},
   "source": [
    "The template below comes from a Genbank [record](http://www.ncbi.nlm.nih.gov/nuccore/BK006936.2).\n",
    "Access to Genbank is needed in order to download the template.\n",
    "If you execute this script, change the email address below to your own.\n",
    "Always tell Genbank who you are, when using their web service."
   ]
  },
  {
   "cell_type": "code",
   "execution_count": 5,
   "metadata": {
    "execution": {
     "iopub.execute_input": "2021-05-17T10:26:48.770679Z",
     "iopub.status.busy": "2021-05-17T10:26:48.770214Z",
     "iopub.status.idle": "2021-05-17T10:26:48.772569Z",
     "shell.execute_reply": "2021-05-17T10:26:48.772103Z"
    }
   },
   "outputs": [],
   "source": [
    "gb = Genbank(\"bjornjobb@gmail.com\")"
   ]
  },
  {
   "cell_type": "markdown",
   "metadata": {},
   "source": [
    "The template is downloaded from Genbank below."
   ]
  },
  {
   "cell_type": "code",
   "execution_count": 6,
   "metadata": {
    "execution": {
     "iopub.execute_input": "2021-05-17T10:26:48.775927Z",
     "iopub.status.busy": "2021-05-17T10:26:48.775501Z",
     "iopub.status.idle": "2021-05-17T10:26:48.785674Z",
     "shell.execute_reply": "2021-05-17T10:26:48.786093Z"
    }
   },
   "outputs": [],
   "source": [
    "template = gb.nucleotide(\"BK006936.2 REGION: 605509..606269\")"
   ]
  },
  {
   "cell_type": "markdown",
   "metadata": {},
   "source": [
    "The template is a 761 bp linear DNA fragment."
   ]
  },
  {
   "cell_type": "code",
   "execution_count": 7,
   "metadata": {
    "execution": {
     "iopub.execute_input": "2021-05-17T10:26:48.795708Z",
     "iopub.status.busy": "2021-05-17T10:26:48.794850Z",
     "iopub.status.idle": "2021-05-17T10:26:48.798499Z",
     "shell.execute_reply": "2021-05-17T10:26:48.797924Z"
    }
   },
   "outputs": [
    {
     "data": {
      "text/html": [
       "<a href='https://www.ncbi.nlm.nih.gov/nuccore/BK006936.2 ?from=605509&to=606269&strand=1' target='_blank'>BK006936.2  605509-606269</a>"
      ],
      "text/plain": [
       "Gbank(BK006936.2  605509-606269)(-761)"
      ]
     },
     "execution_count": 1,
     "metadata": {},
     "output_type": "execute_result"
    }
   ],
   "source": [
    "template"
   ]
  },
  {
   "cell_type": "markdown",
   "metadata": {},
   "source": [
    "The insert has the sequence shown below."
   ]
  },
  {
   "cell_type": "code",
   "execution_count": 8,
   "metadata": {
    "execution": {
     "iopub.execute_input": "2021-05-17T10:26:48.802262Z",
     "iopub.status.busy": "2021-05-17T10:26:48.801652Z",
     "iopub.status.idle": "2021-05-17T10:26:48.804514Z",
     "shell.execute_reply": "2021-05-17T10:26:48.804044Z"
    }
   },
   "outputs": [
    {
     "name": "stdout",
     "output_type": "stream",
     "text": [
      "ATAATTCGCTGATTTCATAACTGTATAATAAATTTTATAACTTTTCAAATCACGGATCATTTTTCATTTTACTTTGTCATTTTTATTTCATTTGAAAATGGGTAGAGGTACATAACTGGCGCTTTTCTTGCAAGATGACATGGCATTGGATGACACAAGTATTACTCAATACCCAACGTAAATAGCTAGAAGATTTTGATCGGATTTAAATTCCCAACTGCAACTCAGTAGCGTTTAGGATTTTACACCTTGGCTTGGAGAAATCCTTATTGTCAGAAATTGAAGCCGTTAATATTTAAAGGCTAATTCTCCATGCCATCTTGCATTCACTTTGGTATATATCTCTTGACCTCAATATATCTCGATAATATAAATCGCAATATTATACTTGTTAGTCTGACAGTTTTACACCTGTACATCTTCACCATCACCACACCCTTTTTTACTGGAGGCAAGGATGAGTTTGAATATCGCCTTTTTCCCAGCCGCTAGAACATGCTCAGAACCGAGGAAAAGCACCGCTGCCAAACCTCCTTTGATGTGTTGGCCCACCGCTACTAGTGGCCGTGCTGGAAGCCCAGGCAGCGGTGGGGGCCACAATACGAGAGCTGGAAAGGTAAACGGTCTCTGCGCCTCTGTGAAATTTTATCACCAATGGAGTGTCATGTCTGGTAAAGATAATATAGAAAGTAGTGTGCAATTTCAGGCATTACCGATTGAACTTTGGAATAAGAGAACCAAGACAAAAATAACTAGCAACA\n"
     ]
    }
   ],
   "source": [
    "print(str(template.seq))"
   ]
  },
  {
   "cell_type": "markdown",
   "metadata": {},
   "source": [
    "The seguid checksum of the template should be\n",
    "\n",
    "```S34w35OlQQZw5HzC2rZYx64eFqo```"
   ]
  },
  {
   "cell_type": "code",
   "execution_count": 9,
   "metadata": {
    "execution": {
     "iopub.execute_input": "2021-05-17T10:26:48.808319Z",
     "iopub.status.busy": "2021-05-17T10:26:48.807636Z",
     "iopub.status.idle": "2021-05-17T10:26:48.810604Z",
     "shell.execute_reply": "2021-05-17T10:26:48.811223Z"
    }
   },
   "outputs": [
    {
     "data": {
      "text/plain": [
       "S34w35OlQQZw5HzC2rZYx64eFqo"
      ]
     },
     "execution_count": 1,
     "metadata": {},
     "output_type": "execute_result"
    }
   ],
   "source": [
    "template.seguid()"
   ]
  },
  {
   "cell_type": "markdown",
   "metadata": {},
   "source": [
    "Two primers are used to amplify the insert:"
   ]
  },
  {
   "cell_type": "code",
   "execution_count": 10,
   "metadata": {
    "execution": {
     "iopub.execute_input": "2021-05-17T10:26:48.816525Z",
     "iopub.status.busy": "2021-05-17T10:26:48.815843Z",
     "iopub.status.idle": "2021-05-17T10:26:48.818920Z",
     "shell.execute_reply": "2021-05-17T10:26:48.818216Z"
    }
   },
   "outputs": [],
   "source": [
    "fp,rp = parse_primers(\"\"\">860_RPL21Atpf\n",
    "                         ttaaatATAATTCGCTGATTTCATAA\n",
    "                         >859_RPL21Atpr\n",
    "                         taattaaTGTTGCTAGTTATTTTTGTC\"\"\")"
   ]
  },
  {
   "cell_type": "markdown",
   "metadata": {},
   "source": [
    "PCR to create the insert using the primers above."
   ]
  },
  {
   "cell_type": "code",
   "execution_count": 11,
   "metadata": {
    "execution": {
     "iopub.execute_input": "2021-05-17T10:26:48.825771Z",
     "iopub.status.busy": "2021-05-17T10:26:48.824880Z",
     "iopub.status.idle": "2021-05-17T10:26:48.830981Z",
     "shell.execute_reply": "2021-05-17T10:26:48.830366Z"
    }
   },
   "outputs": [],
   "source": [
    "prd = pcr(fp, rp, template)\n",
    "assert str(fp.seq) in prd"
   ]
  },
  {
   "cell_type": "markdown",
   "metadata": {},
   "source": [
    "The PCR product has this length in bp."
   ]
  },
  {
   "cell_type": "code",
   "execution_count": 12,
   "metadata": {
    "execution": {
     "iopub.execute_input": "2021-05-17T10:26:48.835660Z",
     "iopub.status.busy": "2021-05-17T10:26:48.834634Z",
     "iopub.status.idle": "2021-05-17T10:26:48.839523Z",
     "shell.execute_reply": "2021-05-17T10:26:48.838830Z"
    }
   },
   "outputs": [
    {
     "data": {
      "text/plain": [
       "774"
      ]
     },
     "execution_count": 1,
     "metadata": {},
     "output_type": "execute_result"
    }
   ],
   "source": [
    "len(prd)"
   ]
  },
  {
   "cell_type": "markdown",
   "metadata": {},
   "source": [
    "A figure of the primers annealing on template."
   ]
  },
  {
   "cell_type": "code",
   "execution_count": 13,
   "metadata": {
    "execution": {
     "iopub.execute_input": "2021-05-17T10:26:48.845059Z",
     "iopub.status.busy": "2021-05-17T10:26:48.844128Z",
     "iopub.status.idle": "2021-05-17T10:26:48.848497Z",
     "shell.execute_reply": "2021-05-17T10:26:48.847822Z"
    }
   },
   "outputs": [
    {
     "data": {
      "text/plain": [
       "      5ATAATTCGCTGATTTCATAA...GACAAAAATAACTAGCAACA3\n",
       "                              ||||||||||||||||||||\n",
       "                             3CTGTTTTTATTGATCGTTGTaattaat5\n",
       "5ttaaatATAATTCGCTGATTTCATAA3\n",
       "       ||||||||||||||||||||\n",
       "      3TATTAAGCGACTAAAGTATT...CTGTTTTTATTGATCGTTGT5"
      ]
     },
     "execution_count": 1,
     "metadata": {},
     "output_type": "execute_result"
    }
   ],
   "source": [
    "prd.figure()"
   ]
  },
  {
   "cell_type": "markdown",
   "metadata": {},
   "source": [
    "A suggested PCR program."
   ]
  },
  {
   "cell_type": "code",
   "execution_count": 14,
   "metadata": {
    "execution": {
     "iopub.execute_input": "2021-05-17T10:26:48.854304Z",
     "iopub.status.busy": "2021-05-17T10:26:48.853432Z",
     "iopub.status.idle": "2021-05-17T10:26:48.857068Z",
     "shell.execute_reply": "2021-05-17T10:26:48.856466Z"
    }
   },
   "outputs": [
    {
     "data": {
      "text/plain": [
       "|95°C|95°C               |    |tmf:50.9\n",
       "|____|_____          72°C|72°C|tmr:52.5\n",
       "|5min|30s  \\ 52.6°C _____|____|60s/kb\n",
       "|    |      \\______/ 0:46|5min|GC 38%\n",
       "|    |       30s         |    |774bp"
      ]
     },
     "execution_count": 1,
     "metadata": {},
     "output_type": "execute_result"
    }
   ],
   "source": [
    "prd.program()"
   ]
  },
  {
   "cell_type": "markdown",
   "metadata": {},
   "source": [
    "The final vectors are:"
   ]
  },
  {
   "cell_type": "code",
   "execution_count": 15,
   "metadata": {
    "execution": {
     "iopub.execute_input": "2021-05-17T10:26:48.884939Z",
     "iopub.status.busy": "2021-05-17T10:26:48.874804Z",
     "iopub.status.idle": "2021-05-17T10:26:49.325539Z",
     "shell.execute_reply": "2021-05-17T10:26:49.325972Z"
    }
   },
   "outputs": [],
   "source": [
    "pYPKa_Z_RPL21A = (pYPKa_ZraI  + prd).looped().synced(pYPKa)\n",
    "pYPKa_E_RPL21A = (pYPKa_EcoRV + prd).looped().synced(pYPKa)"
   ]
  },
  {
   "cell_type": "markdown",
   "metadata": {},
   "source": [
    "The final vectors with reverse inserts are created below. These vectors theoretically make up\n",
    "fifty percent of the clones. The PCR strategy outlined below can be used to identify clones with the insert\n",
    "in the correct orientation."
   ]
  },
  {
   "cell_type": "code",
   "execution_count": 16,
   "metadata": {
    "execution": {
     "iopub.execute_input": "2021-05-17T10:26:49.384199Z",
     "iopub.status.busy": "2021-05-17T10:26:49.363841Z",
     "iopub.status.idle": "2021-05-17T10:26:49.784254Z",
     "shell.execute_reply": "2021-05-17T10:26:49.784755Z"
    }
   },
   "outputs": [],
   "source": [
    "pYPKa_Z_RPL21Ab = (pYPKa_ZraI  + prd.rc()).looped().synced(pYPKa)\n",
    "pYPKa_E_RPL21Ab = (pYPKa_EcoRV + prd.rc()).looped().synced(pYPKa)"
   ]
  },
  {
   "cell_type": "markdown",
   "metadata": {},
   "source": [
    "A combination of yeast pathway kit standard primers and the primers above are\n",
    "used for the strategy to identify correct clones.\n",
    "Standard primers used in the yeast are listed [here](standard_primers.txt)."
   ]
  },
  {
   "cell_type": "code",
   "execution_count": 17,
   "metadata": {
    "execution": {
     "iopub.execute_input": "2021-05-17T10:26:49.790372Z",
     "iopub.status.busy": "2021-05-17T10:26:49.789792Z",
     "iopub.status.idle": "2021-05-17T10:26:49.791905Z",
     "shell.execute_reply": "2021-05-17T10:26:49.792456Z"
    }
   },
   "outputs": [],
   "source": [
    "p = { x.id: x for x in parse_primers(\"\"\">577\n",
    "                                         gttctgatcctcgagcatcttaagaattc\n",
    "                                         >578\n",
    "                                         gttcttgtctcattgccacattcataagt\n",
    "                                         >468\n",
    "                                         gtcgaggaacgccaggttgcccact\n",
    "                                         >467\n",
    "                                         ATTTAAatcctgatgcgtttgtctgcacaga\n",
    "                                         >567\n",
    "                                         GTcggctgcaggtcactagtgag\n",
    "                                         >568\n",
    "                                         GTGCcatctgtgcagacaaacg\n",
    "                                         >775\n",
    "                                         gcggccgctgacTTAAAT\n",
    "                                         >778\n",
    "                                         ggtaaatccggatTAATTAA\n",
    "                                         >342\n",
    "                                         CCTTTTTACGGTTCCTGGCCT\"\"\") }"
   ]
  },
  {
   "cell_type": "markdown",
   "metadata": {},
   "source": [
    "## Diagnostic PCR confirmation\n",
    "\n",
    "The correct structure of pYPKa_Z_RPL21A is confirmed by PCR using standard primers\n",
    "577 and 342 that are vector specific together with the RPL21Afw primer specific for the insert\n",
    "in a multiplex PCR reaction with\n",
    "all three primers present.\n",
    "\n",
    "Two PCR products are expected if the insert was cloned, the sizes depend\n",
    "on the orientation. If the vector is empty or contains another insert, only one\n",
    "product is formed.\n",
    "\n",
    "#### Expected PCR products sizes from pYPKa_Z_RPL21A:\n",
    "\n",
    "pYPKa_Z_RPL21A with insert in correct orientation."
   ]
  },
  {
   "cell_type": "code",
   "execution_count": 18,
   "metadata": {
    "execution": {
     "iopub.execute_input": "2021-05-17T10:26:49.806797Z",
     "iopub.status.busy": "2021-05-17T10:26:49.806078Z",
     "iopub.status.idle": "2021-05-17T10:26:49.809265Z",
     "shell.execute_reply": "2021-05-17T10:26:49.808739Z"
    }
   },
   "outputs": [
    {
     "data": {
      "text/plain": [
       "[Amplicon(1708), Amplicon(1540)]"
      ]
     },
     "execution_count": 1,
     "metadata": {},
     "output_type": "execute_result"
    }
   ],
   "source": [
    "Anneal( (p['577'], p['342'], fp), pYPKa_Z_RPL21A).products"
   ]
  },
  {
   "cell_type": "markdown",
   "metadata": {},
   "source": [
    "pYPKa_Z_RPL21A with insert in reverse orientation."
   ]
  },
  {
   "cell_type": "code",
   "execution_count": 19,
   "metadata": {
    "execution": {
     "iopub.execute_input": "2021-05-17T10:26:49.822135Z",
     "iopub.status.busy": "2021-05-17T10:26:49.817079Z",
     "iopub.status.idle": "2021-05-17T10:26:49.825328Z",
     "shell.execute_reply": "2021-05-17T10:26:49.824759Z"
    }
   },
   "outputs": [
    {
     "data": {
      "text/plain": [
       "[Amplicon(1708), Amplicon(942)]"
      ]
     },
     "execution_count": 1,
     "metadata": {},
     "output_type": "execute_result"
    }
   ],
   "source": [
    "Anneal( (p['577'], p['342'], fp), pYPKa_Z_RPL21Ab).products"
   ]
  },
  {
   "cell_type": "markdown",
   "metadata": {},
   "source": [
    "Empty pYPKa clone."
   ]
  },
  {
   "cell_type": "code",
   "execution_count": 20,
   "metadata": {
    "execution": {
     "iopub.execute_input": "2021-05-17T10:26:49.833736Z",
     "iopub.status.busy": "2021-05-17T10:26:49.832770Z",
     "iopub.status.idle": "2021-05-17T10:26:49.836809Z",
     "shell.execute_reply": "2021-05-17T10:26:49.836148Z"
    }
   },
   "outputs": [
    {
     "data": {
      "text/plain": [
       "[Amplicon(934)]"
      ]
     },
     "execution_count": 1,
     "metadata": {},
     "output_type": "execute_result"
    }
   ],
   "source": [
    "Anneal( (p['577'], p['342'], fp), pYPKa).products"
   ]
  },
  {
   "cell_type": "markdown",
   "metadata": {},
   "source": [
    "#### Expected PCR products sizes pYPKa_E_RPL21A:\n",
    "\n",
    "pYPKa_E_RPL21A with insert in correct orientation."
   ]
  },
  {
   "cell_type": "code",
   "execution_count": 21,
   "metadata": {
    "execution": {
     "iopub.execute_input": "2021-05-17T10:26:49.849621Z",
     "iopub.status.busy": "2021-05-17T10:26:49.844692Z",
     "iopub.status.idle": "2021-05-17T10:26:49.852798Z",
     "shell.execute_reply": "2021-05-17T10:26:49.852286Z"
    }
   },
   "outputs": [
    {
     "data": {
      "text/plain": [
       "[Amplicon(1708), Amplicon(1459)]"
      ]
     },
     "execution_count": 1,
     "metadata": {},
     "output_type": "execute_result"
    }
   ],
   "source": [
    "Anneal( (p['577'], p['342'], fp), pYPKa_E_RPL21A).products"
   ]
  },
  {
   "cell_type": "markdown",
   "metadata": {},
   "source": [
    "pYPKa_E_RPL21A with insert in reverse orientation."
   ]
  },
  {
   "cell_type": "code",
   "execution_count": 22,
   "metadata": {
    "execution": {
     "iopub.execute_input": "2021-05-17T10:26:49.863221Z",
     "iopub.status.busy": "2021-05-17T10:26:49.862118Z",
     "iopub.status.idle": "2021-05-17T10:26:49.866400Z",
     "shell.execute_reply": "2021-05-17T10:26:49.865820Z"
    }
   },
   "outputs": [
    {
     "data": {
      "text/plain": [
       "[Amplicon(1708), Amplicon(1023)]"
      ]
     },
     "execution_count": 1,
     "metadata": {},
     "output_type": "execute_result"
    }
   ],
   "source": [
    "Anneal( (p['577'], p['342'], fp), pYPKa_E_RPL21Ab).products\n"
   ]
  },
  {
   "cell_type": "markdown",
   "metadata": {},
   "source": [
    "Calculate cseguid checksums for the resulting plasmids for future reference.\n",
    "This checksum that uniquely describes a circular double stranded\n",
    "sequence. See this [blog post](https://ochsavidare.blogspot.com/2016/02/checksum-for-circular-biological.html) for more info.\n",
    "\n",
    "pYPKa_Z_RPL21A.cseguid() should be C6RxhDNTxjZXmzg_4B1vdBTdSy4"
   ]
  },
  {
   "cell_type": "code",
   "execution_count": 23,
   "metadata": {
    "execution": {
     "iopub.execute_input": "2021-05-17T10:26:49.877520Z",
     "iopub.status.busy": "2021-05-17T10:26:49.877046Z",
     "iopub.status.idle": "2021-05-17T10:26:49.879836Z",
     "shell.execute_reply": "2021-05-17T10:26:49.879388Z"
    }
   },
   "outputs": [
    {
     "name": "stdout",
     "output_type": "stream",
     "text": [
      "C6RxhDNTxjZXmzg_4B1vdBTdSy4\n"
     ]
    }
   ],
   "source": [
    "print(pYPKa_Z_RPL21A.cseguid())\n",
    "assert pYPKa_Z_RPL21A.cseguid() == \"C6RxhDNTxjZXmzg_4B1vdBTdSy4\""
   ]
  },
  {
   "cell_type": "markdown",
   "metadata": {},
   "source": [
    "pYPKa_E_RPL21A.cseguid() should be eDlbjTexbn6LHhzyCzGiMsOyi3M"
   ]
  },
  {
   "cell_type": "code",
   "execution_count": 24,
   "metadata": {
    "execution": {
     "iopub.execute_input": "2021-05-17T10:26:49.889717Z",
     "iopub.status.busy": "2021-05-17T10:26:49.888881Z",
     "iopub.status.idle": "2021-05-17T10:26:49.891945Z",
     "shell.execute_reply": "2021-05-17T10:26:49.891501Z"
    }
   },
   "outputs": [
    {
     "name": "stdout",
     "output_type": "stream",
     "text": [
      "eDlbjTexbn6LHhzyCzGiMsOyi3M\n"
     ]
    }
   ],
   "source": [
    "print(pYPKa_E_RPL21A.cseguid())\n",
    "assert pYPKa_E_RPL21A.cseguid() == \"eDlbjTexbn6LHhzyCzGiMsOyi3M\""
   ]
  },
  {
   "cell_type": "markdown",
   "metadata": {},
   "source": [
    "The sequences are named based on the name of the cloned insert."
   ]
  },
  {
   "cell_type": "code",
   "execution_count": 25,
   "metadata": {
    "execution": {
     "iopub.execute_input": "2021-05-17T10:26:49.895165Z",
     "iopub.status.busy": "2021-05-17T10:26:49.894720Z",
     "iopub.status.idle": "2021-05-17T10:26:49.896527Z",
     "shell.execute_reply": "2021-05-17T10:26:49.896934Z"
    }
   },
   "outputs": [],
   "source": [
    "pYPKa_Z_RPL21A.locus = \"pYPKa_Z_RPL21A\"[:16]\n",
    "pYPKa_E_RPL21A.locus = \"pYPKa_Z_RPL21A\"[:16]"
   ]
  },
  {
   "cell_type": "markdown",
   "metadata": {},
   "source": [
    "Stamp sequence with cseguid checksum. This can be used to verify the\n",
    "integrity of the sequence file."
   ]
  },
  {
   "cell_type": "code",
   "execution_count": 26,
   "metadata": {
    "execution": {
     "iopub.execute_input": "2021-05-17T10:26:49.909194Z",
     "iopub.status.busy": "2021-05-17T10:26:49.908534Z",
     "iopub.status.idle": "2021-05-17T10:26:49.911594Z",
     "shell.execute_reply": "2021-05-17T10:26:49.912030Z"
    }
   },
   "outputs": [
    {
     "data": {
      "text/plain": [
       "cSEGUID_eDlbjTexbn6LHhzyCzGiMsOyi3M"
      ]
     },
     "execution_count": 1,
     "metadata": {},
     "output_type": "execute_result"
    }
   ],
   "source": [
    "pYPKa_Z_RPL21A.stamp()\n",
    "pYPKa_E_RPL21A.stamp()"
   ]
  },
  {
   "cell_type": "markdown",
   "metadata": {},
   "source": [
    "pYPKa_Z_RPL21A is written to a local file:"
   ]
  },
  {
   "cell_type": "code",
   "execution_count": 27,
   "metadata": {
    "execution": {
     "iopub.execute_input": "2021-05-17T10:26:49.915389Z",
     "iopub.status.busy": "2021-05-17T10:26:49.914795Z",
     "iopub.status.idle": "2021-05-17T10:26:49.923141Z",
     "shell.execute_reply": "2021-05-17T10:26:49.922489Z"
    }
   },
   "outputs": [
    {
     "data": {
      "text/html": [
       "<font face=monospace><a href='pYPKa_Z_RPL21A.gb' target='_blank'>pYPKa_Z_RPL21A.gb</a></font><br>"
      ]
     },
     "metadata": {},
     "output_type": "display_data"
    }
   ],
   "source": [
    "pYPKa_Z_RPL21A.write(\"pYPKa_Z_RPL21A.gb\")"
   ]
  },
  {
   "cell_type": "markdown",
   "metadata": {},
   "source": [
    "pYPKa_E_RPL21A is written to a local file:"
   ]
  },
  {
   "cell_type": "code",
   "execution_count": 28,
   "metadata": {
    "execution": {
     "iopub.execute_input": "2021-05-17T10:26:49.929802Z",
     "iopub.status.busy": "2021-05-17T10:26:49.926804Z",
     "iopub.status.idle": "2021-05-17T10:26:49.933872Z",
     "shell.execute_reply": "2021-05-17T10:26:49.934383Z"
    }
   },
   "outputs": [
    {
     "data": {
      "text/html": [
       "<font face=monospace><a href='pYPKa_E_RPL21A.gb' target='_blank'>pYPKa_E_RPL21A.gb</a></font><br>"
      ]
     },
     "metadata": {},
     "output_type": "display_data"
    }
   ],
   "source": [
    "pYPKa_E_RPL21A.write(\"pYPKa_E_RPL21A.gb\")"
   ]
  }
 ],
 "metadata": {
  "language_info": {
   "codemirror_mode": {
    "name": "ipython",
    "version": 3
   },
   "file_extension": ".py",
   "mimetype": "text/x-python",
   "name": "python",
   "nbconvert_exporter": "python",
   "pygments_lexer": "ipython3",
   "version": "3.9.0"
  }
 },
 "nbformat": 4,
 "nbformat_minor": 2
}
