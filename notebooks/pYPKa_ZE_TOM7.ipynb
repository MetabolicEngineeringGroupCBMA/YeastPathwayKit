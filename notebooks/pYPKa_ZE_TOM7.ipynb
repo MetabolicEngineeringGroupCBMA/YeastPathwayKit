{
 "cells": [
  {
   "cell_type": "markdown",
   "metadata": {},
   "source": [
    "# pYPKa_Z_TOM7 and pYPKa_E_TOM7\n",
    "\n",
    "This Jupyter notebook describe the construction of E. coli vectors [pYPKa_Z_TOM7](pYPKa_Z_TOM7.gb) and [pYPKa_E_TOM7](pYPKa_E_TOM7.gb). \n",
    "These two vectors share backbone and insert, but in the former, the insert is cloned using the restriction\n",
    "enzyme [ZraI](http://rebase.neb.com/rebase/enz/ZraI.html) while in the latter [EcoRV](http://rebase.neb.com/rebase/enz/EcoRV.html) is used.\n",
    "\n",
    "The insert cloned in ZraI is meant to function as a promoter, while in the EcoRV site it is meant to be  used as a terminator.\n",
    "\n",
    "Links to the sequence of each vector in Genbank format can be found at the bottom of this document.\n",
    "\n",
    "![pYPKa_Z and pYPKa_E](figure_pYPKa_ZE.png \"pYPKa_Z or pYPKa_E plasmid\")\n",
    "\n",
    "The Python package [pydna](https://pypi.python.org/pypi/pydna/) package is imported in the code cell below to provide \n",
    "the cloning functionality. There is a [publication](http://www.biomedcentral.com/1471-2105/16/142) describing pydna as well as\n",
    "[documentation](http://pydna.readthedocs.io/) available online. Pydna is developed on [Github](https://github.com/BjornFJohansson/pydna)."
   ]
  },
  {
   "cell_type": "code",
   "execution_count": 1,
   "metadata": {
    "execution": {
     "iopub.execute_input": "2021-05-17T10:28:23.252959Z",
     "iopub.status.busy": "2021-05-17T10:28:23.252211Z",
     "iopub.status.idle": "2021-05-17T10:28:23.921036Z",
     "shell.execute_reply": "2021-05-17T10:28:23.921530Z"
    }
   },
   "outputs": [],
   "source": [
    "from pydna.readers import read\n",
    "from pydna.parsers import parse_primers\n",
    "from pydna.genbank import Genbank\n",
    "from pydna.amplify import pcr\n",
    "from pydna.amplify import Anneal"
   ]
  },
  {
   "cell_type": "markdown",
   "metadata": {},
   "source": [
    "The vector backbone pYPKa is read from a local [file](pYPKa.gb)."
   ]
  },
  {
   "cell_type": "code",
   "execution_count": 2,
   "metadata": {
    "execution": {
     "iopub.execute_input": "2021-05-17T10:28:23.930813Z",
     "iopub.status.busy": "2021-05-17T10:28:23.930280Z",
     "iopub.status.idle": "2021-05-17T10:28:23.942280Z",
     "shell.execute_reply": "2021-05-17T10:28:23.942688Z"
    }
   },
   "outputs": [],
   "source": [
    "pYPKa = read(\"pYPKa.gb\")"
   ]
  },
  {
   "cell_type": "markdown",
   "metadata": {},
   "source": [
    "Both restriction enzymes are imported from [Biopython](http://biopython.org/wiki/Main_Page)"
   ]
  },
  {
   "cell_type": "code",
   "execution_count": 3,
   "metadata": {
    "execution": {
     "iopub.execute_input": "2021-05-17T10:28:23.948960Z",
     "iopub.status.busy": "2021-05-17T10:28:23.947782Z",
     "iopub.status.idle": "2021-05-17T10:28:23.952289Z",
     "shell.execute_reply": "2021-05-17T10:28:23.951539Z"
    }
   },
   "outputs": [],
   "source": [
    "from Bio.Restriction import ZraI, EcoRV"
   ]
  },
  {
   "cell_type": "markdown",
   "metadata": {},
   "source": [
    "The vector is cut with both enzymes."
   ]
  },
  {
   "cell_type": "code",
   "execution_count": 4,
   "metadata": {
    "execution": {
     "iopub.execute_input": "2021-05-17T10:28:23.960546Z",
     "iopub.status.busy": "2021-05-17T10:28:23.959740Z",
     "iopub.status.idle": "2021-05-17T10:28:23.967669Z",
     "shell.execute_reply": "2021-05-17T10:28:23.967033Z"
    }
   },
   "outputs": [],
   "source": [
    "pYPKa_ZraI  = pYPKa.linearize(ZraI)\n",
    "pYPKa_EcoRV = pYPKa.linearize(EcoRV)"
   ]
  },
  {
   "cell_type": "markdown",
   "metadata": {},
   "source": [
    "The template below comes from a Genbank [record](http://www.ncbi.nlm.nih.gov/nuccore/BK006947.3).\n",
    "Access to Genbank is needed in order to download the template.\n",
    "If you execute this script, change the email address below to your own.\n",
    "Always tell Genbank who you are, when using their web service."
   ]
  },
  {
   "cell_type": "code",
   "execution_count": 5,
   "metadata": {
    "execution": {
     "iopub.execute_input": "2021-05-17T10:28:23.971728Z",
     "iopub.status.busy": "2021-05-17T10:28:23.971200Z",
     "iopub.status.idle": "2021-05-17T10:28:23.973539Z",
     "shell.execute_reply": "2021-05-17T10:28:23.974335Z"
    }
   },
   "outputs": [],
   "source": [
    "gb = Genbank(\"bjornjobb@gmail.com\")"
   ]
  },
  {
   "cell_type": "markdown",
   "metadata": {},
   "source": [
    "The template is downloaded from Genbank below."
   ]
  },
  {
   "cell_type": "code",
   "execution_count": 6,
   "metadata": {
    "execution": {
     "iopub.execute_input": "2021-05-17T10:28:23.982717Z",
     "iopub.status.busy": "2021-05-17T10:28:23.981390Z",
     "iopub.status.idle": "2021-05-17T10:28:23.991963Z",
     "shell.execute_reply": "2021-05-17T10:28:23.992420Z"
    }
   },
   "outputs": [],
   "source": [
    "template = gb.nucleotide(\"BK006947.3 REGION: 492972..493365\")"
   ]
  },
  {
   "cell_type": "markdown",
   "metadata": {},
   "source": [
    "The template is a 394 bp linear DNA fragment."
   ]
  },
  {
   "cell_type": "code",
   "execution_count": 7,
   "metadata": {
    "execution": {
     "iopub.execute_input": "2021-05-17T10:28:24.008098Z",
     "iopub.status.busy": "2021-05-17T10:28:24.006219Z",
     "iopub.status.idle": "2021-05-17T10:28:24.010480Z",
     "shell.execute_reply": "2021-05-17T10:28:24.011899Z"
    }
   },
   "outputs": [
    {
     "data": {
      "text/html": [
       "<a href='https://www.ncbi.nlm.nih.gov/nuccore/BK006947.3 ?from=492972&to=493365&strand=1' target='_blank'>BK006947.3  492972-493365</a>"
      ],
      "text/plain": [
       "Gbank(BK006947.3  492972-493365)(-394)"
      ]
     },
     "execution_count": 1,
     "metadata": {},
     "output_type": "execute_result"
    }
   ],
   "source": [
    "template"
   ]
  },
  {
   "cell_type": "markdown",
   "metadata": {},
   "source": [
    "The insert has the sequence shown below."
   ]
  },
  {
   "cell_type": "code",
   "execution_count": 8,
   "metadata": {
    "execution": {
     "iopub.execute_input": "2021-05-17T10:28:24.016940Z",
     "iopub.status.busy": "2021-05-17T10:28:24.016295Z",
     "iopub.status.idle": "2021-05-17T10:28:24.019236Z",
     "shell.execute_reply": "2021-05-17T10:28:24.019696Z"
    }
   },
   "outputs": [
    {
     "name": "stdout",
     "output_type": "stream",
     "text": [
      "GGTTAGAATGAAAATAAAATTCGCCAGTAAATGCGTATCTTGGAGAAAATATCAATTTGTTATTTTGTATATATAAAAAATTAAAAAAAAAAAAAAAAAAATACTCAAATACTCAAATACGTATACATTATACTGAAATACTTCGCTTGTCTTCGAATCTAAATCCTCTCTCTCTTCTGTCTCAAAATGATATAAATAAATCACGTCAAACGGTGCGTCAACATCTTTGTTTTTTCACCTCATGTGGAATTGGTTGAAATTAACAAAGGAGTGGGATATAGGATATAACGCATAAAGTTTAGCATACTACTTTCGTATATTATTGTTCGGTGAAAGAAACTAGTTCCCTCTTATCTCTCAATATTTGCCAAAATTAGCTTTTAACAAATAAACC\n"
     ]
    }
   ],
   "source": [
    "print(str(template.seq))"
   ]
  },
  {
   "cell_type": "markdown",
   "metadata": {},
   "source": [
    "The seguid checksum of the template should be\n",
    "\n",
    "```4EM4fT9KxL_9RlcvKRJtLAw0doQ```"
   ]
  },
  {
   "cell_type": "code",
   "execution_count": 9,
   "metadata": {
    "execution": {
     "iopub.execute_input": "2021-05-17T10:28:24.024354Z",
     "iopub.status.busy": "2021-05-17T10:28:24.022993Z",
     "iopub.status.idle": "2021-05-17T10:28:24.032989Z",
     "shell.execute_reply": "2021-05-17T10:28:24.033643Z"
    }
   },
   "outputs": [
    {
     "data": {
      "text/plain": [
       "4EM4fT9KxL_9RlcvKRJtLAw0doQ"
      ]
     },
     "execution_count": 1,
     "metadata": {},
     "output_type": "execute_result"
    }
   ],
   "source": [
    "template.seguid()"
   ]
  },
  {
   "cell_type": "markdown",
   "metadata": {},
   "source": [
    "Two primers are used to amplify the insert:"
   ]
  },
  {
   "cell_type": "code",
   "execution_count": 10,
   "metadata": {
    "execution": {
     "iopub.execute_input": "2021-05-17T10:28:24.038689Z",
     "iopub.status.busy": "2021-05-17T10:28:24.038119Z",
     "iopub.status.idle": "2021-05-17T10:28:24.042495Z",
     "shell.execute_reply": "2021-05-17T10:28:24.041706Z"
    }
   },
   "outputs": [],
   "source": [
    "fp,rp = parse_primers(\"\"\">992_fw394\n",
    "                         ttaaatGGTTAGAATGAAAATAAAATTC\n",
    "                         >991_rv394\n",
    "                         taattaaGGTTTATTTGTTAAAAGCTAAT\"\"\")"
   ]
  },
  {
   "cell_type": "markdown",
   "metadata": {},
   "source": [
    "PCR to create the insert using the primers above."
   ]
  },
  {
   "cell_type": "code",
   "execution_count": 11,
   "metadata": {
    "execution": {
     "iopub.execute_input": "2021-05-17T10:28:24.050637Z",
     "iopub.status.busy": "2021-05-17T10:28:24.047604Z",
     "iopub.status.idle": "2021-05-17T10:28:24.054980Z",
     "shell.execute_reply": "2021-05-17T10:28:24.055550Z"
    }
   },
   "outputs": [],
   "source": [
    "prd = pcr(fp, rp, template)\n",
    "assert str(fp.seq) in prd"
   ]
  },
  {
   "cell_type": "markdown",
   "metadata": {},
   "source": [
    "The PCR product has this length in bp."
   ]
  },
  {
   "cell_type": "code",
   "execution_count": 12,
   "metadata": {
    "execution": {
     "iopub.execute_input": "2021-05-17T10:28:24.062609Z",
     "iopub.status.busy": "2021-05-17T10:28:24.061430Z",
     "iopub.status.idle": "2021-05-17T10:28:24.065310Z",
     "shell.execute_reply": "2021-05-17T10:28:24.066411Z"
    }
   },
   "outputs": [
    {
     "data": {
      "text/plain": [
       "407"
      ]
     },
     "execution_count": 1,
     "metadata": {},
     "output_type": "execute_result"
    }
   ],
   "source": [
    "len(prd)"
   ]
  },
  {
   "cell_type": "markdown",
   "metadata": {},
   "source": [
    "A figure of the primers annealing on template."
   ]
  },
  {
   "cell_type": "code",
   "execution_count": 13,
   "metadata": {
    "execution": {
     "iopub.execute_input": "2021-05-17T10:28:24.072186Z",
     "iopub.status.busy": "2021-05-17T10:28:24.071494Z",
     "iopub.status.idle": "2021-05-17T10:28:24.077679Z",
     "shell.execute_reply": "2021-05-17T10:28:24.078282Z"
    }
   },
   "outputs": [
    {
     "data": {
      "text/plain": [
       "      5GGTTAGAATGAAAATAAAATTC...ATTAGCTTTTAACAAATAAACC3\n",
       "                                ||||||||||||||||||||||\n",
       "                               3TAATCGAAAATTGTTTATTTGGaattaat5\n",
       "5ttaaatGGTTAGAATGAAAATAAAATTC3\n",
       "       ||||||||||||||||||||||\n",
       "      3CCAATCTTACTTTTATTTTAAG...TAATCGAAAATTGTTTATTTGG5"
      ]
     },
     "execution_count": 1,
     "metadata": {},
     "output_type": "execute_result"
    }
   ],
   "source": [
    "prd.figure()"
   ]
  },
  {
   "cell_type": "markdown",
   "metadata": {},
   "source": [
    "A suggested PCR program."
   ]
  },
  {
   "cell_type": "code",
   "execution_count": 14,
   "metadata": {
    "execution": {
     "iopub.execute_input": "2021-05-17T10:28:24.083760Z",
     "iopub.status.busy": "2021-05-17T10:28:24.083119Z",
     "iopub.status.idle": "2021-05-17T10:28:24.086219Z",
     "shell.execute_reply": "2021-05-17T10:28:24.086645Z"
    }
   },
   "outputs": [
    {
     "data": {
      "text/plain": [
       "|95°C|95°C               |    |tmf:50.5\n",
       "|____|_____          72°C|72°C|tmr:52.6\n",
       "|5min|30s  \\ 49.0°C _____|____|60s/kb\n",
       "|    |      \\______/ 0:24|5min|GC 28%\n",
       "|    |       30s         |    |407bp"
      ]
     },
     "execution_count": 1,
     "metadata": {},
     "output_type": "execute_result"
    }
   ],
   "source": [
    "prd.program()"
   ]
  },
  {
   "cell_type": "markdown",
   "metadata": {},
   "source": [
    "The final vectors are:"
   ]
  },
  {
   "cell_type": "code",
   "execution_count": 15,
   "metadata": {
    "execution": {
     "iopub.execute_input": "2021-05-17T10:28:24.146156Z",
     "iopub.status.busy": "2021-05-17T10:28:24.110263Z",
     "iopub.status.idle": "2021-05-17T10:28:24.655689Z",
     "shell.execute_reply": "2021-05-17T10:28:24.655155Z"
    }
   },
   "outputs": [],
   "source": [
    "pYPKa_Z_TOM7 = (pYPKa_ZraI  + prd).looped().synced(pYPKa)\n",
    "pYPKa_E_TOM7 = (pYPKa_EcoRV + prd).looped().synced(pYPKa)"
   ]
  },
  {
   "cell_type": "markdown",
   "metadata": {},
   "source": [
    "The final vectors with reverse inserts are created below. These vectors theoretically make up\n",
    "fifty percent of the clones. The PCR strategy outlined below can be used to identify clones with the insert\n",
    "in the correct orientation."
   ]
  },
  {
   "cell_type": "code",
   "execution_count": 16,
   "metadata": {
    "execution": {
     "iopub.execute_input": "2021-05-17T10:28:24.731272Z",
     "iopub.status.busy": "2021-05-17T10:28:24.695247Z",
     "iopub.status.idle": "2021-05-17T10:28:25.227286Z",
     "shell.execute_reply": "2021-05-17T10:28:25.226361Z"
    }
   },
   "outputs": [],
   "source": [
    "pYPKa_Z_TOM7b = (pYPKa_ZraI  + prd.rc()).looped().synced(pYPKa)\n",
    "pYPKa_E_TOM7b = (pYPKa_EcoRV + prd.rc()).looped().synced(pYPKa)"
   ]
  },
  {
   "cell_type": "markdown",
   "metadata": {},
   "source": [
    "A combination of yeast pathway kit standard primers and the primers above are\n",
    "used for the strategy to identify correct clones.\n",
    "Standard primers used in the yeast are listed [here](standard_primers.txt)."
   ]
  },
  {
   "cell_type": "code",
   "execution_count": 17,
   "metadata": {
    "execution": {
     "iopub.execute_input": "2021-05-17T10:28:25.232946Z",
     "iopub.status.busy": "2021-05-17T10:28:25.232486Z",
     "iopub.status.idle": "2021-05-17T10:28:25.235313Z",
     "shell.execute_reply": "2021-05-17T10:28:25.234864Z"
    }
   },
   "outputs": [],
   "source": [
    "p = { x.id: x for x in parse_primers(\"\"\">577\n",
    "                                         gttctgatcctcgagcatcttaagaattc\n",
    "                                         >578\n",
    "                                         gttcttgtctcattgccacattcataagt\n",
    "                                         >468\n",
    "                                         gtcgaggaacgccaggttgcccact\n",
    "                                         >467\n",
    "                                         ATTTAAatcctgatgcgtttgtctgcacaga\n",
    "                                         >567\n",
    "                                         GTcggctgcaggtcactagtgag\n",
    "                                         >568\n",
    "                                         GTGCcatctgtgcagacaaacg\n",
    "                                         >775\n",
    "                                         gcggccgctgacTTAAAT\n",
    "                                         >778\n",
    "                                         ggtaaatccggatTAATTAA\n",
    "                                         >342\n",
    "                                         CCTTTTTACGGTTCCTGGCCT\"\"\") }"
   ]
  },
  {
   "cell_type": "markdown",
   "metadata": {},
   "source": [
    "## Diagnostic PCR confirmation\n",
    "\n",
    "The correct structure of pYPKa_Z_TOM7 is confirmed by PCR using standard primers\n",
    "577 and 342 that are vector specific together with the TOM7fw primer specific for the insert\n",
    "in a multiplex PCR reaction with\n",
    "all three primers present.\n",
    "\n",
    "Two PCR products are expected if the insert was cloned, the sizes depend\n",
    "on the orientation. If the vector is empty or contains another insert, only one\n",
    "product is formed.\n",
    "\n",
    "#### Expected PCR products sizes from pYPKa_Z_TOM7:\n",
    "\n",
    "pYPKa_Z_TOM7 with insert in correct orientation."
   ]
  },
  {
   "cell_type": "code",
   "execution_count": 18,
   "metadata": {
    "execution": {
     "iopub.execute_input": "2021-05-17T10:28:25.251147Z",
     "iopub.status.busy": "2021-05-17T10:28:25.250210Z",
     "iopub.status.idle": "2021-05-17T10:28:25.253400Z",
     "shell.execute_reply": "2021-05-17T10:28:25.253856Z"
    }
   },
   "outputs": [
    {
     "data": {
      "text/plain": [
       "[Amplicon(1341), Amplicon(1173)]"
      ]
     },
     "execution_count": 1,
     "metadata": {},
     "output_type": "execute_result"
    }
   ],
   "source": [
    "Anneal( (p['577'], p['342'], fp), pYPKa_Z_TOM7).products"
   ]
  },
  {
   "cell_type": "markdown",
   "metadata": {},
   "source": [
    "pYPKa_Z_TOM7 with insert in reverse orientation."
   ]
  },
  {
   "cell_type": "code",
   "execution_count": 19,
   "metadata": {
    "execution": {
     "iopub.execute_input": "2021-05-17T10:28:25.267090Z",
     "iopub.status.busy": "2021-05-17T10:28:25.262153Z",
     "iopub.status.idle": "2021-05-17T10:28:25.270711Z",
     "shell.execute_reply": "2021-05-17T10:28:25.271318Z"
    }
   },
   "outputs": [
    {
     "data": {
      "text/plain": [
       "[Amplicon(1341), Amplicon(575)]"
      ]
     },
     "execution_count": 1,
     "metadata": {},
     "output_type": "execute_result"
    }
   ],
   "source": [
    "Anneal( (p['577'], p['342'], fp), pYPKa_Z_TOM7b).products"
   ]
  },
  {
   "cell_type": "markdown",
   "metadata": {},
   "source": [
    "Empty pYPKa clone."
   ]
  },
  {
   "cell_type": "code",
   "execution_count": 20,
   "metadata": {
    "execution": {
     "iopub.execute_input": "2021-05-17T10:28:25.284529Z",
     "iopub.status.busy": "2021-05-17T10:28:25.283769Z",
     "iopub.status.idle": "2021-05-17T10:28:25.286782Z",
     "shell.execute_reply": "2021-05-17T10:28:25.287278Z"
    }
   },
   "outputs": [
    {
     "data": {
      "text/plain": [
       "[Amplicon(934)]"
      ]
     },
     "execution_count": 1,
     "metadata": {},
     "output_type": "execute_result"
    }
   ],
   "source": [
    "Anneal( (p['577'], p['342'], fp), pYPKa).products"
   ]
  },
  {
   "cell_type": "markdown",
   "metadata": {},
   "source": [
    "#### Expected PCR products sizes pYPKa_E_TOM7:\n",
    "\n",
    "pYPKa_E_TOM7 with insert in correct orientation."
   ]
  },
  {
   "cell_type": "code",
   "execution_count": 21,
   "metadata": {
    "execution": {
     "iopub.execute_input": "2021-05-17T10:28:25.301605Z",
     "iopub.status.busy": "2021-05-17T10:28:25.300548Z",
     "iopub.status.idle": "2021-05-17T10:28:25.303356Z",
     "shell.execute_reply": "2021-05-17T10:28:25.303795Z"
    }
   },
   "outputs": [
    {
     "data": {
      "text/plain": [
       "[Amplicon(1341), Amplicon(1092)]"
      ]
     },
     "execution_count": 1,
     "metadata": {},
     "output_type": "execute_result"
    }
   ],
   "source": [
    "Anneal( (p['577'], p['342'], fp), pYPKa_E_TOM7).products"
   ]
  },
  {
   "cell_type": "markdown",
   "metadata": {},
   "source": [
    "pYPKa_E_TOM7 with insert in reverse orientation."
   ]
  },
  {
   "cell_type": "code",
   "execution_count": 22,
   "metadata": {
    "execution": {
     "iopub.execute_input": "2021-05-17T10:28:25.312406Z",
     "iopub.status.busy": "2021-05-17T10:28:25.311669Z",
     "iopub.status.idle": "2021-05-17T10:28:25.318609Z",
     "shell.execute_reply": "2021-05-17T10:28:25.318151Z"
    }
   },
   "outputs": [
    {
     "data": {
      "text/plain": [
       "[Amplicon(1341), Amplicon(656)]"
      ]
     },
     "execution_count": 1,
     "metadata": {},
     "output_type": "execute_result"
    }
   ],
   "source": [
    "Anneal( (p['577'], p['342'], fp), pYPKa_E_TOM7b).products\n"
   ]
  },
  {
   "cell_type": "markdown",
   "metadata": {},
   "source": [
    "Calculate cseguid checksums for the resulting plasmids for future reference.\n",
    "This checksum that uniquely describes a circular double stranded\n",
    "sequence. See this [blog post](https://ochsavidare.blogspot.com/2016/02/checksum-for-circular-biological.html) for more info.\n",
    "\n",
    "pYPKa_Z_TOM7.cseguid() should be FAWEfhYhV3EeXAm_izfd47OcZx0"
   ]
  },
  {
   "cell_type": "code",
   "execution_count": 23,
   "metadata": {
    "execution": {
     "iopub.execute_input": "2021-05-17T10:28:25.331993Z",
     "iopub.status.busy": "2021-05-17T10:28:25.331444Z",
     "iopub.status.idle": "2021-05-17T10:28:25.333812Z",
     "shell.execute_reply": "2021-05-17T10:28:25.334242Z"
    }
   },
   "outputs": [
    {
     "name": "stdout",
     "output_type": "stream",
     "text": [
      "FAWEfhYhV3EeXAm_izfd47OcZx0\n"
     ]
    }
   ],
   "source": [
    "print(pYPKa_Z_TOM7.cseguid())\n",
    "assert pYPKa_Z_TOM7.cseguid() == \"FAWEfhYhV3EeXAm_izfd47OcZx0\""
   ]
  },
  {
   "cell_type": "markdown",
   "metadata": {},
   "source": [
    "pYPKa_E_TOM7.cseguid() should be wqfVn1c3vyBG18YkVO46eCCgO0o"
   ]
  },
  {
   "cell_type": "code",
   "execution_count": 24,
   "metadata": {
    "execution": {
     "iopub.execute_input": "2021-05-17T10:28:25.344731Z",
     "iopub.status.busy": "2021-05-17T10:28:25.343982Z",
     "iopub.status.idle": "2021-05-17T10:28:25.350100Z",
     "shell.execute_reply": "2021-05-17T10:28:25.349487Z"
    }
   },
   "outputs": [
    {
     "name": "stdout",
     "output_type": "stream",
     "text": [
      "wqfVn1c3vyBG18YkVO46eCCgO0o\n"
     ]
    }
   ],
   "source": [
    "print(pYPKa_E_TOM7.cseguid())\n",
    "assert pYPKa_E_TOM7.cseguid() == \"wqfVn1c3vyBG18YkVO46eCCgO0o\""
   ]
  },
  {
   "cell_type": "markdown",
   "metadata": {},
   "source": [
    "The sequences are named based on the name of the cloned insert."
   ]
  },
  {
   "cell_type": "code",
   "execution_count": 25,
   "metadata": {
    "execution": {
     "iopub.execute_input": "2021-05-17T10:28:25.355128Z",
     "iopub.status.busy": "2021-05-17T10:28:25.354377Z",
     "iopub.status.idle": "2021-05-17T10:28:25.357120Z",
     "shell.execute_reply": "2021-05-17T10:28:25.358369Z"
    }
   },
   "outputs": [],
   "source": [
    "pYPKa_Z_TOM7.locus = \"pYPKa_Z_TOM7\"[:16]\n",
    "pYPKa_E_TOM7.locus = \"pYPKa_Z_TOM7\"[:16]"
   ]
  },
  {
   "cell_type": "markdown",
   "metadata": {},
   "source": [
    "Stamp sequence with cseguid checksum. This can be used to verify the\n",
    "integrity of the sequence file."
   ]
  },
  {
   "cell_type": "code",
   "execution_count": 26,
   "metadata": {
    "execution": {
     "iopub.execute_input": "2021-05-17T10:28:25.369399Z",
     "iopub.status.busy": "2021-05-17T10:28:25.368852Z",
     "iopub.status.idle": "2021-05-17T10:28:25.372020Z",
     "shell.execute_reply": "2021-05-17T10:28:25.371484Z"
    }
   },
   "outputs": [
    {
     "data": {
      "text/plain": [
       "cSEGUID_wqfVn1c3vyBG18YkVO46eCCgO0o"
      ]
     },
     "execution_count": 1,
     "metadata": {},
     "output_type": "execute_result"
    }
   ],
   "source": [
    "pYPKa_Z_TOM7.stamp()\n",
    "pYPKa_E_TOM7.stamp()"
   ]
  },
  {
   "cell_type": "markdown",
   "metadata": {},
   "source": [
    "pYPKa_Z_TOM7 is written to a local file:"
   ]
  },
  {
   "cell_type": "code",
   "execution_count": 27,
   "metadata": {
    "execution": {
     "iopub.execute_input": "2021-05-17T10:28:25.383601Z",
     "iopub.status.busy": "2021-05-17T10:28:25.376518Z",
     "iopub.status.idle": "2021-05-17T10:28:25.387639Z",
     "shell.execute_reply": "2021-05-17T10:28:25.388137Z"
    }
   },
   "outputs": [
    {
     "data": {
      "text/html": [
       "<font face=monospace><a href='pYPKa_Z_TOM7.gb' target='_blank'>pYPKa_Z_TOM7.gb</a></font><br>"
      ]
     },
     "metadata": {},
     "output_type": "display_data"
    }
   ],
   "source": [
    "pYPKa_Z_TOM7.write(\"pYPKa_Z_TOM7.gb\")"
   ]
  },
  {
   "cell_type": "markdown",
   "metadata": {},
   "source": [
    "pYPKa_E_TOM7 is written to a local file:"
   ]
  },
  {
   "cell_type": "code",
   "execution_count": 28,
   "metadata": {
    "execution": {
     "iopub.execute_input": "2021-05-17T10:28:25.398842Z",
     "iopub.status.busy": "2021-05-17T10:28:25.392629Z",
     "iopub.status.idle": "2021-05-17T10:28:25.400268Z",
     "shell.execute_reply": "2021-05-17T10:28:25.400716Z"
    }
   },
   "outputs": [
    {
     "data": {
      "text/html": [
       "<font face=monospace><a href='pYPKa_E_TOM7.gb' target='_blank'>pYPKa_E_TOM7.gb</a></font><br>"
      ]
     },
     "metadata": {},
     "output_type": "display_data"
    }
   ],
   "source": [
    "pYPKa_E_TOM7.write(\"pYPKa_E_TOM7.gb\")"
   ]
  }
 ],
 "metadata": {
  "language_info": {
   "codemirror_mode": {
    "name": "ipython",
    "version": 3
   },
   "file_extension": ".py",
   "mimetype": "text/x-python",
   "name": "python",
   "nbconvert_exporter": "python",
   "pygments_lexer": "ipython3",
   "version": "3.9.0"
  }
 },
 "nbformat": 4,
 "nbformat_minor": 2
}
