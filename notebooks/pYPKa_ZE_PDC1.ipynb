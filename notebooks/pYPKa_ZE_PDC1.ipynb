{
 "cells": [
  {
   "cell_type": "markdown",
   "metadata": {},
   "source": [
    "# pYPKa_Z_PDC1 and pYPKa_E_PDC1\n",
    "\n",
    "This Jupyter notebook describe the construction of E. coli vectors [pYPKa_Z_PDC1](pYPKa_Z_PDC1.gb) and [pYPKa_E_PDC1](pYPKa_E_PDC1.gb). \n",
    "These two vectors share backbone and insert, but in the former, the insert is cloned using the restriction\n",
    "enzyme [ZraI](http://rebase.neb.com/rebase/enz/ZraI.html) while in the latter [EcoRV](http://rebase.neb.com/rebase/enz/EcoRV.html) is used.\n",
    "\n",
    "The insert cloned in ZraI is meant to function as a promoter, while in the EcoRV site it is meant to be  used as a terminator.\n",
    "\n",
    "Links to the sequence of each vector in Genbank format can be found at the bottom of this document.\n",
    "\n",
    "![pYPKa_Z and pYPKa_E](figure_pYPKa_ZE.png \"pYPKa_Z or pYPKa_E plasmid\")\n",
    "\n",
    "The Python package [pydna](https://pypi.python.org/pypi/pydna/) package is imported in the code cell below to provide \n",
    "the cloning functionality. There is a [publication](http://www.biomedcentral.com/1471-2105/16/142) describing pydna as well as\n",
    "[documentation](http://pydna.readthedocs.io/) available online. Pydna is developed on [Github](https://github.com/BjornFJohansson/pydna)."
   ]
  },
  {
   "cell_type": "code",
   "execution_count": 1,
   "metadata": {
    "execution": {
     "iopub.execute_input": "2021-05-17T10:25:55.322305Z",
     "iopub.status.busy": "2021-05-17T10:25:55.319875Z",
     "iopub.status.idle": "2021-05-17T10:25:55.825917Z",
     "shell.execute_reply": "2021-05-17T10:25:55.826434Z"
    }
   },
   "outputs": [],
   "source": [
    "from pydna.readers import read\n",
    "from pydna.parsers import parse_primers\n",
    "from pydna.genbank import Genbank\n",
    "from pydna.amplify import pcr\n",
    "from pydna.amplify import Anneal"
   ]
  },
  {
   "cell_type": "markdown",
   "metadata": {},
   "source": [
    "The vector backbone pYPKa is read from a local [file](pYPKa.gb)."
   ]
  },
  {
   "cell_type": "code",
   "execution_count": 2,
   "metadata": {
    "execution": {
     "iopub.execute_input": "2021-05-17T10:25:55.835638Z",
     "iopub.status.busy": "2021-05-17T10:25:55.834236Z",
     "iopub.status.idle": "2021-05-17T10:25:55.845468Z",
     "shell.execute_reply": "2021-05-17T10:25:55.846294Z"
    }
   },
   "outputs": [],
   "source": [
    "pYPKa = read(\"pYPKa.gb\")"
   ]
  },
  {
   "cell_type": "markdown",
   "metadata": {},
   "source": [
    "Both restriction enzymes are imported from [Biopython](http://biopython.org/wiki/Main_Page)"
   ]
  },
  {
   "cell_type": "code",
   "execution_count": 3,
   "metadata": {
    "execution": {
     "iopub.execute_input": "2021-05-17T10:25:55.856006Z",
     "iopub.status.busy": "2021-05-17T10:25:55.854335Z",
     "iopub.status.idle": "2021-05-17T10:25:55.856731Z",
     "shell.execute_reply": "2021-05-17T10:25:55.857323Z"
    }
   },
   "outputs": [],
   "source": [
    "from Bio.Restriction import ZraI, EcoRV"
   ]
  },
  {
   "cell_type": "markdown",
   "metadata": {},
   "source": [
    "The vector is cut with both enzymes."
   ]
  },
  {
   "cell_type": "code",
   "execution_count": 4,
   "metadata": {
    "execution": {
     "iopub.execute_input": "2021-05-17T10:25:55.865449Z",
     "iopub.status.busy": "2021-05-17T10:25:55.864499Z",
     "iopub.status.idle": "2021-05-17T10:25:55.867537Z",
     "shell.execute_reply": "2021-05-17T10:25:55.866929Z"
    }
   },
   "outputs": [],
   "source": [
    "pYPKa_ZraI  = pYPKa.linearize(ZraI)\n",
    "pYPKa_EcoRV = pYPKa.linearize(EcoRV)"
   ]
  },
  {
   "cell_type": "markdown",
   "metadata": {},
   "source": [
    "The template below comes from a Genbank [record](http://www.ncbi.nlm.nih.gov/nuccore/BK006945.2).\n",
    "Access to Genbank is needed in order to download the template.\n",
    "If you execute this script, change the email address below to your own.\n",
    "Always tell Genbank who you are, when using their web service."
   ]
  },
  {
   "cell_type": "code",
   "execution_count": 5,
   "metadata": {
    "execution": {
     "iopub.execute_input": "2021-05-17T10:25:55.872996Z",
     "iopub.status.busy": "2021-05-17T10:25:55.872144Z",
     "iopub.status.idle": "2021-05-17T10:25:55.875475Z",
     "shell.execute_reply": "2021-05-17T10:25:55.874841Z"
    }
   },
   "outputs": [],
   "source": [
    "gb = Genbank(\"bjornjobb@gmail.com\")"
   ]
  },
  {
   "cell_type": "markdown",
   "metadata": {},
   "source": [
    "The template is downloaded from Genbank below."
   ]
  },
  {
   "cell_type": "code",
   "execution_count": 6,
   "metadata": {
    "execution": {
     "iopub.execute_input": "2021-05-17T10:25:55.880452Z",
     "iopub.status.busy": "2021-05-17T10:25:55.879834Z",
     "iopub.status.idle": "2021-05-17T10:25:55.890853Z",
     "shell.execute_reply": "2021-05-17T10:25:55.890190Z"
    }
   },
   "outputs": [],
   "source": [
    "template = gb.nucleotide(\"BK006945.2 REGION: complement(234082..235036)\")"
   ]
  },
  {
   "cell_type": "markdown",
   "metadata": {},
   "source": [
    "The template is a 955 bp linear DNA fragment."
   ]
  },
  {
   "cell_type": "code",
   "execution_count": 7,
   "metadata": {
    "execution": {
     "iopub.execute_input": "2021-05-17T10:25:55.901350Z",
     "iopub.status.busy": "2021-05-17T10:25:55.900771Z",
     "iopub.status.idle": "2021-05-17T10:25:55.903513Z",
     "shell.execute_reply": "2021-05-17T10:25:55.903941Z"
    }
   },
   "outputs": [
    {
     "data": {
      "text/html": [
       "<a href='https://www.ncbi.nlm.nih.gov/nuccore/BK006945.2 ?from=234082&to=235036&strand=2' target='_blank'>BK006945.2  234082-235036</a>"
      ],
      "text/plain": [
       "Gbank(BK006945.2  234082-235036)(-955)"
      ]
     },
     "execution_count": 1,
     "metadata": {},
     "output_type": "execute_result"
    }
   ],
   "source": [
    "template"
   ]
  },
  {
   "cell_type": "markdown",
   "metadata": {},
   "source": [
    "The insert has the sequence shown below."
   ]
  },
  {
   "cell_type": "code",
   "execution_count": 8,
   "metadata": {
    "execution": {
     "iopub.execute_input": "2021-05-17T10:25:55.907606Z",
     "iopub.status.busy": "2021-05-17T10:25:55.906993Z",
     "iopub.status.idle": "2021-05-17T10:25:55.909673Z",
     "shell.execute_reply": "2021-05-17T10:25:55.910098Z"
    }
   },
   "outputs": [
    {
     "name": "stdout",
     "output_type": "stream",
     "text": [
      "AGGGTAGCCTCCCCATAACATAAACTCAATAAAATATATAGTCTTCAACTTGAAAAAGGAACAAGCTCATGCAAAGAGGTGGTACCCGCACGCCGAAATGCATGCAAGTAACCTATTCAAAGTAATATCTCATACATGTTTCATGAGGGTAACAACATGCGACTGGGTGAGCATATGTTCCGCTGATGTGATGTGCAAGATAAACAAGCAAGGCAGAAACTAACTTCTTCTTCATGTAATAAACACACCCCGCGTTTATTTACCTATCTCTAAACTTCAACACCTTATATCATAACTAATATTTCTTGAGATAAGCACACTGCACCCATACCTTCCTTAAAAACGTAGCTTCCAGTTTTTGGTGGTTCCGGCTTCCTTCCCGATTCCGCCCGCTAAACGCATATTTTTGTTGCCTGGTGGCATTTGCAAAATGCATAACCTATGCATTTAAAAGATTATGTATGCTCTTCTGACTTTTCGTGTGATGAGGCTCGTGGAAAAAATGAATAATTTATGAATTTGAGAACAATTTTGTGTTGTTACGGTATTTTACTATGGAATAATCAATCAATTGAGGATTTTATGCAAATATCGTTTGAATATTTTTCCGACCCTTTGAGTACTTTTCTTCATAATTGCATAATATTGTCCGCTGCCCCTTTTTCTGTTAGACGGTGTCTTGATCTACTTGCTATCGTTCAACACCACCTTATTTTCTAACTATTTTTTTTTTAGCTCATTTGAATCAGCTTATGGTGATGGCACATTTTTGCATAAACCTAGCTGTCCTCGTTGAACATAGGAAAAAAAAATATATAAACAAGGCTCTTTCACTCTCCTTGCAATCAGATTTGGGTTTGTTCCCTTTATTTTCATATTTCTTGTCATATTCCTTTCTCAATTATTATTTTCTACTCATAACCTCACGCAAAATAACACAGTCAAATCAATCAAA\n"
     ]
    }
   ],
   "source": [
    "print(str(template.seq))"
   ]
  },
  {
   "cell_type": "markdown",
   "metadata": {},
   "source": [
    "The seguid checksum of the template should be\n",
    "\n",
    "```hkhP46T3bzNGN9KmoUtxq3MJFy8```"
   ]
  },
  {
   "cell_type": "code",
   "execution_count": 9,
   "metadata": {
    "execution": {
     "iopub.execute_input": "2021-05-17T10:25:55.915364Z",
     "iopub.status.busy": "2021-05-17T10:25:55.914308Z",
     "iopub.status.idle": "2021-05-17T10:25:55.918092Z",
     "shell.execute_reply": "2021-05-17T10:25:55.918759Z"
    }
   },
   "outputs": [
    {
     "data": {
      "text/plain": [
       "hkhP46T3bzNGN9KmoUtxq3MJFy8"
      ]
     },
     "execution_count": 1,
     "metadata": {},
     "output_type": "execute_result"
    }
   ],
   "source": [
    "template.seguid()"
   ]
  },
  {
   "cell_type": "markdown",
   "metadata": {},
   "source": [
    "Two primers are used to amplify the insert:"
   ]
  },
  {
   "cell_type": "code",
   "execution_count": 10,
   "metadata": {
    "execution": {
     "iopub.execute_input": "2021-05-17T10:25:55.924433Z",
     "iopub.status.busy": "2021-05-17T10:25:55.923567Z",
     "iopub.status.idle": "2021-05-17T10:25:55.926977Z",
     "shell.execute_reply": "2021-05-17T10:25:55.926330Z"
    }
   },
   "outputs": [],
   "source": [
    "fp,rp = parse_primers(\"\"\">413_ScPDC1tpf\n",
    "                         TTAAATAAGGGTAGCCTCCCCATA\n",
    "                         >625_ScPDC1tpr_PacI\n",
    "                         taattaaTTTGATTGATTTGACTGTGTTATTTTG\"\"\")"
   ]
  },
  {
   "cell_type": "markdown",
   "metadata": {},
   "source": [
    "PCR to create the insert using the primers above."
   ]
  },
  {
   "cell_type": "code",
   "execution_count": 11,
   "metadata": {
    "execution": {
     "iopub.execute_input": "2021-05-17T10:25:55.933938Z",
     "iopub.status.busy": "2021-05-17T10:25:55.932981Z",
     "iopub.status.idle": "2021-05-17T10:25:55.938303Z",
     "shell.execute_reply": "2021-05-17T10:25:55.937762Z"
    }
   },
   "outputs": [],
   "source": [
    "prd = pcr(fp, rp, template)\n",
    "assert str(fp.seq) in prd"
   ]
  },
  {
   "cell_type": "markdown",
   "metadata": {},
   "source": [
    "The PCR product has this length in bp."
   ]
  },
  {
   "cell_type": "code",
   "execution_count": 12,
   "metadata": {
    "execution": {
     "iopub.execute_input": "2021-05-17T10:25:55.942698Z",
     "iopub.status.busy": "2021-05-17T10:25:55.941943Z",
     "iopub.status.idle": "2021-05-17T10:25:55.944974Z",
     "shell.execute_reply": "2021-05-17T10:25:55.945502Z"
    }
   },
   "outputs": [
    {
     "data": {
      "text/plain": [
       "969"
      ]
     },
     "execution_count": 1,
     "metadata": {},
     "output_type": "execute_result"
    }
   ],
   "source": [
    "len(prd)"
   ]
  },
  {
   "cell_type": "markdown",
   "metadata": {},
   "source": [
    "A figure of the primers annealing on template."
   ]
  },
  {
   "cell_type": "code",
   "execution_count": 13,
   "metadata": {
    "execution": {
     "iopub.execute_input": "2021-05-17T10:25:55.949818Z",
     "iopub.status.busy": "2021-05-17T10:25:55.949071Z",
     "iopub.status.idle": "2021-05-17T10:25:55.952327Z",
     "shell.execute_reply": "2021-05-17T10:25:55.952931Z"
    }
   },
   "outputs": [
    {
     "data": {
      "text/plain": [
       "       5AGGGTAGCCTCCCCATA...CAAAATAACACAGTCAAATCAATCAAA3\n",
       "                            |||||||||||||||||||||||||||\n",
       "                           3GTTTTATTGTGTCAGTTTAGTTAGTTTaattaat5\n",
       "5TTAAATAAGGGTAGCCTCCCCATA3\n",
       "        |||||||||||||||||\n",
       "       3TCCCATCGGAGGGGTAT...GTTTTATTGTGTCAGTTTAGTTAGTTT5"
      ]
     },
     "execution_count": 1,
     "metadata": {},
     "output_type": "execute_result"
    }
   ],
   "source": [
    "prd.figure()"
   ]
  },
  {
   "cell_type": "markdown",
   "metadata": {},
   "source": [
    "A suggested PCR program."
   ]
  },
  {
   "cell_type": "code",
   "execution_count": 14,
   "metadata": {
    "execution": {
     "iopub.execute_input": "2021-05-17T10:25:55.958797Z",
     "iopub.status.busy": "2021-05-17T10:25:55.957877Z",
     "iopub.status.idle": "2021-05-17T10:25:55.961394Z",
     "shell.execute_reply": "2021-05-17T10:25:55.962015Z"
    }
   },
   "outputs": [
    {
     "data": {
      "text/plain": [
       "|95°C|95°C               |    |tmf:66.2\n",
       "|____|_____          72°C|72°C|tmr:57.8\n",
       "|5min|30s  \\ 54.0°C _____|____|60s/kb\n",
       "|    |      \\______/ 0:58|5min|GC 35%\n",
       "|    |       30s         |    |969bp"
      ]
     },
     "execution_count": 1,
     "metadata": {},
     "output_type": "execute_result"
    }
   ],
   "source": [
    "prd.program()"
   ]
  },
  {
   "cell_type": "markdown",
   "metadata": {},
   "source": [
    "The final vectors are:"
   ]
  },
  {
   "cell_type": "code",
   "execution_count": 15,
   "metadata": {
    "execution": {
     "iopub.execute_input": "2021-05-17T10:25:56.001485Z",
     "iopub.status.busy": "2021-05-17T10:25:55.981088Z",
     "iopub.status.idle": "2021-05-17T10:25:56.460834Z",
     "shell.execute_reply": "2021-05-17T10:25:56.460255Z"
    }
   },
   "outputs": [],
   "source": [
    "pYPKa_Z_PDC1 = (pYPKa_ZraI  + prd).looped().synced(pYPKa)\n",
    "pYPKa_E_PDC1 = (pYPKa_EcoRV + prd).looped().synced(pYPKa)"
   ]
  },
  {
   "cell_type": "markdown",
   "metadata": {},
   "source": [
    "The final vectors with reverse inserts are created below. These vectors theoretically make up\n",
    "fifty percent of the clones. The PCR strategy outlined below can be used to identify clones with the insert\n",
    "in the correct orientation."
   ]
  },
  {
   "cell_type": "code",
   "execution_count": 16,
   "metadata": {
    "execution": {
     "iopub.execute_input": "2021-05-17T10:25:56.478669Z",
     "iopub.status.busy": "2021-05-17T10:25:56.473775Z",
     "iopub.status.idle": "2021-05-17T10:25:57.010811Z",
     "shell.execute_reply": "2021-05-17T10:25:57.011261Z"
    }
   },
   "outputs": [],
   "source": [
    "pYPKa_Z_PDC1b = (pYPKa_ZraI  + prd.rc()).looped().synced(pYPKa)\n",
    "pYPKa_E_PDC1b = (pYPKa_EcoRV + prd.rc()).looped().synced(pYPKa)"
   ]
  },
  {
   "cell_type": "markdown",
   "metadata": {},
   "source": [
    "A combination of yeast pathway kit standard primers and the primers above are\n",
    "used for the strategy to identify correct clones.\n",
    "Standard primers used in the yeast are listed [here](standard_primers.txt)."
   ]
  },
  {
   "cell_type": "code",
   "execution_count": 17,
   "metadata": {
    "execution": {
     "iopub.execute_input": "2021-05-17T10:25:57.016164Z",
     "iopub.status.busy": "2021-05-17T10:25:57.015357Z",
     "iopub.status.idle": "2021-05-17T10:25:57.017689Z",
     "shell.execute_reply": "2021-05-17T10:25:57.018177Z"
    }
   },
   "outputs": [],
   "source": [
    "p = { x.id: x for x in parse_primers(\"\"\">577\n",
    "                                         gttctgatcctcgagcatcttaagaattc\n",
    "                                         >578\n",
    "                                         gttcttgtctcattgccacattcataagt\n",
    "                                         >468\n",
    "                                         gtcgaggaacgccaggttgcccact\n",
    "                                         >467\n",
    "                                         ATTTAAatcctgatgcgtttgtctgcacaga\n",
    "                                         >567\n",
    "                                         GTcggctgcaggtcactagtgag\n",
    "                                         >568\n",
    "                                         GTGCcatctgtgcagacaaacg\n",
    "                                         >775\n",
    "                                         gcggccgctgacTTAAAT\n",
    "                                         >778\n",
    "                                         ggtaaatccggatTAATTAA\n",
    "                                         >342\n",
    "                                         CCTTTTTACGGTTCCTGGCCT\"\"\") }"
   ]
  },
  {
   "cell_type": "markdown",
   "metadata": {},
   "source": [
    "## Diagnostic PCR confirmation\n",
    "\n",
    "The correct structure of pYPKa_Z_PDC1 is confirmed by PCR using standard primers\n",
    "577 and 342 that are vector specific together with the PDC1fw primer specific for the insert\n",
    "in a multiplex PCR reaction with\n",
    "all three primers present.\n",
    "\n",
    "Two PCR products are expected if the insert was cloned, the sizes depend\n",
    "on the orientation. If the vector is empty or contains another insert, only one\n",
    "product is formed.\n",
    "\n",
    "#### Expected PCR products sizes from pYPKa_Z_PDC1:\n",
    "\n",
    "pYPKa_Z_PDC1 with insert in correct orientation."
   ]
  },
  {
   "cell_type": "code",
   "execution_count": 18,
   "metadata": {
    "execution": {
     "iopub.execute_input": "2021-05-17T10:25:57.035438Z",
     "iopub.status.busy": "2021-05-17T10:25:57.033741Z",
     "iopub.status.idle": "2021-05-17T10:25:57.036996Z",
     "shell.execute_reply": "2021-05-17T10:25:57.037552Z"
    }
   },
   "outputs": [
    {
     "data": {
      "text/plain": [
       "[Amplicon(1903), Amplicon(1735)]"
      ]
     },
     "execution_count": 1,
     "metadata": {},
     "output_type": "execute_result"
    }
   ],
   "source": [
    "Anneal( (p['577'], p['342'], fp), pYPKa_Z_PDC1).products"
   ]
  },
  {
   "cell_type": "markdown",
   "metadata": {},
   "source": [
    "pYPKa_Z_PDC1 with insert in reverse orientation."
   ]
  },
  {
   "cell_type": "code",
   "execution_count": 19,
   "metadata": {
    "execution": {
     "iopub.execute_input": "2021-05-17T10:25:57.052731Z",
     "iopub.status.busy": "2021-05-17T10:25:57.050458Z",
     "iopub.status.idle": "2021-05-17T10:25:57.055339Z",
     "shell.execute_reply": "2021-05-17T10:25:57.055818Z"
    }
   },
   "outputs": [
    {
     "data": {
      "text/plain": [
       "[Amplicon(1903), Amplicon(1137)]"
      ]
     },
     "execution_count": 1,
     "metadata": {},
     "output_type": "execute_result"
    }
   ],
   "source": [
    "Anneal( (p['577'], p['342'], fp), pYPKa_Z_PDC1b).products"
   ]
  },
  {
   "cell_type": "markdown",
   "metadata": {},
   "source": [
    "Empty pYPKa clone."
   ]
  },
  {
   "cell_type": "code",
   "execution_count": 20,
   "metadata": {
    "execution": {
     "iopub.execute_input": "2021-05-17T10:25:57.064740Z",
     "iopub.status.busy": "2021-05-17T10:25:57.063886Z",
     "iopub.status.idle": "2021-05-17T10:25:57.068859Z",
     "shell.execute_reply": "2021-05-17T10:25:57.069824Z"
    }
   },
   "outputs": [
    {
     "data": {
      "text/plain": [
       "[Amplicon(934)]"
      ]
     },
     "execution_count": 1,
     "metadata": {},
     "output_type": "execute_result"
    }
   ],
   "source": [
    "Anneal( (p['577'], p['342'], fp), pYPKa).products"
   ]
  },
  {
   "cell_type": "markdown",
   "metadata": {},
   "source": [
    "#### Expected PCR products sizes pYPKa_E_PDC1:\n",
    "\n",
    "pYPKa_E_PDC1 with insert in correct orientation."
   ]
  },
  {
   "cell_type": "code",
   "execution_count": 21,
   "metadata": {
    "execution": {
     "iopub.execute_input": "2021-05-17T10:25:57.079434Z",
     "iopub.status.busy": "2021-05-17T10:25:57.078367Z",
     "iopub.status.idle": "2021-05-17T10:25:57.089188Z",
     "shell.execute_reply": "2021-05-17T10:25:57.088629Z"
    }
   },
   "outputs": [
    {
     "data": {
      "text/plain": [
       "[Amplicon(1903), Amplicon(1654)]"
      ]
     },
     "execution_count": 1,
     "metadata": {},
     "output_type": "execute_result"
    }
   ],
   "source": [
    "Anneal( (p['577'], p['342'], fp), pYPKa_E_PDC1).products"
   ]
  },
  {
   "cell_type": "markdown",
   "metadata": {},
   "source": [
    "pYPKa_E_PDC1 with insert in reverse orientation."
   ]
  },
  {
   "cell_type": "code",
   "execution_count": 22,
   "metadata": {
    "execution": {
     "iopub.execute_input": "2021-05-17T10:25:57.104749Z",
     "iopub.status.busy": "2021-05-17T10:25:57.099723Z",
     "iopub.status.idle": "2021-05-17T10:25:57.107910Z",
     "shell.execute_reply": "2021-05-17T10:25:57.108424Z"
    }
   },
   "outputs": [
    {
     "data": {
      "text/plain": [
       "[Amplicon(1903), Amplicon(1218)]"
      ]
     },
     "execution_count": 1,
     "metadata": {},
     "output_type": "execute_result"
    }
   ],
   "source": [
    "Anneal( (p['577'], p['342'], fp), pYPKa_E_PDC1b).products\n"
   ]
  },
  {
   "cell_type": "markdown",
   "metadata": {},
   "source": [
    "Calculate cseguid checksums for the resulting plasmids for future reference.\n",
    "This checksum that uniquely describes a circular double stranded\n",
    "sequence. See this [blog post](https://ochsavidare.blogspot.com/2016/02/checksum-for-circular-biological.html) for more info.\n",
    "\n",
    "pYPKa_Z_PDC1.cseguid() should be YvPl6_OYiWllqL32w33VzoDyBqE"
   ]
  },
  {
   "cell_type": "code",
   "execution_count": 23,
   "metadata": {
    "execution": {
     "iopub.execute_input": "2021-05-17T10:25:57.119654Z",
     "iopub.status.busy": "2021-05-17T10:25:57.119092Z",
     "iopub.status.idle": "2021-05-17T10:25:57.121473Z",
     "shell.execute_reply": "2021-05-17T10:25:57.121913Z"
    }
   },
   "outputs": [
    {
     "name": "stdout",
     "output_type": "stream",
     "text": [
      "YvPl6_OYiWllqL32w33VzoDyBqE\n"
     ]
    }
   ],
   "source": [
    "print(pYPKa_Z_PDC1.cseguid())\n",
    "assert pYPKa_Z_PDC1.cseguid() == \"YvPl6_OYiWllqL32w33VzoDyBqE\""
   ]
  },
  {
   "cell_type": "markdown",
   "metadata": {},
   "source": [
    "pYPKa_E_PDC1.cseguid() should be 5ggKwKkKkosYE7pOpRJ-Toer4VM"
   ]
  },
  {
   "cell_type": "code",
   "execution_count": 24,
   "metadata": {
    "execution": {
     "iopub.execute_input": "2021-05-17T10:25:57.134341Z",
     "iopub.status.busy": "2021-05-17T10:25:57.133718Z",
     "iopub.status.idle": "2021-05-17T10:25:57.136122Z",
     "shell.execute_reply": "2021-05-17T10:25:57.136552Z"
    }
   },
   "outputs": [
    {
     "name": "stdout",
     "output_type": "stream",
     "text": [
      "5ggKwKkKkosYE7pOpRJ-Toer4VM\n"
     ]
    }
   ],
   "source": [
    "print(pYPKa_E_PDC1.cseguid())\n",
    "assert pYPKa_E_PDC1.cseguid() == \"5ggKwKkKkosYE7pOpRJ-Toer4VM\""
   ]
  },
  {
   "cell_type": "markdown",
   "metadata": {},
   "source": [
    "The sequences are named based on the name of the cloned insert."
   ]
  },
  {
   "cell_type": "code",
   "execution_count": 25,
   "metadata": {
    "execution": {
     "iopub.execute_input": "2021-05-17T10:25:57.139858Z",
     "iopub.status.busy": "2021-05-17T10:25:57.139395Z",
     "iopub.status.idle": "2021-05-17T10:25:57.141859Z",
     "shell.execute_reply": "2021-05-17T10:25:57.141136Z"
    }
   },
   "outputs": [],
   "source": [
    "pYPKa_Z_PDC1.locus = \"pYPKa_Z_PDC1\"[:16]\n",
    "pYPKa_E_PDC1.locus = \"pYPKa_Z_PDC1\"[:16]"
   ]
  },
  {
   "cell_type": "markdown",
   "metadata": {},
   "source": [
    "Stamp sequence with cseguid checksum. This can be used to verify the\n",
    "integrity of the sequence file."
   ]
  },
  {
   "cell_type": "code",
   "execution_count": 26,
   "metadata": {
    "execution": {
     "iopub.execute_input": "2021-05-17T10:25:57.155174Z",
     "iopub.status.busy": "2021-05-17T10:25:57.154445Z",
     "iopub.status.idle": "2021-05-17T10:25:57.157636Z",
     "shell.execute_reply": "2021-05-17T10:25:57.157001Z"
    }
   },
   "outputs": [
    {
     "data": {
      "text/plain": [
       "cSEGUID_5ggKwKkKkosYE7pOpRJ-Toer4VM"
      ]
     },
     "execution_count": 1,
     "metadata": {},
     "output_type": "execute_result"
    }
   ],
   "source": [
    "pYPKa_Z_PDC1.stamp()\n",
    "pYPKa_E_PDC1.stamp()"
   ]
  },
  {
   "cell_type": "markdown",
   "metadata": {},
   "source": [
    "pYPKa_Z_PDC1 is written to a local file:"
   ]
  },
  {
   "cell_type": "code",
   "execution_count": 27,
   "metadata": {
    "execution": {
     "iopub.execute_input": "2021-05-17T10:25:57.164024Z",
     "iopub.status.busy": "2021-05-17T10:25:57.163183Z",
     "iopub.status.idle": "2021-05-17T10:25:57.169750Z",
     "shell.execute_reply": "2021-05-17T10:25:57.169004Z"
    }
   },
   "outputs": [
    {
     "data": {
      "text/html": [
       "<font face=monospace><a href='pYPKa_Z_PDC1.gb' target='_blank'>pYPKa_Z_PDC1.gb</a></font><br>"
      ]
     },
     "metadata": {},
     "output_type": "display_data"
    }
   ],
   "source": [
    "pYPKa_Z_PDC1.write(\"pYPKa_Z_PDC1.gb\")"
   ]
  },
  {
   "cell_type": "markdown",
   "metadata": {},
   "source": [
    "pYPKa_E_PDC1 is written to a local file:"
   ]
  },
  {
   "cell_type": "code",
   "execution_count": 28,
   "metadata": {
    "execution": {
     "iopub.execute_input": "2021-05-17T10:25:57.177423Z",
     "iopub.status.busy": "2021-05-17T10:25:57.176607Z",
     "iopub.status.idle": "2021-05-17T10:25:57.188963Z",
     "shell.execute_reply": "2021-05-17T10:25:57.189894Z"
    }
   },
   "outputs": [
    {
     "data": {
      "text/html": [
       "<font face=monospace><a href='pYPKa_E_PDC1.gb' target='_blank'>pYPKa_E_PDC1.gb</a></font><br>"
      ]
     },
     "metadata": {},
     "output_type": "display_data"
    }
   ],
   "source": [
    "pYPKa_E_PDC1.write(\"pYPKa_E_PDC1.gb\")"
   ]
  }
 ],
 "metadata": {
  "language_info": {
   "codemirror_mode": {
    "name": "ipython",
    "version": 3
   },
   "file_extension": ".py",
   "mimetype": "text/x-python",
   "name": "python",
   "nbconvert_exporter": "python",
   "pygments_lexer": "ipython3",
   "version": "3.9.0"
  }
 },
 "nbformat": 4,
 "nbformat_minor": 2
}
