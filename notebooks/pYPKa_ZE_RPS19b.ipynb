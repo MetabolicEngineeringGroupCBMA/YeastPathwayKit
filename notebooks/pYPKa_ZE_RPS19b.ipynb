{
 "cells": [
  {
   "cell_type": "markdown",
   "metadata": {},
   "source": [
    "# pYPKa_Z_RPS19b and pYPKa_E_RPS19b\n",
    "\n",
    "This Jupyter notebook describe the construction of E. coli vectors [pYPKa_Z_RPS19b](pYPKa_Z_RPS19b.gb) and [pYPKa_E_RPS19b](pYPKa_E_RPS19b.gb). \n",
    "These two vectors share backbone and insert, but in the former, the insert is cloned using the restriction\n",
    "enzyme [ZraI](http://rebase.neb.com/rebase/enz/ZraI.html) while in the latter [EcoRV](http://rebase.neb.com/rebase/enz/EcoRV.html) is used.\n",
    "\n",
    "The insert cloned in ZraI is meant to function as a promoter, while in the EcoRV site it is meant to be  used as a terminator.\n",
    "\n",
    "Links to the sequence of each vector in Genbank format can be found at the bottom of this document.\n",
    "\n",
    "![pYPKa_Z and pYPKa_E](figure_pYPKa_ZE.png \"pYPKa_Z or pYPKa_E plasmid\")\n",
    "\n",
    "The Python package [pydna](https://pypi.python.org/pypi/pydna/) package is imported in the code cell below to provide \n",
    "the cloning functionality. There is a [publication](http://www.biomedcentral.com/1471-2105/16/142) describing pydna as well as\n",
    "[documentation](http://pydna.readthedocs.io/) available online. Pydna is developed on [Github](https://github.com/BjornFJohansson/pydna)."
   ]
  },
  {
   "cell_type": "code",
   "execution_count": 1,
   "metadata": {
    "execution": {
     "iopub.execute_input": "2021-05-17T10:27:49.700224Z",
     "iopub.status.busy": "2021-05-17T10:27:49.699784Z",
     "iopub.status.idle": "2021-05-17T10:27:50.205253Z",
     "shell.execute_reply": "2021-05-17T10:27:50.205772Z"
    }
   },
   "outputs": [],
   "source": [
    "from pydna.readers import read\n",
    "from pydna.parsers import parse_primers\n",
    "from pydna.genbank import Genbank\n",
    "from pydna.amplify import pcr\n",
    "from pydna.amplify import Anneal"
   ]
  },
  {
   "cell_type": "markdown",
   "metadata": {},
   "source": [
    "The vector backbone pYPKa is read from a local [file](pYPKa.gb)."
   ]
  },
  {
   "cell_type": "code",
   "execution_count": 2,
   "metadata": {
    "execution": {
     "iopub.execute_input": "2021-05-17T10:27:50.214559Z",
     "iopub.status.busy": "2021-05-17T10:27:50.212976Z",
     "iopub.status.idle": "2021-05-17T10:27:50.225544Z",
     "shell.execute_reply": "2021-05-17T10:27:50.224908Z"
    }
   },
   "outputs": [],
   "source": [
    "pYPKa = read(\"pYPKa.gb\")"
   ]
  },
  {
   "cell_type": "markdown",
   "metadata": {},
   "source": [
    "Both restriction enzymes are imported from [Biopython](http://biopython.org/wiki/Main_Page)"
   ]
  },
  {
   "cell_type": "code",
   "execution_count": 3,
   "metadata": {
    "execution": {
     "iopub.execute_input": "2021-05-17T10:27:50.231254Z",
     "iopub.status.busy": "2021-05-17T10:27:50.230002Z",
     "iopub.status.idle": "2021-05-17T10:27:50.234348Z",
     "shell.execute_reply": "2021-05-17T10:27:50.233372Z"
    }
   },
   "outputs": [],
   "source": [
    "from Bio.Restriction import ZraI, EcoRV"
   ]
  },
  {
   "cell_type": "markdown",
   "metadata": {},
   "source": [
    "The vector is cut with both enzymes."
   ]
  },
  {
   "cell_type": "code",
   "execution_count": 4,
   "metadata": {
    "execution": {
     "iopub.execute_input": "2021-05-17T10:27:50.244275Z",
     "iopub.status.busy": "2021-05-17T10:27:50.243536Z",
     "iopub.status.idle": "2021-05-17T10:27:50.246401Z",
     "shell.execute_reply": "2021-05-17T10:27:50.245876Z"
    }
   },
   "outputs": [],
   "source": [
    "pYPKa_ZraI  = pYPKa.linearize(ZraI)\n",
    "pYPKa_EcoRV = pYPKa.linearize(EcoRV)"
   ]
  },
  {
   "cell_type": "markdown",
   "metadata": {},
   "source": [
    "The template below comes from a Genbank [record](http://www.ncbi.nlm.nih.gov/nuccore/BK006947.3).\n",
    "Access to Genbank is needed in order to download the template.\n",
    "If you execute this script, change the email address below to your own.\n",
    "Always tell Genbank who you are, when using their web service."
   ]
  },
  {
   "cell_type": "code",
   "execution_count": 5,
   "metadata": {
    "execution": {
     "iopub.execute_input": "2021-05-17T10:27:50.250785Z",
     "iopub.status.busy": "2021-05-17T10:27:50.250309Z",
     "iopub.status.idle": "2021-05-17T10:27:50.252082Z",
     "shell.execute_reply": "2021-05-17T10:27:50.252541Z"
    }
   },
   "outputs": [],
   "source": [
    "gb = Genbank(\"bjornjobb@gmail.com\")"
   ]
  },
  {
   "cell_type": "markdown",
   "metadata": {},
   "source": [
    "The template is downloaded from Genbank below."
   ]
  },
  {
   "cell_type": "code",
   "execution_count": 6,
   "metadata": {
    "execution": {
     "iopub.execute_input": "2021-05-17T10:27:50.256220Z",
     "iopub.status.busy": "2021-05-17T10:27:50.255747Z",
     "iopub.status.idle": "2021-05-17T10:27:50.264340Z",
     "shell.execute_reply": "2021-05-17T10:27:50.263343Z"
    }
   },
   "outputs": [],
   "source": [
    "template = gb.nucleotide(\"BK006947.3 REGION: complement(62944..63569)\")"
   ]
  },
  {
   "cell_type": "markdown",
   "metadata": {},
   "source": [
    "The template is a 626 bp linear DNA fragment."
   ]
  },
  {
   "cell_type": "code",
   "execution_count": 7,
   "metadata": {
    "execution": {
     "iopub.execute_input": "2021-05-17T10:27:50.275517Z",
     "iopub.status.busy": "2021-05-17T10:27:50.274746Z",
     "iopub.status.idle": "2021-05-17T10:27:50.278244Z",
     "shell.execute_reply": "2021-05-17T10:27:50.278787Z"
    }
   },
   "outputs": [
    {
     "data": {
      "text/html": [
       "<a href='https://www.ncbi.nlm.nih.gov/nuccore/BK006947.3 ?from=62944&to=63569&strand=2' target='_blank'>BK006947.3  62944-63569</a>"
      ],
      "text/plain": [
       "Gbank(BK006947.3  62944-63569)(-626)"
      ]
     },
     "execution_count": 1,
     "metadata": {},
     "output_type": "execute_result"
    }
   ],
   "source": [
    "template"
   ]
  },
  {
   "cell_type": "markdown",
   "metadata": {},
   "source": [
    "The insert has the sequence shown below."
   ]
  },
  {
   "cell_type": "code",
   "execution_count": 8,
   "metadata": {
    "execution": {
     "iopub.execute_input": "2021-05-17T10:27:50.282895Z",
     "iopub.status.busy": "2021-05-17T10:27:50.282270Z",
     "iopub.status.idle": "2021-05-17T10:27:50.285018Z",
     "shell.execute_reply": "2021-05-17T10:27:50.285578Z"
    }
   },
   "outputs": [
    {
     "name": "stdout",
     "output_type": "stream",
     "text": [
      "TCTAGTATGGTTTGAAACCTTACAATTTTTCTTCTTTGTTCCTTTTTCCTTGTTTCAGTGTATATTAGGTTGGGAAAGAGGGATTTTTCCATACCATATGACTGACTACAATATATACATGTATAATAACTTCATAATCTAAACCTATCAGTTCAGTATCAAGTCAGCTATTCCGCCCTATGCATAAACCTACAAACTATCATTCACACACTTTTCCCATTTTTTTTCAATACTACTTTACATCCGAACATTTTAGCAACCCACACCATATACCTTTGGTGCACTATTGATTTTCTTCCTGATGTCAGCTTTTTGTGCTTTGACAAAAAAATCGCGTCTACGTCCGTCCGTTCTCCCTGAATAAATTAGGCGCGTTTGAGCCCAGCAGGACGGAGCTCTAGTGACAAGCCCTGGTGTTTGGTGAGGTTTTGCACATTGCTGTTCTTTCTACTGTATTGAGATCTCCAGTTTACGGCTCCCTGGGAGCCACCCGTAACGCGGTTGGTGTGCCCATTTCAATAAGCGAACATTAGTGAAGATACAATCGTTAAAATGGACTAATGAAATTTTAAAGTGGGATTTTTGTGAATATTGACAACAAAGGTATAGAACCAAAGATAATAAAG\n"
     ]
    }
   ],
   "source": [
    "print(str(template.seq))"
   ]
  },
  {
   "cell_type": "markdown",
   "metadata": {},
   "source": [
    "The seguid checksum of the template should be\n",
    "\n",
    "```45Q1ssBi_xEGrGVq1PGgILu3mjg```"
   ]
  },
  {
   "cell_type": "code",
   "execution_count": 9,
   "metadata": {
    "execution": {
     "iopub.execute_input": "2021-05-17T10:27:50.290186Z",
     "iopub.status.busy": "2021-05-17T10:27:50.289176Z",
     "iopub.status.idle": "2021-05-17T10:27:50.293324Z",
     "shell.execute_reply": "2021-05-17T10:27:50.292622Z"
    }
   },
   "outputs": [
    {
     "data": {
      "text/plain": [
       "45Q1ssBi_xEGrGVq1PGgILu3mjg"
      ]
     },
     "execution_count": 1,
     "metadata": {},
     "output_type": "execute_result"
    }
   ],
   "source": [
    "template.seguid()"
   ]
  },
  {
   "cell_type": "markdown",
   "metadata": {},
   "source": [
    "Two primers are used to amplify the insert:"
   ]
  },
  {
   "cell_type": "code",
   "execution_count": 10,
   "metadata": {
    "execution": {
     "iopub.execute_input": "2021-05-17T10:27:50.298872Z",
     "iopub.status.busy": "2021-05-17T10:27:50.298151Z",
     "iopub.status.idle": "2021-05-17T10:27:50.300716Z",
     "shell.execute_reply": "2021-05-17T10:27:50.301501Z"
    }
   },
   "outputs": [],
   "source": [
    "fp,rp = parse_primers(\"\"\">648_ScRPS19btpf2\n",
    "                         ttaaatTCTAGTATGGTTTGAAACCT\n",
    "                         >647_ScRPS19btpr_PacI\n",
    "                         taattaaCTTTATTATCTTTGGTTCTAT\"\"\")"
   ]
  },
  {
   "cell_type": "markdown",
   "metadata": {},
   "source": [
    "PCR to create the insert using the primers above."
   ]
  },
  {
   "cell_type": "code",
   "execution_count": 11,
   "metadata": {
    "execution": {
     "iopub.execute_input": "2021-05-17T10:27:50.308667Z",
     "iopub.status.busy": "2021-05-17T10:27:50.307657Z",
     "iopub.status.idle": "2021-05-17T10:27:50.312690Z",
     "shell.execute_reply": "2021-05-17T10:27:50.313381Z"
    }
   },
   "outputs": [],
   "source": [
    "prd = pcr(fp, rp, template)\n",
    "assert str(fp.seq) in prd"
   ]
  },
  {
   "cell_type": "markdown",
   "metadata": {},
   "source": [
    "The PCR product has this length in bp."
   ]
  },
  {
   "cell_type": "code",
   "execution_count": 12,
   "metadata": {
    "execution": {
     "iopub.execute_input": "2021-05-17T10:27:50.318637Z",
     "iopub.status.busy": "2021-05-17T10:27:50.317814Z",
     "iopub.status.idle": "2021-05-17T10:27:50.322201Z",
     "shell.execute_reply": "2021-05-17T10:27:50.321514Z"
    }
   },
   "outputs": [
    {
     "data": {
      "text/plain": [
       "639"
      ]
     },
     "execution_count": 1,
     "metadata": {},
     "output_type": "execute_result"
    }
   ],
   "source": [
    "len(prd)"
   ]
  },
  {
   "cell_type": "markdown",
   "metadata": {},
   "source": [
    "A figure of the primers annealing on template."
   ]
  },
  {
   "cell_type": "code",
   "execution_count": 13,
   "metadata": {
    "execution": {
     "iopub.execute_input": "2021-05-17T10:27:50.327731Z",
     "iopub.status.busy": "2021-05-17T10:27:50.326756Z",
     "iopub.status.idle": "2021-05-17T10:27:50.333783Z",
     "shell.execute_reply": "2021-05-17T10:27:50.333056Z"
    }
   },
   "outputs": [
    {
     "data": {
      "text/plain": [
       "      5TCTAGTATGGTTTGAAACCT...ATAGAACCAAAGATAATAAAG3\n",
       "                              |||||||||||||||||||||\n",
       "                             3TATCTTGGTTTCTATTATTTCaattaat5\n",
       "5ttaaatTCTAGTATGGTTTGAAACCT3\n",
       "       ||||||||||||||||||||\n",
       "      3AGATCATACCAAACTTTGGA...TATCTTGGTTTCTATTATTTC5"
      ]
     },
     "execution_count": 1,
     "metadata": {},
     "output_type": "execute_result"
    }
   ],
   "source": [
    "prd.figure()"
   ]
  },
  {
   "cell_type": "markdown",
   "metadata": {},
   "source": [
    "A suggested PCR program."
   ]
  },
  {
   "cell_type": "code",
   "execution_count": 14,
   "metadata": {
    "execution": {
     "iopub.execute_input": "2021-05-17T10:27:50.339418Z",
     "iopub.status.busy": "2021-05-17T10:27:50.338780Z",
     "iopub.status.idle": "2021-05-17T10:27:50.341972Z",
     "shell.execute_reply": "2021-05-17T10:27:50.342557Z"
    }
   },
   "outputs": [
    {
     "data": {
      "text/plain": [
       "|95°C|95°C               |    |tmf:56.1\n",
       "|____|_____          72°C|72°C|tmr:50.2\n",
       "|5min|30s  \\ 52.0°C _____|____|60s/kb\n",
       "|    |      \\______/ 0:38|5min|GC 37%\n",
       "|    |       30s         |    |639bp"
      ]
     },
     "execution_count": 1,
     "metadata": {},
     "output_type": "execute_result"
    }
   ],
   "source": [
    "prd.program()"
   ]
  },
  {
   "cell_type": "markdown",
   "metadata": {},
   "source": [
    "The final vectors are:"
   ]
  },
  {
   "cell_type": "code",
   "execution_count": 15,
   "metadata": {
    "execution": {
     "iopub.execute_input": "2021-05-17T10:27:50.365537Z",
     "iopub.status.busy": "2021-05-17T10:27:50.360645Z",
     "iopub.status.idle": "2021-05-17T10:27:50.892413Z",
     "shell.execute_reply": "2021-05-17T10:27:50.891902Z"
    }
   },
   "outputs": [],
   "source": [
    "pYPKa_Z_RPS19b = (pYPKa_ZraI  + prd).looped().synced(pYPKa)\n",
    "pYPKa_E_RPS19b = (pYPKa_EcoRV + prd).looped().synced(pYPKa)"
   ]
  },
  {
   "cell_type": "markdown",
   "metadata": {},
   "source": [
    "The final vectors with reverse inserts are created below. These vectors theoretically make up\n",
    "fifty percent of the clones. The PCR strategy outlined below can be used to identify clones with the insert\n",
    "in the correct orientation."
   ]
  },
  {
   "cell_type": "code",
   "execution_count": 16,
   "metadata": {
    "execution": {
     "iopub.execute_input": "2021-05-17T10:27:50.904900Z",
     "iopub.status.busy": "2021-05-17T10:27:50.899680Z",
     "iopub.status.idle": "2021-05-17T10:27:51.357114Z",
     "shell.execute_reply": "2021-05-17T10:27:51.356577Z"
    }
   },
   "outputs": [],
   "source": [
    "pYPKa_Z_RPS19bb = (pYPKa_ZraI  + prd.rc()).looped().synced(pYPKa)\n",
    "pYPKa_E_RPS19bb = (pYPKa_EcoRV + prd.rc()).looped().synced(pYPKa)"
   ]
  },
  {
   "cell_type": "markdown",
   "metadata": {},
   "source": [
    "A combination of yeast pathway kit standard primers and the primers above are\n",
    "used for the strategy to identify correct clones.\n",
    "Standard primers used in the yeast are listed [here](standard_primers.txt)."
   ]
  },
  {
   "cell_type": "code",
   "execution_count": 17,
   "metadata": {
    "execution": {
     "iopub.execute_input": "2021-05-17T10:27:51.362894Z",
     "iopub.status.busy": "2021-05-17T10:27:51.362275Z",
     "iopub.status.idle": "2021-05-17T10:27:51.364888Z",
     "shell.execute_reply": "2021-05-17T10:27:51.364300Z"
    }
   },
   "outputs": [],
   "source": [
    "p = { x.id: x for x in parse_primers(\"\"\">577\n",
    "                                         gttctgatcctcgagcatcttaagaattc\n",
    "                                         >578\n",
    "                                         gttcttgtctcattgccacattcataagt\n",
    "                                         >468\n",
    "                                         gtcgaggaacgccaggttgcccact\n",
    "                                         >467\n",
    "                                         ATTTAAatcctgatgcgtttgtctgcacaga\n",
    "                                         >567\n",
    "                                         GTcggctgcaggtcactagtgag\n",
    "                                         >568\n",
    "                                         GTGCcatctgtgcagacaaacg\n",
    "                                         >775\n",
    "                                         gcggccgctgacTTAAAT\n",
    "                                         >778\n",
    "                                         ggtaaatccggatTAATTAA\n",
    "                                         >342\n",
    "                                         CCTTTTTACGGTTCCTGGCCT\"\"\") }"
   ]
  },
  {
   "cell_type": "markdown",
   "metadata": {},
   "source": [
    "## Diagnostic PCR confirmation\n",
    "\n",
    "The correct structure of pYPKa_Z_RPS19b is confirmed by PCR using standard primers\n",
    "577 and 342 that are vector specific together with the RPS19bfw primer specific for the insert\n",
    "in a multiplex PCR reaction with\n",
    "all three primers present.\n",
    "\n",
    "Two PCR products are expected if the insert was cloned, the sizes depend\n",
    "on the orientation. If the vector is empty or contains another insert, only one\n",
    "product is formed.\n",
    "\n",
    "#### Expected PCR products sizes from pYPKa_Z_RPS19b:\n",
    "\n",
    "pYPKa_Z_RPS19b with insert in correct orientation."
   ]
  },
  {
   "cell_type": "code",
   "execution_count": 18,
   "metadata": {
    "execution": {
     "iopub.execute_input": "2021-05-17T10:27:51.377698Z",
     "iopub.status.busy": "2021-05-17T10:27:51.372766Z",
     "iopub.status.idle": "2021-05-17T10:27:51.380876Z",
     "shell.execute_reply": "2021-05-17T10:27:51.380349Z"
    }
   },
   "outputs": [
    {
     "data": {
      "text/plain": [
       "[Amplicon(1573), Amplicon(1405)]"
      ]
     },
     "execution_count": 1,
     "metadata": {},
     "output_type": "execute_result"
    }
   ],
   "source": [
    "Anneal( (p['577'], p['342'], fp), pYPKa_Z_RPS19b).products"
   ]
  },
  {
   "cell_type": "markdown",
   "metadata": {},
   "source": [
    "pYPKa_Z_RPS19b with insert in reverse orientation."
   ]
  },
  {
   "cell_type": "code",
   "execution_count": 19,
   "metadata": {
    "execution": {
     "iopub.execute_input": "2021-05-17T10:27:51.393386Z",
     "iopub.status.busy": "2021-05-17T10:27:51.392829Z",
     "iopub.status.idle": "2021-05-17T10:27:51.395308Z",
     "shell.execute_reply": "2021-05-17T10:27:51.395745Z"
    }
   },
   "outputs": [
    {
     "data": {
      "text/plain": [
       "[Amplicon(1573), Amplicon(807)]"
      ]
     },
     "execution_count": 1,
     "metadata": {},
     "output_type": "execute_result"
    }
   ],
   "source": [
    "Anneal( (p['577'], p['342'], fp), pYPKa_Z_RPS19bb).products"
   ]
  },
  {
   "cell_type": "markdown",
   "metadata": {},
   "source": [
    "Empty pYPKa clone."
   ]
  },
  {
   "cell_type": "code",
   "execution_count": 20,
   "metadata": {
    "execution": {
     "iopub.execute_input": "2021-05-17T10:27:51.402850Z",
     "iopub.status.busy": "2021-05-17T10:27:51.402208Z",
     "iopub.status.idle": "2021-05-17T10:27:51.405061Z",
     "shell.execute_reply": "2021-05-17T10:27:51.405626Z"
    }
   },
   "outputs": [
    {
     "data": {
      "text/plain": [
       "[Amplicon(934)]"
      ]
     },
     "execution_count": 1,
     "metadata": {},
     "output_type": "execute_result"
    }
   ],
   "source": [
    "Anneal( (p['577'], p['342'], fp), pYPKa).products"
   ]
  },
  {
   "cell_type": "markdown",
   "metadata": {},
   "source": [
    "#### Expected PCR products sizes pYPKa_E_RPS19b:\n",
    "\n",
    "pYPKa_E_RPS19b with insert in correct orientation."
   ]
  },
  {
   "cell_type": "code",
   "execution_count": 21,
   "metadata": {
    "execution": {
     "iopub.execute_input": "2021-05-17T10:27:51.418426Z",
     "iopub.status.busy": "2021-05-17T10:27:51.417558Z",
     "iopub.status.idle": "2021-05-17T10:27:51.420843Z",
     "shell.execute_reply": "2021-05-17T10:27:51.421585Z"
    }
   },
   "outputs": [
    {
     "data": {
      "text/plain": [
       "[Amplicon(1573), Amplicon(1324)]"
      ]
     },
     "execution_count": 1,
     "metadata": {},
     "output_type": "execute_result"
    }
   ],
   "source": [
    "Anneal( (p['577'], p['342'], fp), pYPKa_E_RPS19b).products"
   ]
  },
  {
   "cell_type": "markdown",
   "metadata": {},
   "source": [
    "pYPKa_E_RPS19b with insert in reverse orientation."
   ]
  },
  {
   "cell_type": "code",
   "execution_count": 22,
   "metadata": {
    "execution": {
     "iopub.execute_input": "2021-05-17T10:27:51.436754Z",
     "iopub.status.busy": "2021-05-17T10:27:51.435898Z",
     "iopub.status.idle": "2021-05-17T10:27:51.439368Z",
     "shell.execute_reply": "2021-05-17T10:27:51.438883Z"
    }
   },
   "outputs": [
    {
     "data": {
      "text/plain": [
       "[Amplicon(1573), Amplicon(888)]"
      ]
     },
     "execution_count": 1,
     "metadata": {},
     "output_type": "execute_result"
    }
   ],
   "source": [
    "Anneal( (p['577'], p['342'], fp), pYPKa_E_RPS19bb).products\n"
   ]
  },
  {
   "cell_type": "markdown",
   "metadata": {},
   "source": [
    "Calculate cseguid checksums for the resulting plasmids for future reference.\n",
    "This checksum that uniquely describes a circular double stranded\n",
    "sequence. See this [blog post](https://ochsavidare.blogspot.com/2016/02/checksum-for-circular-biological.html) for more info.\n",
    "\n",
    "pYPKa_Z_RPS19b.cseguid() should be 3OLqUNkRah7KzkvgyZ0yu8ymJ8s"
   ]
  },
  {
   "cell_type": "code",
   "execution_count": 23,
   "metadata": {
    "execution": {
     "iopub.execute_input": "2021-05-17T10:27:51.451139Z",
     "iopub.status.busy": "2021-05-17T10:27:51.450356Z",
     "iopub.status.idle": "2021-05-17T10:27:51.453848Z",
     "shell.execute_reply": "2021-05-17T10:27:51.453267Z"
    }
   },
   "outputs": [
    {
     "name": "stdout",
     "output_type": "stream",
     "text": [
      "3OLqUNkRah7KzkvgyZ0yu8ymJ8s\n"
     ]
    }
   ],
   "source": [
    "print(pYPKa_Z_RPS19b.cseguid())\n",
    "assert pYPKa_Z_RPS19b.cseguid() == \"3OLqUNkRah7KzkvgyZ0yu8ymJ8s\""
   ]
  },
  {
   "cell_type": "markdown",
   "metadata": {},
   "source": [
    "pYPKa_E_RPS19b.cseguid() should be fJ7xfJAfjgWBzZp5tzFjmqhttUk"
   ]
  },
  {
   "cell_type": "code",
   "execution_count": 24,
   "metadata": {
    "execution": {
     "iopub.execute_input": "2021-05-17T10:27:51.464337Z",
     "iopub.status.busy": "2021-05-17T10:27:51.463841Z",
     "iopub.status.idle": "2021-05-17T10:27:51.466086Z",
     "shell.execute_reply": "2021-05-17T10:27:51.466520Z"
    }
   },
   "outputs": [
    {
     "name": "stdout",
     "output_type": "stream",
     "text": [
      "fJ7xfJAfjgWBzZp5tzFjmqhttUk\n"
     ]
    }
   ],
   "source": [
    "print(pYPKa_E_RPS19b.cseguid())\n",
    "assert pYPKa_E_RPS19b.cseguid() == \"fJ7xfJAfjgWBzZp5tzFjmqhttUk\""
   ]
  },
  {
   "cell_type": "markdown",
   "metadata": {},
   "source": [
    "The sequences are named based on the name of the cloned insert."
   ]
  },
  {
   "cell_type": "code",
   "execution_count": 25,
   "metadata": {
    "execution": {
     "iopub.execute_input": "2021-05-17T10:27:51.470589Z",
     "iopub.status.busy": "2021-05-17T10:27:51.469589Z",
     "iopub.status.idle": "2021-05-17T10:27:51.472891Z",
     "shell.execute_reply": "2021-05-17T10:27:51.472198Z"
    }
   },
   "outputs": [],
   "source": [
    "pYPKa_Z_RPS19b.locus = \"pYPKa_Z_RPS19b\"[:16]\n",
    "pYPKa_E_RPS19b.locus = \"pYPKa_Z_RPS19b\"[:16]"
   ]
  },
  {
   "cell_type": "markdown",
   "metadata": {},
   "source": [
    "Stamp sequence with cseguid checksum. This can be used to verify the\n",
    "integrity of the sequence file."
   ]
  },
  {
   "cell_type": "code",
   "execution_count": 26,
   "metadata": {
    "execution": {
     "iopub.execute_input": "2021-05-17T10:27:51.485831Z",
     "iopub.status.busy": "2021-05-17T10:27:51.485123Z",
     "iopub.status.idle": "2021-05-17T10:27:51.488314Z",
     "shell.execute_reply": "2021-05-17T10:27:51.487864Z"
    }
   },
   "outputs": [
    {
     "data": {
      "text/plain": [
       "cSEGUID_fJ7xfJAfjgWBzZp5tzFjmqhttUk"
      ]
     },
     "execution_count": 1,
     "metadata": {},
     "output_type": "execute_result"
    }
   ],
   "source": [
    "pYPKa_Z_RPS19b.stamp()\n",
    "pYPKa_E_RPS19b.stamp()"
   ]
  },
  {
   "cell_type": "markdown",
   "metadata": {},
   "source": [
    "pYPKa_Z_RPS19b is written to a local file:"
   ]
  },
  {
   "cell_type": "code",
   "execution_count": 27,
   "metadata": {
    "execution": {
     "iopub.execute_input": "2021-05-17T10:27:51.493762Z",
     "iopub.status.busy": "2021-05-17T10:27:51.491148Z",
     "iopub.status.idle": "2021-05-17T10:27:51.497932Z",
     "shell.execute_reply": "2021-05-17T10:27:51.498511Z"
    }
   },
   "outputs": [
    {
     "data": {
      "text/html": [
       "<font face=monospace><a href='pYPKa_Z_RPS19b.gb' target='_blank'>pYPKa_Z_RPS19b.gb</a></font><br>"
      ]
     },
     "metadata": {},
     "output_type": "display_data"
    }
   ],
   "source": [
    "pYPKa_Z_RPS19b.write(\"pYPKa_Z_RPS19b.gb\")"
   ]
  },
  {
   "cell_type": "markdown",
   "metadata": {},
   "source": [
    "pYPKa_E_RPS19b is written to a local file:"
   ]
  },
  {
   "cell_type": "code",
   "execution_count": 28,
   "metadata": {
    "execution": {
     "iopub.execute_input": "2021-05-17T10:27:51.502609Z",
     "iopub.status.busy": "2021-05-17T10:27:51.501992Z",
     "iopub.status.idle": "2021-05-17T10:27:51.508969Z",
     "shell.execute_reply": "2021-05-17T10:27:51.509528Z"
    }
   },
   "outputs": [
    {
     "data": {
      "text/html": [
       "<font face=monospace><a href='pYPKa_E_RPS19b.gb' target='_blank'>pYPKa_E_RPS19b.gb</a></font><br>"
      ]
     },
     "metadata": {},
     "output_type": "display_data"
    }
   ],
   "source": [
    "pYPKa_E_RPS19b.write(\"pYPKa_E_RPS19b.gb\")"
   ]
  }
 ],
 "metadata": {
  "language_info": {
   "codemirror_mode": {
    "name": "ipython",
    "version": 3
   },
   "file_extension": ".py",
   "mimetype": "text/x-python",
   "name": "python",
   "nbconvert_exporter": "python",
   "pygments_lexer": "ipython3",
   "version": "3.9.0"
  }
 },
 "nbformat": 4,
 "nbformat_minor": 2
}
