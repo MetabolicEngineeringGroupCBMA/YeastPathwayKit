{
 "cells": [
  {
   "cell_type": "markdown",
   "metadata": {},
   "source": [
    "# pYPKa_Z_RPL35A and pYPKa_E_RPL35A\n",
    "\n",
    "This Jupyter notebook describe the construction of E. coli vectors [pYPKa_Z_RPL35A](pYPKa_Z_RPL35A.gb) and [pYPKa_E_RPL35A](pYPKa_E_RPL35A.gb). \n",
    "These two vectors share backbone and insert, but in the former, the insert is cloned using the restriction\n",
    "enzyme [ZraI](http://rebase.neb.com/rebase/enz/ZraI.html) while in the latter [EcoRV](http://rebase.neb.com/rebase/enz/EcoRV.html) is used.\n",
    "\n",
    "The insert cloned in ZraI is meant to function as a promoter, while in the EcoRV site it is meant to be  used as a terminator.\n",
    "\n",
    "Links to the sequence of each vector in Genbank format can be found at the bottom of this document.\n",
    "\n",
    "![pYPKa_Z and pYPKa_E](figure_pYPKa_ZE.png \"pYPKa_Z or pYPKa_E plasmid\")\n",
    "\n",
    "The Python package [pydna](https://pypi.python.org/pypi/pydna/) package is imported in the code cell below to provide \n",
    "the cloning functionality. There is a [publication](http://www.biomedcentral.com/1471-2105/16/142) describing pydna as well as\n",
    "[documentation](http://pydna.readthedocs.io/) available online. Pydna is developed on [Github](https://github.com/BjornFJohansson/pydna)."
   ]
  },
  {
   "cell_type": "code",
   "execution_count": 1,
   "metadata": {
    "execution": {
     "iopub.execute_input": "2021-05-17T10:27:17.113612Z",
     "iopub.status.busy": "2021-05-17T10:27:17.112075Z",
     "iopub.status.idle": "2021-05-17T10:27:17.625066Z",
     "shell.execute_reply": "2021-05-17T10:27:17.624554Z"
    }
   },
   "outputs": [],
   "source": [
    "from pydna.readers import read\n",
    "from pydna.parsers import parse_primers\n",
    "from pydna.genbank import Genbank\n",
    "from pydna.amplify import pcr\n",
    "from pydna.amplify import Anneal"
   ]
  },
  {
   "cell_type": "markdown",
   "metadata": {},
   "source": [
    "The vector backbone pYPKa is read from a local [file](pYPKa.gb)."
   ]
  },
  {
   "cell_type": "code",
   "execution_count": 2,
   "metadata": {
    "execution": {
     "iopub.execute_input": "2021-05-17T10:27:17.631742Z",
     "iopub.status.busy": "2021-05-17T10:27:17.631306Z",
     "iopub.status.idle": "2021-05-17T10:27:17.640100Z",
     "shell.execute_reply": "2021-05-17T10:27:17.640528Z"
    }
   },
   "outputs": [],
   "source": [
    "pYPKa = read(\"pYPKa.gb\")"
   ]
  },
  {
   "cell_type": "markdown",
   "metadata": {},
   "source": [
    "Both restriction enzymes are imported from [Biopython](http://biopython.org/wiki/Main_Page)"
   ]
  },
  {
   "cell_type": "code",
   "execution_count": 3,
   "metadata": {
    "execution": {
     "iopub.execute_input": "2021-05-17T10:27:17.643782Z",
     "iopub.status.busy": "2021-05-17T10:27:17.643320Z",
     "iopub.status.idle": "2021-05-17T10:27:17.645163Z",
     "shell.execute_reply": "2021-05-17T10:27:17.645632Z"
    }
   },
   "outputs": [],
   "source": [
    "from Bio.Restriction import ZraI, EcoRV"
   ]
  },
  {
   "cell_type": "markdown",
   "metadata": {},
   "source": [
    "The vector is cut with both enzymes."
   ]
  },
  {
   "cell_type": "code",
   "execution_count": 4,
   "metadata": {
    "execution": {
     "iopub.execute_input": "2021-05-17T10:27:17.652521Z",
     "iopub.status.busy": "2021-05-17T10:27:17.651611Z",
     "iopub.status.idle": "2021-05-17T10:27:17.654220Z",
     "shell.execute_reply": "2021-05-17T10:27:17.654868Z"
    }
   },
   "outputs": [],
   "source": [
    "pYPKa_ZraI  = pYPKa.linearize(ZraI)\n",
    "pYPKa_EcoRV = pYPKa.linearize(EcoRV)"
   ]
  },
  {
   "cell_type": "markdown",
   "metadata": {},
   "source": [
    "The template below comes from a Genbank [record](http://www.ncbi.nlm.nih.gov/nuccore/BK006938.2).\n",
    "Access to Genbank is needed in order to download the template.\n",
    "If you execute this script, change the email address below to your own.\n",
    "Always tell Genbank who you are, when using their web service."
   ]
  },
  {
   "cell_type": "code",
   "execution_count": 5,
   "metadata": {
    "execution": {
     "iopub.execute_input": "2021-05-17T10:27:17.660299Z",
     "iopub.status.busy": "2021-05-17T10:27:17.659628Z",
     "iopub.status.idle": "2021-05-17T10:27:17.662523Z",
     "shell.execute_reply": "2021-05-17T10:27:17.661864Z"
    }
   },
   "outputs": [],
   "source": [
    "gb = Genbank(\"bjornjobb@gmail.com\")"
   ]
  },
  {
   "cell_type": "markdown",
   "metadata": {},
   "source": [
    "The template is downloaded from Genbank below."
   ]
  },
  {
   "cell_type": "code",
   "execution_count": 6,
   "metadata": {
    "execution": {
     "iopub.execute_input": "2021-05-17T10:27:17.667052Z",
     "iopub.status.busy": "2021-05-17T10:27:17.666446Z",
     "iopub.status.idle": "2021-05-17T10:27:17.676913Z",
     "shell.execute_reply": "2021-05-17T10:27:17.676313Z"
    }
   },
   "outputs": [],
   "source": [
    "template = gb.nucleotide(\"BK006938.2 REGION: 116867..117663\")"
   ]
  },
  {
   "cell_type": "markdown",
   "metadata": {},
   "source": [
    "The template is a 797 bp linear DNA fragment."
   ]
  },
  {
   "cell_type": "code",
   "execution_count": 7,
   "metadata": {
    "execution": {
     "iopub.execute_input": "2021-05-17T10:27:17.685083Z",
     "iopub.status.busy": "2021-05-17T10:27:17.684403Z",
     "iopub.status.idle": "2021-05-17T10:27:17.687684Z",
     "shell.execute_reply": "2021-05-17T10:27:17.688206Z"
    }
   },
   "outputs": [
    {
     "data": {
      "text/html": [
       "<a href='https://www.ncbi.nlm.nih.gov/nuccore/BK006938.2 ?from=116867&to=117663&strand=1' target='_blank'>BK006938.2  116867-117663</a>"
      ],
      "text/plain": [
       "Gbank(BK006938.2  116867-117663)(-797)"
      ]
     },
     "execution_count": 1,
     "metadata": {},
     "output_type": "execute_result"
    }
   ],
   "source": [
    "template"
   ]
  },
  {
   "cell_type": "markdown",
   "metadata": {},
   "source": [
    "The insert has the sequence shown below."
   ]
  },
  {
   "cell_type": "code",
   "execution_count": 8,
   "metadata": {
    "execution": {
     "iopub.execute_input": "2021-05-17T10:27:17.692921Z",
     "iopub.status.busy": "2021-05-17T10:27:17.691939Z",
     "iopub.status.idle": "2021-05-17T10:27:17.696061Z",
     "shell.execute_reply": "2021-05-17T10:27:17.695451Z"
    }
   },
   "outputs": [
    {
     "name": "stdout",
     "output_type": "stream",
     "text": [
      "AAATTCTAGAATATGGATCAAATACGCTTGTATAAACTAAATGAAACATAAAGATTAAGAACTTAAGAGGCCAACGTCGATGGATTTATTGACGATCACCAGCCAACACATATAGATTTTAGTGTAAAAGCAATAAAAACCAAGATAATAAAATAAAAAAATACTGAAGAAGCCTAACTAGTATAAACTACTTTAACTAATAATGGCAATTTGATATAGAAACAAAGAAACATGATATATTTAGGATATTATACAACGCATTTTCATTTGTTTTACAGCACCCCTGCGTGAATCATATATTGACGTTTCGCTCTCAGGTCCACCGTGTTCTCAAAAGATACTTTTAAAACCTAAAACACACGAAATCATATTATGATAATTCAGAATGATAGTGTGGTACTGTGTCAATTGACTGTTCAAGACTGAAGAGGATCTTTGATTTGTTGTTACTCAACAAATAATCTTCACGAAAACTTTCTCAATCTGGGGACTGTATTAATCTCAGACCCATACATATCTACACCCATAACTTTTTACATTTAATTTTTTATCACATAATAGGTAGCTTAAATTGTAAAGTCGCAAAAAAAAATGGCAGCGCAGCCTCTCCGGGTGAACCCCACGACAACTTACCTGGCACTCCATGCACTAACGGGCGGGTTTGGGCAGGATTCCAGCATCAATTTTGCAAAATTCACACCTGAGTAATTCATATATGTAATATAATGTTAAGCATACGCTGTCGATTAGCACTATTATTGACCGTAGAATAGGTACAGTGAGACAGTATATTCGAA\n"
     ]
    }
   ],
   "source": [
    "print(str(template.seq))"
   ]
  },
  {
   "cell_type": "markdown",
   "metadata": {},
   "source": [
    "The seguid checksum of the template should be\n",
    "\n",
    "```ReV4CcRKmdDkBGvKIM-iqliVZ5Y```"
   ]
  },
  {
   "cell_type": "code",
   "execution_count": 9,
   "metadata": {
    "execution": {
     "iopub.execute_input": "2021-05-17T10:27:17.700717Z",
     "iopub.status.busy": "2021-05-17T10:27:17.699854Z",
     "iopub.status.idle": "2021-05-17T10:27:17.703218Z",
     "shell.execute_reply": "2021-05-17T10:27:17.703769Z"
    }
   },
   "outputs": [
    {
     "data": {
      "text/plain": [
       "ReV4CcRKmdDkBGvKIM-iqliVZ5Y"
      ]
     },
     "execution_count": 1,
     "metadata": {},
     "output_type": "execute_result"
    }
   ],
   "source": [
    "template.seguid()"
   ]
  },
  {
   "cell_type": "markdown",
   "metadata": {},
   "source": [
    "Two primers are used to amplify the insert:"
   ]
  },
  {
   "cell_type": "code",
   "execution_count": 10,
   "metadata": {
    "execution": {
     "iopub.execute_input": "2021-05-17T10:27:17.708460Z",
     "iopub.status.busy": "2021-05-17T10:27:17.707788Z",
     "iopub.status.idle": "2021-05-17T10:27:17.710931Z",
     "shell.execute_reply": "2021-05-17T10:27:17.710228Z"
    }
   },
   "outputs": [],
   "source": [
    "fp,rp = parse_primers(\"\"\">842_RPL35Atpf\n",
    "                         ttaaatAAATTCTAGAATATGGATCAA\n",
    "                         >841_RPL35Atpr\n",
    "                         taattaaTTCGAATATACTGTCTCACT\"\"\")"
   ]
  },
  {
   "cell_type": "markdown",
   "metadata": {},
   "source": [
    "PCR to create the insert using the primers above."
   ]
  },
  {
   "cell_type": "code",
   "execution_count": 11,
   "metadata": {
    "execution": {
     "iopub.execute_input": "2021-05-17T10:27:17.717422Z",
     "iopub.status.busy": "2021-05-17T10:27:17.716734Z",
     "iopub.status.idle": "2021-05-17T10:27:17.721059Z",
     "shell.execute_reply": "2021-05-17T10:27:17.721584Z"
    }
   },
   "outputs": [],
   "source": [
    "prd = pcr(fp, rp, template)\n",
    "assert str(fp.seq) in prd"
   ]
  },
  {
   "cell_type": "markdown",
   "metadata": {},
   "source": [
    "The PCR product has this length in bp."
   ]
  },
  {
   "cell_type": "code",
   "execution_count": 12,
   "metadata": {
    "execution": {
     "iopub.execute_input": "2021-05-17T10:27:17.726318Z",
     "iopub.status.busy": "2021-05-17T10:27:17.725403Z",
     "iopub.status.idle": "2021-05-17T10:27:17.729137Z",
     "shell.execute_reply": "2021-05-17T10:27:17.729986Z"
    }
   },
   "outputs": [
    {
     "data": {
      "text/plain": [
       "810"
      ]
     },
     "execution_count": 1,
     "metadata": {},
     "output_type": "execute_result"
    }
   ],
   "source": [
    "len(prd)"
   ]
  },
  {
   "cell_type": "markdown",
   "metadata": {},
   "source": [
    "A figure of the primers annealing on template."
   ]
  },
  {
   "cell_type": "code",
   "execution_count": 13,
   "metadata": {
    "execution": {
     "iopub.execute_input": "2021-05-17T10:27:17.737002Z",
     "iopub.status.busy": "2021-05-17T10:27:17.735761Z",
     "iopub.status.idle": "2021-05-17T10:27:17.740498Z",
     "shell.execute_reply": "2021-05-17T10:27:17.739699Z"
    }
   },
   "outputs": [
    {
     "data": {
      "text/plain": [
       "      5AAATTCTAGAATATGGATCAA...AGTGAGACAGTATATTCGAA3\n",
       "                               ||||||||||||||||||||\n",
       "                              3TCACTCTGTCATATAAGCTTaattaat5\n",
       "5ttaaatAAATTCTAGAATATGGATCAA3\n",
       "       |||||||||||||||||||||\n",
       "      3TTTAAGATCTTATACCTAGTT...TCACTCTGTCATATAAGCTT5"
      ]
     },
     "execution_count": 1,
     "metadata": {},
     "output_type": "execute_result"
    }
   ],
   "source": [
    "prd.figure()"
   ]
  },
  {
   "cell_type": "markdown",
   "metadata": {},
   "source": [
    "A suggested PCR program."
   ]
  },
  {
   "cell_type": "code",
   "execution_count": 14,
   "metadata": {
    "execution": {
     "iopub.execute_input": "2021-05-17T10:27:17.746919Z",
     "iopub.status.busy": "2021-05-17T10:27:17.745902Z",
     "iopub.status.idle": "2021-05-17T10:27:17.749658Z",
     "shell.execute_reply": "2021-05-17T10:27:17.750299Z"
    }
   },
   "outputs": [
    {
     "data": {
      "text/plain": [
       "|95°C|95°C               |    |tmf:51.0\n",
       "|____|_____          72°C|72°C|tmr:54.2\n",
       "|5min|30s  \\ 51.3°C _____|____|60s/kb\n",
       "|    |      \\______/ 0:48|5min|GC 33%\n",
       "|    |       30s         |    |810bp"
      ]
     },
     "execution_count": 1,
     "metadata": {},
     "output_type": "execute_result"
    }
   ],
   "source": [
    "prd.program()"
   ]
  },
  {
   "cell_type": "markdown",
   "metadata": {},
   "source": [
    "The final vectors are:"
   ]
  },
  {
   "cell_type": "code",
   "execution_count": 15,
   "metadata": {
    "execution": {
     "iopub.execute_input": "2021-05-17T10:27:17.773431Z",
     "iopub.status.busy": "2021-05-17T10:27:17.768216Z",
     "iopub.status.idle": "2021-05-17T10:27:18.227360Z",
     "shell.execute_reply": "2021-05-17T10:27:18.226893Z"
    }
   },
   "outputs": [],
   "source": [
    "pYPKa_Z_RPL35A = (pYPKa_ZraI  + prd).looped().synced(pYPKa)\n",
    "pYPKa_E_RPL35A = (pYPKa_EcoRV + prd).looped().synced(pYPKa)"
   ]
  },
  {
   "cell_type": "markdown",
   "metadata": {},
   "source": [
    "The final vectors with reverse inserts are created below. These vectors theoretically make up\n",
    "fifty percent of the clones. The PCR strategy outlined below can be used to identify clones with the insert\n",
    "in the correct orientation."
   ]
  },
  {
   "cell_type": "code",
   "execution_count": 16,
   "metadata": {
    "execution": {
     "iopub.execute_input": "2021-05-17T10:27:18.290446Z",
     "iopub.status.busy": "2021-05-17T10:27:18.255068Z",
     "iopub.status.idle": "2021-05-17T10:27:18.711910Z",
     "shell.execute_reply": "2021-05-17T10:27:18.712581Z"
    }
   },
   "outputs": [],
   "source": [
    "pYPKa_Z_RPL35Ab = (pYPKa_ZraI  + prd.rc()).looped().synced(pYPKa)\n",
    "pYPKa_E_RPL35Ab = (pYPKa_EcoRV + prd.rc()).looped().synced(pYPKa)"
   ]
  },
  {
   "cell_type": "markdown",
   "metadata": {},
   "source": [
    "A combination of yeast pathway kit standard primers and the primers above are\n",
    "used for the strategy to identify correct clones.\n",
    "Standard primers used in the yeast are listed [here](standard_primers.txt)."
   ]
  },
  {
   "cell_type": "code",
   "execution_count": 17,
   "metadata": {
    "execution": {
     "iopub.execute_input": "2021-05-17T10:27:18.719630Z",
     "iopub.status.busy": "2021-05-17T10:27:18.718435Z",
     "iopub.status.idle": "2021-05-17T10:27:18.722825Z",
     "shell.execute_reply": "2021-05-17T10:27:18.723290Z"
    }
   },
   "outputs": [],
   "source": [
    "p = { x.id: x for x in parse_primers(\"\"\">577\n",
    "                                         gttctgatcctcgagcatcttaagaattc\n",
    "                                         >578\n",
    "                                         gttcttgtctcattgccacattcataagt\n",
    "                                         >468\n",
    "                                         gtcgaggaacgccaggttgcccact\n",
    "                                         >467\n",
    "                                         ATTTAAatcctgatgcgtttgtctgcacaga\n",
    "                                         >567\n",
    "                                         GTcggctgcaggtcactagtgag\n",
    "                                         >568\n",
    "                                         GTGCcatctgtgcagacaaacg\n",
    "                                         >775\n",
    "                                         gcggccgctgacTTAAAT\n",
    "                                         >778\n",
    "                                         ggtaaatccggatTAATTAA\n",
    "                                         >342\n",
    "                                         CCTTTTTACGGTTCCTGGCCT\"\"\") }"
   ]
  },
  {
   "cell_type": "markdown",
   "metadata": {},
   "source": [
    "## Diagnostic PCR confirmation\n",
    "\n",
    "The correct structure of pYPKa_Z_RPL35A is confirmed by PCR using standard primers\n",
    "577 and 342 that are vector specific together with the RPL35Afw primer specific for the insert\n",
    "in a multiplex PCR reaction with\n",
    "all three primers present.\n",
    "\n",
    "Two PCR products are expected if the insert was cloned, the sizes depend\n",
    "on the orientation. If the vector is empty or contains another insert, only one\n",
    "product is formed.\n",
    "\n",
    "#### Expected PCR products sizes from pYPKa_Z_RPL35A:\n",
    "\n",
    "pYPKa_Z_RPL35A with insert in correct orientation."
   ]
  },
  {
   "cell_type": "code",
   "execution_count": 18,
   "metadata": {
    "execution": {
     "iopub.execute_input": "2021-05-17T10:27:18.737286Z",
     "iopub.status.busy": "2021-05-17T10:27:18.736346Z",
     "iopub.status.idle": "2021-05-17T10:27:18.740825Z",
     "shell.execute_reply": "2021-05-17T10:27:18.740153Z"
    }
   },
   "outputs": [
    {
     "data": {
      "text/plain": [
       "[Amplicon(1744), Amplicon(1576)]"
      ]
     },
     "execution_count": 1,
     "metadata": {},
     "output_type": "execute_result"
    }
   ],
   "source": [
    "Anneal( (p['577'], p['342'], fp), pYPKa_Z_RPL35A).products"
   ]
  },
  {
   "cell_type": "markdown",
   "metadata": {},
   "source": [
    "pYPKa_Z_RPL35A with insert in reverse orientation."
   ]
  },
  {
   "cell_type": "code",
   "execution_count": 19,
   "metadata": {
    "execution": {
     "iopub.execute_input": "2021-05-17T10:27:18.755686Z",
     "iopub.status.busy": "2021-05-17T10:27:18.748860Z",
     "iopub.status.idle": "2021-05-17T10:27:18.759376Z",
     "shell.execute_reply": "2021-05-17T10:27:18.758836Z"
    }
   },
   "outputs": [
    {
     "data": {
      "text/plain": [
       "[Amplicon(1744), Amplicon(978)]"
      ]
     },
     "execution_count": 1,
     "metadata": {},
     "output_type": "execute_result"
    }
   ],
   "source": [
    "Anneal( (p['577'], p['342'], fp), pYPKa_Z_RPL35Ab).products"
   ]
  },
  {
   "cell_type": "markdown",
   "metadata": {},
   "source": [
    "Empty pYPKa clone."
   ]
  },
  {
   "cell_type": "code",
   "execution_count": 20,
   "metadata": {
    "execution": {
     "iopub.execute_input": "2021-05-17T10:27:18.766423Z",
     "iopub.status.busy": "2021-05-17T10:27:18.765847Z",
     "iopub.status.idle": "2021-05-17T10:27:18.770381Z",
     "shell.execute_reply": "2021-05-17T10:27:18.769335Z"
    }
   },
   "outputs": [
    {
     "data": {
      "text/plain": [
       "[Amplicon(934)]"
      ]
     },
     "execution_count": 1,
     "metadata": {},
     "output_type": "execute_result"
    }
   ],
   "source": [
    "Anneal( (p['577'], p['342'], fp), pYPKa).products"
   ]
  },
  {
   "cell_type": "markdown",
   "metadata": {},
   "source": [
    "#### Expected PCR products sizes pYPKa_E_RPL35A:\n",
    "\n",
    "pYPKa_E_RPL35A with insert in correct orientation."
   ]
  },
  {
   "cell_type": "code",
   "execution_count": 21,
   "metadata": {
    "execution": {
     "iopub.execute_input": "2021-05-17T10:27:18.783001Z",
     "iopub.status.busy": "2021-05-17T10:27:18.782412Z",
     "iopub.status.idle": "2021-05-17T10:27:18.784866Z",
     "shell.execute_reply": "2021-05-17T10:27:18.785384Z"
    }
   },
   "outputs": [
    {
     "data": {
      "text/plain": [
       "[Amplicon(1744), Amplicon(1495)]"
      ]
     },
     "execution_count": 1,
     "metadata": {},
     "output_type": "execute_result"
    }
   ],
   "source": [
    "Anneal( (p['577'], p['342'], fp), pYPKa_E_RPL35A).products"
   ]
  },
  {
   "cell_type": "markdown",
   "metadata": {},
   "source": [
    "pYPKa_E_RPL35A with insert in reverse orientation."
   ]
  },
  {
   "cell_type": "code",
   "execution_count": 22,
   "metadata": {
    "execution": {
     "iopub.execute_input": "2021-05-17T10:27:18.799539Z",
     "iopub.status.busy": "2021-05-17T10:27:18.798880Z",
     "iopub.status.idle": "2021-05-17T10:27:18.801940Z",
     "shell.execute_reply": "2021-05-17T10:27:18.801468Z"
    }
   },
   "outputs": [
    {
     "data": {
      "text/plain": [
       "[Amplicon(1744), Amplicon(1059)]"
      ]
     },
     "execution_count": 1,
     "metadata": {},
     "output_type": "execute_result"
    }
   ],
   "source": [
    "Anneal( (p['577'], p['342'], fp), pYPKa_E_RPL35Ab).products\n"
   ]
  },
  {
   "cell_type": "markdown",
   "metadata": {},
   "source": [
    "Calculate cseguid checksums for the resulting plasmids for future reference.\n",
    "This checksum that uniquely describes a circular double stranded\n",
    "sequence. See this [blog post](https://ochsavidare.blogspot.com/2016/02/checksum-for-circular-biological.html) for more info.\n",
    "\n",
    "pYPKa_Z_RPL35A.cseguid() should be 3BlDmHsrRcTB0UAkxiqXgzIaeLo"
   ]
  },
  {
   "cell_type": "code",
   "execution_count": 23,
   "metadata": {
    "execution": {
     "iopub.execute_input": "2021-05-17T10:27:18.811254Z",
     "iopub.status.busy": "2021-05-17T10:27:18.810772Z",
     "iopub.status.idle": "2021-05-17T10:27:18.814592Z",
     "shell.execute_reply": "2021-05-17T10:27:18.813943Z"
    }
   },
   "outputs": [
    {
     "name": "stdout",
     "output_type": "stream",
     "text": [
      "3BlDmHsrRcTB0UAkxiqXgzIaeLo\n"
     ]
    }
   ],
   "source": [
    "print(pYPKa_Z_RPL35A.cseguid())\n",
    "assert pYPKa_Z_RPL35A.cseguid() == \"3BlDmHsrRcTB0UAkxiqXgzIaeLo\""
   ]
  },
  {
   "cell_type": "markdown",
   "metadata": {},
   "source": [
    "pYPKa_E_RPL35A.cseguid() should be 5gvRn30_H07QZ1-HJtihAxD7X8A"
   ]
  },
  {
   "cell_type": "code",
   "execution_count": 24,
   "metadata": {
    "execution": {
     "iopub.execute_input": "2021-05-17T10:27:18.827703Z",
     "iopub.status.busy": "2021-05-17T10:27:18.827051Z",
     "iopub.status.idle": "2021-05-17T10:27:18.830438Z",
     "shell.execute_reply": "2021-05-17T10:27:18.829702Z"
    }
   },
   "outputs": [
    {
     "name": "stdout",
     "output_type": "stream",
     "text": [
      "5gvRn30_H07QZ1-HJtihAxD7X8A\n"
     ]
    }
   ],
   "source": [
    "print(pYPKa_E_RPL35A.cseguid())\n",
    "assert pYPKa_E_RPL35A.cseguid() == \"5gvRn30_H07QZ1-HJtihAxD7X8A\""
   ]
  },
  {
   "cell_type": "markdown",
   "metadata": {},
   "source": [
    "The sequences are named based on the name of the cloned insert."
   ]
  },
  {
   "cell_type": "code",
   "execution_count": 25,
   "metadata": {
    "execution": {
     "iopub.execute_input": "2021-05-17T10:27:18.836043Z",
     "iopub.status.busy": "2021-05-17T10:27:18.834903Z",
     "iopub.status.idle": "2021-05-17T10:27:18.837918Z",
     "shell.execute_reply": "2021-05-17T10:27:18.838532Z"
    }
   },
   "outputs": [],
   "source": [
    "pYPKa_Z_RPL35A.locus = \"pYPKa_Z_RPL35A\"[:16]\n",
    "pYPKa_E_RPL35A.locus = \"pYPKa_Z_RPL35A\"[:16]"
   ]
  },
  {
   "cell_type": "markdown",
   "metadata": {},
   "source": [
    "Stamp sequence with cseguid checksum. This can be used to verify the\n",
    "integrity of the sequence file."
   ]
  },
  {
   "cell_type": "code",
   "execution_count": 26,
   "metadata": {
    "execution": {
     "iopub.execute_input": "2021-05-17T10:27:18.856356Z",
     "iopub.status.busy": "2021-05-17T10:27:18.855497Z",
     "iopub.status.idle": "2021-05-17T10:27:18.859049Z",
     "shell.execute_reply": "2021-05-17T10:27:18.859547Z"
    }
   },
   "outputs": [
    {
     "data": {
      "text/plain": [
       "cSEGUID_5gvRn30_H07QZ1-HJtihAxD7X8A"
      ]
     },
     "execution_count": 1,
     "metadata": {},
     "output_type": "execute_result"
    }
   ],
   "source": [
    "pYPKa_Z_RPL35A.stamp()\n",
    "pYPKa_E_RPL35A.stamp()"
   ]
  },
  {
   "cell_type": "markdown",
   "metadata": {},
   "source": [
    "pYPKa_Z_RPL35A is written to a local file:"
   ]
  },
  {
   "cell_type": "code",
   "execution_count": 27,
   "metadata": {
    "execution": {
     "iopub.execute_input": "2021-05-17T10:27:18.865347Z",
     "iopub.status.busy": "2021-05-17T10:27:18.864789Z",
     "iopub.status.idle": "2021-05-17T10:27:18.868534Z",
     "shell.execute_reply": "2021-05-17T10:27:18.869138Z"
    }
   },
   "outputs": [
    {
     "data": {
      "text/html": [
       "<font face=monospace><a href='pYPKa_Z_RPL35A.gb' target='_blank'>pYPKa_Z_RPL35A.gb</a></font><br>"
      ]
     },
     "metadata": {},
     "output_type": "display_data"
    }
   ],
   "source": [
    "pYPKa_Z_RPL35A.write(\"pYPKa_Z_RPL35A.gb\")"
   ]
  },
  {
   "cell_type": "markdown",
   "metadata": {},
   "source": [
    "pYPKa_E_RPL35A is written to a local file:"
   ]
  },
  {
   "cell_type": "code",
   "execution_count": 28,
   "metadata": {
    "execution": {
     "iopub.execute_input": "2021-05-17T10:27:18.879043Z",
     "iopub.status.busy": "2021-05-17T10:27:18.872469Z",
     "iopub.status.idle": "2021-05-17T10:27:18.882728Z",
     "shell.execute_reply": "2021-05-17T10:27:18.883199Z"
    }
   },
   "outputs": [
    {
     "data": {
      "text/html": [
       "<font face=monospace><a href='pYPKa_E_RPL35A.gb' target='_blank'>pYPKa_E_RPL35A.gb</a></font><br>"
      ]
     },
     "metadata": {},
     "output_type": "display_data"
    }
   ],
   "source": [
    "pYPKa_E_RPL35A.write(\"pYPKa_E_RPL35A.gb\")"
   ]
  }
 ],
 "metadata": {
  "language_info": {
   "codemirror_mode": {
    "name": "ipython",
    "version": 3
   },
   "file_extension": ".py",
   "mimetype": "text/x-python",
   "name": "python",
   "nbconvert_exporter": "python",
   "pygments_lexer": "ipython3",
   "version": "3.9.0"
  }
 },
 "nbformat": 4,
 "nbformat_minor": 2
}
