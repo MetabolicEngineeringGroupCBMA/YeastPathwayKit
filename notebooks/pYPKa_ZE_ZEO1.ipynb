{
 "cells": [
  {
   "cell_type": "markdown",
   "metadata": {},
   "source": [
    "# pYPKa_Z_ZEO1 and pYPKa_E_ZEO1\n",
    "\n",
    "This Jupyter notebook describe the construction of E. coli vectors [pYPKa_Z_ZEO1](pYPKa_Z_ZEO1.gb) and [pYPKa_E_ZEO1](pYPKa_E_ZEO1.gb). \n",
    "These two vectors share backbone and insert, but in the former, the insert is cloned using the restriction\n",
    "enzyme [ZraI](http://rebase.neb.com/rebase/enz/ZraI.html) while in the latter [EcoRV](http://rebase.neb.com/rebase/enz/EcoRV.html) is used.\n",
    "\n",
    "The insert cloned in ZraI is meant to function as a promoter, while in the EcoRV site it is meant to be  used as a terminator.\n",
    "\n",
    "Links to the sequence of each vector in Genbank format can be found at the bottom of this document.\n",
    "\n",
    "![pYPKa_Z and pYPKa_E](figure_pYPKa_ZE.png \"pYPKa_Z or pYPKa_E plasmid\")\n",
    "\n",
    "The Python package [pydna](https://pypi.python.org/pypi/pydna/) package is imported in the code cell below to provide \n",
    "the cloning functionality. There is a [publication](http://www.biomedcentral.com/1471-2105/16/142) describing pydna as well as\n",
    "[documentation](http://pydna.readthedocs.io/) available online. Pydna is developed on [Github](https://github.com/BjornFJohansson/pydna)."
   ]
  },
  {
   "cell_type": "code",
   "execution_count": 1,
   "metadata": {
    "execution": {
     "iopub.execute_input": "2021-05-17T10:28:37.194415Z",
     "iopub.status.busy": "2021-05-17T10:28:37.193651Z",
     "iopub.status.idle": "2021-05-17T10:28:37.709285Z",
     "shell.execute_reply": "2021-05-17T10:28:37.708641Z"
    }
   },
   "outputs": [],
   "source": [
    "from pydna.readers import read\n",
    "from pydna.parsers import parse_primers\n",
    "from pydna.genbank import Genbank\n",
    "from pydna.amplify import pcr\n",
    "from pydna.amplify import Anneal"
   ]
  },
  {
   "cell_type": "markdown",
   "metadata": {},
   "source": [
    "The vector backbone pYPKa is read from a local [file](pYPKa.gb)."
   ]
  },
  {
   "cell_type": "code",
   "execution_count": 2,
   "metadata": {
    "execution": {
     "iopub.execute_input": "2021-05-17T10:28:37.719205Z",
     "iopub.status.busy": "2021-05-17T10:28:37.718691Z",
     "iopub.status.idle": "2021-05-17T10:28:37.727091Z",
     "shell.execute_reply": "2021-05-17T10:28:37.727519Z"
    }
   },
   "outputs": [],
   "source": [
    "pYPKa = read(\"pYPKa.gb\")"
   ]
  },
  {
   "cell_type": "markdown",
   "metadata": {},
   "source": [
    "Both restriction enzymes are imported from [Biopython](http://biopython.org/wiki/Main_Page)"
   ]
  },
  {
   "cell_type": "code",
   "execution_count": 3,
   "metadata": {
    "execution": {
     "iopub.execute_input": "2021-05-17T10:28:37.731911Z",
     "iopub.status.busy": "2021-05-17T10:28:37.731116Z",
     "iopub.status.idle": "2021-05-17T10:28:37.733508Z",
     "shell.execute_reply": "2021-05-17T10:28:37.734134Z"
    }
   },
   "outputs": [],
   "source": [
    "from Bio.Restriction import ZraI, EcoRV"
   ]
  },
  {
   "cell_type": "markdown",
   "metadata": {},
   "source": [
    "The vector is cut with both enzymes."
   ]
  },
  {
   "cell_type": "code",
   "execution_count": 4,
   "metadata": {
    "execution": {
     "iopub.execute_input": "2021-05-17T10:28:37.742133Z",
     "iopub.status.busy": "2021-05-17T10:28:37.741518Z",
     "iopub.status.idle": "2021-05-17T10:28:37.744571Z",
     "shell.execute_reply": "2021-05-17T10:28:37.743938Z"
    }
   },
   "outputs": [],
   "source": [
    "pYPKa_ZraI  = pYPKa.linearize(ZraI)\n",
    "pYPKa_EcoRV = pYPKa.linearize(EcoRV)"
   ]
  },
  {
   "cell_type": "markdown",
   "metadata": {},
   "source": [
    "The template below comes from a Genbank [record](http://www.ncbi.nlm.nih.gov/nuccore/BK006948.2).\n",
    "Access to Genbank is needed in order to download the template.\n",
    "If you execute this script, change the email address below to your own.\n",
    "Always tell Genbank who you are, when using their web service."
   ]
  },
  {
   "cell_type": "code",
   "execution_count": 5,
   "metadata": {
    "execution": {
     "iopub.execute_input": "2021-05-17T10:28:37.750105Z",
     "iopub.status.busy": "2021-05-17T10:28:37.749176Z",
     "iopub.status.idle": "2021-05-17T10:28:37.752501Z",
     "shell.execute_reply": "2021-05-17T10:28:37.751858Z"
    }
   },
   "outputs": [],
   "source": [
    "gb = Genbank(\"bjornjobb@gmail.com\")"
   ]
  },
  {
   "cell_type": "markdown",
   "metadata": {},
   "source": [
    "The template is downloaded from Genbank below."
   ]
  },
  {
   "cell_type": "code",
   "execution_count": 6,
   "metadata": {
    "execution": {
     "iopub.execute_input": "2021-05-17T10:28:37.757299Z",
     "iopub.status.busy": "2021-05-17T10:28:37.756657Z",
     "iopub.status.idle": "2021-05-17T10:28:37.767093Z",
     "shell.execute_reply": "2021-05-17T10:28:37.766515Z"
    }
   },
   "outputs": [],
   "source": [
    "template = gb.nucleotide(\"BK006948.2 REGION: 109890..110296\")"
   ]
  },
  {
   "cell_type": "markdown",
   "metadata": {},
   "source": [
    "The template is a 407 bp linear DNA fragment."
   ]
  },
  {
   "cell_type": "code",
   "execution_count": 7,
   "metadata": {
    "execution": {
     "iopub.execute_input": "2021-05-17T10:28:37.776261Z",
     "iopub.status.busy": "2021-05-17T10:28:37.775180Z",
     "iopub.status.idle": "2021-05-17T10:28:37.779338Z",
     "shell.execute_reply": "2021-05-17T10:28:37.779875Z"
    }
   },
   "outputs": [
    {
     "data": {
      "text/html": [
       "<a href='https://www.ncbi.nlm.nih.gov/nuccore/BK006948.2 ?from=109890&to=110296&strand=1' target='_blank'>BK006948.2  109890-110296</a>"
      ],
      "text/plain": [
       "Gbank(BK006948.2  109890-110296)(-407)"
      ]
     },
     "execution_count": 1,
     "metadata": {},
     "output_type": "execute_result"
    }
   ],
   "source": [
    "template"
   ]
  },
  {
   "cell_type": "markdown",
   "metadata": {},
   "source": [
    "The insert has the sequence shown below."
   ]
  },
  {
   "cell_type": "code",
   "execution_count": 8,
   "metadata": {
    "execution": {
     "iopub.execute_input": "2021-05-17T10:28:37.785269Z",
     "iopub.status.busy": "2021-05-17T10:28:37.784228Z",
     "iopub.status.idle": "2021-05-17T10:28:37.788862Z",
     "shell.execute_reply": "2021-05-17T10:28:37.788117Z"
    }
   },
   "outputs": [
    {
     "name": "stdout",
     "output_type": "stream",
     "text": [
      "TTAAACGTGTGGTTTATGGGTGCACCAGGGCTTTATCGTGTTTTATATCGATGGCGATTTGTGCCTCCAGTGTATTTTTGTATATCCAATTAAGGTTTCTTACCTAATTTTATTTTTATCATCTTTAGTTAATGCTGGTTTGCTCTGTTTCTGCTGCTTTCTGTGCGGTTCTCCTCTTCTCTTGTTTCTTCGTGTTGTCCCCCATCGCCGATGGGCTTATATGGCGTATATATATAGAGCGAGTTTTTACGTCGAAGATCATCTCAGTTTGCTTGATAGCCTTTCTACTTTATTACTTTCGTTTTTAACCTCATTATACTTTAGTTTTCTTTGATCGGTTTTTTTCTCTGTATACTTAAAAGTTCAAATCAAAGAAACATACAAAACTACGTTTATATCAATTAATA\n"
     ]
    }
   ],
   "source": [
    "print(str(template.seq))"
   ]
  },
  {
   "cell_type": "markdown",
   "metadata": {},
   "source": [
    "The seguid checksum of the template should be\n",
    "\n",
    "```_OddyaUN9wf7CVOHARigMH1mluc```"
   ]
  },
  {
   "cell_type": "code",
   "execution_count": 9,
   "metadata": {
    "execution": {
     "iopub.execute_input": "2021-05-17T10:28:37.794391Z",
     "iopub.status.busy": "2021-05-17T10:28:37.793423Z",
     "iopub.status.idle": "2021-05-17T10:28:37.797190Z",
     "shell.execute_reply": "2021-05-17T10:28:37.797874Z"
    }
   },
   "outputs": [
    {
     "data": {
      "text/plain": [
       "_OddyaUN9wf7CVOHARigMH1mluc"
      ]
     },
     "execution_count": 1,
     "metadata": {},
     "output_type": "execute_result"
    }
   ],
   "source": [
    "template.seguid()"
   ]
  },
  {
   "cell_type": "markdown",
   "metadata": {},
   "source": [
    "Two primers are used to amplify the insert:"
   ]
  },
  {
   "cell_type": "code",
   "execution_count": 10,
   "metadata": {
    "execution": {
     "iopub.execute_input": "2021-05-17T10:28:37.803668Z",
     "iopub.status.busy": "2021-05-17T10:28:37.802702Z",
     "iopub.status.idle": "2021-05-17T10:28:37.806095Z",
     "shell.execute_reply": "2021-05-17T10:28:37.805404Z"
    }
   },
   "outputs": [],
   "source": [
    "fp,rp = parse_primers(\"\"\">1028_fw407\n",
    "                         ttaaatTTAAACGTGTGGTTTAT\n",
    "                         >1027_rv407\n",
    "                         taattaaTATTAATTGATATAAACGTAGT\"\"\")"
   ]
  },
  {
   "cell_type": "markdown",
   "metadata": {},
   "source": [
    "PCR to create the insert using the primers above."
   ]
  },
  {
   "cell_type": "code",
   "execution_count": 11,
   "metadata": {
    "execution": {
     "iopub.execute_input": "2021-05-17T10:28:37.813034Z",
     "iopub.status.busy": "2021-05-17T10:28:37.812039Z",
     "iopub.status.idle": "2021-05-17T10:28:37.818041Z",
     "shell.execute_reply": "2021-05-17T10:28:37.818826Z"
    }
   },
   "outputs": [],
   "source": [
    "prd = pcr(fp, rp, template)\n",
    "assert str(fp.seq) in prd"
   ]
  },
  {
   "cell_type": "markdown",
   "metadata": {},
   "source": [
    "The PCR product has this length in bp."
   ]
  },
  {
   "cell_type": "code",
   "execution_count": 12,
   "metadata": {
    "execution": {
     "iopub.execute_input": "2021-05-17T10:28:37.823522Z",
     "iopub.status.busy": "2021-05-17T10:28:37.822732Z",
     "iopub.status.idle": "2021-05-17T10:28:37.825919Z",
     "shell.execute_reply": "2021-05-17T10:28:37.826497Z"
    }
   },
   "outputs": [
    {
     "data": {
      "text/plain": [
       "420"
      ]
     },
     "execution_count": 1,
     "metadata": {},
     "output_type": "execute_result"
    }
   ],
   "source": [
    "len(prd)"
   ]
  },
  {
   "cell_type": "markdown",
   "metadata": {},
   "source": [
    "A figure of the primers annealing on template."
   ]
  },
  {
   "cell_type": "code",
   "execution_count": 13,
   "metadata": {
    "execution": {
     "iopub.execute_input": "2021-05-17T10:28:37.831418Z",
     "iopub.status.busy": "2021-05-17T10:28:37.830587Z",
     "iopub.status.idle": "2021-05-17T10:28:37.834128Z",
     "shell.execute_reply": "2021-05-17T10:28:37.833550Z"
    }
   },
   "outputs": [
    {
     "data": {
      "text/plain": [
       "      5TTAAACGTGTGGTTTAT...ACTACGTTTATATCAATTAATA3\n",
       "                           ||||||||||||||||||||||\n",
       "                          3TGATGCAAATATAGTTAATTATaattaat5\n",
       "5ttaaatTTAAACGTGTGGTTTAT3\n",
       "       |||||||||||||||||\n",
       "      3AATTTGCACACCAAATA...TGATGCAAATATAGTTAATTAT5"
      ]
     },
     "execution_count": 1,
     "metadata": {},
     "output_type": "execute_result"
    }
   ],
   "source": [
    "prd.figure()"
   ]
  },
  {
   "cell_type": "markdown",
   "metadata": {},
   "source": [
    "A suggested PCR program."
   ]
  },
  {
   "cell_type": "code",
   "execution_count": 14,
   "metadata": {
    "execution": {
     "iopub.execute_input": "2021-05-17T10:28:37.839750Z",
     "iopub.status.busy": "2021-05-17T10:28:37.838776Z",
     "iopub.status.idle": "2021-05-17T10:28:37.842447Z",
     "shell.execute_reply": "2021-05-17T10:28:37.843063Z"
    }
   },
   "outputs": [
    {
     "data": {
      "text/plain": [
       "|95°C|95°C               |    |tmf:49.7\n",
       "|____|_____          72°C|72°C|tmr:50.0\n",
       "|5min|30s  \\ 50.5°C _____|____|60s/kb\n",
       "|    |      \\______/ 0:25|5min|GC 33%\n",
       "|    |       30s         |    |420bp"
      ]
     },
     "execution_count": 1,
     "metadata": {},
     "output_type": "execute_result"
    }
   ],
   "source": [
    "prd.program()"
   ]
  },
  {
   "cell_type": "markdown",
   "metadata": {},
   "source": [
    "The final vectors are:"
   ]
  },
  {
   "cell_type": "code",
   "execution_count": 15,
   "metadata": {
    "execution": {
     "iopub.execute_input": "2021-05-17T10:28:37.917670Z",
     "iopub.status.busy": "2021-05-17T10:28:37.881802Z",
     "iopub.status.idle": "2021-05-17T10:28:38.306031Z",
     "shell.execute_reply": "2021-05-17T10:28:38.305499Z"
    }
   },
   "outputs": [],
   "source": [
    "pYPKa_Z_ZEO1 = (pYPKa_ZraI  + prd).looped().synced(pYPKa)\n",
    "pYPKa_E_ZEO1 = (pYPKa_EcoRV + prd).looped().synced(pYPKa)"
   ]
  },
  {
   "cell_type": "markdown",
   "metadata": {},
   "source": [
    "The final vectors with reverse inserts are created below. These vectors theoretically make up\n",
    "fifty percent of the clones. The PCR strategy outlined below can be used to identify clones with the insert\n",
    "in the correct orientation."
   ]
  },
  {
   "cell_type": "code",
   "execution_count": 16,
   "metadata": {
    "execution": {
     "iopub.execute_input": "2021-05-17T10:28:38.323568Z",
     "iopub.status.busy": "2021-05-17T10:28:38.318553Z",
     "iopub.status.idle": "2021-05-17T10:28:38.757271Z",
     "shell.execute_reply": "2021-05-17T10:28:38.756776Z"
    }
   },
   "outputs": [],
   "source": [
    "pYPKa_Z_ZEO1b = (pYPKa_ZraI  + prd.rc()).looped().synced(pYPKa)\n",
    "pYPKa_E_ZEO1b = (pYPKa_EcoRV + prd.rc()).looped().synced(pYPKa)"
   ]
  },
  {
   "cell_type": "markdown",
   "metadata": {},
   "source": [
    "A combination of yeast pathway kit standard primers and the primers above are\n",
    "used for the strategy to identify correct clones.\n",
    "Standard primers used in the yeast are listed [here](standard_primers.txt)."
   ]
  },
  {
   "cell_type": "code",
   "execution_count": 17,
   "metadata": {
    "execution": {
     "iopub.execute_input": "2021-05-17T10:28:38.761289Z",
     "iopub.status.busy": "2021-05-17T10:28:38.760141Z",
     "iopub.status.idle": "2021-05-17T10:28:38.764338Z",
     "shell.execute_reply": "2021-05-17T10:28:38.763648Z"
    }
   },
   "outputs": [],
   "source": [
    "p = { x.id: x for x in parse_primers(\"\"\">577\n",
    "                                         gttctgatcctcgagcatcttaagaattc\n",
    "                                         >578\n",
    "                                         gttcttgtctcattgccacattcataagt\n",
    "                                         >468\n",
    "                                         gtcgaggaacgccaggttgcccact\n",
    "                                         >467\n",
    "                                         ATTTAAatcctgatgcgtttgtctgcacaga\n",
    "                                         >567\n",
    "                                         GTcggctgcaggtcactagtgag\n",
    "                                         >568\n",
    "                                         GTGCcatctgtgcagacaaacg\n",
    "                                         >775\n",
    "                                         gcggccgctgacTTAAAT\n",
    "                                         >778\n",
    "                                         ggtaaatccggatTAATTAA\n",
    "                                         >342\n",
    "                                         CCTTTTTACGGTTCCTGGCCT\"\"\") }"
   ]
  },
  {
   "cell_type": "markdown",
   "metadata": {},
   "source": [
    "## Diagnostic PCR confirmation\n",
    "\n",
    "The correct structure of pYPKa_Z_ZEO1 is confirmed by PCR using standard primers\n",
    "577 and 342 that are vector specific together with the ZEO1fw primer specific for the insert\n",
    "in a multiplex PCR reaction with\n",
    "all three primers present.\n",
    "\n",
    "Two PCR products are expected if the insert was cloned, the sizes depend\n",
    "on the orientation. If the vector is empty or contains another insert, only one\n",
    "product is formed.\n",
    "\n",
    "#### Expected PCR products sizes from pYPKa_Z_ZEO1:\n",
    "\n",
    "pYPKa_Z_ZEO1 with insert in correct orientation."
   ]
  },
  {
   "cell_type": "code",
   "execution_count": 18,
   "metadata": {
    "execution": {
     "iopub.execute_input": "2021-05-17T10:28:38.779049Z",
     "iopub.status.busy": "2021-05-17T10:28:38.777683Z",
     "iopub.status.idle": "2021-05-17T10:28:38.782641Z",
     "shell.execute_reply": "2021-05-17T10:28:38.782165Z"
    }
   },
   "outputs": [
    {
     "data": {
      "text/plain": [
       "[Amplicon(1354), Amplicon(1186)]"
      ]
     },
     "execution_count": 1,
     "metadata": {},
     "output_type": "execute_result"
    }
   ],
   "source": [
    "Anneal( (p['577'], p['342'], fp), pYPKa_Z_ZEO1).products"
   ]
  },
  {
   "cell_type": "markdown",
   "metadata": {},
   "source": [
    "pYPKa_Z_ZEO1 with insert in reverse orientation."
   ]
  },
  {
   "cell_type": "code",
   "execution_count": 19,
   "metadata": {
    "execution": {
     "iopub.execute_input": "2021-05-17T10:28:38.794706Z",
     "iopub.status.busy": "2021-05-17T10:28:38.794191Z",
     "iopub.status.idle": "2021-05-17T10:28:38.796778Z",
     "shell.execute_reply": "2021-05-17T10:28:38.797225Z"
    }
   },
   "outputs": [
    {
     "data": {
      "text/plain": [
       "[Amplicon(1354), Amplicon(588)]"
      ]
     },
     "execution_count": 1,
     "metadata": {},
     "output_type": "execute_result"
    }
   ],
   "source": [
    "Anneal( (p['577'], p['342'], fp), pYPKa_Z_ZEO1b).products"
   ]
  },
  {
   "cell_type": "markdown",
   "metadata": {},
   "source": [
    "Empty pYPKa clone."
   ]
  },
  {
   "cell_type": "code",
   "execution_count": 20,
   "metadata": {
    "execution": {
     "iopub.execute_input": "2021-05-17T10:28:38.804680Z",
     "iopub.status.busy": "2021-05-17T10:28:38.804076Z",
     "iopub.status.idle": "2021-05-17T10:28:38.807207Z",
     "shell.execute_reply": "2021-05-17T10:28:38.807766Z"
    }
   },
   "outputs": [
    {
     "data": {
      "text/plain": [
       "[Amplicon(934)]"
      ]
     },
     "execution_count": 1,
     "metadata": {},
     "output_type": "execute_result"
    }
   ],
   "source": [
    "Anneal( (p['577'], p['342'], fp), pYPKa).products"
   ]
  },
  {
   "cell_type": "markdown",
   "metadata": {},
   "source": [
    "#### Expected PCR products sizes pYPKa_E_ZEO1:\n",
    "\n",
    "pYPKa_E_ZEO1 with insert in correct orientation."
   ]
  },
  {
   "cell_type": "code",
   "execution_count": 21,
   "metadata": {
    "execution": {
     "iopub.execute_input": "2021-05-17T10:28:38.820218Z",
     "iopub.status.busy": "2021-05-17T10:28:38.819634Z",
     "iopub.status.idle": "2021-05-17T10:28:38.822406Z",
     "shell.execute_reply": "2021-05-17T10:28:38.822734Z"
    }
   },
   "outputs": [
    {
     "data": {
      "text/plain": [
       "[Amplicon(1354), Amplicon(1105)]"
      ]
     },
     "execution_count": 1,
     "metadata": {},
     "output_type": "execute_result"
    }
   ],
   "source": [
    "Anneal( (p['577'], p['342'], fp), pYPKa_E_ZEO1).products"
   ]
  },
  {
   "cell_type": "markdown",
   "metadata": {},
   "source": [
    "pYPKa_E_ZEO1 with insert in reverse orientation."
   ]
  },
  {
   "cell_type": "code",
   "execution_count": 22,
   "metadata": {
    "execution": {
     "iopub.execute_input": "2021-05-17T10:28:38.832382Z",
     "iopub.status.busy": "2021-05-17T10:28:38.831928Z",
     "iopub.status.idle": "2021-05-17T10:28:38.834433Z",
     "shell.execute_reply": "2021-05-17T10:28:38.834869Z"
    }
   },
   "outputs": [
    {
     "data": {
      "text/plain": [
       "[Amplicon(1354), Amplicon(669)]"
      ]
     },
     "execution_count": 1,
     "metadata": {},
     "output_type": "execute_result"
    }
   ],
   "source": [
    "Anneal( (p['577'], p['342'], fp), pYPKa_E_ZEO1b).products\n"
   ]
  },
  {
   "cell_type": "markdown",
   "metadata": {},
   "source": [
    "Calculate cseguid checksums for the resulting plasmids for future reference.\n",
    "This checksum that uniquely describes a circular double stranded\n",
    "sequence. See this [blog post](https://ochsavidare.blogspot.com/2016/02/checksum-for-circular-biological.html) for more info.\n",
    "\n",
    "pYPKa_Z_ZEO1.cseguid() should be QTY2gul_YNoBGVCxZeENaeXPtkI"
   ]
  },
  {
   "cell_type": "code",
   "execution_count": 23,
   "metadata": {
    "execution": {
     "iopub.execute_input": "2021-05-17T10:28:38.843709Z",
     "iopub.status.busy": "2021-05-17T10:28:38.843188Z",
     "iopub.status.idle": "2021-05-17T10:28:38.845444Z",
     "shell.execute_reply": "2021-05-17T10:28:38.845897Z"
    }
   },
   "outputs": [
    {
     "name": "stdout",
     "output_type": "stream",
     "text": [
      "QTY2gul_YNoBGVCxZeENaeXPtkI\n"
     ]
    }
   ],
   "source": [
    "print(pYPKa_Z_ZEO1.cseguid())\n",
    "assert pYPKa_Z_ZEO1.cseguid() == \"QTY2gul_YNoBGVCxZeENaeXPtkI\""
   ]
  },
  {
   "cell_type": "markdown",
   "metadata": {},
   "source": [
    "pYPKa_E_ZEO1.cseguid() should be P_FBvx1_VL962QJuvaFS7bptHbM"
   ]
  },
  {
   "cell_type": "code",
   "execution_count": 24,
   "metadata": {
    "execution": {
     "iopub.execute_input": "2021-05-17T10:28:38.856812Z",
     "iopub.status.busy": "2021-05-17T10:28:38.856142Z",
     "iopub.status.idle": "2021-05-17T10:28:38.859047Z",
     "shell.execute_reply": "2021-05-17T10:28:38.859564Z"
    }
   },
   "outputs": [
    {
     "name": "stdout",
     "output_type": "stream",
     "text": [
      "P_FBvx1_VL962QJuvaFS7bptHbM\n"
     ]
    }
   ],
   "source": [
    "print(pYPKa_E_ZEO1.cseguid())\n",
    "assert pYPKa_E_ZEO1.cseguid() == \"P_FBvx1_VL962QJuvaFS7bptHbM\""
   ]
  },
  {
   "cell_type": "markdown",
   "metadata": {},
   "source": [
    "The sequences are named based on the name of the cloned insert."
   ]
  },
  {
   "cell_type": "code",
   "execution_count": 25,
   "metadata": {
    "execution": {
     "iopub.execute_input": "2021-05-17T10:28:38.863011Z",
     "iopub.status.busy": "2021-05-17T10:28:38.862463Z",
     "iopub.status.idle": "2021-05-17T10:28:38.864433Z",
     "shell.execute_reply": "2021-05-17T10:28:38.864914Z"
    }
   },
   "outputs": [],
   "source": [
    "pYPKa_Z_ZEO1.locus = \"pYPKa_Z_ZEO1\"[:16]\n",
    "pYPKa_E_ZEO1.locus = \"pYPKa_Z_ZEO1\"[:16]"
   ]
  },
  {
   "cell_type": "markdown",
   "metadata": {},
   "source": [
    "Stamp sequence with cseguid checksum. This can be used to verify the\n",
    "integrity of the sequence file."
   ]
  },
  {
   "cell_type": "code",
   "execution_count": 26,
   "metadata": {
    "execution": {
     "iopub.execute_input": "2021-05-17T10:28:38.877421Z",
     "iopub.status.busy": "2021-05-17T10:28:38.873511Z",
     "iopub.status.idle": "2021-05-17T10:28:38.880676Z",
     "shell.execute_reply": "2021-05-17T10:28:38.880182Z"
    }
   },
   "outputs": [
    {
     "data": {
      "text/plain": [
       "cSEGUID_P_FBvx1_VL962QJuvaFS7bptHbM"
      ]
     },
     "execution_count": 1,
     "metadata": {},
     "output_type": "execute_result"
    }
   ],
   "source": [
    "pYPKa_Z_ZEO1.stamp()\n",
    "pYPKa_E_ZEO1.stamp()"
   ]
  },
  {
   "cell_type": "markdown",
   "metadata": {},
   "source": [
    "pYPKa_Z_ZEO1 is written to a local file:"
   ]
  },
  {
   "cell_type": "code",
   "execution_count": 27,
   "metadata": {
    "execution": {
     "iopub.execute_input": "2021-05-17T10:28:38.886390Z",
     "iopub.status.busy": "2021-05-17T10:28:38.883290Z",
     "iopub.status.idle": "2021-05-17T10:28:38.892400Z",
     "shell.execute_reply": "2021-05-17T10:28:38.891724Z"
    }
   },
   "outputs": [
    {
     "data": {
      "text/html": [
       "<font face=monospace><a href='pYPKa_Z_ZEO1.gb' target='_blank'>pYPKa_Z_ZEO1.gb</a></font><br>"
      ]
     },
     "metadata": {},
     "output_type": "display_data"
    }
   ],
   "source": [
    "pYPKa_Z_ZEO1.write(\"pYPKa_Z_ZEO1.gb\")"
   ]
  },
  {
   "cell_type": "markdown",
   "metadata": {},
   "source": [
    "pYPKa_E_ZEO1 is written to a local file:"
   ]
  },
  {
   "cell_type": "code",
   "execution_count": 28,
   "metadata": {
    "execution": {
     "iopub.execute_input": "2021-05-17T10:28:38.896336Z",
     "iopub.status.busy": "2021-05-17T10:28:38.895726Z",
     "iopub.status.idle": "2021-05-17T10:28:38.901981Z",
     "shell.execute_reply": "2021-05-17T10:28:38.902519Z"
    }
   },
   "outputs": [
    {
     "data": {
      "text/html": [
       "<font face=monospace><a href='pYPKa_E_ZEO1.gb' target='_blank'>pYPKa_E_ZEO1.gb</a></font><br>"
      ]
     },
     "metadata": {},
     "output_type": "display_data"
    }
   ],
   "source": [
    "pYPKa_E_ZEO1.write(\"pYPKa_E_ZEO1.gb\")"
   ]
  }
 ],
 "metadata": {
  "kernelspec": {
   "display_name": "Python [conda env:bjorn37]",
   "language": "python",
   "name": "conda-env-bjorn37-py"
  },
  "language_info": {
   "codemirror_mode": {
    "name": "ipython",
    "version": 3
   },
   "file_extension": ".py",
   "mimetype": "text/x-python",
   "name": "python",
   "nbconvert_exporter": "python",
   "pygments_lexer": "ipython3",
   "version": "3.9.0"
  }
 },
 "nbformat": 4,
 "nbformat_minor": 2
}
