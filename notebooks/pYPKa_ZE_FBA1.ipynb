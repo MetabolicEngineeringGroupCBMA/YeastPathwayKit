{
 "cells": [
  {
   "cell_type": "markdown",
   "metadata": {},
   "source": [
    "# pYPKa_Z_FBA1 and pYPKa_E_FBA1\n",
    "\n",
    "This Jupyter notebook describe the construction of E. coli vectors [pYPKa_Z_FBA1](pYPKa_Z_FBA1.gb) and [pYPKa_E_FBA1](pYPKa_E_FBA1.gb). \n",
    "These two vectors share backbone and insert, but in the former, the insert is cloned using the restriction\n",
    "enzyme [ZraI](http://rebase.neb.com/rebase/enz/ZraI.html) while in the latter [EcoRV](http://rebase.neb.com/rebase/enz/EcoRV.html) is used.\n",
    "\n",
    "The insert cloned in ZraI is meant to function as a promoter, while in the EcoRV site it is meant to be  used as a terminator.\n",
    "\n",
    "Links to the sequence of each vector in Genbank format can be found at the bottom of this document.\n",
    "\n",
    "![pYPKa_Z and pYPKa_E](figure_pYPKa_ZE.png \"pYPKa_Z or pYPKa_E plasmid\")\n",
    "\n",
    "The Python package [pydna](https://pypi.python.org/pypi/pydna/) package is imported in the code cell below to provide \n",
    "the cloning functionality. There is a [publication](http://www.biomedcentral.com/1471-2105/16/142) describing pydna as well as\n",
    "[documentation](http://pydna.readthedocs.io/) available online. Pydna is developed on [Github](https://github.com/BjornFJohansson/pydna)."
   ]
  },
  {
   "cell_type": "code",
   "execution_count": 1,
   "metadata": {
    "execution": {
     "iopub.execute_input": "2021-05-17T10:25:40.514269Z",
     "iopub.status.busy": "2021-05-17T10:25:40.513824Z",
     "iopub.status.idle": "2021-05-17T10:25:41.017518Z",
     "shell.execute_reply": "2021-05-17T10:25:41.017943Z"
    }
   },
   "outputs": [],
   "source": [
    "from pydna.readers import read\n",
    "from pydna.parsers import parse_primers\n",
    "from pydna.genbank import Genbank\n",
    "from pydna.amplify import pcr\n",
    "from pydna.amplify import Anneal"
   ]
  },
  {
   "cell_type": "markdown",
   "metadata": {},
   "source": [
    "The vector backbone pYPKa is read from a local [file](pYPKa.gb)."
   ]
  },
  {
   "cell_type": "code",
   "execution_count": 2,
   "metadata": {
    "execution": {
     "iopub.execute_input": "2021-05-17T10:25:41.025463Z",
     "iopub.status.busy": "2021-05-17T10:25:41.024886Z",
     "iopub.status.idle": "2021-05-17T10:25:41.036965Z",
     "shell.execute_reply": "2021-05-17T10:25:41.036440Z"
    }
   },
   "outputs": [],
   "source": [
    "pYPKa = read(\"pYPKa.gb\")"
   ]
  },
  {
   "cell_type": "markdown",
   "metadata": {},
   "source": [
    "Both restriction enzymes are imported from [Biopython](http://biopython.org/wiki/Main_Page)"
   ]
  },
  {
   "cell_type": "code",
   "execution_count": 3,
   "metadata": {
    "execution": {
     "iopub.execute_input": "2021-05-17T10:25:41.040404Z",
     "iopub.status.busy": "2021-05-17T10:25:41.039925Z",
     "iopub.status.idle": "2021-05-17T10:25:41.042739Z",
     "shell.execute_reply": "2021-05-17T10:25:41.042076Z"
    }
   },
   "outputs": [],
   "source": [
    "from Bio.Restriction import ZraI, EcoRV"
   ]
  },
  {
   "cell_type": "markdown",
   "metadata": {},
   "source": [
    "The vector is cut with both enzymes."
   ]
  },
  {
   "cell_type": "code",
   "execution_count": 4,
   "metadata": {
    "execution": {
     "iopub.execute_input": "2021-05-17T10:25:41.051163Z",
     "iopub.status.busy": "2021-05-17T10:25:41.050461Z",
     "iopub.status.idle": "2021-05-17T10:25:41.053242Z",
     "shell.execute_reply": "2021-05-17T10:25:41.052681Z"
    }
   },
   "outputs": [],
   "source": [
    "pYPKa_ZraI  = pYPKa.linearize(ZraI)\n",
    "pYPKa_EcoRV = pYPKa.linearize(EcoRV)"
   ]
  },
  {
   "cell_type": "markdown",
   "metadata": {},
   "source": [
    "The template below comes from a Genbank [record](http://www.ncbi.nlm.nih.gov/nuccore/BK006944.2).\n",
    "Access to Genbank is needed in order to download the template.\n",
    "If you execute this script, change the email address below to your own.\n",
    "Always tell Genbank who you are, when using their web service."
   ]
  },
  {
   "cell_type": "code",
   "execution_count": 5,
   "metadata": {
    "execution": {
     "iopub.execute_input": "2021-05-17T10:25:41.058196Z",
     "iopub.status.busy": "2021-05-17T10:25:41.057583Z",
     "iopub.status.idle": "2021-05-17T10:25:41.059810Z",
     "shell.execute_reply": "2021-05-17T10:25:41.060412Z"
    }
   },
   "outputs": [],
   "source": [
    "gb = Genbank(\"bjornjobb@gmail.com\")"
   ]
  },
  {
   "cell_type": "markdown",
   "metadata": {},
   "source": [
    "The template is downloaded from Genbank below."
   ]
  },
  {
   "cell_type": "code",
   "execution_count": 6,
   "metadata": {
    "execution": {
     "iopub.execute_input": "2021-05-17T10:25:41.065306Z",
     "iopub.status.busy": "2021-05-17T10:25:41.064663Z",
     "iopub.status.idle": "2021-05-17T10:25:41.074867Z",
     "shell.execute_reply": "2021-05-17T10:25:41.074412Z"
    }
   },
   "outputs": [],
   "source": [
    "template = gb.nucleotide(\"BK006944.2 REGION: complement(327488..328117)\")"
   ]
  },
  {
   "cell_type": "markdown",
   "metadata": {},
   "source": [
    "The template is a 630 bp linear DNA fragment."
   ]
  },
  {
   "cell_type": "code",
   "execution_count": 7,
   "metadata": {
    "execution": {
     "iopub.execute_input": "2021-05-17T10:25:41.083282Z",
     "iopub.status.busy": "2021-05-17T10:25:41.082726Z",
     "iopub.status.idle": "2021-05-17T10:25:41.085200Z",
     "shell.execute_reply": "2021-05-17T10:25:41.085685Z"
    }
   },
   "outputs": [
    {
     "data": {
      "text/html": [
       "<a href='https://www.ncbi.nlm.nih.gov/nuccore/BK006944.2 ?from=327488&to=328117&strand=2' target='_blank'>BK006944.2  327488-328117</a>"
      ],
      "text/plain": [
       "Gbank(BK006944.2  327488-328117)(-630)"
      ]
     },
     "execution_count": 1,
     "metadata": {},
     "output_type": "execute_result"
    }
   ],
   "source": [
    "template"
   ]
  },
  {
   "cell_type": "markdown",
   "metadata": {},
   "source": [
    "The insert has the sequence shown below."
   ]
  },
  {
   "cell_type": "code",
   "execution_count": 8,
   "metadata": {
    "execution": {
     "iopub.execute_input": "2021-05-17T10:25:41.089842Z",
     "iopub.status.busy": "2021-05-17T10:25:41.089286Z",
     "iopub.status.idle": "2021-05-17T10:25:41.094252Z",
     "shell.execute_reply": "2021-05-17T10:25:41.093260Z"
    }
   },
   "outputs": [
    {
     "name": "stdout",
     "output_type": "stream",
     "text": [
      "ATAACAATACTGACAGTACTAAATAATTGCCTACTTGGCTTCACATACGTTGCATACGTCGATATAGATAATAATGATAATGACAGCAGGATTATCGTAATACGTAATAGTTGAAAATCTCAAAAATGTGTGGGTCATTACGTAAATAATGATAGGAATGGGATTCTTCTATTTTTCCTTTTTCCATTCTAGCAGCCGTCGGGAAAACGTGGCATCCTCTCTTTCGGGCTCAATTGGAGTCACGCTGCCGTGAGCATCCTCTCTTTCCATATCTAACAACTGAGCACGTAACCAATGGAAAAGCATGAGCTTAGCGTTGCTCCAAAAAAGTATTGGATGGTTAATACCATTTGTCTGTTCTCTTCTGACTTTGACTCCTCAAAAAAAAAAAATCTACAATCAACAGATCGCTTCAATTACGCCCTCACAAAAACTTTTTTCCTTCTTCTTCGCCCACGTTAAATTTTATCCCTCATGTTGTCTAACGGATTTCTGCACTTGATTTATTATAAAAAGACAAAGACATAATACTTCTCTATCAATTTCAGTTATTGTTCTTCCTTGCGTTATTCTTCTGTTCTTCTTTTTCTTTTGTCATATATAACCATAACCAAGTAATACATATTCAAA\n"
     ]
    }
   ],
   "source": [
    "print(str(template.seq))"
   ]
  },
  {
   "cell_type": "markdown",
   "metadata": {},
   "source": [
    "The seguid checksum of the template should be\n",
    "\n",
    "```Id7sVh9ay2868fWm4Lms3Uyh5Ig```"
   ]
  },
  {
   "cell_type": "code",
   "execution_count": 9,
   "metadata": {
    "execution": {
     "iopub.execute_input": "2021-05-17T10:25:41.099471Z",
     "iopub.status.busy": "2021-05-17T10:25:41.098817Z",
     "iopub.status.idle": "2021-05-17T10:25:41.102154Z",
     "shell.execute_reply": "2021-05-17T10:25:41.102601Z"
    }
   },
   "outputs": [
    {
     "data": {
      "text/plain": [
       "Id7sVh9ay2868fWm4Lms3Uyh5Ig"
      ]
     },
     "execution_count": 1,
     "metadata": {},
     "output_type": "execute_result"
    }
   ],
   "source": [
    "template.seguid()"
   ]
  },
  {
   "cell_type": "markdown",
   "metadata": {},
   "source": [
    "Two primers are used to amplify the insert:"
   ]
  },
  {
   "cell_type": "code",
   "execution_count": 10,
   "metadata": {
    "execution": {
     "iopub.execute_input": "2021-05-17T10:25:41.107443Z",
     "iopub.status.busy": "2021-05-17T10:25:41.106796Z",
     "iopub.status.idle": "2021-05-17T10:25:41.109299Z",
     "shell.execute_reply": "2021-05-17T10:25:41.109913Z"
    }
   },
   "outputs": [],
   "source": [
    "fp,rp = parse_primers(\"\"\">409_ScFBA1tpf\n",
    "                         TTAAATAATAACAATACTGACAGTACTAAATAATTGC\n",
    "                         >624_ScFBA1tpr_PacI\n",
    "                         taattaaTTTGAATATGTATTACTTGGTT\"\"\")"
   ]
  },
  {
   "cell_type": "markdown",
   "metadata": {},
   "source": [
    "PCR to create the insert using the primers above."
   ]
  },
  {
   "cell_type": "code",
   "execution_count": 11,
   "metadata": {
    "execution": {
     "iopub.execute_input": "2021-05-17T10:25:41.116060Z",
     "iopub.status.busy": "2021-05-17T10:25:41.115386Z",
     "iopub.status.idle": "2021-05-17T10:25:41.120467Z",
     "shell.execute_reply": "2021-05-17T10:25:41.121118Z"
    }
   },
   "outputs": [],
   "source": [
    "prd = pcr(fp, rp, template)\n",
    "assert str(fp.seq) in prd"
   ]
  },
  {
   "cell_type": "markdown",
   "metadata": {},
   "source": [
    "The PCR product has this length in bp."
   ]
  },
  {
   "cell_type": "code",
   "execution_count": 12,
   "metadata": {
    "execution": {
     "iopub.execute_input": "2021-05-17T10:25:41.126089Z",
     "iopub.status.busy": "2021-05-17T10:25:41.125275Z",
     "iopub.status.idle": "2021-05-17T10:25:41.130164Z",
     "shell.execute_reply": "2021-05-17T10:25:41.129477Z"
    }
   },
   "outputs": [
    {
     "data": {
      "text/plain": [
       "644"
      ]
     },
     "execution_count": 1,
     "metadata": {},
     "output_type": "execute_result"
    }
   ],
   "source": [
    "len(prd)"
   ]
  },
  {
   "cell_type": "markdown",
   "metadata": {},
   "source": [
    "A figure of the primers annealing on template."
   ]
  },
  {
   "cell_type": "code",
   "execution_count": 13,
   "metadata": {
    "execution": {
     "iopub.execute_input": "2021-05-17T10:25:41.135772Z",
     "iopub.status.busy": "2021-05-17T10:25:41.134712Z",
     "iopub.status.idle": "2021-05-17T10:25:41.139235Z",
     "shell.execute_reply": "2021-05-17T10:25:41.138523Z"
    }
   },
   "outputs": [
    {
     "data": {
      "text/plain": [
       "       5ATAACAATACTGACAGTACTAAATAATTGC...AACCAAGTAATACATATTCAAA3\n",
       "                                         ||||||||||||||||||||||\n",
       "                                        3TTGGTTCATTATGTATAAGTTTaattaat5\n",
       "5TTAAATAATAACAATACTGACAGTACTAAATAATTGC3\n",
       "        ||||||||||||||||||||||||||||||\n",
       "       3TATTGTTATGACTGTCATGATTTATTAACG...TTGGTTCATTATGTATAAGTTT5"
      ]
     },
     "execution_count": 1,
     "metadata": {},
     "output_type": "execute_result"
    }
   ],
   "source": [
    "prd.figure()"
   ]
  },
  {
   "cell_type": "markdown",
   "metadata": {},
   "source": [
    "A suggested PCR program."
   ]
  },
  {
   "cell_type": "code",
   "execution_count": 14,
   "metadata": {
    "execution": {
     "iopub.execute_input": "2021-05-17T10:25:41.145794Z",
     "iopub.status.busy": "2021-05-17T10:25:41.144594Z",
     "iopub.status.idle": "2021-05-17T10:25:41.149562Z",
     "shell.execute_reply": "2021-05-17T10:25:41.148745Z"
    }
   },
   "outputs": [
    {
     "data": {
      "text/plain": [
       "|95°C|95°C               |    |tmf:60.3\n",
       "|____|_____          72°C|72°C|tmr:52.9\n",
       "|5min|30s  \\ 52.1°C _____|____|60s/kb\n",
       "|    |      \\______/ 0:38|5min|GC 34%\n",
       "|    |       30s         |    |644bp"
      ]
     },
     "execution_count": 1,
     "metadata": {},
     "output_type": "execute_result"
    }
   ],
   "source": [
    "prd.program()"
   ]
  },
  {
   "cell_type": "markdown",
   "metadata": {},
   "source": [
    "The final vectors are:"
   ]
  },
  {
   "cell_type": "code",
   "execution_count": 15,
   "metadata": {
    "execution": {
     "iopub.execute_input": "2021-05-17T10:25:41.177573Z",
     "iopub.status.busy": "2021-05-17T10:25:41.172524Z",
     "iopub.status.idle": "2021-05-17T10:25:41.763991Z",
     "shell.execute_reply": "2021-05-17T10:25:41.764354Z"
    }
   },
   "outputs": [],
   "source": [
    "pYPKa_Z_FBA1 = (pYPKa_ZraI  + prd).looped().synced(pYPKa)\n",
    "pYPKa_E_FBA1 = (pYPKa_EcoRV + prd).looped().synced(pYPKa)"
   ]
  },
  {
   "cell_type": "markdown",
   "metadata": {},
   "source": [
    "The final vectors with reverse inserts are created below. These vectors theoretically make up\n",
    "fifty percent of the clones. The PCR strategy outlined below can be used to identify clones with the insert\n",
    "in the correct orientation."
   ]
  },
  {
   "cell_type": "code",
   "execution_count": 16,
   "metadata": {
    "execution": {
     "iopub.execute_input": "2021-05-17T10:25:41.768991Z",
     "iopub.status.busy": "2021-05-17T10:25:41.768310Z",
     "iopub.status.idle": "2021-05-17T10:25:42.662025Z",
     "shell.execute_reply": "2021-05-17T10:25:42.662397Z"
    }
   },
   "outputs": [],
   "source": [
    "pYPKa_Z_FBA1b = (pYPKa_ZraI  + prd.rc()).looped().synced(pYPKa)\n",
    "pYPKa_E_FBA1b = (pYPKa_EcoRV + prd.rc()).looped().synced(pYPKa)"
   ]
  },
  {
   "cell_type": "markdown",
   "metadata": {},
   "source": [
    "A combination of yeast pathway kit standard primers and the primers above are\n",
    "used for the strategy to identify correct clones.\n",
    "Standard primers used in the yeast are listed [here](standard_primers.txt)."
   ]
  },
  {
   "cell_type": "code",
   "execution_count": 17,
   "metadata": {
    "execution": {
     "iopub.execute_input": "2021-05-17T10:25:42.672309Z",
     "iopub.status.busy": "2021-05-17T10:25:42.671287Z",
     "iopub.status.idle": "2021-05-17T10:25:42.680223Z",
     "shell.execute_reply": "2021-05-17T10:25:42.678571Z"
    }
   },
   "outputs": [],
   "source": [
    "p = { x.id: x for x in parse_primers(\"\"\">577\n",
    "                                         gttctgatcctcgagcatcttaagaattc\n",
    "                                         >578\n",
    "                                         gttcttgtctcattgccacattcataagt\n",
    "                                         >468\n",
    "                                         gtcgaggaacgccaggttgcccact\n",
    "                                         >467\n",
    "                                         ATTTAAatcctgatgcgtttgtctgcacaga\n",
    "                                         >567\n",
    "                                         GTcggctgcaggtcactagtgag\n",
    "                                         >568\n",
    "                                         GTGCcatctgtgcagacaaacg\n",
    "                                         >775\n",
    "                                         gcggccgctgacTTAAAT\n",
    "                                         >778\n",
    "                                         ggtaaatccggatTAATTAA\n",
    "                                         >342\n",
    "                                         CCTTTTTACGGTTCCTGGCCT\"\"\") }"
   ]
  },
  {
   "cell_type": "markdown",
   "metadata": {},
   "source": [
    "## Diagnostic PCR confirmation\n",
    "\n",
    "The correct structure of pYPKa_Z_FBA1 is confirmed by PCR using standard primers\n",
    "577 and 342 that are vector specific together with the FBA1fw primer specific for the insert\n",
    "in a multiplex PCR reaction with\n",
    "all three primers present.\n",
    "\n",
    "Two PCR products are expected if the insert was cloned, the sizes depend\n",
    "on the orientation. If the vector is empty or contains another insert, only one\n",
    "product is formed.\n",
    "\n",
    "#### Expected PCR products sizes from pYPKa_Z_FBA1:\n",
    "\n",
    "pYPKa_Z_FBA1 with insert in correct orientation."
   ]
  },
  {
   "cell_type": "code",
   "execution_count": 18,
   "metadata": {
    "execution": {
     "iopub.execute_input": "2021-05-17T10:25:42.705796Z",
     "iopub.status.busy": "2021-05-17T10:25:42.705046Z",
     "iopub.status.idle": "2021-05-17T10:25:42.710570Z",
     "shell.execute_reply": "2021-05-17T10:25:42.714500Z"
    }
   },
   "outputs": [
    {
     "data": {
      "text/plain": [
       "[Amplicon(1578), Amplicon(1410)]"
      ]
     },
     "execution_count": 1,
     "metadata": {},
     "output_type": "execute_result"
    }
   ],
   "source": [
    "Anneal( (p['577'], p['342'], fp), pYPKa_Z_FBA1).products"
   ]
  },
  {
   "cell_type": "markdown",
   "metadata": {},
   "source": [
    "pYPKa_Z_FBA1 with insert in reverse orientation."
   ]
  },
  {
   "cell_type": "code",
   "execution_count": 19,
   "metadata": {
    "execution": {
     "iopub.execute_input": "2021-05-17T10:25:42.720768Z",
     "iopub.status.busy": "2021-05-17T10:25:42.720239Z",
     "iopub.status.idle": "2021-05-17T10:25:42.743506Z",
     "shell.execute_reply": "2021-05-17T10:25:42.746821Z"
    }
   },
   "outputs": [
    {
     "data": {
      "text/plain": [
       "[Amplicon(1578), Amplicon(812)]"
      ]
     },
     "execution_count": 1,
     "metadata": {},
     "output_type": "execute_result"
    }
   ],
   "source": [
    "Anneal( (p['577'], p['342'], fp), pYPKa_Z_FBA1b).products"
   ]
  },
  {
   "cell_type": "markdown",
   "metadata": {},
   "source": [
    "Empty pYPKa clone."
   ]
  },
  {
   "cell_type": "code",
   "execution_count": 20,
   "metadata": {
    "execution": {
     "iopub.execute_input": "2021-05-17T10:25:42.756881Z",
     "iopub.status.busy": "2021-05-17T10:25:42.756034Z",
     "iopub.status.idle": "2021-05-17T10:25:42.764911Z",
     "shell.execute_reply": "2021-05-17T10:25:42.766016Z"
    }
   },
   "outputs": [
    {
     "data": {
      "text/plain": [
       "[Amplicon(934)]"
      ]
     },
     "execution_count": 1,
     "metadata": {},
     "output_type": "execute_result"
    }
   ],
   "source": [
    "Anneal( (p['577'], p['342'], fp), pYPKa).products"
   ]
  },
  {
   "cell_type": "markdown",
   "metadata": {},
   "source": [
    "#### Expected PCR products sizes pYPKa_E_FBA1:\n",
    "\n",
    "pYPKa_E_FBA1 with insert in correct orientation."
   ]
  },
  {
   "cell_type": "code",
   "execution_count": 21,
   "metadata": {
    "execution": {
     "iopub.execute_input": "2021-05-17T10:25:42.777608Z",
     "iopub.status.busy": "2021-05-17T10:25:42.774168Z",
     "iopub.status.idle": "2021-05-17T10:25:42.788845Z",
     "shell.execute_reply": "2021-05-17T10:25:42.789717Z"
    }
   },
   "outputs": [
    {
     "data": {
      "text/plain": [
       "[Amplicon(1578), Amplicon(1329)]"
      ]
     },
     "execution_count": 1,
     "metadata": {},
     "output_type": "execute_result"
    }
   ],
   "source": [
    "Anneal( (p['577'], p['342'], fp), pYPKa_E_FBA1).products"
   ]
  },
  {
   "cell_type": "markdown",
   "metadata": {},
   "source": [
    "pYPKa_E_FBA1 with insert in reverse orientation."
   ]
  },
  {
   "cell_type": "code",
   "execution_count": 22,
   "metadata": {
    "execution": {
     "iopub.execute_input": "2021-05-17T10:25:42.807535Z",
     "iopub.status.busy": "2021-05-17T10:25:42.806575Z",
     "iopub.status.idle": "2021-05-17T10:25:42.813258Z",
     "shell.execute_reply": "2021-05-17T10:25:42.814708Z"
    }
   },
   "outputs": [
    {
     "data": {
      "text/plain": [
       "[Amplicon(1578), Amplicon(893)]"
      ]
     },
     "execution_count": 1,
     "metadata": {},
     "output_type": "execute_result"
    }
   ],
   "source": [
    "Anneal( (p['577'], p['342'], fp), pYPKa_E_FBA1b).products\n"
   ]
  },
  {
   "cell_type": "markdown",
   "metadata": {},
   "source": [
    "Calculate cseguid checksums for the resulting plasmids for future reference.\n",
    "This checksum that uniquely describes a circular double stranded\n",
    "sequence. See this [blog post](https://ochsavidare.blogspot.com/2016/02/checksum-for-circular-biological.html) for more info.\n",
    "\n",
    "pYPKa_Z_FBA1.cseguid() should be 8SMBgtkGm6DdpB4kCIA9t94aoeM"
   ]
  },
  {
   "cell_type": "code",
   "execution_count": 23,
   "metadata": {
    "execution": {
     "iopub.execute_input": "2021-05-17T10:25:42.831012Z",
     "iopub.status.busy": "2021-05-17T10:25:42.829970Z",
     "iopub.status.idle": "2021-05-17T10:25:42.835833Z",
     "shell.execute_reply": "2021-05-17T10:25:42.836561Z"
    }
   },
   "outputs": [
    {
     "name": "stdout",
     "output_type": "stream",
     "text": [
      "8SMBgtkGm6DdpB4kCIA9t94aoeM\n"
     ]
    }
   ],
   "source": [
    "print(pYPKa_Z_FBA1.cseguid())\n",
    "assert pYPKa_Z_FBA1.cseguid() == \"8SMBgtkGm6DdpB4kCIA9t94aoeM\""
   ]
  },
  {
   "cell_type": "markdown",
   "metadata": {},
   "source": [
    "pYPKa_E_FBA1.cseguid() should be -kQzfQl5flgxrCF5WlENekL2OI0"
   ]
  },
  {
   "cell_type": "code",
   "execution_count": 24,
   "metadata": {
    "execution": {
     "iopub.execute_input": "2021-05-17T10:25:42.846786Z",
     "iopub.status.busy": "2021-05-17T10:25:42.839215Z",
     "iopub.status.idle": "2021-05-17T10:25:42.852772Z",
     "shell.execute_reply": "2021-05-17T10:25:42.853386Z"
    }
   },
   "outputs": [
    {
     "name": "stdout",
     "output_type": "stream",
     "text": [
      "-kQzfQl5flgxrCF5WlENekL2OI0\n"
     ]
    }
   ],
   "source": [
    "print(pYPKa_E_FBA1.cseguid())\n",
    "assert pYPKa_E_FBA1.cseguid() == \"-kQzfQl5flgxrCF5WlENekL2OI0\""
   ]
  },
  {
   "cell_type": "markdown",
   "metadata": {},
   "source": [
    "The sequences are named based on the name of the cloned insert."
   ]
  },
  {
   "cell_type": "code",
   "execution_count": 25,
   "metadata": {
    "execution": {
     "iopub.execute_input": "2021-05-17T10:25:42.857544Z",
     "iopub.status.busy": "2021-05-17T10:25:42.856899Z",
     "iopub.status.idle": "2021-05-17T10:25:42.859176Z",
     "shell.execute_reply": "2021-05-17T10:25:42.859670Z"
    }
   },
   "outputs": [],
   "source": [
    "pYPKa_Z_FBA1.locus = \"pYPKa_Z_FBA1\"[:16]\n",
    "pYPKa_E_FBA1.locus = \"pYPKa_Z_FBA1\"[:16]"
   ]
  },
  {
   "cell_type": "markdown",
   "metadata": {},
   "source": [
    "Stamp sequence with cseguid checksum. This can be used to verify the\n",
    "integrity of the sequence file."
   ]
  },
  {
   "cell_type": "code",
   "execution_count": 26,
   "metadata": {
    "execution": {
     "iopub.execute_input": "2021-05-17T10:25:42.870536Z",
     "iopub.status.busy": "2021-05-17T10:25:42.869751Z",
     "iopub.status.idle": "2021-05-17T10:25:42.873306Z",
     "shell.execute_reply": "2021-05-17T10:25:42.873714Z"
    }
   },
   "outputs": [
    {
     "data": {
      "text/plain": [
       "cSEGUID_-kQzfQl5flgxrCF5WlENekL2OI0"
      ]
     },
     "execution_count": 1,
     "metadata": {},
     "output_type": "execute_result"
    }
   ],
   "source": [
    "pYPKa_Z_FBA1.stamp()\n",
    "pYPKa_E_FBA1.stamp()"
   ]
  },
  {
   "cell_type": "markdown",
   "metadata": {},
   "source": [
    "pYPKa_Z_FBA1 is written to a local file:"
   ]
  },
  {
   "cell_type": "code",
   "execution_count": 27,
   "metadata": {
    "execution": {
     "iopub.execute_input": "2021-05-17T10:25:42.878778Z",
     "iopub.status.busy": "2021-05-17T10:25:42.878017Z",
     "iopub.status.idle": "2021-05-17T10:25:42.891572Z",
     "shell.execute_reply": "2021-05-17T10:25:42.892182Z"
    }
   },
   "outputs": [
    {
     "data": {
      "text/html": [
       "<font face=monospace><a href='pYPKa_Z_FBA1.gb' target='_blank'>pYPKa_Z_FBA1.gb</a></font><br>"
      ]
     },
     "metadata": {},
     "output_type": "display_data"
    }
   ],
   "source": [
    "pYPKa_Z_FBA1.write(\"pYPKa_Z_FBA1.gb\")"
   ]
  },
  {
   "cell_type": "markdown",
   "metadata": {},
   "source": [
    "pYPKa_E_FBA1 is written to a local file:"
   ]
  },
  {
   "cell_type": "code",
   "execution_count": 28,
   "metadata": {
    "execution": {
     "iopub.execute_input": "2021-05-17T10:25:42.897871Z",
     "iopub.status.busy": "2021-05-17T10:25:42.895803Z",
     "iopub.status.idle": "2021-05-17T10:25:42.903059Z",
     "shell.execute_reply": "2021-05-17T10:25:42.903564Z"
    }
   },
   "outputs": [
    {
     "data": {
      "text/html": [
       "<font face=monospace><a href='pYPKa_E_FBA1.gb' target='_blank'>pYPKa_E_FBA1.gb</a></font><br>"
      ]
     },
     "metadata": {},
     "output_type": "display_data"
    }
   ],
   "source": [
    "pYPKa_E_FBA1.write(\"pYPKa_E_FBA1.gb\")"
   ]
  }
 ],
 "metadata": {
  "language_info": {
   "codemirror_mode": {
    "name": "ipython",
    "version": 3
   },
   "file_extension": ".py",
   "mimetype": "text/x-python",
   "name": "python",
   "nbconvert_exporter": "python",
   "pygments_lexer": "ipython3",
   "version": "3.9.0"
  }
 },
 "nbformat": 4,
 "nbformat_minor": 2
}
