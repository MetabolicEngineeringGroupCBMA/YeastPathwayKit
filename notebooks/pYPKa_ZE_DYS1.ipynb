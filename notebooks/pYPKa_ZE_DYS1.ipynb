{
 "cells": [
  {
   "cell_type": "markdown",
   "metadata": {},
   "source": [
    "# pYPKa_Z_DYS1 and pYPKa_E_DYS1\n",
    "\n",
    "This Jupyter notebook describe the construction of E. coli vectors [pYPKa_Z_DYS1](pYPKa_Z_DYS1.gb) and [pYPKa_E_DYS1](pYPKa_E_DYS1.gb). \n",
    "These two vectors share backbone and insert, but in the former, the insert is cloned using the restriction\n",
    "enzyme [ZraI](http://rebase.neb.com/rebase/enz/ZraI.html) while in the latter [EcoRV](http://rebase.neb.com/rebase/enz/EcoRV.html) is used.\n",
    "\n",
    "The insert cloned in ZraI is meant to function as a promoter, while in the EcoRV site it is meant to be  used as a terminator.\n",
    "\n",
    "Links to the sequence of each vector in Genbank format can be found at the bottom of this document.\n",
    "\n",
    "![pYPKa_Z and pYPKa_E](figure_pYPKa_ZE.png \"pYPKa_Z or pYPKa_E plasmid\")\n",
    "\n",
    "The Python package [pydna](https://pypi.python.org/pypi/pydna/) package is imported in the code cell below to provide \n",
    "the cloning functionality. There is a [publication](http://www.biomedcentral.com/1471-2105/16/142) describing pydna as well as\n",
    "[documentation](http://pydna.readthedocs.io/) available online. Pydna is developed on [Github](https://github.com/BjornFJohansson/pydna)."
   ]
  },
  {
   "cell_type": "code",
   "execution_count": 1,
   "metadata": {
    "execution": {
     "iopub.execute_input": "2021-05-17T10:25:36.309352Z",
     "iopub.status.busy": "2021-05-17T10:25:36.308758Z",
     "iopub.status.idle": "2021-05-17T10:25:36.839969Z",
     "shell.execute_reply": "2021-05-17T10:25:36.839457Z"
    }
   },
   "outputs": [],
   "source": [
    "from pydna.readers import read\n",
    "from pydna.parsers import parse_primers\n",
    "from pydna.genbank import Genbank\n",
    "from pydna.amplify import pcr\n",
    "from pydna.amplify import Anneal"
   ]
  },
  {
   "cell_type": "markdown",
   "metadata": {},
   "source": [
    "The vector backbone pYPKa is read from a local [file](pYPKa.gb)."
   ]
  },
  {
   "cell_type": "code",
   "execution_count": 2,
   "metadata": {
    "execution": {
     "iopub.execute_input": "2021-05-17T10:25:36.848480Z",
     "iopub.status.busy": "2021-05-17T10:25:36.847074Z",
     "iopub.status.idle": "2021-05-17T10:25:36.862157Z",
     "shell.execute_reply": "2021-05-17T10:25:36.861501Z"
    }
   },
   "outputs": [],
   "source": [
    "pYPKa = read(\"pYPKa.gb\")"
   ]
  },
  {
   "cell_type": "markdown",
   "metadata": {},
   "source": [
    "Both restriction enzymes are imported from [Biopython](http://biopython.org/wiki/Main_Page)"
   ]
  },
  {
   "cell_type": "code",
   "execution_count": 3,
   "metadata": {
    "execution": {
     "iopub.execute_input": "2021-05-17T10:25:36.866271Z",
     "iopub.status.busy": "2021-05-17T10:25:36.865336Z",
     "iopub.status.idle": "2021-05-17T10:25:36.869744Z",
     "shell.execute_reply": "2021-05-17T10:25:36.868646Z"
    }
   },
   "outputs": [],
   "source": [
    "from Bio.Restriction import ZraI, EcoRV"
   ]
  },
  {
   "cell_type": "markdown",
   "metadata": {},
   "source": [
    "The vector is cut with both enzymes."
   ]
  },
  {
   "cell_type": "code",
   "execution_count": 4,
   "metadata": {
    "execution": {
     "iopub.execute_input": "2021-05-17T10:25:36.879884Z",
     "iopub.status.busy": "2021-05-17T10:25:36.878840Z",
     "iopub.status.idle": "2021-05-17T10:25:36.881700Z",
     "shell.execute_reply": "2021-05-17T10:25:36.882416Z"
    }
   },
   "outputs": [],
   "source": [
    "pYPKa_ZraI  = pYPKa.linearize(ZraI)\n",
    "pYPKa_EcoRV = pYPKa.linearize(EcoRV)"
   ]
  },
  {
   "cell_type": "markdown",
   "metadata": {},
   "source": [
    "The template below comes from a Genbank [record](http://www.ncbi.nlm.nih.gov/nuccore/BK006934.2).\n",
    "Access to Genbank is needed in order to download the template.\n",
    "If you execute this script, change the email address below to your own.\n",
    "Always tell Genbank who you are, when using their web service."
   ]
  },
  {
   "cell_type": "code",
   "execution_count": 5,
   "metadata": {
    "execution": {
     "iopub.execute_input": "2021-05-17T10:25:36.888227Z",
     "iopub.status.busy": "2021-05-17T10:25:36.887496Z",
     "iopub.status.idle": "2021-05-17T10:25:36.890795Z",
     "shell.execute_reply": "2021-05-17T10:25:36.890196Z"
    }
   },
   "outputs": [],
   "source": [
    "gb = Genbank(\"bjornjobb@gmail.com\")"
   ]
  },
  {
   "cell_type": "markdown",
   "metadata": {},
   "source": [
    "The template is downloaded from Genbank below."
   ]
  },
  {
   "cell_type": "code",
   "execution_count": 6,
   "metadata": {
    "execution": {
     "iopub.execute_input": "2021-05-17T10:25:36.896227Z",
     "iopub.status.busy": "2021-05-17T10:25:36.895212Z",
     "iopub.status.idle": "2021-05-17T10:25:36.905408Z",
     "shell.execute_reply": "2021-05-17T10:25:36.904706Z"
    }
   },
   "outputs": [],
   "source": [
    "template = gb.nucleotide(\"BK006934.2 REGION: 231813..232132\")"
   ]
  },
  {
   "cell_type": "markdown",
   "metadata": {},
   "source": [
    "The template is a 320 bp linear DNA fragment."
   ]
  },
  {
   "cell_type": "code",
   "execution_count": 7,
   "metadata": {
    "execution": {
     "iopub.execute_input": "2021-05-17T10:25:36.915723Z",
     "iopub.status.busy": "2021-05-17T10:25:36.913579Z",
     "iopub.status.idle": "2021-05-17T10:25:36.919465Z",
     "shell.execute_reply": "2021-05-17T10:25:36.918832Z"
    }
   },
   "outputs": [
    {
     "data": {
      "text/html": [
       "<a href='https://www.ncbi.nlm.nih.gov/nuccore/BK006934.2 ?from=231813&to=232132&strand=1' target='_blank'>BK006934.2  231813-232132</a>"
      ],
      "text/plain": [
       "Gbank(BK006934.2  231813-232132)(-320)"
      ]
     },
     "execution_count": 1,
     "metadata": {},
     "output_type": "execute_result"
    }
   ],
   "source": [
    "template"
   ]
  },
  {
   "cell_type": "markdown",
   "metadata": {},
   "source": [
    "The insert has the sequence shown below."
   ]
  },
  {
   "cell_type": "code",
   "execution_count": 8,
   "metadata": {
    "execution": {
     "iopub.execute_input": "2021-05-17T10:25:36.925002Z",
     "iopub.status.busy": "2021-05-17T10:25:36.923898Z",
     "iopub.status.idle": "2021-05-17T10:25:36.927821Z",
     "shell.execute_reply": "2021-05-17T10:25:36.927215Z"
    }
   },
   "outputs": [
    {
     "name": "stdout",
     "output_type": "stream",
     "text": [
      "CTACCAGTAATTGTCTCTCTGCAGATAATCACTACCTGTGTGTTTCTTGTCTCTTGAAATAATACTAGTAGCTGCTGAACAGTGGAAGGTCACGAACGAGATTACCATAATATCTCGCCATCACCAGGTTGACGGTAAACGCATTACGGGAAGAACTGAAAAAAAGGTGGGAAAAAAAAATAAAAAGTAAAGTGAAAAATTAAATGTAATGTATATTTCCATTTTGACGCAAAGTACTTCCCTCTATCAGTTTTGTATCTAACTGCAGAGTAAAGTCGTGTTTTGCTTAGTTAACTTATATACAAGTCAAAGCAAAAAAG\n"
     ]
    }
   ],
   "source": [
    "print(str(template.seq))"
   ]
  },
  {
   "cell_type": "markdown",
   "metadata": {},
   "source": [
    "The seguid checksum of the template should be\n",
    "\n",
    "```8sXWLQpBYdoj8DyQzmjwB-c-NEw```"
   ]
  },
  {
   "cell_type": "code",
   "execution_count": 9,
   "metadata": {
    "execution": {
     "iopub.execute_input": "2021-05-17T10:25:36.932005Z",
     "iopub.status.busy": "2021-05-17T10:25:36.931312Z",
     "iopub.status.idle": "2021-05-17T10:25:36.936011Z",
     "shell.execute_reply": "2021-05-17T10:25:36.935201Z"
    }
   },
   "outputs": [
    {
     "data": {
      "text/plain": [
       "8sXWLQpBYdoj8DyQzmjwB-c-NEw"
      ]
     },
     "execution_count": 1,
     "metadata": {},
     "output_type": "execute_result"
    }
   ],
   "source": [
    "template.seguid()"
   ]
  },
  {
   "cell_type": "markdown",
   "metadata": {},
   "source": [
    "Two primers are used to amplify the insert:"
   ]
  },
  {
   "cell_type": "code",
   "execution_count": 10,
   "metadata": {
    "execution": {
     "iopub.execute_input": "2021-05-17T10:25:36.942740Z",
     "iopub.status.busy": "2021-05-17T10:25:36.941589Z",
     "iopub.status.idle": "2021-05-17T10:25:36.945274Z",
     "shell.execute_reply": "2021-05-17T10:25:36.944477Z"
    }
   },
   "outputs": [],
   "source": [
    "fp,rp = parse_primers(\"\"\">1000_fw320\n",
    "                         ttaaatCTACCAGTAATTGTCTCTCT\n",
    "                         >999_rv320\n",
    "                         taattaaCTTTTTTGCTTTGACTT\"\"\")"
   ]
  },
  {
   "cell_type": "markdown",
   "metadata": {},
   "source": [
    "PCR to create the insert using the primers above."
   ]
  },
  {
   "cell_type": "code",
   "execution_count": 11,
   "metadata": {
    "execution": {
     "iopub.execute_input": "2021-05-17T10:25:36.952567Z",
     "iopub.status.busy": "2021-05-17T10:25:36.951471Z",
     "iopub.status.idle": "2021-05-17T10:25:36.957760Z",
     "shell.execute_reply": "2021-05-17T10:25:36.957135Z"
    }
   },
   "outputs": [],
   "source": [
    "prd = pcr(fp, rp, template)\n",
    "assert str(fp.seq) in prd"
   ]
  },
  {
   "cell_type": "markdown",
   "metadata": {},
   "source": [
    "The PCR product has this length in bp."
   ]
  },
  {
   "cell_type": "code",
   "execution_count": 12,
   "metadata": {
    "execution": {
     "iopub.execute_input": "2021-05-17T10:25:36.962001Z",
     "iopub.status.busy": "2021-05-17T10:25:36.961197Z",
     "iopub.status.idle": "2021-05-17T10:25:36.964151Z",
     "shell.execute_reply": "2021-05-17T10:25:36.964668Z"
    }
   },
   "outputs": [
    {
     "data": {
      "text/plain": [
       "333"
      ]
     },
     "execution_count": 1,
     "metadata": {},
     "output_type": "execute_result"
    }
   ],
   "source": [
    "len(prd)"
   ]
  },
  {
   "cell_type": "markdown",
   "metadata": {},
   "source": [
    "A figure of the primers annealing on template."
   ]
  },
  {
   "cell_type": "code",
   "execution_count": 13,
   "metadata": {
    "execution": {
     "iopub.execute_input": "2021-05-17T10:25:36.970013Z",
     "iopub.status.busy": "2021-05-17T10:25:36.969008Z",
     "iopub.status.idle": "2021-05-17T10:25:36.973084Z",
     "shell.execute_reply": "2021-05-17T10:25:36.972427Z"
    }
   },
   "outputs": [
    {
     "data": {
      "text/plain": [
       "      5CTACCAGTAATTGTCTCTCT...AAGTCAAAGCAAAAAAG3\n",
       "                              |||||||||||||||||\n",
       "                             3TTCAGTTTCGTTTTTTCaattaat5\n",
       "5ttaaatCTACCAGTAATTGTCTCTCT3\n",
       "       ||||||||||||||||||||\n",
       "      3GATGGTCATTAACAGAGAGA...TTCAGTTTCGTTTTTTC5"
      ]
     },
     "execution_count": 1,
     "metadata": {},
     "output_type": "execute_result"
    }
   ],
   "source": [
    "prd.figure()"
   ]
  },
  {
   "cell_type": "markdown",
   "metadata": {},
   "source": [
    "A suggested PCR program."
   ]
  },
  {
   "cell_type": "code",
   "execution_count": 14,
   "metadata": {
    "execution": {
     "iopub.execute_input": "2021-05-17T10:25:36.978783Z",
     "iopub.status.busy": "2021-05-17T10:25:36.977832Z",
     "iopub.status.idle": "2021-05-17T10:25:36.981703Z",
     "shell.execute_reply": "2021-05-17T10:25:36.981086Z"
    }
   },
   "outputs": [
    {
     "data": {
      "text/plain": [
       "|95°C|95°C               |    |tmf:55.5\n",
       "|____|_____          72°C|72°C|tmr:47.4\n",
       "|5min|30s  \\ 49.5°C _____|____|60s/kb\n",
       "|    |      \\______/ 0:19|5min|GC 33%\n",
       "|    |       30s         |    |333bp"
      ]
     },
     "execution_count": 1,
     "metadata": {},
     "output_type": "execute_result"
    }
   ],
   "source": [
    "prd.program()"
   ]
  },
  {
   "cell_type": "markdown",
   "metadata": {},
   "source": [
    "The final vectors are:"
   ]
  },
  {
   "cell_type": "code",
   "execution_count": 15,
   "metadata": {
    "execution": {
     "iopub.execute_input": "2021-05-17T10:25:37.062261Z",
     "iopub.status.busy": "2021-05-17T10:25:37.020023Z",
     "iopub.status.idle": "2021-05-17T10:25:37.506187Z",
     "shell.execute_reply": "2021-05-17T10:25:37.505555Z"
    }
   },
   "outputs": [],
   "source": [
    "pYPKa_Z_DYS1 = (pYPKa_ZraI  + prd).looped().synced(pYPKa)\n",
    "pYPKa_E_DYS1 = (pYPKa_EcoRV + prd).looped().synced(pYPKa)"
   ]
  },
  {
   "cell_type": "markdown",
   "metadata": {},
   "source": [
    "The final vectors with reverse inserts are created below. These vectors theoretically make up\n",
    "fifty percent of the clones. The PCR strategy outlined below can be used to identify clones with the insert\n",
    "in the correct orientation."
   ]
  },
  {
   "cell_type": "code",
   "execution_count": 16,
   "metadata": {
    "execution": {
     "iopub.execute_input": "2021-05-17T10:25:37.557047Z",
     "iopub.status.busy": "2021-05-17T10:25:37.521376Z",
     "iopub.status.idle": "2021-05-17T10:25:38.015805Z",
     "shell.execute_reply": "2021-05-17T10:25:38.016270Z"
    }
   },
   "outputs": [],
   "source": [
    "pYPKa_Z_DYS1b = (pYPKa_ZraI  + prd.rc()).looped().synced(pYPKa)\n",
    "pYPKa_E_DYS1b = (pYPKa_EcoRV + prd.rc()).looped().synced(pYPKa)"
   ]
  },
  {
   "cell_type": "markdown",
   "metadata": {},
   "source": [
    "A combination of yeast pathway kit standard primers and the primers above are\n",
    "used for the strategy to identify correct clones.\n",
    "Standard primers used in the yeast are listed [here](standard_primers.txt)."
   ]
  },
  {
   "cell_type": "code",
   "execution_count": 17,
   "metadata": {
    "execution": {
     "iopub.execute_input": "2021-05-17T10:25:38.020492Z",
     "iopub.status.busy": "2021-05-17T10:25:38.020063Z",
     "iopub.status.idle": "2021-05-17T10:25:38.023839Z",
     "shell.execute_reply": "2021-05-17T10:25:38.022770Z"
    }
   },
   "outputs": [],
   "source": [
    "p = { x.id: x for x in parse_primers(\"\"\">577\n",
    "                                         gttctgatcctcgagcatcttaagaattc\n",
    "                                         >578\n",
    "                                         gttcttgtctcattgccacattcataagt\n",
    "                                         >468\n",
    "                                         gtcgaggaacgccaggttgcccact\n",
    "                                         >467\n",
    "                                         ATTTAAatcctgatgcgtttgtctgcacaga\n",
    "                                         >567\n",
    "                                         GTcggctgcaggtcactagtgag\n",
    "                                         >568\n",
    "                                         GTGCcatctgtgcagacaaacg\n",
    "                                         >775\n",
    "                                         gcggccgctgacTTAAAT\n",
    "                                         >778\n",
    "                                         ggtaaatccggatTAATTAA\n",
    "                                         >342\n",
    "                                         CCTTTTTACGGTTCCTGGCCT\"\"\") }"
   ]
  },
  {
   "cell_type": "markdown",
   "metadata": {},
   "source": [
    "## Diagnostic PCR confirmation\n",
    "\n",
    "The correct structure of pYPKa_Z_DYS1 is confirmed by PCR using standard primers\n",
    "577 and 342 that are vector specific together with the DYS1fw primer specific for the insert\n",
    "in a multiplex PCR reaction with\n",
    "all three primers present.\n",
    "\n",
    "Two PCR products are expected if the insert was cloned, the sizes depend\n",
    "on the orientation. If the vector is empty or contains another insert, only one\n",
    "product is formed.\n",
    "\n",
    "#### Expected PCR products sizes from pYPKa_Z_DYS1:\n",
    "\n",
    "pYPKa_Z_DYS1 with insert in correct orientation."
   ]
  },
  {
   "cell_type": "code",
   "execution_count": 18,
   "metadata": {
    "execution": {
     "iopub.execute_input": "2021-05-17T10:25:38.040889Z",
     "iopub.status.busy": "2021-05-17T10:25:38.035877Z",
     "iopub.status.idle": "2021-05-17T10:25:38.049145Z",
     "shell.execute_reply": "2021-05-17T10:25:38.048454Z"
    }
   },
   "outputs": [
    {
     "data": {
      "text/plain": [
       "[Amplicon(1267), Amplicon(1099)]"
      ]
     },
     "execution_count": 1,
     "metadata": {},
     "output_type": "execute_result"
    }
   ],
   "source": [
    "Anneal( (p['577'], p['342'], fp), pYPKa_Z_DYS1).products"
   ]
  },
  {
   "cell_type": "markdown",
   "metadata": {},
   "source": [
    "pYPKa_Z_DYS1 with insert in reverse orientation."
   ]
  },
  {
   "cell_type": "code",
   "execution_count": 19,
   "metadata": {
    "execution": {
     "iopub.execute_input": "2021-05-17T10:25:38.064260Z",
     "iopub.status.busy": "2021-05-17T10:25:38.063621Z",
     "iopub.status.idle": "2021-05-17T10:25:38.067064Z",
     "shell.execute_reply": "2021-05-17T10:25:38.067542Z"
    }
   },
   "outputs": [
    {
     "data": {
      "text/plain": [
       "[Amplicon(1267), Amplicon(501)]"
      ]
     },
     "execution_count": 1,
     "metadata": {},
     "output_type": "execute_result"
    }
   ],
   "source": [
    "Anneal( (p['577'], p['342'], fp), pYPKa_Z_DYS1b).products"
   ]
  },
  {
   "cell_type": "markdown",
   "metadata": {},
   "source": [
    "Empty pYPKa clone."
   ]
  },
  {
   "cell_type": "code",
   "execution_count": 20,
   "metadata": {
    "execution": {
     "iopub.execute_input": "2021-05-17T10:25:38.078772Z",
     "iopub.status.busy": "2021-05-17T10:25:38.074986Z",
     "iopub.status.idle": "2021-05-17T10:25:38.082465Z",
     "shell.execute_reply": "2021-05-17T10:25:38.082963Z"
    }
   },
   "outputs": [
    {
     "data": {
      "text/plain": [
       "[Amplicon(934)]"
      ]
     },
     "execution_count": 1,
     "metadata": {},
     "output_type": "execute_result"
    }
   ],
   "source": [
    "Anneal( (p['577'], p['342'], fp), pYPKa).products"
   ]
  },
  {
   "cell_type": "markdown",
   "metadata": {},
   "source": [
    "#### Expected PCR products sizes pYPKa_E_DYS1:\n",
    "\n",
    "pYPKa_E_DYS1 with insert in correct orientation."
   ]
  },
  {
   "cell_type": "code",
   "execution_count": 21,
   "metadata": {
    "execution": {
     "iopub.execute_input": "2021-05-17T10:25:38.098746Z",
     "iopub.status.busy": "2021-05-17T10:25:38.098104Z",
     "iopub.status.idle": "2021-05-17T10:25:38.101335Z",
     "shell.execute_reply": "2021-05-17T10:25:38.100775Z"
    }
   },
   "outputs": [
    {
     "data": {
      "text/plain": [
       "[Amplicon(1267), Amplicon(1018)]"
      ]
     },
     "execution_count": 1,
     "metadata": {},
     "output_type": "execute_result"
    }
   ],
   "source": [
    "Anneal( (p['577'], p['342'], fp), pYPKa_E_DYS1).products"
   ]
  },
  {
   "cell_type": "markdown",
   "metadata": {},
   "source": [
    "pYPKa_E_DYS1 with insert in reverse orientation."
   ]
  },
  {
   "cell_type": "code",
   "execution_count": 22,
   "metadata": {
    "execution": {
     "iopub.execute_input": "2021-05-17T10:25:38.117006Z",
     "iopub.status.busy": "2021-05-17T10:25:38.116379Z",
     "iopub.status.idle": "2021-05-17T10:25:38.119509Z",
     "shell.execute_reply": "2021-05-17T10:25:38.119975Z"
    }
   },
   "outputs": [
    {
     "data": {
      "text/plain": [
       "[Amplicon(1267), Amplicon(582)]"
      ]
     },
     "execution_count": 1,
     "metadata": {},
     "output_type": "execute_result"
    }
   ],
   "source": [
    "Anneal( (p['577'], p['342'], fp), pYPKa_E_DYS1b).products\n"
   ]
  },
  {
   "cell_type": "markdown",
   "metadata": {},
   "source": [
    "Calculate cseguid checksums for the resulting plasmids for future reference.\n",
    "This checksum that uniquely describes a circular double stranded\n",
    "sequence. See this [blog post](https://ochsavidare.blogspot.com/2016/02/checksum-for-circular-biological.html) for more info.\n",
    "\n",
    "pYPKa_Z_DYS1.cseguid() should be YgzOtDKGhSSGtNqGb6Wc26m31tc"
   ]
  },
  {
   "cell_type": "code",
   "execution_count": 23,
   "metadata": {
    "execution": {
     "iopub.execute_input": "2021-05-17T10:25:38.132820Z",
     "iopub.status.busy": "2021-05-17T10:25:38.132290Z",
     "iopub.status.idle": "2021-05-17T10:25:38.135251Z",
     "shell.execute_reply": "2021-05-17T10:25:38.134808Z"
    }
   },
   "outputs": [
    {
     "name": "stdout",
     "output_type": "stream",
     "text": [
      "YgzOtDKGhSSGtNqGb6Wc26m31tc\n"
     ]
    }
   ],
   "source": [
    "print(pYPKa_Z_DYS1.cseguid())\n",
    "assert pYPKa_Z_DYS1.cseguid() == \"YgzOtDKGhSSGtNqGb6Wc26m31tc\""
   ]
  },
  {
   "cell_type": "markdown",
   "metadata": {},
   "source": [
    "pYPKa_E_DYS1.cseguid() should be j1lUASqjTQ_URmiFwWxBZVl5juc"
   ]
  },
  {
   "cell_type": "code",
   "execution_count": 24,
   "metadata": {
    "execution": {
     "iopub.execute_input": "2021-05-17T10:25:38.146674Z",
     "iopub.status.busy": "2021-05-17T10:25:38.141052Z",
     "iopub.status.idle": "2021-05-17T10:25:38.149813Z",
     "shell.execute_reply": "2021-05-17T10:25:38.149302Z"
    }
   },
   "outputs": [
    {
     "name": "stdout",
     "output_type": "stream",
     "text": [
      "j1lUASqjTQ_URmiFwWxBZVl5juc\n"
     ]
    }
   ],
   "source": [
    "print(pYPKa_E_DYS1.cseguid())\n",
    "assert pYPKa_E_DYS1.cseguid() == \"j1lUASqjTQ_URmiFwWxBZVl5juc\""
   ]
  },
  {
   "cell_type": "markdown",
   "metadata": {},
   "source": [
    "The sequences are named based on the name of the cloned insert."
   ]
  },
  {
   "cell_type": "code",
   "execution_count": 25,
   "metadata": {
    "execution": {
     "iopub.execute_input": "2021-05-17T10:25:38.153466Z",
     "iopub.status.busy": "2021-05-17T10:25:38.152870Z",
     "iopub.status.idle": "2021-05-17T10:25:38.156142Z",
     "shell.execute_reply": "2021-05-17T10:25:38.155449Z"
    }
   },
   "outputs": [],
   "source": [
    "pYPKa_Z_DYS1.locus = \"pYPKa_Z_DYS1\"[:16]\n",
    "pYPKa_E_DYS1.locus = \"pYPKa_Z_DYS1\"[:16]"
   ]
  },
  {
   "cell_type": "markdown",
   "metadata": {},
   "source": [
    "Stamp sequence with cseguid checksum. This can be used to verify the\n",
    "integrity of the sequence file."
   ]
  },
  {
   "cell_type": "code",
   "execution_count": 26,
   "metadata": {
    "execution": {
     "iopub.execute_input": "2021-05-17T10:25:38.171130Z",
     "iopub.status.busy": "2021-05-17T10:25:38.170683Z",
     "iopub.status.idle": "2021-05-17T10:25:38.173603Z",
     "shell.execute_reply": "2021-05-17T10:25:38.174043Z"
    }
   },
   "outputs": [
    {
     "data": {
      "text/plain": [
       "cSEGUID_j1lUASqjTQ_URmiFwWxBZVl5juc"
      ]
     },
     "execution_count": 1,
     "metadata": {},
     "output_type": "execute_result"
    }
   ],
   "source": [
    "pYPKa_Z_DYS1.stamp()\n",
    "pYPKa_E_DYS1.stamp()"
   ]
  },
  {
   "cell_type": "markdown",
   "metadata": {},
   "source": [
    "pYPKa_Z_DYS1 is written to a local file:"
   ]
  },
  {
   "cell_type": "code",
   "execution_count": 27,
   "metadata": {
    "execution": {
     "iopub.execute_input": "2021-05-17T10:25:38.182472Z",
     "iopub.status.busy": "2021-05-17T10:25:38.181782Z",
     "iopub.status.idle": "2021-05-17T10:25:38.191520Z",
     "shell.execute_reply": "2021-05-17T10:25:38.190848Z"
    }
   },
   "outputs": [
    {
     "data": {
      "text/html": [
       "<font face=monospace><a href='pYPKa_Z_DYS1.gb' target='_blank'>pYPKa_Z_DYS1.gb</a></font><br>"
      ]
     },
     "metadata": {},
     "output_type": "display_data"
    }
   ],
   "source": [
    "pYPKa_Z_DYS1.write(\"pYPKa_Z_DYS1.gb\")"
   ]
  },
  {
   "cell_type": "markdown",
   "metadata": {},
   "source": [
    "pYPKa_E_DYS1 is written to a local file:"
   ]
  },
  {
   "cell_type": "code",
   "execution_count": 28,
   "metadata": {
    "execution": {
     "iopub.execute_input": "2021-05-17T10:25:38.201248Z",
     "iopub.status.busy": "2021-05-17T10:25:38.199239Z",
     "iopub.status.idle": "2021-05-17T10:25:38.205947Z",
     "shell.execute_reply": "2021-05-17T10:25:38.206577Z"
    }
   },
   "outputs": [
    {
     "data": {
      "text/html": [
       "<font face=monospace><a href='pYPKa_E_DYS1.gb' target='_blank'>pYPKa_E_DYS1.gb</a></font><br>"
      ]
     },
     "metadata": {},
     "output_type": "display_data"
    }
   ],
   "source": [
    "pYPKa_E_DYS1.write(\"pYPKa_E_DYS1.gb\")"
   ]
  }
 ],
 "metadata": {
  "language_info": {
   "codemirror_mode": {
    "name": "ipython",
    "version": 3
   },
   "file_extension": ".py",
   "mimetype": "text/x-python",
   "name": "python",
   "nbconvert_exporter": "python",
   "pygments_lexer": "ipython3",
   "version": "3.9.0"
  }
 },
 "nbformat": 4,
 "nbformat_minor": 2
}
