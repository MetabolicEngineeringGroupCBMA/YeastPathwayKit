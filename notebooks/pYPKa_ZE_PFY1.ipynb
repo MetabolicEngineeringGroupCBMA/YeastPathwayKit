{
 "cells": [
  {
   "cell_type": "markdown",
   "metadata": {},
   "source": [
    "# pYPKa_Z_PFY1 and pYPKa_E_PFY1\n",
    "\n",
    "This Jupyter notebook describe the construction of E. coli vectors [pYPKa_Z_PFY1](pYPKa_Z_PFY1.gb) and [pYPKa_E_PFY1](pYPKa_E_PFY1.gb). \n",
    "These two vectors share backbone and insert, but in the former, the insert is cloned using the restriction\n",
    "enzyme [ZraI](http://rebase.neb.com/rebase/enz/ZraI.html) while in the latter [EcoRV](http://rebase.neb.com/rebase/enz/EcoRV.html) is used.\n",
    "\n",
    "The insert cloned in ZraI is meant to function as a promoter, while in the EcoRV site it is meant to be  used as a terminator.\n",
    "\n",
    "Links to the sequence of each vector in Genbank format can be found at the bottom of this document.\n",
    "\n",
    "![pYPKa_Z and pYPKa_E](figure_pYPKa_ZE.png \"pYPKa_Z or pYPKa_E plasmid\")\n",
    "\n",
    "The Python package [pydna](https://pypi.python.org/pypi/pydna/) package is imported in the code cell below to provide \n",
    "the cloning functionality. There is a [publication](http://www.biomedcentral.com/1471-2105/16/142) describing pydna as well as\n",
    "[documentation](http://pydna.readthedocs.io/) available online. Pydna is developed on [Github](https://github.com/BjornFJohansson/pydna)."
   ]
  },
  {
   "cell_type": "code",
   "execution_count": 1,
   "metadata": {
    "execution": {
     "iopub.execute_input": "2021-05-17T10:25:58.494732Z",
     "iopub.status.busy": "2021-05-17T10:25:58.494293Z",
     "iopub.status.idle": "2021-05-17T10:25:59.070853Z",
     "shell.execute_reply": "2021-05-17T10:25:59.071210Z"
    }
   },
   "outputs": [],
   "source": [
    "from pydna.readers import read\n",
    "from pydna.parsers import parse_primers\n",
    "from pydna.genbank import Genbank\n",
    "from pydna.amplify import pcr\n",
    "from pydna.amplify import Anneal"
   ]
  },
  {
   "cell_type": "markdown",
   "metadata": {},
   "source": [
    "The vector backbone pYPKa is read from a local [file](pYPKa.gb)."
   ]
  },
  {
   "cell_type": "code",
   "execution_count": 2,
   "metadata": {
    "execution": {
     "iopub.execute_input": "2021-05-17T10:25:59.084314Z",
     "iopub.status.busy": "2021-05-17T10:25:59.081513Z",
     "iopub.status.idle": "2021-05-17T10:25:59.098665Z",
     "shell.execute_reply": "2021-05-17T10:25:59.099357Z"
    }
   },
   "outputs": [],
   "source": [
    "pYPKa = read(\"pYPKa.gb\")"
   ]
  },
  {
   "cell_type": "markdown",
   "metadata": {},
   "source": [
    "Both restriction enzymes are imported from [Biopython](http://biopython.org/wiki/Main_Page)"
   ]
  },
  {
   "cell_type": "code",
   "execution_count": 3,
   "metadata": {
    "execution": {
     "iopub.execute_input": "2021-05-17T10:25:59.104344Z",
     "iopub.status.busy": "2021-05-17T10:25:59.103874Z",
     "iopub.status.idle": "2021-05-17T10:25:59.106100Z",
     "shell.execute_reply": "2021-05-17T10:25:59.106930Z"
    }
   },
   "outputs": [],
   "source": [
    "from Bio.Restriction import ZraI, EcoRV"
   ]
  },
  {
   "cell_type": "markdown",
   "metadata": {},
   "source": [
    "The vector is cut with both enzymes."
   ]
  },
  {
   "cell_type": "code",
   "execution_count": 4,
   "metadata": {
    "execution": {
     "iopub.execute_input": "2021-05-17T10:25:59.118832Z",
     "iopub.status.busy": "2021-05-17T10:25:59.118160Z",
     "iopub.status.idle": "2021-05-17T10:25:59.121889Z",
     "shell.execute_reply": "2021-05-17T10:25:59.121180Z"
    }
   },
   "outputs": [],
   "source": [
    "pYPKa_ZraI  = pYPKa.linearize(ZraI)\n",
    "pYPKa_EcoRV = pYPKa.linearize(EcoRV)"
   ]
  },
  {
   "cell_type": "markdown",
   "metadata": {},
   "source": [
    "The template below comes from a Genbank [record](http://www.ncbi.nlm.nih.gov/nuccore/BK006948.2).\n",
    "Access to Genbank is needed in order to download the template.\n",
    "If you execute this script, change the email address below to your own.\n",
    "Always tell Genbank who you are, when using their web service."
   ]
  },
  {
   "cell_type": "code",
   "execution_count": 5,
   "metadata": {
    "execution": {
     "iopub.execute_input": "2021-05-17T10:25:59.130935Z",
     "iopub.status.busy": "2021-05-17T10:25:59.130314Z",
     "iopub.status.idle": "2021-05-17T10:25:59.133868Z",
     "shell.execute_reply": "2021-05-17T10:25:59.134500Z"
    }
   },
   "outputs": [],
   "source": [
    "gb = Genbank(\"bjornjobb@gmail.com\")"
   ]
  },
  {
   "cell_type": "markdown",
   "metadata": {},
   "source": [
    "The template is downloaded from Genbank below."
   ]
  },
  {
   "cell_type": "code",
   "execution_count": 6,
   "metadata": {
    "execution": {
     "iopub.execute_input": "2021-05-17T10:25:59.139036Z",
     "iopub.status.busy": "2021-05-17T10:25:59.138329Z",
     "iopub.status.idle": "2021-05-17T10:25:59.149502Z",
     "shell.execute_reply": "2021-05-17T10:25:59.148789Z"
    }
   },
   "outputs": [],
   "source": [
    "template = gb.nucleotide(\"BK006948.2 REGION: complement(552888..553175)\")"
   ]
  },
  {
   "cell_type": "markdown",
   "metadata": {},
   "source": [
    "The template is a 288 bp linear DNA fragment."
   ]
  },
  {
   "cell_type": "code",
   "execution_count": 7,
   "metadata": {
    "execution": {
     "iopub.execute_input": "2021-05-17T10:25:59.159476Z",
     "iopub.status.busy": "2021-05-17T10:25:59.158022Z",
     "iopub.status.idle": "2021-05-17T10:25:59.163104Z",
     "shell.execute_reply": "2021-05-17T10:25:59.162538Z"
    }
   },
   "outputs": [
    {
     "data": {
      "text/html": [
       "<a href='https://www.ncbi.nlm.nih.gov/nuccore/BK006948.2 ?from=552888&to=553175&strand=2' target='_blank'>BK006948.2  552888-553175</a>"
      ],
      "text/plain": [
       "Gbank(BK006948.2  552888-553175)(-288)"
      ]
     },
     "execution_count": 1,
     "metadata": {},
     "output_type": "execute_result"
    }
   ],
   "source": [
    "template"
   ]
  },
  {
   "cell_type": "markdown",
   "metadata": {},
   "source": [
    "The insert has the sequence shown below."
   ]
  },
  {
   "cell_type": "code",
   "execution_count": 8,
   "metadata": {
    "execution": {
     "iopub.execute_input": "2021-05-17T10:25:59.168233Z",
     "iopub.status.busy": "2021-05-17T10:25:59.167306Z",
     "iopub.status.idle": "2021-05-17T10:25:59.171452Z",
     "shell.execute_reply": "2021-05-17T10:25:59.172090Z"
    }
   },
   "outputs": [
    {
     "name": "stdout",
     "output_type": "stream",
     "text": [
      "AGGAGACGTTACTTTGTTTATATATATTAGTATGTACAATCGCAAAGAAATGGAGTGATGACATGTTGTAGTATTTAGTATGAGGTTACTGTGTGGGAGGTTTTACCATGATTTTTGGCGAGAACACGCCATGAAATGTCTTTGTACGAAACTCATTACCCGCATTAATATTTTTTTTCTTTTTAAAGCTCAGTTGACCCTTTCTCATTCCCTTCTTAAAACAACTGTGTGATCCTTGAGAAAAGATAAATTACATACACAACATAAACCCAACTACGATCGCAAATT\n"
     ]
    }
   ],
   "source": [
    "print(str(template.seq))"
   ]
  },
  {
   "cell_type": "markdown",
   "metadata": {},
   "source": [
    "The seguid checksum of the template should be\n",
    "\n",
    "```AEa9C40Jwj20Dzd8ueIKcAyC0IM```"
   ]
  },
  {
   "cell_type": "code",
   "execution_count": 9,
   "metadata": {
    "execution": {
     "iopub.execute_input": "2021-05-17T10:25:59.177596Z",
     "iopub.status.busy": "2021-05-17T10:25:59.176727Z",
     "iopub.status.idle": "2021-05-17T10:25:59.179854Z",
     "shell.execute_reply": "2021-05-17T10:25:59.180411Z"
    }
   },
   "outputs": [
    {
     "data": {
      "text/plain": [
       "AEa9C40Jwj20Dzd8ueIKcAyC0IM"
      ]
     },
     "execution_count": 1,
     "metadata": {},
     "output_type": "execute_result"
    }
   ],
   "source": [
    "template.seguid()"
   ]
  },
  {
   "cell_type": "markdown",
   "metadata": {},
   "source": [
    "Two primers are used to amplify the insert:"
   ]
  },
  {
   "cell_type": "code",
   "execution_count": 10,
   "metadata": {
    "execution": {
     "iopub.execute_input": "2021-05-17T10:25:59.186294Z",
     "iopub.status.busy": "2021-05-17T10:25:59.185396Z",
     "iopub.status.idle": "2021-05-17T10:25:59.188341Z",
     "shell.execute_reply": "2021-05-17T10:25:59.187636Z"
    }
   },
   "outputs": [],
   "source": [
    "fp,rp = parse_primers(\"\"\">1012_fw288\n",
    "                         ttaaatAGGAGACGTTACTTTGTTTA\n",
    "                         >1011_rv288\n",
    "                         taattaaAATTTGCGATCGTAGTT\"\"\")"
   ]
  },
  {
   "cell_type": "markdown",
   "metadata": {},
   "source": [
    "PCR to create the insert using the primers above."
   ]
  },
  {
   "cell_type": "code",
   "execution_count": 11,
   "metadata": {
    "execution": {
     "iopub.execute_input": "2021-05-17T10:25:59.194940Z",
     "iopub.status.busy": "2021-05-17T10:25:59.194243Z",
     "iopub.status.idle": "2021-05-17T10:25:59.200141Z",
     "shell.execute_reply": "2021-05-17T10:25:59.199404Z"
    }
   },
   "outputs": [],
   "source": [
    "prd = pcr(fp, rp, template)\n",
    "assert str(fp.seq) in prd"
   ]
  },
  {
   "cell_type": "markdown",
   "metadata": {},
   "source": [
    "The PCR product has this length in bp."
   ]
  },
  {
   "cell_type": "code",
   "execution_count": 12,
   "metadata": {
    "execution": {
     "iopub.execute_input": "2021-05-17T10:25:59.205746Z",
     "iopub.status.busy": "2021-05-17T10:25:59.205035Z",
     "iopub.status.idle": "2021-05-17T10:25:59.209086Z",
     "shell.execute_reply": "2021-05-17T10:25:59.209768Z"
    }
   },
   "outputs": [
    {
     "data": {
      "text/plain": [
       "301"
      ]
     },
     "execution_count": 1,
     "metadata": {},
     "output_type": "execute_result"
    }
   ],
   "source": [
    "len(prd)"
   ]
  },
  {
   "cell_type": "markdown",
   "metadata": {},
   "source": [
    "A figure of the primers annealing on template."
   ]
  },
  {
   "cell_type": "code",
   "execution_count": 13,
   "metadata": {
    "execution": {
     "iopub.execute_input": "2021-05-17T10:25:59.214712Z",
     "iopub.status.busy": "2021-05-17T10:25:59.213918Z",
     "iopub.status.idle": "2021-05-17T10:25:59.218811Z",
     "shell.execute_reply": "2021-05-17T10:25:59.218027Z"
    }
   },
   "outputs": [
    {
     "data": {
      "text/plain": [
       "      5AGGAGACGTTACTTTGTTTA...AACTACGATCGCAAATT3\n",
       "                              |||||||||||||||||\n",
       "                             3TTGATGCTAGCGTTTAAaattaat5\n",
       "5ttaaatAGGAGACGTTACTTTGTTTA3\n",
       "       ||||||||||||||||||||\n",
       "      3TCCTCTGCAATGAAACAAAT...TTGATGCTAGCGTTTAA5"
      ]
     },
     "execution_count": 1,
     "metadata": {},
     "output_type": "execute_result"
    }
   ],
   "source": [
    "prd.figure()"
   ]
  },
  {
   "cell_type": "markdown",
   "metadata": {},
   "source": [
    "A suggested PCR program."
   ]
  },
  {
   "cell_type": "code",
   "execution_count": 14,
   "metadata": {
    "execution": {
     "iopub.execute_input": "2021-05-17T10:25:59.224700Z",
     "iopub.status.busy": "2021-05-17T10:25:59.224095Z",
     "iopub.status.idle": "2021-05-17T10:25:59.227893Z",
     "shell.execute_reply": "2021-05-17T10:25:59.227330Z"
    }
   },
   "outputs": [
    {
     "data": {
      "text/plain": [
       "|95°C|95°C               |    |tmf:55.9\n",
       "|____|_____          72°C|72°C|tmr:51.6\n",
       "|5min|30s  \\ 50.4°C _____|____|60s/kb\n",
       "|    |      \\______/ 0:18|5min|GC 32%\n",
       "|    |       30s         |    |301bp"
      ]
     },
     "execution_count": 1,
     "metadata": {},
     "output_type": "execute_result"
    }
   ],
   "source": [
    "prd.program()"
   ]
  },
  {
   "cell_type": "markdown",
   "metadata": {},
   "source": [
    "The final vectors are:"
   ]
  },
  {
   "cell_type": "code",
   "execution_count": 15,
   "metadata": {
    "execution": {
     "iopub.execute_input": "2021-05-17T10:25:59.246278Z",
     "iopub.status.busy": "2021-05-17T10:25:59.236059Z",
     "iopub.status.idle": "2021-05-17T10:25:59.728066Z",
     "shell.execute_reply": "2021-05-17T10:25:59.727544Z"
    }
   },
   "outputs": [],
   "source": [
    "pYPKa_Z_PFY1 = (pYPKa_ZraI  + prd).looped().synced(pYPKa)\n",
    "pYPKa_E_PFY1 = (pYPKa_EcoRV + prd).looped().synced(pYPKa)"
   ]
  },
  {
   "cell_type": "markdown",
   "metadata": {},
   "source": [
    "The final vectors with reverse inserts are created below. These vectors theoretically make up\n",
    "fifty percent of the clones. The PCR strategy outlined below can be used to identify clones with the insert\n",
    "in the correct orientation."
   ]
  },
  {
   "cell_type": "code",
   "execution_count": 16,
   "metadata": {
    "execution": {
     "iopub.execute_input": "2021-05-17T10:25:59.755891Z",
     "iopub.status.busy": "2021-05-17T10:25:59.745932Z",
     "iopub.status.idle": "2021-05-17T10:26:00.188876Z",
     "shell.execute_reply": "2021-05-17T10:26:00.188308Z"
    }
   },
   "outputs": [],
   "source": [
    "pYPKa_Z_PFY1b = (pYPKa_ZraI  + prd.rc()).looped().synced(pYPKa)\n",
    "pYPKa_E_PFY1b = (pYPKa_EcoRV + prd.rc()).looped().synced(pYPKa)"
   ]
  },
  {
   "cell_type": "markdown",
   "metadata": {},
   "source": [
    "A combination of yeast pathway kit standard primers and the primers above are\n",
    "used for the strategy to identify correct clones.\n",
    "Standard primers used in the yeast are listed [here](standard_primers.txt)."
   ]
  },
  {
   "cell_type": "code",
   "execution_count": 17,
   "metadata": {
    "execution": {
     "iopub.execute_input": "2021-05-17T10:26:00.193507Z",
     "iopub.status.busy": "2021-05-17T10:26:00.192294Z",
     "iopub.status.idle": "2021-05-17T10:26:00.195853Z",
     "shell.execute_reply": "2021-05-17T10:26:00.196526Z"
    }
   },
   "outputs": [],
   "source": [
    "p = { x.id: x for x in parse_primers(\"\"\">577\n",
    "                                         gttctgatcctcgagcatcttaagaattc\n",
    "                                         >578\n",
    "                                         gttcttgtctcattgccacattcataagt\n",
    "                                         >468\n",
    "                                         gtcgaggaacgccaggttgcccact\n",
    "                                         >467\n",
    "                                         ATTTAAatcctgatgcgtttgtctgcacaga\n",
    "                                         >567\n",
    "                                         GTcggctgcaggtcactagtgag\n",
    "                                         >568\n",
    "                                         GTGCcatctgtgcagacaaacg\n",
    "                                         >775\n",
    "                                         gcggccgctgacTTAAAT\n",
    "                                         >778\n",
    "                                         ggtaaatccggatTAATTAA\n",
    "                                         >342\n",
    "                                         CCTTTTTACGGTTCCTGGCCT\"\"\") }"
   ]
  },
  {
   "cell_type": "markdown",
   "metadata": {},
   "source": [
    "## Diagnostic PCR confirmation\n",
    "\n",
    "The correct structure of pYPKa_Z_PFY1 is confirmed by PCR using standard primers\n",
    "577 and 342 that are vector specific together with the PFY1fw primer specific for the insert\n",
    "in a multiplex PCR reaction with\n",
    "all three primers present.\n",
    "\n",
    "Two PCR products are expected if the insert was cloned, the sizes depend\n",
    "on the orientation. If the vector is empty or contains another insert, only one\n",
    "product is formed.\n",
    "\n",
    "#### Expected PCR products sizes from pYPKa_Z_PFY1:\n",
    "\n",
    "pYPKa_Z_PFY1 with insert in correct orientation."
   ]
  },
  {
   "cell_type": "code",
   "execution_count": 18,
   "metadata": {
    "execution": {
     "iopub.execute_input": "2021-05-17T10:26:00.213359Z",
     "iopub.status.busy": "2021-05-17T10:26:00.212553Z",
     "iopub.status.idle": "2021-05-17T10:26:00.215535Z",
     "shell.execute_reply": "2021-05-17T10:26:00.215943Z"
    }
   },
   "outputs": [
    {
     "data": {
      "text/plain": [
       "[Amplicon(1235), Amplicon(1067)]"
      ]
     },
     "execution_count": 1,
     "metadata": {},
     "output_type": "execute_result"
    }
   ],
   "source": [
    "Anneal( (p['577'], p['342'], fp), pYPKa_Z_PFY1).products"
   ]
  },
  {
   "cell_type": "markdown",
   "metadata": {},
   "source": [
    "pYPKa_Z_PFY1 with insert in reverse orientation."
   ]
  },
  {
   "cell_type": "code",
   "execution_count": 19,
   "metadata": {
    "execution": {
     "iopub.execute_input": "2021-05-17T10:26:00.230037Z",
     "iopub.status.busy": "2021-05-17T10:26:00.229342Z",
     "iopub.status.idle": "2021-05-17T10:26:00.231904Z",
     "shell.execute_reply": "2021-05-17T10:26:00.232389Z"
    }
   },
   "outputs": [
    {
     "data": {
      "text/plain": [
       "[Amplicon(1235), Amplicon(469)]"
      ]
     },
     "execution_count": 1,
     "metadata": {},
     "output_type": "execute_result"
    }
   ],
   "source": [
    "Anneal( (p['577'], p['342'], fp), pYPKa_Z_PFY1b).products"
   ]
  },
  {
   "cell_type": "markdown",
   "metadata": {},
   "source": [
    "Empty pYPKa clone."
   ]
  },
  {
   "cell_type": "code",
   "execution_count": 20,
   "metadata": {
    "execution": {
     "iopub.execute_input": "2021-05-17T10:26:00.241337Z",
     "iopub.status.busy": "2021-05-17T10:26:00.240567Z",
     "iopub.status.idle": "2021-05-17T10:26:00.244329Z",
     "shell.execute_reply": "2021-05-17T10:26:00.243795Z"
    }
   },
   "outputs": [
    {
     "data": {
      "text/plain": [
       "[Amplicon(934)]"
      ]
     },
     "execution_count": 1,
     "metadata": {},
     "output_type": "execute_result"
    }
   ],
   "source": [
    "Anneal( (p['577'], p['342'], fp), pYPKa).products"
   ]
  },
  {
   "cell_type": "markdown",
   "metadata": {},
   "source": [
    "#### Expected PCR products sizes pYPKa_E_PFY1:\n",
    "\n",
    "pYPKa_E_PFY1 with insert in correct orientation."
   ]
  },
  {
   "cell_type": "code",
   "execution_count": 21,
   "metadata": {
    "execution": {
     "iopub.execute_input": "2021-05-17T10:26:00.259196Z",
     "iopub.status.busy": "2021-05-17T10:26:00.258507Z",
     "iopub.status.idle": "2021-05-17T10:26:00.261807Z",
     "shell.execute_reply": "2021-05-17T10:26:00.261010Z"
    }
   },
   "outputs": [
    {
     "data": {
      "text/plain": [
       "[Amplicon(1235), Amplicon(986)]"
      ]
     },
     "execution_count": 1,
     "metadata": {},
     "output_type": "execute_result"
    }
   ],
   "source": [
    "Anneal( (p['577'], p['342'], fp), pYPKa_E_PFY1).products"
   ]
  },
  {
   "cell_type": "markdown",
   "metadata": {},
   "source": [
    "pYPKa_E_PFY1 with insert in reverse orientation."
   ]
  },
  {
   "cell_type": "code",
   "execution_count": 22,
   "metadata": {
    "execution": {
     "iopub.execute_input": "2021-05-17T10:26:00.276884Z",
     "iopub.status.busy": "2021-05-17T10:26:00.276075Z",
     "iopub.status.idle": "2021-05-17T10:26:00.280043Z",
     "shell.execute_reply": "2021-05-17T10:26:00.279520Z"
    }
   },
   "outputs": [
    {
     "data": {
      "text/plain": [
       "[Amplicon(1235), Amplicon(550)]"
      ]
     },
     "execution_count": 1,
     "metadata": {},
     "output_type": "execute_result"
    }
   ],
   "source": [
    "Anneal( (p['577'], p['342'], fp), pYPKa_E_PFY1b).products\n"
   ]
  },
  {
   "cell_type": "markdown",
   "metadata": {},
   "source": [
    "Calculate cseguid checksums for the resulting plasmids for future reference.\n",
    "This checksum that uniquely describes a circular double stranded\n",
    "sequence. See this [blog post](https://ochsavidare.blogspot.com/2016/02/checksum-for-circular-biological.html) for more info.\n",
    "\n",
    "pYPKa_Z_PFY1.cseguid() should be 3Ctd2oeHwNgltljqZCkr3lWsR_g"
   ]
  },
  {
   "cell_type": "code",
   "execution_count": 23,
   "metadata": {
    "execution": {
     "iopub.execute_input": "2021-05-17T10:26:00.291955Z",
     "iopub.status.busy": "2021-05-17T10:26:00.290815Z",
     "iopub.status.idle": "2021-05-17T10:26:00.293953Z",
     "shell.execute_reply": "2021-05-17T10:26:00.294438Z"
    }
   },
   "outputs": [
    {
     "name": "stdout",
     "output_type": "stream",
     "text": [
      "3Ctd2oeHwNgltljqZCkr3lWsR_g\n"
     ]
    }
   ],
   "source": [
    "print(pYPKa_Z_PFY1.cseguid())\n",
    "assert pYPKa_Z_PFY1.cseguid() == \"3Ctd2oeHwNgltljqZCkr3lWsR_g\""
   ]
  },
  {
   "cell_type": "markdown",
   "metadata": {},
   "source": [
    "pYPKa_E_PFY1.cseguid() should be bLfdOns2PxB1Ybx_70Fn70pbS_M"
   ]
  },
  {
   "cell_type": "code",
   "execution_count": 24,
   "metadata": {
    "execution": {
     "iopub.execute_input": "2021-05-17T10:26:00.304265Z",
     "iopub.status.busy": "2021-05-17T10:26:00.303634Z",
     "iopub.status.idle": "2021-05-17T10:26:00.307149Z",
     "shell.execute_reply": "2021-05-17T10:26:00.306286Z"
    }
   },
   "outputs": [
    {
     "name": "stdout",
     "output_type": "stream",
     "text": [
      "bLfdOns2PxB1Ybx_70Fn70pbS_M\n"
     ]
    }
   ],
   "source": [
    "print(pYPKa_E_PFY1.cseguid())\n",
    "assert pYPKa_E_PFY1.cseguid() == \"bLfdOns2PxB1Ybx_70Fn70pbS_M\""
   ]
  },
  {
   "cell_type": "markdown",
   "metadata": {},
   "source": [
    "The sequences are named based on the name of the cloned insert."
   ]
  },
  {
   "cell_type": "code",
   "execution_count": 25,
   "metadata": {
    "execution": {
     "iopub.execute_input": "2021-05-17T10:26:00.310749Z",
     "iopub.status.busy": "2021-05-17T10:26:00.310255Z",
     "iopub.status.idle": "2021-05-17T10:26:00.312670Z",
     "shell.execute_reply": "2021-05-17T10:26:00.313363Z"
    }
   },
   "outputs": [],
   "source": [
    "pYPKa_Z_PFY1.locus = \"pYPKa_Z_PFY1\"[:16]\n",
    "pYPKa_E_PFY1.locus = \"pYPKa_Z_PFY1\"[:16]"
   ]
  },
  {
   "cell_type": "markdown",
   "metadata": {},
   "source": [
    "Stamp sequence with cseguid checksum. This can be used to verify the\n",
    "integrity of the sequence file."
   ]
  },
  {
   "cell_type": "code",
   "execution_count": 26,
   "metadata": {
    "execution": {
     "iopub.execute_input": "2021-05-17T10:26:00.326408Z",
     "iopub.status.busy": "2021-05-17T10:26:00.321322Z",
     "iopub.status.idle": "2021-05-17T10:26:00.329849Z",
     "shell.execute_reply": "2021-05-17T10:26:00.329201Z"
    }
   },
   "outputs": [
    {
     "data": {
      "text/plain": [
       "cSEGUID_bLfdOns2PxB1Ybx_70Fn70pbS_M"
      ]
     },
     "execution_count": 1,
     "metadata": {},
     "output_type": "execute_result"
    }
   ],
   "source": [
    "pYPKa_Z_PFY1.stamp()\n",
    "pYPKa_E_PFY1.stamp()"
   ]
  },
  {
   "cell_type": "markdown",
   "metadata": {},
   "source": [
    "pYPKa_Z_PFY1 is written to a local file:"
   ]
  },
  {
   "cell_type": "code",
   "execution_count": 27,
   "metadata": {
    "execution": {
     "iopub.execute_input": "2021-05-17T10:26:00.337753Z",
     "iopub.status.busy": "2021-05-17T10:26:00.333689Z",
     "iopub.status.idle": "2021-05-17T10:26:00.344715Z",
     "shell.execute_reply": "2021-05-17T10:26:00.343990Z"
    }
   },
   "outputs": [
    {
     "data": {
      "text/html": [
       "<font face=monospace><a href='pYPKa_Z_PFY1.gb' target='_blank'>pYPKa_Z_PFY1.gb</a></font><br>"
      ]
     },
     "metadata": {},
     "output_type": "display_data"
    }
   ],
   "source": [
    "pYPKa_Z_PFY1.write(\"pYPKa_Z_PFY1.gb\")"
   ]
  },
  {
   "cell_type": "markdown",
   "metadata": {},
   "source": [
    "pYPKa_E_PFY1 is written to a local file:"
   ]
  },
  {
   "cell_type": "code",
   "execution_count": 28,
   "metadata": {
    "execution": {
     "iopub.execute_input": "2021-05-17T10:26:00.353147Z",
     "iopub.status.busy": "2021-05-17T10:26:00.348631Z",
     "iopub.status.idle": "2021-05-17T10:26:00.358878Z",
     "shell.execute_reply": "2021-05-17T10:26:00.358229Z"
    }
   },
   "outputs": [
    {
     "data": {
      "text/html": [
       "<font face=monospace><a href='pYPKa_E_PFY1.gb' target='_blank'>pYPKa_E_PFY1.gb</a></font><br>"
      ]
     },
     "metadata": {},
     "output_type": "display_data"
    }
   ],
   "source": [
    "pYPKa_E_PFY1.write(\"pYPKa_E_PFY1.gb\")"
   ]
  }
 ],
 "metadata": {
  "language_info": {
   "codemirror_mode": {
    "name": "ipython",
    "version": 3
   },
   "file_extension": ".py",
   "mimetype": "text/x-python",
   "name": "python",
   "nbconvert_exporter": "python",
   "pygments_lexer": "ipython3",
   "version": "3.9.0"
  }
 },
 "nbformat": 4,
 "nbformat_minor": 2
}
