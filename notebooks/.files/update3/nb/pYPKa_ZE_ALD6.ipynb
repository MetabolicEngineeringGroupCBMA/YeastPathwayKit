{
 "cells": [
  {
   "cell_type": "markdown",
   "id": "lovely-nowhere",
   "metadata": {},
   "source": [
    "# pYPKa_Z_ALD6 and pYPKa_E_ALD6\n",
    "\n",
    "This Jupyter notebook describe the construction of E. coli vectors [pYPKa_Z_ALD6](pYPKa_Z_ALD6.gb) and [pYPKa_E_ALD6](pYPKa_E_ALD6.gb).\n",
    "These two vectors share backbone and insert, but in the former, the insert is cloned using the restriction\n",
    "enzyme [ZraI](http://rebase.neb.com/rebase/enz/ZraI.html) while in the latter [EcoRV](http://rebase.neb.com/rebase/enz/EcoRV.html) is used.\n",
    "\n",
    "The insert cloned in ZraI is meant to function as a promoter, while in the EcoRV site it is meant to be  used as a terminator.\n",
    "\n",
    "Links to the sequence of each vector in Genbank format can be found at the bottom of this document.\n",
    "\n",
    "![pYPKa_Z and pYPKa_E](figure_pYPKa_ZE.png \"pYPKa_Z or pYPKa_E plasmid\")\n",
    "\n",
    "The Python package [pydna](https://pypi.python.org/pypi/pydna/) package is imported in the code cell below to provide\n",
    "the cloning functionality. There is a [publication](http://www.biomedcentral.com/1471-2105/16/142) describing pydna as well as\n",
    "[documentation](http://pydna.readthedocs.io/) available online. Pydna is developed on [Github](https://github.com/BjornFJohansson/pydna)."
   ]
  },
  {
   "cell_type": "code",
   "execution_count": 1,
   "id": "banned-director",
   "metadata": {
    "execution": {
     "iopub.execute_input": "2021-05-19T09:53:59.585505Z",
     "iopub.status.busy": "2021-05-19T09:53:59.584864Z",
     "iopub.status.idle": "2021-05-19T09:54:00.111215Z",
     "shell.execute_reply": "2021-05-19T09:54:00.110608Z"
    }
   },
   "outputs": [],
   "source": [
    "from pydna.readers import read\n",
    "from pydna.parsers import parse_primers\n",
    "from pydna.genbank import Genbank\n",
    "from pydna.amplify import pcr\n",
    "from pydna.amplify import Anneal"
   ]
  },
  {
   "cell_type": "markdown",
   "id": "turned-natural",
   "metadata": {},
   "source": [
    "The vector backbone pYPKa is read from a local [file](pYPKa.gb)."
   ]
  },
  {
   "cell_type": "code",
   "execution_count": 2,
   "id": "earned-weight",
   "metadata": {
    "execution": {
     "iopub.execute_input": "2021-05-19T09:54:00.120903Z",
     "iopub.status.busy": "2021-05-19T09:54:00.118712Z",
     "iopub.status.idle": "2021-05-19T09:54:00.139241Z",
     "shell.execute_reply": "2021-05-19T09:54:00.138751Z"
    }
   },
   "outputs": [
    {
     "data": {
      "text/html": [
       "<a href='pYPKa.gb' target='_blank'>pYPKa.gb</a><br>"
      ],
      "text/plain": [
       "File(3128bp TmU_6uVdgKq5aQhTpHux7dVk9J8)(o3128)"
      ]
     },
     "execution_count": 1,
     "metadata": {},
     "output_type": "execute_result"
    }
   ],
   "source": [
    "pYPKa = read(\"pYPKa.gb\")\n",
    "pYPKa"
   ]
  },
  {
   "cell_type": "markdown",
   "id": "preliminary-catholic",
   "metadata": {},
   "source": [
    "Both restriction enzymes are imported from [Biopython](http://biopython.org/wiki/Main_Page)"
   ]
  },
  {
   "cell_type": "code",
   "execution_count": 3,
   "id": "exterior-ladder",
   "metadata": {
    "execution": {
     "iopub.execute_input": "2021-05-19T09:54:00.143438Z",
     "iopub.status.busy": "2021-05-19T09:54:00.142859Z",
     "iopub.status.idle": "2021-05-19T09:54:00.145681Z",
     "shell.execute_reply": "2021-05-19T09:54:00.145067Z"
    }
   },
   "outputs": [],
   "source": [
    "from Bio.Restriction import ZraI, EcoRV"
   ]
  },
  {
   "cell_type": "markdown",
   "id": "acquired-recall",
   "metadata": {},
   "source": [
    "The vector is cut with both enzymes."
   ]
  },
  {
   "cell_type": "code",
   "execution_count": 4,
   "id": "meaningful-filing",
   "metadata": {
    "execution": {
     "iopub.execute_input": "2021-05-19T09:54:00.153562Z",
     "iopub.status.busy": "2021-05-19T09:54:00.152914Z",
     "iopub.status.idle": "2021-05-19T09:54:00.155905Z",
     "shell.execute_reply": "2021-05-19T09:54:00.155219Z"
    }
   },
   "outputs": [],
   "source": [
    "pYPKa_ZraI  = pYPKa.linearize(ZraI)\n",
    "pYPKa_EcoRV = pYPKa.linearize(EcoRV)"
   ]
  },
  {
   "cell_type": "markdown",
   "id": "false-agriculture",
   "metadata": {},
   "source": [
    "The template below comes from a Genbank [record](http://www.ncbi.nlm.nih.gov/nuccore/part_BK0069492).\n",
    "Access to Genbank is needed in order to download the template.\n",
    "If you execute this script, change the email address below to your own.\n",
    "Always tell Genbank who you are, when using their web service."
   ]
  },
  {
   "cell_type": "code",
   "execution_count": 5,
   "id": "integrated-contractor",
   "metadata": {
    "execution": {
     "iopub.execute_input": "2021-05-19T09:54:00.161263Z",
     "iopub.status.busy": "2021-05-19T09:54:00.160461Z",
     "iopub.status.idle": "2021-05-19T09:54:00.163337Z",
     "shell.execute_reply": "2021-05-19T09:54:00.162756Z"
    }
   },
   "outputs": [],
   "source": [
    "gb = Genbank(\"bjornjobb@gmail.com\")"
   ]
  },
  {
   "cell_type": "markdown",
   "id": "skilled-regard",
   "metadata": {},
   "source": [
    "The template is downloaded from Genbank below."
   ]
  },
  {
   "cell_type": "code",
   "execution_count": 6,
   "id": "abroad-drove",
   "metadata": {
    "execution": {
     "iopub.execute_input": "2021-05-19T09:54:00.167570Z",
     "iopub.status.busy": "2021-05-19T09:54:00.167004Z",
     "iopub.status.idle": "2021-05-19T09:54:00.179777Z",
     "shell.execute_reply": "2021-05-19T09:54:00.180236Z"
    }
   },
   "outputs": [
    {
     "data": {
      "text/html": [
       "<a href='https://www.ncbi.nlm.nih.gov/nuccore/BK006949.2 ?from=432300&to=432587&strand=1' target='_blank'>BK006949.2  432300-432587</a>"
      ],
      "text/plain": [
       "Gbank(BK006949.2  432300-432587)(-288)"
      ]
     },
     "execution_count": 1,
     "metadata": {},
     "output_type": "execute_result"
    }
   ],
   "source": [
    "template = gb.nucleotide(\"BK006949.2 REGION: 432300..432587\")\n",
    "template.features = []\n",
    "template"
   ]
  },
  {
   "cell_type": "markdown",
   "id": "bright-lithuania",
   "metadata": {},
   "source": [
    "The template is a 288 bp linear DNA fragment."
   ]
  },
  {
   "cell_type": "code",
   "execution_count": 7,
   "id": "fluid-termination",
   "metadata": {
    "execution": {
     "iopub.execute_input": "2021-05-19T09:54:00.183460Z",
     "iopub.status.busy": "2021-05-19T09:54:00.183025Z",
     "iopub.status.idle": "2021-05-19T09:54:00.186067Z",
     "shell.execute_reply": "2021-05-19T09:54:00.185376Z"
    }
   },
   "outputs": [],
   "source": [
    "template.add_feature(label=\"ALD6p\", type=\"promoter\")"
   ]
  },
  {
   "cell_type": "markdown",
   "id": "altered-experience",
   "metadata": {},
   "source": [
    "The insert has the sequence shown below."
   ]
  },
  {
   "cell_type": "code",
   "execution_count": 8,
   "id": "undefined-cornwall",
   "metadata": {
    "execution": {
     "iopub.execute_input": "2021-05-19T09:54:00.191258Z",
     "iopub.status.busy": "2021-05-19T09:54:00.190417Z",
     "iopub.status.idle": "2021-05-19T09:54:00.193653Z",
     "shell.execute_reply": "2021-05-19T09:54:00.194310Z"
    }
   },
   "outputs": [
    {
     "name": "stdout",
     "output_type": "stream",
     "text": [
      "CACCGACCATGTGGGCAAATTCGTAATAAATTCGGGGTGAGGGGGATTCAAGACAAGCAACCTTGTTAGTCAGCTCAAACAGCGATTTAACGGTTGAGTAACACATCAAAACACCGTTCGAGGTCAAGCCTGGCGTGTTTAACAAGTTCTTGATATCATATATAAATGTAATAAGAAGTTTGGTAATATTCAATTCGAAGTGTTCAGTCTTTTACTTCTCTTGTTTTATAGAAGAAAAAACATCAAGAAACATCTTTAACATACACAAACACATACTATCAGAATACA\n"
     ]
    }
   ],
   "source": [
    "print(str(template.seq))"
   ]
  },
  {
   "cell_type": "markdown",
   "id": "engaged-pocket",
   "metadata": {},
   "source": [
    "The seguid checksum of the template should be\n",
    "\n",
    "```8fLUdCi64-GoLQYJAqCyf4Ijj3Y```"
   ]
  },
  {
   "cell_type": "code",
   "execution_count": 9,
   "id": "numeric-birth",
   "metadata": {
    "execution": {
     "iopub.execute_input": "2021-05-19T09:54:00.198682Z",
     "iopub.status.busy": "2021-05-19T09:54:00.197897Z",
     "iopub.status.idle": "2021-05-19T09:54:00.201359Z",
     "shell.execute_reply": "2021-05-19T09:54:00.200794Z"
    }
   },
   "outputs": [
    {
     "data": {
      "text/plain": [
       "8fLUdCi64-GoLQYJAqCyf4Ijj3Y"
      ]
     },
     "execution_count": 1,
     "metadata": {},
     "output_type": "execute_result"
    }
   ],
   "source": [
    "template.seguid()"
   ]
  },
  {
   "cell_type": "markdown",
   "id": "surprised-bosnia",
   "metadata": {},
   "source": [
    "Two primers are used to amplify the insert:"
   ]
  },
  {
   "cell_type": "code",
   "execution_count": 10,
   "id": "special-village",
   "metadata": {
    "execution": {
     "iopub.execute_input": "2021-05-19T09:54:00.205678Z",
     "iopub.status.busy": "2021-05-19T09:54:00.205139Z",
     "iopub.status.idle": "2021-05-19T09:54:00.207962Z",
     "shell.execute_reply": "2021-05-19T09:54:00.207200Z"
    }
   },
   "outputs": [],
   "source": [
    "fp,rp = parse_primers(\"\"\">1604_fw_tpALD6\n",
    "                         TTAAATCACCGACCATGTGG\n",
    "                         >1603_rv_tpALD6\n",
    "                         TAATTAATGTATTCTGATAGTATGTGTTTGT\"\"\")"
   ]
  },
  {
   "cell_type": "markdown",
   "id": "prescribed-transcription",
   "metadata": {},
   "source": [
    "PCR to create the insert using the primers above."
   ]
  },
  {
   "cell_type": "code",
   "execution_count": 11,
   "id": "representative-visit",
   "metadata": {
    "execution": {
     "iopub.execute_input": "2021-05-19T09:54:00.214317Z",
     "iopub.status.busy": "2021-05-19T09:54:00.213638Z",
     "iopub.status.idle": "2021-05-19T09:54:00.219454Z",
     "shell.execute_reply": "2021-05-19T09:54:00.218745Z"
    }
   },
   "outputs": [],
   "source": [
    "prd = pcr(fp, rp, template)\n",
    "assert str(fp.seq) in prd"
   ]
  },
  {
   "cell_type": "markdown",
   "id": "respective-radio",
   "metadata": {},
   "source": [
    "The PCR product has this length in bp."
   ]
  },
  {
   "cell_type": "code",
   "execution_count": 12,
   "id": "relevant-alcohol",
   "metadata": {
    "execution": {
     "iopub.execute_input": "2021-05-19T09:54:00.224547Z",
     "iopub.status.busy": "2021-05-19T09:54:00.223833Z",
     "iopub.status.idle": "2021-05-19T09:54:00.227657Z",
     "shell.execute_reply": "2021-05-19T09:54:00.227055Z"
    }
   },
   "outputs": [
    {
     "data": {
      "text/plain": [
       "301"
      ]
     },
     "execution_count": 1,
     "metadata": {},
     "output_type": "execute_result"
    }
   ],
   "source": [
    "len(prd)"
   ]
  },
  {
   "cell_type": "markdown",
   "id": "internal-settle",
   "metadata": {},
   "source": [
    "A figure of the primers annealing on template."
   ]
  },
  {
   "cell_type": "code",
   "execution_count": 13,
   "id": "distinguished-engineer",
   "metadata": {
    "execution": {
     "iopub.execute_input": "2021-05-19T09:54:00.232431Z",
     "iopub.status.busy": "2021-05-19T09:54:00.231669Z",
     "iopub.status.idle": "2021-05-19T09:54:00.234911Z",
     "shell.execute_reply": "2021-05-19T09:54:00.235495Z"
    }
   },
   "outputs": [
    {
     "data": {
      "text/plain": [
       "      5CACCGACCATGTGG...ACAAACACATACTATCAGAATACA3\n",
       "                        ||||||||||||||||||||||||\n",
       "                       3TGTTTGTGTATGATAGTCTTATGTAATTAAT5\n",
       "5TTAAATCACCGACCATGTGG3\n",
       "       ||||||||||||||\n",
       "      3GTGGCTGGTACACC...TGTTTGTGTATGATAGTCTTATGT5"
      ]
     },
     "execution_count": 1,
     "metadata": {},
     "output_type": "execute_result"
    }
   ],
   "source": [
    "prd.figure()"
   ]
  },
  {
   "cell_type": "markdown",
   "id": "respective-huntington",
   "metadata": {},
   "source": [
    "A suggested PCR program."
   ]
  },
  {
   "cell_type": "code",
   "execution_count": 14,
   "id": "coral-final",
   "metadata": {
    "execution": {
     "iopub.execute_input": "2021-05-19T09:54:00.240604Z",
     "iopub.status.busy": "2021-05-19T09:54:00.239766Z",
     "iopub.status.idle": "2021-05-19T09:54:00.243492Z",
     "shell.execute_reply": "2021-05-19T09:54:00.242893Z"
    }
   },
   "outputs": [
    {
     "data": {
      "text/plain": [
       "|95°C|95°C               |    |tmf:56.4\n",
       "|____|_____          72°C|72°C|tmr:57.0\n",
       "|5min|30s  \\ 52.3°C _____|____|60s/kb\n",
       "|    |      \\______/ 0:18|5min|GC 34%\n",
       "|    |       30s         |    |301bp"
      ]
     },
     "execution_count": 1,
     "metadata": {},
     "output_type": "execute_result"
    }
   ],
   "source": [
    "prd.program()"
   ]
  },
  {
   "cell_type": "markdown",
   "id": "touched-canyon",
   "metadata": {},
   "source": [
    "The final vectors are:"
   ]
  },
  {
   "cell_type": "code",
   "execution_count": 15,
   "id": "dynamic-concept",
   "metadata": {
    "execution": {
     "iopub.execute_input": "2021-05-19T09:54:00.286829Z",
     "iopub.status.busy": "2021-05-19T09:54:00.251254Z",
     "iopub.status.idle": "2021-05-19T09:54:00.672571Z",
     "shell.execute_reply": "2021-05-19T09:54:00.671975Z"
    }
   },
   "outputs": [],
   "source": [
    "pYPKa_Z_ALD6 = (pYPKa_ZraI  + prd).looped().synced(pYPKa)\n",
    "pYPKa_E_ALD6 = (pYPKa_EcoRV + prd).looped().synced(pYPKa)"
   ]
  },
  {
   "cell_type": "markdown",
   "id": "indonesian-yeast",
   "metadata": {},
   "source": [
    "The final vectors with reverse inserts are created below. These vectors theoretically make up\n",
    "fifty percent of the clones. The PCR strategy outlined below can be used to identify clones with the insert\n",
    "in the correct orientation."
   ]
  },
  {
   "cell_type": "code",
   "execution_count": 16,
   "id": "white-protein",
   "metadata": {
    "execution": {
     "iopub.execute_input": "2021-05-19T09:54:00.710431Z",
     "iopub.status.busy": "2021-05-19T09:54:00.695635Z",
     "iopub.status.idle": "2021-05-19T09:54:01.099353Z",
     "shell.execute_reply": "2021-05-19T09:54:01.098762Z"
    }
   },
   "outputs": [],
   "source": [
    "pYPKa_Z_ALD6b = (pYPKa_ZraI  + prd.rc()).looped().synced(pYPKa)\n",
    "pYPKa_E_ALD6b = (pYPKa_EcoRV + prd.rc()).looped().synced(pYPKa)"
   ]
  },
  {
   "cell_type": "markdown",
   "id": "satisfied-glory",
   "metadata": {},
   "source": [
    "A combination of yeast pathway kit standard primers and the primers above are\n",
    "used for the strategy to identify correct clones.\n",
    "Standard primers used in the yeast are listed [here](standard_primers.txt)."
   ]
  },
  {
   "cell_type": "code",
   "execution_count": 17,
   "id": "straight-ontario",
   "metadata": {
    "execution": {
     "iopub.execute_input": "2021-05-19T09:54:01.104766Z",
     "iopub.status.busy": "2021-05-19T09:54:01.104176Z",
     "iopub.status.idle": "2021-05-19T09:54:01.106933Z",
     "shell.execute_reply": "2021-05-19T09:54:01.106325Z"
    }
   },
   "outputs": [],
   "source": [
    "p = { x.id: x for x in parse_primers(\"\"\">577\n",
    "                                         gttctgatcctcgagcatcttaagaattc\n",
    "                                         >578\n",
    "                                         gttcttgtctcattgccacattcataagt\n",
    "                                         >468\n",
    "                                         gtcgaggaacgccaggttgcccact\n",
    "                                         >467\n",
    "                                         ATTTAAatcctgatgcgtttgtctgcacaga\n",
    "                                         >567\n",
    "                                         GTcggctgcaggtcactagtgag\n",
    "                                         >568\n",
    "                                         GTGCcatctgtgcagacaaacg\n",
    "                                         >775\n",
    "                                         gcggccgctgacTTAAAT\n",
    "                                         >778\n",
    "                                         ggtaaatccggatTAATTAA\n",
    "                                         >342\n",
    "                                         CCTTTTTACGGTTCCTGGCCT\"\"\") }"
   ]
  },
  {
   "cell_type": "markdown",
   "id": "rational-projector",
   "metadata": {},
   "source": [
    "## Diagnostic PCR confirmation\n",
    "\n",
    "The correct structure of pYPKa_Z_ALD6 is confirmed by PCR using standard primers\n",
    "577 and 342 that are vector specific together with the ALD6fw primer specific for the insert\n",
    "in a multiplex PCR reaction with\n",
    "all three primers present.\n",
    "\n",
    "Two PCR products are expected if the insert was cloned, the sizes depend\n",
    "on the orientation. If the vector is empty or contains another insert, only one\n",
    "product is formed.\n",
    "\n",
    "#### Expected PCR products sizes from pYPKa_Z_ALD6:\n",
    "\n",
    "pYPKa_Z_ALD6 with insert in correct orientation."
   ]
  },
  {
   "cell_type": "code",
   "execution_count": 18,
   "id": "guided-western",
   "metadata": {
    "execution": {
     "iopub.execute_input": "2021-05-19T09:54:01.120084Z",
     "iopub.status.busy": "2021-05-19T09:54:01.119426Z",
     "iopub.status.idle": "2021-05-19T09:54:01.122411Z",
     "shell.execute_reply": "2021-05-19T09:54:01.121924Z"
    }
   },
   "outputs": [
    {
     "data": {
      "text/plain": [
       "[Amplicon(1235), Amplicon(1067)]"
      ]
     },
     "execution_count": 1,
     "metadata": {},
     "output_type": "execute_result"
    }
   ],
   "source": [
    "Anneal( (p['577'], p['342'], fp), pYPKa_Z_ALD6).products"
   ]
  },
  {
   "cell_type": "markdown",
   "id": "threatened-prefix",
   "metadata": {},
   "source": [
    "pYPKa_Z_ALD6 with insert in reverse orientation."
   ]
  },
  {
   "cell_type": "code",
   "execution_count": 19,
   "id": "latest-amsterdam",
   "metadata": {
    "execution": {
     "iopub.execute_input": "2021-05-19T09:54:01.132935Z",
     "iopub.status.busy": "2021-05-19T09:54:01.132325Z",
     "iopub.status.idle": "2021-05-19T09:54:01.135867Z",
     "shell.execute_reply": "2021-05-19T09:54:01.135243Z"
    }
   },
   "outputs": [
    {
     "data": {
      "text/plain": [
       "[Amplicon(1235), Amplicon(469)]"
      ]
     },
     "execution_count": 1,
     "metadata": {},
     "output_type": "execute_result"
    }
   ],
   "source": [
    "Anneal( (p['577'], p['342'], fp), pYPKa_Z_ALD6b).products"
   ]
  },
  {
   "cell_type": "markdown",
   "id": "smoking-settle",
   "metadata": {},
   "source": [
    "Empty pYPKa clone."
   ]
  },
  {
   "cell_type": "code",
   "execution_count": 20,
   "id": "opened-passport",
   "metadata": {
    "execution": {
     "iopub.execute_input": "2021-05-19T09:54:01.142617Z",
     "iopub.status.busy": "2021-05-19T09:54:01.142131Z",
     "iopub.status.idle": "2021-05-19T09:54:01.144699Z",
     "shell.execute_reply": "2021-05-19T09:54:01.145301Z"
    }
   },
   "outputs": [
    {
     "data": {
      "text/plain": [
       "[Amplicon(934)]"
      ]
     },
     "execution_count": 1,
     "metadata": {},
     "output_type": "execute_result"
    }
   ],
   "source": [
    "Anneal( (p['577'], p['342'], fp), pYPKa).products"
   ]
  },
  {
   "cell_type": "markdown",
   "id": "biblical-retreat",
   "metadata": {},
   "source": [
    "#### Expected PCR products sizes pYPKa_E_ALD6:\n",
    "\n",
    "pYPKa_E_ALD6 with insert in correct orientation."
   ]
  },
  {
   "cell_type": "code",
   "execution_count": 21,
   "id": "underlying-retailer",
   "metadata": {
    "execution": {
     "iopub.execute_input": "2021-05-19T09:54:01.157833Z",
     "iopub.status.busy": "2021-05-19T09:54:01.157343Z",
     "iopub.status.idle": "2021-05-19T09:54:01.159755Z",
     "shell.execute_reply": "2021-05-19T09:54:01.160215Z"
    }
   },
   "outputs": [
    {
     "data": {
      "text/plain": [
       "[Amplicon(1235), Amplicon(986)]"
      ]
     },
     "execution_count": 1,
     "metadata": {},
     "output_type": "execute_result"
    }
   ],
   "source": [
    "Anneal( (p['577'], p['342'], fp), pYPKa_E_ALD6).products"
   ]
  },
  {
   "cell_type": "markdown",
   "id": "finished-latvia",
   "metadata": {},
   "source": [
    "pYPKa_E_ALD6 with insert in reverse orientation."
   ]
  },
  {
   "cell_type": "code",
   "execution_count": 22,
   "id": "checked-selling",
   "metadata": {
    "execution": {
     "iopub.execute_input": "2021-05-19T09:54:01.172157Z",
     "iopub.status.busy": "2021-05-19T09:54:01.171142Z",
     "iopub.status.idle": "2021-05-19T09:54:01.174072Z",
     "shell.execute_reply": "2021-05-19T09:54:01.174514Z"
    }
   },
   "outputs": [
    {
     "data": {
      "text/plain": [
       "[Amplicon(1235), Amplicon(550)]"
      ]
     },
     "execution_count": 1,
     "metadata": {},
     "output_type": "execute_result"
    }
   ],
   "source": [
    "Anneal( (p['577'], p['342'], fp), pYPKa_E_ALD6b).products\n"
   ]
  },
  {
   "cell_type": "markdown",
   "id": "overhead-laptop",
   "metadata": {},
   "source": [
    "Calculate cseguid checksums for the resulting plasmids for future reference.\n",
    "This checksum that uniquely describes a circular double stranded\n",
    "sequence. See this [blog post](https://ochsavidare.blogspot.com/2016/02/checksum-for-circular-biological.html) for more info.\n",
    "\n",
    "pYPKa_Z_ALD6.cseguid() should be RrM-upQyULZI5cMHJXfiqnOc780"
   ]
  },
  {
   "cell_type": "code",
   "execution_count": 23,
   "id": "outside-safety",
   "metadata": {
    "execution": {
     "iopub.execute_input": "2021-05-19T09:54:01.182812Z",
     "iopub.status.busy": "2021-05-19T09:54:01.182351Z",
     "iopub.status.idle": "2021-05-19T09:54:01.185083Z",
     "shell.execute_reply": "2021-05-19T09:54:01.184619Z"
    }
   },
   "outputs": [
    {
     "name": "stdout",
     "output_type": "stream",
     "text": [
      "RrM-upQyULZI5cMHJXfiqnOc780\n"
     ]
    }
   ],
   "source": [
    "print(pYPKa_Z_ALD6.cseguid())\n",
    "assert pYPKa_Z_ALD6.cseguid() == \"RrM-upQyULZI5cMHJXfiqnOc780\""
   ]
  },
  {
   "cell_type": "markdown",
   "id": "progressive-gospel",
   "metadata": {},
   "source": [
    "pYPKa_E_ALD6.cseguid() should be lgwRezeVG5Yj5LgjRBCmiFF3TEo"
   ]
  },
  {
   "cell_type": "code",
   "execution_count": 24,
   "id": "innocent-composer",
   "metadata": {
    "execution": {
     "iopub.execute_input": "2021-05-19T09:54:01.195448Z",
     "iopub.status.busy": "2021-05-19T09:54:01.194745Z",
     "iopub.status.idle": "2021-05-19T09:54:01.197612Z",
     "shell.execute_reply": "2021-05-19T09:54:01.197143Z"
    }
   },
   "outputs": [
    {
     "name": "stdout",
     "output_type": "stream",
     "text": [
      "lgwRezeVG5Yj5LgjRBCmiFF3TEo\n"
     ]
    }
   ],
   "source": [
    "print(pYPKa_E_ALD6.cseguid())\n",
    "assert pYPKa_E_ALD6.cseguid() == \"lgwRezeVG5Yj5LgjRBCmiFF3TEo\""
   ]
  },
  {
   "cell_type": "markdown",
   "id": "universal-clear",
   "metadata": {},
   "source": [
    "The sequences are named based on the name of the cloned insert."
   ]
  },
  {
   "cell_type": "code",
   "execution_count": 25,
   "id": "technical-battlefield",
   "metadata": {
    "execution": {
     "iopub.execute_input": "2021-05-19T09:54:01.200868Z",
     "iopub.status.busy": "2021-05-19T09:54:01.200351Z",
     "iopub.status.idle": "2021-05-19T09:54:01.202749Z",
     "shell.execute_reply": "2021-05-19T09:54:01.202272Z"
    }
   },
   "outputs": [],
   "source": [
    "pYPKa_Z_ALD6.locus = \"pYPKa_Z_ALD6\"[:16]\n",
    "pYPKa_E_ALD6.locus = \"pYPKa_Z_ALD6\"[:16]"
   ]
  },
  {
   "cell_type": "markdown",
   "id": "judicial-collapse",
   "metadata": {},
   "source": [
    "Stamp sequence with cseguid checksum. This can be used to verify the\n",
    "integrity of the sequence file."
   ]
  },
  {
   "cell_type": "code",
   "execution_count": 26,
   "id": "criminal-municipality",
   "metadata": {
    "execution": {
     "iopub.execute_input": "2021-05-19T09:54:01.216167Z",
     "iopub.status.busy": "2021-05-19T09:54:01.215423Z",
     "iopub.status.idle": "2021-05-19T09:54:01.218650Z",
     "shell.execute_reply": "2021-05-19T09:54:01.218018Z"
    }
   },
   "outputs": [
    {
     "data": {
      "text/plain": [
       "cSEGUID_lgwRezeVG5Yj5LgjRBCmiFF3TEo"
      ]
     },
     "execution_count": 1,
     "metadata": {},
     "output_type": "execute_result"
    }
   ],
   "source": [
    "pYPKa_Z_ALD6.stamp()\n",
    "pYPKa_E_ALD6.stamp()"
   ]
  },
  {
   "cell_type": "markdown",
   "id": "numerous-orchestra",
   "metadata": {},
   "source": [
    "pYPKa_Z_ALD6 is written to a local file:"
   ]
  },
  {
   "cell_type": "code",
   "execution_count": 27,
   "id": "postal-joseph",
   "metadata": {
    "execution": {
     "iopub.execute_input": "2021-05-19T09:54:01.222010Z",
     "iopub.status.busy": "2021-05-19T09:54:01.221256Z",
     "iopub.status.idle": "2021-05-19T09:54:01.233009Z",
     "shell.execute_reply": "2021-05-19T09:54:01.232115Z"
    }
   },
   "outputs": [
    {
     "data": {
      "text/html": [
       "<font face=monospace><a href='pYPKa_Z_ALD6.gb' target='_blank'>pYPKa_Z_ALD6.gb</a></font><br>"
      ]
     },
     "metadata": {},
     "output_type": "display_data"
    }
   ],
   "source": [
    "pYPKa_Z_ALD6.write(\"pYPKa_Z_ALD6.gb\")"
   ]
  },
  {
   "cell_type": "markdown",
   "id": "fleet-beast",
   "metadata": {},
   "source": [
    "pYPKa_E_ALD6 is written to a local file:"
   ]
  },
  {
   "cell_type": "code",
   "execution_count": 28,
   "id": "static-stomach",
   "metadata": {
    "execution": {
     "iopub.execute_input": "2021-05-19T09:54:01.241803Z",
     "iopub.status.busy": "2021-05-19T09:54:01.240267Z",
     "iopub.status.idle": "2021-05-19T09:54:01.246667Z",
     "shell.execute_reply": "2021-05-19T09:54:01.246028Z"
    }
   },
   "outputs": [
    {
     "data": {
      "text/html": [
       "<font face=monospace><a href='pYPKa_E_ALD6.gb' target='_blank'>pYPKa_E_ALD6.gb</a></font><br>"
      ]
     },
     "metadata": {},
     "output_type": "display_data"
    }
   ],
   "source": [
    "pYPKa_E_ALD6.write(\"pYPKa_E_ALD6.gb\")"
   ]
  }
 ],
 "metadata": {
  "language_info": {
   "codemirror_mode": {
    "name": "ipython",
    "version": 3
   },
   "file_extension": ".py",
   "mimetype": "text/x-python",
   "name": "python",
   "nbconvert_exporter": "python",
   "pygments_lexer": "ipython3",
   "version": "3.9.0"
  }
 },
 "nbformat": 4,
 "nbformat_minor": 5
}
