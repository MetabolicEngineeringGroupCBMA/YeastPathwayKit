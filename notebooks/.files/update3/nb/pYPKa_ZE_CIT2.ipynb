{
 "cells": [
  {
   "cell_type": "markdown",
   "id": "personal-assistant",
   "metadata": {},
   "source": [
    "# pYPKa_Z_CIT2 and pYPKa_E_CIT2\n",
    "\n",
    "This Jupyter notebook describe the construction of E. coli vectors [pYPKa_Z_CIT2](pYPKa_Z_CIT2.gb) and [pYPKa_E_CIT2](pYPKa_E_CIT2.gb).\n",
    "These two vectors share backbone and insert, but in the former, the insert is cloned using the restriction\n",
    "enzyme [ZraI](http://rebase.neb.com/rebase/enz/ZraI.html) while in the latter [EcoRV](http://rebase.neb.com/rebase/enz/EcoRV.html) is used.\n",
    "\n",
    "The insert cloned in ZraI is meant to function as a promoter, while in the EcoRV site it is meant to be  used as a terminator.\n",
    "\n",
    "Links to the sequence of each vector in Genbank format can be found at the bottom of this document.\n",
    "\n",
    "![pYPKa_Z and pYPKa_E](figure_pYPKa_ZE.png \"pYPKa_Z or pYPKa_E plasmid\")\n",
    "\n",
    "The Python package [pydna](https://pypi.python.org/pypi/pydna/) package is imported in the code cell below to provide\n",
    "the cloning functionality. There is a [publication](http://www.biomedcentral.com/1471-2105/16/142) describing pydna as well as\n",
    "[documentation](http://pydna.readthedocs.io/) available online. Pydna is developed on [Github](https://github.com/BjornFJohansson/pydna)."
   ]
  },
  {
   "cell_type": "code",
   "execution_count": 1,
   "id": "ignored-declaration",
   "metadata": {
    "execution": {
     "iopub.execute_input": "2021-05-19T09:54:02.717642Z",
     "iopub.status.busy": "2021-05-19T09:54:02.716707Z",
     "iopub.status.idle": "2021-05-19T09:54:03.215422Z",
     "shell.execute_reply": "2021-05-19T09:54:03.214772Z"
    }
   },
   "outputs": [],
   "source": [
    "from pydna.readers import read\n",
    "from pydna.parsers import parse_primers\n",
    "from pydna.genbank import Genbank\n",
    "from pydna.amplify import pcr\n",
    "from pydna.amplify import Anneal"
   ]
  },
  {
   "cell_type": "markdown",
   "id": "frank-rolling",
   "metadata": {},
   "source": [
    "The vector backbone pYPKa is read from a local [file](pYPKa.gb)."
   ]
  },
  {
   "cell_type": "code",
   "execution_count": 2,
   "id": "bizarre-multiple",
   "metadata": {
    "execution": {
     "iopub.execute_input": "2021-05-19T09:54:03.224421Z",
     "iopub.status.busy": "2021-05-19T09:54:03.223776Z",
     "iopub.status.idle": "2021-05-19T09:54:03.239376Z",
     "shell.execute_reply": "2021-05-19T09:54:03.238938Z"
    }
   },
   "outputs": [
    {
     "data": {
      "text/html": [
       "<a href='pYPKa.gb' target='_blank'>pYPKa.gb</a><br>"
      ],
      "text/plain": [
       "File(3128bp TmU_6uVdgKq5aQhTpHux7dVk9J8)(o3128)"
      ]
     },
     "execution_count": 1,
     "metadata": {},
     "output_type": "execute_result"
    }
   ],
   "source": [
    "pYPKa = read(\"pYPKa.gb\")\n",
    "pYPKa"
   ]
  },
  {
   "cell_type": "markdown",
   "id": "useful-moment",
   "metadata": {},
   "source": [
    "Both restriction enzymes are imported from [Biopython](http://biopython.org/wiki/Main_Page)"
   ]
  },
  {
   "cell_type": "code",
   "execution_count": 3,
   "id": "nuclear-auditor",
   "metadata": {
    "execution": {
     "iopub.execute_input": "2021-05-19T09:54:03.243407Z",
     "iopub.status.busy": "2021-05-19T09:54:03.242863Z",
     "iopub.status.idle": "2021-05-19T09:54:03.245031Z",
     "shell.execute_reply": "2021-05-19T09:54:03.245464Z"
    }
   },
   "outputs": [],
   "source": [
    "from Bio.Restriction import ZraI, EcoRV"
   ]
  },
  {
   "cell_type": "markdown",
   "id": "chicken-peeing",
   "metadata": {},
   "source": [
    "The vector is cut with both enzymes."
   ]
  },
  {
   "cell_type": "code",
   "execution_count": 4,
   "id": "suitable-bones",
   "metadata": {
    "execution": {
     "iopub.execute_input": "2021-05-19T09:54:03.253219Z",
     "iopub.status.busy": "2021-05-19T09:54:03.252103Z",
     "iopub.status.idle": "2021-05-19T09:54:03.254854Z",
     "shell.execute_reply": "2021-05-19T09:54:03.254268Z"
    }
   },
   "outputs": [],
   "source": [
    "pYPKa_ZraI  = pYPKa.linearize(ZraI)\n",
    "pYPKa_EcoRV = pYPKa.linearize(EcoRV)"
   ]
  },
  {
   "cell_type": "markdown",
   "id": "corrected-durham",
   "metadata": {},
   "source": [
    "The template below comes from a Genbank [record](http://www.ncbi.nlm.nih.gov/nuccore/part_BK0069372).\n",
    "Access to Genbank is needed in order to download the template.\n",
    "If you execute this script, change the email address below to your own.\n",
    "Always tell Genbank who you are, when using their web service."
   ]
  },
  {
   "cell_type": "code",
   "execution_count": 5,
   "id": "classified-partition",
   "metadata": {
    "execution": {
     "iopub.execute_input": "2021-05-19T09:54:03.260100Z",
     "iopub.status.busy": "2021-05-19T09:54:03.259226Z",
     "iopub.status.idle": "2021-05-19T09:54:03.262119Z",
     "shell.execute_reply": "2021-05-19T09:54:03.261526Z"
    }
   },
   "outputs": [],
   "source": [
    "gb = Genbank(\"bjornjobb@gmail.com\")"
   ]
  },
  {
   "cell_type": "markdown",
   "id": "inappropriate-domain",
   "metadata": {},
   "source": [
    "The template is downloaded from Genbank below."
   ]
  },
  {
   "cell_type": "code",
   "execution_count": 6,
   "id": "imperial-sheep",
   "metadata": {
    "execution": {
     "iopub.execute_input": "2021-05-19T09:54:03.268069Z",
     "iopub.status.busy": "2021-05-19T09:54:03.266954Z",
     "iopub.status.idle": "2021-05-19T09:54:03.278398Z",
     "shell.execute_reply": "2021-05-19T09:54:03.277922Z"
    }
   },
   "outputs": [
    {
     "data": {
      "text/html": [
       "<a href='https://www.ncbi.nlm.nih.gov/nuccore/BK006937.2 ?from=122329&to=122529&strand=2' target='_blank'>BK006937.2  122329-122529</a>"
      ],
      "text/plain": [
       "Gbank(BK006937.2  122329-122529)(-201)"
      ]
     },
     "execution_count": 1,
     "metadata": {},
     "output_type": "execute_result"
    }
   ],
   "source": [
    "template = gb.nucleotide(\"BK006937.2 REGION: complement(122329..122529)\")\n",
    "template.features = []\n",
    "template"
   ]
  },
  {
   "cell_type": "markdown",
   "id": "absent-magnet",
   "metadata": {},
   "source": [
    "The template is a 201 bp linear DNA fragment."
   ]
  },
  {
   "cell_type": "code",
   "execution_count": 7,
   "id": "coated-retirement",
   "metadata": {
    "execution": {
     "iopub.execute_input": "2021-05-19T09:54:03.281752Z",
     "iopub.status.busy": "2021-05-19T09:54:03.281304Z",
     "iopub.status.idle": "2021-05-19T09:54:03.283619Z",
     "shell.execute_reply": "2021-05-19T09:54:03.283114Z"
    }
   },
   "outputs": [],
   "source": [
    "template.add_feature(label=\"CIT2p\", type=\"promoter\")"
   ]
  },
  {
   "cell_type": "markdown",
   "id": "binding-mention",
   "metadata": {},
   "source": [
    "The insert has the sequence shown below."
   ]
  },
  {
   "cell_type": "code",
   "execution_count": 8,
   "id": "integrated-knight",
   "metadata": {
    "execution": {
     "iopub.execute_input": "2021-05-19T09:54:03.288870Z",
     "iopub.status.busy": "2021-05-19T09:54:03.288086Z",
     "iopub.status.idle": "2021-05-19T09:54:03.291636Z",
     "shell.execute_reply": "2021-05-19T09:54:03.292351Z"
    }
   },
   "outputs": [
    {
     "name": "stdout",
     "output_type": "stream",
     "text": [
      "AATTGGTGACGTTAATCTAAAGATAGTCATGCTCTCAAAAGGGCCCATTATTCTCGACGTTGAGCGTATATAAGACTATTAAAACTTGGTTCTTTAGATATGGTGTTCGTTCCTCATTATTAAGTTTCAGGGAACAATATCAACACATATCATAACAGGTTCTCAAAACTTTTTGTTTTAATAATACTAGTAACAAGAAAA\n"
     ]
    }
   ],
   "source": [
    "print(str(template.seq))"
   ]
  },
  {
   "cell_type": "markdown",
   "id": "employed-details",
   "metadata": {},
   "source": [
    "The seguid checksum of the template should be\n",
    "\n",
    "```eVFbHHfp_IgEaUuZcVQ6DWTVkRA```"
   ]
  },
  {
   "cell_type": "code",
   "execution_count": 9,
   "id": "imposed-compiler",
   "metadata": {
    "execution": {
     "iopub.execute_input": "2021-05-19T09:54:03.297571Z",
     "iopub.status.busy": "2021-05-19T09:54:03.296762Z",
     "iopub.status.idle": "2021-05-19T09:54:03.300439Z",
     "shell.execute_reply": "2021-05-19T09:54:03.301070Z"
    }
   },
   "outputs": [
    {
     "data": {
      "text/plain": [
       "eVFbHHfp_IgEaUuZcVQ6DWTVkRA"
      ]
     },
     "execution_count": 1,
     "metadata": {},
     "output_type": "execute_result"
    }
   ],
   "source": [
    "template.seguid()"
   ]
  },
  {
   "cell_type": "markdown",
   "id": "brilliant-oliver",
   "metadata": {},
   "source": [
    "Two primers are used to amplify the insert:"
   ]
  },
  {
   "cell_type": "code",
   "execution_count": 10,
   "id": "generic-duplicate",
   "metadata": {
    "execution": {
     "iopub.execute_input": "2021-05-19T09:54:03.305987Z",
     "iopub.status.busy": "2021-05-19T09:54:03.305362Z",
     "iopub.status.idle": "2021-05-19T09:54:03.308537Z",
     "shell.execute_reply": "2021-05-19T09:54:03.307858Z"
    }
   },
   "outputs": [],
   "source": [
    "fp,rp = parse_primers(\"\"\">1600_fw_tpCIT2\n",
    "                         TTAAATAATTGGTGACGTTAATCTAAA\n",
    "                         >1599_rv_tpCIT2\n",
    "                         TAATTAATTTTCTTGTTACTAGTATTATTAAAAC\"\"\")"
   ]
  },
  {
   "cell_type": "markdown",
   "id": "retained-investing",
   "metadata": {},
   "source": [
    "PCR to create the insert using the primers above."
   ]
  },
  {
   "cell_type": "code",
   "execution_count": 11,
   "id": "independent-theorem",
   "metadata": {
    "execution": {
     "iopub.execute_input": "2021-05-19T09:54:03.314807Z",
     "iopub.status.busy": "2021-05-19T09:54:03.314014Z",
     "iopub.status.idle": "2021-05-19T09:54:03.318668Z",
     "shell.execute_reply": "2021-05-19T09:54:03.319017Z"
    }
   },
   "outputs": [],
   "source": [
    "prd = pcr(fp, rp, template)\n",
    "assert str(fp.seq) in prd"
   ]
  },
  {
   "cell_type": "markdown",
   "id": "affecting-receiver",
   "metadata": {},
   "source": [
    "The PCR product has this length in bp."
   ]
  },
  {
   "cell_type": "code",
   "execution_count": 12,
   "id": "meaningful-slovak",
   "metadata": {
    "execution": {
     "iopub.execute_input": "2021-05-19T09:54:03.322305Z",
     "iopub.status.busy": "2021-05-19T09:54:03.321828Z",
     "iopub.status.idle": "2021-05-19T09:54:03.324650Z",
     "shell.execute_reply": "2021-05-19T09:54:03.325187Z"
    }
   },
   "outputs": [
    {
     "data": {
      "text/plain": [
       "214"
      ]
     },
     "execution_count": 1,
     "metadata": {},
     "output_type": "execute_result"
    }
   ],
   "source": [
    "len(prd)"
   ]
  },
  {
   "cell_type": "markdown",
   "id": "revolutionary-delay",
   "metadata": {},
   "source": [
    "A figure of the primers annealing on template."
   ]
  },
  {
   "cell_type": "code",
   "execution_count": 13,
   "id": "surrounded-illinois",
   "metadata": {
    "execution": {
     "iopub.execute_input": "2021-05-19T09:54:03.330442Z",
     "iopub.status.busy": "2021-05-19T09:54:03.329595Z",
     "iopub.status.idle": "2021-05-19T09:54:03.333264Z",
     "shell.execute_reply": "2021-05-19T09:54:03.333894Z"
    }
   },
   "outputs": [
    {
     "data": {
      "text/plain": [
       "      5AATTGGTGACGTTAATCTAAA...GTTTTAATAATACTAGTAACAAGAAAA3\n",
       "                               |||||||||||||||||||||||||||\n",
       "                              3CAAAATTATTATGATCATTGTTCTTTTAATTAAT5\n",
       "5TTAAATAATTGGTGACGTTAATCTAAA3\n",
       "       |||||||||||||||||||||\n",
       "      3TTAACCACTGCAATTAGATTT...CAAAATTATTATGATCATTGTTCTTTT5"
      ]
     },
     "execution_count": 1,
     "metadata": {},
     "output_type": "execute_result"
    }
   ],
   "source": [
    "prd.figure()"
   ]
  },
  {
   "cell_type": "markdown",
   "id": "patent-sound",
   "metadata": {},
   "source": [
    "A suggested PCR program."
   ]
  },
  {
   "cell_type": "code",
   "execution_count": 14,
   "id": "radical-commissioner",
   "metadata": {
    "execution": {
     "iopub.execute_input": "2021-05-19T09:54:03.339443Z",
     "iopub.status.busy": "2021-05-19T09:54:03.338503Z",
     "iopub.status.idle": "2021-05-19T09:54:03.342891Z",
     "shell.execute_reply": "2021-05-19T09:54:03.342176Z"
    }
   },
   "outputs": [
    {
     "data": {
      "text/plain": [
       "|95°C|95°C               |    |tmf:54.6\n",
       "|____|_____          72°C|72°C|tmr:54.2\n",
       "|5min|30s  \\ 49.7°C _____|____|60s/kb\n",
       "|    |      \\______/ 0:12|5min|GC 29%\n",
       "|    |       30s         |    |214bp"
      ]
     },
     "execution_count": 1,
     "metadata": {},
     "output_type": "execute_result"
    }
   ],
   "source": [
    "prd.program()"
   ]
  },
  {
   "cell_type": "markdown",
   "id": "excess-novelty",
   "metadata": {},
   "source": [
    "The final vectors are:"
   ]
  },
  {
   "cell_type": "code",
   "execution_count": 15,
   "id": "alien-stone",
   "metadata": {
    "execution": {
     "iopub.execute_input": "2021-05-19T09:54:03.401739Z",
     "iopub.status.busy": "2021-05-19T09:54:03.381468Z",
     "iopub.status.idle": "2021-05-19T09:54:03.771727Z",
     "shell.execute_reply": "2021-05-19T09:54:03.770930Z"
    }
   },
   "outputs": [],
   "source": [
    "pYPKa_Z_CIT2 = (pYPKa_ZraI  + prd).looped().synced(pYPKa)\n",
    "pYPKa_E_CIT2 = (pYPKa_EcoRV + prd).looped().synced(pYPKa)"
   ]
  },
  {
   "cell_type": "markdown",
   "id": "clean-order",
   "metadata": {},
   "source": [
    "The final vectors with reverse inserts are created below. These vectors theoretically make up\n",
    "fifty percent of the clones. The PCR strategy outlined below can be used to identify clones with the insert\n",
    "in the correct orientation."
   ]
  },
  {
   "cell_type": "code",
   "execution_count": 16,
   "id": "cross-composer",
   "metadata": {
    "execution": {
     "iopub.execute_input": "2021-05-19T09:54:03.789248Z",
     "iopub.status.busy": "2021-05-19T09:54:03.778989Z",
     "iopub.status.idle": "2021-05-19T09:54:04.201716Z",
     "shell.execute_reply": "2021-05-19T09:54:04.201113Z"
    }
   },
   "outputs": [],
   "source": [
    "pYPKa_Z_CIT2b = (pYPKa_ZraI  + prd.rc()).looped().synced(pYPKa)\n",
    "pYPKa_E_CIT2b = (pYPKa_EcoRV + prd.rc()).looped().synced(pYPKa)"
   ]
  },
  {
   "cell_type": "markdown",
   "id": "liable-ladder",
   "metadata": {},
   "source": [
    "A combination of yeast pathway kit standard primers and the primers above are\n",
    "used for the strategy to identify correct clones.\n",
    "Standard primers used in the yeast are listed [here](standard_primers.txt)."
   ]
  },
  {
   "cell_type": "code",
   "execution_count": 17,
   "id": "headed-territory",
   "metadata": {
    "execution": {
     "iopub.execute_input": "2021-05-19T09:54:04.207877Z",
     "iopub.status.busy": "2021-05-19T09:54:04.206990Z",
     "iopub.status.idle": "2021-05-19T09:54:04.210274Z",
     "shell.execute_reply": "2021-05-19T09:54:04.209622Z"
    }
   },
   "outputs": [],
   "source": [
    "p = { x.id: x for x in parse_primers(\"\"\">577\n",
    "                                         gttctgatcctcgagcatcttaagaattc\n",
    "                                         >578\n",
    "                                         gttcttgtctcattgccacattcataagt\n",
    "                                         >468\n",
    "                                         gtcgaggaacgccaggttgcccact\n",
    "                                         >467\n",
    "                                         ATTTAAatcctgatgcgtttgtctgcacaga\n",
    "                                         >567\n",
    "                                         GTcggctgcaggtcactagtgag\n",
    "                                         >568\n",
    "                                         GTGCcatctgtgcagacaaacg\n",
    "                                         >775\n",
    "                                         gcggccgctgacTTAAAT\n",
    "                                         >778\n",
    "                                         ggtaaatccggatTAATTAA\n",
    "                                         >342\n",
    "                                         CCTTTTTACGGTTCCTGGCCT\"\"\") }"
   ]
  },
  {
   "cell_type": "markdown",
   "id": "celtic-sandwich",
   "metadata": {},
   "source": [
    "## Diagnostic PCR confirmation\n",
    "\n",
    "The correct structure of pYPKa_Z_CIT2 is confirmed by PCR using standard primers\n",
    "577 and 342 that are vector specific together with the CIT2fw primer specific for the insert\n",
    "in a multiplex PCR reaction with\n",
    "all three primers present.\n",
    "\n",
    "Two PCR products are expected if the insert was cloned, the sizes depend\n",
    "on the orientation. If the vector is empty or contains another insert, only one\n",
    "product is formed.\n",
    "\n",
    "#### Expected PCR products sizes from pYPKa_Z_CIT2:\n",
    "\n",
    "pYPKa_Z_CIT2 with insert in correct orientation."
   ]
  },
  {
   "cell_type": "code",
   "execution_count": 18,
   "id": "prostate-keeping",
   "metadata": {
    "execution": {
     "iopub.execute_input": "2021-05-19T09:54:04.222793Z",
     "iopub.status.busy": "2021-05-19T09:54:04.222211Z",
     "iopub.status.idle": "2021-05-19T09:54:04.224689Z",
     "shell.execute_reply": "2021-05-19T09:54:04.225121Z"
    }
   },
   "outputs": [
    {
     "data": {
      "text/plain": [
       "[Amplicon(1148), Amplicon(980)]"
      ]
     },
     "execution_count": 1,
     "metadata": {},
     "output_type": "execute_result"
    }
   ],
   "source": [
    "Anneal( (p['577'], p['342'], fp), pYPKa_Z_CIT2).products"
   ]
  },
  {
   "cell_type": "markdown",
   "id": "least-liberia",
   "metadata": {},
   "source": [
    "pYPKa_Z_CIT2 with insert in reverse orientation."
   ]
  },
  {
   "cell_type": "code",
   "execution_count": 19,
   "id": "timely-associate",
   "metadata": {
    "execution": {
     "iopub.execute_input": "2021-05-19T09:54:04.237750Z",
     "iopub.status.busy": "2021-05-19T09:54:04.237102Z",
     "iopub.status.idle": "2021-05-19T09:54:04.240040Z",
     "shell.execute_reply": "2021-05-19T09:54:04.240494Z"
    }
   },
   "outputs": [
    {
     "data": {
      "text/plain": [
       "[Amplicon(1148), Amplicon(382)]"
      ]
     },
     "execution_count": 1,
     "metadata": {},
     "output_type": "execute_result"
    }
   ],
   "source": [
    "Anneal( (p['577'], p['342'], fp), pYPKa_Z_CIT2b).products"
   ]
  },
  {
   "cell_type": "markdown",
   "id": "viral-balloon",
   "metadata": {},
   "source": [
    "Empty pYPKa clone."
   ]
  },
  {
   "cell_type": "code",
   "execution_count": 20,
   "id": "initial-broadway",
   "metadata": {
    "execution": {
     "iopub.execute_input": "2021-05-19T09:54:04.247055Z",
     "iopub.status.busy": "2021-05-19T09:54:04.246575Z",
     "iopub.status.idle": "2021-05-19T09:54:04.249273Z",
     "shell.execute_reply": "2021-05-19T09:54:04.249831Z"
    }
   },
   "outputs": [
    {
     "data": {
      "text/plain": [
       "[Amplicon(934)]"
      ]
     },
     "execution_count": 1,
     "metadata": {},
     "output_type": "execute_result"
    }
   ],
   "source": [
    "Anneal( (p['577'], p['342'], fp), pYPKa).products"
   ]
  },
  {
   "cell_type": "markdown",
   "id": "naked-ballet",
   "metadata": {},
   "source": [
    "#### Expected PCR products sizes pYPKa_E_CIT2:\n",
    "\n",
    "pYPKa_E_CIT2 with insert in correct orientation."
   ]
  },
  {
   "cell_type": "code",
   "execution_count": 21,
   "id": "solved-briefing",
   "metadata": {
    "execution": {
     "iopub.execute_input": "2021-05-19T09:54:04.261458Z",
     "iopub.status.busy": "2021-05-19T09:54:04.260979Z",
     "iopub.status.idle": "2021-05-19T09:54:04.263448Z",
     "shell.execute_reply": "2021-05-19T09:54:04.263807Z"
    }
   },
   "outputs": [
    {
     "data": {
      "text/plain": [
       "[Amplicon(1148), Amplicon(899)]"
      ]
     },
     "execution_count": 1,
     "metadata": {},
     "output_type": "execute_result"
    }
   ],
   "source": [
    "Anneal( (p['577'], p['342'], fp), pYPKa_E_CIT2).products"
   ]
  },
  {
   "cell_type": "markdown",
   "id": "powerful-affect",
   "metadata": {},
   "source": [
    "pYPKa_E_CIT2 with insert in reverse orientation."
   ]
  },
  {
   "cell_type": "code",
   "execution_count": 22,
   "id": "collect-aruba",
   "metadata": {
    "execution": {
     "iopub.execute_input": "2021-05-19T09:54:04.277189Z",
     "iopub.status.busy": "2021-05-19T09:54:04.271489Z",
     "iopub.status.idle": "2021-05-19T09:54:04.280270Z",
     "shell.execute_reply": "2021-05-19T09:54:04.279782Z"
    }
   },
   "outputs": [
    {
     "data": {
      "text/plain": [
       "[Amplicon(1148), Amplicon(463)]"
      ]
     },
     "execution_count": 1,
     "metadata": {},
     "output_type": "execute_result"
    }
   ],
   "source": [
    "Anneal( (p['577'], p['342'], fp), pYPKa_E_CIT2b).products\n"
   ]
  },
  {
   "cell_type": "markdown",
   "id": "alive-accident",
   "metadata": {},
   "source": [
    "Calculate cseguid checksums for the resulting plasmids for future reference.\n",
    "This checksum that uniquely describes a circular double stranded\n",
    "sequence. See this [blog post](https://ochsavidare.blogspot.com/2016/02/checksum-for-circular-biological.html) for more info.\n",
    "\n",
    "pYPKa_Z_CIT2.cseguid() should be 73sF2OoyiGiWF3LAn3ES0coACjI"
   ]
  },
  {
   "cell_type": "code",
   "execution_count": 23,
   "id": "distinct-proportion",
   "metadata": {
    "execution": {
     "iopub.execute_input": "2021-05-19T09:54:04.290034Z",
     "iopub.status.busy": "2021-05-19T09:54:04.289408Z",
     "iopub.status.idle": "2021-05-19T09:54:04.292982Z",
     "shell.execute_reply": "2021-05-19T09:54:04.292372Z"
    }
   },
   "outputs": [
    {
     "name": "stdout",
     "output_type": "stream",
     "text": [
      "73sF2OoyiGiWF3LAn3ES0coACjI\n"
     ]
    }
   ],
   "source": [
    "print(pYPKa_Z_CIT2.cseguid())\n",
    "assert pYPKa_Z_CIT2.cseguid() == \"73sF2OoyiGiWF3LAn3ES0coACjI\""
   ]
  },
  {
   "cell_type": "markdown",
   "id": "foster-principal",
   "metadata": {},
   "source": [
    "pYPKa_E_CIT2.cseguid() should be RnFw5c81qokiyO3OBqR0deCKlKU"
   ]
  },
  {
   "cell_type": "code",
   "execution_count": 24,
   "id": "mounted-detroit",
   "metadata": {
    "execution": {
     "iopub.execute_input": "2021-05-19T09:54:04.303805Z",
     "iopub.status.busy": "2021-05-19T09:54:04.299898Z",
     "iopub.status.idle": "2021-05-19T09:54:04.307885Z",
     "shell.execute_reply": "2021-05-19T09:54:04.307156Z"
    }
   },
   "outputs": [
    {
     "name": "stdout",
     "output_type": "stream",
     "text": [
      "RnFw5c81qokiyO3OBqR0deCKlKU\n"
     ]
    }
   ],
   "source": [
    "print(pYPKa_E_CIT2.cseguid())\n",
    "assert pYPKa_E_CIT2.cseguid() == \"RnFw5c81qokiyO3OBqR0deCKlKU\""
   ]
  },
  {
   "cell_type": "markdown",
   "id": "undefined-living",
   "metadata": {},
   "source": [
    "The sequences are named based on the name of the cloned insert."
   ]
  },
  {
   "cell_type": "code",
   "execution_count": 25,
   "id": "appropriate-democracy",
   "metadata": {
    "execution": {
     "iopub.execute_input": "2021-05-19T09:54:04.311420Z",
     "iopub.status.busy": "2021-05-19T09:54:04.310910Z",
     "iopub.status.idle": "2021-05-19T09:54:04.313306Z",
     "shell.execute_reply": "2021-05-19T09:54:04.312844Z"
    }
   },
   "outputs": [],
   "source": [
    "pYPKa_Z_CIT2.locus = \"pYPKa_Z_CIT2\"[:16]\n",
    "pYPKa_E_CIT2.locus = \"pYPKa_Z_CIT2\"[:16]"
   ]
  },
  {
   "cell_type": "markdown",
   "id": "contemporary-tracker",
   "metadata": {},
   "source": [
    "Stamp sequence with cseguid checksum. This can be used to verify the\n",
    "integrity of the sequence file."
   ]
  },
  {
   "cell_type": "code",
   "execution_count": 26,
   "id": "operational-steam",
   "metadata": {
    "execution": {
     "iopub.execute_input": "2021-05-19T09:54:04.325686Z",
     "iopub.status.busy": "2021-05-19T09:54:04.325049Z",
     "iopub.status.idle": "2021-05-19T09:54:04.327896Z",
     "shell.execute_reply": "2021-05-19T09:54:04.328390Z"
    }
   },
   "outputs": [
    {
     "data": {
      "text/plain": [
       "cSEGUID_RnFw5c81qokiyO3OBqR0deCKlKU"
      ]
     },
     "execution_count": 1,
     "metadata": {},
     "output_type": "execute_result"
    }
   ],
   "source": [
    "pYPKa_Z_CIT2.stamp()\n",
    "pYPKa_E_CIT2.stamp()"
   ]
  },
  {
   "cell_type": "markdown",
   "id": "finished-arnold",
   "metadata": {},
   "source": [
    "pYPKa_Z_CIT2 is written to a local file:"
   ]
  },
  {
   "cell_type": "code",
   "execution_count": 27,
   "id": "regulation-nudist",
   "metadata": {
    "execution": {
     "iopub.execute_input": "2021-05-19T09:54:04.333424Z",
     "iopub.status.busy": "2021-05-19T09:54:04.332164Z",
     "iopub.status.idle": "2021-05-19T09:54:04.340588Z",
     "shell.execute_reply": "2021-05-19T09:54:04.341297Z"
    }
   },
   "outputs": [
    {
     "data": {
      "text/html": [
       "<font face=monospace><a href='pYPKa_Z_CIT2.gb' target='_blank'>pYPKa_Z_CIT2.gb</a></font><br>"
      ]
     },
     "metadata": {},
     "output_type": "display_data"
    }
   ],
   "source": [
    "pYPKa_Z_CIT2.write(\"pYPKa_Z_CIT2.gb\")"
   ]
  },
  {
   "cell_type": "markdown",
   "id": "taken-moses",
   "metadata": {},
   "source": [
    "pYPKa_E_CIT2 is written to a local file:"
   ]
  },
  {
   "cell_type": "code",
   "execution_count": 28,
   "id": "discrete-hollywood",
   "metadata": {
    "execution": {
     "iopub.execute_input": "2021-05-19T09:54:04.346460Z",
     "iopub.status.busy": "2021-05-19T09:54:04.345370Z",
     "iopub.status.idle": "2021-05-19T09:54:04.349706Z",
     "shell.execute_reply": "2021-05-19T09:54:04.349226Z"
    }
   },
   "outputs": [
    {
     "data": {
      "text/html": [
       "<font face=monospace><a href='pYPKa_E_CIT2.gb' target='_blank'>pYPKa_E_CIT2.gb</a></font><br>"
      ]
     },
     "metadata": {},
     "output_type": "display_data"
    }
   ],
   "source": [
    "pYPKa_E_CIT2.write(\"pYPKa_E_CIT2.gb\")"
   ]
  }
 ],
 "metadata": {
  "language_info": {
   "codemirror_mode": {
    "name": "ipython",
    "version": 3
   },
   "file_extension": ".py",
   "mimetype": "text/x-python",
   "name": "python",
   "nbconvert_exporter": "python",
   "pygments_lexer": "ipython3",
   "version": "3.9.0"
  }
 },
 "nbformat": 4,
 "nbformat_minor": 5
}
