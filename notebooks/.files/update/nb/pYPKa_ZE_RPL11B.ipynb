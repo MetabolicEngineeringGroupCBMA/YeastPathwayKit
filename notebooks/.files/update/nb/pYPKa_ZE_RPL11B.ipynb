{
 "cells": [
  {
   "cell_type": "markdown",
   "metadata": {},
   "source": [
    "# pYPKa_Z_RPL11B and pYPKa_E_RPL11B\n",
    "\n",
    "This Jupyter notebook describe the construction of E. coli vectors [pYPKa_Z_RPL11B](pYPKa_Z_RPL11B.gb) and [pYPKa_E_RPL11B](pYPKa_E_RPL11B.gb).\n",
    "These two vectors share backbone and insert, but in the former, the insert is cloned using the restriction\n",
    "enzyme [ZraI](http://rebase.neb.com/rebase/enz/ZraI.html) while in the latter [EcoRV](http://rebase.neb.com/rebase/enz/EcoRV.html) is used.\n",
    "\n",
    "The insert cloned in ZraI is meant to function as a promoter, while in the EcoRV site it is meant to be  used as a terminator.\n",
    "\n",
    "Links to the sequence of each vector in Genbank format can be found at the bottom of this document.\n",
    "\n",
    "![pYPKa_Z and pYPKa_E](figure_pYPKa_ZE.png \"pYPKa_Z or pYPKa_E plasmid\")\n",
    "\n",
    "The Python package [pydna](https://pypi.python.org/pypi/pydna/) package is imported in the code cell below to provide\n",
    "the cloning functionality. There is a [publication](http://www.biomedcentral.com/1471-2105/16/142) describing pydna as well as\n",
    "[documentation](http://pydna.readthedocs.io/) available online. Pydna is developed on [Github](https://github.com/BjornFJohansson/pydna)."
   ]
  },
  {
   "cell_type": "code",
   "execution_count": 1,
   "metadata": {
    "execution": {
     "iopub.execute_input": "2021-01-23T14:25:18.509722Z",
     "iopub.status.busy": "2021-01-23T14:25:18.508656Z",
     "iopub.status.idle": "2021-01-23T14:25:18.923854Z",
     "shell.execute_reply": "2021-01-23T14:25:18.924571Z"
    }
   },
   "outputs": [],
   "source": [
    "from pydna.readers import read\n",
    "from pydna.parsers import parse_primers\n",
    "from pydna.genbank import Genbank\n",
    "from pydna.amplify import pcr\n",
    "from pydna.amplify import Anneal"
   ]
  },
  {
   "cell_type": "markdown",
   "metadata": {},
   "source": [
    "The vector backbone pYPKa is read from a local [file](pYPKa.gb)."
   ]
  },
  {
   "cell_type": "code",
   "execution_count": 2,
   "metadata": {
    "execution": {
     "iopub.execute_input": "2021-01-23T14:25:18.934086Z",
     "iopub.status.busy": "2021-01-23T14:25:18.932941Z",
     "iopub.status.idle": "2021-01-23T14:25:18.952021Z",
     "shell.execute_reply": "2021-01-23T14:25:18.951591Z"
    }
   },
   "outputs": [
    {
     "data": {
      "text/html": [
       "<a href='pYPKa.gb' target='_blank'>pYPKa.gb</a><br>"
      ],
      "text/plain": [
       "File(3128bp TmU_6uVdgKq5aQhTpHux7dVk9J8)(o3128)"
      ]
     },
     "execution_count": 1,
     "metadata": {},
     "output_type": "execute_result"
    }
   ],
   "source": [
    "pYPKa = read(\"pYPKa.gb\")\n",
    "pYPKa"
   ]
  },
  {
   "cell_type": "markdown",
   "metadata": {},
   "source": [
    "Both restriction enzymes are imported from [Biopython](http://biopython.org/wiki/Main_Page)"
   ]
  },
  {
   "cell_type": "code",
   "execution_count": 3,
   "metadata": {
    "execution": {
     "iopub.execute_input": "2021-01-23T14:25:18.956708Z",
     "iopub.status.busy": "2021-01-23T14:25:18.956173Z",
     "iopub.status.idle": "2021-01-23T14:25:18.959602Z",
     "shell.execute_reply": "2021-01-23T14:25:18.959041Z"
    }
   },
   "outputs": [],
   "source": [
    "from Bio.Restriction import ZraI, EcoRV"
   ]
  },
  {
   "cell_type": "markdown",
   "metadata": {},
   "source": [
    "The vector is cut with both enzymes."
   ]
  },
  {
   "cell_type": "code",
   "execution_count": 4,
   "metadata": {
    "execution": {
     "iopub.execute_input": "2021-01-23T14:25:18.966386Z",
     "iopub.status.busy": "2021-01-23T14:25:18.965841Z",
     "iopub.status.idle": "2021-01-23T14:25:18.968949Z",
     "shell.execute_reply": "2021-01-23T14:25:18.968435Z"
    }
   },
   "outputs": [],
   "source": [
    "pYPKa_ZraI  = pYPKa.linearize(ZraI)\n",
    "pYPKa_EcoRV = pYPKa.linearize(EcoRV)"
   ]
  },
  {
   "cell_type": "markdown",
   "metadata": {},
   "source": [
    "The template below comes from a Genbank [record](http://www.ncbi.nlm.nih.gov/nuccore/part_BK0069412).\n",
    "Access to Genbank is needed in order to download the template.\n",
    "If you execute this script, change the email address below to your own.\n",
    "Always tell Genbank who you are, when using their web service."
   ]
  },
  {
   "cell_type": "code",
   "execution_count": 5,
   "metadata": {
    "execution": {
     "iopub.execute_input": "2021-01-23T14:25:18.973542Z",
     "iopub.status.busy": "2021-01-23T14:25:18.972996Z",
     "iopub.status.idle": "2021-01-23T14:25:18.976146Z",
     "shell.execute_reply": "2021-01-23T14:25:18.975662Z"
    }
   },
   "outputs": [],
   "source": [
    "gb = Genbank(\"bjornjobb@gmail.com\")"
   ]
  },
  {
   "cell_type": "markdown",
   "metadata": {},
   "source": [
    "The template is downloaded from Genbank below."
   ]
  },
  {
   "cell_type": "code",
   "execution_count": 6,
   "metadata": {
    "execution": {
     "iopub.execute_input": "2021-01-23T14:25:18.981108Z",
     "iopub.status.busy": "2021-01-23T14:25:18.979764Z",
     "iopub.status.idle": "2021-01-23T14:25:18.988345Z",
     "shell.execute_reply": "2021-01-23T14:25:18.988981Z"
    }
   },
   "outputs": [
    {
     "data": {
      "text/html": [
       "<a href='https://www.ncbi.nlm.nih.gov/nuccore/BK006941.2 ?from=648908&to=649597&strand=2' target='_blank'>BK006941.2  648908-649597</a>"
      ],
      "text/plain": [
       "Gbank(BK006941.2  648908-649597)(-690)"
      ]
     },
     "execution_count": 1,
     "metadata": {},
     "output_type": "execute_result"
    }
   ],
   "source": [
    "template = gb.nucleotide(\"BK006941.2 REGION: complement(648908..649597)\")\n",
    "template.features = []\n",
    "template"
   ]
  },
  {
   "cell_type": "markdown",
   "metadata": {},
   "source": [
    "The template is a 690 bp linear DNA fragment."
   ]
  },
  {
   "cell_type": "code",
   "execution_count": 7,
   "metadata": {
    "execution": {
     "iopub.execute_input": "2021-01-23T14:25:18.993404Z",
     "iopub.status.busy": "2021-01-23T14:25:18.992450Z",
     "iopub.status.idle": "2021-01-23T14:25:18.996456Z",
     "shell.execute_reply": "2021-01-23T14:25:18.997592Z"
    }
   },
   "outputs": [],
   "source": [
    "template.add_feature(label=\"RPL11Bp\", type=\"promoter\")"
   ]
  },
  {
   "cell_type": "markdown",
   "metadata": {},
   "source": [
    "The insert has the sequence shown below."
   ]
  },
  {
   "cell_type": "code",
   "execution_count": 8,
   "metadata": {
    "execution": {
     "iopub.execute_input": "2021-01-23T14:25:19.008807Z",
     "iopub.status.busy": "2021-01-23T14:25:19.007998Z",
     "iopub.status.idle": "2021-01-23T14:25:19.013544Z",
     "shell.execute_reply": "2021-01-23T14:25:19.014229Z"
    }
   },
   "outputs": [
    {
     "name": "stdout",
     "output_type": "stream",
     "text": [
      "TCAAAATAAATCAACAATCTATTAGAAACAAAAAAAAAAAAACCAGCAGAAAAGAACAAGTTACCATACTAATTAATCTCTTTTAATTAATGCGTGGACAGATAATCATTTCTGTTCCCTCACTCTGAAAAAATTGTTTTATTTTCCTATTTTTTTTTTCATCTATTATTGTATTTTGCCCTCTCCTCACTCCTTACTTTAGTCTATTATCAATATCTCTTCCCCCTCCTAAATATGTACTCTTTTATTTTTTTTAATTGTGAAGGAACAATTCAAGTTAGAACTCTTTTGATAGGAAACATTATTTCCTGTGTAGCCTAATGTTTAATGCCTAATTTTTTTCTAAAATGCAGCAACATACATATGTTGAGTCGTATAGACATCTATATATAACAAGCACAGAACCGTCTAATTGGTATTTTTCAGGACATTTTAAACATCCGTACAACGAGAACCCATACATTACTTTTTTTAATATTCTTTTTGTTTTCACCGCCTTCTTTTTATTTTTATCCGAAGATCTTTTGGAACCCGCTCTGCGAATAGCGAAGCTAGGATACCAAATTGAAACTTGGACATAACTCATCATTAAAGAAGTATACTGTTAAGAGAGGCATTCATTTCGTGTATTATAACGTTTAGCATCAGTTACCCTTGAAAGCCCAACATATACAAAAATACGCGTCCAAG\n"
     ]
    }
   ],
   "source": [
    "print(str(template.seq))"
   ]
  },
  {
   "cell_type": "markdown",
   "metadata": {},
   "source": [
    "The seguid checksum of the template should be\n",
    "\n",
    "```58Aa8NmzgZDUiUCca5GyCsjZXOA```"
   ]
  },
  {
   "cell_type": "code",
   "execution_count": 9,
   "metadata": {
    "execution": {
     "iopub.execute_input": "2021-01-23T14:25:19.019940Z",
     "iopub.status.busy": "2021-01-23T14:25:19.019235Z",
     "iopub.status.idle": "2021-01-23T14:25:19.023551Z",
     "shell.execute_reply": "2021-01-23T14:25:19.022977Z"
    }
   },
   "outputs": [
    {
     "data": {
      "text/plain": [
       "58Aa8NmzgZDUiUCca5GyCsjZXOA"
      ]
     },
     "execution_count": 1,
     "metadata": {},
     "output_type": "execute_result"
    }
   ],
   "source": [
    "template.seguid()"
   ]
  },
  {
   "cell_type": "markdown",
   "metadata": {},
   "source": [
    "Two primers are used to amplify the insert:"
   ]
  },
  {
   "cell_type": "code",
   "execution_count": 10,
   "metadata": {
    "execution": {
     "iopub.execute_input": "2021-01-23T14:25:19.029128Z",
     "iopub.status.busy": "2021-01-23T14:25:19.028222Z",
     "iopub.status.idle": "2021-01-23T14:25:19.030834Z",
     "shell.execute_reply": "2021-01-23T14:25:19.031732Z"
    }
   },
   "outputs": [],
   "source": [
    "fp,rp = parse_primers(\"\"\">646_ScRPL11btpf2\n",
    "                         ttaaatTCAAAATAAATCAACAATC\n",
    "                         >645_ScRPL11btpr_PacI\n",
    "                         taattaaCTTGGACGCGTATTTTTG\"\"\")"
   ]
  },
  {
   "cell_type": "markdown",
   "metadata": {},
   "source": [
    "PCR to create the insert using the primers above."
   ]
  },
  {
   "cell_type": "code",
   "execution_count": 11,
   "metadata": {
    "execution": {
     "iopub.execute_input": "2021-01-23T14:25:19.039538Z",
     "iopub.status.busy": "2021-01-23T14:25:19.038594Z",
     "iopub.status.idle": "2021-01-23T14:25:19.041109Z",
     "shell.execute_reply": "2021-01-23T14:25:19.041944Z"
    }
   },
   "outputs": [],
   "source": [
    "prd = pcr(fp, rp, template)\n",
    "assert str(fp.seq) in prd"
   ]
  },
  {
   "cell_type": "markdown",
   "metadata": {},
   "source": [
    "The PCR product has this length in bp."
   ]
  },
  {
   "cell_type": "code",
   "execution_count": 12,
   "metadata": {
    "execution": {
     "iopub.execute_input": "2021-01-23T14:25:19.047127Z",
     "iopub.status.busy": "2021-01-23T14:25:19.046172Z",
     "iopub.status.idle": "2021-01-23T14:25:19.051340Z",
     "shell.execute_reply": "2021-01-23T14:25:19.050714Z"
    }
   },
   "outputs": [
    {
     "data": {
      "text/plain": [
       "703"
      ]
     },
     "execution_count": 1,
     "metadata": {},
     "output_type": "execute_result"
    }
   ],
   "source": [
    "len(prd)"
   ]
  },
  {
   "cell_type": "markdown",
   "metadata": {},
   "source": [
    "A figure of the primers annealing on template."
   ]
  },
  {
   "cell_type": "code",
   "execution_count": 13,
   "metadata": {
    "execution": {
     "iopub.execute_input": "2021-01-23T14:25:19.055702Z",
     "iopub.status.busy": "2021-01-23T14:25:19.054989Z",
     "iopub.status.idle": "2021-01-23T14:25:19.058802Z",
     "shell.execute_reply": "2021-01-23T14:25:19.059631Z"
    }
   },
   "outputs": [
    {
     "data": {
      "text/plain": [
       "      5TCAAAATAAATCAACAATC...CAAAAATACGCGTCCAAG3\n",
       "                             ||||||||||||||||||\n",
       "                            3GTTTTTATGCGCAGGTTCaattaat5\n",
       "5ttaaatTCAAAATAAATCAACAATC3\n",
       "       |||||||||||||||||||\n",
       "      3AGTTTTATTTAGTTGTTAG...GTTTTTATGCGCAGGTTC5"
      ]
     },
     "execution_count": 1,
     "metadata": {},
     "output_type": "execute_result"
    }
   ],
   "source": [
    "prd.figure()"
   ]
  },
  {
   "cell_type": "markdown",
   "metadata": {},
   "source": [
    "A suggested PCR program."
   ]
  },
  {
   "cell_type": "code",
   "execution_count": 14,
   "metadata": {
    "execution": {
     "iopub.execute_input": "2021-01-23T14:25:19.065244Z",
     "iopub.status.busy": "2021-01-23T14:25:19.064373Z",
     "iopub.status.idle": "2021-01-23T14:25:19.071848Z",
     "shell.execute_reply": "2021-01-23T14:25:19.071438Z"
    }
   },
   "outputs": [
    {
     "data": {
      "text/plain": [
       "|95°C|95°C               |    |tmf:46.2\n",
       "|____|_____          72°C|72°C|tmr:56.0\n",
       "|5min|30s  \\ 48.9°C _____|____|30s/kb\n",
       "|    |      \\______/ 0:21|5min|GC 30%\n",
       "|    |       30s         |    |703bp\n"
      ]
     },
     "execution_count": 1,
     "metadata": {},
     "output_type": "execute_result"
    }
   ],
   "source": [
    "prd.program()"
   ]
  },
  {
   "cell_type": "markdown",
   "metadata": {},
   "source": [
    "The final vectors are:"
   ]
  },
  {
   "cell_type": "code",
   "execution_count": 15,
   "metadata": {
    "execution": {
     "iopub.execute_input": "2021-01-23T14:25:19.131320Z",
     "iopub.status.busy": "2021-01-23T14:25:19.110636Z",
     "iopub.status.idle": "2021-01-23T14:25:19.822588Z",
     "shell.execute_reply": "2021-01-23T14:25:19.823239Z"
    }
   },
   "outputs": [],
   "source": [
    "pYPKa_Z_RPL11B = (pYPKa_ZraI  + prd).looped().synced(pYPKa)\n",
    "pYPKa_E_RPL11B = (pYPKa_EcoRV + prd).looped().synced(pYPKa)"
   ]
  },
  {
   "cell_type": "markdown",
   "metadata": {},
   "source": [
    "The final vectors with reverse inserts are created below. These vectors theoretically make up\n",
    "fifty percent of the clones. The PCR strategy outlined below can be used to identify clones with the insert\n",
    "in the correct orientation."
   ]
  },
  {
   "cell_type": "code",
   "execution_count": 16,
   "metadata": {
    "execution": {
     "iopub.execute_input": "2021-01-23T14:25:19.893761Z",
     "iopub.status.busy": "2021-01-23T14:25:19.857622Z",
     "iopub.status.idle": "2021-01-23T14:25:20.370305Z",
     "shell.execute_reply": "2021-01-23T14:25:20.369382Z"
    }
   },
   "outputs": [],
   "source": [
    "pYPKa_Z_RPL11Bb = (pYPKa_ZraI  + prd.rc()).looped().synced(pYPKa)\n",
    "pYPKa_E_RPL11Bb = (pYPKa_EcoRV + prd.rc()).looped().synced(pYPKa)"
   ]
  },
  {
   "cell_type": "markdown",
   "metadata": {},
   "source": [
    "A combination of yeast pathway kit standard primers and the primers above are\n",
    "used for the strategy to identify correct clones.\n",
    "Standard primers used in the yeast are listed [here](standard_primers.txt)."
   ]
  },
  {
   "cell_type": "code",
   "execution_count": 17,
   "metadata": {
    "execution": {
     "iopub.execute_input": "2021-01-23T14:25:20.379630Z",
     "iopub.status.busy": "2021-01-23T14:25:20.378906Z",
     "iopub.status.idle": "2021-01-23T14:25:20.381673Z",
     "shell.execute_reply": "2021-01-23T14:25:20.381083Z"
    }
   },
   "outputs": [],
   "source": [
    "p = { x.id: x for x in parse_primers(\"\"\">577\n",
    "                                         gttctgatcctcgagcatcttaagaattc\n",
    "                                         >578\n",
    "                                         gttcttgtctcattgccacattcataagt\n",
    "                                         >468\n",
    "                                         gtcgaggaacgccaggttgcccact\n",
    "                                         >467\n",
    "                                         ATTTAAatcctgatgcgtttgtctgcacaga\n",
    "                                         >567\n",
    "                                         GTcggctgcaggtcactagtgag\n",
    "                                         >568\n",
    "                                         GTGCcatctgtgcagacaaacg\n",
    "                                         >775\n",
    "                                         gcggccgctgacTTAAAT\n",
    "                                         >778\n",
    "                                         ggtaaatccggatTAATTAA\n",
    "                                         >342\n",
    "                                         CCTTTTTACGGTTCCTGGCCT\"\"\") }"
   ]
  },
  {
   "cell_type": "markdown",
   "metadata": {},
   "source": [
    "## Diagnostic PCR confirmation\n",
    "\n",
    "The correct structure of pYPKa_Z_RPL11B is confirmed by PCR using standard primers\n",
    "577 and 342 that are vector specific together with the RPL11Bfw primer specific for the insert\n",
    "in a multiplex PCR reaction with\n",
    "all three primers present.\n",
    "\n",
    "Two PCR products are expected if the insert was cloned, the sizes depend\n",
    "on the orientation. If the vector is empty or contains another insert, only one\n",
    "product is formed.\n",
    "\n",
    "#### Expected PCR products sizes from pYPKa_Z_RPL11B:\n",
    "\n",
    "pYPKa_Z_RPL11B with insert in correct orientation."
   ]
  },
  {
   "cell_type": "code",
   "execution_count": 18,
   "metadata": {
    "execution": {
     "iopub.execute_input": "2021-01-23T14:25:20.396235Z",
     "iopub.status.busy": "2021-01-23T14:25:20.395499Z",
     "iopub.status.idle": "2021-01-23T14:25:20.399071Z",
     "shell.execute_reply": "2021-01-23T14:25:20.399538Z"
    }
   },
   "outputs": [
    {
     "data": {
      "text/plain": [
       "[Amplicon(1637), Amplicon(1469)]"
      ]
     },
     "execution_count": 1,
     "metadata": {},
     "output_type": "execute_result"
    }
   ],
   "source": [
    "Anneal( (p['577'], p['342'], fp), pYPKa_Z_RPL11B).products"
   ]
  },
  {
   "cell_type": "markdown",
   "metadata": {},
   "source": [
    "pYPKa_Z_RPL11B with insert in reverse orientation."
   ]
  },
  {
   "cell_type": "code",
   "execution_count": 19,
   "metadata": {
    "execution": {
     "iopub.execute_input": "2021-01-23T14:25:20.409744Z",
     "iopub.status.busy": "2021-01-23T14:25:20.409252Z",
     "iopub.status.idle": "2021-01-23T14:25:20.412000Z",
     "shell.execute_reply": "2021-01-23T14:25:20.412427Z"
    }
   },
   "outputs": [
    {
     "data": {
      "text/plain": [
       "[Amplicon(1637), Amplicon(871)]"
      ]
     },
     "execution_count": 1,
     "metadata": {},
     "output_type": "execute_result"
    }
   ],
   "source": [
    "Anneal( (p['577'], p['342'], fp), pYPKa_Z_RPL11Bb).products"
   ]
  },
  {
   "cell_type": "markdown",
   "metadata": {},
   "source": [
    "Empty pYPKa clone."
   ]
  },
  {
   "cell_type": "code",
   "execution_count": 20,
   "metadata": {
    "execution": {
     "iopub.execute_input": "2021-01-23T14:25:20.420635Z",
     "iopub.status.busy": "2021-01-23T14:25:20.419719Z",
     "iopub.status.idle": "2021-01-23T14:25:20.423525Z",
     "shell.execute_reply": "2021-01-23T14:25:20.424312Z"
    }
   },
   "outputs": [
    {
     "data": {
      "text/plain": [
       "[Amplicon(934)]"
      ]
     },
     "execution_count": 1,
     "metadata": {},
     "output_type": "execute_result"
    }
   ],
   "source": [
    "Anneal( (p['577'], p['342'], fp), pYPKa).products"
   ]
  },
  {
   "cell_type": "markdown",
   "metadata": {},
   "source": [
    "#### Expected PCR products sizes pYPKa_E_RPL11B:\n",
    "\n",
    "pYPKa_E_RPL11B with insert in correct orientation."
   ]
  },
  {
   "cell_type": "code",
   "execution_count": 21,
   "metadata": {
    "execution": {
     "iopub.execute_input": "2021-01-23T14:25:20.435491Z",
     "iopub.status.busy": "2021-01-23T14:25:20.432440Z",
     "iopub.status.idle": "2021-01-23T14:25:20.438037Z",
     "shell.execute_reply": "2021-01-23T14:25:20.438513Z"
    }
   },
   "outputs": [
    {
     "data": {
      "text/plain": [
       "[Amplicon(1637), Amplicon(1388)]"
      ]
     },
     "execution_count": 1,
     "metadata": {},
     "output_type": "execute_result"
    }
   ],
   "source": [
    "Anneal( (p['577'], p['342'], fp), pYPKa_E_RPL11B).products"
   ]
  },
  {
   "cell_type": "markdown",
   "metadata": {},
   "source": [
    "pYPKa_E_RPL11B with insert in reverse orientation."
   ]
  },
  {
   "cell_type": "code",
   "execution_count": 22,
   "metadata": {
    "execution": {
     "iopub.execute_input": "2021-01-23T14:25:20.450608Z",
     "iopub.status.busy": "2021-01-23T14:25:20.449892Z",
     "iopub.status.idle": "2021-01-23T14:25:20.452883Z",
     "shell.execute_reply": "2021-01-23T14:25:20.453336Z"
    }
   },
   "outputs": [
    {
     "data": {
      "text/plain": [
       "[Amplicon(1637), Amplicon(952)]"
      ]
     },
     "execution_count": 1,
     "metadata": {},
     "output_type": "execute_result"
    }
   ],
   "source": [
    "Anneal( (p['577'], p['342'], fp), pYPKa_E_RPL11Bb).products\n"
   ]
  },
  {
   "cell_type": "markdown",
   "metadata": {},
   "source": [
    "Calculate cseguid checksums for the resulting plasmids for future reference.\n",
    "This checksum that uniquely describes a circular double stranded\n",
    "sequence. See this [blog post](https://ochsavidare.blogspot.com/2016/02/checksum-for-circular-biological.html) for more info.\n",
    "\n",
    "pYPKa_Z_RPL11B.cseguid() should be Ci_RC4oZjSHe9F188IEMGaO72xM"
   ]
  },
  {
   "cell_type": "code",
   "execution_count": 23,
   "metadata": {
    "execution": {
     "iopub.execute_input": "2021-01-23T14:25:20.463472Z",
     "iopub.status.busy": "2021-01-23T14:25:20.462702Z",
     "iopub.status.idle": "2021-01-23T14:25:20.465042Z",
     "shell.execute_reply": "2021-01-23T14:25:20.465517Z"
    }
   },
   "outputs": [
    {
     "name": "stdout",
     "output_type": "stream",
     "text": [
      "Ci_RC4oZjSHe9F188IEMGaO72xM\n"
     ]
    }
   ],
   "source": [
    "print(pYPKa_Z_RPL11B.cseguid())\n",
    "assert pYPKa_Z_RPL11B.cseguid() == \"Ci_RC4oZjSHe9F188IEMGaO72xM\""
   ]
  },
  {
   "cell_type": "markdown",
   "metadata": {},
   "source": [
    "pYPKa_E_RPL11B.cseguid() should be JEQ-ZWB3r1FpJoaH1k92v8EYKzU"
   ]
  },
  {
   "cell_type": "code",
   "execution_count": 24,
   "metadata": {
    "execution": {
     "iopub.execute_input": "2021-01-23T14:25:20.474988Z",
     "iopub.status.busy": "2021-01-23T14:25:20.474465Z",
     "iopub.status.idle": "2021-01-23T14:25:20.476787Z",
     "shell.execute_reply": "2021-01-23T14:25:20.477228Z"
    }
   },
   "outputs": [
    {
     "name": "stdout",
     "output_type": "stream",
     "text": [
      "JEQ-ZWB3r1FpJoaH1k92v8EYKzU\n"
     ]
    }
   ],
   "source": [
    "print(pYPKa_E_RPL11B.cseguid())\n",
    "assert pYPKa_E_RPL11B.cseguid() == \"JEQ-ZWB3r1FpJoaH1k92v8EYKzU\""
   ]
  },
  {
   "cell_type": "markdown",
   "metadata": {},
   "source": [
    "The sequences are named based on the name of the cloned insert."
   ]
  },
  {
   "cell_type": "code",
   "execution_count": 25,
   "metadata": {
    "execution": {
     "iopub.execute_input": "2021-01-23T14:25:20.481015Z",
     "iopub.status.busy": "2021-01-23T14:25:20.480290Z",
     "iopub.status.idle": "2021-01-23T14:25:20.482270Z",
     "shell.execute_reply": "2021-01-23T14:25:20.482786Z"
    }
   },
   "outputs": [],
   "source": [
    "pYPKa_Z_RPL11B.locus = \"pYPKa_Z_RPL11B\"[:16]\n",
    "pYPKa_E_RPL11B.locus = \"pYPKa_Z_RPL11B\"[:16]"
   ]
  },
  {
   "cell_type": "markdown",
   "metadata": {},
   "source": [
    "Stamp sequence with cseguid checksum. This can be used to verify the\n",
    "integrity of the sequence file."
   ]
  },
  {
   "cell_type": "code",
   "execution_count": 26,
   "metadata": {
    "execution": {
     "iopub.execute_input": "2021-01-23T14:25:20.493208Z",
     "iopub.status.busy": "2021-01-23T14:25:20.492661Z",
     "iopub.status.idle": "2021-01-23T14:25:20.495709Z",
     "shell.execute_reply": "2021-01-23T14:25:20.496229Z"
    }
   },
   "outputs": [
    {
     "data": {
      "text/plain": [
       "cSEGUID_JEQ-ZWB3r1FpJoaH1k92v8EYKzU"
      ]
     },
     "execution_count": 1,
     "metadata": {},
     "output_type": "execute_result"
    }
   ],
   "source": [
    "pYPKa_Z_RPL11B.stamp()\n",
    "pYPKa_E_RPL11B.stamp()"
   ]
  },
  {
   "cell_type": "markdown",
   "metadata": {},
   "source": [
    "pYPKa_Z_RPL11B is written to a local file:"
   ]
  },
  {
   "cell_type": "code",
   "execution_count": 27,
   "metadata": {
    "execution": {
     "iopub.execute_input": "2021-01-23T14:25:20.501314Z",
     "iopub.status.busy": "2021-01-23T14:25:20.500304Z",
     "iopub.status.idle": "2021-01-23T14:25:20.512842Z",
     "shell.execute_reply": "2021-01-23T14:25:20.513371Z"
    }
   },
   "outputs": [
    {
     "data": {
      "text/html": [
       "<font face=monospace><a href='pYPKa_Z_RPL11B.gb' target='_blank'>pYPKa_Z_RPL11B.gb</a></font><br>"
      ]
     },
     "metadata": {},
     "output_type": "display_data"
    }
   ],
   "source": [
    "pYPKa_Z_RPL11B.write(\"pYPKa_Z_RPL11B.gb\")"
   ]
  },
  {
   "cell_type": "markdown",
   "metadata": {},
   "source": [
    "pYPKa_E_RPL11B is written to a local file:"
   ]
  },
  {
   "cell_type": "code",
   "execution_count": 28,
   "metadata": {
    "execution": {
     "iopub.execute_input": "2021-01-23T14:25:20.520486Z",
     "iopub.status.busy": "2021-01-23T14:25:20.517189Z",
     "iopub.status.idle": "2021-01-23T14:25:20.524524Z",
     "shell.execute_reply": "2021-01-23T14:25:20.525029Z"
    }
   },
   "outputs": [
    {
     "data": {
      "text/html": [
       "<font face=monospace><a href='pYPKa_E_RPL11B.gb' target='_blank'>pYPKa_E_RPL11B.gb</a></font><br>"
      ]
     },
     "metadata": {},
     "output_type": "display_data"
    }
   ],
   "source": [
    "pYPKa_E_RPL11B.write(\"pYPKa_E_RPL11B.gb\")"
   ]
  }
 ],
 "metadata": {
  "kernelspec": {
   "display_name": "Python [conda env:bjorn39]",
   "language": "python",
   "name": "conda-env-bjorn39-py"
  },
  "language_info": {
   "codemirror_mode": {
    "name": "ipython",
    "version": 3
   },
   "file_extension": ".py",
   "mimetype": "text/x-python",
   "name": "python",
   "nbconvert_exporter": "python",
   "pygments_lexer": "ipython3",
   "version": "3.9.0"
  }
 },
 "nbformat": 4,
 "nbformat_minor": 4
}
