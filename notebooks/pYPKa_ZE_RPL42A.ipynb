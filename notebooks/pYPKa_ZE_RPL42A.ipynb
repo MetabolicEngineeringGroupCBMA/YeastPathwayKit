{
 "cells": [
  {
   "cell_type": "markdown",
   "metadata": {},
   "source": [
    "# pYPKa_Z_RPL42A and pYPKa_E_RPL42A\n",
    "\n",
    "This Jupyter notebook describe the construction of E. coli vectors [pYPKa_Z_RPL42A](pYPKa_Z_RPL42A.gb) and [pYPKa_E_RPL42A](pYPKa_E_RPL42A.gb). \n",
    "These two vectors share backbone and insert, but in the former, the insert is cloned using the restriction\n",
    "enzyme [ZraI](http://rebase.neb.com/rebase/enz/ZraI.html) while in the latter [EcoRV](http://rebase.neb.com/rebase/enz/EcoRV.html) is used.\n",
    "\n",
    "The insert cloned in ZraI is meant to function as a promoter, while in the EcoRV site it is meant to be  used as a terminator.\n",
    "\n",
    "Links to the sequence of each vector in Genbank format can be found at the bottom of this document.\n",
    "\n",
    "![pYPKa_Z and pYPKa_E](figure_pYPKa_ZE.png \"pYPKa_Z or pYPKa_E plasmid\")\n",
    "\n",
    "The Python package [pydna](https://pypi.python.org/pypi/pydna/) package is imported in the code cell below to provide \n",
    "the cloning functionality. There is a [publication](http://www.biomedcentral.com/1471-2105/16/142) describing pydna as well as\n",
    "[documentation](http://pydna.readthedocs.io/) available online. Pydna is developed on [Github](https://github.com/BjornFJohansson/pydna)."
   ]
  },
  {
   "cell_type": "code",
   "execution_count": 1,
   "metadata": {
    "execution": {
     "iopub.execute_input": "2021-05-17T10:27:32.174502Z",
     "iopub.status.busy": "2021-05-17T10:27:32.173711Z",
     "iopub.status.idle": "2021-05-17T10:27:32.743340Z",
     "shell.execute_reply": "2021-05-17T10:27:32.742763Z"
    }
   },
   "outputs": [],
   "source": [
    "from pydna.readers import read\n",
    "from pydna.parsers import parse_primers\n",
    "from pydna.genbank import Genbank\n",
    "from pydna.amplify import pcr\n",
    "from pydna.amplify import Anneal"
   ]
  },
  {
   "cell_type": "markdown",
   "metadata": {},
   "source": [
    "The vector backbone pYPKa is read from a local [file](pYPKa.gb)."
   ]
  },
  {
   "cell_type": "code",
   "execution_count": 2,
   "metadata": {
    "execution": {
     "iopub.execute_input": "2021-05-17T10:27:32.752860Z",
     "iopub.status.busy": "2021-05-17T10:27:32.751746Z",
     "iopub.status.idle": "2021-05-17T10:27:32.765564Z",
     "shell.execute_reply": "2021-05-17T10:27:32.764702Z"
    }
   },
   "outputs": [],
   "source": [
    "pYPKa = read(\"pYPKa.gb\")"
   ]
  },
  {
   "cell_type": "markdown",
   "metadata": {},
   "source": [
    "Both restriction enzymes are imported from [Biopython](http://biopython.org/wiki/Main_Page)"
   ]
  },
  {
   "cell_type": "code",
   "execution_count": 3,
   "metadata": {
    "execution": {
     "iopub.execute_input": "2021-05-17T10:27:32.769411Z",
     "iopub.status.busy": "2021-05-17T10:27:32.768665Z",
     "iopub.status.idle": "2021-05-17T10:27:32.771424Z",
     "shell.execute_reply": "2021-05-17T10:27:32.770876Z"
    }
   },
   "outputs": [],
   "source": [
    "from Bio.Restriction import ZraI, EcoRV"
   ]
  },
  {
   "cell_type": "markdown",
   "metadata": {},
   "source": [
    "The vector is cut with both enzymes."
   ]
  },
  {
   "cell_type": "code",
   "execution_count": 4,
   "metadata": {
    "execution": {
     "iopub.execute_input": "2021-05-17T10:27:32.782363Z",
     "iopub.status.busy": "2021-05-17T10:27:32.781632Z",
     "iopub.status.idle": "2021-05-17T10:27:32.784244Z",
     "shell.execute_reply": "2021-05-17T10:27:32.783799Z"
    }
   },
   "outputs": [],
   "source": [
    "pYPKa_ZraI  = pYPKa.linearize(ZraI)\n",
    "pYPKa_EcoRV = pYPKa.linearize(EcoRV)"
   ]
  },
  {
   "cell_type": "markdown",
   "metadata": {},
   "source": [
    "The template below comes from a Genbank [record](http://www.ncbi.nlm.nih.gov/nuccore/BK006947.3).\n",
    "Access to Genbank is needed in order to download the template.\n",
    "If you execute this script, change the email address below to your own.\n",
    "Always tell Genbank who you are, when using their web service."
   ]
  },
  {
   "cell_type": "code",
   "execution_count": 5,
   "metadata": {
    "execution": {
     "iopub.execute_input": "2021-05-17T10:27:32.788411Z",
     "iopub.status.busy": "2021-05-17T10:27:32.787726Z",
     "iopub.status.idle": "2021-05-17T10:27:32.792011Z",
     "shell.execute_reply": "2021-05-17T10:27:32.791547Z"
    }
   },
   "outputs": [],
   "source": [
    "gb = Genbank(\"bjornjobb@gmail.com\")"
   ]
  },
  {
   "cell_type": "markdown",
   "metadata": {},
   "source": [
    "The template is downloaded from Genbank below."
   ]
  },
  {
   "cell_type": "code",
   "execution_count": 6,
   "metadata": {
    "execution": {
     "iopub.execute_input": "2021-05-17T10:27:32.798193Z",
     "iopub.status.busy": "2021-05-17T10:27:32.797175Z",
     "iopub.status.idle": "2021-05-17T10:27:32.808312Z",
     "shell.execute_reply": "2021-05-17T10:27:32.807804Z"
    }
   },
   "outputs": [],
   "source": [
    "template = gb.nucleotide(\"BK006947.3 REGION: 330548..331321\")"
   ]
  },
  {
   "cell_type": "markdown",
   "metadata": {},
   "source": [
    "The template is a 774 bp linear DNA fragment."
   ]
  },
  {
   "cell_type": "code",
   "execution_count": 7,
   "metadata": {
    "execution": {
     "iopub.execute_input": "2021-05-17T10:27:32.818935Z",
     "iopub.status.busy": "2021-05-17T10:27:32.818356Z",
     "iopub.status.idle": "2021-05-17T10:27:32.822082Z",
     "shell.execute_reply": "2021-05-17T10:27:32.821500Z"
    }
   },
   "outputs": [
    {
     "data": {
      "text/html": [
       "<a href='https://www.ncbi.nlm.nih.gov/nuccore/BK006947.3 ?from=330548&to=331321&strand=1' target='_blank'>BK006947.3  330548-331321</a>"
      ],
      "text/plain": [
       "Gbank(BK006947.3  330548-331321)(-774)"
      ]
     },
     "execution_count": 1,
     "metadata": {},
     "output_type": "execute_result"
    }
   ],
   "source": [
    "template"
   ]
  },
  {
   "cell_type": "markdown",
   "metadata": {},
   "source": [
    "The insert has the sequence shown below."
   ]
  },
  {
   "cell_type": "code",
   "execution_count": 8,
   "metadata": {
    "execution": {
     "iopub.execute_input": "2021-05-17T10:27:32.827491Z",
     "iopub.status.busy": "2021-05-17T10:27:32.826736Z",
     "iopub.status.idle": "2021-05-17T10:27:32.831997Z",
     "shell.execute_reply": "2021-05-17T10:27:32.831340Z"
    }
   },
   "outputs": [
    {
     "name": "stdout",
     "output_type": "stream",
     "text": [
      "AATAGTTGCACTATTGCTGTTCATTATCTTTCATTATCCCTAGTAACGCCATTGCAGAGTCAAATATGAGCGATAACAATATAAAGAGCAATAACATGATAGTTGAAATTAACATAAAAGAAGCGACATAATTAAAGGTCTCAAAGAGTGAAGATCAAGTATCCGGTTTTTACGAATAATCTACTTTCTATGTGAAACCCAAAAAAGTTCGTACAAGGAAAACTAAAAAGTGTGTAATAACTTGTCTAGCTTTGGCATTAAAACTTGTCAATTATTCATCACCAATATAGACTAATGCGTTTTGGAACGCCAAACCGCAGTGACAAATAGCAAATATGTAGCTGTCATATCGGCATATAATAACAGTTTTCTACCAAATGCTGTCCTACATTCAGAGATCTTACATCCTTACATCTAAAGTAAAACCTAGACATTTACTTCGAGTTATACTTTTTTTTTATTTATCTATTTTTTCTCTTGCGGACATTTAACACCTGAATTCCGCCTAACGCCAGGACTGATCCTGCCAGGGAAGGGAGCTTTGTCTAGTGCCAATAGGCCGGACCAGTAGGAAGGTTACAGCAGCTGGCCCGCAGAGTGATTGGGTCACAGGAAATAGCGCAACCTTCTCTTTTGCCCGGGAAAGGCGGTTCAATCTACCTTCGAAGGGCTAGTACATGAGCGCGAAGGAGGCAGATAATAGCACCATTAAGTGGTCCAAATGCATCTTGAAATCTAATCCTTAATAGAGGAAAACAACAATTATCAGTAAAA\n"
     ]
    }
   ],
   "source": [
    "print(str(template.seq))"
   ]
  },
  {
   "cell_type": "markdown",
   "metadata": {},
   "source": [
    "The seguid checksum of the template should be\n",
    "\n",
    "```xxx1Rs31HCOVlH2C7LaoxXYaeIw```"
   ]
  },
  {
   "cell_type": "code",
   "execution_count": 9,
   "metadata": {
    "execution": {
     "iopub.execute_input": "2021-05-17T10:27:32.837183Z",
     "iopub.status.busy": "2021-05-17T10:27:32.836479Z",
     "iopub.status.idle": "2021-05-17T10:27:32.840249Z",
     "shell.execute_reply": "2021-05-17T10:27:32.841486Z"
    }
   },
   "outputs": [
    {
     "data": {
      "text/plain": [
       "xxx1Rs31HCOVlH2C7LaoxXYaeIw"
      ]
     },
     "execution_count": 1,
     "metadata": {},
     "output_type": "execute_result"
    }
   ],
   "source": [
    "template.seguid()"
   ]
  },
  {
   "cell_type": "markdown",
   "metadata": {},
   "source": [
    "Two primers are used to amplify the insert:"
   ]
  },
  {
   "cell_type": "code",
   "execution_count": 10,
   "metadata": {
    "execution": {
     "iopub.execute_input": "2021-05-17T10:27:32.848006Z",
     "iopub.status.busy": "2021-05-17T10:27:32.847315Z",
     "iopub.status.idle": "2021-05-17T10:27:32.849679Z",
     "shell.execute_reply": "2021-05-17T10:27:32.850267Z"
    }
   },
   "outputs": [],
   "source": [
    "fp,rp = parse_primers(\"\"\">832_RPL42Atpf\n",
    "                         ttaaatAATAGTTGCACTATTGCTGT\n",
    "                         >831_RPL42Atpr\n",
    "                         taattaaTTTTACTGATAATTGTTGTTTT\"\"\")"
   ]
  },
  {
   "cell_type": "markdown",
   "metadata": {},
   "source": [
    "PCR to create the insert using the primers above."
   ]
  },
  {
   "cell_type": "code",
   "execution_count": 11,
   "metadata": {
    "execution": {
     "iopub.execute_input": "2021-05-17T10:27:32.857016Z",
     "iopub.status.busy": "2021-05-17T10:27:32.856040Z",
     "iopub.status.idle": "2021-05-17T10:27:32.862135Z",
     "shell.execute_reply": "2021-05-17T10:27:32.862919Z"
    }
   },
   "outputs": [],
   "source": [
    "prd = pcr(fp, rp, template)\n",
    "assert str(fp.seq) in prd"
   ]
  },
  {
   "cell_type": "markdown",
   "metadata": {},
   "source": [
    "The PCR product has this length in bp."
   ]
  },
  {
   "cell_type": "code",
   "execution_count": 12,
   "metadata": {
    "execution": {
     "iopub.execute_input": "2021-05-17T10:27:32.867803Z",
     "iopub.status.busy": "2021-05-17T10:27:32.866930Z",
     "iopub.status.idle": "2021-05-17T10:27:32.870283Z",
     "shell.execute_reply": "2021-05-17T10:27:32.870843Z"
    }
   },
   "outputs": [
    {
     "data": {
      "text/plain": [
       "787"
      ]
     },
     "execution_count": 1,
     "metadata": {},
     "output_type": "execute_result"
    }
   ],
   "source": [
    "len(prd)"
   ]
  },
  {
   "cell_type": "markdown",
   "metadata": {},
   "source": [
    "A figure of the primers annealing on template."
   ]
  },
  {
   "cell_type": "code",
   "execution_count": 13,
   "metadata": {
    "execution": {
     "iopub.execute_input": "2021-05-17T10:27:32.876680Z",
     "iopub.status.busy": "2021-05-17T10:27:32.875783Z",
     "iopub.status.idle": "2021-05-17T10:27:32.879559Z",
     "shell.execute_reply": "2021-05-17T10:27:32.880600Z"
    }
   },
   "outputs": [
    {
     "data": {
      "text/plain": [
       "      5AATAGTTGCACTATTGCTGT...AAAACAACAATTATCAGTAAAA3\n",
       "                              ||||||||||||||||||||||\n",
       "                             3TTTTGTTGTTAATAGTCATTTTaattaat5\n",
       "5ttaaatAATAGTTGCACTATTGCTGT3\n",
       "       ||||||||||||||||||||\n",
       "      3TTATCAACGTGATAACGACA...TTTTGTTGTTAATAGTCATTTT5"
      ]
     },
     "execution_count": 1,
     "metadata": {},
     "output_type": "execute_result"
    }
   ],
   "source": [
    "prd.figure()"
   ]
  },
  {
   "cell_type": "markdown",
   "metadata": {},
   "source": [
    "A suggested PCR program."
   ]
  },
  {
   "cell_type": "code",
   "execution_count": 14,
   "metadata": {
    "execution": {
     "iopub.execute_input": "2021-05-17T10:27:32.886128Z",
     "iopub.status.busy": "2021-05-17T10:27:32.885373Z",
     "iopub.status.idle": "2021-05-17T10:27:32.887942Z",
     "shell.execute_reply": "2021-05-17T10:27:32.888665Z"
    }
   },
   "outputs": [
    {
     "data": {
      "text/plain": [
       "|95°C|95°C               |    |tmf:56.3\n",
       "|____|_____          72°C|72°C|tmr:50.7\n",
       "|5min|30s  \\ 52.3°C _____|____|60s/kb\n",
       "|    |      \\______/ 0:47|5min|GC 37%\n",
       "|    |       30s         |    |787bp"
      ]
     },
     "execution_count": 1,
     "metadata": {},
     "output_type": "execute_result"
    }
   ],
   "source": [
    "prd.program()"
   ]
  },
  {
   "cell_type": "markdown",
   "metadata": {},
   "source": [
    "The final vectors are:"
   ]
  },
  {
   "cell_type": "code",
   "execution_count": 15,
   "metadata": {
    "execution": {
     "iopub.execute_input": "2021-05-17T10:27:32.949358Z",
     "iopub.status.busy": "2021-05-17T10:27:32.913436Z",
     "iopub.status.idle": "2021-05-17T10:27:33.400824Z",
     "shell.execute_reply": "2021-05-17T10:27:33.401388Z"
    }
   },
   "outputs": [],
   "source": [
    "pYPKa_Z_RPL42A = (pYPKa_ZraI  + prd).looped().synced(pYPKa)\n",
    "pYPKa_E_RPL42A = (pYPKa_EcoRV + prd).looped().synced(pYPKa)"
   ]
  },
  {
   "cell_type": "markdown",
   "metadata": {},
   "source": [
    "The final vectors with reverse inserts are created below. These vectors theoretically make up\n",
    "fifty percent of the clones. The PCR strategy outlined below can be used to identify clones with the insert\n",
    "in the correct orientation."
   ]
  },
  {
   "cell_type": "code",
   "execution_count": 16,
   "metadata": {
    "execution": {
     "iopub.execute_input": "2021-05-17T10:27:33.427525Z",
     "iopub.status.busy": "2021-05-17T10:27:33.427114Z",
     "iopub.status.idle": "2021-05-17T10:27:33.887728Z",
     "shell.execute_reply": "2021-05-17T10:27:33.887039Z"
    }
   },
   "outputs": [],
   "source": [
    "pYPKa_Z_RPL42Ab = (pYPKa_ZraI  + prd.rc()).looped().synced(pYPKa)\n",
    "pYPKa_E_RPL42Ab = (pYPKa_EcoRV + prd.rc()).looped().synced(pYPKa)"
   ]
  },
  {
   "cell_type": "markdown",
   "metadata": {},
   "source": [
    "A combination of yeast pathway kit standard primers and the primers above are\n",
    "used for the strategy to identify correct clones.\n",
    "Standard primers used in the yeast are listed [here](standard_primers.txt)."
   ]
  },
  {
   "cell_type": "code",
   "execution_count": 17,
   "metadata": {
    "execution": {
     "iopub.execute_input": "2021-05-17T10:27:33.892798Z",
     "iopub.status.busy": "2021-05-17T10:27:33.892285Z",
     "iopub.status.idle": "2021-05-17T10:27:33.895137Z",
     "shell.execute_reply": "2021-05-17T10:27:33.894428Z"
    }
   },
   "outputs": [],
   "source": [
    "p = { x.id: x for x in parse_primers(\"\"\">577\n",
    "                                         gttctgatcctcgagcatcttaagaattc\n",
    "                                         >578\n",
    "                                         gttcttgtctcattgccacattcataagt\n",
    "                                         >468\n",
    "                                         gtcgaggaacgccaggttgcccact\n",
    "                                         >467\n",
    "                                         ATTTAAatcctgatgcgtttgtctgcacaga\n",
    "                                         >567\n",
    "                                         GTcggctgcaggtcactagtgag\n",
    "                                         >568\n",
    "                                         GTGCcatctgtgcagacaaacg\n",
    "                                         >775\n",
    "                                         gcggccgctgacTTAAAT\n",
    "                                         >778\n",
    "                                         ggtaaatccggatTAATTAA\n",
    "                                         >342\n",
    "                                         CCTTTTTACGGTTCCTGGCCT\"\"\") }"
   ]
  },
  {
   "cell_type": "markdown",
   "metadata": {},
   "source": [
    "## Diagnostic PCR confirmation\n",
    "\n",
    "The correct structure of pYPKa_Z_RPL42A is confirmed by PCR using standard primers\n",
    "577 and 342 that are vector specific together with the RPL42Afw primer specific for the insert\n",
    "in a multiplex PCR reaction with\n",
    "all three primers present.\n",
    "\n",
    "Two PCR products are expected if the insert was cloned, the sizes depend\n",
    "on the orientation. If the vector is empty or contains another insert, only one\n",
    "product is formed.\n",
    "\n",
    "#### Expected PCR products sizes from pYPKa_Z_RPL42A:\n",
    "\n",
    "pYPKa_Z_RPL42A with insert in correct orientation."
   ]
  },
  {
   "cell_type": "code",
   "execution_count": 18,
   "metadata": {
    "execution": {
     "iopub.execute_input": "2021-05-17T10:27:33.909637Z",
     "iopub.status.busy": "2021-05-17T10:27:33.909035Z",
     "iopub.status.idle": "2021-05-17T10:27:33.911634Z",
     "shell.execute_reply": "2021-05-17T10:27:33.912046Z"
    }
   },
   "outputs": [
    {
     "data": {
      "text/plain": [
       "[Amplicon(1721), Amplicon(1553)]"
      ]
     },
     "execution_count": 1,
     "metadata": {},
     "output_type": "execute_result"
    }
   ],
   "source": [
    "Anneal( (p['577'], p['342'], fp), pYPKa_Z_RPL42A).products"
   ]
  },
  {
   "cell_type": "markdown",
   "metadata": {},
   "source": [
    "pYPKa_Z_RPL42A with insert in reverse orientation."
   ]
  },
  {
   "cell_type": "code",
   "execution_count": 19,
   "metadata": {
    "execution": {
     "iopub.execute_input": "2021-05-17T10:27:33.924486Z",
     "iopub.status.busy": "2021-05-17T10:27:33.923947Z",
     "iopub.status.idle": "2021-05-17T10:27:33.926457Z",
     "shell.execute_reply": "2021-05-17T10:27:33.926871Z"
    }
   },
   "outputs": [
    {
     "data": {
      "text/plain": [
       "[Amplicon(1721), Amplicon(955)]"
      ]
     },
     "execution_count": 1,
     "metadata": {},
     "output_type": "execute_result"
    }
   ],
   "source": [
    "Anneal( (p['577'], p['342'], fp), pYPKa_Z_RPL42Ab).products"
   ]
  },
  {
   "cell_type": "markdown",
   "metadata": {},
   "source": [
    "Empty pYPKa clone."
   ]
  },
  {
   "cell_type": "code",
   "execution_count": 20,
   "metadata": {
    "execution": {
     "iopub.execute_input": "2021-05-17T10:27:33.936930Z",
     "iopub.status.busy": "2021-05-17T10:27:33.936218Z",
     "iopub.status.idle": "2021-05-17T10:27:33.939406Z",
     "shell.execute_reply": "2021-05-17T10:27:33.939971Z"
    }
   },
   "outputs": [
    {
     "data": {
      "text/plain": [
       "[Amplicon(934)]"
      ]
     },
     "execution_count": 1,
     "metadata": {},
     "output_type": "execute_result"
    }
   ],
   "source": [
    "Anneal( (p['577'], p['342'], fp), pYPKa).products"
   ]
  },
  {
   "cell_type": "markdown",
   "metadata": {},
   "source": [
    "#### Expected PCR products sizes pYPKa_E_RPL42A:\n",
    "\n",
    "pYPKa_E_RPL42A with insert in correct orientation."
   ]
  },
  {
   "cell_type": "code",
   "execution_count": 21,
   "metadata": {
    "execution": {
     "iopub.execute_input": "2021-05-17T10:27:33.952206Z",
     "iopub.status.busy": "2021-05-17T10:27:33.951534Z",
     "iopub.status.idle": "2021-05-17T10:27:33.954465Z",
     "shell.execute_reply": "2021-05-17T10:27:33.954005Z"
    }
   },
   "outputs": [
    {
     "data": {
      "text/plain": [
       "[Amplicon(1721), Amplicon(1472)]"
      ]
     },
     "execution_count": 1,
     "metadata": {},
     "output_type": "execute_result"
    }
   ],
   "source": [
    "Anneal( (p['577'], p['342'], fp), pYPKa_E_RPL42A).products"
   ]
  },
  {
   "cell_type": "markdown",
   "metadata": {},
   "source": [
    "pYPKa_E_RPL42A with insert in reverse orientation."
   ]
  },
  {
   "cell_type": "code",
   "execution_count": 22,
   "metadata": {
    "execution": {
     "iopub.execute_input": "2021-05-17T10:27:33.964923Z",
     "iopub.status.busy": "2021-05-17T10:27:33.964270Z",
     "iopub.status.idle": "2021-05-17T10:27:33.967320Z",
     "shell.execute_reply": "2021-05-17T10:27:33.966832Z"
    }
   },
   "outputs": [
    {
     "data": {
      "text/plain": [
       "[Amplicon(1721), Amplicon(1036)]"
      ]
     },
     "execution_count": 1,
     "metadata": {},
     "output_type": "execute_result"
    }
   ],
   "source": [
    "Anneal( (p['577'], p['342'], fp), pYPKa_E_RPL42Ab).products\n"
   ]
  },
  {
   "cell_type": "markdown",
   "metadata": {},
   "source": [
    "Calculate cseguid checksums for the resulting plasmids for future reference.\n",
    "This checksum that uniquely describes a circular double stranded\n",
    "sequence. See this [blog post](https://ochsavidare.blogspot.com/2016/02/checksum-for-circular-biological.html) for more info.\n",
    "\n",
    "pYPKa_Z_RPL42A.cseguid() should be d7bzINHWhJtKf395L6Y8WmzkRmI"
   ]
  },
  {
   "cell_type": "code",
   "execution_count": 23,
   "metadata": {
    "execution": {
     "iopub.execute_input": "2021-05-17T10:27:33.976363Z",
     "iopub.status.busy": "2021-05-17T10:27:33.973069Z",
     "iopub.status.idle": "2021-05-17T10:27:33.979222Z",
     "shell.execute_reply": "2021-05-17T10:27:33.978712Z"
    }
   },
   "outputs": [
    {
     "name": "stdout",
     "output_type": "stream",
     "text": [
      "d7bzINHWhJtKf395L6Y8WmzkRmI\n"
     ]
    }
   ],
   "source": [
    "print(pYPKa_Z_RPL42A.cseguid())\n",
    "assert pYPKa_Z_RPL42A.cseguid() == \"d7bzINHWhJtKf395L6Y8WmzkRmI\""
   ]
  },
  {
   "cell_type": "markdown",
   "metadata": {},
   "source": [
    "pYPKa_E_RPL42A.cseguid() should be zXls1oPCDkY6fO7QYi4TGbgyVvM"
   ]
  },
  {
   "cell_type": "code",
   "execution_count": 24,
   "metadata": {
    "execution": {
     "iopub.execute_input": "2021-05-17T10:27:33.990685Z",
     "iopub.status.busy": "2021-05-17T10:27:33.990178Z",
     "iopub.status.idle": "2021-05-17T10:27:33.992523Z",
     "shell.execute_reply": "2021-05-17T10:27:33.992938Z"
    }
   },
   "outputs": [
    {
     "name": "stdout",
     "output_type": "stream",
     "text": [
      "zXls1oPCDkY6fO7QYi4TGbgyVvM\n"
     ]
    }
   ],
   "source": [
    "print(pYPKa_E_RPL42A.cseguid())\n",
    "assert pYPKa_E_RPL42A.cseguid() == \"zXls1oPCDkY6fO7QYi4TGbgyVvM\""
   ]
  },
  {
   "cell_type": "markdown",
   "metadata": {},
   "source": [
    "The sequences are named based on the name of the cloned insert."
   ]
  },
  {
   "cell_type": "code",
   "execution_count": 25,
   "metadata": {
    "execution": {
     "iopub.execute_input": "2021-05-17T10:27:33.996290Z",
     "iopub.status.busy": "2021-05-17T10:27:33.995847Z",
     "iopub.status.idle": "2021-05-17T10:27:33.998145Z",
     "shell.execute_reply": "2021-05-17T10:27:33.997639Z"
    }
   },
   "outputs": [],
   "source": [
    "pYPKa_Z_RPL42A.locus = \"pYPKa_Z_RPL42A\"[:16]\n",
    "pYPKa_E_RPL42A.locus = \"pYPKa_Z_RPL42A\"[:16]"
   ]
  },
  {
   "cell_type": "markdown",
   "metadata": {},
   "source": [
    "Stamp sequence with cseguid checksum. This can be used to verify the\n",
    "integrity of the sequence file."
   ]
  },
  {
   "cell_type": "code",
   "execution_count": 26,
   "metadata": {
    "execution": {
     "iopub.execute_input": "2021-05-17T10:27:34.012005Z",
     "iopub.status.busy": "2021-05-17T10:27:34.011342Z",
     "iopub.status.idle": "2021-05-17T10:27:34.013698Z",
     "shell.execute_reply": "2021-05-17T10:27:34.014109Z"
    }
   },
   "outputs": [
    {
     "data": {
      "text/plain": [
       "cSEGUID_zXls1oPCDkY6fO7QYi4TGbgyVvM"
      ]
     },
     "execution_count": 1,
     "metadata": {},
     "output_type": "execute_result"
    }
   ],
   "source": [
    "pYPKa_Z_RPL42A.stamp()\n",
    "pYPKa_E_RPL42A.stamp()"
   ]
  },
  {
   "cell_type": "markdown",
   "metadata": {},
   "source": [
    "pYPKa_Z_RPL42A is written to a local file:"
   ]
  },
  {
   "cell_type": "code",
   "execution_count": 27,
   "metadata": {
    "execution": {
     "iopub.execute_input": "2021-05-17T10:27:34.022044Z",
     "iopub.status.busy": "2021-05-17T10:27:34.021285Z",
     "iopub.status.idle": "2021-05-17T10:27:34.025695Z",
     "shell.execute_reply": "2021-05-17T10:27:34.026204Z"
    }
   },
   "outputs": [
    {
     "data": {
      "text/html": [
       "<font face=monospace><a href='pYPKa_Z_RPL42A.gb' target='_blank'>pYPKa_Z_RPL42A.gb</a></font><br>"
      ]
     },
     "metadata": {},
     "output_type": "display_data"
    }
   ],
   "source": [
    "pYPKa_Z_RPL42A.write(\"pYPKa_Z_RPL42A.gb\")"
   ]
  },
  {
   "cell_type": "markdown",
   "metadata": {},
   "source": [
    "pYPKa_E_RPL42A is written to a local file:"
   ]
  },
  {
   "cell_type": "code",
   "execution_count": 28,
   "metadata": {
    "execution": {
     "iopub.execute_input": "2021-05-17T10:27:34.034229Z",
     "iopub.status.busy": "2021-05-17T10:27:34.033311Z",
     "iopub.status.idle": "2021-05-17T10:27:34.037939Z",
     "shell.execute_reply": "2021-05-17T10:27:34.037356Z"
    }
   },
   "outputs": [
    {
     "data": {
      "text/html": [
       "<font face=monospace><a href='pYPKa_E_RPL42A.gb' target='_blank'>pYPKa_E_RPL42A.gb</a></font><br>"
      ]
     },
     "metadata": {},
     "output_type": "display_data"
    }
   ],
   "source": [
    "pYPKa_E_RPL42A.write(\"pYPKa_E_RPL42A.gb\")"
   ]
  }
 ],
 "metadata": {
  "language_info": {
   "codemirror_mode": {
    "name": "ipython",
    "version": 3
   },
   "file_extension": ".py",
   "mimetype": "text/x-python",
   "name": "python",
   "nbconvert_exporter": "python",
   "pygments_lexer": "ipython3",
   "version": "3.9.0"
  }
 },
 "nbformat": 4,
 "nbformat_minor": 2
}
