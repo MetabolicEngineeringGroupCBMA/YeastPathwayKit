{
 "cells": [
  {
   "cell_type": "markdown",
   "metadata": {},
   "source": [
    "# pYPKa_Z_RHO1 and pYPKa_E_RHO1\n",
    "\n",
    "This Jupyter notebook describe the construction of E. coli vectors [pYPKa_Z_RHO1](pYPKa_Z_RHO1.gb) and [pYPKa_E_RHO1](pYPKa_E_RHO1.gb). \n",
    "These two vectors share backbone and insert, but in the former, the insert is cloned using the restriction\n",
    "enzyme [ZraI](http://rebase.neb.com/rebase/enz/ZraI.html) while in the latter [EcoRV](http://rebase.neb.com/rebase/enz/EcoRV.html) is used.\n",
    "\n",
    "The insert cloned in ZraI is meant to function as a promoter, while in the EcoRV site it is meant to be  used as a terminator.\n",
    "\n",
    "Links to the sequence of each vector in Genbank format can be found at the bottom of this document.\n",
    "\n",
    "![pYPKa_Z and pYPKa_E](figure_pYPKa_ZE.png \"pYPKa_Z or pYPKa_E plasmid\")\n",
    "\n",
    "The Python package [pydna](https://pypi.python.org/pypi/pydna/) package is imported in the code cell below to provide \n",
    "the cloning functionality. There is a [publication](http://www.biomedcentral.com/1471-2105/16/142) describing pydna as well as\n",
    "[documentation](http://pydna.readthedocs.io/) available online. Pydna is developed on [Github](https://github.com/BjornFJohansson/pydna)."
   ]
  },
  {
   "cell_type": "code",
   "execution_count": 1,
   "metadata": {
    "execution": {
     "iopub.execute_input": "2021-05-17T10:26:07.719694Z",
     "iopub.status.busy": "2021-05-17T10:26:07.719211Z",
     "iopub.status.idle": "2021-05-17T10:26:08.237687Z",
     "shell.execute_reply": "2021-05-17T10:26:08.237023Z"
    }
   },
   "outputs": [],
   "source": [
    "from pydna.readers import read\n",
    "from pydna.parsers import parse_primers\n",
    "from pydna.genbank import Genbank\n",
    "from pydna.amplify import pcr\n",
    "from pydna.amplify import Anneal"
   ]
  },
  {
   "cell_type": "markdown",
   "metadata": {},
   "source": [
    "The vector backbone pYPKa is read from a local [file](pYPKa.gb)."
   ]
  },
  {
   "cell_type": "code",
   "execution_count": 2,
   "metadata": {
    "execution": {
     "iopub.execute_input": "2021-05-17T10:26:08.247256Z",
     "iopub.status.busy": "2021-05-17T10:26:08.245739Z",
     "iopub.status.idle": "2021-05-17T10:26:08.255934Z",
     "shell.execute_reply": "2021-05-17T10:26:08.255369Z"
    }
   },
   "outputs": [],
   "source": [
    "pYPKa = read(\"pYPKa.gb\")"
   ]
  },
  {
   "cell_type": "markdown",
   "metadata": {},
   "source": [
    "Both restriction enzymes are imported from [Biopython](http://biopython.org/wiki/Main_Page)"
   ]
  },
  {
   "cell_type": "code",
   "execution_count": 3,
   "metadata": {
    "execution": {
     "iopub.execute_input": "2021-05-17T10:26:08.259553Z",
     "iopub.status.busy": "2021-05-17T10:26:08.259022Z",
     "iopub.status.idle": "2021-05-17T10:26:08.260822Z",
     "shell.execute_reply": "2021-05-17T10:26:08.261295Z"
    }
   },
   "outputs": [],
   "source": [
    "from Bio.Restriction import ZraI, EcoRV"
   ]
  },
  {
   "cell_type": "markdown",
   "metadata": {},
   "source": [
    "The vector is cut with both enzymes."
   ]
  },
  {
   "cell_type": "code",
   "execution_count": 4,
   "metadata": {
    "execution": {
     "iopub.execute_input": "2021-05-17T10:26:08.270701Z",
     "iopub.status.busy": "2021-05-17T10:26:08.269827Z",
     "iopub.status.idle": "2021-05-17T10:26:08.272945Z",
     "shell.execute_reply": "2021-05-17T10:26:08.273616Z"
    }
   },
   "outputs": [],
   "source": [
    "pYPKa_ZraI  = pYPKa.linearize(ZraI)\n",
    "pYPKa_EcoRV = pYPKa.linearize(EcoRV)"
   ]
  },
  {
   "cell_type": "markdown",
   "metadata": {},
   "source": [
    "The template below comes from a Genbank [record](http://www.ncbi.nlm.nih.gov/nuccore/BK006949.2).\n",
    "Access to Genbank is needed in order to download the template.\n",
    "If you execute this script, change the email address below to your own.\n",
    "Always tell Genbank who you are, when using their web service."
   ]
  },
  {
   "cell_type": "code",
   "execution_count": 5,
   "metadata": {
    "execution": {
     "iopub.execute_input": "2021-05-17T10:26:08.278505Z",
     "iopub.status.busy": "2021-05-17T10:26:08.277904Z",
     "iopub.status.idle": "2021-05-17T10:26:08.280160Z",
     "shell.execute_reply": "2021-05-17T10:26:08.280723Z"
    }
   },
   "outputs": [],
   "source": [
    "gb = Genbank(\"bjornjobb@gmail.com\")"
   ]
  },
  {
   "cell_type": "markdown",
   "metadata": {},
   "source": [
    "The template is downloaded from Genbank below."
   ]
  },
  {
   "cell_type": "code",
   "execution_count": 6,
   "metadata": {
    "execution": {
     "iopub.execute_input": "2021-05-17T10:26:08.285477Z",
     "iopub.status.busy": "2021-05-17T10:26:08.284748Z",
     "iopub.status.idle": "2021-05-17T10:26:08.293878Z",
     "shell.execute_reply": "2021-05-17T10:26:08.294408Z"
    }
   },
   "outputs": [],
   "source": [
    "template = gb.nucleotide(\"BK006949.2 REGION: 874927..875367\")"
   ]
  },
  {
   "cell_type": "markdown",
   "metadata": {},
   "source": [
    "The template is a 441 bp linear DNA fragment."
   ]
  },
  {
   "cell_type": "code",
   "execution_count": 7,
   "metadata": {
    "execution": {
     "iopub.execute_input": "2021-05-17T10:26:08.304189Z",
     "iopub.status.busy": "2021-05-17T10:26:08.303454Z",
     "iopub.status.idle": "2021-05-17T10:26:08.306575Z",
     "shell.execute_reply": "2021-05-17T10:26:08.307095Z"
    }
   },
   "outputs": [
    {
     "data": {
      "text/html": [
       "<a href='https://www.ncbi.nlm.nih.gov/nuccore/BK006949.2 ?from=874927&to=875367&strand=1' target='_blank'>BK006949.2  874927-875367</a>"
      ],
      "text/plain": [
       "Gbank(BK006949.2  874927-875367)(-441)"
      ]
     },
     "execution_count": 1,
     "metadata": {},
     "output_type": "execute_result"
    }
   ],
   "source": [
    "template"
   ]
  },
  {
   "cell_type": "markdown",
   "metadata": {},
   "source": [
    "The insert has the sequence shown below."
   ]
  },
  {
   "cell_type": "code",
   "execution_count": 8,
   "metadata": {
    "execution": {
     "iopub.execute_input": "2021-05-17T10:26:08.311416Z",
     "iopub.status.busy": "2021-05-17T10:26:08.310683Z",
     "iopub.status.idle": "2021-05-17T10:26:08.313989Z",
     "shell.execute_reply": "2021-05-17T10:26:08.313440Z"
    }
   },
   "outputs": [
    {
     "name": "stdout",
     "output_type": "stream",
     "text": [
      "TTCCCTCATTTCCAATAACATTGTCGCTGATAAAATCGTGATTCTCGATCAATGTGCTACGCGTCGTGCAGCGTGACAAGGGGCTAAAAAAAGATACAAGAATTCTTGTTGTTTCCAATTTGCTTCGCCTCAGAAAAAAAAATAAACAGATTATACAATTTTTGTTTGATTTGTATTGGGTACTACATGTTTTAGTAGTTGATACAAATACTTCTTTATCCTAATCGTATATATTTATTTTACCAGCAGGAATTCGTCTTTAATATCGTTTCGACCATCGATCATTCCTCTGAGTATTGCAAAAACATTTTTGGAACAACCCAAACTTAAAGTTACAAAACTCAAAAAAGGAACAAAATTAATAAAACAAAAGAATCGCTGTTAGAGGTTTATTGTTGCACTAATAGAAAATCATAGAACTTTAAAAATTATACTAGAAAG\n"
     ]
    }
   ],
   "source": [
    "print(str(template.seq))"
   ]
  },
  {
   "cell_type": "markdown",
   "metadata": {},
   "source": [
    "The seguid checksum of the template should be\n",
    "\n",
    "```Ic9BUFS8uaIuL-NTf9713tFqwHM```"
   ]
  },
  {
   "cell_type": "code",
   "execution_count": 9,
   "metadata": {
    "execution": {
     "iopub.execute_input": "2021-05-17T10:26:08.318038Z",
     "iopub.status.busy": "2021-05-17T10:26:08.317349Z",
     "iopub.status.idle": "2021-05-17T10:26:08.320360Z",
     "shell.execute_reply": "2021-05-17T10:26:08.320899Z"
    }
   },
   "outputs": [
    {
     "data": {
      "text/plain": [
       "Ic9BUFS8uaIuL-NTf9713tFqwHM"
      ]
     },
     "execution_count": 1,
     "metadata": {},
     "output_type": "execute_result"
    }
   ],
   "source": [
    "template.seguid()"
   ]
  },
  {
   "cell_type": "markdown",
   "metadata": {},
   "source": [
    "Two primers are used to amplify the insert:"
   ]
  },
  {
   "cell_type": "code",
   "execution_count": 10,
   "metadata": {
    "execution": {
     "iopub.execute_input": "2021-05-17T10:26:08.325486Z",
     "iopub.status.busy": "2021-05-17T10:26:08.324755Z",
     "iopub.status.idle": "2021-05-17T10:26:08.327896Z",
     "shell.execute_reply": "2021-05-17T10:26:08.328702Z"
    }
   },
   "outputs": [],
   "source": [
    "fp,rp = parse_primers(\"\"\">998_fw441\n",
    "                         ttaaatTTCCCTCATTTCCAAT\n",
    "                         >997_rv441\n",
    "                         taattaaCTTTCTAGTATAATTTTTAAAG\"\"\")"
   ]
  },
  {
   "cell_type": "markdown",
   "metadata": {},
   "source": [
    "PCR to create the insert using the primers above."
   ]
  },
  {
   "cell_type": "code",
   "execution_count": 11,
   "metadata": {
    "execution": {
     "iopub.execute_input": "2021-05-17T10:26:08.335170Z",
     "iopub.status.busy": "2021-05-17T10:26:08.334564Z",
     "iopub.status.idle": "2021-05-17T10:26:08.339712Z",
     "shell.execute_reply": "2021-05-17T10:26:08.339117Z"
    }
   },
   "outputs": [],
   "source": [
    "prd = pcr(fp, rp, template)\n",
    "assert str(fp.seq) in prd"
   ]
  },
  {
   "cell_type": "markdown",
   "metadata": {},
   "source": [
    "The PCR product has this length in bp."
   ]
  },
  {
   "cell_type": "code",
   "execution_count": 12,
   "metadata": {
    "execution": {
     "iopub.execute_input": "2021-05-17T10:26:08.344040Z",
     "iopub.status.busy": "2021-05-17T10:26:08.343378Z",
     "iopub.status.idle": "2021-05-17T10:26:08.346510Z",
     "shell.execute_reply": "2021-05-17T10:26:08.347100Z"
    }
   },
   "outputs": [
    {
     "data": {
      "text/plain": [
       "454"
      ]
     },
     "execution_count": 1,
     "metadata": {},
     "output_type": "execute_result"
    }
   ],
   "source": [
    "len(prd)"
   ]
  },
  {
   "cell_type": "markdown",
   "metadata": {},
   "source": [
    "A figure of the primers annealing on template."
   ]
  },
  {
   "cell_type": "code",
   "execution_count": 13,
   "metadata": {
    "execution": {
     "iopub.execute_input": "2021-05-17T10:26:08.351950Z",
     "iopub.status.busy": "2021-05-17T10:26:08.351172Z",
     "iopub.status.idle": "2021-05-17T10:26:08.354612Z",
     "shell.execute_reply": "2021-05-17T10:26:08.355233Z"
    }
   },
   "outputs": [
    {
     "data": {
      "text/plain": [
       "      5TTCCCTCATTTCCAAT...CTTTAAAAATTATACTAGAAAG3\n",
       "                          ||||||||||||||||||||||\n",
       "                         3GAAATTTTTAATATGATCTTTCaattaat5\n",
       "5ttaaatTTCCCTCATTTCCAAT3\n",
       "       ||||||||||||||||\n",
       "      3AAGGGAGTAAAGGTTA...GAAATTTTTAATATGATCTTTC5"
      ]
     },
     "execution_count": 1,
     "metadata": {},
     "output_type": "execute_result"
    }
   ],
   "source": [
    "prd.figure()"
   ]
  },
  {
   "cell_type": "markdown",
   "metadata": {},
   "source": [
    "A suggested PCR program."
   ]
  },
  {
   "cell_type": "code",
   "execution_count": 14,
   "metadata": {
    "execution": {
     "iopub.execute_input": "2021-05-17T10:26:08.361088Z",
     "iopub.status.busy": "2021-05-17T10:26:08.359808Z",
     "iopub.status.idle": "2021-05-17T10:26:08.363855Z",
     "shell.execute_reply": "2021-05-17T10:26:08.363392Z"
    }
   },
   "outputs": [
    {
     "data": {
      "text/plain": [
       "|95°C|95°C               |    |tmf:51.2\n",
       "|____|_____          72°C|72°C|tmr:47.4\n",
       "|5min|30s  \\ 48.9°C _____|____|60s/kb\n",
       "|    |      \\______/ 0:27|5min|GC 30%\n",
       "|    |       30s         |    |454bp"
      ]
     },
     "execution_count": 1,
     "metadata": {},
     "output_type": "execute_result"
    }
   ],
   "source": [
    "prd.program()"
   ]
  },
  {
   "cell_type": "markdown",
   "metadata": {},
   "source": [
    "The final vectors are:"
   ]
  },
  {
   "cell_type": "code",
   "execution_count": 15,
   "metadata": {
    "execution": {
     "iopub.execute_input": "2021-05-17T10:26:08.392598Z",
     "iopub.status.busy": "2021-05-17T10:26:08.391952Z",
     "iopub.status.idle": "2021-05-17T10:26:08.844138Z",
     "shell.execute_reply": "2021-05-17T10:26:08.843601Z"
    }
   },
   "outputs": [],
   "source": [
    "pYPKa_Z_RHO1 = (pYPKa_ZraI  + prd).looped().synced(pYPKa)\n",
    "pYPKa_E_RHO1 = (pYPKa_EcoRV + prd).looped().synced(pYPKa)"
   ]
  },
  {
   "cell_type": "markdown",
   "metadata": {},
   "source": [
    "The final vectors with reverse inserts are created below. These vectors theoretically make up\n",
    "fifty percent of the clones. The PCR strategy outlined below can be used to identify clones with the insert\n",
    "in the correct orientation."
   ]
  },
  {
   "cell_type": "code",
   "execution_count": 16,
   "metadata": {
    "execution": {
     "iopub.execute_input": "2021-05-17T10:26:08.856568Z",
     "iopub.status.busy": "2021-05-17T10:26:08.851607Z",
     "iopub.status.idle": "2021-05-17T10:26:09.303955Z",
     "shell.execute_reply": "2021-05-17T10:26:09.303413Z"
    }
   },
   "outputs": [],
   "source": [
    "pYPKa_Z_RHO1b = (pYPKa_ZraI  + prd.rc()).looped().synced(pYPKa)\n",
    "pYPKa_E_RHO1b = (pYPKa_EcoRV + prd.rc()).looped().synced(pYPKa)"
   ]
  },
  {
   "cell_type": "markdown",
   "metadata": {},
   "source": [
    "A combination of yeast pathway kit standard primers and the primers above are\n",
    "used for the strategy to identify correct clones.\n",
    "Standard primers used in the yeast are listed [here](standard_primers.txt)."
   ]
  },
  {
   "cell_type": "code",
   "execution_count": 17,
   "metadata": {
    "execution": {
     "iopub.execute_input": "2021-05-17T10:26:09.309499Z",
     "iopub.status.busy": "2021-05-17T10:26:09.308793Z",
     "iopub.status.idle": "2021-05-17T10:26:09.311058Z",
     "shell.execute_reply": "2021-05-17T10:26:09.310611Z"
    }
   },
   "outputs": [],
   "source": [
    "p = { x.id: x for x in parse_primers(\"\"\">577\n",
    "                                         gttctgatcctcgagcatcttaagaattc\n",
    "                                         >578\n",
    "                                         gttcttgtctcattgccacattcataagt\n",
    "                                         >468\n",
    "                                         gtcgaggaacgccaggttgcccact\n",
    "                                         >467\n",
    "                                         ATTTAAatcctgatgcgtttgtctgcacaga\n",
    "                                         >567\n",
    "                                         GTcggctgcaggtcactagtgag\n",
    "                                         >568\n",
    "                                         GTGCcatctgtgcagacaaacg\n",
    "                                         >775\n",
    "                                         gcggccgctgacTTAAAT\n",
    "                                         >778\n",
    "                                         ggtaaatccggatTAATTAA\n",
    "                                         >342\n",
    "                                         CCTTTTTACGGTTCCTGGCCT\"\"\") }"
   ]
  },
  {
   "cell_type": "markdown",
   "metadata": {},
   "source": [
    "## Diagnostic PCR confirmation\n",
    "\n",
    "The correct structure of pYPKa_Z_RHO1 is confirmed by PCR using standard primers\n",
    "577 and 342 that are vector specific together with the RHO1fw primer specific for the insert\n",
    "in a multiplex PCR reaction with\n",
    "all three primers present.\n",
    "\n",
    "Two PCR products are expected if the insert was cloned, the sizes depend\n",
    "on the orientation. If the vector is empty or contains another insert, only one\n",
    "product is formed.\n",
    "\n",
    "#### Expected PCR products sizes from pYPKa_Z_RHO1:\n",
    "\n",
    "pYPKa_Z_RHO1 with insert in correct orientation."
   ]
  },
  {
   "cell_type": "code",
   "execution_count": 18,
   "metadata": {
    "execution": {
     "iopub.execute_input": "2021-05-17T10:26:09.325112Z",
     "iopub.status.busy": "2021-05-17T10:26:09.324435Z",
     "iopub.status.idle": "2021-05-17T10:26:09.327660Z",
     "shell.execute_reply": "2021-05-17T10:26:09.327174Z"
    }
   },
   "outputs": [
    {
     "data": {
      "text/plain": [
       "[Amplicon(1388), Amplicon(1220)]"
      ]
     },
     "execution_count": 1,
     "metadata": {},
     "output_type": "execute_result"
    }
   ],
   "source": [
    "Anneal( (p['577'], p['342'], fp), pYPKa_Z_RHO1).products"
   ]
  },
  {
   "cell_type": "markdown",
   "metadata": {},
   "source": [
    "pYPKa_Z_RHO1 with insert in reverse orientation."
   ]
  },
  {
   "cell_type": "code",
   "execution_count": 19,
   "metadata": {
    "execution": {
     "iopub.execute_input": "2021-05-17T10:26:09.340271Z",
     "iopub.status.busy": "2021-05-17T10:26:09.339369Z",
     "iopub.status.idle": "2021-05-17T10:26:09.342864Z",
     "shell.execute_reply": "2021-05-17T10:26:09.343389Z"
    }
   },
   "outputs": [
    {
     "data": {
      "text/plain": [
       "[Amplicon(1388), Amplicon(622)]"
      ]
     },
     "execution_count": 1,
     "metadata": {},
     "output_type": "execute_result"
    }
   ],
   "source": [
    "Anneal( (p['577'], p['342'], fp), pYPKa_Z_RHO1b).products"
   ]
  },
  {
   "cell_type": "markdown",
   "metadata": {},
   "source": [
    "Empty pYPKa clone."
   ]
  },
  {
   "cell_type": "code",
   "execution_count": 20,
   "metadata": {
    "execution": {
     "iopub.execute_input": "2021-05-17T10:26:09.350622Z",
     "iopub.status.busy": "2021-05-17T10:26:09.349998Z",
     "iopub.status.idle": "2021-05-17T10:26:09.353311Z",
     "shell.execute_reply": "2021-05-17T10:26:09.352709Z"
    }
   },
   "outputs": [
    {
     "data": {
      "text/plain": [
       "[Amplicon(934)]"
      ]
     },
     "execution_count": 1,
     "metadata": {},
     "output_type": "execute_result"
    }
   ],
   "source": [
    "Anneal( (p['577'], p['342'], fp), pYPKa).products"
   ]
  },
  {
   "cell_type": "markdown",
   "metadata": {},
   "source": [
    "#### Expected PCR products sizes pYPKa_E_RHO1:\n",
    "\n",
    "pYPKa_E_RHO1 with insert in correct orientation."
   ]
  },
  {
   "cell_type": "code",
   "execution_count": 21,
   "metadata": {
    "execution": {
     "iopub.execute_input": "2021-05-17T10:26:09.366114Z",
     "iopub.status.busy": "2021-05-17T10:26:09.365458Z",
     "iopub.status.idle": "2021-05-17T10:26:09.368668Z",
     "shell.execute_reply": "2021-05-17T10:26:09.368184Z"
    }
   },
   "outputs": [
    {
     "data": {
      "text/plain": [
       "[Amplicon(1388), Amplicon(1139)]"
      ]
     },
     "execution_count": 1,
     "metadata": {},
     "output_type": "execute_result"
    }
   ],
   "source": [
    "Anneal( (p['577'], p['342'], fp), pYPKa_E_RHO1).products"
   ]
  },
  {
   "cell_type": "markdown",
   "metadata": {},
   "source": [
    "pYPKa_E_RHO1 with insert in reverse orientation."
   ]
  },
  {
   "cell_type": "code",
   "execution_count": 22,
   "metadata": {
    "execution": {
     "iopub.execute_input": "2021-05-17T10:26:09.378675Z",
     "iopub.status.busy": "2021-05-17T10:26:09.378081Z",
     "iopub.status.idle": "2021-05-17T10:26:09.381500Z",
     "shell.execute_reply": "2021-05-17T10:26:09.380784Z"
    }
   },
   "outputs": [
    {
     "data": {
      "text/plain": [
       "[Amplicon(1388), Amplicon(703)]"
      ]
     },
     "execution_count": 1,
     "metadata": {},
     "output_type": "execute_result"
    }
   ],
   "source": [
    "Anneal( (p['577'], p['342'], fp), pYPKa_E_RHO1b).products\n"
   ]
  },
  {
   "cell_type": "markdown",
   "metadata": {},
   "source": [
    "Calculate cseguid checksums for the resulting plasmids for future reference.\n",
    "This checksum that uniquely describes a circular double stranded\n",
    "sequence. See this [blog post](https://ochsavidare.blogspot.com/2016/02/checksum-for-circular-biological.html) for more info.\n",
    "\n",
    "pYPKa_Z_RHO1.cseguid() should be INzvAOmApXEQefy1gerQhP5Ripo"
   ]
  },
  {
   "cell_type": "code",
   "execution_count": 23,
   "metadata": {
    "execution": {
     "iopub.execute_input": "2021-05-17T10:26:09.390606Z",
     "iopub.status.busy": "2021-05-17T10:26:09.390147Z",
     "iopub.status.idle": "2021-05-17T10:26:09.392488Z",
     "shell.execute_reply": "2021-05-17T10:26:09.392905Z"
    }
   },
   "outputs": [
    {
     "name": "stdout",
     "output_type": "stream",
     "text": [
      "INzvAOmApXEQefy1gerQhP5Ripo\n"
     ]
    }
   ],
   "source": [
    "print(pYPKa_Z_RHO1.cseguid())\n",
    "assert pYPKa_Z_RHO1.cseguid() == \"INzvAOmApXEQefy1gerQhP5Ripo\""
   ]
  },
  {
   "cell_type": "markdown",
   "metadata": {},
   "source": [
    "pYPKa_E_RHO1.cseguid() should be bqo-nGPDNlrQ3PHsaYQqkFqNVoU"
   ]
  },
  {
   "cell_type": "code",
   "execution_count": 24,
   "metadata": {
    "execution": {
     "iopub.execute_input": "2021-05-17T10:26:09.401617Z",
     "iopub.status.busy": "2021-05-17T10:26:09.401144Z",
     "iopub.status.idle": "2021-05-17T10:26:09.403301Z",
     "shell.execute_reply": "2021-05-17T10:26:09.403730Z"
    }
   },
   "outputs": [
    {
     "name": "stdout",
     "output_type": "stream",
     "text": [
      "bqo-nGPDNlrQ3PHsaYQqkFqNVoU\n"
     ]
    }
   ],
   "source": [
    "print(pYPKa_E_RHO1.cseguid())\n",
    "assert pYPKa_E_RHO1.cseguid() == \"bqo-nGPDNlrQ3PHsaYQqkFqNVoU\""
   ]
  },
  {
   "cell_type": "markdown",
   "metadata": {},
   "source": [
    "The sequences are named based on the name of the cloned insert."
   ]
  },
  {
   "cell_type": "code",
   "execution_count": 25,
   "metadata": {
    "execution": {
     "iopub.execute_input": "2021-05-17T10:26:09.406993Z",
     "iopub.status.busy": "2021-05-17T10:26:09.406549Z",
     "iopub.status.idle": "2021-05-17T10:26:09.408255Z",
     "shell.execute_reply": "2021-05-17T10:26:09.408740Z"
    }
   },
   "outputs": [],
   "source": [
    "pYPKa_Z_RHO1.locus = \"pYPKa_Z_RHO1\"[:16]\n",
    "pYPKa_E_RHO1.locus = \"pYPKa_Z_RHO1\"[:16]"
   ]
  },
  {
   "cell_type": "markdown",
   "metadata": {},
   "source": [
    "Stamp sequence with cseguid checksum. This can be used to verify the\n",
    "integrity of the sequence file."
   ]
  },
  {
   "cell_type": "code",
   "execution_count": 26,
   "metadata": {
    "execution": {
     "iopub.execute_input": "2021-05-17T10:26:09.419904Z",
     "iopub.status.busy": "2021-05-17T10:26:09.418955Z",
     "iopub.status.idle": "2021-05-17T10:26:09.422879Z",
     "shell.execute_reply": "2021-05-17T10:26:09.422282Z"
    }
   },
   "outputs": [
    {
     "data": {
      "text/plain": [
       "cSEGUID_bqo-nGPDNlrQ3PHsaYQqkFqNVoU"
      ]
     },
     "execution_count": 1,
     "metadata": {},
     "output_type": "execute_result"
    }
   ],
   "source": [
    "pYPKa_Z_RHO1.stamp()\n",
    "pYPKa_E_RHO1.stamp()"
   ]
  },
  {
   "cell_type": "markdown",
   "metadata": {},
   "source": [
    "pYPKa_Z_RHO1 is written to a local file:"
   ]
  },
  {
   "cell_type": "code",
   "execution_count": 27,
   "metadata": {
    "execution": {
     "iopub.execute_input": "2021-05-17T10:26:09.430284Z",
     "iopub.status.busy": "2021-05-17T10:26:09.429644Z",
     "iopub.status.idle": "2021-05-17T10:26:09.433527Z",
     "shell.execute_reply": "2021-05-17T10:26:09.434033Z"
    }
   },
   "outputs": [
    {
     "data": {
      "text/html": [
       "<font face=monospace><a href='pYPKa_Z_RHO1.gb' target='_blank'>pYPKa_Z_RHO1.gb</a></font><br>"
      ]
     },
     "metadata": {},
     "output_type": "display_data"
    }
   ],
   "source": [
    "pYPKa_Z_RHO1.write(\"pYPKa_Z_RHO1.gb\")"
   ]
  },
  {
   "cell_type": "markdown",
   "metadata": {},
   "source": [
    "pYPKa_E_RHO1 is written to a local file:"
   ]
  },
  {
   "cell_type": "code",
   "execution_count": 28,
   "metadata": {
    "execution": {
     "iopub.execute_input": "2021-05-17T10:26:09.438392Z",
     "iopub.status.busy": "2021-05-17T10:26:09.437636Z",
     "iopub.status.idle": "2021-05-17T10:26:09.444804Z",
     "shell.execute_reply": "2021-05-17T10:26:09.444012Z"
    }
   },
   "outputs": [
    {
     "data": {
      "text/html": [
       "<font face=monospace><a href='pYPKa_E_RHO1.gb' target='_blank'>pYPKa_E_RHO1.gb</a></font><br>"
      ]
     },
     "metadata": {},
     "output_type": "display_data"
    }
   ],
   "source": [
    "pYPKa_E_RHO1.write(\"pYPKa_E_RHO1.gb\")"
   ]
  }
 ],
 "metadata": {
  "language_info": {
   "codemirror_mode": {
    "name": "ipython",
    "version": 3
   },
   "file_extension": ".py",
   "mimetype": "text/x-python",
   "name": "python",
   "nbconvert_exporter": "python",
   "pygments_lexer": "ipython3",
   "version": "3.9.0"
  }
 },
 "nbformat": 4,
 "nbformat_minor": 2
}
