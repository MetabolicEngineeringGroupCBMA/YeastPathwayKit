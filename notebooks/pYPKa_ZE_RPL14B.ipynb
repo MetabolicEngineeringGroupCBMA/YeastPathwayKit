{
 "cells": [
  {
   "cell_type": "markdown",
   "metadata": {},
   "source": [
    "# pYPKa_Z_RPL14B and pYPKa_E_RPL14B\n",
    "\n",
    "This Jupyter notebook describe the construction of E. coli vectors [pYPKa_Z_RPL14B](pYPKa_Z_RPL14B.gb) and [pYPKa_E_RPL14B](pYPKa_E_RPL14B.gb). \n",
    "These two vectors share backbone and insert, but in the former, the insert is cloned using the restriction\n",
    "enzyme [ZraI](http://rebase.neb.com/rebase/enz/ZraI.html) while in the latter [EcoRV](http://rebase.neb.com/rebase/enz/EcoRV.html) is used.\n",
    "\n",
    "The insert cloned in ZraI is meant to function as a promoter, while in the EcoRV site it is meant to be  used as a terminator.\n",
    "\n",
    "Links to the sequence of each vector in Genbank format can be found at the bottom of this document.\n",
    "\n",
    "![pYPKa_Z and pYPKa_E](figure_pYPKa_ZE.png \"pYPKa_Z or pYPKa_E plasmid\")\n",
    "\n",
    "The Python package [pydna](https://pypi.python.org/pypi/pydna/) package is imported in the code cell below to provide \n",
    "the cloning functionality. There is a [publication](http://www.biomedcentral.com/1471-2105/16/142) describing pydna as well as\n",
    "[documentation](http://pydna.readthedocs.io/) available online. Pydna is developed on [Github](https://github.com/BjornFJohansson/pydna)."
   ]
  },
  {
   "cell_type": "code",
   "execution_count": 1,
   "metadata": {
    "execution": {
     "iopub.execute_input": "2021-05-17T10:26:23.652909Z",
     "iopub.status.busy": "2021-05-17T10:26:23.651884Z",
     "iopub.status.idle": "2021-05-17T10:26:24.179265Z",
     "shell.execute_reply": "2021-05-17T10:26:24.178732Z"
    }
   },
   "outputs": [],
   "source": [
    "from pydna.readers import read\n",
    "from pydna.parsers import parse_primers\n",
    "from pydna.genbank import Genbank\n",
    "from pydna.amplify import pcr\n",
    "from pydna.amplify import Anneal"
   ]
  },
  {
   "cell_type": "markdown",
   "metadata": {},
   "source": [
    "The vector backbone pYPKa is read from a local [file](pYPKa.gb)."
   ]
  },
  {
   "cell_type": "code",
   "execution_count": 2,
   "metadata": {
    "execution": {
     "iopub.execute_input": "2021-05-17T10:26:24.188297Z",
     "iopub.status.busy": "2021-05-17T10:26:24.187793Z",
     "iopub.status.idle": "2021-05-17T10:26:24.195562Z",
     "shell.execute_reply": "2021-05-17T10:26:24.196048Z"
    }
   },
   "outputs": [],
   "source": [
    "pYPKa = read(\"pYPKa.gb\")"
   ]
  },
  {
   "cell_type": "markdown",
   "metadata": {},
   "source": [
    "Both restriction enzymes are imported from [Biopython](http://biopython.org/wiki/Main_Page)"
   ]
  },
  {
   "cell_type": "code",
   "execution_count": 3,
   "metadata": {
    "execution": {
     "iopub.execute_input": "2021-05-17T10:26:24.200964Z",
     "iopub.status.busy": "2021-05-17T10:26:24.199889Z",
     "iopub.status.idle": "2021-05-17T10:26:24.202794Z",
     "shell.execute_reply": "2021-05-17T10:26:24.203537Z"
    }
   },
   "outputs": [],
   "source": [
    "from Bio.Restriction import ZraI, EcoRV"
   ]
  },
  {
   "cell_type": "markdown",
   "metadata": {},
   "source": [
    "The vector is cut with both enzymes."
   ]
  },
  {
   "cell_type": "code",
   "execution_count": 4,
   "metadata": {
    "execution": {
     "iopub.execute_input": "2021-05-17T10:26:24.212822Z",
     "iopub.status.busy": "2021-05-17T10:26:24.212165Z",
     "iopub.status.idle": "2021-05-17T10:26:24.214370Z",
     "shell.execute_reply": "2021-05-17T10:26:24.214980Z"
    }
   },
   "outputs": [],
   "source": [
    "pYPKa_ZraI  = pYPKa.linearize(ZraI)\n",
    "pYPKa_EcoRV = pYPKa.linearize(EcoRV)"
   ]
  },
  {
   "cell_type": "markdown",
   "metadata": {},
   "source": [
    "The template below comes from a Genbank [record](http://www.ncbi.nlm.nih.gov/nuccore/BK006934.2).\n",
    "Access to Genbank is needed in order to download the template.\n",
    "If you execute this script, change the email address below to your own.\n",
    "Always tell Genbank who you are, when using their web service."
   ]
  },
  {
   "cell_type": "code",
   "execution_count": 5,
   "metadata": {
    "execution": {
     "iopub.execute_input": "2021-05-17T10:26:24.220615Z",
     "iopub.status.busy": "2021-05-17T10:26:24.219673Z",
     "iopub.status.idle": "2021-05-17T10:26:24.222935Z",
     "shell.execute_reply": "2021-05-17T10:26:24.222285Z"
    }
   },
   "outputs": [],
   "source": [
    "gb = Genbank(\"bjornjobb@gmail.com\")"
   ]
  },
  {
   "cell_type": "markdown",
   "metadata": {},
   "source": [
    "The template is downloaded from Genbank below."
   ]
  },
  {
   "cell_type": "code",
   "execution_count": 6,
   "metadata": {
    "execution": {
     "iopub.execute_input": "2021-05-17T10:26:24.228470Z",
     "iopub.status.busy": "2021-05-17T10:26:24.227421Z",
     "iopub.status.idle": "2021-05-17T10:26:24.238960Z",
     "shell.execute_reply": "2021-05-17T10:26:24.238443Z"
    }
   },
   "outputs": [],
   "source": [
    "template = gb.nucleotide(\"BK006934.2 REGION: 103971..104276\")"
   ]
  },
  {
   "cell_type": "markdown",
   "metadata": {},
   "source": [
    "The template is a 306 bp linear DNA fragment."
   ]
  },
  {
   "cell_type": "code",
   "execution_count": 7,
   "metadata": {
    "execution": {
     "iopub.execute_input": "2021-05-17T10:26:24.247135Z",
     "iopub.status.busy": "2021-05-17T10:26:24.246546Z",
     "iopub.status.idle": "2021-05-17T10:26:24.249779Z",
     "shell.execute_reply": "2021-05-17T10:26:24.249296Z"
    }
   },
   "outputs": [
    {
     "data": {
      "text/html": [
       "<a href='https://www.ncbi.nlm.nih.gov/nuccore/BK006934.2 ?from=103971&to=104276&strand=1' target='_blank'>BK006934.2  103971-104276</a>"
      ],
      "text/plain": [
       "Gbank(BK006934.2  103971-104276)(-306)"
      ]
     },
     "execution_count": 1,
     "metadata": {},
     "output_type": "execute_result"
    }
   ],
   "source": [
    "template"
   ]
  },
  {
   "cell_type": "markdown",
   "metadata": {},
   "source": [
    "The insert has the sequence shown below."
   ]
  },
  {
   "cell_type": "code",
   "execution_count": 8,
   "metadata": {
    "execution": {
     "iopub.execute_input": "2021-05-17T10:26:24.253155Z",
     "iopub.status.busy": "2021-05-17T10:26:24.252649Z",
     "iopub.status.idle": "2021-05-17T10:26:24.255795Z",
     "shell.execute_reply": "2021-05-17T10:26:24.255186Z"
    }
   },
   "outputs": [
    {
     "name": "stdout",
     "output_type": "stream",
     "text": [
      "CCCTTCAACTTATATAGCACCTTTACATATCTTTAATTTTTACGAAGAGCATTTTATTCAACTTTTGTACCTTTAAAGACGGTTTTCAGCCCACACATTTTTTGTTATTTTACACCACACAGTAAAACTTTCTTGCTTTTTTTTCTTGAGACTCCCCGACCATTGTTCGATATTCCAATTTTCGCAATCTTCAGAAAAGGGTATCCTAACATTCTAAATTAATAATAAAGAAGAGAGGCTACAAGCATTTATTAGTGTGAAGCATTTAAAGTAACTTCAGGAAATAAACGCGCAAATAAACCAAAA\n"
     ]
    }
   ],
   "source": [
    "print(str(template.seq))"
   ]
  },
  {
   "cell_type": "markdown",
   "metadata": {},
   "source": [
    "The seguid checksum of the template should be\n",
    "\n",
    "```LR0DmD7j9e5Pw73rnVuhk4XsqwY```"
   ]
  },
  {
   "cell_type": "code",
   "execution_count": 9,
   "metadata": {
    "execution": {
     "iopub.execute_input": "2021-05-17T10:26:24.260409Z",
     "iopub.status.busy": "2021-05-17T10:26:24.259555Z",
     "iopub.status.idle": "2021-05-17T10:26:24.262696Z",
     "shell.execute_reply": "2021-05-17T10:26:24.263265Z"
    }
   },
   "outputs": [
    {
     "data": {
      "text/plain": [
       "LR0DmD7j9e5Pw73rnVuhk4XsqwY"
      ]
     },
     "execution_count": 1,
     "metadata": {},
     "output_type": "execute_result"
    }
   ],
   "source": [
    "template.seguid()"
   ]
  },
  {
   "cell_type": "markdown",
   "metadata": {},
   "source": [
    "Two primers are used to amplify the insert:"
   ]
  },
  {
   "cell_type": "code",
   "execution_count": 10,
   "metadata": {
    "execution": {
     "iopub.execute_input": "2021-05-17T10:26:24.268083Z",
     "iopub.status.busy": "2021-05-17T10:26:24.267473Z",
     "iopub.status.idle": "2021-05-17T10:26:24.270269Z",
     "shell.execute_reply": "2021-05-17T10:26:24.269665Z"
    }
   },
   "outputs": [],
   "source": [
    "fp,rp = parse_primers(\"\"\">761_RPL14B_fw\n",
    "                         ttaaatCCCTTCAACTTATATAGCACCT\n",
    "                         >762_RPL14B_rv\n",
    "                         taattaaTTTTGGTTTATTTGCGC\"\"\")"
   ]
  },
  {
   "cell_type": "markdown",
   "metadata": {},
   "source": [
    "PCR to create the insert using the primers above."
   ]
  },
  {
   "cell_type": "code",
   "execution_count": 11,
   "metadata": {
    "execution": {
     "iopub.execute_input": "2021-05-17T10:26:24.276368Z",
     "iopub.status.busy": "2021-05-17T10:26:24.275695Z",
     "iopub.status.idle": "2021-05-17T10:26:24.280298Z",
     "shell.execute_reply": "2021-05-17T10:26:24.280932Z"
    }
   },
   "outputs": [],
   "source": [
    "prd = pcr(fp, rp, template)\n",
    "assert str(fp.seq) in prd"
   ]
  },
  {
   "cell_type": "markdown",
   "metadata": {},
   "source": [
    "The PCR product has this length in bp."
   ]
  },
  {
   "cell_type": "code",
   "execution_count": 12,
   "metadata": {
    "execution": {
     "iopub.execute_input": "2021-05-17T10:26:24.285871Z",
     "iopub.status.busy": "2021-05-17T10:26:24.284932Z",
     "iopub.status.idle": "2021-05-17T10:26:24.288828Z",
     "shell.execute_reply": "2021-05-17T10:26:24.288198Z"
    }
   },
   "outputs": [
    {
     "data": {
      "text/plain": [
       "319"
      ]
     },
     "execution_count": 1,
     "metadata": {},
     "output_type": "execute_result"
    }
   ],
   "source": [
    "len(prd)"
   ]
  },
  {
   "cell_type": "markdown",
   "metadata": {},
   "source": [
    "A figure of the primers annealing on template."
   ]
  },
  {
   "cell_type": "code",
   "execution_count": 13,
   "metadata": {
    "execution": {
     "iopub.execute_input": "2021-05-17T10:26:24.292950Z",
     "iopub.status.busy": "2021-05-17T10:26:24.292287Z",
     "iopub.status.idle": "2021-05-17T10:26:24.295403Z",
     "shell.execute_reply": "2021-05-17T10:26:24.294916Z"
    }
   },
   "outputs": [
    {
     "data": {
      "text/plain": [
       "      5CCCTTCAACTTATATAGCACCT...GCGCAAATAAACCAAAA3\n",
       "                                |||||||||||||||||\n",
       "                               3CGCGTTTATTTGGTTTTaattaat5\n",
       "5ttaaatCCCTTCAACTTATATAGCACCT3\n",
       "       ||||||||||||||||||||||\n",
       "      3GGGAAGTTGAATATATCGTGGA...CGCGTTTATTTGGTTTT5"
      ]
     },
     "execution_count": 1,
     "metadata": {},
     "output_type": "execute_result"
    }
   ],
   "source": [
    "prd.figure()"
   ]
  },
  {
   "cell_type": "markdown",
   "metadata": {},
   "source": [
    "A suggested PCR program."
   ]
  },
  {
   "cell_type": "code",
   "execution_count": 14,
   "metadata": {
    "execution": {
     "iopub.execute_input": "2021-05-17T10:26:24.300339Z",
     "iopub.status.busy": "2021-05-17T10:26:24.299550Z",
     "iopub.status.idle": "2021-05-17T10:26:24.303570Z",
     "shell.execute_reply": "2021-05-17T10:26:24.302926Z"
    }
   },
   "outputs": [
    {
     "data": {
      "text/plain": [
       "|95°C|95°C               |    |tmf:61.2\n",
       "|____|_____          72°C|72°C|tmr:52.6\n",
       "|5min|30s  \\ 50.1°C _____|____|60s/kb\n",
       "|    |      \\______/ 0:19|5min|GC 30%\n",
       "|    |       30s         |    |319bp"
      ]
     },
     "execution_count": 1,
     "metadata": {},
     "output_type": "execute_result"
    }
   ],
   "source": [
    "prd.program()"
   ]
  },
  {
   "cell_type": "markdown",
   "metadata": {},
   "source": [
    "The final vectors are:"
   ]
  },
  {
   "cell_type": "code",
   "execution_count": 15,
   "metadata": {
    "execution": {
     "iopub.execute_input": "2021-05-17T10:26:24.377698Z",
     "iopub.status.busy": "2021-05-17T10:26:24.342106Z",
     "iopub.status.idle": "2021-05-17T10:26:24.769346Z",
     "shell.execute_reply": "2021-05-17T10:26:24.769762Z"
    }
   },
   "outputs": [],
   "source": [
    "pYPKa_Z_RPL14B = (pYPKa_ZraI  + prd).looped().synced(pYPKa)\n",
    "pYPKa_E_RPL14B = (pYPKa_EcoRV + prd).looped().synced(pYPKa)"
   ]
  },
  {
   "cell_type": "markdown",
   "metadata": {},
   "source": [
    "The final vectors with reverse inserts are created below. These vectors theoretically make up\n",
    "fifty percent of the clones. The PCR strategy outlined below can be used to identify clones with the insert\n",
    "in the correct orientation."
   ]
  },
  {
   "cell_type": "code",
   "execution_count": 16,
   "metadata": {
    "execution": {
     "iopub.execute_input": "2021-05-17T10:26:24.812548Z",
     "iopub.status.busy": "2021-05-17T10:26:24.802501Z",
     "iopub.status.idle": "2021-05-17T10:26:25.225817Z",
     "shell.execute_reply": "2021-05-17T10:26:25.225280Z"
    }
   },
   "outputs": [],
   "source": [
    "pYPKa_Z_RPL14Bb = (pYPKa_ZraI  + prd.rc()).looped().synced(pYPKa)\n",
    "pYPKa_E_RPL14Bb = (pYPKa_EcoRV + prd.rc()).looped().synced(pYPKa)"
   ]
  },
  {
   "cell_type": "markdown",
   "metadata": {},
   "source": [
    "A combination of yeast pathway kit standard primers and the primers above are\n",
    "used for the strategy to identify correct clones.\n",
    "Standard primers used in the yeast are listed [here](standard_primers.txt)."
   ]
  },
  {
   "cell_type": "code",
   "execution_count": 17,
   "metadata": {
    "execution": {
     "iopub.execute_input": "2021-05-17T10:26:25.230469Z",
     "iopub.status.busy": "2021-05-17T10:26:25.229872Z",
     "iopub.status.idle": "2021-05-17T10:26:25.232652Z",
     "shell.execute_reply": "2021-05-17T10:26:25.232050Z"
    }
   },
   "outputs": [],
   "source": [
    "p = { x.id: x for x in parse_primers(\"\"\">577\n",
    "                                         gttctgatcctcgagcatcttaagaattc\n",
    "                                         >578\n",
    "                                         gttcttgtctcattgccacattcataagt\n",
    "                                         >468\n",
    "                                         gtcgaggaacgccaggttgcccact\n",
    "                                         >467\n",
    "                                         ATTTAAatcctgatgcgtttgtctgcacaga\n",
    "                                         >567\n",
    "                                         GTcggctgcaggtcactagtgag\n",
    "                                         >568\n",
    "                                         GTGCcatctgtgcagacaaacg\n",
    "                                         >775\n",
    "                                         gcggccgctgacTTAAAT\n",
    "                                         >778\n",
    "                                         ggtaaatccggatTAATTAA\n",
    "                                         >342\n",
    "                                         CCTTTTTACGGTTCCTGGCCT\"\"\") }"
   ]
  },
  {
   "cell_type": "markdown",
   "metadata": {},
   "source": [
    "## Diagnostic PCR confirmation\n",
    "\n",
    "The correct structure of pYPKa_Z_RPL14B is confirmed by PCR using standard primers\n",
    "577 and 342 that are vector specific together with the RPL14Bfw primer specific for the insert\n",
    "in a multiplex PCR reaction with\n",
    "all three primers present.\n",
    "\n",
    "Two PCR products are expected if the insert was cloned, the sizes depend\n",
    "on the orientation. If the vector is empty or contains another insert, only one\n",
    "product is formed.\n",
    "\n",
    "#### Expected PCR products sizes from pYPKa_Z_RPL14B:\n",
    "\n",
    "pYPKa_Z_RPL14B with insert in correct orientation."
   ]
  },
  {
   "cell_type": "code",
   "execution_count": 18,
   "metadata": {
    "execution": {
     "iopub.execute_input": "2021-05-17T10:26:25.246949Z",
     "iopub.status.busy": "2021-05-17T10:26:25.246260Z",
     "iopub.status.idle": "2021-05-17T10:26:25.249705Z",
     "shell.execute_reply": "2021-05-17T10:26:25.249171Z"
    }
   },
   "outputs": [
    {
     "data": {
      "text/plain": [
       "[Amplicon(1253), Amplicon(1085)]"
      ]
     },
     "execution_count": 1,
     "metadata": {},
     "output_type": "execute_result"
    }
   ],
   "source": [
    "Anneal( (p['577'], p['342'], fp), pYPKa_Z_RPL14B).products"
   ]
  },
  {
   "cell_type": "markdown",
   "metadata": {},
   "source": [
    "pYPKa_Z_RPL14B with insert in reverse orientation."
   ]
  },
  {
   "cell_type": "code",
   "execution_count": 19,
   "metadata": {
    "execution": {
     "iopub.execute_input": "2021-05-17T10:26:25.259817Z",
     "iopub.status.busy": "2021-05-17T10:26:25.259046Z",
     "iopub.status.idle": "2021-05-17T10:26:25.262074Z",
     "shell.execute_reply": "2021-05-17T10:26:25.262600Z"
    }
   },
   "outputs": [
    {
     "data": {
      "text/plain": [
       "[Amplicon(1253), Amplicon(487)]"
      ]
     },
     "execution_count": 1,
     "metadata": {},
     "output_type": "execute_result"
    }
   ],
   "source": [
    "Anneal( (p['577'], p['342'], fp), pYPKa_Z_RPL14Bb).products"
   ]
  },
  {
   "cell_type": "markdown",
   "metadata": {},
   "source": [
    "Empty pYPKa clone."
   ]
  },
  {
   "cell_type": "code",
   "execution_count": 20,
   "metadata": {
    "execution": {
     "iopub.execute_input": "2021-05-17T10:26:25.271911Z",
     "iopub.status.busy": "2021-05-17T10:26:25.270989Z",
     "iopub.status.idle": "2021-05-17T10:26:25.274406Z",
     "shell.execute_reply": "2021-05-17T10:26:25.273940Z"
    }
   },
   "outputs": [
    {
     "data": {
      "text/plain": [
       "[Amplicon(934)]"
      ]
     },
     "execution_count": 1,
     "metadata": {},
     "output_type": "execute_result"
    }
   ],
   "source": [
    "Anneal( (p['577'], p['342'], fp), pYPKa).products"
   ]
  },
  {
   "cell_type": "markdown",
   "metadata": {},
   "source": [
    "#### Expected PCR products sizes pYPKa_E_RPL14B:\n",
    "\n",
    "pYPKa_E_RPL14B with insert in correct orientation."
   ]
  },
  {
   "cell_type": "code",
   "execution_count": 21,
   "metadata": {
    "execution": {
     "iopub.execute_input": "2021-05-17T10:26:25.284291Z",
     "iopub.status.busy": "2021-05-17T10:26:25.283716Z",
     "iopub.status.idle": "2021-05-17T10:26:25.287092Z",
     "shell.execute_reply": "2021-05-17T10:26:25.286552Z"
    }
   },
   "outputs": [
    {
     "data": {
      "text/plain": [
       "[Amplicon(1253), Amplicon(1004)]"
      ]
     },
     "execution_count": 1,
     "metadata": {},
     "output_type": "execute_result"
    }
   ],
   "source": [
    "Anneal( (p['577'], p['342'], fp), pYPKa_E_RPL14B).products"
   ]
  },
  {
   "cell_type": "markdown",
   "metadata": {},
   "source": [
    "pYPKa_E_RPL14B with insert in reverse orientation."
   ]
  },
  {
   "cell_type": "code",
   "execution_count": 22,
   "metadata": {
    "execution": {
     "iopub.execute_input": "2021-05-17T10:26:25.299723Z",
     "iopub.status.busy": "2021-05-17T10:26:25.299127Z",
     "iopub.status.idle": "2021-05-17T10:26:25.301768Z",
     "shell.execute_reply": "2021-05-17T10:26:25.302204Z"
    }
   },
   "outputs": [
    {
     "data": {
      "text/plain": [
       "[Amplicon(1253), Amplicon(568)]"
      ]
     },
     "execution_count": 1,
     "metadata": {},
     "output_type": "execute_result"
    }
   ],
   "source": [
    "Anneal( (p['577'], p['342'], fp), pYPKa_E_RPL14Bb).products\n"
   ]
  },
  {
   "cell_type": "markdown",
   "metadata": {},
   "source": [
    "Calculate cseguid checksums for the resulting plasmids for future reference.\n",
    "This checksum that uniquely describes a circular double stranded\n",
    "sequence. See this [blog post](https://ochsavidare.blogspot.com/2016/02/checksum-for-circular-biological.html) for more info.\n",
    "\n",
    "pYPKa_Z_RPL14B.cseguid() should be F0xUoQOyoSAy73P3wt3ChLBrQdE"
   ]
  },
  {
   "cell_type": "code",
   "execution_count": 23,
   "metadata": {
    "execution": {
     "iopub.execute_input": "2021-05-17T10:26:25.311563Z",
     "iopub.status.busy": "2021-05-17T10:26:25.310773Z",
     "iopub.status.idle": "2021-05-17T10:26:25.314265Z",
     "shell.execute_reply": "2021-05-17T10:26:25.315021Z"
    }
   },
   "outputs": [
    {
     "name": "stdout",
     "output_type": "stream",
     "text": [
      "F0xUoQOyoSAy73P3wt3ChLBrQdE\n"
     ]
    }
   ],
   "source": [
    "print(pYPKa_Z_RPL14B.cseguid())\n",
    "assert pYPKa_Z_RPL14B.cseguid() == \"F0xUoQOyoSAy73P3wt3ChLBrQdE\""
   ]
  },
  {
   "cell_type": "markdown",
   "metadata": {},
   "source": [
    "pYPKa_E_RPL14B.cseguid() should be wGdYxQYXitrDNTt33F3U6TyIzEw"
   ]
  },
  {
   "cell_type": "code",
   "execution_count": 24,
   "metadata": {
    "execution": {
     "iopub.execute_input": "2021-05-17T10:26:25.327497Z",
     "iopub.status.busy": "2021-05-17T10:26:25.326714Z",
     "iopub.status.idle": "2021-05-17T10:26:25.329507Z",
     "shell.execute_reply": "2021-05-17T10:26:25.330002Z"
    }
   },
   "outputs": [
    {
     "name": "stdout",
     "output_type": "stream",
     "text": [
      "wGdYxQYXitrDNTt33F3U6TyIzEw\n"
     ]
    }
   ],
   "source": [
    "print(pYPKa_E_RPL14B.cseguid())\n",
    "assert pYPKa_E_RPL14B.cseguid() == \"wGdYxQYXitrDNTt33F3U6TyIzEw\""
   ]
  },
  {
   "cell_type": "markdown",
   "metadata": {},
   "source": [
    "The sequences are named based on the name of the cloned insert."
   ]
  },
  {
   "cell_type": "code",
   "execution_count": 25,
   "metadata": {
    "execution": {
     "iopub.execute_input": "2021-05-17T10:26:25.333395Z",
     "iopub.status.busy": "2021-05-17T10:26:25.332876Z",
     "iopub.status.idle": "2021-05-17T10:26:25.335419Z",
     "shell.execute_reply": "2021-05-17T10:26:25.334894Z"
    }
   },
   "outputs": [],
   "source": [
    "pYPKa_Z_RPL14B.locus = \"pYPKa_Z_RPL14B\"[:16]\n",
    "pYPKa_E_RPL14B.locus = \"pYPKa_Z_RPL14B\"[:16]"
   ]
  },
  {
   "cell_type": "markdown",
   "metadata": {},
   "source": [
    "Stamp sequence with cseguid checksum. This can be used to verify the\n",
    "integrity of the sequence file."
   ]
  },
  {
   "cell_type": "code",
   "execution_count": 26,
   "metadata": {
    "execution": {
     "iopub.execute_input": "2021-05-17T10:26:25.349046Z",
     "iopub.status.busy": "2021-05-17T10:26:25.348371Z",
     "iopub.status.idle": "2021-05-17T10:26:25.351616Z",
     "shell.execute_reply": "2021-05-17T10:26:25.351075Z"
    }
   },
   "outputs": [
    {
     "data": {
      "text/plain": [
       "cSEGUID_wGdYxQYXitrDNTt33F3U6TyIzEw"
      ]
     },
     "execution_count": 1,
     "metadata": {},
     "output_type": "execute_result"
    }
   ],
   "source": [
    "pYPKa_Z_RPL14B.stamp()\n",
    "pYPKa_E_RPL14B.stamp()"
   ]
  },
  {
   "cell_type": "markdown",
   "metadata": {},
   "source": [
    "pYPKa_Z_RPL14B is written to a local file:"
   ]
  },
  {
   "cell_type": "code",
   "execution_count": 27,
   "metadata": {
    "execution": {
     "iopub.execute_input": "2021-05-17T10:26:25.357864Z",
     "iopub.status.busy": "2021-05-17T10:26:25.357147Z",
     "iopub.status.idle": "2021-05-17T10:26:25.360631Z",
     "shell.execute_reply": "2021-05-17T10:26:25.361066Z"
    }
   },
   "outputs": [
    {
     "data": {
      "text/html": [
       "<font face=monospace><a href='pYPKa_Z_RPL14B.gb' target='_blank'>pYPKa_Z_RPL14B.gb</a></font><br>"
      ]
     },
     "metadata": {},
     "output_type": "display_data"
    }
   ],
   "source": [
    "pYPKa_Z_RPL14B.write(\"pYPKa_Z_RPL14B.gb\")"
   ]
  },
  {
   "cell_type": "markdown",
   "metadata": {},
   "source": [
    "pYPKa_E_RPL14B is written to a local file:"
   ]
  },
  {
   "cell_type": "code",
   "execution_count": 28,
   "metadata": {
    "execution": {
     "iopub.execute_input": "2021-05-17T10:26:25.364585Z",
     "iopub.status.busy": "2021-05-17T10:26:25.363997Z",
     "iopub.status.idle": "2021-05-17T10:26:25.370306Z",
     "shell.execute_reply": "2021-05-17T10:26:25.370866Z"
    }
   },
   "outputs": [
    {
     "data": {
      "text/html": [
       "<font face=monospace><a href='pYPKa_E_RPL14B.gb' target='_blank'>pYPKa_E_RPL14B.gb</a></font><br>"
      ]
     },
     "metadata": {},
     "output_type": "display_data"
    }
   ],
   "source": [
    "pYPKa_E_RPL14B.write(\"pYPKa_E_RPL14B.gb\")"
   ]
  }
 ],
 "metadata": {
  "language_info": {
   "codemirror_mode": {
    "name": "ipython",
    "version": 3
   },
   "file_extension": ".py",
   "mimetype": "text/x-python",
   "name": "python",
   "nbconvert_exporter": "python",
   "pygments_lexer": "ipython3",
   "version": "3.9.0"
  }
 },
 "nbformat": 4,
 "nbformat_minor": 2
}
