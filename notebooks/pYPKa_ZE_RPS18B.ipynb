{
 "cells": [
  {
   "cell_type": "markdown",
   "metadata": {},
   "source": [
    "# pYPKa_Z_RPS18B and pYPKa_E_RPS18B\n",
    "\n",
    "This Jupyter notebook describe the construction of E. coli vectors [pYPKa_Z_RPS18B](pYPKa_Z_RPS18B.gb) and [pYPKa_E_RPS18B](pYPKa_E_RPS18B.gb). \n",
    "These two vectors share backbone and insert, but in the former, the insert is cloned using the restriction\n",
    "enzyme [ZraI](http://rebase.neb.com/rebase/enz/ZraI.html) while in the latter [EcoRV](http://rebase.neb.com/rebase/enz/EcoRV.html) is used.\n",
    "\n",
    "The insert cloned in ZraI is meant to function as a promoter, while in the EcoRV site it is meant to be  used as a terminator.\n",
    "\n",
    "Links to the sequence of each vector in Genbank format can be found at the bottom of this document.\n",
    "\n",
    "![pYPKa_Z and pYPKa_E](figure_pYPKa_ZE.png \"pYPKa_Z or pYPKa_E plasmid\")\n",
    "\n",
    "The Python package [pydna](https://pypi.python.org/pypi/pydna/) package is imported in the code cell below to provide \n",
    "the cloning functionality. There is a [publication](http://www.biomedcentral.com/1471-2105/16/142) describing pydna as well as\n",
    "[documentation](http://pydna.readthedocs.io/) available online. Pydna is developed on [Github](https://github.com/BjornFJohansson/pydna)."
   ]
  },
  {
   "cell_type": "code",
   "execution_count": 1,
   "metadata": {
    "execution": {
     "iopub.execute_input": "2021-05-17T10:27:43.723110Z",
     "iopub.status.busy": "2021-05-17T10:27:43.720760Z",
     "iopub.status.idle": "2021-05-17T10:27:44.220287Z",
     "shell.execute_reply": "2021-05-17T10:27:44.219744Z"
    }
   },
   "outputs": [],
   "source": [
    "from pydna.readers import read\n",
    "from pydna.parsers import parse_primers\n",
    "from pydna.genbank import Genbank\n",
    "from pydna.amplify import pcr\n",
    "from pydna.amplify import Anneal"
   ]
  },
  {
   "cell_type": "markdown",
   "metadata": {},
   "source": [
    "The vector backbone pYPKa is read from a local [file](pYPKa.gb)."
   ]
  },
  {
   "cell_type": "code",
   "execution_count": 2,
   "metadata": {
    "execution": {
     "iopub.execute_input": "2021-05-17T10:27:44.228281Z",
     "iopub.status.busy": "2021-05-17T10:27:44.227843Z",
     "iopub.status.idle": "2021-05-17T10:27:44.235965Z",
     "shell.execute_reply": "2021-05-17T10:27:44.235443Z"
    }
   },
   "outputs": [],
   "source": [
    "pYPKa = read(\"pYPKa.gb\")"
   ]
  },
  {
   "cell_type": "markdown",
   "metadata": {},
   "source": [
    "Both restriction enzymes are imported from [Biopython](http://biopython.org/wiki/Main_Page)"
   ]
  },
  {
   "cell_type": "code",
   "execution_count": 3,
   "metadata": {
    "execution": {
     "iopub.execute_input": "2021-05-17T10:27:44.239354Z",
     "iopub.status.busy": "2021-05-17T10:27:44.238906Z",
     "iopub.status.idle": "2021-05-17T10:27:44.241173Z",
     "shell.execute_reply": "2021-05-17T10:27:44.240704Z"
    }
   },
   "outputs": [],
   "source": [
    "from Bio.Restriction import ZraI, EcoRV"
   ]
  },
  {
   "cell_type": "markdown",
   "metadata": {},
   "source": [
    "The vector is cut with both enzymes."
   ]
  },
  {
   "cell_type": "code",
   "execution_count": 4,
   "metadata": {
    "execution": {
     "iopub.execute_input": "2021-05-17T10:27:44.249674Z",
     "iopub.status.busy": "2021-05-17T10:27:44.249042Z",
     "iopub.status.idle": "2021-05-17T10:27:44.251476Z",
     "shell.execute_reply": "2021-05-17T10:27:44.250916Z"
    }
   },
   "outputs": [],
   "source": [
    "pYPKa_ZraI  = pYPKa.linearize(ZraI)\n",
    "pYPKa_EcoRV = pYPKa.linearize(EcoRV)"
   ]
  },
  {
   "cell_type": "markdown",
   "metadata": {},
   "source": [
    "The template below comes from a Genbank [record](http://www.ncbi.nlm.nih.gov/nuccore/BK006946.2).\n",
    "Access to Genbank is needed in order to download the template.\n",
    "If you execute this script, change the email address below to your own.\n",
    "Always tell Genbank who you are, when using their web service."
   ]
  },
  {
   "cell_type": "code",
   "execution_count": 5,
   "metadata": {
    "execution": {
     "iopub.execute_input": "2021-05-17T10:27:44.255405Z",
     "iopub.status.busy": "2021-05-17T10:27:44.254927Z",
     "iopub.status.idle": "2021-05-17T10:27:44.257158Z",
     "shell.execute_reply": "2021-05-17T10:27:44.256695Z"
    }
   },
   "outputs": [],
   "source": [
    "gb = Genbank(\"bjornjobb@gmail.com\")"
   ]
  },
  {
   "cell_type": "markdown",
   "metadata": {},
   "source": [
    "The template is downloaded from Genbank below."
   ]
  },
  {
   "cell_type": "code",
   "execution_count": 6,
   "metadata": {
    "execution": {
     "iopub.execute_input": "2021-05-17T10:27:44.261281Z",
     "iopub.status.busy": "2021-05-17T10:27:44.260496Z",
     "iopub.status.idle": "2021-05-17T10:27:44.270285Z",
     "shell.execute_reply": "2021-05-17T10:27:44.270818Z"
    }
   },
   "outputs": [],
   "source": [
    "template = gb.nucleotide(\"BK006946.2 REGION: complement(223829..224405)\")"
   ]
  },
  {
   "cell_type": "markdown",
   "metadata": {},
   "source": [
    "The template is a 577 bp linear DNA fragment."
   ]
  },
  {
   "cell_type": "code",
   "execution_count": 7,
   "metadata": {
    "execution": {
     "iopub.execute_input": "2021-05-17T10:27:44.279352Z",
     "iopub.status.busy": "2021-05-17T10:27:44.278499Z",
     "iopub.status.idle": "2021-05-17T10:27:44.282254Z",
     "shell.execute_reply": "2021-05-17T10:27:44.281664Z"
    }
   },
   "outputs": [
    {
     "data": {
      "text/html": [
       "<a href='https://www.ncbi.nlm.nih.gov/nuccore/BK006946.2 ?from=223829&to=224405&strand=2' target='_blank'>BK006946.2  223829-224405</a>"
      ],
      "text/plain": [
       "Gbank(BK006946.2  223829-224405)(-577)"
      ]
     },
     "execution_count": 1,
     "metadata": {},
     "output_type": "execute_result"
    }
   ],
   "source": [
    "template"
   ]
  },
  {
   "cell_type": "markdown",
   "metadata": {},
   "source": [
    "The insert has the sequence shown below."
   ]
  },
  {
   "cell_type": "code",
   "execution_count": 8,
   "metadata": {
    "execution": {
     "iopub.execute_input": "2021-05-17T10:27:44.287288Z",
     "iopub.status.busy": "2021-05-17T10:27:44.286223Z",
     "iopub.status.idle": "2021-05-17T10:27:44.290305Z",
     "shell.execute_reply": "2021-05-17T10:27:44.289733Z"
    }
   },
   "outputs": [
    {
     "name": "stdout",
     "output_type": "stream",
     "text": [
      "TTTTCATATGTACACATACAAGTGACCCCTTCTTCTACCCCATCCAGTTATTATTCCATCTACATATTTAAAAAATAATCTGTAAATAATAAGCCCATGAAATATCAATCTCACAATGAAAGAATTGTATAATTCAGAATGATTTGACGTAAAAGCAAGTCTCATTCAAGAAACTGTAAAATCCGTACACACTACTGAATTTTACATCCATACATTTTTTTGAAATTTCATGTTTTTTTGAAAAATTGGAAAAGGGCTAAATTATCCGTCGGGGTGTCCTCCTAGCTCGGCTCAACCTAGGCAAATGCGTTTACTGGGGCCATCCAAGCTCATCCTTCCAGAGATTCGCCTTTCAGAGGCAAAGAACTCGTCTCCGCAGGCCTCTTGTTCCGGGAGGAGGAGAATTCTTGCGCGGAAACTGGTTGATGCCTGGGCTATGGTAATTCTGACACCTTTGCTATCCTAACTGGAAAAGGTCCTTAGTAATAACAATATCAGGTACTTTAACATTGTTAAAGATATACTATTAGTGAAAAACCGATCTTACGAAAAGCCAATAGAGCAGAAAGTGGTAAAG\n"
     ]
    }
   ],
   "source": [
    "print(str(template.seq))"
   ]
  },
  {
   "cell_type": "markdown",
   "metadata": {},
   "source": [
    "The seguid checksum of the template should be\n",
    "\n",
    "```3Lxk5DSkbg2wqWosoMeU4uwCgOw```"
   ]
  },
  {
   "cell_type": "code",
   "execution_count": 9,
   "metadata": {
    "execution": {
     "iopub.execute_input": "2021-05-17T10:27:44.294738Z",
     "iopub.status.busy": "2021-05-17T10:27:44.293905Z",
     "iopub.status.idle": "2021-05-17T10:27:44.297766Z",
     "shell.execute_reply": "2021-05-17T10:27:44.297110Z"
    }
   },
   "outputs": [
    {
     "data": {
      "text/plain": [
       "3Lxk5DSkbg2wqWosoMeU4uwCgOw"
      ]
     },
     "execution_count": 1,
     "metadata": {},
     "output_type": "execute_result"
    }
   ],
   "source": [
    "template.seguid()"
   ]
  },
  {
   "cell_type": "markdown",
   "metadata": {},
   "source": [
    "Two primers are used to amplify the insert:"
   ]
  },
  {
   "cell_type": "code",
   "execution_count": 10,
   "metadata": {
    "execution": {
     "iopub.execute_input": "2021-05-17T10:27:44.303186Z",
     "iopub.status.busy": "2021-05-17T10:27:44.302509Z",
     "iopub.status.idle": "2021-05-17T10:27:44.305382Z",
     "shell.execute_reply": "2021-05-17T10:27:44.304717Z"
    }
   },
   "outputs": [],
   "source": [
    "fp,rp = parse_primers(\"\"\">644_ScRPS18btpf2\n",
    "                         ttaaatTTTTCATATGTACACATACA\n",
    "                         >643_ScRPS18btpr_PacI\n",
    "                         taattaaCTTTACCACTTTCTGCTCTAT\"\"\")"
   ]
  },
  {
   "cell_type": "markdown",
   "metadata": {},
   "source": [
    "PCR to create the insert using the primers above."
   ]
  },
  {
   "cell_type": "code",
   "execution_count": 11,
   "metadata": {
    "execution": {
     "iopub.execute_input": "2021-05-17T10:27:44.312101Z",
     "iopub.status.busy": "2021-05-17T10:27:44.311043Z",
     "iopub.status.idle": "2021-05-17T10:27:44.317187Z",
     "shell.execute_reply": "2021-05-17T10:27:44.316499Z"
    }
   },
   "outputs": [],
   "source": [
    "prd = pcr(fp, rp, template)\n",
    "assert str(fp.seq) in prd"
   ]
  },
  {
   "cell_type": "markdown",
   "metadata": {},
   "source": [
    "The PCR product has this length in bp."
   ]
  },
  {
   "cell_type": "code",
   "execution_count": 12,
   "metadata": {
    "execution": {
     "iopub.execute_input": "2021-05-17T10:27:44.322317Z",
     "iopub.status.busy": "2021-05-17T10:27:44.321423Z",
     "iopub.status.idle": "2021-05-17T10:27:44.326154Z",
     "shell.execute_reply": "2021-05-17T10:27:44.325404Z"
    }
   },
   "outputs": [
    {
     "data": {
      "text/plain": [
       "590"
      ]
     },
     "execution_count": 1,
     "metadata": {},
     "output_type": "execute_result"
    }
   ],
   "source": [
    "len(prd)"
   ]
  },
  {
   "cell_type": "markdown",
   "metadata": {},
   "source": [
    "A figure of the primers annealing on template."
   ]
  },
  {
   "cell_type": "code",
   "execution_count": 13,
   "metadata": {
    "execution": {
     "iopub.execute_input": "2021-05-17T10:27:44.332582Z",
     "iopub.status.busy": "2021-05-17T10:27:44.332050Z",
     "iopub.status.idle": "2021-05-17T10:27:44.334339Z",
     "shell.execute_reply": "2021-05-17T10:27:44.334761Z"
    }
   },
   "outputs": [
    {
     "data": {
      "text/plain": [
       "      5TTTTCATATGTACACATACA...ATAGAGCAGAAAGTGGTAAAG3\n",
       "                              |||||||||||||||||||||\n",
       "                             3TATCTCGTCTTTCACCATTTCaattaat5\n",
       "5ttaaatTTTTCATATGTACACATACA3\n",
       "       ||||||||||||||||||||\n",
       "      3AAAAGTATACATGTGTATGT...TATCTCGTCTTTCACCATTTC5"
      ]
     },
     "execution_count": 1,
     "metadata": {},
     "output_type": "execute_result"
    }
   ],
   "source": [
    "prd.figure()"
   ]
  },
  {
   "cell_type": "markdown",
   "metadata": {},
   "source": [
    "A suggested PCR program."
   ]
  },
  {
   "cell_type": "code",
   "execution_count": 14,
   "metadata": {
    "execution": {
     "iopub.execute_input": "2021-05-17T10:27:44.339300Z",
     "iopub.status.busy": "2021-05-17T10:27:44.338729Z",
     "iopub.status.idle": "2021-05-17T10:27:44.341779Z",
     "shell.execute_reply": "2021-05-17T10:27:44.342332Z"
    }
   },
   "outputs": [
    {
     "data": {
      "text/plain": [
       "|95°C|95°C               |    |tmf:50.8\n",
       "|____|_____          72°C|72°C|tmr:57.1\n",
       "|5min|30s  \\ 52.1°C _____|____|60s/kb\n",
       "|    |      \\______/ 0:35|5min|GC 37%\n",
       "|    |       30s         |    |590bp"
      ]
     },
     "execution_count": 1,
     "metadata": {},
     "output_type": "execute_result"
    }
   ],
   "source": [
    "prd.program()"
   ]
  },
  {
   "cell_type": "markdown",
   "metadata": {},
   "source": [
    "The final vectors are:"
   ]
  },
  {
   "cell_type": "code",
   "execution_count": 15,
   "metadata": {
    "execution": {
     "iopub.execute_input": "2021-05-17T10:27:44.375588Z",
     "iopub.status.busy": "2021-05-17T10:27:44.355457Z",
     "iopub.status.idle": "2021-05-17T10:27:44.797687Z",
     "shell.execute_reply": "2021-05-17T10:27:44.798166Z"
    }
   },
   "outputs": [],
   "source": [
    "pYPKa_Z_RPS18B = (pYPKa_ZraI  + prd).looped().synced(pYPKa)\n",
    "pYPKa_E_RPS18B = (pYPKa_EcoRV + prd).looped().synced(pYPKa)"
   ]
  },
  {
   "cell_type": "markdown",
   "metadata": {},
   "source": [
    "The final vectors with reverse inserts are created below. These vectors theoretically make up\n",
    "fifty percent of the clones. The PCR strategy outlined below can be used to identify clones with the insert\n",
    "in the correct orientation."
   ]
  },
  {
   "cell_type": "code",
   "execution_count": 16,
   "metadata": {
    "execution": {
     "iopub.execute_input": "2021-05-17T10:27:44.861427Z",
     "iopub.status.busy": "2021-05-17T10:27:44.825954Z",
     "iopub.status.idle": "2021-05-17T10:27:45.255816Z",
     "shell.execute_reply": "2021-05-17T10:27:45.254224Z"
    }
   },
   "outputs": [],
   "source": [
    "pYPKa_Z_RPS18Bb = (pYPKa_ZraI  + prd.rc()).looped().synced(pYPKa)\n",
    "pYPKa_E_RPS18Bb = (pYPKa_EcoRV + prd.rc()).looped().synced(pYPKa)"
   ]
  },
  {
   "cell_type": "markdown",
   "metadata": {},
   "source": [
    "A combination of yeast pathway kit standard primers and the primers above are\n",
    "used for the strategy to identify correct clones.\n",
    "Standard primers used in the yeast are listed [here](standard_primers.txt)."
   ]
  },
  {
   "cell_type": "code",
   "execution_count": 17,
   "metadata": {
    "execution": {
     "iopub.execute_input": "2021-05-17T10:27:45.266631Z",
     "iopub.status.busy": "2021-05-17T10:27:45.265884Z",
     "iopub.status.idle": "2021-05-17T10:27:45.268531Z",
     "shell.execute_reply": "2021-05-17T10:27:45.270131Z"
    }
   },
   "outputs": [],
   "source": [
    "p = { x.id: x for x in parse_primers(\"\"\">577\n",
    "                                         gttctgatcctcgagcatcttaagaattc\n",
    "                                         >578\n",
    "                                         gttcttgtctcattgccacattcataagt\n",
    "                                         >468\n",
    "                                         gtcgaggaacgccaggttgcccact\n",
    "                                         >467\n",
    "                                         ATTTAAatcctgatgcgtttgtctgcacaga\n",
    "                                         >567\n",
    "                                         GTcggctgcaggtcactagtgag\n",
    "                                         >568\n",
    "                                         GTGCcatctgtgcagacaaacg\n",
    "                                         >775\n",
    "                                         gcggccgctgacTTAAAT\n",
    "                                         >778\n",
    "                                         ggtaaatccggatTAATTAA\n",
    "                                         >342\n",
    "                                         CCTTTTTACGGTTCCTGGCCT\"\"\") }"
   ]
  },
  {
   "cell_type": "markdown",
   "metadata": {},
   "source": [
    "## Diagnostic PCR confirmation\n",
    "\n",
    "The correct structure of pYPKa_Z_RPS18B is confirmed by PCR using standard primers\n",
    "577 and 342 that are vector specific together with the RPS18Bfw primer specific for the insert\n",
    "in a multiplex PCR reaction with\n",
    "all three primers present.\n",
    "\n",
    "Two PCR products are expected if the insert was cloned, the sizes depend\n",
    "on the orientation. If the vector is empty or contains another insert, only one\n",
    "product is formed.\n",
    "\n",
    "#### Expected PCR products sizes from pYPKa_Z_RPS18B:\n",
    "\n",
    "pYPKa_Z_RPS18B with insert in correct orientation."
   ]
  },
  {
   "cell_type": "code",
   "execution_count": 18,
   "metadata": {
    "execution": {
     "iopub.execute_input": "2021-05-17T10:27:45.283282Z",
     "iopub.status.busy": "2021-05-17T10:27:45.282563Z",
     "iopub.status.idle": "2021-05-17T10:27:45.286140Z",
     "shell.execute_reply": "2021-05-17T10:27:45.285570Z"
    }
   },
   "outputs": [
    {
     "data": {
      "text/plain": [
       "[Amplicon(1524), Amplicon(1356)]"
      ]
     },
     "execution_count": 1,
     "metadata": {},
     "output_type": "execute_result"
    }
   ],
   "source": [
    "Anneal( (p['577'], p['342'], fp), pYPKa_Z_RPS18B).products"
   ]
  },
  {
   "cell_type": "markdown",
   "metadata": {},
   "source": [
    "pYPKa_Z_RPS18B with insert in reverse orientation."
   ]
  },
  {
   "cell_type": "code",
   "execution_count": 19,
   "metadata": {
    "execution": {
     "iopub.execute_input": "2021-05-17T10:27:45.299769Z",
     "iopub.status.busy": "2021-05-17T10:27:45.298797Z",
     "iopub.status.idle": "2021-05-17T10:27:45.303002Z",
     "shell.execute_reply": "2021-05-17T10:27:45.303517Z"
    }
   },
   "outputs": [
    {
     "data": {
      "text/plain": [
       "[Amplicon(1524), Amplicon(758)]"
      ]
     },
     "execution_count": 1,
     "metadata": {},
     "output_type": "execute_result"
    }
   ],
   "source": [
    "Anneal( (p['577'], p['342'], fp), pYPKa_Z_RPS18Bb).products"
   ]
  },
  {
   "cell_type": "markdown",
   "metadata": {},
   "source": [
    "Empty pYPKa clone."
   ]
  },
  {
   "cell_type": "code",
   "execution_count": 20,
   "metadata": {
    "execution": {
     "iopub.execute_input": "2021-05-17T10:27:45.312110Z",
     "iopub.status.busy": "2021-05-17T10:27:45.311419Z",
     "iopub.status.idle": "2021-05-17T10:27:45.315043Z",
     "shell.execute_reply": "2021-05-17T10:27:45.314467Z"
    }
   },
   "outputs": [
    {
     "data": {
      "text/plain": [
       "[Amplicon(934)]"
      ]
     },
     "execution_count": 1,
     "metadata": {},
     "output_type": "execute_result"
    }
   ],
   "source": [
    "Anneal( (p['577'], p['342'], fp), pYPKa).products"
   ]
  },
  {
   "cell_type": "markdown",
   "metadata": {},
   "source": [
    "#### Expected PCR products sizes pYPKa_E_RPS18B:\n",
    "\n",
    "pYPKa_E_RPS18B with insert in correct orientation."
   ]
  },
  {
   "cell_type": "code",
   "execution_count": 21,
   "metadata": {
    "execution": {
     "iopub.execute_input": "2021-05-17T10:27:45.325360Z",
     "iopub.status.busy": "2021-05-17T10:27:45.324358Z",
     "iopub.status.idle": "2021-05-17T10:27:45.328778Z",
     "shell.execute_reply": "2021-05-17T10:27:45.329580Z"
    }
   },
   "outputs": [
    {
     "data": {
      "text/plain": [
       "[Amplicon(1524), Amplicon(1275)]"
      ]
     },
     "execution_count": 1,
     "metadata": {},
     "output_type": "execute_result"
    }
   ],
   "source": [
    "Anneal( (p['577'], p['342'], fp), pYPKa_E_RPS18B).products"
   ]
  },
  {
   "cell_type": "markdown",
   "metadata": {},
   "source": [
    "pYPKa_E_RPS18B with insert in reverse orientation."
   ]
  },
  {
   "cell_type": "code",
   "execution_count": 22,
   "metadata": {
    "execution": {
     "iopub.execute_input": "2021-05-17T10:27:45.342613Z",
     "iopub.status.busy": "2021-05-17T10:27:45.337394Z",
     "iopub.status.idle": "2021-05-17T10:27:45.345851Z",
     "shell.execute_reply": "2021-05-17T10:27:45.345353Z"
    }
   },
   "outputs": [
    {
     "data": {
      "text/plain": [
       "[Amplicon(1524), Amplicon(839)]"
      ]
     },
     "execution_count": 1,
     "metadata": {},
     "output_type": "execute_result"
    }
   ],
   "source": [
    "Anneal( (p['577'], p['342'], fp), pYPKa_E_RPS18Bb).products\n"
   ]
  },
  {
   "cell_type": "markdown",
   "metadata": {},
   "source": [
    "Calculate cseguid checksums for the resulting plasmids for future reference.\n",
    "This checksum that uniquely describes a circular double stranded\n",
    "sequence. See this [blog post](https://ochsavidare.blogspot.com/2016/02/checksum-for-circular-biological.html) for more info.\n",
    "\n",
    "pYPKa_Z_RPS18B.cseguid() should be zVaHm3wcKCigDzyQSsWR4nblO6k"
   ]
  },
  {
   "cell_type": "code",
   "execution_count": 23,
   "metadata": {
    "execution": {
     "iopub.execute_input": "2021-05-17T10:27:45.355082Z",
     "iopub.status.busy": "2021-05-17T10:27:45.354591Z",
     "iopub.status.idle": "2021-05-17T10:27:45.357285Z",
     "shell.execute_reply": "2021-05-17T10:27:45.356762Z"
    }
   },
   "outputs": [
    {
     "name": "stdout",
     "output_type": "stream",
     "text": [
      "zVaHm3wcKCigDzyQSsWR4nblO6k\n"
     ]
    }
   ],
   "source": [
    "print(pYPKa_Z_RPS18B.cseguid())\n",
    "assert pYPKa_Z_RPS18B.cseguid() == \"zVaHm3wcKCigDzyQSsWR4nblO6k\""
   ]
  },
  {
   "cell_type": "markdown",
   "metadata": {},
   "source": [
    "pYPKa_E_RPS18B.cseguid() should be kE1fu3irBH6Uoqn3xKhb3VKzjEo"
   ]
  },
  {
   "cell_type": "code",
   "execution_count": 24,
   "metadata": {
    "execution": {
     "iopub.execute_input": "2021-05-17T10:27:45.365977Z",
     "iopub.status.busy": "2021-05-17T10:27:45.365353Z",
     "iopub.status.idle": "2021-05-17T10:27:45.368224Z",
     "shell.execute_reply": "2021-05-17T10:27:45.368824Z"
    }
   },
   "outputs": [
    {
     "name": "stdout",
     "output_type": "stream",
     "text": [
      "kE1fu3irBH6Uoqn3xKhb3VKzjEo\n"
     ]
    }
   ],
   "source": [
    "print(pYPKa_E_RPS18B.cseguid())\n",
    "assert pYPKa_E_RPS18B.cseguid() == \"kE1fu3irBH6Uoqn3xKhb3VKzjEo\""
   ]
  },
  {
   "cell_type": "markdown",
   "metadata": {},
   "source": [
    "The sequences are named based on the name of the cloned insert."
   ]
  },
  {
   "cell_type": "code",
   "execution_count": 25,
   "metadata": {
    "execution": {
     "iopub.execute_input": "2021-05-17T10:27:45.373570Z",
     "iopub.status.busy": "2021-05-17T10:27:45.372912Z",
     "iopub.status.idle": "2021-05-17T10:27:45.375301Z",
     "shell.execute_reply": "2021-05-17T10:27:45.375873Z"
    }
   },
   "outputs": [],
   "source": [
    "pYPKa_Z_RPS18B.locus = \"pYPKa_Z_RPS18B\"[:16]\n",
    "pYPKa_E_RPS18B.locus = \"pYPKa_Z_RPS18B\"[:16]"
   ]
  },
  {
   "cell_type": "markdown",
   "metadata": {},
   "source": [
    "Stamp sequence with cseguid checksum. This can be used to verify the\n",
    "integrity of the sequence file."
   ]
  },
  {
   "cell_type": "code",
   "execution_count": 26,
   "metadata": {
    "execution": {
     "iopub.execute_input": "2021-05-17T10:27:45.387722Z",
     "iopub.status.busy": "2021-05-17T10:27:45.387044Z",
     "iopub.status.idle": "2021-05-17T10:27:45.389484Z",
     "shell.execute_reply": "2021-05-17T10:27:45.389916Z"
    }
   },
   "outputs": [
    {
     "data": {
      "text/plain": [
       "cSEGUID_kE1fu3irBH6Uoqn3xKhb3VKzjEo"
      ]
     },
     "execution_count": 1,
     "metadata": {},
     "output_type": "execute_result"
    }
   ],
   "source": [
    "pYPKa_Z_RPS18B.stamp()\n",
    "pYPKa_E_RPS18B.stamp()"
   ]
  },
  {
   "cell_type": "markdown",
   "metadata": {},
   "source": [
    "pYPKa_Z_RPS18B is written to a local file:"
   ]
  },
  {
   "cell_type": "code",
   "execution_count": 27,
   "metadata": {
    "execution": {
     "iopub.execute_input": "2021-05-17T10:27:45.393933Z",
     "iopub.status.busy": "2021-05-17T10:27:45.392944Z",
     "iopub.status.idle": "2021-05-17T10:27:45.401279Z",
     "shell.execute_reply": "2021-05-17T10:27:45.400684Z"
    }
   },
   "outputs": [
    {
     "data": {
      "text/html": [
       "<font face=monospace><a href='pYPKa_Z_RPS18B.gb' target='_blank'>pYPKa_Z_RPS18B.gb</a></font><br>"
      ]
     },
     "metadata": {},
     "output_type": "display_data"
    }
   ],
   "source": [
    "pYPKa_Z_RPS18B.write(\"pYPKa_Z_RPS18B.gb\")"
   ]
  },
  {
   "cell_type": "markdown",
   "metadata": {},
   "source": [
    "pYPKa_E_RPS18B is written to a local file:"
   ]
  },
  {
   "cell_type": "code",
   "execution_count": 28,
   "metadata": {
    "execution": {
     "iopub.execute_input": "2021-05-17T10:27:45.410089Z",
     "iopub.status.busy": "2021-05-17T10:27:45.409183Z",
     "iopub.status.idle": "2021-05-17T10:27:45.413754Z",
     "shell.execute_reply": "2021-05-17T10:27:45.414255Z"
    }
   },
   "outputs": [
    {
     "data": {
      "text/html": [
       "<font face=monospace><a href='pYPKa_E_RPS18B.gb' target='_blank'>pYPKa_E_RPS18B.gb</a></font><br>"
      ]
     },
     "metadata": {},
     "output_type": "display_data"
    }
   ],
   "source": [
    "pYPKa_E_RPS18B.write(\"pYPKa_E_RPS18B.gb\")"
   ]
  }
 ],
 "metadata": {
  "language_info": {
   "codemirror_mode": {
    "name": "ipython",
    "version": 3
   },
   "file_extension": ".py",
   "mimetype": "text/x-python",
   "name": "python",
   "nbconvert_exporter": "python",
   "pygments_lexer": "ipython3",
   "version": "3.9.0"
  }
 },
 "nbformat": 4,
 "nbformat_minor": 2
}
