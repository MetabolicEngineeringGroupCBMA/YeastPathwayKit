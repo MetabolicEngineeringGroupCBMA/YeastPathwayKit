{
 "cells": [
  {
   "cell_type": "markdown",
   "metadata": {},
   "source": [
    "# pYPKa_Z_TEF1 and pYPKa_E_TEF1\n",
    "\n",
    "This Jupyter notebook describe the construction of E. coli vectors [pYPKa_Z_TEF1](pYPKa_Z_TEF1.gb) and [pYPKa_E_TEF1](pYPKa_E_TEF1.gb). \n",
    "These two vectors share backbone and insert, but in the former, the insert is cloned using the restriction\n",
    "enzyme [ZraI](http://rebase.neb.com/rebase/enz/ZraI.html) while in the latter [EcoRV](http://rebase.neb.com/rebase/enz/EcoRV.html) is used.\n",
    "\n",
    "The insert cloned in ZraI is meant to function as a promoter, while in the EcoRV site it is meant to be  used as a terminator.\n",
    "\n",
    "Links to the sequence of each vector in Genbank format can be found at the bottom of this document.\n",
    "\n",
    "![pYPKa_Z and pYPKa_E](figure_pYPKa_ZE.png \"pYPKa_Z or pYPKa_E plasmid\")\n",
    "\n",
    "The Python package [pydna](https://pypi.python.org/pypi/pydna/) package is imported in the code cell below to provide \n",
    "the cloning functionality. There is a [publication](http://www.biomedcentral.com/1471-2105/16/142) describing pydna as well as\n",
    "[documentation](http://pydna.readthedocs.io/) available online. Pydna is developed on [Github](https://github.com/BjornFJohansson/pydna)."
   ]
  },
  {
   "cell_type": "code",
   "execution_count": 1,
   "metadata": {
    "execution": {
     "iopub.execute_input": "2021-05-17T10:28:03.735977Z",
     "iopub.status.busy": "2021-05-17T10:28:03.735282Z",
     "iopub.status.idle": "2021-05-17T10:28:04.426536Z",
     "shell.execute_reply": "2021-05-17T10:28:04.425994Z"
    }
   },
   "outputs": [],
   "source": [
    "from pydna.readers import read\n",
    "from pydna.parsers import parse_primers\n",
    "from pydna.genbank import Genbank\n",
    "from pydna.amplify import pcr\n",
    "from pydna.amplify import Anneal"
   ]
  },
  {
   "cell_type": "markdown",
   "metadata": {},
   "source": [
    "The vector backbone pYPKa is read from a local [file](pYPKa.gb)."
   ]
  },
  {
   "cell_type": "code",
   "execution_count": 2,
   "metadata": {
    "execution": {
     "iopub.execute_input": "2021-05-17T10:28:04.437511Z",
     "iopub.status.busy": "2021-05-17T10:28:04.435669Z",
     "iopub.status.idle": "2021-05-17T10:28:04.450869Z",
     "shell.execute_reply": "2021-05-17T10:28:04.451316Z"
    }
   },
   "outputs": [],
   "source": [
    "pYPKa = read(\"pYPKa.gb\")"
   ]
  },
  {
   "cell_type": "markdown",
   "metadata": {},
   "source": [
    "Both restriction enzymes are imported from [Biopython](http://biopython.org/wiki/Main_Page)"
   ]
  },
  {
   "cell_type": "code",
   "execution_count": 3,
   "metadata": {
    "execution": {
     "iopub.execute_input": "2021-05-17T10:28:04.455543Z",
     "iopub.status.busy": "2021-05-17T10:28:04.454935Z",
     "iopub.status.idle": "2021-05-17T10:28:04.458792Z",
     "shell.execute_reply": "2021-05-17T10:28:04.458031Z"
    }
   },
   "outputs": [],
   "source": [
    "from Bio.Restriction import ZraI, EcoRV"
   ]
  },
  {
   "cell_type": "markdown",
   "metadata": {},
   "source": [
    "The vector is cut with both enzymes."
   ]
  },
  {
   "cell_type": "code",
   "execution_count": 4,
   "metadata": {
    "execution": {
     "iopub.execute_input": "2021-05-17T10:28:04.468147Z",
     "iopub.status.busy": "2021-05-17T10:28:04.467420Z",
     "iopub.status.idle": "2021-05-17T10:28:04.473016Z",
     "shell.execute_reply": "2021-05-17T10:28:04.474285Z"
    }
   },
   "outputs": [],
   "source": [
    "pYPKa_ZraI  = pYPKa.linearize(ZraI)\n",
    "pYPKa_EcoRV = pYPKa.linearize(EcoRV)"
   ]
  },
  {
   "cell_type": "markdown",
   "metadata": {},
   "source": [
    "The template below comes from a Genbank [record](http://www.ncbi.nlm.nih.gov/nuccore/BK006949.2).\n",
    "Access to Genbank is needed in order to download the template.\n",
    "If you execute this script, change the email address below to your own.\n",
    "Always tell Genbank who you are, when using their web service."
   ]
  },
  {
   "cell_type": "code",
   "execution_count": 5,
   "metadata": {
    "execution": {
     "iopub.execute_input": "2021-05-17T10:28:04.483134Z",
     "iopub.status.busy": "2021-05-17T10:28:04.481102Z",
     "iopub.status.idle": "2021-05-17T10:28:04.484406Z",
     "shell.execute_reply": "2021-05-17T10:28:04.484916Z"
    }
   },
   "outputs": [],
   "source": [
    "gb = Genbank(\"bjornjobb@gmail.com\")"
   ]
  },
  {
   "cell_type": "markdown",
   "metadata": {},
   "source": [
    "The template is downloaded from Genbank below."
   ]
  },
  {
   "cell_type": "code",
   "execution_count": 6,
   "metadata": {
    "execution": {
     "iopub.execute_input": "2021-05-17T10:28:04.488916Z",
     "iopub.status.busy": "2021-05-17T10:28:04.488477Z",
     "iopub.status.idle": "2021-05-17T10:28:04.502744Z",
     "shell.execute_reply": "2021-05-17T10:28:04.503155Z"
    }
   },
   "outputs": [],
   "source": [
    "template = gb.nucleotide(\"BK006949.2 REGION: 700015..700593\")"
   ]
  },
  {
   "cell_type": "markdown",
   "metadata": {},
   "source": [
    "The template is a 579 bp linear DNA fragment."
   ]
  },
  {
   "cell_type": "code",
   "execution_count": 7,
   "metadata": {
    "execution": {
     "iopub.execute_input": "2021-05-17T10:28:04.514363Z",
     "iopub.status.busy": "2021-05-17T10:28:04.513805Z",
     "iopub.status.idle": "2021-05-17T10:28:04.518562Z",
     "shell.execute_reply": "2021-05-17T10:28:04.519280Z"
    }
   },
   "outputs": [
    {
     "data": {
      "text/html": [
       "<a href='https://www.ncbi.nlm.nih.gov/nuccore/BK006949.2 ?from=700015&to=700593&strand=1' target='_blank'>BK006949.2  700015-700593</a>"
      ],
      "text/plain": [
       "Gbank(BK006949.2  700015-700593)(-579)"
      ]
     },
     "execution_count": 1,
     "metadata": {},
     "output_type": "execute_result"
    }
   ],
   "source": [
    "template"
   ]
  },
  {
   "cell_type": "markdown",
   "metadata": {},
   "source": [
    "The insert has the sequence shown below."
   ]
  },
  {
   "cell_type": "code",
   "execution_count": 8,
   "metadata": {
    "execution": {
     "iopub.execute_input": "2021-05-17T10:28:04.525163Z",
     "iopub.status.busy": "2021-05-17T10:28:04.522935Z",
     "iopub.status.idle": "2021-05-17T10:28:04.526750Z",
     "shell.execute_reply": "2021-05-17T10:28:04.527193Z"
    }
   },
   "outputs": [
    {
     "name": "stdout",
     "output_type": "stream",
     "text": [
      "ACAATGCATACTTTGTACGTTCAAAATACAATGCAGTAGATATATTTATGCATATTACATATAATACATATCACATAGGAAGCAACAGGCGCGTTGGACTTTTAATTTTCGAGGACCGCGAATCCTTACATCACACCCAATCCCCCACAAGTGATCCCCCACACACCATAGCTTCAAAATGTTTCTACTCCTTTTTTACTCTTCCAGATTTTCTCGGACTCCGCGCATCGCCGTACCACTTCAAAACACCCAAGCACAGCATACTAAATTTCCCCTCTTTCTTCCTCTAGGGTGTCGTTAATTACCCGTACTAAAGGTTTGGAAAAGAAAAAAGAGACCGCCTCGTTTCTTTTTCTTCGTCGAAAAAGGCAATAAAAATTTTTATCACGTTTCTTTTTCTTGAAAATTTTTTTTTTTGATTTTTTTCTCTTTCGATGACCTCCCATTGATATTTAAGTTAATAAACGGTCTTCAATTTCTCAAGTTTCAGTTTCATTTTTCTTGTTCTATTACAACTTTTTTTACTTCTTGCTCATTAGAAAGAAAGCATAGCAATCTAATCTAAGTTTTAATTACAAA\n"
     ]
    }
   ],
   "source": [
    "print(str(template.seq))"
   ]
  },
  {
   "cell_type": "markdown",
   "metadata": {},
   "source": [
    "The seguid checksum of the template should be\n",
    "\n",
    "```aV8DVOYw0hNwHWvnBDmtevIV3F8```"
   ]
  },
  {
   "cell_type": "code",
   "execution_count": 9,
   "metadata": {
    "execution": {
     "iopub.execute_input": "2021-05-17T10:28:04.533084Z",
     "iopub.status.busy": "2021-05-17T10:28:04.532050Z",
     "iopub.status.idle": "2021-05-17T10:28:04.534981Z",
     "shell.execute_reply": "2021-05-17T10:28:04.535471Z"
    }
   },
   "outputs": [
    {
     "data": {
      "text/plain": [
       "aV8DVOYw0hNwHWvnBDmtevIV3F8"
      ]
     },
     "execution_count": 1,
     "metadata": {},
     "output_type": "execute_result"
    }
   ],
   "source": [
    "template.seguid()"
   ]
  },
  {
   "cell_type": "markdown",
   "metadata": {},
   "source": [
    "Two primers are used to amplify the insert:"
   ]
  },
  {
   "cell_type": "code",
   "execution_count": 10,
   "metadata": {
    "execution": {
     "iopub.execute_input": "2021-05-17T10:28:04.539328Z",
     "iopub.status.busy": "2021-05-17T10:28:04.538876Z",
     "iopub.status.idle": "2021-05-17T10:28:04.542580Z",
     "shell.execute_reply": "2021-05-17T10:28:04.543115Z"
    }
   },
   "outputs": [],
   "source": [
    "fp,rp = parse_primers(\"\"\">417_ScTEF1tpf\n",
    "                         TTAAATAACAATGCATACTTTGTACGTTCA\n",
    "                         >626_ScTEF1tpr_PacI\n",
    "                         taattaaTTTGTAATTAAAACTTAGATTAGATTGC\"\"\")"
   ]
  },
  {
   "cell_type": "markdown",
   "metadata": {},
   "source": [
    "PCR to create the insert using the primers above."
   ]
  },
  {
   "cell_type": "code",
   "execution_count": 11,
   "metadata": {
    "execution": {
     "iopub.execute_input": "2021-05-17T10:28:04.553235Z",
     "iopub.status.busy": "2021-05-17T10:28:04.552671Z",
     "iopub.status.idle": "2021-05-17T10:28:04.559020Z",
     "shell.execute_reply": "2021-05-17T10:28:04.558530Z"
    }
   },
   "outputs": [],
   "source": [
    "prd = pcr(fp, rp, template)\n",
    "assert str(fp.seq) in prd"
   ]
  },
  {
   "cell_type": "markdown",
   "metadata": {},
   "source": [
    "The PCR product has this length in bp."
   ]
  },
  {
   "cell_type": "code",
   "execution_count": 12,
   "metadata": {
    "execution": {
     "iopub.execute_input": "2021-05-17T10:28:04.567341Z",
     "iopub.status.busy": "2021-05-17T10:28:04.566300Z",
     "iopub.status.idle": "2021-05-17T10:28:04.568939Z",
     "shell.execute_reply": "2021-05-17T10:28:04.569495Z"
    }
   },
   "outputs": [
    {
     "data": {
      "text/plain": [
       "593"
      ]
     },
     "execution_count": 1,
     "metadata": {},
     "output_type": "execute_result"
    }
   ],
   "source": [
    "len(prd)"
   ]
  },
  {
   "cell_type": "markdown",
   "metadata": {},
   "source": [
    "A figure of the primers annealing on template."
   ]
  },
  {
   "cell_type": "code",
   "execution_count": 13,
   "metadata": {
    "execution": {
     "iopub.execute_input": "2021-05-17T10:28:04.575036Z",
     "iopub.status.busy": "2021-05-17T10:28:04.573363Z",
     "iopub.status.idle": "2021-05-17T10:28:04.579136Z",
     "shell.execute_reply": "2021-05-17T10:28:04.578613Z"
    }
   },
   "outputs": [
    {
     "data": {
      "text/plain": [
       "       5ACAATGCATACTTTGTACGTTCA...GCAATCTAATCTAAGTTTTAATTACAAA3\n",
       "                                  ||||||||||||||||||||||||||||\n",
       "                                 3CGTTAGATTAGATTCAAAATTAATGTTTaattaat5\n",
       "5TTAAATAACAATGCATACTTTGTACGTTCA3\n",
       "        |||||||||||||||||||||||\n",
       "       3TGTTACGTATGAAACATGCAAGT...CGTTAGATTAGATTCAAAATTAATGTTT5"
      ]
     },
     "execution_count": 1,
     "metadata": {},
     "output_type": "execute_result"
    }
   ],
   "source": [
    "prd.figure()"
   ]
  },
  {
   "cell_type": "markdown",
   "metadata": {},
   "source": [
    "A suggested PCR program."
   ]
  },
  {
   "cell_type": "code",
   "execution_count": 14,
   "metadata": {
    "execution": {
     "iopub.execute_input": "2021-05-17T10:28:04.585484Z",
     "iopub.status.busy": "2021-05-17T10:28:04.584539Z",
     "iopub.status.idle": "2021-05-17T10:28:04.589007Z",
     "shell.execute_reply": "2021-05-17T10:28:04.588421Z"
    }
   },
   "outputs": [
    {
     "data": {
      "text/plain": [
       "|95°C|95°C               |    |tmf:59.9\n",
       "|____|_____          72°C|72°C|tmr:56.6\n",
       "|5min|30s  \\ 52.9°C _____|____|60s/kb\n",
       "|    |      \\______/ 0:35|5min|GC 34%\n",
       "|    |       30s         |    |593bp"
      ]
     },
     "execution_count": 1,
     "metadata": {},
     "output_type": "execute_result"
    }
   ],
   "source": [
    "prd.program()"
   ]
  },
  {
   "cell_type": "markdown",
   "metadata": {},
   "source": [
    "The final vectors are:"
   ]
  },
  {
   "cell_type": "code",
   "execution_count": 15,
   "metadata": {
    "execution": {
     "iopub.execute_input": "2021-05-17T10:28:04.645048Z",
     "iopub.status.busy": "2021-05-17T10:28:04.608759Z",
     "iopub.status.idle": "2021-05-17T10:28:05.199816Z",
     "shell.execute_reply": "2021-05-17T10:28:05.199431Z"
    }
   },
   "outputs": [],
   "source": [
    "pYPKa_Z_TEF1 = (pYPKa_ZraI  + prd).looped().synced(pYPKa)\n",
    "pYPKa_E_TEF1 = (pYPKa_EcoRV + prd).looped().synced(pYPKa)"
   ]
  },
  {
   "cell_type": "markdown",
   "metadata": {},
   "source": [
    "The final vectors with reverse inserts are created below. These vectors theoretically make up\n",
    "fifty percent of the clones. The PCR strategy outlined below can be used to identify clones with the insert\n",
    "in the correct orientation."
   ]
  },
  {
   "cell_type": "code",
   "execution_count": 16,
   "metadata": {
    "execution": {
     "iopub.execute_input": "2021-05-17T10:28:05.203736Z",
     "iopub.status.busy": "2021-05-17T10:28:05.202963Z",
     "iopub.status.idle": "2021-05-17T10:28:05.813354Z",
     "shell.execute_reply": "2021-05-17T10:28:05.814014Z"
    }
   },
   "outputs": [],
   "source": [
    "pYPKa_Z_TEF1b = (pYPKa_ZraI  + prd.rc()).looped().synced(pYPKa)\n",
    "pYPKa_E_TEF1b = (pYPKa_EcoRV + prd.rc()).looped().synced(pYPKa)"
   ]
  },
  {
   "cell_type": "markdown",
   "metadata": {},
   "source": [
    "A combination of yeast pathway kit standard primers and the primers above are\n",
    "used for the strategy to identify correct clones.\n",
    "Standard primers used in the yeast are listed [here](standard_primers.txt)."
   ]
  },
  {
   "cell_type": "code",
   "execution_count": 17,
   "metadata": {
    "execution": {
     "iopub.execute_input": "2021-05-17T10:28:05.821159Z",
     "iopub.status.busy": "2021-05-17T10:28:05.820715Z",
     "iopub.status.idle": "2021-05-17T10:28:05.822853Z",
     "shell.execute_reply": "2021-05-17T10:28:05.824146Z"
    }
   },
   "outputs": [],
   "source": [
    "p = { x.id: x for x in parse_primers(\"\"\">577\n",
    "                                         gttctgatcctcgagcatcttaagaattc\n",
    "                                         >578\n",
    "                                         gttcttgtctcattgccacattcataagt\n",
    "                                         >468\n",
    "                                         gtcgaggaacgccaggttgcccact\n",
    "                                         >467\n",
    "                                         ATTTAAatcctgatgcgtttgtctgcacaga\n",
    "                                         >567\n",
    "                                         GTcggctgcaggtcactagtgag\n",
    "                                         >568\n",
    "                                         GTGCcatctgtgcagacaaacg\n",
    "                                         >775\n",
    "                                         gcggccgctgacTTAAAT\n",
    "                                         >778\n",
    "                                         ggtaaatccggatTAATTAA\n",
    "                                         >342\n",
    "                                         CCTTTTTACGGTTCCTGGCCT\"\"\") }"
   ]
  },
  {
   "cell_type": "markdown",
   "metadata": {},
   "source": [
    "## Diagnostic PCR confirmation\n",
    "\n",
    "The correct structure of pYPKa_Z_TEF1 is confirmed by PCR using standard primers\n",
    "577 and 342 that are vector specific together with the TEF1fw primer specific for the insert\n",
    "in a multiplex PCR reaction with\n",
    "all three primers present.\n",
    "\n",
    "Two PCR products are expected if the insert was cloned, the sizes depend\n",
    "on the orientation. If the vector is empty or contains another insert, only one\n",
    "product is formed.\n",
    "\n",
    "#### Expected PCR products sizes from pYPKa_Z_TEF1:\n",
    "\n",
    "pYPKa_Z_TEF1 with insert in correct orientation."
   ]
  },
  {
   "cell_type": "code",
   "execution_count": 18,
   "metadata": {
    "execution": {
     "iopub.execute_input": "2021-05-17T10:28:05.836636Z",
     "iopub.status.busy": "2021-05-17T10:28:05.833119Z",
     "iopub.status.idle": "2021-05-17T10:28:05.850835Z",
     "shell.execute_reply": "2021-05-17T10:28:05.851713Z"
    }
   },
   "outputs": [
    {
     "data": {
      "text/plain": [
       "[Amplicon(1527), Amplicon(1359)]"
      ]
     },
     "execution_count": 1,
     "metadata": {},
     "output_type": "execute_result"
    }
   ],
   "source": [
    "Anneal( (p['577'], p['342'], fp), pYPKa_Z_TEF1).products"
   ]
  },
  {
   "cell_type": "markdown",
   "metadata": {},
   "source": [
    "pYPKa_Z_TEF1 with insert in reverse orientation."
   ]
  },
  {
   "cell_type": "code",
   "execution_count": 19,
   "metadata": {
    "execution": {
     "iopub.execute_input": "2021-05-17T10:28:05.868679Z",
     "iopub.status.busy": "2021-05-17T10:28:05.867764Z",
     "iopub.status.idle": "2021-05-17T10:28:05.871875Z",
     "shell.execute_reply": "2021-05-17T10:28:05.872680Z"
    }
   },
   "outputs": [
    {
     "data": {
      "text/plain": [
       "[Amplicon(1527), Amplicon(761)]"
      ]
     },
     "execution_count": 1,
     "metadata": {},
     "output_type": "execute_result"
    }
   ],
   "source": [
    "Anneal( (p['577'], p['342'], fp), pYPKa_Z_TEF1b).products"
   ]
  },
  {
   "cell_type": "markdown",
   "metadata": {},
   "source": [
    "Empty pYPKa clone."
   ]
  },
  {
   "cell_type": "code",
   "execution_count": 20,
   "metadata": {
    "execution": {
     "iopub.execute_input": "2021-05-17T10:28:05.883314Z",
     "iopub.status.busy": "2021-05-17T10:28:05.882299Z",
     "iopub.status.idle": "2021-05-17T10:28:05.886066Z",
     "shell.execute_reply": "2021-05-17T10:28:05.886634Z"
    }
   },
   "outputs": [
    {
     "data": {
      "text/plain": [
       "[Amplicon(934)]"
      ]
     },
     "execution_count": 1,
     "metadata": {},
     "output_type": "execute_result"
    }
   ],
   "source": [
    "Anneal( (p['577'], p['342'], fp), pYPKa).products"
   ]
  },
  {
   "cell_type": "markdown",
   "metadata": {},
   "source": [
    "#### Expected PCR products sizes pYPKa_E_TEF1:\n",
    "\n",
    "pYPKa_E_TEF1 with insert in correct orientation."
   ]
  },
  {
   "cell_type": "code",
   "execution_count": 21,
   "metadata": {
    "execution": {
     "iopub.execute_input": "2021-05-17T10:28:05.902859Z",
     "iopub.status.busy": "2021-05-17T10:28:05.898228Z",
     "iopub.status.idle": "2021-05-17T10:28:05.905688Z",
     "shell.execute_reply": "2021-05-17T10:28:05.906120Z"
    }
   },
   "outputs": [
    {
     "data": {
      "text/plain": [
       "[Amplicon(1527), Amplicon(1278)]"
      ]
     },
     "execution_count": 1,
     "metadata": {},
     "output_type": "execute_result"
    }
   ],
   "source": [
    "Anneal( (p['577'], p['342'], fp), pYPKa_E_TEF1).products"
   ]
  },
  {
   "cell_type": "markdown",
   "metadata": {},
   "source": [
    "pYPKa_E_TEF1 with insert in reverse orientation."
   ]
  },
  {
   "cell_type": "code",
   "execution_count": 22,
   "metadata": {
    "execution": {
     "iopub.execute_input": "2021-05-17T10:28:05.920821Z",
     "iopub.status.busy": "2021-05-17T10:28:05.920293Z",
     "iopub.status.idle": "2021-05-17T10:28:05.923119Z",
     "shell.execute_reply": "2021-05-17T10:28:05.924570Z"
    }
   },
   "outputs": [
    {
     "data": {
      "text/plain": [
       "[Amplicon(1527), Amplicon(842)]"
      ]
     },
     "execution_count": 1,
     "metadata": {},
     "output_type": "execute_result"
    }
   ],
   "source": [
    "Anneal( (p['577'], p['342'], fp), pYPKa_E_TEF1b).products\n"
   ]
  },
  {
   "cell_type": "markdown",
   "metadata": {},
   "source": [
    "Calculate cseguid checksums for the resulting plasmids for future reference.\n",
    "This checksum that uniquely describes a circular double stranded\n",
    "sequence. See this [blog post](https://ochsavidare.blogspot.com/2016/02/checksum-for-circular-biological.html) for more info.\n",
    "\n",
    "pYPKa_Z_TEF1.cseguid() should be inRfvhISKV2ATGWH7MRU60tr5sk"
   ]
  },
  {
   "cell_type": "code",
   "execution_count": 23,
   "metadata": {
    "execution": {
     "iopub.execute_input": "2021-05-17T10:28:05.936511Z",
     "iopub.status.busy": "2021-05-17T10:28:05.935927Z",
     "iopub.status.idle": "2021-05-17T10:28:05.939425Z",
     "shell.execute_reply": "2021-05-17T10:28:05.938757Z"
    }
   },
   "outputs": [
    {
     "name": "stdout",
     "output_type": "stream",
     "text": [
      "inRfvhISKV2ATGWH7MRU60tr5sk\n"
     ]
    }
   ],
   "source": [
    "print(pYPKa_Z_TEF1.cseguid())\n",
    "assert pYPKa_Z_TEF1.cseguid() == \"inRfvhISKV2ATGWH7MRU60tr5sk\""
   ]
  },
  {
   "cell_type": "markdown",
   "metadata": {},
   "source": [
    "pYPKa_E_TEF1.cseguid() should be 9SZBF1DJW78geb7jSQon9GsXwPQ"
   ]
  },
  {
   "cell_type": "code",
   "execution_count": 24,
   "metadata": {
    "execution": {
     "iopub.execute_input": "2021-05-17T10:28:05.958746Z",
     "iopub.status.busy": "2021-05-17T10:28:05.957777Z",
     "iopub.status.idle": "2021-05-17T10:28:05.963114Z",
     "shell.execute_reply": "2021-05-17T10:28:05.963856Z"
    }
   },
   "outputs": [
    {
     "name": "stdout",
     "output_type": "stream",
     "text": [
      "9SZBF1DJW78geb7jSQon9GsXwPQ\n"
     ]
    }
   ],
   "source": [
    "print(pYPKa_E_TEF1.cseguid())\n",
    "assert pYPKa_E_TEF1.cseguid() == \"9SZBF1DJW78geb7jSQon9GsXwPQ\""
   ]
  },
  {
   "cell_type": "markdown",
   "metadata": {},
   "source": [
    "The sequences are named based on the name of the cloned insert."
   ]
  },
  {
   "cell_type": "code",
   "execution_count": 25,
   "metadata": {
    "execution": {
     "iopub.execute_input": "2021-05-17T10:28:05.968571Z",
     "iopub.status.busy": "2021-05-17T10:28:05.967628Z",
     "iopub.status.idle": "2021-05-17T10:28:05.970136Z",
     "shell.execute_reply": "2021-05-17T10:28:05.969591Z"
    }
   },
   "outputs": [],
   "source": [
    "pYPKa_Z_TEF1.locus = \"pYPKa_Z_TEF1\"[:16]\n",
    "pYPKa_E_TEF1.locus = \"pYPKa_Z_TEF1\"[:16]"
   ]
  },
  {
   "cell_type": "markdown",
   "metadata": {},
   "source": [
    "Stamp sequence with cseguid checksum. This can be used to verify the\n",
    "integrity of the sequence file."
   ]
  },
  {
   "cell_type": "code",
   "execution_count": 26,
   "metadata": {
    "execution": {
     "iopub.execute_input": "2021-05-17T10:28:05.982554Z",
     "iopub.status.busy": "2021-05-17T10:28:05.972058Z",
     "iopub.status.idle": "2021-05-17T10:28:05.986386Z",
     "shell.execute_reply": "2021-05-17T10:28:05.986774Z"
    }
   },
   "outputs": [
    {
     "data": {
      "text/plain": [
       "cSEGUID_9SZBF1DJW78geb7jSQon9GsXwPQ"
      ]
     },
     "execution_count": 1,
     "metadata": {},
     "output_type": "execute_result"
    }
   ],
   "source": [
    "pYPKa_Z_TEF1.stamp()\n",
    "pYPKa_E_TEF1.stamp()"
   ]
  },
  {
   "cell_type": "markdown",
   "metadata": {},
   "source": [
    "pYPKa_Z_TEF1 is written to a local file:"
   ]
  },
  {
   "cell_type": "code",
   "execution_count": 27,
   "metadata": {
    "execution": {
     "iopub.execute_input": "2021-05-17T10:28:05.996071Z",
     "iopub.status.busy": "2021-05-17T10:28:05.989745Z",
     "iopub.status.idle": "2021-05-17T10:28:06.000512Z",
     "shell.execute_reply": "2021-05-17T10:28:06.000901Z"
    }
   },
   "outputs": [
    {
     "data": {
      "text/html": [
       "<font face=monospace><a href='pYPKa_Z_TEF1.gb' target='_blank'>pYPKa_Z_TEF1.gb</a></font><br>"
      ]
     },
     "metadata": {},
     "output_type": "display_data"
    }
   ],
   "source": [
    "pYPKa_Z_TEF1.write(\"pYPKa_Z_TEF1.gb\")"
   ]
  },
  {
   "cell_type": "markdown",
   "metadata": {},
   "source": [
    "pYPKa_E_TEF1 is written to a local file:"
   ]
  },
  {
   "cell_type": "code",
   "execution_count": 28,
   "metadata": {
    "execution": {
     "iopub.execute_input": "2021-05-17T10:28:06.004347Z",
     "iopub.status.busy": "2021-05-17T10:28:06.003904Z",
     "iopub.status.idle": "2021-05-17T10:28:06.011902Z",
     "shell.execute_reply": "2021-05-17T10:28:06.010930Z"
    }
   },
   "outputs": [
    {
     "data": {
      "text/html": [
       "<font face=monospace><a href='pYPKa_E_TEF1.gb' target='_blank'>pYPKa_E_TEF1.gb</a></font><br>"
      ]
     },
     "metadata": {},
     "output_type": "display_data"
    }
   ],
   "source": [
    "pYPKa_E_TEF1.write(\"pYPKa_E_TEF1.gb\")"
   ]
  }
 ],
 "metadata": {
  "language_info": {
   "codemirror_mode": {
    "name": "ipython",
    "version": 3
   },
   "file_extension": ".py",
   "mimetype": "text/x-python",
   "name": "python",
   "nbconvert_exporter": "python",
   "pygments_lexer": "ipython3",
   "version": "3.9.0"
  }
 },
 "nbformat": 4,
 "nbformat_minor": 2
}
