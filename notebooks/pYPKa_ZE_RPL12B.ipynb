{
 "cells": [
  {
   "cell_type": "markdown",
   "metadata": {},
   "source": [
    "# pYPKa_Z_RPL12B and pYPKa_E_RPL12B\n",
    "\n",
    "This Jupyter notebook describe the construction of E. coli vectors [pYPKa_Z_RPL12B](pYPKa_Z_RPL12B.gb) and [pYPKa_E_RPL12B](pYPKa_E_RPL12B.gb). \n",
    "These two vectors share backbone and insert, but in the former, the insert is cloned using the restriction\n",
    "enzyme [ZraI](http://rebase.neb.com/rebase/enz/ZraI.html) while in the latter [EcoRV](http://rebase.neb.com/rebase/enz/EcoRV.html) is used.\n",
    "\n",
    "The insert cloned in ZraI is meant to function as a promoter, while in the EcoRV site it is meant to be  used as a terminator.\n",
    "\n",
    "Links to the sequence of each vector in Genbank format can be found at the bottom of this document.\n",
    "\n",
    "![pYPKa_Z and pYPKa_E](figure_pYPKa_ZE.png \"pYPKa_Z or pYPKa_E plasmid\")\n",
    "\n",
    "The Python package [pydna](https://pypi.python.org/pypi/pydna/) package is imported in the code cell below to provide \n",
    "the cloning functionality. There is a [publication](http://www.biomedcentral.com/1471-2105/16/142) describing pydna as well as\n",
    "[documentation](http://pydna.readthedocs.io/) available online. Pydna is developed on [Github](https://github.com/BjornFJohansson/pydna)."
   ]
  },
  {
   "cell_type": "code",
   "execution_count": 1,
   "metadata": {
    "execution": {
     "iopub.execute_input": "2021-05-17T10:26:18.747624Z",
     "iopub.status.busy": "2021-05-17T10:26:18.747176Z",
     "iopub.status.idle": "2021-05-17T10:26:19.296902Z",
     "shell.execute_reply": "2021-05-17T10:26:19.297520Z"
    }
   },
   "outputs": [],
   "source": [
    "from pydna.readers import read\n",
    "from pydna.parsers import parse_primers\n",
    "from pydna.genbank import Genbank\n",
    "from pydna.amplify import pcr\n",
    "from pydna.amplify import Anneal"
   ]
  },
  {
   "cell_type": "markdown",
   "metadata": {},
   "source": [
    "The vector backbone pYPKa is read from a local [file](pYPKa.gb)."
   ]
  },
  {
   "cell_type": "code",
   "execution_count": 2,
   "metadata": {
    "execution": {
     "iopub.execute_input": "2021-05-17T10:26:19.305093Z",
     "iopub.status.busy": "2021-05-17T10:26:19.304055Z",
     "iopub.status.idle": "2021-05-17T10:26:19.313186Z",
     "shell.execute_reply": "2021-05-17T10:26:19.312774Z"
    }
   },
   "outputs": [],
   "source": [
    "pYPKa = read(\"pYPKa.gb\")"
   ]
  },
  {
   "cell_type": "markdown",
   "metadata": {},
   "source": [
    "Both restriction enzymes are imported from [Biopython](http://biopython.org/wiki/Main_Page)"
   ]
  },
  {
   "cell_type": "code",
   "execution_count": 3,
   "metadata": {
    "execution": {
     "iopub.execute_input": "2021-05-17T10:26:19.316893Z",
     "iopub.status.busy": "2021-05-17T10:26:19.316390Z",
     "iopub.status.idle": "2021-05-17T10:26:19.318748Z",
     "shell.execute_reply": "2021-05-17T10:26:19.318194Z"
    }
   },
   "outputs": [],
   "source": [
    "from Bio.Restriction import ZraI, EcoRV"
   ]
  },
  {
   "cell_type": "markdown",
   "metadata": {},
   "source": [
    "The vector is cut with both enzymes."
   ]
  },
  {
   "cell_type": "code",
   "execution_count": 4,
   "metadata": {
    "execution": {
     "iopub.execute_input": "2021-05-17T10:26:19.324776Z",
     "iopub.status.busy": "2021-05-17T10:26:19.324236Z",
     "iopub.status.idle": "2021-05-17T10:26:19.326586Z",
     "shell.execute_reply": "2021-05-17T10:26:19.326053Z"
    }
   },
   "outputs": [],
   "source": [
    "pYPKa_ZraI  = pYPKa.linearize(ZraI)\n",
    "pYPKa_EcoRV = pYPKa.linearize(EcoRV)"
   ]
  },
  {
   "cell_type": "markdown",
   "metadata": {},
   "source": [
    "The template below comes from a Genbank [record](http://www.ncbi.nlm.nih.gov/nuccore/BK006938.2).\n",
    "Access to Genbank is needed in order to download the template.\n",
    "If you execute this script, change the email address below to your own.\n",
    "Always tell Genbank who you are, when using their web service."
   ]
  },
  {
   "cell_type": "code",
   "execution_count": 5,
   "metadata": {
    "execution": {
     "iopub.execute_input": "2021-05-17T10:26:19.330390Z",
     "iopub.status.busy": "2021-05-17T10:26:19.329960Z",
     "iopub.status.idle": "2021-05-17T10:26:19.331747Z",
     "shell.execute_reply": "2021-05-17T10:26:19.332171Z"
    }
   },
   "outputs": [],
   "source": [
    "gb = Genbank(\"bjornjobb@gmail.com\")"
   ]
  },
  {
   "cell_type": "markdown",
   "metadata": {},
   "source": [
    "The template is downloaded from Genbank below."
   ]
  },
  {
   "cell_type": "code",
   "execution_count": 6,
   "metadata": {
    "execution": {
     "iopub.execute_input": "2021-05-17T10:26:19.335583Z",
     "iopub.status.busy": "2021-05-17T10:26:19.335159Z",
     "iopub.status.idle": "2021-05-17T10:26:19.345136Z",
     "shell.execute_reply": "2021-05-17T10:26:19.344690Z"
    }
   },
   "outputs": [],
   "source": [
    "template = gb.nucleotide(\"BK006938.2 REGION: 1301012..1301615\")"
   ]
  },
  {
   "cell_type": "markdown",
   "metadata": {},
   "source": [
    "The template is a 604 bp linear DNA fragment."
   ]
  },
  {
   "cell_type": "code",
   "execution_count": 7,
   "metadata": {
    "execution": {
     "iopub.execute_input": "2021-05-17T10:26:19.353369Z",
     "iopub.status.busy": "2021-05-17T10:26:19.352770Z",
     "iopub.status.idle": "2021-05-17T10:26:19.355808Z",
     "shell.execute_reply": "2021-05-17T10:26:19.356299Z"
    }
   },
   "outputs": [
    {
     "data": {
      "text/html": [
       "<a href='https://www.ncbi.nlm.nih.gov/nuccore/BK006938.2 ?from=1301012&to=1301615&strand=1' target='_blank'>BK006938.2  1301012-1301615</a>"
      ],
      "text/plain": [
       "Gbank(BK006938.2  1301012-1301615)(-604)"
      ]
     },
     "execution_count": 1,
     "metadata": {},
     "output_type": "execute_result"
    }
   ],
   "source": [
    "template"
   ]
  },
  {
   "cell_type": "markdown",
   "metadata": {},
   "source": [
    "The insert has the sequence shown below."
   ]
  },
  {
   "cell_type": "code",
   "execution_count": 8,
   "metadata": {
    "execution": {
     "iopub.execute_input": "2021-05-17T10:26:19.360026Z",
     "iopub.status.busy": "2021-05-17T10:26:19.359420Z",
     "iopub.status.idle": "2021-05-17T10:26:19.361979Z",
     "shell.execute_reply": "2021-05-17T10:26:19.362382Z"
    }
   },
   "outputs": [
    {
     "name": "stdout",
     "output_type": "stream",
     "text": [
      "TATAAGCTATGTAAAATCATGCATCATTTTCGAAACCATAAGTTCTTTTTTGGTGCGGCCTTCTGCAATTACTGATTAAGTAGCAATTTTCCTTCAAACATCCGTGCACTGTGGATGTTTGGGTTGTGTATTTTGCTTTCATAACATACAGATATTTTGTTTAAGGAAGTGAAATAAACAATATCATAAAACAGGTACTTCATAGACCATAAAGCATAACCCAGATTATCCTCTTAGATAGCAATGCTAATGTAAACAGAGATCCGTTTGCGTGACTTTATACTAATATGATATGTCTACTTCGCTTTGTGTTCGAGCAGCCTGGCAGTCCCCTCTAGCCGCTTTTTTCCCTTTCCGAAGGTTTCCGCCTAAGCCCCCTGGCTCTAGGCCGAGAAAATGTTAATGCTCCTTCTACGAGAAAATGCTTGTCGCCACACCAGGACAGGTGCTCGACGACGCTTCCGCTAATCTTTCTCAATGTTGTATCTTCTTTGGCGGTACATTACTAGTATGAAAATGGAATAAAAACAGTACCTAAATTATTTACTTACTTCCCGTTAAAGCAACCCCAAGTGCCCAATAGAAGGATAAATCAATAGTCAAT\n"
     ]
    }
   ],
   "source": [
    "print(str(template.seq))"
   ]
  },
  {
   "cell_type": "markdown",
   "metadata": {},
   "source": [
    "The seguid checksum of the template should be\n",
    "\n",
    "```Q3gOXGsYXWj60cqJMA2-V3Ilx0A```"
   ]
  },
  {
   "cell_type": "code",
   "execution_count": 9,
   "metadata": {
    "execution": {
     "iopub.execute_input": "2021-05-17T10:26:19.366342Z",
     "iopub.status.busy": "2021-05-17T10:26:19.365642Z",
     "iopub.status.idle": "2021-05-17T10:26:19.369132Z",
     "shell.execute_reply": "2021-05-17T10:26:19.369830Z"
    }
   },
   "outputs": [
    {
     "data": {
      "text/plain": [
       "Q3gOXGsYXWj60cqJMA2-V3Ilx0A"
      ]
     },
     "execution_count": 1,
     "metadata": {},
     "output_type": "execute_result"
    }
   ],
   "source": [
    "template.seguid()"
   ]
  },
  {
   "cell_type": "markdown",
   "metadata": {},
   "source": [
    "Two primers are used to amplify the insert:"
   ]
  },
  {
   "cell_type": "code",
   "execution_count": 10,
   "metadata": {
    "execution": {
     "iopub.execute_input": "2021-05-17T10:26:19.375753Z",
     "iopub.status.busy": "2021-05-17T10:26:19.374774Z",
     "iopub.status.idle": "2021-05-17T10:26:19.378349Z",
     "shell.execute_reply": "2021-05-17T10:26:19.377651Z"
    }
   },
   "outputs": [],
   "source": [
    "fp,rp = parse_primers(\"\"\">753_RPL12B_fw\n",
    "                         ttaaatTATAAGCTATGTAAAATCATGC\n",
    "                         >754_RPL12B_rv\n",
    "                         taattaaATTGACTATTGATTTATCCTTC\"\"\")"
   ]
  },
  {
   "cell_type": "markdown",
   "metadata": {},
   "source": [
    "PCR to create the insert using the primers above."
   ]
  },
  {
   "cell_type": "code",
   "execution_count": 11,
   "metadata": {
    "execution": {
     "iopub.execute_input": "2021-05-17T10:26:19.384632Z",
     "iopub.status.busy": "2021-05-17T10:26:19.384040Z",
     "iopub.status.idle": "2021-05-17T10:26:19.388868Z",
     "shell.execute_reply": "2021-05-17T10:26:19.389543Z"
    }
   },
   "outputs": [],
   "source": [
    "prd = pcr(fp, rp, template)\n",
    "assert str(fp.seq) in prd"
   ]
  },
  {
   "cell_type": "markdown",
   "metadata": {},
   "source": [
    "The PCR product has this length in bp."
   ]
  },
  {
   "cell_type": "code",
   "execution_count": 12,
   "metadata": {
    "execution": {
     "iopub.execute_input": "2021-05-17T10:26:19.394827Z",
     "iopub.status.busy": "2021-05-17T10:26:19.394044Z",
     "iopub.status.idle": "2021-05-17T10:26:19.398361Z",
     "shell.execute_reply": "2021-05-17T10:26:19.397683Z"
    }
   },
   "outputs": [
    {
     "data": {
      "text/plain": [
       "617"
      ]
     },
     "execution_count": 1,
     "metadata": {},
     "output_type": "execute_result"
    }
   ],
   "source": [
    "len(prd)"
   ]
  },
  {
   "cell_type": "markdown",
   "metadata": {},
   "source": [
    "A figure of the primers annealing on template."
   ]
  },
  {
   "cell_type": "code",
   "execution_count": 13,
   "metadata": {
    "execution": {
     "iopub.execute_input": "2021-05-17T10:26:19.404132Z",
     "iopub.status.busy": "2021-05-17T10:26:19.403173Z",
     "iopub.status.idle": "2021-05-17T10:26:19.407342Z",
     "shell.execute_reply": "2021-05-17T10:26:19.406697Z"
    }
   },
   "outputs": [
    {
     "data": {
      "text/plain": [
       "      5TATAAGCTATGTAAAATCATGC...GAAGGATAAATCAATAGTCAAT3\n",
       "                                ||||||||||||||||||||||\n",
       "                               3CTTCCTATTTAGTTATCAGTTAaattaat5\n",
       "5ttaaatTATAAGCTATGTAAAATCATGC3\n",
       "       ||||||||||||||||||||||\n",
       "      3ATATTCGATACATTTTAGTACG...CTTCCTATTTAGTTATCAGTTA5"
      ]
     },
     "execution_count": 1,
     "metadata": {},
     "output_type": "execute_result"
    }
   ],
   "source": [
    "prd.figure()"
   ]
  },
  {
   "cell_type": "markdown",
   "metadata": {},
   "source": [
    "A suggested PCR program."
   ]
  },
  {
   "cell_type": "code",
   "execution_count": 14,
   "metadata": {
    "execution": {
     "iopub.execute_input": "2021-05-17T10:26:19.412510Z",
     "iopub.status.busy": "2021-05-17T10:26:19.411833Z",
     "iopub.status.idle": "2021-05-17T10:26:19.414514Z",
     "shell.execute_reply": "2021-05-17T10:26:19.414932Z"
    }
   },
   "outputs": [
    {
     "data": {
      "text/plain": [
       "|95°C|95°C               |    |tmf:53.7\n",
       "|____|_____          72°C|72°C|tmr:52.8\n",
       "|5min|30s  \\ 53.0°C _____|____|60s/kb\n",
       "|    |      \\______/ 0:37|5min|GC 38%\n",
       "|    |       30s         |    |617bp"
      ]
     },
     "execution_count": 1,
     "metadata": {},
     "output_type": "execute_result"
    }
   ],
   "source": [
    "prd.program()"
   ]
  },
  {
   "cell_type": "markdown",
   "metadata": {},
   "source": [
    "The final vectors are:"
   ]
  },
  {
   "cell_type": "code",
   "execution_count": 15,
   "metadata": {
    "execution": {
     "iopub.execute_input": "2021-05-17T10:26:19.453751Z",
     "iopub.status.busy": "2021-05-17T10:26:19.432534Z",
     "iopub.status.idle": "2021-05-17T10:26:19.897967Z",
     "shell.execute_reply": "2021-05-17T10:26:19.897427Z"
    }
   },
   "outputs": [],
   "source": [
    "pYPKa_Z_RPL12B = (pYPKa_ZraI  + prd).looped().synced(pYPKa)\n",
    "pYPKa_E_RPL12B = (pYPKa_EcoRV + prd).looped().synced(pYPKa)"
   ]
  },
  {
   "cell_type": "markdown",
   "metadata": {},
   "source": [
    "The final vectors with reverse inserts are created below. These vectors theoretically make up\n",
    "fifty percent of the clones. The PCR strategy outlined below can be used to identify clones with the insert\n",
    "in the correct orientation."
   ]
  },
  {
   "cell_type": "code",
   "execution_count": 16,
   "metadata": {
    "execution": {
     "iopub.execute_input": "2021-05-17T10:26:19.910843Z",
     "iopub.status.busy": "2021-05-17T10:26:19.905707Z",
     "iopub.status.idle": "2021-05-17T10:26:20.359337Z",
     "shell.execute_reply": "2021-05-17T10:26:20.358629Z"
    }
   },
   "outputs": [],
   "source": [
    "pYPKa_Z_RPL12Bb = (pYPKa_ZraI  + prd.rc()).looped().synced(pYPKa)\n",
    "pYPKa_E_RPL12Bb = (pYPKa_EcoRV + prd.rc()).looped().synced(pYPKa)"
   ]
  },
  {
   "cell_type": "markdown",
   "metadata": {},
   "source": [
    "A combination of yeast pathway kit standard primers and the primers above are\n",
    "used for the strategy to identify correct clones.\n",
    "Standard primers used in the yeast are listed [here](standard_primers.txt)."
   ]
  },
  {
   "cell_type": "code",
   "execution_count": 17,
   "metadata": {
    "execution": {
     "iopub.execute_input": "2021-05-17T10:26:20.363875Z",
     "iopub.status.busy": "2021-05-17T10:26:20.363437Z",
     "iopub.status.idle": "2021-05-17T10:26:20.365201Z",
     "shell.execute_reply": "2021-05-17T10:26:20.365883Z"
    }
   },
   "outputs": [],
   "source": [
    "p = { x.id: x for x in parse_primers(\"\"\">577\n",
    "                                         gttctgatcctcgagcatcttaagaattc\n",
    "                                         >578\n",
    "                                         gttcttgtctcattgccacattcataagt\n",
    "                                         >468\n",
    "                                         gtcgaggaacgccaggttgcccact\n",
    "                                         >467\n",
    "                                         ATTTAAatcctgatgcgtttgtctgcacaga\n",
    "                                         >567\n",
    "                                         GTcggctgcaggtcactagtgag\n",
    "                                         >568\n",
    "                                         GTGCcatctgtgcagacaaacg\n",
    "                                         >775\n",
    "                                         gcggccgctgacTTAAAT\n",
    "                                         >778\n",
    "                                         ggtaaatccggatTAATTAA\n",
    "                                         >342\n",
    "                                         CCTTTTTACGGTTCCTGGCCT\"\"\") }"
   ]
  },
  {
   "cell_type": "markdown",
   "metadata": {},
   "source": [
    "## Diagnostic PCR confirmation\n",
    "\n",
    "The correct structure of pYPKa_Z_RPL12B is confirmed by PCR using standard primers\n",
    "577 and 342 that are vector specific together with the RPL12Bfw primer specific for the insert\n",
    "in a multiplex PCR reaction with\n",
    "all three primers present.\n",
    "\n",
    "Two PCR products are expected if the insert was cloned, the sizes depend\n",
    "on the orientation. If the vector is empty or contains another insert, only one\n",
    "product is formed.\n",
    "\n",
    "#### Expected PCR products sizes from pYPKa_Z_RPL12B:\n",
    "\n",
    "pYPKa_Z_RPL12B with insert in correct orientation."
   ]
  },
  {
   "cell_type": "code",
   "execution_count": 18,
   "metadata": {
    "execution": {
     "iopub.execute_input": "2021-05-17T10:26:20.379724Z",
     "iopub.status.busy": "2021-05-17T10:26:20.379089Z",
     "iopub.status.idle": "2021-05-17T10:26:20.383078Z",
     "shell.execute_reply": "2021-05-17T10:26:20.383971Z"
    }
   },
   "outputs": [
    {
     "data": {
      "text/plain": [
       "[Amplicon(1551), Amplicon(1383)]"
      ]
     },
     "execution_count": 1,
     "metadata": {},
     "output_type": "execute_result"
    }
   ],
   "source": [
    "Anneal( (p['577'], p['342'], fp), pYPKa_Z_RPL12B).products"
   ]
  },
  {
   "cell_type": "markdown",
   "metadata": {},
   "source": [
    "pYPKa_Z_RPL12B with insert in reverse orientation."
   ]
  },
  {
   "cell_type": "code",
   "execution_count": 19,
   "metadata": {
    "execution": {
     "iopub.execute_input": "2021-05-17T10:26:20.399115Z",
     "iopub.status.busy": "2021-05-17T10:26:20.398477Z",
     "iopub.status.idle": "2021-05-17T10:26:20.401687Z",
     "shell.execute_reply": "2021-05-17T10:26:20.401165Z"
    }
   },
   "outputs": [
    {
     "data": {
      "text/plain": [
       "[Amplicon(1551), Amplicon(785)]"
      ]
     },
     "execution_count": 1,
     "metadata": {},
     "output_type": "execute_result"
    }
   ],
   "source": [
    "Anneal( (p['577'], p['342'], fp), pYPKa_Z_RPL12Bb).products"
   ]
  },
  {
   "cell_type": "markdown",
   "metadata": {},
   "source": [
    "Empty pYPKa clone."
   ]
  },
  {
   "cell_type": "code",
   "execution_count": 20,
   "metadata": {
    "execution": {
     "iopub.execute_input": "2021-05-17T10:26:20.408673Z",
     "iopub.status.busy": "2021-05-17T10:26:20.408149Z",
     "iopub.status.idle": "2021-05-17T10:26:20.412526Z",
     "shell.execute_reply": "2021-05-17T10:26:20.411742Z"
    }
   },
   "outputs": [
    {
     "data": {
      "text/plain": [
       "[Amplicon(934)]"
      ]
     },
     "execution_count": 1,
     "metadata": {},
     "output_type": "execute_result"
    }
   ],
   "source": [
    "Anneal( (p['577'], p['342'], fp), pYPKa).products"
   ]
  },
  {
   "cell_type": "markdown",
   "metadata": {},
   "source": [
    "#### Expected PCR products sizes pYPKa_E_RPL12B:\n",
    "\n",
    "pYPKa_E_RPL12B with insert in correct orientation."
   ]
  },
  {
   "cell_type": "code",
   "execution_count": 21,
   "metadata": {
    "execution": {
     "iopub.execute_input": "2021-05-17T10:26:20.427174Z",
     "iopub.status.busy": "2021-05-17T10:26:20.426714Z",
     "iopub.status.idle": "2021-05-17T10:26:20.429404Z",
     "shell.execute_reply": "2021-05-17T10:26:20.429751Z"
    }
   },
   "outputs": [
    {
     "data": {
      "text/plain": [
       "[Amplicon(1551), Amplicon(1302)]"
      ]
     },
     "execution_count": 1,
     "metadata": {},
     "output_type": "execute_result"
    }
   ],
   "source": [
    "Anneal( (p['577'], p['342'], fp), pYPKa_E_RPL12B).products"
   ]
  },
  {
   "cell_type": "markdown",
   "metadata": {},
   "source": [
    "pYPKa_E_RPL12B with insert in reverse orientation."
   ]
  },
  {
   "cell_type": "code",
   "execution_count": 22,
   "metadata": {
    "execution": {
     "iopub.execute_input": "2021-05-17T10:26:20.442873Z",
     "iopub.status.busy": "2021-05-17T10:26:20.442093Z",
     "iopub.status.idle": "2021-05-17T10:26:20.445684Z",
     "shell.execute_reply": "2021-05-17T10:26:20.445062Z"
    }
   },
   "outputs": [
    {
     "data": {
      "text/plain": [
       "[Amplicon(1551), Amplicon(866)]"
      ]
     },
     "execution_count": 1,
     "metadata": {},
     "output_type": "execute_result"
    }
   ],
   "source": [
    "Anneal( (p['577'], p['342'], fp), pYPKa_E_RPL12Bb).products\n"
   ]
  },
  {
   "cell_type": "markdown",
   "metadata": {},
   "source": [
    "Calculate cseguid checksums for the resulting plasmids for future reference.\n",
    "This checksum that uniquely describes a circular double stranded\n",
    "sequence. See this [blog post](https://ochsavidare.blogspot.com/2016/02/checksum-for-circular-biological.html) for more info.\n",
    "\n",
    "pYPKa_Z_RPL12B.cseguid() should be CZOY5erFm_2dtkxUlxDCz57hVGU"
   ]
  },
  {
   "cell_type": "code",
   "execution_count": 23,
   "metadata": {
    "execution": {
     "iopub.execute_input": "2021-05-17T10:26:20.456882Z",
     "iopub.status.busy": "2021-05-17T10:26:20.452607Z",
     "iopub.status.idle": "2021-05-17T10:26:20.459929Z",
     "shell.execute_reply": "2021-05-17T10:26:20.459344Z"
    }
   },
   "outputs": [
    {
     "name": "stdout",
     "output_type": "stream",
     "text": [
      "CZOY5erFm_2dtkxUlxDCz57hVGU\n"
     ]
    }
   ],
   "source": [
    "print(pYPKa_Z_RPL12B.cseguid())\n",
    "assert pYPKa_Z_RPL12B.cseguid() == \"CZOY5erFm_2dtkxUlxDCz57hVGU\""
   ]
  },
  {
   "cell_type": "markdown",
   "metadata": {},
   "source": [
    "pYPKa_E_RPL12B.cseguid() should be Rfg0YgJRGBT9cT9DtaItrpptd-I"
   ]
  },
  {
   "cell_type": "code",
   "execution_count": 24,
   "metadata": {
    "execution": {
     "iopub.execute_input": "2021-05-17T10:26:20.469452Z",
     "iopub.status.busy": "2021-05-17T10:26:20.468717Z",
     "iopub.status.idle": "2021-05-17T10:26:20.471726Z",
     "shell.execute_reply": "2021-05-17T10:26:20.471231Z"
    }
   },
   "outputs": [
    {
     "name": "stdout",
     "output_type": "stream",
     "text": [
      "Rfg0YgJRGBT9cT9DtaItrpptd-I\n"
     ]
    }
   ],
   "source": [
    "print(pYPKa_E_RPL12B.cseguid())\n",
    "assert pYPKa_E_RPL12B.cseguid() == \"Rfg0YgJRGBT9cT9DtaItrpptd-I\""
   ]
  },
  {
   "cell_type": "markdown",
   "metadata": {},
   "source": [
    "The sequences are named based on the name of the cloned insert."
   ]
  },
  {
   "cell_type": "code",
   "execution_count": 25,
   "metadata": {
    "execution": {
     "iopub.execute_input": "2021-05-17T10:26:20.475224Z",
     "iopub.status.busy": "2021-05-17T10:26:20.474750Z",
     "iopub.status.idle": "2021-05-17T10:26:20.477058Z",
     "shell.execute_reply": "2021-05-17T10:26:20.476528Z"
    }
   },
   "outputs": [],
   "source": [
    "pYPKa_Z_RPL12B.locus = \"pYPKa_Z_RPL12B\"[:16]\n",
    "pYPKa_E_RPL12B.locus = \"pYPKa_Z_RPL12B\"[:16]"
   ]
  },
  {
   "cell_type": "markdown",
   "metadata": {},
   "source": [
    "Stamp sequence with cseguid checksum. This can be used to verify the\n",
    "integrity of the sequence file."
   ]
  },
  {
   "cell_type": "code",
   "execution_count": 26,
   "metadata": {
    "execution": {
     "iopub.execute_input": "2021-05-17T10:26:20.486533Z",
     "iopub.status.busy": "2021-05-17T10:26:20.486036Z",
     "iopub.status.idle": "2021-05-17T10:26:20.488576Z",
     "shell.execute_reply": "2021-05-17T10:26:20.488993Z"
    }
   },
   "outputs": [
    {
     "data": {
      "text/plain": [
       "cSEGUID_Rfg0YgJRGBT9cT9DtaItrpptd-I"
      ]
     },
     "execution_count": 1,
     "metadata": {},
     "output_type": "execute_result"
    }
   ],
   "source": [
    "pYPKa_Z_RPL12B.stamp()\n",
    "pYPKa_E_RPL12B.stamp()"
   ]
  },
  {
   "cell_type": "markdown",
   "metadata": {},
   "source": [
    "pYPKa_Z_RPL12B is written to a local file:"
   ]
  },
  {
   "cell_type": "code",
   "execution_count": 27,
   "metadata": {
    "execution": {
     "iopub.execute_input": "2021-05-17T10:26:20.494637Z",
     "iopub.status.busy": "2021-05-17T10:26:20.491881Z",
     "iopub.status.idle": "2021-05-17T10:26:20.498308Z",
     "shell.execute_reply": "2021-05-17T10:26:20.498888Z"
    }
   },
   "outputs": [
    {
     "data": {
      "text/html": [
       "<font face=monospace><a href='pYPKa_Z_RPL12B.gb' target='_blank'>pYPKa_Z_RPL12B.gb</a></font><br>"
      ]
     },
     "metadata": {},
     "output_type": "display_data"
    }
   ],
   "source": [
    "pYPKa_Z_RPL12B.write(\"pYPKa_Z_RPL12B.gb\")"
   ]
  },
  {
   "cell_type": "markdown",
   "metadata": {},
   "source": [
    "pYPKa_E_RPL12B is written to a local file:"
   ]
  },
  {
   "cell_type": "code",
   "execution_count": 28,
   "metadata": {
    "execution": {
     "iopub.execute_input": "2021-05-17T10:26:20.505011Z",
     "iopub.status.busy": "2021-05-17T10:26:20.502475Z",
     "iopub.status.idle": "2021-05-17T10:26:20.509387Z",
     "shell.execute_reply": "2021-05-17T10:26:20.509991Z"
    }
   },
   "outputs": [
    {
     "data": {
      "text/html": [
       "<font face=monospace><a href='pYPKa_E_RPL12B.gb' target='_blank'>pYPKa_E_RPL12B.gb</a></font><br>"
      ]
     },
     "metadata": {},
     "output_type": "display_data"
    }
   ],
   "source": [
    "pYPKa_E_RPL12B.write(\"pYPKa_E_RPL12B.gb\")"
   ]
  }
 ],
 "metadata": {
  "language_info": {
   "codemirror_mode": {
    "name": "ipython",
    "version": 3
   },
   "file_extension": ".py",
   "mimetype": "text/x-python",
   "name": "python",
   "nbconvert_exporter": "python",
   "pygments_lexer": "ipython3",
   "version": "3.9.0"
  }
 },
 "nbformat": 4,
 "nbformat_minor": 2
}
