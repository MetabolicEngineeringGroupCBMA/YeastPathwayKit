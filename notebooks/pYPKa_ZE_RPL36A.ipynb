{
 "cells": [
  {
   "cell_type": "markdown",
   "metadata": {},
   "source": [
    "# pYPKa_Z_RPL36A and pYPKa_E_RPL36A\n",
    "\n",
    "This Jupyter notebook describe the construction of E. coli vectors [pYPKa_Z_RPL36A](pYPKa_Z_RPL36A.gb) and [pYPKa_E_RPL36A](pYPKa_E_RPL36A.gb). \n",
    "These two vectors share backbone and insert, but in the former, the insert is cloned using the restriction\n",
    "enzyme [ZraI](http://rebase.neb.com/rebase/enz/ZraI.html) while in the latter [EcoRV](http://rebase.neb.com/rebase/enz/EcoRV.html) is used.\n",
    "\n",
    "The insert cloned in ZraI is meant to function as a promoter, while in the EcoRV site it is meant to be  used as a terminator.\n",
    "\n",
    "Links to the sequence of each vector in Genbank format can be found at the bottom of this document.\n",
    "\n",
    "![pYPKa_Z and pYPKa_E](figure_pYPKa_ZE.png \"pYPKa_Z or pYPKa_E plasmid\")\n",
    "\n",
    "The Python package [pydna](https://pypi.python.org/pypi/pydna/) package is imported in the code cell below to provide \n",
    "the cloning functionality. There is a [publication](http://www.biomedcentral.com/1471-2105/16/142) describing pydna as well as\n",
    "[documentation](http://pydna.readthedocs.io/) available online. Pydna is developed on [Github](https://github.com/BjornFJohansson/pydna)."
   ]
  },
  {
   "cell_type": "code",
   "execution_count": 1,
   "metadata": {
    "execution": {
     "iopub.execute_input": "2021-05-17T10:27:23.103554Z",
     "iopub.status.busy": "2021-05-17T10:27:23.101673Z",
     "iopub.status.idle": "2021-05-17T10:27:23.649202Z",
     "shell.execute_reply": "2021-05-17T10:27:23.648620Z"
    }
   },
   "outputs": [],
   "source": [
    "from pydna.readers import read\n",
    "from pydna.parsers import parse_primers\n",
    "from pydna.genbank import Genbank\n",
    "from pydna.amplify import pcr\n",
    "from pydna.amplify import Anneal"
   ]
  },
  {
   "cell_type": "markdown",
   "metadata": {},
   "source": [
    "The vector backbone pYPKa is read from a local [file](pYPKa.gb)."
   ]
  },
  {
   "cell_type": "code",
   "execution_count": 2,
   "metadata": {
    "execution": {
     "iopub.execute_input": "2021-05-17T10:27:23.660209Z",
     "iopub.status.busy": "2021-05-17T10:27:23.658658Z",
     "iopub.status.idle": "2021-05-17T10:27:23.668668Z",
     "shell.execute_reply": "2021-05-17T10:27:23.668078Z"
    }
   },
   "outputs": [],
   "source": [
    "pYPKa = read(\"pYPKa.gb\")"
   ]
  },
  {
   "cell_type": "markdown",
   "metadata": {},
   "source": [
    "Both restriction enzymes are imported from [Biopython](http://biopython.org/wiki/Main_Page)"
   ]
  },
  {
   "cell_type": "code",
   "execution_count": 3,
   "metadata": {
    "execution": {
     "iopub.execute_input": "2021-05-17T10:27:23.672266Z",
     "iopub.status.busy": "2021-05-17T10:27:23.671752Z",
     "iopub.status.idle": "2021-05-17T10:27:23.674907Z",
     "shell.execute_reply": "2021-05-17T10:27:23.675317Z"
    }
   },
   "outputs": [],
   "source": [
    "from Bio.Restriction import ZraI, EcoRV"
   ]
  },
  {
   "cell_type": "markdown",
   "metadata": {},
   "source": [
    "The vector is cut with both enzymes."
   ]
  },
  {
   "cell_type": "code",
   "execution_count": 4,
   "metadata": {
    "execution": {
     "iopub.execute_input": "2021-05-17T10:27:23.683715Z",
     "iopub.status.busy": "2021-05-17T10:27:23.682966Z",
     "iopub.status.idle": "2021-05-17T10:27:23.687110Z",
     "shell.execute_reply": "2021-05-17T10:27:23.687608Z"
    }
   },
   "outputs": [],
   "source": [
    "pYPKa_ZraI  = pYPKa.linearize(ZraI)\n",
    "pYPKa_EcoRV = pYPKa.linearize(EcoRV)"
   ]
  },
  {
   "cell_type": "markdown",
   "metadata": {},
   "source": [
    "The template below comes from a Genbank [record](http://www.ncbi.nlm.nih.gov/nuccore/BK006946.2).\n",
    "Access to Genbank is needed in order to download the template.\n",
    "If you execute this script, change the email address below to your own.\n",
    "Always tell Genbank who you are, when using their web service."
   ]
  },
  {
   "cell_type": "code",
   "execution_count": 5,
   "metadata": {
    "execution": {
     "iopub.execute_input": "2021-05-17T10:27:23.691733Z",
     "iopub.status.busy": "2021-05-17T10:27:23.691275Z",
     "iopub.status.idle": "2021-05-17T10:27:23.693419Z",
     "shell.execute_reply": "2021-05-17T10:27:23.692945Z"
    }
   },
   "outputs": [],
   "source": [
    "gb = Genbank(\"bjornjobb@gmail.com\")"
   ]
  },
  {
   "cell_type": "markdown",
   "metadata": {},
   "source": [
    "The template is downloaded from Genbank below."
   ]
  },
  {
   "cell_type": "code",
   "execution_count": 6,
   "metadata": {
    "execution": {
     "iopub.execute_input": "2021-05-17T10:27:23.697616Z",
     "iopub.status.busy": "2021-05-17T10:27:23.696851Z",
     "iopub.status.idle": "2021-05-17T10:27:23.706755Z",
     "shell.execute_reply": "2021-05-17T10:27:23.706219Z"
    }
   },
   "outputs": [],
   "source": [
    "template = gb.nucleotide(\"BK006946.2 REGION: 650813..651144\")"
   ]
  },
  {
   "cell_type": "markdown",
   "metadata": {},
   "source": [
    "The template is a 332 bp linear DNA fragment."
   ]
  },
  {
   "cell_type": "code",
   "execution_count": 7,
   "metadata": {
    "execution": {
     "iopub.execute_input": "2021-05-17T10:27:23.714716Z",
     "iopub.status.busy": "2021-05-17T10:27:23.714122Z",
     "iopub.status.idle": "2021-05-17T10:27:23.717093Z",
     "shell.execute_reply": "2021-05-17T10:27:23.717621Z"
    }
   },
   "outputs": [
    {
     "data": {
      "text/html": [
       "<a href='https://www.ncbi.nlm.nih.gov/nuccore/BK006946.2 ?from=650813&to=651144&strand=1' target='_blank'>BK006946.2  650813-651144</a>"
      ],
      "text/plain": [
       "Gbank(BK006946.2  650813-651144)(-332)"
      ]
     },
     "execution_count": 1,
     "metadata": {},
     "output_type": "execute_result"
    }
   ],
   "source": [
    "template"
   ]
  },
  {
   "cell_type": "markdown",
   "metadata": {},
   "source": [
    "The insert has the sequence shown below."
   ]
  },
  {
   "cell_type": "code",
   "execution_count": 8,
   "metadata": {
    "execution": {
     "iopub.execute_input": "2021-05-17T10:27:23.721934Z",
     "iopub.status.busy": "2021-05-17T10:27:23.721028Z",
     "iopub.status.idle": "2021-05-17T10:27:23.724808Z",
     "shell.execute_reply": "2021-05-17T10:27:23.725480Z"
    }
   },
   "outputs": [
    {
     "name": "stdout",
     "output_type": "stream",
     "text": [
      "AAGGAAGAAATAAAGAAGATAATTGCCATTCCGAAAATATCGTTGGTTTTCCCCTGTATATAAAAAAGCATATCTGTTTGTACATATGTAGGTATGCACACATTCTGAACATTATTGATGCGTATATGCTTGCTACATTAATTGGCAATTCATTTTTTAGACTGTTTTACACCCGTACATTTCACAGTTTTTTTTTGAAGTTAAATTCCAACTGAATGGAAGCCTCCGCTCCTATGAAATTTATTTGAAATCAGAGATTTCAGGATGTTGAACAGTATAGTACTGATTTACAAGTATCAAAGAAACAAGAAAGACAGCAAACACAATAAGAA\n"
     ]
    }
   ],
   "source": [
    "print(str(template.seq))"
   ]
  },
  {
   "cell_type": "markdown",
   "metadata": {},
   "source": [
    "The seguid checksum of the template should be\n",
    "\n",
    "```ebodec5w65w4FvF9nytovxaHQgI```"
   ]
  },
  {
   "cell_type": "code",
   "execution_count": 9,
   "metadata": {
    "execution": {
     "iopub.execute_input": "2021-05-17T10:27:23.730914Z",
     "iopub.status.busy": "2021-05-17T10:27:23.729917Z",
     "iopub.status.idle": "2021-05-17T10:27:23.733279Z",
     "shell.execute_reply": "2021-05-17T10:27:23.733807Z"
    }
   },
   "outputs": [
    {
     "data": {
      "text/plain": [
       "ebodec5w65w4FvF9nytovxaHQgI"
      ]
     },
     "execution_count": 1,
     "metadata": {},
     "output_type": "execute_result"
    }
   ],
   "source": [
    "template.seguid()"
   ]
  },
  {
   "cell_type": "markdown",
   "metadata": {},
   "source": [
    "Two primers are used to amplify the insert:"
   ]
  },
  {
   "cell_type": "code",
   "execution_count": 10,
   "metadata": {
    "execution": {
     "iopub.execute_input": "2021-05-17T10:27:23.738279Z",
     "iopub.status.busy": "2021-05-17T10:27:23.737719Z",
     "iopub.status.idle": "2021-05-17T10:27:23.740313Z",
     "shell.execute_reply": "2021-05-17T10:27:23.739754Z"
    }
   },
   "outputs": [],
   "source": [
    "fp,rp = parse_primers(\"\"\">838_RPL36Atpf\n",
    "                         ttaaatAAGGAAGAAATAAAGAAGATAAT\n",
    "                         >837_RPL36Atpr\n",
    "                         taattaaTTCTTATTGTGTTTGCTGT\"\"\")"
   ]
  },
  {
   "cell_type": "markdown",
   "metadata": {},
   "source": [
    "PCR to create the insert using the primers above."
   ]
  },
  {
   "cell_type": "code",
   "execution_count": 11,
   "metadata": {
    "execution": {
     "iopub.execute_input": "2021-05-17T10:27:23.746304Z",
     "iopub.status.busy": "2021-05-17T10:27:23.745627Z",
     "iopub.status.idle": "2021-05-17T10:27:23.750668Z",
     "shell.execute_reply": "2021-05-17T10:27:23.750140Z"
    }
   },
   "outputs": [],
   "source": [
    "prd = pcr(fp, rp, template)\n",
    "assert str(fp.seq) in prd"
   ]
  },
  {
   "cell_type": "markdown",
   "metadata": {},
   "source": [
    "The PCR product has this length in bp."
   ]
  },
  {
   "cell_type": "code",
   "execution_count": 12,
   "metadata": {
    "execution": {
     "iopub.execute_input": "2021-05-17T10:27:23.753945Z",
     "iopub.status.busy": "2021-05-17T10:27:23.753458Z",
     "iopub.status.idle": "2021-05-17T10:27:23.756124Z",
     "shell.execute_reply": "2021-05-17T10:27:23.756691Z"
    }
   },
   "outputs": [
    {
     "data": {
      "text/plain": [
       "345"
      ]
     },
     "execution_count": 1,
     "metadata": {},
     "output_type": "execute_result"
    }
   ],
   "source": [
    "len(prd)"
   ]
  },
  {
   "cell_type": "markdown",
   "metadata": {},
   "source": [
    "A figure of the primers annealing on template."
   ]
  },
  {
   "cell_type": "code",
   "execution_count": 13,
   "metadata": {
    "execution": {
     "iopub.execute_input": "2021-05-17T10:27:23.778787Z",
     "iopub.status.busy": "2021-05-17T10:27:23.778116Z",
     "iopub.status.idle": "2021-05-17T10:27:23.788586Z",
     "shell.execute_reply": "2021-05-17T10:27:23.787976Z"
    }
   },
   "outputs": [
    {
     "data": {
      "text/plain": [
       "      5AAGGAAGAAATAAAGAAGATAAT...ACAGCAAACACAATAAGAA3\n",
       "                                 |||||||||||||||||||\n",
       "                                3TGTCGTTTGTGTTATTCTTaattaat5\n",
       "5ttaaatAAGGAAGAAATAAAGAAGATAAT3\n",
       "       |||||||||||||||||||||||\n",
       "      3TTCCTTCTTTATTTCTTCTATTA...TGTCGTTTGTGTTATTCTT5"
      ]
     },
     "execution_count": 1,
     "metadata": {},
     "output_type": "execute_result"
    }
   ],
   "source": [
    "prd.figure()"
   ]
  },
  {
   "cell_type": "markdown",
   "metadata": {},
   "source": [
    "A suggested PCR program."
   ]
  },
  {
   "cell_type": "code",
   "execution_count": 14,
   "metadata": {
    "execution": {
     "iopub.execute_input": "2021-05-17T10:27:23.795577Z",
     "iopub.status.busy": "2021-05-17T10:27:23.794895Z",
     "iopub.status.idle": "2021-05-17T10:27:23.797996Z",
     "shell.execute_reply": "2021-05-17T10:27:23.798675Z"
    }
   },
   "outputs": [
    {
     "data": {
      "text/plain": [
       "|95°C|95°C               |    |tmf:52.4\n",
       "|____|_____          72°C|72°C|tmr:53.1\n",
       "|5min|30s  \\ 50.2°C _____|____|60s/kb\n",
       "|    |      \\______/ 0:20|5min|GC 30%\n",
       "|    |       30s         |    |345bp"
      ]
     },
     "execution_count": 1,
     "metadata": {},
     "output_type": "execute_result"
    }
   ],
   "source": [
    "prd.program()"
   ]
  },
  {
   "cell_type": "markdown",
   "metadata": {},
   "source": [
    "The final vectors are:"
   ]
  },
  {
   "cell_type": "code",
   "execution_count": 15,
   "metadata": {
    "execution": {
     "iopub.execute_input": "2021-05-17T10:27:23.808431Z",
     "iopub.status.busy": "2021-05-17T10:27:23.807653Z",
     "iopub.status.idle": "2021-05-17T10:27:24.290989Z",
     "shell.execute_reply": "2021-05-17T10:27:24.290469Z"
    }
   },
   "outputs": [],
   "source": [
    "pYPKa_Z_RPL36A = (pYPKa_ZraI  + prd).looped().synced(pYPKa)\n",
    "pYPKa_E_RPL36A = (pYPKa_EcoRV + prd).looped().synced(pYPKa)"
   ]
  },
  {
   "cell_type": "markdown",
   "metadata": {},
   "source": [
    "The final vectors with reverse inserts are created below. These vectors theoretically make up\n",
    "fifty percent of the clones. The PCR strategy outlined below can be used to identify clones with the insert\n",
    "in the correct orientation."
   ]
  },
  {
   "cell_type": "code",
   "execution_count": 16,
   "metadata": {
    "execution": {
     "iopub.execute_input": "2021-05-17T10:27:24.364526Z",
     "iopub.status.busy": "2021-05-17T10:27:24.328891Z",
     "iopub.status.idle": "2021-05-17T10:27:24.737742Z",
     "shell.execute_reply": "2021-05-17T10:27:24.737205Z"
    }
   },
   "outputs": [],
   "source": [
    "pYPKa_Z_RPL36Ab = (pYPKa_ZraI  + prd.rc()).looped().synced(pYPKa)\n",
    "pYPKa_E_RPL36Ab = (pYPKa_EcoRV + prd.rc()).looped().synced(pYPKa)"
   ]
  },
  {
   "cell_type": "markdown",
   "metadata": {},
   "source": [
    "A combination of yeast pathway kit standard primers and the primers above are\n",
    "used for the strategy to identify correct clones.\n",
    "Standard primers used in the yeast are listed [here](standard_primers.txt)."
   ]
  },
  {
   "cell_type": "code",
   "execution_count": 17,
   "metadata": {
    "execution": {
     "iopub.execute_input": "2021-05-17T10:27:24.742065Z",
     "iopub.status.busy": "2021-05-17T10:27:24.741621Z",
     "iopub.status.idle": "2021-05-17T10:27:24.743728Z",
     "shell.execute_reply": "2021-05-17T10:27:24.744243Z"
    }
   },
   "outputs": [],
   "source": [
    "p = { x.id: x for x in parse_primers(\"\"\">577\n",
    "                                         gttctgatcctcgagcatcttaagaattc\n",
    "                                         >578\n",
    "                                         gttcttgtctcattgccacattcataagt\n",
    "                                         >468\n",
    "                                         gtcgaggaacgccaggttgcccact\n",
    "                                         >467\n",
    "                                         ATTTAAatcctgatgcgtttgtctgcacaga\n",
    "                                         >567\n",
    "                                         GTcggctgcaggtcactagtgag\n",
    "                                         >568\n",
    "                                         GTGCcatctgtgcagacaaacg\n",
    "                                         >775\n",
    "                                         gcggccgctgacTTAAAT\n",
    "                                         >778\n",
    "                                         ggtaaatccggatTAATTAA\n",
    "                                         >342\n",
    "                                         CCTTTTTACGGTTCCTGGCCT\"\"\") }"
   ]
  },
  {
   "cell_type": "markdown",
   "metadata": {},
   "source": [
    "## Diagnostic PCR confirmation\n",
    "\n",
    "The correct structure of pYPKa_Z_RPL36A is confirmed by PCR using standard primers\n",
    "577 and 342 that are vector specific together with the RPL36Afw primer specific for the insert\n",
    "in a multiplex PCR reaction with\n",
    "all three primers present.\n",
    "\n",
    "Two PCR products are expected if the insert was cloned, the sizes depend\n",
    "on the orientation. If the vector is empty or contains another insert, only one\n",
    "product is formed.\n",
    "\n",
    "#### Expected PCR products sizes from pYPKa_Z_RPL36A:\n",
    "\n",
    "pYPKa_Z_RPL36A with insert in correct orientation."
   ]
  },
  {
   "cell_type": "code",
   "execution_count": 18,
   "metadata": {
    "execution": {
     "iopub.execute_input": "2021-05-17T10:27:24.757002Z",
     "iopub.status.busy": "2021-05-17T10:27:24.756352Z",
     "iopub.status.idle": "2021-05-17T10:27:24.759372Z",
     "shell.execute_reply": "2021-05-17T10:27:24.758887Z"
    }
   },
   "outputs": [
    {
     "data": {
      "text/plain": [
       "[Amplicon(1279), Amplicon(1111)]"
      ]
     },
     "execution_count": 1,
     "metadata": {},
     "output_type": "execute_result"
    }
   ],
   "source": [
    "Anneal( (p['577'], p['342'], fp), pYPKa_Z_RPL36A).products"
   ]
  },
  {
   "cell_type": "markdown",
   "metadata": {},
   "source": [
    "pYPKa_Z_RPL36A with insert in reverse orientation."
   ]
  },
  {
   "cell_type": "code",
   "execution_count": 19,
   "metadata": {
    "execution": {
     "iopub.execute_input": "2021-05-17T10:27:24.772329Z",
     "iopub.status.busy": "2021-05-17T10:27:24.771775Z",
     "iopub.status.idle": "2021-05-17T10:27:24.774880Z",
     "shell.execute_reply": "2021-05-17T10:27:24.774438Z"
    }
   },
   "outputs": [
    {
     "data": {
      "text/plain": [
       "[Amplicon(1279), Amplicon(513)]"
      ]
     },
     "execution_count": 1,
     "metadata": {},
     "output_type": "execute_result"
    }
   ],
   "source": [
    "Anneal( (p['577'], p['342'], fp), pYPKa_Z_RPL36Ab).products"
   ]
  },
  {
   "cell_type": "markdown",
   "metadata": {},
   "source": [
    "Empty pYPKa clone."
   ]
  },
  {
   "cell_type": "code",
   "execution_count": 20,
   "metadata": {
    "execution": {
     "iopub.execute_input": "2021-05-17T10:27:24.783112Z",
     "iopub.status.busy": "2021-05-17T10:27:24.782448Z",
     "iopub.status.idle": "2021-05-17T10:27:24.785477Z",
     "shell.execute_reply": "2021-05-17T10:27:24.786056Z"
    }
   },
   "outputs": [
    {
     "data": {
      "text/plain": [
       "[Amplicon(934)]"
      ]
     },
     "execution_count": 1,
     "metadata": {},
     "output_type": "execute_result"
    }
   ],
   "source": [
    "Anneal( (p['577'], p['342'], fp), pYPKa).products"
   ]
  },
  {
   "cell_type": "markdown",
   "metadata": {},
   "source": [
    "#### Expected PCR products sizes pYPKa_E_RPL36A:\n",
    "\n",
    "pYPKa_E_RPL36A with insert in correct orientation."
   ]
  },
  {
   "cell_type": "code",
   "execution_count": 21,
   "metadata": {
    "execution": {
     "iopub.execute_input": "2021-05-17T10:27:24.799263Z",
     "iopub.status.busy": "2021-05-17T10:27:24.798779Z",
     "iopub.status.idle": "2021-05-17T10:27:24.801369Z",
     "shell.execute_reply": "2021-05-17T10:27:24.801727Z"
    }
   },
   "outputs": [
    {
     "data": {
      "text/plain": [
       "[Amplicon(1279), Amplicon(1030)]"
      ]
     },
     "execution_count": 1,
     "metadata": {},
     "output_type": "execute_result"
    }
   ],
   "source": [
    "Anneal( (p['577'], p['342'], fp), pYPKa_E_RPL36A).products"
   ]
  },
  {
   "cell_type": "markdown",
   "metadata": {},
   "source": [
    "pYPKa_E_RPL36A with insert in reverse orientation."
   ]
  },
  {
   "cell_type": "code",
   "execution_count": 22,
   "metadata": {
    "execution": {
     "iopub.execute_input": "2021-05-17T10:27:24.812285Z",
     "iopub.status.busy": "2021-05-17T10:27:24.811673Z",
     "iopub.status.idle": "2021-05-17T10:27:24.814599Z",
     "shell.execute_reply": "2021-05-17T10:27:24.815140Z"
    }
   },
   "outputs": [
    {
     "data": {
      "text/plain": [
       "[Amplicon(1279), Amplicon(594)]"
      ]
     },
     "execution_count": 1,
     "metadata": {},
     "output_type": "execute_result"
    }
   ],
   "source": [
    "Anneal( (p['577'], p['342'], fp), pYPKa_E_RPL36Ab).products\n"
   ]
  },
  {
   "cell_type": "markdown",
   "metadata": {},
   "source": [
    "Calculate cseguid checksums for the resulting plasmids for future reference.\n",
    "This checksum that uniquely describes a circular double stranded\n",
    "sequence. See this [blog post](https://ochsavidare.blogspot.com/2016/02/checksum-for-circular-biological.html) for more info.\n",
    "\n",
    "pYPKa_Z_RPL36A.cseguid() should be WxtDspd8bGY6m-a4NiELOEUlbfs"
   ]
  },
  {
   "cell_type": "code",
   "execution_count": 23,
   "metadata": {
    "execution": {
     "iopub.execute_input": "2021-05-17T10:27:24.826412Z",
     "iopub.status.busy": "2021-05-17T10:27:24.825963Z",
     "iopub.status.idle": "2021-05-17T10:27:24.828219Z",
     "shell.execute_reply": "2021-05-17T10:27:24.828634Z"
    }
   },
   "outputs": [
    {
     "name": "stdout",
     "output_type": "stream",
     "text": [
      "WxtDspd8bGY6m-a4NiELOEUlbfs\n"
     ]
    }
   ],
   "source": [
    "print(pYPKa_Z_RPL36A.cseguid())\n",
    "assert pYPKa_Z_RPL36A.cseguid() == \"WxtDspd8bGY6m-a4NiELOEUlbfs\""
   ]
  },
  {
   "cell_type": "markdown",
   "metadata": {},
   "source": [
    "pYPKa_E_RPL36A.cseguid() should be gTSrMGRinaZGJlpwtSm0eqC6IeM"
   ]
  },
  {
   "cell_type": "code",
   "execution_count": 24,
   "metadata": {
    "execution": {
     "iopub.execute_input": "2021-05-17T10:27:24.838206Z",
     "iopub.status.busy": "2021-05-17T10:27:24.837552Z",
     "iopub.status.idle": "2021-05-17T10:27:24.840334Z",
     "shell.execute_reply": "2021-05-17T10:27:24.840935Z"
    }
   },
   "outputs": [
    {
     "name": "stdout",
     "output_type": "stream",
     "text": [
      "gTSrMGRinaZGJlpwtSm0eqC6IeM\n"
     ]
    }
   ],
   "source": [
    "print(pYPKa_E_RPL36A.cseguid())\n",
    "assert pYPKa_E_RPL36A.cseguid() == \"gTSrMGRinaZGJlpwtSm0eqC6IeM\""
   ]
  },
  {
   "cell_type": "markdown",
   "metadata": {},
   "source": [
    "The sequences are named based on the name of the cloned insert."
   ]
  },
  {
   "cell_type": "code",
   "execution_count": 25,
   "metadata": {
    "execution": {
     "iopub.execute_input": "2021-05-17T10:27:24.845046Z",
     "iopub.status.busy": "2021-05-17T10:27:24.844484Z",
     "iopub.status.idle": "2021-05-17T10:27:24.846892Z",
     "shell.execute_reply": "2021-05-17T10:27:24.847484Z"
    }
   },
   "outputs": [],
   "source": [
    "pYPKa_Z_RPL36A.locus = \"pYPKa_Z_RPL36A\"[:16]\n",
    "pYPKa_E_RPL36A.locus = \"pYPKa_Z_RPL36A\"[:16]"
   ]
  },
  {
   "cell_type": "markdown",
   "metadata": {},
   "source": [
    "Stamp sequence with cseguid checksum. This can be used to verify the\n",
    "integrity of the sequence file."
   ]
  },
  {
   "cell_type": "code",
   "execution_count": 26,
   "metadata": {
    "execution": {
     "iopub.execute_input": "2021-05-17T10:27:24.860122Z",
     "iopub.status.busy": "2021-05-17T10:27:24.859291Z",
     "iopub.status.idle": "2021-05-17T10:27:24.863270Z",
     "shell.execute_reply": "2021-05-17T10:27:24.862746Z"
    }
   },
   "outputs": [
    {
     "data": {
      "text/plain": [
       "cSEGUID_gTSrMGRinaZGJlpwtSm0eqC6IeM"
      ]
     },
     "execution_count": 1,
     "metadata": {},
     "output_type": "execute_result"
    }
   ],
   "source": [
    "pYPKa_Z_RPL36A.stamp()\n",
    "pYPKa_E_RPL36A.stamp()"
   ]
  },
  {
   "cell_type": "markdown",
   "metadata": {},
   "source": [
    "pYPKa_Z_RPL36A is written to a local file:"
   ]
  },
  {
   "cell_type": "code",
   "execution_count": 27,
   "metadata": {
    "execution": {
     "iopub.execute_input": "2021-05-17T10:27:24.866330Z",
     "iopub.status.busy": "2021-05-17T10:27:24.865905Z",
     "iopub.status.idle": "2021-05-17T10:27:24.873362Z",
     "shell.execute_reply": "2021-05-17T10:27:24.873884Z"
    }
   },
   "outputs": [
    {
     "data": {
      "text/html": [
       "<font face=monospace><a href='pYPKa_Z_RPL36A.gb' target='_blank'>pYPKa_Z_RPL36A.gb</a></font><br>"
      ]
     },
     "metadata": {},
     "output_type": "display_data"
    }
   ],
   "source": [
    "pYPKa_Z_RPL36A.write(\"pYPKa_Z_RPL36A.gb\")"
   ]
  },
  {
   "cell_type": "markdown",
   "metadata": {},
   "source": [
    "pYPKa_E_RPL36A is written to a local file:"
   ]
  },
  {
   "cell_type": "code",
   "execution_count": 28,
   "metadata": {
    "execution": {
     "iopub.execute_input": "2021-05-17T10:27:24.882242Z",
     "iopub.status.busy": "2021-05-17T10:27:24.877556Z",
     "iopub.status.idle": "2021-05-17T10:27:24.886497Z",
     "shell.execute_reply": "2021-05-17T10:27:24.885983Z"
    }
   },
   "outputs": [
    {
     "data": {
      "text/html": [
       "<font face=monospace><a href='pYPKa_E_RPL36A.gb' target='_blank'>pYPKa_E_RPL36A.gb</a></font><br>"
      ]
     },
     "metadata": {},
     "output_type": "display_data"
    }
   ],
   "source": [
    "pYPKa_E_RPL36A.write(\"pYPKa_E_RPL36A.gb\")"
   ]
  }
 ],
 "metadata": {
  "language_info": {
   "codemirror_mode": {
    "name": "ipython",
    "version": 3
   },
   "file_extension": ".py",
   "mimetype": "text/x-python",
   "name": "python",
   "nbconvert_exporter": "python",
   "pygments_lexer": "ipython3",
   "version": "3.9.0"
  }
 },
 "nbformat": 4,
 "nbformat_minor": 2
}
