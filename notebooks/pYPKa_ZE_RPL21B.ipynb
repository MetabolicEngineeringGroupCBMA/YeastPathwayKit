{
 "cells": [
  {
   "cell_type": "markdown",
   "metadata": {},
   "source": [
    "# pYPKa_Z_RPL21B and pYPKa_E_RPL21B\n",
    "\n",
    "This Jupyter notebook describe the construction of E. coli vectors [pYPKa_Z_RPL21B](pYPKa_Z_RPL21B.gb) and [pYPKa_E_RPL21B](pYPKa_E_RPL21B.gb). \n",
    "These two vectors share backbone and insert, but in the former, the insert is cloned using the restriction\n",
    "enzyme [ZraI](http://rebase.neb.com/rebase/enz/ZraI.html) while in the latter [EcoRV](http://rebase.neb.com/rebase/enz/EcoRV.html) is used.\n",
    "\n",
    "The insert cloned in ZraI is meant to function as a promoter, while in the EcoRV site it is meant to be  used as a terminator.\n",
    "\n",
    "Links to the sequence of each vector in Genbank format can be found at the bottom of this document.\n",
    "\n",
    "![pYPKa_Z and pYPKa_E](figure_pYPKa_ZE.png \"pYPKa_Z or pYPKa_E plasmid\")\n",
    "\n",
    "The Python package [pydna](https://pypi.python.org/pypi/pydna/) package is imported in the code cell below to provide \n",
    "the cloning functionality. There is a [publication](http://www.biomedcentral.com/1471-2105/16/142) describing pydna as well as\n",
    "[documentation](http://pydna.readthedocs.io/) available online. Pydna is developed on [Github](https://github.com/BjornFJohansson/pydna)."
   ]
  },
  {
   "cell_type": "code",
   "execution_count": 1,
   "metadata": {
    "execution": {
     "iopub.execute_input": "2021-05-17T10:26:51.286641Z",
     "iopub.status.busy": "2021-05-17T10:26:51.280666Z",
     "iopub.status.idle": "2021-05-17T10:26:51.793523Z",
     "shell.execute_reply": "2021-05-17T10:26:51.792933Z"
    }
   },
   "outputs": [],
   "source": [
    "from pydna.readers import read\n",
    "from pydna.parsers import parse_primers\n",
    "from pydna.genbank import Genbank\n",
    "from pydna.amplify import pcr\n",
    "from pydna.amplify import Anneal"
   ]
  },
  {
   "cell_type": "markdown",
   "metadata": {},
   "source": [
    "The vector backbone pYPKa is read from a local [file](pYPKa.gb)."
   ]
  },
  {
   "cell_type": "code",
   "execution_count": 2,
   "metadata": {
    "execution": {
     "iopub.execute_input": "2021-05-17T10:26:51.802783Z",
     "iopub.status.busy": "2021-05-17T10:26:51.802280Z",
     "iopub.status.idle": "2021-05-17T10:26:51.810566Z",
     "shell.execute_reply": "2021-05-17T10:26:51.810980Z"
    }
   },
   "outputs": [],
   "source": [
    "pYPKa = read(\"pYPKa.gb\")"
   ]
  },
  {
   "cell_type": "markdown",
   "metadata": {},
   "source": [
    "Both restriction enzymes are imported from [Biopython](http://biopython.org/wiki/Main_Page)"
   ]
  },
  {
   "cell_type": "code",
   "execution_count": 3,
   "metadata": {
    "execution": {
     "iopub.execute_input": "2021-05-17T10:26:51.814431Z",
     "iopub.status.busy": "2021-05-17T10:26:51.813981Z",
     "iopub.status.idle": "2021-05-17T10:26:51.815672Z",
     "shell.execute_reply": "2021-05-17T10:26:51.816156Z"
    }
   },
   "outputs": [],
   "source": [
    "from Bio.Restriction import ZraI, EcoRV"
   ]
  },
  {
   "cell_type": "markdown",
   "metadata": {},
   "source": [
    "The vector is cut with both enzymes."
   ]
  },
  {
   "cell_type": "code",
   "execution_count": 4,
   "metadata": {
    "execution": {
     "iopub.execute_input": "2021-05-17T10:26:51.823137Z",
     "iopub.status.busy": "2021-05-17T10:26:51.821997Z",
     "iopub.status.idle": "2021-05-17T10:26:51.825043Z",
     "shell.execute_reply": "2021-05-17T10:26:51.825811Z"
    }
   },
   "outputs": [],
   "source": [
    "pYPKa_ZraI  = pYPKa.linearize(ZraI)\n",
    "pYPKa_EcoRV = pYPKa.linearize(EcoRV)"
   ]
  },
  {
   "cell_type": "markdown",
   "metadata": {},
   "source": [
    "The template below comes from a Genbank [record](http://www.ncbi.nlm.nih.gov/nuccore/BK006949.2).\n",
    "Access to Genbank is needed in order to download the template.\n",
    "If you execute this script, change the email address below to your own.\n",
    "Always tell Genbank who you are, when using their web service."
   ]
  },
  {
   "cell_type": "code",
   "execution_count": 5,
   "metadata": {
    "execution": {
     "iopub.execute_input": "2021-05-17T10:26:51.832242Z",
     "iopub.status.busy": "2021-05-17T10:26:51.831307Z",
     "iopub.status.idle": "2021-05-17T10:26:51.834051Z",
     "shell.execute_reply": "2021-05-17T10:26:51.834695Z"
    }
   },
   "outputs": [],
   "source": [
    "gb = Genbank(\"bjornjobb@gmail.com\")"
   ]
  },
  {
   "cell_type": "markdown",
   "metadata": {},
   "source": [
    "The template is downloaded from Genbank below."
   ]
  },
  {
   "cell_type": "code",
   "execution_count": 6,
   "metadata": {
    "execution": {
     "iopub.execute_input": "2021-05-17T10:26:51.840568Z",
     "iopub.status.busy": "2021-05-17T10:26:51.839543Z",
     "iopub.status.idle": "2021-05-17T10:26:51.850133Z",
     "shell.execute_reply": "2021-05-17T10:26:51.850628Z"
    }
   },
   "outputs": [],
   "source": [
    "template = gb.nucleotide(\"BK006949.2 REGION: 406045..406635\")"
   ]
  },
  {
   "cell_type": "markdown",
   "metadata": {},
   "source": [
    "The template is a 591 bp linear DNA fragment."
   ]
  },
  {
   "cell_type": "code",
   "execution_count": 7,
   "metadata": {
    "execution": {
     "iopub.execute_input": "2021-05-17T10:26:51.859376Z",
     "iopub.status.busy": "2021-05-17T10:26:51.858531Z",
     "iopub.status.idle": "2021-05-17T10:26:51.861810Z",
     "shell.execute_reply": "2021-05-17T10:26:51.862341Z"
    }
   },
   "outputs": [
    {
     "data": {
      "text/html": [
       "<a href='https://www.ncbi.nlm.nih.gov/nuccore/BK006949.2 ?from=406045&to=406635&strand=1' target='_blank'>BK006949.2  406045-406635</a>"
      ],
      "text/plain": [
       "Gbank(BK006949.2  406045-406635)(-591)"
      ]
     },
     "execution_count": 1,
     "metadata": {},
     "output_type": "execute_result"
    }
   ],
   "source": [
    "template"
   ]
  },
  {
   "cell_type": "markdown",
   "metadata": {},
   "source": [
    "The insert has the sequence shown below."
   ]
  },
  {
   "cell_type": "code",
   "execution_count": 8,
   "metadata": {
    "execution": {
     "iopub.execute_input": "2021-05-17T10:26:51.866896Z",
     "iopub.status.busy": "2021-05-17T10:26:51.866214Z",
     "iopub.status.idle": "2021-05-17T10:26:51.870006Z",
     "shell.execute_reply": "2021-05-17T10:26:51.869092Z"
    }
   },
   "outputs": [
    {
     "name": "stdout",
     "output_type": "stream",
     "text": [
      "TTGTGCTGATTTTTATTTCTTAATTACGTGTTGAAATCACGATACTGGCATCCGATAGGGGAGTTGTATTCACAATACTATCGATTTTGTAAAATAGGACGAAGAACTTTTTATATACGAGCATTTCCTAATTAGTAGGAAGCGGAAAATAATAATATAAGAAAGTAAACGCAAAAGATAGGCTGACTGCCTTCATTCGACTAGGAGGTGAGGCGACATATTTGTCACCATTCAAGTTACCGAGATGGTAGAGAGGTGGATGGCTCGGGTGAGCTTGATTGTACACTGCAGCAACGATGCTTTTTCTACCCATTTTATGAAGTTTAACATCCGTACCTTTCCACCTCCAAACATTTTTTGTAACTTCGTCCTTTGAAAAATCAAGAAGTAATAGGTGTGCAGTATAGGGCCGCTTGAGCGCGCAATATCGGTGAGTGAGGTAAGATCCATCCATACCTTAGCAAATATGGTAGTGAGGAGGCCAACTGTATTGCGTTAAAGGCAAAAGGATTGGTATATACGAATGATTGGTAATTTGAAAAGTAGGTTTCGAATCAAAGAAACTGAGACAGTCAAGGACACTAAACAAAA\n"
     ]
    }
   ],
   "source": [
    "print(str(template.seq))"
   ]
  },
  {
   "cell_type": "markdown",
   "metadata": {},
   "source": [
    "The seguid checksum of the template should be\n",
    "\n",
    "```dy2T6ckcElgja-QOph6JeGStoMs```"
   ]
  },
  {
   "cell_type": "code",
   "execution_count": 9,
   "metadata": {
    "execution": {
     "iopub.execute_input": "2021-05-17T10:26:51.874755Z",
     "iopub.status.busy": "2021-05-17T10:26:51.873855Z",
     "iopub.status.idle": "2021-05-17T10:26:51.878055Z",
     "shell.execute_reply": "2021-05-17T10:26:51.877386Z"
    }
   },
   "outputs": [
    {
     "data": {
      "text/plain": [
       "dy2T6ckcElgja-QOph6JeGStoMs"
      ]
     },
     "execution_count": 1,
     "metadata": {},
     "output_type": "execute_result"
    }
   ],
   "source": [
    "template.seguid()"
   ]
  },
  {
   "cell_type": "markdown",
   "metadata": {},
   "source": [
    "Two primers are used to amplify the insert:"
   ]
  },
  {
   "cell_type": "code",
   "execution_count": 10,
   "metadata": {
    "execution": {
     "iopub.execute_input": "2021-05-17T10:26:51.883363Z",
     "iopub.status.busy": "2021-05-17T10:26:51.882575Z",
     "iopub.status.idle": "2021-05-17T10:26:51.886563Z",
     "shell.execute_reply": "2021-05-17T10:26:51.885953Z"
    }
   },
   "outputs": [],
   "source": [
    "fp,rp = parse_primers(\"\"\">858_RPL21Btpf\n",
    "                         ttaaatTTGTGCTGATTTTTATTTC\n",
    "                         >857_RPL21Btpr\n",
    "                         taattaaTTTTGTTTAGTGTCCTTGAC\"\"\")"
   ]
  },
  {
   "cell_type": "markdown",
   "metadata": {},
   "source": [
    "PCR to create the insert using the primers above."
   ]
  },
  {
   "cell_type": "code",
   "execution_count": 11,
   "metadata": {
    "execution": {
     "iopub.execute_input": "2021-05-17T10:26:51.901684Z",
     "iopub.status.busy": "2021-05-17T10:26:51.901239Z",
     "iopub.status.idle": "2021-05-17T10:26:51.905437Z",
     "shell.execute_reply": "2021-05-17T10:26:51.905840Z"
    }
   },
   "outputs": [],
   "source": [
    "prd = pcr(fp, rp, template)\n",
    "assert str(fp.seq) in prd"
   ]
  },
  {
   "cell_type": "markdown",
   "metadata": {},
   "source": [
    "The PCR product has this length in bp."
   ]
  },
  {
   "cell_type": "code",
   "execution_count": 12,
   "metadata": {
    "execution": {
     "iopub.execute_input": "2021-05-17T10:26:51.910634Z",
     "iopub.status.busy": "2021-05-17T10:26:51.909506Z",
     "iopub.status.idle": "2021-05-17T10:26:51.913808Z",
     "shell.execute_reply": "2021-05-17T10:26:51.914445Z"
    }
   },
   "outputs": [
    {
     "data": {
      "text/plain": [
       "604"
      ]
     },
     "execution_count": 1,
     "metadata": {},
     "output_type": "execute_result"
    }
   ],
   "source": [
    "len(prd)"
   ]
  },
  {
   "cell_type": "markdown",
   "metadata": {},
   "source": [
    "A figure of the primers annealing on template."
   ]
  },
  {
   "cell_type": "code",
   "execution_count": 13,
   "metadata": {
    "execution": {
     "iopub.execute_input": "2021-05-17T10:26:51.919812Z",
     "iopub.status.busy": "2021-05-17T10:26:51.918902Z",
     "iopub.status.idle": "2021-05-17T10:26:51.923257Z",
     "shell.execute_reply": "2021-05-17T10:26:51.922683Z"
    }
   },
   "outputs": [
    {
     "data": {
      "text/plain": [
       "      5TTGTGCTGATTTTTATTTC...GTCAAGGACACTAAACAAAA3\n",
       "                             ||||||||||||||||||||\n",
       "                            3CAGTTCCTGTGATTTGTTTTaattaat5\n",
       "5ttaaatTTGTGCTGATTTTTATTTC3\n",
       "       |||||||||||||||||||\n",
       "      3AACACGACTAAAAATAAAG...CAGTTCCTGTGATTTGTTTT5"
      ]
     },
     "execution_count": 1,
     "metadata": {},
     "output_type": "execute_result"
    }
   ],
   "source": [
    "prd.figure()"
   ]
  },
  {
   "cell_type": "markdown",
   "metadata": {},
   "source": [
    "A suggested PCR program."
   ]
  },
  {
   "cell_type": "code",
   "execution_count": 14,
   "metadata": {
    "execution": {
     "iopub.execute_input": "2021-05-17T10:26:51.930609Z",
     "iopub.status.busy": "2021-05-17T10:26:51.929627Z",
     "iopub.status.idle": "2021-05-17T10:26:51.935058Z",
     "shell.execute_reply": "2021-05-17T10:26:51.936813Z"
    }
   },
   "outputs": [
    {
     "data": {
      "text/plain": [
       "|95°C|95°C               |    |tmf:49.3\n",
       "|____|_____          72°C|72°C|tmr:54.9\n",
       "|5min|30s  \\ 51.9°C _____|____|60s/kb\n",
       "|    |      \\______/ 0:36|5min|GC 38%\n",
       "|    |       30s         |    |604bp"
      ]
     },
     "execution_count": 1,
     "metadata": {},
     "output_type": "execute_result"
    }
   ],
   "source": [
    "prd.program()"
   ]
  },
  {
   "cell_type": "markdown",
   "metadata": {},
   "source": [
    "The final vectors are:"
   ]
  },
  {
   "cell_type": "code",
   "execution_count": 15,
   "metadata": {
    "execution": {
     "iopub.execute_input": "2021-05-17T10:26:51.955291Z",
     "iopub.status.busy": "2021-05-17T10:26:51.950098Z",
     "iopub.status.idle": "2021-05-17T10:26:52.402174Z",
     "shell.execute_reply": "2021-05-17T10:26:52.401748Z"
    }
   },
   "outputs": [],
   "source": [
    "pYPKa_Z_RPL21B = (pYPKa_ZraI  + prd).looped().synced(pYPKa)\n",
    "pYPKa_E_RPL21B = (pYPKa_EcoRV + prd).looped().synced(pYPKa)"
   ]
  },
  {
   "cell_type": "markdown",
   "metadata": {},
   "source": [
    "The final vectors with reverse inserts are created below. These vectors theoretically make up\n",
    "fifty percent of the clones. The PCR strategy outlined below can be used to identify clones with the insert\n",
    "in the correct orientation."
   ]
  },
  {
   "cell_type": "code",
   "execution_count": 16,
   "metadata": {
    "execution": {
     "iopub.execute_input": "2021-05-17T10:26:52.450193Z",
     "iopub.status.busy": "2021-05-17T10:26:52.424935Z",
     "iopub.status.idle": "2021-05-17T10:26:52.869156Z",
     "shell.execute_reply": "2021-05-17T10:26:52.869614Z"
    }
   },
   "outputs": [],
   "source": [
    "pYPKa_Z_RPL21Bb = (pYPKa_ZraI  + prd.rc()).looped().synced(pYPKa)\n",
    "pYPKa_E_RPL21Bb = (pYPKa_EcoRV + prd.rc()).looped().synced(pYPKa)"
   ]
  },
  {
   "cell_type": "markdown",
   "metadata": {},
   "source": [
    "A combination of yeast pathway kit standard primers and the primers above are\n",
    "used for the strategy to identify correct clones.\n",
    "Standard primers used in the yeast are listed [here](standard_primers.txt)."
   ]
  },
  {
   "cell_type": "code",
   "execution_count": 17,
   "metadata": {
    "execution": {
     "iopub.execute_input": "2021-05-17T10:26:52.874163Z",
     "iopub.status.busy": "2021-05-17T10:26:52.873592Z",
     "iopub.status.idle": "2021-05-17T10:26:52.875698Z",
     "shell.execute_reply": "2021-05-17T10:26:52.876253Z"
    }
   },
   "outputs": [],
   "source": [
    "p = { x.id: x for x in parse_primers(\"\"\">577\n",
    "                                         gttctgatcctcgagcatcttaagaattc\n",
    "                                         >578\n",
    "                                         gttcttgtctcattgccacattcataagt\n",
    "                                         >468\n",
    "                                         gtcgaggaacgccaggttgcccact\n",
    "                                         >467\n",
    "                                         ATTTAAatcctgatgcgtttgtctgcacaga\n",
    "                                         >567\n",
    "                                         GTcggctgcaggtcactagtgag\n",
    "                                         >568\n",
    "                                         GTGCcatctgtgcagacaaacg\n",
    "                                         >775\n",
    "                                         gcggccgctgacTTAAAT\n",
    "                                         >778\n",
    "                                         ggtaaatccggatTAATTAA\n",
    "                                         >342\n",
    "                                         CCTTTTTACGGTTCCTGGCCT\"\"\") }"
   ]
  },
  {
   "cell_type": "markdown",
   "metadata": {},
   "source": [
    "## Diagnostic PCR confirmation\n",
    "\n",
    "The correct structure of pYPKa_Z_RPL21B is confirmed by PCR using standard primers\n",
    "577 and 342 that are vector specific together with the RPL21Bfw primer specific for the insert\n",
    "in a multiplex PCR reaction with\n",
    "all three primers present.\n",
    "\n",
    "Two PCR products are expected if the insert was cloned, the sizes depend\n",
    "on the orientation. If the vector is empty or contains another insert, only one\n",
    "product is formed.\n",
    "\n",
    "#### Expected PCR products sizes from pYPKa_Z_RPL21B:\n",
    "\n",
    "pYPKa_Z_RPL21B with insert in correct orientation."
   ]
  },
  {
   "cell_type": "code",
   "execution_count": 18,
   "metadata": {
    "execution": {
     "iopub.execute_input": "2021-05-17T10:26:52.889905Z",
     "iopub.status.busy": "2021-05-17T10:26:52.889346Z",
     "iopub.status.idle": "2021-05-17T10:26:52.892107Z",
     "shell.execute_reply": "2021-05-17T10:26:52.892597Z"
    }
   },
   "outputs": [
    {
     "data": {
      "text/plain": [
       "[Amplicon(1538), Amplicon(1370)]"
      ]
     },
     "execution_count": 1,
     "metadata": {},
     "output_type": "execute_result"
    }
   ],
   "source": [
    "Anneal( (p['577'], p['342'], fp), pYPKa_Z_RPL21B).products"
   ]
  },
  {
   "cell_type": "markdown",
   "metadata": {},
   "source": [
    "pYPKa_Z_RPL21B with insert in reverse orientation."
   ]
  },
  {
   "cell_type": "code",
   "execution_count": 19,
   "metadata": {
    "execution": {
     "iopub.execute_input": "2021-05-17T10:26:52.902840Z",
     "iopub.status.busy": "2021-05-17T10:26:52.902384Z",
     "iopub.status.idle": "2021-05-17T10:26:52.905235Z",
     "shell.execute_reply": "2021-05-17T10:26:52.904782Z"
    }
   },
   "outputs": [
    {
     "data": {
      "text/plain": [
       "[Amplicon(1538), Amplicon(772)]"
      ]
     },
     "execution_count": 1,
     "metadata": {},
     "output_type": "execute_result"
    }
   ],
   "source": [
    "Anneal( (p['577'], p['342'], fp), pYPKa_Z_RPL21Bb).products"
   ]
  },
  {
   "cell_type": "markdown",
   "metadata": {},
   "source": [
    "Empty pYPKa clone."
   ]
  },
  {
   "cell_type": "code",
   "execution_count": 20,
   "metadata": {
    "execution": {
     "iopub.execute_input": "2021-05-17T10:26:52.915699Z",
     "iopub.status.busy": "2021-05-17T10:26:52.914976Z",
     "iopub.status.idle": "2021-05-17T10:26:52.918781Z",
     "shell.execute_reply": "2021-05-17T10:26:52.919154Z"
    }
   },
   "outputs": [
    {
     "data": {
      "text/plain": [
       "[Amplicon(934)]"
      ]
     },
     "execution_count": 1,
     "metadata": {},
     "output_type": "execute_result"
    }
   ],
   "source": [
    "Anneal( (p['577'], p['342'], fp), pYPKa).products"
   ]
  },
  {
   "cell_type": "markdown",
   "metadata": {},
   "source": [
    "#### Expected PCR products sizes pYPKa_E_RPL21B:\n",
    "\n",
    "pYPKa_E_RPL21B with insert in correct orientation."
   ]
  },
  {
   "cell_type": "code",
   "execution_count": 21,
   "metadata": {
    "execution": {
     "iopub.execute_input": "2021-05-17T10:26:52.932610Z",
     "iopub.status.busy": "2021-05-17T10:26:52.932012Z",
     "iopub.status.idle": "2021-05-17T10:26:52.934932Z",
     "shell.execute_reply": "2021-05-17T10:26:52.935325Z"
    }
   },
   "outputs": [
    {
     "data": {
      "text/plain": [
       "[Amplicon(1538), Amplicon(1289)]"
      ]
     },
     "execution_count": 1,
     "metadata": {},
     "output_type": "execute_result"
    }
   ],
   "source": [
    "Anneal( (p['577'], p['342'], fp), pYPKa_E_RPL21B).products"
   ]
  },
  {
   "cell_type": "markdown",
   "metadata": {},
   "source": [
    "pYPKa_E_RPL21B with insert in reverse orientation."
   ]
  },
  {
   "cell_type": "code",
   "execution_count": 22,
   "metadata": {
    "execution": {
     "iopub.execute_input": "2021-05-17T10:26:52.948828Z",
     "iopub.status.busy": "2021-05-17T10:26:52.948219Z",
     "iopub.status.idle": "2021-05-17T10:26:52.950993Z",
     "shell.execute_reply": "2021-05-17T10:26:52.951484Z"
    }
   },
   "outputs": [
    {
     "data": {
      "text/plain": [
       "[Amplicon(1538), Amplicon(853)]"
      ]
     },
     "execution_count": 1,
     "metadata": {},
     "output_type": "execute_result"
    }
   ],
   "source": [
    "Anneal( (p['577'], p['342'], fp), pYPKa_E_RPL21Bb).products\n"
   ]
  },
  {
   "cell_type": "markdown",
   "metadata": {},
   "source": [
    "Calculate cseguid checksums for the resulting plasmids for future reference.\n",
    "This checksum that uniquely describes a circular double stranded\n",
    "sequence. See this [blog post](https://ochsavidare.blogspot.com/2016/02/checksum-for-circular-biological.html) for more info.\n",
    "\n",
    "pYPKa_Z_RPL21B.cseguid() should be EKKQ_5NXfyfppaiHSQUOKibLaUE"
   ]
  },
  {
   "cell_type": "code",
   "execution_count": 23,
   "metadata": {
    "execution": {
     "iopub.execute_input": "2021-05-17T10:26:52.962364Z",
     "iopub.status.busy": "2021-05-17T10:26:52.958403Z",
     "iopub.status.idle": "2021-05-17T10:26:52.965379Z",
     "shell.execute_reply": "2021-05-17T10:26:52.964907Z"
    }
   },
   "outputs": [
    {
     "name": "stdout",
     "output_type": "stream",
     "text": [
      "EKKQ_5NXfyfppaiHSQUOKibLaUE\n"
     ]
    }
   ],
   "source": [
    "print(pYPKa_Z_RPL21B.cseguid())\n",
    "assert pYPKa_Z_RPL21B.cseguid() == \"EKKQ_5NXfyfppaiHSQUOKibLaUE\""
   ]
  },
  {
   "cell_type": "markdown",
   "metadata": {},
   "source": [
    "pYPKa_E_RPL21B.cseguid() should be wBur8XHmBqIJpirMAnKqWFXvIU0"
   ]
  },
  {
   "cell_type": "code",
   "execution_count": 24,
   "metadata": {
    "execution": {
     "iopub.execute_input": "2021-05-17T10:26:52.974379Z",
     "iopub.status.busy": "2021-05-17T10:26:52.973944Z",
     "iopub.status.idle": "2021-05-17T10:26:52.976169Z",
     "shell.execute_reply": "2021-05-17T10:26:52.976601Z"
    }
   },
   "outputs": [
    {
     "name": "stdout",
     "output_type": "stream",
     "text": [
      "wBur8XHmBqIJpirMAnKqWFXvIU0\n"
     ]
    }
   ],
   "source": [
    "print(pYPKa_E_RPL21B.cseguid())\n",
    "assert pYPKa_E_RPL21B.cseguid() == \"wBur8XHmBqIJpirMAnKqWFXvIU0\""
   ]
  },
  {
   "cell_type": "markdown",
   "metadata": {},
   "source": [
    "The sequences are named based on the name of the cloned insert."
   ]
  },
  {
   "cell_type": "code",
   "execution_count": 25,
   "metadata": {
    "execution": {
     "iopub.execute_input": "2021-05-17T10:26:52.979949Z",
     "iopub.status.busy": "2021-05-17T10:26:52.979470Z",
     "iopub.status.idle": "2021-05-17T10:26:52.982499Z",
     "shell.execute_reply": "2021-05-17T10:26:52.981787Z"
    }
   },
   "outputs": [],
   "source": [
    "pYPKa_Z_RPL21B.locus = \"pYPKa_Z_RPL21B\"[:16]\n",
    "pYPKa_E_RPL21B.locus = \"pYPKa_Z_RPL21B\"[:16]"
   ]
  },
  {
   "cell_type": "markdown",
   "metadata": {},
   "source": [
    "Stamp sequence with cseguid checksum. This can be used to verify the\n",
    "integrity of the sequence file."
   ]
  },
  {
   "cell_type": "code",
   "execution_count": 26,
   "metadata": {
    "execution": {
     "iopub.execute_input": "2021-05-17T10:26:52.995128Z",
     "iopub.status.busy": "2021-05-17T10:26:52.994581Z",
     "iopub.status.idle": "2021-05-17T10:26:52.997148Z",
     "shell.execute_reply": "2021-05-17T10:26:52.997581Z"
    }
   },
   "outputs": [
    {
     "data": {
      "text/plain": [
       "cSEGUID_wBur8XHmBqIJpirMAnKqWFXvIU0"
      ]
     },
     "execution_count": 1,
     "metadata": {},
     "output_type": "execute_result"
    }
   ],
   "source": [
    "pYPKa_Z_RPL21B.stamp()\n",
    "pYPKa_E_RPL21B.stamp()"
   ]
  },
  {
   "cell_type": "markdown",
   "metadata": {},
   "source": [
    "pYPKa_Z_RPL21B is written to a local file:"
   ]
  },
  {
   "cell_type": "code",
   "execution_count": 27,
   "metadata": {
    "execution": {
     "iopub.execute_input": "2021-05-17T10:26:53.005526Z",
     "iopub.status.busy": "2021-05-17T10:26:53.004309Z",
     "iopub.status.idle": "2021-05-17T10:26:53.009161Z",
     "shell.execute_reply": "2021-05-17T10:26:53.009795Z"
    }
   },
   "outputs": [
    {
     "data": {
      "text/html": [
       "<font face=monospace><a href='pYPKa_Z_RPL21B.gb' target='_blank'>pYPKa_Z_RPL21B.gb</a></font><br>"
      ]
     },
     "metadata": {},
     "output_type": "display_data"
    }
   ],
   "source": [
    "pYPKa_Z_RPL21B.write(\"pYPKa_Z_RPL21B.gb\")"
   ]
  },
  {
   "cell_type": "markdown",
   "metadata": {},
   "source": [
    "pYPKa_E_RPL21B is written to a local file:"
   ]
  },
  {
   "cell_type": "code",
   "execution_count": 28,
   "metadata": {
    "execution": {
     "iopub.execute_input": "2021-05-17T10:26:53.017597Z",
     "iopub.status.busy": "2021-05-17T10:26:53.016687Z",
     "iopub.status.idle": "2021-05-17T10:26:53.021416Z",
     "shell.execute_reply": "2021-05-17T10:26:53.022029Z"
    }
   },
   "outputs": [
    {
     "data": {
      "text/html": [
       "<font face=monospace><a href='pYPKa_E_RPL21B.gb' target='_blank'>pYPKa_E_RPL21B.gb</a></font><br>"
      ]
     },
     "metadata": {},
     "output_type": "display_data"
    }
   ],
   "source": [
    "pYPKa_E_RPL21B.write(\"pYPKa_E_RPL21B.gb\")"
   ]
  }
 ],
 "metadata": {
  "language_info": {
   "codemirror_mode": {
    "name": "ipython",
    "version": 3
   },
   "file_extension": ".py",
   "mimetype": "text/x-python",
   "name": "python",
   "nbconvert_exporter": "python",
   "pygments_lexer": "ipython3",
   "version": "3.9.0"
  }
 },
 "nbformat": 4,
 "nbformat_minor": 2
}
