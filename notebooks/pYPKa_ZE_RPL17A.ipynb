{
 "cells": [
  {
   "cell_type": "markdown",
   "metadata": {},
   "source": [
    "# pYPKa_Z_RPL17A and pYPKa_E_RPL17A\n",
    "\n",
    "This Jupyter notebook describe the construction of E. coli vectors [pYPKa_Z_RPL17A](pYPKa_Z_RPL17A.gb) and [pYPKa_E_RPL17A](pYPKa_E_RPL17A.gb). \n",
    "These two vectors share backbone and insert, but in the former, the insert is cloned using the restriction\n",
    "enzyme [ZraI](http://rebase.neb.com/rebase/enz/ZraI.html) while in the latter [EcoRV](http://rebase.neb.com/rebase/enz/EcoRV.html) is used.\n",
    "\n",
    "The insert cloned in ZraI is meant to function as a promoter, while in the EcoRV site it is meant to be  used as a terminator.\n",
    "\n",
    "Links to the sequence of each vector in Genbank format can be found at the bottom of this document.\n",
    "\n",
    "![pYPKa_Z and pYPKa_E](figure_pYPKa_ZE.png \"pYPKa_Z or pYPKa_E plasmid\")\n",
    "\n",
    "The Python package [pydna](https://pypi.python.org/pypi/pydna/) package is imported in the code cell below to provide \n",
    "the cloning functionality. There is a [publication](http://www.biomedcentral.com/1471-2105/16/142) describing pydna as well as\n",
    "[documentation](http://pydna.readthedocs.io/) available online. Pydna is developed on [Github](https://github.com/BjornFJohansson/pydna)."
   ]
  },
  {
   "cell_type": "code",
   "execution_count": 1,
   "metadata": {
    "execution": {
     "iopub.execute_input": "2021-05-17T10:26:34.938915Z",
     "iopub.status.busy": "2021-05-17T10:26:34.938136Z",
     "iopub.status.idle": "2021-05-17T10:26:35.552243Z",
     "shell.execute_reply": "2021-05-17T10:26:35.551679Z"
    }
   },
   "outputs": [],
   "source": [
    "from pydna.readers import read\n",
    "from pydna.parsers import parse_primers\n",
    "from pydna.genbank import Genbank\n",
    "from pydna.amplify import pcr\n",
    "from pydna.amplify import Anneal"
   ]
  },
  {
   "cell_type": "markdown",
   "metadata": {},
   "source": [
    "The vector backbone pYPKa is read from a local [file](pYPKa.gb)."
   ]
  },
  {
   "cell_type": "code",
   "execution_count": 2,
   "metadata": {
    "execution": {
     "iopub.execute_input": "2021-05-17T10:26:35.561895Z",
     "iopub.status.busy": "2021-05-17T10:26:35.561282Z",
     "iopub.status.idle": "2021-05-17T10:26:35.572013Z",
     "shell.execute_reply": "2021-05-17T10:26:35.571456Z"
    }
   },
   "outputs": [],
   "source": [
    "pYPKa = read(\"pYPKa.gb\")"
   ]
  },
  {
   "cell_type": "markdown",
   "metadata": {},
   "source": [
    "Both restriction enzymes are imported from [Biopython](http://biopython.org/wiki/Main_Page)"
   ]
  },
  {
   "cell_type": "code",
   "execution_count": 3,
   "metadata": {
    "execution": {
     "iopub.execute_input": "2021-05-17T10:26:35.575399Z",
     "iopub.status.busy": "2021-05-17T10:26:35.574911Z",
     "iopub.status.idle": "2021-05-17T10:26:35.577362Z",
     "shell.execute_reply": "2021-05-17T10:26:35.576823Z"
    }
   },
   "outputs": [],
   "source": [
    "from Bio.Restriction import ZraI, EcoRV"
   ]
  },
  {
   "cell_type": "markdown",
   "metadata": {},
   "source": [
    "The vector is cut with both enzymes."
   ]
  },
  {
   "cell_type": "code",
   "execution_count": 4,
   "metadata": {
    "execution": {
     "iopub.execute_input": "2021-05-17T10:26:35.592282Z",
     "iopub.status.busy": "2021-05-17T10:26:35.590669Z",
     "iopub.status.idle": "2021-05-17T10:26:35.596786Z",
     "shell.execute_reply": "2021-05-17T10:26:35.597602Z"
    }
   },
   "outputs": [],
   "source": [
    "pYPKa_ZraI  = pYPKa.linearize(ZraI)\n",
    "pYPKa_EcoRV = pYPKa.linearize(EcoRV)"
   ]
  },
  {
   "cell_type": "markdown",
   "metadata": {},
   "source": [
    "The template below comes from a Genbank [record](http://www.ncbi.nlm.nih.gov/nuccore/BK006944.2).\n",
    "Access to Genbank is needed in order to download the template.\n",
    "If you execute this script, change the email address below to your own.\n",
    "Always tell Genbank who you are, when using their web service."
   ]
  },
  {
   "cell_type": "code",
   "execution_count": 5,
   "metadata": {
    "execution": {
     "iopub.execute_input": "2021-05-17T10:26:35.604543Z",
     "iopub.status.busy": "2021-05-17T10:26:35.604032Z",
     "iopub.status.idle": "2021-05-17T10:26:35.608323Z",
     "shell.execute_reply": "2021-05-17T10:26:35.607895Z"
    }
   },
   "outputs": [],
   "source": [
    "gb = Genbank(\"bjornjobb@gmail.com\")"
   ]
  },
  {
   "cell_type": "markdown",
   "metadata": {},
   "source": [
    "The template is downloaded from Genbank below."
   ]
  },
  {
   "cell_type": "code",
   "execution_count": 6,
   "metadata": {
    "execution": {
     "iopub.execute_input": "2021-05-17T10:26:35.612749Z",
     "iopub.status.busy": "2021-05-17T10:26:35.612155Z",
     "iopub.status.idle": "2021-05-17T10:26:35.622197Z",
     "shell.execute_reply": "2021-05-17T10:26:35.621696Z"
    }
   },
   "outputs": [],
   "source": [
    "template = gb.nucleotide(\"BK006944.2 REGION: 108600..109268\")"
   ]
  },
  {
   "cell_type": "markdown",
   "metadata": {},
   "source": [
    "The template is a 669 bp linear DNA fragment."
   ]
  },
  {
   "cell_type": "code",
   "execution_count": 7,
   "metadata": {
    "execution": {
     "iopub.execute_input": "2021-05-17T10:26:35.636674Z",
     "iopub.status.busy": "2021-05-17T10:26:35.635990Z",
     "iopub.status.idle": "2021-05-17T10:26:35.638870Z",
     "shell.execute_reply": "2021-05-17T10:26:35.639400Z"
    }
   },
   "outputs": [
    {
     "data": {
      "text/html": [
       "<a href='https://www.ncbi.nlm.nih.gov/nuccore/BK006944.2 ?from=108600&to=109268&strand=1' target='_blank'>BK006944.2  108600-109268</a>"
      ],
      "text/plain": [
       "Gbank(BK006944.2  108600-109268)(-669)"
      ]
     },
     "execution_count": 1,
     "metadata": {},
     "output_type": "execute_result"
    }
   ],
   "source": [
    "template"
   ]
  },
  {
   "cell_type": "markdown",
   "metadata": {},
   "source": [
    "The insert has the sequence shown below."
   ]
  },
  {
   "cell_type": "code",
   "execution_count": 8,
   "metadata": {
    "execution": {
     "iopub.execute_input": "2021-05-17T10:26:35.650186Z",
     "iopub.status.busy": "2021-05-17T10:26:35.649034Z",
     "iopub.status.idle": "2021-05-17T10:26:35.651979Z",
     "shell.execute_reply": "2021-05-17T10:26:35.652628Z"
    }
   },
   "outputs": [
    {
     "name": "stdout",
     "output_type": "stream",
     "text": [
      "ACAGAAGAGAGTGTGCGCAATATTTTAGTTCTTAAATATGACATAGATTATCAAAAAACTTTGTATGTTTGCCAGATTTCAGTGAATCTGCAAGAGTATAAATTATAGGAATTTGGGTGAATTAAACCATTTATTATGTTTTATGTATCATGGAAAAAACAGAACCTTTATCAAATCATCTATGAAATTTTGACAGGTTAGCCATTTTCCTCATTTTATTGCTCTGCAATAGTAAATTATATAGATTTATGCAATGCTCTAGGTTCCGGCGGCTTTTCATTTAATGTGAACTCAAGACTATTATCATCCAAACACATTACAACATCCGTACATTTAGTTGGCTCCATTTTTTGAAAAAATACTTCCGAGTAAGATGCTGAAAGTAATCAAATTCCGTGAAAAAGGAACCGATTTGGTAAGGGCGGACCTGCCGGAAGAAAATCGCTCCCGCGTGTCTACTGGACTTTGCTTCTTTGCCAGGCGGGAGAATGAAGCCCACCGGCCTAGCTCTATGGGCGCAGACAGGGATGGTCTCGATTTGCTTTCTCACTGCAATGGAAATTTCTAACATTAGAGCTTCAACGGCTAGCATAAAACAACTACTAACGTTTTCAGTGCTATATTCGAAAGAGCAAACAAAGAGTCCTCAAGAACTACTAATAGATTAAA\n"
     ]
    }
   ],
   "source": [
    "print(str(template.seq))"
   ]
  },
  {
   "cell_type": "markdown",
   "metadata": {},
   "source": [
    "The seguid checksum of the template should be\n",
    "\n",
    "```e-LUZpihsMR3Vgr0uSRr08lyllU```"
   ]
  },
  {
   "cell_type": "code",
   "execution_count": 9,
   "metadata": {
    "execution": {
     "iopub.execute_input": "2021-05-17T10:26:35.659228Z",
     "iopub.status.busy": "2021-05-17T10:26:35.657056Z",
     "iopub.status.idle": "2021-05-17T10:26:35.663610Z",
     "shell.execute_reply": "2021-05-17T10:26:35.663120Z"
    }
   },
   "outputs": [
    {
     "data": {
      "text/plain": [
       "e-LUZpihsMR3Vgr0uSRr08lyllU"
      ]
     },
     "execution_count": 1,
     "metadata": {},
     "output_type": "execute_result"
    }
   ],
   "source": [
    "template.seguid()"
   ]
  },
  {
   "cell_type": "markdown",
   "metadata": {},
   "source": [
    "Two primers are used to amplify the insert:"
   ]
  },
  {
   "cell_type": "code",
   "execution_count": 10,
   "metadata": {
    "execution": {
     "iopub.execute_input": "2021-05-17T10:26:35.667294Z",
     "iopub.status.busy": "2021-05-17T10:26:35.666811Z",
     "iopub.status.idle": "2021-05-17T10:26:35.668612Z",
     "shell.execute_reply": "2021-05-17T10:26:35.669126Z"
    }
   },
   "outputs": [],
   "source": [
    "fp,rp = parse_primers(\"\"\">767_RPL17A_fw\n",
    "                         ttaaatACAGAAGAGAGTGTGC\n",
    "                         >768_RPL17A_rv\n",
    "                         taattaaTTTAATCTATTAGTAGTTCTTG\"\"\")"
   ]
  },
  {
   "cell_type": "markdown",
   "metadata": {},
   "source": [
    "PCR to create the insert using the primers above."
   ]
  },
  {
   "cell_type": "code",
   "execution_count": 11,
   "metadata": {
    "execution": {
     "iopub.execute_input": "2021-05-17T10:26:35.674826Z",
     "iopub.status.busy": "2021-05-17T10:26:35.673963Z",
     "iopub.status.idle": "2021-05-17T10:26:35.679369Z",
     "shell.execute_reply": "2021-05-17T10:26:35.679780Z"
    }
   },
   "outputs": [],
   "source": [
    "prd = pcr(fp, rp, template)\n",
    "assert str(fp.seq) in prd"
   ]
  },
  {
   "cell_type": "markdown",
   "metadata": {},
   "source": [
    "The PCR product has this length in bp."
   ]
  },
  {
   "cell_type": "code",
   "execution_count": 12,
   "metadata": {
    "execution": {
     "iopub.execute_input": "2021-05-17T10:26:35.683682Z",
     "iopub.status.busy": "2021-05-17T10:26:35.683128Z",
     "iopub.status.idle": "2021-05-17T10:26:35.686234Z",
     "shell.execute_reply": "2021-05-17T10:26:35.686899Z"
    }
   },
   "outputs": [
    {
     "data": {
      "text/plain": [
       "682"
      ]
     },
     "execution_count": 1,
     "metadata": {},
     "output_type": "execute_result"
    }
   ],
   "source": [
    "len(prd)"
   ]
  },
  {
   "cell_type": "markdown",
   "metadata": {},
   "source": [
    "A figure of the primers annealing on template."
   ]
  },
  {
   "cell_type": "code",
   "execution_count": 13,
   "metadata": {
    "execution": {
     "iopub.execute_input": "2021-05-17T10:26:35.692000Z",
     "iopub.status.busy": "2021-05-17T10:26:35.691288Z",
     "iopub.status.idle": "2021-05-17T10:26:35.694819Z",
     "shell.execute_reply": "2021-05-17T10:26:35.695452Z"
    }
   },
   "outputs": [
    {
     "data": {
      "text/plain": [
       "      5ACAGAAGAGAGTGTGC...CAAGAACTACTAATAGATTAAA3\n",
       "                          ||||||||||||||||||||||\n",
       "                         3GTTCTTGATGATTATCTAATTTaattaat5\n",
       "5ttaaatACAGAAGAGAGTGTGC3\n",
       "       ||||||||||||||||\n",
       "      3TGTCTTCTCTCACACG...GTTCTTGATGATTATCTAATTT5"
      ]
     },
     "execution_count": 1,
     "metadata": {},
     "output_type": "execute_result"
    }
   ],
   "source": [
    "prd.figure()"
   ]
  },
  {
   "cell_type": "markdown",
   "metadata": {},
   "source": [
    "A suggested PCR program."
   ]
  },
  {
   "cell_type": "code",
   "execution_count": 14,
   "metadata": {
    "execution": {
     "iopub.execute_input": "2021-05-17T10:26:35.705894Z",
     "iopub.status.busy": "2021-05-17T10:26:35.705039Z",
     "iopub.status.idle": "2021-05-17T10:26:35.713514Z",
     "shell.execute_reply": "2021-05-17T10:26:35.713009Z"
    }
   },
   "outputs": [
    {
     "data": {
      "text/plain": [
       "|95°C|95°C               |    |tmf:53.0\n",
       "|____|_____          72°C|72°C|tmr:50.2\n",
       "|5min|30s  \\ 51.7°C _____|____|60s/kb\n",
       "|    |      \\______/ 0:40|5min|GC 36%\n",
       "|    |       30s         |    |682bp"
      ]
     },
     "execution_count": 1,
     "metadata": {},
     "output_type": "execute_result"
    }
   ],
   "source": [
    "prd.program()"
   ]
  },
  {
   "cell_type": "markdown",
   "metadata": {},
   "source": [
    "The final vectors are:"
   ]
  },
  {
   "cell_type": "code",
   "execution_count": 15,
   "metadata": {
    "execution": {
     "iopub.execute_input": "2021-05-17T10:26:35.736611Z",
     "iopub.status.busy": "2021-05-17T10:26:35.721145Z",
     "iopub.status.idle": "2021-05-17T10:26:36.246338Z",
     "shell.execute_reply": "2021-05-17T10:26:36.245872Z"
    }
   },
   "outputs": [],
   "source": [
    "pYPKa_Z_RPL17A = (pYPKa_ZraI  + prd).looped().synced(pYPKa)\n",
    "pYPKa_E_RPL17A = (pYPKa_EcoRV + prd).looped().synced(pYPKa)"
   ]
  },
  {
   "cell_type": "markdown",
   "metadata": {},
   "source": [
    "The final vectors with reverse inserts are created below. These vectors theoretically make up\n",
    "fifty percent of the clones. The PCR strategy outlined below can be used to identify clones with the insert\n",
    "in the correct orientation."
   ]
  },
  {
   "cell_type": "code",
   "execution_count": 16,
   "metadata": {
    "execution": {
     "iopub.execute_input": "2021-05-17T10:26:36.284818Z",
     "iopub.status.busy": "2021-05-17T10:26:36.260486Z",
     "iopub.status.idle": "2021-05-17T10:26:36.764107Z",
     "shell.execute_reply": "2021-05-17T10:26:36.764525Z"
    }
   },
   "outputs": [],
   "source": [
    "pYPKa_Z_RPL17Ab = (pYPKa_ZraI  + prd.rc()).looped().synced(pYPKa)\n",
    "pYPKa_E_RPL17Ab = (pYPKa_EcoRV + prd.rc()).looped().synced(pYPKa)"
   ]
  },
  {
   "cell_type": "markdown",
   "metadata": {},
   "source": [
    "A combination of yeast pathway kit standard primers and the primers above are\n",
    "used for the strategy to identify correct clones.\n",
    "Standard primers used in the yeast are listed [here](standard_primers.txt)."
   ]
  },
  {
   "cell_type": "code",
   "execution_count": 17,
   "metadata": {
    "execution": {
     "iopub.execute_input": "2021-05-17T10:26:36.769012Z",
     "iopub.status.busy": "2021-05-17T10:26:36.768587Z",
     "iopub.status.idle": "2021-05-17T10:26:36.770960Z",
     "shell.execute_reply": "2021-05-17T10:26:36.771448Z"
    }
   },
   "outputs": [],
   "source": [
    "p = { x.id: x for x in parse_primers(\"\"\">577\n",
    "                                         gttctgatcctcgagcatcttaagaattc\n",
    "                                         >578\n",
    "                                         gttcttgtctcattgccacattcataagt\n",
    "                                         >468\n",
    "                                         gtcgaggaacgccaggttgcccact\n",
    "                                         >467\n",
    "                                         ATTTAAatcctgatgcgtttgtctgcacaga\n",
    "                                         >567\n",
    "                                         GTcggctgcaggtcactagtgag\n",
    "                                         >568\n",
    "                                         GTGCcatctgtgcagacaaacg\n",
    "                                         >775\n",
    "                                         gcggccgctgacTTAAAT\n",
    "                                         >778\n",
    "                                         ggtaaatccggatTAATTAA\n",
    "                                         >342\n",
    "                                         CCTTTTTACGGTTCCTGGCCT\"\"\") }"
   ]
  },
  {
   "cell_type": "markdown",
   "metadata": {},
   "source": [
    "## Diagnostic PCR confirmation\n",
    "\n",
    "The correct structure of pYPKa_Z_RPL17A is confirmed by PCR using standard primers\n",
    "577 and 342 that are vector specific together with the RPL17Afw primer specific for the insert\n",
    "in a multiplex PCR reaction with\n",
    "all three primers present.\n",
    "\n",
    "Two PCR products are expected if the insert was cloned, the sizes depend\n",
    "on the orientation. If the vector is empty or contains another insert, only one\n",
    "product is formed.\n",
    "\n",
    "#### Expected PCR products sizes from pYPKa_Z_RPL17A:\n",
    "\n",
    "pYPKa_Z_RPL17A with insert in correct orientation."
   ]
  },
  {
   "cell_type": "code",
   "execution_count": 18,
   "metadata": {
    "execution": {
     "iopub.execute_input": "2021-05-17T10:26:36.784823Z",
     "iopub.status.busy": "2021-05-17T10:26:36.784359Z",
     "iopub.status.idle": "2021-05-17T10:26:36.787283Z",
     "shell.execute_reply": "2021-05-17T10:26:36.786843Z"
    }
   },
   "outputs": [
    {
     "data": {
      "text/plain": [
       "[Amplicon(1616), Amplicon(1448)]"
      ]
     },
     "execution_count": 1,
     "metadata": {},
     "output_type": "execute_result"
    }
   ],
   "source": [
    "Anneal( (p['577'], p['342'], fp), pYPKa_Z_RPL17A).products"
   ]
  },
  {
   "cell_type": "markdown",
   "metadata": {},
   "source": [
    "pYPKa_Z_RPL17A with insert in reverse orientation."
   ]
  },
  {
   "cell_type": "code",
   "execution_count": 19,
   "metadata": {
    "execution": {
     "iopub.execute_input": "2021-05-17T10:26:36.798977Z",
     "iopub.status.busy": "2021-05-17T10:26:36.798522Z",
     "iopub.status.idle": "2021-05-17T10:26:36.800904Z",
     "shell.execute_reply": "2021-05-17T10:26:36.801338Z"
    }
   },
   "outputs": [
    {
     "data": {
      "text/plain": [
       "[Amplicon(1616), Amplicon(850)]"
      ]
     },
     "execution_count": 1,
     "metadata": {},
     "output_type": "execute_result"
    }
   ],
   "source": [
    "Anneal( (p['577'], p['342'], fp), pYPKa_Z_RPL17Ab).products"
   ]
  },
  {
   "cell_type": "markdown",
   "metadata": {},
   "source": [
    "Empty pYPKa clone."
   ]
  },
  {
   "cell_type": "code",
   "execution_count": 20,
   "metadata": {
    "execution": {
     "iopub.execute_input": "2021-05-17T10:26:36.809079Z",
     "iopub.status.busy": "2021-05-17T10:26:36.808508Z",
     "iopub.status.idle": "2021-05-17T10:26:36.812004Z",
     "shell.execute_reply": "2021-05-17T10:26:36.811447Z"
    }
   },
   "outputs": [
    {
     "data": {
      "text/plain": [
       "[Amplicon(934)]"
      ]
     },
     "execution_count": 1,
     "metadata": {},
     "output_type": "execute_result"
    }
   ],
   "source": [
    "Anneal( (p['577'], p['342'], fp), pYPKa).products"
   ]
  },
  {
   "cell_type": "markdown",
   "metadata": {},
   "source": [
    "#### Expected PCR products sizes pYPKa_E_RPL17A:\n",
    "\n",
    "pYPKa_E_RPL17A with insert in correct orientation."
   ]
  },
  {
   "cell_type": "code",
   "execution_count": 21,
   "metadata": {
    "execution": {
     "iopub.execute_input": "2021-05-17T10:26:36.823927Z",
     "iopub.status.busy": "2021-05-17T10:26:36.823468Z",
     "iopub.status.idle": "2021-05-17T10:26:36.826878Z",
     "shell.execute_reply": "2021-05-17T10:26:36.828462Z"
    }
   },
   "outputs": [
    {
     "data": {
      "text/plain": [
       "[Amplicon(1616), Amplicon(1367)]"
      ]
     },
     "execution_count": 1,
     "metadata": {},
     "output_type": "execute_result"
    }
   ],
   "source": [
    "Anneal( (p['577'], p['342'], fp), pYPKa_E_RPL17A).products"
   ]
  },
  {
   "cell_type": "markdown",
   "metadata": {},
   "source": [
    "pYPKa_E_RPL17A with insert in reverse orientation."
   ]
  },
  {
   "cell_type": "code",
   "execution_count": 22,
   "metadata": {
    "execution": {
     "iopub.execute_input": "2021-05-17T10:26:36.843007Z",
     "iopub.status.busy": "2021-05-17T10:26:36.842351Z",
     "iopub.status.idle": "2021-05-17T10:26:36.845736Z",
     "shell.execute_reply": "2021-05-17T10:26:36.845183Z"
    }
   },
   "outputs": [
    {
     "data": {
      "text/plain": [
       "[Amplicon(1616), Amplicon(931)]"
      ]
     },
     "execution_count": 1,
     "metadata": {},
     "output_type": "execute_result"
    }
   ],
   "source": [
    "Anneal( (p['577'], p['342'], fp), pYPKa_E_RPL17Ab).products\n"
   ]
  },
  {
   "cell_type": "markdown",
   "metadata": {},
   "source": [
    "Calculate cseguid checksums for the resulting plasmids for future reference.\n",
    "This checksum that uniquely describes a circular double stranded\n",
    "sequence. See this [blog post](https://ochsavidare.blogspot.com/2016/02/checksum-for-circular-biological.html) for more info.\n",
    "\n",
    "pYPKa_Z_RPL17A.cseguid() should be xaEdXO8_Gnw6BbvSSeqUJUTe2_Y"
   ]
  },
  {
   "cell_type": "code",
   "execution_count": 23,
   "metadata": {
    "execution": {
     "iopub.execute_input": "2021-05-17T10:26:36.856581Z",
     "iopub.status.busy": "2021-05-17T10:26:36.855400Z",
     "iopub.status.idle": "2021-05-17T10:26:36.859080Z",
     "shell.execute_reply": "2021-05-17T10:26:36.859631Z"
    }
   },
   "outputs": [
    {
     "name": "stdout",
     "output_type": "stream",
     "text": [
      "xaEdXO8_Gnw6BbvSSeqUJUTe2_Y\n"
     ]
    }
   ],
   "source": [
    "print(pYPKa_Z_RPL17A.cseguid())\n",
    "assert pYPKa_Z_RPL17A.cseguid() == \"xaEdXO8_Gnw6BbvSSeqUJUTe2_Y\""
   ]
  },
  {
   "cell_type": "markdown",
   "metadata": {},
   "source": [
    "pYPKa_E_RPL17A.cseguid() should be kMs0plSBpNgICd-W1doaFPSn2aA"
   ]
  },
  {
   "cell_type": "code",
   "execution_count": 24,
   "metadata": {
    "execution": {
     "iopub.execute_input": "2021-05-17T10:26:36.871483Z",
     "iopub.status.busy": "2021-05-17T10:26:36.867109Z",
     "iopub.status.idle": "2021-05-17T10:26:36.873951Z",
     "shell.execute_reply": "2021-05-17T10:26:36.874460Z"
    }
   },
   "outputs": [
    {
     "name": "stdout",
     "output_type": "stream",
     "text": [
      "kMs0plSBpNgICd-W1doaFPSn2aA\n"
     ]
    }
   ],
   "source": [
    "print(pYPKa_E_RPL17A.cseguid())\n",
    "assert pYPKa_E_RPL17A.cseguid() == \"kMs0plSBpNgICd-W1doaFPSn2aA\""
   ]
  },
  {
   "cell_type": "markdown",
   "metadata": {},
   "source": [
    "The sequences are named based on the name of the cloned insert."
   ]
  },
  {
   "cell_type": "code",
   "execution_count": 25,
   "metadata": {
    "execution": {
     "iopub.execute_input": "2021-05-17T10:26:36.877770Z",
     "iopub.status.busy": "2021-05-17T10:26:36.877347Z",
     "iopub.status.idle": "2021-05-17T10:26:36.880274Z",
     "shell.execute_reply": "2021-05-17T10:26:36.881112Z"
    }
   },
   "outputs": [],
   "source": [
    "pYPKa_Z_RPL17A.locus = \"pYPKa_Z_RPL17A\"[:16]\n",
    "pYPKa_E_RPL17A.locus = \"pYPKa_Z_RPL17A\"[:16]"
   ]
  },
  {
   "cell_type": "markdown",
   "metadata": {},
   "source": [
    "Stamp sequence with cseguid checksum. This can be used to verify the\n",
    "integrity of the sequence file."
   ]
  },
  {
   "cell_type": "code",
   "execution_count": 26,
   "metadata": {
    "execution": {
     "iopub.execute_input": "2021-05-17T10:26:36.894771Z",
     "iopub.status.busy": "2021-05-17T10:26:36.894035Z",
     "iopub.status.idle": "2021-05-17T10:26:36.897151Z",
     "shell.execute_reply": "2021-05-17T10:26:36.896660Z"
    }
   },
   "outputs": [
    {
     "data": {
      "text/plain": [
       "cSEGUID_kMs0plSBpNgICd-W1doaFPSn2aA"
      ]
     },
     "execution_count": 1,
     "metadata": {},
     "output_type": "execute_result"
    }
   ],
   "source": [
    "pYPKa_Z_RPL17A.stamp()\n",
    "pYPKa_E_RPL17A.stamp()"
   ]
  },
  {
   "cell_type": "markdown",
   "metadata": {},
   "source": [
    "pYPKa_Z_RPL17A is written to a local file:"
   ]
  },
  {
   "cell_type": "code",
   "execution_count": 27,
   "metadata": {
    "execution": {
     "iopub.execute_input": "2021-05-17T10:26:36.900208Z",
     "iopub.status.busy": "2021-05-17T10:26:36.899734Z",
     "iopub.status.idle": "2021-05-17T10:26:36.909819Z",
     "shell.execute_reply": "2021-05-17T10:26:36.909037Z"
    }
   },
   "outputs": [
    {
     "data": {
      "text/html": [
       "<font face=monospace><a href='pYPKa_Z_RPL17A.gb' target='_blank'>pYPKa_Z_RPL17A.gb</a></font><br>"
      ]
     },
     "metadata": {},
     "output_type": "display_data"
    }
   ],
   "source": [
    "pYPKa_Z_RPL17A.write(\"pYPKa_Z_RPL17A.gb\")"
   ]
  },
  {
   "cell_type": "markdown",
   "metadata": {},
   "source": [
    "pYPKa_E_RPL17A is written to a local file:"
   ]
  },
  {
   "cell_type": "code",
   "execution_count": 28,
   "metadata": {
    "execution": {
     "iopub.execute_input": "2021-05-17T10:26:36.915878Z",
     "iopub.status.busy": "2021-05-17T10:26:36.913267Z",
     "iopub.status.idle": "2021-05-17T10:26:36.925914Z",
     "shell.execute_reply": "2021-05-17T10:26:36.925241Z"
    }
   },
   "outputs": [
    {
     "data": {
      "text/html": [
       "<font face=monospace><a href='pYPKa_E_RPL17A.gb' target='_blank'>pYPKa_E_RPL17A.gb</a></font><br>"
      ]
     },
     "metadata": {},
     "output_type": "display_data"
    }
   ],
   "source": [
    "pYPKa_E_RPL17A.write(\"pYPKa_E_RPL17A.gb\")"
   ]
  }
 ],
 "metadata": {
  "language_info": {
   "codemirror_mode": {
    "name": "ipython",
    "version": 3
   },
   "file_extension": ".py",
   "mimetype": "text/x-python",
   "name": "python",
   "nbconvert_exporter": "python",
   "pygments_lexer": "ipython3",
   "version": "3.9.0"
  }
 },
 "nbformat": 4,
 "nbformat_minor": 2
}
