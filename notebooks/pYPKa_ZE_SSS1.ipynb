{
 "cells": [
  {
   "cell_type": "markdown",
   "metadata": {},
   "source": [
    "# pYPKa_Z_SSS1 and pYPKa_E_SSS1\n",
    "\n",
    "This Jupyter notebook describe the construction of E. coli vectors [pYPKa_Z_SSS1](pYPKa_Z_SSS1.gb) and [pYPKa_E_SSS1](pYPKa_E_SSS1.gb). \n",
    "These two vectors share backbone and insert, but in the former, the insert is cloned using the restriction\n",
    "enzyme [ZraI](http://rebase.neb.com/rebase/enz/ZraI.html) while in the latter [EcoRV](http://rebase.neb.com/rebase/enz/EcoRV.html) is used.\n",
    "\n",
    "The insert cloned in ZraI is meant to function as a promoter, while in the EcoRV site it is meant to be  used as a terminator.\n",
    "\n",
    "Links to the sequence of each vector in Genbank format can be found at the bottom of this document.\n",
    "\n",
    "![pYPKa_Z and pYPKa_E](figure_pYPKa_ZE.png \"pYPKa_Z or pYPKa_E plasmid\")\n",
    "\n",
    "The Python package [pydna](https://pypi.python.org/pypi/pydna/) package is imported in the code cell below to provide \n",
    "the cloning functionality. There is a [publication](http://www.biomedcentral.com/1471-2105/16/142) describing pydna as well as\n",
    "[documentation](http://pydna.readthedocs.io/) available online. Pydna is developed on [Github](https://github.com/BjornFJohansson/pydna)."
   ]
  },
  {
   "cell_type": "code",
   "execution_count": 1,
   "metadata": {
    "execution": {
     "iopub.execute_input": "2021-05-17T10:27:55.634776Z",
     "iopub.status.busy": "2021-05-17T10:27:55.634064Z",
     "iopub.status.idle": "2021-05-17T10:27:56.174413Z",
     "shell.execute_reply": "2021-05-17T10:27:56.173959Z"
    }
   },
   "outputs": [],
   "source": [
    "from pydna.readers import read\n",
    "from pydna.parsers import parse_primers\n",
    "from pydna.genbank import Genbank\n",
    "from pydna.amplify import pcr\n",
    "from pydna.amplify import Anneal"
   ]
  },
  {
   "cell_type": "markdown",
   "metadata": {},
   "source": [
    "The vector backbone pYPKa is read from a local [file](pYPKa.gb)."
   ]
  },
  {
   "cell_type": "code",
   "execution_count": 2,
   "metadata": {
    "execution": {
     "iopub.execute_input": "2021-05-17T10:27:56.183981Z",
     "iopub.status.busy": "2021-05-17T10:27:56.183082Z",
     "iopub.status.idle": "2021-05-17T10:27:56.193690Z",
     "shell.execute_reply": "2021-05-17T10:27:56.192940Z"
    }
   },
   "outputs": [],
   "source": [
    "pYPKa = read(\"pYPKa.gb\")"
   ]
  },
  {
   "cell_type": "markdown",
   "metadata": {},
   "source": [
    "Both restriction enzymes are imported from [Biopython](http://biopython.org/wiki/Main_Page)"
   ]
  },
  {
   "cell_type": "code",
   "execution_count": 3,
   "metadata": {
    "execution": {
     "iopub.execute_input": "2021-05-17T10:27:56.197154Z",
     "iopub.status.busy": "2021-05-17T10:27:56.196727Z",
     "iopub.status.idle": "2021-05-17T10:27:56.199763Z",
     "shell.execute_reply": "2021-05-17T10:27:56.199007Z"
    }
   },
   "outputs": [],
   "source": [
    "from Bio.Restriction import ZraI, EcoRV"
   ]
  },
  {
   "cell_type": "markdown",
   "metadata": {},
   "source": [
    "The vector is cut with both enzymes."
   ]
  },
  {
   "cell_type": "code",
   "execution_count": 4,
   "metadata": {
    "execution": {
     "iopub.execute_input": "2021-05-17T10:27:56.207905Z",
     "iopub.status.busy": "2021-05-17T10:27:56.207397Z",
     "iopub.status.idle": "2021-05-17T10:27:56.209727Z",
     "shell.execute_reply": "2021-05-17T10:27:56.209195Z"
    }
   },
   "outputs": [],
   "source": [
    "pYPKa_ZraI  = pYPKa.linearize(ZraI)\n",
    "pYPKa_EcoRV = pYPKa.linearize(EcoRV)"
   ]
  },
  {
   "cell_type": "markdown",
   "metadata": {},
   "source": [
    "The template below comes from a Genbank [record](http://www.ncbi.nlm.nih.gov/nuccore/BK006938.2).\n",
    "Access to Genbank is needed in order to download the template.\n",
    "If you execute this script, change the email address below to your own.\n",
    "Always tell Genbank who you are, when using their web service."
   ]
  },
  {
   "cell_type": "code",
   "execution_count": 5,
   "metadata": {
    "execution": {
     "iopub.execute_input": "2021-05-17T10:27:56.213539Z",
     "iopub.status.busy": "2021-05-17T10:27:56.213048Z",
     "iopub.status.idle": "2021-05-17T10:27:56.214998Z",
     "shell.execute_reply": "2021-05-17T10:27:56.215485Z"
    }
   },
   "outputs": [],
   "source": [
    "gb = Genbank(\"bjornjobb@gmail.com\")"
   ]
  },
  {
   "cell_type": "markdown",
   "metadata": {},
   "source": [
    "The template is downloaded from Genbank below."
   ]
  },
  {
   "cell_type": "code",
   "execution_count": 6,
   "metadata": {
    "execution": {
     "iopub.execute_input": "2021-05-17T10:27:56.218924Z",
     "iopub.status.busy": "2021-05-17T10:27:56.218477Z",
     "iopub.status.idle": "2021-05-17T10:27:56.228662Z",
     "shell.execute_reply": "2021-05-17T10:27:56.228154Z"
    }
   },
   "outputs": [],
   "source": [
    "template = gb.nucleotide(\"BK006938.2 REGION: complement(617171..617469)\")"
   ]
  },
  {
   "cell_type": "markdown",
   "metadata": {},
   "source": [
    "The template is a 299 bp linear DNA fragment."
   ]
  },
  {
   "cell_type": "code",
   "execution_count": 7,
   "metadata": {
    "execution": {
     "iopub.execute_input": "2021-05-17T10:27:56.238623Z",
     "iopub.status.busy": "2021-05-17T10:27:56.237863Z",
     "iopub.status.idle": "2021-05-17T10:27:56.241070Z",
     "shell.execute_reply": "2021-05-17T10:27:56.241800Z"
    }
   },
   "outputs": [
    {
     "data": {
      "text/html": [
       "<a href='https://www.ncbi.nlm.nih.gov/nuccore/BK006938.2 ?from=617171&to=617469&strand=2' target='_blank'>BK006938.2  617171-617469</a>"
      ],
      "text/plain": [
       "Gbank(BK006938.2  617171-617469)(-299)"
      ]
     },
     "execution_count": 1,
     "metadata": {},
     "output_type": "execute_result"
    }
   ],
   "source": [
    "template"
   ]
  },
  {
   "cell_type": "markdown",
   "metadata": {},
   "source": [
    "The insert has the sequence shown below."
   ]
  },
  {
   "cell_type": "code",
   "execution_count": 8,
   "metadata": {
    "execution": {
     "iopub.execute_input": "2021-05-17T10:27:56.246287Z",
     "iopub.status.busy": "2021-05-17T10:27:56.245499Z",
     "iopub.status.idle": "2021-05-17T10:27:56.249793Z",
     "shell.execute_reply": "2021-05-17T10:27:56.249053Z"
    }
   },
   "outputs": [
    {
     "name": "stdout",
     "output_type": "stream",
     "text": [
      "TTCTTCCTGGCGGTAGTATGTAAGTAATCGTAAGTCGCTCATATAAATTGTAGTTGTATATCTATAGTACGAAAAATTCATTACCCTCTGTGGATATTGGCGGAATGCGAAACACGTCGCCTTTTTTTCCTCGCAACATTTTTTTTATTTTTTTTTCGTTTTGAAATGAAAGAATACTAGTGATTAAATTAAACAAGGAAAATAGTACAGATTGGCGTGTATTGTCCATAACTCGTGTCCATTGTCCGCACTACGCTAGTTTACCAAAGATAAAATCACGTATAACATTGAAAAATAAA\n"
     ]
    }
   ],
   "source": [
    "print(str(template.seq))"
   ]
  },
  {
   "cell_type": "markdown",
   "metadata": {},
   "source": [
    "The seguid checksum of the template should be\n",
    "\n",
    "```hrAnSSlhOocqa7orHqyG17KM54E```"
   ]
  },
  {
   "cell_type": "code",
   "execution_count": 9,
   "metadata": {
    "execution": {
     "iopub.execute_input": "2021-05-17T10:27:56.255495Z",
     "iopub.status.busy": "2021-05-17T10:27:56.254394Z",
     "iopub.status.idle": "2021-05-17T10:27:56.259026Z",
     "shell.execute_reply": "2021-05-17T10:27:56.258278Z"
    }
   },
   "outputs": [
    {
     "data": {
      "text/plain": [
       "hrAnSSlhOocqa7orHqyG17KM54E"
      ]
     },
     "execution_count": 1,
     "metadata": {},
     "output_type": "execute_result"
    }
   ],
   "source": [
    "template.seguid()"
   ]
  },
  {
   "cell_type": "markdown",
   "metadata": {},
   "source": [
    "Two primers are used to amplify the insert:"
   ]
  },
  {
   "cell_type": "code",
   "execution_count": 10,
   "metadata": {
    "execution": {
     "iopub.execute_input": "2021-05-17T10:27:56.263405Z",
     "iopub.status.busy": "2021-05-17T10:27:56.262935Z",
     "iopub.status.idle": "2021-05-17T10:27:56.265040Z",
     "shell.execute_reply": "2021-05-17T10:27:56.264593Z"
    }
   },
   "outputs": [],
   "source": [
    "fp,rp = parse_primers(\"\"\">1022_fw299\n",
    "                         ttaaatTTCTTCCTGGCGGTAG\n",
    "                         >1021_rv299\n",
    "                         taattaaTTTATTTTTCAATGTTATACGT\"\"\")"
   ]
  },
  {
   "cell_type": "markdown",
   "metadata": {},
   "source": [
    "PCR to create the insert using the primers above."
   ]
  },
  {
   "cell_type": "code",
   "execution_count": 11,
   "metadata": {
    "execution": {
     "iopub.execute_input": "2021-05-17T10:27:56.270867Z",
     "iopub.status.busy": "2021-05-17T10:27:56.269584Z",
     "iopub.status.idle": "2021-05-17T10:27:56.275586Z",
     "shell.execute_reply": "2021-05-17T10:27:56.274985Z"
    }
   },
   "outputs": [],
   "source": [
    "prd = pcr(fp, rp, template)\n",
    "assert str(fp.seq) in prd"
   ]
  },
  {
   "cell_type": "markdown",
   "metadata": {},
   "source": [
    "The PCR product has this length in bp."
   ]
  },
  {
   "cell_type": "code",
   "execution_count": 12,
   "metadata": {
    "execution": {
     "iopub.execute_input": "2021-05-17T10:27:56.279781Z",
     "iopub.status.busy": "2021-05-17T10:27:56.279087Z",
     "iopub.status.idle": "2021-05-17T10:27:56.282712Z",
     "shell.execute_reply": "2021-05-17T10:27:56.283426Z"
    }
   },
   "outputs": [
    {
     "data": {
      "text/plain": [
       "312"
      ]
     },
     "execution_count": 1,
     "metadata": {},
     "output_type": "execute_result"
    }
   ],
   "source": [
    "len(prd)"
   ]
  },
  {
   "cell_type": "markdown",
   "metadata": {},
   "source": [
    "A figure of the primers annealing on template."
   ]
  },
  {
   "cell_type": "code",
   "execution_count": 13,
   "metadata": {
    "execution": {
     "iopub.execute_input": "2021-05-17T10:27:56.293358Z",
     "iopub.status.busy": "2021-05-17T10:27:56.292747Z",
     "iopub.status.idle": "2021-05-17T10:27:56.294679Z",
     "shell.execute_reply": "2021-05-17T10:27:56.295312Z"
    }
   },
   "outputs": [
    {
     "data": {
      "text/plain": [
       "      5TTCTTCCTGGCGGTAG...ACGTATAACATTGAAAAATAAA3\n",
       "                          ||||||||||||||||||||||\n",
       "                         3TGCATATTGTAACTTTTTATTTaattaat5\n",
       "5ttaaatTTCTTCCTGGCGGTAG3\n",
       "       ||||||||||||||||\n",
       "      3AAGAAGGACCGCCATC...TGCATATTGTAACTTTTTATTT5"
      ]
     },
     "execution_count": 1,
     "metadata": {},
     "output_type": "execute_result"
    }
   ],
   "source": [
    "prd.figure()"
   ]
  },
  {
   "cell_type": "markdown",
   "metadata": {},
   "source": [
    "A suggested PCR program."
   ]
  },
  {
   "cell_type": "code",
   "execution_count": 14,
   "metadata": {
    "execution": {
     "iopub.execute_input": "2021-05-17T10:27:56.301294Z",
     "iopub.status.busy": "2021-05-17T10:27:56.300505Z",
     "iopub.status.idle": "2021-05-17T10:27:56.303626Z",
     "shell.execute_reply": "2021-05-17T10:27:56.303171Z"
    }
   },
   "outputs": [
    {
     "data": {
      "text/plain": [
       "|95°C|95°C               |    |tmf:59.1\n",
       "|____|_____          72°C|72°C|tmr:50.9\n",
       "|5min|30s  \\ 50.0°C _____|____|60s/kb\n",
       "|    |      \\______/ 0:18|5min|GC 32%\n",
       "|    |       30s         |    |312bp"
      ]
     },
     "execution_count": 1,
     "metadata": {},
     "output_type": "execute_result"
    }
   ],
   "source": [
    "prd.program()"
   ]
  },
  {
   "cell_type": "markdown",
   "metadata": {},
   "source": [
    "The final vectors are:"
   ]
  },
  {
   "cell_type": "code",
   "execution_count": 15,
   "metadata": {
    "execution": {
     "iopub.execute_input": "2021-05-17T10:27:56.316651Z",
     "iopub.status.busy": "2021-05-17T10:27:56.316117Z",
     "iopub.status.idle": "2021-05-17T10:27:56.744419Z",
     "shell.execute_reply": "2021-05-17T10:27:56.743886Z"
    }
   },
   "outputs": [],
   "source": [
    "pYPKa_Z_SSS1 = (pYPKa_ZraI  + prd).looped().synced(pYPKa)\n",
    "pYPKa_E_SSS1 = (pYPKa_EcoRV + prd).looped().synced(pYPKa)"
   ]
  },
  {
   "cell_type": "markdown",
   "metadata": {},
   "source": [
    "The final vectors with reverse inserts are created below. These vectors theoretically make up\n",
    "fifty percent of the clones. The PCR strategy outlined below can be used to identify clones with the insert\n",
    "in the correct orientation."
   ]
  },
  {
   "cell_type": "code",
   "execution_count": 16,
   "metadata": {
    "execution": {
     "iopub.execute_input": "2021-05-17T10:27:56.818372Z",
     "iopub.status.busy": "2021-05-17T10:27:56.782444Z",
     "iopub.status.idle": "2021-05-17T10:27:57.183980Z",
     "shell.execute_reply": "2021-05-17T10:27:57.184455Z"
    }
   },
   "outputs": [],
   "source": [
    "pYPKa_Z_SSS1b = (pYPKa_ZraI  + prd.rc()).looped().synced(pYPKa)\n",
    "pYPKa_E_SSS1b = (pYPKa_EcoRV + prd.rc()).looped().synced(pYPKa)"
   ]
  },
  {
   "cell_type": "markdown",
   "metadata": {},
   "source": [
    "A combination of yeast pathway kit standard primers and the primers above are\n",
    "used for the strategy to identify correct clones.\n",
    "Standard primers used in the yeast are listed [here](standard_primers.txt)."
   ]
  },
  {
   "cell_type": "code",
   "execution_count": 17,
   "metadata": {
    "execution": {
     "iopub.execute_input": "2021-05-17T10:27:57.188831Z",
     "iopub.status.busy": "2021-05-17T10:27:57.188397Z",
     "iopub.status.idle": "2021-05-17T10:27:57.190545Z",
     "shell.execute_reply": "2021-05-17T10:27:57.191167Z"
    }
   },
   "outputs": [],
   "source": [
    "p = { x.id: x for x in parse_primers(\"\"\">577\n",
    "                                         gttctgatcctcgagcatcttaagaattc\n",
    "                                         >578\n",
    "                                         gttcttgtctcattgccacattcataagt\n",
    "                                         >468\n",
    "                                         gtcgaggaacgccaggttgcccact\n",
    "                                         >467\n",
    "                                         ATTTAAatcctgatgcgtttgtctgcacaga\n",
    "                                         >567\n",
    "                                         GTcggctgcaggtcactagtgag\n",
    "                                         >568\n",
    "                                         GTGCcatctgtgcagacaaacg\n",
    "                                         >775\n",
    "                                         gcggccgctgacTTAAAT\n",
    "                                         >778\n",
    "                                         ggtaaatccggatTAATTAA\n",
    "                                         >342\n",
    "                                         CCTTTTTACGGTTCCTGGCCT\"\"\") }"
   ]
  },
  {
   "cell_type": "markdown",
   "metadata": {},
   "source": [
    "## Diagnostic PCR confirmation\n",
    "\n",
    "The correct structure of pYPKa_Z_SSS1 is confirmed by PCR using standard primers\n",
    "577 and 342 that are vector specific together with the SSS1fw primer specific for the insert\n",
    "in a multiplex PCR reaction with\n",
    "all three primers present.\n",
    "\n",
    "Two PCR products are expected if the insert was cloned, the sizes depend\n",
    "on the orientation. If the vector is empty or contains another insert, only one\n",
    "product is formed.\n",
    "\n",
    "#### Expected PCR products sizes from pYPKa_Z_SSS1:\n",
    "\n",
    "pYPKa_Z_SSS1 with insert in correct orientation."
   ]
  },
  {
   "cell_type": "code",
   "execution_count": 18,
   "metadata": {
    "execution": {
     "iopub.execute_input": "2021-05-17T10:27:57.203612Z",
     "iopub.status.busy": "2021-05-17T10:27:57.203082Z",
     "iopub.status.idle": "2021-05-17T10:27:57.205655Z",
     "shell.execute_reply": "2021-05-17T10:27:57.206075Z"
    }
   },
   "outputs": [
    {
     "data": {
      "text/plain": [
       "[Amplicon(1246), Amplicon(1078)]"
      ]
     },
     "execution_count": 1,
     "metadata": {},
     "output_type": "execute_result"
    }
   ],
   "source": [
    "Anneal( (p['577'], p['342'], fp), pYPKa_Z_SSS1).products"
   ]
  },
  {
   "cell_type": "markdown",
   "metadata": {},
   "source": [
    "pYPKa_Z_SSS1 with insert in reverse orientation."
   ]
  },
  {
   "cell_type": "code",
   "execution_count": 19,
   "metadata": {
    "execution": {
     "iopub.execute_input": "2021-05-17T10:27:57.215857Z",
     "iopub.status.busy": "2021-05-17T10:27:57.215336Z",
     "iopub.status.idle": "2021-05-17T10:27:57.217862Z",
     "shell.execute_reply": "2021-05-17T10:27:57.218275Z"
    }
   },
   "outputs": [
    {
     "data": {
      "text/plain": [
       "[Amplicon(1246), Amplicon(480)]"
      ]
     },
     "execution_count": 1,
     "metadata": {},
     "output_type": "execute_result"
    }
   ],
   "source": [
    "Anneal( (p['577'], p['342'], fp), pYPKa_Z_SSS1b).products"
   ]
  },
  {
   "cell_type": "markdown",
   "metadata": {},
   "source": [
    "Empty pYPKa clone."
   ]
  },
  {
   "cell_type": "code",
   "execution_count": 20,
   "metadata": {
    "execution": {
     "iopub.execute_input": "2021-05-17T10:27:57.224928Z",
     "iopub.status.busy": "2021-05-17T10:27:57.224265Z",
     "iopub.status.idle": "2021-05-17T10:27:57.227024Z",
     "shell.execute_reply": "2021-05-17T10:27:57.227529Z"
    }
   },
   "outputs": [
    {
     "data": {
      "text/plain": [
       "[Amplicon(934)]"
      ]
     },
     "execution_count": 1,
     "metadata": {},
     "output_type": "execute_result"
    }
   ],
   "source": [
    "Anneal( (p['577'], p['342'], fp), pYPKa).products"
   ]
  },
  {
   "cell_type": "markdown",
   "metadata": {},
   "source": [
    "#### Expected PCR products sizes pYPKa_E_SSS1:\n",
    "\n",
    "pYPKa_E_SSS1 with insert in correct orientation."
   ]
  },
  {
   "cell_type": "code",
   "execution_count": 21,
   "metadata": {
    "execution": {
     "iopub.execute_input": "2021-05-17T10:27:57.238752Z",
     "iopub.status.busy": "2021-05-17T10:27:57.237879Z",
     "iopub.status.idle": "2021-05-17T10:27:57.240936Z",
     "shell.execute_reply": "2021-05-17T10:27:57.241508Z"
    }
   },
   "outputs": [
    {
     "data": {
      "text/plain": [
       "[Amplicon(1246), Amplicon(997)]"
      ]
     },
     "execution_count": 1,
     "metadata": {},
     "output_type": "execute_result"
    }
   ],
   "source": [
    "Anneal( (p['577'], p['342'], fp), pYPKa_E_SSS1).products"
   ]
  },
  {
   "cell_type": "markdown",
   "metadata": {},
   "source": [
    "pYPKa_E_SSS1 with insert in reverse orientation."
   ]
  },
  {
   "cell_type": "code",
   "execution_count": 22,
   "metadata": {
    "execution": {
     "iopub.execute_input": "2021-05-17T10:27:57.251643Z",
     "iopub.status.busy": "2021-05-17T10:27:57.250962Z",
     "iopub.status.idle": "2021-05-17T10:27:57.254281Z",
     "shell.execute_reply": "2021-05-17T10:27:57.254862Z"
    }
   },
   "outputs": [
    {
     "data": {
      "text/plain": [
       "[Amplicon(1246), Amplicon(561)]"
      ]
     },
     "execution_count": 1,
     "metadata": {},
     "output_type": "execute_result"
    }
   ],
   "source": [
    "Anneal( (p['577'], p['342'], fp), pYPKa_E_SSS1b).products\n"
   ]
  },
  {
   "cell_type": "markdown",
   "metadata": {},
   "source": [
    "Calculate cseguid checksums for the resulting plasmids for future reference.\n",
    "This checksum that uniquely describes a circular double stranded\n",
    "sequence. See this [blog post](https://ochsavidare.blogspot.com/2016/02/checksum-for-circular-biological.html) for more info.\n",
    "\n",
    "pYPKa_Z_SSS1.cseguid() should be a1NfXeNxmwbPatZ-RQXvJbuLrm8"
   ]
  },
  {
   "cell_type": "code",
   "execution_count": 23,
   "metadata": {
    "execution": {
     "iopub.execute_input": "2021-05-17T10:27:57.267287Z",
     "iopub.status.busy": "2021-05-17T10:27:57.266795Z",
     "iopub.status.idle": "2021-05-17T10:27:57.269515Z",
     "shell.execute_reply": "2021-05-17T10:27:57.269064Z"
    }
   },
   "outputs": [
    {
     "name": "stdout",
     "output_type": "stream",
     "text": [
      "a1NfXeNxmwbPatZ-RQXvJbuLrm8\n"
     ]
    }
   ],
   "source": [
    "print(pYPKa_Z_SSS1.cseguid())\n",
    "assert pYPKa_Z_SSS1.cseguid() == \"a1NfXeNxmwbPatZ-RQXvJbuLrm8\""
   ]
  },
  {
   "cell_type": "markdown",
   "metadata": {},
   "source": [
    "pYPKa_E_SSS1.cseguid() should be w08DHhlqe7lcro4lG-SivnPsvYI"
   ]
  },
  {
   "cell_type": "code",
   "execution_count": 24,
   "metadata": {
    "execution": {
     "iopub.execute_input": "2021-05-17T10:27:57.280154Z",
     "iopub.status.busy": "2021-05-17T10:27:57.279458Z",
     "iopub.status.idle": "2021-05-17T10:27:57.282228Z",
     "shell.execute_reply": "2021-05-17T10:27:57.282674Z"
    }
   },
   "outputs": [
    {
     "name": "stdout",
     "output_type": "stream",
     "text": [
      "w08DHhlqe7lcro4lG-SivnPsvYI\n"
     ]
    }
   ],
   "source": [
    "print(pYPKa_E_SSS1.cseguid())\n",
    "assert pYPKa_E_SSS1.cseguid() == \"w08DHhlqe7lcro4lG-SivnPsvYI\""
   ]
  },
  {
   "cell_type": "markdown",
   "metadata": {},
   "source": [
    "The sequences are named based on the name of the cloned insert."
   ]
  },
  {
   "cell_type": "code",
   "execution_count": 25,
   "metadata": {
    "execution": {
     "iopub.execute_input": "2021-05-17T10:27:57.285975Z",
     "iopub.status.busy": "2021-05-17T10:27:57.285529Z",
     "iopub.status.idle": "2021-05-17T10:27:57.288099Z",
     "shell.execute_reply": "2021-05-17T10:27:57.287574Z"
    }
   },
   "outputs": [],
   "source": [
    "pYPKa_Z_SSS1.locus = \"pYPKa_Z_SSS1\"[:16]\n",
    "pYPKa_E_SSS1.locus = \"pYPKa_Z_SSS1\"[:16]"
   ]
  },
  {
   "cell_type": "markdown",
   "metadata": {},
   "source": [
    "Stamp sequence with cseguid checksum. This can be used to verify the\n",
    "integrity of the sequence file."
   ]
  },
  {
   "cell_type": "code",
   "execution_count": 26,
   "metadata": {
    "execution": {
     "iopub.execute_input": "2021-05-17T10:27:57.300061Z",
     "iopub.status.busy": "2021-05-17T10:27:57.299419Z",
     "iopub.status.idle": "2021-05-17T10:27:57.302653Z",
     "shell.execute_reply": "2021-05-17T10:27:57.303132Z"
    }
   },
   "outputs": [
    {
     "data": {
      "text/plain": [
       "cSEGUID_w08DHhlqe7lcro4lG-SivnPsvYI"
      ]
     },
     "execution_count": 1,
     "metadata": {},
     "output_type": "execute_result"
    }
   ],
   "source": [
    "pYPKa_Z_SSS1.stamp()\n",
    "pYPKa_E_SSS1.stamp()"
   ]
  },
  {
   "cell_type": "markdown",
   "metadata": {},
   "source": [
    "pYPKa_Z_SSS1 is written to a local file:"
   ]
  },
  {
   "cell_type": "code",
   "execution_count": 27,
   "metadata": {
    "execution": {
     "iopub.execute_input": "2021-05-17T10:27:57.309454Z",
     "iopub.status.busy": "2021-05-17T10:27:57.308777Z",
     "iopub.status.idle": "2021-05-17T10:27:57.312776Z",
     "shell.execute_reply": "2021-05-17T10:27:57.313404Z"
    }
   },
   "outputs": [
    {
     "data": {
      "text/html": [
       "<font face=monospace><a href='pYPKa_Z_SSS1.gb' target='_blank'>pYPKa_Z_SSS1.gb</a></font><br>"
      ]
     },
     "metadata": {},
     "output_type": "display_data"
    }
   ],
   "source": [
    "pYPKa_Z_SSS1.write(\"pYPKa_Z_SSS1.gb\")"
   ]
  },
  {
   "cell_type": "markdown",
   "metadata": {},
   "source": [
    "pYPKa_E_SSS1 is written to a local file:"
   ]
  },
  {
   "cell_type": "code",
   "execution_count": 28,
   "metadata": {
    "execution": {
     "iopub.execute_input": "2021-05-17T10:27:57.320122Z",
     "iopub.status.busy": "2021-05-17T10:27:57.319319Z",
     "iopub.status.idle": "2021-05-17T10:27:57.324165Z",
     "shell.execute_reply": "2021-05-17T10:27:57.323569Z"
    }
   },
   "outputs": [
    {
     "data": {
      "text/html": [
       "<font face=monospace><a href='pYPKa_E_SSS1.gb' target='_blank'>pYPKa_E_SSS1.gb</a></font><br>"
      ]
     },
     "metadata": {},
     "output_type": "display_data"
    }
   ],
   "source": [
    "pYPKa_E_SSS1.write(\"pYPKa_E_SSS1.gb\")"
   ]
  }
 ],
 "metadata": {
  "language_info": {
   "codemirror_mode": {
    "name": "ipython",
    "version": 3
   },
   "file_extension": ".py",
   "mimetype": "text/x-python",
   "name": "python",
   "nbconvert_exporter": "python",
   "pygments_lexer": "ipython3",
   "version": "3.9.0"
  }
 },
 "nbformat": 4,
 "nbformat_minor": 2
}
