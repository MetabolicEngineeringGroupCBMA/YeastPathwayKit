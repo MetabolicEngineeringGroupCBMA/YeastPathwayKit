{
 "cells": [
  {
   "cell_type": "markdown",
   "metadata": {},
   "source": [
    "# pYPKa_Z_RPL12A and pYPKa_E_RPL12A\n",
    "\n",
    "This Jupyter notebook describe the construction of E. coli vectors [pYPKa_Z_RPL12A](pYPKa_Z_RPL12A.gb) and [pYPKa_E_RPL12A](pYPKa_E_RPL12A.gb). \n",
    "These two vectors share backbone and insert, but in the former, the insert is cloned using the restriction\n",
    "enzyme [ZraI](http://rebase.neb.com/rebase/enz/ZraI.html) while in the latter [EcoRV](http://rebase.neb.com/rebase/enz/EcoRV.html) is used.\n",
    "\n",
    "The insert cloned in ZraI is meant to function as a promoter, while in the EcoRV site it is meant to be  used as a terminator.\n",
    "\n",
    "Links to the sequence of each vector in Genbank format can be found at the bottom of this document.\n",
    "\n",
    "![pYPKa_Z and pYPKa_E](figure_pYPKa_ZE.png \"pYPKa_Z or pYPKa_E plasmid\")\n",
    "\n",
    "The Python package [pydna](https://pypi.python.org/pypi/pydna/) package is imported in the code cell below to provide \n",
    "the cloning functionality. There is a [publication](http://www.biomedcentral.com/1471-2105/16/142) describing pydna as well as\n",
    "[documentation](http://pydna.readthedocs.io/) available online. Pydna is developed on [Github](https://github.com/BjornFJohansson/pydna)."
   ]
  },
  {
   "cell_type": "code",
   "execution_count": 1,
   "metadata": {
    "execution": {
     "iopub.execute_input": "2021-05-17T10:26:15.557412Z",
     "iopub.status.busy": "2021-05-17T10:26:15.556534Z",
     "iopub.status.idle": "2021-05-17T10:26:16.083175Z",
     "shell.execute_reply": "2021-05-17T10:26:16.082585Z"
    }
   },
   "outputs": [],
   "source": [
    "from pydna.readers import read\n",
    "from pydna.parsers import parse_primers\n",
    "from pydna.genbank import Genbank\n",
    "from pydna.amplify import pcr\n",
    "from pydna.amplify import Anneal"
   ]
  },
  {
   "cell_type": "markdown",
   "metadata": {},
   "source": [
    "The vector backbone pYPKa is read from a local [file](pYPKa.gb)."
   ]
  },
  {
   "cell_type": "code",
   "execution_count": 2,
   "metadata": {
    "execution": {
     "iopub.execute_input": "2021-05-17T10:26:16.094478Z",
     "iopub.status.busy": "2021-05-17T10:26:16.093904Z",
     "iopub.status.idle": "2021-05-17T10:26:16.104207Z",
     "shell.execute_reply": "2021-05-17T10:26:16.104816Z"
    }
   },
   "outputs": [],
   "source": [
    "pYPKa = read(\"pYPKa.gb\")"
   ]
  },
  {
   "cell_type": "markdown",
   "metadata": {},
   "source": [
    "Both restriction enzymes are imported from [Biopython](http://biopython.org/wiki/Main_Page)"
   ]
  },
  {
   "cell_type": "code",
   "execution_count": 3,
   "metadata": {
    "execution": {
     "iopub.execute_input": "2021-05-17T10:26:16.109406Z",
     "iopub.status.busy": "2021-05-17T10:26:16.108540Z",
     "iopub.status.idle": "2021-05-17T10:26:16.113198Z",
     "shell.execute_reply": "2021-05-17T10:26:16.114219Z"
    }
   },
   "outputs": [],
   "source": [
    "from Bio.Restriction import ZraI, EcoRV"
   ]
  },
  {
   "cell_type": "markdown",
   "metadata": {},
   "source": [
    "The vector is cut with both enzymes."
   ]
  },
  {
   "cell_type": "code",
   "execution_count": 4,
   "metadata": {
    "execution": {
     "iopub.execute_input": "2021-05-17T10:26:16.121553Z",
     "iopub.status.busy": "2021-05-17T10:26:16.121000Z",
     "iopub.status.idle": "2021-05-17T10:26:16.123366Z",
     "shell.execute_reply": "2021-05-17T10:26:16.123905Z"
    }
   },
   "outputs": [],
   "source": [
    "pYPKa_ZraI  = pYPKa.linearize(ZraI)\n",
    "pYPKa_EcoRV = pYPKa.linearize(EcoRV)"
   ]
  },
  {
   "cell_type": "markdown",
   "metadata": {},
   "source": [
    "The template below comes from a Genbank [record](http://www.ncbi.nlm.nih.gov/nuccore/BK006939.2).\n",
    "Access to Genbank is needed in order to download the template.\n",
    "If you execute this script, change the email address below to your own.\n",
    "Always tell Genbank who you are, when using their web service."
   ]
  },
  {
   "cell_type": "code",
   "execution_count": 5,
   "metadata": {
    "execution": {
     "iopub.execute_input": "2021-05-17T10:26:16.129667Z",
     "iopub.status.busy": "2021-05-17T10:26:16.128868Z",
     "iopub.status.idle": "2021-05-17T10:26:16.131802Z",
     "shell.execute_reply": "2021-05-17T10:26:16.131139Z"
    }
   },
   "outputs": [],
   "source": [
    "gb = Genbank(\"bjornjobb@gmail.com\")"
   ]
  },
  {
   "cell_type": "markdown",
   "metadata": {},
   "source": [
    "The template is downloaded from Genbank below."
   ]
  },
  {
   "cell_type": "code",
   "execution_count": 6,
   "metadata": {
    "execution": {
     "iopub.execute_input": "2021-05-17T10:26:16.139399Z",
     "iopub.status.busy": "2021-05-17T10:26:16.136613Z",
     "iopub.status.idle": "2021-05-17T10:26:16.147760Z",
     "shell.execute_reply": "2021-05-17T10:26:16.147232Z"
    }
   },
   "outputs": [],
   "source": [
    "template = gb.nucleotide(\"BK006939.2 REGION: complement(53219..53900)\")"
   ]
  },
  {
   "cell_type": "markdown",
   "metadata": {},
   "source": [
    "The template is a 682 bp linear DNA fragment."
   ]
  },
  {
   "cell_type": "code",
   "execution_count": 7,
   "metadata": {
    "execution": {
     "iopub.execute_input": "2021-05-17T10:26:16.156098Z",
     "iopub.status.busy": "2021-05-17T10:26:16.155517Z",
     "iopub.status.idle": "2021-05-17T10:26:16.158678Z",
     "shell.execute_reply": "2021-05-17T10:26:16.158197Z"
    }
   },
   "outputs": [
    {
     "data": {
      "text/html": [
       "<a href='https://www.ncbi.nlm.nih.gov/nuccore/BK006939.2 ?from=53219&to=53900&strand=2' target='_blank'>BK006939.2  53219-53900</a>"
      ],
      "text/plain": [
       "Gbank(BK006939.2  53219-53900)(-682)"
      ]
     },
     "execution_count": 1,
     "metadata": {},
     "output_type": "execute_result"
    }
   ],
   "source": [
    "template"
   ]
  },
  {
   "cell_type": "markdown",
   "metadata": {},
   "source": [
    "The insert has the sequence shown below."
   ]
  },
  {
   "cell_type": "code",
   "execution_count": 8,
   "metadata": {
    "execution": {
     "iopub.execute_input": "2021-05-17T10:26:16.162388Z",
     "iopub.status.busy": "2021-05-17T10:26:16.161664Z",
     "iopub.status.idle": "2021-05-17T10:26:16.164781Z",
     "shell.execute_reply": "2021-05-17T10:26:16.165415Z"
    }
   },
   "outputs": [
    {
     "name": "stdout",
     "output_type": "stream",
     "text": [
      "TCTGGAATTTACCCTAACTGTACAAAATATATTTAGCATTATATACCCGCTATTTAATTATTATAAAGGAGACCTTTATACTCAAACAAATGAAGCCACCTTATGCCATTATCCCATTCGTACCAGTCTAAAACAAGATAAATACCCTGTTTAACATCCGAACACCAAATATGTGTGGGTGTCAAACAAAGAGACAATGTAATGAGACAATGTACTGCTTGTAAACTATAACAGTATCAGCTCAATTTCAATGCCATCTACTCCAGATATCGTTGCGATTGTACCTACAAGCCGCCTACAACGGCGTTATTGTTGTAAGCTGGTAAAATGCAGTGCGTTCCCCCGTTGTGAGTTCGGGCCAAACTTACTTGGCTGGGAGTTCCGTCCGTACAGTTGTGGCTTGCTGCCTAGACTTAGGCGGACGCGGCGGCAATTACTCCTGGGCTCTCCCTAGAGCTGGAGAGACACTCTTGGTAACCGAAGGGAAAATCCCGGAAGAAAATTTGGAATCCGTTAACACTGCTGGAAATGGACATCTCCTAATACTGAAAAAATTATTCAAAGTCTAGAATTTTGGTAAATTTCAAGGCTTCTTTGAGTTACAGTTCGTTACTATTACACCTTAAAGGAACTTTCTTTTGGGGTCTAGAAAGTCGACAACAAGAACAAAGGATATACAAAA\n"
     ]
    }
   ],
   "source": [
    "print(str(template.seq))"
   ]
  },
  {
   "cell_type": "markdown",
   "metadata": {},
   "source": [
    "The seguid checksum of the template should be\n",
    "\n",
    "```XFR3T7flkJ0mfBefOn6JmWWvrZ8```"
   ]
  },
  {
   "cell_type": "code",
   "execution_count": 9,
   "metadata": {
    "execution": {
     "iopub.execute_input": "2021-05-17T10:26:16.170435Z",
     "iopub.status.busy": "2021-05-17T10:26:16.169460Z",
     "iopub.status.idle": "2021-05-17T10:26:16.173640Z",
     "shell.execute_reply": "2021-05-17T10:26:16.172901Z"
    }
   },
   "outputs": [
    {
     "data": {
      "text/plain": [
       "XFR3T7flkJ0mfBefOn6JmWWvrZ8"
      ]
     },
     "execution_count": 1,
     "metadata": {},
     "output_type": "execute_result"
    }
   ],
   "source": [
    "template.seguid()"
   ]
  },
  {
   "cell_type": "markdown",
   "metadata": {},
   "source": [
    "Two primers are used to amplify the insert:"
   ]
  },
  {
   "cell_type": "code",
   "execution_count": 10,
   "metadata": {
    "execution": {
     "iopub.execute_input": "2021-05-17T10:26:16.179046Z",
     "iopub.status.busy": "2021-05-17T10:26:16.178345Z",
     "iopub.status.idle": "2021-05-17T10:26:16.180737Z",
     "shell.execute_reply": "2021-05-17T10:26:16.181407Z"
    }
   },
   "outputs": [],
   "source": [
    "fp,rp = parse_primers(\"\"\">751_RPL12A_fw\n",
    "                         ttaaatTCTGGAATTTACCCTAACTGTA\n",
    "                         >752_RPL12A_rv\n",
    "                         taattaaTTTTGTATATCCTTTGTTCTTG\"\"\")"
   ]
  },
  {
   "cell_type": "markdown",
   "metadata": {},
   "source": [
    "PCR to create the insert using the primers above."
   ]
  },
  {
   "cell_type": "code",
   "execution_count": 11,
   "metadata": {
    "execution": {
     "iopub.execute_input": "2021-05-17T10:26:16.187467Z",
     "iopub.status.busy": "2021-05-17T10:26:16.186833Z",
     "iopub.status.idle": "2021-05-17T10:26:16.192067Z",
     "shell.execute_reply": "2021-05-17T10:26:16.191521Z"
    }
   },
   "outputs": [],
   "source": [
    "prd = pcr(fp, rp, template)\n",
    "assert str(fp.seq) in prd"
   ]
  },
  {
   "cell_type": "markdown",
   "metadata": {},
   "source": [
    "The PCR product has this length in bp."
   ]
  },
  {
   "cell_type": "code",
   "execution_count": 12,
   "metadata": {
    "execution": {
     "iopub.execute_input": "2021-05-17T10:26:16.195834Z",
     "iopub.status.busy": "2021-05-17T10:26:16.195291Z",
     "iopub.status.idle": "2021-05-17T10:26:16.198355Z",
     "shell.execute_reply": "2021-05-17T10:26:16.199014Z"
    }
   },
   "outputs": [
    {
     "data": {
      "text/plain": [
       "695"
      ]
     },
     "execution_count": 1,
     "metadata": {},
     "output_type": "execute_result"
    }
   ],
   "source": [
    "len(prd)"
   ]
  },
  {
   "cell_type": "markdown",
   "metadata": {},
   "source": [
    "A figure of the primers annealing on template."
   ]
  },
  {
   "cell_type": "code",
   "execution_count": 13,
   "metadata": {
    "execution": {
     "iopub.execute_input": "2021-05-17T10:26:16.204008Z",
     "iopub.status.busy": "2021-05-17T10:26:16.203332Z",
     "iopub.status.idle": "2021-05-17T10:26:16.207581Z",
     "shell.execute_reply": "2021-05-17T10:26:16.206744Z"
    }
   },
   "outputs": [
    {
     "data": {
      "text/plain": [
       "      5TCTGGAATTTACCCTAACTGTA...CAAGAACAAAGGATATACAAAA3\n",
       "                                ||||||||||||||||||||||\n",
       "                               3GTTCTTGTTTCCTATATGTTTTaattaat5\n",
       "5ttaaatTCTGGAATTTACCCTAACTGTA3\n",
       "       ||||||||||||||||||||||\n",
       "      3AGACCTTAAATGGGATTGACAT...GTTCTTGTTTCCTATATGTTTT5"
      ]
     },
     "execution_count": 1,
     "metadata": {},
     "output_type": "execute_result"
    }
   ],
   "source": [
    "prd.figure()"
   ]
  },
  {
   "cell_type": "markdown",
   "metadata": {},
   "source": [
    "A suggested PCR program."
   ]
  },
  {
   "cell_type": "code",
   "execution_count": 14,
   "metadata": {
    "execution": {
     "iopub.execute_input": "2021-05-17T10:26:16.213316Z",
     "iopub.status.busy": "2021-05-17T10:26:16.212536Z",
     "iopub.status.idle": "2021-05-17T10:26:16.217453Z",
     "shell.execute_reply": "2021-05-17T10:26:16.216679Z"
    }
   },
   "outputs": [
    {
     "data": {
      "text/plain": [
       "|95°C|95°C               |    |tmf:59.9\n",
       "|____|_____          72°C|72°C|tmr:53.7\n",
       "|5min|30s  \\ 53.8°C _____|____|60s/kb\n",
       "|    |      \\______/ 0:41|5min|GC 39%\n",
       "|    |       30s         |    |695bp"
      ]
     },
     "execution_count": 1,
     "metadata": {},
     "output_type": "execute_result"
    }
   ],
   "source": [
    "prd.program()"
   ]
  },
  {
   "cell_type": "markdown",
   "metadata": {},
   "source": [
    "The final vectors are:"
   ]
  },
  {
   "cell_type": "code",
   "execution_count": 15,
   "metadata": {
    "execution": {
     "iopub.execute_input": "2021-05-17T10:26:16.261113Z",
     "iopub.status.busy": "2021-05-17T10:26:16.230772Z",
     "iopub.status.idle": "2021-05-17T10:26:16.688604Z",
     "shell.execute_reply": "2021-05-17T10:26:16.688119Z"
    }
   },
   "outputs": [],
   "source": [
    "pYPKa_Z_RPL12A = (pYPKa_ZraI  + prd).looped().synced(pYPKa)\n",
    "pYPKa_E_RPL12A = (pYPKa_EcoRV + prd).looped().synced(pYPKa)"
   ]
  },
  {
   "cell_type": "markdown",
   "metadata": {},
   "source": [
    "The final vectors with reverse inserts are created below. These vectors theoretically make up\n",
    "fifty percent of the clones. The PCR strategy outlined below can be used to identify clones with the insert\n",
    "in the correct orientation."
   ]
  },
  {
   "cell_type": "code",
   "execution_count": 16,
   "metadata": {
    "execution": {
     "iopub.execute_input": "2021-05-17T10:26:16.747044Z",
     "iopub.status.busy": "2021-05-17T10:26:16.726596Z",
     "iopub.status.idle": "2021-05-17T10:26:17.217368Z",
     "shell.execute_reply": "2021-05-17T10:26:17.216802Z"
    }
   },
   "outputs": [],
   "source": [
    "pYPKa_Z_RPL12Ab = (pYPKa_ZraI  + prd.rc()).looped().synced(pYPKa)\n",
    "pYPKa_E_RPL12Ab = (pYPKa_EcoRV + prd.rc()).looped().synced(pYPKa)"
   ]
  },
  {
   "cell_type": "markdown",
   "metadata": {},
   "source": [
    "A combination of yeast pathway kit standard primers and the primers above are\n",
    "used for the strategy to identify correct clones.\n",
    "Standard primers used in the yeast are listed [here](standard_primers.txt)."
   ]
  },
  {
   "cell_type": "code",
   "execution_count": 17,
   "metadata": {
    "execution": {
     "iopub.execute_input": "2021-05-17T10:26:17.221779Z",
     "iopub.status.busy": "2021-05-17T10:26:17.221262Z",
     "iopub.status.idle": "2021-05-17T10:26:17.224215Z",
     "shell.execute_reply": "2021-05-17T10:26:17.223482Z"
    }
   },
   "outputs": [],
   "source": [
    "p = { x.id: x for x in parse_primers(\"\"\">577\n",
    "                                         gttctgatcctcgagcatcttaagaattc\n",
    "                                         >578\n",
    "                                         gttcttgtctcattgccacattcataagt\n",
    "                                         >468\n",
    "                                         gtcgaggaacgccaggttgcccact\n",
    "                                         >467\n",
    "                                         ATTTAAatcctgatgcgtttgtctgcacaga\n",
    "                                         >567\n",
    "                                         GTcggctgcaggtcactagtgag\n",
    "                                         >568\n",
    "                                         GTGCcatctgtgcagacaaacg\n",
    "                                         >775\n",
    "                                         gcggccgctgacTTAAAT\n",
    "                                         >778\n",
    "                                         ggtaaatccggatTAATTAA\n",
    "                                         >342\n",
    "                                         CCTTTTTACGGTTCCTGGCCT\"\"\") }"
   ]
  },
  {
   "cell_type": "markdown",
   "metadata": {},
   "source": [
    "## Diagnostic PCR confirmation\n",
    "\n",
    "The correct structure of pYPKa_Z_RPL12A is confirmed by PCR using standard primers\n",
    "577 and 342 that are vector specific together with the RPL12Afw primer specific for the insert\n",
    "in a multiplex PCR reaction with\n",
    "all three primers present.\n",
    "\n",
    "Two PCR products are expected if the insert was cloned, the sizes depend\n",
    "on the orientation. If the vector is empty or contains another insert, only one\n",
    "product is formed.\n",
    "\n",
    "#### Expected PCR products sizes from pYPKa_Z_RPL12A:\n",
    "\n",
    "pYPKa_Z_RPL12A with insert in correct orientation."
   ]
  },
  {
   "cell_type": "code",
   "execution_count": 18,
   "metadata": {
    "execution": {
     "iopub.execute_input": "2021-05-17T10:26:17.238045Z",
     "iopub.status.busy": "2021-05-17T10:26:17.237398Z",
     "iopub.status.idle": "2021-05-17T10:26:17.240250Z",
     "shell.execute_reply": "2021-05-17T10:26:17.240764Z"
    }
   },
   "outputs": [
    {
     "data": {
      "text/plain": [
       "[Amplicon(1629), Amplicon(1461)]"
      ]
     },
     "execution_count": 1,
     "metadata": {},
     "output_type": "execute_result"
    }
   ],
   "source": [
    "Anneal( (p['577'], p['342'], fp), pYPKa_Z_RPL12A).products"
   ]
  },
  {
   "cell_type": "markdown",
   "metadata": {},
   "source": [
    "pYPKa_Z_RPL12A with insert in reverse orientation."
   ]
  },
  {
   "cell_type": "code",
   "execution_count": 19,
   "metadata": {
    "execution": {
     "iopub.execute_input": "2021-05-17T10:26:17.250638Z",
     "iopub.status.busy": "2021-05-17T10:26:17.248366Z",
     "iopub.status.idle": "2021-05-17T10:26:17.253365Z",
     "shell.execute_reply": "2021-05-17T10:26:17.253824Z"
    }
   },
   "outputs": [
    {
     "data": {
      "text/plain": [
       "[Amplicon(1629), Amplicon(863)]"
      ]
     },
     "execution_count": 1,
     "metadata": {},
     "output_type": "execute_result"
    }
   ],
   "source": [
    "Anneal( (p['577'], p['342'], fp), pYPKa_Z_RPL12Ab).products"
   ]
  },
  {
   "cell_type": "markdown",
   "metadata": {},
   "source": [
    "Empty pYPKa clone."
   ]
  },
  {
   "cell_type": "code",
   "execution_count": 20,
   "metadata": {
    "execution": {
     "iopub.execute_input": "2021-05-17T10:26:17.263022Z",
     "iopub.status.busy": "2021-05-17T10:26:17.262475Z",
     "iopub.status.idle": "2021-05-17T10:26:17.265876Z",
     "shell.execute_reply": "2021-05-17T10:26:17.265323Z"
    }
   },
   "outputs": [
    {
     "data": {
      "text/plain": [
       "[Amplicon(934)]"
      ]
     },
     "execution_count": 1,
     "metadata": {},
     "output_type": "execute_result"
    }
   ],
   "source": [
    "Anneal( (p['577'], p['342'], fp), pYPKa).products"
   ]
  },
  {
   "cell_type": "markdown",
   "metadata": {},
   "source": [
    "#### Expected PCR products sizes pYPKa_E_RPL12A:\n",
    "\n",
    "pYPKa_E_RPL12A with insert in correct orientation."
   ]
  },
  {
   "cell_type": "code",
   "execution_count": 21,
   "metadata": {
    "execution": {
     "iopub.execute_input": "2021-05-17T10:26:17.279218Z",
     "iopub.status.busy": "2021-05-17T10:26:17.278452Z",
     "iopub.status.idle": "2021-05-17T10:26:17.281897Z",
     "shell.execute_reply": "2021-05-17T10:26:17.282399Z"
    }
   },
   "outputs": [
    {
     "data": {
      "text/plain": [
       "[Amplicon(1629), Amplicon(1380)]"
      ]
     },
     "execution_count": 1,
     "metadata": {},
     "output_type": "execute_result"
    }
   ],
   "source": [
    "Anneal( (p['577'], p['342'], fp), pYPKa_E_RPL12A).products"
   ]
  },
  {
   "cell_type": "markdown",
   "metadata": {},
   "source": [
    "pYPKa_E_RPL12A with insert in reverse orientation."
   ]
  },
  {
   "cell_type": "code",
   "execution_count": 22,
   "metadata": {
    "execution": {
     "iopub.execute_input": "2021-05-17T10:26:17.293217Z",
     "iopub.status.busy": "2021-05-17T10:26:17.292415Z",
     "iopub.status.idle": "2021-05-17T10:26:17.295970Z",
     "shell.execute_reply": "2021-05-17T10:26:17.295434Z"
    }
   },
   "outputs": [
    {
     "data": {
      "text/plain": [
       "[Amplicon(1629), Amplicon(944)]"
      ]
     },
     "execution_count": 1,
     "metadata": {},
     "output_type": "execute_result"
    }
   ],
   "source": [
    "Anneal( (p['577'], p['342'], fp), pYPKa_E_RPL12Ab).products\n"
   ]
  },
  {
   "cell_type": "markdown",
   "metadata": {},
   "source": [
    "Calculate cseguid checksums for the resulting plasmids for future reference.\n",
    "This checksum that uniquely describes a circular double stranded\n",
    "sequence. See this [blog post](https://ochsavidare.blogspot.com/2016/02/checksum-for-circular-biological.html) for more info.\n",
    "\n",
    "pYPKa_Z_RPL12A.cseguid() should be 5V7tFXwcW0MoRk9uKZfrIxaDNsk"
   ]
  },
  {
   "cell_type": "code",
   "execution_count": 23,
   "metadata": {
    "execution": {
     "iopub.execute_input": "2021-05-17T10:26:17.308802Z",
     "iopub.status.busy": "2021-05-17T10:26:17.308084Z",
     "iopub.status.idle": "2021-05-17T10:26:17.311634Z",
     "shell.execute_reply": "2021-05-17T10:26:17.311116Z"
    }
   },
   "outputs": [
    {
     "name": "stdout",
     "output_type": "stream",
     "text": [
      "5V7tFXwcW0MoRk9uKZfrIxaDNsk\n"
     ]
    }
   ],
   "source": [
    "print(pYPKa_Z_RPL12A.cseguid())\n",
    "assert pYPKa_Z_RPL12A.cseguid() == \"5V7tFXwcW0MoRk9uKZfrIxaDNsk\""
   ]
  },
  {
   "cell_type": "markdown",
   "metadata": {},
   "source": [
    "pYPKa_E_RPL12A.cseguid() should be gwiaBn3DcsP_k2VHcfsjrZMkyro"
   ]
  },
  {
   "cell_type": "code",
   "execution_count": 24,
   "metadata": {
    "execution": {
     "iopub.execute_input": "2021-05-17T10:26:17.321000Z",
     "iopub.status.busy": "2021-05-17T10:26:17.320390Z",
     "iopub.status.idle": "2021-05-17T10:26:17.323223Z",
     "shell.execute_reply": "2021-05-17T10:26:17.322790Z"
    }
   },
   "outputs": [
    {
     "name": "stdout",
     "output_type": "stream",
     "text": [
      "gwiaBn3DcsP_k2VHcfsjrZMkyro\n"
     ]
    }
   ],
   "source": [
    "print(pYPKa_E_RPL12A.cseguid())\n",
    "assert pYPKa_E_RPL12A.cseguid() == \"gwiaBn3DcsP_k2VHcfsjrZMkyro\""
   ]
  },
  {
   "cell_type": "markdown",
   "metadata": {},
   "source": [
    "The sequences are named based on the name of the cloned insert."
   ]
  },
  {
   "cell_type": "code",
   "execution_count": 25,
   "metadata": {
    "execution": {
     "iopub.execute_input": "2021-05-17T10:26:17.326527Z",
     "iopub.status.busy": "2021-05-17T10:26:17.326031Z",
     "iopub.status.idle": "2021-05-17T10:26:17.328862Z",
     "shell.execute_reply": "2021-05-17T10:26:17.328092Z"
    }
   },
   "outputs": [],
   "source": [
    "pYPKa_Z_RPL12A.locus = \"pYPKa_Z_RPL12A\"[:16]\n",
    "pYPKa_E_RPL12A.locus = \"pYPKa_Z_RPL12A\"[:16]"
   ]
  },
  {
   "cell_type": "markdown",
   "metadata": {},
   "source": [
    "Stamp sequence with cseguid checksum. This can be used to verify the\n",
    "integrity of the sequence file."
   ]
  },
  {
   "cell_type": "code",
   "execution_count": 26,
   "metadata": {
    "execution": {
     "iopub.execute_input": "2021-05-17T10:26:17.343834Z",
     "iopub.status.busy": "2021-05-17T10:26:17.339998Z",
     "iopub.status.idle": "2021-05-17T10:26:17.347977Z",
     "shell.execute_reply": "2021-05-17T10:26:17.347454Z"
    }
   },
   "outputs": [
    {
     "data": {
      "text/plain": [
       "cSEGUID_gwiaBn3DcsP_k2VHcfsjrZMkyro"
      ]
     },
     "execution_count": 1,
     "metadata": {},
     "output_type": "execute_result"
    }
   ],
   "source": [
    "pYPKa_Z_RPL12A.stamp()\n",
    "pYPKa_E_RPL12A.stamp()"
   ]
  },
  {
   "cell_type": "markdown",
   "metadata": {},
   "source": [
    "pYPKa_Z_RPL12A is written to a local file:"
   ]
  },
  {
   "cell_type": "code",
   "execution_count": 27,
   "metadata": {
    "execution": {
     "iopub.execute_input": "2021-05-17T10:26:17.356002Z",
     "iopub.status.busy": "2021-05-17T10:26:17.354787Z",
     "iopub.status.idle": "2021-05-17T10:26:17.359840Z",
     "shell.execute_reply": "2021-05-17T10:26:17.360365Z"
    }
   },
   "outputs": [
    {
     "data": {
      "text/html": [
       "<font face=monospace><a href='pYPKa_Z_RPL12A.gb' target='_blank'>pYPKa_Z_RPL12A.gb</a></font><br>"
      ]
     },
     "metadata": {},
     "output_type": "display_data"
    }
   ],
   "source": [
    "pYPKa_Z_RPL12A.write(\"pYPKa_Z_RPL12A.gb\")"
   ]
  },
  {
   "cell_type": "markdown",
   "metadata": {},
   "source": [
    "pYPKa_E_RPL12A is written to a local file:"
   ]
  },
  {
   "cell_type": "code",
   "execution_count": 28,
   "metadata": {
    "execution": {
     "iopub.execute_input": "2021-05-17T10:26:17.363705Z",
     "iopub.status.busy": "2021-05-17T10:26:17.363124Z",
     "iopub.status.idle": "2021-05-17T10:26:17.376596Z",
     "shell.execute_reply": "2021-05-17T10:26:17.378875Z"
    }
   },
   "outputs": [
    {
     "data": {
      "text/html": [
       "<font face=monospace><a href='pYPKa_E_RPL12A.gb' target='_blank'>pYPKa_E_RPL12A.gb</a></font><br>"
      ]
     },
     "metadata": {},
     "output_type": "display_data"
    }
   ],
   "source": [
    "pYPKa_E_RPL12A.write(\"pYPKa_E_RPL12A.gb\")"
   ]
  }
 ],
 "metadata": {
  "language_info": {
   "codemirror_mode": {
    "name": "ipython",
    "version": 3
   },
   "file_extension": ".py",
   "mimetype": "text/x-python",
   "name": "python",
   "nbconvert_exporter": "python",
   "pygments_lexer": "ipython3",
   "version": "3.9.0"
  }
 },
 "nbformat": 4,
 "nbformat_minor": 2
}
