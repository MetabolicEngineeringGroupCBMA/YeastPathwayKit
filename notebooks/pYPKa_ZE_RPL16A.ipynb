{
 "cells": [
  {
   "cell_type": "markdown",
   "metadata": {},
   "source": [
    "# pYPKa_Z_RPL16A and pYPKa_E_RPL16A\n",
    "\n",
    "This Jupyter notebook describe the construction of E. coli vectors [pYPKa_Z_RPL16A](pYPKa_Z_RPL16A.gb) and [pYPKa_E_RPL16A](pYPKa_E_RPL16A.gb). \n",
    "These two vectors share backbone and insert, but in the former, the insert is cloned using the restriction\n",
    "enzyme [ZraI](http://rebase.neb.com/rebase/enz/ZraI.html) while in the latter [EcoRV](http://rebase.neb.com/rebase/enz/EcoRV.html) is used.\n",
    "\n",
    "The insert cloned in ZraI is meant to function as a promoter, while in the EcoRV site it is meant to be  used as a terminator.\n",
    "\n",
    "Links to the sequence of each vector in Genbank format can be found at the bottom of this document.\n",
    "\n",
    "![pYPKa_Z and pYPKa_E](figure_pYPKa_ZE.png \"pYPKa_Z or pYPKa_E plasmid\")\n",
    "\n",
    "The Python package [pydna](https://pypi.python.org/pypi/pydna/) package is imported in the code cell below to provide \n",
    "the cloning functionality. There is a [publication](http://www.biomedcentral.com/1471-2105/16/142) describing pydna as well as\n",
    "[documentation](http://pydna.readthedocs.io/) available online. Pydna is developed on [Github](https://github.com/BjornFJohansson/pydna)."
   ]
  },
  {
   "cell_type": "code",
   "execution_count": 1,
   "metadata": {},
   "outputs": [],
   "source": [
    "from pydna.readers import read\n",
    "from pydna.parsers import parse_primers\n",
    "from pydna.genbank import Genbank\n",
    "from pydna.amplify import pcr\n",
    "from pydna.amplify import Anneal"
   ]
  },
  {
   "cell_type": "markdown",
   "metadata": {},
   "source": [
    "The vector backbone pYPKa is read from a local [file](pYPKa.gb)."
   ]
  },
  {
   "cell_type": "code",
   "execution_count": 2,
   "metadata": {},
   "outputs": [],
   "source": [
    "pYPKa = read(\"pYPKa.gb\")"
   ]
  },
  {
   "cell_type": "markdown",
   "metadata": {},
   "source": [
    "Both restriction enzymes are imported from [Biopython](http://biopython.org/wiki/Main_Page)"
   ]
  },
  {
   "cell_type": "code",
   "execution_count": 3,
   "metadata": {},
   "outputs": [],
   "source": [
    "from Bio.Restriction import ZraI, EcoRV"
   ]
  },
  {
   "cell_type": "markdown",
   "metadata": {},
   "source": [
    "The vector is cut with both enzymes."
   ]
  },
  {
   "cell_type": "code",
   "execution_count": 4,
   "metadata": {},
   "outputs": [],
   "source": [
    "pYPKa_ZraI  = pYPKa.linearize(ZraI)\n",
    "pYPKa_EcoRV = pYPKa.linearize(EcoRV)"
   ]
  },
  {
   "cell_type": "markdown",
   "metadata": {},
   "source": [
    "The template below comes from a Genbank [record](http://www.ncbi.nlm.nih.gov/nuccore/BK006942.2).\n",
    "Access to Genbank is needed in order to download the template.\n",
    "If you execute this script, change the email address below to your own.\n",
    "Always tell Genbank who you are, when using their web service."
   ]
  },
  {
   "cell_type": "code",
   "execution_count": 5,
   "metadata": {},
   "outputs": [],
   "source": [
    "gb = Genbank(\"bjornjobb@gmail.com\")"
   ]
  },
  {
   "cell_type": "markdown",
   "metadata": {},
   "source": [
    "The template is downloaded from Genbank below."
   ]
  },
  {
   "cell_type": "code",
   "execution_count": 6,
   "metadata": {},
   "outputs": [],
   "source": [
    "template = gb.nucleotide(\"BK006942.2 REGION: complement(99417..99859)\")"
   ]
  },
  {
   "cell_type": "markdown",
   "metadata": {},
   "source": [
    "The template is a 443 bp linear DNA fragment."
   ]
  },
  {
   "cell_type": "code",
   "execution_count": 7,
   "metadata": {},
   "outputs": [
    {
     "data": {
      "text/html": [
       "<a href='https://www.ncbi.nlm.nih.gov/nuccore/BK006942.2 ?from=99417&to=99859&strand=2' target='_blank'>BK006942.2  99417-99859</a>"
      ],
      "text/plain": [
       "Gbank(BK006942.2  99417-99859)(-443)"
      ]
     },
     "execution_count": 7,
     "metadata": {},
     "output_type": "execute_result"
    }
   ],
   "source": [
    "template"
   ]
  },
  {
   "cell_type": "markdown",
   "metadata": {},
   "source": [
    "The insert has the sequence shown below."
   ]
  },
  {
   "cell_type": "code",
   "execution_count": 8,
   "metadata": {},
   "outputs": [
    {
     "name": "stdout",
     "output_type": "stream",
     "text": [
      "CTACATAAGTGCAATTAAAGCATCGGTACACCATGTAACACCAGTACATTTATTCATGAAACATTAAATTTTTCTGCGTCGGGCCGAGAGATTATTTTCATGATACTTCGGCCTAGCTATGCTCCTACGCCCGCCAATGCAGAACAAATCCTGCCCGGGAAAACTACCCCGATGCTAGACTTCTCCCTCTGTATCCATGCCCGGCAACAGAGACCCTTGGCTAAGCCCGATGCGCAATAGTACCTGTAGTGCACTCCCCGAGCTTATGCCTGAGAATATGCTATTGCAATGGGTCAATGTAGGTACTGCAGGGAAATTCAATCTTGGGCTGCTGTGTAATAATAATTAAATTAGCAATTTAGTAATCACACTGTATAATTGCACGCTATCGTTATACATATTATTTCTCTTTGAAAACGGAAGGTGAAGAACAAATCGAGAAA\n"
     ]
    }
   ],
   "source": [
    "print(str(template.seq))"
   ]
  },
  {
   "cell_type": "markdown",
   "metadata": {},
   "source": [
    "The seguid checksum of the template should be\n",
    "\n",
    "```1fiwwWqpeyo5NXf1op3aToOKIYQ```"
   ]
  },
  {
   "cell_type": "code",
   "execution_count": 9,
   "metadata": {},
   "outputs": [
    {
     "data": {
      "text/plain": [
       "1fiwwWqpeyo5NXf1op3aToOKIYQ"
      ]
     },
     "execution_count": 9,
     "metadata": {},
     "output_type": "execute_result"
    }
   ],
   "source": [
    "template.seguid()"
   ]
  },
  {
   "cell_type": "markdown",
   "metadata": {},
   "source": [
    "Two primers are used to amplify the insert:"
   ]
  },
  {
   "cell_type": "code",
   "execution_count": 10,
   "metadata": {},
   "outputs": [],
   "source": [
    "fp,rp = parse_primers(\"\"\">763_RPL16A_fw\n",
    "                         ttaaatCTACATAAGTGCAATTAAAGCAT\n",
    "                         >764_RPL16A_rv\n",
    "                         taattaaTTTCTCGATTTGTTCTTCAC\"\"\")"
   ]
  },
  {
   "cell_type": "markdown",
   "metadata": {},
   "source": [
    "PCR to create the insert using the primers above."
   ]
  },
  {
   "cell_type": "code",
   "execution_count": 11,
   "metadata": {},
   "outputs": [],
   "source": [
    "prd = pcr(fp, rp, template)\n",
    "assert str(fp.seq) in prd"
   ]
  },
  {
   "cell_type": "markdown",
   "metadata": {},
   "source": [
    "The PCR product has this length in bp."
   ]
  },
  {
   "cell_type": "code",
   "execution_count": 12,
   "metadata": {},
   "outputs": [
    {
     "data": {
      "text/plain": [
       "456"
      ]
     },
     "execution_count": 12,
     "metadata": {},
     "output_type": "execute_result"
    }
   ],
   "source": [
    "len(prd)"
   ]
  },
  {
   "cell_type": "markdown",
   "metadata": {},
   "source": [
    "A figure of the primers annealing on template."
   ]
  },
  {
   "cell_type": "code",
   "execution_count": 13,
   "metadata": {},
   "outputs": [
    {
     "data": {
      "text/plain": [
       "      5CTACATAAGTGCAATTAAAGCAT...GTGAAGAACAAATCGAGAAA3\n",
       "                                 ||||||||||||||||||||\n",
       "                                3CACTTCTTGTTTAGCTCTTTaattaat5\n",
       "5ttaaatCTACATAAGTGCAATTAAAGCAT3\n",
       "       |||||||||||||||||||||||\n",
       "      3GATGTATTCACGTTAATTTCGTA...CACTTCTTGTTTAGCTCTTT5"
      ]
     },
     "execution_count": 13,
     "metadata": {},
     "output_type": "execute_result"
    }
   ],
   "source": [
    "prd.figure()"
   ]
  },
  {
   "cell_type": "markdown",
   "metadata": {},
   "source": [
    "A suggested PCR program."
   ]
  },
  {
   "cell_type": "code",
   "execution_count": 14,
   "metadata": {},
   "outputs": [
    {
     "data": {
      "text/plain": [
       "|95°C|95°C               |    |tmf:56.7\n",
       "|____|_____          72°C|72°C|tmr:53.7\n",
       "|5min|30s  \\ 53.9°C _____|____|30s/kb\n",
       "|    |      \\______/ 0:13|5min|GC 41%\n",
       "|    |       30s         |    |456bp\n"
      ]
     },
     "execution_count": 14,
     "metadata": {},
     "output_type": "execute_result"
    }
   ],
   "source": [
    "prd.program()"
   ]
  },
  {
   "cell_type": "markdown",
   "metadata": {},
   "source": [
    "The final vectors are:"
   ]
  },
  {
   "cell_type": "code",
   "execution_count": 15,
   "metadata": {},
   "outputs": [],
   "source": [
    "pYPKa_Z_RPL16A = (pYPKa_ZraI  + prd).looped().synced(pYPKa)\n",
    "pYPKa_E_RPL16A = (pYPKa_EcoRV + prd).looped().synced(pYPKa)"
   ]
  },
  {
   "cell_type": "markdown",
   "metadata": {},
   "source": [
    "The final vectors with reverse inserts are created below. These vectors theoretically make up\n",
    "fifty percent of the clones. The PCR strategy outlined below can be used to identify clones with the insert\n",
    "in the correct orientation."
   ]
  },
  {
   "cell_type": "code",
   "execution_count": 16,
   "metadata": {},
   "outputs": [],
   "source": [
    "pYPKa_Z_RPL16Ab = (pYPKa_ZraI  + prd.rc()).looped().synced(pYPKa)\n",
    "pYPKa_E_RPL16Ab = (pYPKa_EcoRV + prd.rc()).looped().synced(pYPKa)"
   ]
  },
  {
   "cell_type": "markdown",
   "metadata": {},
   "source": [
    "A combination of yeast pathway kit standard primers and the primers above are\n",
    "used for the strategy to identify correct clones.\n",
    "Standard primers used in the yeast are listed [here](standard_primers.txt)."
   ]
  },
  {
   "cell_type": "code",
   "execution_count": 17,
   "metadata": {},
   "outputs": [],
   "source": [
    "p = { x.id: x for x in parse_primers(\"\"\">577\n",
    "                                         gttctgatcctcgagcatcttaagaattc\n",
    "                                         >578\n",
    "                                         gttcttgtctcattgccacattcataagt\n",
    "                                         >468\n",
    "                                         gtcgaggaacgccaggttgcccact\n",
    "                                         >467\n",
    "                                         ATTTAAatcctgatgcgtttgtctgcacaga\n",
    "                                         >567\n",
    "                                         GTcggctgcaggtcactagtgag\n",
    "                                         >568\n",
    "                                         GTGCcatctgtgcagacaaacg\n",
    "                                         >775\n",
    "                                         gcggccgctgacTTAAAT\n",
    "                                         >778\n",
    "                                         ggtaaatccggatTAATTAA\n",
    "                                         >342\n",
    "                                         CCTTTTTACGGTTCCTGGCCT\"\"\") }"
   ]
  },
  {
   "cell_type": "markdown",
   "metadata": {},
   "source": [
    "## Diagnostic PCR confirmation\n",
    "\n",
    "The correct structure of pYPKa_Z_RPL16A is confirmed by PCR using standard primers\n",
    "577 and 342 that are vector specific together with the RPL16Afw primer specific for the insert\n",
    "in a multiplex PCR reaction with\n",
    "all three primers present.\n",
    "\n",
    "Two PCR products are expected if the insert was cloned, the sizes depend\n",
    "on the orientation. If the vector is empty or contains another insert, only one\n",
    "product is formed.\n",
    "\n",
    "#### Expected PCR products sizes from pYPKa_Z_RPL16A:\n",
    "\n",
    "pYPKa_Z_RPL16A with insert in correct orientation."
   ]
  },
  {
   "cell_type": "code",
   "execution_count": 18,
   "metadata": {},
   "outputs": [
    {
     "data": {
      "text/plain": [
       "[Amplicon(1390), Amplicon(1222)]"
      ]
     },
     "execution_count": 18,
     "metadata": {},
     "output_type": "execute_result"
    }
   ],
   "source": [
    "Anneal( (p['577'], p['342'], fp), pYPKa_Z_RPL16A).products"
   ]
  },
  {
   "cell_type": "markdown",
   "metadata": {},
   "source": [
    "pYPKa_Z_RPL16A with insert in reverse orientation."
   ]
  },
  {
   "cell_type": "code",
   "execution_count": 19,
   "metadata": {},
   "outputs": [
    {
     "data": {
      "text/plain": [
       "[Amplicon(1390), Amplicon(624)]"
      ]
     },
     "execution_count": 19,
     "metadata": {},
     "output_type": "execute_result"
    }
   ],
   "source": [
    "Anneal( (p['577'], p['342'], fp), pYPKa_Z_RPL16Ab).products"
   ]
  },
  {
   "cell_type": "markdown",
   "metadata": {},
   "source": [
    "Empty pYPKa clone."
   ]
  },
  {
   "cell_type": "code",
   "execution_count": 20,
   "metadata": {},
   "outputs": [
    {
     "data": {
      "text/plain": [
       "[Amplicon(934)]"
      ]
     },
     "execution_count": 20,
     "metadata": {},
     "output_type": "execute_result"
    }
   ],
   "source": [
    "Anneal( (p['577'], p['342'], fp), pYPKa).products"
   ]
  },
  {
   "cell_type": "markdown",
   "metadata": {},
   "source": [
    "#### Expected PCR products sizes pYPKa_E_RPL16A:\n",
    "\n",
    "pYPKa_E_RPL16A with insert in correct orientation."
   ]
  },
  {
   "cell_type": "code",
   "execution_count": 21,
   "metadata": {},
   "outputs": [
    {
     "data": {
      "text/plain": [
       "[Amplicon(1390), Amplicon(1141)]"
      ]
     },
     "execution_count": 21,
     "metadata": {},
     "output_type": "execute_result"
    }
   ],
   "source": [
    "Anneal( (p['577'], p['342'], fp), pYPKa_E_RPL16A).products"
   ]
  },
  {
   "cell_type": "markdown",
   "metadata": {},
   "source": [
    "pYPKa_E_RPL16A with insert in reverse orientation."
   ]
  },
  {
   "cell_type": "code",
   "execution_count": 22,
   "metadata": {},
   "outputs": [
    {
     "data": {
      "text/plain": [
       "[Amplicon(1390), Amplicon(705)]"
      ]
     },
     "execution_count": 22,
     "metadata": {},
     "output_type": "execute_result"
    }
   ],
   "source": [
    "Anneal( (p['577'], p['342'], fp), pYPKa_E_RPL16Ab).products\n"
   ]
  },
  {
   "cell_type": "markdown",
   "metadata": {},
   "source": [
    "Calculate cseguid checksums for the resulting plasmids for future reference.\n",
    "This checksum that uniquely describes a circular double stranded\n",
    "sequence. See this [blog post](https://ochsavidare.blogspot.com/2016/02/checksum-for-circular-biological.html) for more info.\n",
    "\n",
    "pYPKa_Z_RPL16A.cseguid() should be E_Euqy_ERagJE_hFmClacK-qc3M"
   ]
  },
  {
   "cell_type": "code",
   "execution_count": 23,
   "metadata": {},
   "outputs": [
    {
     "name": "stdout",
     "output_type": "stream",
     "text": [
      "E_Euqy_ERagJE_hFmClacK-qc3M\n"
     ]
    }
   ],
   "source": [
    "print(pYPKa_Z_RPL16A.cseguid())\n",
    "assert pYPKa_Z_RPL16A.cseguid() == \"E_Euqy_ERagJE_hFmClacK-qc3M\""
   ]
  },
  {
   "cell_type": "markdown",
   "metadata": {},
   "source": [
    "pYPKa_E_RPL16A.cseguid() should be 2D-G7GCrVjHisDDtuUbjfqa-xSY"
   ]
  },
  {
   "cell_type": "code",
   "execution_count": 24,
   "metadata": {},
   "outputs": [
    {
     "name": "stdout",
     "output_type": "stream",
     "text": [
      "2D-G7GCrVjHisDDtuUbjfqa-xSY\n"
     ]
    }
   ],
   "source": [
    "print(pYPKa_E_RPL16A.cseguid())\n",
    "assert pYPKa_E_RPL16A.cseguid() == \"2D-G7GCrVjHisDDtuUbjfqa-xSY\""
   ]
  },
  {
   "cell_type": "markdown",
   "metadata": {},
   "source": [
    "The sequences are named based on the name of the cloned insert."
   ]
  },
  {
   "cell_type": "code",
   "execution_count": 25,
   "metadata": {},
   "outputs": [],
   "source": [
    "pYPKa_Z_RPL16A.locus = \"pYPKa_Z_RPL16A\"[:16]\n",
    "pYPKa_E_RPL16A.locus = \"pYPKa_Z_RPL16A\"[:16]"
   ]
  },
  {
   "cell_type": "markdown",
   "metadata": {},
   "source": [
    "Stamp sequence with cseguid checksum. This can be used to verify the\n",
    "integrity of the sequence file."
   ]
  },
  {
   "cell_type": "code",
   "execution_count": 26,
   "metadata": {},
   "outputs": [
    {
     "data": {
      "text/plain": [
       "cSEGUID_2D-G7GCrVjHisDDtuUbjfqa-xSY"
      ]
     },
     "execution_count": 26,
     "metadata": {},
     "output_type": "execute_result"
    }
   ],
   "source": [
    "pYPKa_Z_RPL16A.stamp()\n",
    "pYPKa_E_RPL16A.stamp()"
   ]
  },
  {
   "cell_type": "markdown",
   "metadata": {},
   "source": [
    "pYPKa_Z_RPL16A is written to a local file:"
   ]
  },
  {
   "cell_type": "code",
   "execution_count": 27,
   "metadata": {},
   "outputs": [
    {
     "data": {
      "text/html": [
       "<font face=monospace><a href='pYPKa_Z_RPL16A.gb' target='_blank'>pYPKa_Z_RPL16A.gb</a></font><br>"
      ]
     },
     "metadata": {},
     "output_type": "display_data"
    }
   ],
   "source": [
    "pYPKa_Z_RPL16A.write(\"pYPKa_Z_RPL16A.gb\")"
   ]
  },
  {
   "cell_type": "markdown",
   "metadata": {},
   "source": [
    "pYPKa_E_RPL16A is written to a local file:"
   ]
  },
  {
   "cell_type": "code",
   "execution_count": 28,
   "metadata": {},
   "outputs": [
    {
     "data": {
      "text/html": [
       "<font face=monospace><a href='pYPKa_E_RPL16A.gb' target='_blank'>pYPKa_E_RPL16A.gb</a></font><br>"
      ]
     },
     "metadata": {},
     "output_type": "display_data"
    }
   ],
   "source": [
    "pYPKa_E_RPL16A.write(\"pYPKa_E_RPL16A.gb\")"
   ]
  }
 ],
 "metadata": {
  "language_info": {
   "codemirror_mode": {
    "name": "ipython",
    "version": 3
   },
   "file_extension": ".py",
   "mimetype": "text/x-python",
   "name": "python",
   "nbconvert_exporter": "python",
   "pygments_lexer": "ipython3",
   "version": "3.8.5"
  }
 },
 "nbformat": 4,
 "nbformat_minor": 2
}
