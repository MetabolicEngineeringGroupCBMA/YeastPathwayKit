{
 "cells": [
  {
   "cell_type": "markdown",
   "metadata": {},
   "source": [
    "# pYPKa_Z_RPL16A and pYPKa_E_RPL16A\n",
    "\n",
    "This Jupyter notebook describe the construction of E. coli vectors [pYPKa_Z_RPL16A](pYPKa_Z_RPL16A.gb) and [pYPKa_E_RPL16A](pYPKa_E_RPL16A.gb). \n",
    "These two vectors share backbone and insert, but in the former, the insert is cloned using the restriction\n",
    "enzyme [ZraI](http://rebase.neb.com/rebase/enz/ZraI.html) while in the latter [EcoRV](http://rebase.neb.com/rebase/enz/EcoRV.html) is used.\n",
    "\n",
    "The insert cloned in ZraI is meant to function as a promoter, while in the EcoRV site it is meant to be  used as a terminator.\n",
    "\n",
    "Links to the sequence of each vector in Genbank format can be found at the bottom of this document.\n",
    "\n",
    "![pYPKa_Z and pYPKa_E](figure_pYPKa_ZE.png \"pYPKa_Z or pYPKa_E plasmid\")\n",
    "\n",
    "The Python package [pydna](https://pypi.python.org/pypi/pydna/) package is imported in the code cell below to provide \n",
    "the cloning functionality. There is a [publication](http://www.biomedcentral.com/1471-2105/16/142) describing pydna as well as\n",
    "[documentation](http://pydna.readthedocs.io/) available online. Pydna is developed on [Github](https://github.com/BjornFJohansson/pydna)."
   ]
  },
  {
   "cell_type": "code",
   "execution_count": 1,
   "metadata": {
    "execution": {
     "iopub.execute_input": "2021-05-17T10:26:26.904069Z",
     "iopub.status.busy": "2021-05-17T10:26:26.903565Z",
     "iopub.status.idle": "2021-05-17T10:26:27.417950Z",
     "shell.execute_reply": "2021-05-17T10:26:27.418399Z"
    }
   },
   "outputs": [],
   "source": [
    "from pydna.readers import read\n",
    "from pydna.parsers import parse_primers\n",
    "from pydna.genbank import Genbank\n",
    "from pydna.amplify import pcr\n",
    "from pydna.amplify import Anneal"
   ]
  },
  {
   "cell_type": "markdown",
   "metadata": {},
   "source": [
    "The vector backbone pYPKa is read from a local [file](pYPKa.gb)."
   ]
  },
  {
   "cell_type": "code",
   "execution_count": 2,
   "metadata": {
    "execution": {
     "iopub.execute_input": "2021-05-17T10:26:27.426515Z",
     "iopub.status.busy": "2021-05-17T10:26:27.425300Z",
     "iopub.status.idle": "2021-05-17T10:26:27.435022Z",
     "shell.execute_reply": "2021-05-17T10:26:27.435482Z"
    }
   },
   "outputs": [],
   "source": [
    "pYPKa = read(\"pYPKa.gb\")"
   ]
  },
  {
   "cell_type": "markdown",
   "metadata": {},
   "source": [
    "Both restriction enzymes are imported from [Biopython](http://biopython.org/wiki/Main_Page)"
   ]
  },
  {
   "cell_type": "code",
   "execution_count": 3,
   "metadata": {
    "execution": {
     "iopub.execute_input": "2021-05-17T10:26:27.438982Z",
     "iopub.status.busy": "2021-05-17T10:26:27.438535Z",
     "iopub.status.idle": "2021-05-17T10:26:27.440226Z",
     "shell.execute_reply": "2021-05-17T10:26:27.440678Z"
    }
   },
   "outputs": [],
   "source": [
    "from Bio.Restriction import ZraI, EcoRV"
   ]
  },
  {
   "cell_type": "markdown",
   "metadata": {},
   "source": [
    "The vector is cut with both enzymes."
   ]
  },
  {
   "cell_type": "code",
   "execution_count": 4,
   "metadata": {
    "execution": {
     "iopub.execute_input": "2021-05-17T10:26:27.448163Z",
     "iopub.status.busy": "2021-05-17T10:26:27.447554Z",
     "iopub.status.idle": "2021-05-17T10:26:27.450347Z",
     "shell.execute_reply": "2021-05-17T10:26:27.449745Z"
    }
   },
   "outputs": [],
   "source": [
    "pYPKa_ZraI  = pYPKa.linearize(ZraI)\n",
    "pYPKa_EcoRV = pYPKa.linearize(EcoRV)"
   ]
  },
  {
   "cell_type": "markdown",
   "metadata": {},
   "source": [
    "The template below comes from a Genbank [record](http://www.ncbi.nlm.nih.gov/nuccore/BK006942.2).\n",
    "Access to Genbank is needed in order to download the template.\n",
    "If you execute this script, change the email address below to your own.\n",
    "Always tell Genbank who you are, when using their web service."
   ]
  },
  {
   "cell_type": "code",
   "execution_count": 5,
   "metadata": {
    "execution": {
     "iopub.execute_input": "2021-05-17T10:26:27.455825Z",
     "iopub.status.busy": "2021-05-17T10:26:27.455123Z",
     "iopub.status.idle": "2021-05-17T10:26:27.457687Z",
     "shell.execute_reply": "2021-05-17T10:26:27.458451Z"
    }
   },
   "outputs": [],
   "source": [
    "gb = Genbank(\"bjornjobb@gmail.com\")"
   ]
  },
  {
   "cell_type": "markdown",
   "metadata": {},
   "source": [
    "The template is downloaded from Genbank below."
   ]
  },
  {
   "cell_type": "code",
   "execution_count": 6,
   "metadata": {
    "execution": {
     "iopub.execute_input": "2021-05-17T10:26:27.464344Z",
     "iopub.status.busy": "2021-05-17T10:26:27.463582Z",
     "iopub.status.idle": "2021-05-17T10:26:27.474311Z",
     "shell.execute_reply": "2021-05-17T10:26:27.474808Z"
    }
   },
   "outputs": [],
   "source": [
    "template = gb.nucleotide(\"BK006942.2 REGION: complement(99417..99859)\")"
   ]
  },
  {
   "cell_type": "markdown",
   "metadata": {},
   "source": [
    "The template is a 443 bp linear DNA fragment."
   ]
  },
  {
   "cell_type": "code",
   "execution_count": 7,
   "metadata": {
    "execution": {
     "iopub.execute_input": "2021-05-17T10:26:27.482676Z",
     "iopub.status.busy": "2021-05-17T10:26:27.482052Z",
     "iopub.status.idle": "2021-05-17T10:26:27.485553Z",
     "shell.execute_reply": "2021-05-17T10:26:27.484999Z"
    }
   },
   "outputs": [
    {
     "data": {
      "text/html": [
       "<a href='https://www.ncbi.nlm.nih.gov/nuccore/BK006942.2 ?from=99417&to=99859&strand=2' target='_blank'>BK006942.2  99417-99859</a>"
      ],
      "text/plain": [
       "Gbank(BK006942.2  99417-99859)(-443)"
      ]
     },
     "execution_count": 1,
     "metadata": {},
     "output_type": "execute_result"
    }
   ],
   "source": [
    "template"
   ]
  },
  {
   "cell_type": "markdown",
   "metadata": {},
   "source": [
    "The insert has the sequence shown below."
   ]
  },
  {
   "cell_type": "code",
   "execution_count": 8,
   "metadata": {
    "execution": {
     "iopub.execute_input": "2021-05-17T10:26:27.489449Z",
     "iopub.status.busy": "2021-05-17T10:26:27.488808Z",
     "iopub.status.idle": "2021-05-17T10:26:27.492047Z",
     "shell.execute_reply": "2021-05-17T10:26:27.492598Z"
    }
   },
   "outputs": [
    {
     "name": "stdout",
     "output_type": "stream",
     "text": [
      "CTACATAAGTGCAATTAAAGCATCGGTACACCATGTAACACCAGTACATTTATTCATGAAACATTAAATTTTTCTGCGTCGGGCCGAGAGATTATTTTCATGATACTTCGGCCTAGCTATGCTCCTACGCCCGCCAATGCAGAACAAATCCTGCCCGGGAAAACTACCCCGATGCTAGACTTCTCCCTCTGTATCCATGCCCGGCAACAGAGACCCTTGGCTAAGCCCGATGCGCAATAGTACCTGTAGTGCACTCCCCGAGCTTATGCCTGAGAATATGCTATTGCAATGGGTCAATGTAGGTACTGCAGGGAAATTCAATCTTGGGCTGCTGTGTAATAATAATTAAATTAGCAATTTAGTAATCACACTGTATAATTGCACGCTATCGTTATACATATTATTTCTCTTTGAAAACGGAAGGTGAAGAACAAATCGAGAAA\n"
     ]
    }
   ],
   "source": [
    "print(str(template.seq))"
   ]
  },
  {
   "cell_type": "markdown",
   "metadata": {},
   "source": [
    "The seguid checksum of the template should be\n",
    "\n",
    "```1fiwwWqpeyo5NXf1op3aToOKIYQ```"
   ]
  },
  {
   "cell_type": "code",
   "execution_count": 9,
   "metadata": {
    "execution": {
     "iopub.execute_input": "2021-05-17T10:26:27.497499Z",
     "iopub.status.busy": "2021-05-17T10:26:27.496609Z",
     "iopub.status.idle": "2021-05-17T10:26:27.500221Z",
     "shell.execute_reply": "2021-05-17T10:26:27.499630Z"
    }
   },
   "outputs": [
    {
     "data": {
      "text/plain": [
       "1fiwwWqpeyo5NXf1op3aToOKIYQ"
      ]
     },
     "execution_count": 1,
     "metadata": {},
     "output_type": "execute_result"
    }
   ],
   "source": [
    "template.seguid()"
   ]
  },
  {
   "cell_type": "markdown",
   "metadata": {},
   "source": [
    "Two primers are used to amplify the insert:"
   ]
  },
  {
   "cell_type": "code",
   "execution_count": 10,
   "metadata": {
    "execution": {
     "iopub.execute_input": "2021-05-17T10:26:27.504925Z",
     "iopub.status.busy": "2021-05-17T10:26:27.504324Z",
     "iopub.status.idle": "2021-05-17T10:26:27.506892Z",
     "shell.execute_reply": "2021-05-17T10:26:27.506303Z"
    }
   },
   "outputs": [],
   "source": [
    "fp,rp = parse_primers(\"\"\">763_RPL16A_fw\n",
    "                         ttaaatCTACATAAGTGCAATTAAAGCAT\n",
    "                         >764_RPL16A_rv\n",
    "                         taattaaTTTCTCGATTTGTTCTTCAC\"\"\")"
   ]
  },
  {
   "cell_type": "markdown",
   "metadata": {},
   "source": [
    "PCR to create the insert using the primers above."
   ]
  },
  {
   "cell_type": "code",
   "execution_count": 11,
   "metadata": {
    "execution": {
     "iopub.execute_input": "2021-05-17T10:26:27.513271Z",
     "iopub.status.busy": "2021-05-17T10:26:27.512347Z",
     "iopub.status.idle": "2021-05-17T10:26:27.517182Z",
     "shell.execute_reply": "2021-05-17T10:26:27.517794Z"
    }
   },
   "outputs": [],
   "source": [
    "prd = pcr(fp, rp, template)\n",
    "assert str(fp.seq) in prd"
   ]
  },
  {
   "cell_type": "markdown",
   "metadata": {},
   "source": [
    "The PCR product has this length in bp."
   ]
  },
  {
   "cell_type": "code",
   "execution_count": 12,
   "metadata": {
    "execution": {
     "iopub.execute_input": "2021-05-17T10:26:27.522192Z",
     "iopub.status.busy": "2021-05-17T10:26:27.521534Z",
     "iopub.status.idle": "2021-05-17T10:26:27.524408Z",
     "shell.execute_reply": "2021-05-17T10:26:27.524912Z"
    }
   },
   "outputs": [
    {
     "data": {
      "text/plain": [
       "456"
      ]
     },
     "execution_count": 1,
     "metadata": {},
     "output_type": "execute_result"
    }
   ],
   "source": [
    "len(prd)"
   ]
  },
  {
   "cell_type": "markdown",
   "metadata": {},
   "source": [
    "A figure of the primers annealing on template."
   ]
  },
  {
   "cell_type": "code",
   "execution_count": 13,
   "metadata": {
    "execution": {
     "iopub.execute_input": "2021-05-17T10:26:27.529496Z",
     "iopub.status.busy": "2021-05-17T10:26:27.528787Z",
     "iopub.status.idle": "2021-05-17T10:26:27.531889Z",
     "shell.execute_reply": "2021-05-17T10:26:27.532439Z"
    }
   },
   "outputs": [
    {
     "data": {
      "text/plain": [
       "      5CTACATAAGTGCAATTAAAGCAT...GTGAAGAACAAATCGAGAAA3\n",
       "                                 ||||||||||||||||||||\n",
       "                                3CACTTCTTGTTTAGCTCTTTaattaat5\n",
       "5ttaaatCTACATAAGTGCAATTAAAGCAT3\n",
       "       |||||||||||||||||||||||\n",
       "      3GATGTATTCACGTTAATTTCGTA...CACTTCTTGTTTAGCTCTTT5"
      ]
     },
     "execution_count": 1,
     "metadata": {},
     "output_type": "execute_result"
    }
   ],
   "source": [
    "prd.figure()"
   ]
  },
  {
   "cell_type": "markdown",
   "metadata": {},
   "source": [
    "A suggested PCR program."
   ]
  },
  {
   "cell_type": "code",
   "execution_count": 14,
   "metadata": {
    "execution": {
     "iopub.execute_input": "2021-05-17T10:26:27.537727Z",
     "iopub.status.busy": "2021-05-17T10:26:27.536846Z",
     "iopub.status.idle": "2021-05-17T10:26:27.540742Z",
     "shell.execute_reply": "2021-05-17T10:26:27.540046Z"
    }
   },
   "outputs": [
    {
     "data": {
      "text/plain": [
       "|95°C|95°C               |    |tmf:56.7\n",
       "|____|_____          72°C|72°C|tmr:53.7\n",
       "|5min|30s  \\ 53.9°C _____|____|60s/kb\n",
       "|    |      \\______/ 0:27|5min|GC 41%\n",
       "|    |       30s         |    |456bp"
      ]
     },
     "execution_count": 1,
     "metadata": {},
     "output_type": "execute_result"
    }
   ],
   "source": [
    "prd.program()"
   ]
  },
  {
   "cell_type": "markdown",
   "metadata": {},
   "source": [
    "The final vectors are:"
   ]
  },
  {
   "cell_type": "code",
   "execution_count": 15,
   "metadata": {
    "execution": {
     "iopub.execute_input": "2021-05-17T10:26:27.553704Z",
     "iopub.status.busy": "2021-05-17T10:26:27.548662Z",
     "iopub.status.idle": "2021-05-17T10:26:28.009945Z",
     "shell.execute_reply": "2021-05-17T10:26:28.010405Z"
    }
   },
   "outputs": [],
   "source": [
    "pYPKa_Z_RPL16A = (pYPKa_ZraI  + prd).looped().synced(pYPKa)\n",
    "pYPKa_E_RPL16A = (pYPKa_EcoRV + prd).looped().synced(pYPKa)"
   ]
  },
  {
   "cell_type": "markdown",
   "metadata": {},
   "source": [
    "The final vectors with reverse inserts are created below. These vectors theoretically make up\n",
    "fifty percent of the clones. The PCR strategy outlined below can be used to identify clones with the insert\n",
    "in the correct orientation."
   ]
  },
  {
   "cell_type": "code",
   "execution_count": 16,
   "metadata": {
    "execution": {
     "iopub.execute_input": "2021-05-17T10:26:28.084563Z",
     "iopub.status.busy": "2021-05-17T10:26:28.048481Z",
     "iopub.status.idle": "2021-05-17T10:26:28.508949Z",
     "shell.execute_reply": "2021-05-17T10:26:28.506750Z"
    }
   },
   "outputs": [],
   "source": [
    "pYPKa_Z_RPL16Ab = (pYPKa_ZraI  + prd.rc()).looped().synced(pYPKa)\n",
    "pYPKa_E_RPL16Ab = (pYPKa_EcoRV + prd.rc()).looped().synced(pYPKa)"
   ]
  },
  {
   "cell_type": "markdown",
   "metadata": {},
   "source": [
    "A combination of yeast pathway kit standard primers and the primers above are\n",
    "used for the strategy to identify correct clones.\n",
    "Standard primers used in the yeast are listed [here](standard_primers.txt)."
   ]
  },
  {
   "cell_type": "code",
   "execution_count": 17,
   "metadata": {
    "execution": {
     "iopub.execute_input": "2021-05-17T10:26:28.516848Z",
     "iopub.status.busy": "2021-05-17T10:26:28.516292Z",
     "iopub.status.idle": "2021-05-17T10:26:28.518214Z",
     "shell.execute_reply": "2021-05-17T10:26:28.518725Z"
    }
   },
   "outputs": [],
   "source": [
    "p = { x.id: x for x in parse_primers(\"\"\">577\n",
    "                                         gttctgatcctcgagcatcttaagaattc\n",
    "                                         >578\n",
    "                                         gttcttgtctcattgccacattcataagt\n",
    "                                         >468\n",
    "                                         gtcgaggaacgccaggttgcccact\n",
    "                                         >467\n",
    "                                         ATTTAAatcctgatgcgtttgtctgcacaga\n",
    "                                         >567\n",
    "                                         GTcggctgcaggtcactagtgag\n",
    "                                         >568\n",
    "                                         GTGCcatctgtgcagacaaacg\n",
    "                                         >775\n",
    "                                         gcggccgctgacTTAAAT\n",
    "                                         >778\n",
    "                                         ggtaaatccggatTAATTAA\n",
    "                                         >342\n",
    "                                         CCTTTTTACGGTTCCTGGCCT\"\"\") }"
   ]
  },
  {
   "cell_type": "markdown",
   "metadata": {},
   "source": [
    "## Diagnostic PCR confirmation\n",
    "\n",
    "The correct structure of pYPKa_Z_RPL16A is confirmed by PCR using standard primers\n",
    "577 and 342 that are vector specific together with the RPL16Afw primer specific for the insert\n",
    "in a multiplex PCR reaction with\n",
    "all three primers present.\n",
    "\n",
    "Two PCR products are expected if the insert was cloned, the sizes depend\n",
    "on the orientation. If the vector is empty or contains another insert, only one\n",
    "product is formed.\n",
    "\n",
    "#### Expected PCR products sizes from pYPKa_Z_RPL16A:\n",
    "\n",
    "pYPKa_Z_RPL16A with insert in correct orientation."
   ]
  },
  {
   "cell_type": "code",
   "execution_count": 18,
   "metadata": {
    "execution": {
     "iopub.execute_input": "2021-05-17T10:26:28.534212Z",
     "iopub.status.busy": "2021-05-17T10:26:28.531653Z",
     "iopub.status.idle": "2021-05-17T10:26:28.536765Z",
     "shell.execute_reply": "2021-05-17T10:26:28.537187Z"
    }
   },
   "outputs": [
    {
     "data": {
      "text/plain": [
       "[Amplicon(1390), Amplicon(1222)]"
      ]
     },
     "execution_count": 1,
     "metadata": {},
     "output_type": "execute_result"
    }
   ],
   "source": [
    "Anneal( (p['577'], p['342'], fp), pYPKa_Z_RPL16A).products"
   ]
  },
  {
   "cell_type": "markdown",
   "metadata": {},
   "source": [
    "pYPKa_Z_RPL16A with insert in reverse orientation."
   ]
  },
  {
   "cell_type": "code",
   "execution_count": 19,
   "metadata": {
    "execution": {
     "iopub.execute_input": "2021-05-17T10:26:28.552554Z",
     "iopub.status.busy": "2021-05-17T10:26:28.551980Z",
     "iopub.status.idle": "2021-05-17T10:26:28.554774Z",
     "shell.execute_reply": "2021-05-17T10:26:28.555292Z"
    }
   },
   "outputs": [
    {
     "data": {
      "text/plain": [
       "[Amplicon(1390), Amplicon(624)]"
      ]
     },
     "execution_count": 1,
     "metadata": {},
     "output_type": "execute_result"
    }
   ],
   "source": [
    "Anneal( (p['577'], p['342'], fp), pYPKa_Z_RPL16Ab).products"
   ]
  },
  {
   "cell_type": "markdown",
   "metadata": {},
   "source": [
    "Empty pYPKa clone."
   ]
  },
  {
   "cell_type": "code",
   "execution_count": 20,
   "metadata": {
    "execution": {
     "iopub.execute_input": "2021-05-17T10:26:28.566203Z",
     "iopub.status.busy": "2021-05-17T10:26:28.565743Z",
     "iopub.status.idle": "2021-05-17T10:26:28.568174Z",
     "shell.execute_reply": "2021-05-17T10:26:28.568590Z"
    }
   },
   "outputs": [
    {
     "data": {
      "text/plain": [
       "[Amplicon(934)]"
      ]
     },
     "execution_count": 1,
     "metadata": {},
     "output_type": "execute_result"
    }
   ],
   "source": [
    "Anneal( (p['577'], p['342'], fp), pYPKa).products"
   ]
  },
  {
   "cell_type": "markdown",
   "metadata": {},
   "source": [
    "#### Expected PCR products sizes pYPKa_E_RPL16A:\n",
    "\n",
    "pYPKa_E_RPL16A with insert in correct orientation."
   ]
  },
  {
   "cell_type": "code",
   "execution_count": 21,
   "metadata": {
    "execution": {
     "iopub.execute_input": "2021-05-17T10:26:28.582589Z",
     "iopub.status.busy": "2021-05-17T10:26:28.582060Z",
     "iopub.status.idle": "2021-05-17T10:26:28.584653Z",
     "shell.execute_reply": "2021-05-17T10:26:28.585079Z"
    }
   },
   "outputs": [
    {
     "data": {
      "text/plain": [
       "[Amplicon(1390), Amplicon(1141)]"
      ]
     },
     "execution_count": 1,
     "metadata": {},
     "output_type": "execute_result"
    }
   ],
   "source": [
    "Anneal( (p['577'], p['342'], fp), pYPKa_E_RPL16A).products"
   ]
  },
  {
   "cell_type": "markdown",
   "metadata": {},
   "source": [
    "pYPKa_E_RPL16A with insert in reverse orientation."
   ]
  },
  {
   "cell_type": "code",
   "execution_count": 22,
   "metadata": {
    "execution": {
     "iopub.execute_input": "2021-05-17T10:26:28.601080Z",
     "iopub.status.busy": "2021-05-17T10:26:28.598230Z",
     "iopub.status.idle": "2021-05-17T10:26:28.603568Z",
     "shell.execute_reply": "2021-05-17T10:26:28.604041Z"
    }
   },
   "outputs": [
    {
     "data": {
      "text/plain": [
       "[Amplicon(1390), Amplicon(705)]"
      ]
     },
     "execution_count": 1,
     "metadata": {},
     "output_type": "execute_result"
    }
   ],
   "source": [
    "Anneal( (p['577'], p['342'], fp), pYPKa_E_RPL16Ab).products\n"
   ]
  },
  {
   "cell_type": "markdown",
   "metadata": {},
   "source": [
    "Calculate cseguid checksums for the resulting plasmids for future reference.\n",
    "This checksum that uniquely describes a circular double stranded\n",
    "sequence. See this [blog post](https://ochsavidare.blogspot.com/2016/02/checksum-for-circular-biological.html) for more info.\n",
    "\n",
    "pYPKa_Z_RPL16A.cseguid() should be E_Euqy_ERagJE_hFmClacK-qc3M"
   ]
  },
  {
   "cell_type": "code",
   "execution_count": 23,
   "metadata": {
    "execution": {
     "iopub.execute_input": "2021-05-17T10:26:28.613343Z",
     "iopub.status.busy": "2021-05-17T10:26:28.612727Z",
     "iopub.status.idle": "2021-05-17T10:26:28.620707Z",
     "shell.execute_reply": "2021-05-17T10:26:28.620043Z"
    }
   },
   "outputs": [
    {
     "name": "stdout",
     "output_type": "stream",
     "text": [
      "E_Euqy_ERagJE_hFmClacK-qc3M\n"
     ]
    }
   ],
   "source": [
    "print(pYPKa_Z_RPL16A.cseguid())\n",
    "assert pYPKa_Z_RPL16A.cseguid() == \"E_Euqy_ERagJE_hFmClacK-qc3M\""
   ]
  },
  {
   "cell_type": "markdown",
   "metadata": {},
   "source": [
    "pYPKa_E_RPL16A.cseguid() should be 2D-G7GCrVjHisDDtuUbjfqa-xSY"
   ]
  },
  {
   "cell_type": "code",
   "execution_count": 24,
   "metadata": {
    "execution": {
     "iopub.execute_input": "2021-05-17T10:26:28.634597Z",
     "iopub.status.busy": "2021-05-17T10:26:28.634080Z",
     "iopub.status.idle": "2021-05-17T10:26:28.636290Z",
     "shell.execute_reply": "2021-05-17T10:26:28.636710Z"
    }
   },
   "outputs": [
    {
     "name": "stdout",
     "output_type": "stream",
     "text": [
      "2D-G7GCrVjHisDDtuUbjfqa-xSY\n"
     ]
    }
   ],
   "source": [
    "print(pYPKa_E_RPL16A.cseguid())\n",
    "assert pYPKa_E_RPL16A.cseguid() == \"2D-G7GCrVjHisDDtuUbjfqa-xSY\""
   ]
  },
  {
   "cell_type": "markdown",
   "metadata": {},
   "source": [
    "The sequences are named based on the name of the cloned insert."
   ]
  },
  {
   "cell_type": "code",
   "execution_count": 25,
   "metadata": {
    "execution": {
     "iopub.execute_input": "2021-05-17T10:26:28.644092Z",
     "iopub.status.busy": "2021-05-17T10:26:28.640582Z",
     "iopub.status.idle": "2021-05-17T10:26:28.646275Z",
     "shell.execute_reply": "2021-05-17T10:26:28.646943Z"
    }
   },
   "outputs": [],
   "source": [
    "pYPKa_Z_RPL16A.locus = \"pYPKa_Z_RPL16A\"[:16]\n",
    "pYPKa_E_RPL16A.locus = \"pYPKa_Z_RPL16A\"[:16]"
   ]
  },
  {
   "cell_type": "markdown",
   "metadata": {},
   "source": [
    "Stamp sequence with cseguid checksum. This can be used to verify the\n",
    "integrity of the sequence file."
   ]
  },
  {
   "cell_type": "code",
   "execution_count": 26,
   "metadata": {
    "execution": {
     "iopub.execute_input": "2021-05-17T10:26:28.659129Z",
     "iopub.status.busy": "2021-05-17T10:26:28.656369Z",
     "iopub.status.idle": "2021-05-17T10:26:28.662449Z",
     "shell.execute_reply": "2021-05-17T10:26:28.662927Z"
    }
   },
   "outputs": [
    {
     "data": {
      "text/plain": [
       "cSEGUID_2D-G7GCrVjHisDDtuUbjfqa-xSY"
      ]
     },
     "execution_count": 1,
     "metadata": {},
     "output_type": "execute_result"
    }
   ],
   "source": [
    "pYPKa_Z_RPL16A.stamp()\n",
    "pYPKa_E_RPL16A.stamp()"
   ]
  },
  {
   "cell_type": "markdown",
   "metadata": {},
   "source": [
    "pYPKa_Z_RPL16A is written to a local file:"
   ]
  },
  {
   "cell_type": "code",
   "execution_count": 27,
   "metadata": {
    "execution": {
     "iopub.execute_input": "2021-05-17T10:26:28.668357Z",
     "iopub.status.busy": "2021-05-17T10:26:28.665759Z",
     "iopub.status.idle": "2021-05-17T10:26:28.672451Z",
     "shell.execute_reply": "2021-05-17T10:26:28.671886Z"
    }
   },
   "outputs": [
    {
     "data": {
      "text/html": [
       "<font face=monospace><a href='pYPKa_Z_RPL16A.gb' target='_blank'>pYPKa_Z_RPL16A.gb</a></font><br>"
      ]
     },
     "metadata": {},
     "output_type": "display_data"
    }
   ],
   "source": [
    "pYPKa_Z_RPL16A.write(\"pYPKa_Z_RPL16A.gb\")"
   ]
  },
  {
   "cell_type": "markdown",
   "metadata": {},
   "source": [
    "pYPKa_E_RPL16A is written to a local file:"
   ]
  },
  {
   "cell_type": "code",
   "execution_count": 28,
   "metadata": {
    "execution": {
     "iopub.execute_input": "2021-05-17T10:26:28.680159Z",
     "iopub.status.busy": "2021-05-17T10:26:28.679565Z",
     "iopub.status.idle": "2021-05-17T10:26:28.685589Z",
     "shell.execute_reply": "2021-05-17T10:26:28.686039Z"
    }
   },
   "outputs": [
    {
     "data": {
      "text/html": [
       "<font face=monospace><a href='pYPKa_E_RPL16A.gb' target='_blank'>pYPKa_E_RPL16A.gb</a></font><br>"
      ]
     },
     "metadata": {},
     "output_type": "display_data"
    }
   ],
   "source": [
    "pYPKa_E_RPL16A.write(\"pYPKa_E_RPL16A.gb\")"
   ]
  }
 ],
 "metadata": {
  "language_info": {
   "codemirror_mode": {
    "name": "ipython",
    "version": 3
   },
   "file_extension": ".py",
   "mimetype": "text/x-python",
   "name": "python",
   "nbconvert_exporter": "python",
   "pygments_lexer": "ipython3",
   "version": "3.9.0"
  }
 },
 "nbformat": 4,
 "nbformat_minor": 2
}
