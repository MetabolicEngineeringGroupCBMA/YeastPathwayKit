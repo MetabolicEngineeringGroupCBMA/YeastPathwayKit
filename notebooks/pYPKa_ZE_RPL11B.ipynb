{
 "cells": [
  {
   "cell_type": "markdown",
   "metadata": {},
   "source": [
    "# pYPKa_Z_RPL11B and pYPKa_E_RPL11B\n",
    "\n",
    "This Jupyter notebook describe the construction of E. coli vectors [pYPKa_Z_RPL11B](pYPKa_Z_RPL11B.gb) and [pYPKa_E_RPL11B](pYPKa_E_RPL11B.gb). \n",
    "These two vectors share backbone and insert, but in the former, the insert is cloned using the restriction\n",
    "enzyme [ZraI](http://rebase.neb.com/rebase/enz/ZraI.html) while in the latter [EcoRV](http://rebase.neb.com/rebase/enz/EcoRV.html) is used.\n",
    "\n",
    "The insert cloned in ZraI is meant to function as a promoter, while in the EcoRV site it is meant to be  used as a terminator.\n",
    "\n",
    "Links to the sequence of each vector in Genbank format can be found at the bottom of this document.\n",
    "\n",
    "![pYPKa_Z and pYPKa_E](figure_pYPKa_ZE.png \"pYPKa_Z or pYPKa_E plasmid\")\n",
    "\n",
    "The Python package [pydna](https://pypi.python.org/pypi/pydna/) package is imported in the code cell below to provide \n",
    "the cloning functionality. There is a [publication](http://www.biomedcentral.com/1471-2105/16/142) describing pydna as well as\n",
    "[documentation](http://pydna.readthedocs.io/) available online. Pydna is developed on [Github](https://github.com/BjornFJohansson/pydna)."
   ]
  },
  {
   "cell_type": "code",
   "execution_count": 1,
   "metadata": {
    "execution": {
     "iopub.execute_input": "2021-05-17T10:26:10.826741Z",
     "iopub.status.busy": "2021-05-17T10:26:10.824329Z",
     "iopub.status.idle": "2021-05-17T10:26:11.335644Z",
     "shell.execute_reply": "2021-05-17T10:26:11.336075Z"
    }
   },
   "outputs": [],
   "source": [
    "from pydna.readers import read\n",
    "from pydna.parsers import parse_primers\n",
    "from pydna.genbank import Genbank\n",
    "from pydna.amplify import pcr\n",
    "from pydna.amplify import Anneal"
   ]
  },
  {
   "cell_type": "markdown",
   "metadata": {},
   "source": [
    "The vector backbone pYPKa is read from a local [file](pYPKa.gb)."
   ]
  },
  {
   "cell_type": "code",
   "execution_count": 2,
   "metadata": {
    "execution": {
     "iopub.execute_input": "2021-05-17T10:26:11.345002Z",
     "iopub.status.busy": "2021-05-17T10:26:11.344433Z",
     "iopub.status.idle": "2021-05-17T10:26:11.354028Z",
     "shell.execute_reply": "2021-05-17T10:26:11.353499Z"
    }
   },
   "outputs": [],
   "source": [
    "pYPKa = read(\"pYPKa.gb\")"
   ]
  },
  {
   "cell_type": "markdown",
   "metadata": {},
   "source": [
    "Both restriction enzymes are imported from [Biopython](http://biopython.org/wiki/Main_Page)"
   ]
  },
  {
   "cell_type": "code",
   "execution_count": 3,
   "metadata": {
    "execution": {
     "iopub.execute_input": "2021-05-17T10:26:11.357824Z",
     "iopub.status.busy": "2021-05-17T10:26:11.357095Z",
     "iopub.status.idle": "2021-05-17T10:26:11.359492Z",
     "shell.execute_reply": "2021-05-17T10:26:11.360135Z"
    }
   },
   "outputs": [],
   "source": [
    "from Bio.Restriction import ZraI, EcoRV"
   ]
  },
  {
   "cell_type": "markdown",
   "metadata": {},
   "source": [
    "The vector is cut with both enzymes."
   ]
  },
  {
   "cell_type": "code",
   "execution_count": 4,
   "metadata": {
    "execution": {
     "iopub.execute_input": "2021-05-17T10:26:11.368233Z",
     "iopub.status.busy": "2021-05-17T10:26:11.367773Z",
     "iopub.status.idle": "2021-05-17T10:26:11.370739Z",
     "shell.execute_reply": "2021-05-17T10:26:11.371139Z"
    }
   },
   "outputs": [],
   "source": [
    "pYPKa_ZraI  = pYPKa.linearize(ZraI)\n",
    "pYPKa_EcoRV = pYPKa.linearize(EcoRV)"
   ]
  },
  {
   "cell_type": "markdown",
   "metadata": {},
   "source": [
    "The template below comes from a Genbank [record](http://www.ncbi.nlm.nih.gov/nuccore/BK006941.2).\n",
    "Access to Genbank is needed in order to download the template.\n",
    "If you execute this script, change the email address below to your own.\n",
    "Always tell Genbank who you are, when using their web service."
   ]
  },
  {
   "cell_type": "code",
   "execution_count": 5,
   "metadata": {
    "execution": {
     "iopub.execute_input": "2021-05-17T10:26:11.375511Z",
     "iopub.status.busy": "2021-05-17T10:26:11.375086Z",
     "iopub.status.idle": "2021-05-17T10:26:11.378061Z",
     "shell.execute_reply": "2021-05-17T10:26:11.377363Z"
    }
   },
   "outputs": [],
   "source": [
    "gb = Genbank(\"bjornjobb@gmail.com\")"
   ]
  },
  {
   "cell_type": "markdown",
   "metadata": {},
   "source": [
    "The template is downloaded from Genbank below."
   ]
  },
  {
   "cell_type": "code",
   "execution_count": 6,
   "metadata": {
    "execution": {
     "iopub.execute_input": "2021-05-17T10:26:11.383111Z",
     "iopub.status.busy": "2021-05-17T10:26:11.382491Z",
     "iopub.status.idle": "2021-05-17T10:26:11.393476Z",
     "shell.execute_reply": "2021-05-17T10:26:11.392978Z"
    }
   },
   "outputs": [],
   "source": [
    "template = gb.nucleotide(\"BK006941.2 REGION: complement(648908..649597)\")"
   ]
  },
  {
   "cell_type": "markdown",
   "metadata": {},
   "source": [
    "The template is a 690 bp linear DNA fragment."
   ]
  },
  {
   "cell_type": "code",
   "execution_count": 7,
   "metadata": {
    "execution": {
     "iopub.execute_input": "2021-05-17T10:26:11.401709Z",
     "iopub.status.busy": "2021-05-17T10:26:11.401097Z",
     "iopub.status.idle": "2021-05-17T10:26:11.403760Z",
     "shell.execute_reply": "2021-05-17T10:26:11.404186Z"
    }
   },
   "outputs": [
    {
     "data": {
      "text/html": [
       "<a href='https://www.ncbi.nlm.nih.gov/nuccore/BK006941.2 ?from=648908&to=649597&strand=2' target='_blank'>BK006941.2  648908-649597</a>"
      ],
      "text/plain": [
       "Gbank(BK006941.2  648908-649597)(-690)"
      ]
     },
     "execution_count": 1,
     "metadata": {},
     "output_type": "execute_result"
    }
   ],
   "source": [
    "template"
   ]
  },
  {
   "cell_type": "markdown",
   "metadata": {},
   "source": [
    "The insert has the sequence shown below."
   ]
  },
  {
   "cell_type": "code",
   "execution_count": 8,
   "metadata": {
    "execution": {
     "iopub.execute_input": "2021-05-17T10:26:11.408286Z",
     "iopub.status.busy": "2021-05-17T10:26:11.407631Z",
     "iopub.status.idle": "2021-05-17T10:26:11.411037Z",
     "shell.execute_reply": "2021-05-17T10:26:11.411741Z"
    }
   },
   "outputs": [
    {
     "name": "stdout",
     "output_type": "stream",
     "text": [
      "TCAAAATAAATCAACAATCTATTAGAAACAAAAAAAAAAAAACCAGCAGAAAAGAACAAGTTACCATACTAATTAATCTCTTTTAATTAATGCGTGGACAGATAATCATTTCTGTTCCCTCACTCTGAAAAAATTGTTTTATTTTCCTATTTTTTTTTTCATCTATTATTGTATTTTGCCCTCTCCTCACTCCTTACTTTAGTCTATTATCAATATCTCTTCCCCCTCCTAAATATGTACTCTTTTATTTTTTTTAATTGTGAAGGAACAATTCAAGTTAGAACTCTTTTGATAGGAAACATTATTTCCTGTGTAGCCTAATGTTTAATGCCTAATTTTTTTCTAAAATGCAGCAACATACATATGTTGAGTCGTATAGACATCTATATATAACAAGCACAGAACCGTCTAATTGGTATTTTTCAGGACATTTTAAACATCCGTACAACGAGAACCCATACATTACTTTTTTTAATATTCTTTTTGTTTTCACCGCCTTCTTTTTATTTTTATCCGAAGATCTTTTGGAACCCGCTCTGCGAATAGCGAAGCTAGGATACCAAATTGAAACTTGGACATAACTCATCATTAAAGAAGTATACTGTTAAGAGAGGCATTCATTTCGTGTATTATAACGTTTAGCATCAGTTACCCTTGAAAGCCCAACATATACAAAAATACGCGTCCAAG\n"
     ]
    }
   ],
   "source": [
    "print(str(template.seq))"
   ]
  },
  {
   "cell_type": "markdown",
   "metadata": {},
   "source": [
    "The seguid checksum of the template should be\n",
    "\n",
    "```58Aa8NmzgZDUiUCca5GyCsjZXOA```"
   ]
  },
  {
   "cell_type": "code",
   "execution_count": 9,
   "metadata": {
    "execution": {
     "iopub.execute_input": "2021-05-17T10:26:11.417063Z",
     "iopub.status.busy": "2021-05-17T10:26:11.416135Z",
     "iopub.status.idle": "2021-05-17T10:26:11.420176Z",
     "shell.execute_reply": "2021-05-17T10:26:11.419539Z"
    }
   },
   "outputs": [
    {
     "data": {
      "text/plain": [
       "58Aa8NmzgZDUiUCca5GyCsjZXOA"
      ]
     },
     "execution_count": 1,
     "metadata": {},
     "output_type": "execute_result"
    }
   ],
   "source": [
    "template.seguid()"
   ]
  },
  {
   "cell_type": "markdown",
   "metadata": {},
   "source": [
    "Two primers are used to amplify the insert:"
   ]
  },
  {
   "cell_type": "code",
   "execution_count": 10,
   "metadata": {
    "execution": {
     "iopub.execute_input": "2021-05-17T10:26:11.425390Z",
     "iopub.status.busy": "2021-05-17T10:26:11.424817Z",
     "iopub.status.idle": "2021-05-17T10:26:11.427425Z",
     "shell.execute_reply": "2021-05-17T10:26:11.426867Z"
    }
   },
   "outputs": [],
   "source": [
    "fp,rp = parse_primers(\"\"\">646_ScRPL11btpf2\n",
    "                         ttaaatTCAAAATAAATCAACAATC\n",
    "                         >645_ScRPL11btpr_PacI\n",
    "                         taattaaCTTGGACGCGTATTTTTG\"\"\")"
   ]
  },
  {
   "cell_type": "markdown",
   "metadata": {},
   "source": [
    "PCR to create the insert using the primers above."
   ]
  },
  {
   "cell_type": "code",
   "execution_count": 11,
   "metadata": {
    "execution": {
     "iopub.execute_input": "2021-05-17T10:26:11.434196Z",
     "iopub.status.busy": "2021-05-17T10:26:11.433411Z",
     "iopub.status.idle": "2021-05-17T10:26:11.437887Z",
     "shell.execute_reply": "2021-05-17T10:26:11.438278Z"
    }
   },
   "outputs": [],
   "source": [
    "prd = pcr(fp, rp, template)\n",
    "assert str(fp.seq) in prd"
   ]
  },
  {
   "cell_type": "markdown",
   "metadata": {},
   "source": [
    "The PCR product has this length in bp."
   ]
  },
  {
   "cell_type": "code",
   "execution_count": 12,
   "metadata": {
    "execution": {
     "iopub.execute_input": "2021-05-17T10:26:11.442295Z",
     "iopub.status.busy": "2021-05-17T10:26:11.441656Z",
     "iopub.status.idle": "2021-05-17T10:26:11.444983Z",
     "shell.execute_reply": "2021-05-17T10:26:11.444342Z"
    }
   },
   "outputs": [
    {
     "data": {
      "text/plain": [
       "703"
      ]
     },
     "execution_count": 1,
     "metadata": {},
     "output_type": "execute_result"
    }
   ],
   "source": [
    "len(prd)"
   ]
  },
  {
   "cell_type": "markdown",
   "metadata": {},
   "source": [
    "A figure of the primers annealing on template."
   ]
  },
  {
   "cell_type": "code",
   "execution_count": 13,
   "metadata": {
    "execution": {
     "iopub.execute_input": "2021-05-17T10:26:11.450110Z",
     "iopub.status.busy": "2021-05-17T10:26:11.449163Z",
     "iopub.status.idle": "2021-05-17T10:26:11.452846Z",
     "shell.execute_reply": "2021-05-17T10:26:11.452313Z"
    }
   },
   "outputs": [
    {
     "data": {
      "text/plain": [
       "      5TCAAAATAAATCAACAATC...CAAAAATACGCGTCCAAG3\n",
       "                             ||||||||||||||||||\n",
       "                            3GTTTTTATGCGCAGGTTCaattaat5\n",
       "5ttaaatTCAAAATAAATCAACAATC3\n",
       "       |||||||||||||||||||\n",
       "      3AGTTTTATTTAGTTGTTAG...GTTTTTATGCGCAGGTTC5"
      ]
     },
     "execution_count": 1,
     "metadata": {},
     "output_type": "execute_result"
    }
   ],
   "source": [
    "prd.figure()"
   ]
  },
  {
   "cell_type": "markdown",
   "metadata": {},
   "source": [
    "A suggested PCR program."
   ]
  },
  {
   "cell_type": "code",
   "execution_count": 14,
   "metadata": {
    "execution": {
     "iopub.execute_input": "2021-05-17T10:26:11.457989Z",
     "iopub.status.busy": "2021-05-17T10:26:11.457156Z",
     "iopub.status.idle": "2021-05-17T10:26:11.460350Z",
     "shell.execute_reply": "2021-05-17T10:26:11.461009Z"
    }
   },
   "outputs": [
    {
     "data": {
      "text/plain": [
       "|95°C|95°C               |    |tmf:46.2\n",
       "|____|_____          72°C|72°C|tmr:56.0\n",
       "|5min|30s  \\ 48.9°C _____|____|60s/kb\n",
       "|    |      \\______/ 0:42|5min|GC 30%\n",
       "|    |       30s         |    |703bp"
      ]
     },
     "execution_count": 1,
     "metadata": {},
     "output_type": "execute_result"
    }
   ],
   "source": [
    "prd.program()"
   ]
  },
  {
   "cell_type": "markdown",
   "metadata": {},
   "source": [
    "The final vectors are:"
   ]
  },
  {
   "cell_type": "code",
   "execution_count": 15,
   "metadata": {
    "execution": {
     "iopub.execute_input": "2021-05-17T10:26:11.535893Z",
     "iopub.status.busy": "2021-05-17T10:26:11.500856Z",
     "iopub.status.idle": "2021-05-17T10:26:11.974023Z",
     "shell.execute_reply": "2021-05-17T10:26:11.974757Z"
    }
   },
   "outputs": [],
   "source": [
    "pYPKa_Z_RPL11B = (pYPKa_ZraI  + prd).looped().synced(pYPKa)\n",
    "pYPKa_E_RPL11B = (pYPKa_EcoRV + prd).looped().synced(pYPKa)"
   ]
  },
  {
   "cell_type": "markdown",
   "metadata": {},
   "source": [
    "The final vectors with reverse inserts are created below. These vectors theoretically make up\n",
    "fifty percent of the clones. The PCR strategy outlined below can be used to identify clones with the insert\n",
    "in the correct orientation."
   ]
  },
  {
   "cell_type": "code",
   "execution_count": 16,
   "metadata": {
    "execution": {
     "iopub.execute_input": "2021-05-17T10:26:11.995898Z",
     "iopub.status.busy": "2021-05-17T10:26:11.984845Z",
     "iopub.status.idle": "2021-05-17T10:26:12.509567Z",
     "shell.execute_reply": "2021-05-17T10:26:12.508964Z"
    }
   },
   "outputs": [],
   "source": [
    "pYPKa_Z_RPL11Bb = (pYPKa_ZraI  + prd.rc()).looped().synced(pYPKa)\n",
    "pYPKa_E_RPL11Bb = (pYPKa_EcoRV + prd.rc()).looped().synced(pYPKa)"
   ]
  },
  {
   "cell_type": "markdown",
   "metadata": {},
   "source": [
    "A combination of yeast pathway kit standard primers and the primers above are\n",
    "used for the strategy to identify correct clones.\n",
    "Standard primers used in the yeast are listed [here](standard_primers.txt)."
   ]
  },
  {
   "cell_type": "code",
   "execution_count": 17,
   "metadata": {
    "execution": {
     "iopub.execute_input": "2021-05-17T10:26:12.520042Z",
     "iopub.status.busy": "2021-05-17T10:26:12.516922Z",
     "iopub.status.idle": "2021-05-17T10:26:12.520624Z",
     "shell.execute_reply": "2021-05-17T10:26:12.521177Z"
    }
   },
   "outputs": [],
   "source": [
    "p = { x.id: x for x in parse_primers(\"\"\">577\n",
    "                                         gttctgatcctcgagcatcttaagaattc\n",
    "                                         >578\n",
    "                                         gttcttgtctcattgccacattcataagt\n",
    "                                         >468\n",
    "                                         gtcgaggaacgccaggttgcccact\n",
    "                                         >467\n",
    "                                         ATTTAAatcctgatgcgtttgtctgcacaga\n",
    "                                         >567\n",
    "                                         GTcggctgcaggtcactagtgag\n",
    "                                         >568\n",
    "                                         GTGCcatctgtgcagacaaacg\n",
    "                                         >775\n",
    "                                         gcggccgctgacTTAAAT\n",
    "                                         >778\n",
    "                                         ggtaaatccggatTAATTAA\n",
    "                                         >342\n",
    "                                         CCTTTTTACGGTTCCTGGCCT\"\"\") }"
   ]
  },
  {
   "cell_type": "markdown",
   "metadata": {},
   "source": [
    "## Diagnostic PCR confirmation\n",
    "\n",
    "The correct structure of pYPKa_Z_RPL11B is confirmed by PCR using standard primers\n",
    "577 and 342 that are vector specific together with the RPL11Bfw primer specific for the insert\n",
    "in a multiplex PCR reaction with\n",
    "all three primers present.\n",
    "\n",
    "Two PCR products are expected if the insert was cloned, the sizes depend\n",
    "on the orientation. If the vector is empty or contains another insert, only one\n",
    "product is formed.\n",
    "\n",
    "#### Expected PCR products sizes from pYPKa_Z_RPL11B:\n",
    "\n",
    "pYPKa_Z_RPL11B with insert in correct orientation."
   ]
  },
  {
   "cell_type": "code",
   "execution_count": 18,
   "metadata": {
    "execution": {
     "iopub.execute_input": "2021-05-17T10:26:12.536716Z",
     "iopub.status.busy": "2021-05-17T10:26:12.529440Z",
     "iopub.status.idle": "2021-05-17T10:26:12.539379Z",
     "shell.execute_reply": "2021-05-17T10:26:12.539857Z"
    }
   },
   "outputs": [
    {
     "data": {
      "text/plain": [
       "[Amplicon(1637), Amplicon(1469)]"
      ]
     },
     "execution_count": 1,
     "metadata": {},
     "output_type": "execute_result"
    }
   ],
   "source": [
    "Anneal( (p['577'], p['342'], fp), pYPKa_Z_RPL11B).products"
   ]
  },
  {
   "cell_type": "markdown",
   "metadata": {},
   "source": [
    "pYPKa_Z_RPL11B with insert in reverse orientation."
   ]
  },
  {
   "cell_type": "code",
   "execution_count": 19,
   "metadata": {
    "execution": {
     "iopub.execute_input": "2021-05-17T10:26:12.556080Z",
     "iopub.status.busy": "2021-05-17T10:26:12.555523Z",
     "iopub.status.idle": "2021-05-17T10:26:12.558822Z",
     "shell.execute_reply": "2021-05-17T10:26:12.559215Z"
    }
   },
   "outputs": [
    {
     "data": {
      "text/plain": [
       "[Amplicon(1637), Amplicon(871)]"
      ]
     },
     "execution_count": 1,
     "metadata": {},
     "output_type": "execute_result"
    }
   ],
   "source": [
    "Anneal( (p['577'], p['342'], fp), pYPKa_Z_RPL11Bb).products"
   ]
  },
  {
   "cell_type": "markdown",
   "metadata": {},
   "source": [
    "Empty pYPKa clone."
   ]
  },
  {
   "cell_type": "code",
   "execution_count": 20,
   "metadata": {
    "execution": {
     "iopub.execute_input": "2021-05-17T10:26:12.568561Z",
     "iopub.status.busy": "2021-05-17T10:26:12.567915Z",
     "iopub.status.idle": "2021-05-17T10:26:12.571022Z",
     "shell.execute_reply": "2021-05-17T10:26:12.571629Z"
    }
   },
   "outputs": [
    {
     "data": {
      "text/plain": [
       "[Amplicon(934)]"
      ]
     },
     "execution_count": 1,
     "metadata": {},
     "output_type": "execute_result"
    }
   ],
   "source": [
    "Anneal( (p['577'], p['342'], fp), pYPKa).products"
   ]
  },
  {
   "cell_type": "markdown",
   "metadata": {},
   "source": [
    "#### Expected PCR products sizes pYPKa_E_RPL11B:\n",
    "\n",
    "pYPKa_E_RPL11B with insert in correct orientation."
   ]
  },
  {
   "cell_type": "code",
   "execution_count": 21,
   "metadata": {
    "execution": {
     "iopub.execute_input": "2021-05-17T10:26:12.581431Z",
     "iopub.status.busy": "2021-05-17T10:26:12.580936Z",
     "iopub.status.idle": "2021-05-17T10:26:12.583495Z",
     "shell.execute_reply": "2021-05-17T10:26:12.583908Z"
    }
   },
   "outputs": [
    {
     "data": {
      "text/plain": [
       "[Amplicon(1637), Amplicon(1388)]"
      ]
     },
     "execution_count": 1,
     "metadata": {},
     "output_type": "execute_result"
    }
   ],
   "source": [
    "Anneal( (p['577'], p['342'], fp), pYPKa_E_RPL11B).products"
   ]
  },
  {
   "cell_type": "markdown",
   "metadata": {},
   "source": [
    "pYPKa_E_RPL11B with insert in reverse orientation."
   ]
  },
  {
   "cell_type": "code",
   "execution_count": 22,
   "metadata": {
    "execution": {
     "iopub.execute_input": "2021-05-17T10:26:12.595609Z",
     "iopub.status.busy": "2021-05-17T10:26:12.594768Z",
     "iopub.status.idle": "2021-05-17T10:26:12.597724Z",
     "shell.execute_reply": "2021-05-17T10:26:12.598233Z"
    }
   },
   "outputs": [
    {
     "data": {
      "text/plain": [
       "[Amplicon(1637), Amplicon(952)]"
      ]
     },
     "execution_count": 1,
     "metadata": {},
     "output_type": "execute_result"
    }
   ],
   "source": [
    "Anneal( (p['577'], p['342'], fp), pYPKa_E_RPL11Bb).products\n"
   ]
  },
  {
   "cell_type": "markdown",
   "metadata": {},
   "source": [
    "Calculate cseguid checksums for the resulting plasmids for future reference.\n",
    "This checksum that uniquely describes a circular double stranded\n",
    "sequence. See this [blog post](https://ochsavidare.blogspot.com/2016/02/checksum-for-circular-biological.html) for more info.\n",
    "\n",
    "pYPKa_Z_RPL11B.cseguid() should be Ci_RC4oZjSHe9F188IEMGaO72xM"
   ]
  },
  {
   "cell_type": "code",
   "execution_count": 23,
   "metadata": {
    "execution": {
     "iopub.execute_input": "2021-05-17T10:26:12.609798Z",
     "iopub.status.busy": "2021-05-17T10:26:12.609016Z",
     "iopub.status.idle": "2021-05-17T10:26:12.612138Z",
     "shell.execute_reply": "2021-05-17T10:26:12.611771Z"
    }
   },
   "outputs": [
    {
     "name": "stdout",
     "output_type": "stream",
     "text": [
      "Ci_RC4oZjSHe9F188IEMGaO72xM\n"
     ]
    }
   ],
   "source": [
    "print(pYPKa_Z_RPL11B.cseguid())\n",
    "assert pYPKa_Z_RPL11B.cseguid() == \"Ci_RC4oZjSHe9F188IEMGaO72xM\""
   ]
  },
  {
   "cell_type": "markdown",
   "metadata": {},
   "source": [
    "pYPKa_E_RPL11B.cseguid() should be JEQ-ZWB3r1FpJoaH1k92v8EYKzU"
   ]
  },
  {
   "cell_type": "code",
   "execution_count": 24,
   "metadata": {
    "execution": {
     "iopub.execute_input": "2021-05-17T10:26:12.621181Z",
     "iopub.status.busy": "2021-05-17T10:26:12.620610Z",
     "iopub.status.idle": "2021-05-17T10:26:12.623919Z",
     "shell.execute_reply": "2021-05-17T10:26:12.623377Z"
    }
   },
   "outputs": [
    {
     "name": "stdout",
     "output_type": "stream",
     "text": [
      "JEQ-ZWB3r1FpJoaH1k92v8EYKzU\n"
     ]
    }
   ],
   "source": [
    "print(pYPKa_E_RPL11B.cseguid())\n",
    "assert pYPKa_E_RPL11B.cseguid() == \"JEQ-ZWB3r1FpJoaH1k92v8EYKzU\""
   ]
  },
  {
   "cell_type": "markdown",
   "metadata": {},
   "source": [
    "The sequences are named based on the name of the cloned insert."
   ]
  },
  {
   "cell_type": "code",
   "execution_count": 25,
   "metadata": {
    "execution": {
     "iopub.execute_input": "2021-05-17T10:26:12.628014Z",
     "iopub.status.busy": "2021-05-17T10:26:12.627322Z",
     "iopub.status.idle": "2021-05-17T10:26:12.630346Z",
     "shell.execute_reply": "2021-05-17T10:26:12.629668Z"
    }
   },
   "outputs": [],
   "source": [
    "pYPKa_Z_RPL11B.locus = \"pYPKa_Z_RPL11B\"[:16]\n",
    "pYPKa_E_RPL11B.locus = \"pYPKa_Z_RPL11B\"[:16]"
   ]
  },
  {
   "cell_type": "markdown",
   "metadata": {},
   "source": [
    "Stamp sequence with cseguid checksum. This can be used to verify the\n",
    "integrity of the sequence file."
   ]
  },
  {
   "cell_type": "code",
   "execution_count": 26,
   "metadata": {
    "execution": {
     "iopub.execute_input": "2021-05-17T10:26:12.644573Z",
     "iopub.status.busy": "2021-05-17T10:26:12.643989Z",
     "iopub.status.idle": "2021-05-17T10:26:12.647244Z",
     "shell.execute_reply": "2021-05-17T10:26:12.646745Z"
    }
   },
   "outputs": [
    {
     "data": {
      "text/plain": [
       "cSEGUID_JEQ-ZWB3r1FpJoaH1k92v8EYKzU"
      ]
     },
     "execution_count": 1,
     "metadata": {},
     "output_type": "execute_result"
    }
   ],
   "source": [
    "pYPKa_Z_RPL11B.stamp()\n",
    "pYPKa_E_RPL11B.stamp()"
   ]
  },
  {
   "cell_type": "markdown",
   "metadata": {},
   "source": [
    "pYPKa_Z_RPL11B is written to a local file:"
   ]
  },
  {
   "cell_type": "code",
   "execution_count": 27,
   "metadata": {
    "execution": {
     "iopub.execute_input": "2021-05-17T10:26:12.655131Z",
     "iopub.status.busy": "2021-05-17T10:26:12.650602Z",
     "iopub.status.idle": "2021-05-17T10:26:12.660106Z",
     "shell.execute_reply": "2021-05-17T10:26:12.659541Z"
    }
   },
   "outputs": [
    {
     "data": {
      "text/html": [
       "<font face=monospace><a href='pYPKa_Z_RPL11B.gb' target='_blank'>pYPKa_Z_RPL11B.gb</a></font><br>"
      ]
     },
     "metadata": {},
     "output_type": "display_data"
    }
   ],
   "source": [
    "pYPKa_Z_RPL11B.write(\"pYPKa_Z_RPL11B.gb\")"
   ]
  },
  {
   "cell_type": "markdown",
   "metadata": {},
   "source": [
    "pYPKa_E_RPL11B is written to a local file:"
   ]
  },
  {
   "cell_type": "code",
   "execution_count": 28,
   "metadata": {
    "execution": {
     "iopub.execute_input": "2021-05-17T10:26:12.664482Z",
     "iopub.status.busy": "2021-05-17T10:26:12.663760Z",
     "iopub.status.idle": "2021-05-17T10:26:12.671633Z",
     "shell.execute_reply": "2021-05-17T10:26:12.672133Z"
    }
   },
   "outputs": [
    {
     "data": {
      "text/html": [
       "<font face=monospace><a href='pYPKa_E_RPL11B.gb' target='_blank'>pYPKa_E_RPL11B.gb</a></font><br>"
      ]
     },
     "metadata": {},
     "output_type": "display_data"
    }
   ],
   "source": [
    "pYPKa_E_RPL11B.write(\"pYPKa_E_RPL11B.gb\")"
   ]
  }
 ],
 "metadata": {
  "kernelspec": {
   "display_name": "Python [conda env:bjorn37]",
   "language": "python",
   "name": "conda-env-bjorn37-py"
  },
  "language_info": {
   "codemirror_mode": {
    "name": "ipython",
    "version": 3
   },
   "file_extension": ".py",
   "mimetype": "text/x-python",
   "name": "python",
   "nbconvert_exporter": "python",
   "pygments_lexer": "ipython3",
   "version": "3.9.0"
  }
 },
 "nbformat": 4,
 "nbformat_minor": 2
}
