{
 "cells": [
  {
   "cell_type": "markdown",
   "metadata": {},
   "source": [
    "# pYPKa_Z_CIS3 and pYPKa_E_CIS3\n",
    "\n",
    "This Jupyter notebook describe the construction of E. coli vectors [pYPKa_Z_CIS3](pYPKa_Z_CIS3.gb) and [pYPKa_E_CIS3](pYPKa_E_CIS3.gb). \n",
    "These two vectors share backbone and insert, but in the former, the insert is cloned using the restriction\n",
    "enzyme [ZraI](http://rebase.neb.com/rebase/enz/ZraI.html) while in the latter [EcoRV](http://rebase.neb.com/rebase/enz/EcoRV.html) is used.\n",
    "\n",
    "The insert cloned in ZraI is meant to function as a promoter, while in the EcoRV site it is meant to be  used as a terminator.\n",
    "\n",
    "Links to the sequence of each vector in Genbank format can be found at the bottom of this document.\n",
    "\n",
    "![pYPKa_Z and pYPKa_E](figure_pYPKa_ZE.png \"pYPKa_Z or pYPKa_E plasmid\")\n",
    "\n",
    "The Python package [pydna](https://pypi.python.org/pypi/pydna/) package is imported in the code cell below to provide \n",
    "the cloning functionality. There is a [publication](http://www.biomedcentral.com/1471-2105/16/142) describing pydna as well as\n",
    "[documentation](http://pydna.readthedocs.io/) available online. Pydna is developed on [Github](https://github.com/BjornFJohansson/pydna)."
   ]
  },
  {
   "cell_type": "code",
   "execution_count": 1,
   "metadata": {
    "execution": {
     "iopub.execute_input": "2021-05-17T10:25:28.587381Z",
     "iopub.status.busy": "2021-05-17T10:25:28.586765Z",
     "iopub.status.idle": "2021-05-17T10:25:29.120749Z",
     "shell.execute_reply": "2021-05-17T10:25:29.121345Z"
    }
   },
   "outputs": [],
   "source": [
    "from pydna.readers import read\n",
    "from pydna.parsers import parse_primers\n",
    "from pydna.genbank import Genbank\n",
    "from pydna.amplify import pcr\n",
    "from pydna.amplify import Anneal"
   ]
  },
  {
   "cell_type": "markdown",
   "metadata": {},
   "source": [
    "The vector backbone pYPKa is read from a local [file](pYPKa.gb)."
   ]
  },
  {
   "cell_type": "code",
   "execution_count": 2,
   "metadata": {
    "execution": {
     "iopub.execute_input": "2021-05-17T10:25:29.129945Z",
     "iopub.status.busy": "2021-05-17T10:25:29.128381Z",
     "iopub.status.idle": "2021-05-17T10:25:29.140493Z",
     "shell.execute_reply": "2021-05-17T10:25:29.139971Z"
    }
   },
   "outputs": [],
   "source": [
    "pYPKa = read(\"pYPKa.gb\")"
   ]
  },
  {
   "cell_type": "markdown",
   "metadata": {},
   "source": [
    "Both restriction enzymes are imported from [Biopython](http://biopython.org/wiki/Main_Page)"
   ]
  },
  {
   "cell_type": "code",
   "execution_count": 3,
   "metadata": {
    "execution": {
     "iopub.execute_input": "2021-05-17T10:25:29.143706Z",
     "iopub.status.busy": "2021-05-17T10:25:29.143242Z",
     "iopub.status.idle": "2021-05-17T10:25:29.145194Z",
     "shell.execute_reply": "2021-05-17T10:25:29.146606Z"
    }
   },
   "outputs": [],
   "source": [
    "from Bio.Restriction import ZraI, EcoRV"
   ]
  },
  {
   "cell_type": "markdown",
   "metadata": {},
   "source": [
    "The vector is cut with both enzymes."
   ]
  },
  {
   "cell_type": "code",
   "execution_count": 4,
   "metadata": {
    "execution": {
     "iopub.execute_input": "2021-05-17T10:25:29.156648Z",
     "iopub.status.busy": "2021-05-17T10:25:29.155960Z",
     "iopub.status.idle": "2021-05-17T10:25:29.158931Z",
     "shell.execute_reply": "2021-05-17T10:25:29.158399Z"
    }
   },
   "outputs": [],
   "source": [
    "pYPKa_ZraI  = pYPKa.linearize(ZraI)\n",
    "pYPKa_EcoRV = pYPKa.linearize(EcoRV)"
   ]
  },
  {
   "cell_type": "markdown",
   "metadata": {},
   "source": [
    "The template below comes from a Genbank [record](http://www.ncbi.nlm.nih.gov/nuccore/BK006943.2).\n",
    "Access to Genbank is needed in order to download the template.\n",
    "If you execute this script, change the email address below to your own.\n",
    "Always tell Genbank who you are, when using their web service."
   ]
  },
  {
   "cell_type": "code",
   "execution_count": 5,
   "metadata": {
    "execution": {
     "iopub.execute_input": "2021-05-17T10:25:29.162621Z",
     "iopub.status.busy": "2021-05-17T10:25:29.162206Z",
     "iopub.status.idle": "2021-05-17T10:25:29.165044Z",
     "shell.execute_reply": "2021-05-17T10:25:29.165487Z"
    }
   },
   "outputs": [],
   "source": [
    "gb = Genbank(\"bjornjobb@gmail.com\")"
   ]
  },
  {
   "cell_type": "markdown",
   "metadata": {},
   "source": [
    "The template is downloaded from Genbank below."
   ]
  },
  {
   "cell_type": "code",
   "execution_count": 6,
   "metadata": {
    "execution": {
     "iopub.execute_input": "2021-05-17T10:25:29.171028Z",
     "iopub.status.busy": "2021-05-17T10:25:29.169904Z",
     "iopub.status.idle": "2021-05-17T10:25:29.182380Z",
     "shell.execute_reply": "2021-05-17T10:25:29.181858Z"
    }
   },
   "outputs": [],
   "source": [
    "template = gb.nucleotide(\"BK006943.2 REGION: complement(122949..123835)\")"
   ]
  },
  {
   "cell_type": "markdown",
   "metadata": {},
   "source": [
    "The template is a 887 bp linear DNA fragment."
   ]
  },
  {
   "cell_type": "code",
   "execution_count": 7,
   "metadata": {
    "execution": {
     "iopub.execute_input": "2021-05-17T10:25:29.192386Z",
     "iopub.status.busy": "2021-05-17T10:25:29.191649Z",
     "iopub.status.idle": "2021-05-17T10:25:29.195754Z",
     "shell.execute_reply": "2021-05-17T10:25:29.195165Z"
    }
   },
   "outputs": [
    {
     "data": {
      "text/html": [
       "<a href='https://www.ncbi.nlm.nih.gov/nuccore/BK006943.2 ?from=122949&to=123835&strand=2' target='_blank'>BK006943.2  122949-123835</a>"
      ],
      "text/plain": [
       "Gbank(BK006943.2  122949-123835)(-887)"
      ]
     },
     "execution_count": 1,
     "metadata": {},
     "output_type": "execute_result"
    }
   ],
   "source": [
    "template"
   ]
  },
  {
   "cell_type": "markdown",
   "metadata": {},
   "source": [
    "The insert has the sequence shown below."
   ]
  },
  {
   "cell_type": "code",
   "execution_count": 8,
   "metadata": {
    "execution": {
     "iopub.execute_input": "2021-05-17T10:25:29.199970Z",
     "iopub.status.busy": "2021-05-17T10:25:29.199332Z",
     "iopub.status.idle": "2021-05-17T10:25:29.202957Z",
     "shell.execute_reply": "2021-05-17T10:25:29.202397Z"
    }
   },
   "outputs": [
    {
     "name": "stdout",
     "output_type": "stream",
     "text": [
      "TAGTTCGGGAATCGAGGCCCGTATTTCGAGGCTTTTGCTTTTCCTTTTTTTTTTTTCGTTTCTCCACGTCTATACTACGCAATGACTGAATATATATAATGCGTCGTAAATAGCAGTTAATGTATAAATAGAAATTGAGTAAACTTTAATTTTGCCTAAGAAAGAACCTATTGGCGATAATTAAATCTCGTCATATATGCACTATATATTTTTTTTCGTTTGGCGTTGTTTATCTATTTCCCGAACGGGATTATTTCCCTGAATTAGTTCATAATGAAAAAAACTCGCAGCCGGGTAACCCTCTTCGTACCAAAAATGCACGTGTCTGTACACAATTATACCAACATGGTTGTAGCATTTCAAGTTAGCTTGTTCGAGCTGTATAGTAAAAGAAACGTCGATGTGGCTAATTTGTTCCGGTGACTTTCAGGTCACGTGTTTTCCATGCGTGCGTTGCTTCTTCCTGCAAATCCACGGCTCGTAAAAGAGGACAATCAGCTTTTTTCCGTGGTGCCTGGCCGGGCCGCCTATGCATTCCATACGATTTCCACGGGCCAGATCCCGCCTAGCCCTTCCAGCTTTTCTTTTTCCCCTTTTGCTACGGTCGAGACACGGTCGCCCAAAAGAAACGGGTCAGCGTGTACTGCGCCAAAAAAATTCGCGCCGATTTAAGCTAAACGTCCACAAACAAAAACAAAAATAAGAAATAGGTTGACAGTGGGTGAAAAATTCTCGAAGGTTTCATCTCCAAACAGTCAGTATATAAGTATTCGGGAAAGAGAGCCAATCTATCTTGTGGTGGGTCTATCTTAACCTTCTCTTTTTGGCAGTAGTAATTGTAAATCAAGACACATAAAACTATTTCACTCGCTAAACTTACATCTAAA\n"
     ]
    }
   ],
   "source": [
    "print(str(template.seq))"
   ]
  },
  {
   "cell_type": "markdown",
   "metadata": {},
   "source": [
    "The seguid checksum of the template should be\n",
    "\n",
    "```dhUnhx-hBD-pDrRnRhXKbhgsp_4```"
   ]
  },
  {
   "cell_type": "code",
   "execution_count": 9,
   "metadata": {
    "execution": {
     "iopub.execute_input": "2021-05-17T10:25:29.207709Z",
     "iopub.status.busy": "2021-05-17T10:25:29.206857Z",
     "iopub.status.idle": "2021-05-17T10:25:29.210694Z",
     "shell.execute_reply": "2021-05-17T10:25:29.210090Z"
    }
   },
   "outputs": [
    {
     "data": {
      "text/plain": [
       "dhUnhx-hBD-pDrRnRhXKbhgsp_4"
      ]
     },
     "execution_count": 1,
     "metadata": {},
     "output_type": "execute_result"
    }
   ],
   "source": [
    "template.seguid()"
   ]
  },
  {
   "cell_type": "markdown",
   "metadata": {},
   "source": [
    "Two primers are used to amplify the insert:"
   ]
  },
  {
   "cell_type": "code",
   "execution_count": 10,
   "metadata": {
    "execution": {
     "iopub.execute_input": "2021-05-17T10:25:29.215568Z",
     "iopub.status.busy": "2021-05-17T10:25:29.214971Z",
     "iopub.status.idle": "2021-05-17T10:25:29.217742Z",
     "shell.execute_reply": "2021-05-17T10:25:29.217100Z"
    }
   },
   "outputs": [],
   "source": [
    "fp,rp = parse_primers(\"\"\">1014_fw887\n",
    "                         ttaaatTAGTTCGGGAATCGAG\n",
    "                         >1013_rv887\n",
    "                         taattaaTTTAGATGTAAGTTTAGCGAG\"\"\")"
   ]
  },
  {
   "cell_type": "markdown",
   "metadata": {},
   "source": [
    "PCR to create the insert using the primers above."
   ]
  },
  {
   "cell_type": "code",
   "execution_count": 11,
   "metadata": {
    "execution": {
     "iopub.execute_input": "2021-05-17T10:25:29.224322Z",
     "iopub.status.busy": "2021-05-17T10:25:29.223162Z",
     "iopub.status.idle": "2021-05-17T10:25:29.229851Z",
     "shell.execute_reply": "2021-05-17T10:25:29.229075Z"
    }
   },
   "outputs": [],
   "source": [
    "prd = pcr(fp, rp, template)\n",
    "assert str(fp.seq) in prd"
   ]
  },
  {
   "cell_type": "markdown",
   "metadata": {},
   "source": [
    "The PCR product has this length in bp."
   ]
  },
  {
   "cell_type": "code",
   "execution_count": 12,
   "metadata": {
    "execution": {
     "iopub.execute_input": "2021-05-17T10:25:29.234848Z",
     "iopub.status.busy": "2021-05-17T10:25:29.234152Z",
     "iopub.status.idle": "2021-05-17T10:25:29.238017Z",
     "shell.execute_reply": "2021-05-17T10:25:29.237435Z"
    }
   },
   "outputs": [
    {
     "data": {
      "text/plain": [
       "900"
      ]
     },
     "execution_count": 1,
     "metadata": {},
     "output_type": "execute_result"
    }
   ],
   "source": [
    "len(prd)"
   ]
  },
  {
   "cell_type": "markdown",
   "metadata": {},
   "source": [
    "A figure of the primers annealing on template."
   ]
  },
  {
   "cell_type": "code",
   "execution_count": 13,
   "metadata": {
    "execution": {
     "iopub.execute_input": "2021-05-17T10:25:29.242792Z",
     "iopub.status.busy": "2021-05-17T10:25:29.241989Z",
     "iopub.status.idle": "2021-05-17T10:25:29.245483Z",
     "shell.execute_reply": "2021-05-17T10:25:29.246073Z"
    }
   },
   "outputs": [
    {
     "data": {
      "text/plain": [
       "      5TAGTTCGGGAATCGAG...CTCGCTAAACTTACATCTAAA3\n",
       "                          |||||||||||||||||||||\n",
       "                         3GAGCGATTTGAATGTAGATTTaattaat5\n",
       "5ttaaatTAGTTCGGGAATCGAG3\n",
       "       ||||||||||||||||\n",
       "      3ATCAAGCCCTTAGCTC...GAGCGATTTGAATGTAGATTT5"
      ]
     },
     "execution_count": 1,
     "metadata": {},
     "output_type": "execute_result"
    }
   ],
   "source": [
    "prd.figure()"
   ]
  },
  {
   "cell_type": "markdown",
   "metadata": {},
   "source": [
    "A suggested PCR program."
   ]
  },
  {
   "cell_type": "code",
   "execution_count": 14,
   "metadata": {
    "execution": {
     "iopub.execute_input": "2021-05-17T10:25:29.251549Z",
     "iopub.status.busy": "2021-05-17T10:25:29.250607Z",
     "iopub.status.idle": "2021-05-17T10:25:29.254537Z",
     "shell.execute_reply": "2021-05-17T10:25:29.253900Z"
    }
   },
   "outputs": [
    {
     "data": {
      "text/plain": [
       "|95°C|95°C               |    |tmf:54.5\n",
       "|____|_____          72°C|72°C|tmr:54.7\n",
       "|5min|30s  \\ 54.2°C _____|____|60s/kb\n",
       "|    |      \\______/ 0:54|5min|GC 39%\n",
       "|    |       30s         |    |900bp"
      ]
     },
     "execution_count": 1,
     "metadata": {},
     "output_type": "execute_result"
    }
   ],
   "source": [
    "prd.program()"
   ]
  },
  {
   "cell_type": "markdown",
   "metadata": {},
   "source": [
    "The final vectors are:"
   ]
  },
  {
   "cell_type": "code",
   "execution_count": 15,
   "metadata": {
    "execution": {
     "iopub.execute_input": "2021-05-17T10:25:29.288533Z",
     "iopub.status.busy": "2021-05-17T10:25:29.277503Z",
     "iopub.status.idle": "2021-05-17T10:25:29.805505Z",
     "shell.execute_reply": "2021-05-17T10:25:29.806065Z"
    }
   },
   "outputs": [],
   "source": [
    "pYPKa_Z_CIS3 = (pYPKa_ZraI  + prd).looped().synced(pYPKa)\n",
    "pYPKa_E_CIS3 = (pYPKa_EcoRV + prd).looped().synced(pYPKa)"
   ]
  },
  {
   "cell_type": "markdown",
   "metadata": {},
   "source": [
    "The final vectors with reverse inserts are created below. These vectors theoretically make up\n",
    "fifty percent of the clones. The PCR strategy outlined below can be used to identify clones with the insert\n",
    "in the correct orientation."
   ]
  },
  {
   "cell_type": "code",
   "execution_count": 16,
   "metadata": {
    "execution": {
     "iopub.execute_input": "2021-05-17T10:25:29.879945Z",
     "iopub.status.busy": "2021-05-17T10:25:29.844403Z",
     "iopub.status.idle": "2021-05-17T10:25:30.327856Z",
     "shell.execute_reply": "2021-05-17T10:25:30.326698Z"
    }
   },
   "outputs": [],
   "source": [
    "pYPKa_Z_CIS3b = (pYPKa_ZraI  + prd.rc()).looped().synced(pYPKa)\n",
    "pYPKa_E_CIS3b = (pYPKa_EcoRV + prd.rc()).looped().synced(pYPKa)"
   ]
  },
  {
   "cell_type": "markdown",
   "metadata": {},
   "source": [
    "A combination of yeast pathway kit standard primers and the primers above are\n",
    "used for the strategy to identify correct clones.\n",
    "Standard primers used in the yeast are listed [here](standard_primers.txt)."
   ]
  },
  {
   "cell_type": "code",
   "execution_count": 17,
   "metadata": {
    "execution": {
     "iopub.execute_input": "2021-05-17T10:25:30.334985Z",
     "iopub.status.busy": "2021-05-17T10:25:30.334258Z",
     "iopub.status.idle": "2021-05-17T10:25:30.336296Z",
     "shell.execute_reply": "2021-05-17T10:25:30.336715Z"
    }
   },
   "outputs": [],
   "source": [
    "p = { x.id: x for x in parse_primers(\"\"\">577\n",
    "                                         gttctgatcctcgagcatcttaagaattc\n",
    "                                         >578\n",
    "                                         gttcttgtctcattgccacattcataagt\n",
    "                                         >468\n",
    "                                         gtcgaggaacgccaggttgcccact\n",
    "                                         >467\n",
    "                                         ATTTAAatcctgatgcgtttgtctgcacaga\n",
    "                                         >567\n",
    "                                         GTcggctgcaggtcactagtgag\n",
    "                                         >568\n",
    "                                         GTGCcatctgtgcagacaaacg\n",
    "                                         >775\n",
    "                                         gcggccgctgacTTAAAT\n",
    "                                         >778\n",
    "                                         ggtaaatccggatTAATTAA\n",
    "                                         >342\n",
    "                                         CCTTTTTACGGTTCCTGGCCT\"\"\") }"
   ]
  },
  {
   "cell_type": "markdown",
   "metadata": {},
   "source": [
    "## Diagnostic PCR confirmation\n",
    "\n",
    "The correct structure of pYPKa_Z_CIS3 is confirmed by PCR using standard primers\n",
    "577 and 342 that are vector specific together with the CIS3fw primer specific for the insert\n",
    "in a multiplex PCR reaction with\n",
    "all three primers present.\n",
    "\n",
    "Two PCR products are expected if the insert was cloned, the sizes depend\n",
    "on the orientation. If the vector is empty or contains another insert, only one\n",
    "product is formed.\n",
    "\n",
    "#### Expected PCR products sizes from pYPKa_Z_CIS3:\n",
    "\n",
    "pYPKa_Z_CIS3 with insert in correct orientation."
   ]
  },
  {
   "cell_type": "code",
   "execution_count": 18,
   "metadata": {
    "execution": {
     "iopub.execute_input": "2021-05-17T10:25:30.355623Z",
     "iopub.status.busy": "2021-05-17T10:25:30.354977Z",
     "iopub.status.idle": "2021-05-17T10:25:30.361518Z",
     "shell.execute_reply": "2021-05-17T10:25:30.360627Z"
    }
   },
   "outputs": [
    {
     "data": {
      "text/plain": [
       "[Amplicon(1834), Amplicon(1666)]"
      ]
     },
     "execution_count": 1,
     "metadata": {},
     "output_type": "execute_result"
    }
   ],
   "source": [
    "Anneal( (p['577'], p['342'], fp), pYPKa_Z_CIS3).products"
   ]
  },
  {
   "cell_type": "markdown",
   "metadata": {},
   "source": [
    "pYPKa_Z_CIS3 with insert in reverse orientation."
   ]
  },
  {
   "cell_type": "code",
   "execution_count": 19,
   "metadata": {
    "execution": {
     "iopub.execute_input": "2021-05-17T10:25:30.373998Z",
     "iopub.status.busy": "2021-05-17T10:25:30.373400Z",
     "iopub.status.idle": "2021-05-17T10:25:30.381579Z",
     "shell.execute_reply": "2021-05-17T10:25:30.380553Z"
    }
   },
   "outputs": [
    {
     "data": {
      "text/plain": [
       "[Amplicon(1834), Amplicon(1068)]"
      ]
     },
     "execution_count": 1,
     "metadata": {},
     "output_type": "execute_result"
    }
   ],
   "source": [
    "Anneal( (p['577'], p['342'], fp), pYPKa_Z_CIS3b).products"
   ]
  },
  {
   "cell_type": "markdown",
   "metadata": {},
   "source": [
    "Empty pYPKa clone."
   ]
  },
  {
   "cell_type": "code",
   "execution_count": 20,
   "metadata": {
    "execution": {
     "iopub.execute_input": "2021-05-17T10:25:30.396442Z",
     "iopub.status.busy": "2021-05-17T10:25:30.394889Z",
     "iopub.status.idle": "2021-05-17T10:25:30.398709Z",
     "shell.execute_reply": "2021-05-17T10:25:30.399255Z"
    }
   },
   "outputs": [
    {
     "data": {
      "text/plain": [
       "[Amplicon(934)]"
      ]
     },
     "execution_count": 1,
     "metadata": {},
     "output_type": "execute_result"
    }
   ],
   "source": [
    "Anneal( (p['577'], p['342'], fp), pYPKa).products"
   ]
  },
  {
   "cell_type": "markdown",
   "metadata": {},
   "source": [
    "#### Expected PCR products sizes pYPKa_E_CIS3:\n",
    "\n",
    "pYPKa_E_CIS3 with insert in correct orientation."
   ]
  },
  {
   "cell_type": "code",
   "execution_count": 21,
   "metadata": {
    "execution": {
     "iopub.execute_input": "2021-05-17T10:25:30.414497Z",
     "iopub.status.busy": "2021-05-17T10:25:30.413669Z",
     "iopub.status.idle": "2021-05-17T10:25:30.416593Z",
     "shell.execute_reply": "2021-05-17T10:25:30.417065Z"
    }
   },
   "outputs": [
    {
     "data": {
      "text/plain": [
       "[Amplicon(1834), Amplicon(1585)]"
      ]
     },
     "execution_count": 1,
     "metadata": {},
     "output_type": "execute_result"
    }
   ],
   "source": [
    "Anneal( (p['577'], p['342'], fp), pYPKa_E_CIS3).products"
   ]
  },
  {
   "cell_type": "markdown",
   "metadata": {},
   "source": [
    "pYPKa_E_CIS3 with insert in reverse orientation."
   ]
  },
  {
   "cell_type": "code",
   "execution_count": 22,
   "metadata": {
    "execution": {
     "iopub.execute_input": "2021-05-17T10:25:30.431947Z",
     "iopub.status.busy": "2021-05-17T10:25:30.425634Z",
     "iopub.status.idle": "2021-05-17T10:25:30.435329Z",
     "shell.execute_reply": "2021-05-17T10:25:30.434817Z"
    }
   },
   "outputs": [
    {
     "data": {
      "text/plain": [
       "[Amplicon(1834), Amplicon(1149)]"
      ]
     },
     "execution_count": 1,
     "metadata": {},
     "output_type": "execute_result"
    }
   ],
   "source": [
    "Anneal( (p['577'], p['342'], fp), pYPKa_E_CIS3b).products\n"
   ]
  },
  {
   "cell_type": "markdown",
   "metadata": {},
   "source": [
    "Calculate cseguid checksums for the resulting plasmids for future reference.\n",
    "This checksum that uniquely describes a circular double stranded\n",
    "sequence. See this [blog post](https://ochsavidare.blogspot.com/2016/02/checksum-for-circular-biological.html) for more info.\n",
    "\n",
    "pYPKa_Z_CIS3.cseguid() should be VVt4KEp6f08YOIRhzitC9-TA4aw"
   ]
  },
  {
   "cell_type": "code",
   "execution_count": 23,
   "metadata": {
    "execution": {
     "iopub.execute_input": "2021-05-17T10:25:30.447403Z",
     "iopub.status.busy": "2021-05-17T10:25:30.446489Z",
     "iopub.status.idle": "2021-05-17T10:25:30.449552Z",
     "shell.execute_reply": "2021-05-17T10:25:30.450057Z"
    }
   },
   "outputs": [
    {
     "name": "stdout",
     "output_type": "stream",
     "text": [
      "VVt4KEp6f08YOIRhzitC9-TA4aw\n"
     ]
    }
   ],
   "source": [
    "print(pYPKa_Z_CIS3.cseguid())\n",
    "assert pYPKa_Z_CIS3.cseguid() == \"VVt4KEp6f08YOIRhzitC9-TA4aw\""
   ]
  },
  {
   "cell_type": "markdown",
   "metadata": {},
   "source": [
    "pYPKa_E_CIS3.cseguid() should be MdWLWgfKCHV8cnZy8oys2L3ZEpU"
   ]
  },
  {
   "cell_type": "code",
   "execution_count": 24,
   "metadata": {
    "execution": {
     "iopub.execute_input": "2021-05-17T10:25:30.461054Z",
     "iopub.status.busy": "2021-05-17T10:25:30.459933Z",
     "iopub.status.idle": "2021-05-17T10:25:30.463484Z",
     "shell.execute_reply": "2021-05-17T10:25:30.463024Z"
    }
   },
   "outputs": [
    {
     "name": "stdout",
     "output_type": "stream",
     "text": [
      "MdWLWgfKCHV8cnZy8oys2L3ZEpU\n"
     ]
    }
   ],
   "source": [
    "print(pYPKa_E_CIS3.cseguid())\n",
    "assert pYPKa_E_CIS3.cseguid() == \"MdWLWgfKCHV8cnZy8oys2L3ZEpU\""
   ]
  },
  {
   "cell_type": "markdown",
   "metadata": {},
   "source": [
    "The sequences are named based on the name of the cloned insert."
   ]
  },
  {
   "cell_type": "code",
   "execution_count": 25,
   "metadata": {
    "execution": {
     "iopub.execute_input": "2021-05-17T10:25:30.466975Z",
     "iopub.status.busy": "2021-05-17T10:25:30.466508Z",
     "iopub.status.idle": "2021-05-17T10:25:30.468795Z",
     "shell.execute_reply": "2021-05-17T10:25:30.468281Z"
    }
   },
   "outputs": [],
   "source": [
    "pYPKa_Z_CIS3.locus = \"pYPKa_Z_CIS3\"[:16]\n",
    "pYPKa_E_CIS3.locus = \"pYPKa_Z_CIS3\"[:16]"
   ]
  },
  {
   "cell_type": "markdown",
   "metadata": {},
   "source": [
    "Stamp sequence with cseguid checksum. This can be used to verify the\n",
    "integrity of the sequence file."
   ]
  },
  {
   "cell_type": "code",
   "execution_count": 26,
   "metadata": {
    "execution": {
     "iopub.execute_input": "2021-05-17T10:25:30.483218Z",
     "iopub.status.busy": "2021-05-17T10:25:30.482433Z",
     "iopub.status.idle": "2021-05-17T10:25:30.485606Z",
     "shell.execute_reply": "2021-05-17T10:25:30.485124Z"
    }
   },
   "outputs": [
    {
     "data": {
      "text/plain": [
       "cSEGUID_MdWLWgfKCHV8cnZy8oys2L3ZEpU"
      ]
     },
     "execution_count": 1,
     "metadata": {},
     "output_type": "execute_result"
    }
   ],
   "source": [
    "pYPKa_Z_CIS3.stamp()\n",
    "pYPKa_E_CIS3.stamp()"
   ]
  },
  {
   "cell_type": "markdown",
   "metadata": {},
   "source": [
    "pYPKa_Z_CIS3 is written to a local file:"
   ]
  },
  {
   "cell_type": "code",
   "execution_count": 27,
   "metadata": {
    "execution": {
     "iopub.execute_input": "2021-05-17T10:25:30.491956Z",
     "iopub.status.busy": "2021-05-17T10:25:30.490999Z",
     "iopub.status.idle": "2021-05-17T10:25:30.497654Z",
     "shell.execute_reply": "2021-05-17T10:25:30.498286Z"
    }
   },
   "outputs": [
    {
     "data": {
      "text/html": [
       "<font face=monospace><a href='pYPKa_Z_CIS3.gb' target='_blank'>pYPKa_Z_CIS3.gb</a></font><br>"
      ]
     },
     "metadata": {},
     "output_type": "display_data"
    }
   ],
   "source": [
    "pYPKa_Z_CIS3.write(\"pYPKa_Z_CIS3.gb\")"
   ]
  },
  {
   "cell_type": "markdown",
   "metadata": {},
   "source": [
    "pYPKa_E_CIS3 is written to a local file:"
   ]
  },
  {
   "cell_type": "code",
   "execution_count": 28,
   "metadata": {
    "execution": {
     "iopub.execute_input": "2021-05-17T10:25:30.502706Z",
     "iopub.status.busy": "2021-05-17T10:25:30.502126Z",
     "iopub.status.idle": "2021-05-17T10:25:30.509722Z",
     "shell.execute_reply": "2021-05-17T10:25:30.510253Z"
    }
   },
   "outputs": [
    {
     "data": {
      "text/html": [
       "<font face=monospace><a href='pYPKa_E_CIS3.gb' target='_blank'>pYPKa_E_CIS3.gb</a></font><br>"
      ]
     },
     "metadata": {},
     "output_type": "display_data"
    }
   ],
   "source": [
    "pYPKa_E_CIS3.write(\"pYPKa_E_CIS3.gb\")"
   ]
  }
 ],
 "metadata": {
  "language_info": {
   "codemirror_mode": {
    "name": "ipython",
    "version": 3
   },
   "file_extension": ".py",
   "mimetype": "text/x-python",
   "name": "python",
   "nbconvert_exporter": "python",
   "pygments_lexer": "ipython3",
   "version": "3.9.0"
  }
 },
 "nbformat": 4,
 "nbformat_minor": 2
}
