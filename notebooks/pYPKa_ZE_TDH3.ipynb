{
 "cells": [
  {
   "cell_type": "markdown",
   "metadata": {},
   "source": [
    "# pYPKa_Z_TDH3 and pYPKa_E_TDH3\n",
    "\n",
    "This Jupyter notebook describe the construction of E. coli vectors [pYPKa_Z_TDH3](pYPKa_Z_TDH3.gb) and [pYPKa_E_TDH3](pYPKa_E_TDH3.gb). \n",
    "These two vectors share backbone and insert, but in the former, the insert is cloned using the restriction\n",
    "enzyme [ZraI](http://rebase.neb.com/rebase/enz/ZraI.html) while in the latter [EcoRV](http://rebase.neb.com/rebase/enz/EcoRV.html) is used.\n",
    "\n",
    "The insert cloned in ZraI is meant to function as a promoter, while in the EcoRV site it is meant to be  used as a terminator.\n",
    "\n",
    "Links to the sequence of each vector in Genbank format can be found at the bottom of this document.\n",
    "\n",
    "![pYPKa_Z and pYPKa_E](figure_pYPKa_ZE.png \"pYPKa_Z or pYPKa_E plasmid\")\n",
    "\n",
    "The Python package [pydna](https://pypi.python.org/pypi/pydna/) package is imported in the code cell below to provide \n",
    "the cloning functionality. There is a [publication](http://www.biomedcentral.com/1471-2105/16/142) describing pydna as well as\n",
    "[documentation](http://pydna.readthedocs.io/) available online. Pydna is developed on [Github](https://github.com/BjornFJohansson/pydna)."
   ]
  },
  {
   "cell_type": "code",
   "execution_count": 1,
   "metadata": {
    "execution": {
     "iopub.execute_input": "2021-05-17T10:27:58.664355Z",
     "iopub.status.busy": "2021-05-17T10:27:58.662847Z",
     "iopub.status.idle": "2021-05-17T10:27:59.341916Z",
     "shell.execute_reply": "2021-05-17T10:27:59.343872Z"
    }
   },
   "outputs": [],
   "source": [
    "from pydna.readers import read\n",
    "from pydna.parsers import parse_primers\n",
    "from pydna.genbank import Genbank\n",
    "from pydna.amplify import pcr\n",
    "from pydna.amplify import Anneal"
   ]
  },
  {
   "cell_type": "markdown",
   "metadata": {},
   "source": [
    "The vector backbone pYPKa is read from a local [file](pYPKa.gb)."
   ]
  },
  {
   "cell_type": "code",
   "execution_count": 2,
   "metadata": {
    "execution": {
     "iopub.execute_input": "2021-05-17T10:27:59.363127Z",
     "iopub.status.busy": "2021-05-17T10:27:59.362258Z",
     "iopub.status.idle": "2021-05-17T10:27:59.395689Z",
     "shell.execute_reply": "2021-05-17T10:27:59.402973Z"
    }
   },
   "outputs": [],
   "source": [
    "pYPKa = read(\"pYPKa.gb\")"
   ]
  },
  {
   "cell_type": "markdown",
   "metadata": {},
   "source": [
    "Both restriction enzymes are imported from [Biopython](http://biopython.org/wiki/Main_Page)"
   ]
  },
  {
   "cell_type": "code",
   "execution_count": 3,
   "metadata": {
    "execution": {
     "iopub.execute_input": "2021-05-17T10:27:59.408273Z",
     "iopub.status.busy": "2021-05-17T10:27:59.406448Z",
     "iopub.status.idle": "2021-05-17T10:27:59.420628Z",
     "shell.execute_reply": "2021-05-17T10:27:59.423937Z"
    }
   },
   "outputs": [],
   "source": [
    "from Bio.Restriction import ZraI, EcoRV"
   ]
  },
  {
   "cell_type": "markdown",
   "metadata": {},
   "source": [
    "The vector is cut with both enzymes."
   ]
  },
  {
   "cell_type": "code",
   "execution_count": 4,
   "metadata": {
    "execution": {
     "iopub.execute_input": "2021-05-17T10:27:59.435166Z",
     "iopub.status.busy": "2021-05-17T10:27:59.434317Z",
     "iopub.status.idle": "2021-05-17T10:27:59.442910Z",
     "shell.execute_reply": "2021-05-17T10:27:59.445964Z"
    }
   },
   "outputs": [],
   "source": [
    "pYPKa_ZraI  = pYPKa.linearize(ZraI)\n",
    "pYPKa_EcoRV = pYPKa.linearize(EcoRV)"
   ]
  },
  {
   "cell_type": "markdown",
   "metadata": {},
   "source": [
    "The template below comes from a Genbank [record](http://www.ncbi.nlm.nih.gov/nuccore/BK006941.2).\n",
    "Access to Genbank is needed in order to download the template.\n",
    "If you execute this script, change the email address below to your own.\n",
    "Always tell Genbank who you are, when using their web service."
   ]
  },
  {
   "cell_type": "code",
   "execution_count": 5,
   "metadata": {
    "execution": {
     "iopub.execute_input": "2021-05-17T10:27:59.451038Z",
     "iopub.status.busy": "2021-05-17T10:27:59.450511Z",
     "iopub.status.idle": "2021-05-17T10:27:59.453913Z",
     "shell.execute_reply": "2021-05-17T10:27:59.454320Z"
    }
   },
   "outputs": [],
   "source": [
    "gb = Genbank(\"bjornjobb@gmail.com\")"
   ]
  },
  {
   "cell_type": "markdown",
   "metadata": {},
   "source": [
    "The template is downloaded from Genbank below."
   ]
  },
  {
   "cell_type": "code",
   "execution_count": 6,
   "metadata": {
    "execution": {
     "iopub.execute_input": "2021-05-17T10:27:59.463475Z",
     "iopub.status.busy": "2021-05-17T10:27:59.462585Z",
     "iopub.status.idle": "2021-05-17T10:27:59.470890Z",
     "shell.execute_reply": "2021-05-17T10:27:59.470448Z"
    }
   },
   "outputs": [],
   "source": [
    "template = gb.nucleotide(\"BK006941.2 REGION: complement(883811..884508)\")"
   ]
  },
  {
   "cell_type": "markdown",
   "metadata": {},
   "source": [
    "The template is a 698 bp linear DNA fragment."
   ]
  },
  {
   "cell_type": "code",
   "execution_count": 7,
   "metadata": {
    "execution": {
     "iopub.execute_input": "2021-05-17T10:27:59.483817Z",
     "iopub.status.busy": "2021-05-17T10:27:59.483376Z",
     "iopub.status.idle": "2021-05-17T10:27:59.488200Z",
     "shell.execute_reply": "2021-05-17T10:27:59.488558Z"
    }
   },
   "outputs": [
    {
     "data": {
      "text/plain": [
       "Dseq(-698)\n",
       "ATAA..CAAA\n",
       "TATT..GTTT"
      ]
     },
     "execution_count": 1,
     "metadata": {},
     "output_type": "execute_result"
    }
   ],
   "source": [
    "template.seq"
   ]
  },
  {
   "cell_type": "code",
   "execution_count": 8,
   "metadata": {
    "execution": {
     "iopub.execute_input": "2021-05-17T10:27:59.495876Z",
     "iopub.status.busy": "2021-05-17T10:27:59.493493Z",
     "iopub.status.idle": "2021-05-17T10:27:59.500208Z",
     "shell.execute_reply": "2021-05-17T10:27:59.499810Z"
    }
   },
   "outputs": [
    {
     "data": {
      "text/html": [
       "<a href='https://www.ncbi.nlm.nih.gov/nuccore/BK006941.2 ?from=883811&to=884508&strand=2' target='_blank'>BK006941.2  883811-884508</a>"
      ],
      "text/plain": [
       "Gbank(BK006941.2  883811-884508)(-698)"
      ]
     },
     "execution_count": 1,
     "metadata": {},
     "output_type": "execute_result"
    }
   ],
   "source": [
    "template"
   ]
  },
  {
   "cell_type": "markdown",
   "metadata": {},
   "source": [
    "The insert has the sequence shown below."
   ]
  },
  {
   "cell_type": "code",
   "execution_count": 9,
   "metadata": {
    "execution": {
     "iopub.execute_input": "2021-05-17T10:27:59.507853Z",
     "iopub.status.busy": "2021-05-17T10:27:59.504266Z",
     "iopub.status.idle": "2021-05-17T10:27:59.517740Z",
     "shell.execute_reply": "2021-05-17T10:27:59.518511Z"
    }
   },
   "outputs": [
    {
     "name": "stdout",
     "output_type": "stream",
     "text": [
      "ATAAAAAACACGCTTTTTCAGTTCGAGTTTATCATTATCAATACTGCCATTTCAAAGAATACGTAAATAATTAATAGTAGTGATTTTCCTAACTTTATTTAGTCAAAAAATTAGCCTTTTAATTCTGCTGTAACCCGTACATGCCCAAAATAGGGGGCGGGTTACACAGAATATATAACATCGTAGGTGTCTGGGTGAACAGTTTATTCCTGGCATCCACTAAATATAATGGAGCCCGCTTTTTAAGCTGGCATCCAGAAAAAAAAAGAATCCCAGCACCAAAATATTGTTTTCTTCACCAACCATCAGTTCATAGGTCCATTCTCTTAGCGCAACTACAGAGAACAGGGGCACAAACAGGCAAAAAACGGGCACAACCTCAATGGAGTGATGCAACCTGCCTGGAGTAAATGATGACACAAGGCAATTGACCCACGCATGTATCTATCTCATTTTCTTACACCTTCTATTACCTTCTGCTCTCTCTGATTTGGAAAAAGCTGAAAAAAAAGGTTGAAACCAGTTCCCTGAAATTATTCCCCTACTTGACTAATAAGTATATAAAGACGGTAGGTATTGATTGTAATTCTGTAAATCTATTTCTTAAACTTCTTAAATTCTACTTTTATAGTTAGTCTTTTTTTTAGTTTTAAAACACCAAGAACTTAGTTTCGAATAAACACACATAAACAAACAAA\n"
     ]
    }
   ],
   "source": [
    "print(str(template.seq))"
   ]
  },
  {
   "cell_type": "markdown",
   "metadata": {},
   "source": [
    "The seguid checksum of the template should be\n",
    "\n",
    "```7mYN7gVjDcNrIyVWTW02290Vtk0```"
   ]
  },
  {
   "cell_type": "code",
   "execution_count": 10,
   "metadata": {
    "execution": {
     "iopub.execute_input": "2021-05-17T10:27:59.529102Z",
     "iopub.status.busy": "2021-05-17T10:27:59.528417Z",
     "iopub.status.idle": "2021-05-17T10:27:59.537129Z",
     "shell.execute_reply": "2021-05-17T10:27:59.537753Z"
    }
   },
   "outputs": [
    {
     "data": {
      "text/plain": [
       "7mYN7gVjDcNrIyVWTW02290Vtk0"
      ]
     },
     "execution_count": 1,
     "metadata": {},
     "output_type": "execute_result"
    }
   ],
   "source": [
    "template.seguid()"
   ]
  },
  {
   "cell_type": "markdown",
   "metadata": {},
   "source": [
    "Two primers are used to amplify the insert:"
   ]
  },
  {
   "cell_type": "code",
   "execution_count": 11,
   "metadata": {
    "execution": {
     "iopub.execute_input": "2021-05-17T10:27:59.547000Z",
     "iopub.status.busy": "2021-05-17T10:27:59.546310Z",
     "iopub.status.idle": "2021-05-17T10:27:59.554121Z",
     "shell.execute_reply": "2021-05-17T10:27:59.554698Z"
    }
   },
   "outputs": [],
   "source": [
    "fp,rp = parse_primers(\"\"\">415_ScTDH3tpf\n",
    "                         TTAAATAATAAAAAACACGCTTTTTCAGT\n",
    "                         >623_ScTDH3tpr_PacI\n",
    "                         taattaaTTTGTTTGTTTATGTGTGTTTATTCG\"\"\")"
   ]
  },
  {
   "cell_type": "markdown",
   "metadata": {},
   "source": [
    "PCR to create the insert using the primers above."
   ]
  },
  {
   "cell_type": "code",
   "execution_count": 12,
   "metadata": {
    "execution": {
     "iopub.execute_input": "2021-05-17T10:27:59.562311Z",
     "iopub.status.busy": "2021-05-17T10:27:59.561520Z",
     "iopub.status.idle": "2021-05-17T10:27:59.567524Z",
     "shell.execute_reply": "2021-05-17T10:27:59.568313Z"
    }
   },
   "outputs": [],
   "source": [
    "prd = pcr(fp, rp, template)\n",
    "assert str(fp.seq) in prd"
   ]
  },
  {
   "cell_type": "markdown",
   "metadata": {},
   "source": [
    "The PCR product has this length in bp."
   ]
  },
  {
   "cell_type": "code",
   "execution_count": 13,
   "metadata": {
    "execution": {
     "iopub.execute_input": "2021-05-17T10:27:59.574166Z",
     "iopub.status.busy": "2021-05-17T10:27:59.573360Z",
     "iopub.status.idle": "2021-05-17T10:27:59.576456Z",
     "shell.execute_reply": "2021-05-17T10:27:59.577451Z"
    }
   },
   "outputs": [
    {
     "data": {
      "text/plain": [
       "712"
      ]
     },
     "execution_count": 1,
     "metadata": {},
     "output_type": "execute_result"
    }
   ],
   "source": [
    "len(prd)"
   ]
  },
  {
   "cell_type": "markdown",
   "metadata": {},
   "source": [
    "A figure of the primers annealing on template."
   ]
  },
  {
   "cell_type": "code",
   "execution_count": 14,
   "metadata": {
    "execution": {
     "iopub.execute_input": "2021-05-17T10:27:59.585131Z",
     "iopub.status.busy": "2021-05-17T10:27:59.582506Z",
     "iopub.status.idle": "2021-05-17T10:27:59.589053Z",
     "shell.execute_reply": "2021-05-17T10:27:59.589656Z"
    }
   },
   "outputs": [
    {
     "data": {
      "text/plain": [
       "       5ATAAAAAACACGCTTTTTCAGT...CGAATAAACACACATAAACAAACAAA3\n",
       "                                 ||||||||||||||||||||||||||\n",
       "                                3GCTTATTTGTGTGTATTTGTTTGTTTaattaat5\n",
       "5TTAAATAATAAAAAACACGCTTTTTCAGT3\n",
       "        ||||||||||||||||||||||\n",
       "       3TATTTTTTGTGCGAAAAAGTCA...GCTTATTTGTGTGTATTTGTTTGTTT5"
      ]
     },
     "execution_count": 1,
     "metadata": {},
     "output_type": "execute_result"
    }
   ],
   "source": [
    "prd.figure()"
   ]
  },
  {
   "cell_type": "markdown",
   "metadata": {},
   "source": [
    "A suggested PCR program."
   ]
  },
  {
   "cell_type": "code",
   "execution_count": 15,
   "metadata": {
    "execution": {
     "iopub.execute_input": "2021-05-17T10:27:59.596875Z",
     "iopub.status.busy": "2021-05-17T10:27:59.596186Z",
     "iopub.status.idle": "2021-05-17T10:27:59.602411Z",
     "shell.execute_reply": "2021-05-17T10:27:59.602990Z"
    }
   },
   "outputs": [
    {
     "data": {
      "text/plain": [
       "|95°C|95°C               |    |tmf:55.7\n",
       "|____|_____          72°C|72°C|tmr:58.2\n",
       "|5min|30s  \\ 52.9°C _____|____|60s/kb\n",
       "|    |      \\______/ 0:42|5min|GC 34%\n",
       "|    |       30s         |    |712bp"
      ]
     },
     "execution_count": 1,
     "metadata": {},
     "output_type": "execute_result"
    }
   ],
   "source": [
    "prd.program()"
   ]
  },
  {
   "cell_type": "markdown",
   "metadata": {},
   "source": [
    "The final vectors are:"
   ]
  },
  {
   "cell_type": "code",
   "execution_count": 16,
   "metadata": {
    "execution": {
     "iopub.execute_input": "2021-05-17T10:27:59.611356Z",
     "iopub.status.busy": "2021-05-17T10:27:59.610686Z",
     "iopub.status.idle": "2021-05-17T10:28:00.632905Z",
     "shell.execute_reply": "2021-05-17T10:28:00.633596Z"
    }
   },
   "outputs": [],
   "source": [
    "pYPKa_Z_TDH3 = (pYPKa_ZraI  + prd).looped().synced(pYPKa)\n",
    "pYPKa_E_TDH3 = (pYPKa_EcoRV + prd).looped().synced(pYPKa)"
   ]
  },
  {
   "cell_type": "markdown",
   "metadata": {},
   "source": [
    "The final vectors with reverse inserts are created below. These vectors theoretically make up\n",
    "fifty percent of the clones. The PCR strategy outlined below can be used to identify clones with the insert\n",
    "in the correct orientation."
   ]
  },
  {
   "cell_type": "code",
   "execution_count": 17,
   "metadata": {
    "execution": {
     "iopub.execute_input": "2021-05-17T10:28:00.691906Z",
     "iopub.status.busy": "2021-05-17T10:28:00.690892Z",
     "iopub.status.idle": "2021-05-17T10:28:01.821646Z",
     "shell.execute_reply": "2021-05-17T10:28:01.821120Z"
    }
   },
   "outputs": [],
   "source": [
    "pYPKa_Z_TDH3b = (pYPKa_ZraI  + prd.rc()).looped().synced(pYPKa)\n",
    "pYPKa_E_TDH3b = (pYPKa_EcoRV + prd.rc()).looped().synced(pYPKa)"
   ]
  },
  {
   "cell_type": "markdown",
   "metadata": {},
   "source": [
    "A combination of yeast pathway kit standard primers and the primers above are\n",
    "used for the strategy to identify correct clones.\n",
    "Standard primers used in the yeast are listed [here](standard_primers.txt)."
   ]
  },
  {
   "cell_type": "code",
   "execution_count": 18,
   "metadata": {
    "execution": {
     "iopub.execute_input": "2021-05-17T10:28:01.830827Z",
     "iopub.status.busy": "2021-05-17T10:28:01.830002Z",
     "iopub.status.idle": "2021-05-17T10:28:01.831957Z",
     "shell.execute_reply": "2021-05-17T10:28:01.832462Z"
    }
   },
   "outputs": [],
   "source": [
    "p = { x.id: x for x in parse_primers(\"\"\">577\n",
    "                                         gttctgatcctcgagcatcttaagaattc\n",
    "                                         >578\n",
    "                                         gttcttgtctcattgccacattcataagt\n",
    "                                         >468\n",
    "                                         gtcgaggaacgccaggttgcccact\n",
    "                                         >467\n",
    "                                         ATTTAAatcctgatgcgtttgtctgcacaga\n",
    "                                         >567\n",
    "                                         GTcggctgcaggtcactagtgag\n",
    "                                         >568\n",
    "                                         GTGCcatctgtgcagacaaacg\n",
    "                                         >775\n",
    "                                         gcggccgctgacTTAAAT\n",
    "                                         >778\n",
    "                                         ggtaaatccggatTAATTAA\n",
    "                                         >342\n",
    "                                         CCTTTTTACGGTTCCTGGCCT\"\"\") }"
   ]
  },
  {
   "cell_type": "markdown",
   "metadata": {},
   "source": [
    "## Diagnostic PCR confirmation\n",
    "\n",
    "The correct structure of pYPKa_Z_TDH3 is confirmed by PCR using standard primers\n",
    "577 and 342 that are vector specific together with the TDH3fw primer specific for the insert\n",
    "in a multiplex PCR reaction with\n",
    "all three primers present.\n",
    "\n",
    "Two PCR products are expected if the insert was cloned, the sizes depend\n",
    "on the orientation. If the vector is empty or contains another insert, only one\n",
    "product is formed.\n",
    "\n",
    "#### Expected PCR products sizes from pYPKa_Z_TDH3:\n",
    "\n",
    "pYPKa_Z_TDH3 with insert in correct orientation."
   ]
  },
  {
   "cell_type": "code",
   "execution_count": 19,
   "metadata": {
    "execution": {
     "iopub.execute_input": "2021-05-17T10:28:01.842828Z",
     "iopub.status.busy": "2021-05-17T10:28:01.842072Z",
     "iopub.status.idle": "2021-05-17T10:28:01.853844Z",
     "shell.execute_reply": "2021-05-17T10:28:01.854408Z"
    }
   },
   "outputs": [
    {
     "data": {
      "text/plain": [
       "[Amplicon(1646), Amplicon(1478)]"
      ]
     },
     "execution_count": 1,
     "metadata": {},
     "output_type": "execute_result"
    }
   ],
   "source": [
    "Anneal( (p['577'], p['342'], fp), pYPKa_Z_TDH3).products"
   ]
  },
  {
   "cell_type": "markdown",
   "metadata": {},
   "source": [
    "pYPKa_Z_TDH3 with insert in reverse orientation."
   ]
  },
  {
   "cell_type": "code",
   "execution_count": 20,
   "metadata": {
    "execution": {
     "iopub.execute_input": "2021-05-17T10:28:01.869937Z",
     "iopub.status.busy": "2021-05-17T10:28:01.868009Z",
     "iopub.status.idle": "2021-05-17T10:28:01.874411Z",
     "shell.execute_reply": "2021-05-17T10:28:01.873051Z"
    }
   },
   "outputs": [
    {
     "data": {
      "text/plain": [
       "[Amplicon(1646), Amplicon(880)]"
      ]
     },
     "execution_count": 1,
     "metadata": {},
     "output_type": "execute_result"
    }
   ],
   "source": [
    "Anneal( (p['577'], p['342'], fp), pYPKa_Z_TDH3b).products"
   ]
  },
  {
   "cell_type": "markdown",
   "metadata": {},
   "source": [
    "Empty pYPKa clone."
   ]
  },
  {
   "cell_type": "code",
   "execution_count": 21,
   "metadata": {
    "execution": {
     "iopub.execute_input": "2021-05-17T10:28:01.884875Z",
     "iopub.status.busy": "2021-05-17T10:28:01.884165Z",
     "iopub.status.idle": "2021-05-17T10:28:01.889582Z",
     "shell.execute_reply": "2021-05-17T10:28:01.890343Z"
    }
   },
   "outputs": [
    {
     "data": {
      "text/plain": [
       "[Amplicon(934)]"
      ]
     },
     "execution_count": 1,
     "metadata": {},
     "output_type": "execute_result"
    }
   ],
   "source": [
    "Anneal( (p['577'], p['342'], fp), pYPKa).products"
   ]
  },
  {
   "cell_type": "markdown",
   "metadata": {},
   "source": [
    "#### Expected PCR products sizes pYPKa_E_TDH3:\n",
    "\n",
    "pYPKa_E_TDH3 with insert in correct orientation."
   ]
  },
  {
   "cell_type": "code",
   "execution_count": 22,
   "metadata": {
    "execution": {
     "iopub.execute_input": "2021-05-17T10:28:01.912183Z",
     "iopub.status.busy": "2021-05-17T10:28:01.899807Z",
     "iopub.status.idle": "2021-05-17T10:28:01.919501Z",
     "shell.execute_reply": "2021-05-17T10:28:01.918792Z"
    }
   },
   "outputs": [
    {
     "data": {
      "text/plain": [
       "[Amplicon(1646), Amplicon(1397)]"
      ]
     },
     "execution_count": 1,
     "metadata": {},
     "output_type": "execute_result"
    }
   ],
   "source": [
    "Anneal( (p['577'], p['342'], fp), pYPKa_E_TDH3).products"
   ]
  },
  {
   "cell_type": "markdown",
   "metadata": {},
   "source": [
    "pYPKa_E_TDH3 with insert in reverse orientation."
   ]
  },
  {
   "cell_type": "code",
   "execution_count": 23,
   "metadata": {
    "execution": {
     "iopub.execute_input": "2021-05-17T10:28:01.938942Z",
     "iopub.status.busy": "2021-05-17T10:28:01.937878Z",
     "iopub.status.idle": "2021-05-17T10:28:01.942661Z",
     "shell.execute_reply": "2021-05-17T10:28:01.943837Z"
    }
   },
   "outputs": [
    {
     "data": {
      "text/plain": [
       "[Amplicon(1646), Amplicon(961)]"
      ]
     },
     "execution_count": 1,
     "metadata": {},
     "output_type": "execute_result"
    }
   ],
   "source": [
    "Anneal( (p['577'], p['342'], fp), pYPKa_E_TDH3b).products\n"
   ]
  },
  {
   "cell_type": "markdown",
   "metadata": {},
   "source": [
    "Calculate cseguid checksums for the resulting plasmids for future reference.\n",
    "This checksum that uniquely describes a circular double stranded\n",
    "sequence. See this [blog post](https://ochsavidare.blogspot.com/2016/02/checksum-for-circular-biological.html) for more info.\n",
    "\n",
    "pYPKa_Z_TDH3.cseguid() should be 1dD0IRJGyisMH7wXCirsMG08HnQ"
   ]
  },
  {
   "cell_type": "code",
   "execution_count": 24,
   "metadata": {
    "execution": {
     "iopub.execute_input": "2021-05-17T10:28:01.967242Z",
     "iopub.status.busy": "2021-05-17T10:28:01.965786Z",
     "iopub.status.idle": "2021-05-17T10:28:01.969789Z",
     "shell.execute_reply": "2021-05-17T10:28:01.970313Z"
    }
   },
   "outputs": [
    {
     "name": "stdout",
     "output_type": "stream",
     "text": [
      "1dD0IRJGyisMH7wXCirsMG08HnQ\n"
     ]
    }
   ],
   "source": [
    "print(pYPKa_Z_TDH3.cseguid())\n",
    "assert pYPKa_Z_TDH3.cseguid() == \"1dD0IRJGyisMH7wXCirsMG08HnQ\""
   ]
  },
  {
   "cell_type": "markdown",
   "metadata": {},
   "source": [
    "pYPKa_E_TDH3.cseguid() should be h1clDle64wo9AsT3Cie2P3KpSeE"
   ]
  },
  {
   "cell_type": "code",
   "execution_count": 25,
   "metadata": {
    "execution": {
     "iopub.execute_input": "2021-05-17T10:28:01.984224Z",
     "iopub.status.busy": "2021-05-17T10:28:01.983556Z",
     "iopub.status.idle": "2021-05-17T10:28:01.990119Z",
     "shell.execute_reply": "2021-05-17T10:28:01.991404Z"
    }
   },
   "outputs": [
    {
     "name": "stdout",
     "output_type": "stream",
     "text": [
      "h1clDle64wo9AsT3Cie2P3KpSeE\n"
     ]
    }
   ],
   "source": [
    "print(pYPKa_E_TDH3.cseguid())\n",
    "assert pYPKa_E_TDH3.cseguid() == \"h1clDle64wo9AsT3Cie2P3KpSeE\""
   ]
  },
  {
   "cell_type": "markdown",
   "metadata": {},
   "source": [
    "The sequences are named based on the name of the cloned insert."
   ]
  },
  {
   "cell_type": "code",
   "execution_count": 26,
   "metadata": {
    "execution": {
     "iopub.execute_input": "2021-05-17T10:28:01.997503Z",
     "iopub.status.busy": "2021-05-17T10:28:01.996416Z",
     "iopub.status.idle": "2021-05-17T10:28:02.002241Z",
     "shell.execute_reply": "2021-05-17T10:28:02.001850Z"
    }
   },
   "outputs": [],
   "source": [
    "pYPKa_Z_TDH3.locus = \"pYPKa_Z_TDH3\"[:16]\n",
    "pYPKa_E_TDH3.locus = \"pYPKa_Z_TDH3\"[:16]"
   ]
  },
  {
   "cell_type": "markdown",
   "metadata": {},
   "source": [
    "Stamp sequence with cseguid checksum. This can be used to verify the\n",
    "integrity of the sequence file."
   ]
  },
  {
   "cell_type": "code",
   "execution_count": 27,
   "metadata": {
    "execution": {
     "iopub.execute_input": "2021-05-17T10:28:02.018745Z",
     "iopub.status.busy": "2021-05-17T10:28:02.018000Z",
     "iopub.status.idle": "2021-05-17T10:28:02.022240Z",
     "shell.execute_reply": "2021-05-17T10:28:02.021865Z"
    }
   },
   "outputs": [
    {
     "data": {
      "text/plain": [
       "cSEGUID_h1clDle64wo9AsT3Cie2P3KpSeE"
      ]
     },
     "execution_count": 1,
     "metadata": {},
     "output_type": "execute_result"
    }
   ],
   "source": [
    "pYPKa_Z_TDH3.stamp()\n",
    "pYPKa_E_TDH3.stamp()"
   ]
  },
  {
   "cell_type": "markdown",
   "metadata": {},
   "source": [
    "pYPKa_Z_TDH3 is written to a local file:"
   ]
  },
  {
   "cell_type": "code",
   "execution_count": 28,
   "metadata": {
    "execution": {
     "iopub.execute_input": "2021-05-17T10:28:02.030632Z",
     "iopub.status.busy": "2021-05-17T10:28:02.029979Z",
     "iopub.status.idle": "2021-05-17T10:28:02.039464Z",
     "shell.execute_reply": "2021-05-17T10:28:02.040443Z"
    }
   },
   "outputs": [
    {
     "data": {
      "text/html": [
       "<font face=monospace><a href='pYPKa_Z_TDH3.gb' target='_blank'>pYPKa_Z_TDH3.gb</a></font><br>"
      ]
     },
     "metadata": {},
     "output_type": "display_data"
    }
   ],
   "source": [
    "pYPKa_Z_TDH3.write(\"pYPKa_Z_TDH3.gb\")"
   ]
  },
  {
   "cell_type": "markdown",
   "metadata": {},
   "source": [
    "pYPKa_E_TDH3 is written to a local file:"
   ]
  },
  {
   "cell_type": "code",
   "execution_count": 29,
   "metadata": {
    "execution": {
     "iopub.execute_input": "2021-05-17T10:28:02.046667Z",
     "iopub.status.busy": "2021-05-17T10:28:02.045697Z",
     "iopub.status.idle": "2021-05-17T10:28:02.055296Z",
     "shell.execute_reply": "2021-05-17T10:28:02.055990Z"
    }
   },
   "outputs": [
    {
     "data": {
      "text/html": [
       "<font face=monospace><a href='pYPKa_E_TDH3.gb' target='_blank'>pYPKa_E_TDH3.gb</a></font><br>"
      ]
     },
     "metadata": {},
     "output_type": "display_data"
    }
   ],
   "source": [
    "pYPKa_E_TDH3.write(\"pYPKa_E_TDH3.gb\")"
   ]
  }
 ],
 "metadata": {
  "kernelspec": {
   "display_name": "Python 3",
   "language": "python",
   "name": "python3"
  },
  "language_info": {
   "codemirror_mode": {
    "name": "ipython",
    "version": 3
   },
   "file_extension": ".py",
   "mimetype": "text/x-python",
   "name": "python",
   "nbconvert_exporter": "python",
   "pygments_lexer": "ipython3",
   "version": "3.9.0"
  }
 },
 "nbformat": 4,
 "nbformat_minor": 2
}
