{
 "cells": [
  {
   "cell_type": "markdown",
   "id": "streaming-neighbor",
   "metadata": {},
   "source": [
    "# pYPKa_Z_GPM1 and pYPKa_E_GPM1\n",
    "\n",
    "This Jupyter notebook describe the construction of E. coli vectors [pYPKa_Z_GPM1](pYPKa_Z_GPM1.gb) and [pYPKa_E_GPM1](pYPKa_E_GPM1.gb).\n",
    "These two vectors share backbone and insert, but in the former, the insert is cloned using the restriction\n",
    "enzyme [ZraI](http://rebase.neb.com/rebase/enz/ZraI.html) while in the latter [EcoRV](http://rebase.neb.com/rebase/enz/EcoRV.html) is used.\n",
    "\n",
    "The insert cloned in ZraI is meant to function as a promoter, while in the EcoRV site it is meant to be  used as a terminator.\n",
    "\n",
    "Links to the sequence of each vector in Genbank format can be found at the bottom of this document.\n",
    "\n",
    "![pYPKa_Z and pYPKa_E](figure_pYPKa_ZE.png \"pYPKa_Z or pYPKa_E plasmid\")\n",
    "\n",
    "The Python package [pydna](https://pypi.python.org/pypi/pydna/) package is imported in the code cell below to provide\n",
    "the cloning functionality. There is a [publication](http://www.biomedcentral.com/1471-2105/16/142) describing pydna as well as\n",
    "[documentation](http://pydna.readthedocs.io/) available online. Pydna is developed on [Github](https://github.com/BjornFJohansson/pydna)."
   ]
  },
  {
   "cell_type": "code",
   "execution_count": 1,
   "id": "alleged-cowboy",
   "metadata": {
    "execution": {
     "iopub.execute_input": "2021-05-17T10:25:48.566049Z",
     "iopub.status.busy": "2021-05-17T10:25:48.565125Z",
     "iopub.status.idle": "2021-05-17T10:25:49.060546Z",
     "shell.execute_reply": "2021-05-17T10:25:49.060001Z"
    },
    "tags": []
   },
   "outputs": [],
   "source": [
    "from pydna.readers import read\n",
    "from pydna.parsers import parse_primers\n",
    "from pydna.genbank import Genbank\n",
    "from pydna.amplify import pcr\n",
    "from pydna.amplify import Anneal"
   ]
  },
  {
   "cell_type": "markdown",
   "id": "formed-silicon",
   "metadata": {},
   "source": [
    "The vector backbone pYPKa is read from a local [file](pYPKa.gb)."
   ]
  },
  {
   "cell_type": "code",
   "execution_count": 2,
   "id": "mineral-cover",
   "metadata": {
    "execution": {
     "iopub.execute_input": "2021-05-17T10:25:49.069502Z",
     "iopub.status.busy": "2021-05-17T10:25:49.067942Z",
     "iopub.status.idle": "2021-05-17T10:25:49.084880Z",
     "shell.execute_reply": "2021-05-17T10:25:49.084383Z"
    },
    "tags": []
   },
   "outputs": [
    {
     "data": {
      "text/html": [
       "<a href='pYPKa.gb' target='_blank'>pYPKa.gb</a><br>"
      ],
      "text/plain": [
       "File(3128bp TmU_6uVdgKq5aQhTpHux7dVk9J8)(o3128)"
      ]
     },
     "execution_count": 1,
     "metadata": {},
     "output_type": "execute_result"
    }
   ],
   "source": [
    "pYPKa = read(\"pYPKa.gb\")\n",
    "pYPKa"
   ]
  },
  {
   "cell_type": "markdown",
   "id": "valid-modem",
   "metadata": {},
   "source": [
    "Both restriction enzymes are imported from [Biopython](http://biopython.org/wiki/Main_Page)"
   ]
  },
  {
   "cell_type": "code",
   "execution_count": 3,
   "id": "typical-asthma",
   "metadata": {
    "execution": {
     "iopub.execute_input": "2021-05-17T10:25:49.088421Z",
     "iopub.status.busy": "2021-05-17T10:25:49.087991Z",
     "iopub.status.idle": "2021-05-17T10:25:49.090351Z",
     "shell.execute_reply": "2021-05-17T10:25:49.089841Z"
    },
    "tags": []
   },
   "outputs": [],
   "source": [
    "from Bio.Restriction import ZraI, EcoRV"
   ]
  },
  {
   "cell_type": "markdown",
   "id": "approved-geology",
   "metadata": {},
   "source": [
    "The vector is cut with both enzymes."
   ]
  },
  {
   "cell_type": "code",
   "execution_count": 4,
   "id": "inappropriate-broadway",
   "metadata": {
    "execution": {
     "iopub.execute_input": "2021-05-17T10:25:49.097230Z",
     "iopub.status.busy": "2021-05-17T10:25:49.096663Z",
     "iopub.status.idle": "2021-05-17T10:25:49.099289Z",
     "shell.execute_reply": "2021-05-17T10:25:49.098734Z"
    },
    "tags": []
   },
   "outputs": [],
   "source": [
    "pYPKa_ZraI  = pYPKa.linearize(ZraI)\n",
    "pYPKa_EcoRV = pYPKa.linearize(EcoRV)"
   ]
  },
  {
   "cell_type": "markdown",
   "id": "respective-generation",
   "metadata": {},
   "source": [
    "The template below comes from a Genbank [record](http://www.ncbi.nlm.nih.gov/nuccore/part_BK0069442).\n",
    "Access to Genbank is needed in order to download the template.\n",
    "If you execute this script, change the email address below to your own.\n",
    "Always tell Genbank who you are, when using their web service."
   ]
  },
  {
   "cell_type": "code",
   "execution_count": 5,
   "id": "binding-national",
   "metadata": {
    "execution": {
     "iopub.execute_input": "2021-05-17T10:25:49.104425Z",
     "iopub.status.busy": "2021-05-17T10:25:49.103699Z",
     "iopub.status.idle": "2021-05-17T10:25:49.107196Z",
     "shell.execute_reply": "2021-05-17T10:25:49.106353Z"
    },
    "tags": []
   },
   "outputs": [],
   "source": [
    "gb = Genbank(\"bjornjobb@gmail.com\")"
   ]
  },
  {
   "cell_type": "markdown",
   "id": "congressional-comedy",
   "metadata": {},
   "source": [
    "The template is downloaded from Genbank below."
   ]
  },
  {
   "cell_type": "code",
   "execution_count": 6,
   "id": "collective-sunglasses",
   "metadata": {
    "execution": {
     "iopub.execute_input": "2021-05-17T10:25:49.112355Z",
     "iopub.status.busy": "2021-05-17T10:25:49.111718Z",
     "iopub.status.idle": "2021-05-17T10:25:49.122235Z",
     "shell.execute_reply": "2021-05-17T10:25:49.122762Z"
    },
    "tags": []
   },
   "outputs": [
    {
     "data": {
      "text/html": [
       "<a href='https://www.ncbi.nlm.nih.gov/nuccore/BK006944.2 ?from=164386&to=164916&strand=2' target='_blank'>BK006944.2  164386-164916</a>"
      ],
      "text/plain": [
       "Gbank(BK006944.2  164386-164916)(-531)"
      ]
     },
     "execution_count": 1,
     "metadata": {},
     "output_type": "execute_result"
    }
   ],
   "source": [
    "template = gb.nucleotide(\"BK006944.2 REGION: complement(164386..164916)\")\n",
    "template.features = []\n",
    "template"
   ]
  },
  {
   "cell_type": "markdown",
   "id": "latest-stereo",
   "metadata": {},
   "source": [
    "The template is a 531 bp linear DNA fragment."
   ]
  },
  {
   "cell_type": "code",
   "execution_count": 7,
   "id": "improving-remedy",
   "metadata": {
    "execution": {
     "iopub.execute_input": "2021-05-17T10:25:49.126234Z",
     "iopub.status.busy": "2021-05-17T10:25:49.125781Z",
     "iopub.status.idle": "2021-05-17T10:25:49.128105Z",
     "shell.execute_reply": "2021-05-17T10:25:49.127644Z"
    },
    "tags": []
   },
   "outputs": [],
   "source": [
    "template.add_feature(label=\"GPM1p\", type=\"promoter\")"
   ]
  },
  {
   "cell_type": "markdown",
   "id": "presidential-uganda",
   "metadata": {},
   "source": [
    "The insert has the sequence shown below."
   ]
  },
  {
   "cell_type": "code",
   "execution_count": 8,
   "id": "intense-banner",
   "metadata": {
    "execution": {
     "iopub.execute_input": "2021-05-17T10:25:49.132401Z",
     "iopub.status.busy": "2021-05-17T10:25:49.131746Z",
     "iopub.status.idle": "2021-05-17T10:25:49.134777Z",
     "shell.execute_reply": "2021-05-17T10:25:49.135396Z"
    },
    "tags": []
   },
   "outputs": [
    {
     "name": "stdout",
     "output_type": "stream",
     "text": [
      "CACATGCAGTGATGCACGCGCGATGGTGCTAAGTTACATATATATATATATATATATATATATATATATATAGCCATAGTGATGTCTAAGTAACCTTTATGGTATATTTCTTAATGTGGAAAGATACTAGCGCGCGCACCCACACACAAGCTTCGTCTTTTCTTGAAGAAAAGAGGAAGCTCGCTAAATGGGATTCCACTTTCCGTTCCCTGCCAGCTGATGGAAAAAGGTTAGTGGAACGATGAAGAATAAAAAGAGAGATCCACTGAGGTGAAATTTCAGCTGACAGCGAGTTTCATGATCGTGATGAACAATGGTAACGAGTTGTGGCTGTTGCCAGGGAGGGTGGTTCTCAACTTTTAATGTATGGCCAAATCGCTACTTGGGTTTGTTATATAACAAAGAAGAAATAATGAACTGATTCTCTTCCTCCTTCTTGTCCTTTCTTAATTCTGTTGTAATTACCTTCCTTTGTAATTTTTTTTGTAATTATTCTTCTTAATAATCCAAACAAACACACATATTACAATA\n"
     ]
    }
   ],
   "source": [
    "print(str(template.seq))"
   ]
  },
  {
   "cell_type": "markdown",
   "id": "solar-badge",
   "metadata": {},
   "source": [
    "The seguid checksum of the template should be\n",
    "\n",
    "```IDU9Swk3tHxJ4tri84Mnl3w2Vpk```"
   ]
  },
  {
   "cell_type": "code",
   "execution_count": 9,
   "id": "welsh-trinidad",
   "metadata": {
    "execution": {
     "iopub.execute_input": "2021-05-17T10:25:49.140324Z",
     "iopub.status.busy": "2021-05-17T10:25:49.139399Z",
     "iopub.status.idle": "2021-05-17T10:25:49.142669Z",
     "shell.execute_reply": "2021-05-17T10:25:49.143219Z"
    },
    "tags": []
   },
   "outputs": [
    {
     "data": {
      "text/plain": [
       "IDU9Swk3tHxJ4tri84Mnl3w2Vpk"
      ]
     },
     "execution_count": 1,
     "metadata": {},
     "output_type": "execute_result"
    }
   ],
   "source": [
    "template.seguid()"
   ]
  },
  {
   "cell_type": "markdown",
   "id": "accredited-stretch",
   "metadata": {},
   "source": [
    "Two primers are used to amplify the insert:"
   ]
  },
  {
   "cell_type": "code",
   "execution_count": 10,
   "id": "every-decimal",
   "metadata": {
    "execution": {
     "iopub.execute_input": "2021-05-17T10:25:49.147855Z",
     "iopub.status.busy": "2021-05-17T10:25:49.147305Z",
     "iopub.status.idle": "2021-05-17T10:25:49.149363Z",
     "shell.execute_reply": "2021-05-17T10:25:49.150015Z"
    },
    "tags": []
   },
   "outputs": [],
   "source": [
    "fp,rp = parse_primers(\"\"\">1042_fw_GPM1\n",
    "                         ttaaatCACATGCAGTGATGCACGCGCGA\n",
    "                         >1041_rv_GPM1\n",
    "                         taattaaTATTGTAATATGTGTGTTTGTT\"\"\")"
   ]
  },
  {
   "cell_type": "markdown",
   "id": "iraqi-interaction",
   "metadata": {},
   "source": [
    "PCR to create the insert using the primers above."
   ]
  },
  {
   "cell_type": "code",
   "execution_count": 11,
   "id": "laden-orchestra",
   "metadata": {
    "execution": {
     "iopub.execute_input": "2021-05-17T10:25:49.156051Z",
     "iopub.status.busy": "2021-05-17T10:25:49.155376Z",
     "iopub.status.idle": "2021-05-17T10:25:49.160767Z",
     "shell.execute_reply": "2021-05-17T10:25:49.160089Z"
    },
    "tags": []
   },
   "outputs": [],
   "source": [
    "prd = pcr(fp, rp, template)\n",
    "assert str(fp.seq) in prd"
   ]
  },
  {
   "cell_type": "markdown",
   "id": "crude-angola",
   "metadata": {},
   "source": [
    "The PCR product has this length in bp."
   ]
  },
  {
   "cell_type": "code",
   "execution_count": 12,
   "id": "complete-skill",
   "metadata": {
    "execution": {
     "iopub.execute_input": "2021-05-17T10:25:49.164836Z",
     "iopub.status.busy": "2021-05-17T10:25:49.164189Z",
     "iopub.status.idle": "2021-05-17T10:25:49.168092Z",
     "shell.execute_reply": "2021-05-17T10:25:49.167474Z"
    },
    "tags": []
   },
   "outputs": [
    {
     "data": {
      "text/plain": [
       "544"
      ]
     },
     "execution_count": 1,
     "metadata": {},
     "output_type": "execute_result"
    }
   ],
   "source": [
    "len(prd)"
   ]
  },
  {
   "cell_type": "markdown",
   "id": "manual-hobby",
   "metadata": {},
   "source": [
    "A figure of the primers annealing on template."
   ]
  },
  {
   "cell_type": "code",
   "execution_count": 13,
   "id": "horizontal-anatomy",
   "metadata": {
    "execution": {
     "iopub.execute_input": "2021-05-17T10:25:49.173128Z",
     "iopub.status.busy": "2021-05-17T10:25:49.172330Z",
     "iopub.status.idle": "2021-05-17T10:25:49.180124Z",
     "shell.execute_reply": "2021-05-17T10:25:49.179324Z"
    },
    "tags": []
   },
   "outputs": [
    {
     "data": {
      "text/plain": [
       "      5CACATGCAGTGATGCACGCGCGA...AACAAACACACATATTACAATA3\n",
       "                                 ||||||||||||||||||||||\n",
       "                                3TTGTTTGTGTGTATAATGTTATaattaat5\n",
       "5ttaaatCACATGCAGTGATGCACGCGCGA3\n",
       "       |||||||||||||||||||||||\n",
       "      3GTGTACGTCACTACGTGCGCGCT...TTGTTTGTGTGTATAATGTTAT5"
      ]
     },
     "execution_count": 1,
     "metadata": {},
     "output_type": "execute_result"
    }
   ],
   "source": [
    "prd.figure()"
   ]
  },
  {
   "cell_type": "markdown",
   "id": "accompanied-toyota",
   "metadata": {},
   "source": [
    "A suggested PCR program."
   ]
  },
  {
   "cell_type": "code",
   "execution_count": 14,
   "id": "satisfied-patio",
   "metadata": {
    "execution": {
     "iopub.execute_input": "2021-05-17T10:25:49.186173Z",
     "iopub.status.busy": "2021-05-17T10:25:49.185248Z",
     "iopub.status.idle": "2021-05-17T10:25:49.189337Z",
     "shell.execute_reply": "2021-05-17T10:25:49.188416Z"
    },
    "tags": []
   },
   "outputs": [
    {
     "data": {
      "text/plain": [
       "|95°C|95°C               |    |tmf:71.6\n",
       "|____|_____          72°C|72°C|tmr:52.8\n",
       "|5min|30s  \\ 52.2°C _____|____|60s/kb\n",
       "|    |      \\______/ 0:32|5min|GC 35%\n",
       "|    |       30s         |    |544bp"
      ]
     },
     "execution_count": 1,
     "metadata": {},
     "output_type": "execute_result"
    }
   ],
   "source": [
    "prd.program()"
   ]
  },
  {
   "cell_type": "markdown",
   "id": "going-moisture",
   "metadata": {},
   "source": [
    "The final vectors are:"
   ]
  },
  {
   "cell_type": "code",
   "execution_count": 15,
   "id": "successful-incentive",
   "metadata": {
    "execution": {
     "iopub.execute_input": "2021-05-17T10:25:49.263586Z",
     "iopub.status.busy": "2021-05-17T10:25:49.227857Z",
     "iopub.status.idle": "2021-05-17T10:25:49.955742Z",
     "shell.execute_reply": "2021-05-17T10:25:49.956173Z"
    },
    "tags": []
   },
   "outputs": [],
   "source": [
    "pYPKa_Z_GPM1 = (pYPKa_ZraI  + prd).looped().synced(pYPKa)\n",
    "pYPKa_E_GPM1 = (pYPKa_EcoRV + prd).looped().synced(pYPKa)"
   ]
  },
  {
   "cell_type": "markdown",
   "id": "italian-system",
   "metadata": {},
   "source": [
    "The final vectors with reverse inserts are created below. These vectors theoretically make up\n",
    "fifty percent of the clones. The PCR strategy outlined below can be used to identify clones with the insert\n",
    "in the correct orientation."
   ]
  },
  {
   "cell_type": "code",
   "execution_count": 16,
   "id": "supreme-banner",
   "metadata": {
    "execution": {
     "iopub.execute_input": "2021-05-17T10:25:50.015023Z",
     "iopub.status.busy": "2021-05-17T10:25:49.979217Z",
     "iopub.status.idle": "2021-05-17T10:25:50.757840Z",
     "shell.execute_reply": "2021-05-17T10:25:50.757362Z"
    },
    "tags": []
   },
   "outputs": [],
   "source": [
    "pYPKa_Z_GPM1b = (pYPKa_ZraI  + prd.rc()).looped().synced(pYPKa)\n",
    "pYPKa_E_GPM1b = (pYPKa_EcoRV + prd.rc()).looped().synced(pYPKa)"
   ]
  },
  {
   "cell_type": "markdown",
   "id": "later-charlotte",
   "metadata": {},
   "source": [
    "A combination of yeast pathway kit standard primers and the primers above are\n",
    "used for the strategy to identify correct clones.\n",
    "Standard primers used in the yeast are listed [here](standard_primers.txt)."
   ]
  },
  {
   "cell_type": "code",
   "execution_count": 17,
   "id": "indonesian-supplement",
   "metadata": {
    "execution": {
     "iopub.execute_input": "2021-05-17T10:25:50.762547Z",
     "iopub.status.busy": "2021-05-17T10:25:50.761918Z",
     "iopub.status.idle": "2021-05-17T10:25:50.764178Z",
     "shell.execute_reply": "2021-05-17T10:25:50.764750Z"
    },
    "tags": []
   },
   "outputs": [],
   "source": [
    "p = { x.id: x for x in parse_primers(\"\"\">577\n",
    "                                         gttctgatcctcgagcatcttaagaattc\n",
    "                                         >578\n",
    "                                         gttcttgtctcattgccacattcataagt\n",
    "                                         >468\n",
    "                                         gtcgaggaacgccaggttgcccact\n",
    "                                         >467\n",
    "                                         ATTTAAatcctgatgcgtttgtctgcacaga\n",
    "                                         >567\n",
    "                                         GTcggctgcaggtcactagtgag\n",
    "                                         >568\n",
    "                                         GTGCcatctgtgcagacaaacg\n",
    "                                         >775\n",
    "                                         gcggccgctgacTTAAAT\n",
    "                                         >778\n",
    "                                         ggtaaatccggatTAATTAA\n",
    "                                         >342\n",
    "                                         CCTTTTTACGGTTCCTGGCCT\"\"\") }"
   ]
  },
  {
   "cell_type": "markdown",
   "id": "desirable-spectacular",
   "metadata": {},
   "source": [
    "## Diagnostic PCR confirmation\n",
    "\n",
    "The correct structure of pYPKa_Z_GPM1 is confirmed by PCR using standard primers\n",
    "577 and 342 that are vector specific together with the GPM1fw primer specific for the insert\n",
    "in a multiplex PCR reaction with\n",
    "all three primers present.\n",
    "\n",
    "Two PCR products are expected if the insert was cloned, the sizes depend\n",
    "on the orientation. If the vector is empty or contains another insert, only one\n",
    "product is formed.\n",
    "\n",
    "#### Expected PCR products sizes from pYPKa_Z_GPM1:\n",
    "\n",
    "pYPKa_Z_GPM1 with insert in correct orientation."
   ]
  },
  {
   "cell_type": "code",
   "execution_count": 18,
   "id": "oriental-elder",
   "metadata": {
    "execution": {
     "iopub.execute_input": "2021-05-17T10:25:50.777479Z",
     "iopub.status.busy": "2021-05-17T10:25:50.776823Z",
     "iopub.status.idle": "2021-05-17T10:25:50.779431Z",
     "shell.execute_reply": "2021-05-17T10:25:50.779921Z"
    },
    "tags": []
   },
   "outputs": [
    {
     "data": {
      "text/plain": [
       "[Amplicon(1478), Amplicon(1310)]"
      ]
     },
     "execution_count": 1,
     "metadata": {},
     "output_type": "execute_result"
    }
   ],
   "source": [
    "Anneal( (p['577'], p['342'], fp), pYPKa_Z_GPM1).products"
   ]
  },
  {
   "cell_type": "markdown",
   "id": "headed-titanium",
   "metadata": {},
   "source": [
    "pYPKa_Z_GPM1 with insert in reverse orientation."
   ]
  },
  {
   "cell_type": "code",
   "execution_count": 19,
   "id": "dense-dependence",
   "metadata": {
    "execution": {
     "iopub.execute_input": "2021-05-17T10:25:50.789672Z",
     "iopub.status.busy": "2021-05-17T10:25:50.789011Z",
     "iopub.status.idle": "2021-05-17T10:25:50.792201Z",
     "shell.execute_reply": "2021-05-17T10:25:50.791684Z"
    },
    "tags": []
   },
   "outputs": [
    {
     "data": {
      "text/plain": [
       "[Amplicon(1478), Amplicon(712)]"
      ]
     },
     "execution_count": 1,
     "metadata": {},
     "output_type": "execute_result"
    }
   ],
   "source": [
    "Anneal( (p['577'], p['342'], fp), pYPKa_Z_GPM1b).products"
   ]
  },
  {
   "cell_type": "markdown",
   "id": "medieval-disposition",
   "metadata": {},
   "source": [
    "Empty pYPKa clone."
   ]
  },
  {
   "cell_type": "code",
   "execution_count": 20,
   "id": "modified-greek",
   "metadata": {
    "execution": {
     "iopub.execute_input": "2021-05-17T10:25:50.799709Z",
     "iopub.status.busy": "2021-05-17T10:25:50.798908Z",
     "iopub.status.idle": "2021-05-17T10:25:50.802365Z",
     "shell.execute_reply": "2021-05-17T10:25:50.801800Z"
    },
    "tags": []
   },
   "outputs": [
    {
     "data": {
      "text/plain": [
       "[Amplicon(934)]"
      ]
     },
     "execution_count": 1,
     "metadata": {},
     "output_type": "execute_result"
    }
   ],
   "source": [
    "Anneal( (p['577'], p['342'], fp), pYPKa).products"
   ]
  },
  {
   "cell_type": "markdown",
   "id": "discrete-heath",
   "metadata": {},
   "source": [
    "#### Expected PCR products sizes pYPKa_E_GPM1:\n",
    "\n",
    "pYPKa_E_GPM1 with insert in correct orientation."
   ]
  },
  {
   "cell_type": "code",
   "execution_count": 21,
   "id": "clear-calgary",
   "metadata": {
    "execution": {
     "iopub.execute_input": "2021-05-17T10:25:50.815820Z",
     "iopub.status.busy": "2021-05-17T10:25:50.815060Z",
     "iopub.status.idle": "2021-05-17T10:25:50.817802Z",
     "shell.execute_reply": "2021-05-17T10:25:50.818274Z"
    },
    "tags": []
   },
   "outputs": [
    {
     "data": {
      "text/plain": [
       "[Amplicon(1478), Amplicon(1229)]"
      ]
     },
     "execution_count": 1,
     "metadata": {},
     "output_type": "execute_result"
    }
   ],
   "source": [
    "Anneal( (p['577'], p['342'], fp), pYPKa_E_GPM1).products"
   ]
  },
  {
   "cell_type": "markdown",
   "id": "hispanic-bahrain",
   "metadata": {},
   "source": [
    "pYPKa_E_GPM1 with insert in reverse orientation."
   ]
  },
  {
   "cell_type": "code",
   "execution_count": 22,
   "id": "stuffed-income",
   "metadata": {
    "execution": {
     "iopub.execute_input": "2021-05-17T10:25:50.828435Z",
     "iopub.status.busy": "2021-05-17T10:25:50.825657Z",
     "iopub.status.idle": "2021-05-17T10:25:50.831935Z",
     "shell.execute_reply": "2021-05-17T10:25:50.831402Z"
    },
    "tags": []
   },
   "outputs": [
    {
     "data": {
      "text/plain": [
       "[Amplicon(1478), Amplicon(793)]"
      ]
     },
     "execution_count": 1,
     "metadata": {},
     "output_type": "execute_result"
    }
   ],
   "source": [
    "Anneal( (p['577'], p['342'], fp), pYPKa_E_GPM1b).products\n"
   ]
  },
  {
   "cell_type": "markdown",
   "id": "willing-chambers",
   "metadata": {},
   "source": [
    "Calculate cseguid checksums for the resulting plasmids for future reference.\n",
    "This checksum that uniquely describes a circular double stranded\n",
    "sequence. See this [blog post](https://ochsavidare.blogspot.com/2016/02/checksum-for-circular-biological.html) for more info.\n",
    "\n",
    "pYPKa_Z_GPM1.cseguid() should be 9yOsKF9ZIrtjLAZR6ZliNDez9eI"
   ]
  },
  {
   "cell_type": "code",
   "execution_count": 23,
   "id": "amino-drinking",
   "metadata": {
    "execution": {
     "iopub.execute_input": "2021-05-17T10:25:50.844461Z",
     "iopub.status.busy": "2021-05-17T10:25:50.843554Z",
     "iopub.status.idle": "2021-05-17T10:25:50.845968Z",
     "shell.execute_reply": "2021-05-17T10:25:50.846394Z"
    },
    "tags": []
   },
   "outputs": [
    {
     "name": "stdout",
     "output_type": "stream",
     "text": [
      "9yOsKF9ZIrtjLAZR6ZliNDez9eI\n"
     ]
    }
   ],
   "source": [
    "print(pYPKa_Z_GPM1.cseguid())\n",
    "assert pYPKa_Z_GPM1.cseguid() == \"9yOsKF9ZIrtjLAZR6ZliNDez9eI\""
   ]
  },
  {
   "cell_type": "markdown",
   "id": "familiar-denmark",
   "metadata": {},
   "source": [
    "pYPKa_E_GPM1.cseguid() should be pZA4rxXx1XTpOv33am9ywqbm3PQ"
   ]
  },
  {
   "cell_type": "code",
   "execution_count": 24,
   "id": "moral-above",
   "metadata": {
    "execution": {
     "iopub.execute_input": "2021-05-17T10:25:50.857332Z",
     "iopub.status.busy": "2021-05-17T10:25:50.852290Z",
     "iopub.status.idle": "2021-05-17T10:25:50.860075Z",
     "shell.execute_reply": "2021-05-17T10:25:50.860559Z"
    },
    "tags": []
   },
   "outputs": [
    {
     "name": "stdout",
     "output_type": "stream",
     "text": [
      "pZA4rxXx1XTpOv33am9ywqbm3PQ\n"
     ]
    }
   ],
   "source": [
    "print(pYPKa_E_GPM1.cseguid())\n",
    "assert pYPKa_E_GPM1.cseguid() == \"pZA4rxXx1XTpOv33am9ywqbm3PQ\""
   ]
  },
  {
   "cell_type": "markdown",
   "id": "exposed-writer",
   "metadata": {},
   "source": [
    "The sequences are named based on the name of the cloned insert."
   ]
  },
  {
   "cell_type": "code",
   "execution_count": 25,
   "id": "attempted-rates",
   "metadata": {
    "execution": {
     "iopub.execute_input": "2021-05-17T10:25:50.864227Z",
     "iopub.status.busy": "2021-05-17T10:25:50.863768Z",
     "iopub.status.idle": "2021-05-17T10:25:50.865435Z",
     "shell.execute_reply": "2021-05-17T10:25:50.865875Z"
    },
    "tags": []
   },
   "outputs": [],
   "source": [
    "pYPKa_Z_GPM1.locus = \"pYPKa_Z_GPM1\"[:16]\n",
    "pYPKa_E_GPM1.locus = \"pYPKa_Z_GPM1\"[:16]"
   ]
  },
  {
   "cell_type": "markdown",
   "id": "collected-turner",
   "metadata": {},
   "source": [
    "Stamp sequence with cseguid checksum. This can be used to verify the\n",
    "integrity of the sequence file."
   ]
  },
  {
   "cell_type": "code",
   "execution_count": 26,
   "id": "identical-saver",
   "metadata": {
    "execution": {
     "iopub.execute_input": "2021-05-17T10:25:50.877016Z",
     "iopub.status.busy": "2021-05-17T10:25:50.876249Z",
     "iopub.status.idle": "2021-05-17T10:25:50.878862Z",
     "shell.execute_reply": "2021-05-17T10:25:50.879300Z"
    },
    "tags": []
   },
   "outputs": [
    {
     "data": {
      "text/plain": [
       "cSEGUID_pZA4rxXx1XTpOv33am9ywqbm3PQ"
      ]
     },
     "execution_count": 1,
     "metadata": {},
     "output_type": "execute_result"
    }
   ],
   "source": [
    "pYPKa_Z_GPM1.stamp()\n",
    "pYPKa_E_GPM1.stamp()"
   ]
  },
  {
   "cell_type": "markdown",
   "id": "arbitrary-result",
   "metadata": {},
   "source": [
    "pYPKa_Z_GPM1 is written to a local file:"
   ]
  },
  {
   "cell_type": "code",
   "execution_count": 27,
   "id": "minute-biodiversity",
   "metadata": {
    "execution": {
     "iopub.execute_input": "2021-05-17T10:25:50.882705Z",
     "iopub.status.busy": "2021-05-17T10:25:50.882067Z",
     "iopub.status.idle": "2021-05-17T10:25:50.891648Z",
     "shell.execute_reply": "2021-05-17T10:25:50.892129Z"
    },
    "tags": []
   },
   "outputs": [
    {
     "data": {
      "text/html": [
       "<font face=monospace><a href='pYPKa_Z_GPM1.gb' target='_blank'>pYPKa_Z_GPM1.gb</a></font><br>"
      ]
     },
     "metadata": {},
     "output_type": "display_data"
    }
   ],
   "source": [
    "pYPKa_Z_GPM1.write(\"pYPKa_Z_GPM1.gb\")"
   ]
  },
  {
   "cell_type": "markdown",
   "id": "perfect-tackle",
   "metadata": {},
   "source": [
    "pYPKa_E_GPM1 is written to a local file:"
   ]
  },
  {
   "cell_type": "code",
   "execution_count": 28,
   "id": "taken-concrete",
   "metadata": {
    "execution": {
     "iopub.execute_input": "2021-05-17T10:25:50.895328Z",
     "iopub.status.busy": "2021-05-17T10:25:50.894837Z",
     "iopub.status.idle": "2021-05-17T10:25:50.900946Z",
     "shell.execute_reply": "2021-05-17T10:25:50.900482Z"
    },
    "tags": []
   },
   "outputs": [
    {
     "data": {
      "text/html": [
       "<font face=monospace><a href='pYPKa_E_GPM1.gb' target='_blank'>pYPKa_E_GPM1.gb</a></font><br>"
      ]
     },
     "metadata": {},
     "output_type": "display_data"
    }
   ],
   "source": [
    "pYPKa_E_GPM1.write(\"pYPKa_E_GPM1.gb\")"
   ]
  }
 ],
 "metadata": {
  "kernelspec": {
   "display_name": "Python [conda env:bjorn39]",
   "language": "python",
   "name": "conda-env-bjorn39-py"
  },
  "language_info": {
   "codemirror_mode": {
    "name": "ipython",
    "version": 3
   },
   "file_extension": ".py",
   "mimetype": "text/x-python",
   "name": "python",
   "nbconvert_exporter": "python",
   "pygments_lexer": "ipython3",
   "version": "3.9.0"
  }
 },
 "nbformat": 4,
 "nbformat_minor": 5
}
