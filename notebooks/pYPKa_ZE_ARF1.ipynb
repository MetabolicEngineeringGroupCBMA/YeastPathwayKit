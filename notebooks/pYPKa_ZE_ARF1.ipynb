{
 "cells": [
  {
   "cell_type": "markdown",
   "metadata": {},
   "source": [
    "# pYPKa_Z_ARF1 and pYPKa_E_ARF1\n",
    "\n",
    "This Jupyter notebook describe the construction of E. coli vectors [pYPKa_Z_ARF1](pYPKa_Z_ARF1.gb) and [pYPKa_E_ARF1](pYPKa_E_ARF1.gb). \n",
    "These two vectors share backbone and insert, but in the former, the insert is cloned using the restriction\n",
    "enzyme [ZraI](http://rebase.neb.com/rebase/enz/ZraI.html) while in the latter [EcoRV](http://rebase.neb.com/rebase/enz/EcoRV.html) is used.\n",
    "\n",
    "The insert cloned in ZraI is meant to function as a promoter, while in the EcoRV site it is meant to be  used as a terminator.\n",
    "\n",
    "Links to the sequence of each vector in Genbank format can be found at the bottom of this document.\n",
    "\n",
    "![pYPKa_Z and pYPKa_E](figure_pYPKa_ZE.png \"pYPKa_Z or pYPKa_E plasmid\")\n",
    "\n",
    "The Python package [pydna](https://pypi.python.org/pypi/pydna/) package is imported in the code cell below to provide \n",
    "the cloning functionality. There is a [publication](http://www.biomedcentral.com/1471-2105/16/142) describing pydna as well as\n",
    "[documentation](http://pydna.readthedocs.io/) available online. Pydna is developed on [Github](https://github.com/BjornFJohansson/pydna)."
   ]
  },
  {
   "cell_type": "code",
   "execution_count": 1,
   "metadata": {
    "execution": {
     "iopub.execute_input": "2021-05-17T10:25:22.593887Z",
     "iopub.status.busy": "2021-05-17T10:25:22.593368Z",
     "iopub.status.idle": "2021-05-17T10:25:23.090314Z",
     "shell.execute_reply": "2021-05-17T10:25:23.089373Z"
    }
   },
   "outputs": [],
   "source": [
    "from pydna.readers import read\n",
    "from pydna.parsers import parse_primers\n",
    "from pydna.genbank import Genbank\n",
    "from pydna.amplify import pcr\n",
    "from pydna.amplify import Anneal"
   ]
  },
  {
   "cell_type": "markdown",
   "metadata": {},
   "source": [
    "The vector backbone pYPKa is read from a local [file](pYPKa.gb)."
   ]
  },
  {
   "cell_type": "code",
   "execution_count": 2,
   "metadata": {
    "execution": {
     "iopub.execute_input": "2021-05-17T10:25:23.100099Z",
     "iopub.status.busy": "2021-05-17T10:25:23.098479Z",
     "iopub.status.idle": "2021-05-17T10:25:23.111020Z",
     "shell.execute_reply": "2021-05-17T10:25:23.110450Z"
    }
   },
   "outputs": [],
   "source": [
    "pYPKa = read(\"pYPKa.gb\")"
   ]
  },
  {
   "cell_type": "markdown",
   "metadata": {},
   "source": [
    "Both restriction enzymes are imported from [Biopython](http://biopython.org/wiki/Main_Page)"
   ]
  },
  {
   "cell_type": "code",
   "execution_count": 3,
   "metadata": {
    "execution": {
     "iopub.execute_input": "2021-05-17T10:25:23.114417Z",
     "iopub.status.busy": "2021-05-17T10:25:23.113818Z",
     "iopub.status.idle": "2021-05-17T10:25:23.116350Z",
     "shell.execute_reply": "2021-05-17T10:25:23.115848Z"
    }
   },
   "outputs": [],
   "source": [
    "from Bio.Restriction import ZraI, EcoRV"
   ]
  },
  {
   "cell_type": "markdown",
   "metadata": {},
   "source": [
    "The vector is cut with both enzymes."
   ]
  },
  {
   "cell_type": "code",
   "execution_count": 4,
   "metadata": {
    "execution": {
     "iopub.execute_input": "2021-05-17T10:25:23.124472Z",
     "iopub.status.busy": "2021-05-17T10:25:23.123822Z",
     "iopub.status.idle": "2021-05-17T10:25:23.126706Z",
     "shell.execute_reply": "2021-05-17T10:25:23.126066Z"
    }
   },
   "outputs": [],
   "source": [
    "pYPKa_ZraI  = pYPKa.linearize(ZraI)\n",
    "pYPKa_EcoRV = pYPKa.linearize(EcoRV)"
   ]
  },
  {
   "cell_type": "markdown",
   "metadata": {},
   "source": [
    "The template below comes from a Genbank [record](http://www.ncbi.nlm.nih.gov/nuccore/BK006938.2).\n",
    "Access to Genbank is needed in order to download the template.\n",
    "If you execute this script, change the email address below to your own.\n",
    "Always tell Genbank who you are, when using their web service."
   ]
  },
  {
   "cell_type": "code",
   "execution_count": 5,
   "metadata": {
    "execution": {
     "iopub.execute_input": "2021-05-17T10:25:23.131922Z",
     "iopub.status.busy": "2021-05-17T10:25:23.131322Z",
     "iopub.status.idle": "2021-05-17T10:25:23.133443Z",
     "shell.execute_reply": "2021-05-17T10:25:23.134035Z"
    }
   },
   "outputs": [],
   "source": [
    "gb = Genbank(\"bjornjobb@gmail.com\")"
   ]
  },
  {
   "cell_type": "markdown",
   "metadata": {},
   "source": [
    "The template is downloaded from Genbank below."
   ]
  },
  {
   "cell_type": "code",
   "execution_count": 6,
   "metadata": {
    "execution": {
     "iopub.execute_input": "2021-05-17T10:25:23.138594Z",
     "iopub.status.busy": "2021-05-17T10:25:23.137979Z",
     "iopub.status.idle": "2021-05-17T10:25:23.154425Z",
     "shell.execute_reply": "2021-05-17T10:25:23.154056Z"
    }
   },
   "outputs": [
    {
     "data": {
      "text/html": [
       "<a href='https://www.ncbi.nlm.nih.gov/nuccore/BK006938.2 ?from=115800&to=116320&strand=1' target='_blank'>BK006938.2  115800-116320</a>"
      ],
      "text/plain": [
       "Gbank(BK006938.2  115800-116320)(-521)"
      ]
     },
     "execution_count": 1,
     "metadata": {},
     "output_type": "execute_result"
    }
   ],
   "source": [
    "template = gb.nucleotide(\"BK006938.2 REGION: 115800..116320\")\n",
    "template"
   ]
  },
  {
   "cell_type": "markdown",
   "metadata": {},
   "source": [
    "The template is a 521 bp linear DNA fragment."
   ]
  },
  {
   "cell_type": "code",
   "execution_count": 7,
   "metadata": {
    "execution": {
     "iopub.execute_input": "2021-05-17T10:25:23.157683Z",
     "iopub.status.busy": "2021-05-17T10:25:23.157235Z",
     "iopub.status.idle": "2021-05-17T10:25:23.159104Z",
     "shell.execute_reply": "2021-05-17T10:25:23.159528Z"
    }
   },
   "outputs": [],
   "source": [
    "template.add_feature(label=\"ARF1p\", type=\"promoter\")"
   ]
  },
  {
   "cell_type": "markdown",
   "metadata": {},
   "source": [
    "The insert has the sequence shown below."
   ]
  },
  {
   "cell_type": "code",
   "execution_count": 8,
   "metadata": {
    "execution": {
     "iopub.execute_input": "2021-05-17T10:25:23.164339Z",
     "iopub.status.busy": "2021-05-17T10:25:23.163304Z",
     "iopub.status.idle": "2021-05-17T10:25:23.167753Z",
     "shell.execute_reply": "2021-05-17T10:25:23.167115Z"
    }
   },
   "outputs": [
    {
     "name": "stdout",
     "output_type": "stream",
     "text": [
      "TACTTAAGAGCTAAACGAAAAGATAAGTATCTCGCTCAACCTTTTAATTTTGCACAGTTGAATTCTCGTCTGATACTTAAGAAAGTCATTGCCCACATATATAACAGTAGTAATAATGATAATGATAGCAATAGTTTTAAGCTAGCTACTTAGTTGCATTTTTCAATAGTTTAGTAAAAAAAGTCACGCAATAAGCTCTCAAGAAGCCACTAATACCGTAATGATAGCAGTTTATTGTAGAAAAACCATGTTATTACCCTTCCCTTTTTATTTCTTTTCGCGTTGCAAATCACATATAACGAGGTGGCTTGTATTTGTCAAACCAAAAAAAAAAATGAAAATCGAAAAATGGAAAAACAGAGAGAGAAACGGAATCTTTGACACGTTCTCGATCCACTTGTTTATCGAGGTGGTTTTTATAAGTCTTACTAGATAGAAAGTTCATTTTGTTTTGAAACTTTTTGGAACCTCTGGCATTGAAGGTATAAGAAAGAACTCAAACAGGTTTAATAGAATTAAAA\n"
     ]
    }
   ],
   "source": [
    "print(str(template.seq))"
   ]
  },
  {
   "cell_type": "markdown",
   "metadata": {},
   "source": [
    "The seguid checksum of the template should be\n",
    "\n",
    "```I3W5nJJqK8ygBAdTH0gbQgTpGqw```"
   ]
  },
  {
   "cell_type": "code",
   "execution_count": 9,
   "metadata": {
    "execution": {
     "iopub.execute_input": "2021-05-17T10:25:23.171703Z",
     "iopub.status.busy": "2021-05-17T10:25:23.171036Z",
     "iopub.status.idle": "2021-05-17T10:25:23.173586Z",
     "shell.execute_reply": "2021-05-17T10:25:23.174031Z"
    }
   },
   "outputs": [
    {
     "data": {
      "text/plain": [
       "I3W5nJJqK8ygBAdTH0gbQgTpGqw"
      ]
     },
     "execution_count": 1,
     "metadata": {},
     "output_type": "execute_result"
    }
   ],
   "source": [
    "template.seguid()"
   ]
  },
  {
   "cell_type": "markdown",
   "metadata": {},
   "source": [
    "Two primers are used to amplify the insert:"
   ]
  },
  {
   "cell_type": "code",
   "execution_count": 10,
   "metadata": {
    "execution": {
     "iopub.execute_input": "2021-05-17T10:25:23.178768Z",
     "iopub.status.busy": "2021-05-17T10:25:23.177916Z",
     "iopub.status.idle": "2021-05-17T10:25:23.181557Z",
     "shell.execute_reply": "2021-05-17T10:25:23.180722Z"
    }
   },
   "outputs": [],
   "source": [
    "fp,rp = parse_primers(\"\"\">1006_fw521\n",
    "                         ttaaatTACTTAAGAGCTAAACGAAAA\n",
    "                         >1005_rv521\n",
    "                         taattaaTTTTAATTCTATTAAACCTGTT\"\"\")"
   ]
  },
  {
   "cell_type": "markdown",
   "metadata": {},
   "source": [
    "PCR to create the insert using the primers above."
   ]
  },
  {
   "cell_type": "code",
   "execution_count": 11,
   "metadata": {
    "execution": {
     "iopub.execute_input": "2021-05-17T10:25:23.187847Z",
     "iopub.status.busy": "2021-05-17T10:25:23.187134Z",
     "iopub.status.idle": "2021-05-17T10:25:23.192467Z",
     "shell.execute_reply": "2021-05-17T10:25:23.193143Z"
    }
   },
   "outputs": [],
   "source": [
    "prd = pcr(fp, rp, template)\n",
    "assert str(fp.seq) in prd"
   ]
  },
  {
   "cell_type": "markdown",
   "metadata": {},
   "source": [
    "The PCR product has this length in bp."
   ]
  },
  {
   "cell_type": "code",
   "execution_count": 12,
   "metadata": {
    "execution": {
     "iopub.execute_input": "2021-05-17T10:25:23.197579Z",
     "iopub.status.busy": "2021-05-17T10:25:23.196916Z",
     "iopub.status.idle": "2021-05-17T10:25:23.200069Z",
     "shell.execute_reply": "2021-05-17T10:25:23.200650Z"
    }
   },
   "outputs": [
    {
     "data": {
      "text/plain": [
       "534"
      ]
     },
     "execution_count": 1,
     "metadata": {},
     "output_type": "execute_result"
    }
   ],
   "source": [
    "len(prd)"
   ]
  },
  {
   "cell_type": "markdown",
   "metadata": {},
   "source": [
    "A figure of the primers annealing on template."
   ]
  },
  {
   "cell_type": "code",
   "execution_count": 13,
   "metadata": {
    "execution": {
     "iopub.execute_input": "2021-05-17T10:25:23.205790Z",
     "iopub.status.busy": "2021-05-17T10:25:23.204951Z",
     "iopub.status.idle": "2021-05-17T10:25:23.208755Z",
     "shell.execute_reply": "2021-05-17T10:25:23.209475Z"
    }
   },
   "outputs": [
    {
     "data": {
      "text/plain": [
       "      5TACTTAAGAGCTAAACGAAAA...AACAGGTTTAATAGAATTAAAA3\n",
       "                               ||||||||||||||||||||||\n",
       "                              3TTGTCCAAATTATCTTAATTTTaattaat5\n",
       "5ttaaatTACTTAAGAGCTAAACGAAAA3\n",
       "       |||||||||||||||||||||\n",
       "      3ATGAATTCTCGATTTGCTTTT...TTGTCCAAATTATCTTAATTTT5"
      ]
     },
     "execution_count": 1,
     "metadata": {},
     "output_type": "execute_result"
    }
   ],
   "source": [
    "prd.figure()"
   ]
  },
  {
   "cell_type": "markdown",
   "metadata": {},
   "source": [
    "A suggested PCR program."
   ]
  },
  {
   "cell_type": "code",
   "execution_count": 14,
   "metadata": {
    "execution": {
     "iopub.execute_input": "2021-05-17T10:25:23.214937Z",
     "iopub.status.busy": "2021-05-17T10:25:23.214340Z",
     "iopub.status.idle": "2021-05-17T10:25:23.217482Z",
     "shell.execute_reply": "2021-05-17T10:25:23.218058Z"
    }
   },
   "outputs": [
    {
     "data": {
      "text/plain": [
       "|95°C|95°C               |    |tmf:54.0\n",
       "|____|_____          72°C|72°C|tmr:50.9\n",
       "|5min|30s  \\ 50.3°C _____|____|60s/kb\n",
       "|    |      \\______/ 0:32|5min|GC 31%\n",
       "|    |       30s         |    |534bp"
      ]
     },
     "execution_count": 1,
     "metadata": {},
     "output_type": "execute_result"
    }
   ],
   "source": [
    "prd.program()"
   ]
  },
  {
   "cell_type": "markdown",
   "metadata": {},
   "source": [
    "The final vectors are:"
   ]
  },
  {
   "cell_type": "code",
   "execution_count": 15,
   "metadata": {
    "execution": {
     "iopub.execute_input": "2021-05-17T10:25:23.266578Z",
     "iopub.status.busy": "2021-05-17T10:25:23.230849Z",
     "iopub.status.idle": "2021-05-17T10:25:23.667695Z",
     "shell.execute_reply": "2021-05-17T10:25:23.667173Z"
    }
   },
   "outputs": [],
   "source": [
    "pYPKa_Z_ARF1 = (pYPKa_ZraI  + prd).looped().synced(pYPKa)\n",
    "pYPKa_E_ARF1 = (pYPKa_EcoRV + prd).looped().synced(pYPKa)"
   ]
  },
  {
   "cell_type": "markdown",
   "metadata": {},
   "source": [
    "The final vectors with reverse inserts are created below. These vectors theoretically make up\n",
    "fifty percent of the clones. The PCR strategy outlined below can be used to identify clones with the insert\n",
    "in the correct orientation."
   ]
  },
  {
   "cell_type": "code",
   "execution_count": 16,
   "metadata": {
    "execution": {
     "iopub.execute_input": "2021-05-17T10:25:23.685009Z",
     "iopub.status.busy": "2021-05-17T10:25:23.679991Z",
     "iopub.status.idle": "2021-05-17T10:25:24.118089Z",
     "shell.execute_reply": "2021-05-17T10:25:24.117513Z"
    }
   },
   "outputs": [],
   "source": [
    "pYPKa_Z_ARF1b = (pYPKa_ZraI  + prd.rc()).looped().synced(pYPKa)\n",
    "pYPKa_E_ARF1b = (pYPKa_EcoRV + prd.rc()).looped().synced(pYPKa)"
   ]
  },
  {
   "cell_type": "markdown",
   "metadata": {},
   "source": [
    "A combination of yeast pathway kit standard primers and the primers above are\n",
    "used for the strategy to identify correct clones.\n",
    "Standard primers used in the yeast are listed [here](standard_primers.txt)."
   ]
  },
  {
   "cell_type": "code",
   "execution_count": 17,
   "metadata": {
    "execution": {
     "iopub.execute_input": "2021-05-17T10:25:24.122976Z",
     "iopub.status.busy": "2021-05-17T10:25:24.122340Z",
     "iopub.status.idle": "2021-05-17T10:25:24.125241Z",
     "shell.execute_reply": "2021-05-17T10:25:24.124556Z"
    }
   },
   "outputs": [],
   "source": [
    "p = { x.id: x for x in parse_primers(\"\"\">577\n",
    "                                         gttctgatcctcgagcatcttaagaattc\n",
    "                                         >578\n",
    "                                         gttcttgtctcattgccacattcataagt\n",
    "                                         >468\n",
    "                                         gtcgaggaacgccaggttgcccact\n",
    "                                         >467\n",
    "                                         ATTTAAatcctgatgcgtttgtctgcacaga\n",
    "                                         >567\n",
    "                                         GTcggctgcaggtcactagtgag\n",
    "                                         >568\n",
    "                                         GTGCcatctgtgcagacaaacg\n",
    "                                         >775\n",
    "                                         gcggccgctgacTTAAAT\n",
    "                                         >778\n",
    "                                         ggtaaatccggatTAATTAA\n",
    "                                         >342\n",
    "                                         CCTTTTTACGGTTCCTGGCCT\"\"\") }"
   ]
  },
  {
   "cell_type": "markdown",
   "metadata": {},
   "source": [
    "## Diagnostic PCR confirmation\n",
    "\n",
    "The correct structure of pYPKa_Z_ARF1 is confirmed by PCR using standard primers\n",
    "577 and 342 that are vector specific together with the ARF1fw primer specific for the insert\n",
    "in a multiplex PCR reaction with\n",
    "all three primers present.\n",
    "\n",
    "Two PCR products are expected if the insert was cloned, the sizes depend\n",
    "on the orientation. If the vector is empty or contains another insert, only one\n",
    "product is formed.\n",
    "\n",
    "#### Expected PCR products sizes from pYPKa_Z_ARF1:\n",
    "\n",
    "pYPKa_Z_ARF1 with insert in correct orientation."
   ]
  },
  {
   "cell_type": "code",
   "execution_count": 18,
   "metadata": {
    "execution": {
     "iopub.execute_input": "2021-05-17T10:25:24.138338Z",
     "iopub.status.busy": "2021-05-17T10:25:24.133101Z",
     "iopub.status.idle": "2021-05-17T10:25:24.143861Z",
     "shell.execute_reply": "2021-05-17T10:25:24.143317Z"
    }
   },
   "outputs": [
    {
     "data": {
      "text/plain": [
       "[Amplicon(1468), Amplicon(1300)]"
      ]
     },
     "execution_count": 1,
     "metadata": {},
     "output_type": "execute_result"
    }
   ],
   "source": [
    "Anneal( (p['577'], p['342'], fp), pYPKa_Z_ARF1).products"
   ]
  },
  {
   "cell_type": "markdown",
   "metadata": {},
   "source": [
    "pYPKa_Z_ARF1 with insert in reverse orientation."
   ]
  },
  {
   "cell_type": "code",
   "execution_count": 19,
   "metadata": {
    "execution": {
     "iopub.execute_input": "2021-05-17T10:25:24.155422Z",
     "iopub.status.busy": "2021-05-17T10:25:24.154553Z",
     "iopub.status.idle": "2021-05-17T10:25:24.158237Z",
     "shell.execute_reply": "2021-05-17T10:25:24.157679Z"
    }
   },
   "outputs": [
    {
     "data": {
      "text/plain": [
       "[Amplicon(1468), Amplicon(702)]"
      ]
     },
     "execution_count": 1,
     "metadata": {},
     "output_type": "execute_result"
    }
   ],
   "source": [
    "Anneal( (p['577'], p['342'], fp), pYPKa_Z_ARF1b).products"
   ]
  },
  {
   "cell_type": "markdown",
   "metadata": {},
   "source": [
    "Empty pYPKa clone."
   ]
  },
  {
   "cell_type": "code",
   "execution_count": 20,
   "metadata": {
    "execution": {
     "iopub.execute_input": "2021-05-17T10:25:24.166611Z",
     "iopub.status.busy": "2021-05-17T10:25:24.165929Z",
     "iopub.status.idle": "2021-05-17T10:25:24.169396Z",
     "shell.execute_reply": "2021-05-17T10:25:24.169849Z"
    }
   },
   "outputs": [
    {
     "data": {
      "text/plain": [
       "[Amplicon(934)]"
      ]
     },
     "execution_count": 1,
     "metadata": {},
     "output_type": "execute_result"
    }
   ],
   "source": [
    "Anneal( (p['577'], p['342'], fp), pYPKa).products"
   ]
  },
  {
   "cell_type": "markdown",
   "metadata": {},
   "source": [
    "#### Expected PCR products sizes pYPKa_E_ARF1:\n",
    "\n",
    "pYPKa_E_ARF1 with insert in correct orientation."
   ]
  },
  {
   "cell_type": "code",
   "execution_count": 21,
   "metadata": {
    "execution": {
     "iopub.execute_input": "2021-05-17T10:25:24.181281Z",
     "iopub.status.busy": "2021-05-17T10:25:24.180397Z",
     "iopub.status.idle": "2021-05-17T10:25:24.184227Z",
     "shell.execute_reply": "2021-05-17T10:25:24.183619Z"
    }
   },
   "outputs": [
    {
     "data": {
      "text/plain": [
       "[Amplicon(1468), Amplicon(1219)]"
      ]
     },
     "execution_count": 1,
     "metadata": {},
     "output_type": "execute_result"
    }
   ],
   "source": [
    "Anneal( (p['577'], p['342'], fp), pYPKa_E_ARF1).products"
   ]
  },
  {
   "cell_type": "markdown",
   "metadata": {},
   "source": [
    "pYPKa_E_ARF1 with insert in reverse orientation."
   ]
  },
  {
   "cell_type": "code",
   "execution_count": 22,
   "metadata": {
    "execution": {
     "iopub.execute_input": "2021-05-17T10:25:24.197392Z",
     "iopub.status.busy": "2021-05-17T10:25:24.196701Z",
     "iopub.status.idle": "2021-05-17T10:25:24.199788Z",
     "shell.execute_reply": "2021-05-17T10:25:24.199303Z"
    }
   },
   "outputs": [
    {
     "data": {
      "text/plain": [
       "[Amplicon(1468), Amplicon(783)]"
      ]
     },
     "execution_count": 1,
     "metadata": {},
     "output_type": "execute_result"
    }
   ],
   "source": [
    "Anneal( (p['577'], p['342'], fp), pYPKa_E_ARF1b).products\n"
   ]
  },
  {
   "cell_type": "markdown",
   "metadata": {},
   "source": [
    "Calculate cseguid checksums for the resulting plasmids for future reference.\n",
    "This checksum that uniquely describes a circular double stranded\n",
    "sequence. See this [blog post](https://ochsavidare.blogspot.com/2016/02/checksum-for-circular-biological.html) for more info.\n",
    "\n",
    "pYPKa_Z_ARF1.cseguid() should be btkuHSLWXbNXXY49C107ALQiCWE"
   ]
  },
  {
   "cell_type": "code",
   "execution_count": 23,
   "metadata": {
    "execution": {
     "iopub.execute_input": "2021-05-17T10:25:24.208638Z",
     "iopub.status.busy": "2021-05-17T10:25:24.208098Z",
     "iopub.status.idle": "2021-05-17T10:25:24.210846Z",
     "shell.execute_reply": "2021-05-17T10:25:24.210360Z"
    }
   },
   "outputs": [
    {
     "name": "stdout",
     "output_type": "stream",
     "text": [
      "btkuHSLWXbNXXY49C107ALQiCWE\n"
     ]
    }
   ],
   "source": [
    "print(pYPKa_Z_ARF1.cseguid())\n",
    "assert pYPKa_Z_ARF1.cseguid() == \"btkuHSLWXbNXXY49C107ALQiCWE\""
   ]
  },
  {
   "cell_type": "markdown",
   "metadata": {},
   "source": [
    "pYPKa_E_ARF1.cseguid() should be 4qvEQ4qanpPOrcuO3LsGtYHxIlk"
   ]
  },
  {
   "cell_type": "code",
   "execution_count": 24,
   "metadata": {
    "execution": {
     "iopub.execute_input": "2021-05-17T10:25:24.222254Z",
     "iopub.status.busy": "2021-05-17T10:25:24.217824Z",
     "iopub.status.idle": "2021-05-17T10:25:24.225350Z",
     "shell.execute_reply": "2021-05-17T10:25:24.224825Z"
    }
   },
   "outputs": [
    {
     "name": "stdout",
     "output_type": "stream",
     "text": [
      "4qvEQ4qanpPOrcuO3LsGtYHxIlk\n"
     ]
    }
   ],
   "source": [
    "print(pYPKa_E_ARF1.cseguid())\n",
    "assert pYPKa_E_ARF1.cseguid() == \"4qvEQ4qanpPOrcuO3LsGtYHxIlk\""
   ]
  },
  {
   "cell_type": "markdown",
   "metadata": {},
   "source": [
    "The sequences are named based on the name of the cloned insert."
   ]
  },
  {
   "cell_type": "code",
   "execution_count": 25,
   "metadata": {
    "execution": {
     "iopub.execute_input": "2021-05-17T10:25:24.228799Z",
     "iopub.status.busy": "2021-05-17T10:25:24.228373Z",
     "iopub.status.idle": "2021-05-17T10:25:24.230739Z",
     "shell.execute_reply": "2021-05-17T10:25:24.231376Z"
    }
   },
   "outputs": [],
   "source": [
    "pYPKa_Z_ARF1.locus = \"pYPKa_Z_ARF1\"[:16]\n",
    "pYPKa_E_ARF1.locus = \"pYPKa_Z_ARF1\"[:16]"
   ]
  },
  {
   "cell_type": "markdown",
   "metadata": {},
   "source": [
    "Stamp sequence with cseguid checksum. This can be used to verify the\n",
    "integrity of the sequence file."
   ]
  },
  {
   "cell_type": "code",
   "execution_count": 26,
   "metadata": {
    "execution": {
     "iopub.execute_input": "2021-05-17T10:25:24.245395Z",
     "iopub.status.busy": "2021-05-17T10:25:24.244397Z",
     "iopub.status.idle": "2021-05-17T10:25:24.247250Z",
     "shell.execute_reply": "2021-05-17T10:25:24.247692Z"
    }
   },
   "outputs": [
    {
     "data": {
      "text/plain": [
       "cSEGUID_4qvEQ4qanpPOrcuO3LsGtYHxIlk"
      ]
     },
     "execution_count": 1,
     "metadata": {},
     "output_type": "execute_result"
    }
   ],
   "source": [
    "pYPKa_Z_ARF1.stamp()\n",
    "pYPKa_E_ARF1.stamp()"
   ]
  },
  {
   "cell_type": "markdown",
   "metadata": {},
   "source": [
    "pYPKa_Z_ARF1 is written to a local file:"
   ]
  },
  {
   "cell_type": "code",
   "execution_count": 27,
   "metadata": {
    "execution": {
     "iopub.execute_input": "2021-05-17T10:25:24.253955Z",
     "iopub.status.busy": "2021-05-17T10:25:24.253104Z",
     "iopub.status.idle": "2021-05-17T10:25:24.261201Z",
     "shell.execute_reply": "2021-05-17T10:25:24.260625Z"
    }
   },
   "outputs": [
    {
     "data": {
      "text/html": [
       "<font face=monospace><a href='pYPKa_Z_ARF1.gb' target='_blank'>pYPKa_Z_ARF1.gb</a></font><br>"
      ]
     },
     "metadata": {},
     "output_type": "display_data"
    }
   ],
   "source": [
    "pYPKa_Z_ARF1.write(\"pYPKa_Z_ARF1.gb\")"
   ]
  },
  {
   "cell_type": "markdown",
   "metadata": {},
   "source": [
    "pYPKa_E_ARF1 is written to a local file:"
   ]
  },
  {
   "cell_type": "code",
   "execution_count": 28,
   "metadata": {
    "execution": {
     "iopub.execute_input": "2021-05-17T10:25:24.265168Z",
     "iopub.status.busy": "2021-05-17T10:25:24.264565Z",
     "iopub.status.idle": "2021-05-17T10:25:24.272013Z",
     "shell.execute_reply": "2021-05-17T10:25:24.272713Z"
    }
   },
   "outputs": [
    {
     "data": {
      "text/html": [
       "<font face=monospace><a href='pYPKa_E_ARF1.gb' target='_blank'>pYPKa_E_ARF1.gb</a></font><br>"
      ]
     },
     "metadata": {},
     "output_type": "display_data"
    }
   ],
   "source": [
    "pYPKa_E_ARF1.write(\"pYPKa_E_ARF1.gb\")"
   ]
  }
 ],
 "metadata": {
  "kernelspec": {
   "display_name": "Python [conda env:bjorn37]",
   "language": "python",
   "name": "conda-env-bjorn37-py"
  },
  "language_info": {
   "codemirror_mode": {
    "name": "ipython",
    "version": 3
   },
   "file_extension": ".py",
   "mimetype": "text/x-python",
   "name": "python",
   "nbconvert_exporter": "python",
   "pygments_lexer": "ipython3",
   "version": "3.9.0"
  }
 },
 "nbformat": 4,
 "nbformat_minor": 4
}
