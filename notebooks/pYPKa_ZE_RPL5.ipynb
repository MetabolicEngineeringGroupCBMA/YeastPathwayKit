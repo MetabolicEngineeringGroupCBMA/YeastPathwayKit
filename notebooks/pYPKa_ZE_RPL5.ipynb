{
 "cells": [
  {
   "cell_type": "markdown",
   "metadata": {},
   "source": [
    "# pYPKa_Z_RPL5 and pYPKa_E_RPL5\n",
    "\n",
    "This Jupyter notebook describe the construction of E. coli vectors [pYPKa_Z_RPL5](pYPKa_Z_RPL5.gb) and [pYPKa_E_RPL5](pYPKa_E_RPL5.gb). \n",
    "These two vectors share backbone and insert, but in the former, the insert is cloned using the restriction\n",
    "enzyme [ZraI](http://rebase.neb.com/rebase/enz/ZraI.html) while in the latter [EcoRV](http://rebase.neb.com/rebase/enz/EcoRV.html) is used.\n",
    "\n",
    "The insert cloned in ZraI is meant to function as a promoter, while in the EcoRV site it is meant to be  used as a terminator.\n",
    "\n",
    "Links to the sequence of each vector in Genbank format can be found at the bottom of this document.\n",
    "\n",
    "![pYPKa_Z and pYPKa_E](figure_pYPKa_ZE.png \"pYPKa_Z or pYPKa_E plasmid\")\n",
    "\n",
    "The Python package [pydna](https://pypi.python.org/pypi/pydna/) package is imported in the code cell below to provide \n",
    "the cloning functionality. There is a [publication](http://www.biomedcentral.com/1471-2105/16/142) describing pydna as well as\n",
    "[documentation](http://pydna.readthedocs.io/) available online. Pydna is developed on [Github](https://github.com/BjornFJohansson/pydna)."
   ]
  },
  {
   "cell_type": "code",
   "execution_count": 1,
   "metadata": {
    "execution": {
     "iopub.execute_input": "2021-05-17T10:27:36.210973Z",
     "iopub.status.busy": "2021-05-17T10:27:36.209071Z",
     "iopub.status.idle": "2021-05-17T10:27:36.796015Z",
     "shell.execute_reply": "2021-05-17T10:27:36.795427Z"
    }
   },
   "outputs": [],
   "source": [
    "from pydna.readers import read\n",
    "from pydna.parsers import parse_primers\n",
    "from pydna.genbank import Genbank\n",
    "from pydna.amplify import pcr\n",
    "from pydna.amplify import Anneal"
   ]
  },
  {
   "cell_type": "markdown",
   "metadata": {},
   "source": [
    "The vector backbone pYPKa is read from a local [file](pYPKa.gb)."
   ]
  },
  {
   "cell_type": "code",
   "execution_count": 2,
   "metadata": {
    "execution": {
     "iopub.execute_input": "2021-05-17T10:27:36.806358Z",
     "iopub.status.busy": "2021-05-17T10:27:36.805412Z",
     "iopub.status.idle": "2021-05-17T10:27:36.817550Z",
     "shell.execute_reply": "2021-05-17T10:27:36.818035Z"
    }
   },
   "outputs": [],
   "source": [
    "pYPKa = read(\"pYPKa.gb\")"
   ]
  },
  {
   "cell_type": "markdown",
   "metadata": {},
   "source": [
    "Both restriction enzymes are imported from [Biopython](http://biopython.org/wiki/Main_Page)"
   ]
  },
  {
   "cell_type": "code",
   "execution_count": 3,
   "metadata": {
    "execution": {
     "iopub.execute_input": "2021-05-17T10:27:36.821673Z",
     "iopub.status.busy": "2021-05-17T10:27:36.821051Z",
     "iopub.status.idle": "2021-05-17T10:27:36.824357Z",
     "shell.execute_reply": "2021-05-17T10:27:36.823053Z"
    }
   },
   "outputs": [],
   "source": [
    "from Bio.Restriction import ZraI, EcoRV"
   ]
  },
  {
   "cell_type": "markdown",
   "metadata": {},
   "source": [
    "The vector is cut with both enzymes."
   ]
  },
  {
   "cell_type": "code",
   "execution_count": 4,
   "metadata": {
    "execution": {
     "iopub.execute_input": "2021-05-17T10:27:36.831684Z",
     "iopub.status.busy": "2021-05-17T10:27:36.831195Z",
     "iopub.status.idle": "2021-05-17T10:27:36.833324Z",
     "shell.execute_reply": "2021-05-17T10:27:36.832817Z"
    }
   },
   "outputs": [],
   "source": [
    "pYPKa_ZraI  = pYPKa.linearize(ZraI)\n",
    "pYPKa_EcoRV = pYPKa.linearize(EcoRV)"
   ]
  },
  {
   "cell_type": "markdown",
   "metadata": {},
   "source": [
    "The template below comes from a Genbank [record](http://www.ncbi.nlm.nih.gov/nuccore/BK006949.2).\n",
    "Access to Genbank is needed in order to download the template.\n",
    "If you execute this script, change the email address below to your own.\n",
    "Always tell Genbank who you are, when using their web service."
   ]
  },
  {
   "cell_type": "code",
   "execution_count": 5,
   "metadata": {
    "execution": {
     "iopub.execute_input": "2021-05-17T10:27:36.837522Z",
     "iopub.status.busy": "2021-05-17T10:27:36.836926Z",
     "iopub.status.idle": "2021-05-17T10:27:36.840163Z",
     "shell.execute_reply": "2021-05-17T10:27:36.839215Z"
    }
   },
   "outputs": [],
   "source": [
    "gb = Genbank(\"bjornjobb@gmail.com\")"
   ]
  },
  {
   "cell_type": "markdown",
   "metadata": {},
   "source": [
    "The template is downloaded from Genbank below."
   ]
  },
  {
   "cell_type": "code",
   "execution_count": 6,
   "metadata": {
    "execution": {
     "iopub.execute_input": "2021-05-17T10:27:36.846658Z",
     "iopub.status.busy": "2021-05-17T10:27:36.845441Z",
     "iopub.status.idle": "2021-05-17T10:27:36.857278Z",
     "shell.execute_reply": "2021-05-17T10:27:36.856066Z"
    }
   },
   "outputs": [],
   "source": [
    "template = gb.nucleotide(\"BK006949.2 REGION: 302619..303120\")"
   ]
  },
  {
   "cell_type": "markdown",
   "metadata": {},
   "source": [
    "The template is a 502 bp linear DNA fragment."
   ]
  },
  {
   "cell_type": "code",
   "execution_count": 7,
   "metadata": {
    "execution": {
     "iopub.execute_input": "2021-05-17T10:27:36.868096Z",
     "iopub.status.busy": "2021-05-17T10:27:36.865594Z",
     "iopub.status.idle": "2021-05-17T10:27:36.871025Z",
     "shell.execute_reply": "2021-05-17T10:27:36.871533Z"
    }
   },
   "outputs": [
    {
     "data": {
      "text/html": [
       "<a href='https://www.ncbi.nlm.nih.gov/nuccore/BK006949.2 ?from=302619&to=303120&strand=1' target='_blank'>BK006949.2  302619-303120</a>"
      ],
      "text/plain": [
       "Gbank(BK006949.2  302619-303120)(-502)"
      ]
     },
     "execution_count": 1,
     "metadata": {},
     "output_type": "execute_result"
    }
   ],
   "source": [
    "template"
   ]
  },
  {
   "cell_type": "markdown",
   "metadata": {},
   "source": [
    "The insert has the sequence shown below."
   ]
  },
  {
   "cell_type": "code",
   "execution_count": 8,
   "metadata": {
    "execution": {
     "iopub.execute_input": "2021-05-17T10:27:36.876016Z",
     "iopub.status.busy": "2021-05-17T10:27:36.875318Z",
     "iopub.status.idle": "2021-05-17T10:27:36.878741Z",
     "shell.execute_reply": "2021-05-17T10:27:36.879700Z"
    }
   },
   "outputs": [
    {
     "name": "stdout",
     "output_type": "stream",
     "text": [
      "TTGTAAATACAAAGTCATTCAATGTACATAAATACTGTTATGCTTTTGAATTAAGTAAAACACCATGACTTCATATTGAGATGTTTTAAGCATATAATCACGGCACCGAACTTCTTGTAATCATCAAATCTTTGTTTTCTAGCCGTCATAGAAATGAAGAAATGAAGATTCTTGTTCATGTGATACAGCTTTTCTAGACAGCTAACTTGTACATCCAGACATCCTAAAACACCCATAAAGCAAAAAAAATTATTGAAATATTCTCTTTTTTTTCTTTTTTTTTTTTCTGGTGGCTTTCAATGCGGAATCGCTCACATCCGAAAATTTCAGAGGCTTCACTTAGCGTCGCAGATCCCAGTAGTCGCCAGATGCTTTGAAAAAAAAAAAAATAAATAGAAAAGTTTGTAGACATATCCGATGTAGTATATTTCAGAGGCCAACCTTTACTTTTGTTTTCTCCTACACTTCAAAATAAAAGACACCGTCACAAATCTCAGCAACA\n"
     ]
    }
   ],
   "source": [
    "print(str(template.seq))"
   ]
  },
  {
   "cell_type": "markdown",
   "metadata": {},
   "source": [
    "The seguid checksum of the template should be\n",
    "\n",
    "```x8OYL7R85RFJpThtOp0JndUrEHE```"
   ]
  },
  {
   "cell_type": "code",
   "execution_count": 9,
   "metadata": {
    "execution": {
     "iopub.execute_input": "2021-05-17T10:27:36.885811Z",
     "iopub.status.busy": "2021-05-17T10:27:36.884893Z",
     "iopub.status.idle": "2021-05-17T10:27:36.888446Z",
     "shell.execute_reply": "2021-05-17T10:27:36.887875Z"
    }
   },
   "outputs": [
    {
     "data": {
      "text/plain": [
       "x8OYL7R85RFJpThtOp0JndUrEHE"
      ]
     },
     "execution_count": 1,
     "metadata": {},
     "output_type": "execute_result"
    }
   ],
   "source": [
    "template.seguid()"
   ]
  },
  {
   "cell_type": "markdown",
   "metadata": {},
   "source": [
    "Two primers are used to amplify the insert:"
   ]
  },
  {
   "cell_type": "code",
   "execution_count": 10,
   "metadata": {
    "execution": {
     "iopub.execute_input": "2021-05-17T10:27:36.893127Z",
     "iopub.status.busy": "2021-05-17T10:27:36.892497Z",
     "iopub.status.idle": "2021-05-17T10:27:36.895990Z",
     "shell.execute_reply": "2021-05-17T10:27:36.894901Z"
    }
   },
   "outputs": [],
   "source": [
    "fp,rp = parse_primers(\"\"\">830_RPL5tpf\n",
    "                         ttaaatTTGTAAATACAAAGTCATTCA\n",
    "                         >829_RPL5tpr\n",
    "                         taattaaTGTTGCTGAGATTTGTG\"\"\")"
   ]
  },
  {
   "cell_type": "markdown",
   "metadata": {},
   "source": [
    "PCR to create the insert using the primers above."
   ]
  },
  {
   "cell_type": "code",
   "execution_count": 11,
   "metadata": {
    "execution": {
     "iopub.execute_input": "2021-05-17T10:27:36.906525Z",
     "iopub.status.busy": "2021-05-17T10:27:36.905236Z",
     "iopub.status.idle": "2021-05-17T10:27:36.913975Z",
     "shell.execute_reply": "2021-05-17T10:27:36.914572Z"
    }
   },
   "outputs": [],
   "source": [
    "prd = pcr(fp, rp, template)\n",
    "assert str(fp.seq) in prd"
   ]
  },
  {
   "cell_type": "markdown",
   "metadata": {},
   "source": [
    "The PCR product has this length in bp."
   ]
  },
  {
   "cell_type": "code",
   "execution_count": 12,
   "metadata": {
    "execution": {
     "iopub.execute_input": "2021-05-17T10:27:36.918766Z",
     "iopub.status.busy": "2021-05-17T10:27:36.918095Z",
     "iopub.status.idle": "2021-05-17T10:27:36.921283Z",
     "shell.execute_reply": "2021-05-17T10:27:36.920665Z"
    }
   },
   "outputs": [
    {
     "data": {
      "text/plain": [
       "515"
      ]
     },
     "execution_count": 1,
     "metadata": {},
     "output_type": "execute_result"
    }
   ],
   "source": [
    "len(prd)"
   ]
  },
  {
   "cell_type": "markdown",
   "metadata": {},
   "source": [
    "A figure of the primers annealing on template."
   ]
  },
  {
   "cell_type": "code",
   "execution_count": 13,
   "metadata": {
    "execution": {
     "iopub.execute_input": "2021-05-17T10:27:36.930343Z",
     "iopub.status.busy": "2021-05-17T10:27:36.929503Z",
     "iopub.status.idle": "2021-05-17T10:27:36.933164Z",
     "shell.execute_reply": "2021-05-17T10:27:36.933650Z"
    }
   },
   "outputs": [
    {
     "data": {
      "text/plain": [
       "      5TTGTAAATACAAAGTCATTCA...CACAAATCTCAGCAACA3\n",
       "                               |||||||||||||||||\n",
       "                              3GTGTTTAGAGTCGTTGTaattaat5\n",
       "5ttaaatTTGTAAATACAAAGTCATTCA3\n",
       "       |||||||||||||||||||||\n",
       "      3AACATTTATGTTTCAGTAAGT...GTGTTTAGAGTCGTTGT5"
      ]
     },
     "execution_count": 1,
     "metadata": {},
     "output_type": "execute_result"
    }
   ],
   "source": [
    "prd.figure()"
   ]
  },
  {
   "cell_type": "markdown",
   "metadata": {},
   "source": [
    "A suggested PCR program."
   ]
  },
  {
   "cell_type": "code",
   "execution_count": 14,
   "metadata": {
    "execution": {
     "iopub.execute_input": "2021-05-17T10:27:36.937634Z",
     "iopub.status.busy": "2021-05-17T10:27:36.937100Z",
     "iopub.status.idle": "2021-05-17T10:27:36.940956Z",
     "shell.execute_reply": "2021-05-17T10:27:36.942856Z"
    }
   },
   "outputs": [
    {
     "data": {
      "text/plain": [
       "|95°C|95°C               |    |tmf:51.6\n",
       "|____|_____          72°C|72°C|tmr:52.2\n",
       "|5min|30s  \\ 50.8°C _____|____|60s/kb\n",
       "|    |      \\______/ 0:30|5min|GC 32%\n",
       "|    |       30s         |    |515bp"
      ]
     },
     "execution_count": 1,
     "metadata": {},
     "output_type": "execute_result"
    }
   ],
   "source": [
    "prd.program()"
   ]
  },
  {
   "cell_type": "markdown",
   "metadata": {},
   "source": [
    "The final vectors are:"
   ]
  },
  {
   "cell_type": "code",
   "execution_count": 15,
   "metadata": {
    "execution": {
     "iopub.execute_input": "2021-05-17T10:27:37.018266Z",
     "iopub.status.busy": "2021-05-17T10:27:36.982518Z",
     "iopub.status.idle": "2021-05-17T10:27:37.418235Z",
     "shell.execute_reply": "2021-05-17T10:27:37.418786Z"
    }
   },
   "outputs": [],
   "source": [
    "pYPKa_Z_RPL5 = (pYPKa_ZraI  + prd).looped().synced(pYPKa)\n",
    "pYPKa_E_RPL5 = (pYPKa_EcoRV + prd).looped().synced(pYPKa)"
   ]
  },
  {
   "cell_type": "markdown",
   "metadata": {},
   "source": [
    "The final vectors with reverse inserts are created below. These vectors theoretically make up\n",
    "fifty percent of the clones. The PCR strategy outlined below can be used to identify clones with the insert\n",
    "in the correct orientation."
   ]
  },
  {
   "cell_type": "code",
   "execution_count": 16,
   "metadata": {
    "execution": {
     "iopub.execute_input": "2021-05-17T10:27:37.432333Z",
     "iopub.status.busy": "2021-05-17T10:27:37.431559Z",
     "iopub.status.idle": "2021-05-17T10:27:38.324975Z",
     "shell.execute_reply": "2021-05-17T10:27:38.324258Z"
    }
   },
   "outputs": [],
   "source": [
    "pYPKa_Z_RPL5b = (pYPKa_ZraI  + prd.rc()).looped().synced(pYPKa)\n",
    "pYPKa_E_RPL5b = (pYPKa_EcoRV + prd.rc()).looped().synced(pYPKa)"
   ]
  },
  {
   "cell_type": "markdown",
   "metadata": {},
   "source": [
    "A combination of yeast pathway kit standard primers and the primers above are\n",
    "used for the strategy to identify correct clones.\n",
    "Standard primers used in the yeast are listed [here](standard_primers.txt)."
   ]
  },
  {
   "cell_type": "code",
   "execution_count": 17,
   "metadata": {
    "execution": {
     "iopub.execute_input": "2021-05-17T10:27:38.332243Z",
     "iopub.status.busy": "2021-05-17T10:27:38.331522Z",
     "iopub.status.idle": "2021-05-17T10:27:38.334213Z",
     "shell.execute_reply": "2021-05-17T10:27:38.333628Z"
    }
   },
   "outputs": [],
   "source": [
    "p = { x.id: x for x in parse_primers(\"\"\">577\n",
    "                                         gttctgatcctcgagcatcttaagaattc\n",
    "                                         >578\n",
    "                                         gttcttgtctcattgccacattcataagt\n",
    "                                         >468\n",
    "                                         gtcgaggaacgccaggttgcccact\n",
    "                                         >467\n",
    "                                         ATTTAAatcctgatgcgtttgtctgcacaga\n",
    "                                         >567\n",
    "                                         GTcggctgcaggtcactagtgag\n",
    "                                         >568\n",
    "                                         GTGCcatctgtgcagacaaacg\n",
    "                                         >775\n",
    "                                         gcggccgctgacTTAAAT\n",
    "                                         >778\n",
    "                                         ggtaaatccggatTAATTAA\n",
    "                                         >342\n",
    "                                         CCTTTTTACGGTTCCTGGCCT\"\"\") }"
   ]
  },
  {
   "cell_type": "markdown",
   "metadata": {},
   "source": [
    "## Diagnostic PCR confirmation\n",
    "\n",
    "The correct structure of pYPKa_Z_RPL5 is confirmed by PCR using standard primers\n",
    "577 and 342 that are vector specific together with the RPL5fw primer specific for the insert\n",
    "in a multiplex PCR reaction with\n",
    "all three primers present.\n",
    "\n",
    "Two PCR products are expected if the insert was cloned, the sizes depend\n",
    "on the orientation. If the vector is empty or contains another insert, only one\n",
    "product is formed.\n",
    "\n",
    "#### Expected PCR products sizes from pYPKa_Z_RPL5:\n",
    "\n",
    "pYPKa_Z_RPL5 with insert in correct orientation."
   ]
  },
  {
   "cell_type": "code",
   "execution_count": 18,
   "metadata": {
    "execution": {
     "iopub.execute_input": "2021-05-17T10:27:38.349625Z",
     "iopub.status.busy": "2021-05-17T10:27:38.348915Z",
     "iopub.status.idle": "2021-05-17T10:27:38.354169Z",
     "shell.execute_reply": "2021-05-17T10:27:38.356748Z"
    }
   },
   "outputs": [
    {
     "data": {
      "text/plain": [
       "[Amplicon(1449), Amplicon(1281)]"
      ]
     },
     "execution_count": 1,
     "metadata": {},
     "output_type": "execute_result"
    }
   ],
   "source": [
    "Anneal( (p['577'], p['342'], fp), pYPKa_Z_RPL5).products"
   ]
  },
  {
   "cell_type": "markdown",
   "metadata": {},
   "source": [
    "pYPKa_Z_RPL5 with insert in reverse orientation."
   ]
  },
  {
   "cell_type": "code",
   "execution_count": 19,
   "metadata": {
    "execution": {
     "iopub.execute_input": "2021-05-17T10:27:38.379344Z",
     "iopub.status.busy": "2021-05-17T10:27:38.377195Z",
     "iopub.status.idle": "2021-05-17T10:27:38.388798Z",
     "shell.execute_reply": "2021-05-17T10:27:38.389387Z"
    }
   },
   "outputs": [
    {
     "data": {
      "text/plain": [
       "[Amplicon(1449), Amplicon(683)]"
      ]
     },
     "execution_count": 1,
     "metadata": {},
     "output_type": "execute_result"
    }
   ],
   "source": [
    "Anneal( (p['577'], p['342'], fp), pYPKa_Z_RPL5b).products"
   ]
  },
  {
   "cell_type": "markdown",
   "metadata": {},
   "source": [
    "Empty pYPKa clone."
   ]
  },
  {
   "cell_type": "code",
   "execution_count": 20,
   "metadata": {
    "execution": {
     "iopub.execute_input": "2021-05-17T10:27:38.397273Z",
     "iopub.status.busy": "2021-05-17T10:27:38.396802Z",
     "iopub.status.idle": "2021-05-17T10:27:38.413811Z",
     "shell.execute_reply": "2021-05-17T10:27:38.414473Z"
    }
   },
   "outputs": [
    {
     "data": {
      "text/plain": [
       "[Amplicon(934)]"
      ]
     },
     "execution_count": 1,
     "metadata": {},
     "output_type": "execute_result"
    }
   ],
   "source": [
    "Anneal( (p['577'], p['342'], fp), pYPKa).products"
   ]
  },
  {
   "cell_type": "markdown",
   "metadata": {},
   "source": [
    "#### Expected PCR products sizes pYPKa_E_RPL5:\n",
    "\n",
    "pYPKa_E_RPL5 with insert in correct orientation."
   ]
  },
  {
   "cell_type": "code",
   "execution_count": 21,
   "metadata": {
    "execution": {
     "iopub.execute_input": "2021-05-17T10:27:38.423246Z",
     "iopub.status.busy": "2021-05-17T10:27:38.422528Z",
     "iopub.status.idle": "2021-05-17T10:27:38.441333Z",
     "shell.execute_reply": "2021-05-17T10:27:38.442592Z"
    }
   },
   "outputs": [
    {
     "data": {
      "text/plain": [
       "[Amplicon(1449), Amplicon(1200)]"
      ]
     },
     "execution_count": 1,
     "metadata": {},
     "output_type": "execute_result"
    }
   ],
   "source": [
    "Anneal( (p['577'], p['342'], fp), pYPKa_E_RPL5).products"
   ]
  },
  {
   "cell_type": "markdown",
   "metadata": {},
   "source": [
    "pYPKa_E_RPL5 with insert in reverse orientation."
   ]
  },
  {
   "cell_type": "code",
   "execution_count": 22,
   "metadata": {
    "execution": {
     "iopub.execute_input": "2021-05-17T10:27:38.448861Z",
     "iopub.status.busy": "2021-05-17T10:27:38.447072Z",
     "iopub.status.idle": "2021-05-17T10:27:38.468741Z",
     "shell.execute_reply": "2021-05-17T10:27:38.468131Z"
    }
   },
   "outputs": [
    {
     "data": {
      "text/plain": [
       "[Amplicon(1449), Amplicon(764)]"
      ]
     },
     "execution_count": 1,
     "metadata": {},
     "output_type": "execute_result"
    }
   ],
   "source": [
    "Anneal( (p['577'], p['342'], fp), pYPKa_E_RPL5b).products\n"
   ]
  },
  {
   "cell_type": "markdown",
   "metadata": {},
   "source": [
    "Calculate cseguid checksums for the resulting plasmids for future reference.\n",
    "This checksum that uniquely describes a circular double stranded\n",
    "sequence. See this [blog post](https://ochsavidare.blogspot.com/2016/02/checksum-for-circular-biological.html) for more info.\n",
    "\n",
    "pYPKa_Z_RPL5.cseguid() should be SsNrrKAHLgkcMghzfRvCyVNu3P0"
   ]
  },
  {
   "cell_type": "code",
   "execution_count": 23,
   "metadata": {
    "execution": {
     "iopub.execute_input": "2021-05-17T10:27:38.492418Z",
     "iopub.status.busy": "2021-05-17T10:27:38.490151Z",
     "iopub.status.idle": "2021-05-17T10:27:38.496693Z",
     "shell.execute_reply": "2021-05-17T10:27:38.495972Z"
    }
   },
   "outputs": [
    {
     "name": "stdout",
     "output_type": "stream",
     "text": [
      "SsNrrKAHLgkcMghzfRvCyVNu3P0\n"
     ]
    }
   ],
   "source": [
    "print(pYPKa_Z_RPL5.cseguid())\n",
    "assert pYPKa_Z_RPL5.cseguid() == \"SsNrrKAHLgkcMghzfRvCyVNu3P0\""
   ]
  },
  {
   "cell_type": "markdown",
   "metadata": {},
   "source": [
    "pYPKa_E_RPL5.cseguid() should be rbs1jxlNcEGq3m_-maayIeh19NE"
   ]
  },
  {
   "cell_type": "code",
   "execution_count": 24,
   "metadata": {
    "execution": {
     "iopub.execute_input": "2021-05-17T10:27:38.508323Z",
     "iopub.status.busy": "2021-05-17T10:27:38.507590Z",
     "iopub.status.idle": "2021-05-17T10:27:38.519074Z",
     "shell.execute_reply": "2021-05-17T10:27:38.519716Z"
    }
   },
   "outputs": [
    {
     "name": "stdout",
     "output_type": "stream",
     "text": [
      "rbs1jxlNcEGq3m_-maayIeh19NE\n"
     ]
    }
   ],
   "source": [
    "print(pYPKa_E_RPL5.cseguid())\n",
    "assert pYPKa_E_RPL5.cseguid() == \"rbs1jxlNcEGq3m_-maayIeh19NE\""
   ]
  },
  {
   "cell_type": "markdown",
   "metadata": {},
   "source": [
    "The sequences are named based on the name of the cloned insert."
   ]
  },
  {
   "cell_type": "code",
   "execution_count": 25,
   "metadata": {
    "execution": {
     "iopub.execute_input": "2021-05-17T10:27:38.524215Z",
     "iopub.status.busy": "2021-05-17T10:27:38.523401Z",
     "iopub.status.idle": "2021-05-17T10:27:38.525846Z",
     "shell.execute_reply": "2021-05-17T10:27:38.525367Z"
    }
   },
   "outputs": [],
   "source": [
    "pYPKa_Z_RPL5.locus = \"pYPKa_Z_RPL5\"[:16]\n",
    "pYPKa_E_RPL5.locus = \"pYPKa_Z_RPL5\"[:16]"
   ]
  },
  {
   "cell_type": "markdown",
   "metadata": {},
   "source": [
    "Stamp sequence with cseguid checksum. This can be used to verify the\n",
    "integrity of the sequence file."
   ]
  },
  {
   "cell_type": "code",
   "execution_count": 26,
   "metadata": {
    "execution": {
     "iopub.execute_input": "2021-05-17T10:27:38.536180Z",
     "iopub.status.busy": "2021-05-17T10:27:38.535362Z",
     "iopub.status.idle": "2021-05-17T10:27:38.538762Z",
     "shell.execute_reply": "2021-05-17T10:27:38.539252Z"
    }
   },
   "outputs": [
    {
     "data": {
      "text/plain": [
       "cSEGUID_rbs1jxlNcEGq3m_-maayIeh19NE"
      ]
     },
     "execution_count": 1,
     "metadata": {},
     "output_type": "execute_result"
    }
   ],
   "source": [
    "pYPKa_Z_RPL5.stamp()\n",
    "pYPKa_E_RPL5.stamp()"
   ]
  },
  {
   "cell_type": "markdown",
   "metadata": {},
   "source": [
    "pYPKa_Z_RPL5 is written to a local file:"
   ]
  },
  {
   "cell_type": "code",
   "execution_count": 27,
   "metadata": {
    "execution": {
     "iopub.execute_input": "2021-05-17T10:27:38.543137Z",
     "iopub.status.busy": "2021-05-17T10:27:38.542661Z",
     "iopub.status.idle": "2021-05-17T10:27:38.555053Z",
     "shell.execute_reply": "2021-05-17T10:27:38.555856Z"
    }
   },
   "outputs": [
    {
     "data": {
      "text/html": [
       "<font face=monospace><a href='pYPKa_Z_RPL5.gb' target='_blank'>pYPKa_Z_RPL5.gb</a></font><br>"
      ]
     },
     "metadata": {},
     "output_type": "display_data"
    }
   ],
   "source": [
    "pYPKa_Z_RPL5.write(\"pYPKa_Z_RPL5.gb\")"
   ]
  },
  {
   "cell_type": "markdown",
   "metadata": {},
   "source": [
    "pYPKa_E_RPL5 is written to a local file:"
   ]
  },
  {
   "cell_type": "code",
   "execution_count": 28,
   "metadata": {
    "execution": {
     "iopub.execute_input": "2021-05-17T10:27:38.560887Z",
     "iopub.status.busy": "2021-05-17T10:27:38.559010Z",
     "iopub.status.idle": "2021-05-17T10:27:38.565732Z",
     "shell.execute_reply": "2021-05-17T10:27:38.566153Z"
    }
   },
   "outputs": [
    {
     "data": {
      "text/html": [
       "<font face=monospace><a href='pYPKa_E_RPL5.gb' target='_blank'>pYPKa_E_RPL5.gb</a></font><br>"
      ]
     },
     "metadata": {},
     "output_type": "display_data"
    }
   ],
   "source": [
    "pYPKa_E_RPL5.write(\"pYPKa_E_RPL5.gb\")"
   ]
  }
 ],
 "metadata": {
  "language_info": {
   "codemirror_mode": {
    "name": "ipython",
    "version": 3
   },
   "file_extension": ".py",
   "mimetype": "text/x-python",
   "name": "python",
   "nbconvert_exporter": "python",
   "pygments_lexer": "ipython3",
   "version": "3.9.0"
  }
 },
 "nbformat": 4,
 "nbformat_minor": 2
}
