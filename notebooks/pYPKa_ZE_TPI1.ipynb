{
 "cells": [
  {
   "cell_type": "markdown",
   "metadata": {},
   "source": [
    "# pYPKa_Z_TPI1 and pYPKa_E_TPI1\n",
    "\n",
    "This Jupyter notebook describe the construction of E. coli vectors [pYPKa_Z_TPI1](pYPKa_Z_TPI1.gb) and [pYPKa_E_TPI1](pYPKa_E_TPI1.gb). \n",
    "These two vectors share backbone and insert, but in the former, the insert is cloned using the restriction\n",
    "enzyme [ZraI](http://rebase.neb.com/rebase/enz/ZraI.html) while in the latter [EcoRV](http://rebase.neb.com/rebase/enz/EcoRV.html) is used.\n",
    "\n",
    "The insert cloned in ZraI is meant to function as a promoter, while in the EcoRV site it is meant to be  used as a terminator.\n",
    "\n",
    "Links to the sequence of each vector in Genbank format can be found at the bottom of this document.\n",
    "\n",
    "![pYPKa_Z and pYPKa_E](figure_pYPKa_ZE.png \"pYPKa_Z or pYPKa_E plasmid\")\n",
    "\n",
    "The Python package [pydna](https://pypi.python.org/pypi/pydna/) package is imported in the code cell below to provide \n",
    "the cloning functionality. There is a [publication](http://www.biomedcentral.com/1471-2105/16/142) describing pydna as well as\n",
    "[documentation](http://pydna.readthedocs.io/) available online. Pydna is developed on [Github](https://github.com/BjornFJohansson/pydna)."
   ]
  },
  {
   "cell_type": "code",
   "execution_count": 1,
   "metadata": {
    "execution": {
     "iopub.execute_input": "2021-05-17T10:28:26.729329Z",
     "iopub.status.busy": "2021-05-17T10:28:26.728253Z",
     "iopub.status.idle": "2021-05-17T10:28:27.377230Z",
     "shell.execute_reply": "2021-05-17T10:28:27.376332Z"
    }
   },
   "outputs": [],
   "source": [
    "from pydna.readers import read\n",
    "from pydna.parsers import parse_primers\n",
    "from pydna.genbank import Genbank\n",
    "from pydna.amplify import pcr\n",
    "from pydna.amplify import Anneal"
   ]
  },
  {
   "cell_type": "markdown",
   "metadata": {},
   "source": [
    "The vector backbone pYPKa is read from a local [file](pYPKa.gb)."
   ]
  },
  {
   "cell_type": "code",
   "execution_count": 2,
   "metadata": {
    "execution": {
     "iopub.execute_input": "2021-05-17T10:28:27.392793Z",
     "iopub.status.busy": "2021-05-17T10:28:27.391505Z",
     "iopub.status.idle": "2021-05-17T10:28:27.403177Z",
     "shell.execute_reply": "2021-05-17T10:28:27.402704Z"
    }
   },
   "outputs": [],
   "source": [
    "pYPKa = read(\"pYPKa.gb\")"
   ]
  },
  {
   "cell_type": "markdown",
   "metadata": {},
   "source": [
    "Both restriction enzymes are imported from [Biopython](http://biopython.org/wiki/Main_Page)"
   ]
  },
  {
   "cell_type": "code",
   "execution_count": 3,
   "metadata": {
    "execution": {
     "iopub.execute_input": "2021-05-17T10:28:27.407772Z",
     "iopub.status.busy": "2021-05-17T10:28:27.406419Z",
     "iopub.status.idle": "2021-05-17T10:28:27.410947Z",
     "shell.execute_reply": "2021-05-17T10:28:27.413499Z"
    }
   },
   "outputs": [],
   "source": [
    "from Bio.Restriction import ZraI, EcoRV"
   ]
  },
  {
   "cell_type": "markdown",
   "metadata": {},
   "source": [
    "The vector is cut with both enzymes."
   ]
  },
  {
   "cell_type": "code",
   "execution_count": 4,
   "metadata": {
    "execution": {
     "iopub.execute_input": "2021-05-17T10:28:27.420720Z",
     "iopub.status.busy": "2021-05-17T10:28:27.420281Z",
     "iopub.status.idle": "2021-05-17T10:28:27.422188Z",
     "shell.execute_reply": "2021-05-17T10:28:27.422628Z"
    }
   },
   "outputs": [],
   "source": [
    "pYPKa_ZraI  = pYPKa.linearize(ZraI)\n",
    "pYPKa_EcoRV = pYPKa.linearize(EcoRV)"
   ]
  },
  {
   "cell_type": "markdown",
   "metadata": {},
   "source": [
    "The template below comes from a Genbank [record](http://www.ncbi.nlm.nih.gov/nuccore/BK006938.2).\n",
    "Access to Genbank is needed in order to download the template.\n",
    "If you execute this script, change the email address below to your own.\n",
    "Always tell Genbank who you are, when using their web service."
   ]
  },
  {
   "cell_type": "code",
   "execution_count": 5,
   "metadata": {
    "execution": {
     "iopub.execute_input": "2021-05-17T10:28:27.431379Z",
     "iopub.status.busy": "2021-05-17T10:28:27.429334Z",
     "iopub.status.idle": "2021-05-17T10:28:27.432857Z",
     "shell.execute_reply": "2021-05-17T10:28:27.433616Z"
    }
   },
   "outputs": [],
   "source": [
    "gb = Genbank(\"bjornjobb@gmail.com\")"
   ]
  },
  {
   "cell_type": "markdown",
   "metadata": {},
   "source": [
    "The template is downloaded from Genbank below."
   ]
  },
  {
   "cell_type": "code",
   "execution_count": 6,
   "metadata": {
    "execution": {
     "iopub.execute_input": "2021-05-17T10:28:27.438408Z",
     "iopub.status.busy": "2021-05-17T10:28:27.437812Z",
     "iopub.status.idle": "2021-05-17T10:28:27.448523Z",
     "shell.execute_reply": "2021-05-17T10:28:27.448976Z"
    }
   },
   "outputs": [],
   "source": [
    "template = gb.nucleotide(\"BK006938.2 REGION: complement(556473..557055)\")"
   ]
  },
  {
   "cell_type": "markdown",
   "metadata": {},
   "source": [
    "The template is a 583 bp linear DNA fragment."
   ]
  },
  {
   "cell_type": "code",
   "execution_count": 7,
   "metadata": {
    "execution": {
     "iopub.execute_input": "2021-05-17T10:28:27.459049Z",
     "iopub.status.busy": "2021-05-17T10:28:27.458276Z",
     "iopub.status.idle": "2021-05-17T10:28:27.463671Z",
     "shell.execute_reply": "2021-05-17T10:28:27.462014Z"
    }
   },
   "outputs": [
    {
     "data": {
      "text/html": [
       "<a href='https://www.ncbi.nlm.nih.gov/nuccore/BK006938.2 ?from=556473&to=557055&strand=2' target='_blank'>BK006938.2  556473-557055</a>"
      ],
      "text/plain": [
       "Gbank(BK006938.2  556473-557055)(-583)"
      ]
     },
     "execution_count": 1,
     "metadata": {},
     "output_type": "execute_result"
    }
   ],
   "source": [
    "template"
   ]
  },
  {
   "cell_type": "markdown",
   "metadata": {},
   "source": [
    "The insert has the sequence shown below."
   ]
  },
  {
   "cell_type": "code",
   "execution_count": 8,
   "metadata": {
    "execution": {
     "iopub.execute_input": "2021-05-17T10:28:27.470390Z",
     "iopub.status.busy": "2021-05-17T10:28:27.469855Z",
     "iopub.status.idle": "2021-05-17T10:28:27.472263Z",
     "shell.execute_reply": "2021-05-17T10:28:27.472735Z"
    }
   },
   "outputs": [
    {
     "name": "stdout",
     "output_type": "stream",
     "text": [
      "TGTTTAAAGATTACGGATATTTAACTTACTTAGAATAATGCCATTTTTTTGAGTTATAATAATCCTACGTTAGTGTGAGCGGGATTTAAACTGTGAGGACCTTAATACATTCAGACACTTCTGCGGTATCACCCTACTTATTCCCTTCGAGATTATATCTAGGAACCCATCAGGTTGGTGGAAGATTACCCGTTCTAAGACTTTTCAGCTTCCTCTATTGATGTTACACCTGGACACCCCTTTTCTGGCATCCAGTTTTTAATCTTCAGTGGCATGTGAGATTCTCCGAAATTAATTAAAGCAATCACACAATTCTCTCGGATACCACCTCGGTTGAAACTGACAGGTGGTTTGTTACGCATGCTAATGCAAAGGAGCCTATATACCTTTGGCTCGGCTGCTGTAACAGGGAATATAAAGGGCAGCATAATTTAGGAGTTTAGTGAACTTGCAACATTTACTATTTTCCCTTCTTACGTAAATATTTTTCTTTTTAATTCTAAATCAATCTTTTTCAATTTTTTGTTTGTATTCTTTTCTTGCTTAAATCTATAACTACAAAAAACACATACATAAACTAAAA\n"
     ]
    }
   ],
   "source": [
    "print(str(template.seq))"
   ]
  },
  {
   "cell_type": "markdown",
   "metadata": {},
   "source": [
    "The seguid checksum of the template should be\n",
    "\n",
    "```G7pa0UFNS8lluHZHFsSDQv5ZafI```"
   ]
  },
  {
   "cell_type": "code",
   "execution_count": 9,
   "metadata": {
    "execution": {
     "iopub.execute_input": "2021-05-17T10:28:27.478641Z",
     "iopub.status.busy": "2021-05-17T10:28:27.477974Z",
     "iopub.status.idle": "2021-05-17T10:28:27.481998Z",
     "shell.execute_reply": "2021-05-17T10:28:27.482866Z"
    }
   },
   "outputs": [
    {
     "data": {
      "text/plain": [
       "G7pa0UFNS8lluHZHFsSDQv5ZafI"
      ]
     },
     "execution_count": 1,
     "metadata": {},
     "output_type": "execute_result"
    }
   ],
   "source": [
    "template.seguid()"
   ]
  },
  {
   "cell_type": "markdown",
   "metadata": {},
   "source": [
    "Two primers are used to amplify the insert:"
   ]
  },
  {
   "cell_type": "code",
   "execution_count": 10,
   "metadata": {
    "execution": {
     "iopub.execute_input": "2021-05-17T10:28:27.487190Z",
     "iopub.status.busy": "2021-05-17T10:28:27.486733Z",
     "iopub.status.idle": "2021-05-17T10:28:27.489155Z",
     "shell.execute_reply": "2021-05-17T10:28:27.488647Z"
    }
   },
   "outputs": [],
   "source": [
    "fp,rp = parse_primers(\"\"\">419_ScTPI1tpf\n",
    "                         TTAAATTGTTTAAAGATTACGGATATTTAACT\n",
    "                         >621_ScTPI1tpr_PacI\n",
    "                         taattaaTTTTAGTTTATGTATGTGTTTTTTGTAG\"\"\")"
   ]
  },
  {
   "cell_type": "markdown",
   "metadata": {},
   "source": [
    "PCR to create the insert using the primers above."
   ]
  },
  {
   "cell_type": "code",
   "execution_count": 11,
   "metadata": {
    "execution": {
     "iopub.execute_input": "2021-05-17T10:28:27.499568Z",
     "iopub.status.busy": "2021-05-17T10:28:27.493689Z",
     "iopub.status.idle": "2021-05-17T10:28:27.506117Z",
     "shell.execute_reply": "2021-05-17T10:28:27.505655Z"
    }
   },
   "outputs": [],
   "source": [
    "prd = pcr(fp, rp, template)\n",
    "assert str(fp.seq) in prd"
   ]
  },
  {
   "cell_type": "markdown",
   "metadata": {},
   "source": [
    "The PCR product has this length in bp."
   ]
  },
  {
   "cell_type": "code",
   "execution_count": 12,
   "metadata": {
    "execution": {
     "iopub.execute_input": "2021-05-17T10:28:27.514768Z",
     "iopub.status.busy": "2021-05-17T10:28:27.513874Z",
     "iopub.status.idle": "2021-05-17T10:28:27.518453Z",
     "shell.execute_reply": "2021-05-17T10:28:27.517884Z"
    }
   },
   "outputs": [
    {
     "data": {
      "text/plain": [
       "596"
      ]
     },
     "execution_count": 1,
     "metadata": {},
     "output_type": "execute_result"
    }
   ],
   "source": [
    "len(prd)"
   ]
  },
  {
   "cell_type": "markdown",
   "metadata": {},
   "source": [
    "A figure of the primers annealing on template."
   ]
  },
  {
   "cell_type": "code",
   "execution_count": 13,
   "metadata": {
    "execution": {
     "iopub.execute_input": "2021-05-17T10:28:27.525125Z",
     "iopub.status.busy": "2021-05-17T10:28:27.523470Z",
     "iopub.status.idle": "2021-05-17T10:28:27.529254Z",
     "shell.execute_reply": "2021-05-17T10:28:27.530242Z"
    }
   },
   "outputs": [
    {
     "data": {
      "text/plain": [
       "      5TGTTTAAAGATTACGGATATTTAACT...CTACAAAAAACACATACATAAACTAAAA3\n",
       "                                    ||||||||||||||||||||||||||||\n",
       "                                   3GATGTTTTTTGTGTATGTATTTGATTTTaattaat5\n",
       "5TTAAATTGTTTAAAGATTACGGATATTTAACT3\n",
       "       ||||||||||||||||||||||||||\n",
       "      3ACAAATTTCTAATGCCTATAAATTGA...GATGTTTTTTGTGTATGTATTTGATTTT5"
      ]
     },
     "execution_count": 1,
     "metadata": {},
     "output_type": "execute_result"
    }
   ],
   "source": [
    "prd.figure()"
   ]
  },
  {
   "cell_type": "markdown",
   "metadata": {},
   "source": [
    "A suggested PCR program."
   ]
  },
  {
   "cell_type": "code",
   "execution_count": 14,
   "metadata": {
    "execution": {
     "iopub.execute_input": "2021-05-17T10:28:27.536809Z",
     "iopub.status.busy": "2021-05-17T10:28:27.536092Z",
     "iopub.status.idle": "2021-05-17T10:28:27.540855Z",
     "shell.execute_reply": "2021-05-17T10:28:27.539629Z"
    }
   },
   "outputs": [
    {
     "data": {
      "text/plain": [
       "|95°C|95°C               |    |tmf:57.0\n",
       "|____|_____          72°C|72°C|tmr:56.8\n",
       "|5min|30s  \\ 53.1°C _____|____|60s/kb\n",
       "|    |      \\______/ 0:35|5min|GC 34%\n",
       "|    |       30s         |    |596bp"
      ]
     },
     "execution_count": 1,
     "metadata": {},
     "output_type": "execute_result"
    }
   ],
   "source": [
    "prd.program()"
   ]
  },
  {
   "cell_type": "markdown",
   "metadata": {},
   "source": [
    "The final vectors are:"
   ]
  },
  {
   "cell_type": "code",
   "execution_count": 15,
   "metadata": {
    "execution": {
     "iopub.execute_input": "2021-05-17T10:28:27.591487Z",
     "iopub.status.busy": "2021-05-17T10:28:27.554474Z",
     "iopub.status.idle": "2021-05-17T10:28:28.146109Z",
     "shell.execute_reply": "2021-05-17T10:28:28.146819Z"
    }
   },
   "outputs": [],
   "source": [
    "pYPKa_Z_TPI1 = (pYPKa_ZraI  + prd).looped().synced(pYPKa)\n",
    "pYPKa_E_TPI1 = (pYPKa_EcoRV + prd).looped().synced(pYPKa)"
   ]
  },
  {
   "cell_type": "markdown",
   "metadata": {},
   "source": [
    "The final vectors with reverse inserts are created below. These vectors theoretically make up\n",
    "fifty percent of the clones. The PCR strategy outlined below can be used to identify clones with the insert\n",
    "in the correct orientation."
   ]
  },
  {
   "cell_type": "code",
   "execution_count": 16,
   "metadata": {
    "execution": {
     "iopub.execute_input": "2021-05-17T10:28:28.221485Z",
     "iopub.status.busy": "2021-05-17T10:28:28.185173Z",
     "iopub.status.idle": "2021-05-17T10:28:28.710425Z",
     "shell.execute_reply": "2021-05-17T10:28:28.710965Z"
    }
   },
   "outputs": [],
   "source": [
    "pYPKa_Z_TPI1b = (pYPKa_ZraI  + prd.rc()).looped().synced(pYPKa)\n",
    "pYPKa_E_TPI1b = (pYPKa_EcoRV + prd.rc()).looped().synced(pYPKa)"
   ]
  },
  {
   "cell_type": "markdown",
   "metadata": {},
   "source": [
    "A combination of yeast pathway kit standard primers and the primers above are\n",
    "used for the strategy to identify correct clones.\n",
    "Standard primers used in the yeast are listed [here](standard_primers.txt)."
   ]
  },
  {
   "cell_type": "code",
   "execution_count": 17,
   "metadata": {
    "execution": {
     "iopub.execute_input": "2021-05-17T10:28:28.715512Z",
     "iopub.status.busy": "2021-05-17T10:28:28.715079Z",
     "iopub.status.idle": "2021-05-17T10:28:28.719062Z",
     "shell.execute_reply": "2021-05-17T10:28:28.718263Z"
    }
   },
   "outputs": [],
   "source": [
    "p = { x.id: x for x in parse_primers(\"\"\">577\n",
    "                                         gttctgatcctcgagcatcttaagaattc\n",
    "                                         >578\n",
    "                                         gttcttgtctcattgccacattcataagt\n",
    "                                         >468\n",
    "                                         gtcgaggaacgccaggttgcccact\n",
    "                                         >467\n",
    "                                         ATTTAAatcctgatgcgtttgtctgcacaga\n",
    "                                         >567\n",
    "                                         GTcggctgcaggtcactagtgag\n",
    "                                         >568\n",
    "                                         GTGCcatctgtgcagacaaacg\n",
    "                                         >775\n",
    "                                         gcggccgctgacTTAAAT\n",
    "                                         >778\n",
    "                                         ggtaaatccggatTAATTAA\n",
    "                                         >342\n",
    "                                         CCTTTTTACGGTTCCTGGCCT\"\"\") }"
   ]
  },
  {
   "cell_type": "markdown",
   "metadata": {},
   "source": [
    "## Diagnostic PCR confirmation\n",
    "\n",
    "The correct structure of pYPKa_Z_TPI1 is confirmed by PCR using standard primers\n",
    "577 and 342 that are vector specific together with the TPI1fw primer specific for the insert\n",
    "in a multiplex PCR reaction with\n",
    "all three primers present.\n",
    "\n",
    "Two PCR products are expected if the insert was cloned, the sizes depend\n",
    "on the orientation. If the vector is empty or contains another insert, only one\n",
    "product is formed.\n",
    "\n",
    "#### Expected PCR products sizes from pYPKa_Z_TPI1:\n",
    "\n",
    "pYPKa_Z_TPI1 with insert in correct orientation."
   ]
  },
  {
   "cell_type": "code",
   "execution_count": 18,
   "metadata": {
    "execution": {
     "iopub.execute_input": "2021-05-17T10:28:28.735206Z",
     "iopub.status.busy": "2021-05-17T10:28:28.734686Z",
     "iopub.status.idle": "2021-05-17T10:28:28.737798Z",
     "shell.execute_reply": "2021-05-17T10:28:28.737353Z"
    }
   },
   "outputs": [
    {
     "data": {
      "text/plain": [
       "[Amplicon(1530), Amplicon(1362)]"
      ]
     },
     "execution_count": 1,
     "metadata": {},
     "output_type": "execute_result"
    }
   ],
   "source": [
    "Anneal( (p['577'], p['342'], fp), pYPKa_Z_TPI1).products"
   ]
  },
  {
   "cell_type": "markdown",
   "metadata": {},
   "source": [
    "pYPKa_Z_TPI1 with insert in reverse orientation."
   ]
  },
  {
   "cell_type": "code",
   "execution_count": 19,
   "metadata": {
    "execution": {
     "iopub.execute_input": "2021-05-17T10:28:28.751053Z",
     "iopub.status.busy": "2021-05-17T10:28:28.747471Z",
     "iopub.status.idle": "2021-05-17T10:28:28.754364Z",
     "shell.execute_reply": "2021-05-17T10:28:28.753933Z"
    }
   },
   "outputs": [
    {
     "data": {
      "text/plain": [
       "[Amplicon(1530), Amplicon(764)]"
      ]
     },
     "execution_count": 1,
     "metadata": {},
     "output_type": "execute_result"
    }
   ],
   "source": [
    "Anneal( (p['577'], p['342'], fp), pYPKa_Z_TPI1b).products"
   ]
  },
  {
   "cell_type": "markdown",
   "metadata": {},
   "source": [
    "Empty pYPKa clone."
   ]
  },
  {
   "cell_type": "code",
   "execution_count": 20,
   "metadata": {
    "execution": {
     "iopub.execute_input": "2021-05-17T10:28:28.766089Z",
     "iopub.status.busy": "2021-05-17T10:28:28.764566Z",
     "iopub.status.idle": "2021-05-17T10:28:28.769140Z",
     "shell.execute_reply": "2021-05-17T10:28:28.768777Z"
    }
   },
   "outputs": [
    {
     "data": {
      "text/plain": [
       "[Amplicon(934)]"
      ]
     },
     "execution_count": 1,
     "metadata": {},
     "output_type": "execute_result"
    }
   ],
   "source": [
    "Anneal( (p['577'], p['342'], fp), pYPKa).products"
   ]
  },
  {
   "cell_type": "markdown",
   "metadata": {},
   "source": [
    "#### Expected PCR products sizes pYPKa_E_TPI1:\n",
    "\n",
    "pYPKa_E_TPI1 with insert in correct orientation."
   ]
  },
  {
   "cell_type": "code",
   "execution_count": 21,
   "metadata": {
    "execution": {
     "iopub.execute_input": "2021-05-17T10:28:28.781483Z",
     "iopub.status.busy": "2021-05-17T10:28:28.780429Z",
     "iopub.status.idle": "2021-05-17T10:28:28.783853Z",
     "shell.execute_reply": "2021-05-17T10:28:28.783404Z"
    }
   },
   "outputs": [
    {
     "data": {
      "text/plain": [
       "[Amplicon(1530), Amplicon(1281)]"
      ]
     },
     "execution_count": 1,
     "metadata": {},
     "output_type": "execute_result"
    }
   ],
   "source": [
    "Anneal( (p['577'], p['342'], fp), pYPKa_E_TPI1).products"
   ]
  },
  {
   "cell_type": "markdown",
   "metadata": {},
   "source": [
    "pYPKa_E_TPI1 with insert in reverse orientation."
   ]
  },
  {
   "cell_type": "code",
   "execution_count": 22,
   "metadata": {
    "execution": {
     "iopub.execute_input": "2021-05-17T10:28:28.794833Z",
     "iopub.status.busy": "2021-05-17T10:28:28.793955Z",
     "iopub.status.idle": "2021-05-17T10:28:28.799684Z",
     "shell.execute_reply": "2021-05-17T10:28:28.799261Z"
    }
   },
   "outputs": [
    {
     "data": {
      "text/plain": [
       "[Amplicon(1530), Amplicon(845)]"
      ]
     },
     "execution_count": 1,
     "metadata": {},
     "output_type": "execute_result"
    }
   ],
   "source": [
    "Anneal( (p['577'], p['342'], fp), pYPKa_E_TPI1b).products\n"
   ]
  },
  {
   "cell_type": "markdown",
   "metadata": {},
   "source": [
    "Calculate cseguid checksums for the resulting plasmids for future reference.\n",
    "This checksum that uniquely describes a circular double stranded\n",
    "sequence. See this [blog post](https://ochsavidare.blogspot.com/2016/02/checksum-for-circular-biological.html) for more info.\n",
    "\n",
    "pYPKa_Z_TPI1.cseguid() should be 2GKjDNZ342eyAuz1oFXGAyrC-VE"
   ]
  },
  {
   "cell_type": "code",
   "execution_count": 23,
   "metadata": {
    "execution": {
     "iopub.execute_input": "2021-05-17T10:28:28.810053Z",
     "iopub.status.busy": "2021-05-17T10:28:28.808910Z",
     "iopub.status.idle": "2021-05-17T10:28:28.812519Z",
     "shell.execute_reply": "2021-05-17T10:28:28.812973Z"
    }
   },
   "outputs": [
    {
     "name": "stdout",
     "output_type": "stream",
     "text": [
      "2GKjDNZ342eyAuz1oFXGAyrC-VE\n"
     ]
    }
   ],
   "source": [
    "print(pYPKa_Z_TPI1.cseguid())\n",
    "assert pYPKa_Z_TPI1.cseguid() == \"2GKjDNZ342eyAuz1oFXGAyrC-VE\""
   ]
  },
  {
   "cell_type": "markdown",
   "metadata": {},
   "source": [
    "pYPKa_E_TPI1.cseguid() should be 710wmGD03YAtPfyLJNo0rzoFVC0"
   ]
  },
  {
   "cell_type": "code",
   "execution_count": 24,
   "metadata": {
    "execution": {
     "iopub.execute_input": "2021-05-17T10:28:28.821998Z",
     "iopub.status.busy": "2021-05-17T10:28:28.821414Z",
     "iopub.status.idle": "2021-05-17T10:28:28.824061Z",
     "shell.execute_reply": "2021-05-17T10:28:28.824589Z"
    }
   },
   "outputs": [
    {
     "name": "stdout",
     "output_type": "stream",
     "text": [
      "710wmGD03YAtPfyLJNo0rzoFVC0\n"
     ]
    }
   ],
   "source": [
    "print(pYPKa_E_TPI1.cseguid())\n",
    "assert pYPKa_E_TPI1.cseguid() == \"710wmGD03YAtPfyLJNo0rzoFVC0\""
   ]
  },
  {
   "cell_type": "markdown",
   "metadata": {},
   "source": [
    "The sequences are named based on the name of the cloned insert."
   ]
  },
  {
   "cell_type": "code",
   "execution_count": 25,
   "metadata": {
    "execution": {
     "iopub.execute_input": "2021-05-17T10:28:28.830033Z",
     "iopub.status.busy": "2021-05-17T10:28:28.828672Z",
     "iopub.status.idle": "2021-05-17T10:28:28.833321Z",
     "shell.execute_reply": "2021-05-17T10:28:28.833780Z"
    }
   },
   "outputs": [],
   "source": [
    "pYPKa_Z_TPI1.locus = \"pYPKa_Z_TPI1\"[:16]\n",
    "pYPKa_E_TPI1.locus = \"pYPKa_Z_TPI1\"[:16]"
   ]
  },
  {
   "cell_type": "markdown",
   "metadata": {},
   "source": [
    "Stamp sequence with cseguid checksum. This can be used to verify the\n",
    "integrity of the sequence file."
   ]
  },
  {
   "cell_type": "code",
   "execution_count": 26,
   "metadata": {
    "execution": {
     "iopub.execute_input": "2021-05-17T10:28:28.845467Z",
     "iopub.status.busy": "2021-05-17T10:28:28.844848Z",
     "iopub.status.idle": "2021-05-17T10:28:28.847805Z",
     "shell.execute_reply": "2021-05-17T10:28:28.847317Z"
    }
   },
   "outputs": [
    {
     "data": {
      "text/plain": [
       "cSEGUID_710wmGD03YAtPfyLJNo0rzoFVC0"
      ]
     },
     "execution_count": 1,
     "metadata": {},
     "output_type": "execute_result"
    }
   ],
   "source": [
    "pYPKa_Z_TPI1.stamp()\n",
    "pYPKa_E_TPI1.stamp()"
   ]
  },
  {
   "cell_type": "markdown",
   "metadata": {},
   "source": [
    "pYPKa_Z_TPI1 is written to a local file:"
   ]
  },
  {
   "cell_type": "code",
   "execution_count": 27,
   "metadata": {
    "execution": {
     "iopub.execute_input": "2021-05-17T10:28:28.853701Z",
     "iopub.status.busy": "2021-05-17T10:28:28.850504Z",
     "iopub.status.idle": "2021-05-17T10:28:28.858289Z",
     "shell.execute_reply": "2021-05-17T10:28:28.858874Z"
    }
   },
   "outputs": [
    {
     "data": {
      "text/html": [
       "<font face=monospace><a href='pYPKa_Z_TPI1.gb' target='_blank'>pYPKa_Z_TPI1.gb</a></font><br>"
      ]
     },
     "metadata": {},
     "output_type": "display_data"
    }
   ],
   "source": [
    "pYPKa_Z_TPI1.write(\"pYPKa_Z_TPI1.gb\")"
   ]
  },
  {
   "cell_type": "markdown",
   "metadata": {},
   "source": [
    "pYPKa_E_TPI1 is written to a local file:"
   ]
  },
  {
   "cell_type": "code",
   "execution_count": 28,
   "metadata": {
    "execution": {
     "iopub.execute_input": "2021-05-17T10:28:28.866117Z",
     "iopub.status.busy": "2021-05-17T10:28:28.864306Z",
     "iopub.status.idle": "2021-05-17T10:28:28.872337Z",
     "shell.execute_reply": "2021-05-17T10:28:28.872673Z"
    }
   },
   "outputs": [
    {
     "data": {
      "text/html": [
       "<font face=monospace><a href='pYPKa_E_TPI1.gb' target='_blank'>pYPKa_E_TPI1.gb</a></font><br>"
      ]
     },
     "metadata": {},
     "output_type": "display_data"
    }
   ],
   "source": [
    "pYPKa_E_TPI1.write(\"pYPKa_E_TPI1.gb\")"
   ]
  }
 ],
 "metadata": {
  "language_info": {
   "codemirror_mode": {
    "name": "ipython",
    "version": 3
   },
   "file_extension": ".py",
   "mimetype": "text/x-python",
   "name": "python",
   "nbconvert_exporter": "python",
   "pygments_lexer": "ipython3",
   "version": "3.9.0"
  }
 },
 "nbformat": 4,
 "nbformat_minor": 2
}
