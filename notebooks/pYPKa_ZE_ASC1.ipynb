{
 "cells": [
  {
   "cell_type": "markdown",
   "metadata": {},
   "source": [
    "# pYPKa_Z_ASC1 and pYPKa_E_ASC1\n",
    "\n",
    "This Jupyter notebook describe the construction of E. coli vectors [pYPKa_Z_ASC1](pYPKa_Z_ASC1.gb) and [pYPKa_E_ASC1](pYPKa_E_ASC1.gb).\n",
    "\n",
    "These two vectors share backbone and insert, but in the former, the insert is cloned using the restriction\n",
    "enzyme [ZraI](http://rebase.neb.com/rebase/enz/ZraI.html) while in the latter [EcoRV](http://rebase.neb.com/rebase/enz/EcoRV.html) is used.\n",
    "\n",
    "The insert cloned in ZraI is meant to function as a promoter, while in the EcoRV site it is meant to be  used as a terminator.\n",
    "\n",
    "![pYPKa_Z and pYPKa_E](figure_pYPKa_ZE.png \"pYPKa_Z or pYPKa_E plasmid\")\n",
    "\n",
    "\n",
    "The [pydna](https://pypi.python.org/pypi/pydna/) package is imported in the code cell below.\n",
    "There is a [publication](http://www.biomedcentral.com/1471-2105/16/142) describing pydna as well as\n",
    "[documentation](http://pydna.readthedocs.io/) available online.\n",
    "Pydna is developed on [Github](https://github.com/BjornFJohansson/pydna)."
   ]
  },
  {
   "cell_type": "code",
   "execution_count": 1,
   "metadata": {
    "execution": {
     "iopub.execute_input": "2021-05-17T10:25:25.507161Z",
     "iopub.status.busy": "2021-05-17T10:25:25.506321Z",
     "iopub.status.idle": "2021-05-17T10:25:26.019330Z",
     "shell.execute_reply": "2021-05-17T10:25:26.018726Z"
    }
   },
   "outputs": [],
   "source": [
    "from pydna.readers import read\n",
    "from pydna.parsers import parse_primers\n",
    "from pydna.genbank import Genbank\n",
    "from pydna.amplify import pcr\n",
    "from pydna.amplify import Anneal"
   ]
  },
  {
   "cell_type": "markdown",
   "metadata": {},
   "source": [
    "The vector backbone pYPKa is read from a local [file](pYPKa.gb)."
   ]
  },
  {
   "cell_type": "code",
   "execution_count": 2,
   "metadata": {
    "execution": {
     "iopub.execute_input": "2021-05-17T10:25:26.026336Z",
     "iopub.status.busy": "2021-05-17T10:25:26.025827Z",
     "iopub.status.idle": "2021-05-17T10:25:26.040964Z",
     "shell.execute_reply": "2021-05-17T10:25:26.040437Z"
    }
   },
   "outputs": [
    {
     "data": {
      "text/html": [
       "<a href='pYPKa.gb' target='_blank'>pYPKa.gb</a><br>"
      ],
      "text/plain": [
       "File(3128bp TmU_6uVdgKq5aQhTpHux7dVk9J8)(o3128)"
      ]
     },
     "execution_count": 1,
     "metadata": {},
     "output_type": "execute_result"
    }
   ],
   "source": [
    "pYPKa = read(\"pYPKa.gb\")\n",
    "pYPKa"
   ]
  },
  {
   "cell_type": "markdown",
   "metadata": {},
   "source": [
    "Both restriction enzymes are imported from [Biopython](http://biopython.org/wiki/Main_Page)"
   ]
  },
  {
   "cell_type": "code",
   "execution_count": 3,
   "metadata": {
    "execution": {
     "iopub.execute_input": "2021-05-17T10:25:26.044661Z",
     "iopub.status.busy": "2021-05-17T10:25:26.044171Z",
     "iopub.status.idle": "2021-05-17T10:25:26.046277Z",
     "shell.execute_reply": "2021-05-17T10:25:26.046921Z"
    }
   },
   "outputs": [],
   "source": [
    "from Bio.Restriction import ZraI, EcoRV"
   ]
  },
  {
   "cell_type": "markdown",
   "metadata": {},
   "source": [
    "The vector is cut with both enzymes."
   ]
  },
  {
   "cell_type": "code",
   "execution_count": 4,
   "metadata": {
    "execution": {
     "iopub.execute_input": "2021-05-17T10:25:26.055578Z",
     "iopub.status.busy": "2021-05-17T10:25:26.054936Z",
     "iopub.status.idle": "2021-05-17T10:25:26.057831Z",
     "shell.execute_reply": "2021-05-17T10:25:26.058325Z"
    }
   },
   "outputs": [
    {
     "data": {
      "text/plain": [
       "(Dseqrecord(-3128), Dseqrecord(-3128))"
      ]
     },
     "execution_count": 1,
     "metadata": {},
     "output_type": "execute_result"
    }
   ],
   "source": [
    "pYPKa_ZraI  = pYPKa.linearize(ZraI)\n",
    "pYPKa_EcoRV = pYPKa.linearize(EcoRV)\n",
    "pYPKa_ZraI, pYPKa_EcoRV"
   ]
  },
  {
   "cell_type": "markdown",
   "metadata": {},
   "source": [
    "The template below comes from a Genbank [record](http://www.ncbi.nlm.nih.gov/nuccore/BK006946.2).\n",
    "Access to Genbank is needed in order to download the template.\n",
    "If you execute this script, change the email address below to your own.\n",
    "Always tell Genbank who you are, when using their web service."
   ]
  },
  {
   "cell_type": "code",
   "execution_count": 5,
   "metadata": {
    "execution": {
     "iopub.execute_input": "2021-05-17T10:25:26.062362Z",
     "iopub.status.busy": "2021-05-17T10:25:26.061874Z",
     "iopub.status.idle": "2021-05-17T10:25:26.065156Z",
     "shell.execute_reply": "2021-05-17T10:25:26.064432Z"
    }
   },
   "outputs": [],
   "source": [
    "gb = Genbank(\"bjornjobb@gmail.com\")"
   ]
  },
  {
   "cell_type": "markdown",
   "metadata": {},
   "source": [
    "The template is downloaded from Genbank below."
   ]
  },
  {
   "cell_type": "code",
   "execution_count": 6,
   "metadata": {
    "execution": {
     "iopub.execute_input": "2021-05-17T10:25:26.070830Z",
     "iopub.status.busy": "2021-05-17T10:25:26.070070Z",
     "iopub.status.idle": "2021-05-17T10:25:26.080565Z",
     "shell.execute_reply": "2021-05-17T10:25:26.079923Z"
    }
   },
   "outputs": [],
   "source": [
    "template = gb.nucleotide(\"BK006946.2 REGION: complement(500689..501249)\")"
   ]
  },
  {
   "cell_type": "markdown",
   "metadata": {},
   "source": [
    "The template is a 561 bp linear DNA fragment."
   ]
  },
  {
   "cell_type": "code",
   "execution_count": 7,
   "metadata": {
    "execution": {
     "iopub.execute_input": "2021-05-17T10:25:26.085756Z",
     "iopub.status.busy": "2021-05-17T10:25:26.084881Z",
     "iopub.status.idle": "2021-05-17T10:25:26.089645Z",
     "shell.execute_reply": "2021-05-17T10:25:26.088679Z"
    }
   },
   "outputs": [
    {
     "data": {
      "text/html": [
       "<a href='https://www.ncbi.nlm.nih.gov/nuccore/BK006946.2 ?from=500689&to=501249&strand=2' target='_blank'>BK006946.2  500689-501249</a>"
      ],
      "text/plain": [
       "Gbank(BK006946.2  500689-501249)(-561)"
      ]
     },
     "execution_count": 1,
     "metadata": {},
     "output_type": "execute_result"
    }
   ],
   "source": [
    "template"
   ]
  },
  {
   "cell_type": "markdown",
   "metadata": {},
   "source": [
    "The insert has the sequence shown below."
   ]
  },
  {
   "cell_type": "code",
   "execution_count": 8,
   "metadata": {
    "execution": {
     "iopub.execute_input": "2021-05-17T10:25:26.094532Z",
     "iopub.status.busy": "2021-05-17T10:25:26.093716Z",
     "iopub.status.idle": "2021-05-17T10:25:26.097416Z",
     "shell.execute_reply": "2021-05-17T10:25:26.096769Z"
    }
   },
   "outputs": [
    {
     "name": "stdout",
     "output_type": "stream",
     "text": [
      "AAATTGAGATCATTAATAAAATACTACAGTGGCATACATATTCAATGAGCTGAGCATAATTATTAGCATTATGAATTGGAACCACGTATTTTGCTCGGTGTGATATAACTACAATATTTACTCTAGATGCACCATTCTACGTTTAAAAGATACTGGACTGTCACAACGTAACTGGTTTGTCAAAATATTTGTTTGTGTTACTGGTAATACTCATCACCATACTTATATTCCCCCAAACCTGGCCATCTGTAGCCTTATGACTATGTACGGATGTTAGGCCGTCTTCGTTATCGCTCCGTTCTGAAAATTTCTTAGCGAGGACGTGCTTCTCCAGCGAAAGTCTCAGAACGTTTGTTGAAAAAAATTTCATCCACGCAACTTTTTTTTGGATGTGTAAGACCAATTTTTTTGGCATTGGGCTATTCCTTTAATTGTGGATTTTCTACAACTTGAAAATTTTCCTATATTTAAGACTGCTCCTTTGGTTTTCCTAACTCGTTCTCTCTCTCTTTTTTTTTTCCAAAAAATCCTTATAACACACTAAAGTAAATAAAGTGAAAA\n"
     ]
    }
   ],
   "source": [
    "print(str(template.seq))"
   ]
  },
  {
   "cell_type": "markdown",
   "metadata": {},
   "source": [
    "The seguid checksum of the template should be\n",
    "\n",
    "```XAx4hRIX8sj8_VeQyaiqgONgkX8```"
   ]
  },
  {
   "cell_type": "code",
   "execution_count": 9,
   "metadata": {
    "execution": {
     "iopub.execute_input": "2021-05-17T10:25:26.102227Z",
     "iopub.status.busy": "2021-05-17T10:25:26.101330Z",
     "iopub.status.idle": "2021-05-17T10:25:26.105830Z",
     "shell.execute_reply": "2021-05-17T10:25:26.105089Z"
    }
   },
   "outputs": [
    {
     "data": {
      "text/plain": [
       "XAx4hRIX8sj8_VeQyaiqgONgkX8"
      ]
     },
     "execution_count": 1,
     "metadata": {},
     "output_type": "execute_result"
    }
   ],
   "source": [
    "template.seguid()"
   ]
  },
  {
   "cell_type": "markdown",
   "metadata": {},
   "source": [
    "Two primers are used to amplify the insert:"
   ]
  },
  {
   "cell_type": "code",
   "execution_count": 10,
   "metadata": {
    "execution": {
     "iopub.execute_input": "2021-05-17T10:25:26.111488Z",
     "iopub.status.busy": "2021-05-17T10:25:26.110801Z",
     "iopub.status.idle": "2021-05-17T10:25:26.114023Z",
     "shell.execute_reply": "2021-05-17T10:25:26.113288Z"
    }
   },
   "outputs": [],
   "source": [
    "fp,rp = parse_primers(\"\"\">1030_fw561\n",
    "                         ttaaatAAATTGAGATCATTAATAAAATA\n",
    "                         >1029_rv561\n",
    "                         taattaaTTTTCACTTTATTTACTTTAGT\"\"\")"
   ]
  },
  {
   "cell_type": "markdown",
   "metadata": {},
   "source": [
    "PCR to create the insert using the primers above."
   ]
  },
  {
   "cell_type": "code",
   "execution_count": 11,
   "metadata": {
    "execution": {
     "iopub.execute_input": "2021-05-17T10:25:26.121089Z",
     "iopub.status.busy": "2021-05-17T10:25:26.120021Z",
     "iopub.status.idle": "2021-05-17T10:25:26.125449Z",
     "shell.execute_reply": "2021-05-17T10:25:26.124877Z"
    }
   },
   "outputs": [],
   "source": [
    "prd = pcr(fp, rp, template)\n",
    "assert str(fp.seq) in prd"
   ]
  },
  {
   "cell_type": "markdown",
   "metadata": {},
   "source": [
    "The PCR product has this length in bp."
   ]
  },
  {
   "cell_type": "code",
   "execution_count": 12,
   "metadata": {
    "execution": {
     "iopub.execute_input": "2021-05-17T10:25:26.129819Z",
     "iopub.status.busy": "2021-05-17T10:25:26.129046Z",
     "iopub.status.idle": "2021-05-17T10:25:26.133035Z",
     "shell.execute_reply": "2021-05-17T10:25:26.132426Z"
    }
   },
   "outputs": [
    {
     "data": {
      "text/plain": [
       "574"
      ]
     },
     "execution_count": 1,
     "metadata": {},
     "output_type": "execute_result"
    }
   ],
   "source": [
    "len(prd)"
   ]
  },
  {
   "cell_type": "markdown",
   "metadata": {},
   "source": [
    "A figure of the primers annealing on template."
   ]
  },
  {
   "cell_type": "code",
   "execution_count": 13,
   "metadata": {
    "execution": {
     "iopub.execute_input": "2021-05-17T10:25:26.137838Z",
     "iopub.status.busy": "2021-05-17T10:25:26.137115Z",
     "iopub.status.idle": "2021-05-17T10:25:26.140190Z",
     "shell.execute_reply": "2021-05-17T10:25:26.140754Z"
    }
   },
   "outputs": [
    {
     "data": {
      "text/plain": [
       "      5AAATTGAGATCATTAATAAAATA...ACTAAAGTAAATAAAGTGAAAA3\n",
       "                                 ||||||||||||||||||||||\n",
       "                                3TGATTTCATTTATTTCACTTTTaattaat5\n",
       "5ttaaatAAATTGAGATCATTAATAAAATA3\n",
       "       |||||||||||||||||||||||\n",
       "      3TTTAACTCTAGTAATTATTTTAT...TGATTTCATTTATTTCACTTTT5"
      ]
     },
     "execution_count": 1,
     "metadata": {},
     "output_type": "execute_result"
    }
   ],
   "source": [
    "prd.figure()"
   ]
  },
  {
   "cell_type": "markdown",
   "metadata": {},
   "source": [
    "A suggested PCR program."
   ]
  },
  {
   "cell_type": "code",
   "execution_count": 14,
   "metadata": {
    "execution": {
     "iopub.execute_input": "2021-05-17T10:25:26.145762Z",
     "iopub.status.busy": "2021-05-17T10:25:26.144918Z",
     "iopub.status.idle": "2021-05-17T10:25:26.148680Z",
     "shell.execute_reply": "2021-05-17T10:25:26.148082Z"
    }
   },
   "outputs": [
    {
     "data": {
      "text/plain": [
       "|95°C|95°C               |    |tmf:48.4\n",
       "|____|_____          72°C|72°C|tmr:50.2\n",
       "|5min|30s  \\ 50.4°C _____|____|60s/kb\n",
       "|    |      \\______/ 0:34|5min|GC 34%\n",
       "|    |       30s         |    |574bp"
      ]
     },
     "execution_count": 1,
     "metadata": {},
     "output_type": "execute_result"
    }
   ],
   "source": [
    "prd.program()"
   ]
  },
  {
   "cell_type": "markdown",
   "metadata": {},
   "source": [
    "The final vectors are:"
   ]
  },
  {
   "cell_type": "code",
   "execution_count": 15,
   "metadata": {
    "execution": {
     "iopub.execute_input": "2021-05-17T10:25:26.166465Z",
     "iopub.status.busy": "2021-05-17T10:25:26.156465Z",
     "iopub.status.idle": "2021-05-17T10:25:26.606001Z",
     "shell.execute_reply": "2021-05-17T10:25:26.605330Z"
    }
   },
   "outputs": [],
   "source": [
    "pYPKa_Z_ASC1 = (pYPKa_ZraI  + prd).looped().synced(pYPKa)\n",
    "pYPKa_E_ASC1 = (pYPKa_EcoRV + prd).looped().synced(pYPKa)"
   ]
  },
  {
   "cell_type": "markdown",
   "metadata": {},
   "source": [
    "The final vectors with reverse inserts are created below. These vectors theoretically make up\n",
    "fifty percent of the clones. The PCR strategy outlined below can be used to identify clones with the insert\n",
    "in the correct orientation."
   ]
  },
  {
   "cell_type": "code",
   "execution_count": 16,
   "metadata": {
    "execution": {
     "iopub.execute_input": "2021-05-17T10:25:26.654115Z",
     "iopub.status.busy": "2021-05-17T10:25:26.618487Z",
     "iopub.status.idle": "2021-05-17T10:25:27.065516Z",
     "shell.execute_reply": "2021-05-17T10:25:27.065004Z"
    }
   },
   "outputs": [],
   "source": [
    "pYPKa_Z_ASC1b = (pYPKa_ZraI  + prd.rc()).looped().synced(pYPKa)\n",
    "pYPKa_E_ASC1b = (pYPKa_EcoRV + prd.rc()).looped().synced(pYPKa)"
   ]
  },
  {
   "cell_type": "markdown",
   "metadata": {},
   "source": [
    "A combination of yeast pathway kit standard primers and the primers above are\n",
    "used for the strategy to identify correct clones.\n",
    "Standard primers used in the yeast are listed [here](standard_primers.txt)."
   ]
  },
  {
   "cell_type": "code",
   "execution_count": 17,
   "metadata": {
    "execution": {
     "iopub.execute_input": "2021-05-17T10:25:27.069563Z",
     "iopub.status.busy": "2021-05-17T10:25:27.068334Z",
     "iopub.status.idle": "2021-05-17T10:25:27.071902Z",
     "shell.execute_reply": "2021-05-17T10:25:27.071381Z"
    }
   },
   "outputs": [],
   "source": [
    "p = { x.id: x for x in parse_primers(\"\"\">577\n",
    "                                         gttctgatcctcgagcatcttaagaattc\n",
    "                                         >578\n",
    "                                         gttcttgtctcattgccacattcataagt\n",
    "                                         >468\n",
    "                                         gtcgaggaacgccaggttgcccact\n",
    "                                         >467\n",
    "                                         ATTTAAatcctgatgcgtttgtctgcacaga\n",
    "                                         >567\n",
    "                                         GTcggctgcaggtcactagtgag\n",
    "                                         >568\n",
    "                                         GTGCcatctgtgcagacaaacg\n",
    "                                         >775\n",
    "                                         gcggccgctgacTTAAAT\n",
    "                                         >778\n",
    "                                         ggtaaatccggatTAATTAA\n",
    "                                         >342\n",
    "                                         CCTTTTTACGGTTCCTGGCCT\"\"\") }"
   ]
  },
  {
   "cell_type": "markdown",
   "metadata": {},
   "source": [
    "## Diagnostic PCR confirmation\n",
    "\n",
    "The correct structure of pYPKa_Z_ASC1 is confirmed by PCR using standard primers\n",
    "577 and 342 that are vector specific together with the ASC1fw primer specific for the insert\n",
    "in a multiplex PCR reaction with\n",
    "all three primers present.\n",
    "\n",
    "Two PCR products are expected if the insert was cloned, the sizes depend\n",
    "on the orientation. If the vector is empty or contains another insert, only one\n",
    "product is formed.\n",
    "\n",
    "#### Expected PCR products sizes from pYPKa_Z_ASC1:\n",
    "\n",
    "pYPKa_Z_ASC1 with insert in correct orientation."
   ]
  },
  {
   "cell_type": "code",
   "execution_count": 18,
   "metadata": {
    "execution": {
     "iopub.execute_input": "2021-05-17T10:25:27.084476Z",
     "iopub.status.busy": "2021-05-17T10:25:27.079567Z",
     "iopub.status.idle": "2021-05-17T10:25:27.087848Z",
     "shell.execute_reply": "2021-05-17T10:25:27.087353Z"
    }
   },
   "outputs": [
    {
     "data": {
      "text/plain": [
       "[Amplicon(1508), Amplicon(1340)]"
      ]
     },
     "execution_count": 1,
     "metadata": {},
     "output_type": "execute_result"
    }
   ],
   "source": [
    "Anneal( (p['577'], p['342'], fp), pYPKa_Z_ASC1).products"
   ]
  },
  {
   "cell_type": "markdown",
   "metadata": {},
   "source": [
    "pYPKa_Z_ASC1 with insert in reverse orientation."
   ]
  },
  {
   "cell_type": "code",
   "execution_count": 19,
   "metadata": {
    "execution": {
     "iopub.execute_input": "2021-05-17T10:25:27.100785Z",
     "iopub.status.busy": "2021-05-17T10:25:27.100055Z",
     "iopub.status.idle": "2021-05-17T10:25:27.102955Z",
     "shell.execute_reply": "2021-05-17T10:25:27.103380Z"
    }
   },
   "outputs": [
    {
     "data": {
      "text/plain": [
       "[Amplicon(1508), Amplicon(742)]"
      ]
     },
     "execution_count": 1,
     "metadata": {},
     "output_type": "execute_result"
    }
   ],
   "source": [
    "Anneal( (p['577'], p['342'], fp), pYPKa_Z_ASC1b).products"
   ]
  },
  {
   "cell_type": "markdown",
   "metadata": {},
   "source": [
    "Empty pYPKa clone."
   ]
  },
  {
   "cell_type": "code",
   "execution_count": 20,
   "metadata": {
    "execution": {
     "iopub.execute_input": "2021-05-17T10:25:27.110349Z",
     "iopub.status.busy": "2021-05-17T10:25:27.109879Z",
     "iopub.status.idle": "2021-05-17T10:25:27.112306Z",
     "shell.execute_reply": "2021-05-17T10:25:27.112742Z"
    }
   },
   "outputs": [
    {
     "data": {
      "text/plain": [
       "[Amplicon(934)]"
      ]
     },
     "execution_count": 1,
     "metadata": {},
     "output_type": "execute_result"
    }
   ],
   "source": [
    "Anneal( (p['577'], p['342'], fp), pYPKa).products"
   ]
  },
  {
   "cell_type": "markdown",
   "metadata": {},
   "source": [
    "#### Expected PCR products sizes pYPKa_E_ASC1:\n",
    "\n",
    "pYPKa_E_ASC1 with insert in correct orientation."
   ]
  },
  {
   "cell_type": "code",
   "execution_count": 21,
   "metadata": {
    "execution": {
     "iopub.execute_input": "2021-05-17T10:25:27.123220Z",
     "iopub.status.busy": "2021-05-17T10:25:27.122489Z",
     "iopub.status.idle": "2021-05-17T10:25:27.125633Z",
     "shell.execute_reply": "2021-05-17T10:25:27.126217Z"
    }
   },
   "outputs": [
    {
     "data": {
      "text/plain": [
       "[Amplicon(1508), Amplicon(1259)]"
      ]
     },
     "execution_count": 1,
     "metadata": {},
     "output_type": "execute_result"
    }
   ],
   "source": [
    "Anneal( (p['577'], p['342'], fp), pYPKa_E_ASC1).products"
   ]
  },
  {
   "cell_type": "markdown",
   "metadata": {},
   "source": [
    "pYPKa_E_ASC1 with insert in reverse orientation."
   ]
  },
  {
   "cell_type": "code",
   "execution_count": 22,
   "metadata": {
    "execution": {
     "iopub.execute_input": "2021-05-17T10:25:27.138793Z",
     "iopub.status.busy": "2021-05-17T10:25:27.138163Z",
     "iopub.status.idle": "2021-05-17T10:25:27.141854Z",
     "shell.execute_reply": "2021-05-17T10:25:27.141384Z"
    }
   },
   "outputs": [
    {
     "data": {
      "text/plain": [
       "[Amplicon(1508), Amplicon(823)]"
      ]
     },
     "execution_count": 1,
     "metadata": {},
     "output_type": "execute_result"
    }
   ],
   "source": [
    "Anneal( (p['577'], p['342'], fp), pYPKa_E_ASC1b).products\n"
   ]
  },
  {
   "cell_type": "markdown",
   "metadata": {},
   "source": [
    "Calculate cseguid checksums for the resulting plasmids for future reference.\n",
    "Cseguid is a checksum that uniquely describes a circular double stranded\n",
    "sequence.\n",
    "\n",
    "pYPKa_Z_ASC1.cseguid() should be M2iWviuR-HlbsUbdSi95fA_h2Qg"
   ]
  },
  {
   "cell_type": "code",
   "execution_count": 23,
   "metadata": {
    "execution": {
     "iopub.execute_input": "2021-05-17T10:25:27.152719Z",
     "iopub.status.busy": "2021-05-17T10:25:27.152152Z",
     "iopub.status.idle": "2021-05-17T10:25:27.154856Z",
     "shell.execute_reply": "2021-05-17T10:25:27.155394Z"
    }
   },
   "outputs": [
    {
     "name": "stdout",
     "output_type": "stream",
     "text": [
      "M2iWviuR-HlbsUbdSi95fA_h2Qg\n"
     ]
    }
   ],
   "source": [
    "print(pYPKa_Z_ASC1.cseguid())\n",
    "assert pYPKa_Z_ASC1.cseguid() == \"M2iWviuR-HlbsUbdSi95fA_h2Qg\""
   ]
  },
  {
   "cell_type": "markdown",
   "metadata": {},
   "source": [
    "pYPKa_E_ASC1.cseguid() should be _XFzxyb36fgfT51kH5suAVbIM94"
   ]
  },
  {
   "cell_type": "code",
   "execution_count": 24,
   "metadata": {
    "execution": {
     "iopub.execute_input": "2021-05-17T10:25:27.167340Z",
     "iopub.status.busy": "2021-05-17T10:25:27.166756Z",
     "iopub.status.idle": "2021-05-17T10:25:27.169588Z",
     "shell.execute_reply": "2021-05-17T10:25:27.169112Z"
    }
   },
   "outputs": [
    {
     "name": "stdout",
     "output_type": "stream",
     "text": [
      "_XFzxyb36fgfT51kH5suAVbIM94\n"
     ]
    }
   ],
   "source": [
    "print(pYPKa_E_ASC1.cseguid())\n",
    "assert pYPKa_E_ASC1.cseguid() == \"_XFzxyb36fgfT51kH5suAVbIM94\""
   ]
  },
  {
   "cell_type": "markdown",
   "metadata": {},
   "source": [
    "The sequences are named based on the name of the cloned insert."
   ]
  },
  {
   "cell_type": "code",
   "execution_count": 25,
   "metadata": {
    "execution": {
     "iopub.execute_input": "2021-05-17T10:25:27.172884Z",
     "iopub.status.busy": "2021-05-17T10:25:27.172402Z",
     "iopub.status.idle": "2021-05-17T10:25:27.175125Z",
     "shell.execute_reply": "2021-05-17T10:25:27.175789Z"
    }
   },
   "outputs": [],
   "source": [
    "pYPKa_Z_ASC1.locus = \"pYPKa_Z_ASC1\"[:16]\n",
    "pYPKa_E_ASC1.locus = \"pYPKa_Z_ASC1\"[:16]"
   ]
  },
  {
   "cell_type": "markdown",
   "metadata": {},
   "source": [
    "Stamp sequence with cseguid checksum. This can be used to verify the\n",
    "integrity of the sequence file."
   ]
  },
  {
   "cell_type": "code",
   "execution_count": 26,
   "metadata": {
    "execution": {
     "iopub.execute_input": "2021-05-17T10:25:27.188407Z",
     "iopub.status.busy": "2021-05-17T10:25:27.187769Z",
     "iopub.status.idle": "2021-05-17T10:25:27.190985Z",
     "shell.execute_reply": "2021-05-17T10:25:27.190470Z"
    }
   },
   "outputs": [
    {
     "data": {
      "text/plain": [
       "cSEGUID__XFzxyb36fgfT51kH5suAVbIM94"
      ]
     },
     "execution_count": 1,
     "metadata": {},
     "output_type": "execute_result"
    }
   ],
   "source": [
    "pYPKa_Z_ASC1.stamp()\n",
    "pYPKa_E_ASC1.stamp()"
   ]
  },
  {
   "cell_type": "markdown",
   "metadata": {},
   "source": [
    "pYPKa_Z_ASC1 is written to a local file:"
   ]
  },
  {
   "cell_type": "code",
   "execution_count": 27,
   "metadata": {
    "execution": {
     "iopub.execute_input": "2021-05-17T10:25:27.198300Z",
     "iopub.status.busy": "2021-05-17T10:25:27.193856Z",
     "iopub.status.idle": "2021-05-17T10:25:27.205501Z",
     "shell.execute_reply": "2021-05-17T10:25:27.205998Z"
    }
   },
   "outputs": [
    {
     "data": {
      "text/html": [
       "<font face=monospace><a href='pYPKa_Z_ASC1.gb' target='_blank'>pYPKa_Z_ASC1.gb</a></font><br>"
      ]
     },
     "metadata": {},
     "output_type": "display_data"
    }
   ],
   "source": [
    "pYPKa_Z_ASC1.write(\"pYPKa_Z_ASC1.gb\")"
   ]
  },
  {
   "cell_type": "markdown",
   "metadata": {},
   "source": [
    "pYPKa_E_ASC1 is written to a local file:"
   ]
  },
  {
   "cell_type": "code",
   "execution_count": 28,
   "metadata": {
    "execution": {
     "iopub.execute_input": "2021-05-17T10:25:27.209741Z",
     "iopub.status.busy": "2021-05-17T10:25:27.208853Z",
     "iopub.status.idle": "2021-05-17T10:25:27.215007Z",
     "shell.execute_reply": "2021-05-17T10:25:27.215575Z"
    }
   },
   "outputs": [
    {
     "data": {
      "text/html": [
       "<font face=monospace><a href='pYPKa_E_ASC1.gb' target='_blank'>pYPKa_E_ASC1.gb</a></font><br>"
      ]
     },
     "metadata": {},
     "output_type": "display_data"
    }
   ],
   "source": [
    "pYPKa_E_ASC1.write(\"pYPKa_E_ASC1.gb\")"
   ]
  }
 ],
 "metadata": {
  "kernelspec": {
   "display_name": "Python 3",
   "language": "python",
   "name": "python3"
  },
  "language_info": {
   "codemirror_mode": {
    "name": "ipython",
    "version": 3
   },
   "file_extension": ".py",
   "mimetype": "text/x-python",
   "name": "python",
   "nbconvert_exporter": "python",
   "pygments_lexer": "ipython3",
   "version": "3.9.0"
  }
 },
 "nbformat": 4,
 "nbformat_minor": 2
}
