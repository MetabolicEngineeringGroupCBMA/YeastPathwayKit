{
 "cells": [
  {
   "cell_type": "markdown",
   "metadata": {},
   "source": [
    "# pYPKa_Z_RPS19a and pYPKa_E_RPS19a\n",
    "\n",
    "This Jupyter notebook describe the construction of E. coli vectors [pYPKa_Z_RPS19a](pYPKa_Z_RPS19a.gb) and [pYPKa_E_RPS19a](pYPKa_E_RPS19a.gb). \n",
    "These two vectors share backbone and insert, but in the former, the insert is cloned using the restriction\n",
    "enzyme [ZraI](http://rebase.neb.com/rebase/enz/ZraI.html) while in the latter [EcoRV](http://rebase.neb.com/rebase/enz/EcoRV.html) is used.\n",
    "\n",
    "The insert cloned in ZraI is meant to function as a promoter, while in the EcoRV site it is meant to be  used as a terminator.\n",
    "\n",
    "Links to the sequence of each vector in Genbank format can be found at the bottom of this document.\n",
    "\n",
    "![pYPKa_Z and pYPKa_E](figure_pYPKa_ZE.png \"pYPKa_Z or pYPKa_E plasmid\")\n",
    "\n",
    "The Python package [pydna](https://pypi.python.org/pypi/pydna/) package is imported in the code cell below to provide \n",
    "the cloning functionality. There is a [publication](http://www.biomedcentral.com/1471-2105/16/142) describing pydna as well as\n",
    "[documentation](http://pydna.readthedocs.io/) available online. Pydna is developed on [Github](https://github.com/BjornFJohansson/pydna)."
   ]
  },
  {
   "cell_type": "code",
   "execution_count": 1,
   "metadata": {
    "execution": {
     "iopub.execute_input": "2021-05-17T10:27:46.636550Z",
     "iopub.status.busy": "2021-05-17T10:27:46.635669Z",
     "iopub.status.idle": "2021-05-17T10:27:47.304581Z",
     "shell.execute_reply": "2021-05-17T10:27:47.305205Z"
    }
   },
   "outputs": [],
   "source": [
    "from pydna.readers import read\n",
    "from pydna.parsers import parse_primers\n",
    "from pydna.genbank import Genbank\n",
    "from pydna.amplify import pcr\n",
    "from pydna.amplify import Anneal"
   ]
  },
  {
   "cell_type": "markdown",
   "metadata": {},
   "source": [
    "The vector backbone pYPKa is read from a local [file](pYPKa.gb)."
   ]
  },
  {
   "cell_type": "code",
   "execution_count": 2,
   "metadata": {
    "execution": {
     "iopub.execute_input": "2021-05-17T10:27:47.314265Z",
     "iopub.status.busy": "2021-05-17T10:27:47.313813Z",
     "iopub.status.idle": "2021-05-17T10:27:47.323858Z",
     "shell.execute_reply": "2021-05-17T10:27:47.323018Z"
    }
   },
   "outputs": [],
   "source": [
    "pYPKa = read(\"pYPKa.gb\")"
   ]
  },
  {
   "cell_type": "markdown",
   "metadata": {},
   "source": [
    "Both restriction enzymes are imported from [Biopython](http://biopython.org/wiki/Main_Page)"
   ]
  },
  {
   "cell_type": "code",
   "execution_count": 3,
   "metadata": {
    "execution": {
     "iopub.execute_input": "2021-05-17T10:27:47.327436Z",
     "iopub.status.busy": "2021-05-17T10:27:47.327018Z",
     "iopub.status.idle": "2021-05-17T10:27:47.331099Z",
     "shell.execute_reply": "2021-05-17T10:27:47.329247Z"
    }
   },
   "outputs": [],
   "source": [
    "from Bio.Restriction import ZraI, EcoRV"
   ]
  },
  {
   "cell_type": "markdown",
   "metadata": {},
   "source": [
    "The vector is cut with both enzymes."
   ]
  },
  {
   "cell_type": "code",
   "execution_count": 4,
   "metadata": {
    "execution": {
     "iopub.execute_input": "2021-05-17T10:27:47.339182Z",
     "iopub.status.busy": "2021-05-17T10:27:47.338655Z",
     "iopub.status.idle": "2021-05-17T10:27:47.341005Z",
     "shell.execute_reply": "2021-05-17T10:27:47.341559Z"
    }
   },
   "outputs": [],
   "source": [
    "pYPKa_ZraI  = pYPKa.linearize(ZraI)\n",
    "pYPKa_EcoRV = pYPKa.linearize(EcoRV)"
   ]
  },
  {
   "cell_type": "markdown",
   "metadata": {},
   "source": [
    "The template below comes from a Genbank [record](http://www.ncbi.nlm.nih.gov/nuccore/BK006948.2).\n",
    "Access to Genbank is needed in order to download the template.\n",
    "If you execute this script, change the email address below to your own.\n",
    "Always tell Genbank who you are, when using their web service."
   ]
  },
  {
   "cell_type": "code",
   "execution_count": 5,
   "metadata": {
    "execution": {
     "iopub.execute_input": "2021-05-17T10:27:47.347427Z",
     "iopub.status.busy": "2021-05-17T10:27:47.346841Z",
     "iopub.status.idle": "2021-05-17T10:27:47.349015Z",
     "shell.execute_reply": "2021-05-17T10:27:47.349669Z"
    }
   },
   "outputs": [],
   "source": [
    "gb = Genbank(\"bjornjobb@gmail.com\")"
   ]
  },
  {
   "cell_type": "markdown",
   "metadata": {},
   "source": [
    "The template is downloaded from Genbank below."
   ]
  },
  {
   "cell_type": "code",
   "execution_count": 6,
   "metadata": {
    "execution": {
     "iopub.execute_input": "2021-05-17T10:27:47.354555Z",
     "iopub.status.busy": "2021-05-17T10:27:47.353873Z",
     "iopub.status.idle": "2021-05-17T10:27:47.364400Z",
     "shell.execute_reply": "2021-05-17T10:27:47.364935Z"
    }
   },
   "outputs": [],
   "source": [
    "template = gb.nucleotide(\"BK006948.2 REGION: complement(92851..93394)\")"
   ]
  },
  {
   "cell_type": "markdown",
   "metadata": {},
   "source": [
    "The template is a 544 bp linear DNA fragment."
   ]
  },
  {
   "cell_type": "code",
   "execution_count": 7,
   "metadata": {
    "execution": {
     "iopub.execute_input": "2021-05-17T10:27:47.376081Z",
     "iopub.status.busy": "2021-05-17T10:27:47.375398Z",
     "iopub.status.idle": "2021-05-17T10:27:47.379021Z",
     "shell.execute_reply": "2021-05-17T10:27:47.378291Z"
    }
   },
   "outputs": [
    {
     "data": {
      "text/html": [
       "<a href='https://www.ncbi.nlm.nih.gov/nuccore/BK006948.2 ?from=92851&to=93394&strand=2' target='_blank'>BK006948.2  92851-93394</a>"
      ],
      "text/plain": [
       "Gbank(BK006948.2  92851-93394)(-544)"
      ]
     },
     "execution_count": 1,
     "metadata": {},
     "output_type": "execute_result"
    }
   ],
   "source": [
    "template"
   ]
  },
  {
   "cell_type": "markdown",
   "metadata": {},
   "source": [
    "The insert has the sequence shown below."
   ]
  },
  {
   "cell_type": "code",
   "execution_count": 8,
   "metadata": {
    "execution": {
     "iopub.execute_input": "2021-05-17T10:27:47.383411Z",
     "iopub.status.busy": "2021-05-17T10:27:47.382744Z",
     "iopub.status.idle": "2021-05-17T10:27:47.385648Z",
     "shell.execute_reply": "2021-05-17T10:27:47.385153Z"
    }
   },
   "outputs": [
    {
     "name": "stdout",
     "output_type": "stream",
     "text": [
      "GTTAACTGAAATGAAAATTTCATATTTACTTTTTTATTGTTACTCATTTGTAATTCATAAACTACATACACTTTCAATCGTTTCTTTCAAACTACATAATTTTTACTGGCGATCAATAACGCATTTAGTTCATAAAGTGAGTCAAAGTTAACACTAGAATATTTGCTACACCATCAATAGGCTAGACCATAGTTGAAAACTTTCATAATAAATTCTTCCGTTTTCAATCTTCATATACTGTGTCTCTAACCATGATACCGTGACACAACTACATCCGTACACATGTGACGTTCGTTCAACCCGTACATTTATATAAAACCGTTCTGGCGGCCTTTTATTTTTTTACATTTCTTATGATCGGGATTGCAGAACGCCGTGAAATTTTTCAATGTGAGGTTCGGCCTTGTTTGCAAAAGCCCTATTGAGATACCGGAAAGATATAGGTGAAATGAAGAAAACTATGGGTTGTATATCTAATACCCCGGTGCGTTTATTAATATTTTAGCTTGAAAGCGAAGTGATACGATCGACAAATAGAGTAAAA\n"
     ]
    }
   ],
   "source": [
    "print(str(template.seq))"
   ]
  },
  {
   "cell_type": "markdown",
   "metadata": {},
   "source": [
    "The seguid checksum of the template should be\n",
    "\n",
    "```CqNHbKdfVC5vap_jjDXfiQIyBvo```"
   ]
  },
  {
   "cell_type": "code",
   "execution_count": 9,
   "metadata": {
    "execution": {
     "iopub.execute_input": "2021-05-17T10:27:47.389404Z",
     "iopub.status.busy": "2021-05-17T10:27:47.388604Z",
     "iopub.status.idle": "2021-05-17T10:27:47.391534Z",
     "shell.execute_reply": "2021-05-17T10:27:47.392016Z"
    }
   },
   "outputs": [
    {
     "data": {
      "text/plain": [
       "CqNHbKdfVC5vap_jjDXfiQIyBvo"
      ]
     },
     "execution_count": 1,
     "metadata": {},
     "output_type": "execute_result"
    }
   ],
   "source": [
    "template.seguid()"
   ]
  },
  {
   "cell_type": "markdown",
   "metadata": {},
   "source": [
    "Two primers are used to amplify the insert:"
   ]
  },
  {
   "cell_type": "code",
   "execution_count": 10,
   "metadata": {
    "execution": {
     "iopub.execute_input": "2021-05-17T10:27:47.397455Z",
     "iopub.status.busy": "2021-05-17T10:27:47.396786Z",
     "iopub.status.idle": "2021-05-17T10:27:47.398916Z",
     "shell.execute_reply": "2021-05-17T10:27:47.399482Z"
    }
   },
   "outputs": [],
   "source": [
    "fp,rp = parse_primers(\"\"\">652_ScRPS19atpf2\n",
    "                         ttaaatGTTAACTGAAATGAAAATTT\n",
    "                         >651_ScRPS19atpr_PacI\n",
    "                         taattaaTTTTACTCTATTTGTCGATC\"\"\")"
   ]
  },
  {
   "cell_type": "markdown",
   "metadata": {},
   "source": [
    "PCR to create the insert using the primers above."
   ]
  },
  {
   "cell_type": "code",
   "execution_count": 11,
   "metadata": {
    "execution": {
     "iopub.execute_input": "2021-05-17T10:27:47.406464Z",
     "iopub.status.busy": "2021-05-17T10:27:47.405348Z",
     "iopub.status.idle": "2021-05-17T10:27:47.411924Z",
     "shell.execute_reply": "2021-05-17T10:27:47.411118Z"
    }
   },
   "outputs": [],
   "source": [
    "prd = pcr(fp, rp, template)\n",
    "assert str(fp.seq) in prd"
   ]
  },
  {
   "cell_type": "markdown",
   "metadata": {},
   "source": [
    "The PCR product has this length in bp."
   ]
  },
  {
   "cell_type": "code",
   "execution_count": 12,
   "metadata": {
    "execution": {
     "iopub.execute_input": "2021-05-17T10:27:47.416773Z",
     "iopub.status.busy": "2021-05-17T10:27:47.416115Z",
     "iopub.status.idle": "2021-05-17T10:27:47.419437Z",
     "shell.execute_reply": "2021-05-17T10:27:47.418900Z"
    }
   },
   "outputs": [
    {
     "data": {
      "text/plain": [
       "557"
      ]
     },
     "execution_count": 1,
     "metadata": {},
     "output_type": "execute_result"
    }
   ],
   "source": [
    "len(prd)"
   ]
  },
  {
   "cell_type": "markdown",
   "metadata": {},
   "source": [
    "A figure of the primers annealing on template."
   ]
  },
  {
   "cell_type": "code",
   "execution_count": 13,
   "metadata": {
    "execution": {
     "iopub.execute_input": "2021-05-17T10:27:47.424742Z",
     "iopub.status.busy": "2021-05-17T10:27:47.423894Z",
     "iopub.status.idle": "2021-05-17T10:27:47.428368Z",
     "shell.execute_reply": "2021-05-17T10:27:47.427438Z"
    }
   },
   "outputs": [
    {
     "data": {
      "text/plain": [
       "      5GTTAACTGAAATGAAAATTT...GATCGACAAATAGAGTAAAA3\n",
       "                              ||||||||||||||||||||\n",
       "                             3CTAGCTGTTTATCTCATTTTaattaat5\n",
       "5ttaaatGTTAACTGAAATGAAAATTT3\n",
       "       ||||||||||||||||||||\n",
       "      3CAATTGACTTTACTTTTAAA...CTAGCTGTTTATCTCATTTT5"
      ]
     },
     "execution_count": 1,
     "metadata": {},
     "output_type": "execute_result"
    }
   ],
   "source": [
    "prd.figure()"
   ]
  },
  {
   "cell_type": "markdown",
   "metadata": {},
   "source": [
    "A suggested PCR program."
   ]
  },
  {
   "cell_type": "code",
   "execution_count": 14,
   "metadata": {
    "execution": {
     "iopub.execute_input": "2021-05-17T10:27:47.434912Z",
     "iopub.status.busy": "2021-05-17T10:27:47.433956Z",
     "iopub.status.idle": "2021-05-17T10:27:47.437542Z",
     "shell.execute_reply": "2021-05-17T10:27:47.437053Z"
    }
   },
   "outputs": [
    {
     "data": {
      "text/plain": [
       "|95°C|95°C               |    |tmf:47.5\n",
       "|____|_____          72°C|72°C|tmr:51.2\n",
       "|5min|30s  \\ 49.8°C _____|____|60s/kb\n",
       "|    |      \\______/ 0:33|5min|GC 32%\n",
       "|    |       30s         |    |557bp"
      ]
     },
     "execution_count": 1,
     "metadata": {},
     "output_type": "execute_result"
    }
   ],
   "source": [
    "prd.program()"
   ]
  },
  {
   "cell_type": "markdown",
   "metadata": {},
   "source": [
    "The final vectors are:"
   ]
  },
  {
   "cell_type": "code",
   "execution_count": 15,
   "metadata": {
    "execution": {
     "iopub.execute_input": "2021-05-17T10:27:47.490816Z",
     "iopub.status.busy": "2021-05-17T10:27:47.475426Z",
     "iopub.status.idle": "2021-05-17T10:27:47.916121Z",
     "shell.execute_reply": "2021-05-17T10:27:47.915598Z"
    }
   },
   "outputs": [],
   "source": [
    "pYPKa_Z_RPS19a = (pYPKa_ZraI  + prd).looped().synced(pYPKa)\n",
    "pYPKa_E_RPS19a = (pYPKa_EcoRV + prd).looped().synced(pYPKa)"
   ]
  },
  {
   "cell_type": "markdown",
   "metadata": {},
   "source": [
    "The final vectors with reverse inserts are created below. These vectors theoretically make up\n",
    "fifty percent of the clones. The PCR strategy outlined below can be used to identify clones with the insert\n",
    "in the correct orientation."
   ]
  },
  {
   "cell_type": "code",
   "execution_count": 16,
   "metadata": {
    "execution": {
     "iopub.execute_input": "2021-05-17T10:27:47.990580Z",
     "iopub.status.busy": "2021-05-17T10:27:47.953874Z",
     "iopub.status.idle": "2021-05-17T10:27:48.394654Z",
     "shell.execute_reply": "2021-05-17T10:27:48.394111Z"
    }
   },
   "outputs": [],
   "source": [
    "pYPKa_Z_RPS19ab = (pYPKa_ZraI  + prd.rc()).looped().synced(pYPKa)\n",
    "pYPKa_E_RPS19ab = (pYPKa_EcoRV + prd.rc()).looped().synced(pYPKa)"
   ]
  },
  {
   "cell_type": "markdown",
   "metadata": {},
   "source": [
    "A combination of yeast pathway kit standard primers and the primers above are\n",
    "used for the strategy to identify correct clones.\n",
    "Standard primers used in the yeast are listed [here](standard_primers.txt)."
   ]
  },
  {
   "cell_type": "code",
   "execution_count": 17,
   "metadata": {
    "execution": {
     "iopub.execute_input": "2021-05-17T10:27:48.399047Z",
     "iopub.status.busy": "2021-05-17T10:27:48.398515Z",
     "iopub.status.idle": "2021-05-17T10:27:48.400927Z",
     "shell.execute_reply": "2021-05-17T10:27:48.400441Z"
    }
   },
   "outputs": [],
   "source": [
    "p = { x.id: x for x in parse_primers(\"\"\">577\n",
    "                                         gttctgatcctcgagcatcttaagaattc\n",
    "                                         >578\n",
    "                                         gttcttgtctcattgccacattcataagt\n",
    "                                         >468\n",
    "                                         gtcgaggaacgccaggttgcccact\n",
    "                                         >467\n",
    "                                         ATTTAAatcctgatgcgtttgtctgcacaga\n",
    "                                         >567\n",
    "                                         GTcggctgcaggtcactagtgag\n",
    "                                         >568\n",
    "                                         GTGCcatctgtgcagacaaacg\n",
    "                                         >775\n",
    "                                         gcggccgctgacTTAAAT\n",
    "                                         >778\n",
    "                                         ggtaaatccggatTAATTAA\n",
    "                                         >342\n",
    "                                         CCTTTTTACGGTTCCTGGCCT\"\"\") }"
   ]
  },
  {
   "cell_type": "markdown",
   "metadata": {},
   "source": [
    "## Diagnostic PCR confirmation\n",
    "\n",
    "The correct structure of pYPKa_Z_RPS19a is confirmed by PCR using standard primers\n",
    "577 and 342 that are vector specific together with the RPS19afw primer specific for the insert\n",
    "in a multiplex PCR reaction with\n",
    "all three primers present.\n",
    "\n",
    "Two PCR products are expected if the insert was cloned, the sizes depend\n",
    "on the orientation. If the vector is empty or contains another insert, only one\n",
    "product is formed.\n",
    "\n",
    "#### Expected PCR products sizes from pYPKa_Z_RPS19a:\n",
    "\n",
    "pYPKa_Z_RPS19a with insert in correct orientation."
   ]
  },
  {
   "cell_type": "code",
   "execution_count": 18,
   "metadata": {
    "execution": {
     "iopub.execute_input": "2021-05-17T10:27:48.414622Z",
     "iopub.status.busy": "2021-05-17T10:27:48.414080Z",
     "iopub.status.idle": "2021-05-17T10:27:48.418289Z",
     "shell.execute_reply": "2021-05-17T10:27:48.418783Z"
    }
   },
   "outputs": [
    {
     "data": {
      "text/plain": [
       "[Amplicon(1491), Amplicon(1323)]"
      ]
     },
     "execution_count": 1,
     "metadata": {},
     "output_type": "execute_result"
    }
   ],
   "source": [
    "Anneal( (p['577'], p['342'], fp), pYPKa_Z_RPS19a).products"
   ]
  },
  {
   "cell_type": "markdown",
   "metadata": {},
   "source": [
    "pYPKa_Z_RPS19a with insert in reverse orientation."
   ]
  },
  {
   "cell_type": "code",
   "execution_count": 19,
   "metadata": {
    "execution": {
     "iopub.execute_input": "2021-05-17T10:27:48.431415Z",
     "iopub.status.busy": "2021-05-17T10:27:48.430663Z",
     "iopub.status.idle": "2021-05-17T10:27:48.433839Z",
     "shell.execute_reply": "2021-05-17T10:27:48.434319Z"
    }
   },
   "outputs": [
    {
     "data": {
      "text/plain": [
       "[Amplicon(1491), Amplicon(725)]"
      ]
     },
     "execution_count": 1,
     "metadata": {},
     "output_type": "execute_result"
    }
   ],
   "source": [
    "Anneal( (p['577'], p['342'], fp), pYPKa_Z_RPS19ab).products"
   ]
  },
  {
   "cell_type": "markdown",
   "metadata": {},
   "source": [
    "Empty pYPKa clone."
   ]
  },
  {
   "cell_type": "code",
   "execution_count": 20,
   "metadata": {
    "execution": {
     "iopub.execute_input": "2021-05-17T10:27:48.441644Z",
     "iopub.status.busy": "2021-05-17T10:27:48.440793Z",
     "iopub.status.idle": "2021-05-17T10:27:48.445507Z",
     "shell.execute_reply": "2021-05-17T10:27:48.444934Z"
    }
   },
   "outputs": [
    {
     "data": {
      "text/plain": [
       "[Amplicon(934)]"
      ]
     },
     "execution_count": 1,
     "metadata": {},
     "output_type": "execute_result"
    }
   ],
   "source": [
    "Anneal( (p['577'], p['342'], fp), pYPKa).products"
   ]
  },
  {
   "cell_type": "markdown",
   "metadata": {},
   "source": [
    "#### Expected PCR products sizes pYPKa_E_RPS19a:\n",
    "\n",
    "pYPKa_E_RPS19a with insert in correct orientation."
   ]
  },
  {
   "cell_type": "code",
   "execution_count": 21,
   "metadata": {
    "execution": {
     "iopub.execute_input": "2021-05-17T10:27:48.460279Z",
     "iopub.status.busy": "2021-05-17T10:27:48.459637Z",
     "iopub.status.idle": "2021-05-17T10:27:48.463151Z",
     "shell.execute_reply": "2021-05-17T10:27:48.462538Z"
    }
   },
   "outputs": [
    {
     "data": {
      "text/plain": [
       "[Amplicon(1491), Amplicon(1242)]"
      ]
     },
     "execution_count": 1,
     "metadata": {},
     "output_type": "execute_result"
    }
   ],
   "source": [
    "Anneal( (p['577'], p['342'], fp), pYPKa_E_RPS19a).products"
   ]
  },
  {
   "cell_type": "markdown",
   "metadata": {},
   "source": [
    "pYPKa_E_RPS19a with insert in reverse orientation."
   ]
  },
  {
   "cell_type": "code",
   "execution_count": 22,
   "metadata": {
    "execution": {
     "iopub.execute_input": "2021-05-17T10:27:48.476575Z",
     "iopub.status.busy": "2021-05-17T10:27:48.475928Z",
     "iopub.status.idle": "2021-05-17T10:27:48.480103Z",
     "shell.execute_reply": "2021-05-17T10:27:48.479560Z"
    }
   },
   "outputs": [
    {
     "data": {
      "text/plain": [
       "[Amplicon(1491), Amplicon(806)]"
      ]
     },
     "execution_count": 1,
     "metadata": {},
     "output_type": "execute_result"
    }
   ],
   "source": [
    "Anneal( (p['577'], p['342'], fp), pYPKa_E_RPS19ab).products\n"
   ]
  },
  {
   "cell_type": "markdown",
   "metadata": {},
   "source": [
    "Calculate cseguid checksums for the resulting plasmids for future reference.\n",
    "This checksum that uniquely describes a circular double stranded\n",
    "sequence. See this [blog post](https://ochsavidare.blogspot.com/2016/02/checksum-for-circular-biological.html) for more info.\n",
    "\n",
    "pYPKa_Z_RPS19a.cseguid() should be l97SuXHlcPY5ZlH2j3JPae6zSO0"
   ]
  },
  {
   "cell_type": "code",
   "execution_count": 23,
   "metadata": {
    "execution": {
     "iopub.execute_input": "2021-05-17T10:27:48.491462Z",
     "iopub.status.busy": "2021-05-17T10:27:48.490865Z",
     "iopub.status.idle": "2021-05-17T10:27:48.493610Z",
     "shell.execute_reply": "2021-05-17T10:27:48.493122Z"
    }
   },
   "outputs": [
    {
     "name": "stdout",
     "output_type": "stream",
     "text": [
      "X6BxAcX4KUzScMcGb0RyNvAWwCc\n"
     ]
    }
   ],
   "source": [
    "print(pYPKa_Z_RPS19a.cseguid())\n",
    "assert pYPKa_Z_RPS19a.cseguid() == \"X6BxAcX4KUzScMcGb0RyNvAWwCc\""
   ]
  },
  {
   "cell_type": "markdown",
   "metadata": {},
   "source": [
    "pYPKa_E_RPS19a.cseguid() should be X6BxAcX4KUzScMcGb0RyNvAWwCc"
   ]
  },
  {
   "cell_type": "code",
   "execution_count": 24,
   "metadata": {
    "execution": {
     "iopub.execute_input": "2021-05-17T10:27:48.505087Z",
     "iopub.status.busy": "2021-05-17T10:27:48.504337Z",
     "iopub.status.idle": "2021-05-17T10:27:48.507316Z",
     "shell.execute_reply": "2021-05-17T10:27:48.506831Z"
    }
   },
   "outputs": [
    {
     "name": "stdout",
     "output_type": "stream",
     "text": [
      "DxlDnby_v4TXT2ecK1SKMKQDbIQ\n"
     ]
    }
   ],
   "source": [
    "print(pYPKa_E_RPS19a.cseguid())\n",
    "assert pYPKa_E_RPS19a.cseguid() == \"DxlDnby_v4TXT2ecK1SKMKQDbIQ\""
   ]
  },
  {
   "cell_type": "markdown",
   "metadata": {},
   "source": [
    "The sequences are named based on the name of the cloned insert."
   ]
  },
  {
   "cell_type": "code",
   "execution_count": 25,
   "metadata": {
    "execution": {
     "iopub.execute_input": "2021-05-17T10:27:48.510767Z",
     "iopub.status.busy": "2021-05-17T10:27:48.510306Z",
     "iopub.status.idle": "2021-05-17T10:27:48.512194Z",
     "shell.execute_reply": "2021-05-17T10:27:48.512711Z"
    }
   },
   "outputs": [],
   "source": [
    "pYPKa_Z_RPS19a.locus = \"pYPKa_Z_RPS19a\"[:16]\n",
    "pYPKa_E_RPS19a.locus = \"pYPKa_Z_RPS19a\"[:16]"
   ]
  },
  {
   "cell_type": "markdown",
   "metadata": {},
   "source": [
    "Stamp sequence with cseguid checksum. This can be used to verify the\n",
    "integrity of the sequence file."
   ]
  },
  {
   "cell_type": "code",
   "execution_count": 26,
   "metadata": {
    "execution": {
     "iopub.execute_input": "2021-05-17T10:27:48.523638Z",
     "iopub.status.busy": "2021-05-17T10:27:48.522787Z",
     "iopub.status.idle": "2021-05-17T10:27:48.525947Z",
     "shell.execute_reply": "2021-05-17T10:27:48.526478Z"
    }
   },
   "outputs": [
    {
     "data": {
      "text/plain": [
       "cSEGUID_DxlDnby_v4TXT2ecK1SKMKQDbIQ"
      ]
     },
     "execution_count": 1,
     "metadata": {},
     "output_type": "execute_result"
    }
   ],
   "source": [
    "pYPKa_Z_RPS19a.stamp()\n",
    "pYPKa_E_RPS19a.stamp()"
   ]
  },
  {
   "cell_type": "markdown",
   "metadata": {},
   "source": [
    "pYPKa_Z_RPS19a is written to a local file:"
   ]
  },
  {
   "cell_type": "code",
   "execution_count": 27,
   "metadata": {
    "execution": {
     "iopub.execute_input": "2021-05-17T10:27:48.533375Z",
     "iopub.status.busy": "2021-05-17T10:27:48.532801Z",
     "iopub.status.idle": "2021-05-17T10:27:48.536896Z",
     "shell.execute_reply": "2021-05-17T10:27:48.536365Z"
    }
   },
   "outputs": [
    {
     "data": {
      "text/html": [
       "<font face=monospace><a href='pYPKa_Z_RPS19a.gb' target='_blank'>pYPKa_Z_RPS19a.gb</a></font><br>"
      ]
     },
     "metadata": {},
     "output_type": "display_data"
    }
   ],
   "source": [
    "pYPKa_Z_RPS19a.write(\"pYPKa_Z_RPS19a.gb\")"
   ]
  },
  {
   "cell_type": "markdown",
   "metadata": {},
   "source": [
    "pYPKa_E_RPS19a is written to a local file:"
   ]
  },
  {
   "cell_type": "code",
   "execution_count": 28,
   "metadata": {
    "execution": {
     "iopub.execute_input": "2021-05-17T10:27:48.541977Z",
     "iopub.status.busy": "2021-05-17T10:27:48.539691Z",
     "iopub.status.idle": "2021-05-17T10:27:48.546031Z",
     "shell.execute_reply": "2021-05-17T10:27:48.546591Z"
    }
   },
   "outputs": [
    {
     "data": {
      "text/html": [
       "<font face=monospace><a href='pYPKa_E_RPS19a.gb' target='_blank'>pYPKa_E_RPS19a.gb</a></font><br>"
      ]
     },
     "metadata": {},
     "output_type": "display_data"
    }
   ],
   "source": [
    "pYPKa_E_RPS19a.write(\"pYPKa_E_RPS19a.gb\")"
   ]
  },
  {
   "cell_type": "code",
   "execution_count": null,
   "metadata": {},
   "outputs": [],
   "source": []
  }
 ],
 "metadata": {
  "kernelspec": {
   "display_name": "Python [conda env:bjorn37]",
   "language": "python",
   "name": "conda-env-bjorn37-py"
  },
  "language_info": {
   "codemirror_mode": {
    "name": "ipython",
    "version": 3
   },
   "file_extension": ".py",
   "mimetype": "text/x-python",
   "name": "python",
   "nbconvert_exporter": "python",
   "pygments_lexer": "ipython3",
   "version": "3.9.0"
  }
 },
 "nbformat": 4,
 "nbformat_minor": 4
}
