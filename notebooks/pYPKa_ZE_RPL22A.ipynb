{
 "cells": [
  {
   "cell_type": "markdown",
   "metadata": {},
   "source": [
    "# pYPKa_Z_RPL22A and pYPKa_E_RPL22A\n",
    "\n",
    "This Jupyter notebook describe the construction of E. coli vectors [pYPKa_Z_RPL22A](pYPKa_Z_RPL22A.gb) and [pYPKa_E_RPL22A](pYPKa_E_RPL22A.gb). \n",
    "These two vectors share backbone and insert, but in the former, the insert is cloned using the restriction\n",
    "enzyme [ZraI](http://rebase.neb.com/rebase/enz/ZraI.html) while in the latter [EcoRV](http://rebase.neb.com/rebase/enz/EcoRV.html) is used.\n",
    "\n",
    "The insert cloned in ZraI is meant to function as a promoter, while in the EcoRV site it is meant to be  used as a terminator.\n",
    "\n",
    "Links to the sequence of each vector in Genbank format can be found at the bottom of this document.\n",
    "\n",
    "![pYPKa_Z and pYPKa_E](figure_pYPKa_ZE.png \"pYPKa_Z or pYPKa_E plasmid\")\n",
    "\n",
    "The Python package [pydna](https://pypi.python.org/pypi/pydna/) package is imported in the code cell below to provide \n",
    "the cloning functionality. There is a [publication](http://www.biomedcentral.com/1471-2105/16/142) describing pydna as well as\n",
    "[documentation](http://pydna.readthedocs.io/) available online. Pydna is developed on [Github](https://github.com/BjornFJohansson/pydna)."
   ]
  },
  {
   "cell_type": "code",
   "execution_count": 1,
   "metadata": {
    "execution": {
     "iopub.execute_input": "2021-05-17T10:26:54.335846Z",
     "iopub.status.busy": "2021-05-17T10:26:54.335216Z",
     "iopub.status.idle": "2021-05-17T10:26:54.849786Z",
     "shell.execute_reply": "2021-05-17T10:26:54.848357Z"
    }
   },
   "outputs": [],
   "source": [
    "from pydna.readers import read\n",
    "from pydna.parsers import parse_primers\n",
    "from pydna.genbank import Genbank\n",
    "from pydna.amplify import pcr\n",
    "from pydna.amplify import Anneal"
   ]
  },
  {
   "cell_type": "markdown",
   "metadata": {},
   "source": [
    "The vector backbone pYPKa is read from a local [file](pYPKa.gb)."
   ]
  },
  {
   "cell_type": "code",
   "execution_count": 2,
   "metadata": {
    "execution": {
     "iopub.execute_input": "2021-05-17T10:26:54.859450Z",
     "iopub.status.busy": "2021-05-17T10:26:54.857556Z",
     "iopub.status.idle": "2021-05-17T10:26:54.867957Z",
     "shell.execute_reply": "2021-05-17T10:26:54.867416Z"
    }
   },
   "outputs": [],
   "source": [
    "pYPKa = read(\"pYPKa.gb\")"
   ]
  },
  {
   "cell_type": "markdown",
   "metadata": {},
   "source": [
    "Both restriction enzymes are imported from [Biopython](http://biopython.org/wiki/Main_Page)"
   ]
  },
  {
   "cell_type": "code",
   "execution_count": 3,
   "metadata": {
    "execution": {
     "iopub.execute_input": "2021-05-17T10:26:54.871246Z",
     "iopub.status.busy": "2021-05-17T10:26:54.870786Z",
     "iopub.status.idle": "2021-05-17T10:26:54.873095Z",
     "shell.execute_reply": "2021-05-17T10:26:54.872649Z"
    }
   },
   "outputs": [],
   "source": [
    "from Bio.Restriction import ZraI, EcoRV"
   ]
  },
  {
   "cell_type": "markdown",
   "metadata": {},
   "source": [
    "The vector is cut with both enzymes."
   ]
  },
  {
   "cell_type": "code",
   "execution_count": 4,
   "metadata": {
    "execution": {
     "iopub.execute_input": "2021-05-17T10:26:54.882047Z",
     "iopub.status.busy": "2021-05-17T10:26:54.881525Z",
     "iopub.status.idle": "2021-05-17T10:26:54.883990Z",
     "shell.execute_reply": "2021-05-17T10:26:54.883530Z"
    }
   },
   "outputs": [],
   "source": [
    "pYPKa_ZraI  = pYPKa.linearize(ZraI)\n",
    "pYPKa_EcoRV = pYPKa.linearize(EcoRV)"
   ]
  },
  {
   "cell_type": "markdown",
   "metadata": {},
   "source": [
    "The template below comes from a Genbank [record](http://www.ncbi.nlm.nih.gov/nuccore/BK006945.2).\n",
    "Access to Genbank is needed in order to download the template.\n",
    "If you execute this script, change the email address below to your own.\n",
    "Always tell Genbank who you are, when using their web service."
   ]
  },
  {
   "cell_type": "code",
   "execution_count": 5,
   "metadata": {
    "execution": {
     "iopub.execute_input": "2021-05-17T10:26:54.887788Z",
     "iopub.status.busy": "2021-05-17T10:26:54.887360Z",
     "iopub.status.idle": "2021-05-17T10:26:54.889404Z",
     "shell.execute_reply": "2021-05-17T10:26:54.890384Z"
    }
   },
   "outputs": [],
   "source": [
    "gb = Genbank(\"bjornjobb@gmail.com\")"
   ]
  },
  {
   "cell_type": "markdown",
   "metadata": {},
   "source": [
    "The template is downloaded from Genbank below."
   ]
  },
  {
   "cell_type": "code",
   "execution_count": 6,
   "metadata": {
    "execution": {
     "iopub.execute_input": "2021-05-17T10:26:54.896642Z",
     "iopub.status.busy": "2021-05-17T10:26:54.895890Z",
     "iopub.status.idle": "2021-05-17T10:26:54.907473Z",
     "shell.execute_reply": "2021-05-17T10:26:54.906942Z"
    }
   },
   "outputs": [],
   "source": [
    "template = gb.nucleotide(\"BK006945.2 REGION: 262767..263193\")"
   ]
  },
  {
   "cell_type": "markdown",
   "metadata": {},
   "source": [
    "The template is a 427 bp linear DNA fragment."
   ]
  },
  {
   "cell_type": "code",
   "execution_count": 7,
   "metadata": {
    "execution": {
     "iopub.execute_input": "2021-05-17T10:26:54.917245Z",
     "iopub.status.busy": "2021-05-17T10:26:54.916728Z",
     "iopub.status.idle": "2021-05-17T10:26:54.919250Z",
     "shell.execute_reply": "2021-05-17T10:26:54.919680Z"
    }
   },
   "outputs": [
    {
     "data": {
      "text/html": [
       "<a href='https://www.ncbi.nlm.nih.gov/nuccore/BK006945.2 ?from=262767&to=263193&strand=1' target='_blank'>BK006945.2  262767-263193</a>"
      ],
      "text/plain": [
       "Gbank(BK006945.2  262767-263193)(-427)"
      ]
     },
     "execution_count": 1,
     "metadata": {},
     "output_type": "execute_result"
    }
   ],
   "source": [
    "template"
   ]
  },
  {
   "cell_type": "markdown",
   "metadata": {},
   "source": [
    "The insert has the sequence shown below."
   ]
  },
  {
   "cell_type": "code",
   "execution_count": 8,
   "metadata": {
    "execution": {
     "iopub.execute_input": "2021-05-17T10:26:54.923332Z",
     "iopub.status.busy": "2021-05-17T10:26:54.922735Z",
     "iopub.status.idle": "2021-05-17T10:26:54.926013Z",
     "shell.execute_reply": "2021-05-17T10:26:54.925223Z"
    }
   },
   "outputs": [
    {
     "name": "stdout",
     "output_type": "stream",
     "text": [
      "TGTAATGTTCTAACAAAAATTTTTACTGATTTATAAAACTTATATAGATAGATAGACACATATATATATCTATATATAGAAACACAACTAAAGTTTACCATGTTTTATATAATATTACTACCGCTACTGAGTAAATGTTTAGCTTGTACTTAACTTTCAAAGACAGTTTTTTTGATAAACATCAGTACATTTAATAATACATCCATACATTTATGTTAATTTGTTTTTCCTTTCCACCTCAGTGCGCTTCTCTTTTGAAAAAATCCTCAACAGGCCACGCGAACAAATCTTACCGAGAATTTCCTAAAATGTTTCAAACTATCATTTAGCTGCATACAATATGTACATTATTAATTGAGATTAACAACTTTACCTGTACTTTACCGTTATCAAATTATAAACCACCAAAACAACAGATTAAGAAACA\n"
     ]
    }
   ],
   "source": [
    "print(str(template.seq))"
   ]
  },
  {
   "cell_type": "markdown",
   "metadata": {},
   "source": [
    "The seguid checksum of the template should be\n",
    "\n",
    "```vLHx4l3zrmuW05VYC2Lry085fIY```"
   ]
  },
  {
   "cell_type": "code",
   "execution_count": 9,
   "metadata": {
    "execution": {
     "iopub.execute_input": "2021-05-17T10:26:54.930822Z",
     "iopub.status.busy": "2021-05-17T10:26:54.930173Z",
     "iopub.status.idle": "2021-05-17T10:26:54.933558Z",
     "shell.execute_reply": "2021-05-17T10:26:54.934043Z"
    }
   },
   "outputs": [
    {
     "data": {
      "text/plain": [
       "vLHx4l3zrmuW05VYC2Lry085fIY"
      ]
     },
     "execution_count": 1,
     "metadata": {},
     "output_type": "execute_result"
    }
   ],
   "source": [
    "template.seguid()"
   ]
  },
  {
   "cell_type": "markdown",
   "metadata": {},
   "source": [
    "Two primers are used to amplify the insert:"
   ]
  },
  {
   "cell_type": "code",
   "execution_count": 10,
   "metadata": {
    "execution": {
     "iopub.execute_input": "2021-05-17T10:26:54.939034Z",
     "iopub.status.busy": "2021-05-17T10:26:54.938414Z",
     "iopub.status.idle": "2021-05-17T10:26:54.940725Z",
     "shell.execute_reply": "2021-05-17T10:26:54.941354Z"
    }
   },
   "outputs": [],
   "source": [
    "fp,rp = parse_primers(\"\"\">856_RPL22Atpf\n",
    "                         ttaaatTGTAATGTTCTAACAAAAATTT\n",
    "                         >855_RPL22Atpr\n",
    "                         taattaaTGTTTCTTAATCTGTTGTTTT\"\"\")"
   ]
  },
  {
   "cell_type": "markdown",
   "metadata": {},
   "source": [
    "PCR to create the insert using the primers above."
   ]
  },
  {
   "cell_type": "code",
   "execution_count": 11,
   "metadata": {
    "execution": {
     "iopub.execute_input": "2021-05-17T10:26:54.948248Z",
     "iopub.status.busy": "2021-05-17T10:26:54.947143Z",
     "iopub.status.idle": "2021-05-17T10:26:54.952331Z",
     "shell.execute_reply": "2021-05-17T10:26:54.952825Z"
    }
   },
   "outputs": [],
   "source": [
    "prd = pcr(fp, rp, template)\n",
    "assert str(fp.seq) in prd"
   ]
  },
  {
   "cell_type": "markdown",
   "metadata": {},
   "source": [
    "The PCR product has this length in bp."
   ]
  },
  {
   "cell_type": "code",
   "execution_count": 12,
   "metadata": {
    "execution": {
     "iopub.execute_input": "2021-05-17T10:26:54.956521Z",
     "iopub.status.busy": "2021-05-17T10:26:54.955964Z",
     "iopub.status.idle": "2021-05-17T10:26:54.960728Z",
     "shell.execute_reply": "2021-05-17T10:26:54.959735Z"
    }
   },
   "outputs": [
    {
     "data": {
      "text/plain": [
       "440"
      ]
     },
     "execution_count": 1,
     "metadata": {},
     "output_type": "execute_result"
    }
   ],
   "source": [
    "len(prd)"
   ]
  },
  {
   "cell_type": "markdown",
   "metadata": {},
   "source": [
    "A figure of the primers annealing on template."
   ]
  },
  {
   "cell_type": "code",
   "execution_count": 13,
   "metadata": {
    "execution": {
     "iopub.execute_input": "2021-05-17T10:26:54.965564Z",
     "iopub.status.busy": "2021-05-17T10:26:54.964841Z",
     "iopub.status.idle": "2021-05-17T10:26:54.968576Z",
     "shell.execute_reply": "2021-05-17T10:26:54.968002Z"
    }
   },
   "outputs": [
    {
     "data": {
      "text/plain": [
       "      5TGTAATGTTCTAACAAAAATTT...AAAACAACAGATTAAGAAACA3\n",
       "                                |||||||||||||||||||||\n",
       "                               3TTTTGTTGTCTAATTCTTTGTaattaat5\n",
       "5ttaaatTGTAATGTTCTAACAAAAATTT3\n",
       "       ||||||||||||||||||||||\n",
       "      3ACATTACAAGATTGTTTTTAAA...TTTTGTTGTCTAATTCTTTGT5"
      ]
     },
     "execution_count": 1,
     "metadata": {},
     "output_type": "execute_result"
    }
   ],
   "source": [
    "prd.figure()"
   ]
  },
  {
   "cell_type": "markdown",
   "metadata": {},
   "source": [
    "A suggested PCR program."
   ]
  },
  {
   "cell_type": "code",
   "execution_count": 14,
   "metadata": {
    "execution": {
     "iopub.execute_input": "2021-05-17T10:26:54.973660Z",
     "iopub.status.busy": "2021-05-17T10:26:54.972903Z",
     "iopub.status.idle": "2021-05-17T10:26:54.976053Z",
     "shell.execute_reply": "2021-05-17T10:26:54.976655Z"
    }
   },
   "outputs": [
    {
     "data": {
      "text/plain": [
       "|95°C|95°C               |    |tmf:50.7\n",
       "|____|_____          72°C|72°C|tmr:51.7\n",
       "|5min|30s  \\ 48.7°C _____|____|60s/kb\n",
       "|    |      \\______/ 0:26|5min|GC 26%\n",
       "|    |       30s         |    |440bp"
      ]
     },
     "execution_count": 1,
     "metadata": {},
     "output_type": "execute_result"
    }
   ],
   "source": [
    "prd.program()"
   ]
  },
  {
   "cell_type": "markdown",
   "metadata": {},
   "source": [
    "The final vectors are:"
   ]
  },
  {
   "cell_type": "code",
   "execution_count": 15,
   "metadata": {
    "execution": {
     "iopub.execute_input": "2021-05-17T10:26:55.014843Z",
     "iopub.status.busy": "2021-05-17T10:26:54.994454Z",
     "iopub.status.idle": "2021-05-17T10:26:55.423175Z",
     "shell.execute_reply": "2021-05-17T10:26:55.422667Z"
    }
   },
   "outputs": [],
   "source": [
    "pYPKa_Z_RPL22A = (pYPKa_ZraI  + prd).looped().synced(pYPKa)\n",
    "pYPKa_E_RPL22A = (pYPKa_EcoRV + prd).looped().synced(pYPKa)"
   ]
  },
  {
   "cell_type": "markdown",
   "metadata": {},
   "source": [
    "The final vectors with reverse inserts are created below. These vectors theoretically make up\n",
    "fifty percent of the clones. The PCR strategy outlined below can be used to identify clones with the insert\n",
    "in the correct orientation."
   ]
  },
  {
   "cell_type": "code",
   "execution_count": 16,
   "metadata": {
    "execution": {
     "iopub.execute_input": "2021-05-17T10:26:55.455978Z",
     "iopub.status.busy": "2021-05-17T10:26:55.445945Z",
     "iopub.status.idle": "2021-05-17T10:26:55.944136Z",
     "shell.execute_reply": "2021-05-17T10:26:55.944763Z"
    }
   },
   "outputs": [],
   "source": [
    "pYPKa_Z_RPL22Ab = (pYPKa_ZraI  + prd.rc()).looped().synced(pYPKa)\n",
    "pYPKa_E_RPL22Ab = (pYPKa_EcoRV + prd.rc()).looped().synced(pYPKa)"
   ]
  },
  {
   "cell_type": "markdown",
   "metadata": {},
   "source": [
    "A combination of yeast pathway kit standard primers and the primers above are\n",
    "used for the strategy to identify correct clones.\n",
    "Standard primers used in the yeast are listed [here](standard_primers.txt)."
   ]
  },
  {
   "cell_type": "code",
   "execution_count": 17,
   "metadata": {
    "execution": {
     "iopub.execute_input": "2021-05-17T10:26:55.950333Z",
     "iopub.status.busy": "2021-05-17T10:26:55.949654Z",
     "iopub.status.idle": "2021-05-17T10:26:55.951133Z",
     "shell.execute_reply": "2021-05-17T10:26:55.951467Z"
    }
   },
   "outputs": [],
   "source": [
    "p = { x.id: x for x in parse_primers(\"\"\">577\n",
    "                                         gttctgatcctcgagcatcttaagaattc\n",
    "                                         >578\n",
    "                                         gttcttgtctcattgccacattcataagt\n",
    "                                         >468\n",
    "                                         gtcgaggaacgccaggttgcccact\n",
    "                                         >467\n",
    "                                         ATTTAAatcctgatgcgtttgtctgcacaga\n",
    "                                         >567\n",
    "                                         GTcggctgcaggtcactagtgag\n",
    "                                         >568\n",
    "                                         GTGCcatctgtgcagacaaacg\n",
    "                                         >775\n",
    "                                         gcggccgctgacTTAAAT\n",
    "                                         >778\n",
    "                                         ggtaaatccggatTAATTAA\n",
    "                                         >342\n",
    "                                         CCTTTTTACGGTTCCTGGCCT\"\"\") }"
   ]
  },
  {
   "cell_type": "markdown",
   "metadata": {},
   "source": [
    "## Diagnostic PCR confirmation\n",
    "\n",
    "The correct structure of pYPKa_Z_RPL22A is confirmed by PCR using standard primers\n",
    "577 and 342 that are vector specific together with the RPL22Afw primer specific for the insert\n",
    "in a multiplex PCR reaction with\n",
    "all three primers present.\n",
    "\n",
    "Two PCR products are expected if the insert was cloned, the sizes depend\n",
    "on the orientation. If the vector is empty or contains another insert, only one\n",
    "product is formed.\n",
    "\n",
    "#### Expected PCR products sizes from pYPKa_Z_RPL22A:\n",
    "\n",
    "pYPKa_Z_RPL22A with insert in correct orientation."
   ]
  },
  {
   "cell_type": "code",
   "execution_count": 18,
   "metadata": {
    "execution": {
     "iopub.execute_input": "2021-05-17T10:26:55.962168Z",
     "iopub.status.busy": "2021-05-17T10:26:55.961508Z",
     "iopub.status.idle": "2021-05-17T10:26:55.963887Z",
     "shell.execute_reply": "2021-05-17T10:26:55.964409Z"
    }
   },
   "outputs": [
    {
     "data": {
      "text/plain": [
       "[Amplicon(1374), Amplicon(1206)]"
      ]
     },
     "execution_count": 1,
     "metadata": {},
     "output_type": "execute_result"
    }
   ],
   "source": [
    "Anneal( (p['577'], p['342'], fp), pYPKa_Z_RPL22A).products"
   ]
  },
  {
   "cell_type": "markdown",
   "metadata": {},
   "source": [
    "pYPKa_Z_RPL22A with insert in reverse orientation."
   ]
  },
  {
   "cell_type": "code",
   "execution_count": 19,
   "metadata": {
    "execution": {
     "iopub.execute_input": "2021-05-17T10:26:55.974754Z",
     "iopub.status.busy": "2021-05-17T10:26:55.974086Z",
     "iopub.status.idle": "2021-05-17T10:26:55.976549Z",
     "shell.execute_reply": "2021-05-17T10:26:55.977070Z"
    }
   },
   "outputs": [
    {
     "data": {
      "text/plain": [
       "[Amplicon(1374), Amplicon(608)]"
      ]
     },
     "execution_count": 1,
     "metadata": {},
     "output_type": "execute_result"
    }
   ],
   "source": [
    "Anneal( (p['577'], p['342'], fp), pYPKa_Z_RPL22Ab).products"
   ]
  },
  {
   "cell_type": "markdown",
   "metadata": {},
   "source": [
    "Empty pYPKa clone."
   ]
  },
  {
   "cell_type": "code",
   "execution_count": 20,
   "metadata": {
    "execution": {
     "iopub.execute_input": "2021-05-17T10:26:55.987367Z",
     "iopub.status.busy": "2021-05-17T10:26:55.986720Z",
     "iopub.status.idle": "2021-05-17T10:26:55.989924Z",
     "shell.execute_reply": "2021-05-17T10:26:55.990270Z"
    }
   },
   "outputs": [
    {
     "data": {
      "text/plain": [
       "[Amplicon(934)]"
      ]
     },
     "execution_count": 1,
     "metadata": {},
     "output_type": "execute_result"
    }
   ],
   "source": [
    "Anneal( (p['577'], p['342'], fp), pYPKa).products"
   ]
  },
  {
   "cell_type": "markdown",
   "metadata": {},
   "source": [
    "#### Expected PCR products sizes pYPKa_E_RPL22A:\n",
    "\n",
    "pYPKa_E_RPL22A with insert in correct orientation."
   ]
  },
  {
   "cell_type": "code",
   "execution_count": 21,
   "metadata": {
    "execution": {
     "iopub.execute_input": "2021-05-17T10:26:56.001569Z",
     "iopub.status.busy": "2021-05-17T10:26:56.000939Z",
     "iopub.status.idle": "2021-05-17T10:26:56.004220Z",
     "shell.execute_reply": "2021-05-17T10:26:56.004644Z"
    }
   },
   "outputs": [
    {
     "data": {
      "text/plain": [
       "[Amplicon(1374), Amplicon(1125)]"
      ]
     },
     "execution_count": 1,
     "metadata": {},
     "output_type": "execute_result"
    }
   ],
   "source": [
    "Anneal( (p['577'], p['342'], fp), pYPKa_E_RPL22A).products"
   ]
  },
  {
   "cell_type": "markdown",
   "metadata": {},
   "source": [
    "pYPKa_E_RPL22A with insert in reverse orientation."
   ]
  },
  {
   "cell_type": "code",
   "execution_count": 22,
   "metadata": {
    "execution": {
     "iopub.execute_input": "2021-05-17T10:26:56.019948Z",
     "iopub.status.busy": "2021-05-17T10:26:56.019253Z",
     "iopub.status.idle": "2021-05-17T10:26:56.022070Z",
     "shell.execute_reply": "2021-05-17T10:26:56.022514Z"
    }
   },
   "outputs": [
    {
     "data": {
      "text/plain": [
       "[Amplicon(1374), Amplicon(689)]"
      ]
     },
     "execution_count": 1,
     "metadata": {},
     "output_type": "execute_result"
    }
   ],
   "source": [
    "Anneal( (p['577'], p['342'], fp), pYPKa_E_RPL22Ab).products\n"
   ]
  },
  {
   "cell_type": "markdown",
   "metadata": {},
   "source": [
    "Calculate cseguid checksums for the resulting plasmids for future reference.\n",
    "This checksum that uniquely describes a circular double stranded\n",
    "sequence. See this [blog post](https://ochsavidare.blogspot.com/2016/02/checksum-for-circular-biological.html) for more info.\n",
    "\n",
    "pYPKa_Z_RPL22A.cseguid() should be vQzeBpFicPECX4of7lp8_y0h37M"
   ]
  },
  {
   "cell_type": "code",
   "execution_count": 23,
   "metadata": {
    "execution": {
     "iopub.execute_input": "2021-05-17T10:26:56.031160Z",
     "iopub.status.busy": "2021-05-17T10:26:56.028184Z",
     "iopub.status.idle": "2021-05-17T10:26:56.033535Z",
     "shell.execute_reply": "2021-05-17T10:26:56.034291Z"
    }
   },
   "outputs": [
    {
     "name": "stdout",
     "output_type": "stream",
     "text": [
      "vQzeBpFicPECX4of7lp8_y0h37M\n"
     ]
    }
   ],
   "source": [
    "print(pYPKa_Z_RPL22A.cseguid())\n",
    "assert pYPKa_Z_RPL22A.cseguid() == \"vQzeBpFicPECX4of7lp8_y0h37M\""
   ]
  },
  {
   "cell_type": "markdown",
   "metadata": {},
   "source": [
    "pYPKa_E_RPL22A.cseguid() should be AG9-iXWbFwvMjn2uFCFKeLvDguc"
   ]
  },
  {
   "cell_type": "code",
   "execution_count": 24,
   "metadata": {
    "execution": {
     "iopub.execute_input": "2021-05-17T10:26:56.045203Z",
     "iopub.status.busy": "2021-05-17T10:26:56.044392Z",
     "iopub.status.idle": "2021-05-17T10:26:56.047108Z",
     "shell.execute_reply": "2021-05-17T10:26:56.047865Z"
    }
   },
   "outputs": [
    {
     "name": "stdout",
     "output_type": "stream",
     "text": [
      "AG9-iXWbFwvMjn2uFCFKeLvDguc\n"
     ]
    }
   ],
   "source": [
    "print(pYPKa_E_RPL22A.cseguid())\n",
    "assert pYPKa_E_RPL22A.cseguid() == \"AG9-iXWbFwvMjn2uFCFKeLvDguc\""
   ]
  },
  {
   "cell_type": "markdown",
   "metadata": {},
   "source": [
    "The sequences are named based on the name of the cloned insert."
   ]
  },
  {
   "cell_type": "code",
   "execution_count": 25,
   "metadata": {
    "execution": {
     "iopub.execute_input": "2021-05-17T10:26:56.052221Z",
     "iopub.status.busy": "2021-05-17T10:26:56.051401Z",
     "iopub.status.idle": "2021-05-17T10:26:56.053238Z",
     "shell.execute_reply": "2021-05-17T10:26:56.053856Z"
    }
   },
   "outputs": [],
   "source": [
    "pYPKa_Z_RPL22A.locus = \"pYPKa_Z_RPL22A\"[:16]\n",
    "pYPKa_E_RPL22A.locus = \"pYPKa_Z_RPL22A\"[:16]"
   ]
  },
  {
   "cell_type": "markdown",
   "metadata": {},
   "source": [
    "Stamp sequence with cseguid checksum. This can be used to verify the\n",
    "integrity of the sequence file."
   ]
  },
  {
   "cell_type": "code",
   "execution_count": 26,
   "metadata": {
    "execution": {
     "iopub.execute_input": "2021-05-17T10:26:56.072128Z",
     "iopub.status.busy": "2021-05-17T10:26:56.071278Z",
     "iopub.status.idle": "2021-05-17T10:26:56.074037Z",
     "shell.execute_reply": "2021-05-17T10:26:56.074814Z"
    }
   },
   "outputs": [
    {
     "data": {
      "text/plain": [
       "cSEGUID_AG9-iXWbFwvMjn2uFCFKeLvDguc"
      ]
     },
     "execution_count": 1,
     "metadata": {},
     "output_type": "execute_result"
    }
   ],
   "source": [
    "pYPKa_Z_RPL22A.stamp()\n",
    "pYPKa_E_RPL22A.stamp()"
   ]
  },
  {
   "cell_type": "markdown",
   "metadata": {},
   "source": [
    "pYPKa_Z_RPL22A is written to a local file:"
   ]
  },
  {
   "cell_type": "code",
   "execution_count": 27,
   "metadata": {
    "execution": {
     "iopub.execute_input": "2021-05-17T10:26:56.080406Z",
     "iopub.status.busy": "2021-05-17T10:26:56.078197Z",
     "iopub.status.idle": "2021-05-17T10:26:56.089774Z",
     "shell.execute_reply": "2021-05-17T10:26:56.090210Z"
    }
   },
   "outputs": [
    {
     "data": {
      "text/html": [
       "<font face=monospace><a href='pYPKa_Z_RPL22A.gb' target='_blank'>pYPKa_Z_RPL22A.gb</a></font><br>"
      ]
     },
     "metadata": {},
     "output_type": "display_data"
    }
   ],
   "source": [
    "pYPKa_Z_RPL22A.write(\"pYPKa_Z_RPL22A.gb\")"
   ]
  },
  {
   "cell_type": "markdown",
   "metadata": {},
   "source": [
    "pYPKa_E_RPL22A is written to a local file:"
   ]
  },
  {
   "cell_type": "code",
   "execution_count": 28,
   "metadata": {
    "execution": {
     "iopub.execute_input": "2021-05-17T10:26:56.094310Z",
     "iopub.status.busy": "2021-05-17T10:26:56.093548Z",
     "iopub.status.idle": "2021-05-17T10:26:56.100916Z",
     "shell.execute_reply": "2021-05-17T10:26:56.101337Z"
    }
   },
   "outputs": [
    {
     "data": {
      "text/html": [
       "<font face=monospace><a href='pYPKa_E_RPL22A.gb' target='_blank'>pYPKa_E_RPL22A.gb</a></font><br>"
      ]
     },
     "metadata": {},
     "output_type": "display_data"
    }
   ],
   "source": [
    "pYPKa_E_RPL22A.write(\"pYPKa_E_RPL22A.gb\")"
   ]
  }
 ],
 "metadata": {
  "language_info": {
   "codemirror_mode": {
    "name": "ipython",
    "version": 3
   },
   "file_extension": ".py",
   "mimetype": "text/x-python",
   "name": "python",
   "nbconvert_exporter": "python",
   "pygments_lexer": "ipython3",
   "version": "3.9.0"
  }
 },
 "nbformat": 4,
 "nbformat_minor": 2
}
