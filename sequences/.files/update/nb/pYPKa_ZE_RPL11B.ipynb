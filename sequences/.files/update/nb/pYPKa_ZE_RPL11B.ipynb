{
 "cells": [
  {
   "cell_type": "markdown",
   "metadata": {},
   "source": [
    "# pYPKa_Z_RPL11B and pYPKa_E_RPL11B\n",
    "\n",
    "This Jupyter notebook describe the construction of E. coli vectors [pYPKa_Z_RPL11B](pYPKa_Z_RPL11B.gb) and [pYPKa_E_RPL11B](pYPKa_E_RPL11B.gb).\n",
    "These two vectors share backbone and insert, but in the former, the insert is cloned using the restriction\n",
    "enzyme [ZraI](http://rebase.neb.com/rebase/enz/ZraI.html) while in the latter [EcoRV](http://rebase.neb.com/rebase/enz/EcoRV.html) is used.\n",
    "\n",
    "The insert cloned in ZraI is meant to function as a promoter, while in the EcoRV site it is meant to be  used as a terminator.\n",
    "\n",
    "Links to the sequence of each vector in Genbank format can be found at the bottom of this document.\n",
    "\n",
    "![pYPKa_Z and pYPKa_E](figure_pYPKa_ZE.png \"pYPKa_Z or pYPKa_E plasmid\")\n",
    "\n",
    "The Python package [pydna](https://pypi.python.org/pypi/pydna/) package is imported in the code cell below to provide\n",
    "the cloning functionality. There is a [publication](http://www.biomedcentral.com/1471-2105/16/142) describing pydna as well as\n",
    "[documentation](http://pydna.readthedocs.io/) available online. Pydna is developed on [Github](https://github.com/BjornFJohansson/pydna)."
   ]
  },
  {
   "cell_type": "code",
   "execution_count": 1,
   "metadata": {
    "execution": {
     "iopub.execute_input": "2021-09-25T19:32:14.477939Z",
     "iopub.status.busy": "2021-09-25T19:32:14.477361Z",
     "iopub.status.idle": "2021-09-25T19:32:14.776950Z",
     "shell.execute_reply": "2021-09-25T19:32:14.776465Z"
    }
   },
   "outputs": [],
   "source": [
    "from pydna.readers import read\n",
    "from pydna.parsers import parse_primers\n",
    "from pydna.genbank import Genbank\n",
    "from pydna.amplify import pcr\n",
    "from pydna.amplify import Anneal"
   ]
  },
  {
   "cell_type": "markdown",
   "metadata": {},
   "source": [
    "The vector backbone pYPKa is read from a local [file](pYPKa.gb)."
   ]
  },
  {
   "cell_type": "code",
   "execution_count": 2,
   "metadata": {
    "execution": {
     "iopub.execute_input": "2021-09-25T19:32:14.786249Z",
     "iopub.status.busy": "2021-09-25T19:32:14.785382Z",
     "iopub.status.idle": "2021-09-25T19:32:14.800617Z",
     "shell.execute_reply": "2021-09-25T19:32:14.800205Z"
    }
   },
   "outputs": [
    {
     "data": {
      "text/html": [
       "<a href='pYPKa.gb' target='_blank'>pYPKa.gb</a><br>"
      ],
      "text/plain": [
       "File(3128bp TmU_6uVdgKq5aQhTpHux7dVk9J8)(o3128)"
      ]
     },
     "execution_count": 2,
     "metadata": {},
     "output_type": "execute_result"
    }
   ],
   "source": [
    "pYPKa = read(\"pYPKa.gb\")\n",
    "pYPKa"
   ]
  },
  {
   "cell_type": "markdown",
   "metadata": {},
   "source": [
    "Both restriction enzymes are imported from [Biopython](http://biopython.org/wiki/Main_Page)"
   ]
  },
  {
   "cell_type": "code",
   "execution_count": 3,
   "metadata": {
    "execution": {
     "iopub.execute_input": "2021-09-25T19:32:14.804307Z",
     "iopub.status.busy": "2021-09-25T19:32:14.803838Z",
     "iopub.status.idle": "2021-09-25T19:32:14.806203Z",
     "shell.execute_reply": "2021-09-25T19:32:14.806972Z"
    }
   },
   "outputs": [],
   "source": [
    "from Bio.Restriction import ZraI, EcoRV"
   ]
  },
  {
   "cell_type": "markdown",
   "metadata": {},
   "source": [
    "The vector is cut with both enzymes."
   ]
  },
  {
   "cell_type": "code",
   "execution_count": 4,
   "metadata": {
    "execution": {
     "iopub.execute_input": "2021-09-25T19:32:14.819617Z",
     "iopub.status.busy": "2021-09-25T19:32:14.818467Z",
     "iopub.status.idle": "2021-09-25T19:32:14.821959Z",
     "shell.execute_reply": "2021-09-25T19:32:14.821129Z"
    }
   },
   "outputs": [],
   "source": [
    "pYPKa_ZraI  = pYPKa.linearize(ZraI)\n",
    "pYPKa_EcoRV = pYPKa.linearize(EcoRV)"
   ]
  },
  {
   "cell_type": "markdown",
   "metadata": {},
   "source": [
    "The template below comes from a Genbank [record](http://www.ncbi.nlm.nih.gov/nuccore/part_BK0069412).\n",
    "Access to Genbank is needed in order to download the template.\n",
    "If you execute this script, change the email address below to your own.\n",
    "Always tell Genbank who you are, when using their web service."
   ]
  },
  {
   "cell_type": "code",
   "execution_count": 5,
   "metadata": {
    "execution": {
     "iopub.execute_input": "2021-09-25T19:32:14.828071Z",
     "iopub.status.busy": "2021-09-25T19:32:14.827488Z",
     "iopub.status.idle": "2021-09-25T19:32:14.830593Z",
     "shell.execute_reply": "2021-09-25T19:32:14.829966Z"
    }
   },
   "outputs": [],
   "source": [
    "gb = Genbank(\"bjornjobb@gmail.com\")"
   ]
  },
  {
   "cell_type": "markdown",
   "metadata": {},
   "source": [
    "The template is downloaded from Genbank below."
   ]
  },
  {
   "cell_type": "code",
   "execution_count": 6,
   "metadata": {
    "execution": {
     "iopub.execute_input": "2021-09-25T19:32:14.836379Z",
     "iopub.status.busy": "2021-09-25T19:32:14.835230Z",
     "iopub.status.idle": "2021-09-25T19:32:14.845507Z",
     "shell.execute_reply": "2021-09-25T19:32:14.845861Z"
    }
   },
   "outputs": [
    {
     "data": {
      "text/html": [
       "<a href='https://www.ncbi.nlm.nih.gov/nuccore/BK006941.2 ?from=648908&to=649597&strand=2' target='_blank'>BK006941.2  648908-649597</a>"
      ],
      "text/plain": [
       "Gbank(BK006941.2  648908-649597)(-690)"
      ]
     },
     "execution_count": 6,
     "metadata": {},
     "output_type": "execute_result"
    }
   ],
   "source": [
    "template = gb.nucleotide(\"BK006941.2 REGION: complement(648908..649597)\")\n",
    "template.features = []\n",
    "template"
   ]
  },
  {
   "cell_type": "markdown",
   "metadata": {},
   "source": [
    "The template is a 690 bp linear DNA fragment."
   ]
  },
  {
   "cell_type": "code",
   "execution_count": 7,
   "metadata": {
    "execution": {
     "iopub.execute_input": "2021-09-25T19:32:14.849792Z",
     "iopub.status.busy": "2021-09-25T19:32:14.849092Z",
     "iopub.status.idle": "2021-09-25T19:32:14.851315Z",
     "shell.execute_reply": "2021-09-25T19:32:14.850937Z"
    }
   },
   "outputs": [],
   "source": [
    "template.add_feature(label=\"RPL11Bp\", type=\"promoter\")"
   ]
  },
  {
   "cell_type": "markdown",
   "metadata": {},
   "source": [
    "The insert has the sequence shown below."
   ]
  },
  {
   "cell_type": "code",
   "execution_count": 8,
   "metadata": {
    "execution": {
     "iopub.execute_input": "2021-09-25T19:32:14.856069Z",
     "iopub.status.busy": "2021-09-25T19:32:14.855217Z",
     "iopub.status.idle": "2021-09-25T19:32:14.858564Z",
     "shell.execute_reply": "2021-09-25T19:32:14.859107Z"
    }
   },
   "outputs": [
    {
     "name": "stdout",
     "output_type": "stream",
     "text": [
      "TCAAAATAAATCAACAATCTATTAGAAACAAAAAAAAAAAAACCAGCAGAAAAGAACAAGTTACCATACTAATTAATCTCTTTTAATTAATGCGTGGACAGATAATCATTTCTGTTCCCTCACTCTGAAAAAATTGTTTTATTTTCCTATTTTTTTTTTCATCTATTATTGTATTTTGCCCTCTCCTCACTCCTTACTTTAGTCTATTATCAATATCTCTTCCCCCTCCTAAATATGTACTCTTTTATTTTTTTTAATTGTGAAGGAACAATTCAAGTTAGAACTCTTTTGATAGGAAACATTATTTCCTGTGTAGCCTAATGTTTAATGCCTAATTTTTTTCTAAAATGCAGCAACATACATATGTTGAGTCGTATAGACATCTATATATAACAAGCACAGAACCGTCTAATTGGTATTTTTCAGGACATTTTAAACATCCGTACAACGAGAACCCATACATTACTTTTTTTAATATTCTTTTTGTTTTCACCGCCTTCTTTTTATTTTTATCCGAAGATCTTTTGGAACCCGCTCTGCGAATAGCGAAGCTAGGATACCAAATTGAAACTTGGACATAACTCATCATTAAAGAAGTATACTGTTAAGAGAGGCATTCATTTCGTGTATTATAACGTTTAGCATCAGTTACCCTTGAAAGCCCAACATATACAAAAATACGCGTCCAAG\n"
     ]
    }
   ],
   "source": [
    "print(str(template.seq))"
   ]
  },
  {
   "cell_type": "markdown",
   "metadata": {},
   "source": [
    "The seguid checksum of the template should be\n",
    "\n",
    "```58Aa8NmzgZDUiUCca5GyCsjZXOA```"
   ]
  },
  {
   "cell_type": "code",
   "execution_count": 9,
   "metadata": {
    "execution": {
     "iopub.execute_input": "2021-09-25T19:32:14.864089Z",
     "iopub.status.busy": "2021-09-25T19:32:14.863414Z",
     "iopub.status.idle": "2021-09-25T19:32:14.866325Z",
     "shell.execute_reply": "2021-09-25T19:32:14.866809Z"
    }
   },
   "outputs": [
    {
     "data": {
      "text/plain": [
       "58Aa8NmzgZDUiUCca5GyCsjZXOA"
      ]
     },
     "execution_count": 9,
     "metadata": {},
     "output_type": "execute_result"
    }
   ],
   "source": [
    "template.seguid()"
   ]
  },
  {
   "cell_type": "markdown",
   "metadata": {},
   "source": [
    "Two primers are used to amplify the insert:"
   ]
  },
  {
   "cell_type": "code",
   "execution_count": 10,
   "metadata": {
    "execution": {
     "iopub.execute_input": "2021-09-25T19:32:14.871228Z",
     "iopub.status.busy": "2021-09-25T19:32:14.870594Z",
     "iopub.status.idle": "2021-09-25T19:32:14.873265Z",
     "shell.execute_reply": "2021-09-25T19:32:14.873750Z"
    }
   },
   "outputs": [],
   "source": [
    "fp,rp = parse_primers(\"\"\">646_ScRPL11btpf2\n",
    "                         ttaaatTCAAAATAAATCAACAATC\n",
    "                         >645_ScRPL11btpr_PacI\n",
    "                         taattaaCTTGGACGCGTATTTTTG\"\"\")"
   ]
  },
  {
   "cell_type": "markdown",
   "metadata": {},
   "source": [
    "PCR to create the insert using the primers above."
   ]
  },
  {
   "cell_type": "code",
   "execution_count": 11,
   "metadata": {
    "execution": {
     "iopub.execute_input": "2021-09-25T19:32:14.880489Z",
     "iopub.status.busy": "2021-09-25T19:32:14.879306Z",
     "iopub.status.idle": "2021-09-25T19:32:14.885259Z",
     "shell.execute_reply": "2021-09-25T19:32:14.884687Z"
    }
   },
   "outputs": [],
   "source": [
    "prd = pcr(fp, rp, template)\n",
    "assert str(fp.seq) in prd"
   ]
  },
  {
   "cell_type": "markdown",
   "metadata": {},
   "source": [
    "The PCR product has this length in bp."
   ]
  },
  {
   "cell_type": "code",
   "execution_count": 12,
   "metadata": {
    "execution": {
     "iopub.execute_input": "2021-09-25T19:32:14.890275Z",
     "iopub.status.busy": "2021-09-25T19:32:14.889567Z",
     "iopub.status.idle": "2021-09-25T19:32:14.892774Z",
     "shell.execute_reply": "2021-09-25T19:32:14.893274Z"
    }
   },
   "outputs": [
    {
     "data": {
      "text/plain": [
       "703"
      ]
     },
     "execution_count": 12,
     "metadata": {},
     "output_type": "execute_result"
    }
   ],
   "source": [
    "len(prd)"
   ]
  },
  {
   "cell_type": "markdown",
   "metadata": {},
   "source": [
    "A figure of the primers annealing on template."
   ]
  },
  {
   "cell_type": "code",
   "execution_count": 13,
   "metadata": {
    "execution": {
     "iopub.execute_input": "2021-09-25T19:32:14.898518Z",
     "iopub.status.busy": "2021-09-25T19:32:14.897440Z",
     "iopub.status.idle": "2021-09-25T19:32:14.902145Z",
     "shell.execute_reply": "2021-09-25T19:32:14.901501Z"
    }
   },
   "outputs": [
    {
     "data": {
      "text/plain": [
       "      5TCAAAATAAATCAACAATC...CAAAAATACGCGTCCAAG3\n",
       "                             ||||||||||||||||||\n",
       "                            3GTTTTTATGCGCAGGTTCaattaat5\n",
       "5ttaaatTCAAAATAAATCAACAATC3\n",
       "       |||||||||||||||||||\n",
       "      3AGTTTTATTTAGTTGTTAG...GTTTTTATGCGCAGGTTC5"
      ]
     },
     "execution_count": 13,
     "metadata": {},
     "output_type": "execute_result"
    }
   ],
   "source": [
    "prd.figure()"
   ]
  },
  {
   "cell_type": "markdown",
   "metadata": {},
   "source": [
    "A suggested PCR program."
   ]
  },
  {
   "cell_type": "code",
   "execution_count": 14,
   "metadata": {
    "execution": {
     "iopub.execute_input": "2021-09-25T19:32:14.908499Z",
     "iopub.status.busy": "2021-09-25T19:32:14.907720Z",
     "iopub.status.idle": "2021-09-25T19:32:14.911088Z",
     "shell.execute_reply": "2021-09-25T19:32:14.911658Z"
    }
   },
   "outputs": [
    {
     "data": {
      "text/plain": [
       "|95°C|95°C               |    |tmf:46.2\n",
       "|____|_____          72°C|72°C|tmr:56.0\n",
       "|3min|30s  \\ 49.0°C _____|____|45s/kb\n",
       "|    |      \\______/ 0:31|5min|GC 30%\n",
       "|    |       30s         |    |703bp"
      ]
     },
     "execution_count": 14,
     "metadata": {},
     "output_type": "execute_result"
    }
   ],
   "source": [
    "prd.program()"
   ]
  },
  {
   "cell_type": "markdown",
   "metadata": {},
   "source": [
    "The final vectors are:"
   ]
  },
  {
   "cell_type": "code",
   "execution_count": 15,
   "metadata": {
    "execution": {
     "iopub.execute_input": "2021-09-25T19:32:14.960330Z",
     "iopub.status.busy": "2021-09-25T19:32:14.929525Z",
     "iopub.status.idle": "2021-09-25T19:32:15.405580Z",
     "shell.execute_reply": "2021-09-25T19:32:15.405999Z"
    }
   },
   "outputs": [],
   "source": [
    "pYPKa_Z_RPL11B = (pYPKa_ZraI  + prd).looped().synced(pYPKa)\n",
    "pYPKa_E_RPL11B = (pYPKa_EcoRV + prd).looped().synced(pYPKa)"
   ]
  },
  {
   "cell_type": "markdown",
   "metadata": {},
   "source": [
    "The final vectors with reverse inserts are created below. These vectors theoretically make up\n",
    "fifty percent of the clones. The PCR strategy outlined below can be used to identify clones with the insert\n",
    "in the correct orientation."
   ]
  },
  {
   "cell_type": "code",
   "execution_count": 16,
   "metadata": {
    "execution": {
     "iopub.execute_input": "2021-09-25T19:32:15.484298Z",
     "iopub.status.busy": "2021-09-25T19:32:15.448730Z",
     "iopub.status.idle": "2021-09-25T19:32:15.870286Z",
     "shell.execute_reply": "2021-09-25T19:32:15.869868Z"
    }
   },
   "outputs": [],
   "source": [
    "pYPKa_Z_RPL11Bb = (pYPKa_ZraI  + prd.rc()).looped().synced(pYPKa)\n",
    "pYPKa_E_RPL11Bb = (pYPKa_EcoRV + prd.rc()).looped().synced(pYPKa)"
   ]
  },
  {
   "cell_type": "markdown",
   "metadata": {},
   "source": [
    "A combination of yeast pathway kit standard primers and the primers above are\n",
    "used for the strategy to identify correct clones.\n",
    "Standard primers used in the yeast are listed [here](standard_primers.txt)."
   ]
  },
  {
   "cell_type": "code",
   "execution_count": 17,
   "metadata": {
    "execution": {
     "iopub.execute_input": "2021-09-25T19:32:15.875000Z",
     "iopub.status.busy": "2021-09-25T19:32:15.873671Z",
     "iopub.status.idle": "2021-09-25T19:32:15.877711Z",
     "shell.execute_reply": "2021-09-25T19:32:15.877081Z"
    }
   },
   "outputs": [],
   "source": [
    "p = { x.id: x for x in parse_primers(\"\"\">577\n",
    "                                         gttctgatcctcgagcatcttaagaattc\n",
    "                                         >578\n",
    "                                         gttcttgtctcattgccacattcataagt\n",
    "                                         >468\n",
    "                                         gtcgaggaacgccaggttgcccact\n",
    "                                         >467\n",
    "                                         ATTTAAatcctgatgcgtttgtctgcacaga\n",
    "                                         >567\n",
    "                                         GTcggctgcaggtcactagtgag\n",
    "                                         >568\n",
    "                                         GTGCcatctgtgcagacaaacg\n",
    "                                         >775\n",
    "                                         gcggccgctgacTTAAAT\n",
    "                                         >778\n",
    "                                         ggtaaatccggatTAATTAA\n",
    "                                         >342\n",
    "                                         CCTTTTTACGGTTCCTGGCCT\"\"\") }"
   ]
  },
  {
   "cell_type": "markdown",
   "metadata": {},
   "source": [
    "## Diagnostic PCR confirmation\n",
    "\n",
    "The correct structure of pYPKa_Z_RPL11B is confirmed by PCR using standard primers\n",
    "577 and 342 that are vector specific together with the RPL11Bfw primer specific for the insert\n",
    "in a multiplex PCR reaction with\n",
    "all three primers present.\n",
    "\n",
    "Two PCR products are expected if the insert was cloned, the sizes depend\n",
    "on the orientation. If the vector is empty or contains another insert, only one\n",
    "product is formed.\n",
    "\n",
    "#### Expected PCR products sizes from pYPKa_Z_RPL11B:\n",
    "\n",
    "pYPKa_Z_RPL11B with insert in correct orientation."
   ]
  },
  {
   "cell_type": "code",
   "execution_count": 18,
   "metadata": {
    "execution": {
     "iopub.execute_input": "2021-09-25T19:32:15.893746Z",
     "iopub.status.busy": "2021-09-25T19:32:15.886438Z",
     "iopub.status.idle": "2021-09-25T19:32:15.896147Z",
     "shell.execute_reply": "2021-09-25T19:32:15.896540Z"
    }
   },
   "outputs": [
    {
     "data": {
      "text/plain": [
       "[Amplicon(1637), Amplicon(1469)]"
      ]
     },
     "execution_count": 18,
     "metadata": {},
     "output_type": "execute_result"
    }
   ],
   "source": [
    "Anneal( (p['577'], p['342'], fp), pYPKa_Z_RPL11B).products"
   ]
  },
  {
   "cell_type": "markdown",
   "metadata": {},
   "source": [
    "pYPKa_Z_RPL11B with insert in reverse orientation."
   ]
  },
  {
   "cell_type": "code",
   "execution_count": 19,
   "metadata": {
    "execution": {
     "iopub.execute_input": "2021-09-25T19:32:15.908272Z",
     "iopub.status.busy": "2021-09-25T19:32:15.907573Z",
     "iopub.status.idle": "2021-09-25T19:32:15.910183Z",
     "shell.execute_reply": "2021-09-25T19:32:15.910556Z"
    }
   },
   "outputs": [
    {
     "data": {
      "text/plain": [
       "[Amplicon(1637), Amplicon(871)]"
      ]
     },
     "execution_count": 19,
     "metadata": {},
     "output_type": "execute_result"
    }
   ],
   "source": [
    "Anneal( (p['577'], p['342'], fp), pYPKa_Z_RPL11Bb).products"
   ]
  },
  {
   "cell_type": "markdown",
   "metadata": {},
   "source": [
    "Empty pYPKa clone."
   ]
  },
  {
   "cell_type": "code",
   "execution_count": 20,
   "metadata": {
    "execution": {
     "iopub.execute_input": "2021-09-25T19:32:15.918359Z",
     "iopub.status.busy": "2021-09-25T19:32:15.917124Z",
     "iopub.status.idle": "2021-09-25T19:32:15.922011Z",
     "shell.execute_reply": "2021-09-25T19:32:15.922555Z"
    }
   },
   "outputs": [
    {
     "data": {
      "text/plain": [
       "[Amplicon(934)]"
      ]
     },
     "execution_count": 20,
     "metadata": {},
     "output_type": "execute_result"
    }
   ],
   "source": [
    "Anneal( (p['577'], p['342'], fp), pYPKa).products"
   ]
  },
  {
   "cell_type": "markdown",
   "metadata": {},
   "source": [
    "#### Expected PCR products sizes pYPKa_E_RPL11B:\n",
    "\n",
    "pYPKa_E_RPL11B with insert in correct orientation."
   ]
  },
  {
   "cell_type": "code",
   "execution_count": 21,
   "metadata": {
    "execution": {
     "iopub.execute_input": "2021-09-25T19:32:15.934861Z",
     "iopub.status.busy": "2021-09-25T19:32:15.930197Z",
     "iopub.status.idle": "2021-09-25T19:32:15.937466Z",
     "shell.execute_reply": "2021-09-25T19:32:15.937878Z"
    }
   },
   "outputs": [
    {
     "data": {
      "text/plain": [
       "[Amplicon(1637), Amplicon(1388)]"
      ]
     },
     "execution_count": 21,
     "metadata": {},
     "output_type": "execute_result"
    }
   ],
   "source": [
    "Anneal( (p['577'], p['342'], fp), pYPKa_E_RPL11B).products"
   ]
  },
  {
   "cell_type": "markdown",
   "metadata": {},
   "source": [
    "pYPKa_E_RPL11B with insert in reverse orientation."
   ]
  },
  {
   "cell_type": "code",
   "execution_count": 22,
   "metadata": {
    "execution": {
     "iopub.execute_input": "2021-09-25T19:32:15.951045Z",
     "iopub.status.busy": "2021-09-25T19:32:15.950419Z",
     "iopub.status.idle": "2021-09-25T19:32:15.953532Z",
     "shell.execute_reply": "2021-09-25T19:32:15.953084Z"
    }
   },
   "outputs": [
    {
     "data": {
      "text/plain": [
       "[Amplicon(1637), Amplicon(952)]"
      ]
     },
     "execution_count": 22,
     "metadata": {},
     "output_type": "execute_result"
    }
   ],
   "source": [
    "Anneal( (p['577'], p['342'], fp), pYPKa_E_RPL11Bb).products\n"
   ]
  },
  {
   "cell_type": "markdown",
   "metadata": {},
   "source": [
    "Calculate cseguid checksums for the resulting plasmids for future reference.\n",
    "This checksum that uniquely describes a circular double stranded\n",
    "sequence. See this [blog post](https://ochsavidare.blogspot.com/2016/02/checksum-for-circular-biological.html) for more info.\n",
    "\n",
    "pYPKa_Z_RPL11B.cseguid() should be Ci_RC4oZjSHe9F188IEMGaO72xM"
   ]
  },
  {
   "cell_type": "code",
   "execution_count": 23,
   "metadata": {
    "execution": {
     "iopub.execute_input": "2021-09-25T19:32:15.965023Z",
     "iopub.status.busy": "2021-09-25T19:32:15.964356Z",
     "iopub.status.idle": "2021-09-25T19:32:15.967309Z",
     "shell.execute_reply": "2021-09-25T19:32:15.967656Z"
    }
   },
   "outputs": [
    {
     "name": "stdout",
     "output_type": "stream",
     "text": [
      "Ci_RC4oZjSHe9F188IEMGaO72xM\n"
     ]
    }
   ],
   "source": [
    "print(pYPKa_Z_RPL11B.cseguid())\n",
    "assert pYPKa_Z_RPL11B.cseguid() == \"Ci_RC4oZjSHe9F188IEMGaO72xM\""
   ]
  },
  {
   "cell_type": "markdown",
   "metadata": {},
   "source": [
    "pYPKa_E_RPL11B.cseguid() should be JEQ-ZWB3r1FpJoaH1k92v8EYKzU"
   ]
  },
  {
   "cell_type": "code",
   "execution_count": 24,
   "metadata": {
    "execution": {
     "iopub.execute_input": "2021-09-25T19:32:15.977658Z",
     "iopub.status.busy": "2021-09-25T19:32:15.977132Z",
     "iopub.status.idle": "2021-09-25T19:32:15.979500Z",
     "shell.execute_reply": "2021-09-25T19:32:15.979863Z"
    }
   },
   "outputs": [
    {
     "name": "stdout",
     "output_type": "stream",
     "text": [
      "JEQ-ZWB3r1FpJoaH1k92v8EYKzU\n"
     ]
    }
   ],
   "source": [
    "print(pYPKa_E_RPL11B.cseguid())\n",
    "assert pYPKa_E_RPL11B.cseguid() == \"JEQ-ZWB3r1FpJoaH1k92v8EYKzU\""
   ]
  },
  {
   "cell_type": "markdown",
   "metadata": {},
   "source": [
    "The sequences are named based on the name of the cloned insert."
   ]
  },
  {
   "cell_type": "code",
   "execution_count": 25,
   "metadata": {
    "execution": {
     "iopub.execute_input": "2021-09-25T19:32:15.983168Z",
     "iopub.status.busy": "2021-09-25T19:32:15.982729Z",
     "iopub.status.idle": "2021-09-25T19:32:15.984612Z",
     "shell.execute_reply": "2021-09-25T19:32:15.985025Z"
    }
   },
   "outputs": [],
   "source": [
    "pYPKa_Z_RPL11B.locus = \"pYPKa_Z_RPL11B\"[:16]\n",
    "pYPKa_E_RPL11B.locus = \"pYPKa_Z_RPL11B\"[:16]"
   ]
  },
  {
   "cell_type": "markdown",
   "metadata": {},
   "source": [
    "Stamp sequence with cseguid checksum. This can be used to verify the\n",
    "integrity of the sequence file."
   ]
  },
  {
   "cell_type": "code",
   "execution_count": 26,
   "metadata": {
    "execution": {
     "iopub.execute_input": "2021-09-25T19:32:15.998144Z",
     "iopub.status.busy": "2021-09-25T19:32:15.993458Z",
     "iopub.status.idle": "2021-09-25T19:32:16.000652Z",
     "shell.execute_reply": "2021-09-25T19:32:16.001010Z"
    }
   },
   "outputs": [
    {
     "data": {
      "text/plain": [
       "cSEGUID_JEQ-ZWB3r1FpJoaH1k92v8EYKzU"
      ]
     },
     "execution_count": 26,
     "metadata": {},
     "output_type": "execute_result"
    }
   ],
   "source": [
    "pYPKa_Z_RPL11B.stamp()\n",
    "pYPKa_E_RPL11B.stamp()"
   ]
  },
  {
   "cell_type": "markdown",
   "metadata": {},
   "source": [
    "pYPKa_Z_RPL11B is written to a local file:"
   ]
  },
  {
   "cell_type": "code",
   "execution_count": 27,
   "metadata": {
    "execution": {
     "iopub.execute_input": "2021-09-25T19:32:16.005319Z",
     "iopub.status.busy": "2021-09-25T19:32:16.004163Z",
     "iopub.status.idle": "2021-09-25T19:32:16.008811Z",
     "shell.execute_reply": "2021-09-25T19:32:16.009296Z"
    }
   },
   "outputs": [
    {
     "data": {
      "text/html": [
       "<font face=monospace><a href='pYPKa_Z_RPL11B.gb' target='_blank'>pYPKa_Z_RPL11B.gb</a></font><br>"
      ]
     },
     "metadata": {},
     "output_type": "display_data"
    }
   ],
   "source": [
    "pYPKa_Z_RPL11B.write(\"pYPKa_Z_RPL11B.gb\")"
   ]
  },
  {
   "cell_type": "markdown",
   "metadata": {},
   "source": [
    "pYPKa_E_RPL11B is written to a local file:"
   ]
  },
  {
   "cell_type": "code",
   "execution_count": 28,
   "metadata": {
    "execution": {
     "iopub.execute_input": "2021-09-25T19:32:16.013832Z",
     "iopub.status.busy": "2021-09-25T19:32:16.012841Z",
     "iopub.status.idle": "2021-09-25T19:32:16.017457Z",
     "shell.execute_reply": "2021-09-25T19:32:16.018117Z"
    }
   },
   "outputs": [
    {
     "data": {
      "text/html": [
       "<font face=monospace><a href='pYPKa_E_RPL11B.gb' target='_blank'>pYPKa_E_RPL11B.gb</a></font><br>"
      ]
     },
     "metadata": {},
     "output_type": "display_data"
    }
   ],
   "source": [
    "pYPKa_E_RPL11B.write(\"pYPKa_E_RPL11B.gb\")"
   ]
  }
 ],
 "metadata": {
  "kernelspec": {
   "display_name": "Python [conda env:bjorn39]",
   "language": "python",
   "name": "conda-env-bjorn39-py"
  },
  "language_info": {
   "codemirror_mode": {
    "name": "ipython",
    "version": 3
   },
   "file_extension": ".py",
   "mimetype": "text/x-python",
   "name": "python",
   "nbconvert_exporter": "python",
   "pygments_lexer": "ipython3",
   "version": "3.9.7"
  }
 },
 "nbformat": 4,
 "nbformat_minor": 4
}
