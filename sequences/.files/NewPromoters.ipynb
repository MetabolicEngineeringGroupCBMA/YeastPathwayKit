{
 "cells": [
  {
   "cell_type": "markdown",
   "metadata": {},
   "source": [
    "## Jupyter notebook\n",
    "comment"
   ]
  },
  {
   "cell_type": "code",
   "execution_count": 1,
   "metadata": {
    "execution": {
     "iopub.execute_input": "2021-09-25T19:31:46.582071Z",
     "iopub.status.busy": "2021-09-25T19:31:46.581208Z",
     "iopub.status.idle": "2021-09-25T19:31:47.234254Z",
     "shell.execute_reply": "2021-09-25T19:31:47.233666Z"
    }
   },
   "outputs": [],
   "source": [
    "from pygenome import saccharomyces_cerevisiae as sg"
   ]
  },
  {
   "cell_type": "code",
   "execution_count": 2,
   "metadata": {
    "execution": {
     "iopub.execute_input": "2021-09-25T19:31:47.241685Z",
     "iopub.status.busy": "2021-09-25T19:31:47.240998Z",
     "iopub.status.idle": "2021-09-25T19:31:47.243876Z",
     "shell.execute_reply": "2021-09-25T19:31:47.243240Z"
    }
   },
   "outputs": [],
   "source": [
    "promoter_candidates = ( \"GAL7\", \"CCW12\",  \"ADH1\",  \"CWP2\",   \"HSP12\", \"PGK1\", \n",
    "                        \"RPL3\", \"TDH2\",   \"CDC19\", \"RPS14B\", \"RPL10\", \"RPS9A\", \n",
    "                        \"RPL28\", \"LYS20\", \"HXK1\",  \"RPP0\",   \"RPL7B\", \"HHF2\",  \"RPL15A\", \n",
    "                        \"JEN1\", \"RPL25\",  \"HXT1\",  \"RPL26A\", \"ALD6\",  \"HHT2\",  \"HHT1\", \n",
    "                        \"ADH2\", \"RPS20\",  \"RPS3\",  \"RPL41B\", \"EFB1\",  \"RPL39\", \"PSA1\", \n",
    "                        \"CIT2\", \"RPL18A\" )"
   ]
  },
  {
   "cell_type": "code",
   "execution_count": 3,
   "metadata": {
    "execution": {
     "iopub.execute_input": "2021-09-25T19:31:47.248731Z",
     "iopub.status.busy": "2021-09-25T19:31:47.247997Z",
     "iopub.status.idle": "2021-09-25T19:31:47.251307Z",
     "shell.execute_reply": "2021-09-25T19:31:47.250740Z"
    }
   },
   "outputs": [],
   "source": [
    "from pydna.design import primer_design"
   ]
  },
  {
   "cell_type": "code",
   "execution_count": 4,
   "metadata": {
    "execution": {
     "iopub.execute_input": "2021-09-25T19:31:47.271089Z",
     "iopub.status.busy": "2021-09-25T19:31:47.268122Z",
     "iopub.status.idle": "2021-09-25T19:31:48.532911Z",
     "shell.execute_reply": "2021-09-25T19:31:48.533359Z"
    }
   },
   "outputs": [
    {
     "name": "stdout",
     "output_type": "stream",
     "text": [
      "GAL7p\n",
      "ADH1p\n",
      "RPL26Ap\n",
      "ALD6p\n",
      "RPS20p\n",
      "CIT2p\n",
      "RPL18Ap\n"
     ]
    }
   ],
   "source": [
    "promoters = []\n",
    "for tp in promoter_candidates:\n",
    "    g = sg.stdgenes[tp]\n",
    "    if g.tandem():\n",
    "        promoter = g.promoter()\n",
    "        if len(promoter)<1600:\n",
    "            amplicon = primer_design(promoter)\n",
    "            amplicon.definition = promoter.definition\n",
    "            amplicon.locus = f\"{tp}p\"\n",
    "            print(amplicon.locus)\n",
    "            amplicon.forward_primer.id = f\"fw_tp{tp}\"\n",
    "            amplicon.reverse_primer.id = f\"rv_tp{tp}\"\n",
    "            amplicon.forward_primer.definition = \"\"\n",
    "            amplicon.reverse_primer.definition = \"\"\n",
    "            promoters.append(amplicon)    "
   ]
  },
  {
   "cell_type": "code",
   "execution_count": 5,
   "metadata": {
    "execution": {
     "iopub.execute_input": "2021-09-25T19:31:48.543027Z",
     "iopub.status.busy": "2021-09-25T19:31:48.542571Z",
     "iopub.status.idle": "2021-09-25T19:31:48.545271Z",
     "shell.execute_reply": "2021-09-25T19:31:48.545693Z"
    }
   },
   "outputs": [
    {
     "data": {
      "text/plain": [
       "'BK006948.2 REGION: complement(94403..94855)'"
      ]
     },
     "execution_count": 5,
     "metadata": {},
     "output_type": "execute_result"
    }
   ],
   "source": [
    "promoter.definition"
   ]
  },
  {
   "cell_type": "code",
   "execution_count": 6,
   "metadata": {
    "execution": {
     "iopub.execute_input": "2021-09-25T19:31:48.551244Z",
     "iopub.status.busy": "2021-09-25T19:31:48.550348Z",
     "iopub.status.idle": "2021-09-25T19:31:48.557371Z",
     "shell.execute_reply": "2021-09-25T19:31:48.556641Z"
    }
   },
   "outputs": [
    {
     "name": "stdout",
     "output_type": "stream",
     "text": [
      "BK006936.2 REGION: complement(275528..276252)\n",
      ">fw_tpGAL7\n",
      "TTTGCCAGCTTACTATC\n",
      "\n",
      ">rv_tpGAL7\n",
      "TTTTGAGGGAATATTCAACT\n",
      "\n",
      "BK006948.2 REGION: complement(160595..161672)\n",
      ">fw_tpADH1\n",
      "GTATACTAGAAGAATGAGCC\n",
      "\n",
      ">rv_tpADH1\n",
      "TGTATATGAGATAGTTGATTGTAT\n",
      "\n",
      "BK006945.2 REGION: 817762..819311\n",
      ">fw_tpRPL26A\n",
      "AAAATTCATTTAATATTCAATGAAGTTATAA\n",
      "\n",
      ">rv_tpRPL26A\n",
      "TCTGATACTTTTTTGTTGGTTA\n",
      "\n",
      "BK006949.2 REGION: 432300..432587\n",
      ">fw_tpALD6\n",
      "CACCGACCATGTGG\n",
      "\n",
      ">rv_tpALD6\n",
      "TGTATTCTGATAGTATGTGTTTGT\n",
      "\n",
      "BK006934.2 REGION: 74783..75411\n",
      ">fw_tpRPS20\n",
      "TAAAGAGCGCCAAATCT\n",
      "\n",
      ">rv_tpRPS20\n",
      "TTTGTATATACCTTTTTGTTTATTTTA\n",
      "\n",
      "BK006937.2 REGION: complement(122329..122529)\n",
      ">fw_tpCIT2\n",
      "AATTGGTGACGTTAATCTAAA\n",
      "\n",
      ">rv_tpCIT2\n",
      "TTTTCTTGTTACTAGTATTATTAAAAC\n",
      "\n",
      "BK006948.2 REGION: complement(94403..94855)\n",
      ">fw_tpRPL18A\n",
      "GGTCAGCGTTCAGAAG\n",
      "\n",
      ">rv_tpRPL18A\n",
      "TGTGAATCCGTAAGCTTG\n",
      "\n"
     ]
    }
   ],
   "source": [
    "newprimers = []\n",
    "for promoter in promoters:\n",
    "    print(promoter.definition)\n",
    "    print(promoter.forward_primer.format(\"fasta\"))\n",
    "    print(promoter.reverse_primer.format(\"fasta\"))\n",
    "    newprimers.append(promoter.forward_primer)\n",
    "    newprimers.append(promoter.reverse_primer)"
   ]
  },
  {
   "cell_type": "code",
   "execution_count": 7,
   "metadata": {
    "execution": {
     "iopub.execute_input": "2021-09-25T19:31:48.562137Z",
     "iopub.status.busy": "2021-09-25T19:31:48.561299Z",
     "iopub.status.idle": "2021-09-25T19:31:48.564696Z",
     "shell.execute_reply": "2021-09-25T19:31:48.564133Z"
    }
   },
   "outputs": [],
   "source": [
    "from pydna.myprimers import PrimerList"
   ]
  },
  {
   "cell_type": "code",
   "execution_count": 8,
   "metadata": {
    "execution": {
     "iopub.execute_input": "2021-09-25T19:31:48.570135Z",
     "iopub.status.busy": "2021-09-25T19:31:48.569191Z",
     "iopub.status.idle": "2021-09-25T19:31:48.693530Z",
     "shell.execute_reply": "2021-09-25T19:31:48.693902Z"
    }
   },
   "outputs": [],
   "source": [
    "pl = PrimerList()"
   ]
  },
  {
   "cell_type": "code",
   "execution_count": 9,
   "metadata": {
    "execution": {
     "iopub.execute_input": "2021-09-25T19:31:48.698983Z",
     "iopub.status.busy": "2021-09-25T19:31:48.698232Z",
     "iopub.status.idle": "2021-09-25T19:31:48.703642Z",
     "shell.execute_reply": "2021-09-25T19:31:48.703070Z"
    }
   },
   "outputs": [
    {
     "name": "stdout",
     "output_type": "stream",
     "text": [
      "1597_rv_tpRPL18A\tTAATTAATGTGAATCCGTAAGCTTG\n",
      "\n",
      "1598_fw_tpRPL18A\tTTAAATGGTCAGCGTTCAGAAG\n",
      "\n",
      "1599_rv_tpCIT2\tTAATTAATTTTCTTGTTACTAGTATTATTAAAAC\n",
      "\n",
      "1600_fw_tpCIT2\tTTAAATAATTGGTGACGTTAATCTAAA\n",
      "\n",
      "1601_rv_tpRPS20\tTAATTAATTTGTATATACCTTTTTGTTTATTTTA\n",
      "\n",
      "1602_fw_tpRPS20\tTTAAATTAAAGAGCGCCAAATCT\n",
      "\n",
      "1603_rv_tpALD6\tTAATTAATGTATTCTGATAGTATGTGTTTGT\n",
      "\n",
      "1604_fw_tpALD6\tTTAAATCACCGACCATGTGG\n",
      "\n",
      "1605_rv_tpRPL26A\tTAATTAATCTGATACTTTTTTGTTGGTTA\n",
      "\n",
      "1606_fw_tpRPL26A\tTTAAATAAAATTCATTTAATATTCAATGAAGTTAT\n",
      "\n",
      "1607_rv_tpADH1\tTAATTAATGTATATGAGATAGTTGATTGTAT\n",
      "\n",
      "1608_fw_tpADH1\tTTAAATGTATACTAGAAGAATGAGCC\n",
      "\n",
      "1609_rv_tpGAL7\tTAATTAATTTTGAGGGAATATTCAACT\n",
      "\n",
      "1610_fw_tpGAL7\tTTAAATTTTGCCAGCTTACTATC\n",
      "\n",
      "1611_accD_C->T_fw\tAagaatcgagcttttgattgatccgggtacttggaatcct\n",
      "\n",
      "1612_accD_C->T_rv\tgtacccggatcaatcaaaagctcgattctttctgaactact\n",
      "\n",
      "1613_rv_GFP_linker\tagtagatttagattcagaaccagaaccagaagatttaccttctttgtacaattcatccataccatg\n",
      "\n",
      "1614_fw_linker_MSC\ttctggttctggttctgaatctaaatctactCCCGGGGACGTCgtgccatctgtgcagacaaacgc\n",
      "\n",
      "1615_ScACC1_s1157F\tATGAACAGGGCTGTTGCTGTTTCAGATTTGTCATA\n",
      "\n",
      "1616_ScACC1_s1157R\tATGACAAATCTGAAACAGCAACAGCCCTGTTCATA\n",
      "\n",
      "1617_ScACC1_s659aF\tTCATACTGCGTCAACTAGCTGATGGTGGTCTTTTG\n",
      "\n",
      "1618_ScACC1_s659aR\tCAAAAGACCACCATCAGCTAGTTGACGCAGTATGA\n",
      "\n",
      "1619_HXT2r\tACCAACTGTTTACTTGAAGC\n",
      "\n",
      "1620_HXT2f\tATACATGCATGCATATCTCG\n",
      "\n",
      "1621_HXT415r\tATGTTAAGGTCTCCGATACG\n",
      "\n",
      "1622_HXT415f\tTCAGGTAGGTCATTCAAAGC\n",
      "\n",
      "1623_HXT763r\tatcgcagacagccttcatct\n",
      "\n",
      "1624_HXT763f\tcattggactgccaaatcctt\n",
      "\n",
      "1625_ScACC1_3611r\tgatcaggagcaggtccgtta\n",
      "\n",
      "1626_ScACC1_2109r\tttaccaggggatggagtacg\n",
      "\n",
      "1627_ScACC1_1806f\tcccgccacaagtatatcgaa\n",
      "\n",
      "1628_rv_YlbkdE1a_tail\tttcagaaccagaaccagaagatttaccttccttatcatgcagacctcctc\n",
      "\n",
      "1629_rv_YlbkdE1b_tail\tttcagaaccagaaccagaagatttaccttcatactcaatggcctttttga\n",
      "\n",
      "1630_rv_YlbkdE2_tail\tttcagaaccagaaccagaagatttaccttctctcaactgcagcaacatcg\n",
      "\n",
      "1631_rv_YlbkdE3_tail\tttcagaaccagaaccagaagatttaccttcaaagtggatggccttgtcgt\n",
      "\n",
      "1632_fw_BAT2\tATATGACCTTGGCACCCCTAG\n",
      "\n",
      "1633_rv_BAT2\tACTTCAGTTCAAATCAGTAACAACCC\n",
      "\n",
      "1634_fw_BAT2(G316S)\tTGGTTCTTCTACTGCTGCGATTGTTTCTCCCATTA\n",
      "\n",
      "1635_rv_BAT2(G136S)\tAGCAGTAGAAGAACCAAAGGCTTCAAGTAGTTCAC\n",
      "\n",
      "1636_rv_seq_pYPKa\tcatgggtacgtgcgaaaac\n",
      "\n",
      "1637_fw_TAR_LipPks2\tACGACTCGAATGGTGACTGACTGATGTCCAACGAGCAGAAGCTGCGTGACTACCTCAAGCcgatGTcgaaagctacatataaggaacgtgctgc\n",
      "\n"
     ]
    }
   ],
   "source": [
    "for p in pl[1597:1638]:\n",
    "    print(p.format(\"tab\"))"
   ]
  },
  {
   "cell_type": "code",
   "execution_count": 10,
   "metadata": {
    "execution": {
     "iopub.execute_input": "2021-09-25T19:31:48.707493Z",
     "iopub.status.busy": "2021-09-25T19:31:48.706988Z",
     "iopub.status.idle": "2021-09-25T19:31:48.708823Z",
     "shell.execute_reply": "2021-09-25T19:31:48.709204Z"
    }
   },
   "outputs": [],
   "source": [
    "#from pydna.myprimers import prepend_primerlist"
   ]
  },
  {
   "cell_type": "code",
   "execution_count": 11,
   "metadata": {
    "execution": {
     "iopub.execute_input": "2021-09-25T19:31:48.712373Z",
     "iopub.status.busy": "2021-09-25T19:31:48.711883Z",
     "iopub.status.idle": "2021-09-25T19:31:48.713569Z",
     "shell.execute_reply": "2021-09-25T19:31:48.714004Z"
    }
   },
   "outputs": [],
   "source": [
    "#prepend_primerlist(newprimers, pl)"
   ]
  },
  {
   "cell_type": "code",
   "execution_count": null,
   "metadata": {},
   "outputs": [],
   "source": []
  }
 ],
 "metadata": {
  "anaconda-cloud": {},
  "kernelspec": {
   "display_name": "Python [conda env:bjorn39]",
   "language": "python",
   "name": "conda-env-bjorn39-py"
  },
  "language_info": {
   "codemirror_mode": {
    "name": "ipython",
    "version": 3
   },
   "file_extension": ".py",
   "mimetype": "text/x-python",
   "name": "python",
   "nbconvert_exporter": "python",
   "pygments_lexer": "ipython3",
   "version": "3.9.7"
  }
 },
 "nbformat": 4,
 "nbformat_minor": 4
}
