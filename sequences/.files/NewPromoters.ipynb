{
 "cells": [
  {
   "cell_type": "markdown",
   "metadata": {},
   "source": [
    "## Jupyter notebook\n",
    "comment"
   ]
  },
  {
   "cell_type": "code",
   "execution_count": 1,
   "metadata": {},
   "outputs": [],
   "source": [
    "from pygenome import saccharomyces_cerevisiae as sg"
   ]
  },
  {
   "cell_type": "code",
   "execution_count": 2,
   "metadata": {},
   "outputs": [],
   "source": [
    "promoter_candidates = ( \"GAL7\", \"CCW12\",  \"ADH1\",  \"CWP2\",   \"HSP12\", \"PGK1\", \n",
    "                        \"RPL3\", \"TDH2\",   \"CDC19\", \"RPS14B\", \"RPL10\", \"RPS9A\", \n",
    "                        \"RPL28\", \"LYS20\", \"HXK1\",  \"RPP0\",   \"RPL7B\", \"HHF2\",  \"RPL15A\", \n",
    "                        \"JEN1\", \"RPL25\",  \"HXT1\",  \"RPL26A\", \"ALD6\",  \"HHT2\",  \"HHT1\", \n",
    "                        \"ADH2\", \"RPS20\",  \"RPS3\",  \"RPL41B\", \"EFB1\",  \"RPL39\", \"PSA1\", \n",
    "                        \"CIT2\", \"RPL18A\" )"
   ]
  },
  {
   "cell_type": "code",
   "execution_count": 3,
   "metadata": {},
   "outputs": [],
   "source": [
    "from pydna.design import primer_design"
   ]
  },
  {
   "cell_type": "code",
   "execution_count": 4,
   "metadata": {},
   "outputs": [
    {
     "name": "stdout",
     "output_type": "stream",
     "text": [
      "GAL7p\n",
      "ADH1p\n",
      "RPL26Ap\n",
      "ALD6p\n",
      "RPS20p\n",
      "CIT2p\n",
      "RPL18Ap\n"
     ]
    }
   ],
   "source": [
    "promoters = []\n",
    "for tp in promoter_candidates:\n",
    "    g = sg.stdgenes[tp]\n",
    "    if g.tandem():\n",
    "        promoter = g.promoter()\n",
    "        if len(promoter)<1600:\n",
    "            amplicon = primer_design(promoter)\n",
    "            amplicon.definition = promoter.definition\n",
    "            amplicon.locus = f\"{tp}p\"\n",
    "            print(amplicon.locus)\n",
    "            amplicon.forward_primer.id = f\"fw_tp{tp}\"\n",
    "            amplicon.reverse_primer.id = f\"rv_tp{tp}\"\n",
    "            amplicon.forward_primer.definition = \"\"\n",
    "            amplicon.reverse_primer.definition = \"\"\n",
    "            promoters.append(amplicon)    "
   ]
  },
  {
   "cell_type": "code",
   "execution_count": 5,
   "metadata": {},
   "outputs": [
    {
     "data": {
      "text/plain": [
       "'BK006948.2 REGION: complement(94403..94855)'"
      ]
     },
     "execution_count": 5,
     "metadata": {},
     "output_type": "execute_result"
    }
   ],
   "source": [
    "promoter.definition"
   ]
  },
  {
   "cell_type": "code",
   "execution_count": 6,
   "metadata": {},
   "outputs": [
    {
     "name": "stdout",
     "output_type": "stream",
     "text": [
      "BK006936.2 REGION: complement(275528..276252)\n",
      ">fw_tpGAL7\n",
      "TTTGCCAGCTTACTATC\n",
      "\n",
      ">rv_tpGAL7\n",
      "TTTTGAGGGAATATTCAACT\n",
      "\n",
      "BK006948.2 REGION: complement(160595..161672)\n",
      ">fw_tpADH1\n",
      "GTATACTAGAAGAATGAGCC\n",
      "\n",
      ">rv_tpADH1\n",
      "TGTATATGAGATAGTTGATTGTAT\n",
      "\n",
      "BK006945.2 REGION: 817762..819311\n",
      ">fw_tpRPL26A\n",
      "AAAATTCATTTAATATTCAATGAAGTTATAA\n",
      "\n",
      ">rv_tpRPL26A\n",
      "TCTGATACTTTTTTGTTGGTTA\n",
      "\n",
      "BK006949.2 REGION: 432300..432587\n",
      ">fw_tpALD6\n",
      "CACCGACCATGTGG\n",
      "\n",
      ">rv_tpALD6\n",
      "TGTATTCTGATAGTATGTGTTTGT\n",
      "\n",
      "BK006934.2 REGION: 74783..75411\n",
      ">fw_tpRPS20\n",
      "TAAAGAGCGCCAAATCT\n",
      "\n",
      ">rv_tpRPS20\n",
      "TTTGTATATACCTTTTTGTTTATTTTA\n",
      "\n",
      "BK006937.2 REGION: complement(122329..122529)\n",
      ">fw_tpCIT2\n",
      "AATTGGTGACGTTAATCTAAA\n",
      "\n",
      ">rv_tpCIT2\n",
      "TTTTCTTGTTACTAGTATTATTAAAAC\n",
      "\n",
      "BK006948.2 REGION: complement(94403..94855)\n",
      ">fw_tpRPL18A\n",
      "GGTCAGCGTTCAGAAG\n",
      "\n",
      ">rv_tpRPL18A\n",
      "TGTGAATCCGTAAGCTTG\n",
      "\n"
     ]
    }
   ],
   "source": [
    "newprimers = []\n",
    "for promoter in promoters:\n",
    "    print(promoter.definition)\n",
    "    print(promoter.forward_primer.format(\"fasta\"))\n",
    "    print(promoter.reverse_primer.format(\"fasta\"))\n",
    "    newprimers.append(promoter.forward_primer)\n",
    "    newprimers.append(promoter.reverse_primer)"
   ]
  },
  {
   "cell_type": "code",
   "execution_count": 7,
   "metadata": {},
   "outputs": [],
   "source": [
    "from pydna.myprimers import primerlist"
   ]
  },
  {
   "cell_type": "code",
   "execution_count": 10,
   "metadata": {},
   "outputs": [],
   "source": [
    "pl = primerlist()"
   ]
  },
  {
   "cell_type": "code",
   "execution_count": 17,
   "metadata": {},
   "outputs": [
    {
     "data": {
      "text/plain": [
       "[1597_rv_tpRPL18A 18-mer:5'-TGTGAATCCGTAAGCTTG-3',\n",
       " 1598_fw_tpRPL18A 16-mer:5'-GGTCAGCGTTCAGAAG-3',\n",
       " 1599_rv_tpCIT2 27-mer:5'-TTTTCTTGTTACTAG..AAC-3',\n",
       " 1600_fw_tpCIT2 21-mer:5'-AATTGGTGACGTTAA..AAA-3',\n",
       " 1601_rv_tpRPS20 27-mer:5'-TTTGTATATACCTTT..TTA-3',\n",
       " 1602_fw_tpRPS20 17-mer:5'-TAAAGAGCGCCAAATCT-3',\n",
       " 1603_rv_tpALD6 24-mer:5'-TGTATTCTGATAGTA..TGT-3',\n",
       " 1604_fw_tpALD6 14-mer:5'-CACCGACCATGTGG-3',\n",
       " 1605_rv_tpRPL26A 22-mer:5'-TCTGATACTTTTTTG..TTA-3',\n",
       " 1606_fw_tpRPL26A 31-mer:5'-AAAATTCATTTAATA..TAA-3',\n",
       " 1607_rv_tpADH1 24-mer:5'-TGTATATGAGATAGT..TAT-3',\n",
       " 1608_fw_tpADH1 20-mer:5'-GTATACTAGAAGAATGAGCC-3',\n",
       " 1609_rv_tpGAL7 20-mer:5'-TTTTGAGGGAATATTCAACT-3',\n",
       " 1610_fw_tpGAL7 17-mer:5'-TTTGCCAGCTTACTATC-3']"
      ]
     },
     "execution_count": 17,
     "metadata": {},
     "output_type": "execute_result"
    }
   ],
   "source": [
    "pl[1597:]"
   ]
  },
  {
   "cell_type": "code",
   "execution_count": null,
   "metadata": {},
   "outputs": [],
   "source": [
    "#from pydna.myprimers import prepend_primerlist"
   ]
  },
  {
   "cell_type": "code",
   "execution_count": null,
   "metadata": {},
   "outputs": [],
   "source": [
    "#prepend_primerlist(newprimers, pl)"
   ]
  },
  {
   "cell_type": "code",
   "execution_count": null,
   "metadata": {},
   "outputs": [],
   "source": []
  }
 ],
 "metadata": {
  "anaconda-cloud": {},
  "kernelspec": {
   "display_name": "Python [conda env:bjorn39]",
   "language": "python",
   "name": "conda-env-bjorn39-py"
  },
  "language_info": {
   "codemirror_mode": {
    "name": "ipython",
    "version": 3
   },
   "file_extension": ".py",
   "mimetype": "text/x-python",
   "name": "python",
   "nbconvert_exporter": "python",
   "pygments_lexer": "ipython3",
   "version": "3.9.0"
  }
 },
 "nbformat": 4,
 "nbformat_minor": 4
}
