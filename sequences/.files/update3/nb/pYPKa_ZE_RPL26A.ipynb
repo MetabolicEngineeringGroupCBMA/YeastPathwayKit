{
 "cells": [
  {
   "cell_type": "markdown",
   "id": "million-worthy",
   "metadata": {},
   "source": [
    "# pYPKa_Z_RPL26A and pYPKa_E_RPL26A\n",
    "\n",
    "This Jupyter notebook describe the construction of E. coli vectors [pYPKa_Z_RPL26A](pYPKa_Z_RPL26A.gb) and [pYPKa_E_RPL26A](pYPKa_E_RPL26A.gb).\n",
    "These two vectors share backbone and insert, but in the former, the insert is cloned using the restriction\n",
    "enzyme [ZraI](http://rebase.neb.com/rebase/enz/ZraI.html) while in the latter [EcoRV](http://rebase.neb.com/rebase/enz/EcoRV.html) is used.\n",
    "\n",
    "The insert cloned in ZraI is meant to function as a promoter, while in the EcoRV site it is meant to be  used as a terminator.\n",
    "\n",
    "Links to the sequence of each vector in Genbank format can be found at the bottom of this document.\n",
    "\n",
    "![pYPKa_Z and pYPKa_E](figure_pYPKa_ZE.png \"pYPKa_Z or pYPKa_E plasmid\")\n",
    "\n",
    "The Python package [pydna](https://pypi.python.org/pypi/pydna/) package is imported in the code cell below to provide\n",
    "the cloning functionality. There is a [publication](http://www.biomedcentral.com/1471-2105/16/142) describing pydna as well as\n",
    "[documentation](http://pydna.readthedocs.io/) available online. Pydna is developed on [Github](https://github.com/BjornFJohansson/pydna)."
   ]
  },
  {
   "cell_type": "code",
   "execution_count": 1,
   "id": "killing-blackberry",
   "metadata": {
    "execution": {
     "iopub.execute_input": "2021-09-25T19:32:08.319375Z",
     "iopub.status.busy": "2021-09-25T19:32:08.318900Z",
     "iopub.status.idle": "2021-09-25T19:32:08.651466Z",
     "shell.execute_reply": "2021-09-25T19:32:08.651933Z"
    }
   },
   "outputs": [],
   "source": [
    "from pydna.readers import read\n",
    "from pydna.parsers import parse_primers\n",
    "from pydna.genbank import Genbank\n",
    "from pydna.amplify import pcr\n",
    "from pydna.amplify import Anneal"
   ]
  },
  {
   "cell_type": "markdown",
   "id": "agricultural-editing",
   "metadata": {},
   "source": [
    "The vector backbone pYPKa is read from a local [file](pYPKa.gb)."
   ]
  },
  {
   "cell_type": "code",
   "execution_count": 2,
   "id": "handled-magazine",
   "metadata": {
    "execution": {
     "iopub.execute_input": "2021-09-25T19:32:08.659105Z",
     "iopub.status.busy": "2021-09-25T19:32:08.657831Z",
     "iopub.status.idle": "2021-09-25T19:32:08.675052Z",
     "shell.execute_reply": "2021-09-25T19:32:08.675395Z"
    }
   },
   "outputs": [
    {
     "data": {
      "text/html": [
       "<a href='pYPKa.gb' target='_blank'>pYPKa.gb</a><br>"
      ],
      "text/plain": [
       "File(3128bp TmU_6uVdgKq5aQhTpHux7dVk9J8)(o3128)"
      ]
     },
     "execution_count": 2,
     "metadata": {},
     "output_type": "execute_result"
    }
   ],
   "source": [
    "pYPKa = read(\"pYPKa.gb\")\n",
    "pYPKa"
   ]
  },
  {
   "cell_type": "markdown",
   "id": "junior-celtic",
   "metadata": {},
   "source": [
    "Both restriction enzymes are imported from [Biopython](http://biopython.org/wiki/Main_Page)"
   ]
  },
  {
   "cell_type": "code",
   "execution_count": 3,
   "id": "super-census",
   "metadata": {
    "execution": {
     "iopub.execute_input": "2021-09-25T19:32:08.679924Z",
     "iopub.status.busy": "2021-09-25T19:32:08.679193Z",
     "iopub.status.idle": "2021-09-25T19:32:08.681251Z",
     "shell.execute_reply": "2021-09-25T19:32:08.681741Z"
    }
   },
   "outputs": [],
   "source": [
    "from Bio.Restriction import ZraI, EcoRV"
   ]
  },
  {
   "cell_type": "markdown",
   "id": "potential-sheep",
   "metadata": {},
   "source": [
    "The vector is cut with both enzymes."
   ]
  },
  {
   "cell_type": "code",
   "execution_count": 4,
   "id": "interracial-meter",
   "metadata": {
    "execution": {
     "iopub.execute_input": "2021-09-25T19:32:08.690341Z",
     "iopub.status.busy": "2021-09-25T19:32:08.689315Z",
     "iopub.status.idle": "2021-09-25T19:32:08.692615Z",
     "shell.execute_reply": "2021-09-25T19:32:08.693296Z"
    }
   },
   "outputs": [],
   "source": [
    "pYPKa_ZraI  = pYPKa.linearize(ZraI)\n",
    "pYPKa_EcoRV = pYPKa.linearize(EcoRV)"
   ]
  },
  {
   "cell_type": "markdown",
   "id": "normal-substitute",
   "metadata": {},
   "source": [
    "The template below comes from a Genbank [record](http://www.ncbi.nlm.nih.gov/nuccore/part_BK0069452).\n",
    "Access to Genbank is needed in order to download the template.\n",
    "If you execute this script, change the email address below to your own.\n",
    "Always tell Genbank who you are, when using their web service."
   ]
  },
  {
   "cell_type": "code",
   "execution_count": 5,
   "id": "native-environment",
   "metadata": {
    "execution": {
     "iopub.execute_input": "2021-09-25T19:32:08.697359Z",
     "iopub.status.busy": "2021-09-25T19:32:08.696900Z",
     "iopub.status.idle": "2021-09-25T19:32:08.699204Z",
     "shell.execute_reply": "2021-09-25T19:32:08.698833Z"
    }
   },
   "outputs": [],
   "source": [
    "gb = Genbank(\"bjornjobb@gmail.com\")"
   ]
  },
  {
   "cell_type": "markdown",
   "id": "reflected-violin",
   "metadata": {},
   "source": [
    "The template is downloaded from Genbank below."
   ]
  },
  {
   "cell_type": "code",
   "execution_count": 6,
   "id": "perceived-freight",
   "metadata": {
    "execution": {
     "iopub.execute_input": "2021-09-25T19:32:08.704082Z",
     "iopub.status.busy": "2021-09-25T19:32:08.703361Z",
     "iopub.status.idle": "2021-09-25T19:32:08.714235Z",
     "shell.execute_reply": "2021-09-25T19:32:08.714603Z"
    }
   },
   "outputs": [
    {
     "data": {
      "text/html": [
       "<a href='https://www.ncbi.nlm.nih.gov/nuccore/BK006945.2 ?from=817762&to=819311&strand=1' target='_blank'>BK006945.2  817762-819311</a>"
      ],
      "text/plain": [
       "Gbank(BK006945.2  817762-819311)(-1550)"
      ]
     },
     "execution_count": 6,
     "metadata": {},
     "output_type": "execute_result"
    }
   ],
   "source": [
    "template = gb.nucleotide(\"BK006945.2 REGION: 817762..819311\")\n",
    "template.features = []\n",
    "template"
   ]
  },
  {
   "cell_type": "markdown",
   "id": "conservative-deployment",
   "metadata": {},
   "source": [
    "The template is a 1550 bp linear DNA fragment."
   ]
  },
  {
   "cell_type": "code",
   "execution_count": 7,
   "id": "awful-inclusion",
   "metadata": {
    "execution": {
     "iopub.execute_input": "2021-09-25T19:32:08.718464Z",
     "iopub.status.busy": "2021-09-25T19:32:08.717836Z",
     "iopub.status.idle": "2021-09-25T19:32:08.720127Z",
     "shell.execute_reply": "2021-09-25T19:32:08.719729Z"
    }
   },
   "outputs": [],
   "source": [
    "template.add_feature(label=\"RPL26Ap\", type=\"promoter\")"
   ]
  },
  {
   "cell_type": "markdown",
   "id": "hidden-talent",
   "metadata": {},
   "source": [
    "The insert has the sequence shown below."
   ]
  },
  {
   "cell_type": "code",
   "execution_count": 8,
   "id": "cordless-affiliate",
   "metadata": {
    "execution": {
     "iopub.execute_input": "2021-09-25T19:32:08.724719Z",
     "iopub.status.busy": "2021-09-25T19:32:08.724059Z",
     "iopub.status.idle": "2021-09-25T19:32:08.727158Z",
     "shell.execute_reply": "2021-09-25T19:32:08.727658Z"
    }
   },
   "outputs": [
    {
     "name": "stdout",
     "output_type": "stream",
     "text": [
      "AAAATTCATTTAATATTCAATGAAGTTATAAATTGATAGTTTAAATAAAGTCAGTCTTTTTCCTCATGTTTAGAATTGTATTAATGTACGCCGTTTACGTTGGAGTGTAAATGTGTCTATTCCAGAACGAAATCTAAATGAGCAGTACAGGCAGTTCAGATGGTACTGAAGCGGTACTAAAGATGCATGAATTGAACAGATGTGGTAGTTATGTATATGAGGAATATGAGTTGTCACATTAAAAATATAATAGCTATGATCCCATTATTATATTCGTGACAGTTCGTAACGTTTTAATTGGCTTATGTTTTTGAGAAATGGGTGAATTTTAAGATAATTGTTGGGATTCCATTATTGATAAAGGCTATAATATTAGGTATACAGAATATACTGGAAGTTCTCCTCGAGGATATAGGAATCCTCAAAATGGAATCTATATTTCTATTTACTAATATCACGATTATTCTTCATTCCGTTTTATATGTTTCATTATCCTATTACATTATCAATCCTTGCATTTCAGCTTCCTCTAACTTCGATGACAGCTTCTCATAACTCATGTCATCATCTAACACCGTATATGATAATATATTGATAGCATAACCATTAGTTGATAGGTGATGGTGGAATTTTATTTCAACAGTTTTATACCTCTCTTATATAAGCACAGGAAGGTCCATATCCACATTTAAACTTGATTAATACTTTTTTTTATACCTTTAACTATCATCATCAATAATTTCTTTTCTGAAAGTACGACATCAAAGTCGCCGAGTTTTGTCTTCGGAATAAATACTAGGTCAGATGAATAAAGAGCAGGAATTTACTATCTCTGATAATTTATTATGCTCCTCTAGTGCAATGGTTAGCATGCATTCTTCCGGTGGCTGTGATCCGGGTTCGAGTCCCGGGAGGAGCTTTTAATTTTTTAGCGCACTATTCTAATTTTTAAGGAAAAAGCATATTTCCGAGTCAGTGCATAGAAAGAACGGAGGCTACGATGCCAGCACAGTGTCTATAAAGTCAAGAAATACATTCAAACTCTTCGCGTAAGGGCTGTCAATTTTTCATTTCCCTCAAAGTTAATGCGCAAGAGTTAGGATGATCTTGATTATTAGTTATTTGTTTGTTCCATCAATTATGCCGACGTCCATGAATGCTATTGAAGTATCGATTACTTATGCTATTCTATTGTATTTGAGCCGGCGGCTAGTAAACAAGACAGCATACCTTTCCAACATCCGTACATATTGATTATTGTATCTATGATTTTCATGTAATGTATGGGTTAACTAATCCTTTCTCTTCTTTTTTTTTTTTCTGAAAATCAGTAGCTAGAGGAACCTGTTCGTGAAAGATATGGAATATTCCGTCTAGGGAAGAGCCGAGAGCTGAGAGCAGTATCCATCGGATGGAATCTTGCCTGGATGCGTAACGACGACAGCTTGTCTAGAAGGCGAAGTACAAGATACTAAGAAGACTATAACAACAGAAGACAATTTTGTAGTGCGATTCTATATTATTGACGTAACCAACAAAAAAGTATCAGA\n"
     ]
    }
   ],
   "source": [
    "print(str(template.seq))"
   ]
  },
  {
   "cell_type": "markdown",
   "id": "initial-machine",
   "metadata": {},
   "source": [
    "The seguid checksum of the template should be\n",
    "\n",
    "```vnOC2smjrRhlht-CSCCBcV0baAY```"
   ]
  },
  {
   "cell_type": "code",
   "execution_count": 9,
   "id": "surgical-deadline",
   "metadata": {
    "execution": {
     "iopub.execute_input": "2021-09-25T19:32:08.732599Z",
     "iopub.status.busy": "2021-09-25T19:32:08.731942Z",
     "iopub.status.idle": "2021-09-25T19:32:08.735153Z",
     "shell.execute_reply": "2021-09-25T19:32:08.735654Z"
    }
   },
   "outputs": [
    {
     "data": {
      "text/plain": [
       "vnOC2smjrRhlht-CSCCBcV0baAY"
      ]
     },
     "execution_count": 9,
     "metadata": {},
     "output_type": "execute_result"
    }
   ],
   "source": [
    "template.seguid()"
   ]
  },
  {
   "cell_type": "markdown",
   "id": "purple-thinking",
   "metadata": {},
   "source": [
    "Two primers are used to amplify the insert:"
   ]
  },
  {
   "cell_type": "code",
   "execution_count": 10,
   "id": "experimental-accuracy",
   "metadata": {
    "execution": {
     "iopub.execute_input": "2021-09-25T19:32:08.741618Z",
     "iopub.status.busy": "2021-09-25T19:32:08.740755Z",
     "iopub.status.idle": "2021-09-25T19:32:08.743585Z",
     "shell.execute_reply": "2021-09-25T19:32:08.742992Z"
    }
   },
   "outputs": [],
   "source": [
    "fp,rp = parse_primers(\"\"\">1606_fw_tpRPL26A\n",
    "                         TTAAATAAAATTCATTTAATATTCAATGAAGTTATAA\n",
    "                         >1605_rv_tpRPL26A\n",
    "                         TAATTAATCTGATACTTTTTTGTTGGTTA\"\"\")"
   ]
  },
  {
   "cell_type": "markdown",
   "id": "olive-gather",
   "metadata": {},
   "source": [
    "PCR to create the insert using the primers above."
   ]
  },
  {
   "cell_type": "code",
   "execution_count": 11,
   "id": "shared-silly",
   "metadata": {
    "execution": {
     "iopub.execute_input": "2021-09-25T19:32:08.750918Z",
     "iopub.status.busy": "2021-09-25T19:32:08.749486Z",
     "iopub.status.idle": "2021-09-25T19:32:08.755789Z",
     "shell.execute_reply": "2021-09-25T19:32:08.756247Z"
    }
   },
   "outputs": [],
   "source": [
    "prd = pcr(fp, rp, template)\n",
    "assert str(fp.seq) in prd"
   ]
  },
  {
   "cell_type": "markdown",
   "id": "expressed-editor",
   "metadata": {},
   "source": [
    "The PCR product has this length in bp."
   ]
  },
  {
   "cell_type": "code",
   "execution_count": 12,
   "id": "alive-slide",
   "metadata": {
    "execution": {
     "iopub.execute_input": "2021-09-25T19:32:08.760552Z",
     "iopub.status.busy": "2021-09-25T19:32:08.759953Z",
     "iopub.status.idle": "2021-09-25T19:32:08.762801Z",
     "shell.execute_reply": "2021-09-25T19:32:08.763252Z"
    }
   },
   "outputs": [
    {
     "data": {
      "text/plain": [
       "1563"
      ]
     },
     "execution_count": 12,
     "metadata": {},
     "output_type": "execute_result"
    }
   ],
   "source": [
    "len(prd)"
   ]
  },
  {
   "cell_type": "markdown",
   "id": "imposed-abraham",
   "metadata": {},
   "source": [
    "A figure of the primers annealing on template."
   ]
  },
  {
   "cell_type": "code",
   "execution_count": 13,
   "id": "dominant-pottery",
   "metadata": {
    "execution": {
     "iopub.execute_input": "2021-09-25T19:32:08.768641Z",
     "iopub.status.busy": "2021-09-25T19:32:08.767862Z",
     "iopub.status.idle": "2021-09-25T19:32:08.771604Z",
     "shell.execute_reply": "2021-09-25T19:32:08.771056Z"
    }
   },
   "outputs": [
    {
     "data": {
      "text/plain": [
       "      5AAAATTCATTTAATATTCAATGAAGTTATAA...TAACCAACAAAAAAGTATCAGA3\n",
       "                                         ||||||||||||||||||||||\n",
       "                                        3ATTGGTTGTTTTTTCATAGTCTAATTAAT5\n",
       "5TTAAATAAAATTCATTTAATATTCAATGAAGTTATAA3\n",
       "       |||||||||||||||||||||||||||||||\n",
       "      3TTTTAAGTAAATTATAAGTTACTTCAATATT...ATTGGTTGTTTTTTCATAGTCT5"
      ]
     },
     "execution_count": 13,
     "metadata": {},
     "output_type": "execute_result"
    }
   ],
   "source": [
    "prd.figure()"
   ]
  },
  {
   "cell_type": "markdown",
   "id": "manual-thesaurus",
   "metadata": {},
   "source": [
    "A suggested PCR program."
   ]
  },
  {
   "cell_type": "code",
   "execution_count": 14,
   "id": "hindu-samuel",
   "metadata": {
    "execution": {
     "iopub.execute_input": "2021-09-25T19:32:08.777214Z",
     "iopub.status.busy": "2021-09-25T19:32:08.776485Z",
     "iopub.status.idle": "2021-09-25T19:32:08.779605Z",
     "shell.execute_reply": "2021-09-25T19:32:08.780065Z"
    }
   },
   "outputs": [
    {
     "data": {
      "text/plain": [
       "|95°C|95°C               |    |tmf:55.2\n",
       "|____|_____          72°C|72°C|tmr:55.0\n",
       "|3min|30s  \\ 53.0°C _____|____|45s/kb\n",
       "|    |      \\______/ 1:10|5min|GC 34%\n",
       "|    |       30s         |    |1563bp"
      ]
     },
     "execution_count": 14,
     "metadata": {},
     "output_type": "execute_result"
    }
   ],
   "source": [
    "prd.program()"
   ]
  },
  {
   "cell_type": "markdown",
   "id": "living-feedback",
   "metadata": {},
   "source": [
    "The final vectors are:"
   ]
  },
  {
   "cell_type": "code",
   "execution_count": 15,
   "id": "utility-voluntary",
   "metadata": {
    "execution": {
     "iopub.execute_input": "2021-09-25T19:32:08.798515Z",
     "iopub.status.busy": "2021-09-25T19:32:08.793501Z",
     "iopub.status.idle": "2021-09-25T19:32:09.367856Z",
     "shell.execute_reply": "2021-09-25T19:32:09.367407Z"
    }
   },
   "outputs": [],
   "source": [
    "pYPKa_Z_RPL26A = (pYPKa_ZraI  + prd).looped().synced(pYPKa)\n",
    "pYPKa_E_RPL26A = (pYPKa_EcoRV + prd).looped().synced(pYPKa)"
   ]
  },
  {
   "cell_type": "markdown",
   "id": "qualified-precipitation",
   "metadata": {},
   "source": [
    "The final vectors with reverse inserts are created below. These vectors theoretically make up\n",
    "fifty percent of the clones. The PCR strategy outlined below can be used to identify clones with the insert\n",
    "in the correct orientation."
   ]
  },
  {
   "cell_type": "code",
   "execution_count": 16,
   "id": "changed-october",
   "metadata": {
    "execution": {
     "iopub.execute_input": "2021-09-25T19:32:09.390755Z",
     "iopub.status.busy": "2021-09-25T19:32:09.385258Z",
     "iopub.status.idle": "2021-09-25T19:32:09.909392Z",
     "shell.execute_reply": "2021-09-25T19:32:09.908878Z"
    }
   },
   "outputs": [],
   "source": [
    "pYPKa_Z_RPL26Ab = (pYPKa_ZraI  + prd.rc()).looped().synced(pYPKa)\n",
    "pYPKa_E_RPL26Ab = (pYPKa_EcoRV + prd.rc()).looped().synced(pYPKa)"
   ]
  },
  {
   "cell_type": "markdown",
   "id": "human-navigation",
   "metadata": {},
   "source": [
    "A combination of yeast pathway kit standard primers and the primers above are\n",
    "used for the strategy to identify correct clones.\n",
    "Standard primers used in the yeast are listed [here](standard_primers.txt)."
   ]
  },
  {
   "cell_type": "code",
   "execution_count": 17,
   "id": "educated-validation",
   "metadata": {
    "execution": {
     "iopub.execute_input": "2021-09-25T19:32:09.914469Z",
     "iopub.status.busy": "2021-09-25T19:32:09.913813Z",
     "iopub.status.idle": "2021-09-25T19:32:09.916275Z",
     "shell.execute_reply": "2021-09-25T19:32:09.916806Z"
    }
   },
   "outputs": [],
   "source": [
    "p = { x.id: x for x in parse_primers(\"\"\">577\n",
    "                                         gttctgatcctcgagcatcttaagaattc\n",
    "                                         >578\n",
    "                                         gttcttgtctcattgccacattcataagt\n",
    "                                         >468\n",
    "                                         gtcgaggaacgccaggttgcccact\n",
    "                                         >467\n",
    "                                         ATTTAAatcctgatgcgtttgtctgcacaga\n",
    "                                         >567\n",
    "                                         GTcggctgcaggtcactagtgag\n",
    "                                         >568\n",
    "                                         GTGCcatctgtgcagacaaacg\n",
    "                                         >775\n",
    "                                         gcggccgctgacTTAAAT\n",
    "                                         >778\n",
    "                                         ggtaaatccggatTAATTAA\n",
    "                                         >342\n",
    "                                         CCTTTTTACGGTTCCTGGCCT\"\"\") }"
   ]
  },
  {
   "cell_type": "markdown",
   "id": "worldwide-microphone",
   "metadata": {},
   "source": [
    "## Diagnostic PCR confirmation\n",
    "\n",
    "The correct structure of pYPKa_Z_RPL26A is confirmed by PCR using standard primers\n",
    "577 and 342 that are vector specific together with the RPL26Afw primer specific for the insert\n",
    "in a multiplex PCR reaction with\n",
    "all three primers present.\n",
    "\n",
    "Two PCR products are expected if the insert was cloned, the sizes depend\n",
    "on the orientation. If the vector is empty or contains another insert, only one\n",
    "product is formed.\n",
    "\n",
    "#### Expected PCR products sizes from pYPKa_Z_RPL26A:\n",
    "\n",
    "pYPKa_Z_RPL26A with insert in correct orientation."
   ]
  },
  {
   "cell_type": "code",
   "execution_count": 18,
   "id": "graphic-kernel",
   "metadata": {
    "execution": {
     "iopub.execute_input": "2021-09-25T19:32:09.931433Z",
     "iopub.status.busy": "2021-09-25T19:32:09.927545Z",
     "iopub.status.idle": "2021-09-25T19:32:09.934592Z",
     "shell.execute_reply": "2021-09-25T19:32:09.934951Z"
    }
   },
   "outputs": [
    {
     "data": {
      "text/plain": [
       "[Amplicon(2497), Amplicon(2329)]"
      ]
     },
     "execution_count": 18,
     "metadata": {},
     "output_type": "execute_result"
    }
   ],
   "source": [
    "Anneal( (p['577'], p['342'], fp), pYPKa_Z_RPL26A).products"
   ]
  },
  {
   "cell_type": "markdown",
   "id": "binary-placement",
   "metadata": {},
   "source": [
    "pYPKa_Z_RPL26A with insert in reverse orientation."
   ]
  },
  {
   "cell_type": "code",
   "execution_count": 19,
   "id": "fatty-accuracy",
   "metadata": {
    "execution": {
     "iopub.execute_input": "2021-09-25T19:32:09.948161Z",
     "iopub.status.busy": "2021-09-25T19:32:09.947526Z",
     "iopub.status.idle": "2021-09-25T19:32:09.950489Z",
     "shell.execute_reply": "2021-09-25T19:32:09.950099Z"
    }
   },
   "outputs": [
    {
     "data": {
      "text/plain": [
       "[Amplicon(2497), Amplicon(1731)]"
      ]
     },
     "execution_count": 19,
     "metadata": {},
     "output_type": "execute_result"
    }
   ],
   "source": [
    "Anneal( (p['577'], p['342'], fp), pYPKa_Z_RPL26Ab).products"
   ]
  },
  {
   "cell_type": "markdown",
   "id": "agricultural-reviewer",
   "metadata": {},
   "source": [
    "Empty pYPKa clone."
   ]
  },
  {
   "cell_type": "code",
   "execution_count": 20,
   "id": "damaged-mercy",
   "metadata": {
    "execution": {
     "iopub.execute_input": "2021-09-25T19:32:09.959374Z",
     "iopub.status.busy": "2021-09-25T19:32:09.958668Z",
     "iopub.status.idle": "2021-09-25T19:32:09.961240Z",
     "shell.execute_reply": "2021-09-25T19:32:09.961595Z"
    }
   },
   "outputs": [
    {
     "data": {
      "text/plain": [
       "[Amplicon(934)]"
      ]
     },
     "execution_count": 20,
     "metadata": {},
     "output_type": "execute_result"
    }
   ],
   "source": [
    "Anneal( (p['577'], p['342'], fp), pYPKa).products"
   ]
  },
  {
   "cell_type": "markdown",
   "id": "welsh-charge",
   "metadata": {},
   "source": [
    "#### Expected PCR products sizes pYPKa_E_RPL26A:\n",
    "\n",
    "pYPKa_E_RPL26A with insert in correct orientation."
   ]
  },
  {
   "cell_type": "code",
   "execution_count": 21,
   "id": "planned-bracelet",
   "metadata": {
    "execution": {
     "iopub.execute_input": "2021-09-25T19:32:09.974480Z",
     "iopub.status.busy": "2021-09-25T19:32:09.973787Z",
     "iopub.status.idle": "2021-09-25T19:32:09.976313Z",
     "shell.execute_reply": "2021-09-25T19:32:09.976684Z"
    }
   },
   "outputs": [
    {
     "data": {
      "text/plain": [
       "[Amplicon(2497), Amplicon(2248)]"
      ]
     },
     "execution_count": 21,
     "metadata": {},
     "output_type": "execute_result"
    }
   ],
   "source": [
    "Anneal( (p['577'], p['342'], fp), pYPKa_E_RPL26A).products"
   ]
  },
  {
   "cell_type": "markdown",
   "id": "younger-vertex",
   "metadata": {},
   "source": [
    "pYPKa_E_RPL26A with insert in reverse orientation."
   ]
  },
  {
   "cell_type": "code",
   "execution_count": 22,
   "id": "annual-scheme",
   "metadata": {
    "execution": {
     "iopub.execute_input": "2021-09-25T19:32:09.991135Z",
     "iopub.status.busy": "2021-09-25T19:32:09.990539Z",
     "iopub.status.idle": "2021-09-25T19:32:09.993005Z",
     "shell.execute_reply": "2021-09-25T19:32:09.993371Z"
    }
   },
   "outputs": [
    {
     "data": {
      "text/plain": [
       "[Amplicon(2497), Amplicon(1812)]"
      ]
     },
     "execution_count": 22,
     "metadata": {},
     "output_type": "execute_result"
    }
   ],
   "source": [
    "Anneal( (p['577'], p['342'], fp), pYPKa_E_RPL26Ab).products\n"
   ]
  },
  {
   "cell_type": "markdown",
   "id": "inclusive-somewhere",
   "metadata": {},
   "source": [
    "Calculate cseguid checksums for the resulting plasmids for future reference.\n",
    "This checksum that uniquely describes a circular double stranded\n",
    "sequence. See this [blog post](https://ochsavidare.blogspot.com/2016/02/checksum-for-circular-biological.html) for more info.\n",
    "\n",
    "pYPKa_Z_RPL26A.cseguid() should be 5iOOSbAoBJjcJg-bH5aC6LOYOvc"
   ]
  },
  {
   "cell_type": "code",
   "execution_count": 23,
   "id": "expected-whale",
   "metadata": {
    "execution": {
     "iopub.execute_input": "2021-09-25T19:32:10.005713Z",
     "iopub.status.busy": "2021-09-25T19:32:10.000653Z",
     "iopub.status.idle": "2021-09-25T19:32:10.007802Z",
     "shell.execute_reply": "2021-09-25T19:32:10.008163Z"
    }
   },
   "outputs": [
    {
     "name": "stdout",
     "output_type": "stream",
     "text": [
      "5iOOSbAoBJjcJg-bH5aC6LOYOvc\n"
     ]
    }
   ],
   "source": [
    "print(pYPKa_Z_RPL26A.cseguid())\n",
    "assert pYPKa_Z_RPL26A.cseguid() == \"5iOOSbAoBJjcJg-bH5aC6LOYOvc\""
   ]
  },
  {
   "cell_type": "markdown",
   "id": "broke-property",
   "metadata": {},
   "source": [
    "pYPKa_E_RPL26A.cseguid() should be jDBnmla4T7qqCsiSeZtBcy-jPac"
   ]
  },
  {
   "cell_type": "code",
   "execution_count": 24,
   "id": "brown-casino",
   "metadata": {
    "execution": {
     "iopub.execute_input": "2021-09-25T19:32:10.021897Z",
     "iopub.status.busy": "2021-09-25T19:32:10.021337Z",
     "iopub.status.idle": "2021-09-25T19:32:10.024244Z",
     "shell.execute_reply": "2021-09-25T19:32:10.023812Z"
    }
   },
   "outputs": [
    {
     "name": "stdout",
     "output_type": "stream",
     "text": [
      "jDBnmla4T7qqCsiSeZtBcy-jPac\n"
     ]
    }
   ],
   "source": [
    "print(pYPKa_E_RPL26A.cseguid())\n",
    "assert pYPKa_E_RPL26A.cseguid() == \"jDBnmla4T7qqCsiSeZtBcy-jPac\""
   ]
  },
  {
   "cell_type": "markdown",
   "id": "declared-privacy",
   "metadata": {},
   "source": [
    "The sequences are named based on the name of the cloned insert."
   ]
  },
  {
   "cell_type": "code",
   "execution_count": 25,
   "id": "supposed-virus",
   "metadata": {
    "execution": {
     "iopub.execute_input": "2021-09-25T19:32:10.028004Z",
     "iopub.status.busy": "2021-09-25T19:32:10.027529Z",
     "iopub.status.idle": "2021-09-25T19:32:10.029411Z",
     "shell.execute_reply": "2021-09-25T19:32:10.029879Z"
    }
   },
   "outputs": [],
   "source": [
    "pYPKa_Z_RPL26A.locus = \"pYPKa_Z_RPL26A\"[:16]\n",
    "pYPKa_E_RPL26A.locus = \"pYPKa_Z_RPL26A\"[:16]"
   ]
  },
  {
   "cell_type": "markdown",
   "id": "extensive-glucose",
   "metadata": {},
   "source": [
    "Stamp sequence with cseguid checksum. This can be used to verify the\n",
    "integrity of the sequence file."
   ]
  },
  {
   "cell_type": "code",
   "execution_count": 26,
   "id": "impressed-defendant",
   "metadata": {
    "execution": {
     "iopub.execute_input": "2021-09-25T19:32:10.043450Z",
     "iopub.status.busy": "2021-09-25T19:32:10.037816Z",
     "iopub.status.idle": "2021-09-25T19:32:10.047375Z",
     "shell.execute_reply": "2021-09-25T19:32:10.047730Z"
    }
   },
   "outputs": [
    {
     "data": {
      "text/plain": [
       "cSEGUID_jDBnmla4T7qqCsiSeZtBcy-jPac"
      ]
     },
     "execution_count": 26,
     "metadata": {},
     "output_type": "execute_result"
    }
   ],
   "source": [
    "pYPKa_Z_RPL26A.stamp()\n",
    "pYPKa_E_RPL26A.stamp()"
   ]
  },
  {
   "cell_type": "markdown",
   "id": "noble-plenty",
   "metadata": {},
   "source": [
    "pYPKa_Z_RPL26A is written to a local file:"
   ]
  },
  {
   "cell_type": "code",
   "execution_count": 27,
   "id": "passing-thong",
   "metadata": {
    "execution": {
     "iopub.execute_input": "2021-09-25T19:32:10.051271Z",
     "iopub.status.busy": "2021-09-25T19:32:10.050622Z",
     "iopub.status.idle": "2021-09-25T19:32:10.054205Z",
     "shell.execute_reply": "2021-09-25T19:32:10.054598Z"
    }
   },
   "outputs": [
    {
     "data": {
      "text/html": [
       "<font face=monospace><a href='pYPKa_Z_RPL26A.gb' target='_blank'>pYPKa_Z_RPL26A.gb</a></font><br>"
      ]
     },
     "metadata": {},
     "output_type": "display_data"
    }
   ],
   "source": [
    "pYPKa_Z_RPL26A.write(\"pYPKa_Z_RPL26A.gb\")"
   ]
  },
  {
   "cell_type": "markdown",
   "id": "appointed-annual",
   "metadata": {},
   "source": [
    "pYPKa_E_RPL26A is written to a local file:"
   ]
  },
  {
   "cell_type": "code",
   "execution_count": 28,
   "id": "immediate-resolution",
   "metadata": {
    "execution": {
     "iopub.execute_input": "2021-09-25T19:32:10.058978Z",
     "iopub.status.busy": "2021-09-25T19:32:10.057626Z",
     "iopub.status.idle": "2021-09-25T19:32:10.062904Z",
     "shell.execute_reply": "2021-09-25T19:32:10.062386Z"
    }
   },
   "outputs": [
    {
     "data": {
      "text/html": [
       "<font face=monospace><a href='pYPKa_E_RPL26A.gb' target='_blank'>pYPKa_E_RPL26A.gb</a></font><br>"
      ]
     },
     "metadata": {},
     "output_type": "display_data"
    }
   ],
   "source": [
    "pYPKa_E_RPL26A.write(\"pYPKa_E_RPL26A.gb\")"
   ]
  }
 ],
 "metadata": {
  "language_info": {
   "codemirror_mode": {
    "name": "ipython",
    "version": 3
   },
   "file_extension": ".py",
   "mimetype": "text/x-python",
   "name": "python",
   "nbconvert_exporter": "python",
   "pygments_lexer": "ipython3",
   "version": "3.9.7"
  }
 },
 "nbformat": 4,
 "nbformat_minor": 5
}
