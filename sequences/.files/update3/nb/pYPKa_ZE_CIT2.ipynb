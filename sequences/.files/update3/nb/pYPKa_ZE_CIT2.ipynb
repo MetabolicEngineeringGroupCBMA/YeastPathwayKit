{
 "cells": [
  {
   "cell_type": "markdown",
   "id": "personal-assistant",
   "metadata": {},
   "source": [
    "# pYPKa_Z_CIT2 and pYPKa_E_CIT2\n",
    "\n",
    "This Jupyter notebook describe the construction of E. coli vectors [pYPKa_Z_CIT2](pYPKa_Z_CIT2.gb) and [pYPKa_E_CIT2](pYPKa_E_CIT2.gb).\n",
    "These two vectors share backbone and insert, but in the former, the insert is cloned using the restriction\n",
    "enzyme [ZraI](http://rebase.neb.com/rebase/enz/ZraI.html) while in the latter [EcoRV](http://rebase.neb.com/rebase/enz/EcoRV.html) is used.\n",
    "\n",
    "The insert cloned in ZraI is meant to function as a promoter, while in the EcoRV site it is meant to be  used as a terminator.\n",
    "\n",
    "Links to the sequence of each vector in Genbank format can be found at the bottom of this document.\n",
    "\n",
    "![pYPKa_Z and pYPKa_E](figure_pYPKa_ZE.png \"pYPKa_Z or pYPKa_E plasmid\")\n",
    "\n",
    "The Python package [pydna](https://pypi.python.org/pypi/pydna/) package is imported in the code cell below to provide\n",
    "the cloning functionality. There is a [publication](http://www.biomedcentral.com/1471-2105/16/142) describing pydna as well as\n",
    "[documentation](http://pydna.readthedocs.io/) available online. Pydna is developed on [Github](https://github.com/BjornFJohansson/pydna)."
   ]
  },
  {
   "cell_type": "code",
   "execution_count": 1,
   "id": "ignored-declaration",
   "metadata": {
    "execution": {
     "iopub.execute_input": "2021-09-25T19:31:59.767423Z",
     "iopub.status.busy": "2021-09-25T19:31:59.766751Z",
     "iopub.status.idle": "2021-09-25T19:32:00.073903Z",
     "shell.execute_reply": "2021-09-25T19:32:00.073338Z"
    }
   },
   "outputs": [],
   "source": [
    "from pydna.readers import read\n",
    "from pydna.parsers import parse_primers\n",
    "from pydna.genbank import Genbank\n",
    "from pydna.amplify import pcr\n",
    "from pydna.amplify import Anneal"
   ]
  },
  {
   "cell_type": "markdown",
   "id": "frank-rolling",
   "metadata": {},
   "source": [
    "The vector backbone pYPKa is read from a local [file](pYPKa.gb)."
   ]
  },
  {
   "cell_type": "code",
   "execution_count": 2,
   "id": "bizarre-multiple",
   "metadata": {
    "execution": {
     "iopub.execute_input": "2021-09-25T19:32:00.081362Z",
     "iopub.status.busy": "2021-09-25T19:32:00.079705Z",
     "iopub.status.idle": "2021-09-25T19:32:00.096307Z",
     "shell.execute_reply": "2021-09-25T19:32:00.096651Z"
    }
   },
   "outputs": [
    {
     "data": {
      "text/html": [
       "<a href='pYPKa.gb' target='_blank'>pYPKa.gb</a><br>"
      ],
      "text/plain": [
       "File(3128bp TmU_6uVdgKq5aQhTpHux7dVk9J8)(o3128)"
      ]
     },
     "execution_count": 2,
     "metadata": {},
     "output_type": "execute_result"
    }
   ],
   "source": [
    "pYPKa = read(\"pYPKa.gb\")\n",
    "pYPKa"
   ]
  },
  {
   "cell_type": "markdown",
   "id": "useful-moment",
   "metadata": {},
   "source": [
    "Both restriction enzymes are imported from [Biopython](http://biopython.org/wiki/Main_Page)"
   ]
  },
  {
   "cell_type": "code",
   "execution_count": 3,
   "id": "nuclear-auditor",
   "metadata": {
    "execution": {
     "iopub.execute_input": "2021-09-25T19:32:00.101540Z",
     "iopub.status.busy": "2021-09-25T19:32:00.100861Z",
     "iopub.status.idle": "2021-09-25T19:32:00.103083Z",
     "shell.execute_reply": "2021-09-25T19:32:00.103600Z"
    }
   },
   "outputs": [],
   "source": [
    "from Bio.Restriction import ZraI, EcoRV"
   ]
  },
  {
   "cell_type": "markdown",
   "id": "chicken-peeing",
   "metadata": {},
   "source": [
    "The vector is cut with both enzymes."
   ]
  },
  {
   "cell_type": "code",
   "execution_count": 4,
   "id": "suitable-bones",
   "metadata": {
    "execution": {
     "iopub.execute_input": "2021-09-25T19:32:00.112023Z",
     "iopub.status.busy": "2021-09-25T19:32:00.111473Z",
     "iopub.status.idle": "2021-09-25T19:32:00.113532Z",
     "shell.execute_reply": "2021-09-25T19:32:00.113910Z"
    }
   },
   "outputs": [],
   "source": [
    "pYPKa_ZraI  = pYPKa.linearize(ZraI)\n",
    "pYPKa_EcoRV = pYPKa.linearize(EcoRV)"
   ]
  },
  {
   "cell_type": "markdown",
   "id": "corrected-durham",
   "metadata": {},
   "source": [
    "The template below comes from a Genbank [record](http://www.ncbi.nlm.nih.gov/nuccore/part_BK0069372).\n",
    "Access to Genbank is needed in order to download the template.\n",
    "If you execute this script, change the email address below to your own.\n",
    "Always tell Genbank who you are, when using their web service."
   ]
  },
  {
   "cell_type": "code",
   "execution_count": 5,
   "id": "classified-partition",
   "metadata": {
    "execution": {
     "iopub.execute_input": "2021-09-25T19:32:00.118011Z",
     "iopub.status.busy": "2021-09-25T19:32:00.117513Z",
     "iopub.status.idle": "2021-09-25T19:32:00.119330Z",
     "shell.execute_reply": "2021-09-25T19:32:00.119875Z"
    }
   },
   "outputs": [],
   "source": [
    "gb = Genbank(\"bjornjobb@gmail.com\")"
   ]
  },
  {
   "cell_type": "markdown",
   "id": "inappropriate-domain",
   "metadata": {},
   "source": [
    "The template is downloaded from Genbank below."
   ]
  },
  {
   "cell_type": "code",
   "execution_count": 6,
   "id": "imperial-sheep",
   "metadata": {
    "execution": {
     "iopub.execute_input": "2021-09-25T19:32:00.126295Z",
     "iopub.status.busy": "2021-09-25T19:32:00.125190Z",
     "iopub.status.idle": "2021-09-25T19:32:00.134123Z",
     "shell.execute_reply": "2021-09-25T19:32:00.134497Z"
    }
   },
   "outputs": [
    {
     "data": {
      "text/html": [
       "<a href='https://www.ncbi.nlm.nih.gov/nuccore/BK006937.2 ?from=122329&to=122529&strand=2' target='_blank'>BK006937.2  122329-122529</a>"
      ],
      "text/plain": [
       "Gbank(BK006937.2  122329-122529)(-201)"
      ]
     },
     "execution_count": 6,
     "metadata": {},
     "output_type": "execute_result"
    }
   ],
   "source": [
    "template = gb.nucleotide(\"BK006937.2 REGION: complement(122329..122529)\")\n",
    "template.features = []\n",
    "template"
   ]
  },
  {
   "cell_type": "markdown",
   "id": "absent-magnet",
   "metadata": {},
   "source": [
    "The template is a 201 bp linear DNA fragment."
   ]
  },
  {
   "cell_type": "code",
   "execution_count": 7,
   "id": "coated-retirement",
   "metadata": {
    "execution": {
     "iopub.execute_input": "2021-09-25T19:32:00.137925Z",
     "iopub.status.busy": "2021-09-25T19:32:00.137414Z",
     "iopub.status.idle": "2021-09-25T19:32:00.139239Z",
     "shell.execute_reply": "2021-09-25T19:32:00.139666Z"
    }
   },
   "outputs": [],
   "source": [
    "template.add_feature(label=\"CIT2p\", type=\"promoter\")"
   ]
  },
  {
   "cell_type": "markdown",
   "id": "binding-mention",
   "metadata": {},
   "source": [
    "The insert has the sequence shown below."
   ]
  },
  {
   "cell_type": "code",
   "execution_count": 8,
   "id": "integrated-knight",
   "metadata": {
    "execution": {
     "iopub.execute_input": "2021-09-25T19:32:00.145201Z",
     "iopub.status.busy": "2021-09-25T19:32:00.144286Z",
     "iopub.status.idle": "2021-09-25T19:32:00.147567Z",
     "shell.execute_reply": "2021-09-25T19:32:00.148190Z"
    }
   },
   "outputs": [
    {
     "name": "stdout",
     "output_type": "stream",
     "text": [
      "AATTGGTGACGTTAATCTAAAGATAGTCATGCTCTCAAAAGGGCCCATTATTCTCGACGTTGAGCGTATATAAGACTATTAAAACTTGGTTCTTTAGATATGGTGTTCGTTCCTCATTATTAAGTTTCAGGGAACAATATCAACACATATCATAACAGGTTCTCAAAACTTTTTGTTTTAATAATACTAGTAACAAGAAAA\n"
     ]
    }
   ],
   "source": [
    "print(str(template.seq))"
   ]
  },
  {
   "cell_type": "markdown",
   "id": "employed-details",
   "metadata": {},
   "source": [
    "The seguid checksum of the template should be\n",
    "\n",
    "```eVFbHHfp_IgEaUuZcVQ6DWTVkRA```"
   ]
  },
  {
   "cell_type": "code",
   "execution_count": 9,
   "id": "imposed-compiler",
   "metadata": {
    "execution": {
     "iopub.execute_input": "2021-09-25T19:32:00.153395Z",
     "iopub.status.busy": "2021-09-25T19:32:00.152555Z",
     "iopub.status.idle": "2021-09-25T19:32:00.155423Z",
     "shell.execute_reply": "2021-09-25T19:32:00.155895Z"
    }
   },
   "outputs": [
    {
     "data": {
      "text/plain": [
       "eVFbHHfp_IgEaUuZcVQ6DWTVkRA"
      ]
     },
     "execution_count": 9,
     "metadata": {},
     "output_type": "execute_result"
    }
   ],
   "source": [
    "template.seguid()"
   ]
  },
  {
   "cell_type": "markdown",
   "id": "brilliant-oliver",
   "metadata": {},
   "source": [
    "Two primers are used to amplify the insert:"
   ]
  },
  {
   "cell_type": "code",
   "execution_count": 10,
   "id": "generic-duplicate",
   "metadata": {
    "execution": {
     "iopub.execute_input": "2021-09-25T19:32:00.162204Z",
     "iopub.status.busy": "2021-09-25T19:32:00.161080Z",
     "iopub.status.idle": "2021-09-25T19:32:00.164390Z",
     "shell.execute_reply": "2021-09-25T19:32:00.163702Z"
    }
   },
   "outputs": [],
   "source": [
    "fp,rp = parse_primers(\"\"\">1600_fw_tpCIT2\n",
    "                         TTAAATAATTGGTGACGTTAATCTAAA\n",
    "                         >1599_rv_tpCIT2\n",
    "                         TAATTAATTTTCTTGTTACTAGTATTATTAAAAC\"\"\")"
   ]
  },
  {
   "cell_type": "markdown",
   "id": "retained-investing",
   "metadata": {},
   "source": [
    "PCR to create the insert using the primers above."
   ]
  },
  {
   "cell_type": "code",
   "execution_count": 11,
   "id": "independent-theorem",
   "metadata": {
    "execution": {
     "iopub.execute_input": "2021-09-25T19:32:00.172306Z",
     "iopub.status.busy": "2021-09-25T19:32:00.171203Z",
     "iopub.status.idle": "2021-09-25T19:32:00.181593Z",
     "shell.execute_reply": "2021-09-25T19:32:00.181017Z"
    }
   },
   "outputs": [],
   "source": [
    "prd = pcr(fp, rp, template)\n",
    "assert str(fp.seq) in prd"
   ]
  },
  {
   "cell_type": "markdown",
   "id": "affecting-receiver",
   "metadata": {},
   "source": [
    "The PCR product has this length in bp."
   ]
  },
  {
   "cell_type": "code",
   "execution_count": 12,
   "id": "meaningful-slovak",
   "metadata": {
    "execution": {
     "iopub.execute_input": "2021-09-25T19:32:00.186322Z",
     "iopub.status.busy": "2021-09-25T19:32:00.185392Z",
     "iopub.status.idle": "2021-09-25T19:32:00.188936Z",
     "shell.execute_reply": "2021-09-25T19:32:00.189518Z"
    }
   },
   "outputs": [
    {
     "data": {
      "text/plain": [
       "214"
      ]
     },
     "execution_count": 12,
     "metadata": {},
     "output_type": "execute_result"
    }
   ],
   "source": [
    "len(prd)"
   ]
  },
  {
   "cell_type": "markdown",
   "id": "revolutionary-delay",
   "metadata": {},
   "source": [
    "A figure of the primers annealing on template."
   ]
  },
  {
   "cell_type": "code",
   "execution_count": 13,
   "id": "surrounded-illinois",
   "metadata": {
    "execution": {
     "iopub.execute_input": "2021-09-25T19:32:00.194899Z",
     "iopub.status.busy": "2021-09-25T19:32:00.194230Z",
     "iopub.status.idle": "2021-09-25T19:32:00.197206Z",
     "shell.execute_reply": "2021-09-25T19:32:00.197678Z"
    }
   },
   "outputs": [
    {
     "data": {
      "text/plain": [
       "      5AATTGGTGACGTTAATCTAAA...GTTTTAATAATACTAGTAACAAGAAAA3\n",
       "                               |||||||||||||||||||||||||||\n",
       "                              3CAAAATTATTATGATCATTGTTCTTTTAATTAAT5\n",
       "5TTAAATAATTGGTGACGTTAATCTAAA3\n",
       "       |||||||||||||||||||||\n",
       "      3TTAACCACTGCAATTAGATTT...CAAAATTATTATGATCATTGTTCTTTT5"
      ]
     },
     "execution_count": 13,
     "metadata": {},
     "output_type": "execute_result"
    }
   ],
   "source": [
    "prd.figure()"
   ]
  },
  {
   "cell_type": "markdown",
   "id": "patent-sound",
   "metadata": {},
   "source": [
    "A suggested PCR program."
   ]
  },
  {
   "cell_type": "code",
   "execution_count": 14,
   "id": "radical-commissioner",
   "metadata": {
    "execution": {
     "iopub.execute_input": "2021-09-25T19:32:00.203597Z",
     "iopub.status.busy": "2021-09-25T19:32:00.202681Z",
     "iopub.status.idle": "2021-09-25T19:32:00.205891Z",
     "shell.execute_reply": "2021-09-25T19:32:00.206301Z"
    }
   },
   "outputs": [
    {
     "data": {
      "text/plain": [
       "|95°C|95°C               |    |tmf:54.6\n",
       "|____|_____          72°C|72°C|tmr:54.2\n",
       "|3min|30s  \\ 49.7°C _____|____|45s/kb\n",
       "|    |      \\______/ 0:30|5min|GC 29%\n",
       "|    |       30s         |    |214bp"
      ]
     },
     "execution_count": 14,
     "metadata": {},
     "output_type": "execute_result"
    }
   ],
   "source": [
    "prd.program()"
   ]
  },
  {
   "cell_type": "markdown",
   "id": "excess-novelty",
   "metadata": {},
   "source": [
    "The final vectors are:"
   ]
  },
  {
   "cell_type": "code",
   "execution_count": 15,
   "id": "alien-stone",
   "metadata": {
    "execution": {
     "iopub.execute_input": "2021-09-25T19:32:00.223954Z",
     "iopub.status.busy": "2021-09-25T19:32:00.213468Z",
     "iopub.status.idle": "2021-09-25T19:32:00.654987Z",
     "shell.execute_reply": "2021-09-25T19:32:00.654385Z"
    }
   },
   "outputs": [],
   "source": [
    "pYPKa_Z_CIT2 = (pYPKa_ZraI  + prd).looped().synced(pYPKa)\n",
    "pYPKa_E_CIT2 = (pYPKa_EcoRV + prd).looped().synced(pYPKa)"
   ]
  },
  {
   "cell_type": "markdown",
   "id": "clean-order",
   "metadata": {},
   "source": [
    "The final vectors with reverse inserts are created below. These vectors theoretically make up\n",
    "fifty percent of the clones. The PCR strategy outlined below can be used to identify clones with the insert\n",
    "in the correct orientation."
   ]
  },
  {
   "cell_type": "code",
   "execution_count": 16,
   "id": "cross-composer",
   "metadata": {
    "execution": {
     "iopub.execute_input": "2021-09-25T19:32:00.728770Z",
     "iopub.status.busy": "2021-09-25T19:32:00.692963Z",
     "iopub.status.idle": "2021-09-25T19:32:01.077557Z",
     "shell.execute_reply": "2021-09-25T19:32:01.078006Z"
    }
   },
   "outputs": [],
   "source": [
    "pYPKa_Z_CIT2b = (pYPKa_ZraI  + prd.rc()).looped().synced(pYPKa)\n",
    "pYPKa_E_CIT2b = (pYPKa_EcoRV + prd.rc()).looped().synced(pYPKa)"
   ]
  },
  {
   "cell_type": "markdown",
   "id": "liable-ladder",
   "metadata": {},
   "source": [
    "A combination of yeast pathway kit standard primers and the primers above are\n",
    "used for the strategy to identify correct clones.\n",
    "Standard primers used in the yeast are listed [here](standard_primers.txt)."
   ]
  },
  {
   "cell_type": "code",
   "execution_count": 17,
   "id": "headed-territory",
   "metadata": {
    "execution": {
     "iopub.execute_input": "2021-09-25T19:32:01.082700Z",
     "iopub.status.busy": "2021-09-25T19:32:01.081502Z",
     "iopub.status.idle": "2021-09-25T19:32:01.084517Z",
     "shell.execute_reply": "2021-09-25T19:32:01.084960Z"
    }
   },
   "outputs": [],
   "source": [
    "p = { x.id: x for x in parse_primers(\"\"\">577\n",
    "                                         gttctgatcctcgagcatcttaagaattc\n",
    "                                         >578\n",
    "                                         gttcttgtctcattgccacattcataagt\n",
    "                                         >468\n",
    "                                         gtcgaggaacgccaggttgcccact\n",
    "                                         >467\n",
    "                                         ATTTAAatcctgatgcgtttgtctgcacaga\n",
    "                                         >567\n",
    "                                         GTcggctgcaggtcactagtgag\n",
    "                                         >568\n",
    "                                         GTGCcatctgtgcagacaaacg\n",
    "                                         >775\n",
    "                                         gcggccgctgacTTAAAT\n",
    "                                         >778\n",
    "                                         ggtaaatccggatTAATTAA\n",
    "                                         >342\n",
    "                                         CCTTTTTACGGTTCCTGGCCT\"\"\") }"
   ]
  },
  {
   "cell_type": "markdown",
   "id": "celtic-sandwich",
   "metadata": {},
   "source": [
    "## Diagnostic PCR confirmation\n",
    "\n",
    "The correct structure of pYPKa_Z_CIT2 is confirmed by PCR using standard primers\n",
    "577 and 342 that are vector specific together with the CIT2fw primer specific for the insert\n",
    "in a multiplex PCR reaction with\n",
    "all three primers present.\n",
    "\n",
    "Two PCR products are expected if the insert was cloned, the sizes depend\n",
    "on the orientation. If the vector is empty or contains another insert, only one\n",
    "product is formed.\n",
    "\n",
    "#### Expected PCR products sizes from pYPKa_Z_CIT2:\n",
    "\n",
    "pYPKa_Z_CIT2 with insert in correct orientation."
   ]
  },
  {
   "cell_type": "code",
   "execution_count": 18,
   "id": "prostate-keeping",
   "metadata": {
    "execution": {
     "iopub.execute_input": "2021-09-25T19:32:01.098024Z",
     "iopub.status.busy": "2021-09-25T19:32:01.097328Z",
     "iopub.status.idle": "2021-09-25T19:32:01.100276Z",
     "shell.execute_reply": "2021-09-25T19:32:01.099886Z"
    }
   },
   "outputs": [
    {
     "data": {
      "text/plain": [
       "[Amplicon(1148), Amplicon(980)]"
      ]
     },
     "execution_count": 18,
     "metadata": {},
     "output_type": "execute_result"
    }
   ],
   "source": [
    "Anneal( (p['577'], p['342'], fp), pYPKa_Z_CIT2).products"
   ]
  },
  {
   "cell_type": "markdown",
   "id": "least-liberia",
   "metadata": {},
   "source": [
    "pYPKa_Z_CIT2 with insert in reverse orientation."
   ]
  },
  {
   "cell_type": "code",
   "execution_count": 19,
   "id": "timely-associate",
   "metadata": {
    "execution": {
     "iopub.execute_input": "2021-09-25T19:32:01.112166Z",
     "iopub.status.busy": "2021-09-25T19:32:01.111478Z",
     "iopub.status.idle": "2021-09-25T19:32:01.114114Z",
     "shell.execute_reply": "2021-09-25T19:32:01.114491Z"
    }
   },
   "outputs": [
    {
     "data": {
      "text/plain": [
       "[Amplicon(1148), Amplicon(382)]"
      ]
     },
     "execution_count": 19,
     "metadata": {},
     "output_type": "execute_result"
    }
   ],
   "source": [
    "Anneal( (p['577'], p['342'], fp), pYPKa_Z_CIT2b).products"
   ]
  },
  {
   "cell_type": "markdown",
   "id": "viral-balloon",
   "metadata": {},
   "source": [
    "Empty pYPKa clone."
   ]
  },
  {
   "cell_type": "code",
   "execution_count": 20,
   "id": "initial-broadway",
   "metadata": {
    "execution": {
     "iopub.execute_input": "2021-09-25T19:32:01.121985Z",
     "iopub.status.busy": "2021-09-25T19:32:01.121265Z",
     "iopub.status.idle": "2021-09-25T19:32:01.124564Z",
     "shell.execute_reply": "2021-09-25T19:32:01.124086Z"
    }
   },
   "outputs": [
    {
     "data": {
      "text/plain": [
       "[Amplicon(934)]"
      ]
     },
     "execution_count": 20,
     "metadata": {},
     "output_type": "execute_result"
    }
   ],
   "source": [
    "Anneal( (p['577'], p['342'], fp), pYPKa).products"
   ]
  },
  {
   "cell_type": "markdown",
   "id": "naked-ballet",
   "metadata": {},
   "source": [
    "#### Expected PCR products sizes pYPKa_E_CIT2:\n",
    "\n",
    "pYPKa_E_CIT2 with insert in correct orientation."
   ]
  },
  {
   "cell_type": "code",
   "execution_count": 21,
   "id": "solved-briefing",
   "metadata": {
    "execution": {
     "iopub.execute_input": "2021-09-25T19:32:01.137350Z",
     "iopub.status.busy": "2021-09-25T19:32:01.136751Z",
     "iopub.status.idle": "2021-09-25T19:32:01.139227Z",
     "shell.execute_reply": "2021-09-25T19:32:01.139658Z"
    }
   },
   "outputs": [
    {
     "data": {
      "text/plain": [
       "[Amplicon(1148), Amplicon(899)]"
      ]
     },
     "execution_count": 21,
     "metadata": {},
     "output_type": "execute_result"
    }
   ],
   "source": [
    "Anneal( (p['577'], p['342'], fp), pYPKa_E_CIT2).products"
   ]
  },
  {
   "cell_type": "markdown",
   "id": "powerful-affect",
   "metadata": {},
   "source": [
    "pYPKa_E_CIT2 with insert in reverse orientation."
   ]
  },
  {
   "cell_type": "code",
   "execution_count": 22,
   "id": "collect-aruba",
   "metadata": {
    "execution": {
     "iopub.execute_input": "2021-09-25T19:32:01.154236Z",
     "iopub.status.busy": "2021-09-25T19:32:01.153575Z",
     "iopub.status.idle": "2021-09-25T19:32:01.156535Z",
     "shell.execute_reply": "2021-09-25T19:32:01.156125Z"
    }
   },
   "outputs": [
    {
     "data": {
      "text/plain": [
       "[Amplicon(1148), Amplicon(463)]"
      ]
     },
     "execution_count": 22,
     "metadata": {},
     "output_type": "execute_result"
    }
   ],
   "source": [
    "Anneal( (p['577'], p['342'], fp), pYPKa_E_CIT2b).products\n"
   ]
  },
  {
   "cell_type": "markdown",
   "id": "alive-accident",
   "metadata": {},
   "source": [
    "Calculate cseguid checksums for the resulting plasmids for future reference.\n",
    "This checksum that uniquely describes a circular double stranded\n",
    "sequence. See this [blog post](https://ochsavidare.blogspot.com/2016/02/checksum-for-circular-biological.html) for more info.\n",
    "\n",
    "pYPKa_Z_CIT2.cseguid() should be 73sF2OoyiGiWF3LAn3ES0coACjI"
   ]
  },
  {
   "cell_type": "code",
   "execution_count": 23,
   "id": "distinct-proportion",
   "metadata": {
    "execution": {
     "iopub.execute_input": "2021-09-25T19:32:01.168117Z",
     "iopub.status.busy": "2021-09-25T19:32:01.167610Z",
     "iopub.status.idle": "2021-09-25T19:32:01.169701Z",
     "shell.execute_reply": "2021-09-25T19:32:01.170079Z"
    }
   },
   "outputs": [
    {
     "name": "stdout",
     "output_type": "stream",
     "text": [
      "73sF2OoyiGiWF3LAn3ES0coACjI\n"
     ]
    }
   ],
   "source": [
    "print(pYPKa_Z_CIT2.cseguid())\n",
    "assert pYPKa_Z_CIT2.cseguid() == \"73sF2OoyiGiWF3LAn3ES0coACjI\""
   ]
  },
  {
   "cell_type": "markdown",
   "id": "foster-principal",
   "metadata": {},
   "source": [
    "pYPKa_E_CIT2.cseguid() should be RnFw5c81qokiyO3OBqR0deCKlKU"
   ]
  },
  {
   "cell_type": "code",
   "execution_count": 24,
   "id": "mounted-detroit",
   "metadata": {
    "execution": {
     "iopub.execute_input": "2021-09-25T19:32:01.182349Z",
     "iopub.status.busy": "2021-09-25T19:32:01.181631Z",
     "iopub.status.idle": "2021-09-25T19:32:01.184425Z",
     "shell.execute_reply": "2021-09-25T19:32:01.183972Z"
    }
   },
   "outputs": [
    {
     "name": "stdout",
     "output_type": "stream",
     "text": [
      "RnFw5c81qokiyO3OBqR0deCKlKU\n"
     ]
    }
   ],
   "source": [
    "print(pYPKa_E_CIT2.cseguid())\n",
    "assert pYPKa_E_CIT2.cseguid() == \"RnFw5c81qokiyO3OBqR0deCKlKU\""
   ]
  },
  {
   "cell_type": "markdown",
   "id": "undefined-living",
   "metadata": {},
   "source": [
    "The sequences are named based on the name of the cloned insert."
   ]
  },
  {
   "cell_type": "code",
   "execution_count": 25,
   "id": "appropriate-democracy",
   "metadata": {
    "execution": {
     "iopub.execute_input": "2021-09-25T19:32:01.187896Z",
     "iopub.status.busy": "2021-09-25T19:32:01.187357Z",
     "iopub.status.idle": "2021-09-25T19:32:01.189134Z",
     "shell.execute_reply": "2021-09-25T19:32:01.189536Z"
    }
   },
   "outputs": [],
   "source": [
    "pYPKa_Z_CIT2.locus = \"pYPKa_Z_CIT2\"[:16]\n",
    "pYPKa_E_CIT2.locus = \"pYPKa_Z_CIT2\"[:16]"
   ]
  },
  {
   "cell_type": "markdown",
   "id": "contemporary-tracker",
   "metadata": {},
   "source": [
    "Stamp sequence with cseguid checksum. This can be used to verify the\n",
    "integrity of the sequence file."
   ]
  },
  {
   "cell_type": "code",
   "execution_count": 26,
   "id": "operational-steam",
   "metadata": {
    "execution": {
     "iopub.execute_input": "2021-09-25T19:32:01.201050Z",
     "iopub.status.busy": "2021-09-25T19:32:01.200276Z",
     "iopub.status.idle": "2021-09-25T19:32:01.203740Z",
     "shell.execute_reply": "2021-09-25T19:32:01.203298Z"
    }
   },
   "outputs": [
    {
     "data": {
      "text/plain": [
       "cSEGUID_RnFw5c81qokiyO3OBqR0deCKlKU"
      ]
     },
     "execution_count": 26,
     "metadata": {},
     "output_type": "execute_result"
    }
   ],
   "source": [
    "pYPKa_Z_CIT2.stamp()\n",
    "pYPKa_E_CIT2.stamp()"
   ]
  },
  {
   "cell_type": "markdown",
   "id": "finished-arnold",
   "metadata": {},
   "source": [
    "pYPKa_Z_CIT2 is written to a local file:"
   ]
  },
  {
   "cell_type": "code",
   "execution_count": 27,
   "id": "regulation-nudist",
   "metadata": {
    "execution": {
     "iopub.execute_input": "2021-09-25T19:32:01.207491Z",
     "iopub.status.busy": "2021-09-25T19:32:01.206978Z",
     "iopub.status.idle": "2021-09-25T19:32:01.209629Z",
     "shell.execute_reply": "2021-09-25T19:32:01.209995Z"
    }
   },
   "outputs": [
    {
     "data": {
      "text/html": [
       "<font face=monospace><a href='pYPKa_Z_CIT2.gb' target='_blank'>pYPKa_Z_CIT2.gb</a></font><br>"
      ]
     },
     "metadata": {},
     "output_type": "display_data"
    }
   ],
   "source": [
    "pYPKa_Z_CIT2.write(\"pYPKa_Z_CIT2.gb\")"
   ]
  },
  {
   "cell_type": "markdown",
   "id": "taken-moses",
   "metadata": {},
   "source": [
    "pYPKa_E_CIT2 is written to a local file:"
   ]
  },
  {
   "cell_type": "code",
   "execution_count": 28,
   "id": "discrete-hollywood",
   "metadata": {
    "execution": {
     "iopub.execute_input": "2021-09-25T19:32:01.214065Z",
     "iopub.status.busy": "2021-09-25T19:32:01.213169Z",
     "iopub.status.idle": "2021-09-25T19:32:01.217779Z",
     "shell.execute_reply": "2021-09-25T19:32:01.218310Z"
    }
   },
   "outputs": [
    {
     "data": {
      "text/html": [
       "<font face=monospace><a href='pYPKa_E_CIT2.gb' target='_blank'>pYPKa_E_CIT2.gb</a></font><br>"
      ]
     },
     "metadata": {},
     "output_type": "display_data"
    }
   ],
   "source": [
    "pYPKa_E_CIT2.write(\"pYPKa_E_CIT2.gb\")"
   ]
  }
 ],
 "metadata": {
  "language_info": {
   "codemirror_mode": {
    "name": "ipython",
    "version": 3
   },
   "file_extension": ".py",
   "mimetype": "text/x-python",
   "name": "python",
   "nbconvert_exporter": "python",
   "pygments_lexer": "ipython3",
   "version": "3.9.7"
  }
 },
 "nbformat": 4,
 "nbformat_minor": 5
}
