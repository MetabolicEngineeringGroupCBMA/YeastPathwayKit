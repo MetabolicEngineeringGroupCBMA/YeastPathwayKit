{
 "cells": [
  {
   "cell_type": "markdown",
   "id": "typical-railway",
   "metadata": {},
   "source": [
    "# pYPKa_Z_ADH1 and pYPKa_E_ADH1\n",
    "\n",
    "This Jupyter notebook describe the construction of E. coli vectors [pYPKa_Z_ADH1](pYPKa_Z_ADH1.gb) and [pYPKa_E_ADH1](pYPKa_E_ADH1.gb).\n",
    "These two vectors share backbone and insert, but in the former, the insert is cloned using the restriction\n",
    "enzyme [ZraI](http://rebase.neb.com/rebase/enz/ZraI.html) while in the latter [EcoRV](http://rebase.neb.com/rebase/enz/EcoRV.html) is used.\n",
    "\n",
    "The insert cloned in ZraI is meant to function as a promoter, while in the EcoRV site it is meant to be  used as a terminator.\n",
    "\n",
    "Links to the sequence of each vector in Genbank format can be found at the bottom of this document.\n",
    "\n",
    "![pYPKa_Z and pYPKa_E](figure_pYPKa_ZE.png \"pYPKa_Z or pYPKa_E plasmid\")\n",
    "\n",
    "The Python package [pydna](https://pypi.python.org/pypi/pydna/) package is imported in the code cell below to provide\n",
    "the cloning functionality. There is a [publication](http://www.biomedcentral.com/1471-2105/16/142) describing pydna as well as\n",
    "[documentation](http://pydna.readthedocs.io/) available online. Pydna is developed on [Github](https://github.com/BjornFJohansson/pydna)."
   ]
  },
  {
   "cell_type": "code",
   "execution_count": 1,
   "id": "asian-fortune",
   "metadata": {
    "execution": {
     "iopub.execute_input": "2021-09-25T19:31:53.962702Z",
     "iopub.status.busy": "2021-09-25T19:31:53.961619Z",
     "iopub.status.idle": "2021-09-25T19:31:54.263603Z",
     "shell.execute_reply": "2021-09-25T19:31:54.262899Z"
    }
   },
   "outputs": [],
   "source": [
    "from pydna.readers import read\n",
    "from pydna.parsers import parse_primers\n",
    "from pydna.genbank import Genbank\n",
    "from pydna.amplify import pcr\n",
    "from pydna.amplify import Anneal"
   ]
  },
  {
   "cell_type": "markdown",
   "id": "major-revolution",
   "metadata": {},
   "source": [
    "The vector backbone pYPKa is read from a local [file](pYPKa.gb)."
   ]
  },
  {
   "cell_type": "code",
   "execution_count": 2,
   "id": "african-dependence",
   "metadata": {
    "execution": {
     "iopub.execute_input": "2021-09-25T19:31:54.273566Z",
     "iopub.status.busy": "2021-09-25T19:31:54.272020Z",
     "iopub.status.idle": "2021-09-25T19:31:54.287674Z",
     "shell.execute_reply": "2021-09-25T19:31:54.287161Z"
    }
   },
   "outputs": [
    {
     "data": {
      "text/html": [
       "<a href='pYPKa.gb' target='_blank'>pYPKa.gb</a><br>"
      ],
      "text/plain": [
       "File(3128bp TmU_6uVdgKq5aQhTpHux7dVk9J8)(o3128)"
      ]
     },
     "execution_count": 2,
     "metadata": {},
     "output_type": "execute_result"
    }
   ],
   "source": [
    "pYPKa = read(\"pYPKa.gb\")\n",
    "pYPKa"
   ]
  },
  {
   "cell_type": "markdown",
   "id": "occasional-continuity",
   "metadata": {},
   "source": [
    "Both restriction enzymes are imported from [Biopython](http://biopython.org/wiki/Main_Page)"
   ]
  },
  {
   "cell_type": "code",
   "execution_count": 3,
   "id": "labeled-seafood",
   "metadata": {
    "execution": {
     "iopub.execute_input": "2021-09-25T19:31:54.291158Z",
     "iopub.status.busy": "2021-09-25T19:31:54.290714Z",
     "iopub.status.idle": "2021-09-25T19:31:54.293536Z",
     "shell.execute_reply": "2021-09-25T19:31:54.292706Z"
    }
   },
   "outputs": [],
   "source": [
    "from Bio.Restriction import ZraI, EcoRV"
   ]
  },
  {
   "cell_type": "markdown",
   "id": "hearing-freeze",
   "metadata": {},
   "source": [
    "The vector is cut with both enzymes."
   ]
  },
  {
   "cell_type": "code",
   "execution_count": 4,
   "id": "sapphire-hearing",
   "metadata": {
    "execution": {
     "iopub.execute_input": "2021-09-25T19:31:54.303602Z",
     "iopub.status.busy": "2021-09-25T19:31:54.302751Z",
     "iopub.status.idle": "2021-09-25T19:31:54.305749Z",
     "shell.execute_reply": "2021-09-25T19:31:54.305144Z"
    }
   },
   "outputs": [],
   "source": [
    "pYPKa_ZraI  = pYPKa.linearize(ZraI)\n",
    "pYPKa_EcoRV = pYPKa.linearize(EcoRV)"
   ]
  },
  {
   "cell_type": "markdown",
   "id": "enclosed-tourist",
   "metadata": {},
   "source": [
    "The template below comes from a Genbank [record](http://www.ncbi.nlm.nih.gov/nuccore/part_BK0069482).\n",
    "Access to Genbank is needed in order to download the template.\n",
    "If you execute this script, change the email address below to your own.\n",
    "Always tell Genbank who you are, when using their web service."
   ]
  },
  {
   "cell_type": "code",
   "execution_count": 5,
   "id": "residential-communist",
   "metadata": {
    "execution": {
     "iopub.execute_input": "2021-09-25T19:31:54.311599Z",
     "iopub.status.busy": "2021-09-25T19:31:54.310510Z",
     "iopub.status.idle": "2021-09-25T19:31:54.313855Z",
     "shell.execute_reply": "2021-09-25T19:31:54.313193Z"
    }
   },
   "outputs": [],
   "source": [
    "gb = Genbank(\"bjornjobb@gmail.com\")"
   ]
  },
  {
   "cell_type": "markdown",
   "id": "changing-delay",
   "metadata": {},
   "source": [
    "The template is downloaded from Genbank below."
   ]
  },
  {
   "cell_type": "code",
   "execution_count": 6,
   "id": "interior-lecture",
   "metadata": {
    "execution": {
     "iopub.execute_input": "2021-09-25T19:31:54.320259Z",
     "iopub.status.busy": "2021-09-25T19:31:54.319104Z",
     "iopub.status.idle": "2021-09-25T19:31:54.329023Z",
     "shell.execute_reply": "2021-09-25T19:31:54.328428Z"
    }
   },
   "outputs": [
    {
     "data": {
      "text/html": [
       "<a href='https://www.ncbi.nlm.nih.gov/nuccore/BK006948.2 ?from=160595&to=161672&strand=2' target='_blank'>BK006948.2  160595-161672</a>"
      ],
      "text/plain": [
       "Gbank(BK006948.2  160595-161672)(-1078)"
      ]
     },
     "execution_count": 6,
     "metadata": {},
     "output_type": "execute_result"
    }
   ],
   "source": [
    "template = gb.nucleotide(\"BK006948.2 REGION: complement(160595..161672)\")\n",
    "template.features = []\n",
    "template"
   ]
  },
  {
   "cell_type": "markdown",
   "id": "overhead-bachelor",
   "metadata": {},
   "source": [
    "The template is a 1078 bp linear DNA fragment."
   ]
  },
  {
   "cell_type": "code",
   "execution_count": 7,
   "id": "owned-drinking",
   "metadata": {
    "execution": {
     "iopub.execute_input": "2021-09-25T19:31:54.333449Z",
     "iopub.status.busy": "2021-09-25T19:31:54.332786Z",
     "iopub.status.idle": "2021-09-25T19:31:54.335501Z",
     "shell.execute_reply": "2021-09-25T19:31:54.334974Z"
    }
   },
   "outputs": [],
   "source": [
    "template.add_feature(label=\"ADH1p\", type=\"promoter\")"
   ]
  },
  {
   "cell_type": "markdown",
   "id": "corresponding-range",
   "metadata": {},
   "source": [
    "The insert has the sequence shown below."
   ]
  },
  {
   "cell_type": "code",
   "execution_count": 8,
   "id": "restricted-washer",
   "metadata": {
    "execution": {
     "iopub.execute_input": "2021-09-25T19:31:54.340069Z",
     "iopub.status.busy": "2021-09-25T19:31:54.339277Z",
     "iopub.status.idle": "2021-09-25T19:31:54.342527Z",
     "shell.execute_reply": "2021-09-25T19:31:54.343105Z"
    }
   },
   "outputs": [
    {
     "name": "stdout",
     "output_type": "stream",
     "text": [
      "GTATACTAGAAGAATGAGCCAAGACTTGCGAGACGCGAGTTTGCCGGTGGTGCGAACAATAGAGCGACCATGACCTTGAAGGTGAGACGCGCATAACCGCTAGAGTACTTTGAAGAGGAAACAGCAATAGGGTTGCTACCAGTATAAATAGACAGGTACATACAACACTGGAAATGGTTGTCTGTTTGAGTACGCTTTCAATTCATTTGGGTGTGCACTTTATTATGTTACAATATGGAAGGGAACTTTACACTTCTCCTATGCACATATATTAATTAAAGTCCAATGCTAGTAGAGAAGGGGGGTAACACCCCTCCGCGCTCTTTTCCGATTTTTTTCTAAACCGTGGAATATTTCGGATATCCTTTTGTTGTTTCCGGGTGTACAATATGGACTTCCTCTTTTCTGGCAACCAAACCCATACATCGGGATTCCTATAATACCTTCGTTGGTCTCCCTAACATGTAGGTGGCGGAGGGGAGATATACAATAGAACAGATACCAGACAAGACATAATGGGCTAAACAAGACTACACCAATTACACTGCCTCATTGATGGTGGTACATAACGAACTAATACTGTAGCCCTAGACTTGATAGCCATCATCATATCGAAGTTTCACTACCCTTTTTCCATTTGCCATCTATTGAAGTAATAATAGGCGCATGCAACTTCTTTTCTTTTTTTTTCTTTTCTCTCTCCCCCGTTGTTGTCTCACCATATCCGCAATGACAAAAAAATGATGGAAGACACTAAAGGAAAAAATTAACGACAAAGACAGCACCAACAGATGTCGTTGTTCCAGAGCTGATGAGGGGTATCTCGAAGCACACGAAACTTTTTCCTTCCTTCATTCACGCACACTACTCTCTAATGAGCAACGGTATACGGCCTTCCTTCCAGTTACTTGAATTTGAAATAAAAAAAAGTTTGCTGTCTTGCTATCAAGTATAAATAGACCTGCAATTATTAATCTTTTGTTTCCTCGTCATTGTTCTCGTTCCCTTTCTTCCTTGTTTCTTTTTCTGCACAATATTTCAAGCTATACCAAGCATACAATCAACTATCTCATATACA\n"
     ]
    }
   ],
   "source": [
    "print(str(template.seq))"
   ]
  },
  {
   "cell_type": "markdown",
   "id": "electrical-darwin",
   "metadata": {},
   "source": [
    "The seguid checksum of the template should be\n",
    "\n",
    "```TBGTsr0efZ1RYjKCU1VemruYGrY```"
   ]
  },
  {
   "cell_type": "code",
   "execution_count": 9,
   "id": "raising-rebel",
   "metadata": {
    "execution": {
     "iopub.execute_input": "2021-09-25T19:31:54.348718Z",
     "iopub.status.busy": "2021-09-25T19:31:54.347963Z",
     "iopub.status.idle": "2021-09-25T19:31:54.351806Z",
     "shell.execute_reply": "2021-09-25T19:31:54.351166Z"
    }
   },
   "outputs": [
    {
     "data": {
      "text/plain": [
       "TBGTsr0efZ1RYjKCU1VemruYGrY"
      ]
     },
     "execution_count": 9,
     "metadata": {},
     "output_type": "execute_result"
    }
   ],
   "source": [
    "template.seguid()"
   ]
  },
  {
   "cell_type": "markdown",
   "id": "artistic-plaza",
   "metadata": {},
   "source": [
    "Two primers are used to amplify the insert:"
   ]
  },
  {
   "cell_type": "code",
   "execution_count": 10,
   "id": "steady-proposition",
   "metadata": {
    "execution": {
     "iopub.execute_input": "2021-09-25T19:31:54.357379Z",
     "iopub.status.busy": "2021-09-25T19:31:54.356466Z",
     "iopub.status.idle": "2021-09-25T19:31:54.359719Z",
     "shell.execute_reply": "2021-09-25T19:31:54.359003Z"
    }
   },
   "outputs": [],
   "source": [
    "fp,rp = parse_primers(\"\"\">1608_fw_tpADH1\n",
    "                         TTAAATGTATACTAGAAGAATGAGCC\n",
    "                         >1607_rv_tpADH1\n",
    "                         TAATTAATGTATATGAGATAGTTGATTGTAT\"\"\")"
   ]
  },
  {
   "cell_type": "markdown",
   "id": "handed-publisher",
   "metadata": {},
   "source": [
    "PCR to create the insert using the primers above."
   ]
  },
  {
   "cell_type": "code",
   "execution_count": 11,
   "id": "impressive-tribune",
   "metadata": {
    "execution": {
     "iopub.execute_input": "2021-09-25T19:31:54.367168Z",
     "iopub.status.busy": "2021-09-25T19:31:54.366072Z",
     "iopub.status.idle": "2021-09-25T19:31:54.372487Z",
     "shell.execute_reply": "2021-09-25T19:31:54.371895Z"
    }
   },
   "outputs": [],
   "source": [
    "prd = pcr(fp, rp, template)\n",
    "assert str(fp.seq) in prd"
   ]
  },
  {
   "cell_type": "markdown",
   "id": "framed-removal",
   "metadata": {},
   "source": [
    "The PCR product has this length in bp."
   ]
  },
  {
   "cell_type": "code",
   "execution_count": 12,
   "id": "opposed-fraction",
   "metadata": {
    "execution": {
     "iopub.execute_input": "2021-09-25T19:31:54.378132Z",
     "iopub.status.busy": "2021-09-25T19:31:54.377443Z",
     "iopub.status.idle": "2021-09-25T19:31:54.380577Z",
     "shell.execute_reply": "2021-09-25T19:31:54.381007Z"
    }
   },
   "outputs": [
    {
     "data": {
      "text/plain": [
       "1091"
      ]
     },
     "execution_count": 12,
     "metadata": {},
     "output_type": "execute_result"
    }
   ],
   "source": [
    "len(prd)"
   ]
  },
  {
   "cell_type": "markdown",
   "id": "quarterly-silicon",
   "metadata": {},
   "source": [
    "A figure of the primers annealing on template."
   ]
  },
  {
   "cell_type": "code",
   "execution_count": 13,
   "id": "excited-association",
   "metadata": {
    "execution": {
     "iopub.execute_input": "2021-09-25T19:31:54.386412Z",
     "iopub.status.busy": "2021-09-25T19:31:54.385472Z",
     "iopub.status.idle": "2021-09-25T19:31:54.389143Z",
     "shell.execute_reply": "2021-09-25T19:31:54.389707Z"
    }
   },
   "outputs": [
    {
     "data": {
      "text/plain": [
       "      5GTATACTAGAAGAATGAGCC...ATACAATCAACTATCTCATATACA3\n",
       "                              ||||||||||||||||||||||||\n",
       "                             3TATGTTAGTTGATAGAGTATATGTAATTAAT5\n",
       "5TTAAATGTATACTAGAAGAATGAGCC3\n",
       "       ||||||||||||||||||||\n",
       "      3CATATGATCTTCTTACTCGG...TATGTTAGTTGATAGAGTATATGT5"
      ]
     },
     "execution_count": 13,
     "metadata": {},
     "output_type": "execute_result"
    }
   ],
   "source": [
    "prd.figure()"
   ]
  },
  {
   "cell_type": "markdown",
   "id": "economic-petersburg",
   "metadata": {},
   "source": [
    "A suggested PCR program."
   ]
  },
  {
   "cell_type": "code",
   "execution_count": 14,
   "id": "wired-barcelona",
   "metadata": {
    "execution": {
     "iopub.execute_input": "2021-09-25T19:31:54.395980Z",
     "iopub.status.busy": "2021-09-25T19:31:54.395246Z",
     "iopub.status.idle": "2021-09-25T19:31:54.398755Z",
     "shell.execute_reply": "2021-09-25T19:31:54.399246Z"
    }
   },
   "outputs": [
    {
     "data": {
      "text/plain": [
       "|95°C|95°C               |    |tmf:54.8\n",
       "|____|_____          72°C|72°C|tmr:54.4\n",
       "|3min|30s  \\ 54.3°C _____|____|45s/kb\n",
       "|    |      \\______/ 0:49|5min|GC 39%\n",
       "|    |       30s         |    |1091bp"
      ]
     },
     "execution_count": 14,
     "metadata": {},
     "output_type": "execute_result"
    }
   ],
   "source": [
    "prd.program()"
   ]
  },
  {
   "cell_type": "markdown",
   "id": "restricted-necklace",
   "metadata": {},
   "source": [
    "The final vectors are:"
   ]
  },
  {
   "cell_type": "code",
   "execution_count": 15,
   "id": "guided-notification",
   "metadata": {
    "execution": {
     "iopub.execute_input": "2021-09-25T19:31:54.437432Z",
     "iopub.status.busy": "2021-09-25T19:31:54.427452Z",
     "iopub.status.idle": "2021-09-25T19:31:54.929537Z",
     "shell.execute_reply": "2021-09-25T19:31:54.929905Z"
    }
   },
   "outputs": [],
   "source": [
    "pYPKa_Z_ADH1 = (pYPKa_ZraI  + prd).looped().synced(pYPKa)\n",
    "pYPKa_E_ADH1 = (pYPKa_EcoRV + prd).looped().synced(pYPKa)"
   ]
  },
  {
   "cell_type": "markdown",
   "id": "lesbian-protection",
   "metadata": {},
   "source": [
    "The final vectors with reverse inserts are created below. These vectors theoretically make up\n",
    "fifty percent of the clones. The PCR strategy outlined below can be used to identify clones with the insert\n",
    "in the correct orientation."
   ]
  },
  {
   "cell_type": "code",
   "execution_count": 16,
   "id": "known-offset",
   "metadata": {
    "execution": {
     "iopub.execute_input": "2021-09-25T19:31:54.977820Z",
     "iopub.status.busy": "2021-09-25T19:31:54.962589Z",
     "iopub.status.idle": "2021-09-25T19:31:55.436642Z",
     "shell.execute_reply": "2021-09-25T19:31:55.435894Z"
    }
   },
   "outputs": [],
   "source": [
    "pYPKa_Z_ADH1b = (pYPKa_ZraI  + prd.rc()).looped().synced(pYPKa)\n",
    "pYPKa_E_ADH1b = (pYPKa_EcoRV + prd.rc()).looped().synced(pYPKa)"
   ]
  },
  {
   "cell_type": "markdown",
   "id": "spectacular-south",
   "metadata": {},
   "source": [
    "A combination of yeast pathway kit standard primers and the primers above are\n",
    "used for the strategy to identify correct clones.\n",
    "Standard primers used in the yeast are listed [here](standard_primers.txt)."
   ]
  },
  {
   "cell_type": "code",
   "execution_count": 17,
   "id": "running-salmon",
   "metadata": {
    "execution": {
     "iopub.execute_input": "2021-09-25T19:31:55.444809Z",
     "iopub.status.busy": "2021-09-25T19:31:55.443670Z",
     "iopub.status.idle": "2021-09-25T19:31:55.446557Z",
     "shell.execute_reply": "2021-09-25T19:31:55.446128Z"
    }
   },
   "outputs": [],
   "source": [
    "p = { x.id: x for x in parse_primers(\"\"\">577\n",
    "                                         gttctgatcctcgagcatcttaagaattc\n",
    "                                         >578\n",
    "                                         gttcttgtctcattgccacattcataagt\n",
    "                                         >468\n",
    "                                         gtcgaggaacgccaggttgcccact\n",
    "                                         >467\n",
    "                                         ATTTAAatcctgatgcgtttgtctgcacaga\n",
    "                                         >567\n",
    "                                         GTcggctgcaggtcactagtgag\n",
    "                                         >568\n",
    "                                         GTGCcatctgtgcagacaaacg\n",
    "                                         >775\n",
    "                                         gcggccgctgacTTAAAT\n",
    "                                         >778\n",
    "                                         ggtaaatccggatTAATTAA\n",
    "                                         >342\n",
    "                                         CCTTTTTACGGTTCCTGGCCT\"\"\") }"
   ]
  },
  {
   "cell_type": "markdown",
   "id": "amended-flashing",
   "metadata": {},
   "source": [
    "## Diagnostic PCR confirmation\n",
    "\n",
    "The correct structure of pYPKa_Z_ADH1 is confirmed by PCR using standard primers\n",
    "577 and 342 that are vector specific together with the ADH1fw primer specific for the insert\n",
    "in a multiplex PCR reaction with\n",
    "all three primers present.\n",
    "\n",
    "Two PCR products are expected if the insert was cloned, the sizes depend\n",
    "on the orientation. If the vector is empty or contains another insert, only one\n",
    "product is formed.\n",
    "\n",
    "#### Expected PCR products sizes from pYPKa_Z_ADH1:\n",
    "\n",
    "pYPKa_Z_ADH1 with insert in correct orientation."
   ]
  },
  {
   "cell_type": "code",
   "execution_count": 18,
   "id": "auburn-madrid",
   "metadata": {
    "execution": {
     "iopub.execute_input": "2021-09-25T19:31:55.458444Z",
     "iopub.status.busy": "2021-09-25T19:31:55.457624Z",
     "iopub.status.idle": "2021-09-25T19:31:55.461220Z",
     "shell.execute_reply": "2021-09-25T19:31:55.460586Z"
    }
   },
   "outputs": [
    {
     "data": {
      "text/plain": [
       "[Amplicon(2025), Amplicon(1857)]"
      ]
     },
     "execution_count": 18,
     "metadata": {},
     "output_type": "execute_result"
    }
   ],
   "source": [
    "Anneal( (p['577'], p['342'], fp), pYPKa_Z_ADH1).products"
   ]
  },
  {
   "cell_type": "markdown",
   "id": "american-interim",
   "metadata": {},
   "source": [
    "pYPKa_Z_ADH1 with insert in reverse orientation."
   ]
  },
  {
   "cell_type": "code",
   "execution_count": 19,
   "id": "abandoned-weekly",
   "metadata": {
    "execution": {
     "iopub.execute_input": "2021-09-25T19:31:55.475110Z",
     "iopub.status.busy": "2021-09-25T19:31:55.474549Z",
     "iopub.status.idle": "2021-09-25T19:31:55.476921Z",
     "shell.execute_reply": "2021-09-25T19:31:55.477321Z"
    }
   },
   "outputs": [
    {
     "data": {
      "text/plain": [
       "[Amplicon(2025), Amplicon(1259)]"
      ]
     },
     "execution_count": 19,
     "metadata": {},
     "output_type": "execute_result"
    }
   ],
   "source": [
    "Anneal( (p['577'], p['342'], fp), pYPKa_Z_ADH1b).products"
   ]
  },
  {
   "cell_type": "markdown",
   "id": "powerful-front",
   "metadata": {},
   "source": [
    "Empty pYPKa clone."
   ]
  },
  {
   "cell_type": "code",
   "execution_count": 20,
   "id": "pharmaceutical-bullet",
   "metadata": {
    "execution": {
     "iopub.execute_input": "2021-09-25T19:31:55.485968Z",
     "iopub.status.busy": "2021-09-25T19:31:55.485141Z",
     "iopub.status.idle": "2021-09-25T19:31:55.488621Z",
     "shell.execute_reply": "2021-09-25T19:31:55.489157Z"
    }
   },
   "outputs": [
    {
     "data": {
      "text/plain": [
       "[Amplicon(934)]"
      ]
     },
     "execution_count": 20,
     "metadata": {},
     "output_type": "execute_result"
    }
   ],
   "source": [
    "Anneal( (p['577'], p['342'], fp), pYPKa).products"
   ]
  },
  {
   "cell_type": "markdown",
   "id": "short-quantum",
   "metadata": {},
   "source": [
    "#### Expected PCR products sizes pYPKa_E_ADH1:\n",
    "\n",
    "pYPKa_E_ADH1 with insert in correct orientation."
   ]
  },
  {
   "cell_type": "code",
   "execution_count": 21,
   "id": "dynamic-stamp",
   "metadata": {
    "execution": {
     "iopub.execute_input": "2021-09-25T19:31:55.502250Z",
     "iopub.status.busy": "2021-09-25T19:31:55.497220Z",
     "iopub.status.idle": "2021-09-25T19:31:55.505210Z",
     "shell.execute_reply": "2021-09-25T19:31:55.504667Z"
    }
   },
   "outputs": [
    {
     "data": {
      "text/plain": [
       "[Amplicon(2025), Amplicon(1776)]"
      ]
     },
     "execution_count": 21,
     "metadata": {},
     "output_type": "execute_result"
    }
   ],
   "source": [
    "Anneal( (p['577'], p['342'], fp), pYPKa_E_ADH1).products"
   ]
  },
  {
   "cell_type": "markdown",
   "id": "descending-partner",
   "metadata": {},
   "source": [
    "pYPKa_E_ADH1 with insert in reverse orientation."
   ]
  },
  {
   "cell_type": "code",
   "execution_count": 22,
   "id": "distant-navigation",
   "metadata": {
    "execution": {
     "iopub.execute_input": "2021-09-25T19:31:55.519272Z",
     "iopub.status.busy": "2021-09-25T19:31:55.518599Z",
     "iopub.status.idle": "2021-09-25T19:31:55.521242Z",
     "shell.execute_reply": "2021-09-25T19:31:55.521662Z"
    }
   },
   "outputs": [
    {
     "data": {
      "text/plain": [
       "[Amplicon(2025), Amplicon(1340)]"
      ]
     },
     "execution_count": 22,
     "metadata": {},
     "output_type": "execute_result"
    }
   ],
   "source": [
    "Anneal( (p['577'], p['342'], fp), pYPKa_E_ADH1b).products\n"
   ]
  },
  {
   "cell_type": "markdown",
   "id": "quarterly-malaysia",
   "metadata": {},
   "source": [
    "Calculate cseguid checksums for the resulting plasmids for future reference.\n",
    "This checksum that uniquely describes a circular double stranded\n",
    "sequence. See this [blog post](https://ochsavidare.blogspot.com/2016/02/checksum-for-circular-biological.html) for more info.\n",
    "\n",
    "pYPKa_Z_ADH1.cseguid() should be CUjHx37MZf80gbaEcnUzIrPM-Tw"
   ]
  },
  {
   "cell_type": "code",
   "execution_count": 23,
   "id": "authorized-arlington",
   "metadata": {
    "execution": {
     "iopub.execute_input": "2021-09-25T19:31:55.533013Z",
     "iopub.status.busy": "2021-09-25T19:31:55.532239Z",
     "iopub.status.idle": "2021-09-25T19:31:55.536224Z",
     "shell.execute_reply": "2021-09-25T19:31:55.535372Z"
    }
   },
   "outputs": [
    {
     "name": "stdout",
     "output_type": "stream",
     "text": [
      "CUjHx37MZf80gbaEcnUzIrPM-Tw\n"
     ]
    }
   ],
   "source": [
    "print(pYPKa_Z_ADH1.cseguid())\n",
    "assert pYPKa_Z_ADH1.cseguid() == \"CUjHx37MZf80gbaEcnUzIrPM-Tw\""
   ]
  },
  {
   "cell_type": "markdown",
   "id": "instrumental-portable",
   "metadata": {},
   "source": [
    "pYPKa_E_ADH1.cseguid() should be Q0icKNqO7ybno7OIsWl2c6LuG9I"
   ]
  },
  {
   "cell_type": "code",
   "execution_count": 24,
   "id": "running-architect",
   "metadata": {
    "execution": {
     "iopub.execute_input": "2021-09-25T19:31:55.549250Z",
     "iopub.status.busy": "2021-09-25T19:31:55.544883Z",
     "iopub.status.idle": "2021-09-25T19:31:55.551512Z",
     "shell.execute_reply": "2021-09-25T19:31:55.551878Z"
    }
   },
   "outputs": [
    {
     "name": "stdout",
     "output_type": "stream",
     "text": [
      "Q0icKNqO7ybno7OIsWl2c6LuG9I\n"
     ]
    }
   ],
   "source": [
    "print(pYPKa_E_ADH1.cseguid())\n",
    "assert pYPKa_E_ADH1.cseguid() == \"Q0icKNqO7ybno7OIsWl2c6LuG9I\""
   ]
  },
  {
   "cell_type": "markdown",
   "id": "portable-queens",
   "metadata": {},
   "source": [
    "The sequences are named based on the name of the cloned insert."
   ]
  },
  {
   "cell_type": "code",
   "execution_count": 25,
   "id": "advance-vision",
   "metadata": {
    "execution": {
     "iopub.execute_input": "2021-09-25T19:31:55.555268Z",
     "iopub.status.busy": "2021-09-25T19:31:55.554785Z",
     "iopub.status.idle": "2021-09-25T19:31:55.556984Z",
     "shell.execute_reply": "2021-09-25T19:31:55.557752Z"
    }
   },
   "outputs": [],
   "source": [
    "pYPKa_Z_ADH1.locus = \"pYPKa_Z_ADH1\"[:16]\n",
    "pYPKa_E_ADH1.locus = \"pYPKa_Z_ADH1\"[:16]"
   ]
  },
  {
   "cell_type": "markdown",
   "id": "divided-thesaurus",
   "metadata": {},
   "source": [
    "Stamp sequence with cseguid checksum. This can be used to verify the\n",
    "integrity of the sequence file."
   ]
  },
  {
   "cell_type": "code",
   "execution_count": 26,
   "id": "jewish-metropolitan",
   "metadata": {
    "execution": {
     "iopub.execute_input": "2021-09-25T19:31:55.573955Z",
     "iopub.status.busy": "2021-09-25T19:31:55.573336Z",
     "iopub.status.idle": "2021-09-25T19:31:55.580075Z",
     "shell.execute_reply": "2021-09-25T19:31:55.580447Z"
    }
   },
   "outputs": [
    {
     "data": {
      "text/plain": [
       "cSEGUID_Q0icKNqO7ybno7OIsWl2c6LuG9I"
      ]
     },
     "execution_count": 26,
     "metadata": {},
     "output_type": "execute_result"
    }
   ],
   "source": [
    "pYPKa_Z_ADH1.stamp()\n",
    "pYPKa_E_ADH1.stamp()"
   ]
  },
  {
   "cell_type": "markdown",
   "id": "drawn-blend",
   "metadata": {},
   "source": [
    "pYPKa_Z_ADH1 is written to a local file:"
   ]
  },
  {
   "cell_type": "code",
   "execution_count": 27,
   "id": "alternate-carter",
   "metadata": {
    "execution": {
     "iopub.execute_input": "2021-09-25T19:31:55.584515Z",
     "iopub.status.busy": "2021-09-25T19:31:55.583516Z",
     "iopub.status.idle": "2021-09-25T19:31:55.587503Z",
     "shell.execute_reply": "2021-09-25T19:31:55.587082Z"
    }
   },
   "outputs": [
    {
     "data": {
      "text/html": [
       "<font face=monospace><a href='pYPKa_Z_ADH1.gb' target='_blank'>pYPKa_Z_ADH1.gb</a></font><br>"
      ]
     },
     "metadata": {},
     "output_type": "display_data"
    }
   ],
   "source": [
    "pYPKa_Z_ADH1.write(\"pYPKa_Z_ADH1.gb\")"
   ]
  },
  {
   "cell_type": "markdown",
   "id": "ordinary-conversation",
   "metadata": {},
   "source": [
    "pYPKa_E_ADH1 is written to a local file:"
   ]
  },
  {
   "cell_type": "code",
   "execution_count": 28,
   "id": "super-paste",
   "metadata": {
    "execution": {
     "iopub.execute_input": "2021-09-25T19:31:55.592538Z",
     "iopub.status.busy": "2021-09-25T19:31:55.591366Z",
     "iopub.status.idle": "2021-09-25T19:31:55.595930Z",
     "shell.execute_reply": "2021-09-25T19:31:55.596472Z"
    }
   },
   "outputs": [
    {
     "data": {
      "text/html": [
       "<font face=monospace><a href='pYPKa_E_ADH1.gb' target='_blank'>pYPKa_E_ADH1.gb</a></font><br>"
      ]
     },
     "metadata": {},
     "output_type": "display_data"
    }
   ],
   "source": [
    "pYPKa_E_ADH1.write(\"pYPKa_E_ADH1.gb\")"
   ]
  }
 ],
 "metadata": {
  "language_info": {
   "codemirror_mode": {
    "name": "ipython",
    "version": 3
   },
   "file_extension": ".py",
   "mimetype": "text/x-python",
   "name": "python",
   "nbconvert_exporter": "python",
   "pygments_lexer": "ipython3",
   "version": "3.9.7"
  }
 },
 "nbformat": 4,
 "nbformat_minor": 5
}
