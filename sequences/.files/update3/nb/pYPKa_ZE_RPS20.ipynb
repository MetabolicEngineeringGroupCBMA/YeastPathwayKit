{
 "cells": [
  {
   "cell_type": "markdown",
   "id": "insured-republican",
   "metadata": {},
   "source": [
    "# pYPKa_Z_RPS20 and pYPKa_E_RPS20\n",
    "\n",
    "This Jupyter notebook describe the construction of E. coli vectors [pYPKa_Z_RPS20](pYPKa_Z_RPS20.gb) and [pYPKa_E_RPS20](pYPKa_E_RPS20.gb).\n",
    "These two vectors share backbone and insert, but in the former, the insert is cloned using the restriction\n",
    "enzyme [ZraI](http://rebase.neb.com/rebase/enz/ZraI.html) while in the latter [EcoRV](http://rebase.neb.com/rebase/enz/EcoRV.html) is used.\n",
    "\n",
    "The insert cloned in ZraI is meant to function as a promoter, while in the EcoRV site it is meant to be  used as a terminator.\n",
    "\n",
    "Links to the sequence of each vector in Genbank format can be found at the bottom of this document.\n",
    "\n",
    "![pYPKa_Z and pYPKa_E](figure_pYPKa_ZE.png \"pYPKa_Z or pYPKa_E plasmid\")\n",
    "\n",
    "The Python package [pydna](https://pypi.python.org/pypi/pydna/) package is imported in the code cell below to provide\n",
    "the cloning functionality. There is a [publication](http://www.biomedcentral.com/1471-2105/16/142) describing pydna as well as\n",
    "[documentation](http://pydna.readthedocs.io/) available online. Pydna is developed on [Github](https://github.com/BjornFJohansson/pydna)."
   ]
  },
  {
   "cell_type": "code",
   "execution_count": 1,
   "id": "promising-plate",
   "metadata": {
    "execution": {
     "iopub.execute_input": "2021-05-19T09:54:19.418232Z",
     "iopub.status.busy": "2021-05-19T09:54:19.417128Z",
     "iopub.status.idle": "2021-05-19T09:54:19.988111Z",
     "shell.execute_reply": "2021-05-19T09:54:19.988546Z"
    }
   },
   "outputs": [],
   "source": [
    "from pydna.readers import read\n",
    "from pydna.parsers import parse_primers\n",
    "from pydna.genbank import Genbank\n",
    "from pydna.amplify import pcr\n",
    "from pydna.amplify import Anneal"
   ]
  },
  {
   "cell_type": "markdown",
   "id": "interstate-detector",
   "metadata": {},
   "source": [
    "The vector backbone pYPKa is read from a local [file](pYPKa.gb)."
   ]
  },
  {
   "cell_type": "code",
   "execution_count": 2,
   "id": "silver-wildlife",
   "metadata": {
    "execution": {
     "iopub.execute_input": "2021-05-19T09:54:19.996293Z",
     "iopub.status.busy": "2021-05-19T09:54:19.995512Z",
     "iopub.status.idle": "2021-05-19T09:54:20.019932Z",
     "shell.execute_reply": "2021-05-19T09:54:20.020815Z"
    }
   },
   "outputs": [
    {
     "data": {
      "text/html": [
       "<a href='pYPKa.gb' target='_blank'>pYPKa.gb</a><br>"
      ],
      "text/plain": [
       "File(3128bp TmU_6uVdgKq5aQhTpHux7dVk9J8)(o3128)"
      ]
     },
     "execution_count": 1,
     "metadata": {},
     "output_type": "execute_result"
    }
   ],
   "source": [
    "pYPKa = read(\"pYPKa.gb\")\n",
    "pYPKa"
   ]
  },
  {
   "cell_type": "markdown",
   "id": "ambient-hebrew",
   "metadata": {},
   "source": [
    "Both restriction enzymes are imported from [Biopython](http://biopython.org/wiki/Main_Page)"
   ]
  },
  {
   "cell_type": "code",
   "execution_count": 3,
   "id": "cross-leisure",
   "metadata": {
    "execution": {
     "iopub.execute_input": "2021-05-19T09:54:20.029718Z",
     "iopub.status.busy": "2021-05-19T09:54:20.028762Z",
     "iopub.status.idle": "2021-05-19T09:54:20.065083Z",
     "shell.execute_reply": "2021-05-19T09:54:20.071857Z"
    }
   },
   "outputs": [],
   "source": [
    "from Bio.Restriction import ZraI, EcoRV"
   ]
  },
  {
   "cell_type": "markdown",
   "id": "satisfied-cricket",
   "metadata": {},
   "source": [
    "The vector is cut with both enzymes."
   ]
  },
  {
   "cell_type": "code",
   "execution_count": 4,
   "id": "computational-indiana",
   "metadata": {
    "execution": {
     "iopub.execute_input": "2021-05-19T09:54:20.093514Z",
     "iopub.status.busy": "2021-05-19T09:54:20.087331Z",
     "iopub.status.idle": "2021-05-19T09:54:20.097269Z",
     "shell.execute_reply": "2021-05-19T09:54:20.098061Z"
    }
   },
   "outputs": [],
   "source": [
    "pYPKa_ZraI  = pYPKa.linearize(ZraI)\n",
    "pYPKa_EcoRV = pYPKa.linearize(EcoRV)"
   ]
  },
  {
   "cell_type": "markdown",
   "id": "theoretical-donna",
   "metadata": {},
   "source": [
    "The template below comes from a Genbank [record](http://www.ncbi.nlm.nih.gov/nuccore/part_BK0069342).\n",
    "Access to Genbank is needed in order to download the template.\n",
    "If you execute this script, change the email address below to your own.\n",
    "Always tell Genbank who you are, when using their web service."
   ]
  },
  {
   "cell_type": "code",
   "execution_count": 5,
   "id": "interim-uzbekistan",
   "metadata": {
    "execution": {
     "iopub.execute_input": "2021-05-19T09:54:20.110744Z",
     "iopub.status.busy": "2021-05-19T09:54:20.106138Z",
     "iopub.status.idle": "2021-05-19T09:54:20.113494Z",
     "shell.execute_reply": "2021-05-19T09:54:20.114200Z"
    }
   },
   "outputs": [],
   "source": [
    "gb = Genbank(\"bjornjobb@gmail.com\")"
   ]
  },
  {
   "cell_type": "markdown",
   "id": "harmful-nothing",
   "metadata": {},
   "source": [
    "The template is downloaded from Genbank below."
   ]
  },
  {
   "cell_type": "code",
   "execution_count": 6,
   "id": "imperial-characteristic",
   "metadata": {
    "execution": {
     "iopub.execute_input": "2021-05-19T09:54:20.122352Z",
     "iopub.status.busy": "2021-05-19T09:54:20.119823Z",
     "iopub.status.idle": "2021-05-19T09:54:20.133243Z",
     "shell.execute_reply": "2021-05-19T09:54:20.133981Z"
    }
   },
   "outputs": [
    {
     "data": {
      "text/html": [
       "<a href='https://www.ncbi.nlm.nih.gov/nuccore/BK006934.2 ?from=74783&to=75411&strand=1' target='_blank'>BK006934.2  74783-75411</a>"
      ],
      "text/plain": [
       "Gbank(BK006934.2  74783-75411)(-629)"
      ]
     },
     "execution_count": 1,
     "metadata": {},
     "output_type": "execute_result"
    }
   ],
   "source": [
    "template = gb.nucleotide(\"BK006934.2 REGION: 74783..75411\")\n",
    "template.features = []\n",
    "template"
   ]
  },
  {
   "cell_type": "markdown",
   "id": "maritime-fighter",
   "metadata": {},
   "source": [
    "The template is a 629 bp linear DNA fragment."
   ]
  },
  {
   "cell_type": "code",
   "execution_count": 7,
   "id": "hairy-people",
   "metadata": {
    "execution": {
     "iopub.execute_input": "2021-05-19T09:54:20.144364Z",
     "iopub.status.busy": "2021-05-19T09:54:20.139336Z",
     "iopub.status.idle": "2021-05-19T09:54:20.145170Z",
     "shell.execute_reply": "2021-05-19T09:54:20.145979Z"
    }
   },
   "outputs": [],
   "source": [
    "template.add_feature(label=\"RPS20p\", type=\"promoter\")"
   ]
  },
  {
   "cell_type": "markdown",
   "id": "absent-candidate",
   "metadata": {},
   "source": [
    "The insert has the sequence shown below."
   ]
  },
  {
   "cell_type": "code",
   "execution_count": 8,
   "id": "opposed-colony",
   "metadata": {
    "execution": {
     "iopub.execute_input": "2021-05-19T09:54:20.152879Z",
     "iopub.status.busy": "2021-05-19T09:54:20.152047Z",
     "iopub.status.idle": "2021-05-19T09:54:20.154011Z",
     "shell.execute_reply": "2021-05-19T09:54:20.154467Z"
    }
   },
   "outputs": [
    {
     "name": "stdout",
     "output_type": "stream",
     "text": [
      "TAAAGAGCGCCAAATCTGCACCTTGTGCATTTTGTTCACACATTCTTGGCGCTCCTAACTGGAGAAACGTCTATCATTGAGGATAACTCCGGATAGTCGCATTCTGATTGAATAGCCGTCTAGCTCCCTATTGTGACTAGAATACTATTGACATCGTTTTCTCATCAAAACCTCCCGATAAAGGGAAAAAAAGAATTATCTGACCAGATCATTCGGAAAAATGCGTATCGTCATTGATATCCTTCTTGTCTTGTCTGCTGCTAACACTATTTACTATGGAAAGAGAGATTTCCCTGAAACTTCTTATTTTTATCTCTATAGAAGGGGAAAAGATAAAAGTAAAAATGTAAAAATGTTTACCTGCAAGTTCACACCTGTACATTTTCTACATCCGTAAACATAAGAGAAAAAATGCCACAACTATTTTTATGAAGATAAAGTTCGGGTAACGATAATGTTTTAATTTTGAAAAAAAAACTTCGACGCATTCGCGACTAGCCTCAGAGATTGAGTAATAGACCGTATTGAATTCAAAATAATAGTAAAGATGGGTTATTTCATTCAAGCTCAGCTTTAGATTGAAACTCCTACAAGAAAGCAAGTAAAATAAACAAAAAGGTATATACAAA\n"
     ]
    }
   ],
   "source": [
    "print(str(template.seq))"
   ]
  },
  {
   "cell_type": "markdown",
   "id": "hungry-mattress",
   "metadata": {},
   "source": [
    "The seguid checksum of the template should be\n",
    "\n",
    "```AzrVakdmluHV9wwe8nyONZHX220```"
   ]
  },
  {
   "cell_type": "code",
   "execution_count": 9,
   "id": "played-london",
   "metadata": {
    "execution": {
     "iopub.execute_input": "2021-05-19T09:54:20.159453Z",
     "iopub.status.busy": "2021-05-19T09:54:20.158795Z",
     "iopub.status.idle": "2021-05-19T09:54:20.162288Z",
     "shell.execute_reply": "2021-05-19T09:54:20.161776Z"
    }
   },
   "outputs": [
    {
     "data": {
      "text/plain": [
       "AzrVakdmluHV9wwe8nyONZHX220"
      ]
     },
     "execution_count": 1,
     "metadata": {},
     "output_type": "execute_result"
    }
   ],
   "source": [
    "template.seguid()"
   ]
  },
  {
   "cell_type": "markdown",
   "id": "rural-maria",
   "metadata": {},
   "source": [
    "Two primers are used to amplify the insert:"
   ]
  },
  {
   "cell_type": "code",
   "execution_count": 10,
   "id": "stopped-scenario",
   "metadata": {
    "execution": {
     "iopub.execute_input": "2021-05-19T09:54:20.167988Z",
     "iopub.status.busy": "2021-05-19T09:54:20.167213Z",
     "iopub.status.idle": "2021-05-19T09:54:20.169183Z",
     "shell.execute_reply": "2021-05-19T09:54:20.169723Z"
    }
   },
   "outputs": [],
   "source": [
    "fp,rp = parse_primers(\"\"\">1602_fw_tpRPS20\n",
    "                         TTAAATTAAAGAGCGCCAAATCT\n",
    "                         >1601_rv_tpRPS20\n",
    "                         TAATTAATTTGTATATACCTTTTTGTTTATTTTA\"\"\")"
   ]
  },
  {
   "cell_type": "markdown",
   "id": "twenty-girlfriend",
   "metadata": {},
   "source": [
    "PCR to create the insert using the primers above."
   ]
  },
  {
   "cell_type": "code",
   "execution_count": 11,
   "id": "streaming-citation",
   "metadata": {
    "execution": {
     "iopub.execute_input": "2021-05-19T09:54:20.174316Z",
     "iopub.status.busy": "2021-05-19T09:54:20.173874Z",
     "iopub.status.idle": "2021-05-19T09:54:20.177940Z",
     "shell.execute_reply": "2021-05-19T09:54:20.178564Z"
    }
   },
   "outputs": [],
   "source": [
    "prd = pcr(fp, rp, template)\n",
    "assert str(fp.seq) in prd"
   ]
  },
  {
   "cell_type": "markdown",
   "id": "introductory-occasion",
   "metadata": {},
   "source": [
    "The PCR product has this length in bp."
   ]
  },
  {
   "cell_type": "code",
   "execution_count": 12,
   "id": "incorporated-offer",
   "metadata": {
    "execution": {
     "iopub.execute_input": "2021-05-19T09:54:20.183226Z",
     "iopub.status.busy": "2021-05-19T09:54:20.182458Z",
     "iopub.status.idle": "2021-05-19T09:54:20.186672Z",
     "shell.execute_reply": "2021-05-19T09:54:20.187215Z"
    }
   },
   "outputs": [
    {
     "data": {
      "text/plain": [
       "642"
      ]
     },
     "execution_count": 1,
     "metadata": {},
     "output_type": "execute_result"
    }
   ],
   "source": [
    "len(prd)"
   ]
  },
  {
   "cell_type": "markdown",
   "id": "electric-board",
   "metadata": {},
   "source": [
    "A figure of the primers annealing on template."
   ]
  },
  {
   "cell_type": "code",
   "execution_count": 13,
   "id": "understood-aberdeen",
   "metadata": {
    "execution": {
     "iopub.execute_input": "2021-05-19T09:54:20.192628Z",
     "iopub.status.busy": "2021-05-19T09:54:20.191959Z",
     "iopub.status.idle": "2021-05-19T09:54:20.195185Z",
     "shell.execute_reply": "2021-05-19T09:54:20.195780Z"
    }
   },
   "outputs": [
    {
     "data": {
      "text/plain": [
       "      5TAAAGAGCGCCAAATCT...TAAAATAAACAAAAAGGTATATACAAA3\n",
       "                           |||||||||||||||||||||||||||\n",
       "                          3ATTTTATTTGTTTTTCCATATATGTTTAATTAAT5\n",
       "5TTAAATTAAAGAGCGCCAAATCT3\n",
       "       |||||||||||||||||\n",
       "      3ATTTCTCGCGGTTTAGA...ATTTTATTTGTTTTTCCATATATGTTT5"
      ]
     },
     "execution_count": 1,
     "metadata": {},
     "output_type": "execute_result"
    }
   ],
   "source": [
    "prd.figure()"
   ]
  },
  {
   "cell_type": "markdown",
   "id": "recreational-hormone",
   "metadata": {},
   "source": [
    "A suggested PCR program."
   ]
  },
  {
   "cell_type": "code",
   "execution_count": 14,
   "id": "chubby-plastic",
   "metadata": {
    "execution": {
     "iopub.execute_input": "2021-05-19T09:54:20.201298Z",
     "iopub.status.busy": "2021-05-19T09:54:20.200157Z",
     "iopub.status.idle": "2021-05-19T09:54:20.204160Z",
     "shell.execute_reply": "2021-05-19T09:54:20.204756Z"
    }
   },
   "outputs": [
    {
     "data": {
      "text/plain": [
       "|95°C|95°C               |    |tmf:54.9\n",
       "|____|_____          72°C|72°C|tmr:54.4\n",
       "|5min|30s  \\ 52.3°C _____|____|60s/kb\n",
       "|    |      \\______/ 0:38|5min|GC 34%\n",
       "|    |       30s         |    |642bp"
      ]
     },
     "execution_count": 1,
     "metadata": {},
     "output_type": "execute_result"
    }
   ],
   "source": [
    "prd.program()"
   ]
  },
  {
   "cell_type": "markdown",
   "id": "sexual-roberts",
   "metadata": {},
   "source": [
    "The final vectors are:"
   ]
  },
  {
   "cell_type": "code",
   "execution_count": 15,
   "id": "found-protein",
   "metadata": {
    "execution": {
     "iopub.execute_input": "2021-05-19T09:54:20.279531Z",
     "iopub.status.busy": "2021-05-19T09:54:20.242901Z",
     "iopub.status.idle": "2021-05-19T09:54:20.743670Z",
     "shell.execute_reply": "2021-05-19T09:54:20.742835Z"
    }
   },
   "outputs": [],
   "source": [
    "pYPKa_Z_RPS20 = (pYPKa_ZraI  + prd).looped().synced(pYPKa)\n",
    "pYPKa_E_RPS20 = (pYPKa_EcoRV + prd).looped().synced(pYPKa)"
   ]
  },
  {
   "cell_type": "markdown",
   "id": "advanced-consumer",
   "metadata": {},
   "source": [
    "The final vectors with reverse inserts are created below. These vectors theoretically make up\n",
    "fifty percent of the clones. The PCR strategy outlined below can be used to identify clones with the insert\n",
    "in the correct orientation."
   ]
  },
  {
   "cell_type": "code",
   "execution_count": 16,
   "id": "demographic-holiday",
   "metadata": {
    "execution": {
     "iopub.execute_input": "2021-05-19T09:54:20.782352Z",
     "iopub.status.busy": "2021-05-19T09:54:20.761935Z",
     "iopub.status.idle": "2021-05-19T09:54:21.298210Z",
     "shell.execute_reply": "2021-05-19T09:54:21.300069Z"
    }
   },
   "outputs": [],
   "source": [
    "pYPKa_Z_RPS20b = (pYPKa_ZraI  + prd.rc()).looped().synced(pYPKa)\n",
    "pYPKa_E_RPS20b = (pYPKa_EcoRV + prd.rc()).looped().synced(pYPKa)"
   ]
  },
  {
   "cell_type": "markdown",
   "id": "contemporary-allah",
   "metadata": {},
   "source": [
    "A combination of yeast pathway kit standard primers and the primers above are\n",
    "used for the strategy to identify correct clones.\n",
    "Standard primers used in the yeast are listed [here](standard_primers.txt)."
   ]
  },
  {
   "cell_type": "code",
   "execution_count": 17,
   "id": "noble-binary",
   "metadata": {
    "execution": {
     "iopub.execute_input": "2021-05-19T09:54:21.307233Z",
     "iopub.status.busy": "2021-05-19T09:54:21.306326Z",
     "iopub.status.idle": "2021-05-19T09:54:21.308248Z",
     "shell.execute_reply": "2021-05-19T09:54:21.309099Z"
    }
   },
   "outputs": [],
   "source": [
    "p = { x.id: x for x in parse_primers(\"\"\">577\n",
    "                                         gttctgatcctcgagcatcttaagaattc\n",
    "                                         >578\n",
    "                                         gttcttgtctcattgccacattcataagt\n",
    "                                         >468\n",
    "                                         gtcgaggaacgccaggttgcccact\n",
    "                                         >467\n",
    "                                         ATTTAAatcctgatgcgtttgtctgcacaga\n",
    "                                         >567\n",
    "                                         GTcggctgcaggtcactagtgag\n",
    "                                         >568\n",
    "                                         GTGCcatctgtgcagacaaacg\n",
    "                                         >775\n",
    "                                         gcggccgctgacTTAAAT\n",
    "                                         >778\n",
    "                                         ggtaaatccggatTAATTAA\n",
    "                                         >342\n",
    "                                         CCTTTTTACGGTTCCTGGCCT\"\"\") }"
   ]
  },
  {
   "cell_type": "markdown",
   "id": "elder-heather",
   "metadata": {},
   "source": [
    "## Diagnostic PCR confirmation\n",
    "\n",
    "The correct structure of pYPKa_Z_RPS20 is confirmed by PCR using standard primers\n",
    "577 and 342 that are vector specific together with the RPS20fw primer specific for the insert\n",
    "in a multiplex PCR reaction with\n",
    "all three primers present.\n",
    "\n",
    "Two PCR products are expected if the insert was cloned, the sizes depend\n",
    "on the orientation. If the vector is empty or contains another insert, only one\n",
    "product is formed.\n",
    "\n",
    "#### Expected PCR products sizes from pYPKa_Z_RPS20:\n",
    "\n",
    "pYPKa_Z_RPS20 with insert in correct orientation."
   ]
  },
  {
   "cell_type": "code",
   "execution_count": 18,
   "id": "statistical-preference",
   "metadata": {
    "execution": {
     "iopub.execute_input": "2021-05-19T09:54:21.325388Z",
     "iopub.status.busy": "2021-05-19T09:54:21.324310Z",
     "iopub.status.idle": "2021-05-19T09:54:21.327722Z",
     "shell.execute_reply": "2021-05-19T09:54:21.328699Z"
    }
   },
   "outputs": [
    {
     "data": {
      "text/plain": [
       "[Amplicon(1576), Amplicon(1408)]"
      ]
     },
     "execution_count": 1,
     "metadata": {},
     "output_type": "execute_result"
    }
   ],
   "source": [
    "Anneal( (p['577'], p['342'], fp), pYPKa_Z_RPS20).products"
   ]
  },
  {
   "cell_type": "markdown",
   "id": "sorted-blackberry",
   "metadata": {},
   "source": [
    "pYPKa_Z_RPS20 with insert in reverse orientation."
   ]
  },
  {
   "cell_type": "code",
   "execution_count": 19,
   "id": "improved-motor",
   "metadata": {
    "execution": {
     "iopub.execute_input": "2021-05-19T09:54:21.343296Z",
     "iopub.status.busy": "2021-05-19T09:54:21.342563Z",
     "iopub.status.idle": "2021-05-19T09:54:21.345904Z",
     "shell.execute_reply": "2021-05-19T09:54:21.345498Z"
    }
   },
   "outputs": [
    {
     "data": {
      "text/plain": [
       "[Amplicon(1576), Amplicon(810)]"
      ]
     },
     "execution_count": 1,
     "metadata": {},
     "output_type": "execute_result"
    }
   ],
   "source": [
    "Anneal( (p['577'], p['342'], fp), pYPKa_Z_RPS20b).products"
   ]
  },
  {
   "cell_type": "markdown",
   "id": "similar-activation",
   "metadata": {},
   "source": [
    "Empty pYPKa clone."
   ]
  },
  {
   "cell_type": "code",
   "execution_count": 20,
   "id": "valued-soundtrack",
   "metadata": {
    "execution": {
     "iopub.execute_input": "2021-05-19T09:54:21.355802Z",
     "iopub.status.busy": "2021-05-19T09:54:21.354633Z",
     "iopub.status.idle": "2021-05-19T09:54:21.358092Z",
     "shell.execute_reply": "2021-05-19T09:54:21.357624Z"
    }
   },
   "outputs": [
    {
     "data": {
      "text/plain": [
       "[Amplicon(934)]"
      ]
     },
     "execution_count": 1,
     "metadata": {},
     "output_type": "execute_result"
    }
   ],
   "source": [
    "Anneal( (p['577'], p['342'], fp), pYPKa).products"
   ]
  },
  {
   "cell_type": "markdown",
   "id": "educational-luther",
   "metadata": {},
   "source": [
    "#### Expected PCR products sizes pYPKa_E_RPS20:\n",
    "\n",
    "pYPKa_E_RPS20 with insert in correct orientation."
   ]
  },
  {
   "cell_type": "code",
   "execution_count": 21,
   "id": "eight-nevada",
   "metadata": {
    "execution": {
     "iopub.execute_input": "2021-05-19T09:54:21.368305Z",
     "iopub.status.busy": "2021-05-19T09:54:21.365428Z",
     "iopub.status.idle": "2021-05-19T09:54:21.371634Z",
     "shell.execute_reply": "2021-05-19T09:54:21.371076Z"
    }
   },
   "outputs": [
    {
     "data": {
      "text/plain": [
       "[Amplicon(1576), Amplicon(1327)]"
      ]
     },
     "execution_count": 1,
     "metadata": {},
     "output_type": "execute_result"
    }
   ],
   "source": [
    "Anneal( (p['577'], p['342'], fp), pYPKa_E_RPS20).products"
   ]
  },
  {
   "cell_type": "markdown",
   "id": "further-hamilton",
   "metadata": {},
   "source": [
    "pYPKa_E_RPS20 with insert in reverse orientation."
   ]
  },
  {
   "cell_type": "code",
   "execution_count": 22,
   "id": "contemporary-sister",
   "metadata": {
    "execution": {
     "iopub.execute_input": "2021-05-19T09:54:21.384204Z",
     "iopub.status.busy": "2021-05-19T09:54:21.383449Z",
     "iopub.status.idle": "2021-05-19T09:54:21.386597Z",
     "shell.execute_reply": "2021-05-19T09:54:21.386125Z"
    }
   },
   "outputs": [
    {
     "data": {
      "text/plain": [
       "[Amplicon(1576), Amplicon(891)]"
      ]
     },
     "execution_count": 1,
     "metadata": {},
     "output_type": "execute_result"
    }
   ],
   "source": [
    "Anneal( (p['577'], p['342'], fp), pYPKa_E_RPS20b).products\n"
   ]
  },
  {
   "cell_type": "markdown",
   "id": "innovative-vector",
   "metadata": {},
   "source": [
    "Calculate cseguid checksums for the resulting plasmids for future reference.\n",
    "This checksum that uniquely describes a circular double stranded\n",
    "sequence. See this [blog post](https://ochsavidare.blogspot.com/2016/02/checksum-for-circular-biological.html) for more info.\n",
    "\n",
    "pYPKa_Z_RPS20.cseguid() should be v60SMJ6K_t-qCJj1Hzhy76f8sl0"
   ]
  },
  {
   "cell_type": "code",
   "execution_count": 23,
   "id": "dental-worse",
   "metadata": {
    "execution": {
     "iopub.execute_input": "2021-05-19T09:54:21.395616Z",
     "iopub.status.busy": "2021-05-19T09:54:21.395059Z",
     "iopub.status.idle": "2021-05-19T09:54:21.398217Z",
     "shell.execute_reply": "2021-05-19T09:54:21.397651Z"
    }
   },
   "outputs": [
    {
     "name": "stdout",
     "output_type": "stream",
     "text": [
      "v60SMJ6K_t-qCJj1Hzhy76f8sl0\n"
     ]
    }
   ],
   "source": [
    "print(pYPKa_Z_RPS20.cseguid())\n",
    "assert pYPKa_Z_RPS20.cseguid() == \"v60SMJ6K_t-qCJj1Hzhy76f8sl0\""
   ]
  },
  {
   "cell_type": "markdown",
   "id": "upset-nomination",
   "metadata": {},
   "source": [
    "pYPKa_E_RPS20.cseguid() should be -lthitNRdO2sxEfOzJkJlTxoy4U"
   ]
  },
  {
   "cell_type": "code",
   "execution_count": 24,
   "id": "lucky-speaking",
   "metadata": {
    "execution": {
     "iopub.execute_input": "2021-05-19T09:54:21.409544Z",
     "iopub.status.busy": "2021-05-19T09:54:21.408897Z",
     "iopub.status.idle": "2021-05-19T09:54:21.411512Z",
     "shell.execute_reply": "2021-05-19T09:54:21.412116Z"
    }
   },
   "outputs": [
    {
     "name": "stdout",
     "output_type": "stream",
     "text": [
      "-lthitNRdO2sxEfOzJkJlTxoy4U\n"
     ]
    }
   ],
   "source": [
    "print(pYPKa_E_RPS20.cseguid())\n",
    "assert pYPKa_E_RPS20.cseguid() == \"-lthitNRdO2sxEfOzJkJlTxoy4U\""
   ]
  },
  {
   "cell_type": "markdown",
   "id": "planned-reservoir",
   "metadata": {},
   "source": [
    "The sequences are named based on the name of the cloned insert."
   ]
  },
  {
   "cell_type": "code",
   "execution_count": 25,
   "id": "molecular-illness",
   "metadata": {
    "execution": {
     "iopub.execute_input": "2021-05-19T09:54:21.416460Z",
     "iopub.status.busy": "2021-05-19T09:54:21.415613Z",
     "iopub.status.idle": "2021-05-19T09:54:21.418579Z",
     "shell.execute_reply": "2021-05-19T09:54:21.417989Z"
    }
   },
   "outputs": [],
   "source": [
    "pYPKa_Z_RPS20.locus = \"pYPKa_Z_RPS20\"[:16]\n",
    "pYPKa_E_RPS20.locus = \"pYPKa_Z_RPS20\"[:16]"
   ]
  },
  {
   "cell_type": "markdown",
   "id": "fossil-athletics",
   "metadata": {},
   "source": [
    "Stamp sequence with cseguid checksum. This can be used to verify the\n",
    "integrity of the sequence file."
   ]
  },
  {
   "cell_type": "code",
   "execution_count": 26,
   "id": "occupational-rubber",
   "metadata": {
    "execution": {
     "iopub.execute_input": "2021-05-19T09:54:21.432709Z",
     "iopub.status.busy": "2021-05-19T09:54:21.432099Z",
     "iopub.status.idle": "2021-05-19T09:54:21.435539Z",
     "shell.execute_reply": "2021-05-19T09:54:21.434891Z"
    }
   },
   "outputs": [
    {
     "data": {
      "text/plain": [
       "cSEGUID_-lthitNRdO2sxEfOzJkJlTxoy4U"
      ]
     },
     "execution_count": 1,
     "metadata": {},
     "output_type": "execute_result"
    }
   ],
   "source": [
    "pYPKa_Z_RPS20.stamp()\n",
    "pYPKa_E_RPS20.stamp()"
   ]
  },
  {
   "cell_type": "markdown",
   "id": "massive-knock",
   "metadata": {},
   "source": [
    "pYPKa_Z_RPS20 is written to a local file:"
   ]
  },
  {
   "cell_type": "code",
   "execution_count": 27,
   "id": "surface-mauritius",
   "metadata": {
    "execution": {
     "iopub.execute_input": "2021-05-19T09:54:21.440150Z",
     "iopub.status.busy": "2021-05-19T09:54:21.439288Z",
     "iopub.status.idle": "2021-05-19T09:54:21.446638Z",
     "shell.execute_reply": "2021-05-19T09:54:21.445981Z"
    }
   },
   "outputs": [
    {
     "data": {
      "text/html": [
       "<font face=monospace><a href='pYPKa_Z_RPS20.gb' target='_blank'>pYPKa_Z_RPS20.gb</a></font><br>"
      ]
     },
     "metadata": {},
     "output_type": "display_data"
    }
   ],
   "source": [
    "pYPKa_Z_RPS20.write(\"pYPKa_Z_RPS20.gb\")"
   ]
  },
  {
   "cell_type": "markdown",
   "id": "meaningful-richmond",
   "metadata": {},
   "source": [
    "pYPKa_E_RPS20 is written to a local file:"
   ]
  },
  {
   "cell_type": "code",
   "execution_count": 28,
   "id": "rough-plant",
   "metadata": {
    "execution": {
     "iopub.execute_input": "2021-05-19T09:54:21.451234Z",
     "iopub.status.busy": "2021-05-19T09:54:21.450347Z",
     "iopub.status.idle": "2021-05-19T09:54:21.454993Z",
     "shell.execute_reply": "2021-05-19T09:54:21.454474Z"
    }
   },
   "outputs": [
    {
     "data": {
      "text/html": [
       "<font face=monospace><a href='pYPKa_E_RPS20.gb' target='_blank'>pYPKa_E_RPS20.gb</a></font><br>"
      ]
     },
     "metadata": {},
     "output_type": "display_data"
    }
   ],
   "source": [
    "pYPKa_E_RPS20.write(\"pYPKa_E_RPS20.gb\")"
   ]
  }
 ],
 "metadata": {
  "language_info": {
   "codemirror_mode": {
    "name": "ipython",
    "version": 3
   },
   "file_extension": ".py",
   "mimetype": "text/x-python",
   "name": "python",
   "nbconvert_exporter": "python",
   "pygments_lexer": "ipython3",
   "version": "3.9.0"
  }
 },
 "nbformat": 4,
 "nbformat_minor": 5
}
