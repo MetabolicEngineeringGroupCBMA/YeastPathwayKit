{
 "cells": [
  {
   "cell_type": "markdown",
   "id": "relative-runner",
   "metadata": {},
   "source": [
    "# pYPKa_Z_GAL7 and pYPKa_E_GAL7\n",
    "\n",
    "This Jupyter notebook describe the construction of E. coli vectors [pYPKa_Z_GAL7](pYPKa_Z_GAL7.gb) and [pYPKa_E_GAL7](pYPKa_E_GAL7.gb).\n",
    "These two vectors share backbone and insert, but in the former, the insert is cloned using the restriction\n",
    "enzyme [ZraI](http://rebase.neb.com/rebase/enz/ZraI.html) while in the latter [EcoRV](http://rebase.neb.com/rebase/enz/EcoRV.html) is used.\n",
    "\n",
    "The insert cloned in ZraI is meant to function as a promoter, while in the EcoRV site it is meant to be  used as a terminator.\n",
    "\n",
    "Links to the sequence of each vector in Genbank format can be found at the bottom of this document.\n",
    "\n",
    "![pYPKa_Z and pYPKa_E](figure_pYPKa_ZE.png \"pYPKa_Z or pYPKa_E plasmid\")\n",
    "\n",
    "The Python package [pydna](https://pypi.python.org/pypi/pydna/) package is imported in the code cell below to provide\n",
    "the cloning functionality. There is a [publication](http://www.biomedcentral.com/1471-2105/16/142) describing pydna as well as\n",
    "[documentation](http://pydna.readthedocs.io/) available online. Pydna is developed on [Github](https://github.com/BjornFJohansson/pydna)."
   ]
  },
  {
   "cell_type": "code",
   "execution_count": 1,
   "id": "three-interaction",
   "metadata": {
    "execution": {
     "iopub.execute_input": "2021-09-25T19:32:02.538217Z",
     "iopub.status.busy": "2021-09-25T19:32:02.537191Z",
     "iopub.status.idle": "2021-09-25T19:32:02.841598Z",
     "shell.execute_reply": "2021-09-25T19:32:02.841152Z"
    }
   },
   "outputs": [],
   "source": [
    "from pydna.readers import read\n",
    "from pydna.parsers import parse_primers\n",
    "from pydna.genbank import Genbank\n",
    "from pydna.amplify import pcr\n",
    "from pydna.amplify import Anneal"
   ]
  },
  {
   "cell_type": "markdown",
   "id": "useful-census",
   "metadata": {},
   "source": [
    "The vector backbone pYPKa is read from a local [file](pYPKa.gb)."
   ]
  },
  {
   "cell_type": "code",
   "execution_count": 2,
   "id": "coastal-blowing",
   "metadata": {
    "execution": {
     "iopub.execute_input": "2021-09-25T19:32:02.850932Z",
     "iopub.status.busy": "2021-09-25T19:32:02.849976Z",
     "iopub.status.idle": "2021-09-25T19:32:02.866256Z",
     "shell.execute_reply": "2021-09-25T19:32:02.865766Z"
    }
   },
   "outputs": [
    {
     "data": {
      "text/html": [
       "<a href='pYPKa.gb' target='_blank'>pYPKa.gb</a><br>"
      ],
      "text/plain": [
       "File(3128bp TmU_6uVdgKq5aQhTpHux7dVk9J8)(o3128)"
      ]
     },
     "execution_count": 2,
     "metadata": {},
     "output_type": "execute_result"
    }
   ],
   "source": [
    "pYPKa = read(\"pYPKa.gb\")\n",
    "pYPKa"
   ]
  },
  {
   "cell_type": "markdown",
   "id": "processed-convention",
   "metadata": {},
   "source": [
    "Both restriction enzymes are imported from [Biopython](http://biopython.org/wiki/Main_Page)"
   ]
  },
  {
   "cell_type": "code",
   "execution_count": 3,
   "id": "hairy-possession",
   "metadata": {
    "execution": {
     "iopub.execute_input": "2021-09-25T19:32:02.869701Z",
     "iopub.status.busy": "2021-09-25T19:32:02.869257Z",
     "iopub.status.idle": "2021-09-25T19:32:02.871104Z",
     "shell.execute_reply": "2021-09-25T19:32:02.871463Z"
    }
   },
   "outputs": [],
   "source": [
    "from Bio.Restriction import ZraI, EcoRV"
   ]
  },
  {
   "cell_type": "markdown",
   "id": "suitable-storage",
   "metadata": {},
   "source": [
    "The vector is cut with both enzymes."
   ]
  },
  {
   "cell_type": "code",
   "execution_count": 4,
   "id": "artificial-consistency",
   "metadata": {
    "execution": {
     "iopub.execute_input": "2021-09-25T19:32:02.880636Z",
     "iopub.status.busy": "2021-09-25T19:32:02.874134Z",
     "iopub.status.idle": "2021-09-25T19:32:02.883011Z",
     "shell.execute_reply": "2021-09-25T19:32:02.882572Z"
    }
   },
   "outputs": [],
   "source": [
    "pYPKa_ZraI  = pYPKa.linearize(ZraI)\n",
    "pYPKa_EcoRV = pYPKa.linearize(EcoRV)"
   ]
  },
  {
   "cell_type": "markdown",
   "id": "recovered-facing",
   "metadata": {},
   "source": [
    "The template below comes from a Genbank [record](http://www.ncbi.nlm.nih.gov/nuccore/part_BK0069362).\n",
    "Access to Genbank is needed in order to download the template.\n",
    "If you execute this script, change the email address below to your own.\n",
    "Always tell Genbank who you are, when using their web service."
   ]
  },
  {
   "cell_type": "code",
   "execution_count": 5,
   "id": "recovered-brush",
   "metadata": {
    "execution": {
     "iopub.execute_input": "2021-09-25T19:32:02.887587Z",
     "iopub.status.busy": "2021-09-25T19:32:02.886993Z",
     "iopub.status.idle": "2021-09-25T19:32:02.889235Z",
     "shell.execute_reply": "2021-09-25T19:32:02.888743Z"
    }
   },
   "outputs": [],
   "source": [
    "gb = Genbank(\"bjornjobb@gmail.com\")"
   ]
  },
  {
   "cell_type": "markdown",
   "id": "lyric-dream",
   "metadata": {},
   "source": [
    "The template is downloaded from Genbank below."
   ]
  },
  {
   "cell_type": "code",
   "execution_count": 6,
   "id": "worth-snowboard",
   "metadata": {
    "execution": {
     "iopub.execute_input": "2021-09-25T19:32:02.894700Z",
     "iopub.status.busy": "2021-09-25T19:32:02.893986Z",
     "iopub.status.idle": "2021-09-25T19:32:02.904560Z",
     "shell.execute_reply": "2021-09-25T19:32:02.903934Z"
    }
   },
   "outputs": [
    {
     "data": {
      "text/html": [
       "<a href='https://www.ncbi.nlm.nih.gov/nuccore/BK006936.2 ?from=275528&to=276252&strand=2' target='_blank'>BK006936.2  275528-276252</a>"
      ],
      "text/plain": [
       "Gbank(BK006936.2  275528-276252)(-725)"
      ]
     },
     "execution_count": 6,
     "metadata": {},
     "output_type": "execute_result"
    }
   ],
   "source": [
    "template = gb.nucleotide(\"BK006936.2 REGION: complement(275528..276252)\")\n",
    "template.features = []\n",
    "template"
   ]
  },
  {
   "cell_type": "markdown",
   "id": "sixth-merit",
   "metadata": {},
   "source": [
    "The template is a 725 bp linear DNA fragment."
   ]
  },
  {
   "cell_type": "code",
   "execution_count": 7,
   "id": "illegal-multimedia",
   "metadata": {
    "execution": {
     "iopub.execute_input": "2021-09-25T19:32:02.909413Z",
     "iopub.status.busy": "2021-09-25T19:32:02.908753Z",
     "iopub.status.idle": "2021-09-25T19:32:02.911017Z",
     "shell.execute_reply": "2021-09-25T19:32:02.911534Z"
    }
   },
   "outputs": [],
   "source": [
    "template.add_feature(label=\"GAL7p\", type=\"promoter\")"
   ]
  },
  {
   "cell_type": "markdown",
   "id": "sublime-style",
   "metadata": {},
   "source": [
    "The insert has the sequence shown below."
   ]
  },
  {
   "cell_type": "code",
   "execution_count": 8,
   "id": "cooperative-riverside",
   "metadata": {
    "execution": {
     "iopub.execute_input": "2021-09-25T19:32:02.916855Z",
     "iopub.status.busy": "2021-09-25T19:32:02.916048Z",
     "iopub.status.idle": "2021-09-25T19:32:02.919096Z",
     "shell.execute_reply": "2021-09-25T19:32:02.919726Z"
    }
   },
   "outputs": [
    {
     "name": "stdout",
     "output_type": "stream",
     "text": [
      "TTTGCCAGCTTACTATCCTTCTTGAAAATATGCACTCTATATCTTTTAGTTCTTAATTGCAACACATAGATTTGCTGTATAACGAATTTTATGCTATTTTTTAAATTTGGAGTTCAGTGATAAAAGTGTCACAGCGAATTTCCTCACATGTAGGGACCGAATTGTTTACAAGTTCTCTGTACCACCATGGAGACATCAAAAATTGAAAATCTATGGAAAGATATGGACGGTAGCAACAAGAATATAGCACGAGCCGCGGAGTTCATTTCGTTACTTTTGATATCACTCACAACTATTGCGAAGCGCTTCAGTGAAAAAATCATAAGGAAAAGTTGTAAATATTATTGGTAGTATTCGTTTGGTAAAGTAGAGGGGGTAATTTTTCCCCTTTATTTTGTTCATACATTCTTAAATTGCTTTGCCTCTCCTTTTGGAAAGCTATACTTCGGAGCACTGTTGAGCGAAGGCTCATTAGATATATTTTCTGTCATTTTCCTTAACCCAAAAATAAGGGAAAGGGTCCAAAAAGCGCTCGGACAACTGTTGACCGTGATCCGAAGGACTGGCTATACAGTGTTCACAAAATAGCCAAGCTGAAAATAATGTGTAGCTATGTTCAGTTAGTTTGGCTAGCAAAGATATAAAAGCAGGTCGGAAATATTTATGGGCATTATTATGCAGAGCATCAACATGATAAAAAAAAACAGTTGAATATTCCCTCAAAA\n"
     ]
    }
   ],
   "source": [
    "print(str(template.seq))"
   ]
  },
  {
   "cell_type": "markdown",
   "id": "liable-weekly",
   "metadata": {},
   "source": [
    "The seguid checksum of the template should be\n",
    "\n",
    "```vaO2gaBA5Cz7M6D3Qx5U9tLbYOE```"
   ]
  },
  {
   "cell_type": "code",
   "execution_count": 9,
   "id": "seven-bread",
   "metadata": {
    "execution": {
     "iopub.execute_input": "2021-09-25T19:32:02.925817Z",
     "iopub.status.busy": "2021-09-25T19:32:02.924955Z",
     "iopub.status.idle": "2021-09-25T19:32:02.928521Z",
     "shell.execute_reply": "2021-09-25T19:32:02.927930Z"
    }
   },
   "outputs": [
    {
     "data": {
      "text/plain": [
       "vaO2gaBA5Cz7M6D3Qx5U9tLbYOE"
      ]
     },
     "execution_count": 9,
     "metadata": {},
     "output_type": "execute_result"
    }
   ],
   "source": [
    "template.seguid()"
   ]
  },
  {
   "cell_type": "markdown",
   "id": "nonprofit-bracket",
   "metadata": {},
   "source": [
    "Two primers are used to amplify the insert:"
   ]
  },
  {
   "cell_type": "code",
   "execution_count": 10,
   "id": "indoor-samuel",
   "metadata": {
    "execution": {
     "iopub.execute_input": "2021-09-25T19:32:02.933766Z",
     "iopub.status.busy": "2021-09-25T19:32:02.933062Z",
     "iopub.status.idle": "2021-09-25T19:32:02.936027Z",
     "shell.execute_reply": "2021-09-25T19:32:02.935451Z"
    }
   },
   "outputs": [],
   "source": [
    "fp,rp = parse_primers(\"\"\">1610_fw_tpGAL7\n",
    "                         TTAAATTTTGCCAGCTTACTATC\n",
    "                         >1609_rv_tpGAL7\n",
    "                         TAATTAATTTTGAGGGAATATTCAACT\"\"\")"
   ]
  },
  {
   "cell_type": "markdown",
   "id": "rapid-entrepreneur",
   "metadata": {},
   "source": [
    "PCR to create the insert using the primers above."
   ]
  },
  {
   "cell_type": "code",
   "execution_count": 11,
   "id": "unauthorized-shanghai",
   "metadata": {
    "execution": {
     "iopub.execute_input": "2021-09-25T19:32:02.942386Z",
     "iopub.status.busy": "2021-09-25T19:32:02.941658Z",
     "iopub.status.idle": "2021-09-25T19:32:02.947281Z",
     "shell.execute_reply": "2021-09-25T19:32:02.946688Z"
    }
   },
   "outputs": [],
   "source": [
    "prd = pcr(fp, rp, template)\n",
    "assert str(fp.seq) in prd"
   ]
  },
  {
   "cell_type": "markdown",
   "id": "personal-silly",
   "metadata": {},
   "source": [
    "The PCR product has this length in bp."
   ]
  },
  {
   "cell_type": "code",
   "execution_count": 12,
   "id": "respected-insured",
   "metadata": {
    "execution": {
     "iopub.execute_input": "2021-09-25T19:32:02.953490Z",
     "iopub.status.busy": "2021-09-25T19:32:02.952495Z",
     "iopub.status.idle": "2021-09-25T19:32:02.956598Z",
     "shell.execute_reply": "2021-09-25T19:32:02.957270Z"
    }
   },
   "outputs": [
    {
     "data": {
      "text/plain": [
       "738"
      ]
     },
     "execution_count": 12,
     "metadata": {},
     "output_type": "execute_result"
    }
   ],
   "source": [
    "len(prd)"
   ]
  },
  {
   "cell_type": "markdown",
   "id": "palestinian-doctor",
   "metadata": {},
   "source": [
    "A figure of the primers annealing on template."
   ]
  },
  {
   "cell_type": "code",
   "execution_count": 13,
   "id": "effective-conspiracy",
   "metadata": {
    "execution": {
     "iopub.execute_input": "2021-09-25T19:32:02.962378Z",
     "iopub.status.busy": "2021-09-25T19:32:02.961509Z",
     "iopub.status.idle": "2021-09-25T19:32:02.964625Z",
     "shell.execute_reply": "2021-09-25T19:32:02.965122Z"
    }
   },
   "outputs": [
    {
     "data": {
      "text/plain": [
       "      5TTTGCCAGCTTACTATC...AGTTGAATATTCCCTCAAAA3\n",
       "                           ||||||||||||||||||||\n",
       "                          3TCAACTTATAAGGGAGTTTTAATTAAT5\n",
       "5TTAAATTTTGCCAGCTTACTATC3\n",
       "       |||||||||||||||||\n",
       "      3AAACGGTCGAATGATAG...TCAACTTATAAGGGAGTTTT5"
      ]
     },
     "execution_count": 13,
     "metadata": {},
     "output_type": "execute_result"
    }
   ],
   "source": [
    "prd.figure()"
   ]
  },
  {
   "cell_type": "markdown",
   "id": "disturbed-drilling",
   "metadata": {},
   "source": [
    "A suggested PCR program."
   ]
  },
  {
   "cell_type": "code",
   "execution_count": 14,
   "id": "rural-arnold",
   "metadata": {
    "execution": {
     "iopub.execute_input": "2021-09-25T19:32:02.970698Z",
     "iopub.status.busy": "2021-09-25T19:32:02.969821Z",
     "iopub.status.idle": "2021-09-25T19:32:02.973498Z",
     "shell.execute_reply": "2021-09-25T19:32:02.972884Z"
    }
   },
   "outputs": [
    {
     "data": {
      "text/plain": [
       "|95°C|95°C               |    |tmf:53.2\n",
       "|____|_____          72°C|72°C|tmr:53.9\n",
       "|3min|30s  \\ 52.5°C _____|____|45s/kb\n",
       "|    |      \\______/ 0:33|5min|GC 35%\n",
       "|    |       30s         |    |738bp"
      ]
     },
     "execution_count": 14,
     "metadata": {},
     "output_type": "execute_result"
    }
   ],
   "source": [
    "prd.program()"
   ]
  },
  {
   "cell_type": "markdown",
   "id": "seventh-glasgow",
   "metadata": {},
   "source": [
    "The final vectors are:"
   ]
  },
  {
   "cell_type": "code",
   "execution_count": 15,
   "id": "established-kidney",
   "metadata": {
    "execution": {
     "iopub.execute_input": "2021-09-25T19:32:03.006730Z",
     "iopub.status.busy": "2021-09-25T19:32:02.981200Z",
     "iopub.status.idle": "2021-09-25T19:32:03.473462Z",
     "shell.execute_reply": "2021-09-25T19:32:03.472913Z"
    }
   },
   "outputs": [],
   "source": [
    "pYPKa_Z_GAL7 = (pYPKa_ZraI  + prd).looped().synced(pYPKa)\n",
    "pYPKa_E_GAL7 = (pYPKa_EcoRV + prd).looped().synced(pYPKa)"
   ]
  },
  {
   "cell_type": "markdown",
   "id": "passing-maintenance",
   "metadata": {},
   "source": [
    "The final vectors with reverse inserts are created below. These vectors theoretically make up\n",
    "fifty percent of the clones. The PCR strategy outlined below can be used to identify clones with the insert\n",
    "in the correct orientation."
   ]
  },
  {
   "cell_type": "code",
   "execution_count": 16,
   "id": "organized-liechtenstein",
   "metadata": {
    "execution": {
     "iopub.execute_input": "2021-09-25T19:32:03.511824Z",
     "iopub.status.busy": "2021-09-25T19:32:03.475756Z",
     "iopub.status.idle": "2021-09-25T19:32:03.939606Z",
     "shell.execute_reply": "2021-09-25T19:32:03.939084Z"
    }
   },
   "outputs": [],
   "source": [
    "pYPKa_Z_GAL7b = (pYPKa_ZraI  + prd.rc()).looped().synced(pYPKa)\n",
    "pYPKa_E_GAL7b = (pYPKa_EcoRV + prd.rc()).looped().synced(pYPKa)"
   ]
  },
  {
   "cell_type": "markdown",
   "id": "afraid-argument",
   "metadata": {},
   "source": [
    "A combination of yeast pathway kit standard primers and the primers above are\n",
    "used for the strategy to identify correct clones.\n",
    "Standard primers used in the yeast are listed [here](standard_primers.txt)."
   ]
  },
  {
   "cell_type": "code",
   "execution_count": 17,
   "id": "surface-motel",
   "metadata": {
    "execution": {
     "iopub.execute_input": "2021-09-25T19:32:03.944259Z",
     "iopub.status.busy": "2021-09-25T19:32:03.942930Z",
     "iopub.status.idle": "2021-09-25T19:32:03.948051Z",
     "shell.execute_reply": "2021-09-25T19:32:03.946988Z"
    }
   },
   "outputs": [],
   "source": [
    "p = { x.id: x for x in parse_primers(\"\"\">577\n",
    "                                         gttctgatcctcgagcatcttaagaattc\n",
    "                                         >578\n",
    "                                         gttcttgtctcattgccacattcataagt\n",
    "                                         >468\n",
    "                                         gtcgaggaacgccaggttgcccact\n",
    "                                         >467\n",
    "                                         ATTTAAatcctgatgcgtttgtctgcacaga\n",
    "                                         >567\n",
    "                                         GTcggctgcaggtcactagtgag\n",
    "                                         >568\n",
    "                                         GTGCcatctgtgcagacaaacg\n",
    "                                         >775\n",
    "                                         gcggccgctgacTTAAAT\n",
    "                                         >778\n",
    "                                         ggtaaatccggatTAATTAA\n",
    "                                         >342\n",
    "                                         CCTTTTTACGGTTCCTGGCCT\"\"\") }"
   ]
  },
  {
   "cell_type": "markdown",
   "id": "stunning-center",
   "metadata": {},
   "source": [
    "## Diagnostic PCR confirmation\n",
    "\n",
    "The correct structure of pYPKa_Z_GAL7 is confirmed by PCR using standard primers\n",
    "577 and 342 that are vector specific together with the GAL7fw primer specific for the insert\n",
    "in a multiplex PCR reaction with\n",
    "all three primers present.\n",
    "\n",
    "Two PCR products are expected if the insert was cloned, the sizes depend\n",
    "on the orientation. If the vector is empty or contains another insert, only one\n",
    "product is formed.\n",
    "\n",
    "#### Expected PCR products sizes from pYPKa_Z_GAL7:\n",
    "\n",
    "pYPKa_Z_GAL7 with insert in correct orientation."
   ]
  },
  {
   "cell_type": "code",
   "execution_count": 18,
   "id": "optimum-customer",
   "metadata": {
    "execution": {
     "iopub.execute_input": "2021-09-25T19:32:03.967317Z",
     "iopub.status.busy": "2021-09-25T19:32:03.966481Z",
     "iopub.status.idle": "2021-09-25T19:32:03.970238Z",
     "shell.execute_reply": "2021-09-25T19:32:03.969674Z"
    }
   },
   "outputs": [
    {
     "data": {
      "text/plain": [
       "[Amplicon(1672), Amplicon(1504)]"
      ]
     },
     "execution_count": 18,
     "metadata": {},
     "output_type": "execute_result"
    }
   ],
   "source": [
    "Anneal( (p['577'], p['342'], fp), pYPKa_Z_GAL7).products"
   ]
  },
  {
   "cell_type": "markdown",
   "id": "soviet-fighter",
   "metadata": {},
   "source": [
    "pYPKa_Z_GAL7 with insert in reverse orientation."
   ]
  },
  {
   "cell_type": "code",
   "execution_count": 19,
   "id": "better-acrylic",
   "metadata": {
    "execution": {
     "iopub.execute_input": "2021-09-25T19:32:03.983832Z",
     "iopub.status.busy": "2021-09-25T19:32:03.983193Z",
     "iopub.status.idle": "2021-09-25T19:32:03.985729Z",
     "shell.execute_reply": "2021-09-25T19:32:03.986109Z"
    }
   },
   "outputs": [
    {
     "data": {
      "text/plain": [
       "[Amplicon(1672), Amplicon(906)]"
      ]
     },
     "execution_count": 19,
     "metadata": {},
     "output_type": "execute_result"
    }
   ],
   "source": [
    "Anneal( (p['577'], p['342'], fp), pYPKa_Z_GAL7b).products"
   ]
  },
  {
   "cell_type": "markdown",
   "id": "juvenile-study",
   "metadata": {},
   "source": [
    "Empty pYPKa clone."
   ]
  },
  {
   "cell_type": "code",
   "execution_count": 20,
   "id": "balanced-cannon",
   "metadata": {
    "execution": {
     "iopub.execute_input": "2021-09-25T19:32:03.993416Z",
     "iopub.status.busy": "2021-09-25T19:32:03.992802Z",
     "iopub.status.idle": "2021-09-25T19:32:03.996402Z",
     "shell.execute_reply": "2021-09-25T19:32:03.995722Z"
    }
   },
   "outputs": [
    {
     "data": {
      "text/plain": [
       "[Amplicon(934)]"
      ]
     },
     "execution_count": 20,
     "metadata": {},
     "output_type": "execute_result"
    }
   ],
   "source": [
    "Anneal( (p['577'], p['342'], fp), pYPKa).products"
   ]
  },
  {
   "cell_type": "markdown",
   "id": "finnish-latex",
   "metadata": {},
   "source": [
    "#### Expected PCR products sizes pYPKa_E_GAL7:\n",
    "\n",
    "pYPKa_E_GAL7 with insert in correct orientation."
   ]
  },
  {
   "cell_type": "code",
   "execution_count": 21,
   "id": "european-florist",
   "metadata": {
    "execution": {
     "iopub.execute_input": "2021-09-25T19:32:04.008525Z",
     "iopub.status.busy": "2021-09-25T19:32:04.004383Z",
     "iopub.status.idle": "2021-09-25T19:32:04.011418Z",
     "shell.execute_reply": "2021-09-25T19:32:04.010917Z"
    }
   },
   "outputs": [
    {
     "data": {
      "text/plain": [
       "[Amplicon(1672), Amplicon(1423)]"
      ]
     },
     "execution_count": 21,
     "metadata": {},
     "output_type": "execute_result"
    }
   ],
   "source": [
    "Anneal( (p['577'], p['342'], fp), pYPKa_E_GAL7).products"
   ]
  },
  {
   "cell_type": "markdown",
   "id": "patient-result",
   "metadata": {},
   "source": [
    "pYPKa_E_GAL7 with insert in reverse orientation."
   ]
  },
  {
   "cell_type": "code",
   "execution_count": 22,
   "id": "conditional-lloyd",
   "metadata": {
    "execution": {
     "iopub.execute_input": "2021-09-25T19:32:04.024015Z",
     "iopub.status.busy": "2021-09-25T19:32:04.023446Z",
     "iopub.status.idle": "2021-09-25T19:32:04.025890Z",
     "shell.execute_reply": "2021-09-25T19:32:04.026279Z"
    }
   },
   "outputs": [
    {
     "data": {
      "text/plain": [
       "[Amplicon(1672), Amplicon(987)]"
      ]
     },
     "execution_count": 22,
     "metadata": {},
     "output_type": "execute_result"
    }
   ],
   "source": [
    "Anneal( (p['577'], p['342'], fp), pYPKa_E_GAL7b).products\n"
   ]
  },
  {
   "cell_type": "markdown",
   "id": "vocal-break",
   "metadata": {},
   "source": [
    "Calculate cseguid checksums for the resulting plasmids for future reference.\n",
    "This checksum that uniquely describes a circular double stranded\n",
    "sequence. See this [blog post](https://ochsavidare.blogspot.com/2016/02/checksum-for-circular-biological.html) for more info.\n",
    "\n",
    "pYPKa_Z_GAL7.cseguid() should be RrM-8PoBta-1FG_bXjhguxM9XfM"
   ]
  },
  {
   "cell_type": "code",
   "execution_count": 23,
   "id": "awful-roman",
   "metadata": {
    "execution": {
     "iopub.execute_input": "2021-09-25T19:32:04.039690Z",
     "iopub.status.busy": "2021-09-25T19:32:04.038816Z",
     "iopub.status.idle": "2021-09-25T19:32:04.042570Z",
     "shell.execute_reply": "2021-09-25T19:32:04.041941Z"
    }
   },
   "outputs": [
    {
     "name": "stdout",
     "output_type": "stream",
     "text": [
      "RrM-8PoBta-1FG_bXjhguxM9XfM\n"
     ]
    }
   ],
   "source": [
    "print(pYPKa_Z_GAL7.cseguid())\n",
    "assert pYPKa_Z_GAL7.cseguid() == \"RrM-8PoBta-1FG_bXjhguxM9XfM\""
   ]
  },
  {
   "cell_type": "markdown",
   "id": "fundamental-routine",
   "metadata": {},
   "source": [
    "pYPKa_E_GAL7.cseguid() should be V33zJudGaCSEA2FmpB8fX5prfV4"
   ]
  },
  {
   "cell_type": "code",
   "execution_count": 24,
   "id": "thrown-stewart",
   "metadata": {
    "execution": {
     "iopub.execute_input": "2021-09-25T19:32:04.055121Z",
     "iopub.status.busy": "2021-09-25T19:32:04.054561Z",
     "iopub.status.idle": "2021-09-25T19:32:04.056918Z",
     "shell.execute_reply": "2021-09-25T19:32:04.057361Z"
    }
   },
   "outputs": [
    {
     "name": "stdout",
     "output_type": "stream",
     "text": [
      "V33zJudGaCSEA2FmpB8fX5prfV4\n"
     ]
    }
   ],
   "source": [
    "print(pYPKa_E_GAL7.cseguid())\n",
    "assert pYPKa_E_GAL7.cseguid() == \"V33zJudGaCSEA2FmpB8fX5prfV4\""
   ]
  },
  {
   "cell_type": "markdown",
   "id": "nearby-school",
   "metadata": {},
   "source": [
    "The sequences are named based on the name of the cloned insert."
   ]
  },
  {
   "cell_type": "code",
   "execution_count": 25,
   "id": "rental-protest",
   "metadata": {
    "execution": {
     "iopub.execute_input": "2021-09-25T19:32:04.061108Z",
     "iopub.status.busy": "2021-09-25T19:32:04.060556Z",
     "iopub.status.idle": "2021-09-25T19:32:04.062389Z",
     "shell.execute_reply": "2021-09-25T19:32:04.062755Z"
    }
   },
   "outputs": [],
   "source": [
    "pYPKa_Z_GAL7.locus = \"pYPKa_Z_GAL7\"[:16]\n",
    "pYPKa_E_GAL7.locus = \"pYPKa_Z_GAL7\"[:16]"
   ]
  },
  {
   "cell_type": "markdown",
   "id": "israeli-intelligence",
   "metadata": {},
   "source": [
    "Stamp sequence with cseguid checksum. This can be used to verify the\n",
    "integrity of the sequence file."
   ]
  },
  {
   "cell_type": "code",
   "execution_count": 26,
   "id": "addressed-stable",
   "metadata": {
    "execution": {
     "iopub.execute_input": "2021-09-25T19:32:04.073141Z",
     "iopub.status.busy": "2021-09-25T19:32:04.072424Z",
     "iopub.status.idle": "2021-09-25T19:32:04.075630Z",
     "shell.execute_reply": "2021-09-25T19:32:04.076084Z"
    }
   },
   "outputs": [
    {
     "data": {
      "text/plain": [
       "cSEGUID_V33zJudGaCSEA2FmpB8fX5prfV4"
      ]
     },
     "execution_count": 26,
     "metadata": {},
     "output_type": "execute_result"
    }
   ],
   "source": [
    "pYPKa_Z_GAL7.stamp()\n",
    "pYPKa_E_GAL7.stamp()"
   ]
  },
  {
   "cell_type": "markdown",
   "id": "removed-independence",
   "metadata": {},
   "source": [
    "pYPKa_Z_GAL7 is written to a local file:"
   ]
  },
  {
   "cell_type": "code",
   "execution_count": 27,
   "id": "dental-nancy",
   "metadata": {
    "execution": {
     "iopub.execute_input": "2021-09-25T19:32:04.081408Z",
     "iopub.status.busy": "2021-09-25T19:32:04.080023Z",
     "iopub.status.idle": "2021-09-25T19:32:04.085586Z",
     "shell.execute_reply": "2021-09-25T19:32:04.085032Z"
    }
   },
   "outputs": [
    {
     "data": {
      "text/html": [
       "<font face=monospace><a href='pYPKa_Z_GAL7.gb' target='_blank'>pYPKa_Z_GAL7.gb</a></font><br>"
      ]
     },
     "metadata": {},
     "output_type": "display_data"
    }
   ],
   "source": [
    "pYPKa_Z_GAL7.write(\"pYPKa_Z_GAL7.gb\")"
   ]
  },
  {
   "cell_type": "markdown",
   "id": "universal-operations",
   "metadata": {},
   "source": [
    "pYPKa_E_GAL7 is written to a local file:"
   ]
  },
  {
   "cell_type": "code",
   "execution_count": 28,
   "id": "allied-documentary",
   "metadata": {
    "execution": {
     "iopub.execute_input": "2021-09-25T19:32:04.089942Z",
     "iopub.status.busy": "2021-09-25T19:32:04.088982Z",
     "iopub.status.idle": "2021-09-25T19:32:04.093708Z",
     "shell.execute_reply": "2021-09-25T19:32:04.093121Z"
    }
   },
   "outputs": [
    {
     "data": {
      "text/html": [
       "<font face=monospace><a href='pYPKa_E_GAL7.gb' target='_blank'>pYPKa_E_GAL7.gb</a></font><br>"
      ]
     },
     "metadata": {},
     "output_type": "display_data"
    }
   ],
   "source": [
    "pYPKa_E_GAL7.write(\"pYPKa_E_GAL7.gb\")"
   ]
  }
 ],
 "metadata": {
  "language_info": {
   "codemirror_mode": {
    "name": "ipython",
    "version": 3
   },
   "file_extension": ".py",
   "mimetype": "text/x-python",
   "name": "python",
   "nbconvert_exporter": "python",
   "pygments_lexer": "ipython3",
   "version": "3.9.7"
  }
 },
 "nbformat": 4,
 "nbformat_minor": 5
}
