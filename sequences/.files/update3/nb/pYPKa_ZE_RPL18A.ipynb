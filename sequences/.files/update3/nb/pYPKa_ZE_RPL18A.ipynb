{
 "cells": [
  {
   "cell_type": "markdown",
   "id": "according-internship",
   "metadata": {},
   "source": [
    "# pYPKa_Z_RPL18A and pYPKa_E_RPL18A\n",
    "\n",
    "This Jupyter notebook describe the construction of E. coli vectors [pYPKa_Z_RPL18A](pYPKa_Z_RPL18A.gb) and [pYPKa_E_RPL18A](pYPKa_E_RPL18A.gb).\n",
    "These two vectors share backbone and insert, but in the former, the insert is cloned using the restriction\n",
    "enzyme [ZraI](http://rebase.neb.com/rebase/enz/ZraI.html) while in the latter [EcoRV](http://rebase.neb.com/rebase/enz/EcoRV.html) is used.\n",
    "\n",
    "The insert cloned in ZraI is meant to function as a promoter, while in the EcoRV site it is meant to be  used as a terminator.\n",
    "\n",
    "Links to the sequence of each vector in Genbank format can be found at the bottom of this document.\n",
    "\n",
    "![pYPKa_Z and pYPKa_E](figure_pYPKa_ZE.png \"pYPKa_Z or pYPKa_E plasmid\")\n",
    "\n",
    "The Python package [pydna](https://pypi.python.org/pypi/pydna/) package is imported in the code cell below to provide\n",
    "the cloning functionality. There is a [publication](http://www.biomedcentral.com/1471-2105/16/142) describing pydna as well as\n",
    "[documentation](http://pydna.readthedocs.io/) available online. Pydna is developed on [Github](https://github.com/BjornFJohansson/pydna)."
   ]
  },
  {
   "cell_type": "code",
   "execution_count": 1,
   "id": "personal-boring",
   "metadata": {
    "execution": {
     "iopub.execute_input": "2021-05-19T09:54:09.957072Z",
     "iopub.status.busy": "2021-05-19T09:54:09.956137Z",
     "iopub.status.idle": "2021-05-19T09:54:10.486493Z",
     "shell.execute_reply": "2021-05-19T09:54:10.485879Z"
    }
   },
   "outputs": [],
   "source": [
    "from pydna.readers import read\n",
    "from pydna.parsers import parse_primers\n",
    "from pydna.genbank import Genbank\n",
    "from pydna.amplify import pcr\n",
    "from pydna.amplify import Anneal"
   ]
  },
  {
   "cell_type": "markdown",
   "id": "given-detector",
   "metadata": {},
   "source": [
    "The vector backbone pYPKa is read from a local [file](pYPKa.gb)."
   ]
  },
  {
   "cell_type": "code",
   "execution_count": 2,
   "id": "bigger-differential",
   "metadata": {
    "execution": {
     "iopub.execute_input": "2021-05-19T09:54:10.494671Z",
     "iopub.status.busy": "2021-05-19T09:54:10.493036Z",
     "iopub.status.idle": "2021-05-19T09:54:10.510861Z",
     "shell.execute_reply": "2021-05-19T09:54:10.511259Z"
    }
   },
   "outputs": [
    {
     "data": {
      "text/html": [
       "<a href='pYPKa.gb' target='_blank'>pYPKa.gb</a><br>"
      ],
      "text/plain": [
       "File(3128bp TmU_6uVdgKq5aQhTpHux7dVk9J8)(o3128)"
      ]
     },
     "execution_count": 1,
     "metadata": {},
     "output_type": "execute_result"
    }
   ],
   "source": [
    "pYPKa = read(\"pYPKa.gb\")\n",
    "pYPKa"
   ]
  },
  {
   "cell_type": "markdown",
   "id": "conservative-novelty",
   "metadata": {},
   "source": [
    "Both restriction enzymes are imported from [Biopython](http://biopython.org/wiki/Main_Page)"
   ]
  },
  {
   "cell_type": "code",
   "execution_count": 3,
   "id": "published-payroll",
   "metadata": {
    "execution": {
     "iopub.execute_input": "2021-05-19T09:54:10.515501Z",
     "iopub.status.busy": "2021-05-19T09:54:10.514918Z",
     "iopub.status.idle": "2021-05-19T09:54:10.517689Z",
     "shell.execute_reply": "2021-05-19T09:54:10.517083Z"
    }
   },
   "outputs": [],
   "source": [
    "from Bio.Restriction import ZraI, EcoRV"
   ]
  },
  {
   "cell_type": "markdown",
   "id": "increasing-wesley",
   "metadata": {},
   "source": [
    "The vector is cut with both enzymes."
   ]
  },
  {
   "cell_type": "code",
   "execution_count": 4,
   "id": "distinct-sweet",
   "metadata": {
    "execution": {
     "iopub.execute_input": "2021-05-19T09:54:10.525320Z",
     "iopub.status.busy": "2021-05-19T09:54:10.524691Z",
     "iopub.status.idle": "2021-05-19T09:54:10.527640Z",
     "shell.execute_reply": "2021-05-19T09:54:10.527000Z"
    }
   },
   "outputs": [],
   "source": [
    "pYPKa_ZraI  = pYPKa.linearize(ZraI)\n",
    "pYPKa_EcoRV = pYPKa.linearize(EcoRV)"
   ]
  },
  {
   "cell_type": "markdown",
   "id": "textile-andrews",
   "metadata": {},
   "source": [
    "The template below comes from a Genbank [record](http://www.ncbi.nlm.nih.gov/nuccore/part_BK0069482).\n",
    "Access to Genbank is needed in order to download the template.\n",
    "If you execute this script, change the email address below to your own.\n",
    "Always tell Genbank who you are, when using their web service."
   ]
  },
  {
   "cell_type": "code",
   "execution_count": 5,
   "id": "touched-february",
   "metadata": {
    "execution": {
     "iopub.execute_input": "2021-05-19T09:54:10.532802Z",
     "iopub.status.busy": "2021-05-19T09:54:10.532248Z",
     "iopub.status.idle": "2021-05-19T09:54:10.534888Z",
     "shell.execute_reply": "2021-05-19T09:54:10.534280Z"
    }
   },
   "outputs": [],
   "source": [
    "gb = Genbank(\"bjornjobb@gmail.com\")"
   ]
  },
  {
   "cell_type": "markdown",
   "id": "becoming-shift",
   "metadata": {},
   "source": [
    "The template is downloaded from Genbank below."
   ]
  },
  {
   "cell_type": "code",
   "execution_count": 6,
   "id": "third-davis",
   "metadata": {
    "execution": {
     "iopub.execute_input": "2021-05-19T09:54:10.540096Z",
     "iopub.status.busy": "2021-05-19T09:54:10.539039Z",
     "iopub.status.idle": "2021-05-19T09:54:10.552030Z",
     "shell.execute_reply": "2021-05-19T09:54:10.551351Z"
    }
   },
   "outputs": [
    {
     "data": {
      "text/html": [
       "<a href='https://www.ncbi.nlm.nih.gov/nuccore/BK006948.2 ?from=94403&to=94855&strand=2' target='_blank'>BK006948.2  94403-94855</a>"
      ],
      "text/plain": [
       "Gbank(BK006948.2  94403-94855)(-453)"
      ]
     },
     "execution_count": 1,
     "metadata": {},
     "output_type": "execute_result"
    }
   ],
   "source": [
    "template = gb.nucleotide(\"BK006948.2 REGION: complement(94403..94855)\")\n",
    "template.features = []\n",
    "template"
   ]
  },
  {
   "cell_type": "markdown",
   "id": "legitimate-screen",
   "metadata": {},
   "source": [
    "The template is a 453 bp linear DNA fragment."
   ]
  },
  {
   "cell_type": "code",
   "execution_count": 7,
   "id": "technological-cathedral",
   "metadata": {
    "execution": {
     "iopub.execute_input": "2021-05-19T09:54:10.555643Z",
     "iopub.status.busy": "2021-05-19T09:54:10.555060Z",
     "iopub.status.idle": "2021-05-19T09:54:10.557025Z",
     "shell.execute_reply": "2021-05-19T09:54:10.557499Z"
    }
   },
   "outputs": [],
   "source": [
    "template.add_feature(label=\"RPL18Ap\", type=\"promoter\")"
   ]
  },
  {
   "cell_type": "markdown",
   "id": "greatest-modeling",
   "metadata": {},
   "source": [
    "The insert has the sequence shown below."
   ]
  },
  {
   "cell_type": "code",
   "execution_count": 8,
   "id": "other-hostel",
   "metadata": {
    "execution": {
     "iopub.execute_input": "2021-05-19T09:54:10.561557Z",
     "iopub.status.busy": "2021-05-19T09:54:10.560619Z",
     "iopub.status.idle": "2021-05-19T09:54:10.565039Z",
     "shell.execute_reply": "2021-05-19T09:54:10.564290Z"
    }
   },
   "outputs": [
    {
     "name": "stdout",
     "output_type": "stream",
     "text": [
      "GGTCAGCGTTCAGAAGCGTTCCAATAGGGGGGGGGGGGGGTATTTCGTTGATACCTATGTGGCTATATAGTCGATCTAGCTTTAAAAACTCTAAAGCATATATACATATATACATATTTAGCGTCATGCCAAGAATTCATAATTTCGAAGACTGTTTTCTACATATCTTATGTGGTGTACGGATATGAATTTTTTTACCGAAGACAATAATGCATGGGTGTTAATTCTATTTTTTTTTTTTTCTAATTCAGAATGAAATTTTTTTCTTGCTGGAGATTACAGTGGAAATTTCGCTCCAACACACGCACTCTCTCTGACTTGGTGCTGCCGTGAGATTCTGGTTCCTCAAGGAATATTGTATGAGATAATTTAAAACAAATTGAGTTGAAGATTCATCAATTCTGCCATTTTGGATCCATCACAAGAAGAGATCATCAAGCTTACGGATTCACA\n"
     ]
    }
   ],
   "source": [
    "print(str(template.seq))"
   ]
  },
  {
   "cell_type": "markdown",
   "id": "nutritional-juvenile",
   "metadata": {},
   "source": [
    "The seguid checksum of the template should be\n",
    "\n",
    "```8LwCX_Eg76oustBoY-jwAYb5E5Q```"
   ]
  },
  {
   "cell_type": "code",
   "execution_count": 9,
   "id": "joined-creativity",
   "metadata": {
    "execution": {
     "iopub.execute_input": "2021-05-19T09:54:10.569220Z",
     "iopub.status.busy": "2021-05-19T09:54:10.568508Z",
     "iopub.status.idle": "2021-05-19T09:54:10.571678Z",
     "shell.execute_reply": "2021-05-19T09:54:10.571183Z"
    }
   },
   "outputs": [
    {
     "data": {
      "text/plain": [
       "8LwCX_Eg76oustBoY-jwAYb5E5Q"
      ]
     },
     "execution_count": 1,
     "metadata": {},
     "output_type": "execute_result"
    }
   ],
   "source": [
    "template.seguid()"
   ]
  },
  {
   "cell_type": "markdown",
   "id": "painted-wilderness",
   "metadata": {},
   "source": [
    "Two primers are used to amplify the insert:"
   ]
  },
  {
   "cell_type": "code",
   "execution_count": 10,
   "id": "prerequisite-gothic",
   "metadata": {
    "execution": {
     "iopub.execute_input": "2021-05-19T09:54:10.576260Z",
     "iopub.status.busy": "2021-05-19T09:54:10.575520Z",
     "iopub.status.idle": "2021-05-19T09:54:10.578836Z",
     "shell.execute_reply": "2021-05-19T09:54:10.578115Z"
    }
   },
   "outputs": [],
   "source": [
    "fp,rp = parse_primers(\"\"\">1598_fw_tpRPL18A\n",
    "                         TTAAATGGTCAGCGTTCAGAAG\n",
    "                         >1597_rv_tpRPL18A\n",
    "                         TAATTAATGTGAATCCGTAAGCTTG\"\"\")"
   ]
  },
  {
   "cell_type": "markdown",
   "id": "included-growth",
   "metadata": {},
   "source": [
    "PCR to create the insert using the primers above."
   ]
  },
  {
   "cell_type": "code",
   "execution_count": 11,
   "id": "superior-investor",
   "metadata": {
    "execution": {
     "iopub.execute_input": "2021-05-19T09:54:10.585272Z",
     "iopub.status.busy": "2021-05-19T09:54:10.584541Z",
     "iopub.status.idle": "2021-05-19T09:54:10.589003Z",
     "shell.execute_reply": "2021-05-19T09:54:10.589567Z"
    }
   },
   "outputs": [],
   "source": [
    "prd = pcr(fp, rp, template)\n",
    "assert str(fp.seq) in prd"
   ]
  },
  {
   "cell_type": "markdown",
   "id": "addressed-agency",
   "metadata": {},
   "source": [
    "The PCR product has this length in bp."
   ]
  },
  {
   "cell_type": "code",
   "execution_count": 12,
   "id": "worse-breed",
   "metadata": {
    "execution": {
     "iopub.execute_input": "2021-05-19T09:54:10.593029Z",
     "iopub.status.busy": "2021-05-19T09:54:10.592498Z",
     "iopub.status.idle": "2021-05-19T09:54:10.596125Z",
     "shell.execute_reply": "2021-05-19T09:54:10.595387Z"
    }
   },
   "outputs": [
    {
     "data": {
      "text/plain": [
       "466"
      ]
     },
     "execution_count": 1,
     "metadata": {},
     "output_type": "execute_result"
    }
   ],
   "source": [
    "len(prd)"
   ]
  },
  {
   "cell_type": "markdown",
   "id": "distributed-calculator",
   "metadata": {},
   "source": [
    "A figure of the primers annealing on template."
   ]
  },
  {
   "cell_type": "code",
   "execution_count": 13,
   "id": "representative-today",
   "metadata": {
    "execution": {
     "iopub.execute_input": "2021-05-19T09:54:10.601793Z",
     "iopub.status.busy": "2021-05-19T09:54:10.600759Z",
     "iopub.status.idle": "2021-05-19T09:54:10.604797Z",
     "shell.execute_reply": "2021-05-19T09:54:10.604223Z"
    }
   },
   "outputs": [
    {
     "data": {
      "text/plain": [
       "      5GGTCAGCGTTCAGAAG...CAAGCTTACGGATTCACA3\n",
       "                          ||||||||||||||||||\n",
       "                         3GTTCGAATGCCTAAGTGTAATTAAT5\n",
       "5TTAAATGGTCAGCGTTCAGAAG3\n",
       "       ||||||||||||||||\n",
       "      3CCAGTCGCAAGTCTTC...GTTCGAATGCCTAAGTGT5"
      ]
     },
     "execution_count": 1,
     "metadata": {},
     "output_type": "execute_result"
    }
   ],
   "source": [
    "prd.figure()"
   ]
  },
  {
   "cell_type": "markdown",
   "id": "earned-connecticut",
   "metadata": {},
   "source": [
    "A suggested PCR program."
   ]
  },
  {
   "cell_type": "code",
   "execution_count": 14,
   "id": "moderate-sector",
   "metadata": {
    "execution": {
     "iopub.execute_input": "2021-05-19T09:54:10.609683Z",
     "iopub.status.busy": "2021-05-19T09:54:10.608858Z",
     "iopub.status.idle": "2021-05-19T09:54:10.612653Z",
     "shell.execute_reply": "2021-05-19T09:54:10.611961Z"
    }
   },
   "outputs": [
    {
     "data": {
      "text/plain": [
       "|95°C|95°C               |    |tmf:55.8\n",
       "|____|_____          72°C|72°C|tmr:56.4\n",
       "|5min|30s  \\ 52.8°C _____|____|60s/kb\n",
       "|    |      \\______/ 0:27|5min|GC 35%\n",
       "|    |       30s         |    |466bp"
      ]
     },
     "execution_count": 1,
     "metadata": {},
     "output_type": "execute_result"
    }
   ],
   "source": [
    "prd.program()"
   ]
  },
  {
   "cell_type": "markdown",
   "id": "charming-timeline",
   "metadata": {},
   "source": [
    "The final vectors are:"
   ]
  },
  {
   "cell_type": "code",
   "execution_count": 15,
   "id": "defensive-monte",
   "metadata": {
    "execution": {
     "iopub.execute_input": "2021-05-19T09:54:10.661160Z",
     "iopub.status.busy": "2021-05-19T09:54:10.625674Z",
     "iopub.status.idle": "2021-05-19T09:54:11.210713Z",
     "shell.execute_reply": "2021-05-19T09:54:11.210018Z"
    }
   },
   "outputs": [],
   "source": [
    "pYPKa_Z_RPL18A = (pYPKa_ZraI  + prd).looped().synced(pYPKa)\n",
    "pYPKa_E_RPL18A = (pYPKa_EcoRV + prd).looped().synced(pYPKa)"
   ]
  },
  {
   "cell_type": "markdown",
   "id": "understanding-postage",
   "metadata": {},
   "source": [
    "The final vectors with reverse inserts are created below. These vectors theoretically make up\n",
    "fifty percent of the clones. The PCR strategy outlined below can be used to identify clones with the insert\n",
    "in the correct orientation."
   ]
  },
  {
   "cell_type": "code",
   "execution_count": 16,
   "id": "embedded-corps",
   "metadata": {
    "execution": {
     "iopub.execute_input": "2021-05-19T09:54:11.285827Z",
     "iopub.status.busy": "2021-05-19T09:54:11.249918Z",
     "iopub.status.idle": "2021-05-19T09:54:11.946586Z",
     "shell.execute_reply": "2021-05-19T09:54:11.947168Z"
    }
   },
   "outputs": [],
   "source": [
    "pYPKa_Z_RPL18Ab = (pYPKa_ZraI  + prd.rc()).looped().synced(pYPKa)\n",
    "pYPKa_E_RPL18Ab = (pYPKa_EcoRV + prd.rc()).looped().synced(pYPKa)"
   ]
  },
  {
   "cell_type": "markdown",
   "id": "dynamic-commander",
   "metadata": {},
   "source": [
    "A combination of yeast pathway kit standard primers and the primers above are\n",
    "used for the strategy to identify correct clones.\n",
    "Standard primers used in the yeast are listed [here](standard_primers.txt)."
   ]
  },
  {
   "cell_type": "code",
   "execution_count": 17,
   "id": "finished-information",
   "metadata": {
    "execution": {
     "iopub.execute_input": "2021-05-19T09:54:11.953666Z",
     "iopub.status.busy": "2021-05-19T09:54:11.952930Z",
     "iopub.status.idle": "2021-05-19T09:54:11.955071Z",
     "shell.execute_reply": "2021-05-19T09:54:11.955538Z"
    }
   },
   "outputs": [],
   "source": [
    "p = { x.id: x for x in parse_primers(\"\"\">577\n",
    "                                         gttctgatcctcgagcatcttaagaattc\n",
    "                                         >578\n",
    "                                         gttcttgtctcattgccacattcataagt\n",
    "                                         >468\n",
    "                                         gtcgaggaacgccaggttgcccact\n",
    "                                         >467\n",
    "                                         ATTTAAatcctgatgcgtttgtctgcacaga\n",
    "                                         >567\n",
    "                                         GTcggctgcaggtcactagtgag\n",
    "                                         >568\n",
    "                                         GTGCcatctgtgcagacaaacg\n",
    "                                         >775\n",
    "                                         gcggccgctgacTTAAAT\n",
    "                                         >778\n",
    "                                         ggtaaatccggatTAATTAA\n",
    "                                         >342\n",
    "                                         CCTTTTTACGGTTCCTGGCCT\"\"\") }"
   ]
  },
  {
   "cell_type": "markdown",
   "id": "indirect-indonesian",
   "metadata": {},
   "source": [
    "## Diagnostic PCR confirmation\n",
    "\n",
    "The correct structure of pYPKa_Z_RPL18A is confirmed by PCR using standard primers\n",
    "577 and 342 that are vector specific together with the RPL18Afw primer specific for the insert\n",
    "in a multiplex PCR reaction with\n",
    "all three primers present.\n",
    "\n",
    "Two PCR products are expected if the insert was cloned, the sizes depend\n",
    "on the orientation. If the vector is empty or contains another insert, only one\n",
    "product is formed.\n",
    "\n",
    "#### Expected PCR products sizes from pYPKa_Z_RPL18A:\n",
    "\n",
    "pYPKa_Z_RPL18A with insert in correct orientation."
   ]
  },
  {
   "cell_type": "code",
   "execution_count": 18,
   "id": "insured-gospel",
   "metadata": {
    "execution": {
     "iopub.execute_input": "2021-05-19T09:54:11.964776Z",
     "iopub.status.busy": "2021-05-19T09:54:11.963902Z",
     "iopub.status.idle": "2021-05-19T09:54:11.972988Z",
     "shell.execute_reply": "2021-05-19T09:54:11.973604Z"
    }
   },
   "outputs": [
    {
     "data": {
      "text/plain": [
       "[Amplicon(1400), Amplicon(1232)]"
      ]
     },
     "execution_count": 1,
     "metadata": {},
     "output_type": "execute_result"
    }
   ],
   "source": [
    "Anneal( (p['577'], p['342'], fp), pYPKa_Z_RPL18A).products"
   ]
  },
  {
   "cell_type": "markdown",
   "id": "alert-genius",
   "metadata": {},
   "source": [
    "pYPKa_Z_RPL18A with insert in reverse orientation."
   ]
  },
  {
   "cell_type": "code",
   "execution_count": 19,
   "id": "uniform-garage",
   "metadata": {
    "execution": {
     "iopub.execute_input": "2021-05-19T09:54:11.985544Z",
     "iopub.status.busy": "2021-05-19T09:54:11.984857Z",
     "iopub.status.idle": "2021-05-19T09:54:11.987864Z",
     "shell.execute_reply": "2021-05-19T09:54:11.988372Z"
    }
   },
   "outputs": [
    {
     "data": {
      "text/plain": [
       "[Amplicon(1400), Amplicon(634)]"
      ]
     },
     "execution_count": 1,
     "metadata": {},
     "output_type": "execute_result"
    }
   ],
   "source": [
    "Anneal( (p['577'], p['342'], fp), pYPKa_Z_RPL18Ab).products"
   ]
  },
  {
   "cell_type": "markdown",
   "id": "promotional-product",
   "metadata": {},
   "source": [
    "Empty pYPKa clone."
   ]
  },
  {
   "cell_type": "code",
   "execution_count": 20,
   "id": "civic-peripheral",
   "metadata": {
    "execution": {
     "iopub.execute_input": "2021-05-19T09:54:11.997236Z",
     "iopub.status.busy": "2021-05-19T09:54:11.996339Z",
     "iopub.status.idle": "2021-05-19T09:54:12.000673Z",
     "shell.execute_reply": "2021-05-19T09:54:12.000066Z"
    }
   },
   "outputs": [
    {
     "data": {
      "text/plain": [
       "[Amplicon(934)]"
      ]
     },
     "execution_count": 1,
     "metadata": {},
     "output_type": "execute_result"
    }
   ],
   "source": [
    "Anneal( (p['577'], p['342'], fp), pYPKa).products"
   ]
  },
  {
   "cell_type": "markdown",
   "id": "distributed-secondary",
   "metadata": {},
   "source": [
    "#### Expected PCR products sizes pYPKa_E_RPL18A:\n",
    "\n",
    "pYPKa_E_RPL18A with insert in correct orientation."
   ]
  },
  {
   "cell_type": "code",
   "execution_count": 21,
   "id": "southeast-weather",
   "metadata": {
    "execution": {
     "iopub.execute_input": "2021-05-19T09:54:12.012059Z",
     "iopub.status.busy": "2021-05-19T09:54:12.011335Z",
     "iopub.status.idle": "2021-05-19T09:54:12.014696Z",
     "shell.execute_reply": "2021-05-19T09:54:12.015310Z"
    }
   },
   "outputs": [
    {
     "data": {
      "text/plain": [
       "[Amplicon(1400), Amplicon(1151)]"
      ]
     },
     "execution_count": 1,
     "metadata": {},
     "output_type": "execute_result"
    }
   ],
   "source": [
    "Anneal( (p['577'], p['342'], fp), pYPKa_E_RPL18A).products"
   ]
  },
  {
   "cell_type": "markdown",
   "id": "funny-leader",
   "metadata": {},
   "source": [
    "pYPKa_E_RPL18A with insert in reverse orientation."
   ]
  },
  {
   "cell_type": "code",
   "execution_count": 22,
   "id": "changing-mattress",
   "metadata": {
    "execution": {
     "iopub.execute_input": "2021-05-19T09:54:12.032877Z",
     "iopub.status.busy": "2021-05-19T09:54:12.032228Z",
     "iopub.status.idle": "2021-05-19T09:54:12.035757Z",
     "shell.execute_reply": "2021-05-19T09:54:12.036586Z"
    }
   },
   "outputs": [
    {
     "data": {
      "text/plain": [
       "[Amplicon(1400), Amplicon(715)]"
      ]
     },
     "execution_count": 1,
     "metadata": {},
     "output_type": "execute_result"
    }
   ],
   "source": [
    "Anneal( (p['577'], p['342'], fp), pYPKa_E_RPL18Ab).products\n"
   ]
  },
  {
   "cell_type": "markdown",
   "id": "guilty-huntington",
   "metadata": {},
   "source": [
    "Calculate cseguid checksums for the resulting plasmids for future reference.\n",
    "This checksum that uniquely describes a circular double stranded\n",
    "sequence. See this [blog post](https://ochsavidare.blogspot.com/2016/02/checksum-for-circular-biological.html) for more info.\n",
    "\n",
    "pYPKa_Z_RPL18A.cseguid() should be -tJIEOH4uKbOiOl9BM5BYPFT6pI"
   ]
  },
  {
   "cell_type": "code",
   "execution_count": 23,
   "id": "married-avatar",
   "metadata": {
    "execution": {
     "iopub.execute_input": "2021-05-19T09:54:12.047866Z",
     "iopub.status.busy": "2021-05-19T09:54:12.047074Z",
     "iopub.status.idle": "2021-05-19T09:54:12.051225Z",
     "shell.execute_reply": "2021-05-19T09:54:12.050435Z"
    }
   },
   "outputs": [
    {
     "name": "stdout",
     "output_type": "stream",
     "text": [
      "-tJIEOH4uKbOiOl9BM5BYPFT6pI\n"
     ]
    }
   ],
   "source": [
    "print(pYPKa_Z_RPL18A.cseguid())\n",
    "assert pYPKa_Z_RPL18A.cseguid() == \"-tJIEOH4uKbOiOl9BM5BYPFT6pI\""
   ]
  },
  {
   "cell_type": "markdown",
   "id": "handmade-congress",
   "metadata": {},
   "source": [
    "pYPKa_E_RPL18A.cseguid() should be 4BETmPibz3sp0i_yimoNKgz7DX8"
   ]
  },
  {
   "cell_type": "code",
   "execution_count": 24,
   "id": "possible-bahrain",
   "metadata": {
    "execution": {
     "iopub.execute_input": "2021-05-19T09:54:12.067509Z",
     "iopub.status.busy": "2021-05-19T09:54:12.060584Z",
     "iopub.status.idle": "2021-05-19T09:54:12.070557Z",
     "shell.execute_reply": "2021-05-19T09:54:12.071174Z"
    }
   },
   "outputs": [
    {
     "name": "stdout",
     "output_type": "stream",
     "text": [
      "4BETmPibz3sp0i_yimoNKgz7DX8\n"
     ]
    }
   ],
   "source": [
    "print(pYPKa_E_RPL18A.cseguid())\n",
    "assert pYPKa_E_RPL18A.cseguid() == \"4BETmPibz3sp0i_yimoNKgz7DX8\""
   ]
  },
  {
   "cell_type": "markdown",
   "id": "weird-alliance",
   "metadata": {},
   "source": [
    "The sequences are named based on the name of the cloned insert."
   ]
  },
  {
   "cell_type": "code",
   "execution_count": 25,
   "id": "green-gallery",
   "metadata": {
    "execution": {
     "iopub.execute_input": "2021-05-19T09:54:12.077847Z",
     "iopub.status.busy": "2021-05-19T09:54:12.076799Z",
     "iopub.status.idle": "2021-05-19T09:54:12.080456Z",
     "shell.execute_reply": "2021-05-19T09:54:12.079416Z"
    }
   },
   "outputs": [],
   "source": [
    "pYPKa_Z_RPL18A.locus = \"pYPKa_Z_RPL18A\"[:16]\n",
    "pYPKa_E_RPL18A.locus = \"pYPKa_Z_RPL18A\"[:16]"
   ]
  },
  {
   "cell_type": "markdown",
   "id": "relevant-court",
   "metadata": {},
   "source": [
    "Stamp sequence with cseguid checksum. This can be used to verify the\n",
    "integrity of the sequence file."
   ]
  },
  {
   "cell_type": "code",
   "execution_count": 26,
   "id": "experienced-float",
   "metadata": {
    "execution": {
     "iopub.execute_input": "2021-05-19T09:54:12.092521Z",
     "iopub.status.busy": "2021-05-19T09:54:12.091810Z",
     "iopub.status.idle": "2021-05-19T09:54:12.096253Z",
     "shell.execute_reply": "2021-05-19T09:54:12.096897Z"
    }
   },
   "outputs": [
    {
     "data": {
      "text/plain": [
       "cSEGUID_4BETmPibz3sp0i_yimoNKgz7DX8"
      ]
     },
     "execution_count": 1,
     "metadata": {},
     "output_type": "execute_result"
    }
   ],
   "source": [
    "pYPKa_Z_RPL18A.stamp()\n",
    "pYPKa_E_RPL18A.stamp()"
   ]
  },
  {
   "cell_type": "markdown",
   "id": "loaded-repeat",
   "metadata": {},
   "source": [
    "pYPKa_Z_RPL18A is written to a local file:"
   ]
  },
  {
   "cell_type": "code",
   "execution_count": 27,
   "id": "threatened-source",
   "metadata": {
    "execution": {
     "iopub.execute_input": "2021-05-19T09:54:12.103431Z",
     "iopub.status.busy": "2021-05-19T09:54:12.101705Z",
     "iopub.status.idle": "2021-05-19T09:54:12.114565Z",
     "shell.execute_reply": "2021-05-19T09:54:12.115016Z"
    }
   },
   "outputs": [
    {
     "data": {
      "text/html": [
       "<font face=monospace><a href='pYPKa_Z_RPL18A.gb' target='_blank'>pYPKa_Z_RPL18A.gb</a></font><br>"
      ]
     },
     "metadata": {},
     "output_type": "display_data"
    }
   ],
   "source": [
    "pYPKa_Z_RPL18A.write(\"pYPKa_Z_RPL18A.gb\")"
   ]
  },
  {
   "cell_type": "markdown",
   "id": "german-county",
   "metadata": {},
   "source": [
    "pYPKa_E_RPL18A is written to a local file:"
   ]
  },
  {
   "cell_type": "code",
   "execution_count": 28,
   "id": "fancy-outline",
   "metadata": {
    "execution": {
     "iopub.execute_input": "2021-05-19T09:54:12.126611Z",
     "iopub.status.busy": "2021-05-19T09:54:12.123948Z",
     "iopub.status.idle": "2021-05-19T09:54:12.129661Z",
     "shell.execute_reply": "2021-05-19T09:54:12.130491Z"
    }
   },
   "outputs": [
    {
     "data": {
      "text/html": [
       "<font face=monospace><a href='pYPKa_E_RPL18A.gb' target='_blank'>pYPKa_E_RPL18A.gb</a></font><br>"
      ]
     },
     "metadata": {},
     "output_type": "display_data"
    }
   ],
   "source": [
    "pYPKa_E_RPL18A.write(\"pYPKa_E_RPL18A.gb\")"
   ]
  }
 ],
 "metadata": {
  "language_info": {
   "codemirror_mode": {
    "name": "ipython",
    "version": 3
   },
   "file_extension": ".py",
   "mimetype": "text/x-python",
   "name": "python",
   "nbconvert_exporter": "python",
   "pygments_lexer": "ipython3",
   "version": "3.9.0"
  }
 },
 "nbformat": 4,
 "nbformat_minor": 5
}
